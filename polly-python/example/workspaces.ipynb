{
 "cells": [
  {
   "cell_type": "markdown",
   "metadata": {},
   "source": [
    "# Welcome to Polly Python3 Notebook."
   ]
  },
  {
   "cell_type": "markdown",
   "metadata": {},
   "source": [
    "### install polly python"
   ]
  },
  {
   "cell_type": "code",
   "execution_count": 2,
   "metadata": {},
   "outputs": [
    {
     "name": "stdout",
     "output_type": "stream",
     "text": [
      "\u001b[33mWARNING: You are using pip version 19.2.3, however version 21.3.1 is available.\r\n",
      "You should consider upgrading via the 'pip install --upgrade pip' command.\u001b[0m\r\n"
     ]
    }
   ],
   "source": [
    "!sudo pip3 install polly-python --quiet "
   ]
  },
  {
   "cell_type": "markdown",
   "metadata": {},
   "source": [
    "### importing modules"
   ]
  },
  {
   "cell_type": "code",
   "execution_count": 1,
   "metadata": {},
   "outputs": [],
   "source": [
    "from polly.auth import Polly\n",
    "from polly.workspaces import Workspaces"
   ]
  },
  {
   "cell_type": "markdown",
   "metadata": {},
   "source": [
    "### authentication"
   ]
  },
  {
   "cell_type": "code",
   "execution_count": 2,
   "metadata": {},
   "outputs": [],
   "source": [
    "import os\n",
    "AUTH_TOKEN=os.environ['POLLY_REFRESH_TOKEN'] \n",
    "polly = Polly()                              \n",
    "polly.auth(AUTH_TOKEN)"
   ]
  },
  {
   "cell_type": "markdown",
   "metadata": {},
   "source": [
    "### making object to use class function"
   ]
  },
  {
   "cell_type": "code",
   "execution_count": 3,
   "metadata": {},
   "outputs": [],
   "source": [
    "workspaces = Workspaces()"
   ]
  },
  {
   "cell_type": "markdown",
   "metadata": {},
   "source": [
    "### fetch_my_workspaces\n",
    "### Input:\n",
    "None\n",
    "### Output:\n",
    "it will return a table which will contain information about workspaces."
   ]
  },
  {
   "cell_type": "code",
   "execution_count": 7,
   "metadata": {},
   "outputs": [
    {
     "data": {
      "text/html": [
       "<div>\n",
       "<style scoped>\n",
       "    .dataframe tbody tr th:only-of-type {\n",
       "        vertical-align: middle;\n",
       "    }\n",
       "\n",
       "    .dataframe tbody tr th {\n",
       "        vertical-align: top;\n",
       "    }\n",
       "\n",
       "    .dataframe thead th {\n",
       "        text-align: right;\n",
       "    }\n",
       "</style>\n",
       "<table border=\"1\" class=\"dataframe\">\n",
       "  <thead>\n",
       "    <tr style=\"text-align: right;\">\n",
       "      <th></th>\n",
       "      <th>type</th>\n",
       "      <th>id</th>\n",
       "      <th>attributes.id</th>\n",
       "      <th>attributes.name</th>\n",
       "      <th>attributes.active</th>\n",
       "      <th>attributes.description</th>\n",
       "      <th>attributes.created_time</th>\n",
       "      <th>attributes.last_modified</th>\n",
       "      <th>attributes.creator</th>\n",
       "      <th>attributes.project_property.type</th>\n",
       "      <th>attributes.project_property.labels</th>\n",
       "      <th>attributes.organisation</th>\n",
       "      <th>links.self</th>\n",
       "    </tr>\n",
       "  </thead>\n",
       "  <tbody>\n",
       "    <tr>\n",
       "      <th>0</th>\n",
       "      <td>workspaces</td>\n",
       "      <td>9009</td>\n",
       "      <td>9009</td>\n",
       "      <td>examples</td>\n",
       "      <td>True</td>\n",
       "      <td></td>\n",
       "      <td>2022-04-28 03:16:58.560361</td>\n",
       "      <td>2022-04-28 03:16:58.560361</td>\n",
       "      <td>1127</td>\n",
       "      <td>workspaces</td>\n",
       "      <td></td>\n",
       "      <td>1</td>\n",
       "      <td>/workspaces/9009</td>\n",
       "    </tr>\n",
       "    <tr>\n",
       "      <th>1</th>\n",
       "      <td>workspaces</td>\n",
       "      <td>8679</td>\n",
       "      <td>8679</td>\n",
       "      <td>csv_files</td>\n",
       "      <td>True</td>\n",
       "      <td></td>\n",
       "      <td>2022-03-04 08:07:56.044029</td>\n",
       "      <td>2022-03-04 08:07:56.044029</td>\n",
       "      <td>1127</td>\n",
       "      <td>workspaces</td>\n",
       "      <td></td>\n",
       "      <td>1</td>\n",
       "      <td>/workspaces/8679</td>\n",
       "    </tr>\n",
       "    <tr>\n",
       "      <th>2</th>\n",
       "      <td>workspaces</td>\n",
       "      <td>8581</td>\n",
       "      <td>8581</td>\n",
       "      <td>csv to gct</td>\n",
       "      <td>True</td>\n",
       "      <td></td>\n",
       "      <td>2022-02-16 10:28:58.599582</td>\n",
       "      <td>2022-02-16 10:28:58.599582</td>\n",
       "      <td>1188</td>\n",
       "      <td>workspaces</td>\n",
       "      <td></td>\n",
       "      <td>1</td>\n",
       "      <td>/workspaces/8581</td>\n",
       "    </tr>\n",
       "    <tr>\n",
       "      <th>3</th>\n",
       "      <td>workspaces</td>\n",
       "      <td>7574</td>\n",
       "      <td>7574</td>\n",
       "      <td>test</td>\n",
       "      <td>True</td>\n",
       "      <td>test</td>\n",
       "      <td>2021-07-30 06:00:21.603990</td>\n",
       "      <td>2022-02-07 07:11:06.061410</td>\n",
       "      <td>1127</td>\n",
       "      <td>workspaces</td>\n",
       "      <td></td>\n",
       "      <td>31</td>\n",
       "      <td>/workspaces/7574</td>\n",
       "    </tr>\n",
       "    <tr>\n",
       "      <th>4</th>\n",
       "      <td>workspaces</td>\n",
       "      <td>7239</td>\n",
       "      <td>7239</td>\n",
       "      <td>discover-cost-nb</td>\n",
       "      <td>True</td>\n",
       "      <td></td>\n",
       "      <td>2021-05-24 07:56:12.702924</td>\n",
       "      <td>2021-05-24 07:56:12.702924</td>\n",
       "      <td>281</td>\n",
       "      <td>workspaces</td>\n",
       "      <td></td>\n",
       "      <td>1</td>\n",
       "      <td>/workspaces/7239</td>\n",
       "    </tr>\n",
       "  </tbody>\n",
       "</table>\n",
       "</div>"
      ],
      "text/plain": [
       "         type    id  attributes.id   attributes.name  attributes.active  \\\n",
       "0  workspaces  9009           9009          examples               True   \n",
       "1  workspaces  8679           8679         csv_files               True   \n",
       "2  workspaces  8581           8581        csv to gct               True   \n",
       "3  workspaces  7574           7574              test               True   \n",
       "4  workspaces  7239           7239  discover-cost-nb               True   \n",
       "\n",
       "  attributes.description     attributes.created_time  \\\n",
       "0                         2022-04-28 03:16:58.560361   \n",
       "1                         2022-03-04 08:07:56.044029   \n",
       "2                         2022-02-16 10:28:58.599582   \n",
       "3                   test  2021-07-30 06:00:21.603990   \n",
       "4                         2021-05-24 07:56:12.702924   \n",
       "\n",
       "     attributes.last_modified  attributes.creator  \\\n",
       "0  2022-04-28 03:16:58.560361                1127   \n",
       "1  2022-03-04 08:07:56.044029                1127   \n",
       "2  2022-02-16 10:28:58.599582                1188   \n",
       "3  2022-02-07 07:11:06.061410                1127   \n",
       "4  2021-05-24 07:56:12.702924                 281   \n",
       "\n",
       "  attributes.project_property.type attributes.project_property.labels  \\\n",
       "0                       workspaces                                      \n",
       "1                       workspaces                                      \n",
       "2                       workspaces                                      \n",
       "3                       workspaces                                      \n",
       "4                       workspaces                                      \n",
       "\n",
       "   attributes.organisation        links.self  \n",
       "0                        1  /workspaces/9009  \n",
       "1                        1  /workspaces/8679  \n",
       "2                        1  /workspaces/8581  \n",
       "3                       31  /workspaces/7574  \n",
       "4                        1  /workspaces/7239  "
      ]
     },
     "execution_count": 7,
     "metadata": {},
     "output_type": "execute_result"
    }
   ],
   "source": [
    "workspaces.fetch_my_workspaces()"
   ]
  },
  {
   "cell_type": "markdown",
   "metadata": {},
   "source": [
    "### create_workspace\n",
    "### Input:\n",
    "name (str): name of the workspace.<br>\n",
    "description (str): general information about workspace.\n",
    "### Output:\n",
    "It will return a object like this."
   ]
  },
  {
   "cell_type": "code",
   "execution_count": 11,
   "metadata": {},
   "outputs": [
    {
     "data": {
      "text/plain": [
       "{'id': 9010,\n",
       " 'name': 'for',\n",
       " 'active': True,\n",
       " 'description': 'to test',\n",
       " 'created_time': '2022-04-28 04:04:38.057649',\n",
       " 'last_modified': '2022-04-28 04:04:38.057649',\n",
       " 'creator': 1127,\n",
       " 'project_property': {'type': 'workspaces', 'labels': ''},\n",
       " 'organisation': 1}"
      ]
     },
     "execution_count": 11,
     "metadata": {},
     "output_type": "execute_result"
    }
   ],
   "source": [
    "workspaces.create_workspace(\"for\",\"to test\")"
   ]
  },
  {
   "cell_type": "markdown",
   "metadata": {},
   "source": [
    "### download_from_workspaces\n",
    "### Input:\n",
    "workspace_id : id of the where file need to uploaded.<br>\n",
    "workspace_path : downloaded file on workspace.\n",
    "### Output:\n",
    "None"
   ]
  },
  {
   "cell_type": "code",
   "execution_count": 14,
   "metadata": {},
   "outputs": [],
   "source": [
    "workspaces.download_from_workspaces(8581,'abc.csv') "
   ]
  },
  {
   "cell_type": "code",
   "execution_count": 15,
   "metadata": {},
   "outputs": [
    {
     "name": "stdout",
     "output_type": "stream",
     "text": [
      "abc.csv        input_df.csv\t     scripts\r\n",
      "cohort_df.csv  meta_sample_df.csv    standard_df.csv\r\n",
      "gct_to_df.gct  raw_intensity_df.csv  workspaces.ipynb\r\n"
     ]
    }
   ],
   "source": [
    "!ls"
   ]
  },
  {
   "cell_type": "markdown",
   "metadata": {},
   "source": [
    "### upload_to_workspaces\n",
    "### Input:\n",
    "workspace_id : id of the where file need to uploaded.<br>\n",
    "workspace_path : file path on workspace if folder does not exist it will create.<br>\n",
    "local_path : uploaded file path.<br>\n",
    "### Output:\n",
    "None"
   ]
  },
  {
   "cell_type": "code",
   "execution_count": 16,
   "metadata": {},
   "outputs": [],
   "source": [
    "workspaces.upload_to_workspaces(9009,'geo/work.csv','abc.csv') \n"
   ]
  }
 ],
 "metadata": {
  "kernelspec": {
   "display_name": "Python 3",
   "language": "python",
   "name": "python3"
  },
  "language_info": {
   "codemirror_mode": {
    "name": "ipython",
    "version": 3
   },
   "file_extension": ".py",
   "mimetype": "text/x-python",
   "name": "python",
   "nbconvert_exporter": "python",
   "pygments_lexer": "ipython3",
   "version": "3.6.9"
  }
 },
 "nbformat": 4,
 "nbformat_minor": 2
}
