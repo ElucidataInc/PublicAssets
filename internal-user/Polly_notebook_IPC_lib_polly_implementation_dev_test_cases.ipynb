{
 "cells": [
  {
   "cell_type": "markdown",
   "metadata": {},
   "source": [
    "# Welcome to Polly Python3 Notebook."
   ]
  },
  {
   "cell_type": "code",
   "execution_count": 1,
   "metadata": {},
   "outputs": [],
   "source": [
    "# please do not modify\n",
    "from IPython.display import display_html\n",
    "def restartkernel() :\n",
    "    display_html(\"&lt;script&gt;Jupyter.notebook.kernel.restart()&lt;/script&gt;\",raw=True)"
   ]
  },
  {
   "cell_type": "code",
   "execution_count": 9,
   "metadata": {},
   "outputs": [
    {
     "name": "stdout",
     "output_type": "stream",
     "text": [
      "/bin/bash: warning: setlocale: LC_ALL: cannot change locale (en_US.UTF-8)\n",
      "Collecting polly-python==0.1.7-ipclib\n",
      "  Downloading https://github.com/ElucidataInc/PublicAssets/blob/master/builds/polly-python/tests/testpolly/polly_python-0.1.7_ipclib-py3-none-any.whl\n",
      "\u001b[K     \\ 144 kB 4.1 MB/ss\n",
      "\u001b[31mERROR: Exception:\n",
      "Traceback (most recent call last):\n",
      "  File \"/usr/local/lib/python3.10/site-packages/pip/_internal/cli/base_command.py\", line 173, in _main\n",
      "    status = self.run(options, args)\n",
      "  File \"/usr/local/lib/python3.10/site-packages/pip/_internal/cli/req_command.py\", line 203, in wrapper\n",
      "    return func(self, options, args)\n",
      "  File \"/usr/local/lib/python3.10/site-packages/pip/_internal/commands/install.py\", line 315, in run\n",
      "    requirement_set = resolver.resolve(\n",
      "  File \"/usr/local/lib/python3.10/site-packages/pip/_internal/resolution/resolvelib/resolver.py\", line 75, in resolve\n",
      "    collected = self.factory.collect_root_requirements(root_reqs)\n",
      "  File \"/usr/local/lib/python3.10/site-packages/pip/_internal/resolution/resolvelib/factory.py\", line 471, in collect_root_requirements\n",
      "    req = self._make_requirement_from_install_req(\n",
      "  File \"/usr/local/lib/python3.10/site-packages/pip/_internal/resolution/resolvelib/factory.py\", line 433, in _make_requirement_from_install_req\n",
      "    cand = self._make_candidate_from_link(\n",
      "  File \"/usr/local/lib/python3.10/site-packages/pip/_internal/resolution/resolvelib/factory.py\", line 204, in _make_candidate_from_link\n",
      "    self._link_candidate_cache[link] = LinkCandidate(\n",
      "  File \"/usr/local/lib/python3.10/site-packages/pip/_internal/resolution/resolvelib/candidates.py\", line 295, in __init__\n",
      "    super().__init__(\n",
      "  File \"/usr/local/lib/python3.10/site-packages/pip/_internal/resolution/resolvelib/candidates.py\", line 156, in __init__\n",
      "    self.dist = self._prepare()\n",
      "  File \"/usr/local/lib/python3.10/site-packages/pip/_internal/resolution/resolvelib/candidates.py\", line 227, in _prepare\n",
      "    dist = self._prepare_distribution()\n",
      "  File \"/usr/local/lib/python3.10/site-packages/pip/_internal/resolution/resolvelib/candidates.py\", line 305, in _prepare_distribution\n",
      "    return self._factory.preparer.prepare_linked_requirement(\n",
      "  File \"/usr/local/lib/python3.10/site-packages/pip/_internal/operations/prepare.py\", line 508, in prepare_linked_requirement\n",
      "    return self._prepare_linked_requirement(req, parallel_builds)\n",
      "  File \"/usr/local/lib/python3.10/site-packages/pip/_internal/operations/prepare.py\", line 570, in _prepare_linked_requirement\n",
      "    dist = _get_prepared_distribution(\n",
      "  File \"/usr/local/lib/python3.10/site-packages/pip/_internal/operations/prepare.py\", line 61, in _get_prepared_distribution\n",
      "    return abstract_dist.get_pkg_resources_distribution()\n",
      "  File \"/usr/local/lib/python3.10/site-packages/pip/_internal/distributions/wheel.py\", line 26, in get_pkg_resources_distribution\n",
      "    with ZipFile(self.req.local_file_path, allowZip64=True) as z:\n",
      "  File \"/usr/local/lib/python3.10/zipfile.py\", line 1258, in __init__\n",
      "    self._RealGetContents()\n",
      "  File \"/usr/local/lib/python3.10/zipfile.py\", line 1325, in _RealGetContents\n",
      "    raise BadZipFile(\"File is not a zip file\")\n",
      "zipfile.BadZipFile: File is not a zip file\u001b[0m\n",
      "\u001b[33mWARNING: You are using pip version 21.2.4; however, version 22.2.2 is available.\n",
      "You should consider upgrading via the '/usr/local/bin/python3.10 -m pip install --upgrade pip' command.\u001b[0m\n",
      "\u001b[?25h"
     ]
    }
   ],
   "source": [
    "!sudo pip3 install https://github.com/ElucidataInc/PublicAssets/blob/master/builds/polly-python/tests/testpolly/polly_python-0.1.7_ipclib-py3-none-any.whl"
   ]
  },
  {
   "cell_type": "code",
   "execution_count": 10,
   "metadata": {},
   "outputs": [
    {
     "name": "stdout",
     "output_type": "stream",
     "text": [
      "/bin/bash: warning: setlocale: LC_ALL: cannot change locale (en_US.UTF-8)\n",
      "Collecting polly-python==0.1.7-ipclib\n",
      "  Downloading https://elucidatainc.github.io/PublicAssets/builds/polly-python/tests/testpolly/polly_python-0.1.7_ipclib-py3-none-any.whl (70 kB)\n",
      "\u001b[K     |████████████████████████████████| 70 kB 5.5 MB/s eta 0:00:011\n",
      "\u001b[?25hRequirement already satisfied: boto3>=1.17.73 in /usr/local/lib/python3.10/site-packages (from polly-python==0.1.7-ipclib) (1.21.19)\n",
      "Collecting pytest\n",
      "  Downloading pytest-7.1.3-py3-none-any.whl (298 kB)\n",
      "\u001b[K     |████████████████████████████████| 298 kB 4.9 MB/s eta 0:00:01\n",
      "\u001b[?25hCollecting certifi==2021.10.8\n",
      "  Downloading certifi-2021.10.8-py2.py3-none-any.whl (149 kB)\n",
      "\u001b[K     |████████████████████████████████| 149 kB 130.9 MB/s eta 0:00:01\n",
      "\u001b[?25hCollecting sqlparse\n",
      "  Downloading sqlparse-0.4.2-py3-none-any.whl (42 kB)\n",
      "\u001b[K     |████████████████████████████████| 42 kB 3.3 MB/s s eta 0:00:01\n",
      "\u001b[?25hCollecting black\n",
      "  Downloading black-22.8.0-cp310-cp310-manylinux_2_17_x86_64.manylinux2014_x86_64.whl (1.5 MB)\n",
      "\u001b[K     |████████████████████████████████| 1.5 MB 127.6 MB/s eta 0:00:01\n",
      "\u001b[?25hRequirement already satisfied: python-dateutil==2.8.1 in /usr/local/lib/python3.10/site-packages (from polly-python==0.1.7-ipclib) (2.8.1)\n",
      "Requirement already satisfied: idna==2.10 in /usr/local/lib/python3.10/site-packages (from polly-python==0.1.7-ipclib) (2.10)\n",
      "Collecting pytz==2021.1\n",
      "  Downloading pytz-2021.1-py2.py3-none-any.whl (510 kB)\n",
      "\u001b[K     |████████████████████████████████| 510 kB 144.0 MB/s eta 0:00:01\n",
      "\u001b[?25hRequirement already satisfied: tqdm in /usr/local/lib/python3.10/site-packages (from polly-python==0.1.7-ipclib) (4.64.0)\n",
      "Collecting Cerberus==1.3.2\n",
      "  Downloading Cerberus-1.3.2.tar.gz (52 kB)\n",
      "\u001b[K     |████████████████████████████████| 52 kB 3.8 MB/s s eta 0:00:01\n",
      "\u001b[?25hCollecting retrying==1.3.3\n",
      "  Downloading retrying-1.3.3.tar.gz (10 kB)\n",
      "Collecting python-magic==0.4.24\n",
      "  Downloading python_magic-0.4.24-py2.py3-none-any.whl (12 kB)\n",
      "Collecting postpy2==0.0.6\n",
      "  Downloading postpy2-0.0.6-py3-none-any.whl (17 kB)\n",
      "Requirement already satisfied: six==1.16.0 in /usr/local/lib/python3.10/site-packages (from polly-python==0.1.7-ipclib) (1.16.0)\n",
      "Collecting joblib\n",
      "  Downloading joblib-1.1.0-py2.py3-none-any.whl (306 kB)\n",
      "\u001b[K     |████████████████████████████████| 306 kB 135.9 MB/s eta 0:00:01\n",
      "\u001b[?25hRequirement already satisfied: chardet==4.0.0 in /usr/local/lib/python3.10/site-packages (from polly-python==0.1.7-ipclib) (4.0.0)\n",
      "Collecting datapane\n",
      "  Downloading datapane-0.15.1-py3-none-any.whl (5.5 MB)\n",
      "\u001b[K     |████████████████████████████████| 5.5 MB 24.9 MB/s eta 0:00:01\n",
      "\u001b[?25hCollecting plotly\n",
      "  Downloading plotly-5.10.0-py2.py3-none-any.whl (15.2 MB)\n",
      "\u001b[K     |████████████████████████████████| 15.2 MB 142.3 MB/s eta 0:00:01\n",
      "\u001b[?25hRequirement already satisfied: urllib3==1.26.6 in /usr/local/lib/python3.10/site-packages (from polly-python==0.1.7-ipclib) (1.26.6)\n",
      "Collecting requests==2.25.1\n",
      "  Downloading requests-2.25.1-py2.py3-none-any.whl (61 kB)\n",
      "\u001b[K     |████████████████████████████████| 61 kB 23.5 MB/s  eta 0:00:01\n",
      "\u001b[?25hCollecting rst2txt\n",
      "  Downloading rst2txt-1.1.0-py2.py3-none-any.whl (12 kB)\n",
      "Requirement already satisfied: pandas in /usr/local/lib/python3.10/site-packages (from polly-python==0.1.7-ipclib) (1.4.1)\n",
      "Collecting elucidatacloudpathlib==0.6.6\n",
      "  Downloading elucidatacloudpathlib-0.6.6-py3-none-any.whl (50 kB)\n",
      "\u001b[K     |████████████████████████████████| 50 kB 22.1 MB/s  eta 0:00:01\n",
      "\u001b[?25hCollecting cmapPy\n",
      "  Downloading cmapPy-4.0.1-py2.py3-none-any.whl (150 kB)\n",
      "\u001b[K     |████████████████████████████████| 150 kB 142.4 MB/s eta 0:00:01\n",
      "\u001b[?25hRequirement already satisfied: botocore>=1.20.73 in /usr/local/lib/python3.10/site-packages (from polly-python==0.1.7-ipclib) (1.24.19)\n",
      "Collecting Deprecated\n",
      "  Downloading Deprecated-1.2.13-py2.py3-none-any.whl (9.6 kB)\n",
      "Collecting beautifulsoup4\n",
      "  Downloading beautifulsoup4-4.11.1-py3-none-any.whl (128 kB)\n",
      "\u001b[K     |████████████████████████████████| 128 kB 139.1 MB/s eta 0:00:01\n",
      "\u001b[?25hRequirement already satisfied: setuptools in /usr/local/lib/python3.10/site-packages (from Cerberus==1.3.2->polly-python==0.1.7-ipclib) (58.1.0)\n",
      "Requirement already satisfied: jmespath<1.0.0,>=0.7.1 in /usr/local/lib/python3.10/site-packages (from boto3>=1.17.73->polly-python==0.1.7-ipclib) (0.10.0)\n",
      "Requirement already satisfied: s3transfer<0.6.0,>=0.5.0 in /usr/local/lib/python3.10/site-packages (from boto3>=1.17.73->polly-python==0.1.7-ipclib) (0.5.2)\n",
      "Collecting soupsieve>1.2\n",
      "  Downloading soupsieve-2.3.2.post1-py3-none-any.whl (37 kB)\n",
      "Collecting mypy-extensions>=0.4.3\n",
      "  Downloading mypy_extensions-0.4.3-py2.py3-none-any.whl (4.5 kB)\n",
      "Collecting click>=8.0.0\n",
      "  Downloading click-8.1.3-py3-none-any.whl (96 kB)\n",
      "\u001b[K     |████████████████████████████████| 96 kB 15.3 MB/s  eta 0:00:01\n",
      "\u001b[?25hCollecting tomli>=1.1.0\n",
      "  Downloading tomli-2.0.1-py3-none-any.whl (12 kB)\n",
      "Collecting platformdirs>=2\n",
      "  Downloading platformdirs-2.5.2-py3-none-any.whl (14 kB)\n",
      "Collecting pathspec>=0.9.0\n",
      "  Downloading pathspec-0.10.1-py3-none-any.whl (27 kB)\n",
      "Collecting h5py>=2.6.0\n",
      "  Downloading h5py-3.7.0-cp310-cp310-manylinux_2_12_x86_64.manylinux2010_x86_64.whl (4.5 MB)\n",
      "\u001b[K     |████████████████████████████████| 4.5 MB 128.5 MB/s eta 0:00:01\n",
      "\u001b[?25hRequirement already satisfied: numpy>=1.11.2 in /usr/local/lib/python3.10/site-packages (from cmapPy->polly-python==0.1.7-ipclib) (1.22.3)\n",
      "Collecting pydantic<2.0.0,>=1.6.0\n",
      "  Downloading pydantic-1.10.2-cp310-cp310-manylinux_2_17_x86_64.manylinux2014_x86_64.whl (12.8 MB)\n",
      "\u001b[K     |████████████████████████████████| 12.8 MB 134.7 MB/s eta 0:00:01\n",
      "\u001b[?25hRequirement already satisfied: jsonschema<5.0.0,>=3.2.0 in /usr/local/lib/python3.10/site-packages (from datapane->polly-python==0.1.7-ipclib) (4.2.1)\n",
      "Collecting lxml<5.0.0,>=4.0.0\n",
      "  Downloading lxml-4.9.1-cp310-cp310-manylinux_2_17_x86_64.manylinux2014_x86_64.manylinux_2_24_x86_64.whl (6.9 MB)\n",
      "\u001b[K     |████████████████████████████████| 6.9 MB 118.0 MB/s eta 0:00:01\n",
      "\u001b[?25hCollecting stringcase<2.0.0,>=1.2.0\n",
      "  Downloading stringcase-1.2.0.tar.gz (3.0 kB)\n",
      "Collecting glom<21.0.0,>=20.5.0\n",
      "  Downloading glom-20.11.0-py2.py3-none-any.whl (97 kB)\n",
      "\u001b[K     |████████████████████████████████| 97 kB 20.4 MB/s  eta 0:00:01\n",
      "\u001b[?25hCollecting furl<3.0.0,>=2.0.0\n",
      "  Downloading furl-2.1.3-py2.py3-none-any.whl (20 kB)\n",
      "Collecting dulwich<0.21.0,>=0.20.45\n",
      "  Downloading dulwich-0.20.46-cp310-cp310-manylinux_2_17_x86_64.manylinux2014_x86_64.whl (497 kB)\n",
      "\u001b[K     |████████████████████████████████| 497 kB 136.3 MB/s eta 0:00:01\n",
      "\u001b[?25hCollecting micawber>=0.5.0\n",
      "  Downloading micawber-0.5.4.tar.gz (18 kB)\n",
      "Collecting pyarrow<7.0.0,>=3.0.0\n",
      "  Downloading pyarrow-6.0.1-cp310-cp310-manylinux_2_17_x86_64.manylinux2014_x86_64.whl (25.6 MB)\n",
      "\u001b[K     |████████████████████████████████| 25.6 MB 132.5 MB/s eta 0:00:01\n",
      "\u001b[?25hRequirement already satisfied: PyYAML<7.0.0,>=5.4.0 in /usr/local/lib/python3.10/site-packages (from datapane->polly-python==0.1.7-ipclib) (5.4.1)\n",
      "Collecting colorlog<7.0.0,>=4.1.0\n",
      "  Downloading colorlog-6.7.0-py2.py3-none-any.whl (11 kB)\n",
      "Requirement already satisfied: nbconvert<7.0.0,>=5.6.1 in /usr/local/lib/python3.10/site-packages (from datapane->polly-python==0.1.7-ipclib) (6.3.0)\n",
      "Requirement already satisfied: Jinja2<3.1.0,>=2.11.0 in /usr/local/lib/python3.10/site-packages (from datapane->polly-python==0.1.7-ipclib) (3.0.3)\n",
      "Collecting toolz<0.12.0,>=0.11.0\n",
      "  Downloading toolz-0.11.2-py3-none-any.whl (55 kB)\n",
      "\u001b[K     |████████████████████████████████| 55 kB 10.2 MB/s  eta 0:00:01\n",
      "\u001b[?25hCollecting datacommons-pandas<0.0.4,>=0.0.3\n",
      "  Downloading datacommons_pandas-0.0.3-py3-none-any.whl (45 kB)\n",
      "\u001b[K     |████████████████████████████████| 45 kB 9.8 MB/s s eta 0:00:01\n",
      "\u001b[?25hCollecting datacommons<2.0.0,>=1.4.3\n",
      "  Downloading datacommons-1.4.3-py3-none-any.whl (46 kB)\n",
      "\u001b[K     |████████████████████████████████| 46 kB 11.2 MB/s  eta 0:00:01\n",
      "\u001b[?25hCollecting boltons<22.0.0,>=20.0.0\n",
      "  Downloading boltons-21.0.0-py2.py3-none-any.whl (193 kB)\n",
      "\u001b[K     |████████████████████████████████| 193 kB 134.2 MB/s eta 0:00:01\n",
      "\u001b[?25hCollecting altair<5.0.0,>=4.0.0\n",
      "  Downloading altair-4.2.0-py3-none-any.whl (812 kB)\n"
     ]
    },
    {
     "name": "stdout",
     "output_type": "stream",
     "text": [
      "\u001b[K     |████████████████████████████████| 812 kB 132.3 MB/s eta 0:00:01\n",
      "\u001b[?25hCollecting dominate<3.0.0,>=2.4.0\n",
      "  Downloading dominate-2.7.0-py2.py3-none-any.whl (29 kB)\n",
      "Collecting requests-toolbelt<0.10.0,>=0.9.1\n",
      "  Downloading requests_toolbelt-0.9.1-py2.py3-none-any.whl (54 kB)\n",
      "\u001b[K     |████████████████████████████████| 54 kB 8.5 MB/s s eta 0:00:01\n",
      "\u001b[?25hCollecting importlib_resources<6.0.0,>=3.0.0\n",
      "  Downloading importlib_resources-5.9.0-py3-none-any.whl (33 kB)\n",
      "Requirement already satisfied: packaging<22.0.0,>=20.0.0 in /usr/local/lib/python3.10/site-packages (from datapane->polly-python==0.1.7-ipclib) (21.3)\n",
      "Collecting click-spinner<0.2.0,>=0.1.8\n",
      "  Downloading click_spinner-0.1.10-py2.py3-none-any.whl (4.0 kB)\n",
      "Collecting posthog<2.0.0,>=1.4.0\n",
      "  Downloading posthog-1.4.9-py2.py3-none-any.whl (23 kB)\n",
      "Requirement already satisfied: tabulate<0.9.0,>=0.8.0 in /usr/local/lib/python3.10/site-packages (from datapane->polly-python==0.1.7-ipclib) (0.8.9)\n",
      "Collecting dacite<2.0.0,>=1.0.2\n",
      "  Downloading dacite-1.6.0-py3-none-any.whl (12 kB)\n",
      "Collecting validators<0.19.0,>=0.18.0\n",
      "  Downloading validators-0.18.2-py3-none-any.whl (19 kB)\n",
      "Collecting vega-datasets<1.0.0,>=0.9.0\n",
      "  Downloading vega_datasets-0.9.0-py3-none-any.whl (210 kB)\n",
      "\u001b[K     |████████████████████████████████| 210 kB 137.9 MB/s eta 0:00:01\n",
      "\u001b[?25hCollecting munch<3.0.0,>=2.3.0\n",
      "  Downloading munch-2.5.0-py2.py3-none-any.whl (10 kB)\n",
      "Requirement already satisfied: entrypoints in /usr/local/lib/python3.10/site-packages (from altair<5.0.0,>=4.0.0->datapane->polly-python==0.1.7-ipclib) (0.3)\n",
      "Collecting orderedmultidict>=1.0.1\n",
      "  Downloading orderedmultidict-1.0.1-py2.py3-none-any.whl (11 kB)\n",
      "Requirement already satisfied: attrs in /usr/local/lib/python3.10/site-packages (from glom<21.0.0,>=20.5.0->datapane->polly-python==0.1.7-ipclib) (21.2.0)\n",
      "Collecting face>=20.1.0\n",
      "  Downloading face-20.1.1.tar.gz (46 kB)\n",
      "\u001b[K     |████████████████████████████████| 46 kB 9.3 MB/s s eta 0:00:01\n",
      "\u001b[?25hRequirement already satisfied: MarkupSafe>=2.0 in /usr/local/lib/python3.10/site-packages (from Jinja2<3.1.0,>=2.11.0->datapane->polly-python==0.1.7-ipclib) (2.0.1)\n",
      "Requirement already satisfied: pyrsistent!=0.17.0,!=0.17.1,!=0.17.2,>=0.14.0 in /usr/local/lib/python3.10/site-packages (from jsonschema<5.0.0,>=3.2.0->datapane->polly-python==0.1.7-ipclib) (0.18.0)\n",
      "Requirement already satisfied: pygments>=2.4.1 in /usr/local/lib/python3.10/site-packages (from nbconvert<7.0.0,>=5.6.1->datapane->polly-python==0.1.7-ipclib) (2.10.0)\n",
      "Requirement already satisfied: testpath in /usr/local/lib/python3.10/site-packages (from nbconvert<7.0.0,>=5.6.1->datapane->polly-python==0.1.7-ipclib) (0.5.0)\n",
      "Requirement already satisfied: traitlets>=5.0 in /usr/local/lib/python3.10/site-packages (from nbconvert<7.0.0,>=5.6.1->datapane->polly-python==0.1.7-ipclib) (5.1.1)\n",
      "Requirement already satisfied: bleach in /usr/local/lib/python3.10/site-packages (from nbconvert<7.0.0,>=5.6.1->datapane->polly-python==0.1.7-ipclib) (4.1.0)\n",
      "Requirement already satisfied: mistune<2,>=0.8.1 in /usr/local/lib/python3.10/site-packages (from nbconvert<7.0.0,>=5.6.1->datapane->polly-python==0.1.7-ipclib) (0.8.4)\n",
      "Requirement already satisfied: defusedxml in /usr/local/lib/python3.10/site-packages (from nbconvert<7.0.0,>=5.6.1->datapane->polly-python==0.1.7-ipclib) (0.7.1)\n",
      "Requirement already satisfied: jupyter-core in /usr/local/lib/python3.10/site-packages (from nbconvert<7.0.0,>=5.6.1->datapane->polly-python==0.1.7-ipclib) (4.9.1)\n",
      "Requirement already satisfied: nbformat>=4.4 in /usr/local/lib/python3.10/site-packages (from nbconvert<7.0.0,>=5.6.1->datapane->polly-python==0.1.7-ipclib) (5.1.3)\n",
      "Requirement already satisfied: nbclient<0.6.0,>=0.5.0 in /usr/local/lib/python3.10/site-packages (from nbconvert<7.0.0,>=5.6.1->datapane->polly-python==0.1.7-ipclib) (0.5.13)\n",
      "Requirement already satisfied: jupyterlab-pygments in /usr/local/lib/python3.10/site-packages (from nbconvert<7.0.0,>=5.6.1->datapane->polly-python==0.1.7-ipclib) (0.2.2)\n",
      "Requirement already satisfied: pandocfilters>=1.4.1 in /usr/local/lib/python3.10/site-packages (from nbconvert<7.0.0,>=5.6.1->datapane->polly-python==0.1.7-ipclib) (1.5.0)\n",
      "Requirement already satisfied: nest-asyncio in /usr/local/lib/python3.10/site-packages (from nbclient<0.6.0,>=0.5.0->nbconvert<7.0.0,>=5.6.1->datapane->polly-python==0.1.7-ipclib) (1.5.5)\n",
      "Requirement already satisfied: jupyter-client>=6.1.5 in /usr/local/lib/python3.10/site-packages (from nbclient<0.6.0,>=0.5.0->nbconvert<7.0.0,>=5.6.1->datapane->polly-python==0.1.7-ipclib) (6.1.12)\n",
      "Requirement already satisfied: tornado>=4.1 in /usr/local/lib/python3.10/site-packages (from jupyter-client>=6.1.5->nbclient<0.6.0,>=0.5.0->nbconvert<7.0.0,>=5.6.1->datapane->polly-python==0.1.7-ipclib) (6.1)\n",
      "Requirement already satisfied: pyzmq>=13 in /usr/local/lib/python3.10/site-packages (from jupyter-client>=6.1.5->nbclient<0.6.0,>=0.5.0->nbconvert<7.0.0,>=5.6.1->datapane->polly-python==0.1.7-ipclib) (22.3.0)\n",
      "Requirement already satisfied: ipython-genutils in /usr/local/lib/python3.10/site-packages (from nbformat>=4.4->nbconvert<7.0.0,>=5.6.1->datapane->polly-python==0.1.7-ipclib) (0.2.0)\n",
      "Requirement already satisfied: pyparsing!=3.0.5,>=2.0.2 in /usr/local/lib/python3.10/site-packages (from packaging<22.0.0,>=20.0.0->datapane->polly-python==0.1.7-ipclib) (3.0.6)\n",
      "Collecting monotonic>=1.5\n",
      "  Downloading monotonic-1.6-py2.py3-none-any.whl (8.2 kB)\n",
      "Collecting backoff<2.0.0,>=1.10.0\n",
      "  Downloading backoff-1.11.1-py2.py3-none-any.whl (13 kB)\n",
      "Collecting typing-extensions>=4.1.0\n",
      "  Downloading typing_extensions-4.3.0-py3-none-any.whl (25 kB)\n",
      "Requirement already satisfied: decorator>=3.4.0 in /usr/local/lib/python3.10/site-packages (from validators<0.19.0,>=0.18.0->datapane->polly-python==0.1.7-ipclib) (5.1.0)\n",
      "Requirement already satisfied: webencodings in /usr/local/lib/python3.10/site-packages (from bleach->nbconvert<7.0.0,>=5.6.1->datapane->polly-python==0.1.7-ipclib) (0.5.1)\n",
      "Collecting wrapt<2,>=1.10\n",
      "  Downloading wrapt-1.14.1-cp310-cp310-manylinux_2_5_x86_64.manylinux1_x86_64.manylinux_2_17_x86_64.manylinux2014_x86_64.whl (77 kB)\n",
      "\u001b[K     |████████████████████████████████| 77 kB 15.5 MB/s  eta 0:00:01\n",
      "\u001b[?25hCollecting tenacity>=6.2.0\n",
      "  Downloading tenacity-8.0.1-py3-none-any.whl (24 kB)\n",
      "Collecting iniconfig\n",
      "  Downloading iniconfig-1.1.1-py2.py3-none-any.whl (5.0 kB)\n",
      "Collecting py>=1.8.2\n",
      "  Downloading py-1.11.0-py2.py3-none-any.whl (98 kB)\n",
      "\u001b[K     |████████████████████████████████| 98 kB 22.4 MB/s  eta 0:00:01\n",
      "\u001b[?25hCollecting pluggy<2.0,>=0.12\n",
      "  Downloading pluggy-1.0.0-py2.py3-none-any.whl (13 kB)\n",
      "Requirement already satisfied: docutils>=0.11 in /usr/local/lib/python3.10/site-packages (from rst2txt->polly-python==0.1.7-ipclib) (0.15.2)\n",
      "Using legacy 'setup.py install' for Cerberus, since package 'wheel' is not installed.\n",
      "Using legacy 'setup.py install' for retrying, since package 'wheel' is not installed.\n",
      "Using legacy 'setup.py install' for face, since package 'wheel' is not installed.\n",
      "Using legacy 'setup.py install' for micawber, since package 'wheel' is not installed.\n",
      "Using legacy 'setup.py install' for stringcase, since package 'wheel' is not installed.\n",
      "Installing collected packages: pytz, certifi, boltons, typing-extensions, toolz, requests, orderedmultidict, monotonic, face, backoff, wrapt, vega-datasets, validators, tomli, tenacity, stringcase, soupsieve, requests-toolbelt, python-magic, pydantic, pyarrow, py, posthog, pluggy, platformdirs, pathspec, mypy-extensions, munch, micawber, lxml, iniconfig, importlib-resources, h5py, glom, furl, dulwich, dominate, datacommons-pandas, datacommons, dacite, colorlog, click-spinner, click, altair, sqlparse, rst2txt, retrying, pytest, postpy2, plotly, joblib, elucidatacloudpathlib, Deprecated, datapane, cmapPy, Cerberus, black, beautifulsoup4, polly-python\n",
      "  Attempting uninstall: pytz\n",
      "    Found existing installation: pytz 2021.3\n",
      "    Uninstalling pytz-2021.3:\n",
      "      Successfully uninstalled pytz-2021.3\n",
      "  Attempting uninstall: certifi\n",
      "    Found existing installation: certifi 2021.5.30\n",
      "    Uninstalling certifi-2021.5.30:\n",
      "      Successfully uninstalled certifi-2021.5.30\n",
      "  Attempting uninstall: requests\n",
      "    Found existing installation: requests 2.27.1\n",
      "    Uninstalling requests-2.27.1:\n",
      "      Successfully uninstalled requests-2.27.1\n"
     ]
    },
    {
     "name": "stdout",
     "output_type": "stream",
     "text": [
      "    Running setup.py install for face ... \u001b[?25ldone\n",
      "\u001b[?25h    Running setup.py install for stringcase ... \u001b[?25ldone\n",
      "\u001b[?25h    Running setup.py install for micawber ... \u001b[?25ldone\n",
      "\u001b[?25h    Running setup.py install for retrying ... \u001b[?25ldone\n",
      "\u001b[?25h  Attempting uninstall: Cerberus\n",
      "    Found existing installation: Cerberus 1.3.4\n",
      "    Uninstalling Cerberus-1.3.4:\n",
      "      Successfully uninstalled Cerberus-1.3.4\n",
      "    Running setup.py install for Cerberus ... \u001b[?25ldone\n",
      "\u001b[?25hSuccessfully installed Cerberus-1.3.2 Deprecated-1.2.13 altair-4.2.0 backoff-1.11.1 beautifulsoup4-4.11.1 black-22.8.0 boltons-21.0.0 certifi-2021.10.8 click-8.1.3 click-spinner-0.1.10 cmapPy-4.0.1 colorlog-6.7.0 dacite-1.6.0 datacommons-1.4.3 datacommons-pandas-0.0.3 datapane-0.15.1 dominate-2.7.0 dulwich-0.20.46 elucidatacloudpathlib-0.6.6 face-20.1.1 furl-2.1.3 glom-20.11.0 h5py-3.7.0 importlib-resources-5.9.0 iniconfig-1.1.1 joblib-1.1.0 lxml-4.9.1 micawber-0.5.4 monotonic-1.6 munch-2.5.0 mypy-extensions-0.4.3 orderedmultidict-1.0.1 pathspec-0.10.1 platformdirs-2.5.2 plotly-5.10.0 pluggy-1.0.0 polly-python-0.1.7 posthog-1.4.9 postpy2-0.0.6 py-1.11.0 pyarrow-6.0.1 pydantic-1.10.2 pytest-7.1.3 python-magic-0.4.24 pytz-2021.1 requests-2.25.1 requests-toolbelt-0.9.1 retrying-1.3.3 rst2txt-1.1.0 soupsieve-2.3.2.post1 sqlparse-0.4.2 stringcase-1.2.0 tenacity-8.0.1 tomli-2.0.1 toolz-0.11.2 typing-extensions-4.3.0 validators-0.18.2 vega-datasets-0.9.0 wrapt-1.14.1\n",
      "\u001b[33mWARNING: Running pip as the 'root' user can result in broken permissions and conflicting behaviour with the system package manager. It is recommended to use a virtual environment instead: https://pip.pypa.io/warnings/venv\u001b[0m\n",
      "\u001b[33mWARNING: You are using pip version 21.2.4; however, version 22.2.2 is available.\n",
      "You should consider upgrading via the '/usr/local/bin/python3.10 -m pip install --upgrade pip' command.\u001b[0m\n"
     ]
    }
   ],
   "source": [
    "!sudo pip3 install https://elucidatainc.github.io/PublicAssets/builds/polly-python/tests/testpolly/polly_python-0.1.7_ipclib-py3-none-any.whl"
   ]
  },
  {
   "cell_type": "code",
   "execution_count": 11,
   "metadata": {},
   "outputs": [],
   "source": [
    "from polly.auth import Polly     "
   ]
  },
  {
   "cell_type": "code",
   "execution_count": 12,
   "metadata": {},
   "outputs": [],
   "source": [
    "from polly.curation_library  import CurationLibrary"
   ]
  },
  {
   "cell_type": "code",
   "execution_count": 13,
   "metadata": {},
   "outputs": [],
   "source": [
    "Polly.auth(\"eyJjdHkiOiJKV1QiLCJlbmMiOiJBMjU2R0NNIiwiYWxnIjoiUlNBLU9BRVAifQ.TZtDztyrYOScvoPI7k1l6qkAGO3Fl066ym_c7hSOSEQGGdREKWQxNNXR_PVIs_sSIY5tEhev821i683uAWPRWETsoFuCuebL_rf1OAZ0tZBWYUh1JY2epMPtpefuIwg13jatC7xPXo7x7a7s2UXLBX5zpaewCwir4s3Rswe0AUcui4WLzaflemj79E-QCjZU44ennAIWiFLD8-iH_YBnnlHvCddU-6uzOKrBLrjB3EKFBgKvcocHDZZsuaxBD_gVBJ1LQsoDzEl7QqpceYz2XZuOCvpgZnPJHSlxfFZnnxa1W22OIGv16V1ToZcHhrDxNxZMlFr4WN1-IHF2T_lxoQ.PGEvxQzvY6HloN84.2QTyrpvtU8gWy77Zb9lpMiFOFkBOJ4xSzNuE3kSnYON3nD5N7gFM1NHow5vAqOkjtqqYJzN1eVqD_7UHNSdjDY0Qx-X0kIn8sOfhaMYwVYxOYyZ6Cqvv0SxHf9ukqYZpSHs9z02AhYgEkBO2JDThqsrqhwgAM_8ujnPoTiHi4m1HCkoKLm-XpvkJ9xH442jMMiTwTGpE-5UWLdbiUMdNbY1RxKLg8LRRxo-_OxonvMyn-doPYCrMj2TfTB_YGhtX6ak2kF4pnOixNsa3wATi4_l9rO0xJis6viydpVxqTrsYA-FEJ3j0WOHG35SKzHLJvlZI87LPOpBSC8EtdbuMgRsjJGDjDoU2rIkLfHnppKh-PH4pfMHDb8_1wMX_HxUDWSbkfiU2UcoxNENAt4pOBR837JqkovtjU5HKPbP8oLMhlKp-WSwgQ-VNiT_KQtX64kyZWbVYyT5k9ei-mqfG8X-4TpL0oDodco6j5JqWdyElBHrrWuwtTsTrX86UaF1TGF4NfKN5ZNCOxXVcyVMmuGDG74GrMuRmLjqjc99lZcLi_9NjbOVRAOpReyd7ZRwd7-l5pQrvj2_06yaiprhQn5IvGmHXcEuX3k5XLs-y-gxnjZLJRZ1SMGa6O5LyhyOzwCnaqrfC5Uo7LOK3I7nS3ITzji_DIgd-KB_aQqWOCONDvM_egMMSNLSIPs60G-KVh2BpE_2dNdRcD1nVo8pgad37__KxYogtVC6lwpUNMKuRZQ6YeKJTtRiZe_vStPi9c3AHtiWwyTaSkzaA9jClCk13shd2pinCAwpGoqS_y0XCud_5hYdTNYOtsiscZxGqlK3GXS5rt276wTt2XEo2g9LxtYKS2YAahQZeZX16qCM3nU0RpGSQCppnwSNcLUHGp3Th-tJmb5xthQBrp1r93otSe58Acd7kTyDDBrctI7UYhSF9dUT5OZKjdrSHQQm55eS0yNyQlNNi24_b-NOMwZbxbFncFjC1ZYwd09PG8fNS_zeINMrsVpF0eEZ2rMOhlXfqiE2_rFgli8xxM3PhZhXfhA-e3o0n3MXzuls1JR5lZLmvNKDvLRM771qeONX2ryXeFUnH6hhg9Z9SgQZl8aibKQglt36zo0FfUDWRBCr6HAw0FILfCI-JcvY0cE34oT1AnqlsinczatK6e_zgrol7-7CV7YftinUQrhj5YtFpxG_aFMHfMoFPV_L3pxuqrcadKAM4dnYzM6AN1VhVYobXnkPsXztaJ7wMcDiXb7ZoWjqM7nJ4_2UU7JKXpYpzwa09q5lAwZ3G0KMMfN0PQrX0YB9cCRHBtX6wbCNlyRI6AZ0EuwKNsfJ8Tws.GLUl4fZIZeQi3y9gFlB0fA\")"
   ]
  },
  {
   "cell_type": "code",
   "execution_count": 14,
   "metadata": {},
   "outputs": [],
   "source": [
    "obj = CurationLibrary()  "
   ]
  },
  {
   "cell_type": "code",
   "execution_count": 15,
   "metadata": {},
   "outputs": [
    {
     "data": {
      "text/plain": [
       "[Tag(name='Mus musculus', ontology_id='NCBI:txid10090', entity_type='species'),\n",
       " Tag(name='Demyelinating Diseases', ontology_id='MESH:D003711', entity_type='disease')]"
      ]
     },
     "execution_count": 15,
     "metadata": {},
     "output_type": "execute_result"
    }
   ],
   "source": [
    "obj.semantic_annotation(\"Single cell RNA sequencing of FACS purified mouse microglia from embryogenesis to old age, and following injury using a demyelinating mouse model.\")"
   ]
  },
  {
   "cell_type": "markdown",
   "metadata": {},
   "source": [
    "### calling the normalise function of ipc lib which is implemented here as \"harmonize\" where the text provided is mapped to certain terms in polly-compatible ontologies"
   ]
  },
  {
   "cell_type": "code",
   "execution_count": 17,
   "metadata": {},
   "outputs": [
    {
     "data": {
      "text/plain": [
       "{'ontology': 'NCBI',\n",
       " 'ontology_id': 'txid10090',\n",
       " 'name': 'Mus musculus',\n",
       " 'entity_type': 'species',\n",
       " 'score': None,\n",
       " 'synonym': None}"
      ]
     },
     "execution_count": 17,
     "metadata": {},
     "output_type": "execute_result"
    }
   ],
   "source": [
    ">>> obj.harmonize(\"Mus musculus\",\"species\")\n",
    "{'ontology': 'NCBI', 'ontology_id': 'txid10090', 'name': 'Mus musculus', 'entity_type': 'species', 'score': None, 'synonym': None}"
   ]
  },
  {
   "cell_type": "code",
   "execution_count": 16,
   "metadata": {},
   "outputs": [
    {
     "data": {
      "text/plain": [
       "{'ontology': 'CUI-less',\n",
       " 'ontology_id': None,\n",
       " 'name': None,\n",
       " 'entity_type': 'species',\n",
       " 'score': None,\n",
       " 'synonym': None}"
      ]
     },
     "execution_count": 16,
     "metadata": {},
     "output_type": "execute_result"
    }
   ],
   "source": [
    "#if the text provided is not identofied/doesnt match any ontology. \n",
    ">>> obj.harmonize(\"Mus musculusA13efqr3g3\",\"species\")"
   ]
  },
  {
   "cell_type": "code",
   "execution_count": 18,
   "metadata": {},
   "outputs": [
    {
     "data": {
      "text/plain": [
       "{'ontology': 'CUI-less',\n",
       " 'ontology_id': None,\n",
       " 'name': None,\n",
       " 'entity_type': 'gene',\n",
       " 'score': None,\n",
       " 'synonym': None}"
      ]
     },
     "execution_count": 18,
     "metadata": {},
     "output_type": "execute_result"
    }
   ],
   "source": [
    "#if non matching entity name is provided for eg: here we are giving \"gene\" instead of \"species\"\n",
    "obj.harmonize(\"Mus musculus\",\"gene\")"
   ]
  },
  {
   "cell_type": "code",
   "execution_count": 20,
   "metadata": {},
   "outputs": [
    {
     "ename": "InvalidSchemaJsonException",
     "evalue": "Schema error in the json request file; update and try again",
     "output_type": "error",
     "traceback": [
      "\u001b[0;31m---------------------------------------------------------------------------\u001b[0m",
      "\u001b[0;31mInvalidSchemaJsonException\u001b[0m                Traceback (most recent call last)",
      "Input \u001b[0;32mIn [20]\u001b[0m, in \u001b[0;36m<cell line: 1>\u001b[0;34m()\u001b[0m\n\u001b[0;32m----> 1\u001b[0m \u001b[43mobj\u001b[49m\u001b[38;5;241;43m.\u001b[39;49m\u001b[43mharmonize\u001b[49m\u001b[43m(\u001b[49m\u001b[38;5;124;43m\"\u001b[39;49m\u001b[38;5;124;43mMus Musculus\u001b[39;49m\u001b[38;5;124;43m\"\u001b[39;49m\u001b[43m,\u001b[49m\u001b[38;5;124;43m\"\u001b[39;49m\u001b[38;5;124;43mgenes\u001b[39;49m\u001b[38;5;124;43m\"\u001b[39;49m\u001b[43m)\u001b[49m\n",
      "File \u001b[0;32m/usr/local/lib/python3.10/site-packages/polly/curation_library.py:143\u001b[0m, in \u001b[0;36mCurationLibrary.harmonize\u001b[0;34m(self, mention, entity_type, context, threshold)\u001b[0m\n\u001b[1;32m    141\u001b[0m \u001b[38;5;28;01mif\u001b[39;00m context:\n\u001b[1;32m    142\u001b[0m     data[\u001b[38;5;124m\"\u001b[39m\u001b[38;5;124mcontext\u001b[39m\u001b[38;5;124m\"\u001b[39m] \u001b[38;5;241m=\u001b[39m context\n\u001b[0;32m--> 143\u001b[0m output \u001b[38;5;241m=\u001b[39m \u001b[38;5;28;43mself\u001b[39;49m\u001b[38;5;241;43m.\u001b[39;49m\u001b[43mperform_inference\u001b[49m\u001b[43m(\u001b[49m\u001b[38;5;124;43m\"\u001b[39;49m\u001b[38;5;124;43mnormalizer\u001b[39;49m\u001b[38;5;124;43m\"\u001b[39;49m\u001b[43m,\u001b[49m\u001b[43m \u001b[49m\u001b[43mdata\u001b[49m\u001b[43m)\u001b[49m\n\u001b[1;32m    144\u001b[0m \u001b[38;5;28;01mif\u001b[39;00m \u001b[38;5;124m\"\u001b[39m\u001b[38;5;124merrors\u001b[39m\u001b[38;5;124m\"\u001b[39m \u001b[38;5;129;01min\u001b[39;00m output:\n\u001b[1;32m    145\u001b[0m     title, detail \u001b[38;5;241m=\u001b[39m \u001b[38;5;28mself\u001b[39m\u001b[38;5;241m.\u001b[39m_handle_errors(output)\n",
      "File \u001b[0;32m/usr/local/lib/python3.10/site-packages/polly/curation_library.py:101\u001b[0m, in \u001b[0;36mCurationLibrary.perform_inference\u001b[0;34m(self, model_name, input_data)\u001b[0m\n\u001b[1;32m     99\u001b[0m         \u001b[38;5;28;01mraise\u001b[39;00m InvalidSyntaxForRequestException()\n\u001b[1;32m    100\u001b[0m \u001b[38;5;28;01melif\u001b[39;00m response\u001b[38;5;241m.\u001b[39mstatus_code \u001b[38;5;241m==\u001b[39m http_codes\u001b[38;5;241m.\u001b[39mINTERNAL_SERVER_ERROR:\n\u001b[0;32m--> 101\u001b[0m     \u001b[38;5;28;01mraise\u001b[39;00m InvalidSchemaJsonException()\n\u001b[1;32m    102\u001b[0m \u001b[38;5;28;01melse\u001b[39;00m:\n\u001b[1;32m    103\u001b[0m     title, details \u001b[38;5;241m=\u001b[39m extract_json_api_error(response)\n",
      "\u001b[0;31mInvalidSchemaJsonException\u001b[0m: Schema error in the json request file; update and try again"
     ]
    }
   ],
   "source": [
    "#non-supported entity type provided eg: here instead of \"gene\" we are giving \"genes\"\n",
    "obj.harmonize(\"Mus Musculus\",\"genes\")"
   ]
  },
  {
   "cell_type": "markdown",
   "metadata": {},
   "source": [
    "### calling the tag function of ipc lib which is implemented here as \"semantic_annotation\" which is a wrapper around ipc.run_ner,  ipc.normalize and does some additional pre-processing and post-processing."
   ]
  },
  {
   "cell_type": "code",
   "execution_count": 22,
   "metadata": {},
   "outputs": [
    {
     "data": {
      "text/plain": [
       "[Tag(name='Mus musculus', ontology_id='NCBI:txid10090', entity_type='species'),\n",
       " Tag(name='Adenocarcinoma', ontology_id='MESH:D000230', entity_type='disease')]"
      ]
     },
     "execution_count": 22,
     "metadata": {},
     "output_type": "execute_result"
    }
   ],
   "source": [
    "obj.semantic_annotation(\"Mouse model shows presence of Adeno carcinoma\""
   ]
  },
  {
   "cell_type": "code",
   "execution_count": 23,
   "metadata": {},
   "outputs": [
    {
     "ename": "InvalidSchemaJsonException",
     "evalue": "Schema error in the json request file; update and try again",
     "output_type": "error",
     "traceback": [
      "\u001b[0;31m---------------------------------------------------------------------------\u001b[0m",
      "\u001b[0;31mInvalidSchemaJsonException\u001b[0m                Traceback (most recent call last)",
      "Input \u001b[0;32mIn [23]\u001b[0m, in \u001b[0;36m<cell line: 2>\u001b[0;34m()\u001b[0m\n\u001b[1;32m      1\u001b[0m \u001b[38;5;66;03m#on provided incorrect args eg: instad of the string we provide a list \u001b[39;00m\n\u001b[0;32m----> 2\u001b[0m \u001b[43mobj\u001b[49m\u001b[38;5;241;43m.\u001b[39;49m\u001b[43msemantic_annotation\u001b[49m\u001b[43m(\u001b[49m\u001b[43m[\u001b[49m\u001b[38;5;124;43m\"\u001b[39;49m\u001b[38;5;124;43mMus musculus Adeno carcinoma \u001b[39;49m\u001b[38;5;124;43m\"\u001b[39;49m\u001b[43m,\u001b[49m\u001b[38;5;124;43m\"\u001b[39;49m\u001b[38;5;124;43mhbyvaavar\u001b[39;49m\u001b[38;5;124;43m\"\u001b[39;49m\u001b[43m]\u001b[49m\u001b[43m)\u001b[49m\n",
      "File \u001b[0;32m/usr/local/lib/python3.10/site-packages/polly/curation_library.py:225\u001b[0m, in \u001b[0;36mCurationLibrary.semantic_annotation\u001b[0;34m(self, text)\u001b[0m\n\u001b[1;32m    208\u001b[0m \u001b[38;5;28;01mdef\u001b[39;00m \u001b[38;5;21msemantic_annotation\u001b[39m(\n\u001b[1;32m    209\u001b[0m     \u001b[38;5;28mself\u001b[39m,\n\u001b[1;32m    210\u001b[0m     text: \u001b[38;5;28mstr\u001b[39m,\n\u001b[1;32m    211\u001b[0m ) \u001b[38;5;241m-\u001b[39m\u001b[38;5;241m>\u001b[39m List[Tag]:\n\u001b[1;32m    213\u001b[0m     \u001b[38;5;124;03m\"\"\"\u001b[39;00m\n\u001b[1;32m    214\u001b[0m \u001b[38;5;124;03m    Tag a given piece of text. A \"tag\" is just an ontology term.\u001b[39;00m\n\u001b[1;32m    215\u001b[0m \n\u001b[0;32m   (...)\u001b[0m\n\u001b[1;32m    222\u001b[0m \u001b[38;5;124;03m        tags (set of tuples): set of unique tags\u001b[39;00m\n\u001b[1;32m    223\u001b[0m \u001b[38;5;124;03m    \"\"\"\u001b[39;00m\n\u001b[0;32m--> 225\u001b[0m     entities \u001b[38;5;241m=\u001b[39m \u001b[38;5;28;43mself\u001b[39;49m\u001b[38;5;241;43m.\u001b[39;49m\u001b[43mrun_ner\u001b[49m\u001b[43m(\u001b[49m\u001b[43mtext\u001b[49m\u001b[43m,\u001b[49m\u001b[43m \u001b[49m\u001b[43mnormalize_output\u001b[49m\u001b[38;5;241;43m=\u001b[39;49m\u001b[38;5;28;43;01mTrue\u001b[39;49;00m\u001b[43m)\u001b[49m\n\u001b[1;32m    226\u001b[0m     res \u001b[38;5;241m=\u001b[39m {\n\u001b[1;32m    227\u001b[0m         \u001b[38;5;28mself\u001b[39m\u001b[38;5;241m.\u001b[39mTag(e[\u001b[38;5;124m\"\u001b[39m\u001b[38;5;124mname\u001b[39m\u001b[38;5;124m\"\u001b[39m], e[\u001b[38;5;124m\"\u001b[39m\u001b[38;5;124montology_id\u001b[39m\u001b[38;5;124m\"\u001b[39m], e[\u001b[38;5;124m\"\u001b[39m\u001b[38;5;124mentity_type\u001b[39m\u001b[38;5;124m\"\u001b[39m])\n\u001b[1;32m    228\u001b[0m         \u001b[38;5;28;01mfor\u001b[39;00m e \u001b[38;5;129;01min\u001b[39;00m entities\n\u001b[1;32m    229\u001b[0m         \u001b[38;5;28;01mif\u001b[39;00m e[\u001b[38;5;124m\"\u001b[39m\u001b[38;5;124mname\u001b[39m\u001b[38;5;124m\"\u001b[39m]\n\u001b[1;32m    230\u001b[0m     }\n\u001b[1;32m    231\u001b[0m     \u001b[38;5;28;01mreturn\u001b[39;00m \u001b[38;5;28mlist\u001b[39m(res)\n",
      "File \u001b[0;32m/usr/local/lib/python3.10/site-packages/polly/curation_library.py:181\u001b[0m, in \u001b[0;36mCurationLibrary.run_ner\u001b[0;34m(self, text, threshold, normalize_output)\u001b[0m\n\u001b[1;32m    179\u001b[0m \u001b[38;5;28;01mif\u001b[39;00m threshold:\n\u001b[1;32m    180\u001b[0m     payload[\u001b[38;5;124m\"\u001b[39m\u001b[38;5;124mthreshold\u001b[39m\u001b[38;5;124m\"\u001b[39m] \u001b[38;5;241m=\u001b[39m threshold\n\u001b[0;32m--> 181\u001b[0m response \u001b[38;5;241m=\u001b[39m \u001b[38;5;28;43mself\u001b[39;49m\u001b[38;5;241;43m.\u001b[39;49m\u001b[43mperform_inference\u001b[49m\u001b[43m(\u001b[49m\u001b[38;5;124;43m\"\u001b[39;49m\u001b[38;5;124;43mbiobert\u001b[39;49m\u001b[38;5;124;43m\"\u001b[39;49m\u001b[43m,\u001b[49m\u001b[43m \u001b[49m\u001b[43mpayload\u001b[49m\u001b[43m)\u001b[49m\n\u001b[1;32m    183\u001b[0m \u001b[38;5;28;01mif\u001b[39;00m \u001b[38;5;124m\"\u001b[39m\u001b[38;5;124merrors\u001b[39m\u001b[38;5;124m\"\u001b[39m \u001b[38;5;129;01min\u001b[39;00m response:\n\u001b[1;32m    184\u001b[0m     title, detail \u001b[38;5;241m=\u001b[39m \u001b[38;5;28mself\u001b[39m\u001b[38;5;241m.\u001b[39m_handle_errors(response)\n",
      "File \u001b[0;32m/usr/local/lib/python3.10/site-packages/polly/curation_library.py:101\u001b[0m, in \u001b[0;36mCurationLibrary.perform_inference\u001b[0;34m(self, model_name, input_data)\u001b[0m\n\u001b[1;32m     99\u001b[0m         \u001b[38;5;28;01mraise\u001b[39;00m InvalidSyntaxForRequestException()\n\u001b[1;32m    100\u001b[0m \u001b[38;5;28;01melif\u001b[39;00m response\u001b[38;5;241m.\u001b[39mstatus_code \u001b[38;5;241m==\u001b[39m http_codes\u001b[38;5;241m.\u001b[39mINTERNAL_SERVER_ERROR:\n\u001b[0;32m--> 101\u001b[0m     \u001b[38;5;28;01mraise\u001b[39;00m InvalidSchemaJsonException()\n\u001b[1;32m    102\u001b[0m \u001b[38;5;28;01melse\u001b[39;00m:\n\u001b[1;32m    103\u001b[0m     title, details \u001b[38;5;241m=\u001b[39m extract_json_api_error(response)\n",
      "\u001b[0;31mInvalidSchemaJsonException\u001b[0m: Schema error in the json request file; update and try again"
     ]
    }
   ],
   "source": [
    "#on provided incorrect args eg: instad of the string we provide a list -> schema error \n",
    "obj.semantic_annotation([\"Mus musculus Adeno carcinoma \",\"hbyvaavar\"])"
   ]
  },
  {
   "cell_type": "code",
   "execution_count": 25,
   "metadata": {},
   "outputs": [
    {
     "data": {
      "text/plain": [
       "[]"
      ]
     },
     "execution_count": 25,
     "metadata": {},
     "output_type": "execute_result"
    }
   ],
   "source": [
    "#in case of no annotation found: \n",
    "obj.semantic_annotation(\"this is some random text with some random words\")"
   ]
  },
  {
   "cell_type": "markdown",
   "metadata": {},
   "source": [
    "### calling the run_ner function of ipc lib which is implemented here (This runs just the NER without normalization and without any post-processing step.)"
   ]
  },
  {
   "cell_type": "code",
   "execution_count": 27,
   "metadata": {},
   "outputs": [
    {
     "ename": "InvalidSchemaJsonException",
     "evalue": "Schema error in the json request file; update and try again",
     "output_type": "error",
     "traceback": [
      "\u001b[0;31m---------------------------------------------------------------------------\u001b[0m",
      "\u001b[0;31mInvalidSchemaJsonException\u001b[0m                Traceback (most recent call last)",
      "Input \u001b[0;32mIn [27]\u001b[0m, in \u001b[0;36m<cell line: 1>\u001b[0;34m()\u001b[0m\n\u001b[0;32m----> 1\u001b[0m \u001b[43mobj\u001b[49m\u001b[38;5;241;43m.\u001b[39;49m\u001b[43mrun_ner\u001b[49m\u001b[43m(\u001b[49m\u001b[43m[\u001b[49m\u001b[38;5;124;43m\"\u001b[39;49m\u001b[38;5;124;43mMus musculus Adeno carcinoma\u001b[39;49m\u001b[38;5;124;43m\"\u001b[39;49m\u001b[43m]\u001b[49m\u001b[43m)\u001b[49m\n",
      "File \u001b[0;32m/usr/local/lib/python3.10/site-packages/polly/curation_library.py:181\u001b[0m, in \u001b[0;36mCurationLibrary.run_ner\u001b[0;34m(self, text, threshold, normalize_output)\u001b[0m\n\u001b[1;32m    179\u001b[0m \u001b[38;5;28;01mif\u001b[39;00m threshold:\n\u001b[1;32m    180\u001b[0m     payload[\u001b[38;5;124m\"\u001b[39m\u001b[38;5;124mthreshold\u001b[39m\u001b[38;5;124m\"\u001b[39m] \u001b[38;5;241m=\u001b[39m threshold\n\u001b[0;32m--> 181\u001b[0m response \u001b[38;5;241m=\u001b[39m \u001b[38;5;28;43mself\u001b[39;49m\u001b[38;5;241;43m.\u001b[39;49m\u001b[43mperform_inference\u001b[49m\u001b[43m(\u001b[49m\u001b[38;5;124;43m\"\u001b[39;49m\u001b[38;5;124;43mbiobert\u001b[39;49m\u001b[38;5;124;43m\"\u001b[39;49m\u001b[43m,\u001b[49m\u001b[43m \u001b[49m\u001b[43mpayload\u001b[49m\u001b[43m)\u001b[49m\n\u001b[1;32m    183\u001b[0m \u001b[38;5;28;01mif\u001b[39;00m \u001b[38;5;124m\"\u001b[39m\u001b[38;5;124merrors\u001b[39m\u001b[38;5;124m\"\u001b[39m \u001b[38;5;129;01min\u001b[39;00m response:\n\u001b[1;32m    184\u001b[0m     title, detail \u001b[38;5;241m=\u001b[39m \u001b[38;5;28mself\u001b[39m\u001b[38;5;241m.\u001b[39m_handle_errors(response)\n",
      "File \u001b[0;32m/usr/local/lib/python3.10/site-packages/polly/curation_library.py:101\u001b[0m, in \u001b[0;36mCurationLibrary.perform_inference\u001b[0;34m(self, model_name, input_data)\u001b[0m\n\u001b[1;32m     99\u001b[0m         \u001b[38;5;28;01mraise\u001b[39;00m InvalidSyntaxForRequestException()\n\u001b[1;32m    100\u001b[0m \u001b[38;5;28;01melif\u001b[39;00m response\u001b[38;5;241m.\u001b[39mstatus_code \u001b[38;5;241m==\u001b[39m http_codes\u001b[38;5;241m.\u001b[39mINTERNAL_SERVER_ERROR:\n\u001b[0;32m--> 101\u001b[0m     \u001b[38;5;28;01mraise\u001b[39;00m InvalidSchemaJsonException()\n\u001b[1;32m    102\u001b[0m \u001b[38;5;28;01melse\u001b[39;00m:\n\u001b[1;32m    103\u001b[0m     title, details \u001b[38;5;241m=\u001b[39m extract_json_api_error(response)\n",
      "\u001b[0;31mInvalidSchemaJsonException\u001b[0m: Schema error in the json request file; update and try again"
     ]
    }
   ],
   "source": [
    "# passing list (unsupported) instead of string -> schema error. \n",
    "obj.run_ner([\"Mus musculus Adeno carcinoma\"]) "
   ]
  },
  {
   "cell_type": "code",
   "execution_count": 26,
   "metadata": {},
   "outputs": [
    {
     "data": {
      "text/plain": [
       "[{'keyword': 'Adeno carcinoma',\n",
       "  'entity_type': 'disease',\n",
       "  'span_begin': 13,\n",
       "  'span_end': 27,\n",
       "  'score': 0.9999943971633911}]"
      ]
     },
     "execution_count": 26,
     "metadata": {},
     "output_type": "execute_result"
    }
   ],
   "source": [
    "obj.run_ner(\"Mus musculus Adeno carcinoma\") "
   ]
  },
  {
   "cell_type": "code",
   "execution_count": 27,
   "metadata": {},
   "outputs": [
    {
     "ename": "InvalidSchemaJsonException",
     "evalue": "Schema error in the json request file; update and try again",
     "output_type": "error",
     "traceback": [
      "\u001b[0;31m---------------------------------------------------------------------------\u001b[0m",
      "\u001b[0;31mInvalidSchemaJsonException\u001b[0m                Traceback (most recent call last)",
      "Input \u001b[0;32mIn [27]\u001b[0m, in \u001b[0;36m<cell line: 1>\u001b[0;34m()\u001b[0m\n\u001b[0;32m----> 1\u001b[0m \u001b[43mobj\u001b[49m\u001b[38;5;241;43m.\u001b[39;49m\u001b[43mrun_ner\u001b[49m\u001b[43m(\u001b[49m\u001b[43m[\u001b[49m\u001b[38;5;124;43m\"\u001b[39;49m\u001b[38;5;124;43mMus musculus Adeno carcinoma\u001b[39;49m\u001b[38;5;124;43m\"\u001b[39;49m\u001b[43m]\u001b[49m\u001b[43m)\u001b[49m\n",
      "File \u001b[0;32m/usr/local/lib/python3.10/site-packages/polly/curation_library.py:181\u001b[0m, in \u001b[0;36mCurationLibrary.run_ner\u001b[0;34m(self, text, threshold, normalize_output)\u001b[0m\n\u001b[1;32m    179\u001b[0m \u001b[38;5;28;01mif\u001b[39;00m threshold:\n\u001b[1;32m    180\u001b[0m     payload[\u001b[38;5;124m\"\u001b[39m\u001b[38;5;124mthreshold\u001b[39m\u001b[38;5;124m\"\u001b[39m] \u001b[38;5;241m=\u001b[39m threshold\n\u001b[0;32m--> 181\u001b[0m response \u001b[38;5;241m=\u001b[39m \u001b[38;5;28;43mself\u001b[39;49m\u001b[38;5;241;43m.\u001b[39;49m\u001b[43mperform_inference\u001b[49m\u001b[43m(\u001b[49m\u001b[38;5;124;43m\"\u001b[39;49m\u001b[38;5;124;43mbiobert\u001b[39;49m\u001b[38;5;124;43m\"\u001b[39;49m\u001b[43m,\u001b[49m\u001b[43m \u001b[49m\u001b[43mpayload\u001b[49m\u001b[43m)\u001b[49m\n\u001b[1;32m    183\u001b[0m \u001b[38;5;28;01mif\u001b[39;00m \u001b[38;5;124m\"\u001b[39m\u001b[38;5;124merrors\u001b[39m\u001b[38;5;124m\"\u001b[39m \u001b[38;5;129;01min\u001b[39;00m response:\n\u001b[1;32m    184\u001b[0m     title, detail \u001b[38;5;241m=\u001b[39m \u001b[38;5;28mself\u001b[39m\u001b[38;5;241m.\u001b[39m_handle_errors(response)\n",
      "File \u001b[0;32m/usr/local/lib/python3.10/site-packages/polly/curation_library.py:101\u001b[0m, in \u001b[0;36mCurationLibrary.perform_inference\u001b[0;34m(self, model_name, input_data)\u001b[0m\n\u001b[1;32m     99\u001b[0m         \u001b[38;5;28;01mraise\u001b[39;00m InvalidSyntaxForRequestException()\n\u001b[1;32m    100\u001b[0m \u001b[38;5;28;01melif\u001b[39;00m response\u001b[38;5;241m.\u001b[39mstatus_code \u001b[38;5;241m==\u001b[39m http_codes\u001b[38;5;241m.\u001b[39mINTERNAL_SERVER_ERROR:\n\u001b[0;32m--> 101\u001b[0m     \u001b[38;5;28;01mraise\u001b[39;00m InvalidSchemaJsonException()\n\u001b[1;32m    102\u001b[0m \u001b[38;5;28;01melse\u001b[39;00m:\n\u001b[1;32m    103\u001b[0m     title, details \u001b[38;5;241m=\u001b[39m extract_json_api_error(response)\n",
      "\u001b[0;31mInvalidSchemaJsonException\u001b[0m: Schema error in the json request file; update and try again"
     ]
    }
   ],
   "source": [
    "# passing list (unsupported) instead of string -> schema error. \n",
    "obj.run_ner([\"Mus musculus Adeno carcinoma\"]) "
   ]
  },
  {
   "cell_type": "markdown",
   "metadata": {},
   "source": [
    "### incase of invalid token not authorized"
   ]
  },
  {
   "cell_type": "code",
   "execution_count": 33,
   "metadata": {},
   "outputs": [],
   "source": [
    "Polly.auth(\"eyJjdHkiOiJKV1QiLCJlbmMiOiJBMjU2R0NNIiwiYWxnIjoiUlNBLU9BRVAifQ.TZtDztyrYOScvoPI7k1l6qkAGO3Fl066ym_c7hSOSEQGGdREKWQxNNXR_PVIs_sSIY5tEhev821i683uAWPRWETsoFuCuebL_rf1OAZ0tZBWYUh1JY2epMPtpefuIwg13jatC7xPXo7x7a7s2UXLBX5zpaewCwir4s3Rswe0AUcui4WLzaflemj79E-QCjZU44ennAIWiFLD8-iH_YBnnlHvCddU-6uzOKrBLrjB3EKFBgKvcocHDZZsuaxBD_gVBJ1LQsoDzEl7QqpceYz2XZuOCvpgZnPJHSlxfFZnnxa1W22OIGv16V1ToZcHhrDxNxZMlFr4WN1-IHF2T_lxoQ.PGEvxQzvY6HloN84.2QTyrpvtU8gWy77Zb9lpMiFOFkBOJ4xSzNuE3kSnYON3nD5N7gFM1NHow5vAqOkjtqqYJzN1eVqD_7UHNSdjDY0Qx-X0kIn8sOfhaMYwVYxOYyZ6Cqvv0SxHf9ukqYZpSHs9z02AhYgEkBO2JDThqsrqhwgAM_8ujnPoTiHi4m1HCkoKLm-XpvkJ9xH442jMMiTwTGpE-5UWLdbiUMdNbY1RxKLg8LRRxo-_OxonvMyn-doPYCrMj2TfTB_YGhtX6ak2kF4pnOixNsa3wATi4_l9rO0xJis6viydpVxqTrsYA-FEJ3j0WOHG35SKzHLJvlZI87LPOpBSC8EtdbuMgRsjJGDjDoU2rIkLfHnppKh-PH4pfMHDb8_1wMX_HxUDWSbkfiU2UcoxNENAt4pOBR837JqkovtjU5HKPbP8oLMhlKp-WSwgQ-VNiT_KQtX64kyZWbVYyT5k9ei-mqfG8X-4TpL0oDodco6j5JqWdyElBHrrWuwtTsTrX86UaF1TGF4NfKN5ZNCOxXVcyVMmuGDG74GrMuRmLjqjc99lZcLi_9NjbOVRAOpReyd7ZRwd7-l5pQrvj2_06yaiprhQn5IvGmHXcEuX3k5XLs-y-gxnjZLJRZ1SMGa6O5LyhyOzwCnaqrfC5Uo7LOK3I7nS3ITzji_DIgd-KB_aQqWOCONDvM_egMMSNLSIPs60G-KVh2BpE_2dNdRcD1nVo8pgad37__KxYogtVC6lwpUNMKuRZQ6YeKJTtRiZe_vStPi9c3AHtiWwyTaSkzaA9jClCk13shd2pinCAwpGoqS_y0XCud_5hYdTNYOtsiscZxGqlK3GXS5rt276wTt2XEo2g9LxtYKS2YAahQZeZX16qCM3nU0RpGSQCppnwSNcLUHGp3Th-tJmb5xthQBrp1r93otSe58Acd7kTyDDBrctI7UYhSF9dUT5OZKjdrSHQQm55eS0yNyQlNNi24_b-NOMwZbxbFncFjC1ZYwd09PG8fNS_zeINMrsVpF0eEZ2rMOhlXfqiE2_rFgli8xxM3PhZhXfhA-e3o0n3MXzuls1JR5lZLmvNKDvLRM771qeONX2ryXeFUnH6hhg9Z9SgQZl8aibKQglt36zo0FfUDWRBCr6HAw0FILfCI-JcvY0cE34oT1AnqlsinczatK6e_zgrol7-7CV7YftinUQrhj5YtFpxG_aFMHfMoFPV_L3pxuqrcadKAM4dnYzM6A1VhVYobXnkPsXztaJ7wMcDiXb7ZoWjqM7nJ4_2UU7JKXpYpzwa09q5lAwZ3G0KMMfN0PQrX0YB9cCRHBtX6wbCNlyRI6AZ0EuwKNsfJ8Tws.GLUl4fZIZeQi3y9gFlB0fA\")"
   ]
  },
  {
   "cell_type": "code",
   "execution_count": 34,
   "metadata": {},
   "outputs": [],
   "source": [
    "from polly.curation_library  import CurationLibrary"
   ]
  },
  {
   "cell_type": "code",
   "execution_count": 36,
   "metadata": {},
   "outputs": [],
   "source": [
    "obj2 = CurationLibrary()  "
   ]
  },
  {
   "cell_type": "code",
   "execution_count": 37,
   "metadata": {},
   "outputs": [
    {
     "ename": "UnauthorizedException",
     "evalue": "Expired or Invalid Token",
     "output_type": "error",
     "traceback": [
      "\u001b[0;31m---------------------------------------------------------------------------\u001b[0m",
      "\u001b[0;31mUnauthorizedException\u001b[0m                     Traceback (most recent call last)",
      "Input \u001b[0;32mIn [37]\u001b[0m, in \u001b[0;36m<cell line: 1>\u001b[0;34m()\u001b[0m\n\u001b[0;32m----> 1\u001b[0m \u001b[43mobj2\u001b[49m\u001b[38;5;241;43m.\u001b[39;49m\u001b[43mrun_ner\u001b[49m\u001b[43m(\u001b[49m\u001b[38;5;124;43m\"\u001b[39;49m\u001b[38;5;124;43mMus musculus Adeno carcinoma\u001b[39;49m\u001b[38;5;124;43m\"\u001b[39;49m\u001b[43m)\u001b[49m\n",
      "File \u001b[0;32m/usr/local/lib/python3.10/site-packages/polly/curation_library.py:181\u001b[0m, in \u001b[0;36mCurationLibrary.run_ner\u001b[0;34m(self, text, threshold, normalize_output)\u001b[0m\n\u001b[1;32m    179\u001b[0m \u001b[38;5;28;01mif\u001b[39;00m threshold:\n\u001b[1;32m    180\u001b[0m     payload[\u001b[38;5;124m\"\u001b[39m\u001b[38;5;124mthreshold\u001b[39m\u001b[38;5;124m\"\u001b[39m] \u001b[38;5;241m=\u001b[39m threshold\n\u001b[0;32m--> 181\u001b[0m response \u001b[38;5;241m=\u001b[39m \u001b[38;5;28;43mself\u001b[39;49m\u001b[38;5;241;43m.\u001b[39;49m\u001b[43mperform_inference\u001b[49m\u001b[43m(\u001b[49m\u001b[38;5;124;43m\"\u001b[39;49m\u001b[38;5;124;43mbiobert\u001b[39;49m\u001b[38;5;124;43m\"\u001b[39;49m\u001b[43m,\u001b[49m\u001b[43m \u001b[49m\u001b[43mpayload\u001b[49m\u001b[43m)\u001b[49m\n\u001b[1;32m    183\u001b[0m \u001b[38;5;28;01mif\u001b[39;00m \u001b[38;5;124m\"\u001b[39m\u001b[38;5;124merrors\u001b[39m\u001b[38;5;124m\"\u001b[39m \u001b[38;5;129;01min\u001b[39;00m response:\n\u001b[1;32m    184\u001b[0m     title, detail \u001b[38;5;241m=\u001b[39m \u001b[38;5;28mself\u001b[39m\u001b[38;5;241m.\u001b[39m_handle_errors(response)\n",
      "File \u001b[0;32m/usr/local/lib/python3.10/site-packages/polly/curation_library.py:93\u001b[0m, in \u001b[0;36mCurationLibrary.perform_inference\u001b[0;34m(self, model_name, input_data)\u001b[0m\n\u001b[1;32m     91\u001b[0m \u001b[38;5;28;01mif\u001b[39;00m response\u001b[38;5;241m.\u001b[39mstatus_code \u001b[38;5;241m!=\u001b[39m \u001b[38;5;241m201\u001b[39m:\n\u001b[1;32m     92\u001b[0m     \u001b[38;5;28;01mif\u001b[39;00m response\u001b[38;5;241m.\u001b[39mstatus_code \u001b[38;5;241m==\u001b[39m http_codes\u001b[38;5;241m.\u001b[39mUNAUTHORIZED:\n\u001b[0;32m---> 93\u001b[0m         \u001b[38;5;28;01mraise\u001b[39;00m UnauthorizedException(\u001b[38;5;124m\"\u001b[39m\u001b[38;5;124mUser is unauthorized to access this\u001b[39m\u001b[38;5;124m\"\u001b[39m)\n\u001b[1;32m     94\u001b[0m     \u001b[38;5;28;01melif\u001b[39;00m response\u001b[38;5;241m.\u001b[39mstatus_code \u001b[38;5;241m==\u001b[39m http_codes\u001b[38;5;241m.\u001b[39mBAD_REQUEST:\n\u001b[1;32m     95\u001b[0m         title, details \u001b[38;5;241m=\u001b[39m extract_json_api_error(response)\n",
      "\u001b[0;31mUnauthorizedException\u001b[0m: Expired or Invalid Token"
     ]
    }
   ],
   "source": [
    "obj2.run_ner(\"Mus musculus Adeno carcinoma\") "
   ]
  },
  {
   "cell_type": "code",
   "execution_count": null,
   "metadata": {},
   "outputs": [],
   "source": []
  }
 ],
 "metadata": {
  "kernelspec": {
   "display_name": "Python 3 (ipykernel)",
   "language": "python",
   "name": "python3"
  },
  "language_info": {
   "codemirror_mode": {
    "name": "ipython",
    "version": 3
   },
   "file_extension": ".py",
   "mimetype": "text/x-python",
   "name": "python",
   "nbconvert_exporter": "python",
   "pygments_lexer": "ipython3",
   "version": "3.10.2"
  }
 },
 "nbformat": 4,
 "nbformat_minor": 2
}
