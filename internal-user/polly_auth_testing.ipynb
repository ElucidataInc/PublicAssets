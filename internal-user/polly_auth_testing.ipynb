{
  "cells": [
    {
      "cell_type": "markdown",
      "metadata": {
        "colab_type": "text",
        "id": "view-in-github"
      },
      "source": [
        "<a href=\"https://polly.elucidata.io/manage/workspaces?action=open_polly_notebook&source=github&path=ElucidataInc/PublicAssets/blob/master/internal-user/polly_auth_testing.ipynb&kernel=elucidata/Python 3&machine=large\" target=\"_parent\"><img src=\"https://elucidatainc.github.io/PublicAssets/open_polly.svg\" alt=\"Open in Polly\"/></a>\n"
      ]
    },
    {
      "cell_type": "markdown",
      "metadata": {},
      "source": [
        "# Welcome to Polly Python3 Notebook."
      ]
    },
    {
      "cell_type": "code",
      "execution_count": 1,
      "metadata": {},
      "outputs": [
        {
          "name": "stdout",
          "output_type": "stream",
          "text": [
            "Collecting polly-python==0.1.1 from https://elucidatainc.github.io/PublicAssets/builds/polly-python/tests/testpolly/polly_python-0.1.1-py3-none-any.whl\n",
            "\u001b[?25l  Downloading https://elucidatainc.github.io/PublicAssets/builds/polly-python/tests/testpolly/polly_python-0.1.1-py3-none-any.whl (53kB)\n",
            "\u001b[K     |################################| 61kB 7.2MB/s eta 0:00:011\n",
            "\u001b[?25hCollecting cmapPy (from polly-python==0.1.1)\n",
            "\u001b[?25l  Downloading https://files.pythonhosted.org/packages/e8/e1/9e90b0dc2051f4a3a2b9553b254889e93a2a3c7a3b925433c6298d99d596/cmapPy-4.0.1-py2.py3-none-any.whl (150kB)\n",
            "\u001b[K     |################################| 153kB 7.0MB/s eta 0:00:01\n",
            "\u001b[?25hCollecting black (from polly-python==0.1.1)\n",
            "\u001b[?25l  Downloading https://files.pythonhosted.org/packages/2e/ef/a38a2189959246543e60859fb65bd3143129f6d18dfc7bcdd79217f81ca2/black-22.3.0-py3-none-any.whl (153kB)\n",
            "\u001b[K     |################################| 163kB 16.3MB/s eta 0:00:01\n",
            "\u001b[?25hRequirement already satisfied: pandas in /usr/local/lib/python3.6/dist-packages (from polly-python==0.1.1) (1.0.1)\n",
            "Collecting postpy2==0.0.6 (from polly-python==0.1.1)\n",
            "  Downloading https://files.pythonhosted.org/packages/7e/25/d98f5ea87d937bf44963be78b504dbb3ddea1c6ddfcc0985b02d062b41dd/postpy2-0.0.6-py3-none-any.whl\n",
            "Collecting requests==2.25.1 (from polly-python==0.1.1)\n",
            "\u001b[?25l  Downloading https://files.pythonhosted.org/packages/29/c1/24814557f1d22c56d50280771a17307e6bf87b70727d975fd6b2ce6b014a/requests-2.25.1-py2.py3-none-any.whl (61kB)\n",
            "\u001b[K     |################################| 61kB 44.8MB/s eta 0:00:01\n",
            "\u001b[?25hCollecting python-magic==0.4.24 (from polly-python==0.1.1)\n",
            "  Downloading https://files.pythonhosted.org/packages/d3/99/c89223c6547df268596899334ee77b3051f606077317023617b1c43162fb/python_magic-0.4.24-py2.py3-none-any.whl\n",
            "Collecting urllib3==1.26.6 (from polly-python==0.1.1)\n",
            "\u001b[?25l  Downloading https://files.pythonhosted.org/packages/5f/64/43575537846896abac0b15c3e5ac678d787a4021e906703f1766bfb8ea11/urllib3-1.26.6-py2.py3-none-any.whl (138kB)\n",
            "\u001b[K     |################################| 143kB 90.9MB/s eta 0:00:01\n",
            "\u001b[?25hCollecting certifi==2021.10.8 (from polly-python==0.1.1)\n",
            "\u001b[?25l  Downloading https://files.pythonhosted.org/packages/37/45/946c02767aabb873146011e665728b680884cd8fe70dde973c640e45b775/certifi-2021.10.8-py2.py3-none-any.whl (149kB)\n",
            "\u001b[K     |################################| 153kB 92.7MB/s eta 0:00:01\n",
            "\u001b[?25hRequirement already satisfied: botocore>=1.20.73 in /usr/local/lib/python3.6/dist-packages (from polly-python==0.1.1) (1.20.112)\n",
            "Collecting rst2txt (from polly-python==0.1.1)\n",
            "  Downloading https://files.pythonhosted.org/packages/9d/d4/cee0341774dbdd4c128816ebc31fbbf39a11c79220a96a4f1152aa511caa/rst2txt-1.1.0-py2.py3-none-any.whl\n",
            "Collecting idna==2.10 (from polly-python==0.1.1)\n",
            "\u001b[?25l  Downloading https://files.pythonhosted.org/packages/a2/38/928ddce2273eaa564f6f50de919327bf3a00f091b5baba8dfa9460f3a8a8/idna-2.10-py2.py3-none-any.whl (58kB)\n",
            "\u001b[K     |################################| 61kB 46.0MB/s eta 0:00:01\n",
            "\u001b[?25hRequirement already satisfied: Cerberus==1.3.2 in /usr/local/lib/python3.6/dist-packages/Cerberus-1.3.2-py3.6.egg (from polly-python==0.1.1) (1.3.2)\n",
            "Collecting pytz==2021.1 (from polly-python==0.1.1)\n",
            "\u001b[?25l  Downloading https://files.pythonhosted.org/packages/70/94/784178ca5dd892a98f113cdd923372024dc04b8d40abe77ca76b5fb90ca6/pytz-2021.1-py2.py3-none-any.whl (510kB)\n",
            "\u001b[K     |################################| 512kB 93.4MB/s eta 0:00:01\n",
            "\u001b[?25hCollecting boto3>=1.17.73 (from polly-python==0.1.1)\n",
            "\u001b[?25l  Downloading https://files.pythonhosted.org/packages/c2/c3/18ac54b3f712bd09642c2d9135b24517c6ad107bb9e1467d7c6343a4943e/boto3-1.23.9-py3-none-any.whl (132kB)\n",
            "\u001b[K     |################################| 133kB 90.0MB/s eta 0:00:01\n",
            "\u001b[?25hCollecting joblib (from polly-python==0.1.1)\n",
            "\u001b[?25l  Downloading https://files.pythonhosted.org/packages/3e/d5/0163eb0cfa0b673aa4fe1cd3ea9d8a81ea0f32e50807b0c295871e4aab2e/joblib-1.1.0-py2.py3-none-any.whl (306kB)\n",
            "\u001b[K     |################################| 307kB 99.2MB/s eta 0:00:01\n",
            "\u001b[?25hCollecting Deprecated (from polly-python==0.1.1)\n",
            "  Downloading https://files.pythonhosted.org/packages/51/6a/c3a0408646408f7283b7bc550c30a32cc791181ec4618592eec13e066ce3/Deprecated-1.2.13-py2.py3-none-any.whl\n",
            "Collecting elucidatacloudpathlib==0.6.6 (from polly-python==0.1.1)\n",
            "\u001b[?25l  Downloading https://files.pythonhosted.org/packages/b1/d6/5162b68817dd93130dc9421f23a299ee6b243c0ff8a806370727ff10090f/elucidatacloudpathlib-0.6.6-py3-none-any.whl (50kB)\n",
            "\u001b[K     |################################| 51kB 44.3MB/s eta 0:00:01\n",
            "\u001b[?25hCollecting six==1.16.0 (from polly-python==0.1.1)\n",
            "  Downloading https://files.pythonhosted.org/packages/d9/5a/e7c31adbe875f2abbb91bd84cf2dc52d792b5a01506781dbcf25c91daf11/six-1.16.0-py2.py3-none-any.whl\n",
            "Collecting retrying==1.3.3 (from polly-python==0.1.1)\n",
            "  Downloading https://files.pythonhosted.org/packages/44/ef/beae4b4ef80902f22e3af073397f079c96969c69b2c7d52a57ea9ae61c9d/retrying-1.3.3.tar.gz\n",
            "Requirement already satisfied: python-dateutil==2.8.1 in /usr/local/lib/python3.6/dist-packages (from polly-python==0.1.1) (2.8.1)\n",
            "Collecting chardet==4.0.0 (from polly-python==0.1.1)\n",
            "\u001b[?25l  Downloading https://files.pythonhosted.org/packages/19/c7/fa589626997dd07bd87d9269342ccb74b1720384a4d739a1872bd84fbe68/chardet-4.0.0-py2.py3-none-any.whl (178kB)\n",
            "\u001b[K     |################################| 184kB 85.5MB/s eta 0:00:01\n",
            "\u001b[?25hRequirement already satisfied: numpy>=1.11.2 in /usr/local/lib/python3.6/dist-packages (from cmapPy->polly-python==0.1.1) (1.18.1)\n",
            "Collecting h5py>=2.6.0 (from cmapPy->polly-python==0.1.1)\n",
            "\u001b[?25l  Downloading https://files.pythonhosted.org/packages/70/7a/e53e500335afb6b1aade11227cdf107fca54106a1dca5c9d13242a043f3b/h5py-3.1.0-cp36-cp36m-manylinux1_x86_64.whl (4.0MB)\n",
            "\u001b[K     |################################| 4.0MB 91.4MB/s eta 0:00:01\n",
            "\u001b[?25hCollecting typing-extensions>=3.10.0.0; python_version < \"3.10\" (from black->polly-python==0.1.1)\n",
            "  Downloading https://files.pythonhosted.org/packages/45/6b/44f7f8f1e110027cf88956b59f2fad776cca7e1704396d043f89effd3a0e/typing_extensions-4.1.1-py3-none-any.whl\n",
            "Collecting platformdirs>=2 (from black->polly-python==0.1.1)\n",
            "  Downloading https://files.pythonhosted.org/packages/b1/78/dcfd84d3aabd46a9c77260fb47ea5d244806e4daef83aa6fe5d83adb182c/platformdirs-2.4.0-py3-none-any.whl\n",
            "Collecting typed-ast>=1.4.2; python_version < \"3.8\" and implementation_name == \"cpython\" (from black->polly-python==0.1.1)\n",
            "\u001b[?25l  Downloading https://files.pythonhosted.org/packages/e3/7c/7407838e9c540031439f2948bce2763cdd6882ebb72cc0a25b763c10529e/typed_ast-1.5.4-cp36-cp36m-manylinux_2_5_x86_64.manylinux1_x86_64.manylinux_2_12_x86_64.manylinux2010_x86_64.whl (831kB)\n",
            "\u001b[K     |################################| 839kB 83.7MB/s eta 0:00:01\n",
            "\u001b[?25hCollecting mypy-extensions>=0.4.3 (from black->polly-python==0.1.1)\n",
            "  Downloading https://files.pythonhosted.org/packages/5c/eb/975c7c080f3223a5cdaff09612f3a5221e4ba534f7039db34c35d95fa6a5/mypy_extensions-0.4.3-py2.py3-none-any.whl\n",
            "Collecting dataclasses>=0.6; python_version < \"3.7\" (from black->polly-python==0.1.1)\n",
            "  Downloading https://files.pythonhosted.org/packages/fe/ca/75fac5856ab5cfa51bbbcefa250182e50441074fdc3f803f6e76451fab43/dataclasses-0.8-py3-none-any.whl\n",
            "Collecting tomli>=1.1.0; python_version < \"3.11\" (from black->polly-python==0.1.1)\n",
            "  Downloading https://files.pythonhosted.org/packages/05/e4/74f9440db36734d7ba83c574c1e7024009ce849208a41f90e94a134dc6d1/tomli-1.2.3-py3-none-any.whl\n",
            "Collecting pathspec>=0.9.0 (from black->polly-python==0.1.1)\n",
            "  Downloading https://files.pythonhosted.org/packages/42/ba/a9d64c7bcbc7e3e8e5f93a52721b377e994c22d16196e2b0f1236774353a/pathspec-0.9.0-py2.py3-none-any.whl\n",
            "Collecting click>=8.0.0 (from black->polly-python==0.1.1)\n",
            "\u001b[?25l  Downloading https://files.pythonhosted.org/packages/4a/a8/0b2ced25639fb20cc1c9784de90a8c25f9504a7f18cd8b5397bd61696d7d/click-8.0.4-py3-none-any.whl (97kB)\n",
            "\u001b[K     |################################| 102kB 59.0MB/s ta 0:00:01\n",
            "\u001b[?25hRequirement already satisfied: jmespath<1.0.0,>=0.7.1 in /usr/local/lib/python3.6/dist-packages (from botocore>=1.20.73->polly-python==0.1.1) (0.9.5)\n",
            "Requirement already satisfied: pygments in /usr/local/lib/python3.6/dist-packages (from rst2txt->polly-python==0.1.1) (2.5.2)\n",
            "Requirement already satisfied: docutils>=0.11 in /usr/local/lib/python3.6/dist-packages (from rst2txt->polly-python==0.1.1) (0.15.2)\n",
            "Requirement already satisfied: setuptools in /usr/local/lib/python3.6/dist-packages (from Cerberus==1.3.2->polly-python==0.1.1) (45.2.0)\n",
            "Collecting s3transfer<0.6.0,>=0.5.0 (from boto3>=1.17.73->polly-python==0.1.1)\n"
          ]
        },
        {
          "name": "stdout",
          "output_type": "stream",
          "text": [
            "\u001b[?25l  Downloading https://files.pythonhosted.org/packages/7b/9c/f51775ebe7df5a7aa4e7c79ed671bde94e154bd968aca8d65bb24aba0c8c/s3transfer-0.5.2-py3-none-any.whl (79kB)\n",
            "\u001b[K     |################################| 81kB 56.8MB/s eta 0:00:01\n",
            "\u001b[?25hCollecting wrapt<2,>=1.10 (from Deprecated->polly-python==0.1.1)\n",
            "\u001b[?25l  Downloading https://files.pythonhosted.org/packages/e0/80/af9da7379ee6df583875d0aeb80f9d5f0bd5f081dd1ee5ce06587d8bfec7/wrapt-1.14.1-cp36-cp36m-manylinux_2_5_x86_64.manylinux1_x86_64.manylinux_2_17_x86_64.manylinux2014_x86_64.whl (74kB)\n",
            "\u001b[K     |################################| 81kB 54.5MB/s eta 0:00:01\n",
            "\u001b[?25hRequirement already satisfied: importlib-metadata; python_version < \"3.8\" in /usr/local/lib/python3.6/dist-packages (from elucidatacloudpathlib==0.6.6->polly-python==0.1.1) (1.5.0)\n",
            "Collecting cached-property; python_version < \"3.8\" (from h5py>=2.6.0->cmapPy->polly-python==0.1.1)\n",
            "  Downloading https://files.pythonhosted.org/packages/48/19/f2090f7dad41e225c7f2326e4cfe6fff49e57dedb5b53636c9551f86b069/cached_property-1.5.2-py2.py3-none-any.whl\n",
            "Requirement already satisfied: zipp>=0.5 in /usr/local/lib/python3.6/dist-packages (from importlib-metadata; python_version < \"3.8\"->elucidatacloudpathlib==0.6.6->polly-python==0.1.1) (3.1.0)\n",
            "Building wheels for collected packages: retrying\n",
            "  Building wheel for retrying (setup.py) ... \u001b[?25ldone\n",
            "\u001b[?25h  Created wheel for retrying: filename=retrying-1.3.3-cp36-none-any.whl size=11431 sha256=4057d85165f717d19bc9ae71a1b14fbf86e507971a978cfb14f594f3ffcab571\n",
            "  Stored in directory: /home/polly/.cache/pip/wheels/d7/a9/33/acc7b709e2a35caa7d4cae442f6fe6fbf2c43f80823d46460c\n",
            "Successfully built retrying\n",
            "\u001b[31mERROR: awscli 1.18.178 has requirement botocore==1.19.18, but you'll have botocore 1.20.112 which is incompatible.\u001b[0m\n",
            "\u001b[31mERROR: awscli 1.18.178 has requirement s3transfer<0.4.0,>=0.3.0, but you'll have s3transfer 0.5.2 which is incompatible.\u001b[0m\n",
            "\u001b[31mERROR: boto3 1.23.9 has requirement botocore<1.27.0,>=1.26.9, but you'll have botocore 1.20.112 which is incompatible.\u001b[0m\n",
            "Installing collected packages: chardet, certifi, urllib3, idna, requests, cached-property, h5py, six, cmapPy, typing-extensions, platformdirs, typed-ast, mypy-extensions, dataclasses, tomli, pathspec, click, black, python-magic, postpy2, rst2txt, pytz, s3transfer, boto3, joblib, wrapt, Deprecated, elucidatacloudpathlib, retrying, polly-python\n",
            "  Found existing installation: chardet 3.0.4\n",
            "    Uninstalling chardet-3.0.4:\n",
            "      Successfully uninstalled chardet-3.0.4\n",
            "  Found existing installation: certifi 2019.11.28\n",
            "    Uninstalling certifi-2019.11.28:\n",
            "      Successfully uninstalled certifi-2019.11.28\n",
            "  Found existing installation: urllib3 1.26.2\n",
            "    Uninstalling urllib3-1.26.2:\n",
            "      Successfully uninstalled urllib3-1.26.2\n",
            "  Found existing installation: idna 2.8\n",
            "    Uninstalling idna-2.8:\n",
            "      Successfully uninstalled idna-2.8\n",
            "  Found existing installation: requests 2.25.0\n",
            "    Uninstalling requests-2.25.0:\n",
            "      Successfully uninstalled requests-2.25.0\n",
            "  Found existing installation: six 1.14.0\n",
            "    Uninstalling six-1.14.0:\n",
            "      Successfully uninstalled six-1.14.0\n",
            "  Found existing installation: pytz 2019.3\n",
            "    Uninstalling pytz-2019.3:\n",
            "      Successfully uninstalled pytz-2019.3\n",
            "  Found existing installation: s3transfer 0.3.3\n",
            "    Uninstalling s3transfer-0.3.3:\n",
            "      Successfully uninstalled s3transfer-0.3.3\n",
            "  Found existing installation: boto3 1.17.4\n",
            "    Uninstalling boto3-1.17.4:\n",
            "      Successfully uninstalled boto3-1.17.4\n",
            "Successfully installed Deprecated-1.2.13 black-22.3.0 boto3-1.23.9 cached-property-1.5.2 certifi-2021.10.8 chardet-4.0.0 click-8.0.4 cmapPy-4.0.1 dataclasses-0.8 elucidatacloudpathlib-0.6.6 h5py-3.1.0 idna-2.10 joblib-1.1.0 mypy-extensions-0.4.3 pathspec-0.9.0 platformdirs-2.4.0 polly-python-0.1.1 postpy2-0.0.6 python-magic-0.4.24 pytz-2021.1 requests-2.25.1 retrying-1.3.3 rst2txt-1.1.0 s3transfer-0.5.2 six-1.16.0 tomli-1.2.3 typed-ast-1.5.4 typing-extensions-4.1.1 urllib3-1.26.6 wrapt-1.14.1\n",
            "\u001b[33mWARNING: You are using pip version 19.2.3, however version 21.3.1 is available.\n",
            "You should consider upgrading via the 'pip install --upgrade pip' command.\u001b[0m\n"
          ]
        }
      ],
      "source": [
        "!sudo pip3 install https://elucidatainc.github.io/PublicAssets/builds/polly-python/tests/testpolly/polly_python-0.1.1-py3-none-any.whl"
      ]
    },
    {
      "cell_type": "code",
      "execution_count": 2,
      "metadata": {},
      "outputs": [],
      "source": [
        "MAYANK_TEST_TOKEN = \"eyJjdHkiOiJKV1QiLCJlbmMiOiJBMjU2R0NNIiwiYWxnIjoiUlNBLU9BRVAifQ.g5bY7lulaD-Nlx3RTID5Sec6fMNxpVY_9VA5tvSY8hbW_CDjy6mCW-HSgkckIKJDTauYo8TxB14gEho97299dDQB0Y4sLH2h3l17kJNku_zQrOGlKDEDFJiVhjycPGee6WdjdwkrUMpCgqNA1gm8quGyfp7xFHXyP5IOrSIKfisK-TntBKiMtXSnETy194Vl0QhPl_1Wf0QLh5gOVHiHAzCPsHFRCG76gFGUI3vhXlHh8zoiwi2nE8kNs9Hc2Qxbfjlvw_rFzQFcPrzBT63gqPOHNqXCgiHk_1DTLmSZUzto46RTmVCpyl3nZvFrqv0x7aIwp4sKxb-bg8SaewFnOw.vTgaj0uNUmEFEt7s.07mi9KD_c30bMrrhNiZAu1P0PUzhvcqTr6mmgdTZcqvrAcbqk5izBhXoBDXyXEhdPZdphJFi95hIgU3gRld7Wflu9WJ-ZMMKeXRuZuoL7j9ZT_osIt0Q1XaPa_IbotlYlMStwGEEeoXPpe7He2easUrzzWEFE3J_7GC8u8a2lTZw_k3r9F-d9BTLhH4i-mjK1P4kcuL32AA31-ywfIuJbF2LRcMWIWrBcJprL0rjXkeBGavbTwTiKGt0iF1dE3eICTYxnQZmkcFGxiM7-IkAraA9Aqxh8eIImdqTkLpSfVwQaH1tXruOj29j7lVu4f5KcPFZT3HZeFgJM4pYo1uSuX6vIUL15OYB2MiXnOMRMmt6QdcYDBuqLeS9C7AJErbIelrlt2Qvd1MfQNMu4kbOnWBA1qCcc7CIyTLONRigYPKhCX0q7xMCiq4jVh3N3QDFVeUlv-TGSYXjGocO_W5q6j3gFzj3zIpnA2qZ6UXYmBwrJ8-vYy3qtyoUxPON6dEmQerkn7UGwyi6Ofy1TrkYz0JkcuCcNuzps-1hPLI8grJp5446Mcp9DwQcm8bLMIecC5BR8LV_GC7OAiIItQtdcK_--CDSLpLArnvRTFPjWrdqQtlzJVqjVvlXOztp3IlHDByzEXewBVZHn4iwwVH7zDoTN3Kg6myIuLzxByjNxeq_EK6oMYvibFAHWDHWlGnPHtitI4O3mnffPka6Zut-Dz0aNGLLeOCfyBrsn9TiH-ByQ-Nu6NiblAf5nOaVn0MtAToxnYib1MhJEJL4aL_c309T1T3FhqR1pPZ4ohktMo-NqexDGuH_r-Im6Xw5xzUtUk8OxfvFf0QM7HFNwvEkaVaR5AVPJe4fy_3lhdCaGGOqCeNaPrlaNlFdPqspfrPoMrOCpIezqk6rd3gXqoLTm26F0N_q32r0IQOBjOiEvEYIv1XJvdm5JRCmTwAT_KjcBKVupeS-YgkVYxlS1Izg2T1-Ec48zL6lDYouOlOTfLgJKEGLL5vF7mlmXxY-n7O-tzJIFxZ3cCo1B90amR2avV0GOBMk2YmJn5dtto5uNf9M9BRrr7NG7rI90g5J2Tdm1y45n7u4d0tedf_mDK4GEvxJSbtbk96q_chYGl_awc3V3HL_EBU_9vFgdxjah4ZXCfYrpS_vCxv-JsMgIhAtJrUfWevVGGs0ciEHdJG_6ZXIJExB7K8htTyXD_yX_cyfOKCNVKInvqyXPhu-Z_Xi4gcwM4WOVfrYEB_fORPWTm3Rp8wyBoSkrD_dPGKVumBuFMsC2VK2q3h-YuuaQ3jukl2Vx_JjpPfMtPGCeaBuAqSCSh8F3nO2MaV-jzGOUr65Cc_jTyfBrZNy.40kzB7NuLymN4ncWkLtpbg\"\n",
        "\n",
        "VIVEK_TEST_TOKEN = \"eyJjdHkiOiJKV1QiLCJlbmMiOiJBMjU2R0NNIiwiYWxnIjoiUlNBLU9BRVAifQ.LKlLCi0h5y2xtdaViKkPfwJ8ftyIyURGtLnVl0IqV32ZwbQuSRio0CfXTM5976Noyc_2IOrwHmBris7wQmCV3poXsfy1InZgyC34sXZSt9t0fb9wTVGPEsI6lcOQlGdB_6_pRn-0jDMbMEoVHAVN3pS9QWcFhd07a78Um99rMDFhLqQLzIwVctLJ_1yUeGkZOumluyLEbXnzmvrGF4GXzNpAn_j9BvipdaVVsIZ5WFn2bVyaP7Cm3VI19Gqkwv28YUp-Mcp28WVP6rhDiwiEllFujSK3eRp1IlH9wphKWKuv2KzA_c7Sj0qWXMGQnZBblPbqH_nz-hxjn7rDRgP0pw.8rRrPIR2lXQq2JqV.9_bRIxfnLKgDqMQbl143VbxlwlTcNYUX4M6XhHN_R95v5U7R1euyYLwK4Kk2VzLAcC4DXm5qijaVYwnjLowQwei8SX5v9btyVuFO4qnwcYMoD4qWy8XopRoUWWLlVp6XpIPCgS6l209xKMojr_bHBgLRsK4JsrFfv18OybRRGFYH4qtY825tL2gPYGF15pDE7s2zkVxZoqeB18uQ4zt4pGSEobMuKTK_pwPRB2CrtIESrl7_VVrXe5YjGiROtMlVhHWzSdvdcKyzV-GV-r-1DAyGxNeplC96OWo6z3r-F65H0HLeohPWi8wbVFB68FXIOnPPn4ouKkhO1jvjtl2b5TpP0KeCq7eBbjuWFMBz1sT54vv54qPWry2Pu5q15GM9Bl5pEstsbZH5mMnQ98J_C_p7Wzu3AihkBYLJNykjeThFZ3XEXyK6h0Z1HcZntLWUef5W0rmu0KoD216i1NMyxdO1x5d_PWwur9EiUdcfpk2EqL0Ght2BiCRqAPiYIc2IXHtqVYlhr0eX-gND7WKdmvrhCImwEtGi9D2INZN-wh9FabDWxdXN86iH5NmF9BvCxSNdqYchhp4_I1qwte5O8FNEwUcjM_n3y8BkoJBUoBjtQH8MTm069aDxfzgti_ZQhiBUWLtG3Hzn0wZgHOweLrR-ZxnlgdjT9YJ1CmULl6KZbN5C-p69dgtvLZyF__JtLUHlZdxS_8XBurbiZn0soxnazIM_KYVnggYTOZhkybgkVjT2OHjdlkB3r8VAcdQLYOFY_cimX_0gWjhIKpHfqo6d2vxtFzEf7AEzq_L5YfJpVjB7BUrOnh7gB37KhxIpTq2UmUR17PIQ3dfSuBn-lpunEhWcvzdQYNC7dj2xeatwKbE7a_MbGufqcNAOylq5Wj-uiA8HE0Cv_tmbh0t-9Cxp5DD5f-8tL3iSV__EndNP5DiKsAMa5waxc7LoqGjDAHemskoDLsoOXQSSaDjTOMszkqMzFr2SmNiLdTR72Mm58l8WMmvs0s47qfJaQoGbAt1eyGj3-LqkH3XEcBk9VI3Ov5qvtcXbA2cj1qUsOoWp26xeBQ1pue9yyFtndUqrfSo3z8AXANe5lHckgSDeYkXdMbnWRnvHpGJFwNQGNNZPi6tX-aH6z7tu-Qz_CeCp08pkC_zl9bYKCJpOwCxiqQwfVlEY5lXgAWyFtULnt0-7qVkpkZtnBb7HGEqMD0GfURAgFdgRcZFpFjttEZDudOWCIq6IctLxTGnFV_T313oF102Rf_JoecBjPZaN8k5dDbvt0vj5NEFMi0njxTNoSLmNOpdHsy5RECFgy0q6j3GlD7izmcdqnhljcgtiTOODCgV51v_xonS_.MOiR1KBDWOqArOG0PqMg8A\"\n",
        "\n",
        "\n",
        "MAYANK_TOKEN_API_TEST = \"bTVoNTVkaXZ6Nzo6TzcxNzRwWTJnejNtMzUyWEZpeG1tM3FtNFZ2cFlTNVMzT3NhdWRLWg==\"\n",
        "\n",
        "MAYANK_POLLY_TOKEN = \"eyJjdHkiOiJKV1QiLCJlbmMiOiJBMjU2R0NNIiwiYWxnIjoiUlNBLU9BRVAifQ.mHXHH6_nRtoEsPvCT7dAbkAXHcH4HZjmKIHibgu_4YCJHTRI4Bmcq-_ShCkG28Cp2hsOHYldahaIeSEdEAsZoqf92CZ2d992eLIsJ0DuXkDflu9wo5YF70YUj9QgNx6d20eqm5e4yiOO8fKZZ0bK2ynkvMaPcy5LHjj697ORJN-UiOuUVj59opNAuzmnVz55StLlbL4wFtl00nnSf_Hk7vk1qz4lYO1jqpPg7sWjRduX6DecokL1KRMhD5P1_1VPewz0cy1w-roWKPF1gq_egrl286ZVP-D-cevW5pxUGAVyRk2a3ZoTJ_dSuz4mZkFKak43yKg3WAQD9SSxv2UKPw.KZ9pq0H-XUM7SfQu.0rNSF9avlDd7nDQaKxmfDle7DaRqX_C4GeVzB_Egnk5wWBlSRg8N86w-_CXvNyM5MATDb0J64lU6juD037A7DR-znGLu1bNen_Yog_qqgfAK4brsKe7cPbmKVUUBBxu53XMp6IglK3P8ZlWitx9JGeZ6gVLQ6SzVaCyBmHBm4i0WxM610J2TWWQj_HlAtrUf6bV1UrAtG4jq82rxUEOjPrQWF_Qdtl7hmBkW6QZ-YjfFukj1sn1IuVGwMTwNAOZmHENlpYVGW-beGoEEEASCJSJLN4Jd7ML9Xoo-bqMDenvIBuLe3YS9YrlY3cZpF4fjZrsgWglc4K7Lb5NoxYE1MHyqnFKo5BF3vIUVo6en_jXTw700iBHmqiiBTWcj4QZy3VY3xyReLEEeJDQ3aKZsP5fq8bbYfeYpbsKr3lOQov8wVBYuGGJ3A_Nm8d36c9JONiBqATg0ovCR2dT0qwBLIKRbn2mi62jsLICiYOz9e8M1t4il96m1JcOEpwO7K-VLjMbL62mc7X1p8wnX-fTqYXVTptJHJcsSDpm_mllVDkHQ7eHdaw_h_XaD76EwftjHAnBLsUfFIDcQ3ZdwVr69DTgHAYbo3G5WCi5CmqTqb6pDEI9iazk7R_-25mTR1UtJebv1Rg8XGznOUm5TJgasmVTyMLOx3hSir42qotEkx1V52ISoLjodZfSb4AhcLLkv85ViADFNka3W3d2yH8yZncBBW7AmrqNIn8loHtxfrl8jAV_smm0xeaAQoJuOSnjPr_RTFOuAmaFViXFS0OfFIef-S7mNWPgpoJq-014Gb6qSB9V1IbbIpEMAVEze4xchjQDXmwOWqmTEtnamzte-i06GoCtI6lCw-Qa7QjkoCTFPZ7ohGrhnajzAVldXjFuX05EYYS9M352N4x5UlPs3H4qJkVNISajAs75rm1parne19WTumTiG1gJPsYSyFbVWELUwYwXGOTdo-3DKw84ADZkXnxPJHrTy_crMD2su49SClAlKmBzb94tCEEJExmr6QmrrEyExf78CzaNKLha-RiUSfjLZvcABO_MAnoadKLJF0apNCfXUgpjoJFbuXCxumc2m8JiJLsr29pz0htryRtPoqSAkZtDXkJZQe_ITXfeAMVnWL06kSzAnXNOmDGmZcYpLB1IPar-x7NZuk8MGrMFf3Nko2wPKz9sfGthhRiiC_GIMgWf9LlY-F7jHdiBMR_wn4-L4uo35SGuHdP46qgXpHWmXf6HMAIN6AbVZK57G0QhKXucssFuF38AneMw6Qj6J_An6uPXpgXoY_6g5224rQ7vWntcOe6fcy4IntsYmtgHk8artmdsB8QE.MlxVBt6QtAjLhS8OZ27-Xw\"\n",
        "\n",
        "VIVEK_POLLY_TOKEN = \"eyJjdHkiOiJKV1QiLCJlbmMiOiJBMjU2R0NNIiwiYWxnIjoiUlNBLU9BRVAifQ.iSBSXeRuepxuwy1mKGdplLtQmeEAosUCBJwHQBkhbDMjpLqW1_pzLMb4Z-hp84a3nfIDDglR3GljopelTfCJngWbpPUFWIo-Kn8rQXzw_c4m1JXKvLk01st2kqbdo-lP02hRzqHUR-mWP9PSMzSBSKDFUks6ZDMCF2y7zJNN_OIcRFjnTwHe0r6lG1sbxFSLbPg0kyM-Uu2XaOnA85HoVu5E1wYVW14QYnZFQmk1DPjHy0Sp0D-VL4_mFfxMPjLRlsc2o_UXUzQdvcgEBMVBZXqh54EA6ADMRlgN8KnQZjXBa-8clm4X0P_Ww-EKs8_s2dBw4ecLcfPdvKdQ986Juw.4oFJ3RUBgQUEhn9K.2pxePNY-GwOWHRFf-bkZfeQVrb0Q7ya4mmv7iSAO2LzjU63k6ZZVlf17xpXJKUL6K45AQsJ7gRePN6-XooCMajBN9BbtGJwNaAx0WxodukCThreBNkkyb8rrp37aD36oHLZvPafhUrZV0dSI6n0_1Rs5D0nzmXETp7A2mOCpaRF_uvYFT1EQ2Ke9TFJ-z4HiwbUm_CHbWY2MDxj-u3tbdKld5NKs4D_OxWlJplbv5pS8GRARVVY3Ddfex7_JqAmwZld6Uh63WsUK7It3LvpP0_VV9QrZ78WydtMjWw76BANt6Pg_2hDn6pikhG8GE_jJeDallH1dYQ4gjLZeeMSHqiQkKOwTlraWGbRWJQsxF1J7E4VcP_h8CMqLhrOoigypJtWYeZcxlIxNxWhAZnPD2Kg39zGlmH8iXwUwjieNQippO8ePaxqdLAZq6ltsypuipL9Ft7VHam9EtITFm1Rvc9qxMagW-tgz8ePHxptfyPV0se_DBkHXFvNVxYHN1xReWQtCLCnd5RSX0XCVQfnxybpieCEkiHCpLwxhfQpA9Py00ewkxfAIOF9u2pDRFdD5346L8bUV6icI1mUPcejMl0SKPiNn9msH_FU1MOywJ4GwdDY-MPvrygsxS_pf-ik2Besx_eQD2fidh0895gJYvGSYL41afvoWngDOZORRUUmMie97F8HVDFXLBmR_iPF7Hh5bAbeIxlJv1K-4hd-G5XGVJXsMIAj0vVl17hSDkHZ2EkfsFZtdAAxUe-9khVm3SI3NUqignxNA7Du4qG5H8SaEiob4U6rBe0oSmmDEzsY_KspDa-fxhvH8LYFqWuSmkHGAruG7QRM4gzarkqmclO4ziHflmhmcS2onZGoIiT_jPAUYqsTWmEBQ0_k6lWpwhjwn0wDKuHDH0L09IZ4WthnbmYjEbqbeU8j1EYRu5g8BDi2b0j5yaV1GaI0bldYKfehymfO4CikiDVSLcQhRT-kJ5GQOB8M6mPUwcgALmzYG7ukYADEVgeP99Qi1M9Ofi1iuVeczowUcveWIUXkArssfNgsWREMrX-7shy-NJ8o-0T07TnsqOdAoWVioUcXSQB6jE8rpoLebH0tOimyIv12d2CGCvF3ukolC8uC6vrmgIcI_r22UxZKy76ROZ6kdOonYOItqQlAetnpLr-K8EAsgO4HGs-5ng6JBSohzXtYEBMOfFYqPdWz6WFNKiE55EruvgFwoDXE0TZ3BhzqWMoIe37jw90XGfoBRPi0UydCLv8pwcuDF5Mbn7uGNol1D3lT9CUS2E1aWn9zIilbBMK-1RBp3u-7z1sdJrQZQl1MAul2jAxE94bfqp_o.PkBS8eoyo1QrkOptwraqUw\"\n",
        "\n",
        "VIVEK_API_TOKEN = \"M3JpemR5M3dyNjo6Skx1dEV2M29tVjJrWWhkeUZiVVpVOGY3WlJMOGlRVno1dWowSFRxeQ==\""
      ]
    },
    {
      "cell_type": "code",
      "execution_count": 3,
      "metadata": {},
      "outputs": [],
      "source": [
        "from polly.auth import Polly"
      ]
    },
    {
      "cell_type": "code",
      "execution_count": 4,
      "metadata": {},
      "outputs": [],
      "source": [
        "Polly.auth(MAYANK_TEST_TOKEN, env=\"testpolly\")"
      ]
    },
    {
      "cell_type": "code",
      "execution_count": 5,
      "metadata": {},
      "outputs": [],
      "source": [
        "from polly.omixatlas import OmixAtlas"
      ]
    },
    {
      "cell_type": "code",
      "execution_count": 6,
      "metadata": {},
      "outputs": [],
      "source": [
        "omix_obj_test = OmixAtlas()"
      ]
    },
    {
      "cell_type": "code",
      "execution_count": 7,
      "metadata": {},
      "outputs": [
        {
          "data": {
            "text/plain": [
              "{'data': {'repo_name': 'geo',\n",
              "  'repo_id': '1643016586529',\n",
              "  'indexes': {'gct_metadata': 'geo_gct_metadata',\n",
              "   'h5ad_metadata': 'geo_h5ad_metadata',\n",
              "   'csv': 'geo_csv',\n",
              "   'files': 'geo_files',\n",
              "   'json': 'geo_json',\n",
              "   'ipynb': 'geo_ipynb',\n",
              "   'gct_data': 'geo_gct_data',\n",
              "   'h5ad_data': 'geo_h5ad_data'},\n",
              "  'v2_indexes': {'csv': 'geo_csv',\n",
              "   'files': 'geo_files',\n",
              "   'gct_col_metadata': 'geo_gct_col_metadata',\n",
              "   'gct_row_metadata': 'geo_gct_row_metadata',\n",
              "   'h5ad_col_metadata': 'geo_h5ad_col_metadata',\n",
              "   'h5ad_row_metadata': 'geo_h5ad_row_metadata',\n",
              "   'ipynb': 'geo_ipynb',\n",
              "   'json': 'geo_json'},\n",
              "  'sources': [{'geo': 739}],\n",
              "  'datatypes': [{'transcriptomics': 739}],\n",
              "  'dataset_count': 739,\n",
              "  'disease_count': 400,\n",
              "  'tissue_count': 205,\n",
              "  'organism_count': 4,\n",
              "  'cell_line_count': 216,\n",
              "  'cell_type_count': 190,\n",
              "  'drug_count': 96,\n",
              "  'data_type_count': 1,\n",
              "  'data_source_count': 1,\n",
              "  'sample_count': 243125,\n",
              "  'normal_sample_count': 156266}}"
            ]
          },
          "execution_count": 7,
          "metadata": {},
          "output_type": "execute_result"
        }
      ],
      "source": [
        "omix_obj_test.omixatlas_summary(\"geo\")"
      ]
    },
    {
      "cell_type": "code",
      "execution_count": 8,
      "metadata": {},
      "outputs": [],
      "source": [
        "Polly.auth(VIVEK_TEST_TOKEN, env=\"testpolly\")"
      ]
    },
    {
      "cell_type": "code",
      "execution_count": 9,
      "metadata": {},
      "outputs": [],
      "source": [
        "omix_obj_test_vivek = OmixAtlas()"
      ]
    },
    {
      "cell_type": "code",
      "execution_count": 10,
      "metadata": {},
      "outputs": [
        {
          "data": {
            "text/plain": [
              "{'data': {'repo_name': 'geo',\n",
              "  'repo_id': '1643016586529',\n",
              "  'indexes': {'gct_metadata': 'geo_gct_metadata',\n",
              "   'h5ad_metadata': 'geo_h5ad_metadata',\n",
              "   'csv': 'geo_csv',\n",
              "   'files': 'geo_files',\n",
              "   'json': 'geo_json',\n",
              "   'ipynb': 'geo_ipynb',\n",
              "   'gct_data': 'geo_gct_data',\n",
              "   'h5ad_data': 'geo_h5ad_data'},\n",
              "  'v2_indexes': {'csv': 'geo_csv',\n",
              "   'files': 'geo_files',\n",
              "   'gct_col_metadata': 'geo_gct_col_metadata',\n",
              "   'gct_row_metadata': 'geo_gct_row_metadata',\n",
              "   'h5ad_col_metadata': 'geo_h5ad_col_metadata',\n",
              "   'h5ad_row_metadata': 'geo_h5ad_row_metadata',\n",
              "   'ipynb': 'geo_ipynb',\n",
              "   'json': 'geo_json'},\n",
              "  'sources': [{'geo': 739}],\n",
              "  'datatypes': [{'transcriptomics': 739}],\n",
              "  'dataset_count': 739,\n",
              "  'disease_count': 400,\n",
              "  'tissue_count': 205,\n",
              "  'organism_count': 4,\n",
              "  'cell_line_count': 216,\n",
              "  'cell_type_count': 190,\n",
              "  'drug_count': 96,\n",
              "  'data_type_count': 1,\n",
              "  'data_source_count': 1,\n",
              "  'sample_count': 243125,\n",
              "  'normal_sample_count': 156266}}"
            ]
          },
          "execution_count": 10,
          "metadata": {},
          "output_type": "execute_result"
        }
      ],
      "source": [
        "omix_obj_test_vivek.omixatlas_summary(\"geo\")"
      ]
    },
    {
      "cell_type": "code",
      "execution_count": 11,
      "metadata": {},
      "outputs": [],
      "source": [
        "Polly.auth(MAYANK_POLLY_TOKEN)"
      ]
    },
    {
      "cell_type": "code",
      "execution_count": 12,
      "metadata": {},
      "outputs": [],
      "source": [
        "omix_obj_prod = OmixAtlas()"
      ]
    },
    {
      "cell_type": "code",
      "execution_count": 13,
      "metadata": {},
      "outputs": [
        {
          "data": {
            "text/plain": [
              "{'data': {'repo_name': 'geo',\n",
              "  'repo_id': '9',\n",
              "  'indexes': {'gct_metadata': 'geo_gct_metadata',\n",
              "   'h5ad_metadata': 'geo_h5ad_metadata',\n",
              "   'csv': 'geo_csv',\n",
              "   'files': 'geo_files',\n",
              "   'ipynb': 'geo_ipynb',\n",
              "   'gct_data': 'geo_gct_data',\n",
              "   'h5ad_data': 'geo_h5ad_data'},\n",
              "  'v2_indexes': {'csv': 'geo_csv',\n",
              "   'files': 'geo_files',\n",
              "   'gct_col_metadata': 'geo_gct_col_metadata',\n",
              "   'gct_row_metadata': 'geo_gct_row_metadata',\n",
              "   'h5ad_col_metadata': 'geo_h5ad_col_metadata',\n",
              "   'h5ad_row_metadata': 'geo_h5ad_row_metadata',\n",
              "   'ipynb': 'geo_ipynb',\n",
              "   'json': 'geo_json'},\n",
              "  'sources': [{'geo': 97777}],\n",
              "  'datatypes': [{'transcriptomics': 97738},\n",
              "   {'raw counts transcriptomics': 39}],\n",
              "  'dataset_count': 97777,\n",
              "  'disease_count': 3899,\n",
              "  'tissue_count': 1106,\n",
              "  'organism_count': 299,\n",
              "  'cell_line_count': 5683,\n",
              "  'cell_type_count': 872,\n",
              "  'drug_count': 1891,\n",
              "  'data_type_count': 2,\n",
              "  'data_source_count': 1,\n",
              "  'sample_count': 2263489,\n",
              "  'normal_sample_count': 1604049}}"
            ]
          },
          "execution_count": 13,
          "metadata": {},
          "output_type": "execute_result"
        }
      ],
      "source": [
        "omix_obj_prod.omixatlas_summary(\"geo\")"
      ]
    },
    {
      "cell_type": "code",
      "execution_count": 14,
      "metadata": {},
      "outputs": [],
      "source": [
        "Polly.auth(VIVEK_POLLY_TOKEN)"
      ]
    },
    {
      "cell_type": "code",
      "execution_count": 15,
      "metadata": {},
      "outputs": [],
      "source": [
        "omix_obj_vivek_prod = OmixAtlas()"
      ]
    },
    {
      "cell_type": "code",
      "execution_count": 16,
      "metadata": {},
      "outputs": [
        {
          "data": {
            "text/plain": [
              "{'data': {'repo_name': 'geo',\n",
              "  'repo_id': '9',\n",
              "  'indexes': {'gct_metadata': 'geo_gct_metadata',\n",
              "   'h5ad_metadata': 'geo_h5ad_metadata',\n",
              "   'csv': 'geo_csv',\n",
              "   'files': 'geo_files',\n",
              "   'ipynb': 'geo_ipynb',\n",
              "   'gct_data': 'geo_gct_data',\n",
              "   'h5ad_data': 'geo_h5ad_data'},\n",
              "  'v2_indexes': {'csv': 'geo_csv',\n",
              "   'files': 'geo_files',\n",
              "   'gct_col_metadata': 'geo_gct_col_metadata',\n",
              "   'gct_row_metadata': 'geo_gct_row_metadata',\n",
              "   'h5ad_col_metadata': 'geo_h5ad_col_metadata',\n",
              "   'h5ad_row_metadata': 'geo_h5ad_row_metadata',\n",
              "   'ipynb': 'geo_ipynb',\n",
              "   'json': 'geo_json'},\n",
              "  'sources': [{'geo': 97777}],\n",
              "  'datatypes': [{'transcriptomics': 97738},\n",
              "   {'raw counts transcriptomics': 39}],\n",
              "  'dataset_count': 97777,\n",
              "  'disease_count': 3899,\n",
              "  'tissue_count': 1106,\n",
              "  'organism_count': 299,\n",
              "  'cell_line_count': 5683,\n",
              "  'cell_type_count': 872,\n",
              "  'drug_count': 1891,\n",
              "  'data_type_count': 2,\n",
              "  'data_source_count': 1,\n",
              "  'sample_count': 2263489,\n",
              "  'normal_sample_count': 1604049}}"
            ]
          },
          "execution_count": 16,
          "metadata": {},
          "output_type": "execute_result"
        }
      ],
      "source": [
        "omix_obj_vivek_prod.omixatlas_summary(\"geo\")"
      ]
    },
    {
      "cell_type": "code",
      "execution_count": 20,
      "metadata": {},
      "outputs": [],
      "source": [
        "Polly.auth(VIVEK_API_TOKEN, env=\"testpolly\")"
      ]
    },
    {
      "cell_type": "code",
      "execution_count": 21,
      "metadata": {},
      "outputs": [],
      "source": [
        "omix_obj_auth_api_test = OmixAtlas()"
      ]
    },
    {
      "cell_type": "code",
      "execution_count": 22,
      "metadata": {},
      "outputs": [
        {
          "data": {
            "text/plain": [
              "{'data': {'repo_name': 'geo',\n",
              "  'repo_id': '1643016586529',\n",
              "  'indexes': {'gct_metadata': 'geo_gct_metadata',\n",
              "   'h5ad_metadata': 'geo_h5ad_metadata',\n",
              "   'csv': 'geo_csv',\n",
              "   'files': 'geo_files',\n",
              "   'json': 'geo_json',\n",
              "   'ipynb': 'geo_ipynb',\n",
              "   'gct_data': 'geo_gct_data',\n",
              "   'h5ad_data': 'geo_h5ad_data'},\n",
              "  'v2_indexes': {'csv': 'geo_csv',\n",
              "   'files': 'geo_files',\n",
              "   'gct_col_metadata': 'geo_gct_col_metadata',\n",
              "   'gct_row_metadata': 'geo_gct_row_metadata',\n",
              "   'h5ad_col_metadata': 'geo_h5ad_col_metadata',\n",
              "   'h5ad_row_metadata': 'geo_h5ad_row_metadata',\n",
              "   'ipynb': 'geo_ipynb',\n",
              "   'json': 'geo_json'},\n",
              "  'sources': [{'geo': 739}],\n",
              "  'datatypes': [{'transcriptomics': 739}],\n",
              "  'dataset_count': 739,\n",
              "  'disease_count': 400,\n",
              "  'tissue_count': 205,\n",
              "  'organism_count': 4,\n",
              "  'cell_line_count': 216,\n",
              "  'cell_type_count': 190,\n",
              "  'drug_count': 96,\n",
              "  'data_type_count': 1,\n",
              "  'data_source_count': 1,\n",
              "  'sample_count': 243125,\n",
              "  'normal_sample_count': 156266}}"
            ]
          },
          "execution_count": 22,
          "metadata": {},
          "output_type": "execute_result"
        }
      ],
      "source": [
        "omix_obj_auth_api_test.omixatlas_summary(\"geo\")"
      ]
    },
    {
      "cell_type": "code",
      "execution_count": null,
      "metadata": {},
      "outputs": [],
      "source": []
    }
  ],
  "metadata": {
    "kernelspec": {
      "display_name": "Python 3",
      "language": "python",
      "name": "python3"
    },
    "language_info": {
      "codemirror_mode": {
        "name": "ipython",
        "version": 3
      },
      "file_extension": ".py",
      "mimetype": "text/x-python",
      "name": "python",
      "nbconvert_exporter": "python",
      "pygments_lexer": "ipython3",
      "version": "3.6.9"
    }
  },
  "nbformat": 4,
  "nbformat_minor": 2
}
