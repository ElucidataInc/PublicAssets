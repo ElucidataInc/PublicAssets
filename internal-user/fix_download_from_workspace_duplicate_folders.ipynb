{
 "cells": [
  {
   "cell_type": "code",
   "execution_count": 1,
   "id": "76351cd7",
   "metadata": {},
   "outputs": [
    {
     "name": "stdout",
     "output_type": "stream",
     "text": [
      "Collecting polly-python==1.4.0\n",
      "  Downloading https://elucidatainc.github.io/PublicAssets/builds/polly-python/tests/testpolly/polly_python-1.4.0-py3-none-any.whl (158 kB)\n",
      "\u001b[2K     \u001b[90m━━━━━━━━━━━━━━━━━━━━━━━━━━━━━━━━━━━━━━━\u001b[0m \u001b[32m158.7/158.7 kB\u001b[0m \u001b[31m4.1 MB/s\u001b[0m eta \u001b[36m0:00:00\u001b[0ma \u001b[36m0:00:01\u001b[0m\n",
      "\u001b[?25hRequirement already satisfied: retrying==1.3.4 in ./.environments/miniconda/envs/polly/lib/python3.10/site-packages (from polly-python==1.4.0) (1.3.4)\n",
      "Requirement already satisfied: mixpanel==4.10.0 in ./.environments/miniconda/envs/polly/lib/python3.10/site-packages (from polly-python==1.4.0) (4.10.0)\n",
      "Requirement already satisfied: tqdm==4.65.0 in ./.environments/miniconda/envs/polly/lib/python3.10/site-packages (from polly-python==1.4.0) (4.65.0)\n",
      "Requirement already satisfied: botocore>=1.27.0 in ./.environments/miniconda/envs/polly/lib/python3.10/site-packages (from polly-python==1.4.0) (1.31.40)\n",
      "Requirement already satisfied: python-jose==3.3.0 in ./.environments/miniconda/envs/polly/lib/python3.10/site-packages (from polly-python==1.4.0) (3.3.0)\n",
      "Requirement already satisfied: pydantic==1.10.12 in ./.environments/miniconda/envs/polly/lib/python3.10/site-packages (from polly-python==1.4.0) (1.10.12)\n",
      "Requirement already satisfied: boto3>=1.24.0 in ./.environments/miniconda/envs/polly/lib/python3.10/site-packages (from polly-python==1.4.0) (1.28.40)\n",
      "Requirement already satisfied: Deprecated>=1.2.12 in ./.environments/miniconda/envs/polly/lib/python3.10/site-packages (from polly-python==1.4.0) (1.2.14)\n",
      "Requirement already satisfied: cloudpathlib>=0.15.0 in ./.environments/miniconda/envs/polly/lib/python3.10/site-packages (from polly-python==1.4.0) (0.16.0)\n",
      "Requirement already satisfied: cryptography<=38.0.0,>=37.0.1 in ./.environments/miniconda/envs/polly/lib/python3.10/site-packages (from polly-python==1.4.0) (38.0.0)\n",
      "Requirement already satisfied: plotly>=5.0.0 in ./.environments/miniconda/envs/polly/lib/python3.10/site-packages (from polly-python==1.4.0) (5.18.0)\n",
      "Requirement already satisfied: pandas>=1.3.5 in ./.environments/miniconda/envs/polly/lib/python3.10/site-packages (from polly-python==1.4.0) (1.5.3)\n",
      "Requirement already satisfied: joblib>=1.2.0 in ./.environments/miniconda/envs/polly/lib/python3.10/site-packages (from polly-python==1.4.0) (1.3.2)\n",
      "Requirement already satisfied: datapane>=0.10.3 in ./.environments/miniconda/envs/polly/lib/python3.10/site-packages (from polly-python==1.4.0) (0.16.7)\n",
      "Requirement already satisfied: elucidatacmapPy==3.3.4 in ./.environments/miniconda/envs/polly/lib/python3.10/site-packages (from polly-python==1.4.0) (3.3.4)\n",
      "Requirement already satisfied: pytest>=6.2.5 in ./.environments/miniconda/envs/polly/lib/python3.10/site-packages (from polly-python==1.4.0) (7.4.3)\n",
      "Requirement already satisfied: rst2txt==1.1.0 in ./.environments/miniconda/envs/polly/lib/python3.10/site-packages (from polly-python==1.4.0) (1.1.0)\n",
      "Collecting requests==2.25.1\n",
      "  Downloading requests-2.25.1-py2.py3-none-any.whl (61 kB)\n",
      "\u001b[2K     \u001b[90m━━━━━━━━━━━━━━━━━━━━━━━━━━━━━━━━━━━━━━━━\u001b[0m \u001b[32m61.2/61.2 kB\u001b[0m \u001b[31m2.2 MB/s\u001b[0m eta \u001b[36m0:00:00\u001b[0m\n",
      "\u001b[?25hRequirement already satisfied: numpy>=1.11.2 in ./.environments/miniconda/envs/polly/lib/python3.10/site-packages (from elucidatacmapPy==3.3.4->polly-python==1.4.0) (1.25.2)\n",
      "Requirement already satisfied: h5py>=2.6.0 in ./.environments/miniconda/envs/polly/lib/python3.10/site-packages (from elucidatacmapPy==3.3.4->polly-python==1.4.0) (3.10.0)\n",
      "Requirement already satisfied: six in ./.environments/miniconda/envs/polly/lib/python3.10/site-packages (from elucidatacmapPy==3.3.4->polly-python==1.4.0) (1.16.0)\n",
      "Requirement already satisfied: urllib3 in ./.environments/miniconda/envs/polly/lib/python3.10/site-packages (from mixpanel==4.10.0->polly-python==1.4.0) (1.26.16)\n",
      "Requirement already satisfied: typing-extensions>=4.2.0 in ./.environments/miniconda/envs/polly/lib/python3.10/site-packages (from pydantic==1.10.12->polly-python==1.4.0) (4.7.1)\n",
      "Requirement already satisfied: ecdsa!=0.15 in ./.environments/miniconda/envs/polly/lib/python3.10/site-packages (from python-jose==3.3.0->polly-python==1.4.0) (0.18.0)\n",
      "Requirement already satisfied: pyasn1 in ./.environments/miniconda/envs/polly/lib/python3.10/site-packages (from python-jose==3.3.0->polly-python==1.4.0) (0.5.0)\n",
      "Requirement already satisfied: rsa in ./.environments/miniconda/envs/polly/lib/python3.10/site-packages (from python-jose==3.3.0->polly-python==1.4.0) (4.7.2)\n",
      "Requirement already satisfied: chardet<5,>=3.0.2 in ./.environments/miniconda/envs/polly/lib/python3.10/site-packages (from requests==2.25.1->polly-python==1.4.0) (4.0.0)\n",
      "Requirement already satisfied: certifi>=2017.4.17 in ./.environments/miniconda/envs/polly/lib/python3.10/site-packages (from requests==2.25.1->polly-python==1.4.0) (2023.7.22)\n",
      "Requirement already satisfied: idna<3,>=2.5 in ./.environments/miniconda/envs/polly/lib/python3.10/site-packages (from requests==2.25.1->polly-python==1.4.0) (2.10)\n",
      "Requirement already satisfied: docutils>=0.11 in ./.environments/miniconda/envs/polly/lib/python3.10/site-packages (from rst2txt==1.1.0->polly-python==1.4.0) (0.16)\n",
      "Requirement already satisfied: pygments in ./.environments/miniconda/envs/polly/lib/python3.10/site-packages (from rst2txt==1.1.0->polly-python==1.4.0) (2.16.1)\n",
      "Requirement already satisfied: jmespath<2.0.0,>=0.7.1 in ./.environments/miniconda/envs/polly/lib/python3.10/site-packages (from boto3>=1.24.0->polly-python==1.4.0) (1.0.1)\n",
      "Requirement already satisfied: s3transfer<0.7.0,>=0.6.0 in ./.environments/miniconda/envs/polly/lib/python3.10/site-packages (from boto3>=1.24.0->polly-python==1.4.0) (0.6.2)\n",
      "Requirement already satisfied: python-dateutil<3.0.0,>=2.1 in ./.environments/miniconda/envs/polly/lib/python3.10/site-packages (from botocore>=1.27.0->polly-python==1.4.0) (2.8.2)\n",
      "Requirement already satisfied: cffi>=1.12 in ./.environments/miniconda/envs/polly/lib/python3.10/site-packages (from cryptography<=38.0.0,>=37.0.1->polly-python==1.4.0) (1.15.1)\n",
      "Requirement already satisfied: colorlog<7.0.0,>=4.1.0 in ./.environments/miniconda/envs/polly/lib/python3.10/site-packages (from datapane>=0.10.3->polly-python==1.4.0) (6.7.0)\n",
      "Requirement already satisfied: click-spinner<0.2.0,>=0.1.8 in ./.environments/miniconda/envs/polly/lib/python3.10/site-packages (from datapane>=0.10.3->polly-python==1.4.0) (0.1.10)\n",
      "Requirement already satisfied: PyYAML<7.0.0,>=5.4.0 in ./.environments/miniconda/envs/polly/lib/python3.10/site-packages (from datapane>=0.10.3->polly-python==1.4.0) (6.0.1)\n",
      "Requirement already satisfied: lxml<5.0.0,>=4.0.0 in ./.environments/miniconda/envs/polly/lib/python3.10/site-packages (from datapane>=0.10.3->polly-python==1.4.0) (4.9.3)\n",
      "Requirement already satisfied: multimethod<2.0,>=1.9 in ./.environments/miniconda/envs/polly/lib/python3.10/site-packages (from datapane>=0.10.3->polly-python==1.4.0) (1.10)\n",
      "Requirement already satisfied: furl<3.0.0,>=2.0.0 in ./.environments/miniconda/envs/polly/lib/python3.10/site-packages (from datapane>=0.10.3->polly-python==1.4.0) (2.1.3)\n",
      "Requirement already satisfied: importlib_resources<6.0.0,>=3.0.0 in ./.environments/miniconda/envs/polly/lib/python3.10/site-packages (from datapane>=0.10.3->polly-python==1.4.0) (5.13.0)\n",
      "Requirement already satisfied: toolz<0.13.0,>=0.11.0 in ./.environments/miniconda/envs/polly/lib/python3.10/site-packages (from datapane>=0.10.3->polly-python==1.4.0) (0.12.0)\n",
      "Requirement already satisfied: dulwich<0.22.0,>=0.20.0 in ./.environments/miniconda/envs/polly/lib/python3.10/site-packages (from datapane>=0.10.3->polly-python==1.4.0) (0.21.6)\n",
      "Requirement already satisfied: nbconvert>=5.6.1 in ./.environments/miniconda/envs/polly/lib/python3.10/site-packages (from datapane>=0.10.3->polly-python==1.4.0) (7.8.0)\n",
      "Requirement already satisfied: datacommons<2.0.0,>=1.4.3 in ./.environments/miniconda/envs/polly/lib/python3.10/site-packages (from datapane>=0.10.3->polly-python==1.4.0) (1.4.3)\n",
      "Requirement already satisfied: pyarrow<11.0.0,>=6.0.0 in ./.environments/miniconda/envs/polly/lib/python3.10/site-packages (from datapane>=0.10.3->polly-python==1.4.0) (10.0.1)\n",
      "Requirement already satisfied: dacite<2.0.0,>=1.0.2 in ./.environments/miniconda/envs/polly/lib/python3.10/site-packages (from datapane>=0.10.3->polly-python==1.4.0) (1.8.1)\n",
      "Requirement already satisfied: datacommons-pandas<0.0.4,>=0.0.3 in ./.environments/miniconda/envs/polly/lib/python3.10/site-packages (from datapane>=0.10.3->polly-python==1.4.0) (0.0.3)\n",
      "Requirement already satisfied: packaging<24.0.0,>=21.0.0 in ./.environments/miniconda/envs/polly/lib/python3.10/site-packages (from datapane>=0.10.3->polly-python==1.4.0) (23.1)\n",
      "Requirement already satisfied: ipynbname>=2021.3.2 in ./.environments/miniconda/envs/polly/lib/python3.10/site-packages (from datapane>=0.10.3->polly-python==1.4.0) (2023.2.0.0)\n",
      "Requirement already satisfied: boltons<22.0.0,>=20.0.0 in ./.environments/miniconda/envs/polly/lib/python3.10/site-packages (from datapane>=0.10.3->polly-python==1.4.0) (21.0.0)\n",
      "Requirement already satisfied: posthog<3.0.0,>=1.4.0 in ./.environments/miniconda/envs/polly/lib/python3.10/site-packages (from datapane>=0.10.3->polly-python==1.4.0) (2.5.0)\n",
      "Requirement already satisfied: jsonschema<5.0.0,>=3.2.0 in ./.environments/miniconda/envs/polly/lib/python3.10/site-packages (from datapane>=0.10.3->polly-python==1.4.0) (4.19.0)\n",
      "Requirement already satisfied: requests-toolbelt<2.0.0,>=0.9.1 in ./.environments/miniconda/envs/polly/lib/python3.10/site-packages (from datapane>=0.10.3->polly-python==1.4.0) (1.0.0)\n",
      "Requirement already satisfied: click<9.0.0,>=7.1.0 in ./.environments/miniconda/envs/polly/lib/python3.10/site-packages (from datapane>=0.10.3->polly-python==1.4.0) (8.1.7)\n",
      "Requirement already satisfied: pyngrok<6.0.0,>=5.2.1 in ./.environments/miniconda/envs/polly/lib/python3.10/site-packages (from datapane>=0.10.3->polly-python==1.4.0) (5.2.3)\n",
      "Requirement already satisfied: micawber>=0.5.0 in ./.environments/miniconda/envs/polly/lib/python3.10/site-packages (from datapane>=0.10.3->polly-python==1.4.0) (0.5.5)\n",
      "Requirement already satisfied: vega-datasets<1.0.0,>=0.9.0 in ./.environments/miniconda/envs/polly/lib/python3.10/site-packages (from datapane>=0.10.3->polly-python==1.4.0) (0.9.0)\n",
      "Requirement already satisfied: altair<5.0.0,>=4.0.0 in ./.environments/miniconda/envs/polly/lib/python3.10/site-packages (from datapane>=0.10.3->polly-python==1.4.0) (4.2.2)\n",
      "Requirement already satisfied: cheroot<10.0.0,>=9.0.0 in ./.environments/miniconda/envs/polly/lib/python3.10/site-packages (from datapane>=0.10.3->polly-python==1.4.0) (9.0.0)\n",
      "Requirement already satisfied: tabulate<0.10.0,>=0.8.9 in ./.environments/miniconda/envs/polly/lib/python3.10/site-packages (from datapane>=0.10.3->polly-python==1.4.0) (0.8.10)\n",
      "Requirement already satisfied: dominate<3.0.0,>=2.4.0 in ./.environments/miniconda/envs/polly/lib/python3.10/site-packages (from datapane>=0.10.3->polly-python==1.4.0) (2.9.0)\n",
      "Requirement already satisfied: glom<24.0.0,>=22.1.0 in ./.environments/miniconda/envs/polly/lib/python3.10/site-packages (from datapane>=0.10.3->polly-python==1.4.0) (23.4.0)\n",
      "Requirement already satisfied: wrapt<2,>=1.10 in ./.environments/miniconda/envs/polly/lib/python3.10/site-packages (from Deprecated>=1.2.12->polly-python==1.4.0) (1.16.0)\n",
      "Requirement already satisfied: pytz>=2020.1 in ./.environments/miniconda/envs/polly/lib/python3.10/site-packages (from pandas>=1.3.5->polly-python==1.4.0) (2023.3)\n",
      "Requirement already satisfied: tenacity>=6.2.0 in ./.environments/miniconda/envs/polly/lib/python3.10/site-packages (from plotly>=5.0.0->polly-python==1.4.0) (8.2.3)\n",
      "Requirement already satisfied: iniconfig in ./.environments/miniconda/envs/polly/lib/python3.10/site-packages (from pytest>=6.2.5->polly-python==1.4.0) (2.0.0)\n",
      "Requirement already satisfied: tomli>=1.0.0 in ./.environments/miniconda/envs/polly/lib/python3.10/site-packages (from pytest>=6.2.5->polly-python==1.4.0) (2.0.1)\n",
      "Requirement already satisfied: pluggy<2.0,>=0.12 in ./.environments/miniconda/envs/polly/lib/python3.10/site-packages (from pytest>=6.2.5->polly-python==1.4.0) (1.3.0)\n",
      "Requirement already satisfied: exceptiongroup>=1.0.0rc8 in ./.environments/miniconda/envs/polly/lib/python3.10/site-packages (from pytest>=6.2.5->polly-python==1.4.0) (1.1.3)\n",
      "Requirement already satisfied: jinja2 in ./.environments/miniconda/envs/polly/lib/python3.10/site-packages (from altair<5.0.0,>=4.0.0->datapane>=0.10.3->polly-python==1.4.0) (3.1.2)\n",
      "Requirement already satisfied: entrypoints in ./.environments/miniconda/envs/polly/lib/python3.10/site-packages (from altair<5.0.0,>=4.0.0->datapane>=0.10.3->polly-python==1.4.0) (0.4)\n",
      "Requirement already satisfied: pycparser in ./.environments/miniconda/envs/polly/lib/python3.10/site-packages (from cffi>=1.12->cryptography<=38.0.0,>=37.0.1->polly-python==1.4.0) (2.21)\n",
      "Requirement already satisfied: jaraco.functools in ./.environments/miniconda/envs/polly/lib/python3.10/site-packages (from cheroot<10.0.0,>=9.0.0->datapane>=0.10.3->polly-python==1.4.0) (4.0.0)\n",
      "Requirement already satisfied: more-itertools>=2.6 in ./.environments/miniconda/envs/polly/lib/python3.10/site-packages (from cheroot<10.0.0,>=9.0.0->datapane>=0.10.3->polly-python==1.4.0) (10.1.0)\n",
      "Requirement already satisfied: orderedmultidict>=1.0.1 in ./.environments/miniconda/envs/polly/lib/python3.10/site-packages (from furl<3.0.0,>=2.0.0->datapane>=0.10.3->polly-python==1.4.0) (1.0.1)\n",
      "Requirement already satisfied: attrs in ./.environments/miniconda/envs/polly/lib/python3.10/site-packages (from glom<24.0.0,>=22.1.0->datapane>=0.10.3->polly-python==1.4.0) (23.1.0)\n",
      "Requirement already satisfied: face==20.1.1 in ./.environments/miniconda/envs/polly/lib/python3.10/site-packages (from glom<24.0.0,>=22.1.0->datapane>=0.10.3->polly-python==1.4.0) (20.1.1)\n",
      "Requirement already satisfied: ipykernel in ./.environments/miniconda/envs/polly/lib/python3.10/site-packages (from ipynbname>=2021.3.2->datapane>=0.10.3->polly-python==1.4.0) (6.25.1)\n",
      "Requirement already satisfied: referencing>=0.28.4 in ./.environments/miniconda/envs/polly/lib/python3.10/site-packages (from jsonschema<5.0.0,>=3.2.0->datapane>=0.10.3->polly-python==1.4.0) (0.30.2)\n",
      "Requirement already satisfied: jsonschema-specifications>=2023.03.6 in ./.environments/miniconda/envs/polly/lib/python3.10/site-packages (from jsonschema<5.0.0,>=3.2.0->datapane>=0.10.3->polly-python==1.4.0) (2023.7.1)\n",
      "Requirement already satisfied: rpds-py>=0.7.1 in ./.environments/miniconda/envs/polly/lib/python3.10/site-packages (from jsonschema<5.0.0,>=3.2.0->datapane>=0.10.3->polly-python==1.4.0) (0.10.0)\n",
      "Requirement already satisfied: beautifulsoup4 in ./.environments/miniconda/envs/polly/lib/python3.10/site-packages (from nbconvert>=5.6.1->datapane>=0.10.3->polly-python==1.4.0) (4.12.2)\n",
      "Requirement already satisfied: nbformat>=5.7 in ./.environments/miniconda/envs/polly/lib/python3.10/site-packages (from nbconvert>=5.6.1->datapane>=0.10.3->polly-python==1.4.0) (5.9.2)\n",
      "Requirement already satisfied: defusedxml in ./.environments/miniconda/envs/polly/lib/python3.10/site-packages (from nbconvert>=5.6.1->datapane>=0.10.3->polly-python==1.4.0) (0.7.1)\n",
      "Requirement already satisfied: nbclient>=0.5.0 in ./.environments/miniconda/envs/polly/lib/python3.10/site-packages (from nbconvert>=5.6.1->datapane>=0.10.3->polly-python==1.4.0) (0.7.4)\n",
      "Requirement already satisfied: jupyterlab-pygments in ./.environments/miniconda/envs/polly/lib/python3.10/site-packages (from nbconvert>=5.6.1->datapane>=0.10.3->polly-python==1.4.0) (0.2.2)\n",
      "Requirement already satisfied: pandocfilters>=1.4.1 in ./.environments/miniconda/envs/polly/lib/python3.10/site-packages (from nbconvert>=5.6.1->datapane>=0.10.3->polly-python==1.4.0) (1.5.0)\n",
      "Requirement already satisfied: markupsafe>=2.0 in ./.environments/miniconda/envs/polly/lib/python3.10/site-packages (from nbconvert>=5.6.1->datapane>=0.10.3->polly-python==1.4.0) (2.1.3)\n",
      "Requirement already satisfied: traitlets>=5.1 in ./.environments/miniconda/envs/polly/lib/python3.10/site-packages (from nbconvert>=5.6.1->datapane>=0.10.3->polly-python==1.4.0) (5.9.0)\n",
      "Requirement already satisfied: jupyter-core>=4.7 in ./.environments/miniconda/envs/polly/lib/python3.10/site-packages (from nbconvert>=5.6.1->datapane>=0.10.3->polly-python==1.4.0) (5.3.1)\n",
      "Requirement already satisfied: tinycss2 in ./.environments/miniconda/envs/polly/lib/python3.10/site-packages (from nbconvert>=5.6.1->datapane>=0.10.3->polly-python==1.4.0) (1.2.1)\n",
      "Requirement already satisfied: mistune<4,>=2.0.3 in ./.environments/miniconda/envs/polly/lib/python3.10/site-packages (from nbconvert>=5.6.1->datapane>=0.10.3->polly-python==1.4.0) (3.0.1)\n",
      "Requirement already satisfied: bleach!=5.0.0 in ./.environments/miniconda/envs/polly/lib/python3.10/site-packages (from nbconvert>=5.6.1->datapane>=0.10.3->polly-python==1.4.0) (6.0.0)\n",
      "Requirement already satisfied: monotonic>=1.5 in ./.environments/miniconda/envs/polly/lib/python3.10/site-packages (from posthog<3.0.0,>=1.4.0->datapane>=0.10.3->polly-python==1.4.0) (1.6)\n",
      "Requirement already satisfied: backoff>=1.10.0 in ./.environments/miniconda/envs/polly/lib/python3.10/site-packages (from posthog<3.0.0,>=1.4.0->datapane>=0.10.3->polly-python==1.4.0) (2.2.1)\n",
      "Requirement already satisfied: webencodings in ./.environments/miniconda/envs/polly/lib/python3.10/site-packages (from bleach!=5.0.0->nbconvert>=5.6.1->datapane>=0.10.3->polly-python==1.4.0) (0.5.1)\n",
      "Requirement already satisfied: platformdirs>=2.5 in ./.environments/miniconda/envs/polly/lib/python3.10/site-packages (from jupyter-core>=4.7->nbconvert>=5.6.1->datapane>=0.10.3->polly-python==1.4.0) (3.10.0)\n",
      "Requirement already satisfied: jupyter-client>=6.1.12 in ./.environments/miniconda/envs/polly/lib/python3.10/site-packages (from nbclient>=0.5.0->nbconvert>=5.6.1->datapane>=0.10.3->polly-python==1.4.0) (8.3.1)\n",
      "Requirement already satisfied: fastjsonschema in ./.environments/miniconda/envs/polly/lib/python3.10/site-packages (from nbformat>=5.7->nbconvert>=5.6.1->datapane>=0.10.3->polly-python==1.4.0) (2.18.0)\n",
      "Requirement already satisfied: soupsieve>1.2 in ./.environments/miniconda/envs/polly/lib/python3.10/site-packages (from beautifulsoup4->nbconvert>=5.6.1->datapane>=0.10.3->polly-python==1.4.0) (2.5)\n",
      "Requirement already satisfied: ipython>=7.23.1 in ./.environments/miniconda/envs/polly/lib/python3.10/site-packages (from ipykernel->ipynbname>=2021.3.2->datapane>=0.10.3->polly-python==1.4.0) (8.15.0)\n",
      "Requirement already satisfied: nest-asyncio in ./.environments/miniconda/envs/polly/lib/python3.10/site-packages (from ipykernel->ipynbname>=2021.3.2->datapane>=0.10.3->polly-python==1.4.0) (1.5.7)\n",
      "Requirement already satisfied: comm>=0.1.1 in ./.environments/miniconda/envs/polly/lib/python3.10/site-packages (from ipykernel->ipynbname>=2021.3.2->datapane>=0.10.3->polly-python==1.4.0) (0.1.4)\n",
      "Requirement already satisfied: pyzmq>=20 in ./.environments/miniconda/envs/polly/lib/python3.10/site-packages (from ipykernel->ipynbname>=2021.3.2->datapane>=0.10.3->polly-python==1.4.0) (25.1.1)\n",
      "Requirement already satisfied: tornado>=6.1 in ./.environments/miniconda/envs/polly/lib/python3.10/site-packages (from ipykernel->ipynbname>=2021.3.2->datapane>=0.10.3->polly-python==1.4.0) (6.3.3)\n",
      "Requirement already satisfied: matplotlib-inline>=0.1 in ./.environments/miniconda/envs/polly/lib/python3.10/site-packages (from ipykernel->ipynbname>=2021.3.2->datapane>=0.10.3->polly-python==1.4.0) (0.1.6)\n",
      "Requirement already satisfied: debugpy>=1.6.5 in ./.environments/miniconda/envs/polly/lib/python3.10/site-packages (from ipykernel->ipynbname>=2021.3.2->datapane>=0.10.3->polly-python==1.4.0) (1.6.7.post1)\n",
      "Requirement already satisfied: psutil in ./.environments/miniconda/envs/polly/lib/python3.10/site-packages (from ipykernel->ipynbname>=2021.3.2->datapane>=0.10.3->polly-python==1.4.0) (5.9.5)\n",
      "Requirement already satisfied: pickleshare in ./.environments/miniconda/envs/polly/lib/python3.10/site-packages (from ipython>=7.23.1->ipykernel->ipynbname>=2021.3.2->datapane>=0.10.3->polly-python==1.4.0) (0.7.5)\n",
      "Requirement already satisfied: decorator in ./.environments/miniconda/envs/polly/lib/python3.10/site-packages (from ipython>=7.23.1->ipykernel->ipynbname>=2021.3.2->datapane>=0.10.3->polly-python==1.4.0) (5.1.1)\n",
      "Requirement already satisfied: backcall in ./.environments/miniconda/envs/polly/lib/python3.10/site-packages (from ipython>=7.23.1->ipykernel->ipynbname>=2021.3.2->datapane>=0.10.3->polly-python==1.4.0) (0.2.0)\n",
      "Requirement already satisfied: prompt-toolkit!=3.0.37,<3.1.0,>=3.0.30 in ./.environments/miniconda/envs/polly/lib/python3.10/site-packages (from ipython>=7.23.1->ipykernel->ipynbname>=2021.3.2->datapane>=0.10.3->polly-python==1.4.0) (3.0.39)\n",
      "Requirement already satisfied: pexpect>4.3 in ./.environments/miniconda/envs/polly/lib/python3.10/site-packages (from ipython>=7.23.1->ipykernel->ipynbname>=2021.3.2->datapane>=0.10.3->polly-python==1.4.0) (4.8.0)\n",
      "Requirement already satisfied: stack-data in ./.environments/miniconda/envs/polly/lib/python3.10/site-packages (from ipython>=7.23.1->ipykernel->ipynbname>=2021.3.2->datapane>=0.10.3->polly-python==1.4.0) (0.6.2)\n",
      "Requirement already satisfied: jedi>=0.16 in ./.environments/miniconda/envs/polly/lib/python3.10/site-packages (from ipython>=7.23.1->ipykernel->ipynbname>=2021.3.2->datapane>=0.10.3->polly-python==1.4.0) (0.19.0)\n",
      "Requirement already satisfied: parso<0.9.0,>=0.8.3 in ./.environments/miniconda/envs/polly/lib/python3.10/site-packages (from jedi>=0.16->ipython>=7.23.1->ipykernel->ipynbname>=2021.3.2->datapane>=0.10.3->polly-python==1.4.0) (0.8.3)\n",
      "Requirement already satisfied: ptyprocess>=0.5 in ./.environments/miniconda/envs/polly/lib/python3.10/site-packages (from pexpect>4.3->ipython>=7.23.1->ipykernel->ipynbname>=2021.3.2->datapane>=0.10.3->polly-python==1.4.0) (0.7.0)\n",
      "Requirement already satisfied: wcwidth in ./.environments/miniconda/envs/polly/lib/python3.10/site-packages (from prompt-toolkit!=3.0.37,<3.1.0,>=3.0.30->ipython>=7.23.1->ipykernel->ipynbname>=2021.3.2->datapane>=0.10.3->polly-python==1.4.0) (0.2.6)\n",
      "Requirement already satisfied: asttokens>=2.1.0 in ./.environments/miniconda/envs/polly/lib/python3.10/site-packages (from stack-data->ipython>=7.23.1->ipykernel->ipynbname>=2021.3.2->datapane>=0.10.3->polly-python==1.4.0) (2.3.0)\n",
      "Requirement already satisfied: pure-eval in ./.environments/miniconda/envs/polly/lib/python3.10/site-packages (from stack-data->ipython>=7.23.1->ipykernel->ipynbname>=2021.3.2->datapane>=0.10.3->polly-python==1.4.0) (0.2.2)\n",
      "Requirement already satisfied: executing>=1.2.0 in ./.environments/miniconda/envs/polly/lib/python3.10/site-packages (from stack-data->ipython>=7.23.1->ipykernel->ipynbname>=2021.3.2->datapane>=0.10.3->polly-python==1.4.0) (1.2.0)\n",
      "Installing collected packages: requests, polly-python\n",
      "  Attempting uninstall: requests\n",
      "    Found existing installation: requests 2.31.0\n",
      "    Uninstalling requests-2.31.0:\n",
      "      Successfully uninstalled requests-2.31.0\n",
      "  Attempting uninstall: polly-python\n",
      "    Found existing installation: polly-python 1.0.0\n",
      "    Uninstalling polly-python-1.0.0:\n",
      "      Successfully uninstalled polly-python-1.0.0\n",
      "\u001b[31mERROR: pip's dependency resolver does not currently take into account all the packages that are installed. This behaviour is the source of the following dependency conflicts.\n",
      "jupyterlab-server 2.24.0 requires requests>=2.28, but you have requests 2.25.1 which is incompatible.\u001b[0m\u001b[31m\n",
      "\u001b[0mSuccessfully installed polly-python-1.4.0 requests-2.25.1\n",
      "Note: you may need to restart the kernel to use updated packages.\n"
     ]
    }
   ],
   "source": [
    "pip install https://elucidatainc.github.io/PublicAssets/builds/polly-python/tests/testpolly/polly_python-1.4.0-py3-none-any.whl"
   ]
  },
  {
   "cell_type": "code",
   "execution_count": 2,
   "id": "ffa90937",
   "metadata": {},
   "outputs": [
    {
     "name": "stderr",
     "output_type": "stream",
     "text": [
      "INFO:root:Download successful to path=/import/testfolder\n"
     ]
    }
   ],
   "source": [
    "import os\n",
    "from polly.auth import Polly\n",
    "from polly.workspaces import Workspaces\n",
    "API_KEY = \"OTdlOTM4YmVmYzo6MDZjODk3ZjQwMzZkYTg0ZmJkZjQ2N2E2ZTQyODIzOGY5ZjRhYWYyNQ==\"\n",
    "Polly.auth(API_KEY, env=\"testpolly\")\n",
    "w = Workspaces()\n",
    "w.download_from_workspaces(16503, \"/\", \"/import/testfolder\", copy_workspace_path=False)"
   ]
  },
  {
   "cell_type": "code",
   "execution_count": 3,
   "id": "2bd6da9c",
   "metadata": {},
   "outputs": [
    {
     "name": "stderr",
     "output_type": "stream",
     "text": [
      "INFO:root:Download successful to path=/import/testfolder\n"
     ]
    }
   ],
   "source": [
    "w.download_from_workspaces(16503, \"/new_folder\", \"/import/testfolder\", copy_workspace_path=False)"
   ]
  },
  {
   "cell_type": "code",
   "execution_count": 4,
   "id": "4fc14cef",
   "metadata": {},
   "outputs": [
    {
     "name": "stderr",
     "output_type": "stream",
     "text": [
      "INFO:root:Download successful to path=/import/testfolder\n"
     ]
    }
   ],
   "source": [
    "w.download_from_workspaces(16503, \"/new_folder/folderlvl2\", \"/import/testfolder\", copy_workspace_path=False)"
   ]
  },
  {
   "cell_type": "code",
   "execution_count": 7,
   "id": "d4af96f2",
   "metadata": {},
   "outputs": [
    {
     "name": "stderr",
     "output_type": "stream",
     "text": [
      "INFO:root:Download successful to path=/import/testfolder\n"
     ]
    }
   ],
   "source": [
    "w.download_from_workspaces(16503, \"/plan.txt\", \"/import/testfolder\", copy_workspace_path=False)"
   ]
  },
  {
   "cell_type": "code",
   "execution_count": 8,
   "id": "db5a191e",
   "metadata": {},
   "outputs": [
    {
     "name": "stderr",
     "output_type": "stream",
     "text": [
      "INFO:root:Download successful to path=/import/testfolder\n"
     ]
    }
   ],
   "source": [
    "w.download_from_workspaces(16503, \"/\", \"/import/testfolder\")"
   ]
  },
  {
   "cell_type": "code",
   "execution_count": 10,
   "id": "e419c2c1",
   "metadata": {},
   "outputs": [
    {
     "name": "stderr",
     "output_type": "stream",
     "text": [
      "INFO:root:Download successful to path=/import/testfolder\n"
     ]
    }
   ],
   "source": [
    "w.download_from_workspaces(16503, \"/new_folder\", \"/import/testfolder\")"
   ]
  },
  {
   "cell_type": "code",
   "execution_count": 11,
   "id": "43d183d9",
   "metadata": {},
   "outputs": [
    {
     "name": "stderr",
     "output_type": "stream",
     "text": [
      "INFO:root:Download successful to path=/import/testfolder\n"
     ]
    }
   ],
   "source": [
    "w.download_from_workspaces(16503, \"/new_folder/folderlvl2\", \"/import/testfolder\")"
   ]
  },
  {
   "cell_type": "code",
   "execution_count": 12,
   "id": "78f38b99",
   "metadata": {},
   "outputs": [
    {
     "name": "stderr",
     "output_type": "stream",
     "text": [
      "INFO:root:Download successful to path=/import/testfolder\n"
     ]
    }
   ],
   "source": [
    "w.download_from_workspaces(16503, \"/plan.txt\", \"/import/testfolder\")"
   ]
  },
  {
   "cell_type": "code",
   "execution_count": 14,
   "id": "262b87f8",
   "metadata": {},
   "outputs": [
    {
     "name": "stderr",
     "output_type": "stream",
     "text": [
      "INFO:root:Download successful to path=/import/testfolder\n"
     ]
    }
   ],
   "source": [
    "w.download_from_workspaces(16503, \".\", \"/import/testfolder\")"
   ]
  },
  {
   "cell_type": "code",
   "execution_count": 15,
   "id": "ef1a8b52",
   "metadata": {},
   "outputs": [
    {
     "name": "stderr",
     "output_type": "stream",
     "text": [
      "INFO:root:Download successful to path=/import/testfolder\n"
     ]
    }
   ],
   "source": [
    "w.download_from_workspaces(16503, \"./\", \"/import/testfolder\")"
   ]
  },
  {
   "cell_type": "code",
   "execution_count": 16,
   "id": "317846c9",
   "metadata": {},
   "outputs": [
    {
     "ename": "InvalidParameterException",
     "evalue": "Empty or Invalid Parameters = workspace_path.",
     "output_type": "error",
     "traceback": [
      "\u001b[0;31m---------------------------------------------------------------------------\u001b[0m",
      "\u001b[0;31mInvalidParameterException\u001b[0m                 Traceback (most recent call last)",
      "Cell \u001b[0;32mIn[16], line 1\u001b[0m\n\u001b[0;32m----> 1\u001b[0m \u001b[43mw\u001b[49m\u001b[38;5;241;43m.\u001b[39;49m\u001b[43mdownload_from_workspaces\u001b[49m\u001b[43m(\u001b[49m\u001b[38;5;241;43m16503\u001b[39;49m\u001b[43m,\u001b[49m\u001b[43m \u001b[49m\u001b[38;5;124;43m\"\u001b[39;49m\u001b[38;5;124;43m\"\u001b[39;49m\u001b[43m,\u001b[49m\u001b[43m \u001b[49m\u001b[38;5;124;43m\"\u001b[39;49m\u001b[38;5;124;43m/import/testfolder\u001b[39;49m\u001b[38;5;124;43m\"\u001b[39;49m\u001b[43m)\u001b[49m\n",
      "File \u001b[0;32m~/SageMaker/.environments/miniconda/envs/polly/lib/python3.10/site-packages/polly/tracking.py:59\u001b[0m, in \u001b[0;36mTrack.track_decorator.<locals>.wrapper_function\u001b[0;34m(*args, **kwargs)\u001b[0m\n\u001b[1;32m     57\u001b[0m         \u001b[38;5;28;01mreturn\u001b[39;00m result\n\u001b[1;32m     58\u001b[0m \u001b[38;5;28;01melse\u001b[39;00m:\n\u001b[0;32m---> 59\u001b[0m     \u001b[38;5;28;01mraise\u001b[39;00m returned_err\n",
      "File \u001b[0;32m~/SageMaker/.environments/miniconda/envs/polly/lib/python3.10/site-packages/polly/tracking.py:22\u001b[0m, in \u001b[0;36mTrack.track_decorator.<locals>.wrapper_function\u001b[0;34m(*args, **kwargs)\u001b[0m\n\u001b[1;32m     20\u001b[0m execution_flag \u001b[38;5;241m=\u001b[39m \u001b[38;5;28;01mFalse\u001b[39;00m\n\u001b[1;32m     21\u001b[0m \u001b[38;5;28;01mtry\u001b[39;00m:\n\u001b[0;32m---> 22\u001b[0m     result \u001b[38;5;241m=\u001b[39m \u001b[43mfunction\u001b[49m\u001b[43m(\u001b[49m\u001b[38;5;241;43m*\u001b[39;49m\u001b[43margs\u001b[49m\u001b[43m,\u001b[49m\u001b[43m \u001b[49m\u001b[38;5;241;43m*\u001b[39;49m\u001b[38;5;241;43m*\u001b[39;49m\u001b[43mkwargs\u001b[49m\u001b[43m)\u001b[49m\n\u001b[1;32m     23\u001b[0m     execution_flag \u001b[38;5;241m=\u001b[39m \u001b[38;5;28;01mTrue\u001b[39;00m\n\u001b[1;32m     24\u001b[0m \u001b[38;5;28;01mexcept\u001b[39;00m \u001b[38;5;167;01mException\u001b[39;00m \u001b[38;5;28;01mas\u001b[39;00m e:\n",
      "File \u001b[0;32m~/SageMaker/.environments/miniconda/envs/polly/lib/python3.10/site-packages/polly/workspaces.py:310\u001b[0m, in \u001b[0;36mWorkspaces.download_from_workspaces\u001b[0;34m(self, workspace_id, workspace_path, local_path, copy_workspace_path)\u001b[0m\n\u001b[1;32m    308\u001b[0m     \u001b[38;5;28;01mraise\u001b[39;00m InvalidParameterException(\u001b[38;5;124m\"\u001b[39m\u001b[38;5;124mworkspace_id\u001b[39m\u001b[38;5;124m\"\u001b[39m)\n\u001b[1;32m    309\u001b[0m \u001b[38;5;28;01mif\u001b[39;00m \u001b[38;5;129;01mnot\u001b[39;00m (workspace_path \u001b[38;5;129;01mand\u001b[39;00m \u001b[38;5;28misinstance\u001b[39m(workspace_path, \u001b[38;5;28mstr\u001b[39m)):\n\u001b[0;32m--> 310\u001b[0m     \u001b[38;5;28;01mraise\u001b[39;00m InvalidParameterException(\u001b[38;5;124m\"\u001b[39m\u001b[38;5;124mworkspace_path\u001b[39m\u001b[38;5;124m\"\u001b[39m)\n\u001b[1;32m    311\u001b[0m \u001b[38;5;66;03m# check for access rights for the workspace_id\u001b[39;00m\n\u001b[1;32m    312\u001b[0m access_workspace \u001b[38;5;241m=\u001b[39m helpers\u001b[38;5;241m.\u001b[39mworkspaces_permission_check(\u001b[38;5;28mself\u001b[39m, workspace_id)\n",
      "\u001b[0;31mInvalidParameterException\u001b[0m: Empty or Invalid Parameters = workspace_path."
     ]
    }
   ],
   "source": [
    "w.download_from_workspaces(16503, \"\", \"/import/testfolder\")"
   ]
  },
  {
   "cell_type": "code",
   "execution_count": 17,
   "id": "7c9dc9ae",
   "metadata": {},
   "outputs": [
    {
     "ename": "InvalidPathException",
     "evalue": "This path does not represent a file or a directory. Please try again.",
     "output_type": "error",
     "traceback": [
      "\u001b[0;31m---------------------------------------------------------------------------\u001b[0m",
      "\u001b[0;31mInvalidPathException\u001b[0m                      Traceback (most recent call last)",
      "Cell \u001b[0;32mIn[17], line 1\u001b[0m\n\u001b[0;32m----> 1\u001b[0m \u001b[43mw\u001b[49m\u001b[38;5;241;43m.\u001b[39;49m\u001b[43mdownload_from_workspaces\u001b[49m\u001b[43m(\u001b[49m\u001b[38;5;241;43m16503\u001b[39;49m\u001b[43m,\u001b[49m\u001b[43m \u001b[49m\u001b[38;5;124;43m\"\u001b[39;49m\u001b[38;5;124;43m/folderlvl1\u001b[39;49m\u001b[38;5;124;43m\"\u001b[39;49m\u001b[43m,\u001b[49m\u001b[43m \u001b[49m\u001b[38;5;124;43m\"\u001b[39;49m\u001b[38;5;124;43m/import/testfolder\u001b[39;49m\u001b[38;5;124;43m\"\u001b[39;49m\u001b[43m)\u001b[49m\n",
      "File \u001b[0;32m~/SageMaker/.environments/miniconda/envs/polly/lib/python3.10/site-packages/polly/tracking.py:59\u001b[0m, in \u001b[0;36mTrack.track_decorator.<locals>.wrapper_function\u001b[0;34m(*args, **kwargs)\u001b[0m\n\u001b[1;32m     57\u001b[0m         \u001b[38;5;28;01mreturn\u001b[39;00m result\n\u001b[1;32m     58\u001b[0m \u001b[38;5;28;01melse\u001b[39;00m:\n\u001b[0;32m---> 59\u001b[0m     \u001b[38;5;28;01mraise\u001b[39;00m returned_err\n",
      "File \u001b[0;32m~/SageMaker/.environments/miniconda/envs/polly/lib/python3.10/site-packages/polly/tracking.py:22\u001b[0m, in \u001b[0;36mTrack.track_decorator.<locals>.wrapper_function\u001b[0;34m(*args, **kwargs)\u001b[0m\n\u001b[1;32m     20\u001b[0m execution_flag \u001b[38;5;241m=\u001b[39m \u001b[38;5;28;01mFalse\u001b[39;00m\n\u001b[1;32m     21\u001b[0m \u001b[38;5;28;01mtry\u001b[39;00m:\n\u001b[0;32m---> 22\u001b[0m     result \u001b[38;5;241m=\u001b[39m \u001b[43mfunction\u001b[49m\u001b[43m(\u001b[49m\u001b[38;5;241;43m*\u001b[39;49m\u001b[43margs\u001b[49m\u001b[43m,\u001b[49m\u001b[43m \u001b[49m\u001b[38;5;241;43m*\u001b[39;49m\u001b[38;5;241;43m*\u001b[39;49m\u001b[43mkwargs\u001b[49m\u001b[43m)\u001b[49m\n\u001b[1;32m     23\u001b[0m     execution_flag \u001b[38;5;241m=\u001b[39m \u001b[38;5;28;01mTrue\u001b[39;00m\n\u001b[1;32m     24\u001b[0m \u001b[38;5;28;01mexcept\u001b[39;00m \u001b[38;5;167;01mException\u001b[39;00m \u001b[38;5;28;01mas\u001b[39;00m e:\n",
      "File \u001b[0;32m~/SageMaker/.environments/miniconda/envs/polly/lib/python3.10/site-packages/polly/workspaces.py:323\u001b[0m, in \u001b[0;36mWorkspaces.download_from_workspaces\u001b[0;34m(self, workspace_id, workspace_path, local_path, copy_workspace_path)\u001b[0m\n\u001b[1;32m    321\u001b[0m     workspace_path \u001b[38;5;241m=\u001b[39m workspace_path\u001b[38;5;241m.\u001b[39msplit(\u001b[38;5;124m\"\u001b[39m\u001b[38;5;124mpolly://\u001b[39m\u001b[38;5;124m\"\u001b[39m)[\u001b[38;5;241m1\u001b[39m]\n\u001b[1;32m    322\u001b[0m s3_path, credentials \u001b[38;5;241m=\u001b[39m \u001b[38;5;28mself\u001b[39m\u001b[38;5;241m.\u001b[39m_s3_util(workspace_id, workspace_path)\n\u001b[0;32m--> 323\u001b[0m \u001b[43mhelpers\u001b[49m\u001b[38;5;241;43m.\u001b[39;49m\u001b[43mdownload_from_S3\u001b[49m\u001b[43m(\u001b[49m\n\u001b[1;32m    324\u001b[0m \u001b[43m    \u001b[49m\u001b[43ms3_path\u001b[49m\u001b[43m,\u001b[49m\u001b[43m \u001b[49m\u001b[43mworkspace_path\u001b[49m\u001b[43m,\u001b[49m\u001b[43m \u001b[49m\u001b[43mcredentials\u001b[49m\u001b[43m,\u001b[49m\u001b[43m \u001b[49m\u001b[43mlocal_path\u001b[49m\u001b[43m,\u001b[49m\u001b[43m \u001b[49m\u001b[43mcopy_workspace_path\u001b[49m\n\u001b[1;32m    325\u001b[0m \u001b[43m\u001b[49m\u001b[43m)\u001b[49m\n\u001b[1;32m    326\u001b[0m logging\u001b[38;5;241m.\u001b[39mbasicConfig(level\u001b[38;5;241m=\u001b[39mlogging\u001b[38;5;241m.\u001b[39mINFO)\n\u001b[1;32m    327\u001b[0m logging\u001b[38;5;241m.\u001b[39minfo(\u001b[38;5;124mf\u001b[39m\u001b[38;5;124m\"\u001b[39m\u001b[38;5;124mDownload successful to path=\u001b[39m\u001b[38;5;132;01m{\u001b[39;00mlocal_path\u001b[38;5;132;01m}\u001b[39;00m\u001b[38;5;124m\"\u001b[39m)\n",
      "File \u001b[0;32m~/SageMaker/.environments/miniconda/envs/polly/lib/python3.10/site-packages/polly/helpers.py:194\u001b[0m, in \u001b[0;36mdownload_from_S3\u001b[0;34m(cloud_path, workspace_path, credentials, destination_path, copy_workspace_path)\u001b[0m\n\u001b[1;32m    192\u001b[0m source_path \u001b[38;5;241m=\u001b[39m client\u001b[38;5;241m.\u001b[39mCloudPath(cloud_path)\n\u001b[1;32m    193\u001b[0m \u001b[38;5;28;01mif\u001b[39;00m \u001b[38;5;129;01mnot\u001b[39;00m source_path\u001b[38;5;241m.\u001b[39mexists():\n\u001b[0;32m--> 194\u001b[0m     \u001b[38;5;28;01mraise\u001b[39;00m InvalidPathException\n\u001b[1;32m    195\u001b[0m isFile \u001b[38;5;241m=\u001b[39m source_path\u001b[38;5;241m.\u001b[39mis_file()\n\u001b[1;32m    196\u001b[0m \u001b[38;5;28;01mif\u001b[39;00m isFile:\n",
      "\u001b[0;31mInvalidPathException\u001b[0m: This path does not represent a file or a directory. Please try again."
     ]
    }
   ],
   "source": [
    "w.download_from_workspaces(16503, \"/folderlvl1\", \"/import/testfolder\")"
   ]
  },
  {
   "cell_type": "code",
   "execution_count": 18,
   "id": "6a1e34a1",
   "metadata": {},
   "outputs": [
    {
     "ename": "InvalidDirectoryPath",
     "evalue": " This path - '/import/testfolder1' does not represent a directory. Please try again.",
     "output_type": "error",
     "traceback": [
      "\u001b[0;31m---------------------------------------------------------------------------\u001b[0m",
      "\u001b[0;31mInvalidDirectoryPath\u001b[0m                      Traceback (most recent call last)",
      "Cell \u001b[0;32mIn[18], line 1\u001b[0m\n\u001b[0;32m----> 1\u001b[0m \u001b[43mw\u001b[49m\u001b[38;5;241;43m.\u001b[39;49m\u001b[43mdownload_from_workspaces\u001b[49m\u001b[43m(\u001b[49m\u001b[38;5;241;43m16503\u001b[39;49m\u001b[43m,\u001b[49m\u001b[43m \u001b[49m\u001b[38;5;124;43m\"\u001b[39;49m\u001b[38;5;124;43m/\u001b[39;49m\u001b[38;5;124;43m\"\u001b[39;49m\u001b[43m,\u001b[49m\u001b[43m \u001b[49m\u001b[38;5;124;43m\"\u001b[39;49m\u001b[38;5;124;43m/import/testfolder1\u001b[39;49m\u001b[38;5;124;43m\"\u001b[39;49m\u001b[43m)\u001b[49m\n",
      "File \u001b[0;32m~/SageMaker/.environments/miniconda/envs/polly/lib/python3.10/site-packages/polly/tracking.py:59\u001b[0m, in \u001b[0;36mTrack.track_decorator.<locals>.wrapper_function\u001b[0;34m(*args, **kwargs)\u001b[0m\n\u001b[1;32m     57\u001b[0m         \u001b[38;5;28;01mreturn\u001b[39;00m result\n\u001b[1;32m     58\u001b[0m \u001b[38;5;28;01melse\u001b[39;00m:\n\u001b[0;32m---> 59\u001b[0m     \u001b[38;5;28;01mraise\u001b[39;00m returned_err\n",
      "File \u001b[0;32m~/SageMaker/.environments/miniconda/envs/polly/lib/python3.10/site-packages/polly/tracking.py:22\u001b[0m, in \u001b[0;36mTrack.track_decorator.<locals>.wrapper_function\u001b[0;34m(*args, **kwargs)\u001b[0m\n\u001b[1;32m     20\u001b[0m execution_flag \u001b[38;5;241m=\u001b[39m \u001b[38;5;28;01mFalse\u001b[39;00m\n\u001b[1;32m     21\u001b[0m \u001b[38;5;28;01mtry\u001b[39;00m:\n\u001b[0;32m---> 22\u001b[0m     result \u001b[38;5;241m=\u001b[39m \u001b[43mfunction\u001b[49m\u001b[43m(\u001b[49m\u001b[38;5;241;43m*\u001b[39;49m\u001b[43margs\u001b[49m\u001b[43m,\u001b[49m\u001b[43m \u001b[49m\u001b[38;5;241;43m*\u001b[39;49m\u001b[38;5;241;43m*\u001b[39;49m\u001b[43mkwargs\u001b[49m\u001b[43m)\u001b[49m\n\u001b[1;32m     23\u001b[0m     execution_flag \u001b[38;5;241m=\u001b[39m \u001b[38;5;28;01mTrue\u001b[39;00m\n\u001b[1;32m     24\u001b[0m \u001b[38;5;28;01mexcept\u001b[39;00m \u001b[38;5;167;01mException\u001b[39;00m \u001b[38;5;28;01mas\u001b[39;00m e:\n",
      "File \u001b[0;32m~/SageMaker/.environments/miniconda/envs/polly/lib/python3.10/site-packages/polly/workspaces.py:319\u001b[0m, in \u001b[0;36mWorkspaces.download_from_workspaces\u001b[0;34m(self, workspace_id, workspace_path, local_path, copy_workspace_path)\u001b[0m\n\u001b[1;32m    317\u001b[0m isExists \u001b[38;5;241m=\u001b[39m os\u001b[38;5;241m.\u001b[39mpath\u001b[38;5;241m.\u001b[39misdir(local_path)\n\u001b[1;32m    318\u001b[0m \u001b[38;5;28;01mif\u001b[39;00m \u001b[38;5;129;01mnot\u001b[39;00m isExists:\n\u001b[0;32m--> 319\u001b[0m     \u001b[38;5;28;01mraise\u001b[39;00m InvalidDirectoryPath(local_path)\n\u001b[1;32m    320\u001b[0m \u001b[38;5;28;01mif\u001b[39;00m workspace_path\u001b[38;5;241m.\u001b[39mstartswith(\u001b[38;5;124m\"\u001b[39m\u001b[38;5;124mpolly://\u001b[39m\u001b[38;5;124m\"\u001b[39m):\n\u001b[1;32m    321\u001b[0m     workspace_path \u001b[38;5;241m=\u001b[39m workspace_path\u001b[38;5;241m.\u001b[39msplit(\u001b[38;5;124m\"\u001b[39m\u001b[38;5;124mpolly://\u001b[39m\u001b[38;5;124m\"\u001b[39m)[\u001b[38;5;241m1\u001b[39m]\n",
      "\u001b[0;31mInvalidDirectoryPath\u001b[0m:  This path - '/import/testfolder1' does not represent a directory. Please try again."
     ]
    }
   ],
   "source": [
    "w.download_from_workspaces(16503, \"/\", \"/import/testfolder1\")"
   ]
  },
  {
   "cell_type": "code",
   "execution_count": 19,
   "id": "486c184f",
   "metadata": {},
   "outputs": [
    {
     "name": "stderr",
     "output_type": "stream",
     "text": [
      "INFO:root:Download successful to path=/import/testfolder\n"
     ]
    }
   ],
   "source": [
    "w.download_from_workspaces(16503, \"/new_folder/\", \"/import/testfolder\")"
   ]
  },
  {
   "cell_type": "code",
   "execution_count": 20,
   "id": "199e91de",
   "metadata": {},
   "outputs": [
    {
     "name": "stderr",
     "output_type": "stream",
     "text": [
      "INFO:root:Download successful to path=/import/testfolder\n"
     ]
    }
   ],
   "source": [
    "w.download_from_workspaces(16503, \"/new_folder/folderlvl2/\", \"/import/testfolder\")"
   ]
  },
  {
   "cell_type": "code",
   "execution_count": null,
   "id": "d5ff7cda",
   "metadata": {},
   "outputs": [],
   "source": []
  }
 ],
 "metadata": {
  "kernelspec": {
   "display_name": "Python 3",
   "language": "python",
   "name": "python3"
  },
  "language_info": {
   "codemirror_mode": {
    "name": "ipython",
    "version": 3
   },
   "file_extension": ".py",
   "mimetype": "text/x-python",
   "name": "python",
   "nbconvert_exporter": "python",
   "pygments_lexer": "ipython3",
   "version": "3.10.6"
  }
 },
 "nbformat": 4,
 "nbformat_minor": 5
}
