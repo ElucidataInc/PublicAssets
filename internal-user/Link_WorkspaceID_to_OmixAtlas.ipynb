{
 "cells": [
  {
   "cell_type": "markdown",
   "metadata": {},
   "source": [
    "# Welcome to Polly Python3 Notebook."
   ]
  },
  {
   "cell_type": "code",
   "execution_count": 1,
   "metadata": {},
   "outputs": [
    {
     "name": "stdout",
     "output_type": "stream",
     "text": [
      "/bin/bash: warning: setlocale: LC_ALL: cannot change locale (en_US.UTF-8)\n",
      "Collecting polly-python==0.2.9-link-ws-oa\n",
      "  Downloading https://elucidatainc.github.io/PublicAssets/builds/polly-python/tests/testpolly/polly_python-0.2.9_link_ws_oa-py3-none-any.whl (103 kB)\n",
      "\u001b[K     |████████████████████████████████| 103 kB 31.3 MB/s eta 0:00:01\n",
      "\u001b[?25hRequirement already satisfied: elucidatacloudpathlib==0.6.6 in /usr/local/lib/python3.10/site-packages (from polly-python==0.2.9-link-ws-oa) (0.6.6)\n",
      "Requirement already satisfied: retrying==1.3.3 in /usr/local/lib/python3.10/site-packages (from polly-python==0.2.9-link-ws-oa) (1.3.3)\n",
      "Requirement already satisfied: pytest in /usr/local/lib/python3.10/site-packages (from polly-python==0.2.9-link-ws-oa) (7.2.1)\n",
      "Requirement already satisfied: Deprecated in /usr/local/lib/python3.10/site-packages (from polly-python==0.2.9-link-ws-oa) (1.2.13)\n",
      "Requirement already satisfied: Cerberus==1.3.2 in /usr/local/lib/python3.10/site-packages (from polly-python==0.2.9-link-ws-oa) (1.3.2)\n",
      "Collecting polly-validator==0.0.1\n",
      "  Downloading polly_validator-0.0.1-py3-none-any.whl (29 kB)\n",
      "Requirement already satisfied: tqdm in /usr/local/lib/python3.10/site-packages (from polly-python==0.2.9-link-ws-oa) (4.64.1)\n",
      "Requirement already satisfied: elucidatacmapPy==3.3.4 in /usr/local/lib/python3.10/site-packages (from polly-python==0.2.9-link-ws-oa) (3.3.4)\n",
      "Collecting mixpanel>=4.10.0\n",
      "  Downloading mixpanel-4.10.0-py2.py3-none-any.whl (8.9 kB)\n",
      "Requirement already satisfied: six==1.16.0 in /usr/local/lib/python3.10/site-packages (from polly-python==0.2.9-link-ws-oa) (1.16.0)\n",
      "Requirement already satisfied: python-magic==0.4.24 in /usr/local/lib/python3.10/site-packages (from polly-python==0.2.9-link-ws-oa) (0.4.24)\n",
      "Requirement already satisfied: plotly in /usr/local/lib/python3.10/site-packages (from polly-python==0.2.9-link-ws-oa) (5.13.0)\n",
      "Requirement already satisfied: rst2txt in /usr/local/lib/python3.10/site-packages (from polly-python==0.2.9-link-ws-oa) (1.1.0)\n",
      "Requirement already satisfied: boto3>=1.17.73 in /usr/local/lib/python3.10/site-packages (from polly-python==0.2.9-link-ws-oa) (1.21.19)\n",
      "Requirement already satisfied: datapane in /usr/local/lib/python3.10/site-packages (from polly-python==0.2.9-link-ws-oa) (0.15.6)\n",
      "Requirement already satisfied: chardet==4.0.0 in /usr/local/lib/python3.10/site-packages (from polly-python==0.2.9-link-ws-oa) (4.0.0)\n",
      "Requirement already satisfied: postpy2==0.0.6 in /usr/local/lib/python3.10/site-packages (from polly-python==0.2.9-link-ws-oa) (0.0.6)\n",
      "Requirement already satisfied: urllib3==1.26.6 in /usr/local/lib/python3.10/site-packages (from polly-python==0.2.9-link-ws-oa) (1.26.6)\n",
      "Requirement already satisfied: beautifulsoup4 in /usr/local/lib/python3.10/site-packages (from polly-python==0.2.9-link-ws-oa) (4.11.2)\n",
      "Requirement already satisfied: idna==2.10 in /usr/local/lib/python3.10/site-packages (from polly-python==0.2.9-link-ws-oa) (2.10)\n",
      "Requirement already satisfied: botocore>=1.20.73 in /usr/local/lib/python3.10/site-packages (from polly-python==0.2.9-link-ws-oa) (1.24.19)\n",
      "Requirement already satisfied: sqlparse in /usr/local/lib/python3.10/site-packages (from polly-python==0.2.9-link-ws-oa) (0.4.3)\n",
      "Requirement already satisfied: certifi==2021.10.8 in /usr/local/lib/python3.10/site-packages (from polly-python==0.2.9-link-ws-oa) (2021.10.8)\n",
      "Requirement already satisfied: pandas in /usr/local/lib/python3.10/site-packages (from polly-python==0.2.9-link-ws-oa) (1.4.1)\n",
      "Requirement already satisfied: python-dateutil in /usr/local/lib/python3.10/site-packages (from polly-python==0.2.9-link-ws-oa) (2.8.1)\n",
      "Requirement already satisfied: requests==2.25.1 in /usr/local/lib/python3.10/site-packages (from polly-python==0.2.9-link-ws-oa) (2.25.1)\n",
      "Requirement already satisfied: joblib in /usr/local/lib/python3.10/site-packages (from polly-python==0.2.9-link-ws-oa) (1.2.0)\n",
      "Collecting cryptography>=38.0.1\n",
      "  Downloading cryptography-39.0.1-cp36-abi3-manylinux_2_28_x86_64.whl (4.2 MB)\n",
      "\u001b[K     |████████████████████████████████| 4.2 MB 59.2 MB/s eta 0:00:01\n",
      "\u001b[?25hRequirement already satisfied: pydantic in /usr/local/lib/python3.10/site-packages (from polly-python==0.2.9-link-ws-oa) (1.9.1)\n",
      "Requirement already satisfied: pytz==2021.1 in /usr/local/lib/python3.10/site-packages (from polly-python==0.2.9-link-ws-oa) (2021.1)\n",
      "Requirement already satisfied: python-jose>=3.3.0 in /usr/local/lib/python3.10/site-packages (from polly-python==0.2.9-link-ws-oa) (3.3.0)\n",
      "Requirement already satisfied: setuptools in /usr/local/lib/python3.10/site-packages (from Cerberus==1.3.2->polly-python==0.2.9-link-ws-oa) (58.1.0)\n",
      "Requirement already satisfied: numpy>=1.11.2 in /usr/local/lib/python3.10/site-packages (from elucidatacmapPy==3.3.4->polly-python==0.2.9-link-ws-oa) (1.22.3)\n",
      "Requirement already satisfied: h5py>=2.6.0 in /usr/local/lib/python3.10/site-packages (from elucidatacmapPy==3.3.4->polly-python==0.2.9-link-ws-oa) (3.8.0)\n",
      "Collecting pronto\n",
      "  Downloading pronto-2.5.3-py2.py3-none-any.whl (61 kB)\n",
      "\u001b[K     |████████████████████████████████| 61 kB 2.0 MB/s eta 0:00:011\n",
      "\u001b[?25hCollecting rapidfuzz==2.1.1\n",
      "  Downloading rapidfuzz-2.1.1-cp310-cp310-manylinux_2_17_x86_64.manylinux2014_x86_64.whl (2.0 MB)\n",
      "\u001b[K     |████████████████████████████████| 2.0 MB 120.2 MB/s eta 0:00:01\n",
      "\u001b[?25hRequirement already satisfied: tabulate==0.8.10 in /usr/local/lib/python3.10/site-packages (from polly-validator==0.0.1->polly-python==0.2.9-link-ws-oa) (0.8.10)\n",
      "Collecting appdirs==1.4.4\n",
      "  Downloading appdirs-1.4.4-py2.py3-none-any.whl (9.6 kB)\n",
      "Collecting jarowinkler<1.1.0,>=1.0.3\n",
      "  Downloading jarowinkler-1.0.5-cp310-cp310-manylinux_2_17_x86_64.manylinux2014_x86_64.whl (103 kB)\n",
      "\u001b[K     |████████████████████████████████| 103 kB 133.5 MB/s eta 0:00:01\n",
      "\u001b[?25hRequirement already satisfied: s3transfer<0.6.0,>=0.5.0 in /usr/local/lib/python3.10/site-packages (from boto3>=1.17.73->polly-python==0.2.9-link-ws-oa) (0.5.2)\n",
      "Requirement already satisfied: jmespath<1.0.0,>=0.7.1 in /usr/local/lib/python3.10/site-packages (from boto3>=1.17.73->polly-python==0.2.9-link-ws-oa) (0.10.0)\n",
      "Requirement already satisfied: cffi>=1.12 in /usr/local/lib/python3.10/site-packages (from cryptography>=38.0.1->polly-python==0.2.9-link-ws-oa) (1.15.1)\n",
      "Requirement already satisfied: pycparser in /usr/local/lib/python3.10/site-packages (from cffi>=1.12->cryptography>=38.0.1->polly-python==0.2.9-link-ws-oa) (2.21)\n",
      "Requirement already satisfied: pyasn1 in /usr/local/lib/python3.10/site-packages (from python-jose>=3.3.0->polly-python==0.2.9-link-ws-oa) (0.4.8)\n",
      "Requirement already satisfied: ecdsa!=0.15 in /usr/local/lib/python3.10/site-packages (from python-jose>=3.3.0->polly-python==0.2.9-link-ws-oa) (0.18.0)\n",
      "Requirement already satisfied: rsa in /usr/local/lib/python3.10/site-packages (from python-jose>=3.3.0->polly-python==0.2.9-link-ws-oa) (4.7.2)\n",
      "Requirement already satisfied: soupsieve>1.2 in /usr/local/lib/python3.10/site-packages (from beautifulsoup4->polly-python==0.2.9-link-ws-oa) (2.3.2.post1)\n",
      "Requirement already satisfied: lxml<5.0.0,>=4.0.0 in /usr/local/lib/python3.10/site-packages (from datapane->polly-python==0.2.9-link-ws-oa) (4.9.2)\n",
      "Requirement already satisfied: datacommons<2.0.0,>=1.4.3 in /usr/local/lib/python3.10/site-packages (from datapane->polly-python==0.2.9-link-ws-oa) (1.4.3)\n",
      "Requirement already satisfied: validators<0.21.0,>=0.18.0 in /usr/local/lib/python3.10/site-packages (from datapane->polly-python==0.2.9-link-ws-oa) (0.20.0)\n",
      "Requirement already satisfied: datacommons-pandas<0.0.4,>=0.0.3 in /usr/local/lib/python3.10/site-packages (from datapane->polly-python==0.2.9-link-ws-oa) (0.0.3)\n",
      "Requirement already satisfied: furl<3.0.0,>=2.0.0 in /usr/local/lib/python3.10/site-packages (from datapane->polly-python==0.2.9-link-ws-oa) (2.1.3)\n",
      "Requirement already satisfied: boltons<22.0.0,>=20.0.0 in /usr/local/lib/python3.10/site-packages (from datapane->polly-python==0.2.9-link-ws-oa) (21.0.0)\n",
      "Requirement already satisfied: toolz<0.13.0,>=0.11.0 in /usr/local/lib/python3.10/site-packages (from datapane->polly-python==0.2.9-link-ws-oa) (0.12.0)\n",
      "Requirement already satisfied: pyarrow<11.0.0,>=6.0.0 in /usr/local/lib/python3.10/site-packages (from datapane->polly-python==0.2.9-link-ws-oa) (10.0.1)\n",
      "Requirement already satisfied: glom<24.0.0,>=20.11.0 in /usr/local/lib/python3.10/site-packages (from datapane->polly-python==0.2.9-link-ws-oa) (23.1.1)\n",
      "Requirement already satisfied: posthog<3.0.0,>=1.4.0 in /usr/local/lib/python3.10/site-packages (from datapane->polly-python==0.2.9-link-ws-oa) (2.3.0)\n",
      "Requirement already satisfied: importlib_resources<6.0.0,>=3.0.0 in /usr/local/lib/python3.10/site-packages (from datapane->polly-python==0.2.9-link-ws-oa) (5.10.2)\n",
      "Requirement already satisfied: altair<5.0.0,>=4.0.0 in /usr/local/lib/python3.10/site-packages (from datapane->polly-python==0.2.9-link-ws-oa) (4.2.2)\n",
      "Requirement already satisfied: colorlog<7.0.0,>=4.1.0 in /usr/local/lib/python3.10/site-packages (from datapane->polly-python==0.2.9-link-ws-oa) (6.7.0)\n",
      "Requirement already satisfied: dacite<2.0.0,>=1.0.2 in /usr/local/lib/python3.10/site-packages (from datapane->polly-python==0.2.9-link-ws-oa) (1.8.0)\n",
      "Requirement already satisfied: click<9.0.0,>=7.1.0 in /usr/local/lib/python3.10/site-packages (from datapane->polly-python==0.2.9-link-ws-oa) (8.1.3)\n",
      "Requirement already satisfied: packaging<24.0.0,>=21.0.0 in /usr/local/lib/python3.10/site-packages (from datapane->polly-python==0.2.9-link-ws-oa) (23.0)\n",
      "Requirement already satisfied: dominate<3.0.0,>=2.4.0 in /usr/local/lib/python3.10/site-packages (from datapane->polly-python==0.2.9-link-ws-oa) (2.7.0)\n",
      "Requirement already satisfied: munch<3.0.0,>=2.3.0 in /usr/local/lib/python3.10/site-packages (from datapane->polly-python==0.2.9-link-ws-oa) (2.5.0)\n",
      "Requirement already satisfied: ipynbname<2022.0.0,>=2021.3.2 in /usr/local/lib/python3.10/site-packages (from datapane->polly-python==0.2.9-link-ws-oa) (2021.3.2)\n",
      "Requirement already satisfied: stringcase<2.0.0,>=1.2.0 in /usr/local/lib/python3.10/site-packages (from datapane->polly-python==0.2.9-link-ws-oa) (1.2.0)\n",
      "Requirement already satisfied: nbconvert<7.0.0,>=6.1.0 in /usr/local/lib/python3.10/site-packages (from datapane->polly-python==0.2.9-link-ws-oa) (6.3.0)\n",
      "Requirement already satisfied: jsonschema<5.0.0,>=3.2.0 in /usr/local/lib/python3.10/site-packages (from datapane->polly-python==0.2.9-link-ws-oa) (4.2.1)\n",
      "Requirement already satisfied: requests-toolbelt<0.10.0,>=0.9.1 in /usr/local/lib/python3.10/site-packages (from datapane->polly-python==0.2.9-link-ws-oa) (0.9.1)\n",
      "Requirement already satisfied: vega-datasets<1.0.0,>=0.9.0 in /usr/local/lib/python3.10/site-packages (from datapane->polly-python==0.2.9-link-ws-oa) (0.9.0)\n",
      "Requirement already satisfied: PyYAML<7.0.0,>=5.4.0 in /usr/local/lib/python3.10/site-packages (from datapane->polly-python==0.2.9-link-ws-oa) (5.4.1)\n",
      "Requirement already satisfied: dulwich<0.21.0,>=0.20.0 in /usr/local/lib/python3.10/site-packages (from datapane->polly-python==0.2.9-link-ws-oa) (0.20.50)\n",
      "Requirement already satisfied: click-spinner<0.2.0,>=0.1.8 in /usr/local/lib/python3.10/site-packages (from datapane->polly-python==0.2.9-link-ws-oa) (0.1.10)\n",
      "Requirement already satisfied: Jinja2<4.0.0,>=3.0.0 in /usr/local/lib/python3.10/site-packages (from datapane->polly-python==0.2.9-link-ws-oa) (3.0.3)\n",
      "Requirement already satisfied: micawber>=0.5.0 in /usr/local/lib/python3.10/site-packages (from datapane->polly-python==0.2.9-link-ws-oa) (0.5.4)\n"
     ]
    },
    {
     "name": "stdout",
     "output_type": "stream",
     "text": [
      "Requirement already satisfied: entrypoints in /usr/local/lib/python3.10/site-packages (from altair<5.0.0,>=4.0.0->datapane->polly-python==0.2.9-link-ws-oa) (0.3)\n",
      "Requirement already satisfied: orderedmultidict>=1.0.1 in /usr/local/lib/python3.10/site-packages (from furl<3.0.0,>=2.0.0->datapane->polly-python==0.2.9-link-ws-oa) (1.0.1)\n",
      "Requirement already satisfied: face==20.1.1 in /usr/local/lib/python3.10/site-packages (from glom<24.0.0,>=20.11.0->datapane->polly-python==0.2.9-link-ws-oa) (20.1.1)\n",
      "Requirement already satisfied: attrs in /usr/local/lib/python3.10/site-packages (from glom<24.0.0,>=20.11.0->datapane->polly-python==0.2.9-link-ws-oa) (21.2.0)\n",
      "Requirement already satisfied: ipykernel in /usr/local/lib/python3.10/site-packages (from ipynbname<2022.0.0,>=2021.3.2->datapane->polly-python==0.2.9-link-ws-oa) (6.13.1)\n",
      "Requirement already satisfied: MarkupSafe>=2.0 in /usr/local/lib/python3.10/site-packages (from Jinja2<4.0.0,>=3.0.0->datapane->polly-python==0.2.9-link-ws-oa) (2.0.1)\n",
      "Requirement already satisfied: pyrsistent!=0.17.0,!=0.17.1,!=0.17.2,>=0.14.0 in /usr/local/lib/python3.10/site-packages (from jsonschema<5.0.0,>=3.2.0->datapane->polly-python==0.2.9-link-ws-oa) (0.18.0)\n",
      "Requirement already satisfied: mistune<2,>=0.8.1 in /usr/local/lib/python3.10/site-packages (from nbconvert<7.0.0,>=6.1.0->datapane->polly-python==0.2.9-link-ws-oa) (0.8.4)\n",
      "Requirement already satisfied: nbclient<0.6.0,>=0.5.0 in /usr/local/lib/python3.10/site-packages (from nbconvert<7.0.0,>=6.1.0->datapane->polly-python==0.2.9-link-ws-oa) (0.5.13)\n",
      "Requirement already satisfied: defusedxml in /usr/local/lib/python3.10/site-packages (from nbconvert<7.0.0,>=6.1.0->datapane->polly-python==0.2.9-link-ws-oa) (0.7.1)\n",
      "Requirement already satisfied: jupyter-core in /usr/local/lib/python3.10/site-packages (from nbconvert<7.0.0,>=6.1.0->datapane->polly-python==0.2.9-link-ws-oa) (4.9.1)\n",
      "Requirement already satisfied: traitlets>=5.0 in /usr/local/lib/python3.10/site-packages (from nbconvert<7.0.0,>=6.1.0->datapane->polly-python==0.2.9-link-ws-oa) (5.1.1)\n",
      "Requirement already satisfied: bleach in /usr/local/lib/python3.10/site-packages (from nbconvert<7.0.0,>=6.1.0->datapane->polly-python==0.2.9-link-ws-oa) (4.1.0)\n",
      "Requirement already satisfied: testpath in /usr/local/lib/python3.10/site-packages (from nbconvert<7.0.0,>=6.1.0->datapane->polly-python==0.2.9-link-ws-oa) (0.5.0)\n",
      "Requirement already satisfied: pygments>=2.4.1 in /usr/local/lib/python3.10/site-packages (from nbconvert<7.0.0,>=6.1.0->datapane->polly-python==0.2.9-link-ws-oa) (2.10.0)\n",
      "Requirement already satisfied: pandocfilters>=1.4.1 in /usr/local/lib/python3.10/site-packages (from nbconvert<7.0.0,>=6.1.0->datapane->polly-python==0.2.9-link-ws-oa) (1.5.0)\n",
      "Requirement already satisfied: nbformat>=4.4 in /usr/local/lib/python3.10/site-packages (from nbconvert<7.0.0,>=6.1.0->datapane->polly-python==0.2.9-link-ws-oa) (5.1.3)\n",
      "Requirement already satisfied: jupyterlab-pygments in /usr/local/lib/python3.10/site-packages (from nbconvert<7.0.0,>=6.1.0->datapane->polly-python==0.2.9-link-ws-oa) (0.2.2)\n",
      "Requirement already satisfied: nest-asyncio in /usr/local/lib/python3.10/site-packages (from nbclient<0.6.0,>=0.5.0->nbconvert<7.0.0,>=6.1.0->datapane->polly-python==0.2.9-link-ws-oa) (1.5.6)\n",
      "Requirement already satisfied: jupyter-client>=6.1.5 in /usr/local/lib/python3.10/site-packages (from nbclient<0.6.0,>=0.5.0->nbconvert<7.0.0,>=6.1.0->datapane->polly-python==0.2.9-link-ws-oa) (6.1.12)\n",
      "Requirement already satisfied: pyzmq>=13 in /usr/local/lib/python3.10/site-packages (from jupyter-client>=6.1.5->nbclient<0.6.0,>=0.5.0->nbconvert<7.0.0,>=6.1.0->datapane->polly-python==0.2.9-link-ws-oa) (22.3.0)\n",
      "Requirement already satisfied: tornado>=4.1 in /usr/local/lib/python3.10/site-packages (from jupyter-client>=6.1.5->nbclient<0.6.0,>=0.5.0->nbconvert<7.0.0,>=6.1.0->datapane->polly-python==0.2.9-link-ws-oa) (6.1)\n",
      "Requirement already satisfied: ipython-genutils in /usr/local/lib/python3.10/site-packages (from nbformat>=4.4->nbconvert<7.0.0,>=6.1.0->datapane->polly-python==0.2.9-link-ws-oa) (0.2.0)\n",
      "Requirement already satisfied: monotonic>=1.5 in /usr/local/lib/python3.10/site-packages (from posthog<3.0.0,>=1.4.0->datapane->polly-python==0.2.9-link-ws-oa) (1.6)\n",
      "Requirement already satisfied: backoff<2.0.0,>=1.10.0 in /usr/local/lib/python3.10/site-packages (from posthog<3.0.0,>=1.4.0->datapane->polly-python==0.2.9-link-ws-oa) (1.11.1)\n",
      "Requirement already satisfied: typing-extensions>=3.7.4.3 in /usr/local/lib/python3.10/site-packages (from pydantic->polly-python==0.2.9-link-ws-oa) (4.4.0)\n",
      "Requirement already satisfied: decorator>=3.4.0 in /usr/local/lib/python3.10/site-packages (from validators<0.21.0,>=0.18.0->datapane->polly-python==0.2.9-link-ws-oa) (5.1.0)\n",
      "Requirement already satisfied: webencodings in /usr/local/lib/python3.10/site-packages (from bleach->nbconvert<7.0.0,>=6.1.0->datapane->polly-python==0.2.9-link-ws-oa) (0.5.1)\n",
      "Requirement already satisfied: wrapt<2,>=1.10 in /usr/local/lib/python3.10/site-packages (from Deprecated->polly-python==0.2.9-link-ws-oa) (1.14.1)\n",
      "Requirement already satisfied: debugpy>=1.0 in /usr/local/lib/python3.10/site-packages (from ipykernel->ipynbname<2022.0.0,>=2021.3.2->datapane->polly-python==0.2.9-link-ws-oa) (1.6.6)\n",
      "Requirement already satisfied: matplotlib-inline>=0.1 in /usr/local/lib/python3.10/site-packages (from ipykernel->ipynbname<2022.0.0,>=2021.3.2->datapane->polly-python==0.2.9-link-ws-oa) (0.1.3)\n",
      "Requirement already satisfied: psutil in /usr/local/lib/python3.10/site-packages (from ipykernel->ipynbname<2022.0.0,>=2021.3.2->datapane->polly-python==0.2.9-link-ws-oa) (5.9.4)\n",
      "Requirement already satisfied: ipython>=7.23.1 in /usr/local/lib/python3.10/site-packages (from ipykernel->ipynbname<2022.0.0,>=2021.3.2->datapane->polly-python==0.2.9-link-ws-oa) (8.2.0)\n",
      "Requirement already satisfied: stack-data in /usr/local/lib/python3.10/site-packages (from ipython>=7.23.1->ipykernel->ipynbname<2022.0.0,>=2021.3.2->datapane->polly-python==0.2.9-link-ws-oa) (0.6.2)\n",
      "Requirement already satisfied: jedi>=0.16 in /usr/local/lib/python3.10/site-packages (from ipython>=7.23.1->ipykernel->ipynbname<2022.0.0,>=2021.3.2->datapane->polly-python==0.2.9-link-ws-oa) (0.18.1)\n",
      "Requirement already satisfied: prompt-toolkit!=3.0.0,!=3.0.1,<3.1.0,>=2.0.0 in /usr/local/lib/python3.10/site-packages (from ipython>=7.23.1->ipykernel->ipynbname<2022.0.0,>=2021.3.2->datapane->polly-python==0.2.9-link-ws-oa) (3.0.22)\n",
      "Requirement already satisfied: pexpect>4.3 in /usr/local/lib/python3.10/site-packages (from ipython>=7.23.1->ipykernel->ipynbname<2022.0.0,>=2021.3.2->datapane->polly-python==0.2.9-link-ws-oa) (4.8.0)\n",
      "Requirement already satisfied: backcall in /usr/local/lib/python3.10/site-packages (from ipython>=7.23.1->ipykernel->ipynbname<2022.0.0,>=2021.3.2->datapane->polly-python==0.2.9-link-ws-oa) (0.2.0)\n",
      "Requirement already satisfied: pickleshare in /usr/local/lib/python3.10/site-packages (from ipython>=7.23.1->ipykernel->ipynbname<2022.0.0,>=2021.3.2->datapane->polly-python==0.2.9-link-ws-oa) (0.7.5)\n",
      "Requirement already satisfied: parso<0.9.0,>=0.8.0 in /usr/local/lib/python3.10/site-packages (from jedi>=0.16->ipython>=7.23.1->ipykernel->ipynbname<2022.0.0,>=2021.3.2->datapane->polly-python==0.2.9-link-ws-oa) (0.8.2)\n",
      "Requirement already satisfied: ptyprocess>=0.5 in /usr/local/lib/python3.10/site-packages (from pexpect>4.3->ipython>=7.23.1->ipykernel->ipynbname<2022.0.0,>=2021.3.2->datapane->polly-python==0.2.9-link-ws-oa) (0.7.0)\n",
      "Requirement already satisfied: wcwidth in /usr/local/lib/python3.10/site-packages (from prompt-toolkit!=3.0.0,!=3.0.1,<3.1.0,>=2.0.0->ipython>=7.23.1->ipykernel->ipynbname<2022.0.0,>=2021.3.2->datapane->polly-python==0.2.9-link-ws-oa) (0.2.5)\n",
      "Requirement already satisfied: tenacity>=6.2.0 in /usr/local/lib/python3.10/site-packages (from plotly->polly-python==0.2.9-link-ws-oa) (8.1.0)\n",
      "Collecting fastobo~=0.12.2\n",
      "  Downloading fastobo-0.12.2-cp310-cp310-manylinux_2_17_x86_64.manylinux2014_x86_64.whl (2.1 MB)\n",
      "\u001b[K     |████████████████████████████████| 2.1 MB 115.6 MB/s eta 0:00:01\n",
      "\u001b[?25hCollecting networkx~=2.3\n",
      "  Downloading networkx-2.8.8-py3-none-any.whl (2.0 MB)\n",
      "\u001b[K     |████████████████████████████████| 2.0 MB 119.3 MB/s eta 0:00:01\n"
     ]
    },
    {
     "name": "stdout",
     "output_type": "stream",
     "text": [
      "\u001b[?25hCollecting pronto\n",
      "  Downloading pronto-2.5.2-py2.py3-none-any.whl (61 kB)\n",
      "\u001b[K     |████████████████████████████████| 61 kB 20.2 MB/s  eta 0:00:01\n",
      "\u001b[?25h  Downloading pronto-2.5.1-py2.py3-none-any.whl (61 kB)\n",
      "\u001b[K     |████████████████████████████████| 61 kB 23.0 MB/s  eta 0:00:01\n",
      "\u001b[?25hRequirement already satisfied: tomli>=1.0.0 in /usr/local/lib/python3.10/site-packages (from pytest->polly-python==0.2.9-link-ws-oa) (2.0.1)\n",
      "Requirement already satisfied: exceptiongroup>=1.0.0rc8 in /usr/local/lib/python3.10/site-packages (from pytest->polly-python==0.2.9-link-ws-oa) (1.1.0)\n",
      "Requirement already satisfied: pluggy<2.0,>=0.12 in /usr/local/lib/python3.10/site-packages (from pytest->polly-python==0.2.9-link-ws-oa) (1.0.0)\n",
      "Requirement already satisfied: iniconfig in /usr/local/lib/python3.10/site-packages (from pytest->polly-python==0.2.9-link-ws-oa) (2.0.0)\n",
      "Requirement already satisfied: docutils>=0.11 in /usr/local/lib/python3.10/site-packages (from rst2txt->polly-python==0.2.9-link-ws-oa) (0.15.2)\n",
      "Requirement already satisfied: executing>=1.2.0 in /usr/local/lib/python3.10/site-packages (from stack-data->ipython>=7.23.1->ipykernel->ipynbname<2022.0.0,>=2021.3.2->datapane->polly-python==0.2.9-link-ws-oa) (1.2.0)\n",
      "Requirement already satisfied: pure-eval in /usr/local/lib/python3.10/site-packages (from stack-data->ipython>=7.23.1->ipykernel->ipynbname<2022.0.0,>=2021.3.2->datapane->polly-python==0.2.9-link-ws-oa) (0.2.2)\n",
      "Requirement already satisfied: asttokens>=2.1.0 in /usr/local/lib/python3.10/site-packages (from stack-data->ipython>=7.23.1->ipykernel->ipynbname<2022.0.0,>=2021.3.2->datapane->polly-python==0.2.9-link-ws-oa) (2.2.1)\n",
      "Installing collected packages: networkx, jarowinkler, fastobo, rapidfuzz, pronto, appdirs, polly-validator, mixpanel, cryptography, polly-python\n",
      "  Attempting uninstall: networkx\n",
      "    Found existing installation: networkx 3.0\n",
      "    Uninstalling networkx-3.0:\n",
      "      Successfully uninstalled networkx-3.0\n",
      "  Attempting uninstall: polly-python\n",
      "    Found existing installation: polly-python 0.2.4\n",
      "    Uninstalling polly-python-0.2.4:\n",
      "      Successfully uninstalled polly-python-0.2.4\n",
      "Successfully installed appdirs-1.4.4 cryptography-39.0.1 fastobo-0.12.2 jarowinkler-1.0.5 mixpanel-4.10.0 networkx-2.8.8 polly-python-0.2.9 polly-validator-0.0.1 pronto-2.5.1 rapidfuzz-2.1.1\n",
      "\u001b[33mWARNING: Running pip as the 'root' user can result in broken permissions and conflicting behaviour with the system package manager. It is recommended to use a virtual environment instead: https://pip.pypa.io/warnings/venv\u001b[0m\n",
      "\u001b[33mWARNING: You are using pip version 21.2.4; however, version 23.0 is available.\n",
      "You should consider upgrading via the '/usr/local/bin/python3.10 -m pip install --upgrade pip' command.\u001b[0m\n"
     ]
    }
   ],
   "source": [
    "!sudo pip3 install https://elucidatainc.github.io/PublicAssets/builds/polly-python/tests/testpolly/polly_python-0.2.9_link_ws_oa-py3-none-any.whl"
   ]
  },
  {
   "cell_type": "code",
   "execution_count": 2,
   "metadata": {},
   "outputs": [],
   "source": [
    "from polly.auth import Polly\n",
    "from polly.omixatlas import OmixAtlas\n",
    "token_withaccess = \"eyJjdHkiOiJKV1QiLCJlbmMiOiJBMjU2R0NNIiwiYWxnIjoiUlNBLU9BRVAifQ.e5GisdjjvDNujccna1PPTakHY9xBOu33fMgdoEAylNE7v8QPEsY1pV2hrKiIoh24DpyfWktoYRBkp-LgZShjgcfvhnazsfHE0B_LpICzb62RubhKQ0OIbVRxB_DaOiGCLC8fYdp9NnmOCJ1qbWN6YwW3O5iG4-UmYCLWZxZTto2-wKDgiYncTuJRTj6b-IBOV07TnAZn1q-lxXzUzeefuQUpSiN_DA4QBF2qmYMtlVr7HSWK6C7rkkXSrMHukXVuPTKHd8-qz4rK5TSpvhn3S9tj076zB683LHbylS4Id1Zv7jK4jYuaxBGHfpWCiZRdvB7s4qosVPjV30uMI9edzA.cWuIDu17g3iZpfb-.zDPNUlNjoPNFWTSs5ibnZIQrNQJiYtE00TEPEh4rh1MWCtmXN-46SLCEYrxgIvYDdjvJRwdE6cpJuoYXIhxiSq1h0rviugzDVEBh_WnYR8th1WebGrJgPWUb0Znk_w3aHfGrdTyRqqKFUQZ7uZ5Eg9b_6lJZ8Lb-o71jWy9AJPZMeRU4XBaBJsSWyEqDASoHKyHa9X2xDvZoX91e8exaOdwEwGiYpcF6kj-e0kOQrmw7BZVt3DuiY3TysG5bOitc3T405a3WOlo8gK8cL10y2UdQ15h4qAw7DHfaHgrIf1U5duVSpdBVrsK_xmMj8qLGmvqHQIBjXN5C-CnhFGI075FWYHCds8sWYaPIouPz5LHS2nvQt39uyBOZDCo9YPCZTPYJf3jEFeBYrT4uxRsPF-rzQXbcjK60ThbtVweajRzLdrU70y4EYkGytpr9_NVJz38SvIu2U5qY9NX6P7b2X4xf2CgrqZWtfYq6obwOstpy1NDI3-2nTcsFnI-JFMDmsohYFI_MAXSSYFHx9lX-6bVgVC88VnLdjSA9q3oleOeci_qsgq8CivA0W5NFrHgO9cxjuiQLDzpT6iXgaSBM2J8Kd5hDHfKgnvL_6x-u_77IIaBrynSzx-jw3U06oVh000IdJCJEK4QhVDmr9sydq52h6dfWlwzRg81H_FXK1rlhFVrTZvTJeLX8yHLwiRI7XJBcyjBBfnPtM3e6F7PL3zlHIzIoMcZU7itP5iLs8kGc4iBAUQwb0VAPucsm10o7uIAORhOsyJi-VvnQujjTIBl0Dlg7OpDAUZ91vs5iymrhkL8TXBwWx3oiSAZe7tEID86hBx4tVkVKzR_QJ7FO43d-5_BoYZnO_qzCjSNrcbi36wYbPaqNem_tzCJvsilE0nVjPt70HTsuM0GDUjh7kuHqOufqsPBczqdNRZcmfoZznURK-FWl9zNB_nyeU9IdkXbw_qCbpcg8pCn_ezwlLhjL4mKeRvFIiHAYgrhH3tkEKa5KmYfXRbTiAxNx-OlpT6ndhRi-UoD-l75c4PNj7FPfxAT7hh5KKB25Zh43FBrtypPL7544ODKmG2LVFh4mqcNLF5QnvXRxJBOzxTlgur_6desTvicNzQit-CGM5QruETwH5NEJdUYOfxFHQflDbmdqXpDz8Lq7pEZ_sln2B9wLqn4w75WvmBJ3hV2yu51n6AvVVCF6NellNrTGx24T__lJJZwaEhUDmO4OD-iiocU-OsoMUP2wWaiwOv0073s1ZlKvDI2AeCIouGbsf5raywJWG5Ic9y9e0Olmx1ywM9VIr3xHUchw_83Vbo2n9SGeegytrcpT5J7JzlpwQ3KiWBJYAbYbw18I.oCVHCGa2FSGNG2AGOdY_0g\"\n",
    "Polly.auth(token_withaccess, env = \"testpolly\")"
   ]
  },
  {
   "cell_type": "code",
   "execution_count": 3,
   "metadata": {},
   "outputs": [
    {
     "name": "stdout",
     "output_type": "stream",
     "text": [
      " Workspace ID 14896 linked with OmixAtlas 1659288377827\n",
      " OmixAtlas 1659288377827 Updated  \n"
     ]
    },
    {
     "data": {
      "text/html": [
       "<div>\n",
       "<style scoped>\n",
       "    .dataframe tbody tr th:only-of-type {\n",
       "        vertical-align: middle;\n",
       "    }\n",
       "\n",
       "    .dataframe tbody tr th {\n",
       "        vertical-align: top;\n",
       "    }\n",
       "\n",
       "    .dataframe thead th {\n",
       "        text-align: right;\n",
       "    }\n",
       "</style>\n",
       "<table border=\"1\" class=\"dataframe\">\n",
       "  <thead>\n",
       "    <tr style=\"text-align: right;\">\n",
       "      <th></th>\n",
       "      <th>Repository Id</th>\n",
       "      <th>Repository Name</th>\n",
       "      <th>Category</th>\n",
       "      <th>Display Name</th>\n",
       "      <th>Description</th>\n",
       "    </tr>\n",
       "  </thead>\n",
       "  <tbody>\n",
       "    <tr>\n",
       "      <th>0</th>\n",
       "      <td>1659288377827</td>\n",
       "      <td>oa_testing</td>\n",
       "      <td>private</td>\n",
       "      <td>OA testing</td>\n",
       "      <td>This OA is for testing the performance of inge...</td>\n",
       "    </tr>\n",
       "  </tbody>\n",
       "</table>\n",
       "</div>"
      ],
      "text/plain": [
       "   Repository Id Repository Name Category Display Name  \\\n",
       "0  1659288377827      oa_testing  private   OA testing   \n",
       "\n",
       "                                         Description  \n",
       "0  This OA is for testing the performance of inge...  "
      ]
     },
     "execution_count": 3,
     "metadata": {},
     "output_type": "execute_result"
    }
   ],
   "source": [
    "# testing update omixatlas function with valid workspace ID\n",
    "# workspace ID is valid only if user is admin of that workspace\n",
    "oa = OmixAtlas()\n",
    "oa.update(\"1659288377827\", workspace_id = \"14896\")"
   ]
  },
  {
   "cell_type": "code",
   "execution_count": 4,
   "metadata": {},
   "outputs": [
    {
     "ename": "RequestException",
     "evalue": "('Failed to fetch workspace permissions', '{\"errors\": [{\"status\": \"403\", \"code\": \"forbidden\", \"title\": \"Invalid Project Ownership\", \"detail\": \"Not enough permissions over the Project id 99100\"}]}')",
     "output_type": "error",
     "traceback": [
      "\u001b[0;31m---------------------------------------------------------------------------\u001b[0m",
      "\u001b[0;31mRequestException\u001b[0m                          Traceback (most recent call last)",
      "Input \u001b[0;32mIn [4]\u001b[0m, in \u001b[0;36m<cell line: 4>\u001b[0;34m()\u001b[0m\n\u001b[1;32m      1\u001b[0m \u001b[38;5;66;03m# testing update omixatlas function with invalid workspace ID\u001b[39;00m\n\u001b[1;32m      2\u001b[0m \u001b[38;5;66;03m# workspace ID is invalid if user is not admin of that workspace\u001b[39;00m\n\u001b[1;32m      3\u001b[0m oa \u001b[38;5;241m=\u001b[39m OmixAtlas()\n\u001b[0;32m----> 4\u001b[0m \u001b[43moa\u001b[49m\u001b[38;5;241;43m.\u001b[39;49m\u001b[43mupdate\u001b[49m\u001b[43m(\u001b[49m\u001b[38;5;124;43m\"\u001b[39;49m\u001b[38;5;124;43m1659288377827\u001b[39;49m\u001b[38;5;124;43m\"\u001b[39;49m\u001b[43m,\u001b[49m\u001b[43m \u001b[49m\u001b[43mworkspace_id\u001b[49m\u001b[43m \u001b[49m\u001b[38;5;241;43m=\u001b[39;49m\u001b[43m \u001b[49m\u001b[38;5;124;43m\"\u001b[39;49m\u001b[38;5;124;43m99100\u001b[39;49m\u001b[38;5;124;43m\"\u001b[39;49m\u001b[43m)\u001b[49m\n",
      "File \u001b[0;32m/usr/local/lib/python3.10/site-packages/polly/tracking.py:48\u001b[0m, in \u001b[0;36mTrack.track_decorator.<locals>.wrapper_function\u001b[0;34m(*args, **kwargs)\u001b[0m\n\u001b[1;32m     46\u001b[0m         \u001b[38;5;28;01mreturn\u001b[39;00m result\n\u001b[1;32m     47\u001b[0m \u001b[38;5;28;01melse\u001b[39;00m:\n\u001b[0;32m---> 48\u001b[0m     \u001b[38;5;28;01mraise\u001b[39;00m returned_err\n",
      "File \u001b[0;32m/usr/local/lib/python3.10/site-packages/polly/tracking.py:20\u001b[0m, in \u001b[0;36mTrack.track_decorator.<locals>.wrapper_function\u001b[0;34m(*args, **kwargs)\u001b[0m\n\u001b[1;32m     18\u001b[0m execution_flag \u001b[38;5;241m=\u001b[39m \u001b[38;5;28;01mFalse\u001b[39;00m\n\u001b[1;32m     19\u001b[0m \u001b[38;5;28;01mtry\u001b[39;00m:\n\u001b[0;32m---> 20\u001b[0m     result \u001b[38;5;241m=\u001b[39m \u001b[43mfunction\u001b[49m\u001b[43m(\u001b[49m\u001b[38;5;241;43m*\u001b[39;49m\u001b[43margs\u001b[49m\u001b[43m,\u001b[49m\u001b[43m \u001b[49m\u001b[38;5;241;43m*\u001b[39;49m\u001b[38;5;241;43m*\u001b[39;49m\u001b[43mkwargs\u001b[49m\u001b[43m)\u001b[49m\n\u001b[1;32m     21\u001b[0m     execution_flag \u001b[38;5;241m=\u001b[39m \u001b[38;5;28;01mTrue\u001b[39;00m\n\u001b[1;32m     22\u001b[0m \u001b[38;5;28;01mexcept\u001b[39;00m \u001b[38;5;167;01mException\u001b[39;00m \u001b[38;5;28;01mas\u001b[39;00m e:\n",
      "File \u001b[0;32m/usr/local/lib/python3.10/site-packages/polly/omixatlas.py:1396\u001b[0m, in \u001b[0;36mOmixAtlas.update\u001b[0;34m(self, repo_key, display_name, description, image_url, workspace_id, components)\u001b[0m\n\u001b[1;32m   1393\u001b[0m     repo_key \u001b[38;5;241m=\u001b[39m \u001b[38;5;28mstr\u001b[39m(repo_key)\n\u001b[1;32m   1395\u001b[0m \u001b[38;5;28;01mif\u001b[39;00m workspace_id:\n\u001b[0;32m-> 1396\u001b[0m     \u001b[38;5;28;43mself\u001b[39;49m\u001b[38;5;241;43m.\u001b[39;49m\u001b[43m_link_workspace_to_omixatlas\u001b[49m\u001b[43m(\u001b[49m\u001b[43mrepo_key\u001b[49m\u001b[43m,\u001b[49m\u001b[43mworkspace_id\u001b[49m\u001b[43m)\u001b[49m\n\u001b[1;32m   1398\u001b[0m repo_curr_data \u001b[38;5;241m=\u001b[39m \u001b[38;5;28mself\u001b[39m\u001b[38;5;241m.\u001b[39m_get_omixatlas(repo_key)\n\u001b[1;32m   1400\u001b[0m \u001b[38;5;28;01mif\u001b[39;00m \u001b[38;5;124m\"\u001b[39m\u001b[38;5;124mattributes\u001b[39m\u001b[38;5;124m\"\u001b[39m \u001b[38;5;129;01mnot\u001b[39;00m \u001b[38;5;129;01min\u001b[39;00m repo_curr_data[\u001b[38;5;124m\"\u001b[39m\u001b[38;5;124mdata\u001b[39m\u001b[38;5;124m\"\u001b[39m]:\n",
      "File \u001b[0;32m/usr/local/lib/python3.10/site-packages/polly/omixatlas.py:1455\u001b[0m, in \u001b[0;36mOmixAtlas._link_workspace_to_omixatlas\u001b[0;34m(self, repo_id, workspace_id)\u001b[0m\n\u001b[1;32m   1453\u001b[0m op[\u001b[38;5;124m\"\u001b[39m\u001b[38;5;124mdata\u001b[39m\u001b[38;5;124m\"\u001b[39m][\u001b[38;5;124m\"\u001b[39m\u001b[38;5;124mattributes\u001b[39m\u001b[38;5;124m\"\u001b[39m]\u001b[38;5;241m.\u001b[39mpop(\u001b[38;5;124m\"\u001b[39m\u001b[38;5;124mrepo_name\u001b[39m\u001b[38;5;124m\"\u001b[39m)\n\u001b[1;32m   1454\u001b[0m resp \u001b[38;5;241m=\u001b[39m \u001b[38;5;28mself\u001b[39m\u001b[38;5;241m.\u001b[39msession\u001b[38;5;241m.\u001b[39mpatch(url, data\u001b[38;5;241m=\u001b[39mjson\u001b[38;5;241m.\u001b[39mdumps(op))\n\u001b[0;32m-> 1455\u001b[0m \u001b[43merror_handler\u001b[49m\u001b[43m(\u001b[49m\u001b[43mresp\u001b[49m\u001b[43m)\u001b[49m\n\u001b[1;32m   1456\u001b[0m \u001b[38;5;28;01mif\u001b[39;00m resp\u001b[38;5;241m.\u001b[39mstatus_code \u001b[38;5;241m!=\u001b[39m const\u001b[38;5;241m.\u001b[39mOK:\n\u001b[1;32m   1457\u001b[0m     \u001b[38;5;28;01mraise\u001b[39;00m \u001b[38;5;167;01mException\u001b[39;00m(resp\u001b[38;5;241m.\u001b[39mtext)\n",
      "File \u001b[0;32m/usr/local/lib/python3.10/site-packages/polly/errors.py:332\u001b[0m, in \u001b[0;36merror_handler\u001b[0;34m(response)\u001b[0m\n\u001b[1;32m    330\u001b[0m     \u001b[38;5;28;01mif\u001b[39;00m title \u001b[38;5;241m==\u001b[39m app_err_info\u001b[38;5;241m.\u001b[39mREPOSITORY_LOCKED:\n\u001b[1;32m    331\u001b[0m         detail \u001b[38;5;241m=\u001b[39m app_err_info\u001b[38;5;241m.\u001b[39mREPOSITORY_LOCKED_DETAIL\n\u001b[0;32m--> 332\u001b[0m     \u001b[38;5;28;01mraise\u001b[39;00m RequestException(title, detail)\n\u001b[1;32m    333\u001b[0m \u001b[38;5;28;01melif\u001b[39;00m response\u001b[38;5;241m.\u001b[39mstatus_code \u001b[38;5;241m==\u001b[39m \u001b[38;5;241m401\u001b[39m:\n\u001b[1;32m    334\u001b[0m     \u001b[38;5;28;01mraise\u001b[39;00m UnauthorizedException\n",
      "\u001b[0;31mRequestException\u001b[0m: ('Failed to fetch workspace permissions', '{\"errors\": [{\"status\": \"403\", \"code\": \"forbidden\", \"title\": \"Invalid Project Ownership\", \"detail\": \"Not enough permissions over the Project id 99100\"}]}')"
     ]
    }
   ],
   "source": [
    "# testing update omixatlas function with invalid workspace ID\n",
    "# workspace ID is invalid if user is not admin of that workspace\n",
    "oa = OmixAtlas()\n",
    "oa.update(\"1659288377827\", workspace_id = \"99100\")"
   ]
  },
  {
   "cell_type": "code",
   "execution_count": 5,
   "metadata": {},
   "outputs": [
    {
     "ename": "RequestException",
     "evalue": "('Failed to fetch workspace permissions', '{\"errors\": [{\"status\": \"500\", \"code\": \"internal_server_error\", \"title\": \"Internal Server Error\", \"detail\": \"invalid literal for int() with base 10: \\'abc12\\'\"}]}')",
     "output_type": "error",
     "traceback": [
      "\u001b[0;31m---------------------------------------------------------------------------\u001b[0m",
      "\u001b[0;31mRequestException\u001b[0m                          Traceback (most recent call last)",
      "Input \u001b[0;32mIn [5]\u001b[0m, in \u001b[0;36m<cell line: 4>\u001b[0;34m()\u001b[0m\n\u001b[1;32m      1\u001b[0m \u001b[38;5;66;03m# testing update omixatlas function with invalid workspace ID\u001b[39;00m\n\u001b[1;32m      2\u001b[0m \u001b[38;5;66;03m# workspace ID is invalid if it is not a number\u001b[39;00m\n\u001b[1;32m      3\u001b[0m oa \u001b[38;5;241m=\u001b[39m OmixAtlas()\n\u001b[0;32m----> 4\u001b[0m \u001b[43moa\u001b[49m\u001b[38;5;241;43m.\u001b[39;49m\u001b[43mupdate\u001b[49m\u001b[43m(\u001b[49m\u001b[38;5;124;43m\"\u001b[39;49m\u001b[38;5;124;43m1659288377827\u001b[39;49m\u001b[38;5;124;43m\"\u001b[39;49m\u001b[43m,\u001b[49m\u001b[43m \u001b[49m\u001b[43mworkspace_id\u001b[49m\u001b[43m \u001b[49m\u001b[38;5;241;43m=\u001b[39;49m\u001b[43m \u001b[49m\u001b[38;5;124;43m\"\u001b[39;49m\u001b[38;5;124;43mabc12\u001b[39;49m\u001b[38;5;124;43m\"\u001b[39;49m\u001b[43m)\u001b[49m\n",
      "File \u001b[0;32m/usr/local/lib/python3.10/site-packages/polly/tracking.py:48\u001b[0m, in \u001b[0;36mTrack.track_decorator.<locals>.wrapper_function\u001b[0;34m(*args, **kwargs)\u001b[0m\n\u001b[1;32m     46\u001b[0m         \u001b[38;5;28;01mreturn\u001b[39;00m result\n\u001b[1;32m     47\u001b[0m \u001b[38;5;28;01melse\u001b[39;00m:\n\u001b[0;32m---> 48\u001b[0m     \u001b[38;5;28;01mraise\u001b[39;00m returned_err\n",
      "File \u001b[0;32m/usr/local/lib/python3.10/site-packages/polly/tracking.py:20\u001b[0m, in \u001b[0;36mTrack.track_decorator.<locals>.wrapper_function\u001b[0;34m(*args, **kwargs)\u001b[0m\n\u001b[1;32m     18\u001b[0m execution_flag \u001b[38;5;241m=\u001b[39m \u001b[38;5;28;01mFalse\u001b[39;00m\n\u001b[1;32m     19\u001b[0m \u001b[38;5;28;01mtry\u001b[39;00m:\n\u001b[0;32m---> 20\u001b[0m     result \u001b[38;5;241m=\u001b[39m \u001b[43mfunction\u001b[49m\u001b[43m(\u001b[49m\u001b[38;5;241;43m*\u001b[39;49m\u001b[43margs\u001b[49m\u001b[43m,\u001b[49m\u001b[43m \u001b[49m\u001b[38;5;241;43m*\u001b[39;49m\u001b[38;5;241;43m*\u001b[39;49m\u001b[43mkwargs\u001b[49m\u001b[43m)\u001b[49m\n\u001b[1;32m     21\u001b[0m     execution_flag \u001b[38;5;241m=\u001b[39m \u001b[38;5;28;01mTrue\u001b[39;00m\n\u001b[1;32m     22\u001b[0m \u001b[38;5;28;01mexcept\u001b[39;00m \u001b[38;5;167;01mException\u001b[39;00m \u001b[38;5;28;01mas\u001b[39;00m e:\n",
      "File \u001b[0;32m/usr/local/lib/python3.10/site-packages/polly/omixatlas.py:1396\u001b[0m, in \u001b[0;36mOmixAtlas.update\u001b[0;34m(self, repo_key, display_name, description, image_url, workspace_id, components)\u001b[0m\n\u001b[1;32m   1393\u001b[0m     repo_key \u001b[38;5;241m=\u001b[39m \u001b[38;5;28mstr\u001b[39m(repo_key)\n\u001b[1;32m   1395\u001b[0m \u001b[38;5;28;01mif\u001b[39;00m workspace_id:\n\u001b[0;32m-> 1396\u001b[0m     \u001b[38;5;28;43mself\u001b[39;49m\u001b[38;5;241;43m.\u001b[39;49m\u001b[43m_link_workspace_to_omixatlas\u001b[49m\u001b[43m(\u001b[49m\u001b[43mrepo_key\u001b[49m\u001b[43m,\u001b[49m\u001b[43mworkspace_id\u001b[49m\u001b[43m)\u001b[49m\n\u001b[1;32m   1398\u001b[0m repo_curr_data \u001b[38;5;241m=\u001b[39m \u001b[38;5;28mself\u001b[39m\u001b[38;5;241m.\u001b[39m_get_omixatlas(repo_key)\n\u001b[1;32m   1400\u001b[0m \u001b[38;5;28;01mif\u001b[39;00m \u001b[38;5;124m\"\u001b[39m\u001b[38;5;124mattributes\u001b[39m\u001b[38;5;124m\"\u001b[39m \u001b[38;5;129;01mnot\u001b[39;00m \u001b[38;5;129;01min\u001b[39;00m repo_curr_data[\u001b[38;5;124m\"\u001b[39m\u001b[38;5;124mdata\u001b[39m\u001b[38;5;124m\"\u001b[39m]:\n",
      "File \u001b[0;32m/usr/local/lib/python3.10/site-packages/polly/omixatlas.py:1455\u001b[0m, in \u001b[0;36mOmixAtlas._link_workspace_to_omixatlas\u001b[0;34m(self, repo_id, workspace_id)\u001b[0m\n\u001b[1;32m   1453\u001b[0m op[\u001b[38;5;124m\"\u001b[39m\u001b[38;5;124mdata\u001b[39m\u001b[38;5;124m\"\u001b[39m][\u001b[38;5;124m\"\u001b[39m\u001b[38;5;124mattributes\u001b[39m\u001b[38;5;124m\"\u001b[39m]\u001b[38;5;241m.\u001b[39mpop(\u001b[38;5;124m\"\u001b[39m\u001b[38;5;124mrepo_name\u001b[39m\u001b[38;5;124m\"\u001b[39m)\n\u001b[1;32m   1454\u001b[0m resp \u001b[38;5;241m=\u001b[39m \u001b[38;5;28mself\u001b[39m\u001b[38;5;241m.\u001b[39msession\u001b[38;5;241m.\u001b[39mpatch(url, data\u001b[38;5;241m=\u001b[39mjson\u001b[38;5;241m.\u001b[39mdumps(op))\n\u001b[0;32m-> 1455\u001b[0m \u001b[43merror_handler\u001b[49m\u001b[43m(\u001b[49m\u001b[43mresp\u001b[49m\u001b[43m)\u001b[49m\n\u001b[1;32m   1456\u001b[0m \u001b[38;5;28;01mif\u001b[39;00m resp\u001b[38;5;241m.\u001b[39mstatus_code \u001b[38;5;241m!=\u001b[39m const\u001b[38;5;241m.\u001b[39mOK:\n\u001b[1;32m   1457\u001b[0m     \u001b[38;5;28;01mraise\u001b[39;00m \u001b[38;5;167;01mException\u001b[39;00m(resp\u001b[38;5;241m.\u001b[39mtext)\n",
      "File \u001b[0;32m/usr/local/lib/python3.10/site-packages/polly/errors.py:332\u001b[0m, in \u001b[0;36merror_handler\u001b[0;34m(response)\u001b[0m\n\u001b[1;32m    330\u001b[0m     \u001b[38;5;28;01mif\u001b[39;00m title \u001b[38;5;241m==\u001b[39m app_err_info\u001b[38;5;241m.\u001b[39mREPOSITORY_LOCKED:\n\u001b[1;32m    331\u001b[0m         detail \u001b[38;5;241m=\u001b[39m app_err_info\u001b[38;5;241m.\u001b[39mREPOSITORY_LOCKED_DETAIL\n\u001b[0;32m--> 332\u001b[0m     \u001b[38;5;28;01mraise\u001b[39;00m RequestException(title, detail)\n\u001b[1;32m    333\u001b[0m \u001b[38;5;28;01melif\u001b[39;00m response\u001b[38;5;241m.\u001b[39mstatus_code \u001b[38;5;241m==\u001b[39m \u001b[38;5;241m401\u001b[39m:\n\u001b[1;32m    334\u001b[0m     \u001b[38;5;28;01mraise\u001b[39;00m UnauthorizedException\n",
      "\u001b[0;31mRequestException\u001b[0m: ('Failed to fetch workspace permissions', '{\"errors\": [{\"status\": \"500\", \"code\": \"internal_server_error\", \"title\": \"Internal Server Error\", \"detail\": \"invalid literal for int() with base 10: \\'abc12\\'\"}]}')"
     ]
    }
   ],
   "source": [
    "# testing update omixatlas function with invalid workspace ID\n",
    "# workspace ID is invalid if it is not a number\n",
    "oa = OmixAtlas()\n",
    "oa.update(\"1659288377827\", workspace_id = \"abc12\")"
   ]
  },
  {
   "cell_type": "code",
   "execution_count": 7,
   "metadata": {},
   "outputs": [
    {
     "ename": "paramException",
     "evalue": "paramException (parameter error): No params passed to update, please pass a param",
     "output_type": "error",
     "traceback": [
      "\u001b[0;31m---------------------------------------------------------------------------\u001b[0m",
      "\u001b[0;31mparamException\u001b[0m                            Traceback (most recent call last)",
      "Input \u001b[0;32mIn [7]\u001b[0m, in \u001b[0;36m<cell line: 3>\u001b[0;34m()\u001b[0m\n\u001b[1;32m      1\u001b[0m \u001b[38;5;66;03m# testing update omixatlas function without passing any parameters\u001b[39;00m\n\u001b[1;32m      2\u001b[0m oa \u001b[38;5;241m=\u001b[39m OmixAtlas()\n\u001b[0;32m----> 3\u001b[0m \u001b[43moa\u001b[49m\u001b[38;5;241;43m.\u001b[39;49m\u001b[43mupdate\u001b[49m\u001b[43m(\u001b[49m\u001b[38;5;124;43m\"\u001b[39;49m\u001b[38;5;124;43m1659288377827\u001b[39;49m\u001b[38;5;124;43m\"\u001b[39;49m\u001b[43m)\u001b[49m\n",
      "File \u001b[0;32m/usr/local/lib/python3.10/site-packages/polly/tracking.py:48\u001b[0m, in \u001b[0;36mTrack.track_decorator.<locals>.wrapper_function\u001b[0;34m(*args, **kwargs)\u001b[0m\n\u001b[1;32m     46\u001b[0m         \u001b[38;5;28;01mreturn\u001b[39;00m result\n\u001b[1;32m     47\u001b[0m \u001b[38;5;28;01melse\u001b[39;00m:\n\u001b[0;32m---> 48\u001b[0m     \u001b[38;5;28;01mraise\u001b[39;00m returned_err\n",
      "File \u001b[0;32m/usr/local/lib/python3.10/site-packages/polly/tracking.py:20\u001b[0m, in \u001b[0;36mTrack.track_decorator.<locals>.wrapper_function\u001b[0;34m(*args, **kwargs)\u001b[0m\n\u001b[1;32m     18\u001b[0m execution_flag \u001b[38;5;241m=\u001b[39m \u001b[38;5;28;01mFalse\u001b[39;00m\n\u001b[1;32m     19\u001b[0m \u001b[38;5;28;01mtry\u001b[39;00m:\n\u001b[0;32m---> 20\u001b[0m     result \u001b[38;5;241m=\u001b[39m \u001b[43mfunction\u001b[49m\u001b[43m(\u001b[49m\u001b[38;5;241;43m*\u001b[39;49m\u001b[43margs\u001b[49m\u001b[43m,\u001b[49m\u001b[43m \u001b[49m\u001b[38;5;241;43m*\u001b[39;49m\u001b[38;5;241;43m*\u001b[39;49m\u001b[43mkwargs\u001b[49m\u001b[43m)\u001b[49m\n\u001b[1;32m     21\u001b[0m     execution_flag \u001b[38;5;241m=\u001b[39m \u001b[38;5;28;01mTrue\u001b[39;00m\n\u001b[1;32m     22\u001b[0m \u001b[38;5;28;01mexcept\u001b[39;00m \u001b[38;5;167;01mException\u001b[39;00m \u001b[38;5;28;01mas\u001b[39;00m e:\n",
      "File \u001b[0;32m/usr/local/lib/python3.10/site-packages/polly/omixatlas.py:1387\u001b[0m, in \u001b[0;36mOmixAtlas.update\u001b[0;34m(self, repo_key, display_name, description, image_url, workspace_id, components)\u001b[0m\n\u001b[1;32m   1384\u001b[0m     \u001b[38;5;28;01mraise\u001b[39;00m InvalidParameterException(\u001b[38;5;124m\"\u001b[39m\u001b[38;5;124mrepo_id/repo_name\u001b[39m\u001b[38;5;124m\"\u001b[39m)\n\u001b[1;32m   1386\u001b[0m \u001b[38;5;28;01mif\u001b[39;00m \u001b[38;5;129;01mnot\u001b[39;00m display_name \u001b[38;5;129;01mand\u001b[39;00m \u001b[38;5;129;01mnot\u001b[39;00m description \u001b[38;5;129;01mand\u001b[39;00m \u001b[38;5;129;01mnot\u001b[39;00m image_url \u001b[38;5;129;01mand\u001b[39;00m \u001b[38;5;129;01mnot\u001b[39;00m components \u001b[38;5;129;01mand\u001b[39;00m \u001b[38;5;129;01mnot\u001b[39;00m workspace_id:\n\u001b[0;32m-> 1387\u001b[0m     \u001b[38;5;28;01mraise\u001b[39;00m paramException(\n\u001b[1;32m   1388\u001b[0m         title\u001b[38;5;241m=\u001b[39m\u001b[38;5;124m\"\u001b[39m\u001b[38;5;124mParam Error\u001b[39m\u001b[38;5;124m\"\u001b[39m,\n\u001b[1;32m   1389\u001b[0m         detail\u001b[38;5;241m=\u001b[39m\u001b[38;5;124m\"\u001b[39m\u001b[38;5;124mNo params passed to update, please pass a param\u001b[39m\u001b[38;5;124m\"\u001b[39m,\n\u001b[1;32m   1390\u001b[0m     )\n\u001b[1;32m   1392\u001b[0m \u001b[38;5;28;01mif\u001b[39;00m \u001b[38;5;28misinstance\u001b[39m(repo_key, \u001b[38;5;28mint\u001b[39m):\n\u001b[1;32m   1393\u001b[0m     repo_key \u001b[38;5;241m=\u001b[39m \u001b[38;5;28mstr\u001b[39m(repo_key)\n",
      "\u001b[0;31mparamException\u001b[0m: paramException (parameter error): No params passed to update, please pass a param"
     ]
    }
   ],
   "source": [
    "# testing update omixatlas function without passing any parameters\n",
    "oa = OmixAtlas()\n",
    "oa.update(\"1659288377827\")"
   ]
  },
  {
   "cell_type": "code",
   "execution_count": null,
   "metadata": {},
   "outputs": [],
   "source": []
  }
 ],
 "metadata": {
  "kernelspec": {
   "display_name": "Python 3 (ipykernel)",
   "language": "python",
   "name": "python3"
  },
  "language_info": {
   "codemirror_mode": {
    "name": "ipython",
    "version": 3
   },
   "file_extension": ".py",
   "mimetype": "text/x-python",
   "name": "python",
   "nbconvert_exporter": "python",
   "pygments_lexer": "ipython3",
   "version": "3.10.2"
  }
 },
 "nbformat": 4,
 "nbformat_minor": 2
}
