{
 "cells": [
  {
   "cell_type": "markdown",
   "metadata": {},
   "source": [
    "# Welcome to Polly Python3 Notebook."
   ]
  },
  {
   "cell_type": "code",
   "execution_count": 1,
   "metadata": {},
   "outputs": [
    {
     "name": "stdout",
     "output_type": "stream",
     "text": [
      "/bin/bash: warning: setlocale: LC_ALL: cannot change locale (en_US.UTF-8)\n",
      "Collecting polly-python==0.2.8-updateDestFoldHandel-LIB385\n",
      "  Downloading https://elucidatainc.github.io/PublicAssets/builds/polly-python/tests/testpolly/polly_python-0.2.8_updateDestFoldHandel_LIB385-py3-none-any.whl (118 kB)\n",
      "\u001b[K     |████████████████████████████████| 118 kB 17.4 MB/s eta 0:00:01\n",
      "\u001b[?25hCollecting polly-validator@ https://elucidatainc.github.io/PublicAssets/builds/polly_validator-0.0.1-py3-none-any.whl\n",
      "  Downloading https://elucidatainc.github.io/PublicAssets/builds/polly_validator-0.0.1-py3-none-any.whl (22 kB)\n",
      "Requirement already satisfied: elucidatacmapPy==3.3.4 in /usr/local/lib/python3.10/site-packages (from polly-python==0.2.8-updateDestFoldHandel-LIB385) (3.3.4)\n",
      "Requirement already satisfied: six==1.16.0 in /usr/local/lib/python3.10/site-packages (from polly-python==0.2.8-updateDestFoldHandel-LIB385) (1.16.0)\n",
      "Requirement already satisfied: rst2txt in /usr/local/lib/python3.10/site-packages (from polly-python==0.2.8-updateDestFoldHandel-LIB385) (1.1.0)\n",
      "Requirement already satisfied: python-dateutil in /usr/local/lib/python3.10/site-packages (from polly-python==0.2.8-updateDestFoldHandel-LIB385) (2.8.1)\n",
      "Requirement already satisfied: datapane in /usr/local/lib/python3.10/site-packages (from polly-python==0.2.8-updateDestFoldHandel-LIB385) (0.15.5)\n",
      "Requirement already satisfied: pydantic in /usr/local/lib/python3.10/site-packages (from polly-python==0.2.8-updateDestFoldHandel-LIB385) (1.9.1)\n",
      "Requirement already satisfied: postpy2==0.0.6 in /usr/local/lib/python3.10/site-packages (from polly-python==0.2.8-updateDestFoldHandel-LIB385) (0.0.6)\n",
      "Requirement already satisfied: pytz==2021.1 in /usr/local/lib/python3.10/site-packages (from polly-python==0.2.8-updateDestFoldHandel-LIB385) (2021.1)\n",
      "Requirement already satisfied: retrying==1.3.3 in /usr/local/lib/python3.10/site-packages (from polly-python==0.2.8-updateDestFoldHandel-LIB385) (1.3.3)\n",
      "Collecting mixpanel>=4.10.0\n",
      "  Downloading mixpanel-4.10.0-py2.py3-none-any.whl (8.9 kB)\n",
      "Requirement already satisfied: idna==2.10 in /usr/local/lib/python3.10/site-packages (from polly-python==0.2.8-updateDestFoldHandel-LIB385) (2.10)\n",
      "Requirement already satisfied: urllib3==1.26.6 in /usr/local/lib/python3.10/site-packages (from polly-python==0.2.8-updateDestFoldHandel-LIB385) (1.26.6)\n",
      "Requirement already satisfied: plotly in /usr/local/lib/python3.10/site-packages (from polly-python==0.2.8-updateDestFoldHandel-LIB385) (5.11.0)\n",
      "Requirement already satisfied: beautifulsoup4 in /usr/local/lib/python3.10/site-packages (from polly-python==0.2.8-updateDestFoldHandel-LIB385) (4.11.1)\n",
      "Requirement already satisfied: certifi==2021.10.8 in /usr/local/lib/python3.10/site-packages (from polly-python==0.2.8-updateDestFoldHandel-LIB385) (2021.10.8)\n",
      "Requirement already satisfied: Deprecated in /usr/local/lib/python3.10/site-packages (from polly-python==0.2.8-updateDestFoldHandel-LIB385) (1.2.13)\n",
      "Requirement already satisfied: botocore>=1.20.73 in /usr/local/lib/python3.10/site-packages (from polly-python==0.2.8-updateDestFoldHandel-LIB385) (1.24.19)\n",
      "Requirement already satisfied: sqlparse in /usr/local/lib/python3.10/site-packages (from polly-python==0.2.8-updateDestFoldHandel-LIB385) (0.4.3)\n",
      "Requirement already satisfied: pytest in /usr/local/lib/python3.10/site-packages (from polly-python==0.2.8-updateDestFoldHandel-LIB385) (7.2.0)\n",
      "Requirement already satisfied: python-magic==0.4.24 in /usr/local/lib/python3.10/site-packages (from polly-python==0.2.8-updateDestFoldHandel-LIB385) (0.4.24)\n",
      "Requirement already satisfied: joblib in /usr/local/lib/python3.10/site-packages (from polly-python==0.2.8-updateDestFoldHandel-LIB385) (1.2.0)\n",
      "Collecting cryptography>=38.0.1\n",
      "  Downloading cryptography-39.0.0-cp36-abi3-manylinux_2_28_x86_64.whl (4.2 MB)\n",
      "\u001b[K     |████████████████████████████████| 4.2 MB 21.8 MB/s eta 0:00:01\n",
      "\u001b[?25hRequirement already satisfied: python-jose>=3.3.0 in /usr/local/lib/python3.10/site-packages (from polly-python==0.2.8-updateDestFoldHandel-LIB385) (3.3.0)\n",
      "Requirement already satisfied: chardet==4.0.0 in /usr/local/lib/python3.10/site-packages (from polly-python==0.2.8-updateDestFoldHandel-LIB385) (4.0.0)\n",
      "Requirement already satisfied: tqdm in /usr/local/lib/python3.10/site-packages (from polly-python==0.2.8-updateDestFoldHandel-LIB385) (4.64.1)\n",
      "Requirement already satisfied: requests==2.25.1 in /usr/local/lib/python3.10/site-packages (from polly-python==0.2.8-updateDestFoldHandel-LIB385) (2.25.1)\n",
      "Requirement already satisfied: elucidatacloudpathlib==0.6.6 in /usr/local/lib/python3.10/site-packages (from polly-python==0.2.8-updateDestFoldHandel-LIB385) (0.6.6)\n",
      "Requirement already satisfied: boto3>=1.17.73 in /usr/local/lib/python3.10/site-packages (from polly-python==0.2.8-updateDestFoldHandel-LIB385) (1.21.19)\n",
      "Requirement already satisfied: Cerberus==1.3.2 in /usr/local/lib/python3.10/site-packages (from polly-python==0.2.8-updateDestFoldHandel-LIB385) (1.3.2)\n",
      "Requirement already satisfied: pandas in /usr/local/lib/python3.10/site-packages (from polly-python==0.2.8-updateDestFoldHandel-LIB385) (1.4.1)\n",
      "Requirement already satisfied: setuptools in /usr/local/lib/python3.10/site-packages (from Cerberus==1.3.2->polly-python==0.2.8-updateDestFoldHandel-LIB385) (58.1.0)\n",
      "Requirement already satisfied: numpy>=1.11.2 in /usr/local/lib/python3.10/site-packages (from elucidatacmapPy==3.3.4->polly-python==0.2.8-updateDestFoldHandel-LIB385) (1.22.3)\n",
      "Requirement already satisfied: h5py>=2.6.0 in /usr/local/lib/python3.10/site-packages (from elucidatacmapPy==3.3.4->polly-python==0.2.8-updateDestFoldHandel-LIB385) (3.7.0)\n",
      "Requirement already satisfied: s3transfer<0.6.0,>=0.5.0 in /usr/local/lib/python3.10/site-packages (from boto3>=1.17.73->polly-python==0.2.8-updateDestFoldHandel-LIB385) (0.5.2)\n",
      "Requirement already satisfied: jmespath<1.0.0,>=0.7.1 in /usr/local/lib/python3.10/site-packages (from boto3>=1.17.73->polly-python==0.2.8-updateDestFoldHandel-LIB385) (0.10.0)\n",
      "Requirement already satisfied: cffi>=1.12 in /usr/local/lib/python3.10/site-packages (from cryptography>=38.0.1->polly-python==0.2.8-updateDestFoldHandel-LIB385) (1.15.1)\n",
      "Requirement already satisfied: pycparser in /usr/local/lib/python3.10/site-packages (from cffi>=1.12->cryptography>=38.0.1->polly-python==0.2.8-updateDestFoldHandel-LIB385) (2.21)\n",
      "Requirement already satisfied: ecdsa!=0.15 in /usr/local/lib/python3.10/site-packages (from python-jose>=3.3.0->polly-python==0.2.8-updateDestFoldHandel-LIB385) (0.18.0)\n",
      "Requirement already satisfied: pyasn1 in /usr/local/lib/python3.10/site-packages (from python-jose>=3.3.0->polly-python==0.2.8-updateDestFoldHandel-LIB385) (0.4.8)\n",
      "Requirement already satisfied: rsa in /usr/local/lib/python3.10/site-packages (from python-jose>=3.3.0->polly-python==0.2.8-updateDestFoldHandel-LIB385) (4.7.2)\n",
      "Requirement already satisfied: soupsieve>1.2 in /usr/local/lib/python3.10/site-packages (from beautifulsoup4->polly-python==0.2.8-updateDestFoldHandel-LIB385) (2.3.2.post1)\n",
      "Requirement already satisfied: vega-datasets<1.0.0,>=0.9.0 in /usr/local/lib/python3.10/site-packages (from datapane->polly-python==0.2.8-updateDestFoldHandel-LIB385) (0.9.0)\n",
      "Requirement already satisfied: jsonschema<5.0.0,>=3.2.0 in /usr/local/lib/python3.10/site-packages (from datapane->polly-python==0.2.8-updateDestFoldHandel-LIB385) (4.2.1)\n",
      "Requirement already satisfied: dulwich<0.21.0,>=0.20.0 in /usr/local/lib/python3.10/site-packages (from datapane->polly-python==0.2.8-updateDestFoldHandel-LIB385) (0.20.50)\n",
      "Requirement already satisfied: importlib_resources<6.0.0,>=3.0.0 in /usr/local/lib/python3.10/site-packages (from datapane->polly-python==0.2.8-updateDestFoldHandel-LIB385) (5.10.2)\n",
      "Requirement already satisfied: PyYAML<7.0.0,>=5.4.0 in /usr/local/lib/python3.10/site-packages (from datapane->polly-python==0.2.8-updateDestFoldHandel-LIB385) (5.4.1)\n",
      "Requirement already satisfied: boltons<22.0.0,>=20.0.0 in /usr/local/lib/python3.10/site-packages (from datapane->polly-python==0.2.8-updateDestFoldHandel-LIB385) (21.0.0)\n",
      "Requirement already satisfied: datacommons<2.0.0,>=1.4.3 in /usr/local/lib/python3.10/site-packages (from datapane->polly-python==0.2.8-updateDestFoldHandel-LIB385) (1.4.3)\n",
      "Requirement already satisfied: click<9.0.0,>=7.1.0 in /usr/local/lib/python3.10/site-packages (from datapane->polly-python==0.2.8-updateDestFoldHandel-LIB385) (8.1.3)\n",
      "Requirement already satisfied: packaging<22.0.0,>=20.0.0 in /usr/local/lib/python3.10/site-packages (from datapane->polly-python==0.2.8-updateDestFoldHandel-LIB385) (21.3)\n",
      "Requirement already satisfied: toolz<0.13.0,>=0.11.0 in /usr/local/lib/python3.10/site-packages (from datapane->polly-python==0.2.8-updateDestFoldHandel-LIB385) (0.12.0)\n",
      "Requirement already satisfied: nbconvert<7.0.0,>=6.1.0 in /usr/local/lib/python3.10/site-packages (from datapane->polly-python==0.2.8-updateDestFoldHandel-LIB385) (6.3.0)\n",
      "Requirement already satisfied: click-spinner<0.2.0,>=0.1.8 in /usr/local/lib/python3.10/site-packages (from datapane->polly-python==0.2.8-updateDestFoldHandel-LIB385) (0.1.10)\n",
      "Requirement already satisfied: dacite<2.0.0,>=1.0.2 in /usr/local/lib/python3.10/site-packages (from datapane->polly-python==0.2.8-updateDestFoldHandel-LIB385) (1.7.0)\n",
      "Requirement already satisfied: datacommons-pandas<0.0.4,>=0.0.3 in /usr/local/lib/python3.10/site-packages (from datapane->polly-python==0.2.8-updateDestFoldHandel-LIB385) (0.0.3)\n",
      "Requirement already satisfied: dominate<3.0.0,>=2.4.0 in /usr/local/lib/python3.10/site-packages (from datapane->polly-python==0.2.8-updateDestFoldHandel-LIB385) (2.7.0)\n",
      "Requirement already satisfied: munch<3.0.0,>=2.3.0 in /usr/local/lib/python3.10/site-packages (from datapane->polly-python==0.2.8-updateDestFoldHandel-LIB385) (2.5.0)\n",
      "Requirement already satisfied: micawber>=0.5.0 in /usr/local/lib/python3.10/site-packages (from datapane->polly-python==0.2.8-updateDestFoldHandel-LIB385) (0.5.4)\n",
      "Requirement already satisfied: pyarrow<11.0.0,>=6.0.0 in /usr/local/lib/python3.10/site-packages (from datapane->polly-python==0.2.8-updateDestFoldHandel-LIB385) (10.0.1)\n",
      "Requirement already satisfied: posthog<3.0.0,>=1.4.0 in /usr/local/lib/python3.10/site-packages (from datapane->polly-python==0.2.8-updateDestFoldHandel-LIB385) (2.2.0)\n",
      "Requirement already satisfied: colorlog<7.0.0,>=4.1.0 in /usr/local/lib/python3.10/site-packages (from datapane->polly-python==0.2.8-updateDestFoldHandel-LIB385) (6.7.0)\n",
      "Requirement already satisfied: lxml<5.0.0,>=4.0.0 in /usr/local/lib/python3.10/site-packages (from datapane->polly-python==0.2.8-updateDestFoldHandel-LIB385) (4.9.2)\n",
      "Requirement already satisfied: requests-toolbelt<0.10.0,>=0.9.1 in /usr/local/lib/python3.10/site-packages (from datapane->polly-python==0.2.8-updateDestFoldHandel-LIB385) (0.9.1)\n",
      "Requirement already satisfied: glom<23.0.0,>=20.11.0 in /usr/local/lib/python3.10/site-packages (from datapane->polly-python==0.2.8-updateDestFoldHandel-LIB385) (22.1.0)\n",
      "Requirement already satisfied: tabulate<0.9.0,>=0.8.0 in /usr/local/lib/python3.10/site-packages (from datapane->polly-python==0.2.8-updateDestFoldHandel-LIB385) (0.8.10)\n",
      "Requirement already satisfied: stringcase<2.0.0,>=1.2.0 in /usr/local/lib/python3.10/site-packages (from datapane->polly-python==0.2.8-updateDestFoldHandel-LIB385) (1.2.0)\n",
      "Requirement already satisfied: Jinja2<4.0.0,>=3.0.0 in /usr/local/lib/python3.10/site-packages (from datapane->polly-python==0.2.8-updateDestFoldHandel-LIB385) (3.0.3)\n",
      "Requirement already satisfied: furl<3.0.0,>=2.0.0 in /usr/local/lib/python3.10/site-packages (from datapane->polly-python==0.2.8-updateDestFoldHandel-LIB385) (2.1.3)\n",
      "Requirement already satisfied: altair<5.0.0,>=4.0.0 in /usr/local/lib/python3.10/site-packages (from datapane->polly-python==0.2.8-updateDestFoldHandel-LIB385) (4.2.0)\n",
      "Requirement already satisfied: ipynbname<2022.0.0,>=2021.3.2 in /usr/local/lib/python3.10/site-packages (from datapane->polly-python==0.2.8-updateDestFoldHandel-LIB385) (2021.3.2)\n",
      "Requirement already satisfied: validators<0.21.0,>=0.18.0 in /usr/local/lib/python3.10/site-packages (from datapane->polly-python==0.2.8-updateDestFoldHandel-LIB385) (0.20.0)\n",
      "Requirement already satisfied: entrypoints in /usr/local/lib/python3.10/site-packages (from altair<5.0.0,>=4.0.0->datapane->polly-python==0.2.8-updateDestFoldHandel-LIB385) (0.3)\n",
      "Requirement already satisfied: orderedmultidict>=1.0.1 in /usr/local/lib/python3.10/site-packages (from furl<3.0.0,>=2.0.0->datapane->polly-python==0.2.8-updateDestFoldHandel-LIB385) (1.0.1)\n",
      "Requirement already satisfied: attrs in /usr/local/lib/python3.10/site-packages (from glom<23.0.0,>=20.11.0->datapane->polly-python==0.2.8-updateDestFoldHandel-LIB385) (21.2.0)\n",
      "Requirement already satisfied: face>=20.1.0 in /usr/local/lib/python3.10/site-packages (from glom<23.0.0,>=20.11.0->datapane->polly-python==0.2.8-updateDestFoldHandel-LIB385) (22.0.0)\n",
      "Requirement already satisfied: ipykernel in /usr/local/lib/python3.10/site-packages (from ipynbname<2022.0.0,>=2021.3.2->datapane->polly-python==0.2.8-updateDestFoldHandel-LIB385) (6.13.1)\n",
      "Requirement already satisfied: MarkupSafe>=2.0 in /usr/local/lib/python3.10/site-packages (from Jinja2<4.0.0,>=3.0.0->datapane->polly-python==0.2.8-updateDestFoldHandel-LIB385) (2.0.1)\n",
      "Requirement already satisfied: pyrsistent!=0.17.0,!=0.17.1,!=0.17.2,>=0.14.0 in /usr/local/lib/python3.10/site-packages (from jsonschema<5.0.0,>=3.2.0->datapane->polly-python==0.2.8-updateDestFoldHandel-LIB385) (0.18.0)\n",
      "Requirement already satisfied: nbclient<0.6.0,>=0.5.0 in /usr/local/lib/python3.10/site-packages (from nbconvert<7.0.0,>=6.1.0->datapane->polly-python==0.2.8-updateDestFoldHandel-LIB385) (0.5.13)\n",
      "Requirement already satisfied: testpath in /usr/local/lib/python3.10/site-packages (from nbconvert<7.0.0,>=6.1.0->datapane->polly-python==0.2.8-updateDestFoldHandel-LIB385) (0.5.0)\n",
      "Requirement already satisfied: bleach in /usr/local/lib/python3.10/site-packages (from nbconvert<7.0.0,>=6.1.0->datapane->polly-python==0.2.8-updateDestFoldHandel-LIB385) (4.1.0)\n",
      "Requirement already satisfied: mistune<2,>=0.8.1 in /usr/local/lib/python3.10/site-packages (from nbconvert<7.0.0,>=6.1.0->datapane->polly-python==0.2.8-updateDestFoldHandel-LIB385) (0.8.4)\n",
      "Requirement already satisfied: pygments>=2.4.1 in /usr/local/lib/python3.10/site-packages (from nbconvert<7.0.0,>=6.1.0->datapane->polly-python==0.2.8-updateDestFoldHandel-LIB385) (2.10.0)\n",
      "Requirement already satisfied: jupyterlab-pygments in /usr/local/lib/python3.10/site-packages (from nbconvert<7.0.0,>=6.1.0->datapane->polly-python==0.2.8-updateDestFoldHandel-LIB385) (0.2.2)\n",
      "Requirement already satisfied: nbformat>=4.4 in /usr/local/lib/python3.10/site-packages (from nbconvert<7.0.0,>=6.1.0->datapane->polly-python==0.2.8-updateDestFoldHandel-LIB385) (5.1.3)\n",
      "Requirement already satisfied: pandocfilters>=1.4.1 in /usr/local/lib/python3.10/site-packages (from nbconvert<7.0.0,>=6.1.0->datapane->polly-python==0.2.8-updateDestFoldHandel-LIB385) (1.5.0)\n",
      "Requirement already satisfied: defusedxml in /usr/local/lib/python3.10/site-packages (from nbconvert<7.0.0,>=6.1.0->datapane->polly-python==0.2.8-updateDestFoldHandel-LIB385) (0.7.1)\n",
      "Requirement already satisfied: jupyter-core in /usr/local/lib/python3.10/site-packages (from nbconvert<7.0.0,>=6.1.0->datapane->polly-python==0.2.8-updateDestFoldHandel-LIB385) (4.9.1)\n",
      "Requirement already satisfied: traitlets>=5.0 in /usr/local/lib/python3.10/site-packages (from nbconvert<7.0.0,>=6.1.0->datapane->polly-python==0.2.8-updateDestFoldHandel-LIB385) (5.1.1)\n",
      "Requirement already satisfied: jupyter-client>=6.1.5 in /usr/local/lib/python3.10/site-packages (from nbclient<0.6.0,>=0.5.0->nbconvert<7.0.0,>=6.1.0->datapane->polly-python==0.2.8-updateDestFoldHandel-LIB385) (6.1.12)\n",
      "Requirement already satisfied: nest-asyncio in /usr/local/lib/python3.10/site-packages (from nbclient<0.6.0,>=0.5.0->nbconvert<7.0.0,>=6.1.0->datapane->polly-python==0.2.8-updateDestFoldHandel-LIB385) (1.5.6)\n",
      "Requirement already satisfied: tornado>=4.1 in /usr/local/lib/python3.10/site-packages (from jupyter-client>=6.1.5->nbclient<0.6.0,>=0.5.0->nbconvert<7.0.0,>=6.1.0->datapane->polly-python==0.2.8-updateDestFoldHandel-LIB385) (6.1)\n",
      "Requirement already satisfied: pyzmq>=13 in /usr/local/lib/python3.10/site-packages (from jupyter-client>=6.1.5->nbclient<0.6.0,>=0.5.0->nbconvert<7.0.0,>=6.1.0->datapane->polly-python==0.2.8-updateDestFoldHandel-LIB385) (22.3.0)\n",
      "Requirement already satisfied: ipython-genutils in /usr/local/lib/python3.10/site-packages (from nbformat>=4.4->nbconvert<7.0.0,>=6.1.0->datapane->polly-python==0.2.8-updateDestFoldHandel-LIB385) (0.2.0)\n",
      "Requirement already satisfied: pyparsing!=3.0.5,>=2.0.2 in /usr/local/lib/python3.10/site-packages (from packaging<22.0.0,>=20.0.0->datapane->polly-python==0.2.8-updateDestFoldHandel-LIB385) (3.0.6)\n",
      "Requirement already satisfied: backoff<2.0.0,>=1.10.0 in /usr/local/lib/python3.10/site-packages (from posthog<3.0.0,>=1.4.0->datapane->polly-python==0.2.8-updateDestFoldHandel-LIB385) (1.11.1)\n",
      "Requirement already satisfied: monotonic>=1.5 in /usr/local/lib/python3.10/site-packages (from posthog<3.0.0,>=1.4.0->datapane->polly-python==0.2.8-updateDestFoldHandel-LIB385) (1.6)\n",
      "Requirement already satisfied: typing-extensions>=3.7.4.3 in /usr/local/lib/python3.10/site-packages (from pydantic->polly-python==0.2.8-updateDestFoldHandel-LIB385) (4.4.0)\n",
      "Requirement already satisfied: decorator>=3.4.0 in /usr/local/lib/python3.10/site-packages (from validators<0.21.0,>=0.18.0->datapane->polly-python==0.2.8-updateDestFoldHandel-LIB385) (5.1.0)\n",
      "Requirement already satisfied: webencodings in /usr/local/lib/python3.10/site-packages (from bleach->nbconvert<7.0.0,>=6.1.0->datapane->polly-python==0.2.8-updateDestFoldHandel-LIB385) (0.5.1)\n",
      "Requirement already satisfied: wrapt<2,>=1.10 in /usr/local/lib/python3.10/site-packages (from Deprecated->polly-python==0.2.8-updateDestFoldHandel-LIB385) (1.14.1)\n",
      "Requirement already satisfied: psutil in /usr/local/lib/python3.10/site-packages (from ipykernel->ipynbname<2022.0.0,>=2021.3.2->datapane->polly-python==0.2.8-updateDestFoldHandel-LIB385) (5.9.4)\n",
      "Requirement already satisfied: ipython>=7.23.1 in /usr/local/lib/python3.10/site-packages (from ipykernel->ipynbname<2022.0.0,>=2021.3.2->datapane->polly-python==0.2.8-updateDestFoldHandel-LIB385) (8.2.0)\n",
      "Requirement already satisfied: matplotlib-inline>=0.1 in /usr/local/lib/python3.10/site-packages (from ipykernel->ipynbname<2022.0.0,>=2021.3.2->datapane->polly-python==0.2.8-updateDestFoldHandel-LIB385) (0.1.3)\n",
      "Requirement already satisfied: debugpy>=1.0 in /usr/local/lib/python3.10/site-packages (from ipykernel->ipynbname<2022.0.0,>=2021.3.2->datapane->polly-python==0.2.8-updateDestFoldHandel-LIB385) (1.6.4)\n",
      "Requirement already satisfied: jedi>=0.16 in /usr/local/lib/python3.10/site-packages (from ipython>=7.23.1->ipykernel->ipynbname<2022.0.0,>=2021.3.2->datapane->polly-python==0.2.8-updateDestFoldHandel-LIB385) (0.18.1)\n",
      "Requirement already satisfied: pexpect>4.3 in /usr/local/lib/python3.10/site-packages (from ipython>=7.23.1->ipykernel->ipynbname<2022.0.0,>=2021.3.2->datapane->polly-python==0.2.8-updateDestFoldHandel-LIB385) (4.8.0)\n",
      "Requirement already satisfied: prompt-toolkit!=3.0.0,!=3.0.1,<3.1.0,>=2.0.0 in /usr/local/lib/python3.10/site-packages (from ipython>=7.23.1->ipykernel->ipynbname<2022.0.0,>=2021.3.2->datapane->polly-python==0.2.8-updateDestFoldHandel-LIB385) (3.0.22)\n",
      "Requirement already satisfied: backcall in /usr/local/lib/python3.10/site-packages (from ipython>=7.23.1->ipykernel->ipynbname<2022.0.0,>=2021.3.2->datapane->polly-python==0.2.8-updateDestFoldHandel-LIB385) (0.2.0)\n",
      "Requirement already satisfied: stack-data in /usr/local/lib/python3.10/site-packages (from ipython>=7.23.1->ipykernel->ipynbname<2022.0.0,>=2021.3.2->datapane->polly-python==0.2.8-updateDestFoldHandel-LIB385) (0.6.2)\n",
      "Requirement already satisfied: pickleshare in /usr/local/lib/python3.10/site-packages (from ipython>=7.23.1->ipykernel->ipynbname<2022.0.0,>=2021.3.2->datapane->polly-python==0.2.8-updateDestFoldHandel-LIB385) (0.7.5)\n",
      "Requirement already satisfied: parso<0.9.0,>=0.8.0 in /usr/local/lib/python3.10/site-packages (from jedi>=0.16->ipython>=7.23.1->ipykernel->ipynbname<2022.0.0,>=2021.3.2->datapane->polly-python==0.2.8-updateDestFoldHandel-LIB385) (0.8.2)\n",
      "Requirement already satisfied: ptyprocess>=0.5 in /usr/local/lib/python3.10/site-packages (from pexpect>4.3->ipython>=7.23.1->ipykernel->ipynbname<2022.0.0,>=2021.3.2->datapane->polly-python==0.2.8-updateDestFoldHandel-LIB385) (0.7.0)\n",
      "Requirement already satisfied: wcwidth in /usr/local/lib/python3.10/site-packages (from prompt-toolkit!=3.0.0,!=3.0.1,<3.1.0,>=2.0.0->ipython>=7.23.1->ipykernel->ipynbname<2022.0.0,>=2021.3.2->datapane->polly-python==0.2.8-updateDestFoldHandel-LIB385) (0.2.5)\n",
      "Requirement already satisfied: tenacity>=6.2.0 in /usr/local/lib/python3.10/site-packages (from plotly->polly-python==0.2.8-updateDestFoldHandel-LIB385) (8.1.0)\n",
      "Collecting rapidfuzz==2.1.1\n",
      "  Downloading rapidfuzz-2.1.1-cp310-cp310-manylinux_2_17_x86_64.manylinux2014_x86_64.whl (2.0 MB)\n",
      "\u001b[K     |████████████████████████████████| 2.0 MB 71.6 MB/s eta 0:00:01     |████████████                    | 737 kB 71.6 MB/s eta 0:00:01\n",
      "\u001b[?25hCollecting pronto\n",
      "  Downloading pronto-2.5.2-py2.py3-none-any.whl (61 kB)\n",
      "\u001b[K     |████████████████████████████████| 61 kB 18.9 MB/s eta 0:00:01\n",
      "\u001b[?25hCollecting appdirs==1.4.4\n",
      "  Downloading appdirs-1.4.4-py2.py3-none-any.whl (9.6 kB)\n",
      "Collecting jarowinkler<1.1.0,>=1.0.3\n",
      "  Downloading jarowinkler-1.0.5-cp310-cp310-manylinux_2_17_x86_64.manylinux2014_x86_64.whl (103 kB)\n",
      "\u001b[K     |████████████████████████████████| 103 kB 119.3 MB/s eta 0:00:01\n",
      "\u001b[?25hCollecting fastobo~=0.12.2\n",
      "  Downloading fastobo-0.12.2-cp310-cp310-manylinux_2_17_x86_64.manylinux2014_x86_64.whl (2.1 MB)\n",
      "\u001b[K     |████████████████████████████████| 2.1 MB 82.6 MB/s eta 0:00:01\n",
      "\u001b[?25hCollecting pronto\n",
      "  Downloading pronto-2.5.1-py2.py3-none-any.whl (61 kB)\n",
      "\u001b[K     |████████████████████████████████| 61 kB 20.7 MB/s  eta 0:00:01\n",
      "\u001b[?25hRequirement already satisfied: networkx~=2.3 in /usr/local/lib/python3.10/site-packages (from pronto->polly-validator@ https://elucidatainc.github.io/PublicAssets/builds/polly_validator-0.0.1-py3-none-any.whl->polly-python==0.2.8-updateDestFoldHandel-LIB385) (2.8.8)\n",
      "Requirement already satisfied: pluggy<2.0,>=0.12 in /usr/local/lib/python3.10/site-packages (from pytest->polly-python==0.2.8-updateDestFoldHandel-LIB385) (1.0.0)\n",
      "Requirement already satisfied: tomli>=1.0.0 in /usr/local/lib/python3.10/site-packages (from pytest->polly-python==0.2.8-updateDestFoldHandel-LIB385) (2.0.1)\n",
      "Requirement already satisfied: iniconfig in /usr/local/lib/python3.10/site-packages (from pytest->polly-python==0.2.8-updateDestFoldHandel-LIB385) (1.1.1)\n",
      "Requirement already satisfied: exceptiongroup>=1.0.0rc8 in /usr/local/lib/python3.10/site-packages (from pytest->polly-python==0.2.8-updateDestFoldHandel-LIB385) (1.1.0)\n",
      "Requirement already satisfied: docutils>=0.11 in /usr/local/lib/python3.10/site-packages (from rst2txt->polly-python==0.2.8-updateDestFoldHandel-LIB385) (0.15.2)\n",
      "Requirement already satisfied: asttokens>=2.1.0 in /usr/local/lib/python3.10/site-packages (from stack-data->ipython>=7.23.1->ipykernel->ipynbname<2022.0.0,>=2021.3.2->datapane->polly-python==0.2.8-updateDestFoldHandel-LIB385) (2.2.1)\n",
      "Requirement already satisfied: pure-eval in /usr/local/lib/python3.10/site-packages (from stack-data->ipython>=7.23.1->ipykernel->ipynbname<2022.0.0,>=2021.3.2->datapane->polly-python==0.2.8-updateDestFoldHandel-LIB385) (0.2.2)\n",
      "Requirement already satisfied: executing>=1.2.0 in /usr/local/lib/python3.10/site-packages (from stack-data->ipython>=7.23.1->ipykernel->ipynbname<2022.0.0,>=2021.3.2->datapane->polly-python==0.2.8-updateDestFoldHandel-LIB385) (1.2.0)\n",
      "Installing collected packages: jarowinkler, fastobo, rapidfuzz, pronto, appdirs, polly-validator, mixpanel, cryptography, polly-python\n",
      "  Attempting uninstall: polly-python\n",
      "    Found existing installation: polly-python 0.2.4\n",
      "    Uninstalling polly-python-0.2.4:\n",
      "      Successfully uninstalled polly-python-0.2.4\n",
      "Successfully installed appdirs-1.4.4 cryptography-39.0.0 fastobo-0.12.2 jarowinkler-1.0.5 mixpanel-4.10.0 polly-python-0.2.8 polly-validator-0.0.1 pronto-2.5.1 rapidfuzz-2.1.1\n",
      "\u001b[33mWARNING: Running pip as the 'root' user can result in broken permissions and conflicting behaviour with the system package manager. It is recommended to use a virtual environment instead: https://pip.pypa.io/warnings/venv\u001b[0m\n",
      "\u001b[33mWARNING: You are using pip version 21.2.4; however, version 22.3.1 is available.\n",
      "You should consider upgrading via the '/usr/local/bin/python3.10 -m pip install --upgrade pip' command.\u001b[0m\n"
     ]
    }
   ],
   "source": [
    "!sudo pip3 install https://elucidatainc.github.io/PublicAssets/builds/polly-python/tests/testpolly/polly_python-0.2.8_updateDestFoldHandel_LIB385-py3-none-any.whl"
   ]
  },
  {
   "cell_type": "code",
   "execution_count": 3,
   "metadata": {},
   "outputs": [],
   "source": [
    "AUTH_TOKEN=(os.environ['POLLY_REFRESH_TOKEN'])"
   ]
  },
  {
   "cell_type": "code",
   "execution_count": 4,
   "metadata": {},
   "outputs": [],
   "source": [
    "import os\n",
    "from polly.auth import Polly\n",
    "from polly.omixatlas import OmixAtlas\n",
    "Polly.auth(AUTH_TOKEN)"
   ]
  },
  {
   "cell_type": "code",
   "execution_count": 5,
   "metadata": {},
   "outputs": [],
   "source": [
    "omixatlas = OmixAtlas()"
   ]
  },
  {
   "cell_type": "code",
   "execution_count": 29,
   "metadata": {},
   "outputs": [
    {
     "name": "stdout",
     "output_type": "stream",
     "text": [
      "/bin/bash: warning: setlocale: LC_ALL: cannot change locale (en_US.UTF-8)\n",
      "combined_metadata_jsons/\n",
      "data/\n",
      "metadata/\n",
      "metadata_1/\n",
      "\n"
     ]
    }
   ],
   "source": [
    "!polly files list --workspace-path \"polly://repoid_1654268055800_files_test/\" -y"
   ]
  },
  {
   "cell_type": "code",
   "execution_count": 18,
   "metadata": {},
   "outputs": [
    {
     "name": "stdout",
     "output_type": "stream",
     "text": [
      "/bin/bash: warning: setlocale: LC_ALL: cannot change locale (en_US.UTF-8)\n",
      "\u001b7\u001b[?7l\u001b[1Gprogress [░░░░░░░░░░░░░░░░░░░░░░░░░░░░░░░░░░░░░░░░] 0% | NA | ETA: 0s | time elapsed: 0s\u001b[0K\u001b[1Gprogress [████████████████████████████████████████] 100% | 1.833 KB/1.833 KB | ETA: 0s | time elapsed: 0s\u001b[0K\u001b[?7h\u001b8\n",
      "\u001b[32m\u001b[1mSuccess: Sync complete\u001b[22m\u001b[39m\n"
     ]
    }
   ],
   "source": [
    "!polly files sync -s \"polly://repoid_1654268055800_files_test/\" -d \"repoid_1654268055800_files_test/\" -y"
   ]
  },
  {
   "cell_type": "code",
   "execution_count": 12,
   "metadata": {},
   "outputs": [
    {
     "name": "stdout",
     "output_type": "stream",
     "text": [
      "/bin/bash: warning: setlocale: LC_ALL: cannot change locale (en_US.UTF-8)\r\n",
      "repoid_1654268055800_files_test/data:\r\n",
      "BRCA_BCCRC_Mutation_SA018.gct  BRCA_BCCRC_Mutation_SAytc.gct\r\n",
      "BRCA_BCCRC_Mutation_SA029.gct  CCLE_Mutation_C3A_LIVER.gct\r\n",
      "BRCA_BCCRC_Mutation_SA031.gct\r\n",
      "\r\n",
      "repoid_1654268055800_files_test/metadata:\r\n",
      "BRCA_BCCRC_Mutation_SA018.json  BRCA_BCCRC_Mutation_SA031.json\r\n",
      "BRCA_BCCRC_Mutation_SA029.json  BRCA_BCCRC_Mutation_SA031_dummy.json\r\n",
      "BRCA_BCCRC_Mutation_SA030.json\r\n"
     ]
    }
   ],
   "source": [
    "ls repoid_1654268055800_files_test/*"
   ]
  },
  {
   "cell_type": "markdown",
   "metadata": {},
   "source": [
    "# CASES OF UPDATING ONLY DATA FILE: "
   ]
  },
  {
   "cell_type": "markdown",
   "metadata": {},
   "source": [
    "\n",
    "### CASE1 : destination folder doesnt match for any of the files in the OA.\n",
    "### destination_folder_path = \"\"\n",
    "\n",
    "#### repoid_1654268055800_files_test/data:\n",
    "#### <file name> -> <in which folders in OA it is present>\n",
    "#### BRCA_BCCRC_Mutation_SA018.gct -> transcriptomics_70, transcriptomics_74, transcriptomics_76 -> expected warning of the data file not present in the dest folder provided\n",
    "#### BRCA_BCCRC_Mutation_SA029.gct -> ranscriptomics_70, transcriptomics_74, transcriptomics_76-> expected warning of the data file not present in the dest folder provided\n",
    "#### BRCA_BCCRC_Mutation_SA031.gct -> ranscriptomics_70, transcriptomics_74, transcriptomics_76-> expected warning of the data file not present in the dest folder provided\n",
    "#### BRCA_BCCRC_Mutation_SAytc.gct -> not present in OA -> expected warning of the data file not present in the OA itself\n",
    "#### CCLE_Mutation_C3A_LIVER.gct -> mutation folder-> expected warning of the data file not present in the dest folder provided"
   ]
  },
  {
   "cell_type": "code",
   "execution_count": 13,
   "metadata": {},
   "outputs": [
    {
     "name": "stderr",
     "output_type": "stream",
     "text": [
      "WARNING: Unable to update the data for BRCA_BCCRC_Mutation_SA018.gct because original data file not present in the provided destination folder path: . in the omixatlas.Please choose the required destination folder path from the following: \n",
      " ['transcriptomics_76', 'transcriptomics_70', 'transcriptomics_74'].\n",
      " For any questions, please reach out to polly.support@elucidata.io. \n",
      "WARNING: Unable to update metadata/data file BRCA_BCCRC_Mutation_SAytc.gct because corresponding data/metadata file not present in OmixAtlas. Please add the files using add_datasets function. For any questions, please reach out to polly.support@elucidata.io. \n",
      "WARNING: Unable to update the data for BRCA_BCCRC_Mutation_SA029.gct because original data file not present in the provided destination folder path: . in the omixatlas.Please choose the required destination folder path from the following: \n",
      " ['transcriptomics_76', 'transcriptomics_70', 'transcriptomics_74'].\n",
      " For any questions, please reach out to polly.support@elucidata.io. \n",
      "WARNING: Unable to update the data for BRCA_BCCRC_Mutation_SA031.gct because original data file not present in the provided destination folder path: . in the omixatlas.Please choose the required destination folder path from the following: \n",
      " ['transcriptomics_76', 'transcriptomics_70', 'transcriptomics_74'].\n",
      " For any questions, please reach out to polly.support@elucidata.io. \n",
      "WARNING: Unable to update the data for CCLE_Mutation_C3A_LIVER.gct because original data file not present in the provided destination folder path: . in the omixatlas.Please choose the required destination folder path from the following: \n",
      " ['Mutation'].\n",
      " For any questions, please reach out to polly.support@elucidata.io. \n",
      "Uploading data files: 0files [00:00, ?files/s]\n"
     ]
    }
   ],
   "source": [
    "data_folder_path = \"repoid_1654268055800_files_test/data\"\n",
    "repo_id= \"1654268055800\"\n",
    "destination_folder_path = \"\"\n",
    "priority = \"high\"\n",
    "source_folder_path = {\"data\":data_folder_path}\n",
    "omixatlas.update_datasets(repo_id, source_folder_path, destination_folder_path, priority)"
   ]
  },
  {
   "cell_type": "markdown",
   "metadata": {},
   "source": [
    "# CASE2 : destination folder matches for one of the files in the OA.\n",
    "### destination_folder_path = \"Mutation/\"\n",
    "\n",
    "#### repoid_1654268055800_files_test/data:\n",
    "#### <file name> -> <in which folders in OA it is present>\n",
    "#### BRCA_BCCRC_Mutation_SA018.gct -> transcriptomics_70, transcriptomics_74, transcriptomics_76 -> expected warning of the data file not present in the dest folder provided\n",
    "#### BRCA_BCCRC_Mutation_SA029.gct -> ranscriptomics_70, transcriptomics_74, transcriptomics_76-> expected warning of the data file not present in the dest folder provided\n",
    "#### BRCA_BCCRC_Mutation_SA031.gct -> ranscriptomics_70, transcriptomics_74, transcriptomics_76-> expected warning of the data file not present in the dest folder provided\n",
    "#### BRCA_BCCRC_Mutation_SAytc.gct -> not present in OA -> expected warning of the data file not present in the OA itself\n",
    "#### CCLE_Mutation_C3A_LIVER.gct -> mutation folder-> This should be updated"
   ]
  },
  {
   "cell_type": "code",
   "execution_count": 15,
   "metadata": {},
   "outputs": [
    {
     "name": "stderr",
     "output_type": "stream",
     "text": [
      "WARNING: Unable to update the data for BRCA_BCCRC_Mutation_SA018.gct because original data file not present in the provided destination folder path: Mutation in the omixatlas.Please choose the required destination folder path from the following: \n",
      " ['transcriptomics_76', 'transcriptomics_70', 'transcriptomics_74'].\n",
      " For any questions, please reach out to polly.support@elucidata.io. \n",
      "WARNING: Unable to update metadata/data file BRCA_BCCRC_Mutation_SAytc.gct because corresponding data/metadata file not present in OmixAtlas. Please add the files using add_datasets function. For any questions, please reach out to polly.support@elucidata.io. \n",
      "WARNING: Unable to update the data for BRCA_BCCRC_Mutation_SA029.gct because original data file not present in the provided destination folder path: Mutation in the omixatlas.Please choose the required destination folder path from the following: \n",
      " ['transcriptomics_76', 'transcriptomics_70', 'transcriptomics_74'].\n",
      " For any questions, please reach out to polly.support@elucidata.io. \n",
      "WARNING: Unable to update the data for BRCA_BCCRC_Mutation_SA031.gct because original data file not present in the provided destination folder path: Mutation in the omixatlas.Please choose the required destination folder path from the following: \n",
      " ['transcriptomics_76', 'transcriptomics_70', 'transcriptomics_74'].\n",
      " For any questions, please reach out to polly.support@elucidata.io. \n",
      "Uploading data files: 100%|██████████| 1/1 [00:00<00:00,  6.04files/s]\n"
     ]
    },
    {
     "name": "stdout",
     "output_type": "stream",
     "text": [
      "\n",
      "                      File Name        Message\n",
      "0  CCLE_Mutation_C3A_LIVER.gct  File Uploaded\n",
      "\n",
      "\n",
      "Ingestion request sent. Please check ingestion monitoring dashboard for further updates.\n"
     ]
    },
    {
     "data": {
      "text/html": [
       "<div>\n",
       "<style scoped>\n",
       "    .dataframe tbody tr th:only-of-type {\n",
       "        vertical-align: middle;\n",
       "    }\n",
       "\n",
       "    .dataframe tbody tr th {\n",
       "        vertical-align: top;\n",
       "    }\n",
       "\n",
       "    .dataframe thead th {\n",
       "        text-align: right;\n",
       "    }\n",
       "</style>\n",
       "<table border=\"1\" class=\"dataframe\">\n",
       "  <thead>\n",
       "    <tr style=\"text-align: right;\">\n",
       "      <th></th>\n",
       "      <th>File Name</th>\n",
       "      <th>Message</th>\n",
       "    </tr>\n",
       "  </thead>\n",
       "  <tbody>\n",
       "    <tr>\n",
       "      <th>0</th>\n",
       "      <td>CCLE_Mutation_C3A_LIVER.gct</td>\n",
       "      <td>File Uploaded</td>\n",
       "    </tr>\n",
       "  </tbody>\n",
       "</table>\n",
       "</div>"
      ],
      "text/plain": [
       "                     File Name        Message\n",
       "0  CCLE_Mutation_C3A_LIVER.gct  File Uploaded"
      ]
     },
     "execution_count": 15,
     "metadata": {},
     "output_type": "execute_result"
    }
   ],
   "source": [
    "data_folder_path = \"repoid_1654268055800_files_test/data\"\n",
    "repo_id= \"1654268055800\"\n",
    "destination_folder_path = \"Mutation/\"\n",
    "priority = \"high\"\n",
    "source_folder_path = {\"data\":data_folder_path}\n",
    "omixatlas.update_datasets(repo_id, source_folder_path, destination_folder_path, priority)"
   ]
  },
  {
   "cell_type": "markdown",
   "metadata": {},
   "source": [
    "# CASES OF UPDATING ONLY METADATA FILE: "
   ]
  },
  {
   "cell_type": "code",
   "execution_count": 16,
   "metadata": {},
   "outputs": [
    {
     "name": "stdout",
     "output_type": "stream",
     "text": [
      "/bin/bash: warning: setlocale: LC_ALL: cannot change locale (en_US.UTF-8)\r\n",
      "BRCA_BCCRC_Mutation_SA018.json  BRCA_BCCRC_Mutation_SA031.json\r\n",
      "BRCA_BCCRC_Mutation_SA029.json  BRCA_BCCRC_Mutation_SA031_dummy.json\r\n",
      "BRCA_BCCRC_Mutation_SA030.json\r\n"
     ]
    }
   ],
   "source": [
    "ls repoid_1654268055800_files_test/metadata/"
   ]
  },
  {
   "cell_type": "markdown",
   "metadata": {},
   "source": [
    "## CASE3 : destination folder doesnt match for any of the files in the OA."
   ]
  },
  {
   "cell_type": "markdown",
   "metadata": {},
   "source": [
    "BRCA_BCCRC_Mutation_SA018.json -> 'transcriptomics_70', 'transcriptomics_76', 'transcriptomics_74'\n",
    "BRCA_BCCRC_Mutation_SA029.json -> 'transcriptomics_70', 'transcriptomics_76', 'transcriptomics_74'\n",
    "BRCA_BCCRC_Mutation_SA030.json -> 'transcriptomics_70', 'transcriptomics_76', 'transcriptomics_74'\n",
    "BRCA_BCCRC_Mutation_SA031.json -> 'transcriptomics_70', 'transcriptomics_76', 'transcriptomics_74'\n",
    "BRCA_BCCRC_Mutation_SA031_dummy.json -> not present in oa"
   ]
  },
  {
   "cell_type": "code",
   "execution_count": 17,
   "metadata": {},
   "outputs": [
    {
     "name": "stderr",
     "output_type": "stream",
     "text": [
      "Processing Metadata files:   0%|          | 0/5 [00:00<?, ?it/s]WARNING: The metadata for BRCA_BCCRC_Mutation_SA029.json couldn't be updated.The dataset couldn’t be found in the destination folder you provided.Instead, we found this data in the following folders:['transcriptomics_76', 'transcriptomics_70', 'transcriptomics_74']Please pick the appropriate destination folder and try updating the data again..\n",
      " For any questions, please reach out to polly.support@elucidata.io. \n",
      "Processing Metadata files:  20%|██        | 1/5 [00:02<00:08,  2.15s/it]WARNING: The metadata for BRCA_BCCRC_Mutation_SA018.json couldn't be updated.The dataset couldn’t be found in the destination folder you provided.Instead, we found this data in the following folders:['transcriptomics_76', 'transcriptomics_70', 'transcriptomics_74']Please pick the appropriate destination folder and try updating the data again..\n",
      " For any questions, please reach out to polly.support@elucidata.io. \n",
      "Processing Metadata files:  40%|████      | 2/5 [00:04<00:06,  2.10s/it]WARNING: Unable to update metadata/data file BRCA_BCCRC_Mutation_SA031_dummy.json because corresponding data/metadata file not present in OmixAtlas. Please add the files using add_datasets function. For any questions, please reach out to polly.support@elucidata.io. \n",
      "Processing Metadata files:  60%|██████    | 3/5 [00:06<00:04,  2.14s/it]WARNING: The metadata for BRCA_BCCRC_Mutation_SA031.json couldn't be updated.The dataset couldn’t be found in the destination folder you provided.Instead, we found this data in the following folders:['transcriptomics_76', 'transcriptomics_70', 'transcriptomics_74']Please pick the appropriate destination folder and try updating the data again..\n",
      " For any questions, please reach out to polly.support@elucidata.io. \n",
      "Processing Metadata files:  80%|████████  | 4/5 [00:08<00:02,  2.16s/it]WARNING: The metadata for BRCA_BCCRC_Mutation_SA030.json couldn't be updated.The dataset couldn’t be found in the destination folder you provided.Instead, we found this data in the following folders:['transcriptomics_76', 'transcriptomics_70', 'transcriptomics_74']Please pick the appropriate destination folder and try updating the data again..\n",
      " For any questions, please reach out to polly.support@elucidata.io. \n",
      "Processing Metadata files: 100%|██████████| 5/5 [00:10<00:00,  2.18s/it]\n"
     ]
    }
   ],
   "source": [
    "metadata_folder_path = \"repoid_1654268055800_files_test/metadata/\"\n",
    "repo_id= \"1654268055800\"\n",
    "destination_folder_path = \"transcriptomics_75\"\n",
    "priority = \"high\"\n",
    "source_folder_path = {\"metadata\":metadata_folder_path}\n",
    "omixatlas.update_datasets(repo_id, source_folder_path, destination_folder_path, priority)"
   ]
  },
  {
   "cell_type": "markdown",
   "metadata": {},
   "source": [
    "## CASE3 : destination folder doesnt match for any of the files in the OA."
   ]
  },
  {
   "cell_type": "code",
   "execution_count": 19,
   "metadata": {},
   "outputs": [
    {
     "name": "stdout",
     "output_type": "stream",
     "text": [
      "/bin/bash: warning: setlocale: LC_ALL: cannot change locale (en_US.UTF-8)\r\n",
      "PRAD_CPCG_2017_Mutation_TCGA-2A-A8VL-01.json\r\n"
     ]
    }
   ],
   "source": [
    "ls repoid_1654268055800_files_test/metadata_1/"
   ]
  },
  {
   "cell_type": "code",
   "execution_count": 20,
   "metadata": {},
   "outputs": [
    {
     "name": "stdout",
     "output_type": "stream",
     "text": [
      "/bin/bash: warning: setlocale: LC_ALL: cannot change locale (en_US.UTF-8)\r\n"
     ]
    }
   ],
   "source": [
    "!cp repoid_1654268055800_files_test/metadata_1/PRAD_CPCG_2017_Mutation_TCGA-2A-A8VL-01.json repoid_1654268055800_files_test/metadata/"
   ]
  },
  {
   "cell_type": "code",
   "execution_count": 21,
   "metadata": {},
   "outputs": [
    {
     "name": "stdout",
     "output_type": "stream",
     "text": [
      "/bin/bash: warning: setlocale: LC_ALL: cannot change locale (en_US.UTF-8)\r\n",
      "BRCA_BCCRC_Mutation_SA018.json  BRCA_BCCRC_Mutation_SA031.json\r\n",
      "BRCA_BCCRC_Mutation_SA029.json  BRCA_BCCRC_Mutation_SA031_dummy.json\r\n",
      "BRCA_BCCRC_Mutation_SA030.json  PRAD_CPCG_2017_Mutation_TCGA-2A-A8VL-01.json\r\n"
     ]
    }
   ],
   "source": [
    "ls repoid_1654268055800_files_test/metadata"
   ]
  },
  {
   "cell_type": "code",
   "execution_count": 22,
   "metadata": {},
   "outputs": [],
   "source": [
    "##### PRAD_CPCG_2017_Mutation_TCGA-2A-A8VL-01.json -> is present in OA in the folder transcriptomics_75/\n",
    "### when providing \"transcriptomics_75\" as the destination folder path with the same folder as above, we expect this one file to get updated successfully\n",
    "### since the file is present in the OA and at the same path as the destination folder path provided. "
   ]
  },
  {
   "cell_type": "code",
   "execution_count": 23,
   "metadata": {},
   "outputs": [
    {
     "name": "stderr",
     "output_type": "stream",
     "text": [
      "Processing Metadata files:   0%|          | 0/6 [00:00<?, ?it/s]WARNING: The metadata for BRCA_BCCRC_Mutation_SA029.json couldn't be updated.The dataset couldn’t be found in the destination folder you provided.Instead, we found this data in the following folders:['transcriptomics_76', 'transcriptomics_70', 'transcriptomics_74']Please pick the appropriate destination folder and try updating the data again..\n",
      " For any questions, please reach out to polly.support@elucidata.io. \n",
      "Processing Metadata files:  17%|█▋        | 1/6 [00:02<00:11,  2.29s/it]WARNING: The metadata for BRCA_BCCRC_Mutation_SA018.json couldn't be updated.The dataset couldn’t be found in the destination folder you provided.Instead, we found this data in the following folders:['transcriptomics_76', 'transcriptomics_70', 'transcriptomics_74']Please pick the appropriate destination folder and try updating the data again..\n",
      " For any questions, please reach out to polly.support@elucidata.io. \n",
      "Processing Metadata files:  33%|███▎      | 2/6 [00:04<00:08,  2.19s/it]WARNING: Unable to update metadata/data file BRCA_BCCRC_Mutation_SA031_dummy.json because corresponding data/metadata file not present in OmixAtlas. Please add the files using add_datasets function. For any questions, please reach out to polly.support@elucidata.io. \n",
      "Processing Metadata files:  50%|█████     | 3/6 [00:06<00:06,  2.15s/it]WARNING: The metadata for BRCA_BCCRC_Mutation_SA031.json couldn't be updated.The dataset couldn’t be found in the destination folder you provided.Instead, we found this data in the following folders:['transcriptomics_76', 'transcriptomics_70', 'transcriptomics_74']Please pick the appropriate destination folder and try updating the data again..\n",
      " For any questions, please reach out to polly.support@elucidata.io. \n",
      "Processing Metadata files:  67%|██████▋   | 4/6 [00:08<00:04,  2.12s/it]WARNING: The metadata for BRCA_BCCRC_Mutation_SA030.json couldn't be updated.The dataset couldn’t be found in the destination folder you provided.Instead, we found this data in the following folders:['transcriptomics_76', 'transcriptomics_70', 'transcriptomics_74']Please pick the appropriate destination folder and try updating the data again..\n",
      " For any questions, please reach out to polly.support@elucidata.io. \n",
      "Processing Metadata files: 100%|██████████| 6/6 [00:12<00:00,  2.10s/it]\n"
     ]
    },
    {
     "name": "stdout",
     "output_type": "stream",
     "text": [
      "\n",
      "                 File Name        Message\n",
      "0  combined_metadata.json  File Uploaded\n",
      "\n",
      "\n",
      "Ingestion request sent. Please check ingestion monitoring dashboard for further updates.\n"
     ]
    },
    {
     "data": {
      "text/html": [
       "<div>\n",
       "<style scoped>\n",
       "    .dataframe tbody tr th:only-of-type {\n",
       "        vertical-align: middle;\n",
       "    }\n",
       "\n",
       "    .dataframe tbody tr th {\n",
       "        vertical-align: top;\n",
       "    }\n",
       "\n",
       "    .dataframe thead th {\n",
       "        text-align: right;\n",
       "    }\n",
       "</style>\n",
       "<table border=\"1\" class=\"dataframe\">\n",
       "  <thead>\n",
       "    <tr style=\"text-align: right;\">\n",
       "      <th></th>\n",
       "      <th>File Name</th>\n",
       "      <th>Message</th>\n",
       "    </tr>\n",
       "  </thead>\n",
       "  <tbody>\n",
       "    <tr>\n",
       "      <th>0</th>\n",
       "      <td>combined_metadata.json</td>\n",
       "      <td>File Uploaded</td>\n",
       "    </tr>\n",
       "  </tbody>\n",
       "</table>\n",
       "</div>"
      ],
      "text/plain": [
       "                File Name        Message\n",
       "0  combined_metadata.json  File Uploaded"
      ]
     },
     "execution_count": 23,
     "metadata": {},
     "output_type": "execute_result"
    }
   ],
   "source": [
    "metadata_folder_path = \"repoid_1654268055800_files_test/metadata/\"\n",
    "repo_id= \"1654268055800\"\n",
    "destination_folder_path = \"transcriptomics_75\"\n",
    "priority = \"high\"\n",
    "source_folder_path = {\"metadata\":metadata_folder_path}\n",
    "omixatlas.update_datasets(repo_id, source_folder_path, destination_folder_path, priority)"
   ]
  },
  {
   "cell_type": "code",
   "execution_count": 30,
   "metadata": {},
   "outputs": [
    {
     "name": "stdout",
     "output_type": "stream",
     "text": [
      "/bin/bash: warning: setlocale: LC_ALL: cannot change locale (en_US.UTF-8)\r\n",
      "{\r\n",
      "    \"data\": [\r\n",
      "        {\r\n",
      "            \"id\": \"metadata/ingestion\",\r\n",
      "            \"type\": \"ingestion_metadata\",\r\n",
      "            \"attributes\": {\r\n",
      "                \"ignore\": \"false\",\r\n",
      "                \"urgent\": \"true\",\r\n",
      "                \"v1_infra\": false,\r\n",
      "                \"priority\": \"high\"\r\n",
      "            }\r\n",
      "        },\r\n",
      "        {\r\n",
      "            \"id\": \"transcriptomics_75/PRAD_CPCG_2017_Mutation_TCGA-2A-A8VL-01.gct\",\r\n",
      "            \"type\": \"file_metadata\",\r\n",
      "            \"attributes\": {\r\n",
      "                \"__index__\": {\r\n",
      "                    \"file_metadata\": \"true\",\r\n",
      "                    \"col_metadata\": \"true\",\r\n",
      "                    \"row_metadata\": \"true\",\r\n",
      "                    \"data_required\": \"true\",\r\n",
      "                    \"timestamp\": \"1673356396.719808\"\r\n",
      "                },\r\n",
      "                \"kw_filetype\": null,\r\n",
      "                \"organism\": [\r\n",
      "                    \"Homo sapiens\"\r\n",
      "                ],\r\n",
      "                \"kw_src_uri\": \"polly:data://cbioportal/data/PRAD_CPCG_2017/Mutation/PRAD_CPCG_2017_Mutation_TCGA-2A-A8VL-01.gct\",\r\n",
      "                \"total_num_samples\": 1,\r\n",
      "                \"kw_disease_type\": \"Prostate Cancer\",\r\n",
      "                \"sample_id\": \"TCGA-2A-A8VL-01\",\r\n",
      "                \"description\": \"PRAD_CPCG_2017 Mutation dataset for sample id - PRAD_CPCG_2017_Mutation_TCGA-2A-A8VL-01\",\r\n",
      "                \"kw_cell_line\": [\r\n",
      "                    \"None\"\r\n",
      "                ],\r\n",
      "                \"data_table_name\": \"cbioportal__prad_cpcg_2017_mutation_tcga_2a_a8vl_01\",\r\n",
      "                \"data_table_version\": 0,\r\n",
      "                \"raw_disease\": [\r\n",
      "                    \"Prostate Adenocarcinoma\"\r\n",
      "                ],\r\n",
      "                \"kw_timestamp_\": 1649618266407,\r\n",
      "                \"kw_file_type\": \"gct\",\r\n",
      "                \"publication\": \"None\",\r\n",
      "                \"kw_cell_type\": [\r\n",
      "                    \"None\"\r\n",
      "                ],\r\n",
      "                \"kw_key\": \"cbioportal/data/PRAD_CPCG_2017/Mutation/PRAD_CPCG_2017_Mutation_TCGA-2A-A8VL-01.gct\",\r\n",
      "                \"kw_src_repo\": \"cbioportal\",\r\n",
      "                \"kw_package\": \"cbioportal/data\",\r\n",
      "                \"kw_file_location\": \"https://discover-prod-datalake-v1.s3-us-west-2.amazonaws.com/cbioportal/data/PRAD_CPCG_2017/Mutation/PRAD_CPCG_2017_Mutation_TCGA-2A-A8VL-01.gct\",\r\n",
      "                \"curation_version\": \"g3\",\r\n",
      "                \"dataset_id\": \"PRAD_CPCG_2017_Mutation_TCGA-2A-A8VL-01\",\r\n",
      "                \"disease\": [\r\n",
      "                    \"Prostatic Neoplasms\"\r\n",
      "                ],\r\n",
      "                \"kw_drug\": [\r\n",
      "                    \"None\"\r\n",
      "                ],\r\n",
      "                \"data_repository\": null,\r\n",
      "                \"experimental_design\": null,\r\n",
      "                \"version\": 0,\r\n",
      "                \"data_source\": null,\r\n",
      "                \"kw_bucket\": \"discover-prod-datalake-v1\",\r\n",
      "                \"kw_repo\": null,\r\n",
      "                \"tissue\": [\r\n",
      "                    \"prostate gland\"\r\n",
      "                ],\r\n",
      "                \"dataset_source\": \"cBioPortal\",\r\n",
      "                \"kw_data_type\": \"Mutation\",\r\n",
      "                \"kw_project\": \"PRAD_CPCG_2017\",\r\n",
      "                \"is_current\": true,\r\n",
      "                \"kw_region\": \"us-west-2\",\r\n",
      "                \"operation\": null\r\n",
      "            }\r\n",
      "        }\r\n",
      "    ]\r\n",
      "}"
     ]
    }
   ],
   "source": [
    "#downloaded the combined metadta json from the s3 path to check and uploaded it into workspace\n",
    "!cat /import/repoid_1654268055800_files_test/repoid_1654268055800_files_test/combined_metadata_jsons/1673443183532_metadata.json"
   ]
  },
  {
   "cell_type": "code",
   "execution_count": null,
   "metadata": {},
   "outputs": [],
   "source": []
  },
  {
   "cell_type": "markdown",
   "metadata": {},
   "source": [
    "## CASE4 : destination folder matches in some cases and both data and metadata are updated. "
   ]
  },
  {
   "cell_type": "code",
   "execution_count": 33,
   "metadata": {},
   "outputs": [
    {
     "name": "stdout",
     "output_type": "stream",
     "text": [
      "/bin/bash: warning: setlocale: LC_ALL: cannot change locale (en_US.UTF-8)\r\n",
      "repoid_1654268055800_files_test/data/:\r\n",
      "BRCA_BCCRC_Mutation_SA018.gct  BRCA_BCCRC_Mutation_SAytc.gct\r\n",
      "BRCA_BCCRC_Mutation_SA029.gct  CCLE_Mutation_C3A_LIVER.gct\r\n",
      "BRCA_BCCRC_Mutation_SA031.gct\r\n",
      "\r\n",
      "repoid_1654268055800_files_test/metadata/:\r\n",
      "BRCA_BCCRC_Mutation_SA018.json\tBRCA_BCCRC_Mutation_SA031.json\r\n",
      "BRCA_BCCRC_Mutation_SA029.json\tBRCA_BCCRC_Mutation_SA031_dummy.json\r\n",
      "BRCA_BCCRC_Mutation_SA030.json\tPRAD_CPCG_2017_Mutation_TCGA-2A-A8VL-01.json\r\n"
     ]
    }
   ],
   "source": [
    "!ls repoid_1654268055800_files_test/*data/"
   ]
  },
  {
   "cell_type": "markdown",
   "metadata": {},
   "source": [
    "#here: \n",
    "    1. BRCA_BCCRC_Mutation_SA018.gct - BRCA_BCCRC_Mutation_SA018.json -> pair - destination path transcriptomics_70, transcriptomics_74, transcriptomics_76\n",
    "    2. BRCA_BCCRC_Mutation_SA029.gct - BRCA_BCCRC_Mutation_SA029.json -> pair - destination path transcriptomics_70, transcriptomics_74, transcriptomics_76\n",
    "    3. BRCA_BCCRC_Mutation_SA031.gct - BRCA_BCCRC_Mutation_SA031.json -> pair - destination path transcriptomics_70, transcriptomics_74, transcriptomics_76\n",
    "    4. BRCA_BCCRC_Mutation_SAytc.gct - not a pair - absent in OA\n",
    "    5. CCLE_Mutation_C3A_LIVER.gct - not a pair - present at some other place in  in OA\n",
    "    6. PRAD_CPCG_2017_Mutation_TCGA-2A-A8VL-01.json - - not a pair - present at some other place in  in OA\n",
    "    7. BRCA_BCCRC_Mutation_SA031_dummy.json - not a pair - not present in OA as well. \n",
    "    \n",
    "Expected outcome : \n",
    "    for 4,7 -> warning saying the file is not present in the OA - should be skipped. \n",
    "    for 5,6 -> warning saying the file is not present in the provided dest folder in OA - should be skipped.\n",
    "    for 1,2,3 -> update should be successfully done. "
   ]
  },
  {
   "cell_type": "markdown",
   "metadata": {},
   "source": [
    "metadata_folder_path = \"repoid_1654268055800_files_test/metadata/\"\n",
    "data_folder_path = \"repoid_1654268055800_files_test/data/\"\n",
    "repo_id= \"1654268055800\"\n",
    "destination_folder_path = \"transcriptomics_70\"\n",
    "priority = \"high\"\n",
    "source_folder_path = {\"metadata\":metadata_folder_path, \"data\":data_folder_path }\n",
    "omixatlas.update_datasets(repo_id, source_folder_path, destination_folder_path, priority)"
   ]
  },
  {
   "cell_type": "markdown",
   "metadata": {},
   "source": [
    "Note: in case a we have a pair but a new destination folder path - then the data would be uploaded to the new destination folder path. "
   ]
  },
  {
   "cell_type": "code",
   "execution_count": null,
   "metadata": {},
   "outputs": [],
   "source": []
  }
 ],
 "metadata": {
  "kernelspec": {
   "display_name": "Python 3 (ipykernel)",
   "language": "python",
   "name": "python3"
  },
  "language_info": {
   "codemirror_mode": {
    "name": "ipython",
    "version": 3
   },
   "file_extension": ".py",
   "mimetype": "text/x-python",
   "name": "python",
   "nbconvert_exporter": "python",
   "pygments_lexer": "ipython3",
   "version": "3.10.2"
  }
 },
 "nbformat": 4,
 "nbformat_minor": 2
}
