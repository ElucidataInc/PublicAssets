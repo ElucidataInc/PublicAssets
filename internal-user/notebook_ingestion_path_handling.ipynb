{
 "cells": [
  {
   "cell_type": "markdown",
   "metadata": {},
   "source": [
    "# Welcome to Polly Python3 Notebook."
   ]
  },
  {
   "cell_type": "code",
   "execution_count": 1,
   "metadata": {},
   "outputs": [
    {
     "name": "stdout",
     "output_type": "stream",
     "text": [
      "/bin/bash: warning: setlocale: LC_ALL: cannot change locale (en_US.UTF-8)\n",
      "Defaulting to user installation because normal site-packages is not writeable\n",
      "Looking in indexes: https://pypi.org/simple, http://54.245.179.143:80/\n",
      "Collecting polly-python==0.3.1-LIB-465-4\n",
      "  Downloading https://elucidatainc.github.io/PublicAssets/builds/polly-python/tests/testpolly/polly_python-0.3.1_LIB_465_4-py3-none-any.whl (119 kB)\n",
      "\u001b[K     |████████████████████████████████| 119 kB 6.4 MB/s eta 0:00:01\n",
      "\u001b[?25hCollecting beautifulsoup4\n",
      "  Downloading beautifulsoup4-4.12.2-py3-none-any.whl (142 kB)\n",
      "\u001b[K     |████████████████████████████████| 142 kB 5.6 MB/s eta 0:00:01\n",
      "\u001b[?25hCollecting plotly>=2.0.0\n",
      "  Downloading plotly-5.14.1-py2.py3-none-any.whl (15.3 MB)\n",
      "\u001b[K     |████████████████████████████████| 15.3 MB 13.6 MB/s eta 0:00:01\n",
      "\u001b[?25hCollecting retrying>=1.3.3\n",
      "  Downloading retrying-1.3.4-py3-none-any.whl (11 kB)\n",
      "Collecting cryptography>=38.0.1\n",
      "  Downloading cryptography-40.0.2-cp36-abi3-manylinux_2_28_x86_64.whl (3.7 MB)\n",
      "\u001b[K     |████████████████████████████████| 3.7 MB 73.6 MB/s eta 0:00:01\n",
      "\u001b[?25hCollecting elucidatacmapPy==3.3.4\n",
      "  Downloading elucidatacmapPy-3.3.4-py3-none-any.whl (134 kB)\n",
      "\u001b[K     |████████████████████████████████| 134 kB 80.8 MB/s eta 0:00:01\n",
      "\u001b[?25hRequirement already satisfied: requests>=2.25.1 in /usr/local/lib/python3.10/site-packages (from polly-python==0.3.1-LIB-465-4) (2.27.1)\n",
      "Collecting datapane>=0.9.1\n",
      "  Downloading datapane-0.16.4-py3-none-any.whl (226 kB)\n",
      "\u001b[K     |████████████████████████████████| 226 kB 82.3 MB/s eta 0:00:01\n",
      "\u001b[?25hCollecting joblib>=0.11\n",
      "  Downloading joblib-1.2.0-py3-none-any.whl (297 kB)\n",
      "\u001b[K     |████████████████████████████████| 297 kB 76.9 MB/s eta 0:00:01\n",
      "\u001b[?25hRequirement already satisfied: pandas>=1.0.1 in /usr/local/lib/python3.10/site-packages (from polly-python==0.3.1-LIB-465-4) (1.4.1)\n",
      "Collecting Deprecated>=1.2.6\n",
      "  Downloading Deprecated-1.2.13-py2.py3-none-any.whl (9.6 kB)\n",
      "Collecting rst2txt>=1.1.0\n",
      "  Downloading rst2txt-1.1.0-py2.py3-none-any.whl (12 kB)\n",
      "Requirement already satisfied: botocore>=1.20.73 in /usr/local/lib/python3.10/site-packages (from polly-python==0.3.1-LIB-465-4) (1.24.19)\n",
      "Collecting mixpanel>=4.10.0\n",
      "  Downloading mixpanel-4.10.0-py2.py3-none-any.whl (8.9 kB)\n",
      "Requirement already satisfied: boto3>=1.17.73 in /usr/local/lib/python3.10/site-packages (from polly-python==0.3.1-LIB-465-4) (1.21.19)\n",
      "Collecting pydantic>=0.32.0\n",
      "  Downloading pydantic-1.10.7-cp310-cp310-manylinux_2_17_x86_64.manylinux2014_x86_64.whl (3.1 MB)\n",
      "\u001b[K     |████████████████████████████████| 3.1 MB 76.3 MB/s eta 0:00:01\n",
      "\u001b[?25hCollecting elucidatacloudpathlib==0.6.6\n",
      "  Downloading elucidatacloudpathlib-0.6.6-py3-none-any.whl (50 kB)\n",
      "\u001b[K     |████████████████████████████████| 50 kB 14.6 MB/s eta 0:00:01\n",
      "\u001b[?25hCollecting pytest>=3.0.0\n",
      "  Downloading pytest-7.3.1-py3-none-any.whl (320 kB)\n",
      "\u001b[K     |████████████████████████████████| 320 kB 82.1 MB/s eta 0:00:01\n",
      "\u001b[?25hCollecting polly-validator==0.0.1\n",
      "  Downloading polly_validator-0.0.1-py3-none-any.whl (29 kB)\n",
      "Collecting python-jose>=3.3.0\n",
      "  Downloading python_jose-3.3.0-py2.py3-none-any.whl (33 kB)\n",
      "Requirement already satisfied: tqdm>=4.19.5 in /usr/local/lib/python3.10/site-packages (from polly-python==0.3.1-LIB-465-4) (4.65.0)\n",
      "Collecting h5py>=2.6.0\n",
      "  Downloading h5py-3.8.0-cp310-cp310-manylinux_2_17_x86_64.manylinux2014_x86_64.whl (4.6 MB)\n",
      "\u001b[K     |████████████████████████████████| 4.6 MB 79.0 MB/s eta 0:00:01\n",
      "\u001b[?25hRequirement already satisfied: six in /usr/local/lib/python3.10/site-packages (from elucidatacmapPy==3.3.4->polly-python==0.3.1-LIB-465-4) (1.16.0)\n",
      "Requirement already satisfied: numpy>=1.11.2 in /usr/local/lib/python3.10/site-packages (from elucidatacmapPy==3.3.4->polly-python==0.3.1-LIB-465-4) (1.22.3)\n",
      "Collecting tabulate==0.8.10\n",
      "  Downloading tabulate-0.8.10-py3-none-any.whl (29 kB)\n",
      "Collecting pronto\n",
      "  Downloading pronto-2.5.4-py2.py3-none-any.whl (61 kB)\n",
      "\u001b[K     |████████████████████████████████| 61 kB 15.0 MB/s eta 0:00:01\n",
      "\u001b[?25hCollecting appdirs==1.4.4\n",
      "  Downloading appdirs-1.4.4-py2.py3-none-any.whl (9.6 kB)\n",
      "Collecting rapidfuzz==2.1.1\n",
      "  Downloading rapidfuzz-2.1.1-cp310-cp310-manylinux_2_17_x86_64.manylinux2014_x86_64.whl (2.0 MB)\n",
      "\u001b[K     |████████████████████████████████| 2.0 MB 82.4 MB/s eta 0:00:01\n",
      "\u001b[?25hCollecting requests>=2.25.1\n",
      "  Downloading requests-2.25.1-py2.py3-none-any.whl (61 kB)\n",
      "\u001b[K     |████████████████████████████████| 61 kB 17.3 MB/s eta 0:00:01\n",
      "\u001b[?25hCollecting jarowinkler<1.1.0,>=1.0.3\n",
      "  Downloading jarowinkler-1.0.5-cp310-cp310-manylinux_2_17_x86_64.manylinux2014_x86_64.whl (103 kB)\n",
      "\u001b[K     |████████████████████████████████| 103 kB 81.6 MB/s eta 0:00:01\n",
      "\u001b[?25hRequirement already satisfied: chardet<5,>=3.0.2 in /usr/local/lib/python3.10/site-packages (from requests>=2.25.1->polly-python==0.3.1-LIB-465-4) (4.0.0)\n",
      "Requirement already satisfied: idna<3,>=2.5 in /usr/local/lib/python3.10/site-packages (from requests>=2.25.1->polly-python==0.3.1-LIB-465-4) (2.10)\n",
      "Requirement already satisfied: certifi>=2017.4.17 in /usr/local/lib/python3.10/site-packages (from requests>=2.25.1->polly-python==0.3.1-LIB-465-4) (2021.5.30)\n",
      "Requirement already satisfied: urllib3<1.27,>=1.21.1 in /usr/local/lib/python3.10/site-packages (from requests>=2.25.1->polly-python==0.3.1-LIB-465-4) (1.26.6)\n",
      "Requirement already satisfied: jmespath<1.0.0,>=0.7.1 in /usr/local/lib/python3.10/site-packages (from boto3>=1.17.73->polly-python==0.3.1-LIB-465-4) (0.10.0)\n",
      "Requirement already satisfied: s3transfer<0.6.0,>=0.5.0 in /usr/local/lib/python3.10/site-packages (from boto3>=1.17.73->polly-python==0.3.1-LIB-465-4) (0.5.2)\n",
      "Requirement already satisfied: python-dateutil<3.0.0,>=2.1 in /usr/local/lib/python3.10/site-packages (from botocore>=1.20.73->polly-python==0.3.1-LIB-465-4) (2.8.1)\n",
      "Requirement already satisfied: cffi>=1.12 in /usr/local/lib/python3.10/site-packages (from cryptography>=38.0.1->polly-python==0.3.1-LIB-465-4) (1.15.1)\n",
      "Requirement already satisfied: pycparser in /usr/local/lib/python3.10/site-packages (from cffi>=1.12->cryptography>=38.0.1->polly-python==0.3.1-LIB-465-4) (2.21)\n",
      "Collecting boltons<22.0.0,>=20.0.0\n",
      "  Downloading boltons-21.0.0-py2.py3-none-any.whl (193 kB)\n",
      "\u001b[K     |████████████████████████████████| 193 kB 81.6 MB/s eta 0:00:01\n",
      "\u001b[?25hCollecting dacite<2.0.0,>=1.0.2\n",
      "  Downloading dacite-1.8.0-py3-none-any.whl (14 kB)\n",
      "Collecting furl<3.0.0,>=2.0.0\n",
      "  Downloading furl-2.1.3-py2.py3-none-any.whl (20 kB)\n",
      "Collecting dulwich<0.22.0,>=0.20.0\n",
      "  Downloading dulwich-0.21.3-cp310-cp310-manylinux_2_17_x86_64.manylinux2014_x86_64.whl (506 kB)\n",
      "\u001b[K     |████████████████████████████████| 506 kB 79.7 MB/s eta 0:00:01\n",
      "\u001b[?25hCollecting vega-datasets<1.0.0,>=0.9.0\n",
      "  Downloading vega_datasets-0.9.0-py3-none-any.whl (210 kB)\n",
      "\u001b[K     |████████████████████████████████| 210 kB 79.1 MB/s eta 0:00:01\n",
      "\u001b[?25hCollecting multimethod<2.0,>=1.9\n",
      "  Downloading multimethod-1.9.1-py3-none-any.whl (10 kB)\n",
      "Requirement already satisfied: PyYAML<7.0.0,>=5.4.0 in /usr/local/lib/python3.10/site-packages (from datapane>=0.9.1->polly-python==0.3.1-LIB-465-4) (5.4.1)\n",
      "Collecting click<9.0.0,>=7.1.0\n",
      "  Downloading click-8.1.3-py3-none-any.whl (96 kB)\n",
      "\u001b[K     |████████████████████████████████| 96 kB 12.8 MB/s eta 0:00:01\n",
      "\u001b[?25hRequirement already satisfied: nbconvert>=5.6.1 in /usr/local/lib/python3.10/site-packages (from datapane>=0.9.1->polly-python==0.3.1-LIB-465-4) (6.3.0)\n",
      "Collecting click-spinner<0.2.0,>=0.1.8\n",
      "  Downloading click_spinner-0.1.10-py2.py3-none-any.whl (4.0 kB)\n",
      "Collecting glom<24.0.0,>=22.1.0\n",
      "  Downloading glom-23.3.0-py3-none-any.whl (101 kB)\n",
      "\u001b[K     |████████████████████████████████| 101 kB 21.3 MB/s ta 0:00:01\n",
      "\u001b[?25hCollecting datacommons<2.0.0,>=1.4.3\n",
      "  Downloading datacommons-1.4.3-py3-none-any.whl (46 kB)\n",
      "\u001b[K     |████████████████████████████████| 46 kB 8.2 MB/s  eta 0:00:01\n",
      "\u001b[?25hCollecting requests-toolbelt<0.11.0,>=0.9.1\n",
      "  Downloading requests_toolbelt-0.10.1-py2.py3-none-any.whl (54 kB)\n",
      "\u001b[K     |████████████████████████████████| 54 kB 5.4 MB/s  eta 0:00:01\n",
      "\u001b[?25hCollecting cheroot<10.0.0,>=9.0.0\n",
      "  Downloading cheroot-9.0.0-py2.py3-none-any.whl (100 kB)\n",
      "\u001b[K     |████████████████████████████████| 100 kB 20.0 MB/s ta 0:00:01\n",
      "\u001b[?25hRequirement already satisfied: jsonschema<5.0.0,>=3.2.0 in /usr/local/lib/python3.10/site-packages (from datapane>=0.9.1->polly-python==0.3.1-LIB-465-4) (4.2.1)\n",
      "Collecting datacommons-pandas<0.0.4,>=0.0.3\n",
      "  Downloading datacommons_pandas-0.0.3-py3-none-any.whl (45 kB)\n",
      "\u001b[K     |████████████████████████████████| 45 kB 6.6 MB/s  eta 0:00:01\n",
      "\u001b[?25hCollecting posthog<3.0.0,>=1.4.0\n",
      "  Downloading posthog-2.5.0-py2.py3-none-any.whl (36 kB)\n",
      "Collecting pyngrok<6.0.0,>=5.2.1\n",
      "  Downloading pyngrok-5.2.3.tar.gz (681 kB)\n",
      "\u001b[K     |████████████████████████████████| 681 kB 82.2 MB/s eta 0:00:01\n",
      "\u001b[?25hCollecting typing-extensions<5.0.0,>=4.4.0\n",
      "  Downloading typing_extensions-4.5.0-py3-none-any.whl (27 kB)\n",
      "Collecting micawber>=0.5.0\n",
      "  Downloading micawber-0.5.4.tar.gz (18 kB)\n",
      "Collecting pyarrow<11.0.0,>=6.0.0\n",
      "  Downloading pyarrow-10.0.1-cp310-cp310-manylinux_2_17_x86_64.manylinux2014_x86_64.whl (35.9 MB)\n",
      "\u001b[K     |████████████████████████████████| 35.9 MB 76.7 MB/s eta 0:00:01     |██████████████████▌             | 20.8 MB 76.7 MB/s eta 0:00:01\n",
      "\u001b[?25hCollecting toolz<0.13.0,>=0.11.0\n",
      "  Downloading toolz-0.12.0-py3-none-any.whl (55 kB)\n",
      "\u001b[K     |████████████████████████████████| 55 kB 8.3 MB/s  eta 0:00:01\n",
      "\u001b[?25hRequirement already satisfied: packaging<24.0.0,>=21.0.0 in /usr/local/lib/python3.10/site-packages (from datapane>=0.9.1->polly-python==0.3.1-LIB-465-4) (23.0)\n",
      "Collecting colorlog<7.0.0,>=4.1.0\n",
      "  Downloading colorlog-6.7.0-py2.py3-none-any.whl (11 kB)\n",
      "Collecting lxml<5.0.0,>=4.0.0\n",
      "  Downloading lxml-4.9.2-cp310-cp310-manylinux_2_17_x86_64.manylinux2014_x86_64.manylinux_2_24_x86_64.whl (7.1 MB)\n",
      "\u001b[K     |████████████████████████████████| 7.1 MB 52.2 MB/s eta 0:00:01\n",
      "\u001b[?25hCollecting altair<5.0.0,>=4.0.0\n",
      "  Downloading altair-4.2.2-py3-none-any.whl (813 kB)\n",
      "\u001b[K     |████████████████████████████████| 813 kB 55.2 MB/s eta 0:00:01\n",
      "\u001b[?25hCollecting ipynbname<2022.0.0,>=2021.3.2\n",
      "  Downloading ipynbname-2021.3.2-py3-none-any.whl (4.0 kB)\n",
      "Collecting dominate<3.0.0,>=2.4.0\n",
      "  Downloading dominate-2.7.0-py2.py3-none-any.whl (29 kB)\n",
      "Collecting importlib_resources<6.0.0,>=3.0.0\n",
      "  Downloading importlib_resources-5.12.0-py3-none-any.whl (36 kB)\n",
      "Requirement already satisfied: jinja2 in /usr/local/lib/python3.10/site-packages (from altair<5.0.0,>=4.0.0->datapane>=0.9.1->polly-python==0.3.1-LIB-465-4) (3.0.3)\n",
      "Requirement already satisfied: entrypoints in /usr/local/lib/python3.10/site-packages (from altair<5.0.0,>=4.0.0->datapane>=0.9.1->polly-python==0.3.1-LIB-465-4) (0.3)\n",
      "Collecting jaraco.functools\n",
      "  Downloading jaraco.functools-3.6.0-py3-none-any.whl (7.9 kB)\n",
      "Collecting more-itertools>=2.6\n",
      "  Downloading more_itertools-9.1.0-py3-none-any.whl (54 kB)\n",
      "\u001b[K     |████████████████████████████████| 54 kB 5.9 MB/s  eta 0:00:01\n",
      "\u001b[?25hCollecting wrapt<2,>=1.10\n",
      "  Downloading wrapt-1.15.0-cp310-cp310-manylinux_2_5_x86_64.manylinux1_x86_64.manylinux_2_17_x86_64.manylinux2014_x86_64.whl (78 kB)\n",
      "\u001b[K     |████████████████████████████████| 78 kB 11.5 MB/s eta 0:00:01\n",
      "\u001b[?25hCollecting orderedmultidict>=1.0.1\n",
      "  Downloading orderedmultidict-1.0.1-py2.py3-none-any.whl (11 kB)\n",
      "Requirement already satisfied: attrs in /usr/local/lib/python3.10/site-packages (from glom<24.0.0,>=22.1.0->datapane>=0.9.1->polly-python==0.3.1-LIB-465-4) (21.2.0)\n",
      "Collecting face==20.1.1\n",
      "  Downloading face-20.1.1-py3-none-any.whl (51 kB)\n",
      "\u001b[K     |████████████████████████████████| 51 kB 14.2 MB/s eta 0:00:01\n",
      "\u001b[?25hRequirement already satisfied: ipykernel in /usr/local/lib/python3.10/site-packages (from ipynbname<2022.0.0,>=2021.3.2->datapane>=0.9.1->polly-python==0.3.1-LIB-465-4) (6.13.1)\n",
      "Requirement already satisfied: pyrsistent!=0.17.0,!=0.17.1,!=0.17.2,>=0.14.0 in /usr/local/lib/python3.10/site-packages (from jsonschema<5.0.0,>=3.2.0->datapane>=0.9.1->polly-python==0.3.1-LIB-465-4) (0.18.0)\n",
      "Requirement already satisfied: pygments>=2.4.1 in /usr/local/lib/python3.10/site-packages (from nbconvert>=5.6.1->datapane>=0.9.1->polly-python==0.3.1-LIB-465-4) (2.10.0)\n",
      "Requirement already satisfied: nbclient<0.6.0,>=0.5.0 in /usr/local/lib/python3.10/site-packages (from nbconvert>=5.6.1->datapane>=0.9.1->polly-python==0.3.1-LIB-465-4) (0.5.13)\n",
      "Requirement already satisfied: mistune<2,>=0.8.1 in /usr/local/lib/python3.10/site-packages (from nbconvert>=5.6.1->datapane>=0.9.1->polly-python==0.3.1-LIB-465-4) (0.8.4)\n",
      "Requirement already satisfied: traitlets>=5.0 in /usr/local/lib/python3.10/site-packages (from nbconvert>=5.6.1->datapane>=0.9.1->polly-python==0.3.1-LIB-465-4) (5.1.1)\n",
      "Requirement already satisfied: jupyterlab-pygments in /usr/local/lib/python3.10/site-packages (from nbconvert>=5.6.1->datapane>=0.9.1->polly-python==0.3.1-LIB-465-4) (0.2.2)\n",
      "Requirement already satisfied: nbformat>=4.4 in /usr/local/lib/python3.10/site-packages (from nbconvert>=5.6.1->datapane>=0.9.1->polly-python==0.3.1-LIB-465-4) (5.1.3)\n",
      "Requirement already satisfied: bleach in /usr/local/lib/python3.10/site-packages (from nbconvert>=5.6.1->datapane>=0.9.1->polly-python==0.3.1-LIB-465-4) (4.1.0)\n",
      "Requirement already satisfied: pandocfilters>=1.4.1 in /usr/local/lib/python3.10/site-packages (from nbconvert>=5.6.1->datapane>=0.9.1->polly-python==0.3.1-LIB-465-4) (1.5.0)\n",
      "Requirement already satisfied: jupyter-core in /usr/local/lib/python3.10/site-packages (from nbconvert>=5.6.1->datapane>=0.9.1->polly-python==0.3.1-LIB-465-4) (4.9.1)\n",
      "Requirement already satisfied: testpath in /usr/local/lib/python3.10/site-packages (from nbconvert>=5.6.1->datapane>=0.9.1->polly-python==0.3.1-LIB-465-4) (0.5.0)\n",
      "Requirement already satisfied: defusedxml in /usr/local/lib/python3.10/site-packages (from nbconvert>=5.6.1->datapane>=0.9.1->polly-python==0.3.1-LIB-465-4) (0.7.1)\n",
      "Requirement already satisfied: MarkupSafe>=2.0 in /usr/local/lib/python3.10/site-packages (from jinja2->altair<5.0.0,>=4.0.0->datapane>=0.9.1->polly-python==0.3.1-LIB-465-4) (2.0.1)\n",
      "Requirement already satisfied: jupyter-client>=6.1.5 in /usr/local/lib/python3.10/site-packages (from nbclient<0.6.0,>=0.5.0->nbconvert>=5.6.1->datapane>=0.9.1->polly-python==0.3.1-LIB-465-4) (6.1.12)\n",
      "Requirement already satisfied: nest-asyncio in /usr/local/lib/python3.10/site-packages (from nbclient<0.6.0,>=0.5.0->nbconvert>=5.6.1->datapane>=0.9.1->polly-python==0.3.1-LIB-465-4) (1.5.6)\n",
      "Requirement already satisfied: tornado>=4.1 in /usr/local/lib/python3.10/site-packages (from jupyter-client>=6.1.5->nbclient<0.6.0,>=0.5.0->nbconvert>=5.6.1->datapane>=0.9.1->polly-python==0.3.1-LIB-465-4) (6.1)\n",
      "Requirement already satisfied: pyzmq>=13 in /usr/local/lib/python3.10/site-packages (from jupyter-client>=6.1.5->nbclient<0.6.0,>=0.5.0->nbconvert>=5.6.1->datapane>=0.9.1->polly-python==0.3.1-LIB-465-4) (22.3.0)\n",
      "Requirement already satisfied: ipython-genutils in /usr/local/lib/python3.10/site-packages (from nbformat>=4.4->nbconvert>=5.6.1->datapane>=0.9.1->polly-python==0.3.1-LIB-465-4) (0.2.0)\n",
      "Requirement already satisfied: pytz>=2020.1 in /usr/local/lib/python3.10/site-packages (from pandas>=1.0.1->polly-python==0.3.1-LIB-465-4) (2021.3)\n",
      "Collecting tenacity>=6.2.0\n",
      "  Downloading tenacity-8.2.2-py3-none-any.whl (24 kB)\n",
      "Collecting backoff>=1.10.0\n",
      "  Downloading backoff-2.2.1-py3-none-any.whl (15 kB)\n",
      "Collecting monotonic>=1.5\n",
      "  Downloading monotonic-1.6-py2.py3-none-any.whl (8.2 kB)\n",
      "Collecting tomli>=1.0.0\n",
      "  Downloading tomli-2.0.1-py3-none-any.whl (12 kB)\n",
      "Collecting exceptiongroup>=1.0.0rc8\n",
      "  Downloading exceptiongroup-1.1.1-py3-none-any.whl (14 kB)\n",
      "Collecting iniconfig\n",
      "  Downloading iniconfig-2.0.0-py3-none-any.whl (5.9 kB)\n",
      "Collecting pluggy<2.0,>=0.12\n",
      "  Downloading pluggy-1.0.0-py2.py3-none-any.whl (13 kB)\n",
      "Requirement already satisfied: pyasn1 in /usr/local/lib/python3.10/site-packages (from python-jose>=3.3.0->polly-python==0.3.1-LIB-465-4) (0.4.8)\n",
      "Collecting ecdsa!=0.15\n",
      "  Downloading ecdsa-0.18.0-py2.py3-none-any.whl (142 kB)\n",
      "\u001b[K     |████████████████████████████████| 142 kB 79.2 MB/s eta 0:00:01\n",
      "\u001b[?25hRequirement already satisfied: rsa in /usr/local/lib/python3.10/site-packages (from python-jose>=3.3.0->polly-python==0.3.1-LIB-465-4) (4.7.2)\n",
      "Requirement already satisfied: docutils>=0.11 in /usr/local/lib/python3.10/site-packages (from rst2txt>=1.1.0->polly-python==0.3.1-LIB-465-4) (0.15.2)\n",
      "Collecting soupsieve>1.2\n",
      "  Downloading soupsieve-2.4.1-py3-none-any.whl (36 kB)\n",
      "Requirement already satisfied: webencodings in /usr/local/lib/python3.10/site-packages (from bleach->nbconvert>=5.6.1->datapane>=0.9.1->polly-python==0.3.1-LIB-465-4) (0.5.1)\n",
      "Requirement already satisfied: matplotlib-inline>=0.1 in /usr/local/lib/python3.10/site-packages (from ipykernel->ipynbname<2022.0.0,>=2021.3.2->datapane>=0.9.1->polly-python==0.3.1-LIB-465-4) (0.1.3)\n",
      "Requirement already satisfied: ipython>=7.23.1 in /usr/local/lib/python3.10/site-packages (from ipykernel->ipynbname<2022.0.0,>=2021.3.2->datapane>=0.9.1->polly-python==0.3.1-LIB-465-4) (8.2.0)\n",
      "Requirement already satisfied: psutil in /usr/local/lib/python3.10/site-packages (from ipykernel->ipynbname<2022.0.0,>=2021.3.2->datapane>=0.9.1->polly-python==0.3.1-LIB-465-4) (5.9.4)\n",
      "Requirement already satisfied: debugpy>=1.0 in /usr/local/lib/python3.10/site-packages (from ipykernel->ipynbname<2022.0.0,>=2021.3.2->datapane>=0.9.1->polly-python==0.3.1-LIB-465-4) (1.6.6)\n",
      "Requirement already satisfied: backcall in /usr/local/lib/python3.10/site-packages (from ipython>=7.23.1->ipykernel->ipynbname<2022.0.0,>=2021.3.2->datapane>=0.9.1->polly-python==0.3.1-LIB-465-4) (0.2.0)\n",
      "Requirement already satisfied: pickleshare in /usr/local/lib/python3.10/site-packages (from ipython>=7.23.1->ipykernel->ipynbname<2022.0.0,>=2021.3.2->datapane>=0.9.1->polly-python==0.3.1-LIB-465-4) (0.7.5)\n",
      "Requirement already satisfied: jedi>=0.16 in /usr/local/lib/python3.10/site-packages (from ipython>=7.23.1->ipykernel->ipynbname<2022.0.0,>=2021.3.2->datapane>=0.9.1->polly-python==0.3.1-LIB-465-4) (0.18.1)\n",
      "Requirement already satisfied: prompt-toolkit!=3.0.0,!=3.0.1,<3.1.0,>=2.0.0 in /usr/local/lib/python3.10/site-packages (from ipython>=7.23.1->ipykernel->ipynbname<2022.0.0,>=2021.3.2->datapane>=0.9.1->polly-python==0.3.1-LIB-465-4) (3.0.22)\n",
      "Requirement already satisfied: setuptools>=18.5 in /usr/local/lib/python3.10/site-packages (from ipython>=7.23.1->ipykernel->ipynbname<2022.0.0,>=2021.3.2->datapane>=0.9.1->polly-python==0.3.1-LIB-465-4) (58.1.0)\n",
      "Requirement already satisfied: stack-data in /usr/local/lib/python3.10/site-packages (from ipython>=7.23.1->ipykernel->ipynbname<2022.0.0,>=2021.3.2->datapane>=0.9.1->polly-python==0.3.1-LIB-465-4) (0.6.2)\n",
      "Requirement already satisfied: decorator in /usr/local/lib/python3.10/site-packages (from ipython>=7.23.1->ipykernel->ipynbname<2022.0.0,>=2021.3.2->datapane>=0.9.1->polly-python==0.3.1-LIB-465-4) (5.1.0)\n",
      "Requirement already satisfied: pexpect>4.3 in /usr/local/lib/python3.10/site-packages (from ipython>=7.23.1->ipykernel->ipynbname<2022.0.0,>=2021.3.2->datapane>=0.9.1->polly-python==0.3.1-LIB-465-4) (4.8.0)\n",
      "Requirement already satisfied: parso<0.9.0,>=0.8.0 in /usr/local/lib/python3.10/site-packages (from jedi>=0.16->ipython>=7.23.1->ipykernel->ipynbname<2022.0.0,>=2021.3.2->datapane>=0.9.1->polly-python==0.3.1-LIB-465-4) (0.8.2)\n",
      "Requirement already satisfied: ptyprocess>=0.5 in /usr/local/lib/python3.10/site-packages (from pexpect>4.3->ipython>=7.23.1->ipykernel->ipynbname<2022.0.0,>=2021.3.2->datapane>=0.9.1->polly-python==0.3.1-LIB-465-4) (0.7.0)\n",
      "Requirement already satisfied: wcwidth in /usr/local/lib/python3.10/site-packages (from prompt-toolkit!=3.0.0,!=3.0.1,<3.1.0,>=2.0.0->ipython>=7.23.1->ipykernel->ipynbname<2022.0.0,>=2021.3.2->datapane>=0.9.1->polly-python==0.3.1-LIB-465-4) (0.2.5)\n",
      "Collecting fastobo~=0.12.2\n",
      "  Downloading fastobo-0.12.2-cp310-cp310-manylinux_2_17_x86_64.manylinux2014_x86_64.whl (2.1 MB)\n",
      "\u001b[K     |████████████████████████████████| 2.1 MB 74.8 MB/s eta 0:00:01\n",
      "\u001b[?25hRequirement already satisfied: networkx<4.0,>=2.3 in /usr/local/lib/python3.10/site-packages (from pronto->polly-validator==0.0.1->polly-python==0.3.1-LIB-465-4) (3.0)\n",
      "Collecting pronto\n",
      "  Downloading pronto-2.5.3-py2.py3-none-any.whl (61 kB)\n",
      "\u001b[K     |████████████████████████████████| 61 kB 15.2 MB/s eta 0:00:01\n",
      "\u001b[?25hCollecting networkx~=2.3\n",
      "  Downloading networkx-2.8.8-py3-none-any.whl (2.0 MB)\n",
      "\u001b[K     |████████████████████████████████| 2.0 MB 79.6 MB/s eta 0:00:01\n",
      "\u001b[?25hCollecting pronto\n",
      "  Downloading pronto-2.5.2-py2.py3-none-any.whl (61 kB)\n",
      "\u001b[K     |████████████████████████████████| 61 kB 14.2 MB/s eta 0:00:01\n",
      "\u001b[?25h  Downloading pronto-2.5.1-py2.py3-none-any.whl (61 kB)\n",
      "\u001b[K     |████████████████████████████████| 61 kB 16.4 MB/s eta 0:00:01\n",
      "\u001b[?25hRequirement already satisfied: pure-eval in /usr/local/lib/python3.10/site-packages (from stack-data->ipython>=7.23.1->ipykernel->ipynbname<2022.0.0,>=2021.3.2->datapane>=0.9.1->polly-python==0.3.1-LIB-465-4) (0.2.2)\n",
      "Requirement already satisfied: executing>=1.2.0 in /usr/local/lib/python3.10/site-packages (from stack-data->ipython>=7.23.1->ipykernel->ipynbname<2022.0.0,>=2021.3.2->datapane>=0.9.1->polly-python==0.3.1-LIB-465-4) (1.2.0)\n",
      "Requirement already satisfied: asttokens>=2.1.0 in /usr/local/lib/python3.10/site-packages (from stack-data->ipython>=7.23.1->ipykernel->ipynbname<2022.0.0,>=2021.3.2->datapane>=0.9.1->polly-python==0.3.1-LIB-465-4) (2.2.1)\n",
      "Using legacy 'setup.py install' for micawber, since package 'wheel' is not installed.\n",
      "Using legacy 'setup.py install' for pyngrok, since package 'wheel' is not installed.\n",
      "Installing collected packages: more-itertools, boltons, typing-extensions, toolz, requests, orderedmultidict, networkx, monotonic, jarowinkler, jaraco.functools, fastobo, face, backoff, wrapt, vega-datasets, tomli, tenacity, tabulate, soupsieve, requests-toolbelt, rapidfuzz, pyngrok, pydantic, pyarrow, pronto, posthog, pluggy, multimethod, micawber, lxml, ipynbname, iniconfig, importlib-resources, h5py, glom, furl, exceptiongroup, ecdsa, dulwich, dominate, datacommons-pandas, datacommons, dacite, colorlog, click-spinner, click, cheroot, appdirs, altair, rst2txt, retrying, python-jose, pytest, polly-validator, plotly, mixpanel, joblib, elucidatacmapPy, elucidatacloudpathlib, Deprecated, datapane, cryptography, beautifulsoup4, polly-python\n",
      "    Running setup.py install for pyngrok ... \u001b[?25ldone\n",
      "\u001b[?25h    Running setup.py install for micawber ... \u001b[?25ldone\n",
      "\u001b[?25hSuccessfully installed Deprecated-1.2.13 altair-4.2.2 appdirs-1.4.4 backoff-2.2.1 beautifulsoup4-4.12.2 boltons-21.0.0 cheroot-9.0.0 click-8.1.3 click-spinner-0.1.10 colorlog-6.7.0 cryptography-40.0.2 dacite-1.8.0 datacommons-1.4.3 datacommons-pandas-0.0.3 datapane-0.16.4 dominate-2.7.0 dulwich-0.21.3 ecdsa-0.18.0 elucidatacloudpathlib-0.6.6 elucidatacmapPy-3.3.4 exceptiongroup-1.1.1 face-20.1.1 fastobo-0.12.2 furl-2.1.3 glom-23.3.0 h5py-3.8.0 importlib-resources-5.12.0 iniconfig-2.0.0 ipynbname-2021.3.2 jaraco.functools-3.6.0 jarowinkler-1.0.5 joblib-1.2.0 lxml-4.9.2 micawber-0.5.4 mixpanel-4.10.0 monotonic-1.6 more-itertools-9.1.0 multimethod-1.9.1 networkx-2.8.8 orderedmultidict-1.0.1 plotly-5.14.1 pluggy-1.0.0 polly-python-0.3.1 polly-validator-0.0.1 posthog-2.5.0 pronto-2.5.1 pyarrow-10.0.1 pydantic-1.10.7 pyngrok-5.2.3 pytest-7.3.1 python-jose-3.3.0 rapidfuzz-2.1.1 requests-2.25.1 requests-toolbelt-0.10.1 retrying-1.3.4 rst2txt-1.1.0 soupsieve-2.4.1 tabulate-0.8.10 tenacity-8.2.2 tomli-2.0.1 toolz-0.12.0 typing-extensions-4.5.0 vega-datasets-0.9.0 wrapt-1.15.0\n",
      "\u001b[33mWARNING: You are using pip version 21.2.4; however, version 23.1 is available.\n",
      "You should consider upgrading via the '/usr/local/bin/python3.10 -m pip install --upgrade pip' command.\u001b[0m\n",
      "Note: you may need to restart the kernel to use updated packages.\n"
     ]
    }
   ],
   "source": [
    "pip install https://elucidatainc.github.io/PublicAssets/builds/polly-python/tests/testpolly/polly_python-0.3.1_LIB_465_4-py3-none-any.whl"
   ]
  },
  {
   "cell_type": "code",
   "execution_count": 1,
   "metadata": {},
   "outputs": [
    {
     "name": "stdout",
     "output_type": "stream",
     "text": [
      "/bin/bash: warning: setlocale: LC_ALL: cannot change locale (en_US.UTF-8)\n",
      "\u001b[32m\u001b[1mSuccess: Sync complete\u001b[22m\u001b[39m\n"
     ]
    }
   ],
   "source": [
    "!polly files sync -s \"polly://data/\" -d \"data/\" -y"
   ]
  },
  {
   "cell_type": "code",
   "execution_count": 2,
   "metadata": {},
   "outputs": [
    {
     "name": "stdout",
     "output_type": "stream",
     "text": [
      "/bin/bash: warning: setlocale: LC_ALL: cannot change locale (en_US.UTF-8)\n",
      "\u001b[32m\u001b[1mSuccess: Sync complete\u001b[22m\u001b[39m\n"
     ]
    }
   ],
   "source": [
    "!polly files sync -s \"polly://metadata/\" -d \"metadata/\" -y"
   ]
  },
  {
   "cell_type": "code",
   "execution_count": 3,
   "metadata": {},
   "outputs": [],
   "source": [
    "import os\n",
    "from polly.auth import Polly\n",
    "from polly.omixatlas import OmixAtlas\n",
    "TEST_TOKEN = \"eyJjdHkiOiJKV1QiLCJlbmMiOiJBMjU2R0NNIiwiYWxnIjoiUlNBLU9BRVAifQ.H3zAa_ipEV8AVZlIxKDEfCY0MiXb2K4Wv5Xl6sLnX5gCzAmaskK6kZg8mlKFdcmnQL7ydke6HpAvGvUvOnw8Yp6PxEWqL6gsMFBOohqa4PihcVuj-EM0xHGy1CQXrsrG9dzTZF9WAu71qUb3Bbo66oPLV_SwcFWQkYx3F9LS9ZXFDjJrVgPRsJ_ca_lW4BpnnHhTTfbxeubwFC2eI2jpUCXwdGgORr2AZVTA5ZRSou3rIBuNFqOVi0iU3JiOa98snPOyoumKZ-dSOvtKIVixeJwz1wYudMci30gaw2J5ZsqSp2hjgrICsUHt62MNrLvSqpKYutq_-9TjS3bRt1w70Q.QZcIjR7qzbxbR8gI.sr9bPSzXZ95IUM9KnnprRV_Vr6yCvxD8bqCrt73PG8617zp_9HFzpE7UFkQQ8q7L2sLWf_IUBsABlRr-khTtqkdWgvQnDR_SjYXcrQufABO2AjMD-nXb3lLsQdN77Lgi06ApDp3YoRo5RACKHFxrFGOSQfLnn3hqzAXRpZntCQP1ia0iXK3yR6QiL_yqeusgLVyUZHFX9FeBFuv6NiDq9F2r3cOvBcgz8cPfqSw4h_KG4FAAa1UGZHwZYjxJ26csOhqYVTSffUOrrd1fRMXP2k0rMgCUFiHyTIClodn2lu4EWYtIWo4jARufl9UdNj3U1aq7wnX0RW-GhaKC6P_2iQSX7ISuG5-FuIPB-Ya38Qn0iI9EGUG6vAqVxjxwRGrgIhAm8Qh4oucTuEd4qaf-76dq6aNWU8CdzLka-JOjeIVMsltBwzfey-N-2CazJvcyslWUtlbPviZ32iVEBLqxtDP5bOK-iVjEUr3eovOnKMLQiocsfSqKc3yoSpHqi4u6NglNRMD4e7WXcWEPtFbiJM0HiJs3FDLc7j0mxMC6zHilKOWqRoEot7V_7rGhxYHeGDcVw3wIGC2XxYa79zZoDLkxVP2H_JGrgxTMqorXjVufH0DQ_aX48l5LiY4W2FOM2dyutlrCckuSJPOpfDPrXM992UWuz2ust1TwGZ__zm0uuILtCRuXCyjISrOX1FRQ7lorXA5e1YVLY_c69YAmTlUZPi10I28zsq6B6rS91bNuRJu1VFTjRIbmuURKKq67zLYWCuKY2jwWOjkeCqriQuUsXG4nJlWc2Jy4lPD1zDhYOjrdsNiKq2CZPPJ0rSK9lBYICbi-HHfox-IDeahBPfD_qnnrHthUttSywHNMYYeIpdIMerbmEXg7w9QFLPrZ2UAb_LPJdIt1yRaaT21ytrEmVHyc9T6DmRsWOAH4-2RiWVgC_j_ij1GpPONIL0Z6juBuoZb4ChWeeUkxhg0ZpZupHZLO56dRDRfunzHuTPMgXUGXH316QxvV6O87QQ2wAW6UwzaA35zLZJWgt8jTkOYYt4ZzKodJ8I6pJV4kU-oKVs6Nx6O7oUJMps8f5z4v2FAxbLRSA-sDvi2HKdlI96KDxGrtd0S8Z4vNxIKnYZ_lZmvOVW6ei9fs0wEOS_jErcmrbxMZlAyKJFH8WXA0-Z78MB2d9k6V8s9_nwKzPUKAnXfjFlEDP3lXbcYf4h-FWIn511BSKMppxXqgcspY0A3twrY5lh-0SNaCeGwE2FyuHNcQUUMY-Px6HWTyEihPKB1E3qaj0sDQuynd9F6gQPxBzAPzl_V3VIiud2pKaJzcOpxOFOuCJU3bGwQPUnV5G4BPeCizWH58.jbAqMVog--xRqpE4Jja24A\"\n",
    "Polly.auth(TEST_TOKEN,\"testpolly\")\n",
    "omix = OmixAtlas()"
   ]
  },
  {
   "cell_type": "code",
   "execution_count": 4,
   "metadata": {},
   "outputs": [
    {
     "data": {
      "text/plain": [
       "'testpolly'"
      ]
     },
     "execution_count": 4,
     "metadata": {},
     "output_type": "execute_result"
    }
   ],
   "source": [
    "omix.session.env"
   ]
  },
  {
   "cell_type": "code",
   "execution_count": 5,
   "metadata": {},
   "outputs": [],
   "source": [
    "def download_data_file(repo_name: str, dataset_id_list : list, folder_path: str):\n",
    "    for dataset_id in dataset_id_list: \n",
    "        download_response = omix.download_data(repo_name, dataset_id)\n",
    "        url = (\n",
    "            download_response.get(\"data\", {}).get(\"attributes\", {}).get(\"download_url\")\n",
    "        )\n",
    "        local_filename = url.split('/')[-1].split('?')[0]\n",
    "        local_filename = os.path.join(folder_path,local_filename)\n",
    "        # NOTE the stream=True parameter below\n",
    "        with requests.get(url, stream=True) as r:\n",
    "            r.raise_for_status()\n",
    "            with open(local_filename, 'wb') as f:\n",
    "                for chunk in r.iter_content(chunk_size=8192): \n",
    "                    # If you have chunk encoded response uncomment if\n",
    "                    # and set chunk_size parameter to None.\n",
    "                    #if chunk: \n",
    "                    f.write(chunk)\n",
    "        print(\"done with dataset id : \" +dataset_id)"
   ]
  },
  {
   "cell_type": "code",
   "execution_count": 6,
   "metadata": {},
   "outputs": [
    {
     "name": "stderr",
     "output_type": "stream",
     "text": [
      "DeprecationWarning: This method will soon be deprecated. Please use new function download_dataset for downloading data files directly.\n",
      "For usage: help(<omixatlas_object>.download_dataset) \n",
      "For more details: https://docs.elucidata.io/polly-python/OmixAtlas/Download%20Data.html#omixatlas.OmixAtlas.download_dataset\n"
     ]
    },
    {
     "name": "stdout",
     "output_type": "stream",
     "text": [
      "done with dataset id : PRAD_miRNA_TCGA-KK-A8IL-01A-11R-A36B-13\n"
     ]
    },
    {
     "name": "stderr",
     "output_type": "stream",
     "text": [
      "DeprecationWarning: This method will soon be deprecated. Please use new function download_dataset for downloading data files directly.\n",
      "For usage: help(<omixatlas_object>.download_dataset) \n",
      "For more details: https://docs.elucidata.io/polly-python/OmixAtlas/Download%20Data.html#omixatlas.OmixAtlas.download_dataset\n"
     ]
    },
    {
     "name": "stdout",
     "output_type": "stream",
     "text": [
      "done with dataset id : READ_miRNA_TCGA-G5-6233-01A-11H-1735-13\n"
     ]
    }
   ],
   "source": [
    "dataset_1 = 'PRAD_miRNA_TCGA-KK-A8IL-01A-11R-A36B-13'\n",
    "dataset_2 = 'READ_miRNA_TCGA-G5-6233-01A-11H-1735-13'\n",
    "download_data_file(\"tcga\", [dataset_1,dataset_2], \"/import/data/\")"
   ]
  },
  {
   "cell_type": "code",
   "execution_count": 7,
   "metadata": {},
   "outputs": [
    {
     "name": "stdout",
     "output_type": "stream",
     "text": [
      "The dataset level metadata for dataset = PRAD_miRNA_TCGA-KK-A8IL-01A-11R-A36B-13 has been downloaded at : = /import/metadata/PRAD_miRNA_TCGA-KK-A8IL-01A-11R-A36B-13.json\n",
      "The dataset level metadata for dataset = READ_miRNA_TCGA-G5-6233-01A-11H-1735-13 has been downloaded at : = /import/metadata/READ_miRNA_TCGA-G5-6233-01A-11H-1735-13.json\n"
     ]
    }
   ],
   "source": [
    "omix.download_metadata(\"tcga\", dataset_1, \"/import/metadata/\")\n",
    "omix.download_metadata(\"tcga\", dataset_2, \"/import/metadata/\")"
   ]
  },
  {
   "cell_type": "code",
   "execution_count": 8,
   "metadata": {},
   "outputs": [
    {
     "name": "stderr",
     "output_type": "stream",
     "text": [
      "Processing Metadata files: 100%|██████████| 2/2 [00:00<00:00, 3761.71it/s]\n",
      "Uploading data files: 100%|██████████| 2/2 [00:03<00:00,  1.94s/files]\n"
     ]
    },
    {
     "name": "stdout",
     "output_type": "stream",
     "text": [
      "Please wait for 30 seconds while your ingestion request is getting logged.\n",
      "\n",
      "\n",
      "Your ingestion request is successfully logged. You can go to ingestion monitoring dashboard for tracking it's status.\n",
      "\n",
      "                                      File Name        Message\n",
      "0                       combined_metadata.json  File Uploaded\n",
      "1  PRAD_miRNA_TCGA-KK-A8IL-01A-11R-A36B-13.gct  File Uploaded\n",
      "2  READ_miRNA_TCGA-G5-6233-01A-11H-1735-13.gct  File Uploaded\n",
      "\n",
      "Destination folder path considered for ingestion request: ingestion_test_folder_1\n"
     ]
    },
    {
     "data": {
      "text/html": [
       "<div>\n",
       "<style scoped>\n",
       "    .dataframe tbody tr th:only-of-type {\n",
       "        vertical-align: middle;\n",
       "    }\n",
       "\n",
       "    .dataframe tbody tr th {\n",
       "        vertical-align: top;\n",
       "    }\n",
       "\n",
       "    .dataframe thead th {\n",
       "        text-align: right;\n",
       "    }\n",
       "</style>\n",
       "<table border=\"1\" class=\"dataframe\">\n",
       "  <thead>\n",
       "    <tr style=\"text-align: right;\">\n",
       "      <th></th>\n",
       "      <th>File Name</th>\n",
       "      <th>Message</th>\n",
       "    </tr>\n",
       "  </thead>\n",
       "  <tbody>\n",
       "    <tr>\n",
       "      <th>0</th>\n",
       "      <td>combined_metadata.json</td>\n",
       "      <td>File Uploaded</td>\n",
       "    </tr>\n",
       "    <tr>\n",
       "      <th>1</th>\n",
       "      <td>PRAD_miRNA_TCGA-KK-A8IL-01A-11R-A36B-13.gct</td>\n",
       "      <td>File Uploaded</td>\n",
       "    </tr>\n",
       "    <tr>\n",
       "      <th>2</th>\n",
       "      <td>READ_miRNA_TCGA-G5-6233-01A-11H-1735-13.gct</td>\n",
       "      <td>File Uploaded</td>\n",
       "    </tr>\n",
       "  </tbody>\n",
       "</table>\n",
       "</div>"
      ],
      "text/plain": [
       "                                     File Name        Message\n",
       "0                       combined_metadata.json  File Uploaded\n",
       "1  PRAD_miRNA_TCGA-KK-A8IL-01A-11R-A36B-13.gct  File Uploaded\n",
       "2  READ_miRNA_TCGA-G5-6233-01A-11H-1735-13.gct  File Uploaded"
      ]
     },
     "execution_count": 8,
     "metadata": {},
     "output_type": "execute_result"
    }
   ],
   "source": [
    "metadata_folder_path = \"/import/metadata/\"\n",
    "data_folder_path = \"/import/data/\"\n",
    "repo_id= \"1654268055800\"\n",
    "priority = \"high\"\n",
    "destination_folder_path = \"ingestion_test_folder_1///\"\n",
    "source_folder_path = {\"metadata\":metadata_folder_path, \"data\": data_folder_path}\n",
    "omix.add_datasets(repo_id, source_folder_path, destination_folder_path, priority)"
   ]
  },
  {
   "cell_type": "code",
   "execution_count": 9,
   "metadata": {},
   "outputs": [
    {
     "name": "stderr",
     "output_type": "stream",
     "text": [
      "Processing Metadata files:   0%|          | 0/2 [00:00<?, ?it/s]WARNING: Unable to update the data/metadata for  PRAD_miRNA_TCGA-KK-A8IL-01A-11R-A36B-13.json because original data file not present in the provided destination folder path: \n",
      " tcga_@@test_1/@ in the omixatlas. Please choose the required destination folder path from the following: \n",
      " ['ingestion_test_folder_1'].\n",
      " For any questions, please reach out to polly.support@elucidata.io.  \n",
      " Please use add_datasets to upload the files if no destination folder paths in the Omixatlas contain the data being updated by you.\n",
      "Processing Metadata files:  50%|█████     | 1/2 [00:01<00:01,  1.17s/it]WARNING: Unable to update the data/metadata for  READ_miRNA_TCGA-G5-6233-01A-11H-1735-13.json because original data file not present in the provided destination folder path: \n",
      " tcga_@@test_1/@ in the omixatlas. Please choose the required destination folder path from the following: \n",
      " ['ingestion_test_folder_1'].\n",
      " For any questions, please reach out to polly.support@elucidata.io.  \n",
      " Please use add_datasets to upload the files if no destination folder paths in the Omixatlas contain the data being updated by you.\n",
      "Processing Metadata files: 100%|██████████| 2/2 [00:01<00:00,  1.70it/s]\n",
      "WARNING: Unable to update the data/metadata for  PRAD_miRNA_TCGA-KK-A8IL-01A-11R-A36B-13.gct because original data file not present in the provided destination folder path: \n",
      " tcga_@@test_1/@ in the omixatlas. Please choose the required destination folder path from the following: \n",
      " ['ingestion_test_folder_1'].\n",
      " For any questions, please reach out to polly.support@elucidata.io.  \n",
      " Please use add_datasets to upload the files if no destination folder paths in the Omixatlas contain the data being updated by you.\n",
      "WARNING: Unable to update the data/metadata for  READ_miRNA_TCGA-G5-6233-01A-11H-1735-13.gct because original data file not present in the provided destination folder path: \n",
      " tcga_@@test_1/@ in the omixatlas. Please choose the required destination folder path from the following: \n",
      " ['ingestion_test_folder_1'].\n",
      " For any questions, please reach out to polly.support@elucidata.io.  \n",
      " Please use add_datasets to upload the files if no destination folder paths in the Omixatlas contain the data being updated by you.\n",
      "Uploading data files: 0files [00:00, ?files/s]\n"
     ]
    }
   ],
   "source": [
    "metadata_folder_path = \"/import/metadata/\"\n",
    "data_folder_path = \"/import/data/\"\n",
    "repo_id= \"1654268055800\"\n",
    "priority = \"high\"\n",
    "destination_folder_path = \"tcga_@@test_1/@\"\n",
    "source_folder_path = {\"metadata\":metadata_folder_path, \"data\": data_folder_path}\n",
    "omix.update_datasets(repo_id, source_folder_path, destination_folder_path, priority)"
   ]
  },
  {
   "cell_type": "code",
   "execution_count": 10,
   "metadata": {},
   "outputs": [
    {
     "name": "stderr",
     "output_type": "stream",
     "text": [
      "Processing Metadata files: 100%|██████████| 2/2 [00:00<00:00, 3903.49it/s]\n",
      "Uploading data files: 100%|██████████| 2/2 [00:03<00:00,  1.95s/files]\n"
     ]
    },
    {
     "name": "stdout",
     "output_type": "stream",
     "text": [
      "Please wait for 30 seconds while your ingestion request is getting logged.\n",
      "\n",
      "\n",
      "Your ingestion request is successfully logged. You can go to ingestion monitoring dashboard for tracking it's status.\n",
      "\n",
      "                                      File Name        Message\n",
      "0                       combined_metadata.json  File Uploaded\n",
      "1  PRAD_miRNA_TCGA-KK-A8IL-01A-11R-A36B-13.gct  File Uploaded\n",
      "2  READ_miRNA_TCGA-G5-6233-01A-11H-1735-13.gct  File Uploaded\n"
     ]
    },
    {
     "data": {
      "text/html": [
       "<div>\n",
       "<style scoped>\n",
       "    .dataframe tbody tr th:only-of-type {\n",
       "        vertical-align: middle;\n",
       "    }\n",
       "\n",
       "    .dataframe tbody tr th {\n",
       "        vertical-align: top;\n",
       "    }\n",
       "\n",
       "    .dataframe thead th {\n",
       "        text-align: right;\n",
       "    }\n",
       "</style>\n",
       "<table border=\"1\" class=\"dataframe\">\n",
       "  <thead>\n",
       "    <tr style=\"text-align: right;\">\n",
       "      <th></th>\n",
       "      <th>File Name</th>\n",
       "      <th>Message</th>\n",
       "    </tr>\n",
       "  </thead>\n",
       "  <tbody>\n",
       "    <tr>\n",
       "      <th>0</th>\n",
       "      <td>combined_metadata.json</td>\n",
       "      <td>File Uploaded</td>\n",
       "    </tr>\n",
       "    <tr>\n",
       "      <th>1</th>\n",
       "      <td>PRAD_miRNA_TCGA-KK-A8IL-01A-11R-A36B-13.gct</td>\n",
       "      <td>File Uploaded</td>\n",
       "    </tr>\n",
       "    <tr>\n",
       "      <th>2</th>\n",
       "      <td>READ_miRNA_TCGA-G5-6233-01A-11H-1735-13.gct</td>\n",
       "      <td>File Uploaded</td>\n",
       "    </tr>\n",
       "  </tbody>\n",
       "</table>\n",
       "</div>"
      ],
      "text/plain": [
       "                                     File Name        Message\n",
       "0                       combined_metadata.json  File Uploaded\n",
       "1  PRAD_miRNA_TCGA-KK-A8IL-01A-11R-A36B-13.gct  File Uploaded\n",
       "2  READ_miRNA_TCGA-G5-6233-01A-11H-1735-13.gct  File Uploaded"
      ]
     },
     "execution_count": 10,
     "metadata": {},
     "output_type": "execute_result"
    }
   ],
   "source": [
    "omix.add_datasets(repo_id=repo_id, source_folder_path=source_folder_path, priority=priority)"
   ]
  },
  {
   "cell_type": "code",
   "execution_count": null,
   "metadata": {},
   "outputs": [],
   "source": []
  }
 ],
 "metadata": {
  "kernelspec": {
   "display_name": "Python 3 (ipykernel)",
   "language": "python",
   "name": "python3"
  },
  "language_info": {
   "codemirror_mode": {
    "name": "ipython",
    "version": 3
   },
   "file_extension": ".py",
   "mimetype": "text/x-python",
   "name": "python",
   "nbconvert_exporter": "python",
   "pygments_lexer": "ipython3",
   "version": "3.10.2"
  }
 },
 "nbformat": 4,
 "nbformat_minor": 2
}
