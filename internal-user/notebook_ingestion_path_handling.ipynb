{
 "cells": [
  {
   "cell_type": "markdown",
   "metadata": {},
   "source": [
    "# Welcome to Polly Python3 Notebook."
   ]
  },
  {
   "cell_type": "code",
   "execution_count": 1,
   "metadata": {},
   "outputs": [
    {
     "name": "stdout",
     "output_type": "stream",
     "text": [
      "/bin/bash: warning: setlocale: LC_ALL: cannot change locale (en_US.UTF-8)\n",
      "Defaulting to user installation because normal site-packages is not writeable\n",
      "Looking in indexes: https://pypi.org/simple, http://54.245.179.143:80/\n",
      "Collecting polly-python==0.3.0-demo-ingestion\n",
      "  Downloading https://elucidatainc.github.io/PublicAssets/builds/polly-python/tests/testpolly/polly_python-0.3.0_demo_ingestion-py3-none-any.whl (114 kB)\n",
      "\u001b[K     |████████████████████████████████| 114 kB 31.0 MB/s eta 0:00:01\n",
      "\u001b[?25hRequirement already satisfied: datapane>=0.9.1 in /usr/local/lib/python3.10/site-packages (from polly-python==0.3.0-demo-ingestion) (0.15.6)\n",
      "Collecting cryptography>=38.0.1\n",
      "  Downloading cryptography-40.0.1-cp36-abi3-manylinux_2_28_x86_64.whl (3.7 MB)\n",
      "\u001b[K     |████████████████████████████████| 3.7 MB 35.1 MB/s eta 0:00:01\n",
      "\u001b[?25hRequirement already satisfied: Deprecated>=1.2.6 in /usr/local/lib/python3.10/site-packages (from polly-python==0.3.0-demo-ingestion) (1.2.13)\n",
      "Collecting mixpanel>=4.10.0\n",
      "  Downloading mixpanel-4.10.0-py2.py3-none-any.whl (8.9 kB)\n",
      "Requirement already satisfied: pytest>=3.0.0 in /usr/local/lib/python3.10/site-packages (from polly-python==0.3.0-demo-ingestion) (7.2.1)\n",
      "Requirement already satisfied: retrying>=1.3.3 in /usr/local/lib/python3.10/site-packages (from polly-python==0.3.0-demo-ingestion) (1.3.3)\n",
      "Requirement already satisfied: tqdm>=4.19.5 in /usr/local/lib/python3.10/site-packages (from polly-python==0.3.0-demo-ingestion) (4.64.1)\n",
      "Requirement already satisfied: python-jose>=3.3.0 in /usr/local/lib/python3.10/site-packages (from polly-python==0.3.0-demo-ingestion) (3.3.0)\n",
      "Requirement already satisfied: pandas>=1.0.1 in /usr/local/lib/python3.10/site-packages (from polly-python==0.3.0-demo-ingestion) (1.4.1)\n",
      "Requirement already satisfied: requests>=2.25.1 in /usr/local/lib/python3.10/site-packages (from polly-python==0.3.0-demo-ingestion) (2.25.1)\n",
      "Requirement already satisfied: elucidatacloudpathlib==0.6.6 in /usr/local/lib/python3.10/site-packages (from polly-python==0.3.0-demo-ingestion) (0.6.6)\n",
      "Requirement already satisfied: rst2txt>=1.1.0 in /usr/local/lib/python3.10/site-packages (from polly-python==0.3.0-demo-ingestion) (1.1.0)\n",
      "Requirement already satisfied: boto3>=1.17.73 in /usr/local/lib/python3.10/site-packages (from polly-python==0.3.0-demo-ingestion) (1.21.19)\n",
      "Requirement already satisfied: plotly>=2.0.0 in /usr/local/lib/python3.10/site-packages (from polly-python==0.3.0-demo-ingestion) (5.13.0)\n",
      "Requirement already satisfied: pydantic>=0.32.0 in /usr/local/lib/python3.10/site-packages (from polly-python==0.3.0-demo-ingestion) (1.9.1)\n",
      "Requirement already satisfied: botocore>=1.20.73 in /usr/local/lib/python3.10/site-packages (from polly-python==0.3.0-demo-ingestion) (1.24.19)\n",
      "Requirement already satisfied: elucidatacmapPy==3.3.4 in /usr/local/lib/python3.10/site-packages (from polly-python==0.3.0-demo-ingestion) (3.3.4)\n",
      "Requirement already satisfied: joblib>=0.11 in /usr/local/lib/python3.10/site-packages (from polly-python==0.3.0-demo-ingestion) (1.2.0)\n",
      "Collecting polly-validator==0.0.1\n",
      "  Downloading polly_validator-0.0.1-py3-none-any.whl (29 kB)\n",
      "Requirement already satisfied: numpy>=1.11.2 in /usr/local/lib/python3.10/site-packages (from elucidatacmapPy==3.3.4->polly-python==0.3.0-demo-ingestion) (1.22.3)\n",
      "Requirement already satisfied: six in /usr/local/lib/python3.10/site-packages (from elucidatacmapPy==3.3.4->polly-python==0.3.0-demo-ingestion) (1.16.0)\n",
      "Requirement already satisfied: h5py>=2.6.0 in /usr/local/lib/python3.10/site-packages (from elucidatacmapPy==3.3.4->polly-python==0.3.0-demo-ingestion) (3.8.0)\n",
      "Requirement already satisfied: tabulate==0.8.10 in /usr/local/lib/python3.10/site-packages (from polly-validator==0.0.1->polly-python==0.3.0-demo-ingestion) (0.8.10)\n",
      "Collecting appdirs==1.4.4\n",
      "  Downloading appdirs-1.4.4-py2.py3-none-any.whl (9.6 kB)\n",
      "Collecting rapidfuzz==2.1.1\n",
      "  Downloading rapidfuzz-2.1.1-cp310-cp310-manylinux_2_17_x86_64.manylinux2014_x86_64.whl (2.0 MB)\n",
      "\u001b[K     |████████████████████████████████| 2.0 MB 122.0 MB/s eta 0:00:01\n",
      "\u001b[?25hCollecting pronto\n",
      "  Downloading pronto-2.5.4-py2.py3-none-any.whl (61 kB)\n",
      "\u001b[K     |████████████████████████████████| 61 kB 23.7 MB/s  eta 0:00:01\n",
      "\u001b[?25hCollecting jarowinkler<1.1.0,>=1.0.3\n",
      "  Downloading jarowinkler-1.0.5-cp310-cp310-manylinux_2_17_x86_64.manylinux2014_x86_64.whl (103 kB)\n",
      "\u001b[K     |████████████████████████████████| 103 kB 130.8 MB/s eta 0:00:01\n",
      "\u001b[?25hRequirement already satisfied: certifi>=2017.4.17 in /usr/local/lib/python3.10/site-packages (from requests>=2.25.1->polly-python==0.3.0-demo-ingestion) (2021.10.8)\n",
      "Requirement already satisfied: urllib3<1.27,>=1.21.1 in /usr/local/lib/python3.10/site-packages (from requests>=2.25.1->polly-python==0.3.0-demo-ingestion) (1.26.6)\n",
      "Requirement already satisfied: chardet<5,>=3.0.2 in /usr/local/lib/python3.10/site-packages (from requests>=2.25.1->polly-python==0.3.0-demo-ingestion) (4.0.0)\n",
      "Requirement already satisfied: idna<3,>=2.5 in /usr/local/lib/python3.10/site-packages (from requests>=2.25.1->polly-python==0.3.0-demo-ingestion) (2.10)\n",
      "Requirement already satisfied: s3transfer<0.6.0,>=0.5.0 in /usr/local/lib/python3.10/site-packages (from boto3>=1.17.73->polly-python==0.3.0-demo-ingestion) (0.5.2)\n",
      "Requirement already satisfied: jmespath<1.0.0,>=0.7.1 in /usr/local/lib/python3.10/site-packages (from boto3>=1.17.73->polly-python==0.3.0-demo-ingestion) (0.10.0)\n",
      "Requirement already satisfied: python-dateutil<3.0.0,>=2.1 in /usr/local/lib/python3.10/site-packages (from botocore>=1.20.73->polly-python==0.3.0-demo-ingestion) (2.8.1)\n",
      "Requirement already satisfied: cffi>=1.12 in /usr/local/lib/python3.10/site-packages (from cryptography>=38.0.1->polly-python==0.3.0-demo-ingestion) (1.15.1)\n",
      "Requirement already satisfied: pycparser in /usr/local/lib/python3.10/site-packages (from cffi>=1.12->cryptography>=38.0.1->polly-python==0.3.0-demo-ingestion) (2.21)\n",
      "Requirement already satisfied: colorlog<7.0.0,>=4.1.0 in /usr/local/lib/python3.10/site-packages (from datapane>=0.9.1->polly-python==0.3.0-demo-ingestion) (6.7.0)\n",
      "Requirement already satisfied: micawber>=0.5.0 in /usr/local/lib/python3.10/site-packages (from datapane>=0.9.1->polly-python==0.3.0-demo-ingestion) (0.5.4)\n",
      "Requirement already satisfied: click<9.0.0,>=7.1.0 in /usr/local/lib/python3.10/site-packages (from datapane>=0.9.1->polly-python==0.3.0-demo-ingestion) (8.1.3)\n",
      "Requirement already satisfied: PyYAML<7.0.0,>=5.4.0 in /usr/local/lib/python3.10/site-packages (from datapane>=0.9.1->polly-python==0.3.0-demo-ingestion) (5.4.1)\n",
      "Requirement already satisfied: stringcase<2.0.0,>=1.2.0 in /usr/local/lib/python3.10/site-packages (from datapane>=0.9.1->polly-python==0.3.0-demo-ingestion) (1.2.0)\n",
      "Requirement already satisfied: validators<0.21.0,>=0.18.0 in /usr/local/lib/python3.10/site-packages (from datapane>=0.9.1->polly-python==0.3.0-demo-ingestion) (0.20.0)\n",
      "Requirement already satisfied: dominate<3.0.0,>=2.4.0 in /usr/local/lib/python3.10/site-packages (from datapane>=0.9.1->polly-python==0.3.0-demo-ingestion) (2.7.0)\n",
      "Requirement already satisfied: dacite<2.0.0,>=1.0.2 in /usr/local/lib/python3.10/site-packages (from datapane>=0.9.1->polly-python==0.3.0-demo-ingestion) (1.8.0)\n",
      "Requirement already satisfied: jsonschema<5.0.0,>=3.2.0 in /usr/local/lib/python3.10/site-packages (from datapane>=0.9.1->polly-python==0.3.0-demo-ingestion) (4.2.1)\n",
      "Requirement already satisfied: datacommons-pandas<0.0.4,>=0.0.3 in /usr/local/lib/python3.10/site-packages (from datapane>=0.9.1->polly-python==0.3.0-demo-ingestion) (0.0.3)\n",
      "Requirement already satisfied: munch<3.0.0,>=2.3.0 in /usr/local/lib/python3.10/site-packages (from datapane>=0.9.1->polly-python==0.3.0-demo-ingestion) (2.5.0)\n",
      "Requirement already satisfied: click-spinner<0.2.0,>=0.1.8 in /usr/local/lib/python3.10/site-packages (from datapane>=0.9.1->polly-python==0.3.0-demo-ingestion) (0.1.10)\n",
      "Requirement already satisfied: nbconvert<7.0.0,>=6.1.0 in /usr/local/lib/python3.10/site-packages (from datapane>=0.9.1->polly-python==0.3.0-demo-ingestion) (6.3.0)\n",
      "Requirement already satisfied: altair<5.0.0,>=4.0.0 in /usr/local/lib/python3.10/site-packages (from datapane>=0.9.1->polly-python==0.3.0-demo-ingestion) (4.2.2)\n",
      "Requirement already satisfied: pyarrow<11.0.0,>=6.0.0 in /usr/local/lib/python3.10/site-packages (from datapane>=0.9.1->polly-python==0.3.0-demo-ingestion) (10.0.1)\n",
      "Requirement already satisfied: toolz<0.13.0,>=0.11.0 in /usr/local/lib/python3.10/site-packages (from datapane>=0.9.1->polly-python==0.3.0-demo-ingestion) (0.12.0)\n",
      "Requirement already satisfied: datacommons<2.0.0,>=1.4.3 in /usr/local/lib/python3.10/site-packages (from datapane>=0.9.1->polly-python==0.3.0-demo-ingestion) (1.4.3)\n",
      "Requirement already satisfied: dulwich<0.21.0,>=0.20.0 in /usr/local/lib/python3.10/site-packages (from datapane>=0.9.1->polly-python==0.3.0-demo-ingestion) (0.20.50)\n",
      "Requirement already satisfied: requests-toolbelt<0.10.0,>=0.9.1 in /usr/local/lib/python3.10/site-packages (from datapane>=0.9.1->polly-python==0.3.0-demo-ingestion) (0.9.1)\n",
      "Requirement already satisfied: posthog<3.0.0,>=1.4.0 in /usr/local/lib/python3.10/site-packages (from datapane>=0.9.1->polly-python==0.3.0-demo-ingestion) (2.3.0)\n",
      "Requirement already satisfied: packaging<24.0.0,>=21.0.0 in /usr/local/lib/python3.10/site-packages (from datapane>=0.9.1->polly-python==0.3.0-demo-ingestion) (23.0)\n",
      "Requirement already satisfied: Jinja2<4.0.0,>=3.0.0 in /usr/local/lib/python3.10/site-packages (from datapane>=0.9.1->polly-python==0.3.0-demo-ingestion) (3.0.3)\n",
      "Requirement already satisfied: vega-datasets<1.0.0,>=0.9.0 in /usr/local/lib/python3.10/site-packages (from datapane>=0.9.1->polly-python==0.3.0-demo-ingestion) (0.9.0)\n",
      "Requirement already satisfied: glom<24.0.0,>=20.11.0 in /usr/local/lib/python3.10/site-packages (from datapane>=0.9.1->polly-python==0.3.0-demo-ingestion) (23.1.1)\n",
      "Requirement already satisfied: furl<3.0.0,>=2.0.0 in /usr/local/lib/python3.10/site-packages (from datapane>=0.9.1->polly-python==0.3.0-demo-ingestion) (2.1.3)\n",
      "Requirement already satisfied: importlib_resources<6.0.0,>=3.0.0 in /usr/local/lib/python3.10/site-packages (from datapane>=0.9.1->polly-python==0.3.0-demo-ingestion) (5.10.2)\n",
      "Requirement already satisfied: boltons<22.0.0,>=20.0.0 in /usr/local/lib/python3.10/site-packages (from datapane>=0.9.1->polly-python==0.3.0-demo-ingestion) (21.0.0)\n",
      "Requirement already satisfied: ipynbname<2022.0.0,>=2021.3.2 in /usr/local/lib/python3.10/site-packages (from datapane>=0.9.1->polly-python==0.3.0-demo-ingestion) (2021.3.2)\n",
      "Requirement already satisfied: lxml<5.0.0,>=4.0.0 in /usr/local/lib/python3.10/site-packages (from datapane>=0.9.1->polly-python==0.3.0-demo-ingestion) (4.9.2)\n",
      "Requirement already satisfied: entrypoints in /usr/local/lib/python3.10/site-packages (from altair<5.0.0,>=4.0.0->datapane>=0.9.1->polly-python==0.3.0-demo-ingestion) (0.3)\n",
      "Requirement already satisfied: wrapt<2,>=1.10 in /usr/local/lib/python3.10/site-packages (from Deprecated>=1.2.6->polly-python==0.3.0-demo-ingestion) (1.14.1)\n",
      "Requirement already satisfied: orderedmultidict>=1.0.1 in /usr/local/lib/python3.10/site-packages (from furl<3.0.0,>=2.0.0->datapane>=0.9.1->polly-python==0.3.0-demo-ingestion) (1.0.1)\n",
      "Requirement already satisfied: attrs in /usr/local/lib/python3.10/site-packages (from glom<24.0.0,>=20.11.0->datapane>=0.9.1->polly-python==0.3.0-demo-ingestion) (21.2.0)\n",
      "Requirement already satisfied: face==20.1.1 in /usr/local/lib/python3.10/site-packages (from glom<24.0.0,>=20.11.0->datapane>=0.9.1->polly-python==0.3.0-demo-ingestion) (20.1.1)\n",
      "Requirement already satisfied: ipykernel in /usr/local/lib/python3.10/site-packages (from ipynbname<2022.0.0,>=2021.3.2->datapane>=0.9.1->polly-python==0.3.0-demo-ingestion) (6.13.1)\n",
      "Requirement already satisfied: MarkupSafe>=2.0 in /usr/local/lib/python3.10/site-packages (from Jinja2<4.0.0,>=3.0.0->datapane>=0.9.1->polly-python==0.3.0-demo-ingestion) (2.0.1)\n",
      "Requirement already satisfied: pyrsistent!=0.17.0,!=0.17.1,!=0.17.2,>=0.14.0 in /usr/local/lib/python3.10/site-packages (from jsonschema<5.0.0,>=3.2.0->datapane>=0.9.1->polly-python==0.3.0-demo-ingestion) (0.18.0)\n",
      "Requirement already satisfied: pandocfilters>=1.4.1 in /usr/local/lib/python3.10/site-packages (from nbconvert<7.0.0,>=6.1.0->datapane>=0.9.1->polly-python==0.3.0-demo-ingestion) (1.5.0)\n",
      "Requirement already satisfied: jupyterlab-pygments in /usr/local/lib/python3.10/site-packages (from nbconvert<7.0.0,>=6.1.0->datapane>=0.9.1->polly-python==0.3.0-demo-ingestion) (0.2.2)\n",
      "Requirement already satisfied: testpath in /usr/local/lib/python3.10/site-packages (from nbconvert<7.0.0,>=6.1.0->datapane>=0.9.1->polly-python==0.3.0-demo-ingestion) (0.5.0)\n",
      "Requirement already satisfied: traitlets>=5.0 in /usr/local/lib/python3.10/site-packages (from nbconvert<7.0.0,>=6.1.0->datapane>=0.9.1->polly-python==0.3.0-demo-ingestion) (5.1.1)\n",
      "Requirement already satisfied: pygments>=2.4.1 in /usr/local/lib/python3.10/site-packages (from nbconvert<7.0.0,>=6.1.0->datapane>=0.9.1->polly-python==0.3.0-demo-ingestion) (2.10.0)\n",
      "Requirement already satisfied: nbclient<0.6.0,>=0.5.0 in /usr/local/lib/python3.10/site-packages (from nbconvert<7.0.0,>=6.1.0->datapane>=0.9.1->polly-python==0.3.0-demo-ingestion) (0.5.13)\n",
      "Requirement already satisfied: defusedxml in /usr/local/lib/python3.10/site-packages (from nbconvert<7.0.0,>=6.1.0->datapane>=0.9.1->polly-python==0.3.0-demo-ingestion) (0.7.1)\n",
      "Requirement already satisfied: nbformat>=4.4 in /usr/local/lib/python3.10/site-packages (from nbconvert<7.0.0,>=6.1.0->datapane>=0.9.1->polly-python==0.3.0-demo-ingestion) (5.1.3)\n",
      "Requirement already satisfied: mistune<2,>=0.8.1 in /usr/local/lib/python3.10/site-packages (from nbconvert<7.0.0,>=6.1.0->datapane>=0.9.1->polly-python==0.3.0-demo-ingestion) (0.8.4)\n",
      "Requirement already satisfied: jupyter-core in /usr/local/lib/python3.10/site-packages (from nbconvert<7.0.0,>=6.1.0->datapane>=0.9.1->polly-python==0.3.0-demo-ingestion) (4.9.1)\n",
      "Requirement already satisfied: bleach in /usr/local/lib/python3.10/site-packages (from nbconvert<7.0.0,>=6.1.0->datapane>=0.9.1->polly-python==0.3.0-demo-ingestion) (4.1.0)\n",
      "Requirement already satisfied: nest-asyncio in /usr/local/lib/python3.10/site-packages (from nbclient<0.6.0,>=0.5.0->nbconvert<7.0.0,>=6.1.0->datapane>=0.9.1->polly-python==0.3.0-demo-ingestion) (1.5.6)\n",
      "Requirement already satisfied: jupyter-client>=6.1.5 in /usr/local/lib/python3.10/site-packages (from nbclient<0.6.0,>=0.5.0->nbconvert<7.0.0,>=6.1.0->datapane>=0.9.1->polly-python==0.3.0-demo-ingestion) (6.1.12)\n",
      "Requirement already satisfied: pyzmq>=13 in /usr/local/lib/python3.10/site-packages (from jupyter-client>=6.1.5->nbclient<0.6.0,>=0.5.0->nbconvert<7.0.0,>=6.1.0->datapane>=0.9.1->polly-python==0.3.0-demo-ingestion) (22.3.0)\n",
      "Requirement already satisfied: tornado>=4.1 in /usr/local/lib/python3.10/site-packages (from jupyter-client>=6.1.5->nbclient<0.6.0,>=0.5.0->nbconvert<7.0.0,>=6.1.0->datapane>=0.9.1->polly-python==0.3.0-demo-ingestion) (6.1)\n",
      "Requirement already satisfied: ipython-genutils in /usr/local/lib/python3.10/site-packages (from nbformat>=4.4->nbconvert<7.0.0,>=6.1.0->datapane>=0.9.1->polly-python==0.3.0-demo-ingestion) (0.2.0)\n",
      "Requirement already satisfied: pytz>=2020.1 in /usr/local/lib/python3.10/site-packages (from pandas>=1.0.1->polly-python==0.3.0-demo-ingestion) (2021.1)\n",
      "Requirement already satisfied: tenacity>=6.2.0 in /usr/local/lib/python3.10/site-packages (from plotly>=2.0.0->polly-python==0.3.0-demo-ingestion) (8.1.0)\n",
      "Requirement already satisfied: monotonic>=1.5 in /usr/local/lib/python3.10/site-packages (from posthog<3.0.0,>=1.4.0->datapane>=0.9.1->polly-python==0.3.0-demo-ingestion) (1.6)\n",
      "Requirement already satisfied: backoff<2.0.0,>=1.10.0 in /usr/local/lib/python3.10/site-packages (from posthog<3.0.0,>=1.4.0->datapane>=0.9.1->polly-python==0.3.0-demo-ingestion) (1.11.1)\n",
      "Requirement already satisfied: typing-extensions>=3.7.4.3 in /usr/local/lib/python3.10/site-packages (from pydantic>=0.32.0->polly-python==0.3.0-demo-ingestion) (4.4.0)\n",
      "Requirement already satisfied: tomli>=1.0.0 in /usr/local/lib/python3.10/site-packages (from pytest>=3.0.0->polly-python==0.3.0-demo-ingestion) (2.0.1)\n",
      "Requirement already satisfied: exceptiongroup>=1.0.0rc8 in /usr/local/lib/python3.10/site-packages (from pytest>=3.0.0->polly-python==0.3.0-demo-ingestion) (1.1.0)\n",
      "Requirement already satisfied: iniconfig in /usr/local/lib/python3.10/site-packages (from pytest>=3.0.0->polly-python==0.3.0-demo-ingestion) (2.0.0)\n",
      "Requirement already satisfied: pluggy<2.0,>=0.12 in /usr/local/lib/python3.10/site-packages (from pytest>=3.0.0->polly-python==0.3.0-demo-ingestion) (1.0.0)\n",
      "Requirement already satisfied: rsa in /usr/local/lib/python3.10/site-packages (from python-jose>=3.3.0->polly-python==0.3.0-demo-ingestion) (4.7.2)\n",
      "Requirement already satisfied: ecdsa!=0.15 in /usr/local/lib/python3.10/site-packages (from python-jose>=3.3.0->polly-python==0.3.0-demo-ingestion) (0.18.0)\n",
      "Requirement already satisfied: pyasn1 in /usr/local/lib/python3.10/site-packages (from python-jose>=3.3.0->polly-python==0.3.0-demo-ingestion) (0.4.8)\n",
      "Requirement already satisfied: docutils>=0.11 in /usr/local/lib/python3.10/site-packages (from rst2txt>=1.1.0->polly-python==0.3.0-demo-ingestion) (0.15.2)\n",
      "Requirement already satisfied: decorator>=3.4.0 in /usr/local/lib/python3.10/site-packages (from validators<0.21.0,>=0.18.0->datapane>=0.9.1->polly-python==0.3.0-demo-ingestion) (5.1.0)\n",
      "Requirement already satisfied: webencodings in /usr/local/lib/python3.10/site-packages (from bleach->nbconvert<7.0.0,>=6.1.0->datapane>=0.9.1->polly-python==0.3.0-demo-ingestion) (0.5.1)\n",
      "Requirement already satisfied: psutil in /usr/local/lib/python3.10/site-packages (from ipykernel->ipynbname<2022.0.0,>=2021.3.2->datapane>=0.9.1->polly-python==0.3.0-demo-ingestion) (5.9.4)\n",
      "Requirement already satisfied: debugpy>=1.0 in /usr/local/lib/python3.10/site-packages (from ipykernel->ipynbname<2022.0.0,>=2021.3.2->datapane>=0.9.1->polly-python==0.3.0-demo-ingestion) (1.6.6)\n",
      "Requirement already satisfied: matplotlib-inline>=0.1 in /usr/local/lib/python3.10/site-packages (from ipykernel->ipynbname<2022.0.0,>=2021.3.2->datapane>=0.9.1->polly-python==0.3.0-demo-ingestion) (0.1.3)\n",
      "Requirement already satisfied: ipython>=7.23.1 in /usr/local/lib/python3.10/site-packages (from ipykernel->ipynbname<2022.0.0,>=2021.3.2->datapane>=0.9.1->polly-python==0.3.0-demo-ingestion) (8.2.0)\n",
      "Requirement already satisfied: jedi>=0.16 in /usr/local/lib/python3.10/site-packages (from ipython>=7.23.1->ipykernel->ipynbname<2022.0.0,>=2021.3.2->datapane>=0.9.1->polly-python==0.3.0-demo-ingestion) (0.18.1)\n",
      "Requirement already satisfied: pickleshare in /usr/local/lib/python3.10/site-packages (from ipython>=7.23.1->ipykernel->ipynbname<2022.0.0,>=2021.3.2->datapane>=0.9.1->polly-python==0.3.0-demo-ingestion) (0.7.5)\n",
      "Requirement already satisfied: setuptools>=18.5 in /usr/local/lib/python3.10/site-packages (from ipython>=7.23.1->ipykernel->ipynbname<2022.0.0,>=2021.3.2->datapane>=0.9.1->polly-python==0.3.0-demo-ingestion) (58.1.0)\n",
      "Requirement already satisfied: prompt-toolkit!=3.0.0,!=3.0.1,<3.1.0,>=2.0.0 in /usr/local/lib/python3.10/site-packages (from ipython>=7.23.1->ipykernel->ipynbname<2022.0.0,>=2021.3.2->datapane>=0.9.1->polly-python==0.3.0-demo-ingestion) (3.0.22)\n",
      "Requirement already satisfied: stack-data in /usr/local/lib/python3.10/site-packages (from ipython>=7.23.1->ipykernel->ipynbname<2022.0.0,>=2021.3.2->datapane>=0.9.1->polly-python==0.3.0-demo-ingestion) (0.6.2)\n",
      "Requirement already satisfied: backcall in /usr/local/lib/python3.10/site-packages (from ipython>=7.23.1->ipykernel->ipynbname<2022.0.0,>=2021.3.2->datapane>=0.9.1->polly-python==0.3.0-demo-ingestion) (0.2.0)\n",
      "Requirement already satisfied: pexpect>4.3 in /usr/local/lib/python3.10/site-packages (from ipython>=7.23.1->ipykernel->ipynbname<2022.0.0,>=2021.3.2->datapane>=0.9.1->polly-python==0.3.0-demo-ingestion) (4.8.0)\n",
      "Requirement already satisfied: parso<0.9.0,>=0.8.0 in /usr/local/lib/python3.10/site-packages (from jedi>=0.16->ipython>=7.23.1->ipykernel->ipynbname<2022.0.0,>=2021.3.2->datapane>=0.9.1->polly-python==0.3.0-demo-ingestion) (0.8.2)\n",
      "Requirement already satisfied: ptyprocess>=0.5 in /usr/local/lib/python3.10/site-packages (from pexpect>4.3->ipython>=7.23.1->ipykernel->ipynbname<2022.0.0,>=2021.3.2->datapane>=0.9.1->polly-python==0.3.0-demo-ingestion) (0.7.0)\n",
      "Requirement already satisfied: wcwidth in /usr/local/lib/python3.10/site-packages (from prompt-toolkit!=3.0.0,!=3.0.1,<3.1.0,>=2.0.0->ipython>=7.23.1->ipykernel->ipynbname<2022.0.0,>=2021.3.2->datapane>=0.9.1->polly-python==0.3.0-demo-ingestion) (0.2.5)\n",
      "Collecting fastobo~=0.12.2\n",
      "  Downloading fastobo-0.12.2-cp310-cp310-manylinux_2_17_x86_64.manylinux2014_x86_64.whl (2.1 MB)\n",
      "\u001b[K     |████████████████████████████████| 2.1 MB 121.8 MB/s eta 0:00:01\n",
      "\u001b[?25hCollecting pronto\n",
      "  Downloading pronto-2.5.3-py2.py3-none-any.whl (61 kB)\n",
      "\u001b[K     |████████████████████████████████| 61 kB 19.9 MB/s  eta 0:00:01\n",
      "\u001b[?25h  Downloading pronto-2.5.2-py2.py3-none-any.whl (61 kB)\n",
      "\u001b[K     |████████████████████████████████| 61 kB 22.9 MB/s  eta 0:00:01\n",
      "\u001b[?25h  Downloading pronto-2.5.1-py2.py3-none-any.whl (61 kB)\n",
      "\u001b[K     |████████████████████████████████| 61 kB 24.3 MB/s  eta 0:00:01\n",
      "\u001b[?25hCollecting networkx~=2.3\n",
      "  Downloading networkx-2.8.8-py3-none-any.whl (2.0 MB)\n",
      "\u001b[K     |████████████████████████████████| 2.0 MB 111.9 MB/s eta 0:00:01\n",
      "\u001b[?25hRequirement already satisfied: asttokens>=2.1.0 in /usr/local/lib/python3.10/site-packages (from stack-data->ipython>=7.23.1->ipykernel->ipynbname<2022.0.0,>=2021.3.2->datapane>=0.9.1->polly-python==0.3.0-demo-ingestion) (2.2.1)\n",
      "Requirement already satisfied: executing>=1.2.0 in /usr/local/lib/python3.10/site-packages (from stack-data->ipython>=7.23.1->ipykernel->ipynbname<2022.0.0,>=2021.3.2->datapane>=0.9.1->polly-python==0.3.0-demo-ingestion) (1.2.0)\n",
      "Requirement already satisfied: pure-eval in /usr/local/lib/python3.10/site-packages (from stack-data->ipython>=7.23.1->ipykernel->ipynbname<2022.0.0,>=2021.3.2->datapane>=0.9.1->polly-python==0.3.0-demo-ingestion) (0.2.2)\n",
      "Installing collected packages: networkx, jarowinkler, fastobo, rapidfuzz, pronto, appdirs, polly-validator, mixpanel, cryptography, polly-python\n",
      "Successfully installed appdirs-1.4.4 cryptography-40.0.1 fastobo-0.12.2 jarowinkler-1.0.5 mixpanel-4.10.0 networkx-2.8.8 polly-python-0.2.11 polly-validator-0.0.1 pronto-2.5.1 rapidfuzz-2.1.1\n",
      "\u001b[33mWARNING: You are using pip version 21.2.4; however, version 23.0.1 is available.\n",
      "You should consider upgrading via the '/usr/local/bin/python3.10 -m pip install --upgrade pip' command.\u001b[0m\n",
      "Note: you may need to restart the kernel to use updated packages.\n"
     ]
    }
   ],
   "source": [
    "pip install https://elucidatainc.github.io/PublicAssets/builds/polly-python/tests/testpolly/polly_python-0.3.0_demo_ingestion-py3-none-any.whl"
   ]
  },
  {
   "cell_type": "code",
   "execution_count": 2,
   "metadata": {},
   "outputs": [
    {
     "name": "stdout",
     "output_type": "stream",
     "text": [
      "/bin/bash: warning: setlocale: LC_ALL: cannot change locale (en_US.UTF-8)\n",
      "\u001b7\u001b[?7l\u001b[1Gprogress [░░░░░░░░░░░░░░░░░░░░░░░░░░░░░░░░░░░░░░░░] 0% | NA | ETA: 0s | time elapsed: 0s\u001b[0K\u001b[1Gprogress [████████████████████░░░░░░░░░░░░░░░░░░░░] 50% | 457.371 KB/912.433 KB | ETA: 1s | time elapsed: 0s\u001b[0K\u001b[1Gprogress [████████████████████████████████████████] 100% | 912.433 KB/912.433 KB | ETA: 0s | time elapsed: 0s\u001b[0K\u001b[?7h\u001b8\n",
      "\u001b[32m\u001b[1mSuccess: Sync complete\u001b[22m\u001b[39m\n"
     ]
    }
   ],
   "source": [
    "!polly files sync -s \"polly://data/\" -d \"data/\" -y"
   ]
  },
  {
   "cell_type": "code",
   "execution_count": 3,
   "metadata": {},
   "outputs": [
    {
     "name": "stdout",
     "output_type": "stream",
     "text": [
      "/bin/bash: warning: setlocale: LC_ALL: cannot change locale (en_US.UTF-8)\n",
      "\u001b[32m\u001b[1mSuccess: Sync complete\u001b[22m\u001b[39m\n"
     ]
    }
   ],
   "source": [
    "!polly files sync -s \"polly://metadata/\" -d \"metadata/\" -y"
   ]
  },
  {
   "cell_type": "code",
   "execution_count": 1,
   "metadata": {},
   "outputs": [],
   "source": [
    "AUTH_TOKEN=(os.environ['POLLY_REFRESH_TOKEN'])\n",
    "import os\n",
    "from polly.auth import Polly\n",
    "from polly.omixatlas import OmixAtlas\n",
    "Polly.auth(AUTH_TOKEN)"
   ]
  },
  {
   "cell_type": "code",
   "execution_count": 6,
   "metadata": {},
   "outputs": [
    {
     "data": {
      "text/plain": [
       "'testpolly'"
      ]
     },
     "execution_count": 6,
     "metadata": {},
     "output_type": "execute_result"
    }
   ],
   "source": [
    "omixatlas = OmixAtlas()\n",
    "omixatlas.session.env"
   ]
  },
  {
   "cell_type": "code",
   "execution_count": 7,
   "metadata": {},
   "outputs": [],
   "source": [
    "def download_data_file(repo_name: str, dataset_id_list : list, folder_path: str):\n",
    "    for dataset_id in dataset_id_list: \n",
    "        download_response = omixatlas.download_data(repo_name, dataset_id)\n",
    "        url = (\n",
    "            download_response.get(\"data\", {}).get(\"attributes\", {}).get(\"download_url\")\n",
    "        )\n",
    "        local_filename = url.split('/')[-1].split('?')[0]\n",
    "        local_filename = os.path.join(folder_path,local_filename)\n",
    "        # NOTE the stream=True parameter below\n",
    "        with requests.get(url, stream=True) as r:\n",
    "            r.raise_for_status()\n",
    "            with open(local_filename, 'wb') as f:\n",
    "                for chunk in r.iter_content(chunk_size=8192): \n",
    "                    # If you have chunk encoded response uncomment if\n",
    "                    # and set chunk_size parameter to None.\n",
    "                    #if chunk: \n",
    "                    f.write(chunk)\n",
    "        print(\"done with dataset id : \" +dataset_id)"
   ]
  },
  {
   "cell_type": "code",
   "execution_count": 8,
   "metadata": {},
   "outputs": [
    {
     "name": "stderr",
     "output_type": "stream",
     "text": [
      "DeprecationWarning: This method will soon be deprecated. Please use new function download_datasets for downloading data files directly.\n",
      "For usage: help(<omixatlas_object>.download_dataset) \n",
      "For more details: https://docs.elucidata.io/polly-python/OmixAtlas/Download%20Data.html#omixatlas.OmixAtlas.download_dataset\n"
     ]
    },
    {
     "name": "stdout",
     "output_type": "stream",
     "text": [
      "done with dataset id : SKCM_Copy_Number_Segment_TCGA-ER-A2NH-06A\n"
     ]
    },
    {
     "name": "stderr",
     "output_type": "stream",
     "text": [
      "DeprecationWarning: This method will soon be deprecated. Please use new function download_datasets for downloading data files directly.\n",
      "For usage: help(<omixatlas_object>.download_dataset) \n",
      "For more details: https://docs.elucidata.io/polly-python/OmixAtlas/Download%20Data.html#omixatlas.OmixAtlas.download_dataset\n"
     ]
    },
    {
     "name": "stdout",
     "output_type": "stream",
     "text": [
      "done with dataset id : SKCM_RNASeq_TCGA-FS-A1ZJ-06A-12R-A18S-07\n"
     ]
    }
   ],
   "source": [
    "dataset_1 = 'SKCM_Copy_Number_Segment_TCGA-ER-A2NH-06A'\n",
    "dataset_2 = 'SKCM_RNASeq_TCGA-FS-A1ZJ-06A-12R-A18S-07'\n",
    "download_data_file(\"tcga\", [dataset_1,dataset_2], \"/import/data/\")"
   ]
  },
  {
   "cell_type": "code",
   "execution_count": 9,
   "metadata": {},
   "outputs": [
    {
     "name": "stdout",
     "output_type": "stream",
     "text": [
      "The dataset level metadata for dataset = SKCM_Copy_Number_Segment_TCGA-ER-A2NH-06A has been downloaded at : = /import/metadata/SKCM_Copy_Number_Segment_TCGA-ER-A2NH-06A.json\n",
      "The dataset level metadata for dataset = SKCM_RNASeq_TCGA-FS-A1ZJ-06A-12R-A18S-07 has been downloaded at : = /import/metadata/SKCM_RNASeq_TCGA-FS-A1ZJ-06A-12R-A18S-07.json\n"
     ]
    }
   ],
   "source": [
    "omixatlas.download_metadata(\"tcga\", dataset_1, \"/import/metadata/\")\n",
    "omixatlas.download_metadata(\"tcga\", dataset_2, \"/import/metadata/\")"
   ]
  },
  {
   "cell_type": "code",
   "execution_count": 10,
   "metadata": {},
   "outputs": [
    {
     "name": "stderr",
     "output_type": "stream",
     "text": [
      "Processing Metadata files: 100%|██████████| 2/2 [00:00<00:00, 6069.90it/s]\n",
      "Uploading data files: 100%|██████████| 2/2 [00:00<00:00,  5.12files/s]\n"
     ]
    },
    {
     "name": "stdout",
     "output_type": "stream",
     "text": [
      "Please wait for 30 seconds while your ingestion request is getting logged.\n",
      "\n",
      "\n",
      "Your ingestion request is successfully logged. You can go to ingestion monitoring dashboard for tracking it's status.\n",
      "\n",
      "                                        File Name        Message\n",
      "0                         combined_metadata.json  File Uploaded\n",
      "1  SKCM_Copy_Number_Segment_TCGA-ER-A2NH-06A.gct  File Uploaded\n",
      "2   SKCM_RNASeq_TCGA-FS-A1ZJ-06A-12R-A18S-07.gct  File Uploaded\n",
      "Ingestion completed!! The destination folder for ingestion is : tcga_$$test_1/@\n"
     ]
    },
    {
     "data": {
      "text/html": [
       "<div>\n",
       "<style scoped>\n",
       "    .dataframe tbody tr th:only-of-type {\n",
       "        vertical-align: middle;\n",
       "    }\n",
       "\n",
       "    .dataframe tbody tr th {\n",
       "        vertical-align: top;\n",
       "    }\n",
       "\n",
       "    .dataframe thead th {\n",
       "        text-align: right;\n",
       "    }\n",
       "</style>\n",
       "<table border=\"1\" class=\"dataframe\">\n",
       "  <thead>\n",
       "    <tr style=\"text-align: right;\">\n",
       "      <th></th>\n",
       "      <th>File Name</th>\n",
       "      <th>Message</th>\n",
       "    </tr>\n",
       "  </thead>\n",
       "  <tbody>\n",
       "    <tr>\n",
       "      <th>0</th>\n",
       "      <td>combined_metadata.json</td>\n",
       "      <td>File Uploaded</td>\n",
       "    </tr>\n",
       "    <tr>\n",
       "      <th>1</th>\n",
       "      <td>SKCM_Copy_Number_Segment_TCGA-ER-A2NH-06A.gct</td>\n",
       "      <td>File Uploaded</td>\n",
       "    </tr>\n",
       "    <tr>\n",
       "      <th>2</th>\n",
       "      <td>SKCM_RNASeq_TCGA-FS-A1ZJ-06A-12R-A18S-07.gct</td>\n",
       "      <td>File Uploaded</td>\n",
       "    </tr>\n",
       "  </tbody>\n",
       "</table>\n",
       "</div>"
      ],
      "text/plain": [
       "                                       File Name        Message\n",
       "0                         combined_metadata.json  File Uploaded\n",
       "1  SKCM_Copy_Number_Segment_TCGA-ER-A2NH-06A.gct  File Uploaded\n",
       "2   SKCM_RNASeq_TCGA-FS-A1ZJ-06A-12R-A18S-07.gct  File Uploaded"
      ]
     },
     "execution_count": 10,
     "metadata": {},
     "output_type": "execute_result"
    }
   ],
   "source": [
    "metadata_folder_path = \"/import/metadata/\"\n",
    "data_folder_path = \"/import/data/\"\n",
    "repo_id= \"1654268055800\"\n",
    "priority = \"high\"\n",
    "destination_folder_path = \"tcga_$$test_1/@/.//\"\n",
    "source_folder_path = {\"metadata\":metadata_folder_path, \"data\": data_folder_path}\n",
    "omixatlas.add_datasets(repo_id, source_folder_path, destination_folder_path, priority)"
   ]
  },
  {
   "cell_type": "code",
   "execution_count": 11,
   "metadata": {},
   "outputs": [
    {
     "name": "stderr",
     "output_type": "stream",
     "text": [
      "Processing Metadata files: 100%|██████████| 2/2 [00:00<00:00, 268.51it/s]\n",
      "Uploading data files: 100%|██████████| 2/2 [00:00<00:00,  5.70files/s]\n"
     ]
    },
    {
     "name": "stdout",
     "output_type": "stream",
     "text": [
      "Please wait for 30 seconds while your ingestion request is getting logged.\n",
      "\n",
      "\n",
      "Your ingestion request is successfully logged. You can go to ingestion monitoring dashboard for tracking it's status.\n",
      "\n",
      "                                        File Name        Message\n",
      "0                         combined_metadata.json  File Uploaded\n",
      "1  SKCM_Copy_Number_Segment_TCGA-ER-A2NH-06A.gct  File Uploaded\n",
      "2   SKCM_RNASeq_TCGA-FS-A1ZJ-06A-12R-A18S-07.gct  File Uploaded\n"
     ]
    },
    {
     "data": {
      "text/html": [
       "<div>\n",
       "<style scoped>\n",
       "    .dataframe tbody tr th:only-of-type {\n",
       "        vertical-align: middle;\n",
       "    }\n",
       "\n",
       "    .dataframe tbody tr th {\n",
       "        vertical-align: top;\n",
       "    }\n",
       "\n",
       "    .dataframe thead th {\n",
       "        text-align: right;\n",
       "    }\n",
       "</style>\n",
       "<table border=\"1\" class=\"dataframe\">\n",
       "  <thead>\n",
       "    <tr style=\"text-align: right;\">\n",
       "      <th></th>\n",
       "      <th>File Name</th>\n",
       "      <th>Message</th>\n",
       "    </tr>\n",
       "  </thead>\n",
       "  <tbody>\n",
       "    <tr>\n",
       "      <th>0</th>\n",
       "      <td>combined_metadata.json</td>\n",
       "      <td>File Uploaded</td>\n",
       "    </tr>\n",
       "    <tr>\n",
       "      <th>1</th>\n",
       "      <td>SKCM_Copy_Number_Segment_TCGA-ER-A2NH-06A.gct</td>\n",
       "      <td>File Uploaded</td>\n",
       "    </tr>\n",
       "    <tr>\n",
       "      <th>2</th>\n",
       "      <td>SKCM_RNASeq_TCGA-FS-A1ZJ-06A-12R-A18S-07.gct</td>\n",
       "      <td>File Uploaded</td>\n",
       "    </tr>\n",
       "  </tbody>\n",
       "</table>\n",
       "</div>"
      ],
      "text/plain": [
       "                                       File Name        Message\n",
       "0                         combined_metadata.json  File Uploaded\n",
       "1  SKCM_Copy_Number_Segment_TCGA-ER-A2NH-06A.gct  File Uploaded\n",
       "2   SKCM_RNASeq_TCGA-FS-A1ZJ-06A-12R-A18S-07.gct  File Uploaded"
      ]
     },
     "execution_count": 11,
     "metadata": {},
     "output_type": "execute_result"
    }
   ],
   "source": [
    "destination_folder_path = \"tcga_$$test_1/@\"\n",
    "omixatlas.update_datasets(repo_id, source_folder_path, destination_folder_path, priority)"
   ]
  },
  {
   "cell_type": "code",
   "execution_count": null,
   "metadata": {},
   "outputs": [],
   "source": []
  }
 ],
 "metadata": {
  "kernelspec": {
   "display_name": "Python 3 (ipykernel)",
   "language": "python",
   "name": "python3"
  },
  "language_info": {
   "codemirror_mode": {
    "name": "ipython",
    "version": 3
   },
   "file_extension": ".py",
   "mimetype": "text/x-python",
   "name": "python",
   "nbconvert_exporter": "python",
   "pygments_lexer": "ipython3",
   "version": "3.10.2"
  }
 },
 "nbformat": 4,
 "nbformat_minor": 2
}
