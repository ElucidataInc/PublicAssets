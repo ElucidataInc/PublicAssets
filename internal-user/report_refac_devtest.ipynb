{
 "cells": [
  {
   "cell_type": "markdown",
   "metadata": {},
   "source": [
    "# Welcome to Polly Python3 Notebook."
   ]
  },
  {
   "cell_type": "code",
   "execution_count": 1,
   "metadata": {},
   "outputs": [
    {
     "name": "stdout",
     "output_type": "stream",
     "text": [
      "/bin/bash: warning: setlocale: LC_ALL: cannot change locale (en_US.UTF-8)\n",
      "Defaulting to user installation because normal site-packages is not writeable\n",
      "Looking in indexes: https://pypi.org/simple, http://54.245.179.143:80/\n",
      "Collecting polly-python==0.4.1-report-refactor\n",
      "  Downloading https://elucidatainc.github.io/PublicAssets/builds/polly-python/tests/testpolly/polly_python-0.4.1_report_refactor-py3-none-any.whl (140 kB)\n",
      "\u001b[K     |████████████████████████████████| 140 kB 18.3 MB/s eta 0:00:01\n",
      "\u001b[?25hRequirement already satisfied: Deprecated>=1.2.12 in /usr/local/lib/python3.10/site-packages (from polly-python==0.4.1-report-refactor) (1.2.13)\n",
      "Requirement already satisfied: python-jose==3.3.0 in /usr/local/lib/python3.10/site-packages (from polly-python==0.4.1-report-refactor) (3.3.0)\n",
      "Requirement already satisfied: elucidatacloudpathlib==0.6.6 in /usr/local/lib/python3.10/site-packages (from polly-python==0.4.1-report-refactor) (0.6.6)\n",
      "Collecting botocore>=1.27.0\n",
      "  Downloading botocore-1.31.12-py3-none-any.whl (11.0 MB)\n",
      "\u001b[K     |████████████████████████████████| 11.0 MB 23.1 MB/s eta 0:00:01\n",
      "\u001b[?25hRequirement already satisfied: joblib>=1.2.0 in /usr/local/lib/python3.10/site-packages (from polly-python==0.4.1-report-refactor) (1.2.0)\n",
      "Requirement already satisfied: retrying==1.3.4 in /usr/local/lib/python3.10/site-packages (from polly-python==0.4.1-report-refactor) (1.3.4)\n",
      "Requirement already satisfied: plotly>=5.0.0 in /usr/local/lib/python3.10/site-packages (from polly-python==0.4.1-report-refactor) (5.14.1)\n",
      "Requirement already satisfied: pandas>=1.3.5 in /usr/local/lib/python3.10/site-packages (from polly-python==0.4.1-report-refactor) (1.4.1)\n",
      "Collecting cryptography<=38.0.0,>=37.0.1\n",
      "  Downloading cryptography-38.0.0-cp36-abi3-manylinux_2_28_x86_64.whl (4.2 MB)\n",
      "\u001b[K     |████████████████████████████████| 4.2 MB 56.8 MB/s eta 0:00:01\n",
      "\u001b[?25hRequirement already satisfied: elucidatacmapPy==3.3.4 in /usr/local/lib/python3.10/site-packages (from polly-python==0.4.1-report-refactor) (3.3.4)\n",
      "Requirement already satisfied: tqdm==4.65.0 in /usr/local/lib/python3.10/site-packages (from polly-python==0.4.1-report-refactor) (4.65.0)\n",
      "Requirement already satisfied: pytest>=6.2.5 in /usr/local/lib/python3.10/site-packages (from polly-python==0.4.1-report-refactor) (7.3.1)\n",
      "Collecting polly-validator==0.0.2\n",
      "  Downloading polly_validator-0.0.2-py3-none-any.whl (29 kB)\n",
      "Requirement already satisfied: mixpanel==4.10.0 in /usr/local/lib/python3.10/site-packages (from polly-python==0.4.1-report-refactor) (4.10.0)\n",
      "Requirement already satisfied: requests==2.25.1 in /usr/local/lib/python3.10/site-packages (from polly-python==0.4.1-report-refactor) (2.25.1)\n",
      "Requirement already satisfied: beautifulsoup4 in /usr/local/lib/python3.10/site-packages (from polly-python==0.4.1-report-refactor) (4.12.2)\n",
      "Collecting boto3>=1.24.0\n",
      "  Downloading boto3-1.28.12-py3-none-any.whl (135 kB)\n",
      "\u001b[K     |████████████████████████████████| 135 kB 71.8 MB/s eta 0:00:01\n",
      "\u001b[?25hRequirement already satisfied: rst2txt==1.1.0 in /usr/local/lib/python3.10/site-packages (from polly-python==0.4.1-report-refactor) (1.1.0)\n",
      "Requirement already satisfied: pydantic>=1.8.2 in /usr/local/lib/python3.10/site-packages (from polly-python==0.4.1-report-refactor) (1.10.7)\n",
      "Requirement already satisfied: datapane>=0.10.3 in /usr/local/lib/python3.10/site-packages (from polly-python==0.4.1-report-refactor) (0.16.4)\n",
      "Requirement already satisfied: six in /usr/local/lib/python3.10/site-packages (from elucidatacmapPy==3.3.4->polly-python==0.4.1-report-refactor) (1.16.0)\n",
      "Requirement already satisfied: h5py>=2.6.0 in /usr/local/lib/python3.10/site-packages (from elucidatacmapPy==3.3.4->polly-python==0.4.1-report-refactor) (3.8.0)\n",
      "Requirement already satisfied: numpy>=1.11.2 in /usr/local/lib/python3.10/site-packages (from elucidatacmapPy==3.3.4->polly-python==0.4.1-report-refactor) (1.22.3)\n",
      "Requirement already satisfied: urllib3 in /usr/local/lib/python3.10/site-packages (from mixpanel==4.10.0->polly-python==0.4.1-report-refactor) (1.26.6)\n",
      "Requirement already satisfied: appdirs==1.4.4 in /usr/local/lib/python3.10/site-packages (from polly-validator==0.0.2->polly-python==0.4.1-report-refactor) (1.4.4)\n",
      "Requirement already satisfied: tabulate==0.8.10 in /usr/local/lib/python3.10/site-packages (from polly-validator==0.0.2->polly-python==0.4.1-report-refactor) (0.8.10)\n",
      "Requirement already satisfied: pronto in /usr/local/lib/python3.10/site-packages (from polly-validator==0.0.2->polly-python==0.4.1-report-refactor) (2.5.1)\n",
      "Requirement already satisfied: rapidfuzz==2.1.1 in /usr/local/lib/python3.10/site-packages (from polly-validator==0.0.2->polly-python==0.4.1-report-refactor) (2.1.1)\n",
      "Requirement already satisfied: rsa in /usr/local/lib/python3.10/site-packages (from python-jose==3.3.0->polly-python==0.4.1-report-refactor) (4.7.2)\n",
      "Requirement already satisfied: pyasn1 in /usr/local/lib/python3.10/site-packages (from python-jose==3.3.0->polly-python==0.4.1-report-refactor) (0.4.8)\n",
      "Requirement already satisfied: ecdsa!=0.15 in /usr/local/lib/python3.10/site-packages (from python-jose==3.3.0->polly-python==0.4.1-report-refactor) (0.18.0)\n",
      "Requirement already satisfied: jarowinkler<1.1.0,>=1.0.3 in /usr/local/lib/python3.10/site-packages (from rapidfuzz==2.1.1->polly-validator==0.0.2->polly-python==0.4.1-report-refactor) (1.0.5)\n",
      "Requirement already satisfied: idna<3,>=2.5 in /usr/local/lib/python3.10/site-packages (from requests==2.25.1->polly-python==0.4.1-report-refactor) (2.10)\n",
      "Requirement already satisfied: chardet<5,>=3.0.2 in /usr/local/lib/python3.10/site-packages (from requests==2.25.1->polly-python==0.4.1-report-refactor) (4.0.0)\n",
      "Requirement already satisfied: certifi>=2017.4.17 in /usr/local/lib/python3.10/site-packages (from requests==2.25.1->polly-python==0.4.1-report-refactor) (2021.5.30)\n",
      "Requirement already satisfied: docutils>=0.11 in /usr/local/lib/python3.10/site-packages (from rst2txt==1.1.0->polly-python==0.4.1-report-refactor) (0.15.2)\n",
      "Requirement already satisfied: pygments in /usr/local/lib/python3.10/site-packages (from rst2txt==1.1.0->polly-python==0.4.1-report-refactor) (2.10.0)\n",
      "Requirement already satisfied: jmespath<2.0.0,>=0.7.1 in /usr/local/lib/python3.10/site-packages (from boto3>=1.24.0->polly-python==0.4.1-report-refactor) (0.10.0)\n",
      "Collecting s3transfer<0.7.0,>=0.6.0\n",
      "  Downloading s3transfer-0.6.1-py3-none-any.whl (79 kB)\n",
      "\u001b[K     |████████████████████████████████| 79 kB 12.7 MB/s eta 0:00:01\n",
      "\u001b[?25hRequirement already satisfied: python-dateutil<3.0.0,>=2.1 in /usr/local/lib/python3.10/site-packages (from botocore>=1.27.0->polly-python==0.4.1-report-refactor) (2.8.1)\n",
      "Requirement already satisfied: cffi>=1.12 in /usr/local/lib/python3.10/site-packages (from cryptography<=38.0.0,>=37.0.1->polly-python==0.4.1-report-refactor) (1.15.1)\n",
      "Requirement already satisfied: pycparser in /usr/local/lib/python3.10/site-packages (from cffi>=1.12->cryptography<=38.0.0,>=37.0.1->polly-python==0.4.1-report-refactor) (2.21)\n",
      "Requirement already satisfied: vega-datasets<1.0.0,>=0.9.0 in /usr/local/lib/python3.10/site-packages (from datapane>=0.10.3->polly-python==0.4.1-report-refactor) (0.9.0)\n",
      "Requirement already satisfied: altair<5.0.0,>=4.0.0 in /usr/local/lib/python3.10/site-packages (from datapane>=0.10.3->polly-python==0.4.1-report-refactor) (4.2.2)\n",
      "Requirement already satisfied: cheroot<10.0.0,>=9.0.0 in /usr/local/lib/python3.10/site-packages (from datapane>=0.10.3->polly-python==0.4.1-report-refactor) (9.0.0)\n",
      "Requirement already satisfied: dacite<2.0.0,>=1.0.2 in /usr/local/lib/python3.10/site-packages (from datapane>=0.10.3->polly-python==0.4.1-report-refactor) (1.8.0)\n",
      "Requirement already satisfied: jsonschema<5.0.0,>=3.2.0 in /usr/local/lib/python3.10/site-packages (from datapane>=0.10.3->polly-python==0.4.1-report-refactor) (4.2.1)\n",
      "Requirement already satisfied: boltons<22.0.0,>=20.0.0 in /usr/local/lib/python3.10/site-packages (from datapane>=0.10.3->polly-python==0.4.1-report-refactor) (21.0.0)\n",
      "Requirement already satisfied: colorlog<7.0.0,>=4.1.0 in /usr/local/lib/python3.10/site-packages (from datapane>=0.10.3->polly-python==0.4.1-report-refactor) (6.7.0)\n",
      "Requirement already satisfied: click<9.0.0,>=7.1.0 in /usr/local/lib/python3.10/site-packages (from datapane>=0.10.3->polly-python==0.4.1-report-refactor) (8.1.3)\n",
      "Requirement already satisfied: datacommons-pandas<0.0.4,>=0.0.3 in /usr/local/lib/python3.10/site-packages (from datapane>=0.10.3->polly-python==0.4.1-report-refactor) (0.0.3)\n",
      "Requirement already satisfied: PyYAML<7.0.0,>=5.4.0 in /usr/local/lib/python3.10/site-packages (from datapane>=0.10.3->polly-python==0.4.1-report-refactor) (5.4.1)\n",
      "Requirement already satisfied: datacommons<2.0.0,>=1.4.3 in /usr/local/lib/python3.10/site-packages (from datapane>=0.10.3->polly-python==0.4.1-report-refactor) (1.4.3)\n",
      "Requirement already satisfied: pyarrow<11.0.0,>=6.0.0 in /usr/local/lib/python3.10/site-packages (from datapane>=0.10.3->polly-python==0.4.1-report-refactor) (10.0.1)\n",
      "Requirement already satisfied: packaging<24.0.0,>=21.0.0 in /usr/local/lib/python3.10/site-packages (from datapane>=0.10.3->polly-python==0.4.1-report-refactor) (23.1)\n",
      "Requirement already satisfied: typing-extensions<5.0.0,>=4.4.0 in /usr/local/lib/python3.10/site-packages (from datapane>=0.10.3->polly-python==0.4.1-report-refactor) (4.5.0)\n",
      "Requirement already satisfied: multimethod<2.0,>=1.9 in /usr/local/lib/python3.10/site-packages (from datapane>=0.10.3->polly-python==0.4.1-report-refactor) (1.9.1)\n",
      "Requirement already satisfied: requests-toolbelt<0.11.0,>=0.9.1 in /usr/local/lib/python3.10/site-packages (from datapane>=0.10.3->polly-python==0.4.1-report-refactor) (0.10.1)\n",
      "Requirement already satisfied: importlib_resources<6.0.0,>=3.0.0 in /usr/local/lib/python3.10/site-packages (from datapane>=0.10.3->polly-python==0.4.1-report-refactor) (5.12.0)\n",
      "Requirement already satisfied: furl<3.0.0,>=2.0.0 in /usr/local/lib/python3.10/site-packages (from datapane>=0.10.3->polly-python==0.4.1-report-refactor) (2.1.3)\n",
      "Requirement already satisfied: posthog<3.0.0,>=1.4.0 in /usr/local/lib/python3.10/site-packages (from datapane>=0.10.3->polly-python==0.4.1-report-refactor) (2.5.0)\n",
      "Requirement already satisfied: click-spinner<0.2.0,>=0.1.8 in /usr/local/lib/python3.10/site-packages (from datapane>=0.10.3->polly-python==0.4.1-report-refactor) (0.1.10)\n",
      "Requirement already satisfied: pyngrok<6.0.0,>=5.2.1 in /usr/local/lib/python3.10/site-packages (from datapane>=0.10.3->polly-python==0.4.1-report-refactor) (5.2.3)\n",
      "Requirement already satisfied: nbconvert>=5.6.1 in /usr/local/lib/python3.10/site-packages (from datapane>=0.10.3->polly-python==0.4.1-report-refactor) (6.3.0)\n",
      "Requirement already satisfied: toolz<0.13.0,>=0.11.0 in /usr/local/lib/python3.10/site-packages (from datapane>=0.10.3->polly-python==0.4.1-report-refactor) (0.12.0)\n",
      "Requirement already satisfied: ipynbname<2022.0.0,>=2021.3.2 in /usr/local/lib/python3.10/site-packages (from datapane>=0.10.3->polly-python==0.4.1-report-refactor) (2021.3.2)\n",
      "Requirement already satisfied: lxml<5.0.0,>=4.0.0 in /usr/local/lib/python3.10/site-packages (from datapane>=0.10.3->polly-python==0.4.1-report-refactor) (4.9.2)\n",
      "Requirement already satisfied: glom<24.0.0,>=22.1.0 in /usr/local/lib/python3.10/site-packages (from datapane>=0.10.3->polly-python==0.4.1-report-refactor) (23.3.0)\n",
      "Requirement already satisfied: dulwich<0.22.0,>=0.20.0 in /usr/local/lib/python3.10/site-packages (from datapane>=0.10.3->polly-python==0.4.1-report-refactor) (0.21.3)\n",
      "Requirement already satisfied: dominate<3.0.0,>=2.4.0 in /usr/local/lib/python3.10/site-packages (from datapane>=0.10.3->polly-python==0.4.1-report-refactor) (2.7.0)\n",
      "Requirement already satisfied: micawber>=0.5.0 in /usr/local/lib/python3.10/site-packages (from datapane>=0.10.3->polly-python==0.4.1-report-refactor) (0.5.4)\n",
      "Requirement already satisfied: jinja2 in /usr/local/lib/python3.10/site-packages (from altair<5.0.0,>=4.0.0->datapane>=0.10.3->polly-python==0.4.1-report-refactor) (3.0.3)\n",
      "Requirement already satisfied: entrypoints in /usr/local/lib/python3.10/site-packages (from altair<5.0.0,>=4.0.0->datapane>=0.10.3->polly-python==0.4.1-report-refactor) (0.3)\n",
      "Requirement already satisfied: jaraco.functools in /usr/local/lib/python3.10/site-packages (from cheroot<10.0.0,>=9.0.0->datapane>=0.10.3->polly-python==0.4.1-report-refactor) (3.6.0)\n",
      "Requirement already satisfied: more-itertools>=2.6 in /usr/local/lib/python3.10/site-packages (from cheroot<10.0.0,>=9.0.0->datapane>=0.10.3->polly-python==0.4.1-report-refactor) (9.1.0)\n",
      "Requirement already satisfied: wrapt<2,>=1.10 in /usr/local/lib/python3.10/site-packages (from Deprecated>=1.2.12->polly-python==0.4.1-report-refactor) (1.15.0)\n",
      "Requirement already satisfied: orderedmultidict>=1.0.1 in /usr/local/lib/python3.10/site-packages (from furl<3.0.0,>=2.0.0->datapane>=0.10.3->polly-python==0.4.1-report-refactor) (1.0.1)\n",
      "Requirement already satisfied: attrs in /usr/local/lib/python3.10/site-packages (from glom<24.0.0,>=22.1.0->datapane>=0.10.3->polly-python==0.4.1-report-refactor) (21.2.0)\n",
      "Requirement already satisfied: face==20.1.1 in /usr/local/lib/python3.10/site-packages (from glom<24.0.0,>=22.1.0->datapane>=0.10.3->polly-python==0.4.1-report-refactor) (20.1.1)\n",
      "Requirement already satisfied: ipykernel in /usr/local/lib/python3.10/site-packages (from ipynbname<2022.0.0,>=2021.3.2->datapane>=0.10.3->polly-python==0.4.1-report-refactor) (6.13.1)\n",
      "Requirement already satisfied: pyrsistent!=0.17.0,!=0.17.1,!=0.17.2,>=0.14.0 in /usr/local/lib/python3.10/site-packages (from jsonschema<5.0.0,>=3.2.0->datapane>=0.10.3->polly-python==0.4.1-report-refactor) (0.18.0)\n",
      "Requirement already satisfied: jupyterlab-pygments in /usr/local/lib/python3.10/site-packages (from nbconvert>=5.6.1->datapane>=0.10.3->polly-python==0.4.1-report-refactor) (0.2.2)\n",
      "Requirement already satisfied: testpath in /usr/local/lib/python3.10/site-packages (from nbconvert>=5.6.1->datapane>=0.10.3->polly-python==0.4.1-report-refactor) (0.5.0)\n",
      "Requirement already satisfied: mistune<2,>=0.8.1 in /usr/local/lib/python3.10/site-packages (from nbconvert>=5.6.1->datapane>=0.10.3->polly-python==0.4.1-report-refactor) (0.8.4)\n",
      "Requirement already satisfied: traitlets>=5.0 in /usr/local/lib/python3.10/site-packages (from nbconvert>=5.6.1->datapane>=0.10.3->polly-python==0.4.1-report-refactor) (5.1.1)\n",
      "Requirement already satisfied: defusedxml in /usr/local/lib/python3.10/site-packages (from nbconvert>=5.6.1->datapane>=0.10.3->polly-python==0.4.1-report-refactor) (0.7.1)\n",
      "Requirement already satisfied: jupyter-core in /usr/local/lib/python3.10/site-packages (from nbconvert>=5.6.1->datapane>=0.10.3->polly-python==0.4.1-report-refactor) (4.9.1)\n",
      "Requirement already satisfied: pandocfilters>=1.4.1 in /usr/local/lib/python3.10/site-packages (from nbconvert>=5.6.1->datapane>=0.10.3->polly-python==0.4.1-report-refactor) (1.5.0)\n",
      "Requirement already satisfied: bleach in /usr/local/lib/python3.10/site-packages (from nbconvert>=5.6.1->datapane>=0.10.3->polly-python==0.4.1-report-refactor) (4.1.0)\n",
      "Requirement already satisfied: nbformat>=4.4 in /usr/local/lib/python3.10/site-packages (from nbconvert>=5.6.1->datapane>=0.10.3->polly-python==0.4.1-report-refactor) (5.1.3)\n",
      "Requirement already satisfied: nbclient<0.6.0,>=0.5.0 in /usr/local/lib/python3.10/site-packages (from nbconvert>=5.6.1->datapane>=0.10.3->polly-python==0.4.1-report-refactor) (0.5.13)\n",
      "Requirement already satisfied: MarkupSafe>=2.0 in /usr/local/lib/python3.10/site-packages (from jinja2->altair<5.0.0,>=4.0.0->datapane>=0.10.3->polly-python==0.4.1-report-refactor) (2.0.1)\n",
      "Requirement already satisfied: nest-asyncio in /usr/local/lib/python3.10/site-packages (from nbclient<0.6.0,>=0.5.0->nbconvert>=5.6.1->datapane>=0.10.3->polly-python==0.4.1-report-refactor) (1.5.6)\n",
      "Requirement already satisfied: jupyter-client>=6.1.5 in /usr/local/lib/python3.10/site-packages (from nbclient<0.6.0,>=0.5.0->nbconvert>=5.6.1->datapane>=0.10.3->polly-python==0.4.1-report-refactor) (6.1.12)\n",
      "Requirement already satisfied: pyzmq>=13 in /usr/local/lib/python3.10/site-packages (from jupyter-client>=6.1.5->nbclient<0.6.0,>=0.5.0->nbconvert>=5.6.1->datapane>=0.10.3->polly-python==0.4.1-report-refactor) (22.3.0)\n",
      "Requirement already satisfied: tornado>=4.1 in /usr/local/lib/python3.10/site-packages (from jupyter-client>=6.1.5->nbclient<0.6.0,>=0.5.0->nbconvert>=5.6.1->datapane>=0.10.3->polly-python==0.4.1-report-refactor) (6.1)\n",
      "Requirement already satisfied: ipython-genutils in /usr/local/lib/python3.10/site-packages (from nbformat>=4.4->nbconvert>=5.6.1->datapane>=0.10.3->polly-python==0.4.1-report-refactor) (0.2.0)\n",
      "Requirement already satisfied: pytz>=2020.1 in /usr/local/lib/python3.10/site-packages (from pandas>=1.3.5->polly-python==0.4.1-report-refactor) (2021.3)\n",
      "Requirement already satisfied: tenacity>=6.2.0 in /usr/local/lib/python3.10/site-packages (from plotly>=5.0.0->polly-python==0.4.1-report-refactor) (8.2.2)\n",
      "Requirement already satisfied: monotonic>=1.5 in /usr/local/lib/python3.10/site-packages (from posthog<3.0.0,>=1.4.0->datapane>=0.10.3->polly-python==0.4.1-report-refactor) (1.6)\n",
      "Requirement already satisfied: backoff>=1.10.0 in /usr/local/lib/python3.10/site-packages (from posthog<3.0.0,>=1.4.0->datapane>=0.10.3->polly-python==0.4.1-report-refactor) (2.2.1)\n",
      "Requirement already satisfied: exceptiongroup>=1.0.0rc8 in /usr/local/lib/python3.10/site-packages (from pytest>=6.2.5->polly-python==0.4.1-report-refactor) (1.1.1)\n",
      "Requirement already satisfied: tomli>=1.0.0 in /usr/local/lib/python3.10/site-packages (from pytest>=6.2.5->polly-python==0.4.1-report-refactor) (2.0.1)\n",
      "Requirement already satisfied: iniconfig in /usr/local/lib/python3.10/site-packages (from pytest>=6.2.5->polly-python==0.4.1-report-refactor) (2.0.0)\n",
      "Requirement already satisfied: pluggy<2.0,>=0.12 in /usr/local/lib/python3.10/site-packages (from pytest>=6.2.5->polly-python==0.4.1-report-refactor) (1.0.0)\n",
      "Requirement already satisfied: soupsieve>1.2 in /usr/local/lib/python3.10/site-packages (from beautifulsoup4->polly-python==0.4.1-report-refactor) (2.4.1)\n",
      "Requirement already satisfied: webencodings in /usr/local/lib/python3.10/site-packages (from bleach->nbconvert>=5.6.1->datapane>=0.10.3->polly-python==0.4.1-report-refactor) (0.5.1)\n",
      "Requirement already satisfied: ipython>=7.23.1 in /usr/local/lib/python3.10/site-packages (from ipykernel->ipynbname<2022.0.0,>=2021.3.2->datapane>=0.10.3->polly-python==0.4.1-report-refactor) (8.2.0)\n",
      "Requirement already satisfied: psutil in /usr/local/lib/python3.10/site-packages (from ipykernel->ipynbname<2022.0.0,>=2021.3.2->datapane>=0.10.3->polly-python==0.4.1-report-refactor) (5.9.5)\n",
      "Requirement already satisfied: debugpy>=1.0 in /usr/local/lib/python3.10/site-packages (from ipykernel->ipynbname<2022.0.0,>=2021.3.2->datapane>=0.10.3->polly-python==0.4.1-report-refactor) (1.6.7)\n",
      "Requirement already satisfied: matplotlib-inline>=0.1 in /usr/local/lib/python3.10/site-packages (from ipykernel->ipynbname<2022.0.0,>=2021.3.2->datapane>=0.10.3->polly-python==0.4.1-report-refactor) (0.1.3)\n",
      "Requirement already satisfied: backcall in /usr/local/lib/python3.10/site-packages (from ipython>=7.23.1->ipykernel->ipynbname<2022.0.0,>=2021.3.2->datapane>=0.10.3->polly-python==0.4.1-report-refactor) (0.2.0)\n",
      "Requirement already satisfied: pickleshare in /usr/local/lib/python3.10/site-packages (from ipython>=7.23.1->ipykernel->ipynbname<2022.0.0,>=2021.3.2->datapane>=0.10.3->polly-python==0.4.1-report-refactor) (0.7.5)\n",
      "Requirement already satisfied: setuptools>=18.5 in /usr/local/lib/python3.10/site-packages (from ipython>=7.23.1->ipykernel->ipynbname<2022.0.0,>=2021.3.2->datapane>=0.10.3->polly-python==0.4.1-report-refactor) (58.1.0)\n",
      "Requirement already satisfied: stack-data in /usr/local/lib/python3.10/site-packages (from ipython>=7.23.1->ipykernel->ipynbname<2022.0.0,>=2021.3.2->datapane>=0.10.3->polly-python==0.4.1-report-refactor) (0.6.2)\n",
      "Requirement already satisfied: pexpect>4.3 in /usr/local/lib/python3.10/site-packages (from ipython>=7.23.1->ipykernel->ipynbname<2022.0.0,>=2021.3.2->datapane>=0.10.3->polly-python==0.4.1-report-refactor) (4.8.0)\n",
      "Requirement already satisfied: jedi>=0.16 in /usr/local/lib/python3.10/site-packages (from ipython>=7.23.1->ipykernel->ipynbname<2022.0.0,>=2021.3.2->datapane>=0.10.3->polly-python==0.4.1-report-refactor) (0.18.1)\n",
      "Requirement already satisfied: decorator in /usr/local/lib/python3.10/site-packages (from ipython>=7.23.1->ipykernel->ipynbname<2022.0.0,>=2021.3.2->datapane>=0.10.3->polly-python==0.4.1-report-refactor) (5.1.0)\n",
      "Requirement already satisfied: prompt-toolkit!=3.0.0,!=3.0.1,<3.1.0,>=2.0.0 in /usr/local/lib/python3.10/site-packages (from ipython>=7.23.1->ipykernel->ipynbname<2022.0.0,>=2021.3.2->datapane>=0.10.3->polly-python==0.4.1-report-refactor) (3.0.22)\n",
      "Requirement already satisfied: parso<0.9.0,>=0.8.0 in /usr/local/lib/python3.10/site-packages (from jedi>=0.16->ipython>=7.23.1->ipykernel->ipynbname<2022.0.0,>=2021.3.2->datapane>=0.10.3->polly-python==0.4.1-report-refactor) (0.8.2)\n",
      "Requirement already satisfied: ptyprocess>=0.5 in /usr/local/lib/python3.10/site-packages (from pexpect>4.3->ipython>=7.23.1->ipykernel->ipynbname<2022.0.0,>=2021.3.2->datapane>=0.10.3->polly-python==0.4.1-report-refactor) (0.7.0)\n",
      "Requirement already satisfied: wcwidth in /usr/local/lib/python3.10/site-packages (from prompt-toolkit!=3.0.0,!=3.0.1,<3.1.0,>=2.0.0->ipython>=7.23.1->ipykernel->ipynbname<2022.0.0,>=2021.3.2->datapane>=0.10.3->polly-python==0.4.1-report-refactor) (0.2.5)\n",
      "Requirement already satisfied: networkx~=2.3 in /usr/local/lib/python3.10/site-packages (from pronto->polly-validator==0.0.2->polly-python==0.4.1-report-refactor) (2.8.8)\n",
      "Requirement already satisfied: fastobo~=0.12.1 in /usr/local/lib/python3.10/site-packages (from pronto->polly-validator==0.0.2->polly-python==0.4.1-report-refactor) (0.12.2)\n",
      "Requirement already satisfied: pure-eval in /usr/local/lib/python3.10/site-packages (from stack-data->ipython>=7.23.1->ipykernel->ipynbname<2022.0.0,>=2021.3.2->datapane>=0.10.3->polly-python==0.4.1-report-refactor) (0.2.2)\n",
      "Requirement already satisfied: asttokens>=2.1.0 in /usr/local/lib/python3.10/site-packages (from stack-data->ipython>=7.23.1->ipykernel->ipynbname<2022.0.0,>=2021.3.2->datapane>=0.10.3->polly-python==0.4.1-report-refactor) (2.2.1)\n",
      "Requirement already satisfied: executing>=1.2.0 in /usr/local/lib/python3.10/site-packages (from stack-data->ipython>=7.23.1->ipykernel->ipynbname<2022.0.0,>=2021.3.2->datapane>=0.10.3->polly-python==0.4.1-report-refactor) (1.2.0)\n",
      "Installing collected packages: botocore, s3transfer, polly-validator, cryptography, boto3, polly-python\n",
      "\u001b[31mERROR: pip's dependency resolver does not currently take into account all the packages that are installed. This behaviour is the source of the following dependency conflicts.\n",
      "awscli 1.22.74 requires botocore==1.24.19, but you have botocore 1.31.12 which is incompatible.\n",
      "awscli 1.22.74 requires s3transfer<0.6.0,>=0.5.0, but you have s3transfer 0.6.1 which is incompatible.\u001b[0m\n",
      "Successfully installed boto3-1.28.12 botocore-1.31.12 cryptography-38.0.0 polly-python-0.4.1 polly-validator-0.0.2 s3transfer-0.6.1\n",
      "\u001b[33mWARNING: You are using pip version 21.2.4; however, version 23.2.1 is available.\n",
      "You should consider upgrading via the '/usr/local/bin/python3.10 -m pip install --upgrade pip' command.\u001b[0m\n",
      "Note: you may need to restart the kernel to use updated packages.\n"
     ]
    }
   ],
   "source": [
    "pip install https://elucidatainc.github.io/PublicAssets/builds/polly-python/tests/testpolly/polly_python-0.4.1_report_refactor-py3-none-any.whl"
   ]
  },
  {
   "cell_type": "code",
   "execution_count": 2,
   "metadata": {},
   "outputs": [],
   "source": [
    "import os\n",
    "from polly.auth import Polly\n",
    "token=(os.environ['POLLY_REFRESH_TOKEN'])\n",
    "Polly.auth(token, \"testpolly\")"
   ]
  },
  {
   "cell_type": "code",
   "execution_count": 4,
   "metadata": {},
   "outputs": [],
   "source": [
    "from polly.omixatlas import OmixAtlas\n",
    "omix = OmixAtlas()"
   ]
  },
  {
   "cell_type": "code",
   "execution_count": 8,
   "metadata": {},
   "outputs": [
    {
     "name": "stdout",
     "output_type": "stream",
     "text": [
      "Not enough permissions for the workspace_id : 14620. Please contact Polly Support.\n",
      "Not enough permissions for the workspace_id : 14620. Please contact Polly Support.\n",
      "Not enough permissions for the workspace_id : 14620. Please contact Polly Support.\n",
      "Not enough permissions for the workspace_id : 4045. Please contact Polly Support.\n"
     ]
    }
   ],
   "source": [
    "df = omix.fetch_linked_reports(\"geo\",\"GSE76311_GPL17586\")"
   ]
  },
  {
   "cell_type": "code",
   "execution_count": 6,
   "metadata": {},
   "outputs": [
    {
     "name": "stdout",
     "output_type": "stream",
     "text": [
      "File Successfully linked to dataset id = GSE76311_GPL17586. The URL for the private access is 'https://testpolly.elucidata.io/manage/restricted/file?id=14645&path=%2Fprojects%2F14645%2Ffiles%2FGSE152075_GPL18573_metadata.html'\n"
     ]
    }
   ],
   "source": [
    "omix.link_report(\"geo\",\"GSE76311_GPL17586\", 14645, \"GSE152075_GPL18573_metadata.html\", \"private\")"
   ]
  },
  {
   "cell_type": "code",
   "execution_count": 7,
   "metadata": {},
   "outputs": [
    {
     "name": "stdout",
     "output_type": "stream",
     "text": [
      "Dataset - GSE76311_GPL17586 has been successfully linked with URL http://www.cwi.nl:80/%7Eguido/Python.html \n"
     ]
    }
   ],
   "source": [
    "omix.link_report_url(\"geo\",\"GSE76311_GPL17586\", \"http://www.cwi.nl:80/%7Eguido/Python.html\")"
   ]
  },
  {
   "cell_type": "code",
   "execution_count": 9,
   "metadata": {},
   "outputs": [
    {
     "data": {
      "text/plain": [
       "<bound method NDFrame.head of                      Added_by           Added_time  \\\n",
       "0  vivek.mathpal@elucidata.io  18/07/2023 17:56:41   \n",
       "1  vivek.mathpal@elucidata.io  19/07/2023 04:24:07   \n",
       "2  vivek.mathpal@elucidata.io  19/07/2023 04:24:49   \n",
       "3  vivek.mathpal@elucidata.io  27/07/2023 08:37:29   \n",
       "4  vivek.mathpal@elucidata.io  27/07/2023 08:38:42   \n",
       "\n",
       "                                                                                                                                  URL  \\\n",
       "0                                                                                           http://www.cwi.nl:80/%7Eguido/Python.html   \n",
       "1                                                                                           http://www.cwi.nl:80/%7Eguido/Python.html   \n",
       "2     https://testpolly.elucidata.io/manage/restricted/file?id=14645&path=%2Fprojects%2F14645%2Ffiles%2FGSE99361_GPL19441_report.html   \n",
       "3  https://testpolly.elucidata.io/manage/restricted/file?id=14645&path=%2Fprojects%2F14645%2Ffiles%2FGSE152075_GPL18573_metadata.html   \n",
       "4                                                                                           http://www.cwi.nl:80/%7Eguido/Python.html   \n",
       "\n",
       "                              Report_id  \n",
       "0  41308129-60e6-4fd8-a78b-1824b35b68ce  \n",
       "1  2be74c34-6bfa-44ed-b374-4e0497196478  \n",
       "2  6ba297f2-1edc-4c8e-abd5-7947f13c8cb2  \n",
       "3  fde8ddd4-0df1-4aa5-a82c-58bc2859e245  \n",
       "4  57c0296b-ac78-4319-a449-a5d029a4ecdc  >"
      ]
     },
     "execution_count": 9,
     "metadata": {},
     "output_type": "execute_result"
    }
   ],
   "source": [
    "df.head"
   ]
  },
  {
   "cell_type": "code",
   "execution_count": 10,
   "metadata": {},
   "outputs": [
    {
     "name": "stdout",
     "output_type": "stream",
     "text": [
      "Linked file with report_id = '57c0296b-ac78-4319-a449-a5d029a4ecdc' deleted.\n"
     ]
    }
   ],
   "source": [
    "omix.delete_linked_report(\"geo\",\"GSE76311_GPL17586\", \"57c0296b-ac78-4319-a449-a5d029a4ecdc\")"
   ]
  },
  {
   "cell_type": "code",
   "execution_count": null,
   "metadata": {},
   "outputs": [],
   "source": []
  }
 ],
 "metadata": {
  "kernelspec": {
   "display_name": "Python 3 (ipykernel)",
   "language": "python",
   "name": "python3"
  },
  "language_info": {
   "codemirror_mode": {
    "name": "ipython",
    "version": 3
   },
   "file_extension": ".py",
   "mimetype": "text/x-python",
   "name": "python",
   "nbconvert_exporter": "python",
   "pygments_lexer": "ipython3",
   "version": "3.10.2"
  }
 },
 "nbformat": 4,
 "nbformat_minor": 2
}
