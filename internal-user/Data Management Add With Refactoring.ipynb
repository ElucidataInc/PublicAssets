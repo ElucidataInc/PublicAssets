{
  "cells": [
    {
      "cell_type": "markdown",
      "metadata": {
        "colab_type": "text",
        "id": "view-in-github"
      },
      "source": [
        "<a href=\"https://polly.elucidata.io/manage/workspaces?action=open_polly_notebook&source=github&path=path_place_holder&kernel=elucidata/Python 3.10&machine=medium\" target=\"_parent\"><img src=\"https://elucidatainc.github.io/PublicAssets/open_polly.svg\" alt=\"Open in Polly\"/></a>\n"
      ]
    },
    {
      "cell_type": "markdown",
      "metadata": {},
      "source": [
        "# Welcome to Polly Python3 Notebook."
      ]
    },
    {
      "cell_type": "code",
      "execution_count": 1,
      "metadata": {},
      "outputs": [
        {
          "name": "stdout",
          "output_type": "stream",
          "text": [
            "/bin/bash: warning: setlocale: LC_ALL: cannot change locale (en_US.UTF-8)\n",
            "Collecting polly-python==0.5.1-add-refactoring\n",
            "  Downloading https://elucidatainc.github.io/PublicAssets/builds/polly-python/tests/testpolly/polly_python-0.5.1_add_refactoring-py3-none-any.whl (202 kB)\n",
            "\u001b[K     |████████████████████████████████| 202 kB 5.1 MB/s eta 0:00:01\n",
            "\u001b[?25hRequirement already satisfied: pytest>=6.2.5 in /usr/local/lib/python3.10/site-packages (from polly-python==0.5.1-add-refactoring) (7.3.1)\n",
            "Requirement already satisfied: pandas>=1.3.5 in /usr/local/lib/python3.10/site-packages (from polly-python==0.5.1-add-refactoring) (1.4.1)\n",
            "Requirement already satisfied: tqdm==4.65.0 in /usr/local/lib/python3.10/site-packages (from polly-python==0.5.1-add-refactoring) (4.65.0)\n",
            "Requirement already satisfied: elucidatacmapPy==3.3.4 in /usr/local/lib/python3.10/site-packages (from polly-python==0.5.1-add-refactoring) (3.3.4)\n",
            "Collecting pydantic==1.10.12\n",
            "  Downloading pydantic-1.10.12-cp310-cp310-manylinux_2_17_x86_64.manylinux2014_x86_64.whl (3.1 MB)\n",
            "\u001b[K     |████████████████████████████████| 3.1 MB 5.9 MB/s eta 0:00:01\n",
            "\u001b[?25hCollecting botocore>=1.27.0\n",
            "  Downloading botocore-1.31.20-py3-none-any.whl (11.1 MB)\n",
            "\u001b[K     |████████████████████████████████| 11.1 MB 68.5 MB/s eta 0:00:01\n",
            "\u001b[?25hCollecting boto3>=1.24.0\n",
            "  Downloading boto3-1.28.20-py3-none-any.whl (135 kB)\n",
            "\u001b[K     |████████████████████████████████| 135 kB 74.2 MB/s eta 0:00:01\n",
            "\u001b[?25hRequirement already satisfied: rst2txt==1.1.0 in /usr/local/lib/python3.10/site-packages (from polly-python==0.5.1-add-refactoring) (1.1.0)\n",
            "Requirement already satisfied: elucidatacloudpathlib==0.6.6 in /usr/local/lib/python3.10/site-packages (from polly-python==0.5.1-add-refactoring) (0.6.6)\n",
            "Requirement already satisfied: requests==2.25.1 in /usr/local/lib/python3.10/site-packages (from polly-python==0.5.1-add-refactoring) (2.25.1)\n",
            "Requirement already satisfied: python-jose==3.3.0 in /usr/local/lib/python3.10/site-packages (from polly-python==0.5.1-add-refactoring) (3.3.0)\n",
            "Requirement already satisfied: mixpanel==4.10.0 in /usr/local/lib/python3.10/site-packages (from polly-python==0.5.1-add-refactoring) (4.10.0)\n",
            "Requirement already satisfied: joblib>=1.2.0 in /usr/local/lib/python3.10/site-packages (from polly-python==0.5.1-add-refactoring) (1.2.0)\n",
            "Collecting cryptography<=38.0.0,>=37.0.1\n",
            "  Downloading cryptography-38.0.0-cp36-abi3-manylinux_2_28_x86_64.whl (4.2 MB)\n",
            "\u001b[K     |████████████████████████████████| 4.2 MB 71.1 MB/s eta 0:00:01\n",
            "\u001b[?25hRequirement already satisfied: retrying==1.3.4 in /usr/local/lib/python3.10/site-packages (from polly-python==0.5.1-add-refactoring) (1.3.4)\n",
            "Collecting polly-validator==0.0.2\n",
            "  Downloading polly_validator-0.0.2-py3-none-any.whl (29 kB)\n",
            "Requirement already satisfied: Deprecated>=1.2.12 in /usr/local/lib/python3.10/site-packages (from polly-python==0.5.1-add-refactoring) (1.2.13)\n",
            "Requirement already satisfied: plotly>=5.0.0 in /usr/local/lib/python3.10/site-packages (from polly-python==0.5.1-add-refactoring) (5.14.1)\n",
            "Requirement already satisfied: six in /usr/local/lib/python3.10/site-packages (from elucidatacmapPy==3.3.4->polly-python==0.5.1-add-refactoring) (1.16.0)\n",
            "Requirement already satisfied: numpy>=1.11.2 in /usr/local/lib/python3.10/site-packages (from elucidatacmapPy==3.3.4->polly-python==0.5.1-add-refactoring) (1.22.3)\n",
            "Requirement already satisfied: h5py>=2.6.0 in /usr/local/lib/python3.10/site-packages (from elucidatacmapPy==3.3.4->polly-python==0.5.1-add-refactoring) (3.8.0)\n",
            "Requirement already satisfied: urllib3 in /usr/local/lib/python3.10/site-packages (from mixpanel==4.10.0->polly-python==0.5.1-add-refactoring) (1.26.6)\n",
            "Requirement already satisfied: appdirs==1.4.4 in /usr/local/lib/python3.10/site-packages (from polly-validator==0.0.2->polly-python==0.5.1-add-refactoring) (1.4.4)\n",
            "Requirement already satisfied: pronto in /usr/local/lib/python3.10/site-packages (from polly-validator==0.0.2->polly-python==0.5.1-add-refactoring) (2.5.1)\n",
            "Requirement already satisfied: tabulate==0.8.10 in /usr/local/lib/python3.10/site-packages (from polly-validator==0.0.2->polly-python==0.5.1-add-refactoring) (0.8.10)\n",
            "Requirement already satisfied: rapidfuzz==2.1.1 in /usr/local/lib/python3.10/site-packages (from polly-validator==0.0.2->polly-python==0.5.1-add-refactoring) (2.1.1)\n",
            "Requirement already satisfied: typing-extensions>=4.2.0 in /usr/local/lib/python3.10/site-packages (from pydantic==1.10.12->polly-python==0.5.1-add-refactoring) (4.5.0)\n",
            "Requirement already satisfied: rsa in /usr/local/lib/python3.10/site-packages (from python-jose==3.3.0->polly-python==0.5.1-add-refactoring) (4.7.2)\n",
            "Requirement already satisfied: ecdsa!=0.15 in /usr/local/lib/python3.10/site-packages (from python-jose==3.3.0->polly-python==0.5.1-add-refactoring) (0.18.0)\n",
            "Requirement already satisfied: pyasn1 in /usr/local/lib/python3.10/site-packages (from python-jose==3.3.0->polly-python==0.5.1-add-refactoring) (0.4.8)\n",
            "Requirement already satisfied: jarowinkler<1.1.0,>=1.0.3 in /usr/local/lib/python3.10/site-packages (from rapidfuzz==2.1.1->polly-validator==0.0.2->polly-python==0.5.1-add-refactoring) (1.0.5)\n",
            "Requirement already satisfied: chardet<5,>=3.0.2 in /usr/local/lib/python3.10/site-packages (from requests==2.25.1->polly-python==0.5.1-add-refactoring) (4.0.0)\n",
            "Requirement already satisfied: certifi>=2017.4.17 in /usr/local/lib/python3.10/site-packages (from requests==2.25.1->polly-python==0.5.1-add-refactoring) (2021.5.30)\n",
            "Requirement already satisfied: idna<3,>=2.5 in /usr/local/lib/python3.10/site-packages (from requests==2.25.1->polly-python==0.5.1-add-refactoring) (2.10)\n",
            "Requirement already satisfied: pygments in /usr/local/lib/python3.10/site-packages (from rst2txt==1.1.0->polly-python==0.5.1-add-refactoring) (2.10.0)\n",
            "Requirement already satisfied: docutils>=0.11 in /usr/local/lib/python3.10/site-packages (from rst2txt==1.1.0->polly-python==0.5.1-add-refactoring) (0.15.2)\n",
            "Collecting s3transfer<0.7.0,>=0.6.0\n",
            "  Downloading s3transfer-0.6.1-py3-none-any.whl (79 kB)\n",
            "\u001b[K     |████████████████████████████████| 79 kB 18.2 MB/s eta 0:00:01\n",
            "\u001b[?25hRequirement already satisfied: jmespath<2.0.0,>=0.7.1 in /usr/local/lib/python3.10/site-packages (from boto3>=1.24.0->polly-python==0.5.1-add-refactoring) (0.10.0)\n",
            "Requirement already satisfied: python-dateutil<3.0.0,>=2.1 in /usr/local/lib/python3.10/site-packages (from botocore>=1.27.0->polly-python==0.5.1-add-refactoring) (2.8.1)\n",
            "Requirement already satisfied: cffi>=1.12 in /usr/local/lib/python3.10/site-packages (from cryptography<=38.0.0,>=37.0.1->polly-python==0.5.1-add-refactoring) (1.15.1)\n",
            "Requirement already satisfied: pycparser in /usr/local/lib/python3.10/site-packages (from cffi>=1.12->cryptography<=38.0.0,>=37.0.1->polly-python==0.5.1-add-refactoring) (2.21)\n",
            "Requirement already satisfied: wrapt<2,>=1.10 in /usr/local/lib/python3.10/site-packages (from Deprecated>=1.2.12->polly-python==0.5.1-add-refactoring) (1.15.0)\n",
            "Requirement already satisfied: pytz>=2020.1 in /usr/local/lib/python3.10/site-packages (from pandas>=1.3.5->polly-python==0.5.1-add-refactoring) (2021.3)\n",
            "Requirement already satisfied: tenacity>=6.2.0 in /usr/local/lib/python3.10/site-packages (from plotly>=5.0.0->polly-python==0.5.1-add-refactoring) (8.2.2)\n",
            "Requirement already satisfied: packaging in /usr/local/lib/python3.10/site-packages (from plotly>=5.0.0->polly-python==0.5.1-add-refactoring) (23.1)\n",
            "Requirement already satisfied: pluggy<2.0,>=0.12 in /usr/local/lib/python3.10/site-packages (from pytest>=6.2.5->polly-python==0.5.1-add-refactoring) (1.0.0)\n",
            "Requirement already satisfied: tomli>=1.0.0 in /usr/local/lib/python3.10/site-packages (from pytest>=6.2.5->polly-python==0.5.1-add-refactoring) (2.0.1)\n",
            "Requirement already satisfied: iniconfig in /usr/local/lib/python3.10/site-packages (from pytest>=6.2.5->polly-python==0.5.1-add-refactoring) (2.0.0)\n",
            "Requirement already satisfied: exceptiongroup>=1.0.0rc8 in /usr/local/lib/python3.10/site-packages (from pytest>=6.2.5->polly-python==0.5.1-add-refactoring) (1.1.1)\n",
            "Requirement already satisfied: fastobo~=0.12.1 in /usr/local/lib/python3.10/site-packages (from pronto->polly-validator==0.0.2->polly-python==0.5.1-add-refactoring) (0.12.2)\n",
            "Requirement already satisfied: networkx~=2.3 in /usr/local/lib/python3.10/site-packages (from pronto->polly-validator==0.0.2->polly-python==0.5.1-add-refactoring) (2.8.8)\n"
          ]
        },
        {
          "name": "stdout",
          "output_type": "stream",
          "text": [
            "Installing collected packages: botocore, s3transfer, pydantic, polly-validator, cryptography, boto3, polly-python\n",
            "  Attempting uninstall: botocore\n",
            "    Found existing installation: botocore 1.24.19\n",
            "    Uninstalling botocore-1.24.19:\n",
            "      Successfully uninstalled botocore-1.24.19\n",
            "  Attempting uninstall: s3transfer\n",
            "    Found existing installation: s3transfer 0.5.2\n",
            "    Uninstalling s3transfer-0.5.2:\n",
            "      Successfully uninstalled s3transfer-0.5.2\n",
            "  Attempting uninstall: pydantic\n",
            "    Found existing installation: pydantic 1.10.7\n",
            "    Uninstalling pydantic-1.10.7:\n",
            "      Successfully uninstalled pydantic-1.10.7\n",
            "  Attempting uninstall: polly-validator\n",
            "    Found existing installation: polly-validator 0.0.1\n",
            "    Uninstalling polly-validator-0.0.1:\n",
            "      Successfully uninstalled polly-validator-0.0.1\n",
            "  Attempting uninstall: cryptography\n",
            "    Found existing installation: cryptography 40.0.2\n",
            "    Uninstalling cryptography-40.0.2:\n",
            "      Successfully uninstalled cryptography-40.0.2\n",
            "  Attempting uninstall: boto3\n",
            "    Found existing installation: boto3 1.21.19\n",
            "    Uninstalling boto3-1.21.19:\n",
            "      Successfully uninstalled boto3-1.21.19\n",
            "  Attempting uninstall: polly-python\n",
            "    Found existing installation: polly-python 0.3.0\n",
            "    Uninstalling polly-python-0.3.0:\n",
            "      Successfully uninstalled polly-python-0.3.0\n",
            "\u001b[31mERROR: pip's dependency resolver does not currently take into account all the packages that are installed. This behaviour is the source of the following dependency conflicts.\n",
            "awscli 1.22.74 requires botocore==1.24.19, but you have botocore 1.31.20 which is incompatible.\n",
            "awscli 1.22.74 requires s3transfer<0.6.0,>=0.5.0, but you have s3transfer 0.6.1 which is incompatible.\u001b[0m\n",
            "Successfully installed boto3-1.28.20 botocore-1.31.20 cryptography-38.0.0 polly-python-0.5.1 polly-validator-0.0.2 pydantic-1.10.12 s3transfer-0.6.1\n",
            "\u001b[33mWARNING: Running pip as the 'root' user can result in broken permissions and conflicting behaviour with the system package manager. It is recommended to use a virtual environment instead: https://pip.pypa.io/warnings/venv\u001b[0m\n",
            "\u001b[33mWARNING: You are using pip version 21.2.4; however, version 23.2.1 is available.\n",
            "You should consider upgrading via the '/usr/local/bin/python3.10 -m pip install --upgrade pip' command.\u001b[0m\n"
          ]
        }
      ],
      "source": [
        "!sudo pip3 install https://elucidatainc.github.io/PublicAssets/builds/polly-python/tests/testpolly/polly_python-0.5.1_add_refactoring-py3-none-any.whl"
      ]
    },
    {
      "cell_type": "code",
      "execution_count": 2,
      "metadata": {},
      "outputs": [],
      "source": [
        "import os"
      ]
    },
    {
      "cell_type": "code",
      "execution_count": 3,
      "metadata": {},
      "outputs": [],
      "source": [
        "from polly.auth import Polly\n",
        "AUTH_TOKEN= \"eyJjdHkiOiJKV1QiLCJlbmMiOiJBMjU2R0NNIiwiYWxnIjoiUlNBLU9BRVAifQ.O4frloYPaTBaeMHUCF4-FMT91xTv3NERwJAVemffOTCRYxQ0gIYMZ_x-NODf39SEjcc0Kht5tqxxJ9FHx7IQOZ8m4MrawIdZBx7fwPGq4l3MJ-bi-p9mE6wpn8_EXAJuD53ebwUIl5bTanvAt-tJui25EX7OmBFr2dQ548a_kSLKIXhraNlZncemri6fQUUPKZVY1q3-50Px3tuV7gFnEgfHmXe_CepU7VUB1KvHgQakXS4Wv60VUSWygDp6aO-pw9Cu1_3bvsbLPo9Yk6ahOtjU-qQMilW5wn7r38cUmV_IllNAnxcsGTnVvKJDSbEUCky5IJ8uaVsCGJbpkPvBow.yqEFPn86xLGHJ0GN.5BTDq5KzWY2PzCbHAd5xXtsxk5MsHRU43o8tG-w2qhItqBymE5y3CDIf77wTCx4YKxVODTNmwYKC47di2uP0gN0zJCCGE8b3CbB5jFIjRVP4rnxP6KKu_BdyNaNQB36nw-wun-Q76Qq7viH0pHtyy9sq-yme2KK96JUPLgUFXxSoeziYnhH8JUM5UFMpw31SOwpUEG4XaDE0eM7_yDPAl69-7MumTmi1xkUEI30AZzDLp8NihN0ZxtvUvIstg07OmXQKD7dTB3ImJi089rD8VwQyNinSZxdR-Z55kC093mkNT4CLfYsN8iL0HNl6tfemRC1hi9WVuqaWX3OEMby_W_19aw2h6J93zU2bnAGW1qNe1OS9Der_Dzyc5iM_whRKggKGX8Rzzz0psOqNH1B_SBX6dULewEE6HZVfrsg5jKg2Zew84_Duyth-XTe1_F0XVuGmqHMUuy8mUli6Wcc16Rfd9aTNdj9Xm8K6zHDvXkDI_zC4GjBYdD9p7IaudoIjcMaDZndWKyh64G2it4kwUJIsbD8TXtGN3Ob9oH-4nX19IdYB8ShGAEnZqPEH3r2bB2c3NDH83vgYPoKZn0z0XpMv-JpmwRcde4HVYmJuFIZ-d6c6hOf3AM2v1SyscsQdeuPaJGAAHgQJFgZ5zl1ZWACuX3OKCgXKSb4ZoFvK2eKpPDCF4iQNBVw1kf_9FjD5yjDQXcPS3KfcY1AOLpFYN3CQ9RdJER_PMj_VL5BkShJS5HS26N_7wkfPKXAvbf1UtJmHEpZL5eAZ1rFGkwFNgqXKD1BwUd5CUMBNkTCJLicL36ClxtrN7m32_0ZsTNNAGHIWM2B7410nSZg1OOlXZ2CvhuPdPEsjsDIdZwtePWMfxrVBgxWMC4sz82R-VSqxV72rAmOiv-O-ghiw2s9fvyXknUu-6XyG-LreZ2Nu-BlkIG_oOS6Gutef63GN3tnPyjIgHOc7rJ8N4UjqlmqaABSzNMHnoDQDs-MynfIhX7hGIVqILN9z0BmUzv1XTSiYGsvjL_lrQ2dmoW5rxA8k7p1nV1q1HsjWz9oJnKF5Vuu3Q1jJdNfHMpWl1E6q6oLZGFqn1ZhGc86TnzjPN6IEYzZyHPBfhlK50-LqzPSIyy4ngAuSEFT861JYW8n7SPVWY50mF4M3zLzdqwu07zqPDBsPNAcOgcevDlMt_CNlitmLRUpebVJmsTK7yTSoJKwg7GJUAUXqy_9HDppotBNg58jl0NwnYNnn_-sOjZCOTnRRwFV5tKA8PsO7-Z-E_Zbop7TLouOWy1u4UDAitVSOSdWaHBjQrWJwQAZT7_C1nP_w5CbmCNN4uswKUxQGJegZSjqdRYj2HDoT.UxuT_AZTM0tgKrQzW0TY_Q\" # Obtain authentication tokens\n",
        "Polly.auth(AUTH_TOKEN, env=\"testpolly\")"
      ]
    },
    {
      "cell_type": "code",
      "execution_count": 4,
      "metadata": {},
      "outputs": [],
      "source": [
        "from polly.omixatlas import OmixAtlas"
      ]
    },
    {
      "cell_type": "code",
      "execution_count": 5,
      "metadata": {},
      "outputs": [],
      "source": [
        "omixatlas = OmixAtlas()"
      ]
    },
    {
      "cell_type": "code",
      "execution_count": 6,
      "metadata": {},
      "outputs": [
        {
          "name": "stdout",
          "output_type": "stream",
          "text": [
            "Retrieving ontological names...\n"
          ]
        },
        {
          "name": "stderr",
          "output_type": "stream",
          "text": [
            "/usr/local/lib/python3.10/site-packages/polly_validator/downloader/get_valid_names.py:46: UnicodeWarning: unsound encoding, assuming utf-8 (99% confidence)\n",
            "  diseases = pt.Ontology(f'https://raw.githubusercontent.com/bioinfo-el/ontologies/'\n"
          ]
        },
        {
          "name": "stdout",
          "output_type": "stream",
          "text": [
            "Getting predefined values for Data Type and Data Source...\n",
            "Retrieved Valid Data Types\n",
            "Retrieved Valid Data Sources\n"
          ]
        }
      ],
      "source": [
        "from polly.validation import Validation\n",
        "validation = Validation()"
      ]
    },
    {
      "cell_type": "code",
      "execution_count": 15,
      "metadata": {},
      "outputs": [
        {
          "name": "stdout",
          "output_type": "stream",
          "text": [
            "/bin/bash: warning: setlocale: LC_ALL: cannot change locale (en_US.UTF-8)\n",
            "\u001b[2K\u001b[1GCompleted 10.4 MiB/10.4 MiB (34.0 MiB/s) with 1 file(s) remainingmainingSync complete!\n"
          ]
        }
      ],
      "source": [
        "!polly files sync -s \"polly://datasets_validation_ingestion/\" -d \"datasets_validation_ingestion/\" -y"
      ]
    },
    {
      "cell_type": "code",
      "execution_count": 8,
      "metadata": {},
      "outputs": [
        {
          "name": "stdout",
          "output_type": "stream",
          "text": [
            "/bin/bash: warning: setlocale: LC_ALL: cannot change locale (en_US.UTF-8)\n",
            "Sync complete!\n"
          ]
        }
      ],
      "source": [
        "!polly files sync -s \"polly://metadata_validation_ingestion/\" -d \"metadata_validation_ingestion/\" -y"
      ]
    },
    {
      "cell_type": "code",
      "execution_count": 9,
      "metadata": {},
      "outputs": [
        {
          "name": "stdout",
          "output_type": "stream",
          "text": [
            "---ingestion configs----\n",
            "{'col_metadata': True,\n",
            " 'data_required': True,\n",
            " 'file_metadata': True,\n",
            " 'row_metadata': True,\n",
            " 'validation_check': {'dataset': {'force_ingest': False,\n",
            "                                  'scope': 'advanced',\n",
            "                                  'validate': True},\n",
            "                      'sample': {'force_ingest': False,\n",
            "                                 'scope': 'advanced',\n",
            "                                 'validate': True}}}\n"
          ]
        }
      ],
      "source": [
        "# add ingestion configs to files\n",
        "import pprint\n",
        "\n",
        "ingestion_configs = validation.get_ingestion_configs()\n",
        "print(\"---ingestion configs----\")\n",
        "pprint.pprint(ingestion_configs)"
      ]
    },
    {
      "cell_type": "code",
      "execution_count": 11,
      "metadata": {},
      "outputs": [],
      "source": [
        "source_folder_path_data = \"/import/datasets_validation_ingestion\"\n",
        "source_folder_metadata = \"/import/metadata_validation_ingestion\"\n",
        "source_folder_path = {\"data\":source_folder_path_data, \"metadata\":source_folder_metadata}"
      ]
    },
    {
      "cell_type": "code",
      "execution_count": 12,
      "metadata": {},
      "outputs": [
        {
          "name": "stdout",
          "output_type": "stream",
          "text": [
            "----edited file dict of file: GSE101503_GPL16791.json\n",
            "\n",
            "\n",
            "{'dataset_id': 'GSE101503_GPL16791',\n",
            " 'data_type': 'transcriptomics',\n",
            " 'dataset_source': 'geo',\n",
            " 'curation_version': 'g3',\n",
            " 'total_num_samples': '10',\n",
            " 'publication': 'https://www.ncbi.nlm.nih.gov/geo/query/acc.cgi?acc=GSE101503',\n",
            " 'platform': 'RNAseq',\n",
            " 'processing': 'connector',\n",
            " 'connector_version': 'geo_rnaseq_nf_v0.0.5',\n",
            " 'data_matrix_available': 'true',\n",
            " 'ref_gene_annotations': 'Ensembl release V107',\n",
            " 'alignment_method': 'kallisto',\n",
            " 'reference_genome': 'GRCh38',\n",
            " 'description': 'Transcriptome analysis of V336Y mutant mitochondrial '\n",
            "                'ribosomal protein in human HEK293 cell line',\n",
            " 'summary': 'Analysis of HEK293 cells lines expressing V336Y mutant '\n",
            "            'mitochondrial ribosomal protein.',\n",
            " 'overall_design': 'mRNA profiles of wild-type and V336Y mutant HEK293 cell '\n",
            "                   'culture samples generated by deep sequencing.',\n",
            " 'abstract': 'Mutant MRPS5 affects mitoribosomal accuracy and confers '\n",
            "             'stress-related behavioral alterations.\\n'\n",
            "             '\\n'\n",
            "             'The 1555 A to G substitution in mitochondrial 12S A-site rRNA is '\n",
            "             'associated with maternally transmitted deafness of variable '\n",
            "             'penetrance in the absence of otherwise overt disease. Here, we '\n",
            "             'recapitulate the suggested A1555G-mediated pathomechanism in an '\n",
            "             'experimental model of mitoribosomal mistranslation by directed '\n",
            "             'mutagenesis of mitoribosomal protein MRPS5. We first establish '\n",
            "             'that the ratio of cysteine/methionine incorporation and '\n",
            "             'read-through of mtDNA-encoded MT-CO1 protein constitute reliable '\n",
            "             'measures of mitoribosomal misreading. Next, we demonstrate that '\n",
            "             'human HEK293 cells expressing mutant V336Y MRPS5 show increased '\n",
            "             'mitoribosomal mistranslation. As for immortalized lymphocytes of '\n",
            "             'individuals with the pathogenic A1555G mutation, we find little '\n",
            "             'changes in the transcriptome of mutant V336Y MRPS5 HEK cells, '\n",
            "             'except for a coordinated upregulation of transcripts for '\n",
            "             'cytoplasmic ribosomal proteins. Homozygous knock-in mutant Mrps5 '\n",
            "             'V338Y mice show impaired mitochondrial function and a phenotype '\n",
            "             'composed of enhanced susceptibility to noise-induced hearing '\n",
            "             'damage and anxiety-related behavioral alterations. The '\n",
            "             'experimental data in V338Y mutant mice point to a key role of '\n",
            "             'mitochondrial translation and function in stress-related '\n",
            "             'behavioral and physiological adaptations.© 2018 The Authors. '\n",
            "             'Published under the terms of the CC BY 4.0 license.',\n",
            " 'abstracts': [{'pubmed_id': '30237157',\n",
            "                'title': 'Mutant MRPS5 affects mitoribosomal accuracy and '\n",
            "                         'confers stress-related behavioral alterations.',\n",
            "                'abstract': 'The 1555 A to G substitution in mitochondrial 12S '\n",
            "                            'A-site rRNA is associated with maternally '\n",
            "                            'transmitted deafness of variable penetrance in '\n",
            "                            'the absence of otherwise overt disease. Here, we '\n",
            "                            'recapitulate the suggested A1555G-mediated '\n",
            "                            'pathomechanism in an experimental model of '\n",
            "                            'mitoribosomal mistranslation by directed '\n",
            "                            'mutagenesis of mitoribosomal protein MRPS5. We '\n",
            "                            'first establish that the ratio of '\n",
            "                            'cysteine/methionine incorporation and '\n",
            "                            'read-through of mtDNA-encoded MT-CO1 protein '\n",
            "                            'constitute reliable measures of mitoribosomal '\n",
            "                            'misreading. Next, we demonstrate that human '\n",
            "                            'HEK293 cells expressing mutant V336Y MRPS5 show '\n",
            "                            'increased mitoribosomal mistranslation. As for '\n",
            "                            'immortalized lymphocytes of individuals with the '\n",
            "                            'pathogenic A1555G mutation, we find little '\n",
            "                            'changes in the transcriptome of mutant V336Y '\n",
            "                            'MRPS5 HEK cells, except for a coordinated '\n",
            "                            'upregulation of transcripts for cytoplasmic '\n",
            "                            'ribosomal proteins. Homozygous knock-in mutant '\n",
            "                            'Mrps5 V338Y mice show impaired mitochondrial '\n",
            "                            'function and a phenotype composed of enhanced '\n",
            "                            'susceptibility to noise-induced hearing damage '\n",
            "                            'and anxiety-related behavioral alterations. The '\n",
            "                            'experimental data in V338Y mutant mice point to a '\n",
            "                            'key role of mitochondrial translation and '\n",
            "                            'function in stress-related behavioral and '\n",
            "                            'physiological adaptations.© 2018 The Authors. '\n",
            "                            'Published under the terms of the CC BY 4.0 '\n",
            "                            'license.'}],\n",
            " 'pubmed_ids': ['30237157'],\n",
            " 'authors': ['Erik C BÃ¶ttger', 'Ge Tan', 'Dimitri Scherbakov'],\n",
            " 'subseries_ids': [],\n",
            " 'curated_tissue': ['None'],\n",
            " 'curated_disease': ['Normal'],\n",
            " 'curated_organism': ['Homo sapiens'],\n",
            " 'curated_drug': ['None'],\n",
            " 'curated_gene': ['None'],\n",
            " 'curated_dataset_has_treatment': ['None'],\n",
            " 'curated_cell_line': ['HEK293'],\n",
            " 'curated_strain': ['None'],\n",
            " 'experimental_variables': [],\n",
            " 'curated_dataset_has_donor': 'false',\n",
            " 'missing_samples': [],\n",
            " 'version': '0',\n",
            " 'is_current': 'true',\n",
            " 'src_repo': 'bulk_rnaseq_atlas',\n",
            " 'package': 'bulk_rnaseq_atlas/data',\n",
            " 'region': 'ap-southeast-1',\n",
            " 'bucket': 'discover-test-datalake-v1',\n",
            " 'key': 'bulk_rnaseq_atlas/data/RNASeq/GSE101503/GCT/GSE101503_GPL16791.gct',\n",
            " 'file_type': 'gct',\n",
            " 'file_location': 'https://discover-test-datalake-v1.s3-ap-southeast-1.amazonaws.com/bulk_rnaseq_atlas/data/RNASeq/GSE101503/GCT/GSE101503_GPL16791.gct',\n",
            " 'src_uri': 'polly:data://bulk_rnaseq_atlas/data/RNASeq/GSE101503/GCT/GSE101503_GPL16791.gct',\n",
            " 'timestamp_': '1680584551892',\n",
            " '__index__': {'file_metadata': True,\n",
            "               'col_metadata': True,\n",
            "               'row_metadata': True,\n",
            "               'data_required': True,\n",
            "               'validation_check': {'dataset': {'validate': True,\n",
            "                                                'scope': 'advanced',\n",
            "                                                'force_ingest': False},\n",
            "                                    'sample': {'validate': True,\n",
            "                                               'scope': 'advanced',\n",
            "                                               'force_ingest': False}}}}\n",
            "\n",
            "\n",
            "----edited file dict of file: GSE128722_GPL11154.json\n",
            "\n",
            "\n",
            "{'__index__': {'file_metadata': True,\n",
            "               'col_metadata': True,\n",
            "               'row_metadata': True,\n",
            "               'data_required': True,\n",
            "               'validation_check': {'dataset': {'validate': True,\n",
            "                                                'scope': 'advanced',\n",
            "                                                'force_ingest': False},\n",
            "                                    'sample': {'validate': True,\n",
            "                                               'scope': 'advanced',\n",
            "                                               'force_ingest': False}}},\n",
            " 'publication_name': 'none',\n",
            " 'total_num_samples': '5',\n",
            " 'year': 'btb',\n",
            " 'description': 'bbg',\n",
            " 'curated_tissue': ['rg'],\n",
            " 'manually_curated_fields': {'dataset_level': ['disease'], 'sample_level': []},\n",
            " 'data_table_name': 'geo__gse128722_gpl11154',\n",
            " 'platform': 'tbtbgb',\n",
            " 'file_type': 'gct',\n",
            " 'publication': 'https://www.ncbi.nlm.nih.gov/geo/query/acc.cgi?acc=GSE128722',\n",
            " 'curated_cell_type': ['bgb'],\n",
            " 'curated_strain': ['None'],\n",
            " 'curated_disease': ['Glioma', 'disease2'],\n",
            " 'curation_version': '2023_02_02',\n",
            " 'curated_organism': ['tt'],\n",
            " 'curated_drug': ['None'],\n",
            " 'dataset_id': 'GSE128722_GPL11154',\n",
            " 'curated_cell_line': ['U-87MG ATCC', 'LN-18'],\n",
            " 'data_repository': 'geo',\n",
            " 'dataset_source': 'vfv',\n",
            " 'is_public': 'true',\n",
            " 'drug_smiles': ['[C@H]12O[C@H]([C@@H]([C@@H]1OP(OC2)(=O)O)OC(=O)CCC)N3C=NC=4C(=NC=NC34)NC(=O)CCC'],\n",
            " 'data_type': 'transcriptomics',\n",
            " 'operation': {'is_batch_corrected': 'false',\n",
            "               'normalized_type': 'DESEQ-VST',\n",
            "               'is_normalized': 'true',\n",
            "               'batch_corrected_variable': 'none'},\n",
            " 'curated_gene': ['None'],\n",
            " 'purchased_by': [],\n",
            " 'ingested_into': [],\n",
            " 'version': '0',\n",
            " 'is_current': 'true',\n",
            " 'src_repo': 'geo',\n",
            " 'package': 'geo/data',\n",
            " 'region': 'ap-southeast-1',\n",
            " 'bucket': 'discover-test-datalake-v1',\n",
            " 'key': 'geo/data/RNASeq/GSE128722/GCT/GSE128722_GPL11154_curated.gct',\n",
            " 'file_location': 'https://discover-test-datalake-v1.s3-ap-southeast-1.amazonaws.com/geo/data/RNASeq/GSE128722/GCT/GSE128722_GPL11154_curated.gct',\n",
            " 'src_uri': 'polly:data://geo/data/RNASeq/GSE128722/GCT/GSE128722_GPL11154_curated.gct',\n",
            " 'timestamp_': '1680527068878',\n",
            " 'data_table_version': '0'}\n",
            "\n",
            "\n",
            "----edited file dict of file: GSE32221_GPL4133.json\n",
            "\n",
            "\n",
            "{'curated_tissue': ['liver'],\n",
            " 'dataset_source': 'GEO',\n",
            " 'description': 'Up-regulated aldo-ketoreductase1B10 in chronic hepatitis C: '\n",
            "                'Association with serum alpha-fetoprotein and hepatocellular '\n",
            "                'carcinoma',\n",
            " 'curated_organism': ['Homo sapiens'],\n",
            " 'year': '2018',\n",
            " 'curated_disease': ['Carcinoma, Hepatocellular', 'Hepatitis C, Chronic'],\n",
            " 'platform': 'Microarray',\n",
            " 'dataset_id': 'GSE32221_GPL4133',\n",
            " 'curated_cell_type': ['None'],\n",
            " 'data_type': 'Transcriptomics',\n",
            " 'publication': 'https://www.ncbi.nlm.nih.gov/geo/query/acc.cgi?acc=GSE32221',\n",
            " 'curated_drug': ['None'],\n",
            " 'curated_gene': ['AFP', 'AKR1B10'],\n",
            " 'curated_cell_line': ['None'],\n",
            " 'total_num_samples': '48',\n",
            " 'curated_strain': ['None'],\n",
            " 'version': '0',\n",
            " 'is_current': 'true',\n",
            " 'src_repo': 'geo',\n",
            " 'package': 'geo/data',\n",
            " 'region': 'ap-southeast-1',\n",
            " 'bucket': 'discover-test-datalake-v1',\n",
            " 'key': 'geo/data/Microarray/GSE32221/GCT/GSE32221_GPL4133_curated.gct',\n",
            " 'file_type': 'gct',\n",
            " 'file_location': 'https://discover-test-datalake-v1.s3-ap-southeast-1.amazonaws.com/geo/data/Microarray/GSE32221/GCT/GSE32221_GPL4133_curated.gct',\n",
            " 'src_uri': 'polly:data://geo/data/Microarray/GSE32221/GCT/GSE32221_GPL4133_curated.gct',\n",
            " 'timestamp_': '1675072770270',\n",
            " 'data_table_name': 'geo__gse32221_gpl4133',\n",
            " 'data_table_version': '0',\n",
            " '__index__': {'file_metadata': True,\n",
            "               'col_metadata': True,\n",
            "               'row_metadata': True,\n",
            "               'data_required': True,\n",
            "               'validation_check': {'dataset': {'validate': True,\n",
            "                                                'scope': 'advanced',\n",
            "                                                'force_ingest': False},\n",
            "                                    'sample': {'validate': True,\n",
            "                                               'scope': 'advanced',\n",
            "                                               'force_ingest': False}}}}\n",
            "\n",
            "\n"
          ]
        }
      ],
      "source": [
        "source_folder_path_metadata = source_folder_path[\"metadata\"]\n",
        "VALIDATION_STATUS_FILE_NAME = \"validation_status.txt\"\n",
        "\n",
        "\n",
        "\n",
        "import os\n",
        "from pathlib import Path\n",
        "\n",
        "# step 4.2 -> create list of metadata files to be edited\n",
        "metadata_directory = os.fsencode(source_folder_path_metadata)\n",
        "metadata_file_list = []\n",
        "for file in os.listdir(metadata_directory):\n",
        "    file = file.decode(\"utf-8\")\n",
        "    # skip hidden files\n",
        "    # skip the validation_status.txt if created\n",
        "    # in the metadata folder\n",
        "    if not file.startswith(\".\") and file != VALIDATION_STATUS_FILE_NAME:\n",
        "        metadata_file_list.append(file)\n",
        "\n",
        "        \n",
        "\n",
        "        \n",
        "# step 4.3 -> load the file and add the ingestion_configs\n",
        "for file in metadata_file_list:\n",
        "    file_path = str(Path(source_folder_path_metadata) / Path(os.fsdecode(file)))\n",
        "    # read data from file\n",
        "    with open(file_path, \"r\") as metadata_file:\n",
        "        metadata_file_dict = json.load(metadata_file)\n",
        "        # ingest the indexing configs in the `__index__`\n",
        "        # `__index__` is at the top level of the metadata dict\n",
        "        metadata_file_dict[\"__index__\"] = ingestion_configs\n",
        "    \n",
        "    # write data to file\n",
        "    with open(file_path, \"w\") as metadata_file:\n",
        "        json.dump(metadata_file_dict, metadata_file, indent=4)\n",
        "\n",
        "\n",
        "import pprint\n",
        "# read the file again to check if ingestion_configs added\n",
        "for file in metadata_file_list:\n",
        "    file_path = str(Path(source_folder_path_metadata) / Path(os.fsdecode(file)))\n",
        "\n",
        "    with open(file_path, \"r\") as metadata_file:\n",
        "        metadata_file_dict_edited = json.load(metadata_file)\n",
        "        print(f\"----edited file dict of file: {file}\")\n",
        "        print(\"\\n\")\n",
        "        pprint.pprint(metadata_file_dict_edited, sort_dicts=False)\n",
        "    \n",
        "    print(\"\\n\")"
      ]
    },
    {
      "cell_type": "code",
      "execution_count": 17,
      "metadata": {},
      "outputs": [
        {
          "name": "stdout",
          "output_type": "stream",
          "text": [
            "{'data': '/import/datasets_validation_ingestion', 'metadata': '/import/metadata_validation_ingestion'}\n",
            "---schema type dict-----\n",
            "{'datasets': 'files', 'samples': 'gct_metadata'}\n"
          ]
        },
        {
          "name": "stderr",
          "output_type": "stream",
          "text": [
            "Combining Metadata Files for Validation:   0%|          | 0/3 [00:00<?, ?it/s]WARNING: Unable to validate metadata file: GSE101503_GPL16791.json  because the validation_config keys were not present in the right format. Please use `get_ingestion_configs` to get ingestion_configs in the right format. For any questions, please reach out to polly.support@elucidata.io. \n",
            "Combining Metadata Files for Validation: 100%|██████████| 3/3 [00:00<00:00, 2399.49it/s]\n"
          ]
        },
        {
          "name": "stdout",
          "output_type": "stream",
          "text": [
            "\n",
            "\n",
            "╒════╤════════════════════╤═══════════════════════════╤═══════════════════════╤════════════════════════════════════════════════════════════════════════════════════════════════════╤═══════════════╕\n",
            "│    │ dataset_id         │ Field                     │ Original Name         │ Error Message                                                                                      │          Repo │\n",
            "╞════╪════════════════════╪═══════════════════════════╪═══════════════════════╪════════════════════════════════════════════════════════════════════════════════════════════════════╪═══════════════╡\n",
            "│  0 │ GSE128722_GPL11154 │ data_matrix_available     │ data_matrix_available │ field required                                                                                     │ 1673847977346 │\n",
            "├────┼────────────────────┼───────────────────────────┼───────────────────────┼────────────────────────────────────────────────────────────────────────────────────────────────────┼───────────────┤\n",
            "│  1 │ GSE128722_GPL11154 │ total_num_samples         │ total_num_samples     │ value is not a valid integer                                                                       │ 1673847977346 │\n",
            "├────┼────────────────────┼───────────────────────────┼───────────────────────┼────────────────────────────────────────────────────────────────────────────────────────────────────┼───────────────┤\n",
            "│  2 │ GSE128722_GPL11154 │ data_table_version        │ data_table_version    │ value is not a valid integer                                                                       │ 1673847977346 │\n",
            "├────┼────────────────────┼───────────────────────────┼───────────────────────┼────────────────────────────────────────────────────────────────────────────────────────────────────┼───────────────┤\n",
            "│  3 │ GSE128722_GPL11154 │ subseries_ids             │ subseries_ids         │ field required                                                                                     │ 1673847977346 │\n",
            "├────┼────────────────────┼───────────────────────────┼───────────────────────┼────────────────────────────────────────────────────────────────────────────────────────────────────┼───────────────┤\n",
            "│  4 │ GSE128722_GPL11154 │ data_matrix_available_new │ Data Matrix Available │ field required                                                                                     │ 1673847977346 │\n",
            "├────┼────────────────────┼───────────────────────────┼───────────────────────┼────────────────────────────────────────────────────────────────────────────────────────────────────┼───────────────┤\n",
            "│  5 │ GSE128722_GPL11154 │ missing_samples           │ missing_samples       │ field required                                                                                     │ 1673847977346 │\n",
            "├────┼────────────────────┼───────────────────────────┼───────────────────────┼────────────────────────────────────────────────────────────────────────────────────────────────────┼───────────────┤\n",
            "│  6 │ GSE128722_GPL11154 │ summary                   │ summary               │ field required                                                                                     │ 1673847977346 │\n",
            "├────┼────────────────────┼───────────────────────────┼───────────────────────┼────────────────────────────────────────────────────────────────────────────────────────────────────┼───────────────┤\n",
            "│  7 │ GSE128722_GPL11154 │ author                    │ author                │ field required                                                                                     │ 1673847977346 │\n",
            "├────┼────────────────────┼───────────────────────────┼───────────────────────┼────────────────────────────────────────────────────────────────────────────────────────────────────┼───────────────┤\n",
            "│  8 │ GSE128722_GPL11154 │ abstract                  │ abstract              │ field required                                                                                     │ 1673847977346 │\n",
            "├────┼────────────────────┼───────────────────────────┼───────────────────────┼────────────────────────────────────────────────────────────────────────────────────────────────────┼───────────────┤\n",
            "│  9 │ GSE128722_GPL11154 │ version                   │ version               │ value is not a valid integer                                                                       │ 1673847977346 │\n",
            "├────┼────────────────────┼───────────────────────────┼───────────────────────┼────────────────────────────────────────────────────────────────────────────────────────────────────┼───────────────┤\n",
            "│ 10 │ GSE128722_GPL11154 │ overall_design            │ overall_design        │ field required                                                                                     │ 1673847977346 │\n",
            "├────┼────────────────────┼───────────────────────────┼───────────────────────┼────────────────────────────────────────────────────────────────────────────────────────────────────┼───────────────┤\n",
            "│ 11 │ GSE128722_GPL11154 │ curated_cell_type         │ kw_cell_type          │ Ontological Validity Check | Invalid Value | Erroneous Value: \"bgb\"                                │ 1673847977346 │\n",
            "├────┼────────────────────┼───────────────────────────┼───────────────────────┼────────────────────────────────────────────────────────────────────────────────────────────────────┼───────────────┤\n",
            "│ 12 │ GSE128722_GPL11154 │ curated_disease           │ disease               │ Ontological Validity Check | Invalid Value | Erroneous Value: \"disease2\"                           │ 1673847977346 │\n",
            "├────┼────────────────────┼───────────────────────────┼───────────────────────┼────────────────────────────────────────────────────────────────────────────────────────────────────┼───────────────┤\n",
            "│ 13 │ GSE128722_GPL11154 │ curated_tissue            │ tissue                │ Ontological Validity Check | Invalid Value | Erroneous Value: \"rg\"                                 │ 1673847977346 │\n",
            "├────┼────────────────────┼───────────────────────────┼───────────────────────┼────────────────────────────────────────────────────────────────────────────────────────────────────┼───────────────┤\n",
            "│ 14 │ GSE128722_GPL11154 │ dataset_source            │ dataset_source        │ Value Check | Invalid value, not one of the predefined values | Erroneous Value: \"vfv\"             │ 1673847977346 │\n",
            "├────┼────────────────────┼───────────────────────────┼───────────────────────┼────────────────────────────────────────────────────────────────────────────────────────────────────┼───────────────┤\n",
            "│ 15 │ GSE128722_GPL11154 │ data_type                 │ kw_data_type          │ Value Check | Invalid value, not one of the predefined values | Erroneous Value: \"transcriptomics\" │ 1673847977346 │\n",
            "├────┼────────────────────┼───────────────────────────┼───────────────────────┼────────────────────────────────────────────────────────────────────────────────────────────────────┼───────────────┤\n",
            "│ 16 │ GSE32221_GPL4133   │ data_matrix_available     │ data_matrix_available │ field required                                                                                     │ 1673847977346 │\n",
            "├────┼────────────────────┼───────────────────────────┼───────────────────────┼────────────────────────────────────────────────────────────────────────────────────────────────────┼───────────────┤\n",
            "│ 17 │ GSE32221_GPL4133   │ total_num_samples         │ total_num_samples     │ value is not a valid integer                                                                       │ 1673847977346 │\n",
            "├────┼────────────────────┼───────────────────────────┼───────────────────────┼────────────────────────────────────────────────────────────────────────────────────────────────────┼───────────────┤\n",
            "│ 18 │ GSE32221_GPL4133   │ data_table_version        │ data_table_version    │ value is not a valid integer                                                                       │ 1673847977346 │\n",
            "├────┼────────────────────┼───────────────────────────┼───────────────────────┼────────────────────────────────────────────────────────────────────────────────────────────────────┼───────────────┤\n",
            "│ 19 │ GSE32221_GPL4133   │ subseries_ids             │ subseries_ids         │ field required                                                                                     │ 1673847977346 │\n",
            "├────┼────────────────────┼───────────────────────────┼───────────────────────┼────────────────────────────────────────────────────────────────────────────────────────────────────┼───────────────┤\n",
            "│ 20 │ GSE32221_GPL4133   │ data_matrix_available_new │ Data Matrix Available │ field required                                                                                     │ 1673847977346 │\n",
            "├────┼────────────────────┼───────────────────────────┼───────────────────────┼────────────────────────────────────────────────────────────────────────────────────────────────────┼───────────────┤\n",
            "│ 21 │ GSE32221_GPL4133   │ missing_samples           │ missing_samples       │ field required                                                                                     │ 1673847977346 │\n",
            "├────┼────────────────────┼───────────────────────────┼───────────────────────┼────────────────────────────────────────────────────────────────────────────────────────────────────┼───────────────┤\n",
            "│ 22 │ GSE32221_GPL4133   │ summary                   │ summary               │ field required                                                                                     │ 1673847977346 │\n",
            "├────┼────────────────────┼───────────────────────────┼───────────────────────┼────────────────────────────────────────────────────────────────────────────────────────────────────┼───────────────┤\n",
            "│ 23 │ GSE32221_GPL4133   │ drug_smiles               │ kw_smiles             │ field required                                                                                     │ 1673847977346 │\n",
            "├────┼────────────────────┼───────────────────────────┼───────────────────────┼────────────────────────────────────────────────────────────────────────────────────────────────────┼───────────────┤\n",
            "│ 24 │ GSE32221_GPL4133   │ author                    │ author                │ field required                                                                                     │ 1673847977346 │\n",
            "├────┼────────────────────┼───────────────────────────┼───────────────────────┼────────────────────────────────────────────────────────────────────────────────────────────────────┼───────────────┤\n",
            "│ 25 │ GSE32221_GPL4133   │ abstract                  │ abstract              │ field required                                                                                     │ 1673847977346 │\n",
            "├────┼────────────────────┼───────────────────────────┼───────────────────────┼────────────────────────────────────────────────────────────────────────────────────────────────────┼───────────────┤\n",
            "│ 26 │ GSE32221_GPL4133   │ version                   │ version               │ value is not a valid integer                                                                       │ 1673847977346 │\n",
            "├────┼────────────────────┼───────────────────────────┼───────────────────────┼────────────────────────────────────────────────────────────────────────────────────────────────────┼───────────────┤\n",
            "│ 27 │ GSE32221_GPL4133   │ overall_design            │ overall_design        │ field required                                                                                     │ 1673847977346 │\n",
            "╘════╧════════════════════╧═══════════════════════════╧═══════════════════════╧════════════════════════════════════════════════════════════════════════════════════════════════════╧═══════════════╛\n"
          ]
        },
        {
          "name": "stderr",
          "output_type": "stream",
          "text": [
            "Generating Status File of Validation: 100%|██████████| 3/3 [00:00<00:00, 3259.82it/s]"
          ]
        },
        {
          "name": "stdout",
          "output_type": "stream",
          "text": [
            "----------error df-----------\n",
            "            dataset_id                      Field          Original Name  \\\n",
            "0   GSE128722_GPL11154      data_matrix_available  data_matrix_available   \n",
            "1   GSE128722_GPL11154          total_num_samples      total_num_samples   \n",
            "2   GSE128722_GPL11154         data_table_version     data_table_version   \n",
            "3   GSE128722_GPL11154              subseries_ids          subseries_ids   \n",
            "4   GSE128722_GPL11154  data_matrix_available_new  Data Matrix Available   \n",
            "5   GSE128722_GPL11154            missing_samples        missing_samples   \n",
            "6   GSE128722_GPL11154                    summary                summary   \n",
            "7   GSE128722_GPL11154                     author                 author   \n",
            "8   GSE128722_GPL11154                   abstract               abstract   \n",
            "9   GSE128722_GPL11154                    version                version   \n",
            "10  GSE128722_GPL11154             overall_design         overall_design   \n",
            "11  GSE128722_GPL11154          curated_cell_type           kw_cell_type   \n",
            "12  GSE128722_GPL11154            curated_disease                disease   \n",
            "13  GSE128722_GPL11154             curated_tissue                 tissue   \n",
            "14  GSE128722_GPL11154             dataset_source         dataset_source   \n",
            "15  GSE128722_GPL11154                  data_type           kw_data_type   \n",
            "16    GSE32221_GPL4133      data_matrix_available  data_matrix_available   \n",
            "17    GSE32221_GPL4133          total_num_samples      total_num_samples   \n",
            "18    GSE32221_GPL4133         data_table_version     data_table_version   \n",
            "19    GSE32221_GPL4133              subseries_ids          subseries_ids   \n",
            "20    GSE32221_GPL4133  data_matrix_available_new  Data Matrix Available   \n",
            "21    GSE32221_GPL4133            missing_samples        missing_samples   \n",
            "22    GSE32221_GPL4133                    summary                summary   \n",
            "23    GSE32221_GPL4133                drug_smiles              kw_smiles   \n",
            "24    GSE32221_GPL4133                     author                 author   \n",
            "25    GSE32221_GPL4133                   abstract               abstract   \n",
            "26    GSE32221_GPL4133                    version                version   \n",
            "27    GSE32221_GPL4133             overall_design         overall_design   \n",
            "\n",
            "                                        Error Message           Repo  \n",
            "0                                      field required  1673847977346  \n",
            "1                        value is not a valid integer  1673847977346  \n",
            "2                        value is not a valid integer  1673847977346  \n",
            "3                                      field required  1673847977346  \n",
            "4                                      field required  1673847977346  \n",
            "5                                      field required  1673847977346  \n",
            "6                                      field required  1673847977346  \n",
            "7                                      field required  1673847977346  \n",
            "8                                      field required  1673847977346  \n",
            "9                        value is not a valid integer  1673847977346  \n",
            "10                                     field required  1673847977346  \n",
            "11  Ontological Validity Check | Invalid Value | E...  1673847977346  \n",
            "12  Ontological Validity Check | Invalid Value | E...  1673847977346  \n",
            "13  Ontological Validity Check | Invalid Value | E...  1673847977346  \n",
            "14  Value Check | Invalid value, not one of the pr...  1673847977346  \n",
            "15  Value Check | Invalid value, not one of the pr...  1673847977346  \n",
            "16                                     field required  1673847977346  \n",
            "17                       value is not a valid integer  1673847977346  \n",
            "18                       value is not a valid integer  1673847977346  \n",
            "19                                     field required  1673847977346  \n",
            "20                                     field required  1673847977346  \n",
            "21                                     field required  1673847977346  \n",
            "22                                     field required  1673847977346  \n",
            "23                                     field required  1673847977346  \n",
            "24                                     field required  1673847977346  \n",
            "25                                     field required  1673847977346  \n",
            "26                       value is not a valid integer  1673847977346  \n",
            "27                                     field required  1673847977346  \n",
            "-----status dict------\n",
            "{'GSE128722_GPL11154': False, 'GSE32221_GPL4133': False}\n"
          ]
        },
        {
          "name": "stderr",
          "output_type": "stream",
          "text": [
            "\n"
          ]
        }
      ],
      "source": [
        "# 3 files on total\n",
        "# 2 validate -> true -> will fail validation\n",
        "# 1 file -> will have -> force_ingest to False \n",
        "# 1 file -> will have -> force_ingest to True\n",
        "# 1 validation -> false -> will skip validation\n",
        "\n",
        "\n",
        "\n",
        "repo_id = \"1673847977346\"\n",
        "print(source_folder_path)\n",
        "error_df, status_dict = validation.validate_datasets(repo_id, source_folder_path)\n",
        "print(\"----------error df-----------\")\n",
        "print(error_df)\n",
        "\n",
        "print(\"-----status dict------\")\n",
        "print(status_dict)"
      ]
    },
    {
      "cell_type": "code",
      "execution_count": 19,
      "metadata": {},
      "outputs": [
        {
          "name": "stdout",
          "output_type": "stream",
          "text": [
            "\n",
            "\n"
          ]
        },
        {
          "name": "stderr",
          "output_type": "stream",
          "text": [
            "WARNING: These ['GSE128722_GPL11154.json', 'GSE32221_GPL4133.json'] file have failed validation. These files will only be ingested if force_ingest key in metadata is set to True\n",
            "Processing Metadata files:   0%|          | 0/2 [00:00<?, ?it/s]"
          ]
        },
        {
          "name": "stdout",
          "output_type": "stream",
          "text": [
            "---final destination_folder_endpoint----\n",
            "https://api.discover.testpolly.elucidata.io/repositories/1673847977346/files/?list_folders=true&dataset_id=GSE101503_GPL16791\n"
          ]
        },
        {
          "name": "stderr",
          "output_type": "stream",
          "text": [
            "WARNING: The dataset_id: GSE101503_GPL16791 is already ingested for repo: 1673847977346. Please use update_dataset function to update the file. \n",
            "\r",
            "Processing Metadata files:  50%|█████     | 1/2 [00:00<00:00,  1.29it/s]"
          ]
        },
        {
          "name": "stdout",
          "output_type": "stream",
          "text": [
            "----response data--------\n",
            "{'data': {'id': 'GSE101503_GPL16791', 'type': 'file_paths', 'attributes': {'file_paths': ['transcriptomics_307/GSE101503_GPL16791.gct']}}}\n",
            "---final destination_folder_endpoint----\n",
            "https://api.discover.testpolly.elucidata.io/repositories/1673847977346/files/?list_folders=true&dataset_id=GSE128722_GPL11154\n"
          ]
        },
        {
          "name": "stderr",
          "output_type": "stream",
          "text": [
            "WARNING: The dataset_id: GSE128722_GPL11154 is already ingested for repo: 1673847977346. Please use update_dataset function to update the file. \n",
            "Processing Metadata files: 100%|██████████| 2/2 [00:01<00:00,  1.33it/s]"
          ]
        },
        {
          "name": "stdout",
          "output_type": "stream",
          "text": [
            "----response data--------\n",
            "{'data': {'id': 'GSE128722_GPL11154', 'type': 'file_paths', 'attributes': {'file_paths': ['GSE128722_GPL11154.gct']}}}\n",
            "\n",
            "\n",
            "-----Files which are Not Validated-------\n",
            "  Invalid Metadata Files\n",
            "0  GSE32221_GPL4133.json\n",
            "\n",
            "\n",
            "     Invalid Data Files\n",
            "0  GSE32221_GPL4133.gct\n",
            "----res upload df-----\n",
            "Empty DataFrame\n",
            "Columns: []\n",
            "Index: []\n"
          ]
        },
        {
          "name": "stderr",
          "output_type": "stream",
          "text": [
            "\n"
          ]
        }
      ],
      "source": [
        "# the files which have failed validation and force ingest false -> will not be ingested\n",
        "# 1 file -> has validation -> false -> that will be ingested\n",
        "\n",
        "# 2 files will be ingested -> if files have been ingested before will not be ingested\n",
        "\n",
        "res_upload_df = omixatlas.add_datasets(repo_id, source_folder_path, validation=True)\n",
        "print(\"----res upload df-----\")\n",
        "print(res_upload_df)"
      ]
    },
    {
      "cell_type": "code",
      "execution_count": 21,
      "metadata": {},
      "outputs": [
        {
          "ename": "ValidationError",
          "evalue": "Metadata File GSE32221_GPL4133.json have not been validated and `validate` is set to True. Please run the validation step first.",
          "output_type": "error",
          "traceback": [
            "\u001b[0;31m---------------------------------------------------------------------------\u001b[0m",
            "\u001b[0;31mValidationError\u001b[0m                           Traceback (most recent call last)",
            "Input \u001b[0;32mIn [21]\u001b[0m, in \u001b[0;36m<cell line: 7>\u001b[0;34m()\u001b[0m\n\u001b[1;32m      1\u001b[0m \u001b[38;5;66;03m# Testing point2\u001b[39;00m\n\u001b[1;32m      2\u001b[0m \n\u001b[1;32m      3\u001b[0m \u001b[38;5;66;03m# all files will have validate `false` -> all files can be ingested without running validation step if not ingested before\u001b[39;00m\n\u001b[1;32m      4\u001b[0m \n\u001b[1;32m      5\u001b[0m \u001b[38;5;66;03m# one file has validate `true` -> validation step not run -> warning will be raised\u001b[39;00m\n\u001b[0;32m----> 7\u001b[0m res_upload_df \u001b[38;5;241m=\u001b[39m \u001b[43momixatlas\u001b[49m\u001b[38;5;241;43m.\u001b[39;49m\u001b[43madd_datasets\u001b[49m\u001b[43m(\u001b[49m\u001b[43mrepo_id\u001b[49m\u001b[43m,\u001b[49m\u001b[43m \u001b[49m\u001b[43msource_folder_path\u001b[49m\u001b[43m,\u001b[49m\u001b[43m \u001b[49m\u001b[43mvalidation\u001b[49m\u001b[38;5;241;43m=\u001b[39;49m\u001b[38;5;28;43;01mTrue\u001b[39;49;00m\u001b[43m)\u001b[49m\n\u001b[1;32m      8\u001b[0m \u001b[38;5;28mprint\u001b[39m(\u001b[38;5;124m\"\u001b[39m\u001b[38;5;124m----res upload df-----\u001b[39m\u001b[38;5;124m\"\u001b[39m)\n\u001b[1;32m      9\u001b[0m \u001b[38;5;28mprint\u001b[39m(res_upload_df)\n",
            "File \u001b[0;32m/usr/local/lib/python3.10/site-packages/polly/tracking.py:59\u001b[0m, in \u001b[0;36mTrack.track_decorator.<locals>.wrapper_function\u001b[0;34m(*args, **kwargs)\u001b[0m\n\u001b[1;32m     57\u001b[0m         \u001b[38;5;28;01mreturn\u001b[39;00m result\n\u001b[1;32m     58\u001b[0m \u001b[38;5;28;01melse\u001b[39;00m:\n\u001b[0;32m---> 59\u001b[0m     \u001b[38;5;28;01mraise\u001b[39;00m returned_err\n",
            "File \u001b[0;32m/usr/local/lib/python3.10/site-packages/polly/tracking.py:22\u001b[0m, in \u001b[0;36mTrack.track_decorator.<locals>.wrapper_function\u001b[0;34m(*args, **kwargs)\u001b[0m\n\u001b[1;32m     20\u001b[0m execution_flag \u001b[38;5;241m=\u001b[39m \u001b[38;5;28;01mFalse\u001b[39;00m\n\u001b[1;32m     21\u001b[0m \u001b[38;5;28;01mtry\u001b[39;00m:\n\u001b[0;32m---> 22\u001b[0m     result \u001b[38;5;241m=\u001b[39m \u001b[43mfunction\u001b[49m\u001b[43m(\u001b[49m\u001b[38;5;241;43m*\u001b[39;49m\u001b[43margs\u001b[49m\u001b[43m,\u001b[49m\u001b[43m \u001b[49m\u001b[38;5;241;43m*\u001b[39;49m\u001b[38;5;241;43m*\u001b[39;49m\u001b[43mkwargs\u001b[49m\u001b[43m)\u001b[49m\n\u001b[1;32m     23\u001b[0m     execution_flag \u001b[38;5;241m=\u001b[39m \u001b[38;5;28;01mTrue\u001b[39;00m\n\u001b[1;32m     24\u001b[0m \u001b[38;5;28;01mexcept\u001b[39;00m \u001b[38;5;167;01mException\u001b[39;00m \u001b[38;5;28;01mas\u001b[39;00m e:\n",
            "File \u001b[0;32m/usr/local/lib/python3.10/site-packages/polly/omixatlas.py:1773\u001b[0m, in \u001b[0;36mOmixAtlas.add_datasets\u001b[0;34m(self, repo_id, source_folder_path, priority, validation)\u001b[0m\n\u001b[1;32m   1771\u001b[0m     \u001b[38;5;28;01mreturn\u001b[39;00m data_upload_results_df\n\u001b[1;32m   1772\u001b[0m \u001b[38;5;28;01mexcept\u001b[39;00m \u001b[38;5;167;01mException\u001b[39;00m \u001b[38;5;28;01mas\u001b[39;00m err:\n\u001b[0;32m-> 1773\u001b[0m     \u001b[38;5;28;01mraise\u001b[39;00m err\n",
            "File \u001b[0;32m/usr/local/lib/python3.10/site-packages/polly/omixatlas.py:1768\u001b[0m, in \u001b[0;36mOmixAtlas.add_datasets\u001b[0;34m(self, repo_id, source_folder_path, priority, validation)\u001b[0m\n\u001b[1;32m   1648\u001b[0m \u001b[38;5;28;01mtry\u001b[39;00m:\n\u001b[1;32m   1649\u001b[0m     \u001b[38;5;66;03m# parameters check\u001b[39;00m\n\u001b[1;32m   1650\u001b[0m     \u001b[38;5;66;03m# self._parameter_check_for_add_dataset(\u001b[39;00m\n\u001b[0;32m   (...)\u001b[0m\n\u001b[1;32m   1764\u001b[0m     \u001b[38;5;66;03m#         f\"\\nDestination folder path considered for ingestion request: {destination_folder_path}\"\u001b[39;00m\n\u001b[1;32m   1765\u001b[0m     \u001b[38;5;66;03m#     )\u001b[39;00m\n\u001b[1;32m   1767\u001b[0m     files_obj \u001b[38;5;241m=\u001b[39m Files()\n\u001b[0;32m-> 1768\u001b[0m     data_upload_results_df \u001b[38;5;241m=\u001b[39m \u001b[43mfiles_obj\u001b[49m\u001b[38;5;241;43m.\u001b[39;49m\u001b[43madd_datasets\u001b[49m\u001b[43m(\u001b[49m\n\u001b[1;32m   1769\u001b[0m \u001b[43m        \u001b[49m\u001b[38;5;28;43mself\u001b[39;49m\u001b[43m,\u001b[49m\u001b[43m \u001b[49m\u001b[43mrepo_id\u001b[49m\u001b[43m,\u001b[49m\u001b[43m \u001b[49m\u001b[43msource_folder_path\u001b[49m\u001b[43m,\u001b[49m\u001b[43m \u001b[49m\u001b[43mpriority\u001b[49m\u001b[43m,\u001b[49m\u001b[43m \u001b[49m\u001b[43mvalidation\u001b[49m\n\u001b[1;32m   1770\u001b[0m \u001b[43m    \u001b[49m\u001b[43m)\u001b[49m\n\u001b[1;32m   1771\u001b[0m     \u001b[38;5;28;01mreturn\u001b[39;00m data_upload_results_df\n\u001b[1;32m   1772\u001b[0m \u001b[38;5;28;01mexcept\u001b[39;00m \u001b[38;5;167;01mException\u001b[39;00m \u001b[38;5;28;01mas\u001b[39;00m err:\n",
            "File \u001b[0;32m/usr/local/lib/python3.10/site-packages/polly_services/files/files.py:50\u001b[0m, in \u001b[0;36mFiles.add_datasets\u001b[0;34m(self, polly_session, repo_id, source_folder_path, priority, validation)\u001b[0m\n\u001b[1;32m     48\u001b[0m validation_dataset_lvl \u001b[38;5;241m=\u001b[39m {}\n\u001b[1;32m     49\u001b[0m \u001b[38;5;28;01mif\u001b[39;00m validation:\n\u001b[0;32m---> 50\u001b[0m     validation_dataset_lvl \u001b[38;5;241m=\u001b[39m \u001b[43mfiles_hlpr\u001b[49m\u001b[38;5;241;43m.\u001b[39;49m\u001b[43mcheck_status_file\u001b[49m\u001b[43m(\u001b[49m\u001b[43msource_folder_path\u001b[49m\u001b[43m)\u001b[49m\n\u001b[1;32m     51\u001b[0m     (\n\u001b[1;32m     52\u001b[0m         data_file_list,\n\u001b[1;32m     53\u001b[0m         metadata_file_list,\n\u001b[0;32m   (...)\u001b[0m\n\u001b[1;32m     59\u001b[0m         data_metadata_mapping,\n\u001b[1;32m     60\u001b[0m     )\n\u001b[1;32m     61\u001b[0m     \u001b[38;5;66;03m# create data_metadata_mapping again with filtered files after validation\u001b[39;00m\n",
            "File \u001b[0;32m/usr/local/lib/python3.10/site-packages/polly_services/files/files_hlpr.py:743\u001b[0m, in \u001b[0;36mcheck_status_file\u001b[0;34m(source_folder_path)\u001b[0m\n\u001b[1;32m    741\u001b[0m         \u001b[38;5;28;01mreturn\u001b[39;00m decrypted_status_data_dict\n\u001b[1;32m    742\u001b[0m \u001b[38;5;28;01mexcept\u001b[39;00m \u001b[38;5;167;01mException\u001b[39;00m \u001b[38;5;28;01mas\u001b[39;00m err:\n\u001b[0;32m--> 743\u001b[0m     \u001b[38;5;28;01mraise\u001b[39;00m err\n",
            "File \u001b[0;32m/usr/local/lib/python3.10/site-packages/polly_services/files/files_hlpr.py:726\u001b[0m, in \u001b[0;36mcheck_status_file\u001b[0;34m(source_folder_path)\u001b[0m\n\u001b[1;32m    724\u001b[0m \u001b[38;5;66;03m# if status file not present\u001b[39;00m\n\u001b[1;32m    725\u001b[0m \u001b[38;5;28;01mif\u001b[39;00m \u001b[38;5;129;01mnot\u001b[39;00m encrypted_status_data:\n\u001b[0;32m--> 726\u001b[0m     empty_status_dict \u001b[38;5;241m=\u001b[39m \u001b[43mcheck_validation_false_in_all_files\u001b[49m\u001b[43m(\u001b[49m\n\u001b[1;32m    727\u001b[0m \u001b[43m        \u001b[49m\u001b[43mmetadata_file_list\u001b[49m\u001b[43m,\u001b[49m\u001b[43m \u001b[49m\u001b[43mmetadata_folder_path\u001b[49m\n\u001b[1;32m    728\u001b[0m \u001b[43m    \u001b[49m\u001b[43m)\u001b[49m\n\u001b[1;32m    729\u001b[0m     \u001b[38;5;28;01mreturn\u001b[39;00m empty_status_dict\n\u001b[1;32m    730\u001b[0m \u001b[38;5;28;01melif\u001b[39;00m encrypted_status_data:\n\u001b[1;32m    731\u001b[0m     \u001b[38;5;66;03m# decrypt status file\u001b[39;00m\n",
            "File \u001b[0;32m/usr/local/lib/python3.10/site-packages/polly_services/files/files_hlpr.py:813\u001b[0m, in \u001b[0;36mcheck_validation_false_in_all_files\u001b[0;34m(metadata_file_list, metadata_folder_path)\u001b[0m\n\u001b[1;32m    802\u001b[0m         validate_param \u001b[38;5;241m=\u001b[39m (\n\u001b[1;32m    803\u001b[0m             res_dict\u001b[38;5;241m.\u001b[39mget(\u001b[38;5;124m\"\u001b[39m\u001b[38;5;124m__index__\u001b[39m\u001b[38;5;124m\"\u001b[39m, {})\n\u001b[1;32m    804\u001b[0m             \u001b[38;5;241m.\u001b[39mget(\u001b[38;5;124m\"\u001b[39m\u001b[38;5;124mvalidation_check\u001b[39m\u001b[38;5;124m\"\u001b[39m, {})\n\u001b[1;32m    805\u001b[0m             \u001b[38;5;241m.\u001b[39mget(\u001b[38;5;124m\"\u001b[39m\u001b[38;5;124mdataset\u001b[39m\u001b[38;5;124m\"\u001b[39m, {})\n\u001b[1;32m    806\u001b[0m             \u001b[38;5;241m.\u001b[39mget(\u001b[38;5;124m\"\u001b[39m\u001b[38;5;124mvalidate\u001b[39m\u001b[38;5;124m\"\u001b[39m, \u001b[38;5;124m\"\u001b[39m\u001b[38;5;124m\"\u001b[39m)\n\u001b[1;32m    807\u001b[0m         )\n\u001b[1;32m    809\u001b[0m         \u001b[38;5;28;01mif\u001b[39;00m validate_param:\n\u001b[1;32m    810\u001b[0m             \u001b[38;5;66;03m# for this file `validate:True`\u001b[39;00m\n\u001b[1;32m    811\u001b[0m             \u001b[38;5;66;03m# this means file has not gone through validation\u001b[39;00m\n\u001b[1;32m    812\u001b[0m             \u001b[38;5;66;03m# raise error\u001b[39;00m\n\u001b[0;32m--> 813\u001b[0m             \u001b[38;5;28;01mraise\u001b[39;00m ValidationError(\n\u001b[1;32m    814\u001b[0m                 \u001b[38;5;124mf\u001b[39m\u001b[38;5;124m\"\u001b[39m\u001b[38;5;124mMetadata File \u001b[39m\u001b[38;5;132;01m{\u001b[39;00mfile\u001b[38;5;132;01m}\u001b[39;00m\u001b[38;5;124m have not been validated and `validate` is set to True. \u001b[39m\u001b[38;5;124m\"\u001b[39m\n\u001b[1;32m    815\u001b[0m                 \u001b[38;5;241m+\u001b[39m \u001b[38;5;124m\"\u001b[39m\u001b[38;5;124mPlease run the validation step first.\u001b[39m\u001b[38;5;124m\"\u001b[39m\n\u001b[1;32m    816\u001b[0m             )\n\u001b[1;32m    818\u001b[0m \u001b[38;5;66;03m# return empty dictionary\u001b[39;00m\n\u001b[1;32m    819\u001b[0m \u001b[38;5;66;03m# no status data present\u001b[39;00m\n\u001b[1;32m    820\u001b[0m \u001b[38;5;66;03m# no error is raised\u001b[39;00m\n\u001b[1;32m    821\u001b[0m \u001b[38;5;28;01mreturn\u001b[39;00m {}\n",
            "\u001b[0;31mValidationError\u001b[0m: Metadata File GSE32221_GPL4133.json have not been validated and `validate` is set to True. Please run the validation step first."
          ]
        }
      ],
      "source": [
        "# Testing point2\n",
        "\n",
        "# one file has validate `true` -> validation step not run -> error will be raised\n",
        "\n",
        "# If users have passed validate -> `True` -> then the users will have to run the validation step for sure \n",
        "# if any of the files have validate -> True and validation step is not run\n",
        "\n",
        "res_upload_df = omixatlas.add_datasets(repo_id, source_folder_path, validation=True)\n",
        "print(\"----res upload df-----\")\n",
        "print(res_upload_df)"
      ]
    },
    {
      "cell_type": "code",
      "execution_count": 22,
      "metadata": {},
      "outputs": [
        {
          "name": "stderr",
          "output_type": "stream",
          "text": [
            "\r",
            "Processing Metadata files:   0%|          | 0/3 [00:00<?, ?it/s]"
          ]
        },
        {
          "name": "stdout",
          "output_type": "stream",
          "text": [
            "---final destination_folder_endpoint----\n",
            "https://api.discover.testpolly.elucidata.io/repositories/1673847977346/files/?list_folders=true&dataset_id=GSE101503_GPL16791\n"
          ]
        },
        {
          "name": "stderr",
          "output_type": "stream",
          "text": [
            "WARNING: The dataset_id: GSE101503_GPL16791 is already ingested for repo: 1673847977346. Please use update_dataset function to update the file. \n",
            "\r",
            "Processing Metadata files:  33%|███▎      | 1/3 [00:00<00:01,  1.22it/s]"
          ]
        },
        {
          "name": "stdout",
          "output_type": "stream",
          "text": [
            "----response data--------\n",
            "{'data': {'id': 'GSE101503_GPL16791', 'type': 'file_paths', 'attributes': {'file_paths': ['transcriptomics_307/GSE101503_GPL16791.gct']}}}\n",
            "---final destination_folder_endpoint----\n",
            "https://api.discover.testpolly.elucidata.io/repositories/1673847977346/files/?list_folders=true&dataset_id=GSE128722_GPL11154\n"
          ]
        },
        {
          "name": "stderr",
          "output_type": "stream",
          "text": [
            "WARNING: The dataset_id: GSE128722_GPL11154 is already ingested for repo: 1673847977346. Please use update_dataset function to update the file. \n",
            "\r",
            "Processing Metadata files:  67%|██████▋   | 2/3 [00:01<00:00,  1.25it/s]"
          ]
        },
        {
          "name": "stdout",
          "output_type": "stream",
          "text": [
            "----response data--------\n",
            "{'data': {'id': 'GSE128722_GPL11154', 'type': 'file_paths', 'attributes': {'file_paths': ['GSE128722_GPL11154.gct']}}}\n",
            "---final destination_folder_endpoint----\n",
            "https://api.discover.testpolly.elucidata.io/repositories/1673847977346/files/?list_folders=true&dataset_id=GSE32221_GPL4133\n"
          ]
        },
        {
          "name": "stderr",
          "output_type": "stream",
          "text": [
            "WARNING: The dataset_id: GSE32221_GPL4133 is already ingested for repo: 1673847977346. Please use update_dataset function to update the file. \n",
            "Processing Metadata files: 100%|██████████| 3/3 [00:02<00:00,  1.29it/s]"
          ]
        },
        {
          "name": "stdout",
          "output_type": "stream",
          "text": [
            "----response data--------\n",
            "{'data': {'id': 'GSE32221_GPL4133', 'type': 'file_paths', 'attributes': {'file_paths': ['GSE32221_GPL4133.gct']}}}\n",
            "\n",
            "\n",
            "-----Files which are Not Validated-------\n",
            "Empty DataFrame\n",
            "Columns: [Invalid Metadata Files]\n",
            "Index: []\n",
            "\n",
            "\n",
            "Empty DataFrame\n",
            "Columns: [Invalid Data Files]\n",
            "Index: []\n",
            "----res upload df-----\n",
            "Empty DataFrame\n",
            "Columns: []\n",
            "Index: []\n"
          ]
        },
        {
          "name": "stderr",
          "output_type": "stream",
          "text": [
            "\n"
          ]
        }
      ],
      "source": [
        "# Testing point 3\n",
        "\n",
        "# all files have validate -> `false` -> no need to run validation step\n",
        "\n",
        "res_upload_df = omixatlas.add_datasets(repo_id, source_folder_path, validation=True)\n",
        "print(\"----res upload df-----\")\n",
        "print(res_upload_df)"
      ]
    },
    {
      "cell_type": "code",
      "execution_count": null,
      "metadata": {},
      "outputs": [],
      "source": [
        "# Testing point 4"
      ]
    }
  ],
  "metadata": {
    "kernelspec": {
      "display_name": "Python 3 (ipykernel)",
      "language": "python",
      "name": "python3"
    },
    "language_info": {
      "codemirror_mode": {
        "name": "ipython",
        "version": 3
      },
      "file_extension": ".py",
      "mimetype": "text/x-python",
      "name": "python",
      "nbconvert_exporter": "python",
      "pygments_lexer": "ipython3",
      "version": "3.10.2"
    }
  },
  "nbformat": 4,
  "nbformat_minor": 2
}