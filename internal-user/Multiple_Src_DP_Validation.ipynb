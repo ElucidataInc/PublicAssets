{
  "cells": [
    {
      "cell_type": "markdown",
      "metadata": {
        "colab_type": "text",
        "id": "view-in-github"
      },
      "source": [
        "<a href=\"https://testpolly.elucidata.io/manage/workspaces?action=open_polly_notebook&source=github&path=path_place_holder&kernel=elucidata/Python 3.10&machine=medium\" target=\"_parent\"><img src=\"https://elucidatainc.github.io/PublicAssets/open_polly.svg\" alt=\"Open in Polly\"/></a>\n"
      ]
    },
    {
      "cell_type": "markdown",
      "metadata": {},
      "source": [
        "# Welcome to Polly Python3 Notebook."
      ]
    },
    {
      "cell_type": "code",
      "execution_count": 1,
      "metadata": {},
      "outputs": [
        {
          "name": "stdout",
          "output_type": "stream",
          "text": [
            "/bin/bash: warning: setlocale: LC_ALL: cannot change locale (en_US.UTF-8)\n",
            "Collecting polly-python==0.3.1-validation\n",
            "  Downloading https://elucidatainc.github.io/PublicAssets/builds/polly-python/tests/testpolly/polly_python-0.3.1_validation-py3-none-any.whl (134 kB)\n",
            "\u001b[K     |████████████████████████████████| 134 kB 17.1 MB/s eta 0:00:01\n",
            "\u001b[?25hRequirement already satisfied: elucidatacloudpathlib==0.6.6 in /usr/local/lib/python3.10/site-packages (from polly-python==0.3.1-validation) (0.6.6)\n",
            "Requirement already satisfied: rst2txt>=1.1.0 in /usr/local/lib/python3.10/site-packages (from polly-python==0.3.1-validation) (1.1.0)\n",
            "Requirement already satisfied: Deprecated>=1.2.6 in /usr/local/lib/python3.10/site-packages (from polly-python==0.3.1-validation) (1.2.13)\n",
            "Requirement already satisfied: joblib>=0.11 in /usr/local/lib/python3.10/site-packages (from polly-python==0.3.1-validation) (1.2.0)\n",
            "Requirement already satisfied: datapane>=0.9.1 in /usr/local/lib/python3.10/site-packages (from polly-python==0.3.1-validation) (0.16.4)\n",
            "Requirement already satisfied: botocore>=1.20.73 in /usr/local/lib/python3.10/site-packages (from polly-python==0.3.1-validation) (1.24.19)\n",
            "Requirement already satisfied: requests>=2.25.1 in /usr/local/lib/python3.10/site-packages (from polly-python==0.3.1-validation) (2.25.1)\n",
            "Requirement already satisfied: pytest>=3.0.0 in /usr/local/lib/python3.10/site-packages (from polly-python==0.3.1-validation) (7.3.1)\n",
            "Requirement already satisfied: python-jose>=3.3.0 in /usr/local/lib/python3.10/site-packages (from polly-python==0.3.1-validation) (3.3.0)\n",
            "Requirement already satisfied: retrying>=1.3.3 in /usr/local/lib/python3.10/site-packages (from polly-python==0.3.1-validation) (1.3.4)\n",
            "Requirement already satisfied: pandas>=1.0.1 in /usr/local/lib/python3.10/site-packages (from polly-python==0.3.1-validation) (1.4.1)\n",
            "Requirement already satisfied: plotly>=2.0.0 in /usr/local/lib/python3.10/site-packages (from polly-python==0.3.1-validation) (5.14.1)\n",
            "Requirement already satisfied: tqdm>=4.19.5 in /usr/local/lib/python3.10/site-packages (from polly-python==0.3.1-validation) (4.65.0)\n",
            "Requirement already satisfied: beautifulsoup4 in /usr/local/lib/python3.10/site-packages (from polly-python==0.3.1-validation) (4.12.2)\n",
            "Requirement already satisfied: boto3>=1.17.73 in /usr/local/lib/python3.10/site-packages (from polly-python==0.3.1-validation) (1.21.19)\n",
            "Requirement already satisfied: pydantic>=0.32.0 in /usr/local/lib/python3.10/site-packages (from polly-python==0.3.1-validation) (1.10.7)\n",
            "Requirement already satisfied: elucidatacmapPy==3.3.4 in /usr/local/lib/python3.10/site-packages (from polly-python==0.3.1-validation) (3.3.4)\n",
            "Requirement already satisfied: mixpanel>=4.10.0 in /usr/local/lib/python3.10/site-packages (from polly-python==0.3.1-validation) (4.10.0)\n",
            "Requirement already satisfied: cryptography>=37.0.1 in /usr/local/lib/python3.10/site-packages (from polly-python==0.3.1-validation) (40.0.2)\n",
            "Requirement already satisfied: h5py>=2.6.0 in /usr/local/lib/python3.10/site-packages (from elucidatacmapPy==3.3.4->polly-python==0.3.1-validation) (3.8.0)\n",
            "Requirement already satisfied: six in /usr/local/lib/python3.10/site-packages (from elucidatacmapPy==3.3.4->polly-python==0.3.1-validation) (1.16.0)\n",
            "Requirement already satisfied: numpy>=1.11.2 in /usr/local/lib/python3.10/site-packages (from elucidatacmapPy==3.3.4->polly-python==0.3.1-validation) (1.22.3)\n",
            "Requirement already satisfied: jmespath<1.0.0,>=0.7.1 in /usr/local/lib/python3.10/site-packages (from boto3>=1.17.73->polly-python==0.3.1-validation) (0.10.0)\n",
            "Requirement already satisfied: s3transfer<0.6.0,>=0.5.0 in /usr/local/lib/python3.10/site-packages (from boto3>=1.17.73->polly-python==0.3.1-validation) (0.5.2)\n",
            "Requirement already satisfied: python-dateutil<3.0.0,>=2.1 in /usr/local/lib/python3.10/site-packages (from botocore>=1.20.73->polly-python==0.3.1-validation) (2.8.1)\n",
            "Requirement already satisfied: urllib3<1.27,>=1.25.4 in /usr/local/lib/python3.10/site-packages (from botocore>=1.20.73->polly-python==0.3.1-validation) (1.26.6)\n",
            "Requirement already satisfied: cffi>=1.12 in /usr/local/lib/python3.10/site-packages (from cryptography>=37.0.1->polly-python==0.3.1-validation) (1.15.1)\n",
            "Requirement already satisfied: pycparser in /usr/local/lib/python3.10/site-packages (from cffi>=1.12->cryptography>=37.0.1->polly-python==0.3.1-validation) (2.21)\n",
            "Requirement already satisfied: boltons<22.0.0,>=20.0.0 in /usr/local/lib/python3.10/site-packages (from datapane>=0.9.1->polly-python==0.3.1-validation) (21.0.0)\n",
            "Requirement already satisfied: micawber>=0.5.0 in /usr/local/lib/python3.10/site-packages (from datapane>=0.9.1->polly-python==0.3.1-validation) (0.5.4)\n",
            "Requirement already satisfied: requests-toolbelt<0.11.0,>=0.9.1 in /usr/local/lib/python3.10/site-packages (from datapane>=0.9.1->polly-python==0.3.1-validation) (0.10.1)\n",
            "Requirement already satisfied: jsonschema<5.0.0,>=3.2.0 in /usr/local/lib/python3.10/site-packages (from datapane>=0.9.1->polly-python==0.3.1-validation) (4.2.1)\n",
            "Requirement already satisfied: furl<3.0.0,>=2.0.0 in /usr/local/lib/python3.10/site-packages (from datapane>=0.9.1->polly-python==0.3.1-validation) (2.1.3)\n",
            "Requirement already satisfied: cheroot<10.0.0,>=9.0.0 in /usr/local/lib/python3.10/site-packages (from datapane>=0.9.1->polly-python==0.3.1-validation) (9.0.0)\n",
            "Requirement already satisfied: vega-datasets<1.0.0,>=0.9.0 in /usr/local/lib/python3.10/site-packages (from datapane>=0.9.1->polly-python==0.3.1-validation) (0.9.0)\n",
            "Requirement already satisfied: datacommons-pandas<0.0.4,>=0.0.3 in /usr/local/lib/python3.10/site-packages (from datapane>=0.9.1->polly-python==0.3.1-validation) (0.0.3)\n",
            "Requirement already satisfied: importlib_resources<6.0.0,>=3.0.0 in /usr/local/lib/python3.10/site-packages (from datapane>=0.9.1->polly-python==0.3.1-validation) (5.12.0)\n",
            "Requirement already satisfied: dominate<3.0.0,>=2.4.0 in /usr/local/lib/python3.10/site-packages (from datapane>=0.9.1->polly-python==0.3.1-validation) (2.7.0)\n",
            "Requirement already satisfied: posthog<3.0.0,>=1.4.0 in /usr/local/lib/python3.10/site-packages (from datapane>=0.9.1->polly-python==0.3.1-validation) (2.5.0)\n",
            "Requirement already satisfied: packaging<24.0.0,>=21.0.0 in /usr/local/lib/python3.10/site-packages (from datapane>=0.9.1->polly-python==0.3.1-validation) (23.1)\n",
            "Requirement already satisfied: chardet<6.0.0,>=4.0.0 in /usr/local/lib/python3.10/site-packages (from datapane>=0.9.1->polly-python==0.3.1-validation) (4.0.0)\n",
            "Requirement already satisfied: dulwich<0.22.0,>=0.20.0 in /usr/local/lib/python3.10/site-packages (from datapane>=0.9.1->polly-python==0.3.1-validation) (0.21.3)\n",
            "Requirement already satisfied: pyarrow<11.0.0,>=6.0.0 in /usr/local/lib/python3.10/site-packages (from datapane>=0.9.1->polly-python==0.3.1-validation) (10.0.1)\n",
            "Requirement already satisfied: dacite<2.0.0,>=1.0.2 in /usr/local/lib/python3.10/site-packages (from datapane>=0.9.1->polly-python==0.3.1-validation) (1.8.0)\n",
            "Requirement already satisfied: altair<5.0.0,>=4.0.0 in /usr/local/lib/python3.10/site-packages (from datapane>=0.9.1->polly-python==0.3.1-validation) (4.2.2)\n",
            "Requirement already satisfied: PyYAML<7.0.0,>=5.4.0 in /usr/local/lib/python3.10/site-packages (from datapane>=0.9.1->polly-python==0.3.1-validation) (5.4.1)\n",
            "Requirement already satisfied: click<9.0.0,>=7.1.0 in /usr/local/lib/python3.10/site-packages (from datapane>=0.9.1->polly-python==0.3.1-validation) (8.1.3)\n",
            "Requirement already satisfied: pyngrok<6.0.0,>=5.2.1 in /usr/local/lib/python3.10/site-packages (from datapane>=0.9.1->polly-python==0.3.1-validation) (5.2.3)\n",
            "Requirement already satisfied: ipynbname<2022.0.0,>=2021.3.2 in /usr/local/lib/python3.10/site-packages (from datapane>=0.9.1->polly-python==0.3.1-validation) (2021.3.2)\n",
            "Requirement already satisfied: datacommons<2.0.0,>=1.4.3 in /usr/local/lib/python3.10/site-packages (from datapane>=0.9.1->polly-python==0.3.1-validation) (1.4.3)\n",
            "Requirement already satisfied: click-spinner<0.2.0,>=0.1.8 in /usr/local/lib/python3.10/site-packages (from datapane>=0.9.1->polly-python==0.3.1-validation) (0.1.10)\n",
            "Requirement already satisfied: glom<24.0.0,>=22.1.0 in /usr/local/lib/python3.10/site-packages (from datapane>=0.9.1->polly-python==0.3.1-validation) (23.3.0)\n",
            "Requirement already satisfied: nbconvert>=5.6.1 in /usr/local/lib/python3.10/site-packages (from datapane>=0.9.1->polly-python==0.3.1-validation) (6.3.0)\n",
            "Requirement already satisfied: typing-extensions<5.0.0,>=4.4.0 in /usr/local/lib/python3.10/site-packages (from datapane>=0.9.1->polly-python==0.3.1-validation) (4.5.0)\n",
            "Requirement already satisfied: toolz<0.13.0,>=0.11.0 in /usr/local/lib/python3.10/site-packages (from datapane>=0.9.1->polly-python==0.3.1-validation) (0.12.0)\n",
            "Requirement already satisfied: tabulate<0.10.0,>=0.8.9 in /usr/local/lib/python3.10/site-packages (from datapane>=0.9.1->polly-python==0.3.1-validation) (0.8.10)\n",
            "Requirement already satisfied: lxml<5.0.0,>=4.0.0 in /usr/local/lib/python3.10/site-packages (from datapane>=0.9.1->polly-python==0.3.1-validation) (4.9.2)\n",
            "Requirement already satisfied: colorlog<7.0.0,>=4.1.0 in /usr/local/lib/python3.10/site-packages (from datapane>=0.9.1->polly-python==0.3.1-validation) (6.7.0)\n",
            "Requirement already satisfied: multimethod<2.0,>=1.9 in /usr/local/lib/python3.10/site-packages (from datapane>=0.9.1->polly-python==0.3.1-validation) (1.9.1)\n",
            "Requirement already satisfied: jinja2 in /usr/local/lib/python3.10/site-packages (from altair<5.0.0,>=4.0.0->datapane>=0.9.1->polly-python==0.3.1-validation) (3.0.3)\n",
            "Requirement already satisfied: entrypoints in /usr/local/lib/python3.10/site-packages (from altair<5.0.0,>=4.0.0->datapane>=0.9.1->polly-python==0.3.1-validation) (0.3)\n"
          ]
        },
        {
          "name": "stdout",
          "output_type": "stream",
          "text": [
            "Requirement already satisfied: jaraco.functools in /usr/local/lib/python3.10/site-packages (from cheroot<10.0.0,>=9.0.0->datapane>=0.9.1->polly-python==0.3.1-validation) (3.6.0)\n",
            "Requirement already satisfied: more-itertools>=2.6 in /usr/local/lib/python3.10/site-packages (from cheroot<10.0.0,>=9.0.0->datapane>=0.9.1->polly-python==0.3.1-validation) (9.1.0)\n",
            "Requirement already satisfied: wrapt<2,>=1.10 in /usr/local/lib/python3.10/site-packages (from Deprecated>=1.2.6->polly-python==0.3.1-validation) (1.15.0)\n",
            "Requirement already satisfied: orderedmultidict>=1.0.1 in /usr/local/lib/python3.10/site-packages (from furl<3.0.0,>=2.0.0->datapane>=0.9.1->polly-python==0.3.1-validation) (1.0.1)\n",
            "Requirement already satisfied: attrs in /usr/local/lib/python3.10/site-packages (from glom<24.0.0,>=22.1.0->datapane>=0.9.1->polly-python==0.3.1-validation) (21.2.0)\n",
            "Requirement already satisfied: face==20.1.1 in /usr/local/lib/python3.10/site-packages (from glom<24.0.0,>=22.1.0->datapane>=0.9.1->polly-python==0.3.1-validation) (20.1.1)\n",
            "Requirement already satisfied: ipykernel in /usr/local/lib/python3.10/site-packages (from ipynbname<2022.0.0,>=2021.3.2->datapane>=0.9.1->polly-python==0.3.1-validation) (6.13.1)\n",
            "Requirement already satisfied: pyrsistent!=0.17.0,!=0.17.1,!=0.17.2,>=0.14.0 in /usr/local/lib/python3.10/site-packages (from jsonschema<5.0.0,>=3.2.0->datapane>=0.9.1->polly-python==0.3.1-validation) (0.18.0)\n",
            "Requirement already satisfied: testpath in /usr/local/lib/python3.10/site-packages (from nbconvert>=5.6.1->datapane>=0.9.1->polly-python==0.3.1-validation) (0.5.0)\n",
            "Requirement already satisfied: defusedxml in /usr/local/lib/python3.10/site-packages (from nbconvert>=5.6.1->datapane>=0.9.1->polly-python==0.3.1-validation) (0.7.1)\n",
            "Requirement already satisfied: jupyter-core in /usr/local/lib/python3.10/site-packages (from nbconvert>=5.6.1->datapane>=0.9.1->polly-python==0.3.1-validation) (4.9.1)\n",
            "Requirement already satisfied: pygments>=2.4.1 in /usr/local/lib/python3.10/site-packages (from nbconvert>=5.6.1->datapane>=0.9.1->polly-python==0.3.1-validation) (2.10.0)\n",
            "Requirement already satisfied: nbformat>=4.4 in /usr/local/lib/python3.10/site-packages (from nbconvert>=5.6.1->datapane>=0.9.1->polly-python==0.3.1-validation) (5.1.3)\n",
            "Requirement already satisfied: mistune<2,>=0.8.1 in /usr/local/lib/python3.10/site-packages (from nbconvert>=5.6.1->datapane>=0.9.1->polly-python==0.3.1-validation) (0.8.4)\n",
            "Requirement already satisfied: bleach in /usr/local/lib/python3.10/site-packages (from nbconvert>=5.6.1->datapane>=0.9.1->polly-python==0.3.1-validation) (4.1.0)\n",
            "Requirement already satisfied: nbclient<0.6.0,>=0.5.0 in /usr/local/lib/python3.10/site-packages (from nbconvert>=5.6.1->datapane>=0.9.1->polly-python==0.3.1-validation) (0.5.13)\n",
            "Requirement already satisfied: pandocfilters>=1.4.1 in /usr/local/lib/python3.10/site-packages (from nbconvert>=5.6.1->datapane>=0.9.1->polly-python==0.3.1-validation) (1.5.0)\n",
            "Requirement already satisfied: traitlets>=5.0 in /usr/local/lib/python3.10/site-packages (from nbconvert>=5.6.1->datapane>=0.9.1->polly-python==0.3.1-validation) (5.1.1)\n",
            "Requirement already satisfied: jupyterlab-pygments in /usr/local/lib/python3.10/site-packages (from nbconvert>=5.6.1->datapane>=0.9.1->polly-python==0.3.1-validation) (0.2.2)\n",
            "Requirement already satisfied: MarkupSafe>=2.0 in /usr/local/lib/python3.10/site-packages (from jinja2->altair<5.0.0,>=4.0.0->datapane>=0.9.1->polly-python==0.3.1-validation) (2.0.1)\n",
            "Requirement already satisfied: jupyter-client>=6.1.5 in /usr/local/lib/python3.10/site-packages (from nbclient<0.6.0,>=0.5.0->nbconvert>=5.6.1->datapane>=0.9.1->polly-python==0.3.1-validation) (6.1.12)\n",
            "Requirement already satisfied: nest-asyncio in /usr/local/lib/python3.10/site-packages (from nbclient<0.6.0,>=0.5.0->nbconvert>=5.6.1->datapane>=0.9.1->polly-python==0.3.1-validation) (1.5.6)\n",
            "Requirement already satisfied: pyzmq>=13 in /usr/local/lib/python3.10/site-packages (from jupyter-client>=6.1.5->nbclient<0.6.0,>=0.5.0->nbconvert>=5.6.1->datapane>=0.9.1->polly-python==0.3.1-validation) (22.3.0)\n",
            "Requirement already satisfied: tornado>=4.1 in /usr/local/lib/python3.10/site-packages (from jupyter-client>=6.1.5->nbclient<0.6.0,>=0.5.0->nbconvert>=5.6.1->datapane>=0.9.1->polly-python==0.3.1-validation) (6.1)\n",
            "Requirement already satisfied: ipython-genutils in /usr/local/lib/python3.10/site-packages (from nbformat>=4.4->nbconvert>=5.6.1->datapane>=0.9.1->polly-python==0.3.1-validation) (0.2.0)\n",
            "Requirement already satisfied: pytz>=2020.1 in /usr/local/lib/python3.10/site-packages (from pandas>=1.0.1->polly-python==0.3.1-validation) (2021.3)\n",
            "Requirement already satisfied: tenacity>=6.2.0 in /usr/local/lib/python3.10/site-packages (from plotly>=2.0.0->polly-python==0.3.1-validation) (8.2.2)\n",
            "Requirement already satisfied: monotonic>=1.5 in /usr/local/lib/python3.10/site-packages (from posthog<3.0.0,>=1.4.0->datapane>=0.9.1->polly-python==0.3.1-validation) (1.6)\n",
            "Requirement already satisfied: backoff>=1.10.0 in /usr/local/lib/python3.10/site-packages (from posthog<3.0.0,>=1.4.0->datapane>=0.9.1->polly-python==0.3.1-validation) (2.2.1)\n",
            "Requirement already satisfied: iniconfig in /usr/local/lib/python3.10/site-packages (from pytest>=3.0.0->polly-python==0.3.1-validation) (2.0.0)\n",
            "Requirement already satisfied: tomli>=1.0.0 in /usr/local/lib/python3.10/site-packages (from pytest>=3.0.0->polly-python==0.3.1-validation) (2.0.1)\n",
            "Requirement already satisfied: exceptiongroup>=1.0.0rc8 in /usr/local/lib/python3.10/site-packages (from pytest>=3.0.0->polly-python==0.3.1-validation) (1.1.1)\n",
            "Requirement already satisfied: pluggy<2.0,>=0.12 in /usr/local/lib/python3.10/site-packages (from pytest>=3.0.0->polly-python==0.3.1-validation) (1.0.0)\n",
            "Requirement already satisfied: pyasn1 in /usr/local/lib/python3.10/site-packages (from python-jose>=3.3.0->polly-python==0.3.1-validation) (0.4.8)\n",
            "Requirement already satisfied: rsa in /usr/local/lib/python3.10/site-packages (from python-jose>=3.3.0->polly-python==0.3.1-validation) (4.7.2)\n",
            "Requirement already satisfied: ecdsa!=0.15 in /usr/local/lib/python3.10/site-packages (from python-jose>=3.3.0->polly-python==0.3.1-validation) (0.18.0)\n",
            "Requirement already satisfied: certifi>=2017.4.17 in /usr/local/lib/python3.10/site-packages (from requests>=2.25.1->polly-python==0.3.1-validation) (2021.5.30)\n",
            "Requirement already satisfied: idna<3,>=2.5 in /usr/local/lib/python3.10/site-packages (from requests>=2.25.1->polly-python==0.3.1-validation) (2.10)\n",
            "Requirement already satisfied: docutils>=0.11 in /usr/local/lib/python3.10/site-packages (from rst2txt>=1.1.0->polly-python==0.3.1-validation) (0.15.2)\n",
            "Requirement already satisfied: soupsieve>1.2 in /usr/local/lib/python3.10/site-packages (from beautifulsoup4->polly-python==0.3.1-validation) (2.4.1)\n",
            "Requirement already satisfied: webencodings in /usr/local/lib/python3.10/site-packages (from bleach->nbconvert>=5.6.1->datapane>=0.9.1->polly-python==0.3.1-validation) (0.5.1)\n",
            "Requirement already satisfied: matplotlib-inline>=0.1 in /usr/local/lib/python3.10/site-packages (from ipykernel->ipynbname<2022.0.0,>=2021.3.2->datapane>=0.9.1->polly-python==0.3.1-validation) (0.1.3)\n",
            "Requirement already satisfied: ipython>=7.23.1 in /usr/local/lib/python3.10/site-packages (from ipykernel->ipynbname<2022.0.0,>=2021.3.2->datapane>=0.9.1->polly-python==0.3.1-validation) (8.2.0)\n",
            "Requirement already satisfied: debugpy>=1.0 in /usr/local/lib/python3.10/site-packages (from ipykernel->ipynbname<2022.0.0,>=2021.3.2->datapane>=0.9.1->polly-python==0.3.1-validation) (1.6.7)\n",
            "Requirement already satisfied: psutil in /usr/local/lib/python3.10/site-packages (from ipykernel->ipynbname<2022.0.0,>=2021.3.2->datapane>=0.9.1->polly-python==0.3.1-validation) (5.9.5)\n",
            "Requirement already satisfied: pickleshare in /usr/local/lib/python3.10/site-packages (from ipython>=7.23.1->ipykernel->ipynbname<2022.0.0,>=2021.3.2->datapane>=0.9.1->polly-python==0.3.1-validation) (0.7.5)\n",
            "Requirement already satisfied: pexpect>4.3 in /usr/local/lib/python3.10/site-packages (from ipython>=7.23.1->ipykernel->ipynbname<2022.0.0,>=2021.3.2->datapane>=0.9.1->polly-python==0.3.1-validation) (4.8.0)\n",
            "Requirement already satisfied: stack-data in /usr/local/lib/python3.10/site-packages (from ipython>=7.23.1->ipykernel->ipynbname<2022.0.0,>=2021.3.2->datapane>=0.9.1->polly-python==0.3.1-validation) (0.6.2)\n",
            "Requirement already satisfied: prompt-toolkit!=3.0.0,!=3.0.1,<3.1.0,>=2.0.0 in /usr/local/lib/python3.10/site-packages (from ipython>=7.23.1->ipykernel->ipynbname<2022.0.0,>=2021.3.2->datapane>=0.9.1->polly-python==0.3.1-validation) (3.0.22)\n",
            "Requirement already satisfied: decorator in /usr/local/lib/python3.10/site-packages (from ipython>=7.23.1->ipykernel->ipynbname<2022.0.0,>=2021.3.2->datapane>=0.9.1->polly-python==0.3.1-validation) (5.1.0)\n",
            "Requirement already satisfied: backcall in /usr/local/lib/python3.10/site-packages (from ipython>=7.23.1->ipykernel->ipynbname<2022.0.0,>=2021.3.2->datapane>=0.9.1->polly-python==0.3.1-validation) (0.2.0)\n"
          ]
        },
        {
          "name": "stdout",
          "output_type": "stream",
          "text": [
            "Requirement already satisfied: setuptools>=18.5 in /usr/local/lib/python3.10/site-packages (from ipython>=7.23.1->ipykernel->ipynbname<2022.0.0,>=2021.3.2->datapane>=0.9.1->polly-python==0.3.1-validation) (58.1.0)\n",
            "Requirement already satisfied: jedi>=0.16 in /usr/local/lib/python3.10/site-packages (from ipython>=7.23.1->ipykernel->ipynbname<2022.0.0,>=2021.3.2->datapane>=0.9.1->polly-python==0.3.1-validation) (0.18.1)\n",
            "Requirement already satisfied: parso<0.9.0,>=0.8.0 in /usr/local/lib/python3.10/site-packages (from jedi>=0.16->ipython>=7.23.1->ipykernel->ipynbname<2022.0.0,>=2021.3.2->datapane>=0.9.1->polly-python==0.3.1-validation) (0.8.2)\n",
            "Requirement already satisfied: ptyprocess>=0.5 in /usr/local/lib/python3.10/site-packages (from pexpect>4.3->ipython>=7.23.1->ipykernel->ipynbname<2022.0.0,>=2021.3.2->datapane>=0.9.1->polly-python==0.3.1-validation) (0.7.0)\n",
            "Requirement already satisfied: wcwidth in /usr/local/lib/python3.10/site-packages (from prompt-toolkit!=3.0.0,!=3.0.1,<3.1.0,>=2.0.0->ipython>=7.23.1->ipykernel->ipynbname<2022.0.0,>=2021.3.2->datapane>=0.9.1->polly-python==0.3.1-validation) (0.2.5)\n",
            "Requirement already satisfied: asttokens>=2.1.0 in /usr/local/lib/python3.10/site-packages (from stack-data->ipython>=7.23.1->ipykernel->ipynbname<2022.0.0,>=2021.3.2->datapane>=0.9.1->polly-python==0.3.1-validation) (2.2.1)\n",
            "Requirement already satisfied: pure-eval in /usr/local/lib/python3.10/site-packages (from stack-data->ipython>=7.23.1->ipykernel->ipynbname<2022.0.0,>=2021.3.2->datapane>=0.9.1->polly-python==0.3.1-validation) (0.2.2)\n",
            "Requirement already satisfied: executing>=1.2.0 in /usr/local/lib/python3.10/site-packages (from stack-data->ipython>=7.23.1->ipykernel->ipynbname<2022.0.0,>=2021.3.2->datapane>=0.9.1->polly-python==0.3.1-validation) (1.2.0)\n",
            "Installing collected packages: polly-python\n",
            "  Attempting uninstall: polly-python\n",
            "    Found existing installation: polly-python 0.3.0\n",
            "    Uninstalling polly-python-0.3.0:\n",
            "      Successfully uninstalled polly-python-0.3.0\n",
            "Successfully installed polly-python-0.3.1\n",
            "\u001b[33mWARNING: Running pip as the 'root' user can result in broken permissions and conflicting behaviour with the system package manager. It is recommended to use a virtual environment instead: https://pip.pypa.io/warnings/venv\u001b[0m\n",
            "\u001b[33mWARNING: You are using pip version 21.2.4; however, version 23.1.2 is available.\n",
            "You should consider upgrading via the '/usr/local/bin/python3.10 -m pip install --upgrade pip' command.\u001b[0m\n"
          ]
        }
      ],
      "source": [
        "!sudo pip3 install https://elucidatainc.github.io/PublicAssets/builds/polly-python/tests/testpolly/polly_python-0.3.1_validation-py3-none-any.whl\n"
      ]
    },
    {
      "cell_type": "code",
      "execution_count": 3,
      "metadata": {},
      "outputs": [
        {
          "name": "stdout",
          "output_type": "stream",
          "text": [
            "/bin/bash: warning: setlocale: LC_ALL: cannot change locale (en_US.UTF-8)\n",
            "Collecting polly-validator==0.0.2\n",
            "  Downloading https://elucidatainc.github.io/PublicAssets/builds/polly_validator-0.0.2-py3-none-any.whl (24 kB)\n",
            "Requirement already satisfied: pandas in /usr/local/lib/python3.10/site-packages (from polly-validator==0.0.2) (1.4.1)\n",
            "Requirement already satisfied: appdirs==1.4.4 in /usr/local/lib/python3.10/site-packages (from polly-validator==0.0.2) (1.4.4)\n",
            "Requirement already satisfied: rapidfuzz==2.1.1 in /usr/local/lib/python3.10/site-packages (from polly-validator==0.0.2) (2.1.1)\n",
            "Requirement already satisfied: pydantic in /usr/local/lib/python3.10/site-packages (from polly-validator==0.0.2) (1.10.7)\n",
            "Requirement already satisfied: pronto in /usr/local/lib/python3.10/site-packages (from polly-validator==0.0.2) (2.5.1)\n",
            "Requirement already satisfied: tabulate==0.8.10 in /usr/local/lib/python3.10/site-packages (from polly-validator==0.0.2) (0.8.10)\n",
            "Requirement already satisfied: requests==2.25.1 in /usr/local/lib/python3.10/site-packages (from polly-validator==0.0.2) (2.25.1)\n",
            "Requirement already satisfied: jarowinkler<1.1.0,>=1.0.3 in /usr/local/lib/python3.10/site-packages (from rapidfuzz==2.1.1->polly-validator==0.0.2) (1.0.5)\n",
            "Requirement already satisfied: idna<3,>=2.5 in /usr/local/lib/python3.10/site-packages (from requests==2.25.1->polly-validator==0.0.2) (2.10)\n",
            "Requirement already satisfied: urllib3<1.27,>=1.21.1 in /usr/local/lib/python3.10/site-packages (from requests==2.25.1->polly-validator==0.0.2) (1.26.6)\n",
            "Requirement already satisfied: chardet<5,>=3.0.2 in /usr/local/lib/python3.10/site-packages (from requests==2.25.1->polly-validator==0.0.2) (4.0.0)\n",
            "Requirement already satisfied: certifi>=2017.4.17 in /usr/local/lib/python3.10/site-packages (from requests==2.25.1->polly-validator==0.0.2) (2021.5.30)\n",
            "Requirement already satisfied: pytz>=2020.1 in /usr/local/lib/python3.10/site-packages (from pandas->polly-validator==0.0.2) (2021.3)\n",
            "Requirement already satisfied: python-dateutil>=2.8.1 in /usr/local/lib/python3.10/site-packages (from pandas->polly-validator==0.0.2) (2.8.1)\n",
            "Requirement already satisfied: numpy>=1.21.0 in /usr/local/lib/python3.10/site-packages (from pandas->polly-validator==0.0.2) (1.22.3)\n",
            "Requirement already satisfied: six>=1.5 in /usr/local/lib/python3.10/site-packages (from python-dateutil>=2.8.1->pandas->polly-validator==0.0.2) (1.16.0)\n",
            "Requirement already satisfied: networkx~=2.3 in /usr/local/lib/python3.10/site-packages (from pronto->polly-validator==0.0.2) (2.8.8)\n",
            "Requirement already satisfied: fastobo~=0.12.1 in /usr/local/lib/python3.10/site-packages (from pronto->polly-validator==0.0.2) (0.12.2)\n",
            "Requirement already satisfied: typing-extensions>=4.2.0 in /usr/local/lib/python3.10/site-packages (from pydantic->polly-validator==0.0.2) (4.5.0)\n",
            "Installing collected packages: polly-validator\n",
            "  Attempting uninstall: polly-validator\n",
            "    Found existing installation: polly-validator 0.0.1\n",
            "    Uninstalling polly-validator-0.0.1:\n",
            "      Successfully uninstalled polly-validator-0.0.1\n",
            "Successfully installed polly-validator-0.0.2\n",
            "\u001b[33mWARNING: Running pip as the 'root' user can result in broken permissions and conflicting behaviour with the system package manager. It is recommended to use a virtual environment instead: https://pip.pypa.io/warnings/venv\u001b[0m\n",
            "\u001b[33mWARNING: You are using pip version 21.2.4; however, version 23.1.2 is available.\n",
            "You should consider upgrading via the '/usr/local/bin/python3.10 -m pip install --upgrade pip' command.\u001b[0m\n"
          ]
        }
      ],
      "source": [
        "# download validation library -> not published till now this version -> that is why downloading seperately\n",
        "!sudo pip3 install https://elucidatainc.github.io/PublicAssets/builds/polly_validator-0.0.2-py3-none-any.whl"
      ]
    },
    {
      "cell_type": "code",
      "execution_count": 4,
      "metadata": {},
      "outputs": [],
      "source": [
        "import os\n",
        "from polly.auth import Polly\n",
        "AUTH_TOKEN=(os.environ['POLLY_REFRESH_TOKEN']) # Obtain authentication tokens\n",
        "Polly.auth(AUTH_TOKEN)"
      ]
    },
    {
      "cell_type": "code",
      "execution_count": 5,
      "metadata": {},
      "outputs": [
        {
          "name": "stdout",
          "output_type": "stream",
          "text": [
            "/bin/bash: warning: setlocale: LC_ALL: cannot change locale (en_US.UTF-8)\n",
            "\u001b7\u001b[?7l\u001b[1Gprogress [░░░░░░░░░░░░░░░░░░░░░░░░░░░░░░░░░░░░░░░░] 0% | NA | ETA: 0s | time elapsed: 0s\u001b[0K\u001b[1Gprogress [████████████████████████████████████████] 100% | 8.633 KB/8.633 KB | ETA: 0s | time elapsed: 0s\u001b[0K\u001b[?7h\u001b8\n",
            "\u001b[32m\u001b[1mSuccess: Sync complete\u001b[22m\u001b[39m\n"
          ]
        }
      ],
      "source": [
        "!polly files sync -s \"polly://metadata/\" -d \"metadata/\" -y\n"
      ]
    },
    {
      "cell_type": "code",
      "execution_count": 6,
      "metadata": {},
      "outputs": [
        {
          "name": "stdout",
          "output_type": "stream",
          "text": [
            "/bin/bash: warning: setlocale: LC_ALL: cannot change locale (en_US.UTF-8)\n",
            "\u001b7\u001b[?7l\u001b[1Gprogress [░░░░░░░░░░░░░░░░░░░░░░░░░░░░░░░░░░░░░░░░] 0% | NA | ETA: 0s | time elapsed: 0s\u001b[0K\u001b[1Gprogress [██████████████████████████████░░░░░░░░░░] 75% | 100.361 KB/133.591 KB | ETA: 1s | time elapsed: 0s\u001b[0K\u001b[1Gprogress [████████████████████████████████████████] 100% | 133.591 KB/133.591 KB | ETA: 0s | time elapsed: 0s\u001b[0K\u001b[?7h\u001b8\n",
            "\u001b[32m\u001b[1mSuccess: Sync complete\u001b[22m\u001b[39m\n"
          ]
        }
      ],
      "source": [
        "!polly files sync -s \"polly://data/\" -d \"data/\" -y\n"
      ]
    },
    {
      "cell_type": "code",
      "execution_count": 7,
      "metadata": {},
      "outputs": [
        {
          "name": "stdout",
          "output_type": "stream",
          "text": [
            "Retrieving ontological names...\n"
          ]
        },
        {
          "name": "stderr",
          "output_type": "stream",
          "text": [
            "/usr/local/lib/python3.10/site-packages/polly_validator/downloader/get_valid_names.py:46: UnicodeWarning: unsound encoding, assuming utf-8 (99% confidence)\n",
            "  diseases = pt.Ontology(f'https://raw.githubusercontent.com/bioinfo-el/ontologies/'\n"
          ]
        },
        {
          "name": "stdout",
          "output_type": "stream",
          "text": [
            "Getting predefined values for Data Type and Data Source...\n",
            "Retrieved Valid Data Types\n",
            "Retrieved Valid Data Sources\n"
          ]
        }
      ],
      "source": [
        "from polly.validation import Validation\n",
        "validation = Validation()"
      ]
    },
    {
      "cell_type": "code",
      "execution_count": 9,
      "metadata": {},
      "outputs": [],
      "source": [
        "source_folder_path_data = \"/import/data\"\n",
        "source_folder_metadata = \"/import/metadata\"\n",
        "source_folder_path = {\"data\":source_folder_path_data, \"metadata\":source_folder_metadata}"
      ]
    },
    {
      "cell_type": "code",
      "execution_count": 10,
      "metadata": {},
      "outputs": [
        {
          "name": "stderr",
          "output_type": "stream",
          "text": [
            "Combining Metadata Files for Validation: 100%|██████████| 4/4 [00:00<00:00, 6618.23it/s]\n"
          ]
        },
        {
          "name": "stdout",
          "output_type": "stream",
          "text": [
            "╒════╤═════════════════════════════════════╤═══════════════╤══════════════════╤══════════════════════════════╤════════╕\n",
            "│    │ dataset_id                          │ Field         │ Original Name    │ Error Message                │   Repo │\n",
            "╞════╪═════════════════════════════════════╪═══════════════╪══════════════════╪══════════════════════════════╪════════╡\n",
            "│  0 │ ACBC_MSKCC_2015_Copy_Number_AdCC11T │ year          │ year             │ field required               │     31 │\n",
            "├────┼─────────────────────────────────────┼───────────────┼──────────────────┼──────────────────────────────┼────────┤\n",
            "│  1 │ ACBC_MSKCC_2015_Copy_Number_AdCC11T │ sample_type   │ sample_type      │ field required               │     31 │\n",
            "├────┼─────────────────────────────────────┼───────────────┼──────────────────┼──────────────────────────────┼────────┤\n",
            "│  2 │ ACBC_MSKCC_2015_Copy_Number_AdCC11T │ platform      │ platform         │ field required               │     31 │\n",
            "├────┼─────────────────────────────────────┼───────────────┼──────────────────┼──────────────────────────────┼────────┤\n",
            "│  3 │ ACBC_MSKCC_2015_Copy_Number_AdCC11T │ donor_age     │ donor_age        │ field required               │     31 │\n",
            "├────┼─────────────────────────────────────┼───────────────┼──────────────────┼──────────────────────────────┼────────┤\n",
            "│  4 │ ACBC_MSKCC_2015_Copy_Number_AdCC11T │ timestamp_    │ kw_timestamp_    │ str type expected            │     31 │\n",
            "├────┼─────────────────────────────────────┼───────────────┼──────────────────┼──────────────────────────────┼────────┤\n",
            "│  5 │ ACBC_MSKCC_2015_Copy_Number_AdCC11T │ donor_sex     │ donor_sex        │ field required               │     31 │\n",
            "├────┼─────────────────────────────────────┼───────────────┼──────────────────┼──────────────────────────────┼────────┤\n",
            "│  6 │ ACBC_MSKCC_2015_Copy_Number_AdCC11T │ gene          │ kw_gene          │ field required               │     31 │\n",
            "├────┼─────────────────────────────────────┼───────────────┼──────────────────┼──────────────────────────────┼────────┤\n",
            "│  7 │ ACBC_MSKCC_2015_Copy_Number_AdCC11T │ gene_knockout │ kw_gene_knockout │ field required               │     31 │\n",
            "├────┼─────────────────────────────────────┼───────────────┼──────────────────┼──────────────────────────────┼────────┤\n",
            "│  8 │ ACBC_MSKCC_2015_Copy_Number_AdCC11T │ is_current    │ is_current       │ str type expected            │     31 │\n",
            "├────┼─────────────────────────────────────┼───────────────┼──────────────────┼──────────────────────────────┼────────┤\n",
            "│  9 │ ACBC_MSKCC_2015_Copy_Number_AdCC11T │ operation     │ operation        │ none is not an allowed value │     31 │\n",
            "╘════╧═════════════════════════════════════╧═══════════════╧══════════════════╧══════════════════════════════╧════════╛\n",
            "╒════╤════════════════════════════════════╤═════════════════╤══════════════════╤═══════════════════════════════════════════════════════════════════════════════════════════════╤════════╕\n",
            "│    │ dataset_id                         │ Field           │ Original Name    │ Error Message                                                                                 │   Repo │\n",
            "╞════╪════════════════════════════════════╪═════════════════╪══════════════════╪═══════════════════════════════════════════════════════════════════════════════════════════════╪════════╡\n",
            "│  0 │ ACBC_MSKCC_2015_Copy_Number_AdCC1T │ year            │ year             │ field required                                                                                │     31 │\n",
            "├────┼────────────────────────────────────┼─────────────────┼──────────────────┼───────────────────────────────────────────────────────────────────────────────────────────────┼────────┤\n",
            "│  1 │ ACBC_MSKCC_2015_Copy_Number_AdCC1T │ sample_type     │ sample_type      │ field required                                                                                │     31 │\n",
            "├────┼────────────────────────────────────┼─────────────────┼──────────────────┼───────────────────────────────────────────────────────────────────────────────────────────────┼────────┤\n",
            "│  2 │ ACBC_MSKCC_2015_Copy_Number_AdCC1T │ platform        │ platform         │ field required                                                                                │     31 │\n",
            "├────┼────────────────────────────────────┼─────────────────┼──────────────────┼───────────────────────────────────────────────────────────────────────────────────────────────┼────────┤\n",
            "│  3 │ ACBC_MSKCC_2015_Copy_Number_AdCC1T │ donor_age       │ donor_age        │ field required                                                                                │     31 │\n",
            "├────┼────────────────────────────────────┼─────────────────┼──────────────────┼───────────────────────────────────────────────────────────────────────────────────────────────┼────────┤\n",
            "│  4 │ ACBC_MSKCC_2015_Copy_Number_AdCC1T │ timestamp_      │ kw_timestamp_    │ str type expected                                                                             │     31 │\n",
            "├────┼────────────────────────────────────┼─────────────────┼──────────────────┼───────────────────────────────────────────────────────────────────────────────────────────────┼────────┤\n",
            "│  5 │ ACBC_MSKCC_2015_Copy_Number_AdCC1T │ donor_sex       │ donor_sex        │ field required                                                                                │     31 │\n",
            "├────┼────────────────────────────────────┼─────────────────┼──────────────────┼───────────────────────────────────────────────────────────────────────────────────────────────┼────────┤\n",
            "│  6 │ ACBC_MSKCC_2015_Copy_Number_AdCC1T │ gene            │ kw_gene          │ field required                                                                                │     31 │\n",
            "├────┼────────────────────────────────────┼─────────────────┼──────────────────┼───────────────────────────────────────────────────────────────────────────────────────────────┼────────┤\n",
            "│  7 │ ACBC_MSKCC_2015_Copy_Number_AdCC1T │ gene_knockout   │ kw_gene_knockout │ field required                                                                                │     31 │\n",
            "├────┼────────────────────────────────────┼─────────────────┼──────────────────┼───────────────────────────────────────────────────────────────────────────────────────────────┼────────┤\n",
            "│  8 │ ACBC_MSKCC_2015_Copy_Number_AdCC1T │ is_current      │ is_current       │ str type expected                                                                             │     31 │\n",
            "├────┼────────────────────────────────────┼─────────────────┼──────────────────┼───────────────────────────────────────────────────────────────────────────────────────────────┼────────┤\n",
            "│  9 │ ACBC_MSKCC_2015_Copy_Number_AdCC1T │ operation       │ operation        │ none is not an allowed value                                                                  │     31 │\n",
            "├────┼────────────────────────────────────┼─────────────────┼──────────────────┼───────────────────────────────────────────────────────────────────────────────────────────────┼────────┤\n",
            "│ 10 │ ACBC_MSKCC_2015_Copy_Number_AdCC1T │ curated_disease │ disease          │ Ontological Validity Check | Invalid Value | Erroneous Value: \"Adenoid Cystic Breast Cancer\"  │     31 │\n",
            "├────┼────────────────────────────────────┼─────────────────┼──────────────────┼───────────────────────────────────────────────────────────────────────────────────────────────┼────────┤\n",
            "│ 11 │ ACBC_MSKCC_2015_Copy_Number_AdCC1T │ dataset_source  │ dataset_source   │ Value Check | Invalid value, not one of the predefined values | Erroneous Value: \"cBioPortal\" │     31 │\n",
            "╘════╧════════════════════════════════════╧═════════════════╧══════════════════╧═══════════════════════════════════════════════════════════════════════════════════════════════╧════════╛\n"
          ]
        },
        {
          "name": "stderr",
          "output_type": "stream",
          "text": [
            "Generating Status File of Validation: 100%|██████████| 4/4 [00:00<00:00, 6729.73it/s]"
          ]
        },
        {
          "name": "stdout",
          "output_type": "stream",
          "text": [
            "----------res-----------\n",
            "(                             dataset_id            Field     Original Name  \\\n",
            "0   ACBC_MSKCC_2015_Copy_Number_AdCC11T             year              year   \n",
            "1   ACBC_MSKCC_2015_Copy_Number_AdCC11T      sample_type       sample_type   \n",
            "2   ACBC_MSKCC_2015_Copy_Number_AdCC11T         platform          platform   \n",
            "3   ACBC_MSKCC_2015_Copy_Number_AdCC11T        donor_age         donor_age   \n",
            "4   ACBC_MSKCC_2015_Copy_Number_AdCC11T       timestamp_     kw_timestamp_   \n",
            "5   ACBC_MSKCC_2015_Copy_Number_AdCC11T        donor_sex         donor_sex   \n",
            "6   ACBC_MSKCC_2015_Copy_Number_AdCC11T             gene           kw_gene   \n",
            "7   ACBC_MSKCC_2015_Copy_Number_AdCC11T    gene_knockout  kw_gene_knockout   \n",
            "8   ACBC_MSKCC_2015_Copy_Number_AdCC11T       is_current        is_current   \n",
            "9   ACBC_MSKCC_2015_Copy_Number_AdCC11T        operation         operation   \n",
            "10   ACBC_MSKCC_2015_Copy_Number_AdCC1T             year              year   \n",
            "11   ACBC_MSKCC_2015_Copy_Number_AdCC1T      sample_type       sample_type   \n",
            "12   ACBC_MSKCC_2015_Copy_Number_AdCC1T         platform          platform   \n",
            "13   ACBC_MSKCC_2015_Copy_Number_AdCC1T        donor_age         donor_age   \n",
            "14   ACBC_MSKCC_2015_Copy_Number_AdCC1T       timestamp_     kw_timestamp_   \n",
            "15   ACBC_MSKCC_2015_Copy_Number_AdCC1T        donor_sex         donor_sex   \n",
            "16   ACBC_MSKCC_2015_Copy_Number_AdCC1T             gene           kw_gene   \n",
            "17   ACBC_MSKCC_2015_Copy_Number_AdCC1T    gene_knockout  kw_gene_knockout   \n",
            "18   ACBC_MSKCC_2015_Copy_Number_AdCC1T       is_current        is_current   \n",
            "19   ACBC_MSKCC_2015_Copy_Number_AdCC1T        operation         operation   \n",
            "20   ACBC_MSKCC_2015_Copy_Number_AdCC1T  curated_disease           disease   \n",
            "21   ACBC_MSKCC_2015_Copy_Number_AdCC1T   dataset_source    dataset_source   \n",
            "\n",
            "                                        Error Message Repo  \n",
            "0                                      field required   31  \n",
            "1                                      field required   31  \n",
            "2                                      field required   31  \n",
            "3                                      field required   31  \n",
            "4                                   str type expected   31  \n",
            "5                                      field required   31  \n",
            "6                                      field required   31  \n",
            "7                                      field required   31  \n",
            "8                                   str type expected   31  \n",
            "9                        none is not an allowed value   31  \n",
            "10                                     field required   31  \n",
            "11                                     field required   31  \n",
            "12                                     field required   31  \n",
            "13                                     field required   31  \n",
            "14                                  str type expected   31  \n",
            "15                                     field required   31  \n",
            "16                                     field required   31  \n",
            "17                                     field required   31  \n",
            "18                                  str type expected   31  \n",
            "19                       none is not an allowed value   31  \n",
            "20  Ontological Validity Check | Invalid Value | E...   31  \n",
            "21  Value Check | Invalid value, not one of the pr...   31  , {'ACBC_MSKCC_2015_Copy_Number_AdCC11T': False, 'ACBC_MSKCC_2015_Copy_Number_AdCC1T': False})\n"
          ]
        },
        {
          "name": "stderr",
          "output_type": "stream",
          "text": [
            "\n"
          ]
        }
      ],
      "source": [
        "# Case 1 -> Default Case -> No source and datatype needed\n",
        "# lincs repo\n",
        "\n",
        "repo_id = 31\n",
        "res = validation.validate_datasets(repo_id, source_folder_path)\n",
        "print(\"----------res-----------\")\n",
        "print(res)"
      ]
    },
    {
      "cell_type": "code",
      "execution_count": 11,
      "metadata": {},
      "outputs": [
        {
          "name": "stderr",
          "output_type": "stream",
          "text": [
            "Combining Metadata Files for Validation: 100%|██████████| 4/4 [00:00<00:00, 7064.09it/s]\n"
          ]
        },
        {
          "name": "stdout",
          "output_type": "stream",
          "text": [
            "╒════╤═════════════════════════════════════╤═══════════════╤══════════════════╤══════════════════════════════╤════════╕\n",
            "│    │ dataset_id                          │ Field         │ Original Name    │ Error Message                │   Repo │\n",
            "╞════╪═════════════════════════════════════╪═══════════════╪══════════════════╪══════════════════════════════╪════════╡\n",
            "│  0 │ ACBC_MSKCC_2015_Copy_Number_AdCC11T │ year          │ year             │ field required               │     31 │\n",
            "├────┼─────────────────────────────────────┼───────────────┼──────────────────┼──────────────────────────────┼────────┤\n",
            "│  1 │ ACBC_MSKCC_2015_Copy_Number_AdCC11T │ sample_type   │ sample_type      │ field required               │     31 │\n",
            "├────┼─────────────────────────────────────┼───────────────┼──────────────────┼──────────────────────────────┼────────┤\n",
            "│  2 │ ACBC_MSKCC_2015_Copy_Number_AdCC11T │ platform      │ platform         │ field required               │     31 │\n",
            "├────┼─────────────────────────────────────┼───────────────┼──────────────────┼──────────────────────────────┼────────┤\n",
            "│  3 │ ACBC_MSKCC_2015_Copy_Number_AdCC11T │ donor_age     │ donor_age        │ field required               │     31 │\n",
            "├────┼─────────────────────────────────────┼───────────────┼──────────────────┼──────────────────────────────┼────────┤\n",
            "│  4 │ ACBC_MSKCC_2015_Copy_Number_AdCC11T │ timestamp_    │ kw_timestamp_    │ str type expected            │     31 │\n",
            "├────┼─────────────────────────────────────┼───────────────┼──────────────────┼──────────────────────────────┼────────┤\n",
            "│  5 │ ACBC_MSKCC_2015_Copy_Number_AdCC11T │ donor_sex     │ donor_sex        │ field required               │     31 │\n",
            "├────┼─────────────────────────────────────┼───────────────┼──────────────────┼──────────────────────────────┼────────┤\n",
            "│  6 │ ACBC_MSKCC_2015_Copy_Number_AdCC11T │ gene          │ kw_gene          │ field required               │     31 │\n",
            "├────┼─────────────────────────────────────┼───────────────┼──────────────────┼──────────────────────────────┼────────┤\n",
            "│  7 │ ACBC_MSKCC_2015_Copy_Number_AdCC11T │ gene_knockout │ kw_gene_knockout │ field required               │     31 │\n",
            "├────┼─────────────────────────────────────┼───────────────┼──────────────────┼──────────────────────────────┼────────┤\n",
            "│  8 │ ACBC_MSKCC_2015_Copy_Number_AdCC11T │ is_current    │ is_current       │ str type expected            │     31 │\n",
            "├────┼─────────────────────────────────────┼───────────────┼──────────────────┼──────────────────────────────┼────────┤\n",
            "│  9 │ ACBC_MSKCC_2015_Copy_Number_AdCC11T │ operation     │ operation        │ none is not an allowed value │     31 │\n",
            "╘════╧═════════════════════════════════════╧═══════════════╧══════════════════╧══════════════════════════════╧════════╛\n",
            "╒════╤════════════════════════════════════╤═════════════════╤══════════════════╤═══════════════════════════════════════════════════════════════════════════════════════════════╤════════╕\n",
            "│    │ dataset_id                         │ Field           │ Original Name    │ Error Message                                                                                 │   Repo │\n",
            "╞════╪════════════════════════════════════╪═════════════════╪══════════════════╪═══════════════════════════════════════════════════════════════════════════════════════════════╪════════╡\n",
            "│  0 │ ACBC_MSKCC_2015_Copy_Number_AdCC1T │ year            │ year             │ field required                                                                                │     31 │\n",
            "├────┼────────────────────────────────────┼─────────────────┼──────────────────┼───────────────────────────────────────────────────────────────────────────────────────────────┼────────┤\n",
            "│  1 │ ACBC_MSKCC_2015_Copy_Number_AdCC1T │ sample_type     │ sample_type      │ field required                                                                                │     31 │\n",
            "├────┼────────────────────────────────────┼─────────────────┼──────────────────┼───────────────────────────────────────────────────────────────────────────────────────────────┼────────┤\n",
            "│  2 │ ACBC_MSKCC_2015_Copy_Number_AdCC1T │ platform        │ platform         │ field required                                                                                │     31 │\n",
            "├────┼────────────────────────────────────┼─────────────────┼──────────────────┼───────────────────────────────────────────────────────────────────────────────────────────────┼────────┤\n",
            "│  3 │ ACBC_MSKCC_2015_Copy_Number_AdCC1T │ donor_age       │ donor_age        │ field required                                                                                │     31 │\n",
            "├────┼────────────────────────────────────┼─────────────────┼──────────────────┼───────────────────────────────────────────────────────────────────────────────────────────────┼────────┤\n",
            "│  4 │ ACBC_MSKCC_2015_Copy_Number_AdCC1T │ timestamp_      │ kw_timestamp_    │ str type expected                                                                             │     31 │\n",
            "├────┼────────────────────────────────────┼─────────────────┼──────────────────┼───────────────────────────────────────────────────────────────────────────────────────────────┼────────┤\n",
            "│  5 │ ACBC_MSKCC_2015_Copy_Number_AdCC1T │ donor_sex       │ donor_sex        │ field required                                                                                │     31 │\n",
            "├────┼────────────────────────────────────┼─────────────────┼──────────────────┼───────────────────────────────────────────────────────────────────────────────────────────────┼────────┤\n",
            "│  6 │ ACBC_MSKCC_2015_Copy_Number_AdCC1T │ gene            │ kw_gene          │ field required                                                                                │     31 │\n",
            "├────┼────────────────────────────────────┼─────────────────┼──────────────────┼───────────────────────────────────────────────────────────────────────────────────────────────┼────────┤\n",
            "│  7 │ ACBC_MSKCC_2015_Copy_Number_AdCC1T │ gene_knockout   │ kw_gene_knockout │ field required                                                                                │     31 │\n",
            "├────┼────────────────────────────────────┼─────────────────┼──────────────────┼───────────────────────────────────────────────────────────────────────────────────────────────┼────────┤\n",
            "│  8 │ ACBC_MSKCC_2015_Copy_Number_AdCC1T │ is_current      │ is_current       │ str type expected                                                                             │     31 │\n",
            "├────┼────────────────────────────────────┼─────────────────┼──────────────────┼───────────────────────────────────────────────────────────────────────────────────────────────┼────────┤\n",
            "│  9 │ ACBC_MSKCC_2015_Copy_Number_AdCC1T │ operation       │ operation        │ none is not an allowed value                                                                  │     31 │\n",
            "├────┼────────────────────────────────────┼─────────────────┼──────────────────┼───────────────────────────────────────────────────────────────────────────────────────────────┼────────┤\n",
            "│ 10 │ ACBC_MSKCC_2015_Copy_Number_AdCC1T │ curated_disease │ disease          │ Ontological Validity Check | Invalid Value | Erroneous Value: \"Adenoid Cystic Breast Cancer\"  │     31 │\n",
            "├────┼────────────────────────────────────┼─────────────────┼──────────────────┼───────────────────────────────────────────────────────────────────────────────────────────────┼────────┤\n",
            "│ 11 │ ACBC_MSKCC_2015_Copy_Number_AdCC1T │ dataset_source  │ dataset_source   │ Value Check | Invalid value, not one of the predefined values | Erroneous Value: \"cBioPortal\" │     31 │\n",
            "╘════╧════════════════════════════════════╧═════════════════╧══════════════════╧═══════════════════════════════════════════════════════════════════════════════════════════════╧════════╛\n"
          ]
        },
        {
          "name": "stderr",
          "output_type": "stream",
          "text": [
            "Generating Status File of Validation: 100%|██████████| 4/4 [00:00<00:00, 3580.29it/s]"
          ]
        },
        {
          "name": "stdout",
          "output_type": "stream",
          "text": [
            "----------error df-----------\n",
            "                             dataset_id            Field     Original Name  \\\n",
            "0   ACBC_MSKCC_2015_Copy_Number_AdCC11T             year              year   \n",
            "1   ACBC_MSKCC_2015_Copy_Number_AdCC11T      sample_type       sample_type   \n",
            "2   ACBC_MSKCC_2015_Copy_Number_AdCC11T         platform          platform   \n",
            "3   ACBC_MSKCC_2015_Copy_Number_AdCC11T        donor_age         donor_age   \n",
            "4   ACBC_MSKCC_2015_Copy_Number_AdCC11T       timestamp_     kw_timestamp_   \n",
            "5   ACBC_MSKCC_2015_Copy_Number_AdCC11T        donor_sex         donor_sex   \n",
            "6   ACBC_MSKCC_2015_Copy_Number_AdCC11T             gene           kw_gene   \n",
            "7   ACBC_MSKCC_2015_Copy_Number_AdCC11T    gene_knockout  kw_gene_knockout   \n",
            "8   ACBC_MSKCC_2015_Copy_Number_AdCC11T       is_current        is_current   \n",
            "9   ACBC_MSKCC_2015_Copy_Number_AdCC11T        operation         operation   \n",
            "10   ACBC_MSKCC_2015_Copy_Number_AdCC1T             year              year   \n",
            "11   ACBC_MSKCC_2015_Copy_Number_AdCC1T      sample_type       sample_type   \n",
            "12   ACBC_MSKCC_2015_Copy_Number_AdCC1T         platform          platform   \n",
            "13   ACBC_MSKCC_2015_Copy_Number_AdCC1T        donor_age         donor_age   \n",
            "14   ACBC_MSKCC_2015_Copy_Number_AdCC1T       timestamp_     kw_timestamp_   \n",
            "15   ACBC_MSKCC_2015_Copy_Number_AdCC1T        donor_sex         donor_sex   \n",
            "16   ACBC_MSKCC_2015_Copy_Number_AdCC1T             gene           kw_gene   \n",
            "17   ACBC_MSKCC_2015_Copy_Number_AdCC1T    gene_knockout  kw_gene_knockout   \n",
            "18   ACBC_MSKCC_2015_Copy_Number_AdCC1T       is_current        is_current   \n",
            "19   ACBC_MSKCC_2015_Copy_Number_AdCC1T        operation         operation   \n",
            "20   ACBC_MSKCC_2015_Copy_Number_AdCC1T  curated_disease           disease   \n",
            "21   ACBC_MSKCC_2015_Copy_Number_AdCC1T   dataset_source    dataset_source   \n",
            "\n",
            "                                        Error Message Repo  \n",
            "0                                      field required   31  \n",
            "1                                      field required   31  \n",
            "2                                      field required   31  \n",
            "3                                      field required   31  \n",
            "4                                   str type expected   31  \n",
            "5                                      field required   31  \n",
            "6                                      field required   31  \n",
            "7                                      field required   31  \n",
            "8                                   str type expected   31  \n",
            "9                        none is not an allowed value   31  \n",
            "10                                     field required   31  \n",
            "11                                     field required   31  \n",
            "12                                     field required   31  \n",
            "13                                     field required   31  \n",
            "14                                  str type expected   31  \n",
            "15                                     field required   31  \n",
            "16                                     field required   31  \n",
            "17                                     field required   31  \n",
            "18                                  str type expected   31  \n",
            "19                       none is not an allowed value   31  \n",
            "20  Ontological Validity Check | Invalid Value | E...   31  \n",
            "21  Value Check | Invalid value, not one of the pr...   31  \n",
            "-----status dict------\n",
            "{'ACBC_MSKCC_2015_Copy_Number_AdCC11T': False, 'ACBC_MSKCC_2015_Copy_Number_AdCC1T': False}\n"
          ]
        },
        {
          "name": "stderr",
          "output_type": "stream",
          "text": [
            "\n"
          ]
        }
      ],
      "source": [
        "# Case 2 -> Single source and dp case -> Source and dp passed (Not necessary but passed)\n",
        "# right pair passed\n",
        "# lincs repo\n",
        "schema_config = {}\n",
        "schema_config[\"source\"] = \"all\"\n",
        "schema_config[\"datatype\"] = \"all\"\n",
        "\n",
        "repo_id = 31\n",
        "error_df, status_dict = validation.validate_datasets(repo_id, source_folder_path, schema_config)\n",
        "print(\"----------error df-----------\")\n",
        "print(error_df)\n",
        "\n",
        "print(\"-----status dict------\")\n",
        "print(status_dict)"
      ]
    },
    {
      "cell_type": "code",
      "execution_count": 12,
      "metadata": {},
      "outputs": [
        {
          "ename": "paramException",
          "evalue": "paramException (parameter error): schema does not exist for the combination of source: geo and datatype: all in the schema of repo_id: 31",
          "output_type": "error",
          "traceback": [
            "\u001b[0;31m---------------------------------------------------------------------------\u001b[0m",
            "\u001b[0;31mparamException\u001b[0m                            Traceback (most recent call last)",
            "Input \u001b[0;32mIn [12]\u001b[0m, in \u001b[0;36m<cell line: 9>\u001b[0;34m()\u001b[0m\n\u001b[1;32m      6\u001b[0m schema_config[\u001b[38;5;124m\"\u001b[39m\u001b[38;5;124mdatatype\u001b[39m\u001b[38;5;124m\"\u001b[39m] \u001b[38;5;241m=\u001b[39m \u001b[38;5;124m\"\u001b[39m\u001b[38;5;124mall\u001b[39m\u001b[38;5;124m\"\u001b[39m\n\u001b[1;32m      8\u001b[0m repo_id \u001b[38;5;241m=\u001b[39m \u001b[38;5;241m31\u001b[39m\n\u001b[0;32m----> 9\u001b[0m res \u001b[38;5;241m=\u001b[39m \u001b[43mvalidation\u001b[49m\u001b[38;5;241;43m.\u001b[39;49m\u001b[43mvalidate_datasets\u001b[49m\u001b[43m(\u001b[49m\u001b[43mrepo_id\u001b[49m\u001b[43m,\u001b[49m\u001b[43m \u001b[49m\u001b[43msource_folder_path\u001b[49m\u001b[43m,\u001b[49m\u001b[43m \u001b[49m\u001b[43mschema_config\u001b[49m\u001b[43m)\u001b[49m\n\u001b[1;32m     10\u001b[0m \u001b[38;5;28mprint\u001b[39m(\u001b[38;5;124m\"\u001b[39m\u001b[38;5;124m----------res-----------\u001b[39m\u001b[38;5;124m\"\u001b[39m)\n\u001b[1;32m     11\u001b[0m \u001b[38;5;28mprint\u001b[39m(res)\n",
            "File \u001b[0;32m/usr/local/lib/python3.10/site-packages/polly/validation.py:53\u001b[0m, in \u001b[0;36mValidation.validate_datasets\u001b[0;34m(self, repo_id, source_folder_path, schema_config)\u001b[0m\n\u001b[1;32m     49\u001b[0m     \u001b[38;5;28;01mreturn\u001b[39;00m \u001b[38;5;28mself\u001b[39m\u001b[38;5;241m.\u001b[39m_validate_dataset_level_metadata(\n\u001b[1;32m     50\u001b[0m         repo_id, source_folder_path, schema_config\n\u001b[1;32m     51\u001b[0m     )\n\u001b[1;32m     52\u001b[0m \u001b[38;5;28;01mexcept\u001b[39;00m \u001b[38;5;167;01mException\u001b[39;00m \u001b[38;5;28;01mas\u001b[39;00m err:\n\u001b[0;32m---> 53\u001b[0m     \u001b[38;5;28;01mraise\u001b[39;00m err\n",
            "File \u001b[0;32m/usr/local/lib/python3.10/site-packages/polly/validation.py:49\u001b[0m, in \u001b[0;36mValidation.validate_datasets\u001b[0;34m(self, repo_id, source_folder_path, schema_config)\u001b[0m\n\u001b[1;32m     45\u001b[0m     \u001b[38;5;28mself\u001b[39m\u001b[38;5;241m.\u001b[39m_check_validate_dataset_params(\n\u001b[1;32m     46\u001b[0m         repo_id, source_folder_path, schema_config\n\u001b[1;32m     47\u001b[0m     )\n\u001b[1;32m     48\u001b[0m     repo_id \u001b[38;5;241m=\u001b[39m helpers\u001b[38;5;241m.\u001b[39mmake_repo_id_string(repo_id)\n\u001b[0;32m---> 49\u001b[0m     \u001b[38;5;28;01mreturn\u001b[39;00m \u001b[38;5;28;43mself\u001b[39;49m\u001b[38;5;241;43m.\u001b[39;49m\u001b[43m_validate_dataset_level_metadata\u001b[49m\u001b[43m(\u001b[49m\n\u001b[1;32m     50\u001b[0m \u001b[43m        \u001b[49m\u001b[43mrepo_id\u001b[49m\u001b[43m,\u001b[49m\u001b[43m \u001b[49m\u001b[43msource_folder_path\u001b[49m\u001b[43m,\u001b[49m\u001b[43m \u001b[49m\u001b[43mschema_config\u001b[49m\n\u001b[1;32m     51\u001b[0m \u001b[43m    \u001b[49m\u001b[43m)\u001b[49m\n\u001b[1;32m     52\u001b[0m \u001b[38;5;28;01mexcept\u001b[39;00m \u001b[38;5;167;01mException\u001b[39;00m \u001b[38;5;28;01mas\u001b[39;00m err:\n\u001b[1;32m     53\u001b[0m     \u001b[38;5;28;01mraise\u001b[39;00m err\n",
            "File \u001b[0;32m/usr/local/lib/python3.10/site-packages/polly/validation.py:118\u001b[0m, in \u001b[0;36mValidation._validate_dataset_level_metadata\u001b[0;34m(self, repo_id, source_folder_path, schema_config)\u001b[0m\n\u001b[1;32m    116\u001b[0m         \u001b[38;5;28mprint\u001b[39m(const\u001b[38;5;241m.\u001b[39mVALIDATION_NOT_EXECUTED)\n\u001b[1;32m    117\u001b[0m \u001b[38;5;28;01mexcept\u001b[39;00m \u001b[38;5;167;01mException\u001b[39;00m \u001b[38;5;28;01mas\u001b[39;00m err:\n\u001b[0;32m--> 118\u001b[0m     \u001b[38;5;28;01mraise\u001b[39;00m err\n",
            "File \u001b[0;32m/usr/local/lib/python3.10/site-packages/polly/validation.py:92\u001b[0m, in \u001b[0;36mValidation._validate_dataset_level_metadata\u001b[0;34m(self, repo_id, source_folder_path, schema_config)\u001b[0m\n\u001b[1;32m     83\u001b[0m \u001b[38;5;66;03m# list of metadata files to validate\u001b[39;00m\n\u001b[1;32m     84\u001b[0m \u001b[38;5;66;03m# metadata files grouped in a list\u001b[39;00m\n\u001b[1;32m     85\u001b[0m \u001b[38;5;66;03m# grouping is done on validation level parameter\u001b[39;00m\n\u001b[1;32m     86\u001b[0m \u001b[38;5;28;01mtry\u001b[39;00m:\n\u001b[1;32m     87\u001b[0m     \u001b[38;5;66;03m# construct dataframe of schema for the repo\u001b[39;00m\n\u001b[1;32m     88\u001b[0m     \u001b[38;5;66;03m# formatted schema DF based on Input Required by Validation Lib\u001b[39;00m\n\u001b[1;32m     89\u001b[0m     \u001b[38;5;66;03m# Formatted DF has 2 rows -> Field Name and Type\u001b[39;00m\n\u001b[1;32m     90\u001b[0m     \u001b[38;5;66;03m# schema_df_dataset = self._construct_df_of_schema(repo_id)\u001b[39;00m\n\u001b[0;32m---> 92\u001b[0m     schema_dict \u001b[38;5;241m=\u001b[39m \u001b[43mvalidation_hlpr\u001b[49m\u001b[38;5;241;43m.\u001b[39;49m\u001b[43mget_dataset_level_schema\u001b[49m\u001b[43m(\u001b[49m\n\u001b[1;32m     93\u001b[0m \u001b[43m        \u001b[49m\u001b[43mrepo_id\u001b[49m\u001b[43m,\u001b[49m\u001b[43m \u001b[49m\u001b[43mschema_config\u001b[49m\n\u001b[1;32m     94\u001b[0m \u001b[43m    \u001b[49m\u001b[43m)\u001b[49m\n\u001b[1;32m     95\u001b[0m     combined_metadata \u001b[38;5;241m=\u001b[39m (\n\u001b[1;32m     96\u001b[0m         validation_hlpr\u001b[38;5;241m.\u001b[39mconstruct_combined_metadata_for_validation(\n\u001b[1;32m     97\u001b[0m             source_folder_path\n\u001b[1;32m     98\u001b[0m         )\n\u001b[1;32m     99\u001b[0m     )\n\u001b[1;32m    100\u001b[0m     \u001b[38;5;66;03m# Only run validation if there are files to be validated\u001b[39;00m\n",
            "File \u001b[0;32m/usr/local/lib/python3.10/site-packages/polly/validation_hlpr.py:78\u001b[0m, in \u001b[0;36mget_dataset_level_schema\u001b[0;34m(repo_id, schema_config)\u001b[0m\n\u001b[1;32m     76\u001b[0m source_datatype_schema \u001b[38;5;241m=\u001b[39m schema_dict_datasets\u001b[38;5;241m.\u001b[39mget(source, {})\u001b[38;5;241m.\u001b[39mget(datatype, {})\n\u001b[1;32m     77\u001b[0m \u001b[38;5;28;01mif\u001b[39;00m \u001b[38;5;129;01mnot\u001b[39;00m source_datatype_schema:\n\u001b[0;32m---> 78\u001b[0m     \u001b[38;5;28;01mraise\u001b[39;00m paramException(\n\u001b[1;32m     79\u001b[0m         title\u001b[38;5;241m=\u001b[39m\u001b[38;5;124m\"\u001b[39m\u001b[38;5;124mparam Error\u001b[39m\u001b[38;5;124m\"\u001b[39m,\n\u001b[1;32m     80\u001b[0m         detail\u001b[38;5;241m=\u001b[39m\u001b[38;5;124mf\u001b[39m\u001b[38;5;124m\"\u001b[39m\u001b[38;5;124mschema does not exist for the combination of source: \u001b[39m\u001b[38;5;132;01m{\u001b[39;00msource\u001b[38;5;132;01m}\u001b[39;00m\u001b[38;5;124m and \u001b[39m\u001b[38;5;124m\"\u001b[39m\n\u001b[1;32m     81\u001b[0m         \u001b[38;5;241m+\u001b[39m \u001b[38;5;124mf\u001b[39m\u001b[38;5;124m\"\u001b[39m\u001b[38;5;124mdatatype: \u001b[39m\u001b[38;5;132;01m{\u001b[39;00mdatatype\u001b[38;5;132;01m}\u001b[39;00m\u001b[38;5;124m in the schema of repo_id: \u001b[39m\u001b[38;5;132;01m{\u001b[39;00mrepo_id\u001b[38;5;132;01m}\u001b[39;00m\u001b[38;5;124m\"\u001b[39m,\n\u001b[1;32m     82\u001b[0m     )\n\u001b[1;32m     83\u001b[0m \u001b[38;5;28;01melse\u001b[39;00m:\n\u001b[1;32m     84\u001b[0m     \u001b[38;5;28;01mreturn\u001b[39;00m source_datatype_schema\n",
            "\u001b[0;31mparamException\u001b[0m: paramException (parameter error): schema does not exist for the combination of source: geo and datatype: all in the schema of repo_id: 31"
          ]
        }
      ],
      "source": [
        "# Case 3 -> Single source and dp case -> Source and dp passed (Not necessary but passed)\n",
        "# wrong pair passed\n",
        "# lincs repo\n",
        "schema_config = {}\n",
        "schema_config[\"source\"] = \"geo\"\n",
        "schema_config[\"datatype\"] = \"all\"\n",
        "\n",
        "repo_id = 31\n",
        "res = validation.validate_datasets(repo_id, source_folder_path, schema_config)\n",
        "print(\"----------res-----------\")\n",
        "print(res)"
      ]
    },
    {
      "cell_type": "code",
      "execution_count": 13,
      "metadata": {},
      "outputs": [
        {
          "name": "stderr",
          "output_type": "stream",
          "text": [
            "Combining Metadata Files for Validation: 100%|██████████| 4/4 [00:00<00:00, 4991.73it/s]\n"
          ]
        },
        {
          "name": "stdout",
          "output_type": "stream",
          "text": [
            "╒════╤═════════════════════════════════════╤═══════════════════════╤═════════════════╤═══════════════════╤═══════════════╕\n",
            "│    │ dataset_id                          │ Field                 │ Original Name   │ Error Message     │          Repo │\n",
            "╞════╪═════════════════════════════════════╪═══════════════════════╪═════════════════╪═══════════════════╪═══════════════╡\n",
            "│  0 │ ACBC_MSKCC_2015_Copy_Number_AdCC11T │ data_matrix_available │ w               │ field required    │ 1643016586529 │\n",
            "├────┼─────────────────────────────────────┼───────────────────────┼─────────────────┼───────────────────┼───────────────┤\n",
            "│  1 │ ACBC_MSKCC_2015_Copy_Number_AdCC11T │ year                  │ year            │ field required    │ 1643016586529 │\n",
            "├────┼─────────────────────────────────────┼───────────────────────┼─────────────────┼───────────────────┼───────────────┤\n",
            "│  2 │ ACBC_MSKCC_2015_Copy_Number_AdCC11T │ platform              │ platform        │ field required    │ 1643016586529 │\n",
            "├────┼─────────────────────────────────────┼───────────────────────┼─────────────────┼───────────────────┼───────────────┤\n",
            "│  3 │ ACBC_MSKCC_2015_Copy_Number_AdCC11T │ sample_field          │ s               │ field required    │ 1643016586529 │\n",
            "├────┼─────────────────────────────────────┼───────────────────────┼─────────────────┼───────────────────┼───────────────┤\n",
            "│  4 │ ACBC_MSKCC_2015_Copy_Number_AdCC11T │ timestamp_            │ kw_timestamp_   │ str type expected │ 1643016586529 │\n",
            "├────┼─────────────────────────────────────┼───────────────────────┼─────────────────┼───────────────────┼───────────────┤\n",
            "│  5 │ ACBC_MSKCC_2015_Copy_Number_AdCC11T │ subseries_ids         │ subseries_ids   │ field required    │ 1643016586529 │\n",
            "├────┼─────────────────────────────────────┼───────────────────────┼─────────────────┼───────────────────┼───────────────┤\n",
            "│  6 │ ACBC_MSKCC_2015_Copy_Number_AdCC11T │ missing_samples       │ missing_samples │ field required    │ 1643016586529 │\n",
            "├────┼─────────────────────────────────────┼───────────────────────┼─────────────────┼───────────────────┼───────────────┤\n",
            "│  7 │ ACBC_MSKCC_2015_Copy_Number_AdCC11T │ summary               │ summary         │ field required    │ 1643016586529 │\n",
            "├────┼─────────────────────────────────────┼───────────────────────┼─────────────────┼───────────────────┼───────────────┤\n",
            "│  8 │ ACBC_MSKCC_2015_Copy_Number_AdCC11T │ drug_smiles           │ kw_smiles       │ field required    │ 1643016586529 │\n",
            "├────┼─────────────────────────────────────┼───────────────────────┼─────────────────┼───────────────────┼───────────────┤\n",
            "│  9 │ ACBC_MSKCC_2015_Copy_Number_AdCC11T │ author                │ author          │ field required    │ 1643016586529 │\n",
            "├────┼─────────────────────────────────────┼───────────────────────┼─────────────────┼───────────────────┼───────────────┤\n",
            "│ 10 │ ACBC_MSKCC_2015_Copy_Number_AdCC11T │ curated_gene          │ kw_gene         │ field required    │ 1643016586529 │\n",
            "├────┼─────────────────────────────────────┼───────────────────────┼─────────────────┼───────────────────┼───────────────┤\n",
            "│ 11 │ ACBC_MSKCC_2015_Copy_Number_AdCC11T │ abstract              │ abstract        │ field required    │ 1643016586529 │\n",
            "├────┼─────────────────────────────────────┼───────────────────────┼─────────────────┼───────────────────┼───────────────┤\n",
            "│ 12 │ ACBC_MSKCC_2015_Copy_Number_AdCC11T │ curated_strain        │ kw_strain       │ field required    │ 1643016586529 │\n",
            "├────┼─────────────────────────────────────┼───────────────────────┼─────────────────┼───────────────────┼───────────────┤\n",
            "│ 13 │ ACBC_MSKCC_2015_Copy_Number_AdCC11T │ overall_design        │ overall_design  │ field required    │ 1643016586529 │\n",
            "├────┼─────────────────────────────────────┼───────────────────────┼─────────────────┼───────────────────┼───────────────┤\n",
            "│ 14 │ ACBC_MSKCC_2015_Copy_Number_AdCC11T │ is_current            │ is_current      │ str type expected │ 1643016586529 │\n",
            "╘════╧═════════════════════════════════════╧═══════════════════════╧═════════════════╧═══════════════════╧═══════════════╛\n",
            "╒════╤════════════════════════════════════╤═══════════════════════╤═════════════════╤═══════════════════════════════════════════════════════════════════════════════════════════════╤═══════════════╕\n",
            "│    │ dataset_id                         │ Field                 │ Original Name   │ Error Message                                                                                 │          Repo │\n",
            "╞════╪════════════════════════════════════╪═══════════════════════╪═════════════════╪═══════════════════════════════════════════════════════════════════════════════════════════════╪═══════════════╡\n",
            "│  0 │ ACBC_MSKCC_2015_Copy_Number_AdCC1T │ data_matrix_available │ w               │ field required                                                                                │ 1643016586529 │\n",
            "├────┼────────────────────────────────────┼───────────────────────┼─────────────────┼───────────────────────────────────────────────────────────────────────────────────────────────┼───────────────┤\n",
            "│  1 │ ACBC_MSKCC_2015_Copy_Number_AdCC1T │ year                  │ year            │ field required                                                                                │ 1643016586529 │\n",
            "├────┼────────────────────────────────────┼───────────────────────┼─────────────────┼───────────────────────────────────────────────────────────────────────────────────────────────┼───────────────┤\n",
            "│  2 │ ACBC_MSKCC_2015_Copy_Number_AdCC1T │ platform              │ platform        │ field required                                                                                │ 1643016586529 │\n",
            "├────┼────────────────────────────────────┼───────────────────────┼─────────────────┼───────────────────────────────────────────────────────────────────────────────────────────────┼───────────────┤\n",
            "│  3 │ ACBC_MSKCC_2015_Copy_Number_AdCC1T │ sample_field          │ s               │ field required                                                                                │ 1643016586529 │\n",
            "├────┼────────────────────────────────────┼───────────────────────┼─────────────────┼───────────────────────────────────────────────────────────────────────────────────────────────┼───────────────┤\n",
            "│  4 │ ACBC_MSKCC_2015_Copy_Number_AdCC1T │ timestamp_            │ kw_timestamp_   │ str type expected                                                                             │ 1643016586529 │\n",
            "├────┼────────────────────────────────────┼───────────────────────┼─────────────────┼───────────────────────────────────────────────────────────────────────────────────────────────┼───────────────┤\n",
            "│  5 │ ACBC_MSKCC_2015_Copy_Number_AdCC1T │ subseries_ids         │ subseries_ids   │ field required                                                                                │ 1643016586529 │\n",
            "├────┼────────────────────────────────────┼───────────────────────┼─────────────────┼───────────────────────────────────────────────────────────────────────────────────────────────┼───────────────┤\n",
            "│  6 │ ACBC_MSKCC_2015_Copy_Number_AdCC1T │ missing_samples       │ missing_samples │ field required                                                                                │ 1643016586529 │\n",
            "├────┼────────────────────────────────────┼───────────────────────┼─────────────────┼───────────────────────────────────────────────────────────────────────────────────────────────┼───────────────┤\n",
            "│  7 │ ACBC_MSKCC_2015_Copy_Number_AdCC1T │ summary               │ summary         │ field required                                                                                │ 1643016586529 │\n",
            "├────┼────────────────────────────────────┼───────────────────────┼─────────────────┼───────────────────────────────────────────────────────────────────────────────────────────────┼───────────────┤\n",
            "│  8 │ ACBC_MSKCC_2015_Copy_Number_AdCC1T │ drug_smiles           │ kw_smiles       │ field required                                                                                │ 1643016586529 │\n",
            "├────┼────────────────────────────────────┼───────────────────────┼─────────────────┼───────────────────────────────────────────────────────────────────────────────────────────────┼───────────────┤\n",
            "│  9 │ ACBC_MSKCC_2015_Copy_Number_AdCC1T │ author                │ author          │ field required                                                                                │ 1643016586529 │\n",
            "├────┼────────────────────────────────────┼───────────────────────┼─────────────────┼───────────────────────────────────────────────────────────────────────────────────────────────┼───────────────┤\n",
            "│ 10 │ ACBC_MSKCC_2015_Copy_Number_AdCC1T │ curated_gene          │ kw_gene         │ field required                                                                                │ 1643016586529 │\n",
            "├────┼────────────────────────────────────┼───────────────────────┼─────────────────┼───────────────────────────────────────────────────────────────────────────────────────────────┼───────────────┤\n",
            "│ 11 │ ACBC_MSKCC_2015_Copy_Number_AdCC1T │ abstract              │ abstract        │ field required                                                                                │ 1643016586529 │\n",
            "├────┼────────────────────────────────────┼───────────────────────┼─────────────────┼───────────────────────────────────────────────────────────────────────────────────────────────┼───────────────┤\n",
            "│ 12 │ ACBC_MSKCC_2015_Copy_Number_AdCC1T │ curated_strain        │ kw_strain       │ field required                                                                                │ 1643016586529 │\n",
            "├────┼────────────────────────────────────┼───────────────────────┼─────────────────┼───────────────────────────────────────────────────────────────────────────────────────────────┼───────────────┤\n",
            "│ 13 │ ACBC_MSKCC_2015_Copy_Number_AdCC1T │ overall_design        │ overall_design  │ field required                                                                                │ 1643016586529 │\n",
            "├────┼────────────────────────────────────┼───────────────────────┼─────────────────┼───────────────────────────────────────────────────────────────────────────────────────────────┼───────────────┤\n",
            "│ 14 │ ACBC_MSKCC_2015_Copy_Number_AdCC1T │ is_current            │ is_current      │ str type expected                                                                             │ 1643016586529 │\n",
            "├────┼────────────────────────────────────┼───────────────────────┼─────────────────┼───────────────────────────────────────────────────────────────────────────────────────────────┼───────────────┤\n",
            "│ 15 │ ACBC_MSKCC_2015_Copy_Number_AdCC1T │ curated_disease       │ disease         │ Ontological Validity Check | Invalid Value | Erroneous Value: \"Adenoid Cystic Breast Cancer\"  │ 1643016586529 │\n",
            "├────┼────────────────────────────────────┼───────────────────────┼─────────────────┼───────────────────────────────────────────────────────────────────────────────────────────────┼───────────────┤\n",
            "│ 16 │ ACBC_MSKCC_2015_Copy_Number_AdCC1T │ dataset_source        │ dataset_source  │ Value Check | Invalid value, not one of the predefined values | Erroneous Value: \"cBioPortal\" │ 1643016586529 │\n",
            "╘════╧════════════════════════════════════╧═══════════════════════╧═════════════════╧═══════════════════════════════════════════════════════════════════════════════════════════════╧═══════════════╛\n"
          ]
        },
        {
          "name": "stderr",
          "output_type": "stream",
          "text": [
            "Generating Status File of Validation: 100%|██████████| 4/4 [00:00<00:00, 4708.73it/s]"
          ]
        },
        {
          "name": "stdout",
          "output_type": "stream",
          "text": [
            "----------res-----------\n",
            "(                             dataset_id                  Field  \\\n",
            "0   ACBC_MSKCC_2015_Copy_Number_AdCC11T  data_matrix_available   \n",
            "1   ACBC_MSKCC_2015_Copy_Number_AdCC11T                   year   \n",
            "2   ACBC_MSKCC_2015_Copy_Number_AdCC11T               platform   \n",
            "3   ACBC_MSKCC_2015_Copy_Number_AdCC11T           sample_field   \n",
            "4   ACBC_MSKCC_2015_Copy_Number_AdCC11T             timestamp_   \n",
            "5   ACBC_MSKCC_2015_Copy_Number_AdCC11T          subseries_ids   \n",
            "6   ACBC_MSKCC_2015_Copy_Number_AdCC11T        missing_samples   \n",
            "7   ACBC_MSKCC_2015_Copy_Number_AdCC11T                summary   \n",
            "8   ACBC_MSKCC_2015_Copy_Number_AdCC11T            drug_smiles   \n",
            "9   ACBC_MSKCC_2015_Copy_Number_AdCC11T                 author   \n",
            "10  ACBC_MSKCC_2015_Copy_Number_AdCC11T           curated_gene   \n",
            "11  ACBC_MSKCC_2015_Copy_Number_AdCC11T               abstract   \n",
            "12  ACBC_MSKCC_2015_Copy_Number_AdCC11T         curated_strain   \n",
            "13  ACBC_MSKCC_2015_Copy_Number_AdCC11T         overall_design   \n",
            "14  ACBC_MSKCC_2015_Copy_Number_AdCC11T             is_current   \n",
            "15   ACBC_MSKCC_2015_Copy_Number_AdCC1T  data_matrix_available   \n",
            "16   ACBC_MSKCC_2015_Copy_Number_AdCC1T                   year   \n",
            "17   ACBC_MSKCC_2015_Copy_Number_AdCC1T               platform   \n",
            "18   ACBC_MSKCC_2015_Copy_Number_AdCC1T           sample_field   \n",
            "19   ACBC_MSKCC_2015_Copy_Number_AdCC1T             timestamp_   \n",
            "20   ACBC_MSKCC_2015_Copy_Number_AdCC1T          subseries_ids   \n",
            "21   ACBC_MSKCC_2015_Copy_Number_AdCC1T        missing_samples   \n",
            "22   ACBC_MSKCC_2015_Copy_Number_AdCC1T                summary   \n",
            "23   ACBC_MSKCC_2015_Copy_Number_AdCC1T            drug_smiles   \n",
            "24   ACBC_MSKCC_2015_Copy_Number_AdCC1T                 author   \n",
            "25   ACBC_MSKCC_2015_Copy_Number_AdCC1T           curated_gene   \n",
            "26   ACBC_MSKCC_2015_Copy_Number_AdCC1T               abstract   \n",
            "27   ACBC_MSKCC_2015_Copy_Number_AdCC1T         curated_strain   \n",
            "28   ACBC_MSKCC_2015_Copy_Number_AdCC1T         overall_design   \n",
            "29   ACBC_MSKCC_2015_Copy_Number_AdCC1T             is_current   \n",
            "30   ACBC_MSKCC_2015_Copy_Number_AdCC1T        curated_disease   \n",
            "31   ACBC_MSKCC_2015_Copy_Number_AdCC1T         dataset_source   \n",
            "\n",
            "      Original Name                                      Error Message  \\\n",
            "0                 w                                     field required   \n",
            "1              year                                     field required   \n",
            "2          platform                                     field required   \n",
            "3                 s                                     field required   \n",
            "4     kw_timestamp_                                  str type expected   \n",
            "5     subseries_ids                                     field required   \n",
            "6   missing_samples                                     field required   \n",
            "7           summary                                     field required   \n",
            "8         kw_smiles                                     field required   \n",
            "9            author                                     field required   \n",
            "10          kw_gene                                     field required   \n",
            "11         abstract                                     field required   \n",
            "12        kw_strain                                     field required   \n",
            "13   overall_design                                     field required   \n",
            "14       is_current                                  str type expected   \n",
            "15                w                                     field required   \n",
            "16             year                                     field required   \n",
            "17         platform                                     field required   \n",
            "18                s                                     field required   \n",
            "19    kw_timestamp_                                  str type expected   \n",
            "20    subseries_ids                                     field required   \n",
            "21  missing_samples                                     field required   \n",
            "22          summary                                     field required   \n",
            "23        kw_smiles                                     field required   \n",
            "24           author                                     field required   \n",
            "25          kw_gene                                     field required   \n",
            "26         abstract                                     field required   \n",
            "27        kw_strain                                     field required   \n",
            "28   overall_design                                     field required   \n",
            "29       is_current                                  str type expected   \n",
            "30          disease  Ontological Validity Check | Invalid Value | E...   \n",
            "31   dataset_source  Value Check | Invalid value, not one of the pr...   \n",
            "\n",
            "             Repo  \n",
            "0   1643016586529  \n",
            "1   1643016586529  \n",
            "2   1643016586529  \n",
            "3   1643016586529  \n",
            "4   1643016586529  \n",
            "5   1643016586529  \n",
            "6   1643016586529  \n",
            "7   1643016586529  \n",
            "8   1643016586529  \n",
            "9   1643016586529  \n",
            "10  1643016586529  \n",
            "11  1643016586529  \n",
            "12  1643016586529  \n",
            "13  1643016586529  \n",
            "14  1643016586529  \n",
            "15  1643016586529  \n",
            "16  1643016586529  \n",
            "17  1643016586529  \n",
            "18  1643016586529  \n",
            "19  1643016586529  \n",
            "20  1643016586529  \n",
            "21  1643016586529  \n",
            "22  1643016586529  \n",
            "23  1643016586529  \n",
            "24  1643016586529  \n",
            "25  1643016586529  \n",
            "26  1643016586529  \n",
            "27  1643016586529  \n",
            "28  1643016586529  \n",
            "29  1643016586529  \n",
            "30  1643016586529  \n",
            "31  1643016586529  , {'ACBC_MSKCC_2015_Copy_Number_AdCC11T': False, 'ACBC_MSKCC_2015_Copy_Number_AdCC1T': False})\n"
          ]
        },
        {
          "name": "stderr",
          "output_type": "stream",
          "text": [
            "\n"
          ]
        }
      ],
      "source": [
        "# Case 4 -> Multiple Source and dp case -> Source and dp passed -> Right pair passed\n",
        "# geo\n",
        "\n",
        "schema_config = {}\n",
        "schema_config[\"source\"] = \"geo\"\n",
        "schema_config[\"datatype\"] = \"all\"\n",
        "\n",
        "repo_id = 1643016586529\n",
        "res = validation.validate_datasets(repo_id, source_folder_path, schema_config)\n",
        "print(\"----------res-----------\")\n",
        "print(res)"
      ]
    },
    {
      "cell_type": "code",
      "execution_count": 14,
      "metadata": {},
      "outputs": [
        {
          "ename": "paramException",
          "evalue": "paramException (parameter error): schema does not exist for the combination of source: cbiop and datatype: all in the schema of repo_id: 1643016586529",
          "output_type": "error",
          "traceback": [
            "\u001b[0;31m---------------------------------------------------------------------------\u001b[0m",
            "\u001b[0;31mparamException\u001b[0m                            Traceback (most recent call last)",
            "Input \u001b[0;32mIn [14]\u001b[0m, in \u001b[0;36m<cell line: 8>\u001b[0;34m()\u001b[0m\n\u001b[1;32m      5\u001b[0m schema_config[\u001b[38;5;124m\"\u001b[39m\u001b[38;5;124mdatatype\u001b[39m\u001b[38;5;124m\"\u001b[39m] \u001b[38;5;241m=\u001b[39m \u001b[38;5;124m\"\u001b[39m\u001b[38;5;124mall\u001b[39m\u001b[38;5;124m\"\u001b[39m\n\u001b[1;32m      7\u001b[0m repo_id \u001b[38;5;241m=\u001b[39m \u001b[38;5;241m1643016586529\u001b[39m\n\u001b[0;32m----> 8\u001b[0m error_df, status_dict \u001b[38;5;241m=\u001b[39m \u001b[43mvalidation\u001b[49m\u001b[38;5;241;43m.\u001b[39;49m\u001b[43mvalidate_datasets\u001b[49m\u001b[43m(\u001b[49m\u001b[43mrepo_id\u001b[49m\u001b[43m,\u001b[49m\u001b[43m \u001b[49m\u001b[43msource_folder_path\u001b[49m\u001b[43m,\u001b[49m\u001b[43m \u001b[49m\u001b[43mschema_config\u001b[49m\u001b[43m)\u001b[49m\n\u001b[1;32m      9\u001b[0m \u001b[38;5;28mprint\u001b[39m(\u001b[38;5;124m\"\u001b[39m\u001b[38;5;124m----------error df-----------\u001b[39m\u001b[38;5;124m\"\u001b[39m)\n\u001b[1;32m     10\u001b[0m \u001b[38;5;28mprint\u001b[39m(error_df)\n",
            "File \u001b[0;32m/usr/local/lib/python3.10/site-packages/polly/validation.py:53\u001b[0m, in \u001b[0;36mValidation.validate_datasets\u001b[0;34m(self, repo_id, source_folder_path, schema_config)\u001b[0m\n\u001b[1;32m     49\u001b[0m     \u001b[38;5;28;01mreturn\u001b[39;00m \u001b[38;5;28mself\u001b[39m\u001b[38;5;241m.\u001b[39m_validate_dataset_level_metadata(\n\u001b[1;32m     50\u001b[0m         repo_id, source_folder_path, schema_config\n\u001b[1;32m     51\u001b[0m     )\n\u001b[1;32m     52\u001b[0m \u001b[38;5;28;01mexcept\u001b[39;00m \u001b[38;5;167;01mException\u001b[39;00m \u001b[38;5;28;01mas\u001b[39;00m err:\n\u001b[0;32m---> 53\u001b[0m     \u001b[38;5;28;01mraise\u001b[39;00m err\n",
            "File \u001b[0;32m/usr/local/lib/python3.10/site-packages/polly/validation.py:49\u001b[0m, in \u001b[0;36mValidation.validate_datasets\u001b[0;34m(self, repo_id, source_folder_path, schema_config)\u001b[0m\n\u001b[1;32m     45\u001b[0m     \u001b[38;5;28mself\u001b[39m\u001b[38;5;241m.\u001b[39m_check_validate_dataset_params(\n\u001b[1;32m     46\u001b[0m         repo_id, source_folder_path, schema_config\n\u001b[1;32m     47\u001b[0m     )\n\u001b[1;32m     48\u001b[0m     repo_id \u001b[38;5;241m=\u001b[39m helpers\u001b[38;5;241m.\u001b[39mmake_repo_id_string(repo_id)\n\u001b[0;32m---> 49\u001b[0m     \u001b[38;5;28;01mreturn\u001b[39;00m \u001b[38;5;28;43mself\u001b[39;49m\u001b[38;5;241;43m.\u001b[39;49m\u001b[43m_validate_dataset_level_metadata\u001b[49m\u001b[43m(\u001b[49m\n\u001b[1;32m     50\u001b[0m \u001b[43m        \u001b[49m\u001b[43mrepo_id\u001b[49m\u001b[43m,\u001b[49m\u001b[43m \u001b[49m\u001b[43msource_folder_path\u001b[49m\u001b[43m,\u001b[49m\u001b[43m \u001b[49m\u001b[43mschema_config\u001b[49m\n\u001b[1;32m     51\u001b[0m \u001b[43m    \u001b[49m\u001b[43m)\u001b[49m\n\u001b[1;32m     52\u001b[0m \u001b[38;5;28;01mexcept\u001b[39;00m \u001b[38;5;167;01mException\u001b[39;00m \u001b[38;5;28;01mas\u001b[39;00m err:\n\u001b[1;32m     53\u001b[0m     \u001b[38;5;28;01mraise\u001b[39;00m err\n",
            "File \u001b[0;32m/usr/local/lib/python3.10/site-packages/polly/validation.py:118\u001b[0m, in \u001b[0;36mValidation._validate_dataset_level_metadata\u001b[0;34m(self, repo_id, source_folder_path, schema_config)\u001b[0m\n\u001b[1;32m    116\u001b[0m         \u001b[38;5;28mprint\u001b[39m(const\u001b[38;5;241m.\u001b[39mVALIDATION_NOT_EXECUTED)\n\u001b[1;32m    117\u001b[0m \u001b[38;5;28;01mexcept\u001b[39;00m \u001b[38;5;167;01mException\u001b[39;00m \u001b[38;5;28;01mas\u001b[39;00m err:\n\u001b[0;32m--> 118\u001b[0m     \u001b[38;5;28;01mraise\u001b[39;00m err\n",
            "File \u001b[0;32m/usr/local/lib/python3.10/site-packages/polly/validation.py:92\u001b[0m, in \u001b[0;36mValidation._validate_dataset_level_metadata\u001b[0;34m(self, repo_id, source_folder_path, schema_config)\u001b[0m\n\u001b[1;32m     83\u001b[0m \u001b[38;5;66;03m# list of metadata files to validate\u001b[39;00m\n\u001b[1;32m     84\u001b[0m \u001b[38;5;66;03m# metadata files grouped in a list\u001b[39;00m\n\u001b[1;32m     85\u001b[0m \u001b[38;5;66;03m# grouping is done on validation level parameter\u001b[39;00m\n\u001b[1;32m     86\u001b[0m \u001b[38;5;28;01mtry\u001b[39;00m:\n\u001b[1;32m     87\u001b[0m     \u001b[38;5;66;03m# construct dataframe of schema for the repo\u001b[39;00m\n\u001b[1;32m     88\u001b[0m     \u001b[38;5;66;03m# formatted schema DF based on Input Required by Validation Lib\u001b[39;00m\n\u001b[1;32m     89\u001b[0m     \u001b[38;5;66;03m# Formatted DF has 2 rows -> Field Name and Type\u001b[39;00m\n\u001b[1;32m     90\u001b[0m     \u001b[38;5;66;03m# schema_df_dataset = self._construct_df_of_schema(repo_id)\u001b[39;00m\n\u001b[0;32m---> 92\u001b[0m     schema_dict \u001b[38;5;241m=\u001b[39m \u001b[43mvalidation_hlpr\u001b[49m\u001b[38;5;241;43m.\u001b[39;49m\u001b[43mget_dataset_level_schema\u001b[49m\u001b[43m(\u001b[49m\n\u001b[1;32m     93\u001b[0m \u001b[43m        \u001b[49m\u001b[43mrepo_id\u001b[49m\u001b[43m,\u001b[49m\u001b[43m \u001b[49m\u001b[43mschema_config\u001b[49m\n\u001b[1;32m     94\u001b[0m \u001b[43m    \u001b[49m\u001b[43m)\u001b[49m\n\u001b[1;32m     95\u001b[0m     combined_metadata \u001b[38;5;241m=\u001b[39m (\n\u001b[1;32m     96\u001b[0m         validation_hlpr\u001b[38;5;241m.\u001b[39mconstruct_combined_metadata_for_validation(\n\u001b[1;32m     97\u001b[0m             source_folder_path\n\u001b[1;32m     98\u001b[0m         )\n\u001b[1;32m     99\u001b[0m     )\n\u001b[1;32m    100\u001b[0m     \u001b[38;5;66;03m# Only run validation if there are files to be validated\u001b[39;00m\n",
            "File \u001b[0;32m/usr/local/lib/python3.10/site-packages/polly/validation_hlpr.py:78\u001b[0m, in \u001b[0;36mget_dataset_level_schema\u001b[0;34m(repo_id, schema_config)\u001b[0m\n\u001b[1;32m     76\u001b[0m source_datatype_schema \u001b[38;5;241m=\u001b[39m schema_dict_datasets\u001b[38;5;241m.\u001b[39mget(source, {})\u001b[38;5;241m.\u001b[39mget(datatype, {})\n\u001b[1;32m     77\u001b[0m \u001b[38;5;28;01mif\u001b[39;00m \u001b[38;5;129;01mnot\u001b[39;00m source_datatype_schema:\n\u001b[0;32m---> 78\u001b[0m     \u001b[38;5;28;01mraise\u001b[39;00m paramException(\n\u001b[1;32m     79\u001b[0m         title\u001b[38;5;241m=\u001b[39m\u001b[38;5;124m\"\u001b[39m\u001b[38;5;124mparam Error\u001b[39m\u001b[38;5;124m\"\u001b[39m,\n\u001b[1;32m     80\u001b[0m         detail\u001b[38;5;241m=\u001b[39m\u001b[38;5;124mf\u001b[39m\u001b[38;5;124m\"\u001b[39m\u001b[38;5;124mschema does not exist for the combination of source: \u001b[39m\u001b[38;5;132;01m{\u001b[39;00msource\u001b[38;5;132;01m}\u001b[39;00m\u001b[38;5;124m and \u001b[39m\u001b[38;5;124m\"\u001b[39m\n\u001b[1;32m     81\u001b[0m         \u001b[38;5;241m+\u001b[39m \u001b[38;5;124mf\u001b[39m\u001b[38;5;124m\"\u001b[39m\u001b[38;5;124mdatatype: \u001b[39m\u001b[38;5;132;01m{\u001b[39;00mdatatype\u001b[38;5;132;01m}\u001b[39;00m\u001b[38;5;124m in the schema of repo_id: \u001b[39m\u001b[38;5;132;01m{\u001b[39;00mrepo_id\u001b[38;5;132;01m}\u001b[39;00m\u001b[38;5;124m\"\u001b[39m,\n\u001b[1;32m     82\u001b[0m     )\n\u001b[1;32m     83\u001b[0m \u001b[38;5;28;01melse\u001b[39;00m:\n\u001b[1;32m     84\u001b[0m     \u001b[38;5;28;01mreturn\u001b[39;00m source_datatype_schema\n",
            "\u001b[0;31mparamException\u001b[0m: paramException (parameter error): schema does not exist for the combination of source: cbiop and datatype: all in the schema of repo_id: 1643016586529"
          ]
        }
      ],
      "source": [
        "# Case 5 -> Multiple Source and dp case -> Source and dp passed -> Wrong pair passed\n",
        "# geo \n",
        "schema_config = {}\n",
        "schema_config[\"source\"] = \"cbiop\"\n",
        "schema_config[\"datatype\"] = \"all\"\n",
        "\n",
        "repo_id = 1643016586529\n",
        "error_df, status_dict = validation.validate_datasets(repo_id, source_folder_path, schema_config)\n",
        "print(\"----------error df-----------\")\n",
        "print(error_df)\n",
        "\n",
        "print(\"-----status dict------\")\n",
        "print(status_dict)"
      ]
    },
    {
      "cell_type": "code",
      "execution_count": 15,
      "metadata": {},
      "outputs": [
        {
          "ename": "paramException",
          "evalue": "paramException (parameter error): Schema config should be a dict",
          "output_type": "error",
          "traceback": [
            "\u001b[0;31m---------------------------------------------------------------------------\u001b[0m",
            "\u001b[0;31mparamException\u001b[0m                            Traceback (most recent call last)",
            "Input \u001b[0;32mIn [15]\u001b[0m, in \u001b[0;36m<cell line: 4>\u001b[0;34m()\u001b[0m\n\u001b[1;32m      2\u001b[0m schema_config \u001b[38;5;241m=\u001b[39m [\u001b[38;5;124m\"\u001b[39m\u001b[38;5;124msource\u001b[39m\u001b[38;5;124m\"\u001b[39m, \u001b[38;5;124m\"\u001b[39m\u001b[38;5;124mdatatype\u001b[39m\u001b[38;5;124m\"\u001b[39m]\n\u001b[1;32m      3\u001b[0m repo_id \u001b[38;5;241m=\u001b[39m \u001b[38;5;241m1643016586529\u001b[39m\n\u001b[0;32m----> 4\u001b[0m res \u001b[38;5;241m=\u001b[39m \u001b[43mvalidation\u001b[49m\u001b[38;5;241;43m.\u001b[39;49m\u001b[43mvalidate_datasets\u001b[49m\u001b[43m(\u001b[49m\u001b[43mrepo_id\u001b[49m\u001b[43m,\u001b[49m\u001b[43m \u001b[49m\u001b[43msource_folder_path\u001b[49m\u001b[43m,\u001b[49m\u001b[43m \u001b[49m\u001b[43mschema_config\u001b[49m\u001b[43m)\u001b[49m\n\u001b[1;32m      5\u001b[0m \u001b[38;5;28mprint\u001b[39m(\u001b[38;5;124m\"\u001b[39m\u001b[38;5;124m----------res-----------\u001b[39m\u001b[38;5;124m\"\u001b[39m)\n\u001b[1;32m      6\u001b[0m \u001b[38;5;28mprint\u001b[39m(res)\n",
            "File \u001b[0;32m/usr/local/lib/python3.10/site-packages/polly/validation.py:53\u001b[0m, in \u001b[0;36mValidation.validate_datasets\u001b[0;34m(self, repo_id, source_folder_path, schema_config)\u001b[0m\n\u001b[1;32m     49\u001b[0m     \u001b[38;5;28;01mreturn\u001b[39;00m \u001b[38;5;28mself\u001b[39m\u001b[38;5;241m.\u001b[39m_validate_dataset_level_metadata(\n\u001b[1;32m     50\u001b[0m         repo_id, source_folder_path, schema_config\n\u001b[1;32m     51\u001b[0m     )\n\u001b[1;32m     52\u001b[0m \u001b[38;5;28;01mexcept\u001b[39;00m \u001b[38;5;167;01mException\u001b[39;00m \u001b[38;5;28;01mas\u001b[39;00m err:\n\u001b[0;32m---> 53\u001b[0m     \u001b[38;5;28;01mraise\u001b[39;00m err\n",
            "File \u001b[0;32m/usr/local/lib/python3.10/site-packages/polly/validation.py:45\u001b[0m, in \u001b[0;36mValidation.validate_datasets\u001b[0;34m(self, repo_id, source_folder_path, schema_config)\u001b[0m\n\u001b[1;32m     43\u001b[0m \u001b[38;5;66;03m# add method to validate the params\u001b[39;00m\n\u001b[1;32m     44\u001b[0m \u001b[38;5;28;01mtry\u001b[39;00m:\n\u001b[0;32m---> 45\u001b[0m     \u001b[38;5;28;43mself\u001b[39;49m\u001b[38;5;241;43m.\u001b[39;49m\u001b[43m_check_validate_dataset_params\u001b[49m\u001b[43m(\u001b[49m\n\u001b[1;32m     46\u001b[0m \u001b[43m        \u001b[49m\u001b[43mrepo_id\u001b[49m\u001b[43m,\u001b[49m\u001b[43m \u001b[49m\u001b[43msource_folder_path\u001b[49m\u001b[43m,\u001b[49m\u001b[43m \u001b[49m\u001b[43mschema_config\u001b[49m\n\u001b[1;32m     47\u001b[0m \u001b[43m    \u001b[49m\u001b[43m)\u001b[49m\n\u001b[1;32m     48\u001b[0m     repo_id \u001b[38;5;241m=\u001b[39m helpers\u001b[38;5;241m.\u001b[39mmake_repo_id_string(repo_id)\n\u001b[1;32m     49\u001b[0m     \u001b[38;5;28;01mreturn\u001b[39;00m \u001b[38;5;28mself\u001b[39m\u001b[38;5;241m.\u001b[39m_validate_dataset_level_metadata(\n\u001b[1;32m     50\u001b[0m         repo_id, source_folder_path, schema_config\n\u001b[1;32m     51\u001b[0m     )\n",
            "File \u001b[0;32m/usr/local/lib/python3.10/site-packages/polly/validation.py:68\u001b[0m, in \u001b[0;36mValidation._check_validate_dataset_params\u001b[0;34m(self, repo_id, source_folder_path, schema_config)\u001b[0m\n\u001b[1;32m     66\u001b[0m     validation_hlpr\u001b[38;5;241m.\u001b[39mschema_config_check(schema_config)\n\u001b[1;32m     67\u001b[0m \u001b[38;5;28;01mexcept\u001b[39;00m \u001b[38;5;167;01mException\u001b[39;00m \u001b[38;5;28;01mas\u001b[39;00m err:\n\u001b[0;32m---> 68\u001b[0m     \u001b[38;5;28;01mraise\u001b[39;00m err\n",
            "File \u001b[0;32m/usr/local/lib/python3.10/site-packages/polly/validation.py:66\u001b[0m, in \u001b[0;36mValidation._check_validate_dataset_params\u001b[0;34m(self, repo_id, source_folder_path, schema_config)\u001b[0m\n\u001b[1;32m     64\u001b[0m     helpers\u001b[38;5;241m.\u001b[39mparameter_check_for_repo_id(repo_id)\n\u001b[1;32m     65\u001b[0m     validation_hlpr\u001b[38;5;241m.\u001b[39mdata_metadata_parameter_check(source_folder_path)\n\u001b[0;32m---> 66\u001b[0m     \u001b[43mvalidation_hlpr\u001b[49m\u001b[38;5;241;43m.\u001b[39;49m\u001b[43mschema_config_check\u001b[49m\u001b[43m(\u001b[49m\u001b[43mschema_config\u001b[49m\u001b[43m)\u001b[49m\n\u001b[1;32m     67\u001b[0m \u001b[38;5;28;01mexcept\u001b[39;00m \u001b[38;5;167;01mException\u001b[39;00m \u001b[38;5;28;01mas\u001b[39;00m err:\n\u001b[1;32m     68\u001b[0m     \u001b[38;5;28;01mraise\u001b[39;00m err\n",
            "File \u001b[0;32m/usr/local/lib/python3.10/site-packages/polly/validation_hlpr.py:122\u001b[0m, in \u001b[0;36mschema_config_check\u001b[0;34m(schema_config)\u001b[0m\n\u001b[1;32m    115\u001b[0m \u001b[38;5;124;03m\"\"\"Schema config parameter check\u001b[39;00m\n\u001b[1;32m    116\u001b[0m \n\u001b[1;32m    117\u001b[0m \u001b[38;5;124;03mArgs:\u001b[39;00m\n\u001b[1;32m    118\u001b[0m \u001b[38;5;124;03m    schema_config (dict): Dictionary containing two keys\u001b[39;00m\n\u001b[1;32m    119\u001b[0m \u001b[38;5;124;03m    source and datatype\u001b[39;00m\n\u001b[1;32m    120\u001b[0m \u001b[38;5;124;03m\"\"\"\u001b[39;00m\n\u001b[1;32m    121\u001b[0m \u001b[38;5;28;01mif\u001b[39;00m \u001b[38;5;129;01mnot\u001b[39;00m \u001b[38;5;28misinstance\u001b[39m(schema_config, \u001b[38;5;28mdict\u001b[39m):\n\u001b[0;32m--> 122\u001b[0m     \u001b[38;5;28;01mraise\u001b[39;00m paramException(\n\u001b[1;32m    123\u001b[0m         title\u001b[38;5;241m=\u001b[39m\u001b[38;5;124m\"\u001b[39m\u001b[38;5;124mParam Error\u001b[39m\u001b[38;5;124m\"\u001b[39m, detail\u001b[38;5;241m=\u001b[39m\u001b[38;5;124m\"\u001b[39m\u001b[38;5;124mSchema config should be a dict\u001b[39m\u001b[38;5;124m\"\u001b[39m\n\u001b[1;32m    124\u001b[0m     )\n\u001b[1;32m    125\u001b[0m \u001b[38;5;28;01melif\u001b[39;00m \u001b[38;5;28misinstance\u001b[39m(schema_config, \u001b[38;5;28mdict\u001b[39m):\n\u001b[1;32m    126\u001b[0m     \u001b[38;5;28;01mfor\u001b[39;00m key \u001b[38;5;129;01min\u001b[39;00m schema_config\u001b[38;5;241m.\u001b[39mkeys():\n",
            "\u001b[0;31mparamException\u001b[0m: paramException (parameter error): Schema config should be a dict"
          ]
        }
      ],
      "source": [
        "# Case 6 -> schema config param checks -> schema_config passed as list-> error\n",
        "schema_config = [\"source\", \"datatype\"]\n",
        "repo_id = 1643016586529\n",
        "res = validation.validate_datasets(repo_id, source_folder_path, schema_config)\n",
        "print(\"----------res-----------\")\n",
        "print(res)"
      ]
    },
    {
      "cell_type": "code",
      "execution_count": 16,
      "metadata": {},
      "outputs": [
        {
          "ename": "paramException",
          "evalue": "paramException (parameter error): schema_config dict should have source and datatype keys in the format {'source': '<source_name', 'datatype': '<datatype_name>'} ",
          "output_type": "error",
          "traceback": [
            "\u001b[0;31m---------------------------------------------------------------------------\u001b[0m",
            "\u001b[0;31mparamException\u001b[0m                            Traceback (most recent call last)",
            "Input \u001b[0;32mIn [16]\u001b[0m, in \u001b[0;36m<cell line: 4>\u001b[0;34m()\u001b[0m\n\u001b[1;32m      2\u001b[0m schema_config \u001b[38;5;241m=\u001b[39m {\u001b[38;5;124m\"\u001b[39m\u001b[38;5;124msource\u001b[39m\u001b[38;5;124m\"\u001b[39m:\u001b[38;5;124m\"\u001b[39m\u001b[38;5;124mgeo\u001b[39m\u001b[38;5;124m\"\u001b[39m, \u001b[38;5;124m\"\u001b[39m\u001b[38;5;124mbusy\u001b[39m\u001b[38;5;124m\"\u001b[39m:\u001b[38;5;124m\"\u001b[39m\u001b[38;5;124mshazam\u001b[39m\u001b[38;5;124m\"\u001b[39m}\n\u001b[1;32m      3\u001b[0m repo_id \u001b[38;5;241m=\u001b[39m \u001b[38;5;241m1643016586529\u001b[39m\n\u001b[0;32m----> 4\u001b[0m res \u001b[38;5;241m=\u001b[39m \u001b[43mvalidation\u001b[49m\u001b[38;5;241;43m.\u001b[39;49m\u001b[43mvalidate_datasets\u001b[49m\u001b[43m(\u001b[49m\u001b[43mrepo_id\u001b[49m\u001b[43m,\u001b[49m\u001b[43m \u001b[49m\u001b[43msource_folder_path\u001b[49m\u001b[43m,\u001b[49m\u001b[43m \u001b[49m\u001b[43mschema_config\u001b[49m\u001b[43m)\u001b[49m\n\u001b[1;32m      5\u001b[0m \u001b[38;5;28mprint\u001b[39m(\u001b[38;5;124m\"\u001b[39m\u001b[38;5;124m----------res-----------\u001b[39m\u001b[38;5;124m\"\u001b[39m)\n\u001b[1;32m      6\u001b[0m \u001b[38;5;28mprint\u001b[39m(res)\n",
            "File \u001b[0;32m/usr/local/lib/python3.10/site-packages/polly/validation.py:53\u001b[0m, in \u001b[0;36mValidation.validate_datasets\u001b[0;34m(self, repo_id, source_folder_path, schema_config)\u001b[0m\n\u001b[1;32m     49\u001b[0m     \u001b[38;5;28;01mreturn\u001b[39;00m \u001b[38;5;28mself\u001b[39m\u001b[38;5;241m.\u001b[39m_validate_dataset_level_metadata(\n\u001b[1;32m     50\u001b[0m         repo_id, source_folder_path, schema_config\n\u001b[1;32m     51\u001b[0m     )\n\u001b[1;32m     52\u001b[0m \u001b[38;5;28;01mexcept\u001b[39;00m \u001b[38;5;167;01mException\u001b[39;00m \u001b[38;5;28;01mas\u001b[39;00m err:\n\u001b[0;32m---> 53\u001b[0m     \u001b[38;5;28;01mraise\u001b[39;00m err\n",
            "File \u001b[0;32m/usr/local/lib/python3.10/site-packages/polly/validation.py:45\u001b[0m, in \u001b[0;36mValidation.validate_datasets\u001b[0;34m(self, repo_id, source_folder_path, schema_config)\u001b[0m\n\u001b[1;32m     43\u001b[0m \u001b[38;5;66;03m# add method to validate the params\u001b[39;00m\n\u001b[1;32m     44\u001b[0m \u001b[38;5;28;01mtry\u001b[39;00m:\n\u001b[0;32m---> 45\u001b[0m     \u001b[38;5;28;43mself\u001b[39;49m\u001b[38;5;241;43m.\u001b[39;49m\u001b[43m_check_validate_dataset_params\u001b[49m\u001b[43m(\u001b[49m\n\u001b[1;32m     46\u001b[0m \u001b[43m        \u001b[49m\u001b[43mrepo_id\u001b[49m\u001b[43m,\u001b[49m\u001b[43m \u001b[49m\u001b[43msource_folder_path\u001b[49m\u001b[43m,\u001b[49m\u001b[43m \u001b[49m\u001b[43mschema_config\u001b[49m\n\u001b[1;32m     47\u001b[0m \u001b[43m    \u001b[49m\u001b[43m)\u001b[49m\n\u001b[1;32m     48\u001b[0m     repo_id \u001b[38;5;241m=\u001b[39m helpers\u001b[38;5;241m.\u001b[39mmake_repo_id_string(repo_id)\n\u001b[1;32m     49\u001b[0m     \u001b[38;5;28;01mreturn\u001b[39;00m \u001b[38;5;28mself\u001b[39m\u001b[38;5;241m.\u001b[39m_validate_dataset_level_metadata(\n\u001b[1;32m     50\u001b[0m         repo_id, source_folder_path, schema_config\n\u001b[1;32m     51\u001b[0m     )\n",
            "File \u001b[0;32m/usr/local/lib/python3.10/site-packages/polly/validation.py:68\u001b[0m, in \u001b[0;36mValidation._check_validate_dataset_params\u001b[0;34m(self, repo_id, source_folder_path, schema_config)\u001b[0m\n\u001b[1;32m     66\u001b[0m     validation_hlpr\u001b[38;5;241m.\u001b[39mschema_config_check(schema_config)\n\u001b[1;32m     67\u001b[0m \u001b[38;5;28;01mexcept\u001b[39;00m \u001b[38;5;167;01mException\u001b[39;00m \u001b[38;5;28;01mas\u001b[39;00m err:\n\u001b[0;32m---> 68\u001b[0m     \u001b[38;5;28;01mraise\u001b[39;00m err\n",
            "File \u001b[0;32m/usr/local/lib/python3.10/site-packages/polly/validation.py:66\u001b[0m, in \u001b[0;36mValidation._check_validate_dataset_params\u001b[0;34m(self, repo_id, source_folder_path, schema_config)\u001b[0m\n\u001b[1;32m     64\u001b[0m     helpers\u001b[38;5;241m.\u001b[39mparameter_check_for_repo_id(repo_id)\n\u001b[1;32m     65\u001b[0m     validation_hlpr\u001b[38;5;241m.\u001b[39mdata_metadata_parameter_check(source_folder_path)\n\u001b[0;32m---> 66\u001b[0m     \u001b[43mvalidation_hlpr\u001b[49m\u001b[38;5;241;43m.\u001b[39;49m\u001b[43mschema_config_check\u001b[49m\u001b[43m(\u001b[49m\u001b[43mschema_config\u001b[49m\u001b[43m)\u001b[49m\n\u001b[1;32m     67\u001b[0m \u001b[38;5;28;01mexcept\u001b[39;00m \u001b[38;5;167;01mException\u001b[39;00m \u001b[38;5;28;01mas\u001b[39;00m err:\n\u001b[1;32m     68\u001b[0m     \u001b[38;5;28;01mraise\u001b[39;00m err\n",
            "File \u001b[0;32m/usr/local/lib/python3.10/site-packages/polly/validation_hlpr.py:128\u001b[0m, in \u001b[0;36mschema_config_check\u001b[0;34m(schema_config)\u001b[0m\n\u001b[1;32m    126\u001b[0m \u001b[38;5;28;01mfor\u001b[39;00m key \u001b[38;5;129;01min\u001b[39;00m schema_config\u001b[38;5;241m.\u001b[39mkeys():\n\u001b[1;32m    127\u001b[0m     \u001b[38;5;28;01mif\u001b[39;00m key \u001b[38;5;129;01mnot\u001b[39;00m \u001b[38;5;129;01min\u001b[39;00m const\u001b[38;5;241m.\u001b[39mSCHEMA_CONFIG_KEY_NAMES:\n\u001b[0;32m--> 128\u001b[0m         \u001b[38;5;28;01mraise\u001b[39;00m paramException(\n\u001b[1;32m    129\u001b[0m             title\u001b[38;5;241m=\u001b[39m\u001b[38;5;124m\"\u001b[39m\u001b[38;5;124mParam Error\u001b[39m\u001b[38;5;124m\"\u001b[39m,\n\u001b[1;32m    130\u001b[0m             detail\u001b[38;5;241m=\u001b[39m\u001b[38;5;124m\"\u001b[39m\u001b[38;5;124mschema_config dict should have source and datatype keys \u001b[39m\u001b[38;5;124m\"\u001b[39m\n\u001b[1;32m    131\u001b[0m             \u001b[38;5;241m+\u001b[39m \u001b[38;5;124mf\u001b[39m\u001b[38;5;124m\"\u001b[39m\u001b[38;5;124min the format \u001b[39m\u001b[38;5;132;01m{\u001b[39;00mconst\u001b[38;5;241m.\u001b[39mSCHEMA_CONFIG_FORMAT\u001b[38;5;132;01m}\u001b[39;00m\u001b[38;5;124m \u001b[39m\u001b[38;5;124m\"\u001b[39m,\n\u001b[1;32m    132\u001b[0m         )\n",
            "\u001b[0;31mparamException\u001b[0m: paramException (parameter error): schema_config dict should have source and datatype keys in the format {'source': '<source_name', 'datatype': '<datatype_name>'} "
          ]
        }
      ],
      "source": [
        "# Case 7 -> schema config does not have the required keys\n",
        "schema_config = {\"source\":\"geo\", \"busy\":\"shazam\"}\n",
        "repo_id = 1643016586529\n",
        "res = validation.validate_datasets(repo_id, source_folder_path, schema_config)\n",
        "print(\"----------res-----------\")\n",
        "print(res)"
      ]
    },
    {
      "cell_type": "code",
      "execution_count": null,
      "metadata": {},
      "outputs": [],
      "source": []
    }
  ],
  "metadata": {
    "kernelspec": {
      "display_name": "Python 3 (ipykernel)",
      "language": "python",
      "name": "python3"
    },
    "language_info": {
      "codemirror_mode": {
        "name": "ipython",
        "version": 3
      },
      "file_extension": ".py",
      "mimetype": "text/x-python",
      "name": "python",
      "nbconvert_exporter": "python",
      "pygments_lexer": "ipython3",
      "version": "3.10.2"
    }
  },
  "nbformat": 4,
  "nbformat_minor": 2
}