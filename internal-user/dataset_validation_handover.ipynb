{
  "cells": [
    {
      "cell_type": "markdown",
      "metadata": {
        "colab_type": "text",
        "id": "view-in-github"
      },
      "source": [
        "<a href=\"https://testpolly.elucidata.io/manage/workspaces?action=open_polly_notebook&source=github&path=path_place_holder&kernel=elucidata/Python 3.10&machine=medium\" target=\"_parent\"><img src=\"https://elucidatainc.github.io/PublicAssets/open_polly.svg\" alt=\"Open in Polly\"/></a>\n"
      ]
    },
    {
      "cell_type": "markdown",
      "metadata": {},
      "source": [
        "# Welcome to Polly Python3 Notebook."
      ]
    },
    {
      "cell_type": "code",
      "execution_count": 1,
      "metadata": {},
      "outputs": [
        {
          "name": "stdout",
          "output_type": "stream",
          "text": [
            "/bin/bash: warning: setlocale: LC_ALL: cannot change locale (en_US.UTF-8)\n",
            "Collecting polly-python==0.2.8\n",
            "  Downloading https://elucidatainc.github.io/PublicAssets/builds/polly-python/polly_python-0.2.8-py3-none-any.whl (97 kB)\n",
            "\u001b[K     |████████████████████████████████| 97 kB 9.4 MB/s  eta 0:00:01\n",
            "\u001b[?25hCollecting polly-validator@ https://elucidatainc.github.io/PublicAssets/builds/polly_validator-0.0.1-py3-none-any.whl\n",
            "  Downloading https://elucidatainc.github.io/PublicAssets/builds/polly_validator-0.0.1-py3-none-any.whl (22 kB)\n",
            "Requirement already satisfied: tqdm in /usr/local/lib/python3.10/site-packages (from polly-python==0.2.8) (4.64.1)\n",
            "Collecting pytest\n",
            "  Downloading pytest-7.2.0-py3-none-any.whl (316 kB)\n",
            "\u001b[K     |████████████████████████████████| 316 kB 21.8 MB/s eta 0:00:01\n",
            "\u001b[?25hCollecting certifi==2021.10.8\n",
            "  Downloading certifi-2021.10.8-py2.py3-none-any.whl (149 kB)\n",
            "\u001b[K     |████████████████████████████████| 149 kB 128.8 MB/s eta 0:00:01\n",
            "\u001b[?25hCollecting cryptography>=38.0.1\n",
            "  Downloading cryptography-39.0.0-cp36-abi3-manylinux_2_28_x86_64.whl (4.2 MB)\n",
            "\u001b[K     |████████████████████████████████| 4.2 MB 127.6 MB/s eta 0:00:01\n",
            "\u001b[?25hCollecting Deprecated\n",
            "  Downloading Deprecated-1.2.13-py2.py3-none-any.whl (9.6 kB)\n",
            "Requirement already satisfied: idna==2.10 in /usr/local/lib/python3.10/site-packages (from polly-python==0.2.8) (2.10)\n",
            "Collecting rst2txt\n",
            "  Downloading rst2txt-1.1.0-py2.py3-none-any.whl (12 kB)\n",
            "Requirement already satisfied: chardet==4.0.0 in /usr/local/lib/python3.10/site-packages (from polly-python==0.2.8) (4.0.0)\n",
            "Collecting mixpanel>=4.10.0\n",
            "  Downloading mixpanel-4.10.0-py2.py3-none-any.whl (8.9 kB)\n",
            "Collecting plotly\n",
            "  Downloading plotly-5.11.0-py2.py3-none-any.whl (15.3 MB)\n",
            "\u001b[K     |████████████████████████████████| 15.3 MB 113.3 MB/s eta 0:00:01\n",
            "\u001b[?25hCollecting Cerberus==1.3.2\n",
            "  Downloading Cerberus-1.3.2.tar.gz (52 kB)\n",
            "\u001b[K     |████████████████████████████████| 52 kB 3.0 MB/s s eta 0:00:01\n",
            "\u001b[?25hRequirement already satisfied: six==1.16.0 in /usr/local/lib/python3.10/site-packages (from polly-python==0.2.8) (1.16.0)\n",
            "Collecting python-jose>=3.3.0\n",
            "  Downloading python_jose-3.3.0-py2.py3-none-any.whl (33 kB)\n",
            "Collecting datapane\n",
            "  Downloading datapane-0.15.5-py3-none-any.whl (7.2 MB)\n",
            "\u001b[K     |████████████████████████████████| 7.2 MB 108.8 MB/s eta 0:00:01\n",
            "\u001b[?25hRequirement already satisfied: python-dateutil in /usr/local/lib/python3.10/site-packages (from polly-python==0.2.8) (2.8.1)\n",
            "Collecting requests==2.25.1\n",
            "  Downloading requests-2.25.1-py2.py3-none-any.whl (61 kB)\n",
            "\u001b[K     |████████████████████████████████| 61 kB 23.6 MB/s  eta 0:00:01\n",
            "\u001b[?25hRequirement already satisfied: urllib3==1.26.6 in /usr/local/lib/python3.10/site-packages (from polly-python==0.2.8) (1.26.6)\n",
            "Collecting retrying==1.3.3\n",
            "  Downloading retrying-1.3.3.tar.gz (10 kB)\n",
            "Collecting python-magic==0.4.24\n",
            "  Downloading python_magic-0.4.24-py2.py3-none-any.whl (12 kB)\n",
            "Collecting sqlparse\n",
            "  Downloading sqlparse-0.4.3-py3-none-any.whl (42 kB)\n",
            "\u001b[K     |████████████████████████████████| 42 kB 4.1 MB/s  eta 0:00:01\n",
            "\u001b[?25hCollecting elucidatacmapPy==3.3.4\n",
            "  Downloading elucidatacmapPy-3.3.4-py3-none-any.whl (134 kB)\n",
            "\u001b[K     |████████████████████████████████| 134 kB 114.2 MB/s eta 0:00:01\n",
            "\u001b[?25hCollecting pytz==2021.1\n",
            "  Downloading pytz-2021.1-py2.py3-none-any.whl (510 kB)\n",
            "\u001b[K     |████████████████████████████████| 510 kB 105.6 MB/s eta 0:00:01\n",
            "\u001b[?25hCollecting postpy2==0.0.6\n",
            "  Downloading postpy2-0.0.6-py3-none-any.whl (17 kB)\n",
            "Requirement already satisfied: boto3>=1.17.73 in /usr/local/lib/python3.10/site-packages (from polly-python==0.2.8) (1.21.19)\n",
            "Collecting beautifulsoup4\n",
            "  Downloading beautifulsoup4-4.11.1-py3-none-any.whl (128 kB)\n",
            "\u001b[K     |████████████████████████████████| 128 kB 109.2 MB/s eta 0:00:01\n",
            "\u001b[?25hRequirement already satisfied: pandas in /usr/local/lib/python3.10/site-packages (from polly-python==0.2.8) (1.4.1)\n",
            "Collecting elucidatacloudpathlib==0.6.6\n",
            "  Downloading elucidatacloudpathlib-0.6.6-py3-none-any.whl (50 kB)\n",
            "\u001b[K     |████████████████████████████████| 50 kB 17.8 MB/s eta 0:00:01\n",
            "\u001b[?25hRequirement already satisfied: botocore>=1.20.73 in /usr/local/lib/python3.10/site-packages (from polly-python==0.2.8) (1.24.19)\n",
            "Collecting pydantic\n",
            "  Downloading pydantic-1.10.4-cp310-cp310-manylinux_2_17_x86_64.manylinux2014_x86_64.whl (3.1 MB)\n",
            "\u001b[K     |████████████████████████████████| 3.1 MB 107.9 MB/s eta 0:00:01\n",
            "\u001b[?25hCollecting joblib\n",
            "  Downloading joblib-1.2.0-py3-none-any.whl (297 kB)\n",
            "\u001b[K     |████████████████████████████████| 297 kB 111.5 MB/s eta 0:00:01\n",
            "\u001b[?25hRequirement already satisfied: setuptools in /usr/local/lib/python3.10/site-packages (from Cerberus==1.3.2->polly-python==0.2.8) (58.1.0)\n",
            "Collecting h5py>=2.6.0\n",
            "  Downloading h5py-3.7.0-cp310-cp310-manylinux_2_12_x86_64.manylinux2010_x86_64.whl (4.5 MB)\n",
            "\u001b[K     |████████████████████████████████| 4.5 MB 118.1 MB/s eta 0:00:01\n",
            "\u001b[?25hRequirement already satisfied: numpy>=1.11.2 in /usr/local/lib/python3.10/site-packages (from elucidatacmapPy==3.3.4->polly-python==0.2.8) (1.22.3)\n",
            "Requirement already satisfied: s3transfer<0.6.0,>=0.5.0 in /usr/local/lib/python3.10/site-packages (from boto3>=1.17.73->polly-python==0.2.8) (0.5.2)\n",
            "Requirement already satisfied: jmespath<1.0.0,>=0.7.1 in /usr/local/lib/python3.10/site-packages (from boto3>=1.17.73->polly-python==0.2.8) (0.10.0)\n",
            "Requirement already satisfied: cffi>=1.12 in /usr/local/lib/python3.10/site-packages (from cryptography>=38.0.1->polly-python==0.2.8) (1.15.1)\n",
            "Requirement already satisfied: pycparser in /usr/local/lib/python3.10/site-packages (from cffi>=1.12->cryptography>=38.0.1->polly-python==0.2.8) (2.21)\n",
            "Collecting ecdsa!=0.15\n",
            "  Downloading ecdsa-0.18.0-py2.py3-none-any.whl (142 kB)\n",
            "\u001b[K     |████████████████████████████████| 142 kB 105.6 MB/s eta 0:00:01\n",
            "\u001b[?25hRequirement already satisfied: rsa in /usr/local/lib/python3.10/site-packages (from python-jose>=3.3.0->polly-python==0.2.8) (4.7.2)\n",
            "Requirement already satisfied: pyasn1 in /usr/local/lib/python3.10/site-packages (from python-jose>=3.3.0->polly-python==0.2.8) (0.4.8)\n",
            "Collecting soupsieve>1.2\n",
            "  Downloading soupsieve-2.3.2.post1-py3-none-any.whl (37 kB)\n",
            "Requirement already satisfied: Jinja2<4.0.0,>=3.0.0 in /usr/local/lib/python3.10/site-packages (from datapane->polly-python==0.2.8) (3.0.3)\n",
            "Collecting requests-toolbelt<0.10.0,>=0.9.1\n",
            "  Downloading requests_toolbelt-0.9.1-py2.py3-none-any.whl (54 kB)\n",
            "\u001b[K     |████████████████████████████████| 54 kB 7.5 MB/s s eta 0:00:01\n",
            "\u001b[?25hRequirement already satisfied: jsonschema<5.0.0,>=3.2.0 in /usr/local/lib/python3.10/site-packages (from datapane->polly-python==0.2.8) (4.2.1)\n",
            "Collecting toolz<0.13.0,>=0.11.0\n",
            "  Downloading toolz-0.12.0-py3-none-any.whl (55 kB)\n",
            "\u001b[K     |████████████████████████████████| 55 kB 12.4 MB/s  eta 0:00:01\n",
            "\u001b[?25hCollecting pyarrow<11.0.0,>=6.0.0\n",
            "  Downloading pyarrow-10.0.1-cp310-cp310-manylinux_2_17_x86_64.manylinux2014_x86_64.whl (35.9 MB)\n",
            "\u001b[K     |████████████████████████████████| 35.9 MB 127.6 MB/s eta 0:00:01\n",
            "\u001b[?25hRequirement already satisfied: nbconvert<7.0.0,>=6.1.0 in /usr/local/lib/python3.10/site-packages (from datapane->polly-python==0.2.8) (6.3.0)\n",
            "Collecting lxml<5.0.0,>=4.0.0\n",
            "  Downloading lxml-4.9.2-cp310-cp310-manylinux_2_17_x86_64.manylinux2014_x86_64.manylinux_2_24_x86_64.whl (7.1 MB)\n",
            "\u001b[K     |████████████████████████████████| 7.1 MB 110.5 MB/s eta 0:00:01\n",
            "\u001b[?25hCollecting dacite<2.0.0,>=1.0.2\n",
            "  Downloading dacite-1.7.0-py3-none-any.whl (12 kB)\n",
            "Collecting importlib_resources<6.0.0,>=3.0.0\n",
            "  Downloading importlib_resources-5.10.2-py3-none-any.whl (34 kB)\n",
            "Collecting datacommons<2.0.0,>=1.4.3\n",
            "  Downloading datacommons-1.4.3-py3-none-any.whl (46 kB)\n",
            "\u001b[K     |████████████████████████████████| 46 kB 12.8 MB/s  eta 0:00:01\n",
            "\u001b[?25hCollecting colorlog<7.0.0,>=4.1.0\n",
            "  Downloading colorlog-6.7.0-py2.py3-none-any.whl (11 kB)\n",
            "Collecting posthog<3.0.0,>=1.4.0\n",
            "  Downloading posthog-2.2.0-py2.py3-none-any.whl (33 kB)\n",
            "Collecting glom<23.0.0,>=20.11.0\n",
            "  Downloading glom-22.1.0-py2.py3-none-any.whl (100 kB)\n",
            "\u001b[K     |████████████████████████████████| 100 kB 29.0 MB/s eta 0:00:01\n",
            "\u001b[?25hCollecting validators<0.21.0,>=0.18.0\n",
            "  Downloading validators-0.20.0.tar.gz (30 kB)\n",
            "Collecting datacommons-pandas<0.0.4,>=0.0.3\n",
            "  Downloading datacommons_pandas-0.0.3-py3-none-any.whl (45 kB)\n",
            "\u001b[K     |████████████████████████████████| 45 kB 9.9 MB/s s eta 0:00:01\n"
          ]
        },
        {
          "name": "stdout",
          "output_type": "stream",
          "text": [
            "\u001b[?25hCollecting dulwich<0.21.0,>=0.20.0\n",
            "  Downloading dulwich-0.20.50-cp310-cp310-manylinux_2_17_x86_64.manylinux2014_x86_64.whl (499 kB)\n",
            "\u001b[K     |████████████████████████████████| 499 kB 130.0 MB/s eta 0:00:01\n",
            "\u001b[?25hCollecting furl<3.0.0,>=2.0.0\n",
            "  Downloading furl-2.1.3-py2.py3-none-any.whl (20 kB)\n",
            "Collecting munch<3.0.0,>=2.3.0\n",
            "  Downloading munch-2.5.0-py2.py3-none-any.whl (10 kB)\n",
            "Collecting click-spinner<0.2.0,>=0.1.8\n",
            "  Downloading click_spinner-0.1.10-py2.py3-none-any.whl (4.0 kB)\n",
            "Collecting ipynbname<2022.0.0,>=2021.3.2\n",
            "  Downloading ipynbname-2021.3.2-py3-none-any.whl (4.0 kB)\n",
            "Collecting altair<5.0.0,>=4.0.0\n",
            "  Downloading altair-4.2.0-py3-none-any.whl (812 kB)\n",
            "\u001b[K     |████████████████████████████████| 812 kB 127.6 MB/s eta 0:00:01\n",
            "\u001b[?25hCollecting boltons<22.0.0,>=20.0.0\n",
            "  Downloading boltons-21.0.0-py2.py3-none-any.whl (193 kB)\n",
            "\u001b[K     |████████████████████████████████| 193 kB 114.5 MB/s eta 0:00:01\n",
            "\u001b[?25hCollecting micawber>=0.5.0\n",
            "  Downloading micawber-0.5.4.tar.gz (18 kB)\n",
            "Collecting click<9.0.0,>=7.1.0\n",
            "  Downloading click-8.1.3-py3-none-any.whl (96 kB)\n",
            "\u001b[K     |████████████████████████████████| 96 kB 13.9 MB/s  eta 0:00:01\n",
            "\u001b[?25hRequirement already satisfied: PyYAML<7.0.0,>=5.4.0 in /usr/local/lib/python3.10/site-packages (from datapane->polly-python==0.2.8) (5.4.1)\n",
            "Collecting packaging<22.0.0,>=20.0.0\n",
            "  Downloading packaging-21.3-py3-none-any.whl (40 kB)\n",
            "\u001b[K     |████████████████████████████████| 40 kB 14.8 MB/s  eta 0:00:01\n",
            "\u001b[?25hCollecting vega-datasets<1.0.0,>=0.9.0\n",
            "  Downloading vega_datasets-0.9.0-py3-none-any.whl (210 kB)\n",
            "\u001b[K     |████████████████████████████████| 210 kB 137.4 MB/s eta 0:00:01\n",
            "\u001b[?25hCollecting dominate<3.0.0,>=2.4.0\n",
            "  Downloading dominate-2.7.0-py2.py3-none-any.whl (29 kB)\n",
            "Collecting tabulate<0.9.0,>=0.8.0\n",
            "  Downloading tabulate-0.8.10-py3-none-any.whl (29 kB)\n",
            "Collecting stringcase<2.0.0,>=1.2.0\n",
            "  Downloading stringcase-1.2.0.tar.gz (3.0 kB)\n",
            "Requirement already satisfied: entrypoints in /usr/local/lib/python3.10/site-packages (from altair<5.0.0,>=4.0.0->datapane->polly-python==0.2.8) (0.3)\n",
            "Collecting orderedmultidict>=1.0.1\n",
            "  Downloading orderedmultidict-1.0.1-py2.py3-none-any.whl (11 kB)\n",
            "Collecting face>=20.1.0\n",
            "  Downloading face-22.0.0-py3-none-any.whl (54 kB)\n",
            "\u001b[K     |████████████████████████████████| 54 kB 7.5 MB/s s eta 0:00:01\n",
            "\u001b[?25hRequirement already satisfied: attrs in /usr/local/lib/python3.10/site-packages (from glom<23.0.0,>=20.11.0->datapane->polly-python==0.2.8) (21.2.0)\n",
            "Requirement already satisfied: ipykernel in /usr/local/lib/python3.10/site-packages (from ipynbname<2022.0.0,>=2021.3.2->datapane->polly-python==0.2.8) (6.13.1)\n",
            "Requirement already satisfied: MarkupSafe>=2.0 in /usr/local/lib/python3.10/site-packages (from Jinja2<4.0.0,>=3.0.0->datapane->polly-python==0.2.8) (2.0.1)\n",
            "Requirement already satisfied: pyrsistent!=0.17.0,!=0.17.1,!=0.17.2,>=0.14.0 in /usr/local/lib/python3.10/site-packages (from jsonschema<5.0.0,>=3.2.0->datapane->polly-python==0.2.8) (0.18.0)\n",
            "Requirement already satisfied: nbclient<0.6.0,>=0.5.0 in /usr/local/lib/python3.10/site-packages (from nbconvert<7.0.0,>=6.1.0->datapane->polly-python==0.2.8) (0.5.13)\n",
            "Requirement already satisfied: nbformat>=4.4 in /usr/local/lib/python3.10/site-packages (from nbconvert<7.0.0,>=6.1.0->datapane->polly-python==0.2.8) (5.1.3)\n",
            "Requirement already satisfied: defusedxml in /usr/local/lib/python3.10/site-packages (from nbconvert<7.0.0,>=6.1.0->datapane->polly-python==0.2.8) (0.7.1)\n",
            "Requirement already satisfied: traitlets>=5.0 in /usr/local/lib/python3.10/site-packages (from nbconvert<7.0.0,>=6.1.0->datapane->polly-python==0.2.8) (5.1.1)\n",
            "Requirement already satisfied: jupyterlab-pygments in /usr/local/lib/python3.10/site-packages (from nbconvert<7.0.0,>=6.1.0->datapane->polly-python==0.2.8) (0.2.2)\n",
            "Requirement already satisfied: pandocfilters>=1.4.1 in /usr/local/lib/python3.10/site-packages (from nbconvert<7.0.0,>=6.1.0->datapane->polly-python==0.2.8) (1.5.0)\n",
            "Requirement already satisfied: testpath in /usr/local/lib/python3.10/site-packages (from nbconvert<7.0.0,>=6.1.0->datapane->polly-python==0.2.8) (0.5.0)\n",
            "Requirement already satisfied: pygments>=2.4.1 in /usr/local/lib/python3.10/site-packages (from nbconvert<7.0.0,>=6.1.0->datapane->polly-python==0.2.8) (2.10.0)\n",
            "Requirement already satisfied: mistune<2,>=0.8.1 in /usr/local/lib/python3.10/site-packages (from nbconvert<7.0.0,>=6.1.0->datapane->polly-python==0.2.8) (0.8.4)\n",
            "Requirement already satisfied: bleach in /usr/local/lib/python3.10/site-packages (from nbconvert<7.0.0,>=6.1.0->datapane->polly-python==0.2.8) (4.1.0)\n",
            "Requirement already satisfied: jupyter-core in /usr/local/lib/python3.10/site-packages (from nbconvert<7.0.0,>=6.1.0->datapane->polly-python==0.2.8) (4.9.1)\n",
            "Requirement already satisfied: nest-asyncio in /usr/local/lib/python3.10/site-packages (from nbclient<0.6.0,>=0.5.0->nbconvert<7.0.0,>=6.1.0->datapane->polly-python==0.2.8) (1.5.6)\n",
            "Requirement already satisfied: jupyter-client>=6.1.5 in /usr/local/lib/python3.10/site-packages (from nbclient<0.6.0,>=0.5.0->nbconvert<7.0.0,>=6.1.0->datapane->polly-python==0.2.8) (6.1.12)\n",
            "Requirement already satisfied: tornado>=4.1 in /usr/local/lib/python3.10/site-packages (from jupyter-client>=6.1.5->nbclient<0.6.0,>=0.5.0->nbconvert<7.0.0,>=6.1.0->datapane->polly-python==0.2.8) (6.1)\n",
            "Requirement already satisfied: pyzmq>=13 in /usr/local/lib/python3.10/site-packages (from jupyter-client>=6.1.5->nbclient<0.6.0,>=0.5.0->nbconvert<7.0.0,>=6.1.0->datapane->polly-python==0.2.8) (22.3.0)\n",
            "Requirement already satisfied: ipython-genutils in /usr/local/lib/python3.10/site-packages (from nbformat>=4.4->nbconvert<7.0.0,>=6.1.0->datapane->polly-python==0.2.8) (0.2.0)\n",
            "Requirement already satisfied: pyparsing!=3.0.5,>=2.0.2 in /usr/local/lib/python3.10/site-packages (from packaging<22.0.0,>=20.0.0->datapane->polly-python==0.2.8) (3.0.6)\n",
            "Collecting backoff<2.0.0,>=1.10.0\n",
            "  Downloading backoff-1.11.1-py2.py3-none-any.whl (13 kB)\n",
            "Collecting monotonic>=1.5\n",
            "  Downloading monotonic-1.6-py2.py3-none-any.whl (8.2 kB)\n",
            "Collecting typing-extensions>=4.2.0\n",
            "  Downloading typing_extensions-4.4.0-py3-none-any.whl (26 kB)\n",
            "Requirement already satisfied: decorator>=3.4.0 in /usr/local/lib/python3.10/site-packages (from validators<0.21.0,>=0.18.0->datapane->polly-python==0.2.8) (5.1.0)\n",
            "Requirement already satisfied: webencodings in /usr/local/lib/python3.10/site-packages (from bleach->nbconvert<7.0.0,>=6.1.0->datapane->polly-python==0.2.8) (0.5.1)\n",
            "Collecting wrapt<2,>=1.10\n",
            "  Downloading wrapt-1.14.1-cp310-cp310-manylinux_2_5_x86_64.manylinux1_x86_64.manylinux_2_17_x86_64.manylinux2014_x86_64.whl (77 kB)\n",
            "\u001b[K     |████████████████████████████████| 77 kB 19.9 MB/s  eta 0:00:01\n",
            "\u001b[?25hRequirement already satisfied: ipython>=7.23.1 in /usr/local/lib/python3.10/site-packages (from ipykernel->ipynbname<2022.0.0,>=2021.3.2->datapane->polly-python==0.2.8) (8.2.0)\n",
            "Requirement already satisfied: debugpy>=1.0 in /usr/local/lib/python3.10/site-packages (from ipykernel->ipynbname<2022.0.0,>=2021.3.2->datapane->polly-python==0.2.8) (1.6.4)\n",
            "Requirement already satisfied: matplotlib-inline>=0.1 in /usr/local/lib/python3.10/site-packages (from ipykernel->ipynbname<2022.0.0,>=2021.3.2->datapane->polly-python==0.2.8) (0.1.3)\n",
            "Requirement already satisfied: psutil in /usr/local/lib/python3.10/site-packages (from ipykernel->ipynbname<2022.0.0,>=2021.3.2->datapane->polly-python==0.2.8) (5.9.4)\n",
            "Requirement already satisfied: stack-data in /usr/local/lib/python3.10/site-packages (from ipython>=7.23.1->ipykernel->ipynbname<2022.0.0,>=2021.3.2->datapane->polly-python==0.2.8) (0.6.2)\n",
            "Requirement already satisfied: jedi>=0.16 in /usr/local/lib/python3.10/site-packages (from ipython>=7.23.1->ipykernel->ipynbname<2022.0.0,>=2021.3.2->datapane->polly-python==0.2.8) (0.18.1)\n",
            "Requirement already satisfied: pickleshare in /usr/local/lib/python3.10/site-packages (from ipython>=7.23.1->ipykernel->ipynbname<2022.0.0,>=2021.3.2->datapane->polly-python==0.2.8) (0.7.5)\n",
            "Requirement already satisfied: prompt-toolkit!=3.0.0,!=3.0.1,<3.1.0,>=2.0.0 in /usr/local/lib/python3.10/site-packages (from ipython>=7.23.1->ipykernel->ipynbname<2022.0.0,>=2021.3.2->datapane->polly-python==0.2.8) (3.0.22)\n",
            "Requirement already satisfied: pexpect>4.3 in /usr/local/lib/python3.10/site-packages (from ipython>=7.23.1->ipykernel->ipynbname<2022.0.0,>=2021.3.2->datapane->polly-python==0.2.8) (4.8.0)\n",
            "Requirement already satisfied: backcall in /usr/local/lib/python3.10/site-packages (from ipython>=7.23.1->ipykernel->ipynbname<2022.0.0,>=2021.3.2->datapane->polly-python==0.2.8) (0.2.0)\n"
          ]
        },
        {
          "name": "stdout",
          "output_type": "stream",
          "text": [
            "Requirement already satisfied: parso<0.9.0,>=0.8.0 in /usr/local/lib/python3.10/site-packages (from jedi>=0.16->ipython>=7.23.1->ipykernel->ipynbname<2022.0.0,>=2021.3.2->datapane->polly-python==0.2.8) (0.8.2)\n",
            "Requirement already satisfied: ptyprocess>=0.5 in /usr/local/lib/python3.10/site-packages (from pexpect>4.3->ipython>=7.23.1->ipykernel->ipynbname<2022.0.0,>=2021.3.2->datapane->polly-python==0.2.8) (0.7.0)\n",
            "Requirement already satisfied: wcwidth in /usr/local/lib/python3.10/site-packages (from prompt-toolkit!=3.0.0,!=3.0.1,<3.1.0,>=2.0.0->ipython>=7.23.1->ipykernel->ipynbname<2022.0.0,>=2021.3.2->datapane->polly-python==0.2.8) (0.2.5)\n",
            "Collecting tenacity>=6.2.0\n",
            "  Downloading tenacity-8.1.0-py3-none-any.whl (23 kB)\n",
            "Collecting pronto\n",
            "  Downloading pronto-2.5.2-py2.py3-none-any.whl (61 kB)\n",
            "\u001b[K     |████████████████████████████████| 61 kB 20.3 MB/s  eta 0:00:01\n",
            "\u001b[?25hCollecting rapidfuzz==2.1.1\n",
            "  Downloading rapidfuzz-2.1.1-cp310-cp310-manylinux_2_17_x86_64.manylinux2014_x86_64.whl (2.0 MB)\n",
            "\u001b[K     |████████████████████████████████| 2.0 MB 84.3 MB/s eta 0:00:01\n",
            "\u001b[?25hCollecting appdirs==1.4.4\n",
            "  Downloading appdirs-1.4.4-py2.py3-none-any.whl (9.6 kB)\n",
            "Collecting jarowinkler<1.1.0,>=1.0.3\n",
            "  Downloading jarowinkler-1.0.5-cp310-cp310-manylinux_2_17_x86_64.manylinux2014_x86_64.whl (103 kB)\n",
            "\u001b[K     |████████████████████████████████| 103 kB 125.3 MB/s eta 0:00:01\n",
            "\u001b[?25hRequirement already satisfied: networkx~=2.3 in /usr/local/lib/python3.10/site-packages (from pronto->polly-validator@ https://elucidatainc.github.io/PublicAssets/builds/polly_validator-0.0.1-py3-none-any.whl->polly-python==0.2.8) (2.8.8)\n",
            "Collecting pronto\n",
            "  Downloading pronto-2.5.1-py2.py3-none-any.whl (61 kB)\n",
            "\u001b[K     |████████████████████████████████| 61 kB 16.9 MB/s  eta 0:00:01\n",
            "\u001b[?25hCollecting fastobo~=0.12.1\n",
            "  Downloading fastobo-0.12.2-cp310-cp310-manylinux_2_17_x86_64.manylinux2014_x86_64.whl (2.1 MB)\n",
            "\u001b[K     |████████████████████████████████| 2.1 MB 88.1 MB/s eta 0:00:01\n",
            "\u001b[?25hCollecting tomli>=1.0.0\n",
            "  Downloading tomli-2.0.1-py3-none-any.whl (12 kB)\n",
            "Collecting pluggy<2.0,>=0.12\n",
            "  Downloading pluggy-1.0.0-py2.py3-none-any.whl (13 kB)\n",
            "Collecting iniconfig\n",
            "  Downloading iniconfig-1.1.1-py2.py3-none-any.whl (5.0 kB)\n",
            "Collecting exceptiongroup>=1.0.0rc8\n",
            "  Downloading exceptiongroup-1.1.0-py3-none-any.whl (14 kB)\n",
            "Requirement already satisfied: docutils>=0.11 in /usr/local/lib/python3.10/site-packages (from rst2txt->polly-python==0.2.8) (0.15.2)\n",
            "Requirement already satisfied: executing>=1.2.0 in /usr/local/lib/python3.10/site-packages (from stack-data->ipython>=7.23.1->ipykernel->ipynbname<2022.0.0,>=2021.3.2->datapane->polly-python==0.2.8) (1.2.0)\n",
            "Requirement already satisfied: asttokens>=2.1.0 in /usr/local/lib/python3.10/site-packages (from stack-data->ipython>=7.23.1->ipykernel->ipynbname<2022.0.0,>=2021.3.2->datapane->polly-python==0.2.8) (2.2.1)\n",
            "Requirement already satisfied: pure-eval in /usr/local/lib/python3.10/site-packages (from stack-data->ipython>=7.23.1->ipykernel->ipynbname<2022.0.0,>=2021.3.2->datapane->polly-python==0.2.8) (0.2.2)\n",
            "Using legacy 'setup.py install' for Cerberus, since package 'wheel' is not installed.\n",
            "Using legacy 'setup.py install' for retrying, since package 'wheel' is not installed.\n",
            "Using legacy 'setup.py install' for micawber, since package 'wheel' is not installed.\n",
            "Using legacy 'setup.py install' for stringcase, since package 'wheel' is not installed.\n",
            "Using legacy 'setup.py install' for validators, since package 'wheel' is not installed.\n",
            "Installing collected packages: pytz, packaging, certifi, boltons, typing-extensions, toolz, requests, orderedmultidict, monotonic, jarowinkler, fastobo, face, backoff, wrapt, vega-datasets, validators, tomli, tenacity, tabulate, stringcase, soupsieve, requests-toolbelt, rapidfuzz, python-magic, pydantic, pyarrow, pronto, posthog, pluggy, munch, micawber, lxml, ipynbname, iniconfig, importlib-resources, h5py, glom, furl, exceptiongroup, ecdsa, dulwich, dominate, datacommons-pandas, datacommons, dacite, colorlog, click-spinner, click, appdirs, altair, sqlparse, rst2txt, retrying, python-jose, pytest, postpy2, polly-validator, plotly, mixpanel, joblib, elucidatacmapPy, elucidatacloudpathlib, Deprecated, datapane, cryptography, Cerberus, beautifulsoup4, polly-python\n",
            "  Attempting uninstall: pytz\n",
            "    Found existing installation: pytz 2021.3\n",
            "    Uninstalling pytz-2021.3:\n",
            "      Successfully uninstalled pytz-2021.3\n",
            "  Attempting uninstall: packaging\n",
            "    Found existing installation: packaging 22.0\n",
            "    Uninstalling packaging-22.0:\n",
            "      Successfully uninstalled packaging-22.0\n",
            "  Attempting uninstall: certifi\n",
            "    Found existing installation: certifi 2021.5.30\n",
            "    Uninstalling certifi-2021.5.30:\n",
            "      Successfully uninstalled certifi-2021.5.30\n",
            "  Attempting uninstall: requests\n",
            "    Found existing installation: requests 2.27.1\n",
            "    Uninstalling requests-2.27.1:\n",
            "      Successfully uninstalled requests-2.27.1\n",
            "    Running setup.py install for validators ... \u001b[?25ldone\n",
            "\u001b[?25h  Attempting uninstall: tabulate\n",
            "    Found existing installation: tabulate 0.9.0\n",
            "    Uninstalling tabulate-0.9.0:\n",
            "      Successfully uninstalled tabulate-0.9.0\n",
            "    Running setup.py install for stringcase ... \u001b[?25ldone\n",
            "\u001b[?25h    Running setup.py install for micawber ... \u001b[?25ldone\n",
            "\u001b[?25h    Running setup.py install for retrying ... \u001b[?25ldone\n",
            "\u001b[?25h  Attempting uninstall: Cerberus\n",
            "    Found existing installation: Cerberus 1.3.4\n",
            "    Uninstalling Cerberus-1.3.4:\n",
            "      Successfully uninstalled Cerberus-1.3.4\n",
            "    Running setup.py install for Cerberus ... \u001b[?25ldone\n",
            "\u001b[?25hSuccessfully installed Cerberus-1.3.2 Deprecated-1.2.13 altair-4.2.0 appdirs-1.4.4 backoff-1.11.1 beautifulsoup4-4.11.1 boltons-21.0.0 certifi-2021.10.8 click-8.1.3 click-spinner-0.1.10 colorlog-6.7.0 cryptography-39.0.0 dacite-1.7.0 datacommons-1.4.3 datacommons-pandas-0.0.3 datapane-0.15.5 dominate-2.7.0 dulwich-0.20.50 ecdsa-0.18.0 elucidatacloudpathlib-0.6.6 elucidatacmapPy-3.3.4 exceptiongroup-1.1.0 face-22.0.0 fastobo-0.12.2 furl-2.1.3 glom-22.1.0 h5py-3.7.0 importlib-resources-5.10.2 iniconfig-1.1.1 ipynbname-2021.3.2 jarowinkler-1.0.5 joblib-1.2.0 lxml-4.9.2 micawber-0.5.4 mixpanel-4.10.0 monotonic-1.6 munch-2.5.0 orderedmultidict-1.0.1 packaging-21.3 plotly-5.11.0 pluggy-1.0.0 polly-python-0.2.8 polly-validator-0.0.1 posthog-2.2.0 postpy2-0.0.6 pronto-2.5.1 pyarrow-10.0.1 pydantic-1.10.4 pytest-7.2.0 python-jose-3.3.0 python-magic-0.4.24 pytz-2021.1 rapidfuzz-2.1.1 requests-2.25.1 requests-toolbelt-0.9.1 retrying-1.3.3 rst2txt-1.1.0 soupsieve-2.3.2.post1 sqlparse-0.4.3 stringcase-1.2.0 tabulate-0.8.10 tenacity-8.1.0 tomli-2.0.1 toolz-0.12.0 typing-extensions-4.4.0 validators-0.20.0 vega-datasets-0.9.0 wrapt-1.14.1\n",
            "\u001b[33mWARNING: Running pip as the 'root' user can result in broken permissions and conflicting behaviour with the system package manager. It is recommended to use a virtual environment instead: https://pip.pypa.io/warnings/venv\u001b[0m\n",
            "\u001b[33mWARNING: You are using pip version 21.2.4; however, version 22.3.1 is available.\n",
            "You should consider upgrading via the '/usr/local/bin/python3.10 -m pip install --upgrade pip' command.\u001b[0m\n"
          ]
        }
      ],
      "source": [
        "!sudo pip3 install https://elucidatainc.github.io/PublicAssets/builds/polly-python/polly_python-0.2.8-py3-none-any.whl"
      ]
    },
    {
      "cell_type": "code",
      "execution_count": 1,
      "metadata": {},
      "outputs": [],
      "source": [
        "import os\n",
        "from polly.auth import Polly\n",
        "AUTH_TOKEN=(os.environ['POLLY_REFRESH_TOKEN']) # Obtain authentication tokens\n",
        "Polly.auth(AUTH_TOKEN)\n",
        "from polly.omixatlas import OmixAtlas\n",
        "omixatlas = OmixAtlas()"
      ]
    },
    {
      "cell_type": "code",
      "execution_count": 2,
      "metadata": {},
      "outputs": [
        {
          "name": "stdout",
          "output_type": "stream",
          "text": [
            "/bin/bash: warning: setlocale: LC_ALL: cannot change locale (en_US.UTF-8)\n",
            "\u001b7\u001b[?7l\u001b[1Gprogress [░░░░░░░░░░░░░░░░░░░░░░░░░░░░░░░░░░░░░░░░] 0% | NA | ETA: 0s | time elapsed: 0s\u001b[0K\u001b[1Gprogress [██████████░░░░░░░░░░░░░░░░░░░░░░░░░░░░░░] 24% | 2.147 KB/8.633 KB | ETA: 1s | time elapsed: 0s\u001b[0K\u001b[1Gprogress [██████████████████████████████░░░░░░░░░░] 74% | 6.449 KB/8.633 KB | ETA: 1s | time elapsed: 0s\u001b[0K\u001b[1Gprogress [████████████████████████████████████████] 100% | 8.633 KB/8.633 KB | ETA: 0s | time elapsed: 0s\u001b[0K\u001b[?7h\u001b8\n",
            "\u001b[32m\u001b[1mSuccess: Sync complete\u001b[22m\u001b[39m\n"
          ]
        }
      ],
      "source": [
        "!polly files sync -s \"polly://metadata/\" -d \"metadata/\" -y"
      ]
    },
    {
      "cell_type": "code",
      "execution_count": 3,
      "metadata": {},
      "outputs": [
        {
          "name": "stdout",
          "output_type": "stream",
          "text": [
            "/bin/bash: warning: setlocale: LC_ALL: cannot change locale (en_US.UTF-8)\n",
            "\u001b7\u001b[?7l\u001b[1Gprogress [░░░░░░░░░░░░░░░░░░░░░░░░░░░░░░░░░░░░░░░░] 0% | NA | ETA: 0s | time elapsed: 0s\u001b[0K\u001b[1Gprogress [██████████████████████████████░░░░░░░░░░] 74% | 100.016 KB/133.591 KB | ETA: 1s | time elapsed: 0s\u001b[0K\u001b[1Gprogress [████████████████████████████████████████] 100% | 133.591 KB/133.591 KB | ETA: 0s | time elapsed: 0s\u001b[0K\u001b[?7h\u001b8\n",
            "\u001b[32m\u001b[1mSuccess: Sync complete\u001b[22m\u001b[39m\n"
          ]
        }
      ],
      "source": [
        "!polly files sync -s \"polly://data/\" -d \"data/\" -y"
      ]
    },
    {
      "cell_type": "code",
      "execution_count": 4,
      "metadata": {},
      "outputs": [
        {
          "name": "stdout",
          "output_type": "stream",
          "text": [
            "Retrieving ontological names...\n"
          ]
        },
        {
          "name": "stderr",
          "output_type": "stream",
          "text": [
            "/usr/local/lib/python3.10/site-packages/polly_validator/downloader/get_valid_names.py:46: UnicodeWarning: unsound encoding, assuming utf-8 (99% confidence)\n",
            "  diseases = pt.Ontology(f'https://raw.githubusercontent.com/bioinfo-el/ontologies/'\n"
          ]
        },
        {
          "name": "stdout",
          "output_type": "stream",
          "text": [
            "Getting predefined values for Data Type and Data Source...\n",
            "Retrieved Valid Data Types\n",
            "Retrieved Valid Data Sources\n"
          ]
        }
      ],
      "source": [
        "from polly.validation import Validation\n",
        "validation = Validation()"
      ]
    },
    {
      "cell_type": "code",
      "execution_count": 6,
      "metadata": {},
      "outputs": [
        {
          "name": "stderr",
          "output_type": "stream",
          "text": [
            "Combined Metadata Files for Validation: 100%|██████████| 4/4 [00:00<00:00, 5981.18it/s]\n"
          ]
        },
        {
          "name": "stdout",
          "output_type": "stream",
          "text": [
            "╒════╤═════════════════════════════════════╤═══════════════════════╤═══════════════════════╤═════════════════╤═══════════════╕\n",
            "│    │ dataset_id                          │ Field                 │ Original Name         │ Error Message   │          Repo │\n",
            "╞════╪═════════════════════════════════════╪═══════════════════════╪═══════════════════════╪═════════════════╪═══════════════╡\n",
            "│  0 │ ACBC_MSKCC_2015_Copy_Number_AdCC11T │ data_matrix_available │ Data Matrix Available │ field required  │ 1643016586529 │\n",
            "├────┼─────────────────────────────────────┼───────────────────────┼───────────────────────┼─────────────────┼───────────────┤\n",
            "│  1 │ ACBC_MSKCC_2015_Copy_Number_AdCC11T │ year                  │ year                  │ field required  │ 1643016586529 │\n",
            "├────┼─────────────────────────────────────┼───────────────────────┼───────────────────────┼─────────────────┼───────────────┤\n",
            "│  2 │ ACBC_MSKCC_2015_Copy_Number_AdCC11T │ platform              │ platform              │ field required  │ 1643016586529 │\n",
            "├────┼─────────────────────────────────────┼───────────────────────┼───────────────────────┼─────────────────┼───────────────┤\n",
            "│  3 │ ACBC_MSKCC_2015_Copy_Number_AdCC11T │ subseries_ids         │ subseries_ids         │ field required  │ 1643016586529 │\n",
            "├────┼─────────────────────────────────────┼───────────────────────┼───────────────────────┼─────────────────┼───────────────┤\n",
            "│  4 │ ACBC_MSKCC_2015_Copy_Number_AdCC11T │ missing_samples       │ missing_samples       │ field required  │ 1643016586529 │\n",
            "├────┼─────────────────────────────────────┼───────────────────────┼───────────────────────┼─────────────────┼───────────────┤\n",
            "│  5 │ ACBC_MSKCC_2015_Copy_Number_AdCC11T │ summary               │ summary               │ field required  │ 1643016586529 │\n",
            "├────┼─────────────────────────────────────┼───────────────────────┼───────────────────────┼─────────────────┼───────────────┤\n",
            "│  6 │ ACBC_MSKCC_2015_Copy_Number_AdCC11T │ drug_smiles           │ kw_smiles             │ field required  │ 1643016586529 │\n",
            "├────┼─────────────────────────────────────┼───────────────────────┼───────────────────────┼─────────────────┼───────────────┤\n",
            "│  7 │ ACBC_MSKCC_2015_Copy_Number_AdCC11T │ author                │ author                │ field required  │ 1643016586529 │\n",
            "├────┼─────────────────────────────────────┼───────────────────────┼───────────────────────┼─────────────────┼───────────────┤\n",
            "│  8 │ ACBC_MSKCC_2015_Copy_Number_AdCC11T │ curated_gene          │ kw_gene               │ field required  │ 1643016586529 │\n",
            "├────┼─────────────────────────────────────┼───────────────────────┼───────────────────────┼─────────────────┼───────────────┤\n",
            "│  9 │ ACBC_MSKCC_2015_Copy_Number_AdCC11T │ abstract              │ abstract              │ field required  │ 1643016586529 │\n",
            "├────┼─────────────────────────────────────┼───────────────────────┼───────────────────────┼─────────────────┼───────────────┤\n",
            "│ 10 │ ACBC_MSKCC_2015_Copy_Number_AdCC11T │ curated_strain        │ kw_strain             │ field required  │ 1643016586529 │\n",
            "├────┼─────────────────────────────────────┼───────────────────────┼───────────────────────┼─────────────────┼───────────────┤\n",
            "│ 11 │ ACBC_MSKCC_2015_Copy_Number_AdCC11T │ overall_design        │ overall_design        │ field required  │ 1643016586529 │\n",
            "╘════╧═════════════════════════════════════╧═══════════════════════╧═══════════════════════╧═════════════════╧═══════════════╛\n",
            "╒════╤════════════════════════════════════╤═══════════════════════╤═══════════════════════╤═══════════════════════════════════════════════════════════════════════════════════════════════╤═══════════════╕\n",
            "│    │ dataset_id                         │ Field                 │ Original Name         │ Error Message                                                                                 │          Repo │\n",
            "╞════╪════════════════════════════════════╪═══════════════════════╪═══════════════════════╪═══════════════════════════════════════════════════════════════════════════════════════════════╪═══════════════╡\n",
            "│  0 │ ACBC_MSKCC_2015_Copy_Number_AdCC1T │ data_matrix_available │ Data Matrix Available │ field required                                                                                │ 1643016586529 │\n",
            "├────┼────────────────────────────────────┼───────────────────────┼───────────────────────┼───────────────────────────────────────────────────────────────────────────────────────────────┼───────────────┤\n",
            "│  1 │ ACBC_MSKCC_2015_Copy_Number_AdCC1T │ year                  │ year                  │ field required                                                                                │ 1643016586529 │\n",
            "├────┼────────────────────────────────────┼───────────────────────┼───────────────────────┼───────────────────────────────────────────────────────────────────────────────────────────────┼───────────────┤\n",
            "│  2 │ ACBC_MSKCC_2015_Copy_Number_AdCC1T │ platform              │ platform              │ field required                                                                                │ 1643016586529 │\n",
            "├────┼────────────────────────────────────┼───────────────────────┼───────────────────────┼───────────────────────────────────────────────────────────────────────────────────────────────┼───────────────┤\n",
            "│  3 │ ACBC_MSKCC_2015_Copy_Number_AdCC1T │ subseries_ids         │ subseries_ids         │ field required                                                                                │ 1643016586529 │\n",
            "├────┼────────────────────────────────────┼───────────────────────┼───────────────────────┼───────────────────────────────────────────────────────────────────────────────────────────────┼───────────────┤\n",
            "│  4 │ ACBC_MSKCC_2015_Copy_Number_AdCC1T │ missing_samples       │ missing_samples       │ field required                                                                                │ 1643016586529 │\n",
            "├────┼────────────────────────────────────┼───────────────────────┼───────────────────────┼───────────────────────────────────────────────────────────────────────────────────────────────┼───────────────┤\n",
            "│  5 │ ACBC_MSKCC_2015_Copy_Number_AdCC1T │ summary               │ summary               │ field required                                                                                │ 1643016586529 │\n",
            "├────┼────────────────────────────────────┼───────────────────────┼───────────────────────┼───────────────────────────────────────────────────────────────────────────────────────────────┼───────────────┤\n",
            "│  6 │ ACBC_MSKCC_2015_Copy_Number_AdCC1T │ drug_smiles           │ kw_smiles             │ field required                                                                                │ 1643016586529 │\n",
            "├────┼────────────────────────────────────┼───────────────────────┼───────────────────────┼───────────────────────────────────────────────────────────────────────────────────────────────┼───────────────┤\n",
            "│  7 │ ACBC_MSKCC_2015_Copy_Number_AdCC1T │ author                │ author                │ field required                                                                                │ 1643016586529 │\n",
            "├────┼────────────────────────────────────┼───────────────────────┼───────────────────────┼───────────────────────────────────────────────────────────────────────────────────────────────┼───────────────┤\n",
            "│  8 │ ACBC_MSKCC_2015_Copy_Number_AdCC1T │ curated_gene          │ kw_gene               │ field required                                                                                │ 1643016586529 │\n",
            "├────┼────────────────────────────────────┼───────────────────────┼───────────────────────┼───────────────────────────────────────────────────────────────────────────────────────────────┼───────────────┤\n",
            "│  9 │ ACBC_MSKCC_2015_Copy_Number_AdCC1T │ abstract              │ abstract              │ field required                                                                                │ 1643016586529 │\n",
            "├────┼────────────────────────────────────┼───────────────────────┼───────────────────────┼───────────────────────────────────────────────────────────────────────────────────────────────┼───────────────┤\n",
            "│ 10 │ ACBC_MSKCC_2015_Copy_Number_AdCC1T │ curated_strain        │ kw_strain             │ field required                                                                                │ 1643016586529 │\n",
            "├────┼────────────────────────────────────┼───────────────────────┼───────────────────────┼───────────────────────────────────────────────────────────────────────────────────────────────┼───────────────┤\n",
            "│ 11 │ ACBC_MSKCC_2015_Copy_Number_AdCC1T │ overall_design        │ overall_design        │ field required                                                                                │ 1643016586529 │\n",
            "├────┼────────────────────────────────────┼───────────────────────┼───────────────────────┼───────────────────────────────────────────────────────────────────────────────────────────────┼───────────────┤\n",
            "│ 12 │ ACBC_MSKCC_2015_Copy_Number_AdCC1T │ curated_disease       │ disease               │ Ontological Validity Check | Invalid Value | Erroneous Value: \"Adenoid Cystic Breast Cancer\"  │ 1643016586529 │\n",
            "├────┼────────────────────────────────────┼───────────────────────┼───────────────────────┼───────────────────────────────────────────────────────────────────────────────────────────────┼───────────────┤\n",
            "│ 13 │ ACBC_MSKCC_2015_Copy_Number_AdCC1T │ dataset_source        │ dataset_source        │ Value Check | Invalid value, not one of the predefined values | Erroneous Value: \"cBioPortal\" │ 1643016586529 │\n",
            "╘════╧════════════════════════════════════╧═══════════════════════╧═══════════════════════╧═══════════════════════════════════════════════════════════════════════════════════════════════╧═══════════════╛\n"
          ]
        },
        {
          "name": "stderr",
          "output_type": "stream",
          "text": [
            "Generating Status File of Validation: 100%|██████████| 4/4 [00:00<00:00, 5785.25it/s]"
          ]
        },
        {
          "name": "stdout",
          "output_type": "stream",
          "text": [
            "------err dataset------\n",
            "                             dataset_id                  Field  \\\n",
            "0   ACBC_MSKCC_2015_Copy_Number_AdCC11T  data_matrix_available   \n",
            "1   ACBC_MSKCC_2015_Copy_Number_AdCC11T                   year   \n",
            "2   ACBC_MSKCC_2015_Copy_Number_AdCC11T               platform   \n",
            "3   ACBC_MSKCC_2015_Copy_Number_AdCC11T          subseries_ids   \n",
            "4   ACBC_MSKCC_2015_Copy_Number_AdCC11T        missing_samples   \n",
            "5   ACBC_MSKCC_2015_Copy_Number_AdCC11T                summary   \n",
            "6   ACBC_MSKCC_2015_Copy_Number_AdCC11T            drug_smiles   \n",
            "7   ACBC_MSKCC_2015_Copy_Number_AdCC11T                 author   \n",
            "8   ACBC_MSKCC_2015_Copy_Number_AdCC11T           curated_gene   \n",
            "9   ACBC_MSKCC_2015_Copy_Number_AdCC11T               abstract   \n",
            "10  ACBC_MSKCC_2015_Copy_Number_AdCC11T         curated_strain   \n",
            "11  ACBC_MSKCC_2015_Copy_Number_AdCC11T         overall_design   \n",
            "12   ACBC_MSKCC_2015_Copy_Number_AdCC1T  data_matrix_available   \n",
            "13   ACBC_MSKCC_2015_Copy_Number_AdCC1T                   year   \n",
            "14   ACBC_MSKCC_2015_Copy_Number_AdCC1T               platform   \n",
            "15   ACBC_MSKCC_2015_Copy_Number_AdCC1T          subseries_ids   \n",
            "16   ACBC_MSKCC_2015_Copy_Number_AdCC1T        missing_samples   \n",
            "17   ACBC_MSKCC_2015_Copy_Number_AdCC1T                summary   \n",
            "18   ACBC_MSKCC_2015_Copy_Number_AdCC1T            drug_smiles   \n",
            "19   ACBC_MSKCC_2015_Copy_Number_AdCC1T                 author   \n",
            "20   ACBC_MSKCC_2015_Copy_Number_AdCC1T           curated_gene   \n",
            "21   ACBC_MSKCC_2015_Copy_Number_AdCC1T               abstract   \n",
            "22   ACBC_MSKCC_2015_Copy_Number_AdCC1T         curated_strain   \n",
            "23   ACBC_MSKCC_2015_Copy_Number_AdCC1T         overall_design   \n",
            "24   ACBC_MSKCC_2015_Copy_Number_AdCC1T        curated_disease   \n",
            "25   ACBC_MSKCC_2015_Copy_Number_AdCC1T         dataset_source   \n",
            "\n",
            "            Original Name                                      Error Message  \\\n",
            "0   Data Matrix Available                                     field required   \n",
            "1                    year                                     field required   \n",
            "2                platform                                     field required   \n",
            "3           subseries_ids                                     field required   \n",
            "4         missing_samples                                     field required   \n",
            "5                 summary                                     field required   \n",
            "6               kw_smiles                                     field required   \n",
            "7                  author                                     field required   \n",
            "8                 kw_gene                                     field required   \n",
            "9                abstract                                     field required   \n",
            "10              kw_strain                                     field required   \n",
            "11         overall_design                                     field required   \n",
            "12  Data Matrix Available                                     field required   \n",
            "13                   year                                     field required   \n",
            "14               platform                                     field required   \n",
            "15          subseries_ids                                     field required   \n",
            "16        missing_samples                                     field required   \n",
            "17                summary                                     field required   \n",
            "18              kw_smiles                                     field required   \n",
            "19                 author                                     field required   \n",
            "20                kw_gene                                     field required   \n",
            "21               abstract                                     field required   \n",
            "22              kw_strain                                     field required   \n",
            "23         overall_design                                     field required   \n",
            "24                disease  Ontological Validity Check | Invalid Value | E...   \n",
            "25         dataset_source  Value Check | Invalid value, not one of the pr...   \n",
            "\n",
            "             Repo  \n",
            "0   1643016586529  \n",
            "1   1643016586529  \n",
            "2   1643016586529  \n",
            "3   1643016586529  \n",
            "4   1643016586529  \n",
            "5   1643016586529  \n",
            "6   1643016586529  \n",
            "7   1643016586529  \n",
            "8   1643016586529  \n",
            "9   1643016586529  \n",
            "10  1643016586529  \n",
            "11  1643016586529  \n",
            "12  1643016586529  \n",
            "13  1643016586529  \n",
            "14  1643016586529  \n",
            "15  1643016586529  \n",
            "16  1643016586529  \n",
            "17  1643016586529  \n",
            "18  1643016586529  \n",
            "19  1643016586529  \n",
            "20  1643016586529  \n",
            "21  1643016586529  \n",
            "22  1643016586529  \n",
            "23  1643016586529  \n",
            "24  1643016586529  \n",
            "25  1643016586529  \n",
            "-------status dataset-----\n",
            "{'ACBC_MSKCC_2015_Copy_Number_AdCC11T': False, 'ACBC_MSKCC_2015_Copy_Number_AdCC1T': False}\n"
          ]
        },
        {
          "name": "stderr",
          "output_type": "stream",
          "text": [
            "\n"
          ]
        }
      ],
      "source": [
        "# Validation is a 2 step process\n",
        "\n",
        "# Step 1 -> run validation after defining the source folders\n",
        "repo_id = \"31\"\n",
        "source_folder_path_data = \"/import/data\"\n",
        "source_folder_metadata = \"/import/metadata\"\n",
        "source_folder_path = {\"data\":source_folder_path_data, \"metadata\":source_folder_metadata}\n",
        "\n",
        "err_dataset, status_dataset = validation.validate_datasets(repo_id, source_folder_path)\n",
        "print(\"------err dataset------\")\n",
        "print(err_dataset)\n",
        "\n",
        "print(\"-------status dataset-----\")\n",
        "print(status_dataset)"
      ]
    },
    {
      "cell_type": "code",
      "execution_count": 8,
      "metadata": {},
      "outputs": [
        {
          "name": "stderr",
          "output_type": "stream",
          "text": [
            "WARNING: These ['ACBC_MSKCC_2015_Copy_Number_AdCC11T.json', 'ACBC_MSKCC_2015_Copy_Number_AdCC1T.json'] file have failed validation. These files will only be ingested if force_ingest key in metadata is set to True\n"
          ]
        },
        {
          "name": "stdout",
          "output_type": "stream",
          "text": [
            "\n",
            "\n"
          ]
        },
        {
          "name": "stderr",
          "output_type": "stream",
          "text": [
            "Processing Metadata files: 100%|██████████| 3/3 [00:00<00:00, 3684.60it/s]\n",
            "Uploading data files: 100%|██████████| 3/3 [00:00<00:00,  5.67files/s]\n"
          ]
        },
        {
          "name": "stdout",
          "output_type": "stream",
          "text": [
            "\n",
            "                                  File Name        Message\n",
            "0                   combined_metadata.json  File Uploaded\n",
            "1  ACBC_MSKCC_2015_Copy_Number_AdCC12T.gct  File Uploaded\n",
            "2  ACBC_MSKCC_2015_Copy_Number_AdCC11T.gct  File Uploaded\n",
            "3  ACBC_MSKCC_2015_Copy_Number_AdCC10T.gct  File Uploaded\n",
            "\n",
            "\n",
            "-----Files which are Not Validated-------\n",
            "                    Invalid Metadata Files\n",
            "0  ACBC_MSKCC_2015_Copy_Number_AdCC1T.json\n",
            "\n",
            "\n",
            "                       Invalid Data Files\n",
            "0  ACBC_MSKCC_2015_Copy_Number_AdCC1T.gct\n",
            "\n",
            "\n",
            "Ingestion request sent. Please check ingestion monitoring dashboard for further updates.\n"
          ]
        }
      ],
      "source": [
        "# Step 2 -> run add datasets\n",
        "# Validation is not activated by default in the ingestion functions\n",
        "# Users will have to pass an extra flag i.e. validation=True to activate validation\n",
        "# If validation is not activated then the ingestion functions will work as it was working before\n",
        "\n",
        "destination_folder = \"transcriptomics_150\"\n",
        "repo_id = \"31\"\n",
        "res_upload_df = omixatlas.add_datasets(repo_id, source_folder_path, destination_folder, validation=True)"
      ]
    },
    {
      "cell_type": "code",
      "execution_count": 9,
      "metadata": {},
      "outputs": [
        {
          "name": "stderr",
          "output_type": "stream",
          "text": [
            "Combined Metadata Files for Validation: 100%|██████████| 4/4 [00:00<00:00, 5502.53it/s]\n"
          ]
        },
        {
          "name": "stdout",
          "output_type": "stream",
          "text": [
            "╒════╤═════════════════════════════════════╤═══════════════╤══════════════════╤══════════════════════════════╤════════╕\n",
            "│    │ dataset_id                          │ Field         │ Original Name    │ Error Message                │   Repo │\n",
            "╞════╪═════════════════════════════════════╪═══════════════╪══════════════════╪══════════════════════════════╪════════╡\n",
            "│  0 │ ACBC_MSKCC_2015_Copy_Number_AdCC11T │ year          │ year             │ field required               │     31 │\n",
            "├────┼─────────────────────────────────────┼───────────────┼──────────────────┼──────────────────────────────┼────────┤\n",
            "│  1 │ ACBC_MSKCC_2015_Copy_Number_AdCC11T │ sample_type   │ sample_type      │ field required               │     31 │\n",
            "├────┼─────────────────────────────────────┼───────────────┼──────────────────┼──────────────────────────────┼────────┤\n",
            "│  2 │ ACBC_MSKCC_2015_Copy_Number_AdCC11T │ platform      │ platform         │ field required               │     31 │\n",
            "├────┼─────────────────────────────────────┼───────────────┼──────────────────┼──────────────────────────────┼────────┤\n",
            "│  3 │ ACBC_MSKCC_2015_Copy_Number_AdCC11T │ donor_age     │ donor_age        │ field required               │     31 │\n",
            "├────┼─────────────────────────────────────┼───────────────┼──────────────────┼──────────────────────────────┼────────┤\n",
            "│  4 │ ACBC_MSKCC_2015_Copy_Number_AdCC11T │ donor_sex     │ donor_sex        │ field required               │     31 │\n",
            "├────┼─────────────────────────────────────┼───────────────┼──────────────────┼──────────────────────────────┼────────┤\n",
            "│  5 │ ACBC_MSKCC_2015_Copy_Number_AdCC11T │ gene          │ kw_gene          │ field required               │     31 │\n",
            "├────┼─────────────────────────────────────┼───────────────┼──────────────────┼──────────────────────────────┼────────┤\n",
            "│  6 │ ACBC_MSKCC_2015_Copy_Number_AdCC11T │ gene_knockout │ kw_gene_knockout │ field required               │     31 │\n",
            "├────┼─────────────────────────────────────┼───────────────┼──────────────────┼──────────────────────────────┼────────┤\n",
            "│  7 │ ACBC_MSKCC_2015_Copy_Number_AdCC11T │ operation     │ operation        │ none is not an allowed value │     31 │\n",
            "╘════╧═════════════════════════════════════╧═══════════════╧══════════════════╧══════════════════════════════╧════════╛\n",
            "╒════╤════════════════════════════════════╤═════════════════╤══════════════════╤═══════════════════════════════════════════════════════════════════════════════════════════════╤════════╕\n",
            "│    │ dataset_id                         │ Field           │ Original Name    │ Error Message                                                                                 │   Repo │\n",
            "╞════╪════════════════════════════════════╪═════════════════╪══════════════════╪═══════════════════════════════════════════════════════════════════════════════════════════════╪════════╡\n",
            "│  0 │ ACBC_MSKCC_2015_Copy_Number_AdCC1T │ year            │ year             │ field required                                                                                │     31 │\n",
            "├────┼────────────────────────────────────┼─────────────────┼──────────────────┼───────────────────────────────────────────────────────────────────────────────────────────────┼────────┤\n",
            "│  1 │ ACBC_MSKCC_2015_Copy_Number_AdCC1T │ sample_type     │ sample_type      │ field required                                                                                │     31 │\n",
            "├────┼────────────────────────────────────┼─────────────────┼──────────────────┼───────────────────────────────────────────────────────────────────────────────────────────────┼────────┤\n",
            "│  2 │ ACBC_MSKCC_2015_Copy_Number_AdCC1T │ platform        │ platform         │ field required                                                                                │     31 │\n",
            "├────┼────────────────────────────────────┼─────────────────┼──────────────────┼───────────────────────────────────────────────────────────────────────────────────────────────┼────────┤\n",
            "│  3 │ ACBC_MSKCC_2015_Copy_Number_AdCC1T │ donor_age       │ donor_age        │ field required                                                                                │     31 │\n",
            "├────┼────────────────────────────────────┼─────────────────┼──────────────────┼───────────────────────────────────────────────────────────────────────────────────────────────┼────────┤\n",
            "│  4 │ ACBC_MSKCC_2015_Copy_Number_AdCC1T │ donor_sex       │ donor_sex        │ field required                                                                                │     31 │\n",
            "├────┼────────────────────────────────────┼─────────────────┼──────────────────┼───────────────────────────────────────────────────────────────────────────────────────────────┼────────┤\n",
            "│  5 │ ACBC_MSKCC_2015_Copy_Number_AdCC1T │ gene            │ kw_gene          │ field required                                                                                │     31 │\n",
            "├────┼────────────────────────────────────┼─────────────────┼──────────────────┼───────────────────────────────────────────────────────────────────────────────────────────────┼────────┤\n",
            "│  6 │ ACBC_MSKCC_2015_Copy_Number_AdCC1T │ gene_knockout   │ kw_gene_knockout │ field required                                                                                │     31 │\n",
            "├────┼────────────────────────────────────┼─────────────────┼──────────────────┼───────────────────────────────────────────────────────────────────────────────────────────────┼────────┤\n",
            "│  7 │ ACBC_MSKCC_2015_Copy_Number_AdCC1T │ operation       │ operation        │ none is not an allowed value                                                                  │     31 │\n",
            "├────┼────────────────────────────────────┼─────────────────┼──────────────────┼───────────────────────────────────────────────────────────────────────────────────────────────┼────────┤\n",
            "│  8 │ ACBC_MSKCC_2015_Copy_Number_AdCC1T │ curated_disease │ disease          │ Ontological Validity Check | Invalid Value | Erroneous Value: \"Adenoid Cystic Breast Cancer\"  │     31 │\n",
            "├────┼────────────────────────────────────┼─────────────────┼──────────────────┼───────────────────────────────────────────────────────────────────────────────────────────────┼────────┤\n",
            "│  9 │ ACBC_MSKCC_2015_Copy_Number_AdCC1T │ dataset_source  │ dataset_source   │ Value Check | Invalid value, not one of the predefined values | Erroneous Value: \"cBioPortal\" │     31 │\n",
            "╘════╧════════════════════════════════════╧═════════════════╧══════════════════╧═══════════════════════════════════════════════════════════════════════════════════════════════╧════════╛\n"
          ]
        },
        {
          "name": "stderr",
          "output_type": "stream",
          "text": [
            "Generating Status File of Validation: 100%|██████████| 4/4 [00:00<00:00, 7169.75it/s]"
          ]
        },
        {
          "name": "stdout",
          "output_type": "stream",
          "text": [
            "------err dataset------\n",
            "                             dataset_id            Field     Original Name  \\\n",
            "0   ACBC_MSKCC_2015_Copy_Number_AdCC11T             year              year   \n",
            "1   ACBC_MSKCC_2015_Copy_Number_AdCC11T      sample_type       sample_type   \n",
            "2   ACBC_MSKCC_2015_Copy_Number_AdCC11T         platform          platform   \n",
            "3   ACBC_MSKCC_2015_Copy_Number_AdCC11T        donor_age         donor_age   \n",
            "4   ACBC_MSKCC_2015_Copy_Number_AdCC11T        donor_sex         donor_sex   \n",
            "5   ACBC_MSKCC_2015_Copy_Number_AdCC11T             gene           kw_gene   \n",
            "6   ACBC_MSKCC_2015_Copy_Number_AdCC11T    gene_knockout  kw_gene_knockout   \n",
            "7   ACBC_MSKCC_2015_Copy_Number_AdCC11T        operation         operation   \n",
            "8    ACBC_MSKCC_2015_Copy_Number_AdCC1T             year              year   \n",
            "9    ACBC_MSKCC_2015_Copy_Number_AdCC1T      sample_type       sample_type   \n",
            "10   ACBC_MSKCC_2015_Copy_Number_AdCC1T         platform          platform   \n",
            "11   ACBC_MSKCC_2015_Copy_Number_AdCC1T        donor_age         donor_age   \n",
            "12   ACBC_MSKCC_2015_Copy_Number_AdCC1T        donor_sex         donor_sex   \n",
            "13   ACBC_MSKCC_2015_Copy_Number_AdCC1T             gene           kw_gene   \n",
            "14   ACBC_MSKCC_2015_Copy_Number_AdCC1T    gene_knockout  kw_gene_knockout   \n",
            "15   ACBC_MSKCC_2015_Copy_Number_AdCC1T        operation         operation   \n",
            "16   ACBC_MSKCC_2015_Copy_Number_AdCC1T  curated_disease           disease   \n",
            "17   ACBC_MSKCC_2015_Copy_Number_AdCC1T   dataset_source    dataset_source   \n",
            "\n",
            "                                        Error Message Repo  \n",
            "0                                      field required   31  \n",
            "1                                      field required   31  \n",
            "2                                      field required   31  \n",
            "3                                      field required   31  \n",
            "4                                      field required   31  \n",
            "5                                      field required   31  \n",
            "6                                      field required   31  \n",
            "7                        none is not an allowed value   31  \n",
            "8                                      field required   31  \n",
            "9                                      field required   31  \n",
            "10                                     field required   31  \n",
            "11                                     field required   31  \n",
            "12                                     field required   31  \n",
            "13                                     field required   31  \n",
            "14                                     field required   31  \n",
            "15                       none is not an allowed value   31  \n",
            "16  Ontological Validity Check | Invalid Value | E...   31  \n",
            "17  Value Check | Invalid value, not one of the pr...   31  \n",
            "-------status dataset-----\n",
            "{'ACBC_MSKCC_2015_Copy_Number_AdCC11T': False, 'ACBC_MSKCC_2015_Copy_Number_AdCC1T': False}\n"
          ]
        },
        {
          "name": "stderr",
          "output_type": "stream",
          "text": [
            "\n"
          ]
        }
      ],
      "source": [
        "# For Update Datasets also\n",
        "# Users will have to first run the validation function and then update\n",
        "\n",
        "# For example users want to update the metadata files\n",
        "\n",
        "# Users validate the metadata files first then run update datasets with just the metadata files\n",
        "\n",
        "# Step 1 -> run validation after defining the source folders\n",
        "repo_id = \"31\"\n",
        "source_folder_path_data = \"/import/data\"\n",
        "source_folder_metadata = \"/import/metadata\"\n",
        "source_folder_path = {\"data\":source_folder_path_data, \"metadata\":source_folder_metadata}\n",
        "\n",
        "err_dataset, status_dataset = validation.validate_datasets(repo_id, source_folder_path)\n",
        "print(\"------err dataset------\")\n",
        "print(err_dataset)\n",
        "\n",
        "print(\"-------status dataset-----\")\n",
        "print(status_dataset)"
      ]
    },
    {
      "cell_type": "code",
      "execution_count": 10,
      "metadata": {},
      "outputs": [
        {
          "name": "stderr",
          "output_type": "stream",
          "text": [
            "WARNING: These ['ACBC_MSKCC_2015_Copy_Number_AdCC11T.json', 'ACBC_MSKCC_2015_Copy_Number_AdCC1T.json'] file have failed validation. These files will only be ingested if force_ingest key in metadata is set to True\n"
          ]
        },
        {
          "name": "stdout",
          "output_type": "stream",
          "text": [
            "\n",
            "\n"
          ]
        },
        {
          "name": "stderr",
          "output_type": "stream",
          "text": [
            "Processing Metadata files:   0%|          | 0/3 [00:00<?, ?it/s]WARNING: Unable to update metadata/data file ACBC_MSKCC_2015_Copy_Number_AdCC11T.json because corresponding data/metadata file not present in OmixAtlas. Please add the files using add_datasets function. For any questions, please reach out to polly.support@elucidata.io. \n",
            "Processing Metadata files:  33%|███▎      | 1/3 [00:01<00:03,  1.58s/it]WARNING: Unable to update metadata/data file ACBC_MSKCC_2015_Copy_Number_AdCC12T.json because corresponding data/metadata file not present in OmixAtlas. Please add the files using add_datasets function. For any questions, please reach out to polly.support@elucidata.io. \n",
            "Processing Metadata files:  67%|██████▋   | 2/3 [00:02<00:01,  1.48s/it]WARNING: Unable to update metadata/data file ACBC_MSKCC_2015_Copy_Number_AdCC10T.json because corresponding data/metadata file not present in OmixAtlas. Please add the files using add_datasets function. For any questions, please reach out to polly.support@elucidata.io. \n",
            "Processing Metadata files: 100%|██████████| 3/3 [00:04<00:00,  1.50s/it]\n"
          ]
        },
        {
          "name": "stdout",
          "output_type": "stream",
          "text": [
            "----res upload df-----\n",
            "None\n"
          ]
        }
      ],
      "source": [
        "# Step2 -> run update datasets\n",
        "\n",
        "source_folder_path = {\"metadata\":source_folder_metadata}\n",
        "destination_folder = \"transcriptomics_150\"\n",
        "res_upload_df = omixatlas.update_datasets(repo_id, source_folder_path, destination_folder, validation=True)\n",
        "print(\"----res upload df-----\")\n",
        "print(res_upload_df)"
      ]
    },
    {
      "cell_type": "code",
      "execution_count": null,
      "metadata": {},
      "outputs": [],
      "source": []
    }
  ],
  "metadata": {
    "kernelspec": {
      "display_name": "Python 3 (ipykernel)",
      "language": "python",
      "name": "python3"
    },
    "language_info": {
      "codemirror_mode": {
        "name": "ipython",
        "version": 3
      },
      "file_extension": ".py",
      "mimetype": "text/x-python",
      "name": "python",
      "nbconvert_exporter": "python",
      "pygments_lexer": "ipython3",
      "version": "3.10.2"
    }
  },
  "nbformat": 4,
  "nbformat_minor": 2
}