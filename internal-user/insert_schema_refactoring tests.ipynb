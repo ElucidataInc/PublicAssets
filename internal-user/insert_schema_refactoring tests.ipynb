{
  "cells": [
    {
      "cell_type": "markdown",
      "metadata": {
        "colab_type": "text",
        "id": "view-in-github"
      },
      "source": [
        "<a href=\"https://polly.elucidata.io/manage/workspaces?action=open_polly_notebook&source=github&path=path_place_holder&kernel=elucidata/Python 3.10&machine=medium\" target=\"_parent\"><img src=\"https://elucidatainc.github.io/PublicAssets/open_polly.svg\" alt=\"Open in Polly\"/></a>\n"
      ]
    },
    {
      "cell_type": "markdown",
      "metadata": {},
      "source": [
        "# Welcome to Polly Python3 Notebook."
      ]
    },
    {
      "cell_type": "code",
      "execution_count": 1,
      "metadata": {},
      "outputs": [
        {
          "name": "stdout",
          "output_type": "stream",
          "text": [
            "/bin/bash: warning: setlocale: LC_ALL: cannot change locale (en_US.UTF-8)\n",
            "Collecting polly-python==0.4.1-schema-refactoring\n",
            "  Downloading https://elucidatainc.github.io/PublicAssets/builds/polly-python/tests/testpolly/polly_python-0.4.1_schema_refactoring-py3-none-any.whl (188 kB)\n",
            "\u001b[K     |████████████████████████████████| 188 kB 5.9 MB/s eta 0:00:01\n",
            "\u001b[?25hRequirement already satisfied: Deprecated>=1.2.12 in /usr/local/lib/python3.10/site-packages (from polly-python==0.4.1-schema-refactoring) (1.2.13)\n",
            "Collecting polly-validator==0.0.2\n",
            "  Downloading polly_validator-0.0.2-py3-none-any.whl (29 kB)\n",
            "Requirement already satisfied: retrying==1.3.4 in /usr/local/lib/python3.10/site-packages (from polly-python==0.4.1-schema-refactoring) (1.3.4)\n",
            "Requirement already satisfied: beautifulsoup4 in /usr/local/lib/python3.10/site-packages (from polly-python==0.4.1-schema-refactoring) (4.12.2)\n",
            "Requirement already satisfied: mixpanel==4.10.0 in /usr/local/lib/python3.10/site-packages (from polly-python==0.4.1-schema-refactoring) (4.10.0)\n",
            "Requirement already satisfied: pydantic>=1.8.2 in /usr/local/lib/python3.10/site-packages (from polly-python==0.4.1-schema-refactoring) (1.10.7)\n",
            "Requirement already satisfied: elucidatacloudpathlib==0.6.6 in /usr/local/lib/python3.10/site-packages (from polly-python==0.4.1-schema-refactoring) (0.6.6)\n",
            "Requirement already satisfied: pandas>=1.3.5 in /usr/local/lib/python3.10/site-packages (from polly-python==0.4.1-schema-refactoring) (1.4.1)\n",
            "Requirement already satisfied: rst2txt==1.1.0 in /usr/local/lib/python3.10/site-packages (from polly-python==0.4.1-schema-refactoring) (1.1.0)\n",
            "Collecting botocore>=1.27.0\n",
            "  Downloading botocore-1.29.162-py3-none-any.whl (11.0 MB)\n",
            "\u001b[K     |████████████████████████████████| 11.0 MB 12.5 MB/s eta 0:00:01\n",
            "\u001b[?25hRequirement already satisfied: pytest>=6.2.5 in /usr/local/lib/python3.10/site-packages (from polly-python==0.4.1-schema-refactoring) (7.3.1)\n",
            "Collecting cryptography<=38.0.0,>=37.0.1\n",
            "  Downloading cryptography-38.0.0-cp36-abi3-manylinux_2_28_x86_64.whl (4.2 MB)\n",
            "\u001b[K     |████████████████████████████████| 4.2 MB 69.4 MB/s eta 0:00:01\n",
            "\u001b[?25hCollecting boto3>=1.24.0\n",
            "  Downloading boto3-1.26.162-py3-none-any.whl (135 kB)\n",
            "\u001b[K     |████████████████████████████████| 135 kB 80.0 MB/s eta 0:00:01\n",
            "\u001b[?25hRequirement already satisfied: python-jose==3.3.0 in /usr/local/lib/python3.10/site-packages (from polly-python==0.4.1-schema-refactoring) (3.3.0)\n",
            "Requirement already satisfied: plotly>=5.0.0 in /usr/local/lib/python3.10/site-packages (from polly-python==0.4.1-schema-refactoring) (5.14.1)\n",
            "Requirement already satisfied: tqdm==4.65.0 in /usr/local/lib/python3.10/site-packages (from polly-python==0.4.1-schema-refactoring) (4.65.0)\n",
            "Requirement already satisfied: elucidatacmapPy==3.3.4 in /usr/local/lib/python3.10/site-packages (from polly-python==0.4.1-schema-refactoring) (3.3.4)\n",
            "Requirement already satisfied: requests==2.25.1 in /usr/local/lib/python3.10/site-packages (from polly-python==0.4.1-schema-refactoring) (2.25.1)\n",
            "Requirement already satisfied: datapane>=0.10.3 in /usr/local/lib/python3.10/site-packages (from polly-python==0.4.1-schema-refactoring) (0.16.4)\n",
            "Requirement already satisfied: joblib>=1.2.0 in /usr/local/lib/python3.10/site-packages (from polly-python==0.4.1-schema-refactoring) (1.2.0)\n",
            "Requirement already satisfied: h5py>=2.6.0 in /usr/local/lib/python3.10/site-packages (from elucidatacmapPy==3.3.4->polly-python==0.4.1-schema-refactoring) (3.8.0)\n",
            "Requirement already satisfied: numpy>=1.11.2 in /usr/local/lib/python3.10/site-packages (from elucidatacmapPy==3.3.4->polly-python==0.4.1-schema-refactoring) (1.22.3)\n",
            "Requirement already satisfied: six in /usr/local/lib/python3.10/site-packages (from elucidatacmapPy==3.3.4->polly-python==0.4.1-schema-refactoring) (1.16.0)\n",
            "Requirement already satisfied: urllib3 in /usr/local/lib/python3.10/site-packages (from mixpanel==4.10.0->polly-python==0.4.1-schema-refactoring) (1.26.6)\n",
            "Requirement already satisfied: rapidfuzz==2.1.1 in /usr/local/lib/python3.10/site-packages (from polly-validator==0.0.2->polly-python==0.4.1-schema-refactoring) (2.1.1)\n",
            "Requirement already satisfied: pronto in /usr/local/lib/python3.10/site-packages (from polly-validator==0.0.2->polly-python==0.4.1-schema-refactoring) (2.5.1)\n",
            "Requirement already satisfied: tabulate==0.8.10 in /usr/local/lib/python3.10/site-packages (from polly-validator==0.0.2->polly-python==0.4.1-schema-refactoring) (0.8.10)\n",
            "Requirement already satisfied: appdirs==1.4.4 in /usr/local/lib/python3.10/site-packages (from polly-validator==0.0.2->polly-python==0.4.1-schema-refactoring) (1.4.4)\n",
            "Requirement already satisfied: pyasn1 in /usr/local/lib/python3.10/site-packages (from python-jose==3.3.0->polly-python==0.4.1-schema-refactoring) (0.4.8)\n",
            "Requirement already satisfied: ecdsa!=0.15 in /usr/local/lib/python3.10/site-packages (from python-jose==3.3.0->polly-python==0.4.1-schema-refactoring) (0.18.0)\n",
            "Requirement already satisfied: rsa in /usr/local/lib/python3.10/site-packages (from python-jose==3.3.0->polly-python==0.4.1-schema-refactoring) (4.7.2)\n",
            "Requirement already satisfied: jarowinkler<1.1.0,>=1.0.3 in /usr/local/lib/python3.10/site-packages (from rapidfuzz==2.1.1->polly-validator==0.0.2->polly-python==0.4.1-schema-refactoring) (1.0.5)\n",
            "Requirement already satisfied: certifi>=2017.4.17 in /usr/local/lib/python3.10/site-packages (from requests==2.25.1->polly-python==0.4.1-schema-refactoring) (2021.5.30)\n",
            "Requirement already satisfied: chardet<5,>=3.0.2 in /usr/local/lib/python3.10/site-packages (from requests==2.25.1->polly-python==0.4.1-schema-refactoring) (4.0.0)\n",
            "Requirement already satisfied: idna<3,>=2.5 in /usr/local/lib/python3.10/site-packages (from requests==2.25.1->polly-python==0.4.1-schema-refactoring) (2.10)\n",
            "Requirement already satisfied: docutils>=0.11 in /usr/local/lib/python3.10/site-packages (from rst2txt==1.1.0->polly-python==0.4.1-schema-refactoring) (0.15.2)\n",
            "Requirement already satisfied: pygments in /usr/local/lib/python3.10/site-packages (from rst2txt==1.1.0->polly-python==0.4.1-schema-refactoring) (2.10.0)\n",
            "Requirement already satisfied: jmespath<2.0.0,>=0.7.1 in /usr/local/lib/python3.10/site-packages (from boto3>=1.24.0->polly-python==0.4.1-schema-refactoring) (0.10.0)\n",
            "Collecting s3transfer<0.7.0,>=0.6.0\n",
            "  Downloading s3transfer-0.6.1-py3-none-any.whl (79 kB)\n",
            "\u001b[K     |████████████████████████████████| 79 kB 16.2 MB/s eta 0:00:01\n",
            "\u001b[?25hRequirement already satisfied: python-dateutil<3.0.0,>=2.1 in /usr/local/lib/python3.10/site-packages (from botocore>=1.27.0->polly-python==0.4.1-schema-refactoring) (2.8.1)\n",
            "Requirement already satisfied: cffi>=1.12 in /usr/local/lib/python3.10/site-packages (from cryptography<=38.0.0,>=37.0.1->polly-python==0.4.1-schema-refactoring) (1.15.1)\n",
            "Requirement already satisfied: pycparser in /usr/local/lib/python3.10/site-packages (from cffi>=1.12->cryptography<=38.0.0,>=37.0.1->polly-python==0.4.1-schema-refactoring) (2.21)\n",
            "Requirement already satisfied: dominate<3.0.0,>=2.4.0 in /usr/local/lib/python3.10/site-packages (from datapane>=0.10.3->polly-python==0.4.1-schema-refactoring) (2.7.0)\n",
            "Requirement already satisfied: boltons<22.0.0,>=20.0.0 in /usr/local/lib/python3.10/site-packages (from datapane>=0.10.3->polly-python==0.4.1-schema-refactoring) (21.0.0)\n",
            "Requirement already satisfied: datacommons<2.0.0,>=1.4.3 in /usr/local/lib/python3.10/site-packages (from datapane>=0.10.3->polly-python==0.4.1-schema-refactoring) (1.4.3)\n",
            "Requirement already satisfied: furl<3.0.0,>=2.0.0 in /usr/local/lib/python3.10/site-packages (from datapane>=0.10.3->polly-python==0.4.1-schema-refactoring) (2.1.3)\n",
            "Requirement already satisfied: pyarrow<11.0.0,>=6.0.0 in /usr/local/lib/python3.10/site-packages (from datapane>=0.10.3->polly-python==0.4.1-schema-refactoring) (10.0.1)\n",
            "Requirement already satisfied: posthog<3.0.0,>=1.4.0 in /usr/local/lib/python3.10/site-packages (from datapane>=0.10.3->polly-python==0.4.1-schema-refactoring) (2.5.0)\n",
            "Requirement already satisfied: cheroot<10.0.0,>=9.0.0 in /usr/local/lib/python3.10/site-packages (from datapane>=0.10.3->polly-python==0.4.1-schema-refactoring) (9.0.0)\n",
            "Requirement already satisfied: PyYAML<7.0.0,>=5.4.0 in /usr/local/lib/python3.10/site-packages (from datapane>=0.10.3->polly-python==0.4.1-schema-refactoring) (5.4.1)\n",
            "Requirement already satisfied: dacite<2.0.0,>=1.0.2 in /usr/local/lib/python3.10/site-packages (from datapane>=0.10.3->polly-python==0.4.1-schema-refactoring) (1.8.0)\n",
            "Requirement already satisfied: jsonschema<5.0.0,>=3.2.0 in /usr/local/lib/python3.10/site-packages (from datapane>=0.10.3->polly-python==0.4.1-schema-refactoring) (4.2.1)\n",
            "Requirement already satisfied: altair<5.0.0,>=4.0.0 in /usr/local/lib/python3.10/site-packages (from datapane>=0.10.3->polly-python==0.4.1-schema-refactoring) (4.2.2)\n",
            "Requirement already satisfied: dulwich<0.22.0,>=0.20.0 in /usr/local/lib/python3.10/site-packages (from datapane>=0.10.3->polly-python==0.4.1-schema-refactoring) (0.21.3)\n",
            "Requirement already satisfied: nbconvert>=5.6.1 in /usr/local/lib/python3.10/site-packages (from datapane>=0.10.3->polly-python==0.4.1-schema-refactoring) (6.3.0)\n",
            "Requirement already satisfied: glom<24.0.0,>=22.1.0 in /usr/local/lib/python3.10/site-packages (from datapane>=0.10.3->polly-python==0.4.1-schema-refactoring) (23.3.0)\n",
            "Requirement already satisfied: click<9.0.0,>=7.1.0 in /usr/local/lib/python3.10/site-packages (from datapane>=0.10.3->polly-python==0.4.1-schema-refactoring) (8.1.3)\n",
            "Requirement already satisfied: click-spinner<0.2.0,>=0.1.8 in /usr/local/lib/python3.10/site-packages (from datapane>=0.10.3->polly-python==0.4.1-schema-refactoring) (0.1.10)\n",
            "Requirement already satisfied: typing-extensions<5.0.0,>=4.4.0 in /usr/local/lib/python3.10/site-packages (from datapane>=0.10.3->polly-python==0.4.1-schema-refactoring) (4.5.0)\n",
            "Requirement already satisfied: importlib_resources<6.0.0,>=3.0.0 in /usr/local/lib/python3.10/site-packages (from datapane>=0.10.3->polly-python==0.4.1-schema-refactoring) (5.12.0)\n",
            "Requirement already satisfied: pyngrok<6.0.0,>=5.2.1 in /usr/local/lib/python3.10/site-packages (from datapane>=0.10.3->polly-python==0.4.1-schema-refactoring) (5.2.3)\n",
            "Requirement already satisfied: requests-toolbelt<0.11.0,>=0.9.1 in /usr/local/lib/python3.10/site-packages (from datapane>=0.10.3->polly-python==0.4.1-schema-refactoring) (0.10.1)\n",
            "Requirement already satisfied: toolz<0.13.0,>=0.11.0 in /usr/local/lib/python3.10/site-packages (from datapane>=0.10.3->polly-python==0.4.1-schema-refactoring) (0.12.0)\n",
            "Requirement already satisfied: packaging<24.0.0,>=21.0.0 in /usr/local/lib/python3.10/site-packages (from datapane>=0.10.3->polly-python==0.4.1-schema-refactoring) (23.1)\n",
            "Requirement already satisfied: multimethod<2.0,>=1.9 in /usr/local/lib/python3.10/site-packages (from datapane>=0.10.3->polly-python==0.4.1-schema-refactoring) (1.9.1)\n",
            "Requirement already satisfied: vega-datasets<1.0.0,>=0.9.0 in /usr/local/lib/python3.10/site-packages (from datapane>=0.10.3->polly-python==0.4.1-schema-refactoring) (0.9.0)\n",
            "Requirement already satisfied: colorlog<7.0.0,>=4.1.0 in /usr/local/lib/python3.10/site-packages (from datapane>=0.10.3->polly-python==0.4.1-schema-refactoring) (6.7.0)\n",
            "Requirement already satisfied: datacommons-pandas<0.0.4,>=0.0.3 in /usr/local/lib/python3.10/site-packages (from datapane>=0.10.3->polly-python==0.4.1-schema-refactoring) (0.0.3)\n",
            "Requirement already satisfied: lxml<5.0.0,>=4.0.0 in /usr/local/lib/python3.10/site-packages (from datapane>=0.10.3->polly-python==0.4.1-schema-refactoring) (4.9.2)\n",
            "Requirement already satisfied: micawber>=0.5.0 in /usr/local/lib/python3.10/site-packages (from datapane>=0.10.3->polly-python==0.4.1-schema-refactoring) (0.5.4)\n",
            "Requirement already satisfied: ipynbname<2022.0.0,>=2021.3.2 in /usr/local/lib/python3.10/site-packages (from datapane>=0.10.3->polly-python==0.4.1-schema-refactoring) (2021.3.2)\n"
          ]
        },
        {
          "name": "stdout",
          "output_type": "stream",
          "text": [
            "Requirement already satisfied: jinja2 in /usr/local/lib/python3.10/site-packages (from altair<5.0.0,>=4.0.0->datapane>=0.10.3->polly-python==0.4.1-schema-refactoring) (3.0.3)\n",
            "Requirement already satisfied: entrypoints in /usr/local/lib/python3.10/site-packages (from altair<5.0.0,>=4.0.0->datapane>=0.10.3->polly-python==0.4.1-schema-refactoring) (0.3)\n",
            "Requirement already satisfied: jaraco.functools in /usr/local/lib/python3.10/site-packages (from cheroot<10.0.0,>=9.0.0->datapane>=0.10.3->polly-python==0.4.1-schema-refactoring) (3.6.0)\n",
            "Requirement already satisfied: more-itertools>=2.6 in /usr/local/lib/python3.10/site-packages (from cheroot<10.0.0,>=9.0.0->datapane>=0.10.3->polly-python==0.4.1-schema-refactoring) (9.1.0)\n",
            "Requirement already satisfied: wrapt<2,>=1.10 in /usr/local/lib/python3.10/site-packages (from Deprecated>=1.2.12->polly-python==0.4.1-schema-refactoring) (1.15.0)\n",
            "Requirement already satisfied: orderedmultidict>=1.0.1 in /usr/local/lib/python3.10/site-packages (from furl<3.0.0,>=2.0.0->datapane>=0.10.3->polly-python==0.4.1-schema-refactoring) (1.0.1)\n",
            "Requirement already satisfied: face==20.1.1 in /usr/local/lib/python3.10/site-packages (from glom<24.0.0,>=22.1.0->datapane>=0.10.3->polly-python==0.4.1-schema-refactoring) (20.1.1)\n",
            "Requirement already satisfied: attrs in /usr/local/lib/python3.10/site-packages (from glom<24.0.0,>=22.1.0->datapane>=0.10.3->polly-python==0.4.1-schema-refactoring) (21.2.0)\n",
            "Requirement already satisfied: ipykernel in /usr/local/lib/python3.10/site-packages (from ipynbname<2022.0.0,>=2021.3.2->datapane>=0.10.3->polly-python==0.4.1-schema-refactoring) (6.13.1)\n",
            "Requirement already satisfied: pyrsistent!=0.17.0,!=0.17.1,!=0.17.2,>=0.14.0 in /usr/local/lib/python3.10/site-packages (from jsonschema<5.0.0,>=3.2.0->datapane>=0.10.3->polly-python==0.4.1-schema-refactoring) (0.18.0)\n",
            "Requirement already satisfied: bleach in /usr/local/lib/python3.10/site-packages (from nbconvert>=5.6.1->datapane>=0.10.3->polly-python==0.4.1-schema-refactoring) (4.1.0)\n",
            "Requirement already satisfied: pandocfilters>=1.4.1 in /usr/local/lib/python3.10/site-packages (from nbconvert>=5.6.1->datapane>=0.10.3->polly-python==0.4.1-schema-refactoring) (1.5.0)\n",
            "Requirement already satisfied: traitlets>=5.0 in /usr/local/lib/python3.10/site-packages (from nbconvert>=5.6.1->datapane>=0.10.3->polly-python==0.4.1-schema-refactoring) (5.1.1)\n",
            "Requirement already satisfied: defusedxml in /usr/local/lib/python3.10/site-packages (from nbconvert>=5.6.1->datapane>=0.10.3->polly-python==0.4.1-schema-refactoring) (0.7.1)\n",
            "Requirement already satisfied: nbclient<0.6.0,>=0.5.0 in /usr/local/lib/python3.10/site-packages (from nbconvert>=5.6.1->datapane>=0.10.3->polly-python==0.4.1-schema-refactoring) (0.5.13)\n",
            "Requirement already satisfied: jupyter-core in /usr/local/lib/python3.10/site-packages (from nbconvert>=5.6.1->datapane>=0.10.3->polly-python==0.4.1-schema-refactoring) (4.9.1)\n",
            "Requirement already satisfied: jupyterlab-pygments in /usr/local/lib/python3.10/site-packages (from nbconvert>=5.6.1->datapane>=0.10.3->polly-python==0.4.1-schema-refactoring) (0.2.2)\n",
            "Requirement already satisfied: testpath in /usr/local/lib/python3.10/site-packages (from nbconvert>=5.6.1->datapane>=0.10.3->polly-python==0.4.1-schema-refactoring) (0.5.0)\n",
            "Requirement already satisfied: nbformat>=4.4 in /usr/local/lib/python3.10/site-packages (from nbconvert>=5.6.1->datapane>=0.10.3->polly-python==0.4.1-schema-refactoring) (5.1.3)\n",
            "Requirement already satisfied: mistune<2,>=0.8.1 in /usr/local/lib/python3.10/site-packages (from nbconvert>=5.6.1->datapane>=0.10.3->polly-python==0.4.1-schema-refactoring) (0.8.4)\n",
            "Requirement already satisfied: MarkupSafe>=2.0 in /usr/local/lib/python3.10/site-packages (from jinja2->altair<5.0.0,>=4.0.0->datapane>=0.10.3->polly-python==0.4.1-schema-refactoring) (2.0.1)\n",
            "Requirement already satisfied: jupyter-client>=6.1.5 in /usr/local/lib/python3.10/site-packages (from nbclient<0.6.0,>=0.5.0->nbconvert>=5.6.1->datapane>=0.10.3->polly-python==0.4.1-schema-refactoring) (6.1.12)\n",
            "Requirement already satisfied: nest-asyncio in /usr/local/lib/python3.10/site-packages (from nbclient<0.6.0,>=0.5.0->nbconvert>=5.6.1->datapane>=0.10.3->polly-python==0.4.1-schema-refactoring) (1.5.6)\n",
            "Requirement already satisfied: tornado>=4.1 in /usr/local/lib/python3.10/site-packages (from jupyter-client>=6.1.5->nbclient<0.6.0,>=0.5.0->nbconvert>=5.6.1->datapane>=0.10.3->polly-python==0.4.1-schema-refactoring) (6.1)\n",
            "Requirement already satisfied: pyzmq>=13 in /usr/local/lib/python3.10/site-packages (from jupyter-client>=6.1.5->nbclient<0.6.0,>=0.5.0->nbconvert>=5.6.1->datapane>=0.10.3->polly-python==0.4.1-schema-refactoring) (22.3.0)\n",
            "Requirement already satisfied: ipython-genutils in /usr/local/lib/python3.10/site-packages (from nbformat>=4.4->nbconvert>=5.6.1->datapane>=0.10.3->polly-python==0.4.1-schema-refactoring) (0.2.0)\n",
            "Requirement already satisfied: pytz>=2020.1 in /usr/local/lib/python3.10/site-packages (from pandas>=1.3.5->polly-python==0.4.1-schema-refactoring) (2021.3)\n",
            "Requirement already satisfied: tenacity>=6.2.0 in /usr/local/lib/python3.10/site-packages (from plotly>=5.0.0->polly-python==0.4.1-schema-refactoring) (8.2.2)\n",
            "Requirement already satisfied: monotonic>=1.5 in /usr/local/lib/python3.10/site-packages (from posthog<3.0.0,>=1.4.0->datapane>=0.10.3->polly-python==0.4.1-schema-refactoring) (1.6)\n",
            "Requirement already satisfied: backoff>=1.10.0 in /usr/local/lib/python3.10/site-packages (from posthog<3.0.0,>=1.4.0->datapane>=0.10.3->polly-python==0.4.1-schema-refactoring) (2.2.1)\n",
            "Requirement already satisfied: tomli>=1.0.0 in /usr/local/lib/python3.10/site-packages (from pytest>=6.2.5->polly-python==0.4.1-schema-refactoring) (2.0.1)\n",
            "Requirement already satisfied: pluggy<2.0,>=0.12 in /usr/local/lib/python3.10/site-packages (from pytest>=6.2.5->polly-python==0.4.1-schema-refactoring) (1.0.0)\n",
            "Requirement already satisfied: iniconfig in /usr/local/lib/python3.10/site-packages (from pytest>=6.2.5->polly-python==0.4.1-schema-refactoring) (2.0.0)\n",
            "Requirement already satisfied: exceptiongroup>=1.0.0rc8 in /usr/local/lib/python3.10/site-packages (from pytest>=6.2.5->polly-python==0.4.1-schema-refactoring) (1.1.1)\n",
            "Requirement already satisfied: soupsieve>1.2 in /usr/local/lib/python3.10/site-packages (from beautifulsoup4->polly-python==0.4.1-schema-refactoring) (2.4.1)\n",
            "Requirement already satisfied: webencodings in /usr/local/lib/python3.10/site-packages (from bleach->nbconvert>=5.6.1->datapane>=0.10.3->polly-python==0.4.1-schema-refactoring) (0.5.1)\n",
            "Requirement already satisfied: debugpy>=1.0 in /usr/local/lib/python3.10/site-packages (from ipykernel->ipynbname<2022.0.0,>=2021.3.2->datapane>=0.10.3->polly-python==0.4.1-schema-refactoring) (1.6.7)\n",
            "Requirement already satisfied: psutil in /usr/local/lib/python3.10/site-packages (from ipykernel->ipynbname<2022.0.0,>=2021.3.2->datapane>=0.10.3->polly-python==0.4.1-schema-refactoring) (5.9.5)\n",
            "Requirement already satisfied: ipython>=7.23.1 in /usr/local/lib/python3.10/site-packages (from ipykernel->ipynbname<2022.0.0,>=2021.3.2->datapane>=0.10.3->polly-python==0.4.1-schema-refactoring) (8.2.0)\n",
            "Requirement already satisfied: matplotlib-inline>=0.1 in /usr/local/lib/python3.10/site-packages (from ipykernel->ipynbname<2022.0.0,>=2021.3.2->datapane>=0.10.3->polly-python==0.4.1-schema-refactoring) (0.1.3)\n",
            "Requirement already satisfied: pexpect>4.3 in /usr/local/lib/python3.10/site-packages (from ipython>=7.23.1->ipykernel->ipynbname<2022.0.0,>=2021.3.2->datapane>=0.10.3->polly-python==0.4.1-schema-refactoring) (4.8.0)\n",
            "Requirement already satisfied: pickleshare in /usr/local/lib/python3.10/site-packages (from ipython>=7.23.1->ipykernel->ipynbname<2022.0.0,>=2021.3.2->datapane>=0.10.3->polly-python==0.4.1-schema-refactoring) (0.7.5)\n",
            "Requirement already satisfied: prompt-toolkit!=3.0.0,!=3.0.1,<3.1.0,>=2.0.0 in /usr/local/lib/python3.10/site-packages (from ipython>=7.23.1->ipykernel->ipynbname<2022.0.0,>=2021.3.2->datapane>=0.10.3->polly-python==0.4.1-schema-refactoring) (3.0.22)\n",
            "Requirement already satisfied: setuptools>=18.5 in /usr/local/lib/python3.10/site-packages (from ipython>=7.23.1->ipykernel->ipynbname<2022.0.0,>=2021.3.2->datapane>=0.10.3->polly-python==0.4.1-schema-refactoring) (58.1.0)\n",
            "Requirement already satisfied: jedi>=0.16 in /usr/local/lib/python3.10/site-packages (from ipython>=7.23.1->ipykernel->ipynbname<2022.0.0,>=2021.3.2->datapane>=0.10.3->polly-python==0.4.1-schema-refactoring) (0.18.1)\n",
            "Requirement already satisfied: decorator in /usr/local/lib/python3.10/site-packages (from ipython>=7.23.1->ipykernel->ipynbname<2022.0.0,>=2021.3.2->datapane>=0.10.3->polly-python==0.4.1-schema-refactoring) (5.1.0)\n",
            "Requirement already satisfied: stack-data in /usr/local/lib/python3.10/site-packages (from ipython>=7.23.1->ipykernel->ipynbname<2022.0.0,>=2021.3.2->datapane>=0.10.3->polly-python==0.4.1-schema-refactoring) (0.6.2)\n",
            "Requirement already satisfied: backcall in /usr/local/lib/python3.10/site-packages (from ipython>=7.23.1->ipykernel->ipynbname<2022.0.0,>=2021.3.2->datapane>=0.10.3->polly-python==0.4.1-schema-refactoring) (0.2.0)\n",
            "Requirement already satisfied: parso<0.9.0,>=0.8.0 in /usr/local/lib/python3.10/site-packages (from jedi>=0.16->ipython>=7.23.1->ipykernel->ipynbname<2022.0.0,>=2021.3.2->datapane>=0.10.3->polly-python==0.4.1-schema-refactoring) (0.8.2)\n"
          ]
        },
        {
          "name": "stdout",
          "output_type": "stream",
          "text": [
            "Requirement already satisfied: ptyprocess>=0.5 in /usr/local/lib/python3.10/site-packages (from pexpect>4.3->ipython>=7.23.1->ipykernel->ipynbname<2022.0.0,>=2021.3.2->datapane>=0.10.3->polly-python==0.4.1-schema-refactoring) (0.7.0)\n",
            "Requirement already satisfied: wcwidth in /usr/local/lib/python3.10/site-packages (from prompt-toolkit!=3.0.0,!=3.0.1,<3.1.0,>=2.0.0->ipython>=7.23.1->ipykernel->ipynbname<2022.0.0,>=2021.3.2->datapane>=0.10.3->polly-python==0.4.1-schema-refactoring) (0.2.5)\n",
            "Requirement already satisfied: fastobo~=0.12.1 in /usr/local/lib/python3.10/site-packages (from pronto->polly-validator==0.0.2->polly-python==0.4.1-schema-refactoring) (0.12.2)\n",
            "Requirement already satisfied: networkx~=2.3 in /usr/local/lib/python3.10/site-packages (from pronto->polly-validator==0.0.2->polly-python==0.4.1-schema-refactoring) (2.8.8)\n",
            "Requirement already satisfied: pure-eval in /usr/local/lib/python3.10/site-packages (from stack-data->ipython>=7.23.1->ipykernel->ipynbname<2022.0.0,>=2021.3.2->datapane>=0.10.3->polly-python==0.4.1-schema-refactoring) (0.2.2)\n",
            "Requirement already satisfied: executing>=1.2.0 in /usr/local/lib/python3.10/site-packages (from stack-data->ipython>=7.23.1->ipykernel->ipynbname<2022.0.0,>=2021.3.2->datapane>=0.10.3->polly-python==0.4.1-schema-refactoring) (1.2.0)\n",
            "Requirement already satisfied: asttokens>=2.1.0 in /usr/local/lib/python3.10/site-packages (from stack-data->ipython>=7.23.1->ipykernel->ipynbname<2022.0.0,>=2021.3.2->datapane>=0.10.3->polly-python==0.4.1-schema-refactoring) (2.2.1)\n",
            "Installing collected packages: botocore, s3transfer, polly-validator, cryptography, boto3, polly-python\n",
            "  Attempting uninstall: botocore\n",
            "    Found existing installation: botocore 1.24.19\n",
            "    Uninstalling botocore-1.24.19:\n",
            "      Successfully uninstalled botocore-1.24.19\n",
            "  Attempting uninstall: s3transfer\n",
            "    Found existing installation: s3transfer 0.5.2\n",
            "    Uninstalling s3transfer-0.5.2:\n",
            "      Successfully uninstalled s3transfer-0.5.2\n",
            "  Attempting uninstall: polly-validator\n",
            "    Found existing installation: polly-validator 0.0.1\n",
            "    Uninstalling polly-validator-0.0.1:\n",
            "      Successfully uninstalled polly-validator-0.0.1\n",
            "  Attempting uninstall: cryptography\n",
            "    Found existing installation: cryptography 40.0.2\n",
            "    Uninstalling cryptography-40.0.2:\n",
            "      Successfully uninstalled cryptography-40.0.2\n",
            "  Attempting uninstall: boto3\n",
            "    Found existing installation: boto3 1.21.19\n",
            "    Uninstalling boto3-1.21.19:\n",
            "      Successfully uninstalled boto3-1.21.19\n",
            "  Attempting uninstall: polly-python\n",
            "    Found existing installation: polly-python 0.3.0\n",
            "    Uninstalling polly-python-0.3.0:\n",
            "      Successfully uninstalled polly-python-0.3.0\n",
            "\u001b[31mERROR: pip's dependency resolver does not currently take into account all the packages that are installed. This behaviour is the source of the following dependency conflicts.\n",
            "awscli 1.22.74 requires botocore==1.24.19, but you have botocore 1.29.162 which is incompatible.\n",
            "awscli 1.22.74 requires s3transfer<0.6.0,>=0.5.0, but you have s3transfer 0.6.1 which is incompatible.\u001b[0m\n",
            "Successfully installed boto3-1.26.162 botocore-1.29.162 cryptography-38.0.0 polly-python-0.4.1 polly-validator-0.0.2 s3transfer-0.6.1\n",
            "\u001b[33mWARNING: Running pip as the 'root' user can result in broken permissions and conflicting behaviour with the system package manager. It is recommended to use a virtual environment instead: https://pip.pypa.io/warnings/venv\u001b[0m\n",
            "\u001b[33mWARNING: You are using pip version 21.2.4; however, version 23.1.2 is available.\n",
            "You should consider upgrading via the '/usr/local/bin/python3.10 -m pip install --upgrade pip' command.\u001b[0m\n"
          ]
        }
      ],
      "source": [
        "!sudo pip3 install  https://elucidatainc.github.io/PublicAssets/builds/polly-python/tests/testpolly/polly_python-0.4.1_schema_refactoring-py3-none-any.whl"
      ]
    },
    {
      "cell_type": "code",
      "execution_count": 2,
      "metadata": {},
      "outputs": [],
      "source": [
        "import os\n",
        "from polly.auth import Polly\n",
        "AUTH_TOKEN = \"\"\n",
        "Polly.auth(AUTH_TOKEN, env=\"testpolly\")"
      ]
    },
    {
      "cell_type": "code",
      "execution_count": 3,
      "metadata": {},
      "outputs": [],
      "source": [
        "from polly.omixatlas import OmixAtlas\n",
        "omixatlas = OmixAtlas()\n",
        "import json"
      ]
    },
    {
      "cell_type": "code",
      "execution_count": 4,
      "metadata": {},
      "outputs": [
        {
          "name": "stdout",
          "output_type": "stream",
          "text": [
            "/bin/bash: warning: setlocale: LC_ALL: cannot change locale (en_US.UTF-8)\n",
            "Success: Installed optional packages!\n",
            "Sync complete!\n"
          ]
        }
      ],
      "source": [
        "# sync file\n",
        "!polly files sync -s \"polly://new_omix_for_refac_2 /\" -d \"new_omix_for_refac_2/\" -y\n"
      ]
    },
    {
      "cell_type": "code",
      "execution_count": 7,
      "metadata": {},
      "outputs": [
        {
          "ename": "paramException",
          "evalue": "paramException (parameter error): repo_id, ['1687428145396'] should be str or int",
          "output_type": "error",
          "traceback": [
            "\u001b[0;31m---------------------------------------------------------------------------\u001b[0m",
            "\u001b[0;31mparamException\u001b[0m                            Traceback (most recent call last)",
            "Input \u001b[0;32mIn [7]\u001b[0m, in \u001b[0;36m<cell line: 9>\u001b[0;34m()\u001b[0m\n\u001b[1;32m      6\u001b[0m \u001b[38;5;28;01mwith\u001b[39;00m \u001b[38;5;28mopen\u001b[39m(schema_file_path_for_insertion, \u001b[38;5;124m\"\u001b[39m\u001b[38;5;124mr\u001b[39m\u001b[38;5;124m\"\u001b[39m) \u001b[38;5;28;01mas\u001b[39;00m schema_file:\n\u001b[1;32m      7\u001b[0m     schema_data_for_insertion \u001b[38;5;241m=\u001b[39m json\u001b[38;5;241m.\u001b[39mload(schema_file)\n\u001b[0;32m----> 9\u001b[0m \u001b[43momixatlas\u001b[49m\u001b[38;5;241;43m.\u001b[39;49m\u001b[43minsert_schema\u001b[49m\u001b[43m(\u001b[49m\u001b[43mrepo_key\u001b[49m\u001b[43m,\u001b[49m\u001b[43m \u001b[49m\u001b[43mschema_data_for_insertion\u001b[49m\u001b[43m)\u001b[49m\n",
            "File \u001b[0;32m/usr/local/lib/python3.10/site-packages/polly/tracking.py:59\u001b[0m, in \u001b[0;36mTrack.track_decorator.<locals>.wrapper_function\u001b[0;34m(*args, **kwargs)\u001b[0m\n\u001b[1;32m     57\u001b[0m         \u001b[38;5;28;01mreturn\u001b[39;00m result\n\u001b[1;32m     58\u001b[0m \u001b[38;5;28;01melse\u001b[39;00m:\n\u001b[0;32m---> 59\u001b[0m     \u001b[38;5;28;01mraise\u001b[39;00m returned_err\n",
            "File \u001b[0;32m/usr/local/lib/python3.10/site-packages/polly/tracking.py:22\u001b[0m, in \u001b[0;36mTrack.track_decorator.<locals>.wrapper_function\u001b[0;34m(*args, **kwargs)\u001b[0m\n\u001b[1;32m     20\u001b[0m execution_flag \u001b[38;5;241m=\u001b[39m \u001b[38;5;28;01mFalse\u001b[39;00m\n\u001b[1;32m     21\u001b[0m \u001b[38;5;28;01mtry\u001b[39;00m:\n\u001b[0;32m---> 22\u001b[0m     result \u001b[38;5;241m=\u001b[39m \u001b[43mfunction\u001b[49m\u001b[43m(\u001b[49m\u001b[38;5;241;43m*\u001b[39;49m\u001b[43margs\u001b[49m\u001b[43m,\u001b[49m\u001b[43m \u001b[49m\u001b[38;5;241;43m*\u001b[39;49m\u001b[38;5;241;43m*\u001b[39;49m\u001b[43mkwargs\u001b[49m\u001b[43m)\u001b[49m\n\u001b[1;32m     23\u001b[0m     execution_flag \u001b[38;5;241m=\u001b[39m \u001b[38;5;28;01mTrue\u001b[39;00m\n\u001b[1;32m     24\u001b[0m \u001b[38;5;28;01mexcept\u001b[39;00m \u001b[38;5;167;01mException\u001b[39;00m \u001b[38;5;28;01mas\u001b[39;00m e:\n",
            "File \u001b[0;32m/usr/local/lib/python3.10/site-packages/polly/omixatlas.py:1113\u001b[0m, in \u001b[0;36mOmixAtlas.insert_schema\u001b[0;34m(self, repo_key, body)\u001b[0m\n\u001b[1;32m   1111\u001b[0m     schema_obj\u001b[38;5;241m.\u001b[39minsert_schema(\u001b[38;5;28mself\u001b[39m, repo_key, body)\n\u001b[1;32m   1112\u001b[0m \u001b[38;5;28;01mexcept\u001b[39;00m \u001b[38;5;167;01mException\u001b[39;00m \u001b[38;5;28;01mas\u001b[39;00m err:\n\u001b[0;32m-> 1113\u001b[0m     \u001b[38;5;28;01mraise\u001b[39;00m err\n",
            "File \u001b[0;32m/usr/local/lib/python3.10/site-packages/polly/omixatlas.py:1111\u001b[0m, in \u001b[0;36mOmixAtlas.insert_schema\u001b[0;34m(self, repo_key, body)\u001b[0m\n\u001b[1;32m   1109\u001b[0m \u001b[38;5;28;01mtry\u001b[39;00m:\n\u001b[1;32m   1110\u001b[0m     schema_obj \u001b[38;5;241m=\u001b[39m Schema()\n\u001b[0;32m-> 1111\u001b[0m     \u001b[43mschema_obj\u001b[49m\u001b[38;5;241;43m.\u001b[39;49m\u001b[43minsert_schema\u001b[49m\u001b[43m(\u001b[49m\u001b[38;5;28;43mself\u001b[39;49m\u001b[43m,\u001b[49m\u001b[43m \u001b[49m\u001b[43mrepo_key\u001b[49m\u001b[43m,\u001b[49m\u001b[43m \u001b[49m\u001b[43mbody\u001b[49m\u001b[43m)\u001b[49m\n\u001b[1;32m   1112\u001b[0m \u001b[38;5;28;01mexcept\u001b[39;00m \u001b[38;5;167;01mException\u001b[39;00m \u001b[38;5;28;01mas\u001b[39;00m err:\n\u001b[1;32m   1113\u001b[0m     \u001b[38;5;28;01mraise\u001b[39;00m err\n",
            "File \u001b[0;32m/usr/local/lib/python3.10/site-packages/polly_services/schema/schema.py:45\u001b[0m, in \u001b[0;36mSchema.insert_schema\u001b[0;34m(self, polly_session, repo_key, body)\u001b[0m\n\u001b[1;32m     43\u001b[0m             \u001b[38;5;28mprint\u001b[39m(const\u001b[38;5;241m.\u001b[39mSCHEMA_INSERT_SUCCESS)\n\u001b[1;32m     44\u001b[0m \u001b[38;5;28;01mexcept\u001b[39;00m \u001b[38;5;167;01mException\u001b[39;00m \u001b[38;5;28;01mas\u001b[39;00m err:\n\u001b[0;32m---> 45\u001b[0m     \u001b[38;5;28;01mraise\u001b[39;00m err\n",
            "File \u001b[0;32m/usr/local/lib/python3.10/site-packages/polly_services/schema/schema.py:26\u001b[0m, in \u001b[0;36mSchema.insert_schema\u001b[0;34m(self, polly_session, repo_key, body)\u001b[0m\n\u001b[1;32m     18\u001b[0m \u001b[38;5;124;03m\"\"\"Function to insert schema\u001b[39;00m\n\u001b[1;32m     19\u001b[0m \n\u001b[1;32m     20\u001b[0m \u001b[38;5;124;03mArgs:\u001b[39;00m\n\u001b[0;32m   (...)\u001b[0m\n\u001b[1;32m     23\u001b[0m \u001b[38;5;124;03m    body (dict): payload of the schema\u001b[39;00m\n\u001b[1;32m     24\u001b[0m \u001b[38;5;124;03m\"\"\"\u001b[39;00m\n\u001b[1;32m     25\u001b[0m \u001b[38;5;28;01mtry\u001b[39;00m:\n\u001b[0;32m---> 26\u001b[0m     \u001b[43mschema_hlpr\u001b[49m\u001b[38;5;241;43m.\u001b[39;49m\u001b[43mschema_param_check\u001b[49m\u001b[43m(\u001b[49m\u001b[43mrepo_key\u001b[49m\u001b[43m,\u001b[49m\u001b[43m \u001b[49m\u001b[43mbody\u001b[49m\u001b[43m)\u001b[49m\n\u001b[1;32m     27\u001b[0m     \u001b[38;5;66;03m# validate payload\u001b[39;00m\n\u001b[1;32m     28\u001b[0m     error_df \u001b[38;5;241m=\u001b[39m \u001b[38;5;28mself\u001b[39m\u001b[38;5;241m.\u001b[39mvalidate_schema(polly_session, body)\n",
            "File \u001b[0;32m/usr/local/lib/python3.10/site-packages/polly_services/schema/schema_hlpr.py:24\u001b[0m, in \u001b[0;36mschema_param_check\u001b[0;34m(repo_key, body)\u001b[0m\n\u001b[1;32m     22\u001b[0m     polly_services_hlpr\u001b[38;5;241m.\u001b[39mparameter_check_for_repo_id(repo_key)\n\u001b[1;32m     23\u001b[0m \u001b[38;5;28;01mexcept\u001b[39;00m \u001b[38;5;167;01mException\u001b[39;00m \u001b[38;5;28;01mas\u001b[39;00m err:\n\u001b[0;32m---> 24\u001b[0m     \u001b[38;5;28;01mraise\u001b[39;00m err\n",
            "File \u001b[0;32m/usr/local/lib/python3.10/site-packages/polly_services/schema/schema_hlpr.py:22\u001b[0m, in \u001b[0;36mschema_param_check\u001b[0;34m(repo_key, body)\u001b[0m\n\u001b[1;32m     17\u001b[0m     \u001b[38;5;28;01mif\u001b[39;00m \u001b[38;5;129;01mnot\u001b[39;00m body \u001b[38;5;129;01mor\u001b[39;00m \u001b[38;5;129;01mnot\u001b[39;00m \u001b[38;5;28misinstance\u001b[39m(body, \u001b[38;5;28mdict\u001b[39m):\n\u001b[1;32m     18\u001b[0m         \u001b[38;5;28;01mraise\u001b[39;00m paramException(\n\u001b[1;32m     19\u001b[0m             title\u001b[38;5;241m=\u001b[39m\u001b[38;5;124m\"\u001b[39m\u001b[38;5;124mParam Error\u001b[39m\u001b[38;5;124m\"\u001b[39m,\n\u001b[1;32m     20\u001b[0m             detail\u001b[38;5;241m=\u001b[39m\u001b[38;5;124m\"\u001b[39m\u001b[38;5;124mbody should not be empty and it should be of type dict\u001b[39m\u001b[38;5;124m\"\u001b[39m,\n\u001b[1;32m     21\u001b[0m         )\n\u001b[0;32m---> 22\u001b[0m     \u001b[43mpolly_services_hlpr\u001b[49m\u001b[38;5;241;43m.\u001b[39;49m\u001b[43mparameter_check_for_repo_id\u001b[49m\u001b[43m(\u001b[49m\u001b[43mrepo_key\u001b[49m\u001b[43m)\u001b[49m\n\u001b[1;32m     23\u001b[0m \u001b[38;5;28;01mexcept\u001b[39;00m \u001b[38;5;167;01mException\u001b[39;00m \u001b[38;5;28;01mas\u001b[39;00m err:\n\u001b[1;32m     24\u001b[0m     \u001b[38;5;28;01mraise\u001b[39;00m err\n",
            "File \u001b[0;32m/usr/local/lib/python3.10/site-packages/polly_services/polly_services_hlpr.py:19\u001b[0m, in \u001b[0;36mparameter_check_for_repo_id\u001b[0;34m(repo_id)\u001b[0m\n\u001b[1;32m     13\u001b[0m     \u001b[38;5;28;01mraise\u001b[39;00m paramException(\n\u001b[1;32m     14\u001b[0m         title\u001b[38;5;241m=\u001b[39m\u001b[38;5;124m\"\u001b[39m\u001b[38;5;124mParam Error\u001b[39m\u001b[38;5;124m\"\u001b[39m,\n\u001b[1;32m     15\u001b[0m         detail\u001b[38;5;241m=\u001b[39m\u001b[38;5;124m\"\u001b[39m\u001b[38;5;124mrepo_id should not be empty\u001b[39m\u001b[38;5;124m\"\u001b[39m,\n\u001b[1;32m     16\u001b[0m     )\n\u001b[1;32m     18\u001b[0m \u001b[38;5;28;01mif\u001b[39;00m \u001b[38;5;129;01mnot\u001b[39;00m \u001b[38;5;28misinstance\u001b[39m(repo_id, (\u001b[38;5;28mstr\u001b[39m, \u001b[38;5;28mint\u001b[39m)):\n\u001b[0;32m---> 19\u001b[0m     \u001b[38;5;28;01mraise\u001b[39;00m paramException(\n\u001b[1;32m     20\u001b[0m         title\u001b[38;5;241m=\u001b[39m\u001b[38;5;124m\"\u001b[39m\u001b[38;5;124mParam Error\u001b[39m\u001b[38;5;124m\"\u001b[39m,\n\u001b[1;32m     21\u001b[0m         detail\u001b[38;5;241m=\u001b[39m\u001b[38;5;124mf\u001b[39m\u001b[38;5;124m\"\u001b[39m\u001b[38;5;124mrepo_id, \u001b[39m\u001b[38;5;132;01m{\u001b[39;00mrepo_id\u001b[38;5;132;01m}\u001b[39;00m\u001b[38;5;124m should be str or int\u001b[39m\u001b[38;5;124m\"\u001b[39m,\n\u001b[1;32m     22\u001b[0m     )\n",
            "\u001b[0;31mparamException\u001b[0m: paramException (parameter error): repo_id, ['1687428145396'] should be str or int"
          ]
        }
      ],
      "source": [
        "# test 1 -> schema param check repo key\n",
        "repo_key = [\"1687428145396\"]\n",
        "\n",
        "schema_file_path_for_insertion = \"/import/new_omix_for_refac_2/new_omix_for_refac_2.json\"\n",
        "\n",
        "with open(schema_file_path_for_insertion, \"r\") as schema_file:\n",
        "    schema_data_for_insertion = json.load(schema_file)\n",
        "\n",
        "omixatlas.insert_schema(repo_key, schema_data_for_insertion)"
      ]
    },
    {
      "cell_type": "code",
      "execution_count": 8,
      "metadata": {},
      "outputs": [
        {
          "ename": "paramException",
          "evalue": "paramException (parameter error): body should not be empty and it should be of type dict",
          "output_type": "error",
          "traceback": [
            "\u001b[0;31m---------------------------------------------------------------------------\u001b[0m",
            "\u001b[0;31mparamException\u001b[0m                            Traceback (most recent call last)",
            "Input \u001b[0;32mIn [8]\u001b[0m, in \u001b[0;36m<cell line: 7>\u001b[0;34m()\u001b[0m\n\u001b[1;32m      3\u001b[0m repo_key \u001b[38;5;241m=\u001b[39m \u001b[38;5;124m\"\u001b[39m\u001b[38;5;124m1687428145396\u001b[39m\u001b[38;5;124m\"\u001b[39m\n\u001b[1;32m      5\u001b[0m schema_data_for_insertion \u001b[38;5;241m=\u001b[39m \u001b[38;5;124m\"\u001b[39m\u001b[38;5;124m\"\u001b[39m\n\u001b[0;32m----> 7\u001b[0m \u001b[43momixatlas\u001b[49m\u001b[38;5;241;43m.\u001b[39;49m\u001b[43minsert_schema\u001b[49m\u001b[43m(\u001b[49m\u001b[43mrepo_key\u001b[49m\u001b[43m,\u001b[49m\u001b[43m \u001b[49m\u001b[43mschema_data_for_insertion\u001b[49m\u001b[43m)\u001b[49m\n",
            "File \u001b[0;32m/usr/local/lib/python3.10/site-packages/polly/tracking.py:59\u001b[0m, in \u001b[0;36mTrack.track_decorator.<locals>.wrapper_function\u001b[0;34m(*args, **kwargs)\u001b[0m\n\u001b[1;32m     57\u001b[0m         \u001b[38;5;28;01mreturn\u001b[39;00m result\n\u001b[1;32m     58\u001b[0m \u001b[38;5;28;01melse\u001b[39;00m:\n\u001b[0;32m---> 59\u001b[0m     \u001b[38;5;28;01mraise\u001b[39;00m returned_err\n",
            "File \u001b[0;32m/usr/local/lib/python3.10/site-packages/polly/tracking.py:22\u001b[0m, in \u001b[0;36mTrack.track_decorator.<locals>.wrapper_function\u001b[0;34m(*args, **kwargs)\u001b[0m\n\u001b[1;32m     20\u001b[0m execution_flag \u001b[38;5;241m=\u001b[39m \u001b[38;5;28;01mFalse\u001b[39;00m\n\u001b[1;32m     21\u001b[0m \u001b[38;5;28;01mtry\u001b[39;00m:\n\u001b[0;32m---> 22\u001b[0m     result \u001b[38;5;241m=\u001b[39m \u001b[43mfunction\u001b[49m\u001b[43m(\u001b[49m\u001b[38;5;241;43m*\u001b[39;49m\u001b[43margs\u001b[49m\u001b[43m,\u001b[49m\u001b[43m \u001b[49m\u001b[38;5;241;43m*\u001b[39;49m\u001b[38;5;241;43m*\u001b[39;49m\u001b[43mkwargs\u001b[49m\u001b[43m)\u001b[49m\n\u001b[1;32m     23\u001b[0m     execution_flag \u001b[38;5;241m=\u001b[39m \u001b[38;5;28;01mTrue\u001b[39;00m\n\u001b[1;32m     24\u001b[0m \u001b[38;5;28;01mexcept\u001b[39;00m \u001b[38;5;167;01mException\u001b[39;00m \u001b[38;5;28;01mas\u001b[39;00m e:\n",
            "File \u001b[0;32m/usr/local/lib/python3.10/site-packages/polly/omixatlas.py:1113\u001b[0m, in \u001b[0;36mOmixAtlas.insert_schema\u001b[0;34m(self, repo_key, body)\u001b[0m\n\u001b[1;32m   1111\u001b[0m     schema_obj\u001b[38;5;241m.\u001b[39minsert_schema(\u001b[38;5;28mself\u001b[39m, repo_key, body)\n\u001b[1;32m   1112\u001b[0m \u001b[38;5;28;01mexcept\u001b[39;00m \u001b[38;5;167;01mException\u001b[39;00m \u001b[38;5;28;01mas\u001b[39;00m err:\n\u001b[0;32m-> 1113\u001b[0m     \u001b[38;5;28;01mraise\u001b[39;00m err\n",
            "File \u001b[0;32m/usr/local/lib/python3.10/site-packages/polly/omixatlas.py:1111\u001b[0m, in \u001b[0;36mOmixAtlas.insert_schema\u001b[0;34m(self, repo_key, body)\u001b[0m\n\u001b[1;32m   1109\u001b[0m \u001b[38;5;28;01mtry\u001b[39;00m:\n\u001b[1;32m   1110\u001b[0m     schema_obj \u001b[38;5;241m=\u001b[39m Schema()\n\u001b[0;32m-> 1111\u001b[0m     \u001b[43mschema_obj\u001b[49m\u001b[38;5;241;43m.\u001b[39;49m\u001b[43minsert_schema\u001b[49m\u001b[43m(\u001b[49m\u001b[38;5;28;43mself\u001b[39;49m\u001b[43m,\u001b[49m\u001b[43m \u001b[49m\u001b[43mrepo_key\u001b[49m\u001b[43m,\u001b[49m\u001b[43m \u001b[49m\u001b[43mbody\u001b[49m\u001b[43m)\u001b[49m\n\u001b[1;32m   1112\u001b[0m \u001b[38;5;28;01mexcept\u001b[39;00m \u001b[38;5;167;01mException\u001b[39;00m \u001b[38;5;28;01mas\u001b[39;00m err:\n\u001b[1;32m   1113\u001b[0m     \u001b[38;5;28;01mraise\u001b[39;00m err\n",
            "File \u001b[0;32m/usr/local/lib/python3.10/site-packages/polly_services/schema/schema.py:45\u001b[0m, in \u001b[0;36mSchema.insert_schema\u001b[0;34m(self, polly_session, repo_key, body)\u001b[0m\n\u001b[1;32m     43\u001b[0m             \u001b[38;5;28mprint\u001b[39m(const\u001b[38;5;241m.\u001b[39mSCHEMA_INSERT_SUCCESS)\n\u001b[1;32m     44\u001b[0m \u001b[38;5;28;01mexcept\u001b[39;00m \u001b[38;5;167;01mException\u001b[39;00m \u001b[38;5;28;01mas\u001b[39;00m err:\n\u001b[0;32m---> 45\u001b[0m     \u001b[38;5;28;01mraise\u001b[39;00m err\n",
            "File \u001b[0;32m/usr/local/lib/python3.10/site-packages/polly_services/schema/schema.py:26\u001b[0m, in \u001b[0;36mSchema.insert_schema\u001b[0;34m(self, polly_session, repo_key, body)\u001b[0m\n\u001b[1;32m     18\u001b[0m \u001b[38;5;124;03m\"\"\"Function to insert schema\u001b[39;00m\n\u001b[1;32m     19\u001b[0m \n\u001b[1;32m     20\u001b[0m \u001b[38;5;124;03mArgs:\u001b[39;00m\n\u001b[0;32m   (...)\u001b[0m\n\u001b[1;32m     23\u001b[0m \u001b[38;5;124;03m    body (dict): payload of the schema\u001b[39;00m\n\u001b[1;32m     24\u001b[0m \u001b[38;5;124;03m\"\"\"\u001b[39;00m\n\u001b[1;32m     25\u001b[0m \u001b[38;5;28;01mtry\u001b[39;00m:\n\u001b[0;32m---> 26\u001b[0m     \u001b[43mschema_hlpr\u001b[49m\u001b[38;5;241;43m.\u001b[39;49m\u001b[43mschema_param_check\u001b[49m\u001b[43m(\u001b[49m\u001b[43mrepo_key\u001b[49m\u001b[43m,\u001b[49m\u001b[43m \u001b[49m\u001b[43mbody\u001b[49m\u001b[43m)\u001b[49m\n\u001b[1;32m     27\u001b[0m     \u001b[38;5;66;03m# validate payload\u001b[39;00m\n\u001b[1;32m     28\u001b[0m     error_df \u001b[38;5;241m=\u001b[39m \u001b[38;5;28mself\u001b[39m\u001b[38;5;241m.\u001b[39mvalidate_schema(polly_session, body)\n",
            "File \u001b[0;32m/usr/local/lib/python3.10/site-packages/polly_services/schema/schema_hlpr.py:24\u001b[0m, in \u001b[0;36mschema_param_check\u001b[0;34m(repo_key, body)\u001b[0m\n\u001b[1;32m     22\u001b[0m     polly_services_hlpr\u001b[38;5;241m.\u001b[39mparameter_check_for_repo_id(repo_key)\n\u001b[1;32m     23\u001b[0m \u001b[38;5;28;01mexcept\u001b[39;00m \u001b[38;5;167;01mException\u001b[39;00m \u001b[38;5;28;01mas\u001b[39;00m err:\n\u001b[0;32m---> 24\u001b[0m     \u001b[38;5;28;01mraise\u001b[39;00m err\n",
            "File \u001b[0;32m/usr/local/lib/python3.10/site-packages/polly_services/schema/schema_hlpr.py:18\u001b[0m, in \u001b[0;36mschema_param_check\u001b[0;34m(repo_key, body)\u001b[0m\n\u001b[1;32m     16\u001b[0m \u001b[38;5;28;01mtry\u001b[39;00m:\n\u001b[1;32m     17\u001b[0m     \u001b[38;5;28;01mif\u001b[39;00m \u001b[38;5;129;01mnot\u001b[39;00m body \u001b[38;5;129;01mor\u001b[39;00m \u001b[38;5;129;01mnot\u001b[39;00m \u001b[38;5;28misinstance\u001b[39m(body, \u001b[38;5;28mdict\u001b[39m):\n\u001b[0;32m---> 18\u001b[0m         \u001b[38;5;28;01mraise\u001b[39;00m paramException(\n\u001b[1;32m     19\u001b[0m             title\u001b[38;5;241m=\u001b[39m\u001b[38;5;124m\"\u001b[39m\u001b[38;5;124mParam Error\u001b[39m\u001b[38;5;124m\"\u001b[39m,\n\u001b[1;32m     20\u001b[0m             detail\u001b[38;5;241m=\u001b[39m\u001b[38;5;124m\"\u001b[39m\u001b[38;5;124mbody should not be empty and it should be of type dict\u001b[39m\u001b[38;5;124m\"\u001b[39m,\n\u001b[1;32m     21\u001b[0m         )\n\u001b[1;32m     22\u001b[0m     polly_services_hlpr\u001b[38;5;241m.\u001b[39mparameter_check_for_repo_id(repo_key)\n\u001b[1;32m     23\u001b[0m \u001b[38;5;28;01mexcept\u001b[39;00m \u001b[38;5;167;01mException\u001b[39;00m \u001b[38;5;28;01mas\u001b[39;00m err:\n",
            "\u001b[0;31mparamException\u001b[0m: paramException (parameter error): body should not be empty and it should be of type dict"
          ]
        }
      ],
      "source": [
        "# test 2 -> schema param check body\n",
        "\n",
        "repo_key = \"1687428145396\"\n",
        "\n",
        "schema_data_for_insertion = \"\"\n",
        "\n",
        "omixatlas.insert_schema(repo_key, schema_data_for_insertion)"
      ]
    },
    {
      "cell_type": "code",
      "execution_count": 9,
      "metadata": {},
      "outputs": [
        {
          "ename": "paramException",
          "evalue": "paramException (parameter error): schema_dict not in correct format, schema key not present.Please recheck the schema dict format and values.",
          "output_type": "error",
          "traceback": [
            "\u001b[0;31m---------------------------------------------------------------------------\u001b[0m",
            "\u001b[0;31mparamException\u001b[0m                            Traceback (most recent call last)",
            "Input \u001b[0;32mIn [9]\u001b[0m, in \u001b[0;36m<cell line: 10>\u001b[0;34m()\u001b[0m\n\u001b[1;32m      7\u001b[0m \u001b[38;5;28;01mwith\u001b[39;00m \u001b[38;5;28mopen\u001b[39m(schema_file_path_for_insertion, \u001b[38;5;124m\"\u001b[39m\u001b[38;5;124mr\u001b[39m\u001b[38;5;124m\"\u001b[39m) \u001b[38;5;28;01mas\u001b[39;00m schema_file:\n\u001b[1;32m      8\u001b[0m     schema_data_for_insertion \u001b[38;5;241m=\u001b[39m json\u001b[38;5;241m.\u001b[39mload(schema_file)\n\u001b[0;32m---> 10\u001b[0m \u001b[43momixatlas\u001b[49m\u001b[38;5;241;43m.\u001b[39;49m\u001b[43minsert_schema\u001b[49m\u001b[43m(\u001b[49m\u001b[43mrepo_key\u001b[49m\u001b[43m,\u001b[49m\u001b[43m \u001b[49m\u001b[43mschema_data_for_insertion\u001b[49m\u001b[43m)\u001b[49m\n",
            "File \u001b[0;32m/usr/local/lib/python3.10/site-packages/polly/tracking.py:59\u001b[0m, in \u001b[0;36mTrack.track_decorator.<locals>.wrapper_function\u001b[0;34m(*args, **kwargs)\u001b[0m\n\u001b[1;32m     57\u001b[0m         \u001b[38;5;28;01mreturn\u001b[39;00m result\n\u001b[1;32m     58\u001b[0m \u001b[38;5;28;01melse\u001b[39;00m:\n\u001b[0;32m---> 59\u001b[0m     \u001b[38;5;28;01mraise\u001b[39;00m returned_err\n",
            "File \u001b[0;32m/usr/local/lib/python3.10/site-packages/polly/tracking.py:22\u001b[0m, in \u001b[0;36mTrack.track_decorator.<locals>.wrapper_function\u001b[0;34m(*args, **kwargs)\u001b[0m\n\u001b[1;32m     20\u001b[0m execution_flag \u001b[38;5;241m=\u001b[39m \u001b[38;5;28;01mFalse\u001b[39;00m\n\u001b[1;32m     21\u001b[0m \u001b[38;5;28;01mtry\u001b[39;00m:\n\u001b[0;32m---> 22\u001b[0m     result \u001b[38;5;241m=\u001b[39m \u001b[43mfunction\u001b[49m\u001b[43m(\u001b[49m\u001b[38;5;241;43m*\u001b[39;49m\u001b[43margs\u001b[49m\u001b[43m,\u001b[49m\u001b[43m \u001b[49m\u001b[38;5;241;43m*\u001b[39;49m\u001b[38;5;241;43m*\u001b[39;49m\u001b[43mkwargs\u001b[49m\u001b[43m)\u001b[49m\n\u001b[1;32m     23\u001b[0m     execution_flag \u001b[38;5;241m=\u001b[39m \u001b[38;5;28;01mTrue\u001b[39;00m\n\u001b[1;32m     24\u001b[0m \u001b[38;5;28;01mexcept\u001b[39;00m \u001b[38;5;167;01mException\u001b[39;00m \u001b[38;5;28;01mas\u001b[39;00m e:\n",
            "File \u001b[0;32m/usr/local/lib/python3.10/site-packages/polly/omixatlas.py:1113\u001b[0m, in \u001b[0;36mOmixAtlas.insert_schema\u001b[0;34m(self, repo_key, body)\u001b[0m\n\u001b[1;32m   1111\u001b[0m     schema_obj\u001b[38;5;241m.\u001b[39minsert_schema(\u001b[38;5;28mself\u001b[39m, repo_key, body)\n\u001b[1;32m   1112\u001b[0m \u001b[38;5;28;01mexcept\u001b[39;00m \u001b[38;5;167;01mException\u001b[39;00m \u001b[38;5;28;01mas\u001b[39;00m err:\n\u001b[0;32m-> 1113\u001b[0m     \u001b[38;5;28;01mraise\u001b[39;00m err\n",
            "File \u001b[0;32m/usr/local/lib/python3.10/site-packages/polly/omixatlas.py:1111\u001b[0m, in \u001b[0;36mOmixAtlas.insert_schema\u001b[0;34m(self, repo_key, body)\u001b[0m\n\u001b[1;32m   1109\u001b[0m \u001b[38;5;28;01mtry\u001b[39;00m:\n\u001b[1;32m   1110\u001b[0m     schema_obj \u001b[38;5;241m=\u001b[39m Schema()\n\u001b[0;32m-> 1111\u001b[0m     \u001b[43mschema_obj\u001b[49m\u001b[38;5;241;43m.\u001b[39;49m\u001b[43minsert_schema\u001b[49m\u001b[43m(\u001b[49m\u001b[38;5;28;43mself\u001b[39;49m\u001b[43m,\u001b[49m\u001b[43m \u001b[49m\u001b[43mrepo_key\u001b[49m\u001b[43m,\u001b[49m\u001b[43m \u001b[49m\u001b[43mbody\u001b[49m\u001b[43m)\u001b[49m\n\u001b[1;32m   1112\u001b[0m \u001b[38;5;28;01mexcept\u001b[39;00m \u001b[38;5;167;01mException\u001b[39;00m \u001b[38;5;28;01mas\u001b[39;00m err:\n\u001b[1;32m   1113\u001b[0m     \u001b[38;5;28;01mraise\u001b[39;00m err\n",
            "File \u001b[0;32m/usr/local/lib/python3.10/site-packages/polly_services/schema/schema.py:45\u001b[0m, in \u001b[0;36mSchema.insert_schema\u001b[0;34m(self, polly_session, repo_key, body)\u001b[0m\n\u001b[1;32m     43\u001b[0m             \u001b[38;5;28mprint\u001b[39m(const\u001b[38;5;241m.\u001b[39mSCHEMA_INSERT_SUCCESS)\n\u001b[1;32m     44\u001b[0m \u001b[38;5;28;01mexcept\u001b[39;00m \u001b[38;5;167;01mException\u001b[39;00m \u001b[38;5;28;01mas\u001b[39;00m err:\n\u001b[0;32m---> 45\u001b[0m     \u001b[38;5;28;01mraise\u001b[39;00m err\n",
            "File \u001b[0;32m/usr/local/lib/python3.10/site-packages/polly_services/schema/schema.py:28\u001b[0m, in \u001b[0;36mSchema.insert_schema\u001b[0;34m(self, polly_session, repo_key, body)\u001b[0m\n\u001b[1;32m     26\u001b[0m schema_hlpr\u001b[38;5;241m.\u001b[39mschema_param_check(repo_key, body)\n\u001b[1;32m     27\u001b[0m \u001b[38;5;66;03m# validate payload\u001b[39;00m\n\u001b[0;32m---> 28\u001b[0m error_df \u001b[38;5;241m=\u001b[39m \u001b[38;5;28;43mself\u001b[39;49m\u001b[38;5;241;43m.\u001b[39;49m\u001b[43mvalidate_schema\u001b[49m\u001b[43m(\u001b[49m\u001b[43mpolly_session\u001b[49m\u001b[43m,\u001b[49m\u001b[43m \u001b[49m\u001b[43mbody\u001b[49m\u001b[43m)\u001b[49m\n\u001b[1;32m     30\u001b[0m \u001b[38;5;66;03m# if there are no errors in the schema payload\u001b[39;00m\n\u001b[1;32m     31\u001b[0m \u001b[38;5;66;03m# which means error df is empty then only proceed\u001b[39;00m\n\u001b[1;32m     32\u001b[0m \u001b[38;5;66;03m# with schema insert operation\u001b[39;00m\n\u001b[1;32m     33\u001b[0m \u001b[38;5;28;01mif\u001b[39;00m error_df\u001b[38;5;241m.\u001b[39mempty:\n",
            "File \u001b[0;32m/usr/local/lib/python3.10/site-packages/polly_services/schema/schema.py:158\u001b[0m, in \u001b[0;36mSchema.validate_schema\u001b[0;34m(self, polly_session, body)\u001b[0m\n\u001b[1;32m    155\u001b[0m     \u001b[38;5;28;01mreturn\u001b[39;00m error_res_combined\n\u001b[1;32m    157\u001b[0m \u001b[38;5;28;01mexcept\u001b[39;00m \u001b[38;5;167;01mException\u001b[39;00m \u001b[38;5;28;01mas\u001b[39;00m err:\n\u001b[0;32m--> 158\u001b[0m     \u001b[38;5;28;01mraise\u001b[39;00m err\n",
            "File \u001b[0;32m/usr/local/lib/python3.10/site-packages/polly_services/schema/schema.py:108\u001b[0m, in \u001b[0;36mSchema.validate_schema\u001b[0;34m(self, polly_session, body)\u001b[0m\n\u001b[1;32m    102\u001b[0m \u001b[38;5;124;03m\"\"\"validate the schema\u001b[39;00m\n\u001b[1;32m    103\u001b[0m \n\u001b[1;32m    104\u001b[0m \u001b[38;5;124;03mArgs:\u001b[39;00m\n\u001b[1;32m    105\u001b[0m \u001b[38;5;124;03m    body (dict): payload of the schema\u001b[39;00m\n\u001b[1;32m    106\u001b[0m \u001b[38;5;124;03m\"\"\"\u001b[39;00m\n\u001b[1;32m    107\u001b[0m \u001b[38;5;28;01mtry\u001b[39;00m:\n\u001b[0;32m--> 108\u001b[0m     \u001b[43mschema_hlpr\u001b[49m\u001b[38;5;241;43m.\u001b[39;49m\u001b[43mvalidate_schema_param_check\u001b[49m\u001b[43m(\u001b[49m\u001b[43mbody\u001b[49m\u001b[43m)\u001b[49m\n\u001b[1;32m    109\u001b[0m     repo_identifier \u001b[38;5;241m=\u001b[39m body\u001b[38;5;241m.\u001b[39mget(\u001b[38;5;124m\"\u001b[39m\u001b[38;5;124mdata\u001b[39m\u001b[38;5;124m\"\u001b[39m, \u001b[38;5;124m\"\u001b[39m\u001b[38;5;124m\"\u001b[39m)\u001b[38;5;241m.\u001b[39mget(\u001b[38;5;124m\"\u001b[39m\u001b[38;5;124mattributes\u001b[39m\u001b[38;5;124m\"\u001b[39m, \u001b[38;5;124m\"\u001b[39m\u001b[38;5;124m\"\u001b[39m)\u001b[38;5;241m.\u001b[39mget(\u001b[38;5;124m\"\u001b[39m\u001b[38;5;124mrepo_id\u001b[39m\u001b[38;5;124m\"\u001b[39m)\n\u001b[1;32m    111\u001b[0m     \u001b[38;5;66;03m# only repo_id allowed in payload, repo_name not allowed in payload\u001b[39;00m\n",
            "File \u001b[0;32m/usr/local/lib/python3.10/site-packages/polly_services/schema/schema_hlpr.py:123\u001b[0m, in \u001b[0;36mvalidate_schema_param_check\u001b[0;34m(body)\u001b[0m\n\u001b[1;32m    116\u001b[0m     \u001b[38;5;28;01mraise\u001b[39;00m paramException(\n\u001b[1;32m    117\u001b[0m         title\u001b[38;5;241m=\u001b[39m\u001b[38;5;124m\"\u001b[39m\u001b[38;5;124mParam Error\u001b[39m\u001b[38;5;124m\"\u001b[39m,\n\u001b[1;32m    118\u001b[0m         detail\u001b[38;5;241m=\u001b[39m\u001b[38;5;124m\"\u001b[39m\u001b[38;5;124mschema_dict not in correct format, repo_id key not present.\u001b[39m\u001b[38;5;124m\"\u001b[39m\n\u001b[1;32m    119\u001b[0m         \u001b[38;5;241m+\u001b[39m \u001b[38;5;124m\"\u001b[39m\u001b[38;5;124mPlease recheck the schema dict format and values.\u001b[39m\u001b[38;5;124m\"\u001b[39m,\n\u001b[1;32m    120\u001b[0m     )\n\u001b[1;32m    122\u001b[0m \u001b[38;5;28;01mif\u001b[39;00m \u001b[38;5;124m\"\u001b[39m\u001b[38;5;124mschema\u001b[39m\u001b[38;5;124m\"\u001b[39m \u001b[38;5;129;01mnot\u001b[39;00m \u001b[38;5;129;01min\u001b[39;00m attributes:\n\u001b[0;32m--> 123\u001b[0m     \u001b[38;5;28;01mraise\u001b[39;00m paramException(\n\u001b[1;32m    124\u001b[0m         title\u001b[38;5;241m=\u001b[39m\u001b[38;5;124m\"\u001b[39m\u001b[38;5;124mParam Error\u001b[39m\u001b[38;5;124m\"\u001b[39m,\n\u001b[1;32m    125\u001b[0m         detail\u001b[38;5;241m=\u001b[39m\u001b[38;5;124m\"\u001b[39m\u001b[38;5;124mschema_dict not in correct format, schema key not present.\u001b[39m\u001b[38;5;124m\"\u001b[39m\n\u001b[1;32m    126\u001b[0m         \u001b[38;5;241m+\u001b[39m \u001b[38;5;124m\"\u001b[39m\u001b[38;5;124mPlease recheck the schema dict format and values.\u001b[39m\u001b[38;5;124m\"\u001b[39m,\n\u001b[1;32m    127\u001b[0m     )\n",
            "\u001b[0;31mparamException\u001b[0m: paramException (parameter error): schema_dict not in correct format, schema key not present.Please recheck the schema dict format and values."
          ]
        }
      ],
      "source": [
        "# test 3 -> incorrect schema -> will fail on validate\n",
        "\n",
        "repo_key = \"1687428145396\"\n",
        "\n",
        "schema_file_path_for_insertion = \"/import/new_omix_for_refac_2/new_omix_for_refac_2.json\"\n",
        "\n",
        "with open(schema_file_path_for_insertion, \"r\") as schema_file:\n",
        "    schema_data_for_insertion = json.load(schema_file)\n",
        "\n",
        "omixatlas.insert_schema(repo_key, schema_data_for_insertion)"
      ]
    },
    {
      "cell_type": "code",
      "execution_count": 6,
      "metadata": {},
      "outputs": [
        {
          "name": "stdout",
          "output_type": "stream",
          "text": [
            "Schema has no errors\n"
          ]
        },
        {
          "ename": "paramException",
          "evalue": "paramException (parameter error): Value of repo_id key and id key is not same in the payload or Value of repo_key in the parameter and repo_id in the payload not same. Please correct it. ",
          "output_type": "error",
          "traceback": [
            "\u001b[0;31m---------------------------------------------------------------------------\u001b[0m",
            "\u001b[0;31mparamException\u001b[0m                            Traceback (most recent call last)",
            "Input \u001b[0;32mIn [6]\u001b[0m, in \u001b[0;36m<cell line: 12>\u001b[0;34m()\u001b[0m\n\u001b[1;32m      9\u001b[0m \u001b[38;5;28;01mwith\u001b[39;00m \u001b[38;5;28mopen\u001b[39m(schema_file_path_for_insertion, \u001b[38;5;124m\"\u001b[39m\u001b[38;5;124mr\u001b[39m\u001b[38;5;124m\"\u001b[39m) \u001b[38;5;28;01mas\u001b[39;00m schema_file:\n\u001b[1;32m     10\u001b[0m     schema_data_for_insertion \u001b[38;5;241m=\u001b[39m json\u001b[38;5;241m.\u001b[39mload(schema_file)\n\u001b[0;32m---> 12\u001b[0m \u001b[43momixatlas\u001b[49m\u001b[38;5;241;43m.\u001b[39;49m\u001b[43minsert_schema\u001b[49m\u001b[43m(\u001b[49m\u001b[43mrepo_key\u001b[49m\u001b[43m,\u001b[49m\u001b[43m \u001b[49m\u001b[43mschema_data_for_insertion\u001b[49m\u001b[43m)\u001b[49m\n",
            "File \u001b[0;32m/usr/local/lib/python3.10/site-packages/polly/tracking.py:59\u001b[0m, in \u001b[0;36mTrack.track_decorator.<locals>.wrapper_function\u001b[0;34m(*args, **kwargs)\u001b[0m\n\u001b[1;32m     57\u001b[0m         \u001b[38;5;28;01mreturn\u001b[39;00m result\n\u001b[1;32m     58\u001b[0m \u001b[38;5;28;01melse\u001b[39;00m:\n\u001b[0;32m---> 59\u001b[0m     \u001b[38;5;28;01mraise\u001b[39;00m returned_err\n",
            "File \u001b[0;32m/usr/local/lib/python3.10/site-packages/polly/tracking.py:22\u001b[0m, in \u001b[0;36mTrack.track_decorator.<locals>.wrapper_function\u001b[0;34m(*args, **kwargs)\u001b[0m\n\u001b[1;32m     20\u001b[0m execution_flag \u001b[38;5;241m=\u001b[39m \u001b[38;5;28;01mFalse\u001b[39;00m\n\u001b[1;32m     21\u001b[0m \u001b[38;5;28;01mtry\u001b[39;00m:\n\u001b[0;32m---> 22\u001b[0m     result \u001b[38;5;241m=\u001b[39m \u001b[43mfunction\u001b[49m\u001b[43m(\u001b[49m\u001b[38;5;241;43m*\u001b[39;49m\u001b[43margs\u001b[49m\u001b[43m,\u001b[49m\u001b[43m \u001b[49m\u001b[38;5;241;43m*\u001b[39;49m\u001b[38;5;241;43m*\u001b[39;49m\u001b[43mkwargs\u001b[49m\u001b[43m)\u001b[49m\n\u001b[1;32m     23\u001b[0m     execution_flag \u001b[38;5;241m=\u001b[39m \u001b[38;5;28;01mTrue\u001b[39;00m\n\u001b[1;32m     24\u001b[0m \u001b[38;5;28;01mexcept\u001b[39;00m \u001b[38;5;167;01mException\u001b[39;00m \u001b[38;5;28;01mas\u001b[39;00m e:\n",
            "File \u001b[0;32m/usr/local/lib/python3.10/site-packages/polly/omixatlas.py:1112\u001b[0m, in \u001b[0;36mOmixAtlas.insert_schema\u001b[0;34m(self, repo_key, body)\u001b[0m\n\u001b[1;32m   1110\u001b[0m     schema_obj\u001b[38;5;241m.\u001b[39minsert_schema(\u001b[38;5;28mself\u001b[39m, repo_key, body)\n\u001b[1;32m   1111\u001b[0m \u001b[38;5;28;01mexcept\u001b[39;00m \u001b[38;5;167;01mException\u001b[39;00m \u001b[38;5;28;01mas\u001b[39;00m err:\n\u001b[0;32m-> 1112\u001b[0m     \u001b[38;5;28;01mraise\u001b[39;00m err\n",
            "File \u001b[0;32m/usr/local/lib/python3.10/site-packages/polly/omixatlas.py:1110\u001b[0m, in \u001b[0;36mOmixAtlas.insert_schema\u001b[0;34m(self, repo_key, body)\u001b[0m\n\u001b[1;32m   1108\u001b[0m \u001b[38;5;28;01mtry\u001b[39;00m:\n\u001b[1;32m   1109\u001b[0m     schema_obj \u001b[38;5;241m=\u001b[39m Schema()\n\u001b[0;32m-> 1110\u001b[0m     \u001b[43mschema_obj\u001b[49m\u001b[38;5;241;43m.\u001b[39;49m\u001b[43minsert_schema\u001b[49m\u001b[43m(\u001b[49m\u001b[38;5;28;43mself\u001b[39;49m\u001b[43m,\u001b[49m\u001b[43m \u001b[49m\u001b[43mrepo_key\u001b[49m\u001b[43m,\u001b[49m\u001b[43m \u001b[49m\u001b[43mbody\u001b[49m\u001b[43m)\u001b[49m\n\u001b[1;32m   1111\u001b[0m \u001b[38;5;28;01mexcept\u001b[39;00m \u001b[38;5;167;01mException\u001b[39;00m \u001b[38;5;28;01mas\u001b[39;00m err:\n\u001b[1;32m   1112\u001b[0m     \u001b[38;5;28;01mraise\u001b[39;00m err\n",
            "File \u001b[0;32m/usr/local/lib/python3.10/site-packages/polly_services/schema/schema.py:47\u001b[0m, in \u001b[0;36mSchema.insert_schema\u001b[0;34m(self, polly_session, repo_key, body)\u001b[0m\n\u001b[1;32m     45\u001b[0m             \u001b[38;5;28mprint\u001b[39m(const\u001b[38;5;241m.\u001b[39mSCHEMA_INSERT_SUCCESS)\n\u001b[1;32m     46\u001b[0m \u001b[38;5;28;01mexcept\u001b[39;00m \u001b[38;5;167;01mException\u001b[39;00m \u001b[38;5;28;01mas\u001b[39;00m err:\n\u001b[0;32m---> 47\u001b[0m     \u001b[38;5;28;01mraise\u001b[39;00m err\n",
            "File \u001b[0;32m/usr/local/lib/python3.10/site-packages/polly_services/schema/schema.py:36\u001b[0m, in \u001b[0;36mSchema.insert_schema\u001b[0;34m(self, polly_session, repo_key, body)\u001b[0m\n\u001b[1;32m     34\u001b[0m repo_id \u001b[38;5;241m=\u001b[39m body\u001b[38;5;241m.\u001b[39mget(\u001b[38;5;124m\"\u001b[39m\u001b[38;5;124mdata\u001b[39m\u001b[38;5;124m\"\u001b[39m)\u001b[38;5;241m.\u001b[39mget(\u001b[38;5;124m\"\u001b[39m\u001b[38;5;124mattributes\u001b[39m\u001b[38;5;124m\"\u001b[39m)\u001b[38;5;241m.\u001b[39mget(\u001b[38;5;124m\"\u001b[39m\u001b[38;5;124mrepo_id\u001b[39m\u001b[38;5;124m\"\u001b[39m)\n\u001b[1;32m     35\u001b[0m repo_key \u001b[38;5;241m=\u001b[39m polly_services_hlpr\u001b[38;5;241m.\u001b[39mmake_repo_id_string(repo_key)\n\u001b[0;32m---> 36\u001b[0m \u001b[43mschema_hlpr\u001b[49m\u001b[38;5;241;43m.\u001b[39;49m\u001b[43mcompare_repo_key_and_repo_id\u001b[49m\u001b[43m(\u001b[49m\n\u001b[1;32m     37\u001b[0m \u001b[43m    \u001b[49m\u001b[43mpolly_session\u001b[49m\u001b[43m,\u001b[49m\u001b[43m \u001b[49m\u001b[43mrepo_key\u001b[49m\u001b[43m,\u001b[49m\u001b[43m \u001b[49m\u001b[43mrepo_id\u001b[49m\n\u001b[1;32m     38\u001b[0m \u001b[43m\u001b[49m\u001b[43m)\u001b[49m\n\u001b[1;32m     39\u001b[0m schema_base_url \u001b[38;5;241m=\u001b[39m \u001b[38;5;124mf\u001b[39m\u001b[38;5;124m\"\u001b[39m\u001b[38;5;132;01m{\u001b[39;00mpolly_session\u001b[38;5;241m.\u001b[39mdiscover_url\u001b[38;5;132;01m}\u001b[39;00m\u001b[38;5;124m/repositories\u001b[39m\u001b[38;5;124m\"\u001b[39m\n\u001b[1;32m     40\u001b[0m schema_url \u001b[38;5;241m=\u001b[39m \u001b[38;5;124mf\u001b[39m\u001b[38;5;124m\"\u001b[39m\u001b[38;5;132;01m{\u001b[39;00mschema_base_url\u001b[38;5;132;01m}\u001b[39;00m\u001b[38;5;124m/\u001b[39m\u001b[38;5;132;01m{\u001b[39;00mrepo_key\u001b[38;5;132;01m}\u001b[39;00m\u001b[38;5;124m/schemas\u001b[39m\u001b[38;5;124m\"\u001b[39m\n",
            "File \u001b[0;32m/usr/local/lib/python3.10/site-packages/polly_services/schema/schema_hlpr.py:149\u001b[0m, in \u001b[0;36mcompare_repo_key_and_repo_id\u001b[0;34m(polly_session, repo_key, id)\u001b[0m\n\u001b[1;32m    146\u001b[0m     repo_data \u001b[38;5;241m=\u001b[39m polly_services_hlpr\u001b[38;5;241m.\u001b[39mget_omixatlas(polly_session, repo_key)\n\u001b[1;32m    147\u001b[0m     repo_id \u001b[38;5;241m=\u001b[39m repo_data[\u001b[38;5;124m\"\u001b[39m\u001b[38;5;124mdata\u001b[39m\u001b[38;5;124m\"\u001b[39m][\u001b[38;5;124m\"\u001b[39m\u001b[38;5;124mattributes\u001b[39m\u001b[38;5;124m\"\u001b[39m][\u001b[38;5;124m\"\u001b[39m\u001b[38;5;124mrepo_id\u001b[39m\u001b[38;5;124m\"\u001b[39m]\n\u001b[0;32m--> 149\u001b[0m \u001b[43mpolly_services_hlpr\u001b[49m\u001b[38;5;241;43m.\u001b[39;49m\u001b[43mcompare_repo_id_and_id\u001b[49m\u001b[43m(\u001b[49m\u001b[43mrepo_id\u001b[49m\u001b[43m,\u001b[49m\u001b[43m \u001b[49m\u001b[38;5;28;43mid\u001b[39;49m\u001b[43m)\u001b[49m\n",
            "File \u001b[0;32m/usr/local/lib/python3.10/site-packages/polly_services/polly_services_hlpr.py:48\u001b[0m, in \u001b[0;36mcompare_repo_id_and_id\u001b[0;34m(repo_id, id)\u001b[0m\n\u001b[1;32m     40\u001b[0m \u001b[38;5;124;03m\"\"\"Repo id in the schema payload and the payload identifier(id) should be same\u001b[39;00m\n\u001b[1;32m     41\u001b[0m \u001b[38;5;124;03mid is the payload identifier as per JSON schema spec conventions.\u001b[39;00m\n\u001b[1;32m     42\u001b[0m \n\u001b[0;32m   (...)\u001b[0m\n\u001b[1;32m     45\u001b[0m \u001b[38;5;124;03m    id (str): payload identifier of the schema payload\u001b[39;00m\n\u001b[1;32m     46\u001b[0m \u001b[38;5;124;03m\"\"\"\u001b[39;00m\n\u001b[1;32m     47\u001b[0m \u001b[38;5;28;01mif\u001b[39;00m repo_id \u001b[38;5;241m!=\u001b[39m \u001b[38;5;28mid\u001b[39m:\n\u001b[0;32m---> 48\u001b[0m     \u001b[38;5;28;01mraise\u001b[39;00m paramException(\n\u001b[1;32m     49\u001b[0m         title\u001b[38;5;241m=\u001b[39m\u001b[38;5;124m\"\u001b[39m\u001b[38;5;124mParam Error\u001b[39m\u001b[38;5;124m\"\u001b[39m,\n\u001b[1;32m     50\u001b[0m         detail\u001b[38;5;241m=\u001b[39m\u001b[38;5;124m\"\u001b[39m\u001b[38;5;124mValue of repo_id key and id key is not same in the payload or \u001b[39m\u001b[38;5;124m\"\u001b[39m\n\u001b[1;32m     51\u001b[0m         \u001b[38;5;241m+\u001b[39m \u001b[38;5;124m\"\u001b[39m\u001b[38;5;124mValue of repo_key in the parameter and repo_id in the payload not same. \u001b[39m\u001b[38;5;124m\"\u001b[39m\n\u001b[1;32m     52\u001b[0m         \u001b[38;5;241m+\u001b[39m \u001b[38;5;124m\"\u001b[39m\u001b[38;5;124mPlease correct it. \u001b[39m\u001b[38;5;124m\"\u001b[39m,\n\u001b[1;32m     53\u001b[0m     )\n",
            "\u001b[0;31mparamException\u001b[0m: paramException (parameter error): Value of repo_id key and id key is not same in the payload or Value of repo_key in the parameter and repo_id in the payload not same. Please correct it. "
          ]
        }
      ],
      "source": [
        "# test 4 -> repo_key in the argument and repo_id in the body not same\n",
        "\n",
        "repo_key = \"16874281453961\" # wrong repo_key\n",
        "\n",
        "schema_file_path_for_insertion = \"/import/new_omix_for_refac_2/new_omix_for_refac_2.json\"\n",
        "\n",
        "with open(schema_file_path_for_insertion, \"r\") as schema_file:\n",
        "    schema_data_for_insertion = json.load(schema_file)\n",
        "\n",
        "omixatlas.insert_schema(repo_key, schema_data_for_insertion)"
      ]
    },
    {
      "cell_type": "code",
      "execution_count": 5,
      "metadata": {},
      "outputs": [
        {
          "name": "stdout",
          "output_type": "stream",
          "text": [
            "Schema has no errors\n"
          ]
        },
        {
          "ename": "RequestException",
          "evalue": "(\"No repository for identifier 'new_omix_for_refac_21'\", 'Requested resource does not exist')",
          "output_type": "error",
          "traceback": [
            "\u001b[0;31m---------------------------------------------------------------------------\u001b[0m",
            "\u001b[0;31mRequestException\u001b[0m                          Traceback (most recent call last)",
            "Input \u001b[0;32mIn [5]\u001b[0m, in \u001b[0;36m<cell line: 12>\u001b[0;34m()\u001b[0m\n\u001b[1;32m      9\u001b[0m \u001b[38;5;28;01mwith\u001b[39;00m \u001b[38;5;28mopen\u001b[39m(schema_file_path_for_insertion, \u001b[38;5;124m\"\u001b[39m\u001b[38;5;124mr\u001b[39m\u001b[38;5;124m\"\u001b[39m) \u001b[38;5;28;01mas\u001b[39;00m schema_file:\n\u001b[1;32m     10\u001b[0m     schema_data_for_insertion \u001b[38;5;241m=\u001b[39m json\u001b[38;5;241m.\u001b[39mload(schema_file)\n\u001b[0;32m---> 12\u001b[0m \u001b[43momixatlas\u001b[49m\u001b[38;5;241;43m.\u001b[39;49m\u001b[43minsert_schema\u001b[49m\u001b[43m(\u001b[49m\u001b[43mrepo_key\u001b[49m\u001b[43m,\u001b[49m\u001b[43m \u001b[49m\u001b[43mschema_data_for_insertion\u001b[49m\u001b[43m)\u001b[49m\n",
            "File \u001b[0;32m/usr/local/lib/python3.10/site-packages/polly/tracking.py:59\u001b[0m, in \u001b[0;36mTrack.track_decorator.<locals>.wrapper_function\u001b[0;34m(*args, **kwargs)\u001b[0m\n\u001b[1;32m     57\u001b[0m         \u001b[38;5;28;01mreturn\u001b[39;00m result\n\u001b[1;32m     58\u001b[0m \u001b[38;5;28;01melse\u001b[39;00m:\n\u001b[0;32m---> 59\u001b[0m     \u001b[38;5;28;01mraise\u001b[39;00m returned_err\n",
            "File \u001b[0;32m/usr/local/lib/python3.10/site-packages/polly/tracking.py:22\u001b[0m, in \u001b[0;36mTrack.track_decorator.<locals>.wrapper_function\u001b[0;34m(*args, **kwargs)\u001b[0m\n\u001b[1;32m     20\u001b[0m execution_flag \u001b[38;5;241m=\u001b[39m \u001b[38;5;28;01mFalse\u001b[39;00m\n\u001b[1;32m     21\u001b[0m \u001b[38;5;28;01mtry\u001b[39;00m:\n\u001b[0;32m---> 22\u001b[0m     result \u001b[38;5;241m=\u001b[39m \u001b[43mfunction\u001b[49m\u001b[43m(\u001b[49m\u001b[38;5;241;43m*\u001b[39;49m\u001b[43margs\u001b[49m\u001b[43m,\u001b[49m\u001b[43m \u001b[49m\u001b[38;5;241;43m*\u001b[39;49m\u001b[38;5;241;43m*\u001b[39;49m\u001b[43mkwargs\u001b[49m\u001b[43m)\u001b[49m\n\u001b[1;32m     23\u001b[0m     execution_flag \u001b[38;5;241m=\u001b[39m \u001b[38;5;28;01mTrue\u001b[39;00m\n\u001b[1;32m     24\u001b[0m \u001b[38;5;28;01mexcept\u001b[39;00m \u001b[38;5;167;01mException\u001b[39;00m \u001b[38;5;28;01mas\u001b[39;00m e:\n",
            "File \u001b[0;32m/usr/local/lib/python3.10/site-packages/polly/omixatlas.py:1112\u001b[0m, in \u001b[0;36mOmixAtlas.insert_schema\u001b[0;34m(self, repo_key, body)\u001b[0m\n\u001b[1;32m   1110\u001b[0m     schema_obj\u001b[38;5;241m.\u001b[39minsert_schema(\u001b[38;5;28mself\u001b[39m, repo_key, body)\n\u001b[1;32m   1111\u001b[0m \u001b[38;5;28;01mexcept\u001b[39;00m \u001b[38;5;167;01mException\u001b[39;00m \u001b[38;5;28;01mas\u001b[39;00m err:\n\u001b[0;32m-> 1112\u001b[0m     \u001b[38;5;28;01mraise\u001b[39;00m err\n",
            "File \u001b[0;32m/usr/local/lib/python3.10/site-packages/polly/omixatlas.py:1110\u001b[0m, in \u001b[0;36mOmixAtlas.insert_schema\u001b[0;34m(self, repo_key, body)\u001b[0m\n\u001b[1;32m   1108\u001b[0m \u001b[38;5;28;01mtry\u001b[39;00m:\n\u001b[1;32m   1109\u001b[0m     schema_obj \u001b[38;5;241m=\u001b[39m Schema()\n\u001b[0;32m-> 1110\u001b[0m     \u001b[43mschema_obj\u001b[49m\u001b[38;5;241;43m.\u001b[39;49m\u001b[43minsert_schema\u001b[49m\u001b[43m(\u001b[49m\u001b[38;5;28;43mself\u001b[39;49m\u001b[43m,\u001b[49m\u001b[43m \u001b[49m\u001b[43mrepo_key\u001b[49m\u001b[43m,\u001b[49m\u001b[43m \u001b[49m\u001b[43mbody\u001b[49m\u001b[43m)\u001b[49m\n\u001b[1;32m   1111\u001b[0m \u001b[38;5;28;01mexcept\u001b[39;00m \u001b[38;5;167;01mException\u001b[39;00m \u001b[38;5;28;01mas\u001b[39;00m err:\n\u001b[1;32m   1112\u001b[0m     \u001b[38;5;28;01mraise\u001b[39;00m err\n",
            "File \u001b[0;32m/usr/local/lib/python3.10/site-packages/polly_services/schema/schema.py:47\u001b[0m, in \u001b[0;36mSchema.insert_schema\u001b[0;34m(self, polly_session, repo_key, body)\u001b[0m\n\u001b[1;32m     45\u001b[0m             \u001b[38;5;28mprint\u001b[39m(const\u001b[38;5;241m.\u001b[39mSCHEMA_INSERT_SUCCESS)\n\u001b[1;32m     46\u001b[0m \u001b[38;5;28;01mexcept\u001b[39;00m \u001b[38;5;167;01mException\u001b[39;00m \u001b[38;5;28;01mas\u001b[39;00m err:\n\u001b[0;32m---> 47\u001b[0m     \u001b[38;5;28;01mraise\u001b[39;00m err\n",
            "File \u001b[0;32m/usr/local/lib/python3.10/site-packages/polly_services/schema/schema.py:36\u001b[0m, in \u001b[0;36mSchema.insert_schema\u001b[0;34m(self, polly_session, repo_key, body)\u001b[0m\n\u001b[1;32m     34\u001b[0m repo_id \u001b[38;5;241m=\u001b[39m body\u001b[38;5;241m.\u001b[39mget(\u001b[38;5;124m\"\u001b[39m\u001b[38;5;124mdata\u001b[39m\u001b[38;5;124m\"\u001b[39m)\u001b[38;5;241m.\u001b[39mget(\u001b[38;5;124m\"\u001b[39m\u001b[38;5;124mattributes\u001b[39m\u001b[38;5;124m\"\u001b[39m)\u001b[38;5;241m.\u001b[39mget(\u001b[38;5;124m\"\u001b[39m\u001b[38;5;124mrepo_id\u001b[39m\u001b[38;5;124m\"\u001b[39m)\n\u001b[1;32m     35\u001b[0m repo_key \u001b[38;5;241m=\u001b[39m polly_services_hlpr\u001b[38;5;241m.\u001b[39mmake_repo_id_string(repo_key)\n\u001b[0;32m---> 36\u001b[0m \u001b[43mschema_hlpr\u001b[49m\u001b[38;5;241;43m.\u001b[39;49m\u001b[43mcompare_repo_key_and_repo_id\u001b[49m\u001b[43m(\u001b[49m\n\u001b[1;32m     37\u001b[0m \u001b[43m    \u001b[49m\u001b[43mpolly_session\u001b[49m\u001b[43m,\u001b[49m\u001b[43m \u001b[49m\u001b[43mrepo_key\u001b[49m\u001b[43m,\u001b[49m\u001b[43m \u001b[49m\u001b[43mrepo_id\u001b[49m\n\u001b[1;32m     38\u001b[0m \u001b[43m\u001b[49m\u001b[43m)\u001b[49m\n\u001b[1;32m     39\u001b[0m schema_base_url \u001b[38;5;241m=\u001b[39m \u001b[38;5;124mf\u001b[39m\u001b[38;5;124m\"\u001b[39m\u001b[38;5;132;01m{\u001b[39;00mpolly_session\u001b[38;5;241m.\u001b[39mdiscover_url\u001b[38;5;132;01m}\u001b[39;00m\u001b[38;5;124m/repositories\u001b[39m\u001b[38;5;124m\"\u001b[39m\n\u001b[1;32m     40\u001b[0m schema_url \u001b[38;5;241m=\u001b[39m \u001b[38;5;124mf\u001b[39m\u001b[38;5;124m\"\u001b[39m\u001b[38;5;132;01m{\u001b[39;00mschema_base_url\u001b[38;5;132;01m}\u001b[39;00m\u001b[38;5;124m/\u001b[39m\u001b[38;5;132;01m{\u001b[39;00mrepo_key\u001b[38;5;132;01m}\u001b[39;00m\u001b[38;5;124m/schemas\u001b[39m\u001b[38;5;124m\"\u001b[39m\n",
            "File \u001b[0;32m/usr/local/lib/python3.10/site-packages/polly_services/schema/schema_hlpr.py:146\u001b[0m, in \u001b[0;36mcompare_repo_key_and_repo_id\u001b[0;34m(polly_session, repo_key, id)\u001b[0m\n\u001b[1;32m    142\u001b[0m     repo_id \u001b[38;5;241m=\u001b[39m repo_key\n\u001b[1;32m    143\u001b[0m \u001b[38;5;28;01melse\u001b[39;00m:\n\u001b[1;32m    144\u001b[0m     \u001b[38;5;66;03m# repo key is repo name\u001b[39;00m\n\u001b[1;32m    145\u001b[0m     \u001b[38;5;66;03m# fetch the repo id\u001b[39;00m\n\u001b[0;32m--> 146\u001b[0m     repo_data \u001b[38;5;241m=\u001b[39m \u001b[43mpolly_services_hlpr\u001b[49m\u001b[38;5;241;43m.\u001b[39;49m\u001b[43mget_omixatlas\u001b[49m\u001b[43m(\u001b[49m\u001b[43mpolly_session\u001b[49m\u001b[43m,\u001b[49m\u001b[43m \u001b[49m\u001b[43mrepo_key\u001b[49m\u001b[43m)\u001b[49m\n\u001b[1;32m    147\u001b[0m     repo_id \u001b[38;5;241m=\u001b[39m repo_data[\u001b[38;5;124m\"\u001b[39m\u001b[38;5;124mdata\u001b[39m\u001b[38;5;124m\"\u001b[39m][\u001b[38;5;124m\"\u001b[39m\u001b[38;5;124mattributes\u001b[39m\u001b[38;5;124m\"\u001b[39m][\u001b[38;5;124m\"\u001b[39m\u001b[38;5;124mrepo_id\u001b[39m\u001b[38;5;124m\"\u001b[39m]\n\u001b[1;32m    149\u001b[0m polly_services_hlpr\u001b[38;5;241m.\u001b[39mcompare_repo_id_and_id(repo_id, \u001b[38;5;28mid\u001b[39m)\n",
            "File \u001b[0;32m/usr/local/lib/python3.10/site-packages/polly_services/polly_services_hlpr.py:66\u001b[0m, in \u001b[0;36mget_omixatlas\u001b[0;34m(polly_session, repo_key)\u001b[0m\n\u001b[1;32m     64\u001b[0m     url \u001b[38;5;241m=\u001b[39m \u001b[38;5;124mf\u001b[39m\u001b[38;5;124m\"\u001b[39m\u001b[38;5;132;01m{\u001b[39;00mpolly_session\u001b[38;5;241m.\u001b[39mresource_url\u001b[38;5;132;01m}\u001b[39;00m\u001b[38;5;124m/\u001b[39m\u001b[38;5;132;01m{\u001b[39;00mrepo_key\u001b[38;5;132;01m}\u001b[39;00m\u001b[38;5;124m\"\u001b[39m\n\u001b[1;32m     65\u001b[0m     response \u001b[38;5;241m=\u001b[39m polly_session\u001b[38;5;241m.\u001b[39msession\u001b[38;5;241m.\u001b[39mget(url)\n\u001b[0;32m---> 66\u001b[0m     \u001b[43merror_handler\u001b[49m\u001b[43m(\u001b[49m\u001b[43mresponse\u001b[49m\u001b[43m)\u001b[49m\n\u001b[1;32m     67\u001b[0m     \u001b[38;5;28;01mreturn\u001b[39;00m response\u001b[38;5;241m.\u001b[39mjson()\n\u001b[1;32m     68\u001b[0m \u001b[38;5;28;01melse\u001b[39;00m:\n",
            "File \u001b[0;32m/usr/local/lib/python3.10/site-packages/polly/errors.py:337\u001b[0m, in \u001b[0;36merror_handler\u001b[0;34m(response)\u001b[0m\n\u001b[1;32m    335\u001b[0m     \u001b[38;5;28;01mif\u001b[39;00m title \u001b[38;5;241m==\u001b[39m app_err_info\u001b[38;5;241m.\u001b[39mREPOSITORY_LOCKED:\n\u001b[1;32m    336\u001b[0m         detail \u001b[38;5;241m=\u001b[39m app_err_info\u001b[38;5;241m.\u001b[39mREPOSITORY_LOCKED_DETAIL\n\u001b[0;32m--> 337\u001b[0m     \u001b[38;5;28;01mraise\u001b[39;00m RequestException(title, detail)\n\u001b[1;32m    338\u001b[0m \u001b[38;5;28;01melif\u001b[39;00m response\u001b[38;5;241m.\u001b[39mstatus_code \u001b[38;5;241m==\u001b[39m \u001b[38;5;241m401\u001b[39m:\n\u001b[1;32m    339\u001b[0m     \u001b[38;5;28;01mraise\u001b[39;00m UnauthorizedException\n",
            "\u001b[0;31mRequestException\u001b[0m: (\"No repository for identifier 'new_omix_for_refac_21'\", 'Requested resource does not exist')"
          ]
        }
      ],
      "source": [
        "# test 5 -> repo_key in the argument and repo_id in the body not same\n",
        "# wrong repo_name\n",
        "repo_key = \"new_omix_for_refac_21\"\n",
        "\n",
        "\n",
        "schema_file_path_for_insertion = \"/import/new_omix_for_refac_2/new_omix_for_refac_2.json\"\n",
        "\n",
        "with open(schema_file_path_for_insertion, \"r\") as schema_file:\n",
        "    schema_data_for_insertion = json.load(schema_file)\n",
        "\n",
        "omixatlas.insert_schema(repo_key, schema_data_for_insertion)"
      ]
    },
    {
      "cell_type": "code",
      "execution_count": 13,
      "metadata": {},
      "outputs": [
        {
          "ename": "RequestException",
          "evalue": "(\"No repository for identifier '16874281453961'\", 'Requested resource does not exist')",
          "output_type": "error",
          "traceback": [
            "\u001b[0;31m---------------------------------------------------------------------------\u001b[0m",
            "\u001b[0;31mRequestException\u001b[0m                          Traceback (most recent call last)",
            "Input \u001b[0;32mIn [13]\u001b[0m, in \u001b[0;36m<cell line: 12>\u001b[0;34m()\u001b[0m\n\u001b[1;32m      9\u001b[0m \u001b[38;5;28;01mwith\u001b[39;00m \u001b[38;5;28mopen\u001b[39m(schema_file_path_for_insertion, \u001b[38;5;124m\"\u001b[39m\u001b[38;5;124mr\u001b[39m\u001b[38;5;124m\"\u001b[39m) \u001b[38;5;28;01mas\u001b[39;00m schema_file:\n\u001b[1;32m     10\u001b[0m     schema_data_for_insertion \u001b[38;5;241m=\u001b[39m json\u001b[38;5;241m.\u001b[39mload(schema_file)\n\u001b[0;32m---> 12\u001b[0m \u001b[43momixatlas\u001b[49m\u001b[38;5;241;43m.\u001b[39;49m\u001b[43minsert_schema\u001b[49m\u001b[43m(\u001b[49m\u001b[43mrepo_key\u001b[49m\u001b[43m,\u001b[49m\u001b[43m \u001b[49m\u001b[43mschema_data_for_insertion\u001b[49m\u001b[43m)\u001b[49m\n",
            "File \u001b[0;32m/usr/local/lib/python3.10/site-packages/polly/tracking.py:59\u001b[0m, in \u001b[0;36mTrack.track_decorator.<locals>.wrapper_function\u001b[0;34m(*args, **kwargs)\u001b[0m\n\u001b[1;32m     57\u001b[0m         \u001b[38;5;28;01mreturn\u001b[39;00m result\n\u001b[1;32m     58\u001b[0m \u001b[38;5;28;01melse\u001b[39;00m:\n\u001b[0;32m---> 59\u001b[0m     \u001b[38;5;28;01mraise\u001b[39;00m returned_err\n",
            "File \u001b[0;32m/usr/local/lib/python3.10/site-packages/polly/tracking.py:22\u001b[0m, in \u001b[0;36mTrack.track_decorator.<locals>.wrapper_function\u001b[0;34m(*args, **kwargs)\u001b[0m\n\u001b[1;32m     20\u001b[0m execution_flag \u001b[38;5;241m=\u001b[39m \u001b[38;5;28;01mFalse\u001b[39;00m\n\u001b[1;32m     21\u001b[0m \u001b[38;5;28;01mtry\u001b[39;00m:\n\u001b[0;32m---> 22\u001b[0m     result \u001b[38;5;241m=\u001b[39m \u001b[43mfunction\u001b[49m\u001b[43m(\u001b[49m\u001b[38;5;241;43m*\u001b[39;49m\u001b[43margs\u001b[49m\u001b[43m,\u001b[49m\u001b[43m \u001b[49m\u001b[38;5;241;43m*\u001b[39;49m\u001b[38;5;241;43m*\u001b[39;49m\u001b[43mkwargs\u001b[49m\u001b[43m)\u001b[49m\n\u001b[1;32m     23\u001b[0m     execution_flag \u001b[38;5;241m=\u001b[39m \u001b[38;5;28;01mTrue\u001b[39;00m\n\u001b[1;32m     24\u001b[0m \u001b[38;5;28;01mexcept\u001b[39;00m \u001b[38;5;167;01mException\u001b[39;00m \u001b[38;5;28;01mas\u001b[39;00m e:\n",
            "File \u001b[0;32m/usr/local/lib/python3.10/site-packages/polly/omixatlas.py:1113\u001b[0m, in \u001b[0;36mOmixAtlas.insert_schema\u001b[0;34m(self, repo_key, body)\u001b[0m\n\u001b[1;32m   1111\u001b[0m     schema_obj\u001b[38;5;241m.\u001b[39minsert_schema(\u001b[38;5;28mself\u001b[39m, repo_key, body)\n\u001b[1;32m   1112\u001b[0m \u001b[38;5;28;01mexcept\u001b[39;00m \u001b[38;5;167;01mException\u001b[39;00m \u001b[38;5;28;01mas\u001b[39;00m err:\n\u001b[0;32m-> 1113\u001b[0m     \u001b[38;5;28;01mraise\u001b[39;00m err\n",
            "File \u001b[0;32m/usr/local/lib/python3.10/site-packages/polly/omixatlas.py:1111\u001b[0m, in \u001b[0;36mOmixAtlas.insert_schema\u001b[0;34m(self, repo_key, body)\u001b[0m\n\u001b[1;32m   1109\u001b[0m \u001b[38;5;28;01mtry\u001b[39;00m:\n\u001b[1;32m   1110\u001b[0m     schema_obj \u001b[38;5;241m=\u001b[39m Schema()\n\u001b[0;32m-> 1111\u001b[0m     \u001b[43mschema_obj\u001b[49m\u001b[38;5;241;43m.\u001b[39;49m\u001b[43minsert_schema\u001b[49m\u001b[43m(\u001b[49m\u001b[38;5;28;43mself\u001b[39;49m\u001b[43m,\u001b[49m\u001b[43m \u001b[49m\u001b[43mrepo_key\u001b[49m\u001b[43m,\u001b[49m\u001b[43m \u001b[49m\u001b[43mbody\u001b[49m\u001b[43m)\u001b[49m\n\u001b[1;32m   1112\u001b[0m \u001b[38;5;28;01mexcept\u001b[39;00m \u001b[38;5;167;01mException\u001b[39;00m \u001b[38;5;28;01mas\u001b[39;00m err:\n\u001b[1;32m   1113\u001b[0m     \u001b[38;5;28;01mraise\u001b[39;00m err\n",
            "File \u001b[0;32m/usr/local/lib/python3.10/site-packages/polly_services/schema/schema.py:45\u001b[0m, in \u001b[0;36mSchema.insert_schema\u001b[0;34m(self, polly_session, repo_key, body)\u001b[0m\n\u001b[1;32m     43\u001b[0m             \u001b[38;5;28mprint\u001b[39m(const\u001b[38;5;241m.\u001b[39mSCHEMA_INSERT_SUCCESS)\n\u001b[1;32m     44\u001b[0m \u001b[38;5;28;01mexcept\u001b[39;00m \u001b[38;5;167;01mException\u001b[39;00m \u001b[38;5;28;01mas\u001b[39;00m err:\n\u001b[0;32m---> 45\u001b[0m     \u001b[38;5;28;01mraise\u001b[39;00m err\n",
            "File \u001b[0;32m/usr/local/lib/python3.10/site-packages/polly_services/schema/schema.py:28\u001b[0m, in \u001b[0;36mSchema.insert_schema\u001b[0;34m(self, polly_session, repo_key, body)\u001b[0m\n\u001b[1;32m     26\u001b[0m schema_hlpr\u001b[38;5;241m.\u001b[39mschema_param_check(repo_key, body)\n\u001b[1;32m     27\u001b[0m \u001b[38;5;66;03m# validate payload\u001b[39;00m\n\u001b[0;32m---> 28\u001b[0m error_df \u001b[38;5;241m=\u001b[39m \u001b[38;5;28;43mself\u001b[39;49m\u001b[38;5;241;43m.\u001b[39;49m\u001b[43mvalidate_schema\u001b[49m\u001b[43m(\u001b[49m\u001b[43mpolly_session\u001b[49m\u001b[43m,\u001b[49m\u001b[43m \u001b[49m\u001b[43mbody\u001b[49m\u001b[43m)\u001b[49m\n\u001b[1;32m     30\u001b[0m \u001b[38;5;66;03m# if there are no errors in the schema payload\u001b[39;00m\n\u001b[1;32m     31\u001b[0m \u001b[38;5;66;03m# which means error df is empty then only proceed\u001b[39;00m\n\u001b[1;32m     32\u001b[0m \u001b[38;5;66;03m# with schema insert operation\u001b[39;00m\n\u001b[1;32m     33\u001b[0m \u001b[38;5;28;01mif\u001b[39;00m error_df\u001b[38;5;241m.\u001b[39mempty:\n",
            "File \u001b[0;32m/usr/local/lib/python3.10/site-packages/polly_services/schema/schema.py:158\u001b[0m, in \u001b[0;36mSchema.validate_schema\u001b[0;34m(self, polly_session, body)\u001b[0m\n\u001b[1;32m    155\u001b[0m     \u001b[38;5;28;01mreturn\u001b[39;00m error_res_combined\n\u001b[1;32m    157\u001b[0m \u001b[38;5;28;01mexcept\u001b[39;00m \u001b[38;5;167;01mException\u001b[39;00m \u001b[38;5;28;01mas\u001b[39;00m err:\n\u001b[0;32m--> 158\u001b[0m     \u001b[38;5;28;01mraise\u001b[39;00m err\n",
            "File \u001b[0;32m/usr/local/lib/python3.10/site-packages/polly_services/schema/schema.py:122\u001b[0m, in \u001b[0;36mSchema.validate_schema\u001b[0;34m(self, polly_session, body)\u001b[0m\n\u001b[1;32m    117\u001b[0m polly_services_hlpr\u001b[38;5;241m.\u001b[39mcompare_repo_id_and_id(repo_identifier, \u001b[38;5;28mid\u001b[39m)\n\u001b[1;32m    119\u001b[0m \u001b[38;5;66;03m# to check if repo_identifier is a valid repo_id\u001b[39;00m\n\u001b[1;32m    120\u001b[0m \u001b[38;5;66;03m# if an atlas is present for the repo_identifier then only\u001b[39;00m\n\u001b[1;32m    121\u001b[0m \u001b[38;5;66;03m# it is a valid repo_id\u001b[39;00m\n\u001b[0;32m--> 122\u001b[0m \u001b[43mpolly_services_hlpr\u001b[49m\u001b[38;5;241;43m.\u001b[39;49m\u001b[43mget_omixatlas\u001b[49m\u001b[43m(\u001b[49m\u001b[43mpolly_session\u001b[49m\u001b[43m,\u001b[49m\u001b[43m \u001b[49m\u001b[43mrepo_identifier\u001b[49m\u001b[43m)\u001b[49m\n\u001b[1;32m    124\u001b[0m schema_dict \u001b[38;5;241m=\u001b[39m body\u001b[38;5;241m.\u001b[39mget(\u001b[38;5;124m\"\u001b[39m\u001b[38;5;124mdata\u001b[39m\u001b[38;5;124m\"\u001b[39m, \u001b[38;5;124m\"\u001b[39m\u001b[38;5;124m\"\u001b[39m)\u001b[38;5;241m.\u001b[39mget(\u001b[38;5;124m\"\u001b[39m\u001b[38;5;124mattributes\u001b[39m\u001b[38;5;124m\"\u001b[39m, \u001b[38;5;124m\"\u001b[39m\u001b[38;5;124m\"\u001b[39m)\u001b[38;5;241m.\u001b[39mget(\u001b[38;5;124m\"\u001b[39m\u001b[38;5;124mschema\u001b[39m\u001b[38;5;124m\"\u001b[39m, \u001b[38;5;124m\"\u001b[39m\u001b[38;5;124m\"\u001b[39m)\n\u001b[1;32m    125\u001b[0m errors_res_list \u001b[38;5;241m=\u001b[39m []\n",
            "File \u001b[0;32m/usr/local/lib/python3.10/site-packages/polly_services/polly_services_hlpr.py:65\u001b[0m, in \u001b[0;36mget_omixatlas\u001b[0;34m(polly_session, repo_key)\u001b[0m\n\u001b[1;32m     63\u001b[0m     url \u001b[38;5;241m=\u001b[39m \u001b[38;5;124mf\u001b[39m\u001b[38;5;124m\"\u001b[39m\u001b[38;5;132;01m{\u001b[39;00mpolly_session\u001b[38;5;241m.\u001b[39mresource_url\u001b[38;5;132;01m}\u001b[39;00m\u001b[38;5;124m/\u001b[39m\u001b[38;5;132;01m{\u001b[39;00mrepo_key\u001b[38;5;132;01m}\u001b[39;00m\u001b[38;5;124m\"\u001b[39m\n\u001b[1;32m     64\u001b[0m     response \u001b[38;5;241m=\u001b[39m polly_session\u001b[38;5;241m.\u001b[39msession\u001b[38;5;241m.\u001b[39mget(url)\n\u001b[0;32m---> 65\u001b[0m     \u001b[43merror_handler\u001b[49m\u001b[43m(\u001b[49m\u001b[43mresponse\u001b[49m\u001b[43m)\u001b[49m\n\u001b[1;32m     66\u001b[0m     \u001b[38;5;28;01mreturn\u001b[39;00m response\u001b[38;5;241m.\u001b[39mjson()\n\u001b[1;32m     67\u001b[0m \u001b[38;5;28;01melse\u001b[39;00m:\n",
            "File \u001b[0;32m/usr/local/lib/python3.10/site-packages/polly/errors.py:337\u001b[0m, in \u001b[0;36merror_handler\u001b[0;34m(response)\u001b[0m\n\u001b[1;32m    335\u001b[0m     \u001b[38;5;28;01mif\u001b[39;00m title \u001b[38;5;241m==\u001b[39m app_err_info\u001b[38;5;241m.\u001b[39mREPOSITORY_LOCKED:\n\u001b[1;32m    336\u001b[0m         detail \u001b[38;5;241m=\u001b[39m app_err_info\u001b[38;5;241m.\u001b[39mREPOSITORY_LOCKED_DETAIL\n\u001b[0;32m--> 337\u001b[0m     \u001b[38;5;28;01mraise\u001b[39;00m RequestException(title, detail)\n\u001b[1;32m    338\u001b[0m \u001b[38;5;28;01melif\u001b[39;00m response\u001b[38;5;241m.\u001b[39mstatus_code \u001b[38;5;241m==\u001b[39m \u001b[38;5;241m401\u001b[39m:\n\u001b[1;32m    339\u001b[0m     \u001b[38;5;28;01mraise\u001b[39;00m UnauthorizedException\n",
            "\u001b[0;31mRequestException\u001b[0m: (\"No repository for identifier '16874281453961'\", 'Requested resource does not exist')"
          ]
        }
      ],
      "source": [
        "# test 6 -> invalid repo_id in the body -> will fail in validate schema\n",
        "# wrong repo_id in the parameter too\n",
        "\n",
        "repo_key = \"16874281453961\" # wrong repo_key -> same has put in the body in repo_id and id key -> all of them are same but incorrect\n",
        "\n",
        "\n",
        "schema_file_path_for_insertion = \"/import/new_omix_for_refac_2/new_omix_for_refac_2.json\"\n",
        "\n",
        "with open(schema_file_path_for_insertion, \"r\") as schema_file:\n",
        "    schema_data_for_insertion = json.load(schema_file)\n",
        "\n",
        "omixatlas.insert_schema(repo_key, schema_data_for_insertion)"
      ]
    },
    {
      "cell_type": "code",
      "execution_count": 14,
      "metadata": {},
      "outputs": [
        {
          "name": "stdout",
          "output_type": "stream",
          "text": [
            "Schema has no errors\n",
            "Schema has been Inserted. Please use get_schema functionality to get the inserted schema.\n"
          ]
        }
      ],
      "source": [
        "# test 7 -> insert schema positive case\n",
        "\n",
        "repo_key = \"1687428145396\"\n",
        "\n",
        "schema_file_path_for_insertion = \"/import/new_omix_for_refac_2/new_omix_for_refac_2.json\"\n",
        "\n",
        "with open(schema_file_path_for_insertion, \"r\") as schema_file:\n",
        "    schema_data_for_insertion = json.load(schema_file)\n",
        "\n",
        "omixatlas.insert_schema(repo_key, schema_data_for_insertion)"
      ]
    },
    {
      "cell_type": "code",
      "execution_count": null,
      "metadata": {},
      "outputs": [],
      "source": []
    }
  ],
  "metadata": {
    "kernelspec": {
      "display_name": "Python 3 (ipykernel)",
      "language": "python",
      "name": "python3"
    },
    "language_info": {
      "codemirror_mode": {
        "name": "ipython",
        "version": 3
      },
      "file_extension": ".py",
      "mimetype": "text/x-python",
      "name": "python",
      "nbconvert_exporter": "python",
      "pygments_lexer": "ipython3",
      "version": "3.10.2"
    }
  },
  "nbformat": 4,
  "nbformat_minor": 2
}
