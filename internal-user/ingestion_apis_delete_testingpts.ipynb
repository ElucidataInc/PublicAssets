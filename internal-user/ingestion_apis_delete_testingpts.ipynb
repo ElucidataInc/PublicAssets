{
  "cells": [
    {
      "cell_type": "markdown",
      "metadata": {
        "colab_type": "text",
        "id": "view-in-github"
      },
      "source": [
        "<a href=\"https://testpolly.elucidata.io/manage/workspaces?action=open_polly_notebook&source=github&path=path_place_holder&kernel=elucidata/Python 3.10&machine=large\" target=\"_parent\"><img src=\"https://elucidatainc.github.io/PublicAssets/open_polly.svg\" alt=\"Open in Polly\"/></a>\n"
      ]
    },
    {
      "cell_type": "markdown",
      "metadata": {},
      "source": [
        "# Welcome to Polly Python3 Notebook."
      ]
    },
    {
      "cell_type": "code",
      "execution_count": 1,
      "metadata": {},
      "outputs": [
        {
          "name": "stdout",
          "output_type": "stream",
          "text": [
            "/bin/bash: warning: setlocale: LC_ALL: cannot change locale (en_US.UTF-8)\n",
            "Collecting polly-python==0.1.5-delete\n",
            "  Using cached https://elucidatainc.github.io/PublicAssets/builds/polly-python/tests/testpolly/polly_python-0.1.5_delete-py3-none-any.whl (65 kB)\n",
            "Requirement already satisfied: Cerberus==1.3.2 in /usr/local/lib/python3.10/site-packages (from polly-python==0.1.5-delete) (1.3.2)\n",
            "Requirement already satisfied: botocore>=1.20.73 in /usr/local/lib/python3.10/site-packages (from polly-python==0.1.5-delete) (1.24.19)\n",
            "Requirement already satisfied: Deprecated in /usr/local/lib/python3.10/site-packages (from polly-python==0.1.5-delete) (1.2.13)\n",
            "Requirement already satisfied: pytest in /usr/local/lib/python3.10/site-packages (from polly-python==0.1.5-delete) (7.1.2)\n",
            "Requirement already satisfied: boto3>=1.17.73 in /usr/local/lib/python3.10/site-packages (from polly-python==0.1.5-delete) (1.21.19)\n",
            "Requirement already satisfied: six==1.16.0 in /usr/local/lib/python3.10/site-packages (from polly-python==0.1.5-delete) (1.16.0)\n",
            "Requirement already satisfied: python-magic==0.4.24 in /usr/local/lib/python3.10/site-packages (from polly-python==0.1.5-delete) (0.4.24)\n",
            "Requirement already satisfied: cmapPy in /usr/local/lib/python3.10/site-packages (from polly-python==0.1.5-delete) (4.0.1)\n",
            "Requirement already satisfied: elucidatacloudpathlib==0.6.6 in /usr/local/lib/python3.10/site-packages (from polly-python==0.1.5-delete) (0.6.6)\n",
            "Requirement already satisfied: joblib in /usr/local/lib/python3.10/site-packages (from polly-python==0.1.5-delete) (1.1.0)\n",
            "Requirement already satisfied: urllib3==1.26.6 in /usr/local/lib/python3.10/site-packages (from polly-python==0.1.5-delete) (1.26.6)\n",
            "Requirement already satisfied: pandas in /usr/local/lib/python3.10/site-packages (from polly-python==0.1.5-delete) (1.4.1)\n",
            "Requirement already satisfied: retrying==1.3.3 in /usr/local/lib/python3.10/site-packages (from polly-python==0.1.5-delete) (1.3.3)\n",
            "Requirement already satisfied: sqlparse in /usr/local/lib/python3.10/site-packages (from polly-python==0.1.5-delete) (0.4.2)\n",
            "Requirement already satisfied: pytz==2021.1 in /usr/local/lib/python3.10/site-packages (from polly-python==0.1.5-delete) (2021.1)\n",
            "Requirement already satisfied: black in /usr/local/lib/python3.10/site-packages (from polly-python==0.1.5-delete) (22.6.0)\n",
            "Requirement already satisfied: python-dateutil==2.8.1 in /usr/local/lib/python3.10/site-packages (from polly-python==0.1.5-delete) (2.8.1)\n",
            "Requirement already satisfied: certifi==2021.10.8 in /usr/local/lib/python3.10/site-packages (from polly-python==0.1.5-delete) (2021.10.8)\n",
            "Requirement already satisfied: rst2txt in /usr/local/lib/python3.10/site-packages (from polly-python==0.1.5-delete) (1.1.0)\n",
            "Requirement already satisfied: requests==2.25.1 in /usr/local/lib/python3.10/site-packages (from polly-python==0.1.5-delete) (2.25.1)\n",
            "Requirement already satisfied: tqdm in /usr/local/lib/python3.10/site-packages (from polly-python==0.1.5-delete) (4.64.0)\n",
            "Requirement already satisfied: idna==2.10 in /usr/local/lib/python3.10/site-packages (from polly-python==0.1.5-delete) (2.10)\n",
            "Requirement already satisfied: postpy2==0.0.6 in /usr/local/lib/python3.10/site-packages (from polly-python==0.1.5-delete) (0.0.6)\n",
            "Requirement already satisfied: chardet==4.0.0 in /usr/local/lib/python3.10/site-packages (from polly-python==0.1.5-delete) (4.0.0)\n",
            "Requirement already satisfied: setuptools in /usr/local/lib/python3.10/site-packages (from Cerberus==1.3.2->polly-python==0.1.5-delete) (58.1.0)\n",
            "Requirement already satisfied: jmespath<1.0.0,>=0.7.1 in /usr/local/lib/python3.10/site-packages (from boto3>=1.17.73->polly-python==0.1.5-delete) (0.10.0)\n",
            "Requirement already satisfied: s3transfer<0.6.0,>=0.5.0 in /usr/local/lib/python3.10/site-packages (from boto3>=1.17.73->polly-python==0.1.5-delete) (0.5.2)\n",
            "Requirement already satisfied: click>=8.0.0 in /usr/local/lib/python3.10/site-packages (from black->polly-python==0.1.5-delete) (8.1.3)\n",
            "Requirement already satisfied: pathspec>=0.9.0 in /usr/local/lib/python3.10/site-packages (from black->polly-python==0.1.5-delete) (0.9.0)\n",
            "Requirement already satisfied: platformdirs>=2 in /usr/local/lib/python3.10/site-packages (from black->polly-python==0.1.5-delete) (2.5.2)\n",
            "Requirement already satisfied: tomli>=1.1.0 in /usr/local/lib/python3.10/site-packages (from black->polly-python==0.1.5-delete) (2.0.1)\n",
            "Requirement already satisfied: mypy-extensions>=0.4.3 in /usr/local/lib/python3.10/site-packages (from black->polly-python==0.1.5-delete) (0.4.3)\n",
            "Requirement already satisfied: numpy>=1.11.2 in /usr/local/lib/python3.10/site-packages (from cmapPy->polly-python==0.1.5-delete) (1.22.3)\n",
            "Requirement already satisfied: h5py>=2.6.0 in /usr/local/lib/python3.10/site-packages (from cmapPy->polly-python==0.1.5-delete) (3.7.0)\n",
            "Requirement already satisfied: wrapt<2,>=1.10 in /usr/local/lib/python3.10/site-packages (from Deprecated->polly-python==0.1.5-delete) (1.14.1)\n",
            "Requirement already satisfied: iniconfig in /usr/local/lib/python3.10/site-packages (from pytest->polly-python==0.1.5-delete) (1.1.1)\n",
            "Requirement already satisfied: packaging in /usr/local/lib/python3.10/site-packages (from pytest->polly-python==0.1.5-delete) (21.3)\n",
            "Requirement already satisfied: attrs>=19.2.0 in /usr/local/lib/python3.10/site-packages (from pytest->polly-python==0.1.5-delete) (21.2.0)\n",
            "Requirement already satisfied: pluggy<2.0,>=0.12 in /usr/local/lib/python3.10/site-packages (from pytest->polly-python==0.1.5-delete) (1.0.0)\n",
            "Requirement already satisfied: py>=1.8.2 in /usr/local/lib/python3.10/site-packages (from pytest->polly-python==0.1.5-delete) (1.11.0)\n",
            "Requirement already satisfied: pyparsing!=3.0.5,>=2.0.2 in /usr/local/lib/python3.10/site-packages (from packaging->pytest->polly-python==0.1.5-delete) (3.0.6)\n",
            "Requirement already satisfied: pygments in /usr/local/lib/python3.10/site-packages (from rst2txt->polly-python==0.1.5-delete) (2.10.0)\n",
            "Requirement already satisfied: docutils>=0.11 in /usr/local/lib/python3.10/site-packages (from rst2txt->polly-python==0.1.5-delete) (0.15.2)\n",
            "\u001b[33mWARNING: Running pip as the 'root' user can result in broken permissions and conflicting behaviour with the system package manager. It is recommended to use a virtual environment instead: https://pip.pypa.io/warnings/venv\u001b[0m\n",
            "\u001b[33mWARNING: You are using pip version 21.2.4; however, version 22.1.2 is available.\n",
            "You should consider upgrading via the '/usr/local/bin/python3.10 -m pip install --upgrade pip' command.\u001b[0m\n"
          ]
        }
      ],
      "source": [
        "!sudo pip3 install https://elucidatainc.github.io/PublicAssets/builds/polly-python/tests/testpolly/polly_python-0.1.5_delete-py3-none-any.whl\n"
      ]
    },
    {
      "cell_type": "code",
      "execution_count": 2,
      "metadata": {},
      "outputs": [],
      "source": [
        "from polly.auth import Polly"
      ]
    },
    {
      "cell_type": "code",
      "execution_count": 3,
      "metadata": {},
      "outputs": [],
      "source": [
        "# incorrect token for authetication error\n",
        "dev_token = \"\""
      ]
    },
    {
      "cell_type": "code",
      "execution_count": 4,
      "metadata": {},
      "outputs": [
        {
          "ename": "UnauthorizedException",
          "evalue": "Authorization failed as credentials not found. Please use Polly.auth(token) as shown here  ---- https://docs.elucidata.io/OmixAtlas/Polly%20Python.html",
          "output_type": "error",
          "traceback": [
            "\u001b[0;31m---------------------------------------------------------------------------\u001b[0m",
            "\u001b[0;31mUnauthorizedException\u001b[0m                     Traceback (most recent call last)",
            "Input \u001b[0;32mIn [4]\u001b[0m, in \u001b[0;36m<cell line: 6>\u001b[0;34m()\u001b[0m\n\u001b[1;32m      4\u001b[0m repo_id \u001b[38;5;241m=\u001b[39m \u001b[38;5;124m\"\u001b[39m\u001b[38;5;124m1643359804137\u001b[39m\u001b[38;5;124m\"\u001b[39m\n\u001b[1;32m      5\u001b[0m dataset_ids \u001b[38;5;241m=\u001b[39m [\u001b[38;5;124m\"\u001b[39m\u001b[38;5;124mGSE100118_GPL11154\u001b[39m\u001b[38;5;124m\"\u001b[39m, \u001b[38;5;124m\"\u001b[39m\u001b[38;5;124mGSE100397_GPL21493\u001b[39m\u001b[38;5;124m\"\u001b[39m]\n\u001b[0;32m----> 6\u001b[0m omix_obj_test \u001b[38;5;241m=\u001b[39m \u001b[43mOmixAtlas\u001b[49m\u001b[43m(\u001b[49m\u001b[43mdev_token\u001b[49m\u001b[43m,\u001b[49m\u001b[43m \u001b[49m\u001b[43menv\u001b[49m\u001b[38;5;241;43m=\u001b[39;49m\u001b[38;5;124;43m\"\u001b[39;49m\u001b[38;5;124;43mdevpolly\u001b[39;49m\u001b[38;5;124;43m\"\u001b[39;49m\u001b[43m)\u001b[49m\n\u001b[1;32m      7\u001b[0m omix_obj_test\u001b[38;5;241m.\u001b[39mdelete_datasets(repo_id, dataset_ids)\n",
            "File \u001b[0;32m/usr/local/lib/python3.10/site-packages/polly/omixatlas.py:77\u001b[0m, in \u001b[0;36mOmixAtlas.__init__\u001b[0;34m(self, token, env, default_env)\u001b[0m\n\u001b[1;32m     71\u001b[0m \u001b[38;5;28;01mdef\u001b[39;00m \u001b[38;5;21m__init__\u001b[39m(\u001b[38;5;28mself\u001b[39m, token\u001b[38;5;241m=\u001b[39m\u001b[38;5;28;01mNone\u001b[39;00m, env\u001b[38;5;241m=\u001b[39m\u001b[38;5;124m\"\u001b[39m\u001b[38;5;124m\"\u001b[39m, default_env\u001b[38;5;241m=\u001b[39m\u001b[38;5;124m\"\u001b[39m\u001b[38;5;124mpolly\u001b[39m\u001b[38;5;124m\"\u001b[39m) \u001b[38;5;241m-\u001b[39m\u001b[38;5;241m>\u001b[39m \u001b[38;5;28;01mNone\u001b[39;00m:\n\u001b[1;32m     72\u001b[0m     \u001b[38;5;66;03m# check if COMPUTE_ENV_VARIABLE present or not\u001b[39;00m\n\u001b[1;32m     73\u001b[0m     \u001b[38;5;66;03m# if COMPUTE_ENV_VARIABLE, give priority\u001b[39;00m\n\u001b[1;32m     74\u001b[0m     env \u001b[38;5;241m=\u001b[39m helpers\u001b[38;5;241m.\u001b[39mget_platform_value_from_env(\n\u001b[1;32m     75\u001b[0m         const\u001b[38;5;241m.\u001b[39mCOMPUTE_ENV_VARIABLE, default_env, env\n\u001b[1;32m     76\u001b[0m     )\n\u001b[0;32m---> 77\u001b[0m     \u001b[38;5;28mself\u001b[39m\u001b[38;5;241m.\u001b[39msession \u001b[38;5;241m=\u001b[39m \u001b[43mPolly\u001b[49m\u001b[38;5;241;43m.\u001b[39;49m\u001b[43mget_session\u001b[49m\u001b[43m(\u001b[49m\u001b[43mtoken\u001b[49m\u001b[43m,\u001b[49m\u001b[43m \u001b[49m\u001b[43menv\u001b[49m\u001b[38;5;241;43m=\u001b[39;49m\u001b[43menv\u001b[49m\u001b[43m)\u001b[49m\n\u001b[1;32m     78\u001b[0m     \u001b[38;5;28mself\u001b[39m\u001b[38;5;241m.\u001b[39mbase_url \u001b[38;5;241m=\u001b[39m \u001b[38;5;124mf\u001b[39m\u001b[38;5;124m\"\u001b[39m\u001b[38;5;124mhttps://v2.api.\u001b[39m\u001b[38;5;132;01m{\u001b[39;00m\u001b[38;5;28mself\u001b[39m\u001b[38;5;241m.\u001b[39msession\u001b[38;5;241m.\u001b[39menv\u001b[38;5;132;01m}\u001b[39;00m\u001b[38;5;124m.elucidata.io\u001b[39m\u001b[38;5;124m\"\u001b[39m\n\u001b[1;32m     79\u001b[0m     \u001b[38;5;28mself\u001b[39m\u001b[38;5;241m.\u001b[39mdiscover_url \u001b[38;5;241m=\u001b[39m \u001b[38;5;124mf\u001b[39m\u001b[38;5;124m\"\u001b[39m\u001b[38;5;124mhttps://api.discover.\u001b[39m\u001b[38;5;132;01m{\u001b[39;00m\u001b[38;5;28mself\u001b[39m\u001b[38;5;241m.\u001b[39msession\u001b[38;5;241m.\u001b[39menv\u001b[38;5;132;01m}\u001b[39;00m\u001b[38;5;124m.elucidata.io\u001b[39m\u001b[38;5;124m\"\u001b[39m\n",
            "File \u001b[0;32m/usr/local/lib/python3.10/site-packages/polly/auth.py:93\u001b[0m, in \u001b[0;36mPolly.get_session\u001b[0;34m(cls, token, env)\u001b[0m\n\u001b[1;32m     91\u001b[0m \u001b[38;5;28;01mif\u001b[39;00m \u001b[38;5;129;01mnot\u001b[39;00m token:\n\u001b[1;32m     92\u001b[0m     \u001b[38;5;28;01mif\u001b[39;00m \u001b[38;5;129;01mnot\u001b[39;00m \u001b[38;5;28mcls\u001b[39m\u001b[38;5;241m.\u001b[39mdefault_session:\n\u001b[0;32m---> 93\u001b[0m         \u001b[38;5;28;01mraise\u001b[39;00m UnauthorizedException\n\u001b[1;32m     94\u001b[0m     \u001b[38;5;28;01melse\u001b[39;00m:\n\u001b[1;32m     95\u001b[0m         \u001b[38;5;28;01mreturn\u001b[39;00m \u001b[38;5;28mcls\u001b[39m\u001b[38;5;241m.\u001b[39mdefault_session\n",
            "\u001b[0;31mUnauthorizedException\u001b[0m: Authorization failed as credentials not found. Please use Polly.auth(token) as shown here  ---- https://docs.elucidata.io/OmixAtlas/Polly%20Python.html"
          ]
        }
      ],
      "source": [
        "# Testing point 1 \n",
        "# Authentication Error\n",
        "from polly.omixatlas import OmixAtlas\n",
        "repo_id = \"1643359804137\"\n",
        "dataset_ids = [\"GSE100118_GPL11154\", \"GSE100397_GPL21493\"]\n",
        "omix_obj_test = OmixAtlas(dev_token, env=\"devpolly\")\n",
        "omix_obj_test.delete_datasets(repo_id, dataset_ids)\n"
      ]
    },
    {
      "cell_type": "code",
      "execution_count": 5,
      "metadata": {},
      "outputs": [],
      "source": [
        "# correct token \n",
        "devpolly_token = \"eyJjdHkiOiJKV1QiLCJlbmMiOiJBMjU2R0NNIiwiYWxnIjoiUlNBLU9BRVAifQ.aoP2Y5u4wX61nfsR_M5CX5M9_IAb4WQXsvXAIFf8qZHVYsWz6wrzXZtVYbrA3BvhlT8KdzON1Xgy0ZJY906G2MrskUtjWhDsF8HTEi8Td5sNVgrFddqjo_1xezv2UcGQm7JY1O5CMYdE0eQHSSfB4PP0GhotmQGTYSt4ld9ulInWXnUU7P7B__xlpOBnGHjRXqcTEKIuF6uLtIczu6diPpqPwjpJzofemNUbkOWccd2o6ptXRfyofiLt1mrzo6_8PdmMm8Gcr3vASut-EYWhJXy-nuhHMROMe-Tb79HFa32rBfMz-EurVJtujd2qrK_DHNmYuSy37jR2XnjsYPR9pw.4hOkXO6H4kQEFwtC.URYq9nTAXy52fnePO2et7efiz_cRNjfJP3Xcj-OTNIxm63T1w3Lxar_wvvnGmizrsN_m28I7TmUVIlmiSkbCmL6VCCyhsyNj8LifWwiG9jGw5pIvXXmvMFhO6tkH6oeMg6QLftPWlH9_OSO_yBG9Zl6rXYqy2JSYGOXphYcdM-YfLitMQ3G1wnqrJg66VJK8m6Fm99FK6KxpIfZ78dd_1Qjm042L2WEs2ZKCrkojO83v56cXFKPhE2Z7DGPrQn6MsDhV4xKhjfzqUDHF0tsZ0XkvD2khJa4LVv4h0JuxFXuRQbwUSUZjhrr04Gd967k6IvdA2_bgk7-6NJkm0nsC__o4W2gd2usqTMwmzfUCApn14WsN0AYz1t6stQjepyXu9uoSaTGgtw2Wf6qkm09r9ONSOj4059Qyl4i-IQndgbNbUO0RMOW30ZVua99t21R7g_3ANoGojDakNbbihniXPSvNeYKWBGfRJrPEF4_Tj6S6m3CIRaaNwKiYQmibzFrxxCUVM81RcNGQxBw0q7qd2ZZgbMVBATk6ejWnqjNn2NjYD0CnK9k3x4QjEa9PXawV5tpcx8l8B5nwWGfy34L1zogPWoEqRPnXBOrU3-aJjvpLqljLYDoU5f4wmomNK1bLazM0ot_2y7hqeFN3hC9mK-n8tC4j3mvJbh55yaH2rvcFfx_65SGpMswTbgplSYzo7WvGREqTUJq8egBn-zXzayTC88XKHcOEHRuMqvcwIj04J4Fnb7Bbr8BUNZa-pRdYewUp1eYQIksQABJsgqp84LYEqA3vEYojFbwTERkAMGiv5zBP33-iXop56_viutLda7dpalVBWca7BtHQoWn0cLm6dGWGXWUpxdAF5-78kVkNKjzKPV28bVYf-iMlbJBDynHshBFoGXnSw8MOvjclgPaEsx5K-D0d-qSw-Ikkxig9gSUxJiv-oEt4_GOHenTe7FfvyKkIkVFsKFkhnlhzSZI7mUmZLKtdbdr1nNkjAD2UfxUiV3dovhRAFUjz48GKwgVrnNf97JYkmMIpNWg2eTJExreL0ErlXqVcRumfFYvqJqGf_2yrmG_rI4XeB19d14y4srBX08cjGoRyQMi1_1wLkSOJJWQGjNMB7p2SrUdrgK2IfzyyZKpHbI8cyKQMe5znEar9igCVTnpj3pzaZlaUNaihNA2_vrzSYIxLMWpIb9SOVrmdTe3aNFf9bCfy0j1TdLTeYUEg-76BFndDFAIO5CeuymRtYRS2at5IFNppg3B1eMQ64UQsyQEw37kJhPYTwHRPT3BlOaj5o5bhWH5t2tJxeg0J3wfkQewhpAiXS0I0lEUS6eCxKCKS5MUWFSHKLF-JJMo1GOwReB4.mSfzTHx3GtrArPI1gXPtMQ\""
      ]
    },
    {
      "cell_type": "code",
      "execution_count": 6,
      "metadata": {},
      "outputs": [
        {
          "ename": "paramException",
          "evalue": "paramException (parameter error): dataset_ids should be list of strings",
          "output_type": "error",
          "traceback": [
            "\u001b[0;31m---------------------------------------------------------------------------\u001b[0m",
            "\u001b[0;31mparamException\u001b[0m                            Traceback (most recent call last)",
            "Input \u001b[0;32mIn [6]\u001b[0m, in \u001b[0;36m<cell line: 7>\u001b[0;34m()\u001b[0m\n\u001b[1;32m      5\u001b[0m dataset_ids \u001b[38;5;241m=\u001b[39m \u001b[38;5;124m\"\u001b[39m\u001b[38;5;124mGSE100118_GPL11154\u001b[39m\u001b[38;5;124m\"\u001b[39m\n\u001b[1;32m      6\u001b[0m omix_obj_test \u001b[38;5;241m=\u001b[39m OmixAtlas(devpolly_token, env\u001b[38;5;241m=\u001b[39m\u001b[38;5;124m\"\u001b[39m\u001b[38;5;124mdevpolly\u001b[39m\u001b[38;5;124m\"\u001b[39m)\n\u001b[0;32m----> 7\u001b[0m \u001b[43momix_obj_test\u001b[49m\u001b[38;5;241;43m.\u001b[39;49m\u001b[43mdelete_datasets\u001b[49m\u001b[43m(\u001b[49m\u001b[43mrepo_id\u001b[49m\u001b[43m,\u001b[49m\u001b[43m \u001b[49m\u001b[43mdataset_ids\u001b[49m\u001b[43m)\u001b[49m\n",
            "File \u001b[0;32m/usr/local/lib/python3.10/site-packages/polly/omixatlas.py:2147\u001b[0m, in \u001b[0;36mOmixAtlas.delete_datasets\u001b[0;34m(self, repo_id, dataset_ids)\u001b[0m\n\u001b[1;32m   2145\u001b[0m     \u001b[38;5;28mself\u001b[39m\u001b[38;5;241m.\u001b[39m_parameter_check_for_delete_dataset(repo_id, dataset_ids)\n\u001b[1;32m   2146\u001b[0m \u001b[38;5;28;01mexcept\u001b[39;00m \u001b[38;5;167;01mException\u001b[39;00m \u001b[38;5;28;01mas\u001b[39;00m err:\n\u001b[0;32m-> 2147\u001b[0m     \u001b[38;5;28;01mraise\u001b[39;00m err\n\u001b[1;32m   2149\u001b[0m \u001b[38;5;66;03m# extract s3 keys for dataset_ids\u001b[39;00m\n\u001b[1;32m   2150\u001b[0m dataset_s3_keys_dict \u001b[38;5;241m=\u001b[39m \u001b[38;5;28mself\u001b[39m\u001b[38;5;241m.\u001b[39m_s3_key_dataset(repo_id, dataset_ids)\n",
            "File \u001b[0;32m/usr/local/lib/python3.10/site-packages/polly/omixatlas.py:2145\u001b[0m, in \u001b[0;36mOmixAtlas.delete_datasets\u001b[0;34m(self, repo_id, dataset_ids)\u001b[0m\n\u001b[1;32m   2137\u001b[0m \u001b[38;5;124;03m\"\"\"\u001b[39;00m\n\u001b[1;32m   2138\u001b[0m \u001b[38;5;124;03mThis function is used to delete data from an omixatlas\u001b[39;00m\n\u001b[1;32m   2139\u001b[0m \u001b[38;5;124;03mArgs:\u001b[39;00m\n\u001b[0;32m   (...)\u001b[0m\n\u001b[1;32m   2142\u001b[0m \u001b[38;5;124;03m    | file_key(list<string>)(Optional Parameter): File key for the files to delete\u001b[39;00m\n\u001b[1;32m   2143\u001b[0m \u001b[38;5;124;03m\"\"\"\u001b[39;00m\n\u001b[1;32m   2144\u001b[0m \u001b[38;5;28;01mtry\u001b[39;00m:\n\u001b[0;32m-> 2145\u001b[0m     \u001b[38;5;28;43mself\u001b[39;49m\u001b[38;5;241;43m.\u001b[39;49m\u001b[43m_parameter_check_for_delete_dataset\u001b[49m\u001b[43m(\u001b[49m\u001b[43mrepo_id\u001b[49m\u001b[43m,\u001b[49m\u001b[43m \u001b[49m\u001b[43mdataset_ids\u001b[49m\u001b[43m)\u001b[49m\n\u001b[1;32m   2146\u001b[0m \u001b[38;5;28;01mexcept\u001b[39;00m \u001b[38;5;167;01mException\u001b[39;00m \u001b[38;5;28;01mas\u001b[39;00m err:\n\u001b[1;32m   2147\u001b[0m     \u001b[38;5;28;01mraise\u001b[39;00m err\n",
            "File \u001b[0;32m/usr/local/lib/python3.10/site-packages/polly/omixatlas.py:2085\u001b[0m, in \u001b[0;36mOmixAtlas._parameter_check_for_delete_dataset\u001b[0;34m(self, repo_id, dataset_ids)\u001b[0m\n\u001b[1;32m   2082\u001b[0m     repo_id \u001b[38;5;241m=\u001b[39m \u001b[38;5;28mstr\u001b[39m(repo_id)\n\u001b[1;32m   2084\u001b[0m \u001b[38;5;28;01mif\u001b[39;00m \u001b[38;5;129;01mnot\u001b[39;00m (dataset_ids \u001b[38;5;129;01mand\u001b[39;00m \u001b[38;5;28misinstance\u001b[39m(dataset_ids, \u001b[38;5;28mlist\u001b[39m)):\n\u001b[0;32m-> 2085\u001b[0m     \u001b[38;5;28;01mraise\u001b[39;00m paramException(\n\u001b[1;32m   2086\u001b[0m         title\u001b[38;5;241m=\u001b[39m\u001b[38;5;124m\"\u001b[39m\u001b[38;5;124mParam Error\u001b[39m\u001b[38;5;124m\"\u001b[39m,\n\u001b[1;32m   2087\u001b[0m         detail\u001b[38;5;241m=\u001b[39m\u001b[38;5;124m\"\u001b[39m\u001b[38;5;124mdataset_ids should be list of strings\u001b[39m\u001b[38;5;124m\"\u001b[39m,\n\u001b[1;32m   2088\u001b[0m     )\n",
            "\u001b[0;31mparamException\u001b[0m: paramException (parameter error): dataset_ids should be list of strings"
          ]
        }
      ],
      "source": [
        "# Testing point 2\n",
        "# Wrong format for `dataset_id`\n",
        "from polly.omixatlas import OmixAtlas\n",
        "repo_id = \"1654268055800\"\n",
        "dataset_ids = \"GSE100118_GPL11154\"\n",
        "omix_obj_test = OmixAtlas(devpolly_token, env=\"devpolly\")\n",
        "omix_obj_test.delete_datasets(repo_id, dataset_ids)"
      ]
    },
    {
      "cell_type": "code",
      "execution_count": 7,
      "metadata": {},
      "outputs": [
        {
          "name": "stdout",
          "output_type": "stream",
          "text": [
            "           Dataset Id                 Message\n",
            "0  GSE100397_GPL21493  Dataset does not exist\n"
          ]
        }
      ],
      "source": [
        "# Testing point 3\n",
        "# Incorrect `dataset id`\n",
        "# geo dataset On Devpolly\n",
        "repo_id = \"1643359804137\"\n",
        "dataset_ids = [\"GSE100397_GPL21493\"]\n",
        "omix_obj_test = OmixAtlas(devpolly_token, env=\"devpolly\")\n",
        "omix_obj_test.delete_datasets(repo_id, dataset_ids)"
      ]
    },
    {
      "cell_type": "code",
      "execution_count": 8,
      "metadata": {},
      "outputs": [
        {
          "name": "stdout",
          "output_type": "stream",
          "text": [
            "           Dataset Id     Message\n",
            "0  GSE100118_GPL11154  Error Case\n",
            "1  GSE100397_GPL21493  Error Case\n"
          ]
        }
      ],
      "source": [
        "# Testing point 4\n",
        "# Dataset Not indexed\n",
        "# this one On testpolly for ingestion_test_1 repo\n",
        "# Error message is incorrect, will be corrected \n",
        "# when Saiful's PR of Formatted error message merged\n",
        "\n",
        "testpolly_token = \"eyJjdHkiOiJKV1QiLCJlbmMiOiJBMjU2R0NNIiwiYWxnIjoiUlNBLU9BRVAifQ.RCDQW8JsUhPAEyLT9QOgB4n-JTWDWKFgHHVzV5sjf-O5_svB-UwpeKgydtMyhyj3XMRY8YVxo8KoWaXe-ft9wUS0PoqUx17CSdBIFhjYVaM72zLPwDg8slLQzJWv09X0Lm1aYzcNvLNgScLoPqVofpOStz6TV9JacnOO2br-ye8A6yUHGhVGEWd-gmDaMbSwD76mlB52yvqx_XwrJUtcFlFfrB6264mArAC2RY3ljyjVipyEkWi0ErXyzx1cZN90pNNWSNCEMGvAi1tvbz8i5dEzZqzYz5go_JKiq9evgtSaLZHnBnRRpRVgUy6zUDkP7DCaohM8wKb8akxv8zWrYQ.FmFvrxWkDIXdOhGh.74cT5UPNsPdjGaHq8-zw_53a2DESQPBRRSDY9uTuaLfmsp0CbdwcOeMEteVHWO83hCV6-Ei2yk6bBAoLBo59O8Ica6bPfBlHNylHUCvH_oifRltKAI0OC0jFP1RG2juNdYpcD0XUiD5fiGCCHDVQrepHM7Qc3KPlr5j89Uty7QVSP09sOkWlllH8lQfOXb5Dw8UfPBDuLoPofgW6TeAnLwy6x-k8JOzYP-Spsrp35g365A7KEOvcpaF_vMW0Hkds8BVG4CCjTaOkoQH5Aac-sKc6z2ZhBDKGc8GbDCa5RM2SS2EfB_hxgFYEcuVosc6a_JpJaZn1XphHQf4MO7rE2ATKC6etVKfooyX11MXnswM3fi2URECtLeryIduZqigGsp9w0sA-GBvLMEItzwX5qrBq2I7wzRMSPQX0KMKns73zLP3ddCWJxE8zv5AW_Y-MM2VRG3LDS3E1Zgi7wTliW4mennHFEXiCmwdPDp3v6uOyo_o760orhBvcseXHSC_rFyiyceCQ9uoOBPQDNesVxHrhCpYf2pP4GglsZPcX9KJJIHyEoaEO1hI6DqcvufwhMki3vunMxJAnMBXfITkd0_UTLiE7iBPJc8NHcLgBhD-qBVyv0cTjRl0u_QmRrm_gSkUPCCuKdekh9jxWLtu_RHrzYAPnLUu3vmvZf612kVh_tse4_9000j0yQNYEu1qYe6RExPXmf6WSmMq1zFQkDSMTroUIU7syr3xy8CPo0LUnbahHvlxotW267rUPy13QQspgnZWONP4DgCP-6dIjDfyfKHZmUvNtI1RXLX2ZB6QUZrSYUlAJYManq3NuzWL8yT1GjsbQm-wP6LxAClMWZ7J2Yl87aoqPT7u7-fKI9dUc99tWL0IP6FhekG64spSIlCEsJ4GqEtOVPJcjs7C8KsuCqrVv9Q0R2JGnvrXFEZVqMvy7MSvubdMbVWlAfXpnbDixu0S-Nxe8KY8fdqkMXRwKQvHtKI5KsAKb0eb3xyAt8OWFKcccBAiUPGuzhRi1xEh06Px0ukBjdpWjlt4vc7iYBRP6s_ix9na2OV3NpL8r-5ykLcToQs0YsDBgiLSiidB6fyC-O_nHBkWJk9tT0Tg9HfCFdDg1MOuAL-jLUAxF2827kVSkJndVugv5ueXuuHgfTcND-j6ory9Sx4X4YpHfRtlAuGPJwta8_w8_b7KajHME7sWthsyqXatCnzvUaf52N5L20q7jGFVhHUhlDHSU0GNEw-grl9U_9GZwW_vBaeeHm01RLz_AF8nO4Su4xKpVvO7HrrNjAdFNEWqgk_hQdfTGaM2QCRp_QVumx2UQ4u9AHqP8Oc-TvbnEy2C-hajnqW77Atnj.4iUjSjBQrQh_rWYvVYKPZg\"\n",
        "\n",
        "\n",
        "from polly.omixatlas import OmixAtlas\n",
        "repo_id = \"1654268055800\"\n",
        "dataset_ids = [\"GSE100118_GPL11154\", \"GSE100397_GPL21493\"]\n",
        "omix_obj_test = OmixAtlas(testpolly_token, env=\"testpolly\")\n",
        "omix_obj_test.delete_datasets(repo_id, dataset_ids)"
      ]
    },
    {
      "cell_type": "code",
      "execution_count": 10,
      "metadata": {},
      "outputs": [
        {
          "name": "stdout",
          "output_type": "stream",
          "text": [
            "           Dataset Id                                            Message\n",
            "0  GSE100009_GPL11154  Request Accepted. Dataset Will be deleted in t...\n"
          ]
        }
      ],
      "source": [
        "# Testing point 5\n",
        "# Deleting the dataset\n",
        "# geo dataset On Devpolly\n",
        "repo_id = \"1643359804137\"\n",
        "dataset_ids = [\"GSE100009_GPL11154\"]\n",
        "omix_obj_test = OmixAtlas(devpolly_token, env=\"devpolly\")\n",
        "omix_obj_test.delete_datasets(repo_id, dataset_ids)"
      ]
    },
    {
      "cell_type": "code",
      "execution_count": null,
      "metadata": {},
      "outputs": [],
      "source": []
    }
  ],
  "metadata": {
    "kernelspec": {
      "display_name": "Python 3 (ipykernel)",
      "language": "python",
      "name": "python3"
    },
    "language_info": {
      "codemirror_mode": {
        "name": "ipython",
        "version": 3
      },
      "file_extension": ".py",
      "mimetype": "text/x-python",
      "name": "python",
      "nbconvert_exporter": "python",
      "pygments_lexer": "ipython3",
      "version": "3.10.2"
    }
  },
  "nbformat": 4,
  "nbformat_minor": 2
}