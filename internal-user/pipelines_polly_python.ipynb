{
 "cells": [
  {
   "cell_type": "markdown",
   "id": "8199b4b2",
   "metadata": {},
   "source": [
    "# Pipelines for polly-python"
   ]
  },
  {
   "cell_type": "markdown",
   "id": "13fa9c4a",
   "metadata": {},
   "source": [
    "## uninstall existing polly-python"
   ]
  },
  {
   "cell_type": "code",
   "execution_count": 1,
   "id": "3b433baf",
   "metadata": {},
   "outputs": [
    {
     "name": "stdout",
     "output_type": "stream",
     "text": [
      "Found existing installation: polly-python 1.4.0\n",
      "Uninstalling polly-python-1.4.0:\n",
      "  Successfully uninstalled polly-python-1.4.0\n"
     ]
    }
   ],
   "source": [
    "! pip uninstall polly-python -y"
   ]
  },
  {
   "cell_type": "markdown",
   "id": "740edab0",
   "metadata": {},
   "source": [
    "## Install the latest polly-python module with Pipelines"
   ]
  },
  {
   "cell_type": "code",
   "execution_count": 2,
   "id": "eb6bae17",
   "metadata": {},
   "outputs": [
    {
     "name": "stdout",
     "output_type": "stream",
     "text": [
      "Collecting polly-python==1.4.0\n",
      "  Downloading https://elucidatainc.github.io/PublicAssets/builds/polly-python/polly_python-1.4.0-py3-none-any.whl (161 kB)\n",
      "\u001b[K     |████████████████████████████████| 161 kB 1.4 MB/s eta 0:00:01\n",
      "\u001b[?25hRequirement already satisfied: cloudpathlib>=0.15.0 in /Users/adityaasthana/miniconda3/lib/python3.9/site-packages (from polly-python==1.4.0) (0.17.0)\n",
      "Requirement already satisfied: pydantic==1.10.12 in /Users/adityaasthana/miniconda3/lib/python3.9/site-packages (from polly-python==1.4.0) (1.10.12)\n",
      "Requirement already satisfied: joblib>=1.2.0 in /Users/adityaasthana/miniconda3/lib/python3.9/site-packages (from polly-python==1.4.0) (1.2.0)\n",
      "Requirement already satisfied: requests==2.25.1 in /Users/adityaasthana/miniconda3/lib/python3.9/site-packages (from polly-python==1.4.0) (2.25.1)\n",
      "Requirement already satisfied: Deprecated>=1.2.12 in /Users/adityaasthana/miniconda3/lib/python3.9/site-packages (from polly-python==1.4.0) (1.2.13)\n",
      "Requirement already satisfied: rst2txt==1.1.0 in /Users/adityaasthana/miniconda3/lib/python3.9/site-packages (from polly-python==1.4.0) (1.1.0)\n",
      "Requirement already satisfied: elucidatacmapPy==3.3.4 in /Users/adityaasthana/miniconda3/lib/python3.9/site-packages (from polly-python==1.4.0) (3.3.4)\n",
      "Requirement already satisfied: boto3>=1.24.0 in /Users/adityaasthana/.local/lib/python3.9/site-packages (from polly-python==1.4.0) (1.24.76)\n",
      "Requirement already satisfied: tqdm==4.65.0 in /Users/adityaasthana/miniconda3/lib/python3.9/site-packages (from polly-python==1.4.0) (4.65.0)\n",
      "Requirement already satisfied: pandas>=1.3.5 in /Users/adityaasthana/miniconda3/lib/python3.9/site-packages (from polly-python==1.4.0) (1.5.2)\n",
      "Requirement already satisfied: botocore>=1.27.0 in /Users/adityaasthana/.local/lib/python3.9/site-packages (from polly-python==1.4.0) (1.27.76)\n",
      "Requirement already satisfied: retrying==1.3.4 in /Users/adityaasthana/miniconda3/lib/python3.9/site-packages (from polly-python==1.4.0) (1.3.4)\n",
      "Requirement already satisfied: mixpanel==4.10.0 in /Users/adityaasthana/miniconda3/lib/python3.9/site-packages (from polly-python==1.4.0) (4.10.0)\n",
      "Requirement already satisfied: cryptography<=38.0.0,>=37.0.1 in /Users/adityaasthana/miniconda3/lib/python3.9/site-packages (from polly-python==1.4.0) (38.0.0)\n",
      "Requirement already satisfied: pytest>=6.2.5 in /Users/adityaasthana/miniconda3/lib/python3.9/site-packages (from polly-python==1.4.0) (7.2.0)\n",
      "Requirement already satisfied: python-jose==3.3.0 in /Users/adityaasthana/miniconda3/lib/python3.9/site-packages (from polly-python==1.4.0) (3.3.0)\n",
      "Requirement already satisfied: plotly>=5.0.0 in /Users/adityaasthana/miniconda3/lib/python3.9/site-packages (from polly-python==1.4.0) (5.11.0)\n",
      "Requirement already satisfied: datapane>=0.10.3 in /Users/adityaasthana/miniconda3/lib/python3.9/site-packages (from polly-python==1.4.0) (0.15.5)\n",
      "Requirement already satisfied: h5py>=2.6.0 in /Users/adityaasthana/miniconda3/lib/python3.9/site-packages (from elucidatacmapPy==3.3.4->polly-python==1.4.0) (3.7.0)\n",
      "Requirement already satisfied: numpy>=1.11.2 in /Users/adityaasthana/miniconda3/lib/python3.9/site-packages (from elucidatacmapPy==3.3.4->polly-python==1.4.0) (1.23.5)\n",
      "Requirement already satisfied: six in /Users/adityaasthana/miniconda3/lib/python3.9/site-packages (from elucidatacmapPy==3.3.4->polly-python==1.4.0) (1.16.0)\n",
      "Requirement already satisfied: urllib3 in /Users/adityaasthana/miniconda3/lib/python3.9/site-packages (from mixpanel==4.10.0->polly-python==1.4.0) (1.26.16)\n",
      "Requirement already satisfied: typing-extensions>=4.2.0 in /Users/adityaasthana/miniconda3/lib/python3.9/site-packages (from pydantic==1.10.12->polly-python==1.4.0) (4.6.3)\n",
      "Requirement already satisfied: ecdsa!=0.15 in /Users/adityaasthana/miniconda3/lib/python3.9/site-packages (from python-jose==3.3.0->polly-python==1.4.0) (0.18.0)\n",
      "Requirement already satisfied: pyasn1 in /Users/adityaasthana/miniconda3/lib/python3.9/site-packages (from python-jose==3.3.0->polly-python==1.4.0) (0.5.0)\n",
      "Requirement already satisfied: rsa in /Users/adityaasthana/miniconda3/lib/python3.9/site-packages (from python-jose==3.3.0->polly-python==1.4.0) (4.9)\n",
      "Requirement already satisfied: chardet<5,>=3.0.2 in /Users/adityaasthana/miniconda3/lib/python3.9/site-packages (from requests==2.25.1->polly-python==1.4.0) (4.0.0)\n",
      "Requirement already satisfied: certifi>=2017.4.17 in /Users/adityaasthana/miniconda3/lib/python3.9/site-packages (from requests==2.25.1->polly-python==1.4.0) (2023.5.7)\n",
      "Requirement already satisfied: idna<3,>=2.5 in /Users/adityaasthana/miniconda3/lib/python3.9/site-packages (from requests==2.25.1->polly-python==1.4.0) (2.10)\n",
      "Requirement already satisfied: pygments in /Users/adityaasthana/miniconda3/lib/python3.9/site-packages (from rst2txt==1.1.0->polly-python==1.4.0) (2.15.1)\n",
      "Requirement already satisfied: docutils>=0.11 in /Users/adityaasthana/miniconda3/lib/python3.9/site-packages (from rst2txt==1.1.0->polly-python==1.4.0) (0.19)\n",
      "Requirement already satisfied: jmespath<2.0.0,>=0.7.1 in /Users/adityaasthana/.local/lib/python3.9/site-packages (from boto3>=1.24.0->polly-python==1.4.0) (1.0.1)\n",
      "Requirement already satisfied: s3transfer<0.7.0,>=0.6.0 in /Users/adityaasthana/.local/lib/python3.9/site-packages (from boto3>=1.24.0->polly-python==1.4.0) (0.6.0)\n",
      "Requirement already satisfied: python-dateutil<3.0.0,>=2.1 in /Users/adityaasthana/miniconda3/lib/python3.9/site-packages (from botocore>=1.27.0->polly-python==1.4.0) (2.8.2)\n",
      "Requirement already satisfied: cffi>=1.12 in /Users/adityaasthana/miniconda3/lib/python3.9/site-packages (from cryptography<=38.0.0,>=37.0.1->polly-python==1.4.0) (1.15.1)\n",
      "Requirement already satisfied: pycparser in /Users/adityaasthana/miniconda3/lib/python3.9/site-packages (from cffi>=1.12->cryptography<=38.0.0,>=37.0.1->polly-python==1.4.0) (2.21)\n",
      "Requirement already satisfied: PyYAML<7.0.0,>=5.4.0 in /Users/adityaasthana/.local/lib/python3.9/site-packages (from datapane>=0.10.3->polly-python==1.4.0) (6.0)\n",
      "Requirement already satisfied: datacommons-pandas<0.0.4,>=0.0.3 in /Users/adityaasthana/miniconda3/lib/python3.9/site-packages (from datapane>=0.10.3->polly-python==1.4.0) (0.0.3)\n",
      "Requirement already satisfied: ipynbname<2022.0.0,>=2021.3.2 in /Users/adityaasthana/miniconda3/lib/python3.9/site-packages (from datapane>=0.10.3->polly-python==1.4.0) (2021.3.2)\n",
      "Requirement already satisfied: posthog<3.0.0,>=1.4.0 in /Users/adityaasthana/miniconda3/lib/python3.9/site-packages (from datapane>=0.10.3->polly-python==1.4.0) (2.2.0)\n",
      "Requirement already satisfied: pyarrow<11.0.0,>=6.0.0 in /Users/adityaasthana/miniconda3/lib/python3.9/site-packages (from datapane>=0.10.3->polly-python==1.4.0) (10.0.1)\n",
      "Requirement already satisfied: jsonschema<5.0.0,>=3.2.0 in /Users/adityaasthana/miniconda3/lib/python3.9/site-packages (from datapane>=0.10.3->polly-python==1.4.0) (4.17.3)\n",
      "Requirement already satisfied: boltons<22.0.0,>=20.0.0 in /Users/adityaasthana/miniconda3/lib/python3.9/site-packages (from datapane>=0.10.3->polly-python==1.4.0) (21.0.0)\n",
      "Requirement already satisfied: munch<3.0.0,>=2.3.0 in /Users/adityaasthana/miniconda3/lib/python3.9/site-packages (from datapane>=0.10.3->polly-python==1.4.0) (2.5.0)\n",
      "Requirement already satisfied: packaging<22.0.0,>=20.0.0 in /Users/adityaasthana/miniconda3/lib/python3.9/site-packages (from datapane>=0.10.3->polly-python==1.4.0) (21.3)\n",
      "Requirement already satisfied: nbconvert<7.0.0,>=6.1.0 in /Users/adityaasthana/miniconda3/lib/python3.9/site-packages (from datapane>=0.10.3->polly-python==1.4.0) (6.5.4)\n",
      "Requirement already satisfied: altair<5.0.0,>=4.0.0 in /Users/adityaasthana/miniconda3/lib/python3.9/site-packages (from datapane>=0.10.3->polly-python==1.4.0) (4.2.0)\n",
      "Requirement already satisfied: toolz<0.13.0,>=0.11.0 in /Users/adityaasthana/miniconda3/lib/python3.9/site-packages (from datapane>=0.10.3->polly-python==1.4.0) (0.12.0)\n",
      "Requirement already satisfied: dulwich<0.21.0,>=0.20.0 in /Users/adityaasthana/miniconda3/lib/python3.9/site-packages (from datapane>=0.10.3->polly-python==1.4.0) (0.20.50)\n",
      "Requirement already satisfied: colorlog<7.0.0,>=4.1.0 in /Users/adityaasthana/miniconda3/lib/python3.9/site-packages (from datapane>=0.10.3->polly-python==1.4.0) (6.7.0)\n",
      "Requirement already satisfied: click<9.0.0,>=7.1.0 in /Users/adityaasthana/miniconda3/lib/python3.9/site-packages (from datapane>=0.10.3->polly-python==1.4.0) (8.1.3)\n",
      "Requirement already satisfied: importlib_resources<6.0.0,>=3.0.0 in /Users/adityaasthana/miniconda3/lib/python3.9/site-packages (from datapane>=0.10.3->polly-python==1.4.0) (5.10.0)\n",
      "Requirement already satisfied: lxml<5.0.0,>=4.0.0 in /Users/adityaasthana/miniconda3/lib/python3.9/site-packages (from datapane>=0.10.3->polly-python==1.4.0) (4.9.1)\n",
      "Requirement already satisfied: furl<3.0.0,>=2.0.0 in /Users/adityaasthana/miniconda3/lib/python3.9/site-packages (from datapane>=0.10.3->polly-python==1.4.0) (2.1.3)\n",
      "Requirement already satisfied: dacite<2.0.0,>=1.0.2 in /Users/adityaasthana/miniconda3/lib/python3.9/site-packages (from datapane>=0.10.3->polly-python==1.4.0) (1.6.0)\n",
      "Requirement already satisfied: micawber>=0.5.0 in /Users/adityaasthana/miniconda3/lib/python3.9/site-packages (from datapane>=0.10.3->polly-python==1.4.0) (0.5.4)\n",
      "Requirement already satisfied: Jinja2<4.0.0,>=3.0.0 in /Users/adityaasthana/miniconda3/lib/python3.9/site-packages (from datapane>=0.10.3->polly-python==1.4.0) (3.1.2)\n",
      "Requirement already satisfied: click-spinner<0.2.0,>=0.1.8 in /Users/adityaasthana/miniconda3/lib/python3.9/site-packages (from datapane>=0.10.3->polly-python==1.4.0) (0.1.10)\n",
      "Requirement already satisfied: stringcase<2.0.0,>=1.2.0 in /Users/adityaasthana/miniconda3/lib/python3.9/site-packages (from datapane>=0.10.3->polly-python==1.4.0) (1.2.0)\n",
      "Requirement already satisfied: vega-datasets<1.0.0,>=0.9.0 in /Users/adityaasthana/miniconda3/lib/python3.9/site-packages (from datapane>=0.10.3->polly-python==1.4.0) (0.9.0)\n",
      "Requirement already satisfied: requests-toolbelt<0.10.0,>=0.9.1 in /Users/adityaasthana/miniconda3/lib/python3.9/site-packages (from datapane>=0.10.3->polly-python==1.4.0) (0.9.1)\n",
      "Requirement already satisfied: tabulate<0.9.0,>=0.8.0 in /Users/adityaasthana/miniconda3/lib/python3.9/site-packages (from datapane>=0.10.3->polly-python==1.4.0) (0.8.10)\n",
      "Requirement already satisfied: validators<0.21.0,>=0.18.0 in /Users/adityaasthana/miniconda3/lib/python3.9/site-packages (from datapane>=0.10.3->polly-python==1.4.0) (0.20.0)\n",
      "Requirement already satisfied: glom<23.0.0,>=20.11.0 in /Users/adityaasthana/miniconda3/lib/python3.9/site-packages (from datapane>=0.10.3->polly-python==1.4.0) (22.1.0)\n",
      "Requirement already satisfied: dominate<3.0.0,>=2.4.0 in /Users/adityaasthana/miniconda3/lib/python3.9/site-packages (from datapane>=0.10.3->polly-python==1.4.0) (2.7.0)\n",
      "Requirement already satisfied: datacommons<2.0.0,>=1.4.3 in /Users/adityaasthana/miniconda3/lib/python3.9/site-packages (from datapane>=0.10.3->polly-python==1.4.0) (1.4.3)\n",
      "Requirement already satisfied: entrypoints in /Users/adityaasthana/miniconda3/lib/python3.9/site-packages (from altair<5.0.0,>=4.0.0->datapane>=0.10.3->polly-python==1.4.0) (0.4)\n"
     ]
    },
    {
     "name": "stdout",
     "output_type": "stream",
     "text": [
      "Requirement already satisfied: wrapt<2,>=1.10 in /Users/adityaasthana/miniconda3/lib/python3.9/site-packages (from Deprecated>=1.2.12->polly-python==1.4.0) (1.15.0)\n",
      "Requirement already satisfied: orderedmultidict>=1.0.1 in /Users/adityaasthana/miniconda3/lib/python3.9/site-packages (from furl<3.0.0,>=2.0.0->datapane>=0.10.3->polly-python==1.4.0) (1.0.1)\n",
      "Requirement already satisfied: face>=20.1.0 in /Users/adityaasthana/miniconda3/lib/python3.9/site-packages (from glom<23.0.0,>=20.11.0->datapane>=0.10.3->polly-python==1.4.0) (22.0.0)\n",
      "Requirement already satisfied: attrs in /Users/adityaasthana/miniconda3/lib/python3.9/site-packages (from glom<23.0.0,>=20.11.0->datapane>=0.10.3->polly-python==1.4.0) (23.1.0)\n",
      "Requirement already satisfied: zipp>=3.1.0 in /Users/adityaasthana/miniconda3/lib/python3.9/site-packages (from importlib_resources<6.0.0,>=3.0.0->datapane>=0.10.3->polly-python==1.4.0) (3.15.0)\n",
      "Requirement already satisfied: ipykernel in /Users/adityaasthana/miniconda3/lib/python3.9/site-packages (from ipynbname<2022.0.0,>=2021.3.2->datapane>=0.10.3->polly-python==1.4.0) (6.15.2)\n",
      "Requirement already satisfied: MarkupSafe>=2.0 in /Users/adityaasthana/miniconda3/lib/python3.9/site-packages (from Jinja2<4.0.0,>=3.0.0->datapane>=0.10.3->polly-python==1.4.0) (2.1.3)\n",
      "Requirement already satisfied: pyrsistent!=0.17.0,!=0.17.1,!=0.17.2,>=0.14.0 in /Users/adityaasthana/miniconda3/lib/python3.9/site-packages (from jsonschema<5.0.0,>=3.2.0->datapane>=0.10.3->polly-python==1.4.0) (0.19.3)\n",
      "Requirement already satisfied: defusedxml in /Users/adityaasthana/miniconda3/lib/python3.9/site-packages (from nbconvert<7.0.0,>=6.1.0->datapane>=0.10.3->polly-python==1.4.0) (0.7.1)\n",
      "Requirement already satisfied: pandocfilters>=1.4.1 in /Users/adityaasthana/miniconda3/lib/python3.9/site-packages (from nbconvert<7.0.0,>=6.1.0->datapane>=0.10.3->polly-python==1.4.0) (1.5.0)\n",
      "Requirement already satisfied: traitlets>=5.0 in /Users/adityaasthana/miniconda3/lib/python3.9/site-packages (from nbconvert<7.0.0,>=6.1.0->datapane>=0.10.3->polly-python==1.4.0) (5.3.0)\n",
      "Requirement already satisfied: beautifulsoup4 in /Users/adityaasthana/miniconda3/lib/python3.9/site-packages (from nbconvert<7.0.0,>=6.1.0->datapane>=0.10.3->polly-python==1.4.0) (4.11.1)\n",
      "Requirement already satisfied: tinycss2 in /Users/adityaasthana/miniconda3/lib/python3.9/site-packages (from nbconvert<7.0.0,>=6.1.0->datapane>=0.10.3->polly-python==1.4.0) (1.1.1)\n",
      "Requirement already satisfied: jupyterlab-pygments in /Users/adityaasthana/miniconda3/lib/python3.9/site-packages (from nbconvert<7.0.0,>=6.1.0->datapane>=0.10.3->polly-python==1.4.0) (0.2.2)\n",
      "Requirement already satisfied: nbclient>=0.5.0 in /Users/adityaasthana/miniconda3/lib/python3.9/site-packages (from nbconvert<7.0.0,>=6.1.0->datapane>=0.10.3->polly-python==1.4.0) (0.6.8)\n",
      "Requirement already satisfied: mistune<2,>=0.8.1 in /Users/adityaasthana/miniconda3/lib/python3.9/site-packages (from nbconvert<7.0.0,>=6.1.0->datapane>=0.10.3->polly-python==1.4.0) (0.8.4)\n",
      "Requirement already satisfied: bleach in /Users/adityaasthana/miniconda3/lib/python3.9/site-packages (from nbconvert<7.0.0,>=6.1.0->datapane>=0.10.3->polly-python==1.4.0) (5.0.1)\n",
      "Requirement already satisfied: nbformat>=5.1 in /Users/adityaasthana/miniconda3/lib/python3.9/site-packages (from nbconvert<7.0.0,>=6.1.0->datapane>=0.10.3->polly-python==1.4.0) (5.4.0)\n",
      "Requirement already satisfied: jupyter-core>=4.7 in /Users/adityaasthana/miniconda3/lib/python3.9/site-packages (from nbconvert<7.0.0,>=6.1.0->datapane>=0.10.3->polly-python==1.4.0) (4.11.1)\n",
      "Requirement already satisfied: jupyter-client>=6.1.5 in /Users/adityaasthana/miniconda3/lib/python3.9/site-packages (from nbclient>=0.5.0->nbconvert<7.0.0,>=6.1.0->datapane>=0.10.3->polly-python==1.4.0) (7.2.0)\n",
      "Requirement already satisfied: nest-asyncio in /Users/adityaasthana/miniconda3/lib/python3.9/site-packages (from nbclient>=0.5.0->nbconvert<7.0.0,>=6.1.0->datapane>=0.10.3->polly-python==1.4.0) (1.5.5)\n",
      "Requirement already satisfied: tornado>=5.0 in /Users/adityaasthana/miniconda3/lib/python3.9/site-packages (from jupyter-client>=6.1.5->nbclient>=0.5.0->nbconvert<7.0.0,>=6.1.0->datapane>=0.10.3->polly-python==1.4.0) (6.2)\n",
      "Requirement already satisfied: pyzmq>=17 in /Users/adityaasthana/miniconda3/lib/python3.9/site-packages (from jupyter-client>=6.1.5->nbclient>=0.5.0->nbconvert<7.0.0,>=6.1.0->datapane>=0.10.3->polly-python==1.4.0) (23.2.1)\n",
      "Requirement already satisfied: fastjsonschema in /Users/adityaasthana/miniconda3/lib/python3.9/site-packages (from nbformat>=5.1->nbconvert<7.0.0,>=6.1.0->datapane>=0.10.3->polly-python==1.4.0) (2.16.1)\n",
      "Requirement already satisfied: pyparsing!=3.0.5,>=2.0.2 in /Users/adityaasthana/miniconda3/lib/python3.9/site-packages (from packaging<22.0.0,>=20.0.0->datapane>=0.10.3->polly-python==1.4.0) (3.0.9)\n",
      "Requirement already satisfied: pytz>=2020.1 in /Users/adityaasthana/miniconda3/lib/python3.9/site-packages (from pandas>=1.3.5->polly-python==1.4.0) (2023.3)\n",
      "Requirement already satisfied: tenacity>=6.2.0 in /Users/adityaasthana/.local/lib/python3.9/site-packages (from plotly>=5.0.0->polly-python==1.4.0) (8.0.1)\n",
      "Requirement already satisfied: monotonic>=1.5 in /Users/adityaasthana/miniconda3/lib/python3.9/site-packages (from posthog<3.0.0,>=1.4.0->datapane>=0.10.3->polly-python==1.4.0) (1.6)\n",
      "Requirement already satisfied: backoff<2.0.0,>=1.10.0 in /Users/adityaasthana/miniconda3/lib/python3.9/site-packages (from posthog<3.0.0,>=1.4.0->datapane>=0.10.3->polly-python==1.4.0) (1.11.1)\n",
      "Requirement already satisfied: exceptiongroup>=1.0.0rc8 in /Users/adityaasthana/miniconda3/lib/python3.9/site-packages (from pytest>=6.2.5->polly-python==1.4.0) (1.1.1)\n",
      "Requirement already satisfied: tomli>=1.0.0 in /Users/adityaasthana/miniconda3/lib/python3.9/site-packages (from pytest>=6.2.5->polly-python==1.4.0) (2.0.1)\n",
      "Requirement already satisfied: iniconfig in /Users/adityaasthana/miniconda3/lib/python3.9/site-packages (from pytest>=6.2.5->polly-python==1.4.0) (1.1.1)\n",
      "Requirement already satisfied: pluggy<2.0,>=0.12 in /Users/adityaasthana/miniconda3/lib/python3.9/site-packages (from pytest>=6.2.5->polly-python==1.4.0) (1.0.0)\n",
      "Requirement already satisfied: decorator>=3.4.0 in /Users/adityaasthana/miniconda3/lib/python3.9/site-packages (from validators<0.21.0,>=0.18.0->datapane>=0.10.3->polly-python==1.4.0) (5.1.1)\n",
      "Requirement already satisfied: soupsieve>1.2 in /Users/adityaasthana/miniconda3/lib/python3.9/site-packages (from beautifulsoup4->nbconvert<7.0.0,>=6.1.0->datapane>=0.10.3->polly-python==1.4.0) (2.3.2.post1)\n",
      "Requirement already satisfied: webencodings in /Users/adityaasthana/miniconda3/lib/python3.9/site-packages (from bleach->nbconvert<7.0.0,>=6.1.0->datapane>=0.10.3->polly-python==1.4.0) (0.5.1)\n",
      "Requirement already satisfied: psutil in /Users/adityaasthana/miniconda3/lib/python3.9/site-packages (from ipykernel->ipynbname<2022.0.0,>=2021.3.2->datapane>=0.10.3->polly-python==1.4.0) (5.9.2)\n",
      "Requirement already satisfied: debugpy>=1.0 in /Users/adityaasthana/miniconda3/lib/python3.9/site-packages (from ipykernel->ipynbname<2022.0.0,>=2021.3.2->datapane>=0.10.3->polly-python==1.4.0) (1.6.3)\n",
      "Requirement already satisfied: appnope in /Users/adityaasthana/miniconda3/lib/python3.9/site-packages (from ipykernel->ipynbname<2022.0.0,>=2021.3.2->datapane>=0.10.3->polly-python==1.4.0) (0.1.3)\n",
      "Requirement already satisfied: ipython>=7.23.1 in /Users/adityaasthana/miniconda3/lib/python3.9/site-packages (from ipykernel->ipynbname<2022.0.0,>=2021.3.2->datapane>=0.10.3->polly-python==1.4.0) (8.5.0)\n",
      "Requirement already satisfied: matplotlib-inline>=0.1 in /Users/adityaasthana/miniconda3/lib/python3.9/site-packages (from ipykernel->ipynbname<2022.0.0,>=2021.3.2->datapane>=0.10.3->polly-python==1.4.0) (0.1.6)\n",
      "Requirement already satisfied: stack-data in /Users/adityaasthana/miniconda3/lib/python3.9/site-packages (from ipython>=7.23.1->ipykernel->ipynbname<2022.0.0,>=2021.3.2->datapane>=0.10.3->polly-python==1.4.0) (0.5.0)\n",
      "Requirement already satisfied: pickleshare in /Users/adityaasthana/miniconda3/lib/python3.9/site-packages (from ipython>=7.23.1->ipykernel->ipynbname<2022.0.0,>=2021.3.2->datapane>=0.10.3->polly-python==1.4.0) (0.7.5)\n",
      "Requirement already satisfied: prompt-toolkit<3.1.0,>3.0.1 in /Users/adityaasthana/miniconda3/lib/python3.9/site-packages (from ipython>=7.23.1->ipykernel->ipynbname<2022.0.0,>=2021.3.2->datapane>=0.10.3->polly-python==1.4.0) (3.0.31)\n",
      "Requirement already satisfied: pexpect>4.3 in /Users/adityaasthana/miniconda3/lib/python3.9/site-packages (from ipython>=7.23.1->ipykernel->ipynbname<2022.0.0,>=2021.3.2->datapane>=0.10.3->polly-python==1.4.0) (4.8.0)\n",
      "Requirement already satisfied: jedi>=0.16 in /Users/adityaasthana/miniconda3/lib/python3.9/site-packages (from ipython>=7.23.1->ipykernel->ipynbname<2022.0.0,>=2021.3.2->datapane>=0.10.3->polly-python==1.4.0) (0.18.1)\n",
      "Requirement already satisfied: backcall in /Users/adityaasthana/miniconda3/lib/python3.9/site-packages (from ipython>=7.23.1->ipykernel->ipynbname<2022.0.0,>=2021.3.2->datapane>=0.10.3->polly-python==1.4.0) (0.2.0)\n"
     ]
    },
    {
     "name": "stdout",
     "output_type": "stream",
     "text": [
      "Requirement already satisfied: parso<0.9.0,>=0.8.0 in /Users/adityaasthana/miniconda3/lib/python3.9/site-packages (from jedi>=0.16->ipython>=7.23.1->ipykernel->ipynbname<2022.0.0,>=2021.3.2->datapane>=0.10.3->polly-python==1.4.0) (0.8.3)\n",
      "Requirement already satisfied: ptyprocess>=0.5 in /Users/adityaasthana/miniconda3/lib/python3.9/site-packages (from pexpect>4.3->ipython>=7.23.1->ipykernel->ipynbname<2022.0.0,>=2021.3.2->datapane>=0.10.3->polly-python==1.4.0) (0.7.0)\n",
      "Requirement already satisfied: wcwidth in /Users/adityaasthana/miniconda3/lib/python3.9/site-packages (from prompt-toolkit<3.1.0,>3.0.1->ipython>=7.23.1->ipykernel->ipynbname<2022.0.0,>=2021.3.2->datapane>=0.10.3->polly-python==1.4.0) (0.2.5)\n",
      "Requirement already satisfied: asttokens in /Users/adityaasthana/miniconda3/lib/python3.9/site-packages (from stack-data->ipython>=7.23.1->ipykernel->ipynbname<2022.0.0,>=2021.3.2->datapane>=0.10.3->polly-python==1.4.0) (2.0.8)\n",
      "Requirement already satisfied: pure-eval in /Users/adityaasthana/miniconda3/lib/python3.9/site-packages (from stack-data->ipython>=7.23.1->ipykernel->ipynbname<2022.0.0,>=2021.3.2->datapane>=0.10.3->polly-python==1.4.0) (0.2.2)\n",
      "Requirement already satisfied: executing in /Users/adityaasthana/miniconda3/lib/python3.9/site-packages (from stack-data->ipython>=7.23.1->ipykernel->ipynbname<2022.0.0,>=2021.3.2->datapane>=0.10.3->polly-python==1.4.0) (1.0.0)\n",
      "Installing collected packages: polly-python\n",
      "Successfully installed polly-python-1.4.0\n",
      "Note: you may need to restart the kernel to use updated packages.\n"
     ]
    }
   ],
   "source": [
    "pip install https://elucidatainc.github.io/PublicAssets/builds/polly-python/polly_python-1.4.0-py3-none-any.whl"
   ]
  },
  {
   "cell_type": "markdown",
   "id": "a263480d",
   "metadata": {},
   "source": [
    "## Import the module"
   ]
  },
  {
   "cell_type": "code",
   "execution_count": 3,
   "id": "9b6bdc25",
   "metadata": {
    "scrolled": true
   },
   "outputs": [],
   "source": [
    "from polly.pipelines import Pipelines"
   ]
  },
  {
   "cell_type": "markdown",
   "id": "f3101cee",
   "metadata": {},
   "source": [
    "## Initialising the module"
   ]
  },
  {
   "cell_type": "code",
   "execution_count": 4,
   "id": "afadd761",
   "metadata": {},
   "outputs": [],
   "source": [
    "pipeline = Pipelines(env=\"testpolly\", token=\"aTduYTVpcmRnZzo6NHdIRmVJSFI5dzFsOUd5N0VERHpEODBqYlB1cDVjZzI1bnFBcGlGaQ==\")"
   ]
  },
  {
   "cell_type": "markdown",
   "id": "05e5b86d",
   "metadata": {},
   "source": [
    "## Pipeline operations"
   ]
  },
  {
   "cell_type": "code",
   "execution_count": 6,
   "id": "3804af12",
   "metadata": {
    "scrolled": false
   },
   "outputs": [
    {
     "data": {
      "text/plain": [
       "[{'id': '19266b29-c1c3-4b7c-86aa-e065f555944b',\n",
       "  'type': 'pipelines',\n",
       "  'attributes': {'name': 'template',\n",
       "   'display_name': 'Template',\n",
       "   'description': \"An example PWL pipeline to demonstrate the concept of subflows. It executes 'Play' pipeline as a sub-task, then consumes its output fro further processing.\",\n",
       "   'executor': 'pwl',\n",
       "   'deployment_stage': 'test',\n",
       "   'config': {'infra': {'cpu': 1.0, 'memory': 3, 'storage': 30}},\n",
       "   'org_id': '1',\n",
       "   'user_id': '1703140624',\n",
       "   'user_name': 'polly@elucidata.io',\n",
       "   'created_at': 1688533235621,\n",
       "   'last_updated_at': 1709631446766}},\n",
       " {'id': 'e8fb124a-78cf-4ddf-8e19-c8d0015a6a8e',\n",
       "  'type': 'pipelines',\n",
       "  'attributes': {'name': 'play',\n",
       "   'display_name': 'Play',\n",
       "   'description': 'A simple PWL pipeline',\n",
       "   'executor': 'pwl',\n",
       "   'deployment_stage': 'test',\n",
       "   'config': {'infra': {'cpu': 0.5, 'memory': 2, 'storage': 30}},\n",
       "   'org_id': '1',\n",
       "   'user_id': '1703140624',\n",
       "   'user_name': 'polly@elucidata.io',\n",
       "   'created_at': 1689221778876,\n",
       "   'last_updated_at': 1709631458159}},\n",
       " {'id': '4e9476d6-ba45-45ff-a2ab-d79b43d60a65',\n",
       "  'type': 'pipelines',\n",
       "  'attributes': {'name': 'ncbi_protein_processing',\n",
       "   'display_name': 'ncbi_protein_processing',\n",
       "   'description': None,\n",
       "   'executor': 'pwl',\n",
       "   'deployment_stage': 'test',\n",
       "   'config': {},\n",
       "   'org_id': '1',\n",
       "   'user_id': '1703140624',\n",
       "   'user_name': 'polly@elucidata.io',\n",
       "   'created_at': 1701856963647,\n",
       "   'last_updated_at': 1708076315419}},\n",
       " {'id': 'cab1afb0-ff4a-45d1-8eae-bd5c15fcce49',\n",
       "  'type': 'pipelines',\n",
       "  'attributes': {'name': 'sequence_alignment',\n",
       "   'display_name': 'sequence_alignment',\n",
       "   'description': None,\n",
       "   'executor': 'pwl',\n",
       "   'deployment_stage': 'test',\n",
       "   'config': {'infra': {'cpu': 0.5, 'memory': 2, 'storage': 30}},\n",
       "   'org_id': '1',\n",
       "   'user_id': '1703140624',\n",
       "   'user_name': 'polly@elucidata.io',\n",
       "   'created_at': 1701856968786,\n",
       "   'last_updated_at': 1709631443261}},\n",
       " {'id': '2c848b5c-9ad4-4781-83ae-93d6d3b5c693',\n",
       "  'type': 'pipelines',\n",
       "  'attributes': {'name': 'publication_summarizer',\n",
       "   'display_name': 'publication_summarizer',\n",
       "   'description': None,\n",
       "   'executor': 'pwl',\n",
       "   'deployment_stage': 'test',\n",
       "   'config': {'role': 'arn:aws:iam::072198228306:role/discover-test-summarizer-workflow-role-v1',\n",
       "    'infra': {'cpu': 0.5, 'memory': 1}},\n",
       "   'org_id': '1',\n",
       "   'user_id': '1703140624',\n",
       "   'user_name': 'polly@elucidata.io',\n",
       "   'created_at': 1704868312578,\n",
       "   'last_updated_at': 1709631623282}},\n",
       " {'id': '3469ae8f-91c8-4872-bcbb-1f56670c6ece',\n",
       "  'type': 'pipelines',\n",
       "  'attributes': {'name': 'demo_protein_processing',\n",
       "   'display_name': 'demo_protein_processing',\n",
       "   'description': None,\n",
       "   'executor': 'pwl',\n",
       "   'deployment_stage': 'test',\n",
       "   'config': {'role': 'arn:aws:iam::072198228306:role/pravaah-test-workflow-demo-data-processing-task-role-v1',\n",
       "    'infra': {'cpu': 0.5, 'memory': 2, 'storage': 30}},\n",
       "   'org_id': '1',\n",
       "   'user_id': '1703140624',\n",
       "   'user_name': 'polly@elucidata.io',\n",
       "   'created_at': 1709631326486,\n",
       "   'last_updated_at': 1709631463703}},\n",
       " {'id': '9359a71c-220f-40d0-b95b-714ab12b439e',\n",
       "  'type': 'pipelines',\n",
       "  'attributes': {'name': 'omixatlas_archival',\n",
       "   'display_name': 'omixatlas_archival',\n",
       "   'description': None,\n",
       "   'executor': 'pwl',\n",
       "   'deployment_stage': 'test',\n",
       "   'config': {'role': 'arn:aws:iam::072198228306:role/discover-test-omixatlas-archival-workflow-role-v1',\n",
       "    'infra': {'cpu': 0.5, 'memory': 1}},\n",
       "   'org_id': '1',\n",
       "   'user_id': '1703140624',\n",
       "   'user_name': 'polly@elucidata.io',\n",
       "   'created_at': 1710409213033,\n",
       "   'last_updated_at': 1710409372891}},\n",
       " {'id': 'd224cd5c-8266-4560-ba22-f37662240185',\n",
       "  'type': 'pipelines',\n",
       "  'attributes': {'name': 'omixatlas_unarchival',\n",
       "   'display_name': 'omixatlas_unarchival',\n",
       "   'description': None,\n",
       "   'executor': 'pwl',\n",
       "   'deployment_stage': 'test',\n",
       "   'config': {'role': 'arn:aws:iam::072198228306:role/discover-test-omixatlas-archival-workflow-role-v1',\n",
       "    'infra': {'cpu': 0.5, 'memory': 1}},\n",
       "   'org_id': '1',\n",
       "   'user_id': '1703140624',\n",
       "   'user_name': 'polly@elucidata.io',\n",
       "   'created_at': 1710409215445,\n",
       "   'last_updated_at': 1710409376739}},\n",
       " {'id': '54e8d671-c862-48dc-a1c7-4cb0658c7404',\n",
       "  'type': 'pipelines',\n",
       "  'attributes': {'name': 'demo_pipeline',\n",
       "   'display_name': 'Demo (nextflow)',\n",
       "   'description': 'A simple nextflow pipeline',\n",
       "   'executor': 'nextflow',\n",
       "   'deployment_stage': 'test',\n",
       "   'config': {},\n",
       "   'org_id': '1',\n",
       "   'user_id': '1703140624',\n",
       "   'user_name': 'polly@elucidata.io',\n",
       "   'created_at': 1708075927207,\n",
       "   'last_updated_at': 1708428090704}}]"
      ]
     },
     "execution_count": 6,
     "metadata": {},
     "output_type": "execute_result"
    }
   ],
   "source": [
    "# Get all pipelines\n",
    "\n",
    "pipeline.get_pipelines()"
   ]
  },
  {
   "cell_type": "code",
   "execution_count": 7,
   "id": "4be3ae56",
   "metadata": {},
   "outputs": [],
   "source": [
    "demo_pipeline_id = \"e8fb124a-78cf-4ddf-8e19-c8d0015a6a8e\" # replace the string with any pipelineID"
   ]
  },
  {
   "cell_type": "code",
   "execution_count": 8,
   "id": "8ef9e226",
   "metadata": {
    "scrolled": true
   },
   "outputs": [
    {
     "data": {
      "text/plain": [
       "{'id': 'e8fb124a-78cf-4ddf-8e19-c8d0015a6a8e',\n",
       " 'type': 'pipelines',\n",
       " 'attributes': {'name': 'play',\n",
       "  'display_name': 'Play',\n",
       "  'description': 'A simple PWL pipeline',\n",
       "  'executor': 'pwl',\n",
       "  'deployment_stage': 'test',\n",
       "  'config': {'infra': {'cpu': 0.5, 'memory': 2, 'storage': 30}},\n",
       "  'org_id': '1',\n",
       "  'user_id': '1703140624',\n",
       "  'user_name': 'polly@elucidata.io',\n",
       "  'created_at': 1689221778876,\n",
       "  'last_updated_at': 1709631458159}}"
      ]
     },
     "execution_count": 8,
     "metadata": {},
     "output_type": "execute_result"
    }
   ],
   "source": [
    "# Get a pipeline\n",
    "pipeline.get_pipeline(pipeline_id=demo_pipeline_id)"
   ]
  },
  {
   "cell_type": "code",
   "execution_count": 6,
   "id": "943f466b",
   "metadata": {},
   "outputs": [
    {
     "data": {
      "text/plain": [
       "{'id': '2dbcdc46-d0ba-4121-9f20-319afb970880',\n",
       " 'type': 'runs',\n",
       " 'attributes': {'name': 'Test Run from polly-py 123134',\n",
       "  'created_at': 1709722361621,\n",
       "  'pipeline_id': 'e8fb124a-78cf-4ddf-8e19-c8d0015a6a8e',\n",
       "  'priority': 'medium',\n",
       "  'domain_context': {},\n",
       "  'tags': {'org_id': '1'},\n",
       "  'org_id': '1',\n",
       "  'user_id': '1643973272',\n",
       "  'user_name': 'akhil.kathuria@elucidata.io',\n",
       "  'num_jobs': 0,\n",
       "  'num_successful_jobs': 0,\n",
       "  'num_failed_jobs': 0,\n",
       "  'status': 'PENDING',\n",
       "  'last_updated_at': 1709722361621}}"
      ]
     },
     "execution_count": 6,
     "metadata": {},
     "output_type": "execute_result"
    }
   ],
   "source": [
    "# # Create runs quickly\n",
    "# pipeline.create_run(\n",
    "#     pipeline_id=demo_pipeline_id,\n",
    "# )\n",
    "\n",
    "# Create runs with options\n",
    "run = pipeline.create_run(\n",
    "    pipeline_id=demo_pipeline_id,\n",
    "    run_name=\"Test Run from polly-py 123134\",\n",
    "    priority=\"medium\",\n",
    "    tags={},\n",
    "    domain_context={},\n",
    ")\n",
    "\n",
    "run_id = run['id']"
   ]
  },
  {
   "cell_type": "code",
   "execution_count": null,
   "id": "f3e5252e",
   "metadata": {},
   "outputs": [],
   "source": [
    "# Call this function create a job, and then use the job to be added in the run.\n",
    "\n",
    "job = pipeline.submit_job(\n",
    "    run_id = \"2dbcdc46-d0ba-4121-9f20-319afb970880\",\n",
    "    parameters = {\n",
    "        \"x\": 12,\n",
    "        \"y\": 13\n",
    "    },\n",
    "    config = {\n",
    "        \"infra\": {\n",
    "            \"cpu\": 1,\n",
    "            \"memory\": 2,\n",
    "            \"storage\": 120\n",
    "        }\n",
    "    }\n",
    ")\n",
    "\n",
    "print(\"Created JOB:\" , job)"
   ]
  },
  {
   "cell_type": "code",
   "execution_count": 7,
   "id": "31ecb141",
   "metadata": {},
   "outputs": [],
   "source": [
    "# Get Runs by user\n",
    "runs = pipeline.get_runs()\n",
    "\n",
    "# Get runs with filter\n",
    "filtered_runs_by_status = pipeline.get_runs(\n",
    "    status=\"PARTIALLY_COMPLETED\"\n",
    ")\n",
    "\n",
    "# Get runs with filter\n",
    "filtered_runs_by_priority = pipeline.get_runs(\n",
    "    priority=\"low\"\n",
    ")"
   ]
  },
  {
   "cell_type": "code",
   "execution_count": 9,
   "id": "56975dd8",
   "metadata": {},
   "outputs": [
    {
     "name": "stdout",
     "output_type": "stream",
     "text": [
      "Runs unfiltered:\n",
      " [{'id': '2dbcdc46-d0ba-4121-9f20-319afb970880', 'type': 'runs', 'attributes': {'name': 'Test Run from polly-py 123134', 'created_at': 1709722361621, 'pipeline_id': 'e8fb124a-78cf-4ddf-8e19-c8d0015a6a8e', 'priority': 'medium', 'domain_context': {}, 'tags': {'org_id': '1'}, 'org_id': '1', 'user_id': '1643973272', 'user_name': 'akhil.kathuria@elucidata.io', 'num_jobs': 0, 'num_successful_jobs': 0, 'num_failed_jobs': 0, 'status': 'PENDING', 'last_updated_at': 1709722361621}}, {'id': 'd6adfc8e-c7bf-428f-95f1-7b245af7b9bc', 'type': 'runs', 'attributes': {'name': 'Run at March 05, 2024 - 13:28', 'created_at': 1709625487932, 'pipeline_id': 'e8fb124a-78cf-4ddf-8e19-c8d0015a6a8e', 'priority': 'low', 'domain_context': {}, 'tags': {'org_id': '1'}, 'org_id': '1', 'user_id': '1643973272', 'user_name': 'akhil.kathuria@elucidata.io', 'num_jobs': 0, 'num_successful_jobs': 0, 'num_failed_jobs': 0, 'status': 'PENDING', 'last_updated_at': 1709625487932}}, {'id': '66548afd-45da-4c3b-9b18-c1336ac30124', 'type': 'runs', 'attributes': {'name': 'Test Run from polly-py 2802-01', 'created_at': 1709130952533, 'pipeline_id': 'e8fb124a-78cf-4ddf-8e19-c8d0015a6a8e', 'priority': 'medium', 'domain_context': {}, 'tags': {'org_id': '1'}, 'org_id': '1', 'user_id': '1643973272', 'user_name': 'akhil.kathuria@elucidata.io', 'num_jobs': 3, 'num_successful_jobs': 0, 'num_failed_jobs': 3, 'status': 'ERRORED', 'last_updated_at': 1709187834480}}, {'id': 'fd875376-d07f-4602-961b-c2a8574ab7c0', 'type': 'runs', 'attributes': {'name': 'Test Run from polly-py 123134', 'created_at': 1709040161362, 'pipeline_id': 'e8fb124a-78cf-4ddf-8e19-c8d0015a6a8e', 'priority': 'medium', 'domain_context': {}, 'tags': {'org_id': '1'}, 'org_id': '1', 'user_id': '1643973272', 'user_name': 'akhil.kathuria@elucidata.io', 'num_jobs': 2, 'num_successful_jobs': 0, 'num_failed_jobs': 2, 'status': 'ERRORED', 'last_updated_at': 1709625553725}}, {'id': 'b3cba3f8-7d90-4c2e-84cf-3caf6bf50e87', 'type': 'runs', 'attributes': {'name': 'Test Run from polly-py 123134', 'created_at': 1709037400458, 'pipeline_id': 'e8fb124a-78cf-4ddf-8e19-c8d0015a6a8e', 'priority': 'medium', 'domain_context': {}, 'tags': {'org_id': '1'}, 'org_id': '1', 'user_id': '1643973272', 'user_name': 'akhil.kathuria@elucidata.io', 'num_jobs': 4, 'num_successful_jobs': 0, 'num_failed_jobs': 4, 'status': 'ERRORED', 'last_updated_at': 1709038634477}}, {'id': '23763f64-a4f6-44a0-9619-6f6047c39729', 'type': 'runs', 'attributes': {'name': 'Run at February 27, 2024 - 17:36', 'created_at': 1709035562581, 'pipeline_id': 'e8fb124a-78cf-4ddf-8e19-c8d0015a6a8e', 'priority': 'low', 'domain_context': {}, 'tags': {'org_id': '1'}, 'org_id': '1', 'user_id': '1643973272', 'user_name': 'akhil.kathuria@elucidata.io', 'num_jobs': 0, 'num_successful_jobs': 0, 'num_failed_jobs': 0, 'status': 'PENDING', 'last_updated_at': 1709035562581}}, {'id': '470ef7b8-0674-4251-9506-eee24ae442d4', 'type': 'runs', 'attributes': {'name': 'Test Run from polly-py 123134', 'created_at': 1709029868934, 'pipeline_id': 'e8fb124a-78cf-4ddf-8e19-c8d0015a6a8e', 'priority': 'medium', 'domain_context': {}, 'tags': {'org_id': '1'}, 'org_id': '1', 'user_id': '1643973272', 'user_name': 'akhil.kathuria@elucidata.io', 'num_jobs': 0, 'num_successful_jobs': 0, 'num_failed_jobs': 0, 'status': 'PENDING', 'last_updated_at': 1709029868934}}, {'id': 'f75a90a6-4a2a-453e-978e-87cd3abbf3bc', 'type': 'runs', 'attributes': {'name': 'Test Run from polly-py 123134', 'created_at': 1709022524161, 'pipeline_id': 'e8fb124a-78cf-4ddf-8e19-c8d0015a6a8e', 'priority': 'medium', 'domain_context': {}, 'tags': {'org_id': '1'}, 'org_id': '1', 'user_id': '1643973272', 'user_name': 'akhil.kathuria@elucidata.io', 'num_jobs': 0, 'num_successful_jobs': 0, 'num_failed_jobs': 0, 'status': 'PENDING', 'last_updated_at': 1709022524161}}, {'id': 'a1bab377-ccee-4e20-9d50-d6938135ecce', 'type': 'runs', 'attributes': {'name': 'Test Run from polly-py (AK)', 'created_at': 1708678569752, 'pipeline_id': 'e8fb124a-78cf-4ddf-8e19-c8d0015a6a8e', 'priority': 'medium', 'domain_context': {}, 'tags': {'org_id': '1'}, 'org_id': '1', 'user_id': '1643973272', 'user_name': 'akhil.kathuria@elucidata.io', 'num_jobs': 1, 'num_successful_jobs': 0, 'num_failed_jobs': 1, 'status': 'ERRORED', 'last_updated_at': 1708691722746}}, {'id': '469b2864-cf15-4203-b5ad-6c3fcf219959', 'type': 'runs', 'attributes': {'name': 'Test Run from polly-py', 'created_at': 1708674630606, 'pipeline_id': 'e8fb124a-78cf-4ddf-8e19-c8d0015a6a8e', 'priority': 'medium', 'domain_context': {}, 'tags': {'org_id': '1'}, 'org_id': '1', 'user_id': '1643973272', 'user_name': 'akhil.kathuria@elucidata.io', 'num_jobs': 0, 'num_successful_jobs': 0, 'num_failed_jobs': 0, 'status': 'PENDING', 'last_updated_at': 1708674630606}}, {'id': 'd78a2404-c5a9-4986-ba37-725781e7eebb', 'type': 'runs', 'attributes': {'name': 'Test Run from polly-py', 'created_at': 1708605752830, 'pipeline_id': 'e8fb124a-78cf-4ddf-8e19-c8d0015a6a8e', 'priority': 'medium', 'domain_context': {}, 'tags': {'org_id': '1'}, 'org_id': '1', 'user_id': '1643973272', 'user_name': 'akhil.kathuria@elucidata.io', 'num_jobs': 1, 'num_successful_jobs': 0, 'num_failed_jobs': 1, 'status': 'ERRORED', 'last_updated_at': 1708618759813}}, {'id': 'ec3627f9-aabf-492c-bd4a-84f18c1d4148', 'type': 'runs', 'attributes': {'name': 'Run at February 21, 2024 - 14:55', 'created_at': 1708507524404, 'pipeline_id': 'e8fb124a-78cf-4ddf-8e19-c8d0015a6a8e', 'priority': 'low', 'domain_context': {}, 'tags': {'org_id': '1'}, 'org_id': '1', 'user_id': '1643973272', 'user_name': 'akhil.kathuria@elucidata.io', 'num_jobs': 0, 'num_successful_jobs': 0, 'num_failed_jobs': 0, 'status': 'PENDING', 'last_updated_at': 1708507524404}}, {'id': '2f9f62d1-dfb7-4ae0-ba18-ecec7bd33cdc', 'type': 'runs', 'attributes': {'name': 'Run at February 21, 2024 - 12:17', 'created_at': 1708498045365, 'pipeline_id': 'e8fb124a-78cf-4ddf-8e19-c8d0015a6a8e', 'priority': 'low', 'domain_context': {}, 'tags': {'org_id': '1'}, 'org_id': '1', 'user_id': '1643973272', 'user_name': 'akhil.kathuria@elucidata.io', 'num_jobs': 2, 'num_successful_jobs': 0, 'num_failed_jobs': 2, 'status': 'ERRORED', 'last_updated_at': 1708507635304}}, {'id': '1674475984908__oJo9jDAA-hY__1643973272', 'type': 'runs', 'attributes': {'name': 'test-run-ak-19Feb-2', 'created_at': 1708330414649, 'pipeline_id': None, 'priority': 'high', 'domain_context': {'source': None, 'repo_id': '1674475984908', 'repo_version': 1708330414649}, 'tags': {'org_id': '1', 'pipeline_stage': 'pre-processing'}, 'org_id': '1', 'user_id': '1643973272', 'user_name': 'Akhil Kathuria', 'num_jobs': 0, 'num_successful_jobs': 0, 'num_failed_jobs': 0, 'status': 'PENDING', 'last_updated_at': 1708330414649}}, {'id': '1677126277716__BSYWuaRMjTU__1643973272', 'type': 'runs', 'attributes': {'name': 'test-run-ak-19Feb-1', 'created_at': 1708330286225, 'pipeline_id': None, 'priority': 'high', 'domain_context': {'source': None, 'repo_id': '1677126277716', 'repo_version': 1708330286225}, 'tags': {'org_id': '1', 'pipeline_stage': 'pre-processing'}, 'org_id': '1', 'user_id': '1643973272', 'user_name': 'Akhil Kathuria', 'num_jobs': 0, 'num_successful_jobs': 0, 'num_failed_jobs': 0, 'status': 'PENDING', 'last_updated_at': 1708330286225}}, {'id': '7e9d309c-76b1-4312-9013-5eff50a09034', 'type': 'runs', 'attributes': {'name': 'unified_run__demo__15Feb__1', 'created_at': 1708077717067, 'pipeline_id': 'e8fb124a-78cf-4ddf-8e19-c8d0015a6a8e', 'priority': 'high', 'domain_context': {}, 'tags': {'org_id': '1'}, 'org_id': '1', 'user_id': '1643973272', 'user_name': 'akhil.kathuria@elucidata.io', 'num_jobs': 3, 'num_successful_jobs': 1, 'num_failed_jobs': 2, 'status': 'PARTIALLY_COMPLETED', 'last_updated_at': 1708078809391}}, {'id': '1659450268526__BcQWQTMYJqB__1643973272', 'type': 'runs', 'attributes': {'name': 'test_run_ak_5', 'created_at': 1707735020546, 'pipeline_id': None, 'priority': 'low', 'domain_context': {'source': None, 'repo_id': '1659450268526', 'repo_version': 1707735020546}, 'tags': {'org_id': '1', 'pipeline_stage': 'indexing'}, 'org_id': '1', 'user_id': '1643973272', 'user_name': 'Akhil Kathuria', 'num_jobs': 0, 'num_successful_jobs': 0, 'num_failed_jobs': 0, 'status': 'PENDING', 'last_updated_at': 1707735020546}}, {'id': '1659450268526__BcQWQTMYJqA__1643973272', 'type': 'runs', 'attributes': {'name': 'test_run_ak_4', 'created_at': 1707734038507, 'pipeline_id': None, 'priority': 'low', 'domain_context': {'source': None, 'repo_id': '1659450268526', 'repo_version': 1707734038507}, 'tags': {'org_id': '1', 'pipeline_stage': 'indexing'}, 'org_id': '1', 'user_id': '1643973272', 'user_name': 'Akhil Kathuria', 'num_jobs': 0, 'num_successful_jobs': 0, 'num_failed_jobs': 0, 'status': 'PENDING', 'last_updated_at': 1707734038507}}, {'id': '1659450268526__BcQWQTMYJqZ__1643973272', 'type': 'runs', 'attributes': {'name': 'test_run_ak_3', 'created_at': 1707733765472, 'pipeline_id': None, 'priority': 'low', 'domain_context': {'source': None, 'repo_id': '1659450268526', 'repo_version': 1707733765472}, 'tags': {'org_id': '1', 'pipeline_stage': 'indexing'}, 'org_id': '1', 'user_id': '1643973272', 'user_name': 'Akhil Kathuria', 'num_jobs': 0, 'num_successful_jobs': 0, 'num_failed_jobs': 0, 'status': 'PENDING', 'last_updated_at': 1707733765472}}, {'id': '1659450268526__BcQWQTMYJqY__1643973272', 'type': 'runs', 'attributes': {'name': 'test_run_ak_2', 'created_at': 1707733633948, 'pipeline_id': None, 'priority': 'low', 'domain_context': {'source': None, 'repo_id': '1659450268526', 'repo_version': 1707733633948}, 'tags': {'org_id': '1', 'pipeline_stage': 'indexing'}, 'org_id': '1', 'user_id': '1643973272', 'user_name': 'Akhil Kathuria', 'num_jobs': 0, 'num_successful_jobs': 0, 'num_failed_jobs': 0, 'status': 'PENDING', 'last_updated_at': 1707733633948}}, {'id': 'a8f0e787-a801-42a4-993f-971442426165', 'type': 'runs', 'attributes': {'name': 'test_run_4Feb_1', 'created_at': 1707050458525, 'pipeline_id': '4e9476d6-ba45-45ff-a2ab-d79b43d60a65', 'priority': 'medium', 'domain_context': {}, 'tags': {'org_id': '1', 'pipeline_stage': 'pre-processing'}, 'org_id': '1', 'user_id': '1643973272', 'user_name': 'akhil.kathuria@elucidata.io', 'num_jobs': 0, 'num_successful_jobs': 0, 'num_failed_jobs': 0, 'status': 'PENDING', 'last_updated_at': 1707050458525}}, {'id': 'aba3bb5d-580e-4cb1-acd1-603efbbde1ba', 'type': 'runs', 'attributes': {'name': 'run-4Feb-test-kinesis-2', 'created_at': 1707050035694, 'pipeline_id': None, 'priority': 'high', 'domain_context': {'source': None, 'repo_id': None, 'repo_version': None}, 'tags': {'pipeline_stage': 'indexing'}, 'org_id': '1', 'user_id': '1643973272', 'user_name': 'AK - test', 'num_jobs': 0, 'num_successful_jobs': 0, 'num_failed_jobs': 0, 'status': 'PENDING', 'last_updated_at': 1707050035694}}, {'id': '1679482518578__1702885218__1643973272', 'type': 'runs', 'attributes': {'name': 'details_page', 'created_at': 1702885233359, 'pipeline_id': None, 'priority': 'high', 'domain_context': {'source': 'API', 'repo_id': '1679482518578', 'repo_version': 1702885218}, 'tags': None, 'org_id': '1', 'user_id': '1643973272', 'user_name': 'Akhil Kathuria', 'num_jobs': 1, 'num_successful_jobs': 0, 'num_failed_jobs': 1, 'status': 'ERRORED', 'last_updated_at': 1702885601482}}, {'id': '1679482518578__1702877018__1643973272', 'type': 'runs', 'attributes': {'name': 'details_page', 'created_at': 1702877034243, 'pipeline_id': None, 'priority': 'high', 'domain_context': {'source': 'API', 'repo_id': '1679482518578', 'repo_version': 1702877018}, 'tags': None, 'org_id': '1', 'user_id': '1643973272', 'user_name': 'Akhil Kathuria', 'num_jobs': 1, 'num_successful_jobs': 0, 'num_failed_jobs': 1, 'status': 'ERRORED', 'last_updated_at': 1702877606783}}, {'id': 'b3902a9b-4ef1-4a05-9740-e585d18f4965', 'type': 'runs', 'attributes': {'name': 'test_run_13dec23_1', 'created_at': 1702459350124, 'pipeline_id': '4e9476d6-ba45-45ff-a2ab-d79b43d60a65', 'priority': 'medium', 'domain_context': {}, 'tags': {'org_id': '1', 'pipeline_stage': 'indexing'}, 'org_id': '1', 'user_id': '1643973272', 'user_name': 'akhil.kathuria@elucidata.io', 'num_jobs': 0, 'num_successful_jobs': 0, 'num_failed_jobs': 0, 'status': 'PENDING', 'last_updated_at': 1702459350124}}, {'id': '1d846598-8044-45da-9aa9-5252e8096bb0', 'type': 'runs', 'attributes': {'name': 'test_run_1', 'created_at': 1701863993319, 'pipeline_id': '4e9476d6-ba45-45ff-a2ab-d79b43d60a65', 'priority': 'medium', 'domain_context': {}, 'tags': {'org_id': '1', 'pipeline_stage': 'pre-processing'}, 'org_id': '1', 'user_id': '1643973272', 'user_name': 'akhil.kathuria@elucidata.io', 'num_jobs': 6, 'num_successful_jobs': 2, 'num_failed_jobs': 4, 'status': 'PARTIALLY_COMPLETED', 'last_updated_at': 1701870859536}}, {'id': '8e07ce3c-1a4a-4133-b492-a6db75ffa1ff', 'type': 'runs', 'attributes': {'name': 'test_run_1', 'created_at': 1701861660088, 'pipeline_id': '4e9476d6-ba45-45ff-a2ab-d79b43d60a65', 'priority': 'medium', 'domain_context': {}, 'tags': {'org_id': '1', 'pipeline_stage': 'pre-processing'}, 'org_id': '1', 'user_id': '1643973272', 'user_name': 'akhil.kathuria@elucidata.io', 'num_jobs': 2, 'num_successful_jobs': 0, 'num_failed_jobs': 2, 'status': 'ERRORED', 'last_updated_at': 1701861917486}}, {'id': 'b5dce0a9-6b44-4729-8c70-72630e263aeb', 'type': 'runs', 'attributes': {'name': 'test_run_1', 'created_at': 1696162528442, 'pipeline_id': 'e8fb124a-78cf-4ddf-8e19-c8d0015a6a8e', 'priority': 'medium', 'domain_context': {}, 'tags': {}, 'org_id': '1', 'user_id': '1643973272', 'user_name': 'akhil.kathuria@elucidata.io', 'num_jobs': 6, 'num_successful_jobs': 6, 'num_failed_jobs': 0, 'status': 'COMPLETED', 'last_updated_at': 1696491775088}}, {'id': 'bcb707fe-6d27-4845-89ad-124e66361d52', 'type': 'runs', 'attributes': {'name': 'test_run_0', 'created_at': 1692778960354, 'pipeline_id': 'e8fb124a-78cf-4ddf-8e19-c8d0015a6a8e', 'priority': 'high', 'domain_context': {}, 'tags': {}, 'org_id': '1', 'user_id': '1643973272', 'user_name': 'akhil.kathuria@elucidata.io', 'num_jobs': 170, 'num_successful_jobs': 128, 'num_failed_jobs': 42, 'status': 'PARTIALLY_COMPLETED', 'last_updated_at': 1692789287398}}, {'id': '9dd221b3-4950-41ca-b965-9a33c946827a', 'type': 'runs', 'attributes': {'name': 'test_run_0', 'created_at': 1692769240760, 'pipeline_id': '19266b29-c1c3-4b7c-86aa-e065f555944b', 'priority': 'high', 'domain_context': {}, 'tags': {}, 'org_id': '1', 'user_id': '1643973272', 'user_name': 'akhil.kathuria@elucidata.io', 'num_jobs': 231, 'num_successful_jobs': 132, 'num_failed_jobs': 99, 'status': 'PARTIALLY_COMPLETED', 'last_updated_at': 1692791604015}}]\n",
      "\n",
      "\n",
      "Runs Filtered by status:\n",
      " [{'id': '7e9d309c-76b1-4312-9013-5eff50a09034', 'type': 'runs', 'attributes': {'name': 'unified_run__demo__15Feb__1', 'created_at': 1708077717067, 'pipeline_id': 'e8fb124a-78cf-4ddf-8e19-c8d0015a6a8e', 'priority': 'high', 'domain_context': {}, 'tags': {'org_id': '1'}, 'org_id': '1', 'user_id': '1643973272', 'user_name': 'akhil.kathuria@elucidata.io', 'num_jobs': 3, 'num_successful_jobs': 1, 'num_failed_jobs': 2, 'status': 'PARTIALLY_COMPLETED', 'last_updated_at': 1708078809391}}, {'id': '1d846598-8044-45da-9aa9-5252e8096bb0', 'type': 'runs', 'attributes': {'name': 'test_run_1', 'created_at': 1701863993319, 'pipeline_id': '4e9476d6-ba45-45ff-a2ab-d79b43d60a65', 'priority': 'medium', 'domain_context': {}, 'tags': {'org_id': '1', 'pipeline_stage': 'pre-processing'}, 'org_id': '1', 'user_id': '1643973272', 'user_name': 'akhil.kathuria@elucidata.io', 'num_jobs': 6, 'num_successful_jobs': 2, 'num_failed_jobs': 4, 'status': 'PARTIALLY_COMPLETED', 'last_updated_at': 1701870859536}}, {'id': 'bcb707fe-6d27-4845-89ad-124e66361d52', 'type': 'runs', 'attributes': {'name': 'test_run_0', 'created_at': 1692778960354, 'pipeline_id': 'e8fb124a-78cf-4ddf-8e19-c8d0015a6a8e', 'priority': 'high', 'domain_context': {}, 'tags': {}, 'org_id': '1', 'user_id': '1643973272', 'user_name': 'akhil.kathuria@elucidata.io', 'num_jobs': 170, 'num_successful_jobs': 128, 'num_failed_jobs': 42, 'status': 'PARTIALLY_COMPLETED', 'last_updated_at': 1692789287398}}, {'id': '9dd221b3-4950-41ca-b965-9a33c946827a', 'type': 'runs', 'attributes': {'name': 'test_run_0', 'created_at': 1692769240760, 'pipeline_id': '19266b29-c1c3-4b7c-86aa-e065f555944b', 'priority': 'high', 'domain_context': {}, 'tags': {}, 'org_id': '1', 'user_id': '1643973272', 'user_name': 'akhil.kathuria@elucidata.io', 'num_jobs': 231, 'num_successful_jobs': 132, 'num_failed_jobs': 99, 'status': 'PARTIALLY_COMPLETED', 'last_updated_at': 1692791604015}}]\n",
      "\n",
      "\n",
      "Runs filtered by priority:\n",
      " [{'id': 'd6adfc8e-c7bf-428f-95f1-7b245af7b9bc', 'type': 'runs', 'attributes': {'name': 'Run at March 05, 2024 - 13:28', 'created_at': 1709625487932, 'pipeline_id': 'e8fb124a-78cf-4ddf-8e19-c8d0015a6a8e', 'priority': 'low', 'domain_context': {}, 'tags': {'org_id': '1'}, 'org_id': '1', 'user_id': '1643973272', 'user_name': 'akhil.kathuria@elucidata.io', 'num_jobs': 0, 'num_successful_jobs': 0, 'num_failed_jobs': 0, 'status': 'PENDING', 'last_updated_at': 1709625487932}}, {'id': '23763f64-a4f6-44a0-9619-6f6047c39729', 'type': 'runs', 'attributes': {'name': 'Run at February 27, 2024 - 17:36', 'created_at': 1709035562581, 'pipeline_id': 'e8fb124a-78cf-4ddf-8e19-c8d0015a6a8e', 'priority': 'low', 'domain_context': {}, 'tags': {'org_id': '1'}, 'org_id': '1', 'user_id': '1643973272', 'user_name': 'akhil.kathuria@elucidata.io', 'num_jobs': 0, 'num_successful_jobs': 0, 'num_failed_jobs': 0, 'status': 'PENDING', 'last_updated_at': 1709035562581}}, {'id': 'ec3627f9-aabf-492c-bd4a-84f18c1d4148', 'type': 'runs', 'attributes': {'name': 'Run at February 21, 2024 - 14:55', 'created_at': 1708507524404, 'pipeline_id': 'e8fb124a-78cf-4ddf-8e19-c8d0015a6a8e', 'priority': 'low', 'domain_context': {}, 'tags': {'org_id': '1'}, 'org_id': '1', 'user_id': '1643973272', 'user_name': 'akhil.kathuria@elucidata.io', 'num_jobs': 0, 'num_successful_jobs': 0, 'num_failed_jobs': 0, 'status': 'PENDING', 'last_updated_at': 1708507524404}}, {'id': '2f9f62d1-dfb7-4ae0-ba18-ecec7bd33cdc', 'type': 'runs', 'attributes': {'name': 'Run at February 21, 2024 - 12:17', 'created_at': 1708498045365, 'pipeline_id': 'e8fb124a-78cf-4ddf-8e19-c8d0015a6a8e', 'priority': 'low', 'domain_context': {}, 'tags': {'org_id': '1'}, 'org_id': '1', 'user_id': '1643973272', 'user_name': 'akhil.kathuria@elucidata.io', 'num_jobs': 2, 'num_successful_jobs': 0, 'num_failed_jobs': 2, 'status': 'ERRORED', 'last_updated_at': 1708507635304}}, {'id': '1659450268526__BcQWQTMYJqB__1643973272', 'type': 'runs', 'attributes': {'name': 'test_run_ak_5', 'created_at': 1707735020546, 'pipeline_id': None, 'priority': 'low', 'domain_context': {'source': None, 'repo_id': '1659450268526', 'repo_version': 1707735020546}, 'tags': {'org_id': '1', 'pipeline_stage': 'indexing'}, 'org_id': '1', 'user_id': '1643973272', 'user_name': 'Akhil Kathuria', 'num_jobs': 0, 'num_successful_jobs': 0, 'num_failed_jobs': 0, 'status': 'PENDING', 'last_updated_at': 1707735020546}}, {'id': '1659450268526__BcQWQTMYJqA__1643973272', 'type': 'runs', 'attributes': {'name': 'test_run_ak_4', 'created_at': 1707734038507, 'pipeline_id': None, 'priority': 'low', 'domain_context': {'source': None, 'repo_id': '1659450268526', 'repo_version': 1707734038507}, 'tags': {'org_id': '1', 'pipeline_stage': 'indexing'}, 'org_id': '1', 'user_id': '1643973272', 'user_name': 'Akhil Kathuria', 'num_jobs': 0, 'num_successful_jobs': 0, 'num_failed_jobs': 0, 'status': 'PENDING', 'last_updated_at': 1707734038507}}, {'id': '1659450268526__BcQWQTMYJqZ__1643973272', 'type': 'runs', 'attributes': {'name': 'test_run_ak_3', 'created_at': 1707733765472, 'pipeline_id': None, 'priority': 'low', 'domain_context': {'source': None, 'repo_id': '1659450268526', 'repo_version': 1707733765472}, 'tags': {'org_id': '1', 'pipeline_stage': 'indexing'}, 'org_id': '1', 'user_id': '1643973272', 'user_name': 'Akhil Kathuria', 'num_jobs': 0, 'num_successful_jobs': 0, 'num_failed_jobs': 0, 'status': 'PENDING', 'last_updated_at': 1707733765472}}, {'id': '1659450268526__BcQWQTMYJqY__1643973272', 'type': 'runs', 'attributes': {'name': 'test_run_ak_2', 'created_at': 1707733633948, 'pipeline_id': None, 'priority': 'low', 'domain_context': {'source': None, 'repo_id': '1659450268526', 'repo_version': 1707733633948}, 'tags': {'org_id': '1', 'pipeline_stage': 'indexing'}, 'org_id': '1', 'user_id': '1643973272', 'user_name': 'Akhil Kathuria', 'num_jobs': 0, 'num_successful_jobs': 0, 'num_failed_jobs': 0, 'status': 'PENDING', 'last_updated_at': 1707733633948}}]\n"
     ]
    }
   ],
   "source": [
    "print(\"Runs unfiltered:\\n\", runs)\n",
    "print(\"\\n\\nRuns Filtered by status:\\n\", filtered_runs_by_status)\n",
    "print(\"\\n\\nRuns filtered by priority:\\n\", filtered_runs_by_priority)"
   ]
  },
  {
   "cell_type": "code",
   "execution_count": 10,
   "id": "e68dd7cc",
   "metadata": {},
   "outputs": [
    {
     "data": {
      "text/plain": [
       "{'id': 'b3cba3f8-7d90-4c2e-84cf-3caf6bf50e87',\n",
       " 'type': 'runs',\n",
       " 'attributes': {'name': 'Test Run from polly-py 123134',\n",
       "  'created_at': 1709037400458,\n",
       "  'pipeline_id': 'e8fb124a-78cf-4ddf-8e19-c8d0015a6a8e',\n",
       "  'priority': 'medium',\n",
       "  'domain_context': {},\n",
       "  'tags': {'org_id': '1'},\n",
       "  'org_id': '1',\n",
       "  'user_id': '1643973272',\n",
       "  'user_name': 'akhil.kathuria@elucidata.io',\n",
       "  'num_jobs': 4,\n",
       "  'num_successful_jobs': 0,\n",
       "  'num_failed_jobs': 4,\n",
       "  'status': 'ERRORED',\n",
       "  'last_updated_at': 1709038634477}}"
      ]
     },
     "execution_count": 10,
     "metadata": {},
     "output_type": "execute_result"
    }
   ],
   "source": [
    "pipeline.get_run(run_id=\"b3cba3f8-7d90-4c2e-84cf-3caf6bf50e87\")"
   ]
  },
  {
   "cell_type": "code",
   "execution_count": null,
   "id": "167958ea",
   "metadata": {},
   "outputs": [],
   "source": [
    "# Get jobs\n",
    "jobs = pipeline.get_jobs(run_id=\"b3cba3f8-7d90-4c2e-84cf-3caf6bf50e87\")\n",
    "print(jobs)"
   ]
  },
  {
   "cell_type": "code",
   "execution_count": null,
   "id": "e6462dd0",
   "metadata": {},
   "outputs": [],
   "source": [
    "# Get Job by ID\n",
    "job = pipeline.get_job(job_id='8789ab60-aeee-4e8e-94ee-6a516bccb074')\n",
    "print(job)"
   ]
  },
  {
   "cell_type": "code",
   "execution_count": null,
   "id": "a14d41b6",
   "metadata": {},
   "outputs": [],
   "source": []
  }
 ],
 "metadata": {
  "kernelspec": {
   "display_name": "Python 3 (ipykernel)",
   "language": "python",
   "name": "python3"
  },
  "language_info": {
   "codemirror_mode": {
    "name": "ipython",
    "version": 3
   },
   "file_extension": ".py",
   "mimetype": "text/x-python",
   "name": "python",
   "nbconvert_exporter": "python",
   "pygments_lexer": "ipython3",
   "version": "3.9.12"
  }
 },
 "nbformat": 4,
 "nbformat_minor": 5
}
