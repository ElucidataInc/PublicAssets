{
 "cells": [
  {
   "cell_type": "markdown",
   "id": "8199b4b2",
   "metadata": {},
   "source": [
    "# Pipelines for polly-python"
   ]
  },
  {
   "cell_type": "markdown",
   "id": "a352f258",
   "metadata": {},
   "source": [
    "## uninstall existing polly-python"
   ]
  },
  {
   "cell_type": "code",
   "execution_count": null,
   "id": "3d951fc0",
   "metadata": {},
   "outputs": [],
   "source": [
    "! pip uninstall polly-python -y"
   ]
  },
  {
   "cell_type": "markdown",
   "id": "69578a7b",
   "metadata": {},
   "source": [
    "## Install the latest polly-python module with Pipelines"
   ]
  },
  {
   "cell_type": "code",
   "execution_count": null,
   "id": "ed70c1d2",
   "metadata": {},
   "outputs": [],
   "source": [
    "pip install https://elucidatainc.github.io/PublicAssets/builds/polly-python/polly_python-1.4.0-py3-none-any.whl"
   ]
  },
  {
   "cell_type": "markdown",
   "id": "a263480d",
   "metadata": {},
   "source": [
    "## Import the module"
   ]
  },
  {
   "cell_type": "code",
   "execution_count": null,
   "id": "9b6bdc25",
   "metadata": {},
   "outputs": [],
   "source": [
    "from polly.pipelines import Pipelines"
   ]
  },
  {
   "cell_type": "markdown",
   "id": "f3101cee",
   "metadata": {},
   "source": [
    "## Initialising the module"
   ]
  },
  {
   "cell_type": "code",
   "execution_count": null,
   "id": "afadd761",
   "metadata": {},
   "outputs": [],
   "source": [
    "pipeline = Pipelines(env=\"testpolly\", token=\"aTduYTVpcmRnZzo6NHdIRmVJSFI5dzFsOUd5N0VERHpEODBqYlB1cDVjZzI1bnFBcGlGaQ==\")"
   ]
  },
  {
   "cell_type": "markdown",
   "id": "05e5b86d",
   "metadata": {},
   "source": [
    "## Pipeline operations"
   ]
  },
  {
   "cell_type": "code",
   "execution_count": null,
   "id": "3804af12",
   "metadata": {
    "scrolled": false
   },
   "outputs": [],
   "source": [
    "# Get all pipelines\n",
    "\n",
    "pipeline.list_pipelines()"
   ]
  },
  {
   "cell_type": "code",
   "execution_count": null,
   "id": "4be3ae56",
   "metadata": {},
   "outputs": [],
   "source": [
    "demo_pipeline_id = \"e8fb124a-78cf-4ddf-8e19-c8d0015a6a8e\" # replace the string with any pipelineID"
   ]
  },
  {
   "cell_type": "code",
   "execution_count": null,
   "id": "8ef9e226",
   "metadata": {
    "scrolled": true
   },
   "outputs": [],
   "source": [
    "# Get a pipeline\n",
    "pipeline.get(pipeline_id=demo_pipeline_id)"
   ]
  },
  {
   "cell_type": "code",
   "execution_count": null,
   "id": "943f466b",
   "metadata": {},
   "outputs": [],
   "source": [
    "# # Create runs quickly\n",
    "# pipeline.create_run(\n",
    "#     pipeline_id=demo_pipeline_id,\n",
    "# )\n",
    "\n",
    "# Create runs with options\n",
    "pipeline.create_run(\n",
    "    pipeline_id=demo_pipeline_id,\n",
    "    run_name=\"Test Run from polly-py\",\n",
    "    priority=\"medium\",\n",
    "    tags={},\n",
    "    domain_context={},\n",
    ")"
   ]
  },
  {
   "cell_type": "code",
   "execution_count": null,
   "id": "f3e5252e",
   "metadata": {},
   "outputs": [],
   "source": [
    "# Call this function create a job, and then use the job to be added in the run.\n",
    "\n",
    "job = pipeline.construct_job(\n",
    "    run_id = \"d78a2404-c5a9-4986-ba37-725781e7eebb\",\n",
    "    parameters = {\n",
    "        \"a\": 12,\n",
    "        \"b\": 13\n",
    "    },\n",
    "    config = {\n",
    "        \"infra\": {\n",
    "            \"cpu\": 1,\n",
    "            \"memory\": 2,\n",
    "            \"storage\": 120\n",
    "        }\n",
    "    }\n",
    ")\n",
    "\n",
    "print(\"CONSTRUCTED JOB:\" , job)"
   ]
  },
  {
   "cell_type": "code",
   "execution_count": null,
   "id": "bfda6751",
   "metadata": {},
   "outputs": [],
   "source": [
    "# you can create multiple jobs and add them to the runs\n",
    "jobs = [job]\n",
    "pipeline.add_jobs(jobs)"
   ]
  },
  {
   "cell_type": "code",
   "execution_count": null,
   "id": "31ecb141",
   "metadata": {},
   "outputs": [],
   "source": [
    "# Get Runs by user\n",
    "runs = pipeline.get_runs()\n",
    "\n",
    "# Get runs with filter\n",
    "filtered_runs_by_status = pipeline.get_runs(\n",
    "    status=\"PARTIALLY_COMPLETED\"\n",
    ")\n",
    "\n",
    "# Get runs with filter\n",
    "filtered_runs_by_priority = pipeline.get_runs(\n",
    "    priority=\"low\"\n",
    ")"
   ]
  },
  {
   "cell_type": "code",
   "execution_count": null,
   "id": "56975dd8",
   "metadata": {},
   "outputs": [],
   "source": [
    "print(\"Runs unfiltered:\\n\", runs)\n",
    "print(\"\\n\\nRuns Filtered by status:\\n\", filtered_runs_by_status)\n",
    "print(\"\\n\\nRuns filtered by priority:\\n\", filtered_runs_by_priority)"
   ]
  },
  {
   "cell_type": "code",
   "execution_count": null,
   "id": "167958ea",
   "metadata": {},
   "outputs": [],
   "source": [
    "# Get jobs\n",
    "jobs = pipeline.get_jobs(run_id=\"\")\n",
    "print(jobs)"
   ]
  },
  {
   "cell_type": "code",
   "execution_count": null,
   "id": "e6462dd0",
   "metadata": {},
   "outputs": [],
   "source": [
    "# Get Job by ID\n",
    "job = pipeline.get_job(job_id=\"\")\n",
    "print(job)"
   ]
  },
  {
   "cell_type": "code",
   "execution_count": null,
   "id": "a14d41b6",
   "metadata": {},
   "outputs": [],
   "source": []
  }
 ],
 "metadata": {
  "kernelspec": {
   "display_name": "Python 3 (ipykernel)",
   "language": "python",
   "name": "python3"
  },
  "language_info": {
   "codemirror_mode": {
    "name": "ipython",
    "version": 3
   },
   "file_extension": ".py",
   "mimetype": "text/x-python",
   "name": "python",
   "nbconvert_exporter": "python",
   "pygments_lexer": "ipython3",
   "version": "3.9.12"
  }
 },
 "nbformat": 4,
 "nbformat_minor": 5
}
