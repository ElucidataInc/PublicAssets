{
  "cells": [
    {
      "cell_type": "markdown",
      "metadata": {
        "colab_type": "text",
        "id": "view-in-github"
      },
      "source": [
        "<a href=\"https://polly.elucidata.io/manage/workspaces?action=open_polly_notebook&source=github&path=path_place_holder&kernel=elucidata/Python 3.10&machine=medium\" target=\"_parent\"><img src=\"https://elucidatainc.github.io/PublicAssets/open_polly.svg\" alt=\"Open in Polly\"/></a>\n"
      ]
    },
    {
      "cell_type": "markdown",
      "metadata": {},
      "source": [
        "# Welcome to Polly Python3 Notebook."
      ]
    },
    {
      "cell_type": "code",
      "execution_count": 4,
      "metadata": {},
      "outputs": [],
      "source": [
        "# please do not modify\n",
        "from IPython.display import display_html\n",
        "def restartkernel() :\n",
        "    display_html(\"&lt;script&gt;Jupyter.notebook.kernel.restart()&lt;/script&gt;\",raw=True)"
      ]
    },
    {
      "cell_type": "code",
      "execution_count": 1,
      "metadata": {
        "scrolled": true
      },
      "outputs": [
        {
          "name": "stdout",
          "output_type": "stream",
          "text": [
            "/bin/bash: warning: setlocale: LC_ALL: cannot change locale (en_US.UTF-8)\n",
            "Defaulting to user installation because normal site-packages is not writeable\n",
            "Looking in indexes: https://pypi.org/simple, http://54.245.179.143:80/\n",
            "Collecting polly-python==0.2.4-clinical\n",
            "  Downloading https://elucidatainc.github.io/PublicAssets/builds/polly-python/tests/testpolly/polly_python-0.2.4_clinical-py3-none-any.whl (83 kB)\n",
            "\u001b[K     |████████████████████████████████| 83 kB 3.2 MB/s eta 0:00:01\n",
            "\u001b[?25hCollecting joblib\n",
            "  Downloading joblib-1.2.0-py3-none-any.whl (297 kB)\n",
            "\u001b[K     |████████████████████████████████| 297 kB 6.2 MB/s eta 0:00:01\n",
            "\u001b[?25hCollecting postpy2==0.0.6\n",
            "  Downloading postpy2-0.0.6-py3-none-any.whl (17 kB)\n",
            "Collecting python-magic==0.4.24\n",
            "  Downloading python_magic-0.4.24-py2.py3-none-any.whl (12 kB)\n",
            "Collecting boto3>=1.17.73\n",
            "  Downloading boto3-1.26.3-py3-none-any.whl (132 kB)\n",
            "\u001b[K     |████████████████████████████████| 132 kB 134.8 MB/s eta 0:00:01\n",
            "\u001b[?25hCollecting requests==2.25.1\n",
            "  Downloading requests-2.25.1-py2.py3-none-any.whl (61 kB)\n",
            "\u001b[K     |████████████████████████████████| 61 kB 20.0 MB/s  eta 0:00:01\n",
            "\u001b[?25hCollecting retrying==1.3.3\n",
            "  Downloading retrying-1.3.3.tar.gz (10 kB)\n",
            "Collecting six==1.16.0\n",
            "  Downloading six-1.16.0-py2.py3-none-any.whl (11 kB)\n",
            "Collecting Deprecated\n",
            "  Downloading Deprecated-1.2.13-py2.py3-none-any.whl (9.6 kB)\n",
            "Collecting python-dateutil\n",
            "  Downloading python_dateutil-2.8.2-py2.py3-none-any.whl (247 kB)\n",
            "\u001b[K     |████████████████████████████████| 247 kB 129.3 MB/s eta 0:00:01\n",
            "\u001b[?25hCollecting plotly\n",
            "  Downloading plotly-5.11.0-py2.py3-none-any.whl (15.3 MB)\n",
            "\u001b[K     |████████████████████████████████| 15.3 MB 136.5 MB/s eta 0:00:01\n",
            "\u001b[?25hCollecting idna==2.10\n",
            "  Downloading idna-2.10-py2.py3-none-any.whl (58 kB)\n",
            "\u001b[K     |████████████████████████████████| 58 kB 18.0 MB/s  eta 0:00:01\n",
            "\u001b[?25hCollecting sqlparse\n",
            "  Downloading sqlparse-0.4.3-py3-none-any.whl (42 kB)\n",
            "\u001b[K     |████████████████████████████████| 42 kB 3.2 MB/s s eta 0:00:01\n",
            "\u001b[?25hCollecting pytz==2021.1\n",
            "  Downloading pytz-2021.1-py2.py3-none-any.whl (510 kB)\n",
            "\u001b[K     |████████████████████████████████| 510 kB 143.4 MB/s eta 0:00:01\n",
            "\u001b[?25hCollecting elucidatacmapPy==3.3.4\n",
            "  Downloading elucidatacmapPy-3.3.4-py3-none-any.whl (134 kB)\n",
            "\u001b[K     |████████████████████████████████| 134 kB 147.5 MB/s eta 0:00:01\n",
            "\u001b[?25hCollecting pydantic==1.9.1\n",
            "  Downloading pydantic-1.9.1-cp310-cp310-manylinux_2_17_x86_64.manylinux2014_x86_64.whl (12.0 MB)\n",
            "\u001b[K     |████████████████████████████████| 12.0 MB 134.4 MB/s eta 0:00:01\n",
            "\u001b[?25hCollecting rst2txt\n",
            "  Downloading rst2txt-1.1.0-py2.py3-none-any.whl (12 kB)\n",
            "Collecting tqdm\n",
            "  Downloading tqdm-4.64.1-py2.py3-none-any.whl (78 kB)\n",
            "\u001b[K     |████████████████████████████████| 78 kB 21.4 MB/s  eta 0:00:01\n",
            "\u001b[?25hCollecting python-jose>=3.3.0\n",
            "  Downloading python_jose-3.3.0-py2.py3-none-any.whl (33 kB)\n",
            "Collecting datapane\n",
            "  Downloading datapane-0.15.4-py3-none-any.whl (7.4 MB)\n",
            "\u001b[K     |████████████████████████████████| 7.4 MB 136.7 MB/s eta 0:00:01\n",
            "\u001b[?25hCollecting elucidatacloudpathlib==0.6.6\n",
            "  Downloading elucidatacloudpathlib-0.6.6-py3-none-any.whl (50 kB)\n",
            "\u001b[K     |████████████████████████████████| 50 kB 10.8 MB/s  eta 0:00:01\n",
            "\u001b[?25hCollecting Cerberus==1.3.2\n",
            "  Downloading Cerberus-1.3.2.tar.gz (52 kB)\n",
            "\u001b[K     |████████████████████████████████| 52 kB 3.1 MB/s s eta 0:00:01\n",
            "\u001b[?25hCollecting chardet==4.0.0\n",
            "  Downloading chardet-4.0.0-py2.py3-none-any.whl (178 kB)\n",
            "\u001b[K     |████████████████████████████████| 178 kB 133.2 MB/s eta 0:00:01\n",
            "\u001b[?25hCollecting pandas\n",
            "  Downloading pandas-1.5.1-cp310-cp310-manylinux_2_17_x86_64.manylinux2014_x86_64.whl (12.1 MB)\n",
            "\u001b[K     |████████████████████████████████| 12.1 MB 133.0 MB/s eta 0:00:01\n",
            "\u001b[?25hCollecting beautifulsoup4\n",
            "  Downloading beautifulsoup4-4.11.1-py3-none-any.whl (128 kB)\n",
            "\u001b[K     |████████████████████████████████| 128 kB 135.0 MB/s eta 0:00:01\n",
            "\u001b[?25hCollecting botocore>=1.20.73\n",
            "  Downloading botocore-1.29.3-py3-none-any.whl (9.8 MB)\n",
            "\u001b[K     |████████████████████████████████| 9.8 MB 126.1 MB/s eta 0:00:01\n",
            "\u001b[?25hCollecting certifi==2021.10.8\n",
            "  Downloading certifi-2021.10.8-py2.py3-none-any.whl (149 kB)\n",
            "\u001b[K     |████████████████████████████████| 149 kB 136.5 MB/s eta 0:00:01\n",
            "\u001b[?25hCollecting pytest\n",
            "  Downloading pytest-7.2.0-py3-none-any.whl (316 kB)\n",
            "\u001b[K     |████████████████████████████████| 316 kB 142.7 MB/s eta 0:00:01\n",
            "\u001b[?25hCollecting urllib3==1.26.6\n",
            "  Downloading urllib3-1.26.6-py2.py3-none-any.whl (138 kB)\n",
            "\u001b[K     |████████████████████████████████| 138 kB 132.3 MB/s eta 0:00:01\n",
            "\u001b[?25hCollecting setuptools\n",
            "  Downloading setuptools-65.5.1-py3-none-any.whl (1.2 MB)\n",
            "\u001b[K     |████████████████████████████████| 1.2 MB 128.7 MB/s eta 0:00:01\n",
            "\u001b[?25hCollecting h5py>=2.6.0\n",
            "  Downloading h5py-3.7.0-cp310-cp310-manylinux_2_12_x86_64.manylinux2010_x86_64.whl (4.5 MB)\n",
            "\u001b[K     |████████████████████████████████| 4.5 MB 127.7 MB/s eta 0:00:01\n",
            "\u001b[?25hCollecting numpy>=1.11.2\n",
            "  Downloading numpy-1.23.4-cp310-cp310-manylinux_2_17_x86_64.manylinux2014_x86_64.whl (17.1 MB)\n",
            "\u001b[K     |████████████████████████████████| 17.1 MB 134.6 MB/s eta 0:00:01\n",
            "\u001b[?25hCollecting typing-extensions>=3.7.4.3\n",
            "  Downloading typing_extensions-4.4.0-py3-none-any.whl (26 kB)\n",
            "Collecting s3transfer<0.7.0,>=0.6.0\n",
            "  Downloading s3transfer-0.6.0-py3-none-any.whl (79 kB)\n",
            "\u001b[K     |████████████████████████████████| 79 kB 22.5 MB/s  eta 0:00:01\n",
            "\u001b[?25hCollecting jmespath<2.0.0,>=0.7.1\n",
            "  Downloading jmespath-1.0.1-py3-none-any.whl (20 kB)\n",
            "Collecting rsa\n",
            "  Downloading rsa-4.9-py3-none-any.whl (34 kB)\n",
            "Collecting pyasn1\n",
            "  Downloading pyasn1-0.4.8-py2.py3-none-any.whl (77 kB)\n",
            "\u001b[K     |████████████████████████████████| 77 kB 14.2 MB/s  eta 0:00:01\n",
            "\u001b[?25hCollecting ecdsa!=0.15\n",
            "  Downloading ecdsa-0.18.0-py2.py3-none-any.whl (142 kB)\n",
            "\u001b[K     |████████████████████████████████| 142 kB 146.4 MB/s eta 0:00:01\n",
            "\u001b[?25hCollecting soupsieve>1.2\n",
            "  Downloading soupsieve-2.3.2.post1-py3-none-any.whl (37 kB)\n",
            "Collecting dulwich<0.21.0,>=0.20.0\n",
            "  Downloading dulwich-0.20.50-cp310-cp310-manylinux_2_17_x86_64.manylinux2014_x86_64.whl (499 kB)\n",
            "\u001b[K     |████████████████████████████████| 499 kB 135.0 MB/s eta 0:00:01\n",
            "\u001b[?25hCollecting posthog<3.0.0,>=1.4.0\n",
            "  Downloading posthog-2.1.2-py2.py3-none-any.whl (32 kB)\n",
            "Collecting vega-datasets<1.0.0,>=0.9.0\n",
            "  Downloading vega_datasets-0.9.0-py3-none-any.whl (210 kB)\n",
            "\u001b[K     |████████████████████████████████| 210 kB 135.3 MB/s eta 0:00:01\n",
            "\u001b[?25hCollecting stringcase<2.0.0,>=1.2.0\n",
            "  Downloading stringcase-1.2.0.tar.gz (3.0 kB)\n",
            "Collecting Jinja2<4.0.0,>=3.0.0\n",
            "  Downloading Jinja2-3.1.2-py3-none-any.whl (133 kB)\n",
            "\u001b[K     |████████████████████████████████| 133 kB 141.0 MB/s eta 0:00:01\n",
            "\u001b[?25hCollecting click-spinner<0.2.0,>=0.1.8\n",
            "  Downloading click_spinner-0.1.10-py2.py3-none-any.whl (4.0 kB)\n",
            "Collecting dominate<3.0.0,>=2.4.0\n",
            "  Downloading dominate-2.7.0-py2.py3-none-any.whl (29 kB)\n",
            "Collecting toolz<0.13.0,>=0.11.0\n",
            "  Downloading toolz-0.12.0-py3-none-any.whl (55 kB)\n",
            "\u001b[K     |████████████████████████████████| 55 kB 8.8 MB/s s eta 0:00:01\n",
            "\u001b[?25hCollecting nbconvert<7.0.0,>=6.1.0\n",
            "  Downloading nbconvert-6.5.4-py3-none-any.whl (563 kB)\n",
            "\u001b[K     |████████████████████████████████| 563 kB 124.3 MB/s eta 0:00:01\n",
            "\u001b[?25hCollecting datacommons-pandas<0.0.4,>=0.0.3\n",
            "  Downloading datacommons_pandas-0.0.3-py3-none-any.whl (45 kB)\n",
            "\u001b[K     |████████████████████████████████| 45 kB 10.4 MB/s  eta 0:00:01\n",
            "\u001b[?25hCollecting tabulate<0.9.0,>=0.8.0\n",
            "  Downloading tabulate-0.8.10-py3-none-any.whl (29 kB)\n",
            "Collecting requests-toolbelt<0.10.0,>=0.9.1\n",
            "  Downloading requests_toolbelt-0.9.1-py2.py3-none-any.whl (54 kB)\n",
            "\u001b[K     |████████████████████████████████| 54 kB 5.9 MB/s s eta 0:00:01\n",
            "\u001b[?25hCollecting lxml<5.0.0,>=4.0.0\n",
            "  Downloading lxml-4.9.1-cp310-cp310-manylinux_2_17_x86_64.manylinux2014_x86_64.manylinux_2_24_x86_64.whl (6.9 MB)\n",
            "\u001b[K     |████████████████████████████████| 6.9 MB 123.4 MB/s eta 0:00:01\n",
            "\u001b[?25hCollecting boltons<22.0.0,>=20.0.0\n",
            "  Downloading boltons-21.0.0-py2.py3-none-any.whl (193 kB)\n",
            "\u001b[K     |████████████████████████████████| 193 kB 137.9 MB/s eta 0:00:01\n",
            "\u001b[?25hCollecting furl<3.0.0,>=2.0.0\n",
            "  Downloading furl-2.1.3-py2.py3-none-any.whl (20 kB)\n",
            "Collecting importlib_resources<6.0.0,>=3.0.0\n",
            "  Downloading importlib_resources-5.10.0-py3-none-any.whl (34 kB)\n"
          ]
        },
        {
          "name": "stdout",
          "output_type": "stream",
          "text": [
            "Collecting ipynbname<2022.0.0,>=2021.3.2\n",
            "  Downloading ipynbname-2021.3.2-py3-none-any.whl (4.0 kB)\n",
            "Collecting click<9.0.0,>=7.1.0\n",
            "  Downloading click-8.1.3-py3-none-any.whl (96 kB)\n",
            "\u001b[K     |████████████████████████████████| 96 kB 15.8 MB/s  eta 0:00:01\n",
            "\u001b[?25hCollecting validators<0.21.0,>=0.18.0\n",
            "  Downloading validators-0.20.0.tar.gz (30 kB)\n",
            "Collecting dacite<2.0.0,>=1.0.2\n",
            "  Downloading dacite-1.6.0-py3-none-any.whl (12 kB)\n",
            "Collecting PyYAML<7.0.0,>=5.4.0\n",
            "  Downloading PyYAML-6.0-cp310-cp310-manylinux_2_5_x86_64.manylinux1_x86_64.manylinux_2_12_x86_64.manylinux2010_x86_64.whl (682 kB)\n",
            "\u001b[K     |████████████████████████████████| 682 kB 127.8 MB/s eta 0:00:01\n",
            "\u001b[?25hCollecting glom<23.0.0,>=20.11.0\n",
            "  Downloading glom-22.1.0-py2.py3-none-any.whl (100 kB)\n",
            "\u001b[K     |████████████████████████████████| 100 kB 28.0 MB/s eta 0:00:01\n",
            "\u001b[?25hCollecting pyarrow<7.0.0,>=3.0.0\n",
            "  Downloading pyarrow-6.0.1-cp310-cp310-manylinux_2_17_x86_64.manylinux2014_x86_64.whl (25.6 MB)\n",
            "\u001b[K     |████████████████████████████████| 25.6 MB 130.7 MB/s eta 0:00:01\n",
            "\u001b[?25hCollecting micawber>=0.5.0\n",
            "  Downloading micawber-0.5.4.tar.gz (18 kB)\n",
            "Collecting packaging<22.0.0,>=20.0.0\n",
            "  Downloading packaging-21.3-py3-none-any.whl (40 kB)\n",
            "\u001b[K     |████████████████████████████████| 40 kB 14.9 MB/s  eta 0:00:01\n",
            "\u001b[?25hCollecting colorlog<7.0.0,>=4.1.0\n",
            "  Downloading colorlog-6.7.0-py2.py3-none-any.whl (11 kB)\n",
            "Collecting datacommons<2.0.0,>=1.4.3\n",
            "  Downloading datacommons-1.4.3-py3-none-any.whl (46 kB)\n",
            "\u001b[K     |████████████████████████████████| 46 kB 11.8 MB/s  eta 0:00:01\n",
            "\u001b[?25hCollecting jsonschema<5.0.0,>=3.2.0\n",
            "  Downloading jsonschema-4.17.0-py3-none-any.whl (83 kB)\n",
            "\u001b[K     |████████████████████████████████| 83 kB 6.9 MB/s s eta 0:00:01\n",
            "\u001b[?25hCollecting altair<5.0.0,>=4.0.0\n",
            "  Downloading altair-4.2.0-py3-none-any.whl (812 kB)\n",
            "\u001b[K     |████████████████████████████████| 812 kB 137.7 MB/s eta 0:00:01\n",
            "\u001b[?25hCollecting munch<3.0.0,>=2.3.0\n",
            "  Downloading munch-2.5.0-py2.py3-none-any.whl (10 kB)\n",
            "Collecting entrypoints\n",
            "  Downloading entrypoints-0.4-py3-none-any.whl (5.3 kB)\n",
            "Collecting orderedmultidict>=1.0.1\n",
            "  Downloading orderedmultidict-1.0.1-py2.py3-none-any.whl (11 kB)\n",
            "Collecting attrs\n",
            "  Downloading attrs-22.1.0-py2.py3-none-any.whl (58 kB)\n",
            "\u001b[K     |████████████████████████████████| 58 kB 17.0 MB/s  eta 0:00:01\n",
            "\u001b[?25hCollecting face>=20.1.0\n",
            "  Downloading face-22.0.0-py3-none-any.whl (54 kB)\n",
            "\u001b[K     |████████████████████████████████| 54 kB 8.4 MB/s s eta 0:00:01\n",
            "\u001b[?25hCollecting ipykernel\n",
            "  Downloading ipykernel-6.17.0-py3-none-any.whl (138 kB)\n",
            "\u001b[K     |████████████████████████████████| 138 kB 136.4 MB/s eta 0:00:01\n",
            "\u001b[?25hCollecting MarkupSafe>=2.0\n",
            "  Downloading MarkupSafe-2.1.1-cp310-cp310-manylinux_2_17_x86_64.manylinux2014_x86_64.whl (25 kB)\n",
            "Collecting pyrsistent!=0.17.0,!=0.17.1,!=0.17.2,>=0.14.0\n",
            "  Downloading pyrsistent-0.19.2-py3-none-any.whl (57 kB)\n",
            "\u001b[K     |████████████████████████████████| 57 kB 15.5 MB/s  eta 0:00:01\n",
            "\u001b[?25hCollecting defusedxml\n",
            "  Downloading defusedxml-0.7.1-py2.py3-none-any.whl (25 kB)\n",
            "Collecting bleach\n",
            "  Downloading bleach-5.0.1-py3-none-any.whl (160 kB)\n",
            "\u001b[K     |████████████████████████████████| 160 kB 139.7 MB/s eta 0:00:01\n",
            "\u001b[?25hCollecting nbformat>=5.1\n",
            "  Downloading nbformat-5.7.0-py3-none-any.whl (77 kB)\n",
            "\u001b[K     |████████████████████████████████| 77 kB 18.1 MB/s  eta 0:00:01\n",
            "\u001b[?25hCollecting jupyter-core>=4.7\n",
            "  Downloading jupyter_core-4.11.2-py3-none-any.whl (88 kB)\n",
            "\u001b[K     |████████████████████████████████| 88 kB 22.9 MB/s  eta 0:00:01\n",
            "\u001b[?25hCollecting nbclient>=0.5.0\n",
            "  Downloading nbclient-0.7.0-py3-none-any.whl (71 kB)\n",
            "\u001b[K     |████████████████████████████████| 71 kB 584 kB/s s eta 0:00:01\n",
            "\u001b[?25hCollecting pygments>=2.4.1\n",
            "  Downloading Pygments-2.13.0-py3-none-any.whl (1.1 MB)\n",
            "\u001b[K     |████████████████████████████████| 1.1 MB 143.7 MB/s eta 0:00:01\n",
            "\u001b[?25hCollecting pandocfilters>=1.4.1\n",
            "  Downloading pandocfilters-1.5.0-py2.py3-none-any.whl (8.7 kB)\n",
            "Collecting traitlets>=5.0\n",
            "  Downloading traitlets-5.5.0-py3-none-any.whl (107 kB)\n",
            "\u001b[K     |████████████████████████████████| 107 kB 128.4 MB/s eta 0:00:01\n",
            "\u001b[?25hCollecting jupyterlab-pygments\n",
            "  Downloading jupyterlab_pygments-0.2.2-py2.py3-none-any.whl (21 kB)\n",
            "Collecting mistune<2,>=0.8.1\n",
            "  Downloading mistune-0.8.4-py2.py3-none-any.whl (16 kB)\n",
            "Collecting tinycss2\n",
            "  Downloading tinycss2-1.2.1-py3-none-any.whl (21 kB)\n",
            "Collecting nest-asyncio\n",
            "  Downloading nest_asyncio-1.5.6-py3-none-any.whl (5.2 kB)\n",
            "Collecting jupyter-client>=6.1.5\n",
            "  Downloading jupyter_client-7.4.4-py3-none-any.whl (132 kB)\n",
            "\u001b[K     |████████████████████████████████| 132 kB 123.8 MB/s eta 0:00:01\n",
            "\u001b[?25hCollecting tornado>=6.2\n",
            "  Downloading tornado-6.2-cp37-abi3-manylinux_2_5_x86_64.manylinux1_x86_64.manylinux_2_17_x86_64.manylinux2014_x86_64.whl (423 kB)\n",
            "\u001b[K     |████████████████████████████████| 423 kB 141.6 MB/s eta 0:00:01\n",
            "\u001b[?25hCollecting pyzmq>=23.0\n",
            "  Downloading pyzmq-24.0.1-cp310-cp310-manylinux_2_17_x86_64.manylinux2014_x86_64.whl (1.1 MB)\n",
            "\u001b[K     |████████████████████████████████| 1.1 MB 127.7 MB/s eta 0:00:01\n",
            "\u001b[?25hCollecting fastjsonschema\n",
            "  Downloading fastjsonschema-2.16.2-py3-none-any.whl (22 kB)\n",
            "Collecting pyparsing!=3.0.5,>=2.0.2\n",
            "  Downloading pyparsing-3.0.9-py3-none-any.whl (98 kB)\n",
            "\u001b[K     |████████████████████████████████| 98 kB 20.8 MB/s  eta 0:00:01\n",
            "\u001b[?25hCollecting monotonic>=1.5\n",
            "  Downloading monotonic-1.6-py2.py3-none-any.whl (8.2 kB)\n",
            "Collecting backoff<2.0.0,>=1.10.0\n",
            "  Downloading backoff-1.11.1-py2.py3-none-any.whl (13 kB)\n",
            "Collecting decorator>=3.4.0\n",
            "  Downloading decorator-5.1.1-py3-none-any.whl (9.1 kB)\n",
            "Collecting webencodings\n",
            "  Downloading webencodings-0.5.1-py2.py3-none-any.whl (11 kB)\n",
            "Collecting wrapt<2,>=1.10\n",
            "  Downloading wrapt-1.14.1-cp310-cp310-manylinux_2_5_x86_64.manylinux1_x86_64.manylinux_2_17_x86_64.manylinux2014_x86_64.whl (77 kB)\n",
            "\u001b[K     |████████████████████████████████| 77 kB 17.4 MB/s  eta 0:00:01\n",
            "\u001b[?25hCollecting psutil\n",
            "  Downloading psutil-5.9.3-cp310-cp310-manylinux_2_12_x86_64.manylinux2010_x86_64.manylinux_2_17_x86_64.manylinux2014_x86_64.whl (292 kB)\n",
            "\u001b[K     |████████████████████████████████| 292 kB 131.3 MB/s eta 0:00:01\n",
            "\u001b[?25hCollecting debugpy>=1.0\n",
            "  Downloading debugpy-1.6.3-cp310-cp310-manylinux_2_5_x86_64.manylinux1_x86_64.manylinux_2_12_x86_64.manylinux2010_x86_64.whl (1.8 MB)\n",
            "\u001b[K     |████████████████████████████████| 1.8 MB 110.3 MB/s eta 0:00:01\n",
            "\u001b[?25hCollecting ipython>=7.23.1\n",
            "  Downloading ipython-8.6.0-py3-none-any.whl (761 kB)\n",
            "\u001b[K     |████████████████████████████████| 761 kB 125.9 MB/s eta 0:00:01\n",
            "\u001b[?25hCollecting matplotlib-inline>=0.1\n",
            "  Downloading matplotlib_inline-0.1.6-py3-none-any.whl (9.4 kB)\n",
            "Collecting stack-data\n",
            "  Downloading stack_data-0.6.0-py3-none-any.whl (24 kB)\n",
            "Collecting prompt-toolkit<3.1.0,>3.0.1\n",
            "  Downloading prompt_toolkit-3.0.32-py3-none-any.whl (382 kB)\n",
            "\u001b[K     |████████████████████████████████| 382 kB 133.5 MB/s eta 0:00:01\n",
            "\u001b[?25hCollecting jedi>=0.16\n",
            "  Downloading jedi-0.18.1-py2.py3-none-any.whl (1.6 MB)\n",
            "\u001b[K     |████████████████████████████████| 1.6 MB 125.3 MB/s eta 0:00:01\n",
            "\u001b[?25hCollecting backcall\n",
            "  Downloading backcall-0.2.0-py2.py3-none-any.whl (11 kB)\n",
            "Collecting pexpect>4.3\n",
            "  Downloading pexpect-4.8.0-py2.py3-none-any.whl (59 kB)\n",
            "\u001b[K     |████████████████████████████████| 59 kB 18.6 MB/s  eta 0:00:01\n",
            "\u001b[?25hCollecting pickleshare\n",
            "  Downloading pickleshare-0.7.5-py2.py3-none-any.whl (6.9 kB)\n",
            "Collecting parso<0.9.0,>=0.8.0\n",
            "  Downloading parso-0.8.3-py2.py3-none-any.whl (100 kB)\n",
            "\u001b[K     |████████████████████████████████| 100 kB 25.8 MB/s eta 0:00:01\n",
            "\u001b[?25hCollecting ptyprocess>=0.5\n",
            "  Downloading ptyprocess-0.7.0-py2.py3-none-any.whl (13 kB)\n",
            "Collecting wcwidth\n",
            "  Downloading wcwidth-0.2.5-py2.py3-none-any.whl (30 kB)\n",
            "Collecting tenacity>=6.2.0\n",
            "  Downloading tenacity-8.1.0-py3-none-any.whl (23 kB)\n",
            "Collecting tomli>=1.0.0\n",
            "  Downloading tomli-2.0.1-py3-none-any.whl (12 kB)\n",
            "Collecting exceptiongroup>=1.0.0rc8\n",
            "  Downloading exceptiongroup-1.0.1-py3-none-any.whl (12 kB)\n",
            "Collecting iniconfig\n",
            "  Downloading iniconfig-1.1.1-py2.py3-none-any.whl (5.0 kB)\n",
            "Collecting pluggy<2.0,>=0.12\n",
            "  Downloading pluggy-1.0.0-py2.py3-none-any.whl (13 kB)\n",
            "Collecting docutils>=0.11\n",
            "  Downloading docutils-0.19-py3-none-any.whl (570 kB)\n",
            "\u001b[K     |████████████████████████████████| 570 kB 122.0 MB/s eta 0:00:01\n"
          ]
        },
        {
          "name": "stdout",
          "output_type": "stream",
          "text": [
            "\u001b[?25hCollecting pure-eval\n",
            "  Downloading pure_eval-0.2.2-py3-none-any.whl (11 kB)\n",
            "Collecting executing>=1.2.0\n",
            "  Downloading executing-1.2.0-py2.py3-none-any.whl (24 kB)\n",
            "Collecting asttokens>=2.1.0\n",
            "  Downloading asttokens-2.1.0-py2.py3-none-any.whl (26 kB)\n",
            "Using legacy 'setup.py install' for Cerberus, since package 'wheel' is not installed.\n",
            "Using legacy 'setup.py install' for retrying, since package 'wheel' is not installed.\n",
            "Using legacy 'setup.py install' for micawber, since package 'wheel' is not installed.\n",
            "Using legacy 'setup.py install' for stringcase, since package 'wheel' is not installed.\n",
            "Using legacy 'setup.py install' for validators, since package 'wheel' is not installed.\n",
            "Installing collected packages: six, wcwidth, traitlets, pyrsistent, pure-eval, ptyprocess, parso, executing, attrs, asttokens, tornado, stack-data, pyzmq, python-dateutil, pyparsing, pygments, prompt-toolkit, pickleshare, pexpect, nest-asyncio, matplotlib-inline, jupyter-core, jsonschema, jedi, fastjsonschema, entrypoints, decorator, backcall, webencodings, urllib3, soupsieve, pytz, psutil, packaging, numpy, nbformat, MarkupSafe, jupyter-client, jmespath, ipython, idna, debugpy, chardet, certifi, boltons, typing-extensions, toolz, tinycss2, requests, pyasn1, pandocfilters, pandas, orderedmultidict, nbclient, monotonic, mistune, lxml, jupyterlab-pygments, Jinja2, ipykernel, face, defusedxml, botocore, bleach, beautifulsoup4, backoff, wrapt, vega-datasets, validators, tomli, tenacity, tabulate, stringcase, setuptools, s3transfer, rsa, requests-toolbelt, PyYAML, python-magic, pydantic, pyarrow, posthog, pluggy, nbconvert, munch, micawber, ipynbname, iniconfig, importlib-resources, h5py, glom, furl, exceptiongroup, ecdsa, dulwich, dominate, docutils, datacommons-pandas, datacommons, dacite, colorlog, click-spinner, click, altair, tqdm, sqlparse, rst2txt, retrying, python-jose, pytest, postpy2, plotly, joblib, elucidatacmapPy, elucidatacloudpathlib, Deprecated, datapane, Cerberus, boto3, polly-python\n",
            "    Running setup.py install for validators ... \u001b[?25ldone\n",
            "\u001b[?25h    Running setup.py install for stringcase ... \u001b[?25ldone\n",
            "\u001b[?25h    Running setup.py install for micawber ... \u001b[?25ldone\n",
            "\u001b[?25h    Running setup.py install for retrying ... \u001b[?25ldone\n",
            "\u001b[?25h    Running setup.py install for Cerberus ... \u001b[?25ldone\n",
            "\u001b[31mERROR: pip's dependency resolver does not currently take into account all the packages that are installed. This behaviour is the source of the following dependency conflicts.\n",
            "voila 0.2.10 requires jupyter-client<7,>=6.1.3, but you have jupyter-client 7.4.4 which is incompatible.\n",
            "voila 0.2.10 requires nbclient<0.6,>=0.4.0, but you have nbclient 0.7.0 which is incompatible.\n",
            "awscli 1.22.74 requires botocore==1.24.19, but you have botocore 1.29.3 which is incompatible.\n",
            "awscli 1.22.74 requires docutils<0.16,>=0.10, but you have docutils 0.19 which is incompatible.\n",
            "awscli 1.22.74 requires PyYAML<5.5,>=3.10, but you have pyyaml 6.0 which is incompatible.\n",
            "awscli 1.22.74 requires rsa<4.8,>=3.1.2, but you have rsa 4.9 which is incompatible.\n",
            "awscli 1.22.74 requires s3transfer<0.6.0,>=0.5.0, but you have s3transfer 0.6.0 which is incompatible.\u001b[0m\n",
            "\u001b[?25hSuccessfully installed Cerberus-1.3.2 Deprecated-1.2.13 Jinja2-3.1.2 MarkupSafe-2.1.1 PyYAML-6.0 altair-4.2.0 asttokens-2.1.0 attrs-22.1.0 backcall-0.2.0 backoff-1.11.1 beautifulsoup4-4.11.1 bleach-5.0.1 boltons-21.0.0 boto3-1.26.3 botocore-1.29.3 certifi-2021.10.8 chardet-4.0.0 click-8.1.3 click-spinner-0.1.10 colorlog-6.7.0 dacite-1.6.0 datacommons-1.4.3 datacommons-pandas-0.0.3 datapane-0.15.4 debugpy-1.6.3 decorator-5.1.1 defusedxml-0.7.1 docutils-0.19 dominate-2.7.0 dulwich-0.20.50 ecdsa-0.18.0 elucidatacloudpathlib-0.6.6 elucidatacmapPy-3.3.4 entrypoints-0.4 exceptiongroup-1.0.1 executing-1.2.0 face-22.0.0 fastjsonschema-2.16.2 furl-2.1.3 glom-22.1.0 h5py-3.7.0 idna-2.10 importlib-resources-5.10.0 iniconfig-1.1.1 ipykernel-6.17.0 ipynbname-2021.3.2 ipython-8.6.0 jedi-0.18.1 jmespath-1.0.1 joblib-1.2.0 jsonschema-4.17.0 jupyter-client-7.4.4 jupyter-core-4.11.2 jupyterlab-pygments-0.2.2 lxml-4.9.1 matplotlib-inline-0.1.6 micawber-0.5.4 mistune-0.8.4 monotonic-1.6 munch-2.5.0 nbclient-0.7.0 nbconvert-6.5.4 nbformat-5.7.0 nest-asyncio-1.5.6 numpy-1.23.4 orderedmultidict-1.0.1 packaging-21.3 pandas-1.5.1 pandocfilters-1.5.0 parso-0.8.3 pexpect-4.8.0 pickleshare-0.7.5 plotly-5.11.0 pluggy-1.0.0 polly-python-0.2.4 posthog-2.1.2 postpy2-0.0.6 prompt-toolkit-3.0.32 psutil-5.9.3 ptyprocess-0.7.0 pure-eval-0.2.2 pyarrow-6.0.1 pyasn1-0.4.8 pydantic-1.9.1 pygments-2.13.0 pyparsing-3.0.9 pyrsistent-0.19.2 pytest-7.2.0 python-dateutil-2.8.2 python-jose-3.3.0 python-magic-0.4.24 pytz-2021.1 pyzmq-24.0.1 requests-2.25.1 requests-toolbelt-0.9.1 retrying-1.3.3 rsa-4.9 rst2txt-1.1.0 s3transfer-0.6.0 setuptools-65.5.1 six-1.16.0 soupsieve-2.3.2.post1 sqlparse-0.4.3 stack-data-0.6.0 stringcase-1.2.0 tabulate-0.8.10 tenacity-8.1.0 tinycss2-1.2.1 tomli-2.0.1 toolz-0.12.0 tornado-6.2 tqdm-4.64.1 traitlets-5.5.0 typing-extensions-4.4.0 urllib3-1.26.6 validators-0.20.0 vega-datasets-0.9.0 wcwidth-0.2.5 webencodings-0.5.1 wrapt-1.14.1\n",
            "\u001b[33mWARNING: You are using pip version 21.2.4; however, version 22.3 is available.\n",
            "You should consider upgrading via the '/usr/local/bin/python3.10 -m pip install --upgrade pip' command.\u001b[0m\n"
          ]
        }
      ],
      "source": [
        "!pip3 install https://elucidatainc.github.io/PublicAssets/builds/polly-python/tests/testpolly/polly_python-0.2.4_clinical-py3-none-any.whl --force-reinstall"
      ]
    },
    {
      "cell_type": "code",
      "execution_count": 1,
      "metadata": {},
      "outputs": [],
      "source": [
        "import os\n",
        "import json\n",
        "import pandas as pd\n",
        "from polly.auth import Polly\n",
        "from polly.curation  import Curation"
      ]
    },
    {
      "cell_type": "code",
      "execution_count": 2,
      "metadata": {},
      "outputs": [],
      "source": [
        "token = os.environ['POLLY_REFRESH_TOKEN']"
      ]
    },
    {
      "cell_type": "code",
      "execution_count": 3,
      "metadata": {},
      "outputs": [],
      "source": [
        "Polly.auth(token)"
      ]
    },
    {
      "cell_type": "code",
      "execution_count": 4,
      "metadata": {},
      "outputs": [],
      "source": [
        "obj = Curation()"
      ]
    },
    {
      "cell_type": "code",
      "execution_count": 5,
      "metadata": {},
      "outputs": [
        {
          "name": "stderr",
          "output_type": "stream",
          "text": [
            "INFO:root:Cohort Created !\n"
          ]
        },
        {
          "name": "stdout",
          "output_type": "stream",
          "text": [
            "Initializing process...\n",
            "Adding data to cohort...\n",
            "Adding metadata to cohort...\n"
          ]
        },
        {
          "name": "stderr",
          "output_type": "stream",
          "text": [
            "INFO:cmap_logger:parsing gct file\n",
            "INFO:cmap_logger:Reading GCT: .cache/sample_metadata_query.pco/geo_GSE152430_GPL18573.gct\n",
            "INFO:root:'49' sample/s added to Cohort!\n",
            "INFO:cmap_logger:parsing gct file\n",
            "INFO:cmap_logger:Reading GCT: ./.cache/sample_metadata_query.pco/geo_GSE152430_GPL18573.gct\n",
            "INFO:root: 1 dataset removed from Cohort!\n"
          ]
        },
        {
          "name": "stdout",
          "output_type": "stream",
          "text": [
            "Initializing process...\n",
            "Adding data to cohort...\n",
            "Adding metadata to cohort...\n"
          ]
        },
        {
          "name": "stderr",
          "output_type": "stream",
          "text": [
            "INFO:cmap_logger:parsing gct file\n",
            "INFO:cmap_logger:Reading GCT: .cache/sample_metadata_query.pco/geo_GSE35643_GPL6244.gct\n",
            "INFO:root:'12' sample/s added to Cohort!\n",
            "INFO:cmap_logger:parsing gct file\n",
            "INFO:cmap_logger:Reading GCT: ./.cache/sample_metadata_query.pco/geo_GSE35643_GPL6244.gct\n",
            "INFO:root: 1 dataset removed from Cohort!\n"
          ]
        }
      ],
      "source": [
        "# Dataset level inference\n",
        "\n",
        "result = obj.assign_clinical_labels(\n",
        "    repo_name=\"geo\", dataset_ids=[\"GSE152430_GPL18573\", \"GSE35643_GPL6244\"]\n",
        ")"
      ]
    },
    {
      "cell_type": "code",
      "execution_count": 6,
      "metadata": {},
      "outputs": [
        {
          "data": {
            "text/html": [
              "<div>\n",
              "<style scoped>\n",
              "    .dataframe tbody tr th:only-of-type {\n",
              "        vertical-align: middle;\n",
              "    }\n",
              "\n",
              "    .dataframe tbody tr th {\n",
              "        vertical-align: top;\n",
              "    }\n",
              "\n",
              "    .dataframe thead th {\n",
              "        text-align: right;\n",
              "    }\n",
              "</style>\n",
              "<table border=\"1\" class=\"dataframe\">\n",
              "  <thead>\n",
              "    <tr style=\"text-align: right;\">\n",
              "      <th></th>\n",
              "      <th>dataset_id</th>\n",
              "      <th>clinical_tag</th>\n",
              "    </tr>\n",
              "  </thead>\n",
              "  <tbody>\n",
              "    <tr>\n",
              "      <th>0</th>\n",
              "      <td>GSE152430_GPL18573</td>\n",
              "      <td>Clinical</td>\n",
              "    </tr>\n",
              "    <tr>\n",
              "      <th>1</th>\n",
              "      <td>GSE35643_GPL6244</td>\n",
              "      <td>Non Clinical</td>\n",
              "    </tr>\n",
              "  </tbody>\n",
              "</table>\n",
              "</div>"
            ],
            "text/plain": [
              "           dataset_id  clinical_tag\n",
              "0  GSE152430_GPL18573      Clinical\n",
              "1    GSE35643_GPL6244  Non Clinical"
            ]
          },
          "execution_count": 6,
          "metadata": {},
          "output_type": "execute_result"
        }
      ],
      "source": [
        "result"
      ]
    },
    {
      "cell_type": "code",
      "execution_count": 7,
      "metadata": {},
      "outputs": [
        {
          "name": "stderr",
          "output_type": "stream",
          "text": [
            "INFO:root:Cohort Created !\n"
          ]
        },
        {
          "name": "stdout",
          "output_type": "stream",
          "text": [
            "Initializing process...\n",
            "Adding data to cohort...\n",
            "Adding metadata to cohort...\n"
          ]
        },
        {
          "name": "stderr",
          "output_type": "stream",
          "text": [
            "INFO:cmap_logger:parsing gct file\n",
            "INFO:cmap_logger:Reading GCT: .cache/sample_metadata_query.pco/geo_GSE152430_GPL18573.gct\n",
            "INFO:root:'49' sample/s added to Cohort!\n",
            "INFO:cmap_logger:parsing gct file\n",
            "INFO:cmap_logger:Reading GCT: ./.cache/sample_metadata_query.pco/geo_GSE152430_GPL18573.gct\n",
            "INFO:root: 1 dataset removed from Cohort!\n"
          ]
        },
        {
          "name": "stdout",
          "output_type": "stream",
          "text": [
            "Initializing process...\n",
            "Adding data to cohort...\n",
            "Adding metadata to cohort...\n"
          ]
        },
        {
          "name": "stderr",
          "output_type": "stream",
          "text": [
            "INFO:cmap_logger:parsing gct file\n",
            "INFO:cmap_logger:Reading GCT: .cache/sample_metadata_query.pco/geo_GSE35643_GPL6244.gct\n",
            "INFO:root:'12' sample/s added to Cohort!\n",
            "INFO:cmap_logger:parsing gct file\n",
            "INFO:cmap_logger:Reading GCT: ./.cache/sample_metadata_query.pco/geo_GSE35643_GPL6244.gct\n",
            "INFO:root: 1 dataset removed from Cohort!\n"
          ]
        }
      ],
      "source": [
        "# Sample level inference\n",
        "\n",
        "result = obj.assign_clinical_labels(\n",
        "    repo_name=\"geo\",\n",
        "    dataset_ids=[\"GSE152430_GPL18573\", \"GSE35643_GPL6244\"],\n",
        "    sample_ids=[\n",
        "        \"GSM4615218\",\n",
        "        \"GSM4615219\",\n",
        "        \"GSM4615220\",\n",
        "        \"GSM872418\",\n",
        "        \"GSM872419\",\n",
        "        \"GSM872420\",\n",
        "        \"GSM872421\",\n",
        "    ],\n",
        ")"
      ]
    },
    {
      "cell_type": "code",
      "execution_count": 8,
      "metadata": {},
      "outputs": [
        {
          "data": {
            "text/html": [
              "<div>\n",
              "<style scoped>\n",
              "    .dataframe tbody tr th:only-of-type {\n",
              "        vertical-align: middle;\n",
              "    }\n",
              "\n",
              "    .dataframe tbody tr th {\n",
              "        vertical-align: top;\n",
              "    }\n",
              "\n",
              "    .dataframe thead th {\n",
              "        text-align: right;\n",
              "    }\n",
              "</style>\n",
              "<table border=\"1\" class=\"dataframe\">\n",
              "  <thead>\n",
              "    <tr style=\"text-align: right;\">\n",
              "      <th></th>\n",
              "      <th>dataset_id</th>\n",
              "      <th>sample_id</th>\n",
              "      <th>clinical_tag</th>\n",
              "    </tr>\n",
              "  </thead>\n",
              "  <tbody>\n",
              "    <tr>\n",
              "      <th>0</th>\n",
              "      <td>GSE152430_GPL18573</td>\n",
              "      <td>GSM4615218</td>\n",
              "      <td>Clinical</td>\n",
              "    </tr>\n",
              "    <tr>\n",
              "      <th>1</th>\n",
              "      <td>GSE152430_GPL18573</td>\n",
              "      <td>GSM4615219</td>\n",
              "      <td>Clinical</td>\n",
              "    </tr>\n",
              "    <tr>\n",
              "      <th>2</th>\n",
              "      <td>GSE152430_GPL18573</td>\n",
              "      <td>GSM4615220</td>\n",
              "      <td>Clinical</td>\n",
              "    </tr>\n",
              "    <tr>\n",
              "      <th>3</th>\n",
              "      <td>GSE35643_GPL6244</td>\n",
              "      <td>GSM872418</td>\n",
              "      <td>Non Clinical</td>\n",
              "    </tr>\n",
              "    <tr>\n",
              "      <th>4</th>\n",
              "      <td>GSE35643_GPL6244</td>\n",
              "      <td>GSM872419</td>\n",
              "      <td>Non Clinical</td>\n",
              "    </tr>\n",
              "    <tr>\n",
              "      <th>5</th>\n",
              "      <td>GSE35643_GPL6244</td>\n",
              "      <td>GSM872420</td>\n",
              "      <td>Non Clinical</td>\n",
              "    </tr>\n",
              "    <tr>\n",
              "      <th>6</th>\n",
              "      <td>GSE35643_GPL6244</td>\n",
              "      <td>GSM872421</td>\n",
              "      <td>Non Clinical</td>\n",
              "    </tr>\n",
              "  </tbody>\n",
              "</table>\n",
              "</div>"
            ],
            "text/plain": [
              "           dataset_id   sample_id  clinical_tag\n",
              "0  GSE152430_GPL18573  GSM4615218      Clinical\n",
              "1  GSE152430_GPL18573  GSM4615219      Clinical\n",
              "2  GSE152430_GPL18573  GSM4615220      Clinical\n",
              "3    GSE35643_GPL6244   GSM872418  Non Clinical\n",
              "4    GSE35643_GPL6244   GSM872419  Non Clinical\n",
              "5    GSE35643_GPL6244   GSM872420  Non Clinical\n",
              "6    GSE35643_GPL6244   GSM872421  Non Clinical"
            ]
          },
          "execution_count": 8,
          "metadata": {},
          "output_type": "execute_result"
        }
      ],
      "source": [
        "result"
      ]
    },
    {
      "cell_type": "code",
      "execution_count": 9,
      "metadata": {},
      "outputs": [
        {
          "ename": "paramException",
          "evalue": "paramException (parameter error): Dataset IDs should be given as a valid list of strings",
          "output_type": "error",
          "traceback": [
            "\u001b[0;31m---------------------------------------------------------------------------\u001b[0m",
            "\u001b[0;31mparamException\u001b[0m                            Traceback (most recent call last)",
            "Cell \u001b[0;32mIn [9], line 3\u001b[0m\n\u001b[1;32m      1\u001b[0m \u001b[38;5;66;03m# Exception when dataset ids are not given as a list of strings\u001b[39;00m\n\u001b[0;32m----> 3\u001b[0m result \u001b[38;5;241m=\u001b[39m \u001b[43mobj\u001b[49m\u001b[38;5;241;43m.\u001b[39;49m\u001b[43massign_clinical_labels\u001b[49m\u001b[43m(\u001b[49m\n\u001b[1;32m      4\u001b[0m \u001b[43m    \u001b[49m\u001b[43mrepo_name\u001b[49m\u001b[38;5;241;43m=\u001b[39;49m\u001b[38;5;124;43m\"\u001b[39;49m\u001b[38;5;124;43mgeo\u001b[39;49m\u001b[38;5;124;43m\"\u001b[39;49m\u001b[43m,\u001b[49m\u001b[43m \u001b[49m\u001b[43mdataset_ids\u001b[49m\u001b[38;5;241;43m=\u001b[39;49m\u001b[38;5;124;43m\"\u001b[39;49m\u001b[38;5;124;43mGSE152430_GPL18573\u001b[39;49m\u001b[38;5;124;43m\"\u001b[39;49m\n\u001b[1;32m      5\u001b[0m \u001b[43m)\u001b[49m\n",
            "File \u001b[0;32m~/.local/lib/python3.10/site-packages/polly/curation.py:428\u001b[0m, in \u001b[0;36mCuration.assign_clinical_labels\u001b[0;34m(self, repo_name, dataset_ids, sample_ids)\u001b[0m\n\u001b[1;32m    425\u001b[0m warnings\u001b[38;5;241m.\u001b[39mformatwarning \u001b[38;5;241m=\u001b[39m \u001b[38;5;28;01mlambda\u001b[39;00m msg, \u001b[38;5;241m*\u001b[39margs, \u001b[38;5;241m*\u001b[39m\u001b[38;5;241m*\u001b[39mkwargs: \u001b[38;5;124mf\u001b[39m\u001b[38;5;124m\"\u001b[39m\u001b[38;5;124mWARNING: \u001b[39m\u001b[38;5;132;01m{\u001b[39;00mmsg\u001b[38;5;132;01m}\u001b[39;00m\u001b[38;5;130;01m\\n\u001b[39;00m\u001b[38;5;124m\"\u001b[39m\n\u001b[1;32m    427\u001b[0m \u001b[38;5;28;01mif\u001b[39;00m dataset_ids \u001b[38;5;129;01mis\u001b[39;00m \u001b[38;5;28;01mNone\u001b[39;00m \u001b[38;5;129;01mor\u001b[39;00m \u001b[38;5;28mtype\u001b[39m(dataset_ids) \u001b[38;5;129;01mis\u001b[39;00m \u001b[38;5;129;01mnot\u001b[39;00m \u001b[38;5;28mlist\u001b[39m:\n\u001b[0;32m--> 428\u001b[0m     \u001b[38;5;28;01mraise\u001b[39;00m paramException(\n\u001b[1;32m    429\u001b[0m         title\u001b[38;5;241m=\u001b[39m\u001b[38;5;124m\"\u001b[39m\u001b[38;5;124mParam Exception\u001b[39m\u001b[38;5;124m\"\u001b[39m,\n\u001b[1;32m    430\u001b[0m         detail\u001b[38;5;241m=\u001b[39m\u001b[38;5;124m\"\u001b[39m\u001b[38;5;124mDataset IDs should be given as a valid list of strings\u001b[39m\u001b[38;5;124m\"\u001b[39m,\n\u001b[1;32m    431\u001b[0m     )\n\u001b[1;32m    433\u001b[0m \u001b[38;5;28;01mif\u001b[39;00m sample_ids \u001b[38;5;129;01mis\u001b[39;00m \u001b[38;5;129;01mnot\u001b[39;00m \u001b[38;5;28;01mNone\u001b[39;00m \u001b[38;5;129;01mand\u001b[39;00m \u001b[38;5;28mtype\u001b[39m(sample_ids) \u001b[38;5;129;01mis\u001b[39;00m \u001b[38;5;129;01mnot\u001b[39;00m \u001b[38;5;28mlist\u001b[39m:\n\u001b[1;32m    434\u001b[0m     \u001b[38;5;28;01mraise\u001b[39;00m paramException(\n\u001b[1;32m    435\u001b[0m         title\u001b[38;5;241m=\u001b[39m\u001b[38;5;124m\"\u001b[39m\u001b[38;5;124mParam Exception\u001b[39m\u001b[38;5;124m\"\u001b[39m,\n\u001b[1;32m    436\u001b[0m         detail\u001b[38;5;241m=\u001b[39m\u001b[38;5;124m\"\u001b[39m\u001b[38;5;124mSample IDs should be given as a valid list of strings\u001b[39m\u001b[38;5;124m\"\u001b[39m,\n\u001b[1;32m    437\u001b[0m     )\n",
            "\u001b[0;31mparamException\u001b[0m: paramException (parameter error): Dataset IDs should be given as a valid list of strings"
          ]
        }
      ],
      "source": [
        "# Exception when dataset ids are not given as a list of strings\n",
        "\n",
        "result = obj.assign_clinical_labels(\n",
        "    repo_name=\"geo\", dataset_ids=\"GSE152430_GPL18573\"\n",
        ")"
      ]
    },
    {
      "cell_type": "code",
      "execution_count": 12,
      "metadata": {},
      "outputs": [
        {
          "ename": "paramException",
          "evalue": "paramException (parameter error): Sample IDs should be given as a valid list of strings",
          "output_type": "error",
          "traceback": [
            "\u001b[0;31m---------------------------------------------------------------------------\u001b[0m",
            "\u001b[0;31mparamException\u001b[0m                            Traceback (most recent call last)",
            "Cell \u001b[0;32mIn [12], line 3\u001b[0m\n\u001b[1;32m      1\u001b[0m \u001b[38;5;66;03m# Exception when sample ids are not given the correct format\u001b[39;00m\n\u001b[0;32m----> 3\u001b[0m result \u001b[38;5;241m=\u001b[39m \u001b[43mobj\u001b[49m\u001b[38;5;241;43m.\u001b[39;49m\u001b[43massign_clinical_labels\u001b[49m\u001b[43m(\u001b[49m\n\u001b[1;32m      4\u001b[0m \u001b[43m    \u001b[49m\u001b[43mrepo_name\u001b[49m\u001b[43m \u001b[49m\u001b[38;5;241;43m=\u001b[39;49m\u001b[43m \u001b[49m\u001b[38;5;124;43m'\u001b[39;49m\u001b[38;5;124;43mgeo\u001b[39;49m\u001b[38;5;124;43m'\u001b[39;49m\u001b[43m,\u001b[49m\n\u001b[1;32m      5\u001b[0m \u001b[43m    \u001b[49m\u001b[43mdataset_ids\u001b[49m\u001b[43m \u001b[49m\u001b[38;5;241;43m=\u001b[39;49m\u001b[43m \u001b[49m\u001b[43m[\u001b[49m\u001b[38;5;124;43m'\u001b[39;49m\u001b[38;5;124;43mGSE152430_GPL18573\u001b[39;49m\u001b[38;5;124;43m'\u001b[39;49m\u001b[43m,\u001b[49m\u001b[43m \u001b[49m\u001b[38;5;124;43m'\u001b[39;49m\u001b[38;5;124;43mGSE35643_GPL6244\u001b[39;49m\u001b[38;5;124;43m'\u001b[39;49m\u001b[43m]\u001b[49m\u001b[43m,\u001b[49m\n\u001b[1;32m      6\u001b[0m \u001b[43m    \u001b[49m\u001b[43msample_ids\u001b[49m\u001b[43m \u001b[49m\u001b[38;5;241;43m=\u001b[39;49m\u001b[43m \u001b[49m\u001b[38;5;124;43m'\u001b[39;49m\u001b[38;5;124;43mGSM1000\u001b[39;49m\u001b[38;5;124;43m'\u001b[39;49m\n\u001b[1;32m      7\u001b[0m \u001b[43m)\u001b[49m\n",
            "File \u001b[0;32m~/.local/lib/python3.10/site-packages/polly/curation.py:434\u001b[0m, in \u001b[0;36mCuration.assign_clinical_labels\u001b[0;34m(self, repo_name, dataset_ids, sample_ids)\u001b[0m\n\u001b[1;32m    428\u001b[0m     \u001b[38;5;28;01mraise\u001b[39;00m paramException(\n\u001b[1;32m    429\u001b[0m         title\u001b[38;5;241m=\u001b[39m\u001b[38;5;124m\"\u001b[39m\u001b[38;5;124mParam Exception\u001b[39m\u001b[38;5;124m\"\u001b[39m,\n\u001b[1;32m    430\u001b[0m         detail\u001b[38;5;241m=\u001b[39m\u001b[38;5;124m\"\u001b[39m\u001b[38;5;124mDataset IDs should be given as a valid list of strings\u001b[39m\u001b[38;5;124m\"\u001b[39m,\n\u001b[1;32m    431\u001b[0m     )\n\u001b[1;32m    433\u001b[0m \u001b[38;5;28;01mif\u001b[39;00m sample_ids \u001b[38;5;129;01mis\u001b[39;00m \u001b[38;5;129;01mnot\u001b[39;00m \u001b[38;5;28;01mNone\u001b[39;00m \u001b[38;5;129;01mand\u001b[39;00m \u001b[38;5;28mtype\u001b[39m(sample_ids) \u001b[38;5;129;01mis\u001b[39;00m \u001b[38;5;129;01mnot\u001b[39;00m \u001b[38;5;28mlist\u001b[39m:\n\u001b[0;32m--> 434\u001b[0m     \u001b[38;5;28;01mraise\u001b[39;00m paramException(\n\u001b[1;32m    435\u001b[0m         title\u001b[38;5;241m=\u001b[39m\u001b[38;5;124m\"\u001b[39m\u001b[38;5;124mParam Exception\u001b[39m\u001b[38;5;124m\"\u001b[39m,\n\u001b[1;32m    436\u001b[0m         detail\u001b[38;5;241m=\u001b[39m\u001b[38;5;124m\"\u001b[39m\u001b[38;5;124mSample IDs should be given as a valid list of strings\u001b[39m\u001b[38;5;124m\"\u001b[39m,\n\u001b[1;32m    437\u001b[0m     )\n\u001b[1;32m    439\u001b[0m \u001b[38;5;28;01mif\u001b[39;00m repo_name \u001b[38;5;241m!=\u001b[39m \u001b[38;5;124m\"\u001b[39m\u001b[38;5;124mgeo\u001b[39m\u001b[38;5;124m\"\u001b[39m \u001b[38;5;129;01mand\u001b[39;00m \u001b[38;5;129;01mnot\u001b[39;00m \u001b[38;5;28many\u001b[39m([\u001b[38;5;124m\"\u001b[39m\u001b[38;5;124mGSE\u001b[39m\u001b[38;5;124m\"\u001b[39m \u001b[38;5;129;01min\u001b[39;00m i \u001b[38;5;28;01mfor\u001b[39;00m i \u001b[38;5;129;01min\u001b[39;00m dataset_ids]):\n\u001b[1;32m    440\u001b[0m     warnings\u001b[38;5;241m.\u001b[39mwarn(\n\u001b[1;32m    441\u001b[0m         \u001b[38;5;124m\"\u001b[39m\u001b[38;5;124mThe model is tested with GEO metadata and the labels may be wrong for other repos\u001b[39m\u001b[38;5;124m\"\u001b[39m\n\u001b[1;32m    442\u001b[0m     )\n",
            "\u001b[0;31mparamException\u001b[0m: paramException (parameter error): Sample IDs should be given as a valid list of strings"
          ]
        }
      ],
      "source": [
        "# Exception when sample ids are not given the correct format\n",
        "\n",
        "result = obj.assign_clinical_labels(\n",
        "    repo_name = 'geo',\n",
        "    dataset_ids = ['GSE152430_GPL18573', 'GSE35643_GPL6244'],\n",
        "    sample_ids = 'GSM1000'\n",
        ")"
      ]
    },
    {
      "cell_type": "code",
      "execution_count": 10,
      "metadata": {},
      "outputs": [
        {
          "name": "stderr",
          "output_type": "stream",
          "text": [
            "WARNING: The model is tested with GEO metadata and the labels may be wrong for other repos\n",
            "INFO:root:Cohort Created !\n"
          ]
        },
        {
          "name": "stdout",
          "output_type": "stream",
          "text": [
            "Initializing process...\n"
          ]
        },
        {
          "name": "stderr",
          "output_type": "stream",
          "text": [
            "Verifying Data: 100%|██████████| 1/1 [00:01<00:00,  1.73s/it]\n",
            "Adding data to cohort: 100%|██████████| 1/1 [00:02<00:00,  2.20s/it]\n",
            "Adding metadata to cohort: 100%|██████████| 1/1 [00:01<00:00,  1.67s/it]\n",
            "INFO:root:'1' dataset/s added to Cohort!\n",
            "INFO:cmap_logger:parsing gct file\n",
            "INFO:cmap_logger:Reading GCT: ./.cache/sample_metadata_query.pco/tcga_UVM_miRNA_TCGA-VD-AA8S-01B-11R-A40B-13.gct\n",
            "INFO:root:'1' dataset/s removed from Cohort!\n"
          ]
        },
        {
          "name": "stdout",
          "output_type": "stream",
          "text": [
            "Initializing process...\n"
          ]
        },
        {
          "name": "stderr",
          "output_type": "stream",
          "text": [
            "Verifying Data: 100%|██████████| 1/1 [00:01<00:00,  1.69s/it]\n",
            "Adding data to cohort: 100%|██████████| 1/1 [00:02<00:00,  2.13s/it]\n",
            "Adding metadata to cohort: 100%|██████████| 1/1 [00:01<00:00,  1.81s/it]\n",
            "INFO:root:'1' dataset/s added to Cohort!\n",
            "INFO:cmap_logger:parsing gct file\n",
            "INFO:cmap_logger:Reading GCT: ./.cache/sample_metadata_query.pco/tcga_UVM_miRNA_TCGA-VD-A8KD-01A-11R-A40B-13.gct\n",
            "INFO:root:'1' dataset/s removed from Cohort!\n"
          ]
        }
      ],
      "source": [
        "# Warning for non-GEO repos\n",
        "\n",
        "result = obj.assign_clinical_labels(\n",
        "    repo_name=\"tcga\", dataset_ids=[\"UVM_miRNA_TCGA-VD-AA8S-01B-11R-A40B-13\", \"UVM_miRNA_TCGA-VD-A8KD-01A-11R-A40B-13\"]\n",
        ")"
      ]
    },
    {
      "cell_type": "code",
      "execution_count": 11,
      "metadata": {},
      "outputs": [
        {
          "data": {
            "text/html": [
              "<div>\n",
              "<style scoped>\n",
              "    .dataframe tbody tr th:only-of-type {\n",
              "        vertical-align: middle;\n",
              "    }\n",
              "\n",
              "    .dataframe tbody tr th {\n",
              "        vertical-align: top;\n",
              "    }\n",
              "\n",
              "    .dataframe thead th {\n",
              "        text-align: right;\n",
              "    }\n",
              "</style>\n",
              "<table border=\"1\" class=\"dataframe\">\n",
              "  <thead>\n",
              "    <tr style=\"text-align: right;\">\n",
              "      <th></th>\n",
              "      <th>dataset_id</th>\n",
              "      <th>clinical_tag</th>\n",
              "    </tr>\n",
              "  </thead>\n",
              "  <tbody>\n",
              "    <tr>\n",
              "      <th>0</th>\n",
              "      <td>UVM_miRNA_TCGA-VD-AA8S-01B-11R-A40B-13</td>\n",
              "      <td>Non Clinical</td>\n",
              "    </tr>\n",
              "    <tr>\n",
              "      <th>1</th>\n",
              "      <td>UVM_miRNA_TCGA-VD-A8KD-01A-11R-A40B-13</td>\n",
              "      <td>Non Clinical</td>\n",
              "    </tr>\n",
              "  </tbody>\n",
              "</table>\n",
              "</div>"
            ],
            "text/plain": [
              "                               dataset_id  clinical_tag\n",
              "0  UVM_miRNA_TCGA-VD-AA8S-01B-11R-A40B-13  Non Clinical\n",
              "1  UVM_miRNA_TCGA-VD-A8KD-01A-11R-A40B-13  Non Clinical"
            ]
          },
          "execution_count": 11,
          "metadata": {},
          "output_type": "execute_result"
        }
      ],
      "source": [
        "result"
      ]
    },
    {
      "cell_type": "code",
      "execution_count": 13,
      "metadata": {},
      "outputs": [
        {
          "name": "stderr",
          "output_type": "stream",
          "text": [
            "INFO:root:Cohort Created !\n"
          ]
        },
        {
          "name": "stdout",
          "output_type": "stream",
          "text": [
            "Initializing process...\n",
            "Adding data to cohort...\n",
            "Adding metadata to cohort...\n"
          ]
        },
        {
          "name": "stderr",
          "output_type": "stream",
          "text": [
            "INFO:cmap_logger:parsing gct file\n",
            "INFO:cmap_logger:Reading GCT: .cache/sample_metadata_query.pco/geo_GSE152430_GPL18573.gct\n",
            "INFO:root:'49' sample/s added to Cohort!\n",
            "INFO:cmap_logger:parsing gct file\n",
            "INFO:cmap_logger:Reading GCT: ./.cache/sample_metadata_query.pco/geo_GSE152430_GPL18573.gct\n",
            "INFO:root: 1 dataset removed from Cohort!\n"
          ]
        },
        {
          "name": "stdout",
          "output_type": "stream",
          "text": [
            "Initializing process...\n",
            "Adding data to cohort...\n",
            "Adding metadata to cohort...\n"
          ]
        },
        {
          "name": "stderr",
          "output_type": "stream",
          "text": [
            "INFO:cmap_logger:parsing gct file\n",
            "INFO:cmap_logger:Reading GCT: .cache/sample_metadata_query.pco/geo_GSE35643_GPL6244.gct\n",
            "INFO:root:'12' sample/s added to Cohort!\n",
            "INFO:cmap_logger:parsing gct file\n",
            "INFO:cmap_logger:Reading GCT: ./.cache/sample_metadata_query.pco/geo_GSE35643_GPL6244.gct\n",
            "INFO:root: 1 dataset removed from Cohort!\n",
            "WARNING: The output is empty or has missing sample ids because they are not present in given datasets.\n"
          ]
        }
      ],
      "source": [
        "# Warning when some given sample ids may be missing (GSM1000 is not from the given datasets)\n",
        "\n",
        "result = obj.assign_clinical_labels(\n",
        "    repo_name = 'geo',\n",
        "    dataset_ids = ['GSE152430_GPL18573', 'GSE35643_GPL6244'],\n",
        "    sample_ids = ['GSM4615218',\n",
        "                  'GSM4615219',\n",
        "                  'GSM4615220',\n",
        "                  'GSM872418',\n",
        "                  'GSM872419',\n",
        "                  'GSM872420',\n",
        "                  'GSM872421',\n",
        "                  'GSM1000',\n",
        "                 ]\n",
        ")"
      ]
    },
    {
      "cell_type": "code",
      "execution_count": null,
      "metadata": {},
      "outputs": [],
      "source": []
    }
  ],
  "metadata": {
    "kernelspec": {
      "display_name": "Python 3 (ipykernel)",
      "language": "python",
      "name": "python3"
    },
    "language_info": {
      "codemirror_mode": {
        "name": "ipython",
        "version": 3
      },
      "file_extension": ".py",
      "mimetype": "text/x-python",
      "name": "python",
      "nbconvert_exporter": "python",
      "pygments_lexer": "ipython3",
      "version": "3.10.2"
    }
  },
  "nbformat": 4,
  "nbformat_minor": 2
}