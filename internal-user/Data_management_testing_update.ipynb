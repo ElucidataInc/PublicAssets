{
  "cells": [
    {
      "cell_type": "markdown",
      "metadata": {
        "colab_type": "text",
        "id": "view-in-github"
      },
      "source": [
        "<a href=\"https://polly.elucidata.io/manage/workspaces?action=open_polly_notebook&source=github&path=path_place_holder&kernel=elucidata/Python 3.10&machine=medium\" target=\"_parent\"><img src=\"https://elucidatainc.github.io/PublicAssets/open_polly.svg\" alt=\"Open in Polly\"/></a>\n"
      ]
    },
    {
      "cell_type": "markdown",
      "metadata": {},
      "source": [
        "# Welcome to Polly Python3 Notebook."
      ]
    },
    {
      "cell_type": "code",
      "execution_count": 8,
      "metadata": {},
      "outputs": [
        {
          "name": "stdout",
          "output_type": "stream",
          "text": [
            "/bin/bash: warning: setlocale: LC_ALL: cannot change locale (en_US.UTF-8)\n",
            "Collecting polly-python==0.5.1-update-refactoring\n",
            "  Downloading https://elucidatainc.github.io/PublicAssets/builds/polly-python/tests/testpolly/polly_python-0.5.1_update_refactoring-py3-none-any.whl (220 kB)\n",
            "\u001b[K     |████████████████████████████████| 220 kB 7.4 MB/s eta 0:00:01\n",
            "\u001b[?25hCollecting boto3>=1.24.0\n",
            "  Downloading boto3-1.28.23-py3-none-any.whl (135 kB)\n",
            "\u001b[K     |████████████████████████████████| 135 kB 7.4 MB/s eta 0:00:01\n",
            "\u001b[?25hRequirement already satisfied: pytest>=6.2.5 in /usr/local/lib/python3.10/site-packages (from polly-python==0.5.1-update-refactoring) (7.3.1)\n",
            "Requirement already satisfied: retrying==1.3.4 in /usr/local/lib/python3.10/site-packages (from polly-python==0.5.1-update-refactoring) (1.3.4)\n",
            "Requirement already satisfied: Deprecated>=1.2.12 in /usr/local/lib/python3.10/site-packages (from polly-python==0.5.1-update-refactoring) (1.2.13)\n",
            "Requirement already satisfied: pandas>=1.3.5 in /usr/local/lib/python3.10/site-packages (from polly-python==0.5.1-update-refactoring) (1.4.1)\n",
            "Requirement already satisfied: joblib>=1.2.0 in /usr/local/lib/python3.10/site-packages (from polly-python==0.5.1-update-refactoring) (1.2.0)\n",
            "Collecting pydantic==1.10.12\n",
            "  Downloading pydantic-1.10.12-cp310-cp310-manylinux_2_17_x86_64.manylinux2014_x86_64.whl (3.1 MB)\n",
            "\u001b[K     |████████████████████████████████| 3.1 MB 17.3 MB/s eta 0:00:01\n",
            "\u001b[?25hRequirement already satisfied: tqdm==4.65.0 in /usr/local/lib/python3.10/site-packages (from polly-python==0.5.1-update-refactoring) (4.65.0)\n",
            "Requirement already satisfied: plotly>=5.0.0 in /usr/local/lib/python3.10/site-packages (from polly-python==0.5.1-update-refactoring) (5.14.1)\n",
            "Requirement already satisfied: mixpanel==4.10.0 in /usr/local/lib/python3.10/site-packages (from polly-python==0.5.1-update-refactoring) (4.10.0)\n",
            "Collecting cryptography<=38.0.0,>=37.0.1\n",
            "  Downloading cryptography-38.0.0-cp36-abi3-manylinux_2_28_x86_64.whl (4.2 MB)\n",
            "\u001b[K     |████████████████████████████████| 4.2 MB 70.9 MB/s eta 0:00:01\n",
            "\u001b[?25hRequirement already satisfied: requests==2.25.1 in /usr/local/lib/python3.10/site-packages (from polly-python==0.5.1-update-refactoring) (2.25.1)\n",
            "Collecting botocore>=1.27.0\n",
            "  Downloading botocore-1.31.23-py3-none-any.whl (11.1 MB)\n",
            "\u001b[K     |████████████████████████████████| 11.1 MB 66.0 MB/s eta 0:00:01\n",
            "\u001b[?25hCollecting polly-validator==0.0.2\n",
            "  Downloading polly_validator-0.0.2-py3-none-any.whl (29 kB)\n",
            "Requirement already satisfied: elucidatacloudpathlib==0.6.6 in /usr/local/lib/python3.10/site-packages (from polly-python==0.5.1-update-refactoring) (0.6.6)\n",
            "Requirement already satisfied: elucidatacmapPy==3.3.4 in /usr/local/lib/python3.10/site-packages (from polly-python==0.5.1-update-refactoring) (3.3.4)\n",
            "Requirement already satisfied: rst2txt==1.1.0 in /usr/local/lib/python3.10/site-packages (from polly-python==0.5.1-update-refactoring) (1.1.0)\n",
            "Requirement already satisfied: python-jose==3.3.0 in /usr/local/lib/python3.10/site-packages (from polly-python==0.5.1-update-refactoring) (3.3.0)\n",
            "Requirement already satisfied: numpy>=1.11.2 in /usr/local/lib/python3.10/site-packages (from elucidatacmapPy==3.3.4->polly-python==0.5.1-update-refactoring) (1.22.3)\n",
            "Requirement already satisfied: h5py>=2.6.0 in /usr/local/lib/python3.10/site-packages (from elucidatacmapPy==3.3.4->polly-python==0.5.1-update-refactoring) (3.8.0)\n",
            "Requirement already satisfied: six in /usr/local/lib/python3.10/site-packages (from elucidatacmapPy==3.3.4->polly-python==0.5.1-update-refactoring) (1.16.0)\n",
            "Requirement already satisfied: urllib3 in /usr/local/lib/python3.10/site-packages (from mixpanel==4.10.0->polly-python==0.5.1-update-refactoring) (1.26.6)\n",
            "Requirement already satisfied: appdirs==1.4.4 in /usr/local/lib/python3.10/site-packages (from polly-validator==0.0.2->polly-python==0.5.1-update-refactoring) (1.4.4)\n",
            "Requirement already satisfied: tabulate==0.8.10 in /usr/local/lib/python3.10/site-packages (from polly-validator==0.0.2->polly-python==0.5.1-update-refactoring) (0.8.10)\n",
            "Requirement already satisfied: pronto in /usr/local/lib/python3.10/site-packages (from polly-validator==0.0.2->polly-python==0.5.1-update-refactoring) (2.5.1)\n",
            "Requirement already satisfied: rapidfuzz==2.1.1 in /usr/local/lib/python3.10/site-packages (from polly-validator==0.0.2->polly-python==0.5.1-update-refactoring) (2.1.1)\n",
            "Requirement already satisfied: typing-extensions>=4.2.0 in /usr/local/lib/python3.10/site-packages (from pydantic==1.10.12->polly-python==0.5.1-update-refactoring) (4.5.0)\n",
            "Requirement already satisfied: rsa in /usr/local/lib/python3.10/site-packages (from python-jose==3.3.0->polly-python==0.5.1-update-refactoring) (4.7.2)\n",
            "Requirement already satisfied: pyasn1 in /usr/local/lib/python3.10/site-packages (from python-jose==3.3.0->polly-python==0.5.1-update-refactoring) (0.4.8)\n",
            "Requirement already satisfied: ecdsa!=0.15 in /usr/local/lib/python3.10/site-packages (from python-jose==3.3.0->polly-python==0.5.1-update-refactoring) (0.18.0)\n",
            "Requirement already satisfied: jarowinkler<1.1.0,>=1.0.3 in /usr/local/lib/python3.10/site-packages (from rapidfuzz==2.1.1->polly-validator==0.0.2->polly-python==0.5.1-update-refactoring) (1.0.5)\n",
            "Requirement already satisfied: chardet<5,>=3.0.2 in /usr/local/lib/python3.10/site-packages (from requests==2.25.1->polly-python==0.5.1-update-refactoring) (4.0.0)\n",
            "Requirement already satisfied: idna<3,>=2.5 in /usr/local/lib/python3.10/site-packages (from requests==2.25.1->polly-python==0.5.1-update-refactoring) (2.10)\n",
            "Requirement already satisfied: certifi>=2017.4.17 in /usr/local/lib/python3.10/site-packages (from requests==2.25.1->polly-python==0.5.1-update-refactoring) (2021.5.30)\n",
            "Requirement already satisfied: docutils>=0.11 in /usr/local/lib/python3.10/site-packages (from rst2txt==1.1.0->polly-python==0.5.1-update-refactoring) (0.15.2)\n",
            "Requirement already satisfied: pygments in /usr/local/lib/python3.10/site-packages (from rst2txt==1.1.0->polly-python==0.5.1-update-refactoring) (2.10.0)\n",
            "Requirement already satisfied: jmespath<2.0.0,>=0.7.1 in /usr/local/lib/python3.10/site-packages (from boto3>=1.24.0->polly-python==0.5.1-update-refactoring) (0.10.0)\n",
            "Collecting s3transfer<0.7.0,>=0.6.0\n",
            "  Downloading s3transfer-0.6.1-py3-none-any.whl (79 kB)\n",
            "\u001b[K     |████████████████████████████████| 79 kB 17.7 MB/s eta 0:00:01\n",
            "\u001b[?25hRequirement already satisfied: python-dateutil<3.0.0,>=2.1 in /usr/local/lib/python3.10/site-packages (from botocore>=1.27.0->polly-python==0.5.1-update-refactoring) (2.8.1)\n",
            "Requirement already satisfied: cffi>=1.12 in /usr/local/lib/python3.10/site-packages (from cryptography<=38.0.0,>=37.0.1->polly-python==0.5.1-update-refactoring) (1.15.1)\n",
            "Requirement already satisfied: pycparser in /usr/local/lib/python3.10/site-packages (from cffi>=1.12->cryptography<=38.0.0,>=37.0.1->polly-python==0.5.1-update-refactoring) (2.21)\n",
            "Requirement already satisfied: wrapt<2,>=1.10 in /usr/local/lib/python3.10/site-packages (from Deprecated>=1.2.12->polly-python==0.5.1-update-refactoring) (1.15.0)\n",
            "Requirement already satisfied: pytz>=2020.1 in /usr/local/lib/python3.10/site-packages (from pandas>=1.3.5->polly-python==0.5.1-update-refactoring) (2021.3)\n",
            "Requirement already satisfied: tenacity>=6.2.0 in /usr/local/lib/python3.10/site-packages (from plotly>=5.0.0->polly-python==0.5.1-update-refactoring) (8.2.2)\n",
            "Requirement already satisfied: packaging in /usr/local/lib/python3.10/site-packages (from plotly>=5.0.0->polly-python==0.5.1-update-refactoring) (23.1)\n",
            "Requirement already satisfied: pluggy<2.0,>=0.12 in /usr/local/lib/python3.10/site-packages (from pytest>=6.2.5->polly-python==0.5.1-update-refactoring) (1.0.0)\n",
            "Requirement already satisfied: iniconfig in /usr/local/lib/python3.10/site-packages (from pytest>=6.2.5->polly-python==0.5.1-update-refactoring) (2.0.0)\n",
            "Requirement already satisfied: tomli>=1.0.0 in /usr/local/lib/python3.10/site-packages (from pytest>=6.2.5->polly-python==0.5.1-update-refactoring) (2.0.1)\n",
            "Requirement already satisfied: exceptiongroup>=1.0.0rc8 in /usr/local/lib/python3.10/site-packages (from pytest>=6.2.5->polly-python==0.5.1-update-refactoring) (1.1.1)\n",
            "Requirement already satisfied: networkx~=2.3 in /usr/local/lib/python3.10/site-packages (from pronto->polly-validator==0.0.2->polly-python==0.5.1-update-refactoring) (2.8.8)\n",
            "Requirement already satisfied: fastobo~=0.12.1 in /usr/local/lib/python3.10/site-packages (from pronto->polly-validator==0.0.2->polly-python==0.5.1-update-refactoring) (0.12.2)\n"
          ]
        },
        {
          "name": "stdout",
          "output_type": "stream",
          "text": [
            "Installing collected packages: botocore, s3transfer, pydantic, polly-validator, cryptography, boto3, polly-python\n",
            "  Attempting uninstall: botocore\n",
            "    Found existing installation: botocore 1.24.19\n",
            "    Uninstalling botocore-1.24.19:\n",
            "      Successfully uninstalled botocore-1.24.19\n",
            "  Attempting uninstall: s3transfer\n",
            "    Found existing installation: s3transfer 0.5.2\n",
            "    Uninstalling s3transfer-0.5.2:\n",
            "      Successfully uninstalled s3transfer-0.5.2\n",
            "  Attempting uninstall: pydantic\n",
            "    Found existing installation: pydantic 1.10.7\n",
            "    Uninstalling pydantic-1.10.7:\n",
            "      Successfully uninstalled pydantic-1.10.7\n",
            "  Attempting uninstall: polly-validator\n",
            "    Found existing installation: polly-validator 0.0.1\n",
            "    Uninstalling polly-validator-0.0.1:\n",
            "      Successfully uninstalled polly-validator-0.0.1\n",
            "  Attempting uninstall: cryptography\n",
            "    Found existing installation: cryptography 40.0.2\n",
            "    Uninstalling cryptography-40.0.2:\n",
            "      Successfully uninstalled cryptography-40.0.2\n",
            "  Attempting uninstall: boto3\n",
            "    Found existing installation: boto3 1.21.19\n",
            "    Uninstalling boto3-1.21.19:\n",
            "      Successfully uninstalled boto3-1.21.19\n",
            "  Attempting uninstall: polly-python\n",
            "    Found existing installation: polly-python 0.3.0\n",
            "    Uninstalling polly-python-0.3.0:\n",
            "      Successfully uninstalled polly-python-0.3.0\n",
            "\u001b[31mERROR: pip's dependency resolver does not currently take into account all the packages that are installed. This behaviour is the source of the following dependency conflicts.\n",
            "awscli 1.22.74 requires botocore==1.24.19, but you have botocore 1.31.23 which is incompatible.\n",
            "awscli 1.22.74 requires s3transfer<0.6.0,>=0.5.0, but you have s3transfer 0.6.1 which is incompatible.\u001b[0m\n",
            "Successfully installed boto3-1.28.23 botocore-1.31.23 cryptography-38.0.0 polly-python-0.5.1 polly-validator-0.0.2 pydantic-1.10.12 s3transfer-0.6.1\n",
            "\u001b[33mWARNING: Running pip as the 'root' user can result in broken permissions and conflicting behaviour with the system package manager. It is recommended to use a virtual environment instead: https://pip.pypa.io/warnings/venv\u001b[0m\n",
            "\u001b[33mWARNING: You are using pip version 21.2.4; however, version 23.2.1 is available.\n",
            "You should consider upgrading via the '/usr/local/bin/python3.10 -m pip install --upgrade pip' command.\u001b[0m\n"
          ]
        }
      ],
      "source": [
        "!sudo pip3 install https://elucidatainc.github.io/PublicAssets/builds/polly-python/tests/testpolly/polly_python-0.5.1_update_refactoring-py3-none-any.whl\n"
      ]
    },
    {
      "cell_type": "code",
      "execution_count": 9,
      "metadata": {},
      "outputs": [],
      "source": [
        "import os"
      ]
    },
    {
      "cell_type": "code",
      "execution_count": 11,
      "metadata": {},
      "outputs": [],
      "source": [
        "from polly.auth import Polly\n",
        "AUTH_TOKEN=\"eqdRTY_Q\"\n",
        "Polly.auth(AUTH_TOKEN, env=\"testpolly\")"
      ]
    },
    {
      "cell_type": "code",
      "execution_count": 12,
      "metadata": {},
      "outputs": [],
      "source": [
        "from polly.omixatlas import OmixAtlas"
      ]
    },
    {
      "cell_type": "code",
      "execution_count": 13,
      "metadata": {},
      "outputs": [],
      "source": [
        "omixatlas = OmixAtlas()"
      ]
    },
    {
      "cell_type": "code",
      "execution_count": 7,
      "metadata": {},
      "outputs": [
        {
          "ename": "paramException",
          "evalue": "paramException (parameter error): source_folder_path should be a dict with valid data and metadata path values in the format {'metadata': '<metadata_path>', 'data': '<data_path>'} ",
          "output_type": "error",
          "traceback": [
            "\u001b[0;31m---------------------------------------------------------------------------\u001b[0m",
            "\u001b[0;31mparamException\u001b[0m                            Traceback (most recent call last)",
            "Input \u001b[0;32mIn [7]\u001b[0m, in \u001b[0;36m<cell line: 5>\u001b[0;34m()\u001b[0m\n\u001b[1;32m      3\u001b[0m repo_id \u001b[38;5;241m=\u001b[39m \u001b[38;5;124m\"\u001b[39m\u001b[38;5;124m1654268055800\u001b[39m\u001b[38;5;124m\"\u001b[39m\n\u001b[1;32m      4\u001b[0m source_folder_path \u001b[38;5;241m=\u001b[39m \u001b[38;5;124m\"\u001b[39m\u001b[38;5;124m/home/elucidata/ELUCIDATA/libraries/geo_data/transcriptomics/ingestion_files\u001b[39m\u001b[38;5;124m\"\u001b[39m\n\u001b[0;32m----> 5\u001b[0m \u001b[43momixatlas\u001b[49m\u001b[38;5;241;43m.\u001b[39;49m\u001b[43mupdate_datasets\u001b[49m\u001b[43m(\u001b[49m\u001b[43mrepo_id\u001b[49m\u001b[43m,\u001b[49m\u001b[43m \u001b[49m\u001b[43msource_folder_path\u001b[49m\u001b[43m)\u001b[49m\n",
            "File \u001b[0;32m/usr/local/lib/python3.10/site-packages/polly/tracking.py:59\u001b[0m, in \u001b[0;36mTrack.track_decorator.<locals>.wrapper_function\u001b[0;34m(*args, **kwargs)\u001b[0m\n\u001b[1;32m     57\u001b[0m         \u001b[38;5;28;01mreturn\u001b[39;00m result\n\u001b[1;32m     58\u001b[0m \u001b[38;5;28;01melse\u001b[39;00m:\n\u001b[0;32m---> 59\u001b[0m     \u001b[38;5;28;01mraise\u001b[39;00m returned_err\n",
            "File \u001b[0;32m/usr/local/lib/python3.10/site-packages/polly/tracking.py:22\u001b[0m, in \u001b[0;36mTrack.track_decorator.<locals>.wrapper_function\u001b[0;34m(*args, **kwargs)\u001b[0m\n\u001b[1;32m     20\u001b[0m execution_flag \u001b[38;5;241m=\u001b[39m \u001b[38;5;28;01mFalse\u001b[39;00m\n\u001b[1;32m     21\u001b[0m \u001b[38;5;28;01mtry\u001b[39;00m:\n\u001b[0;32m---> 22\u001b[0m     result \u001b[38;5;241m=\u001b[39m \u001b[43mfunction\u001b[49m\u001b[43m(\u001b[49m\u001b[38;5;241;43m*\u001b[39;49m\u001b[43margs\u001b[49m\u001b[43m,\u001b[49m\u001b[43m \u001b[49m\u001b[38;5;241;43m*\u001b[39;49m\u001b[38;5;241;43m*\u001b[39;49m\u001b[43mkwargs\u001b[49m\u001b[43m)\u001b[49m\n\u001b[1;32m     23\u001b[0m     execution_flag \u001b[38;5;241m=\u001b[39m \u001b[38;5;28;01mTrue\u001b[39;00m\n\u001b[1;32m     24\u001b[0m \u001b[38;5;28;01mexcept\u001b[39;00m \u001b[38;5;167;01mException\u001b[39;00m \u001b[38;5;28;01mas\u001b[39;00m e:\n",
            "File \u001b[0;32m/usr/local/lib/python3.10/site-packages/polly/omixatlas.py:1871\u001b[0m, in \u001b[0;36mOmixAtlas.update_datasets\u001b[0;34m(self, repo_id, source_folder_path, destination_folder_path, priority, validation)\u001b[0m\n\u001b[1;32m   1859\u001b[0m     file_status_dict \u001b[38;5;241m=\u001b[39m \u001b[38;5;28mself\u001b[39m\u001b[38;5;241m.\u001b[39m_update_metadata_data(\n\u001b[1;32m   1860\u001b[0m         repo_id,\n\u001b[1;32m   1861\u001b[0m         source_folder_path,\n\u001b[0;32m   (...)\u001b[0m\n\u001b[1;32m   1868\u001b[0m         validation_dataset_lvl,\n\u001b[1;32m   1869\u001b[0m     )\n\u001b[1;32m   1870\u001b[0m \u001b[38;5;28;01mexcept\u001b[39;00m \u001b[38;5;167;01mException\u001b[39;00m \u001b[38;5;28;01mas\u001b[39;00m err:\n\u001b[0;32m-> 1871\u001b[0m     \u001b[38;5;28;01mraise\u001b[39;00m err\n\u001b[1;32m   1873\u001b[0m \u001b[38;5;66;03m# intialising empty df\u001b[39;00m\n\u001b[1;32m   1874\u001b[0m data_upload_results_df \u001b[38;5;241m=\u001b[39m pd\u001b[38;5;241m.\u001b[39mDataFrame()\n",
            "File \u001b[0;32m/usr/local/lib/python3.10/site-packages/polly/omixatlas.py:1812\u001b[0m, in \u001b[0;36mOmixAtlas.update_datasets\u001b[0;34m(self, repo_id, source_folder_path, destination_folder_path, priority, validation)\u001b[0m\n\u001b[1;32m   1810\u001b[0m \u001b[38;5;66;03m# parameters check\u001b[39;00m\n\u001b[1;32m   1811\u001b[0m \u001b[38;5;28;01mtry\u001b[39;00m:\n\u001b[0;32m-> 1812\u001b[0m     \u001b[38;5;28;43mself\u001b[39;49m\u001b[38;5;241;43m.\u001b[39;49m\u001b[43m_parameter_check_for_update_dataset\u001b[49m\u001b[43m(\u001b[49m\n\u001b[1;32m   1813\u001b[0m \u001b[43m        \u001b[49m\u001b[43mrepo_id\u001b[49m\u001b[43m,\u001b[49m\u001b[43m \u001b[49m\u001b[43msource_folder_path\u001b[49m\u001b[43m,\u001b[49m\u001b[43m \u001b[49m\u001b[43mdestination_folder_path\u001b[49m\u001b[43m,\u001b[49m\u001b[43m \u001b[49m\u001b[43mpriority\u001b[49m\n\u001b[1;32m   1814\u001b[0m \u001b[43m    \u001b[49m\u001b[43m)\u001b[49m\n\u001b[1;32m   1815\u001b[0m     validation_dataset_lvl \u001b[38;5;241m=\u001b[39m {}\n\u001b[1;32m   1816\u001b[0m     \u001b[38;5;66;03m# validation is active and metadata folder present\u001b[39;00m\n",
            "File \u001b[0;32m/usr/local/lib/python3.10/site-packages/polly/omixatlas.py:2070\u001b[0m, in \u001b[0;36mOmixAtlas._parameter_check_for_update_dataset\u001b[0;34m(self, repo_id, source_folder_path, destination_folder_path, priority)\u001b[0m\n\u001b[1;32m   2068\u001b[0m     omix_hlpr\u001b[38;5;241m.\u001b[39mdata_metadata_file_ext_check(source_folder_path)\n\u001b[1;32m   2069\u001b[0m \u001b[38;5;28;01mexcept\u001b[39;00m \u001b[38;5;167;01mException\u001b[39;00m \u001b[38;5;28;01mas\u001b[39;00m err:\n\u001b[0;32m-> 2070\u001b[0m     \u001b[38;5;28;01mraise\u001b[39;00m err\n",
            "File \u001b[0;32m/usr/local/lib/python3.10/site-packages/polly/omixatlas.py:2066\u001b[0m, in \u001b[0;36mOmixAtlas._parameter_check_for_update_dataset\u001b[0;34m(self, repo_id, source_folder_path, destination_folder_path, priority)\u001b[0m\n\u001b[1;32m   2064\u001b[0m omix_hlpr\u001b[38;5;241m.\u001b[39mparameter_check_for_repo_id(repo_id)\n\u001b[1;32m   2065\u001b[0m omix_hlpr\u001b[38;5;241m.\u001b[39mparameter_check_for_priority(priority)\n\u001b[0;32m-> 2066\u001b[0m \u001b[43momix_hlpr\u001b[49m\u001b[38;5;241;43m.\u001b[39;49m\u001b[43mdata_metadata_parameter_check\u001b[49m\u001b[43m(\u001b[49m\u001b[43msource_folder_path\u001b[49m\u001b[43m,\u001b[49m\u001b[43m \u001b[49m\u001b[43mupdate\u001b[49m\u001b[38;5;241;43m=\u001b[39;49m\u001b[38;5;28;43;01mTrue\u001b[39;49;00m\u001b[43m)\u001b[49m\n\u001b[1;32m   2067\u001b[0m omix_hlpr\u001b[38;5;241m.\u001b[39mcheck_data_metadata_file_path(source_folder_path)\n\u001b[1;32m   2068\u001b[0m omix_hlpr\u001b[38;5;241m.\u001b[39mdata_metadata_file_ext_check(source_folder_path)\n",
            "File \u001b[0;32m/usr/local/lib/python3.10/site-packages/polly/omixatlas_hlpr.py:253\u001b[0m, in \u001b[0;36mdata_metadata_parameter_check\u001b[0;34m(source_folder_path, update)\u001b[0m\n\u001b[1;32m    251\u001b[0m         add_dataset_parameter_check(source_folder_path)\n\u001b[1;32m    252\u001b[0m \u001b[38;5;28;01mexcept\u001b[39;00m \u001b[38;5;167;01mException\u001b[39;00m \u001b[38;5;28;01mas\u001b[39;00m err:\n\u001b[0;32m--> 253\u001b[0m     \u001b[38;5;28;01mraise\u001b[39;00m err\n",
            "File \u001b[0;32m/usr/local/lib/python3.10/site-packages/polly/omixatlas_hlpr.py:243\u001b[0m, in \u001b[0;36mdata_metadata_parameter_check\u001b[0;34m(source_folder_path, update)\u001b[0m\n\u001b[1;32m    241\u001b[0m \u001b[38;5;28;01mtry\u001b[39;00m:\n\u001b[1;32m    242\u001b[0m     \u001b[38;5;28;01mif\u001b[39;00m \u001b[38;5;129;01mnot\u001b[39;00m source_folder_path \u001b[38;5;129;01mor\u001b[39;00m \u001b[38;5;129;01mnot\u001b[39;00m \u001b[38;5;28misinstance\u001b[39m(source_folder_path, \u001b[38;5;28mdict\u001b[39m):\n\u001b[0;32m--> 243\u001b[0m         \u001b[38;5;28;01mraise\u001b[39;00m paramException(\n\u001b[1;32m    244\u001b[0m             title\u001b[38;5;241m=\u001b[39m\u001b[38;5;124m\"\u001b[39m\u001b[38;5;124mParam Error\u001b[39m\u001b[38;5;124m\"\u001b[39m,\n\u001b[1;32m    245\u001b[0m             detail\u001b[38;5;241m=\u001b[39m\u001b[38;5;124m\"\u001b[39m\u001b[38;5;124msource_folder_path should be a dict with valid data and\u001b[39m\u001b[38;5;124m\"\u001b[39m\n\u001b[1;32m    246\u001b[0m             \u001b[38;5;241m+\u001b[39m \u001b[38;5;124mf\u001b[39m\u001b[38;5;124m\"\u001b[39m\u001b[38;5;124m metadata path values in the format \u001b[39m\u001b[38;5;132;01m{\u001b[39;00mconst\u001b[38;5;241m.\u001b[39mFILES_PATH_FORMAT\u001b[38;5;132;01m}\u001b[39;00m\u001b[38;5;124m \u001b[39m\u001b[38;5;124m\"\u001b[39m,\n\u001b[1;32m    247\u001b[0m         )\n\u001b[1;32m    248\u001b[0m     \u001b[38;5;28;01mif\u001b[39;00m update:\n\u001b[1;32m    249\u001b[0m         update_dataset_parameter_check(source_folder_path)\n",
            "\u001b[0;31mparamException\u001b[0m: paramException (parameter error): source_folder_path should be a dict with valid data and metadata path values in the format {'metadata': '<metadata_path>', 'data': '<data_path>'} "
          ]
        }
      ],
      "source": [
        "# Testing point 1\n",
        "# wrong format of `source_folder_path`\n",
        "repo_id = \"1654268055800\"\n",
        "source_folder_path = \"/home/elucidata/ELUCIDATA/libraries/geo_data/transcriptomics/ingestion_files\"\n",
        "omixatlas.update_datasets(repo_id, source_folder_path)"
      ]
    },
    {
      "cell_type": "code",
      "execution_count": 14,
      "metadata": {},
      "outputs": [
        {
          "name": "stdout",
          "output_type": "stream",
          "text": [
            "/bin/bash: warning: setlocale: LC_ALL: cannot change locale (en_US.UTF-8)\n",
            "Success: Installed optional packages!\n",
            "\u001b[2K\u001b[1G\u001b[2K\u001b[1GCompleted 16.0 KiB/16.0 KiB (157.5 KiB/s) with 1 file(s) remainingmpleted 3.5 KiB/16.0 KiB (35.3 KiB/s) with 2 file(s) remainingSync complete!\n"
          ]
        }
      ],
      "source": [
        "!polly files sync -s \"polly://metadata/\" -d \"metadata/\" -y"
      ]
    },
    {
      "cell_type": "code",
      "execution_count": 15,
      "metadata": {},
      "outputs": [
        {
          "name": "stdout",
          "output_type": "stream",
          "text": [
            "/bin/bash: warning: setlocale: LC_ALL: cannot change locale (en_US.UTF-8)\n",
            "\u001b[2K\u001b[1GCompleted 233.7 MiB/233.7 MiB (133.9 MiB/s) with 1 file(s) remainingemainingCompleted 219.7 MiB/233.7 MiB (132.2 MiB/s) with 2 file(s) remainingCompleted 228.0 MiB/233.7 MiB (133.1 MiB/s) with 2 file(s) remainingSync complete!\n"
          ]
        }
      ],
      "source": [
        "!polly files sync -s \"polly://data/\" -d \"data/\" -y"
      ]
    },
    {
      "cell_type": "code",
      "execution_count": 10,
      "metadata": {},
      "outputs": [
        {
          "name": "stdout",
          "output_type": "stream",
          "text": [
            "----file mapping-----\n",
            "{}\n"
          ]
        },
        {
          "ename": "paramException",
          "evalue": "paramException (parameter error): `priority` should be a string. Only 3 values are allowed i.e. `low`, `medium`, `high`",
          "output_type": "error",
          "traceback": [
            "\u001b[0;31m---------------------------------------------------------------------------\u001b[0m",
            "\u001b[0;31mparamException\u001b[0m                            Traceback (most recent call last)",
            "Input \u001b[0;32mIn [10]\u001b[0m, in \u001b[0;36m<cell line: 8>\u001b[0;34m()\u001b[0m\n\u001b[1;32m      6\u001b[0m priority \u001b[38;5;241m=\u001b[39m \u001b[38;5;124m\"\u001b[39m\u001b[38;5;124msuper_high\u001b[39m\u001b[38;5;124m\"\u001b[39m\n\u001b[1;32m      7\u001b[0m source_folder_path \u001b[38;5;241m=\u001b[39m {\u001b[38;5;124m\"\u001b[39m\u001b[38;5;124mdata\u001b[39m\u001b[38;5;124m\"\u001b[39m:source_folder_path_data, \u001b[38;5;124m\"\u001b[39m\u001b[38;5;124mmetadata\u001b[39m\u001b[38;5;124m\"\u001b[39m:source_folder_metadata}\n\u001b[0;32m----> 8\u001b[0m \u001b[43momixatlas\u001b[49m\u001b[38;5;241;43m.\u001b[39;49m\u001b[43mupdate_datasets\u001b[49m\u001b[43m(\u001b[49m\u001b[43mrepo_id\u001b[49m\u001b[43m,\u001b[49m\u001b[43m \u001b[49m\u001b[43msource_folder_path\u001b[49m\u001b[43m,\u001b[49m\u001b[43m \u001b[49m\u001b[43mpriority\u001b[49m\u001b[43m)\u001b[49m\n",
            "File \u001b[0;32m/usr/local/lib/python3.10/site-packages/polly/tracking.py:59\u001b[0m, in \u001b[0;36mTrack.track_decorator.<locals>.wrapper_function\u001b[0;34m(*args, **kwargs)\u001b[0m\n\u001b[1;32m     57\u001b[0m         \u001b[38;5;28;01mreturn\u001b[39;00m result\n\u001b[1;32m     58\u001b[0m \u001b[38;5;28;01melse\u001b[39;00m:\n\u001b[0;32m---> 59\u001b[0m     \u001b[38;5;28;01mraise\u001b[39;00m returned_err\n",
            "File \u001b[0;32m/usr/local/lib/python3.10/site-packages/polly/tracking.py:22\u001b[0m, in \u001b[0;36mTrack.track_decorator.<locals>.wrapper_function\u001b[0;34m(*args, **kwargs)\u001b[0m\n\u001b[1;32m     20\u001b[0m execution_flag \u001b[38;5;241m=\u001b[39m \u001b[38;5;28;01mFalse\u001b[39;00m\n\u001b[1;32m     21\u001b[0m \u001b[38;5;28;01mtry\u001b[39;00m:\n\u001b[0;32m---> 22\u001b[0m     result \u001b[38;5;241m=\u001b[39m \u001b[43mfunction\u001b[49m\u001b[43m(\u001b[49m\u001b[38;5;241;43m*\u001b[39;49m\u001b[43margs\u001b[49m\u001b[43m,\u001b[49m\u001b[43m \u001b[49m\u001b[38;5;241;43m*\u001b[39;49m\u001b[38;5;241;43m*\u001b[39;49m\u001b[43mkwargs\u001b[49m\u001b[43m)\u001b[49m\n\u001b[1;32m     23\u001b[0m     execution_flag \u001b[38;5;241m=\u001b[39m \u001b[38;5;28;01mTrue\u001b[39;00m\n\u001b[1;32m     24\u001b[0m \u001b[38;5;28;01mexcept\u001b[39;00m \u001b[38;5;167;01mException\u001b[39;00m \u001b[38;5;28;01mas\u001b[39;00m e:\n",
            "File \u001b[0;32m/usr/local/lib/python3.10/site-packages/polly/omixatlas.py:1922\u001b[0m, in \u001b[0;36mOmixAtlas.update_datasets\u001b[0;34m(self, repo_id, source_folder_path, priority, file_mapping, validation)\u001b[0m\n\u001b[1;32m   1920\u001b[0m \u001b[38;5;28mprint\u001b[39m(\u001b[38;5;124m\"\u001b[39m\u001b[38;5;124m----file mapping-----\u001b[39m\u001b[38;5;124m\"\u001b[39m)\n\u001b[1;32m   1921\u001b[0m \u001b[38;5;28mprint\u001b[39m(file_mapping)\n\u001b[0;32m-> 1922\u001b[0m data_upload_results_df \u001b[38;5;241m=\u001b[39m \u001b[43mfiles_obj\u001b[49m\u001b[38;5;241;43m.\u001b[39;49m\u001b[43mupdate_datasets\u001b[49m\u001b[43m(\u001b[49m\n\u001b[1;32m   1923\u001b[0m \u001b[43m    \u001b[49m\u001b[38;5;28;43mself\u001b[39;49m\u001b[43m,\u001b[49m\u001b[43m \u001b[49m\u001b[43mrepo_id\u001b[49m\u001b[43m,\u001b[49m\u001b[43m \u001b[49m\u001b[43msource_folder_path\u001b[49m\u001b[43m,\u001b[49m\u001b[43m \u001b[49m\u001b[43mpriority\u001b[49m\u001b[43m,\u001b[49m\u001b[43m \u001b[49m\u001b[43mfile_mapping\u001b[49m\u001b[43m,\u001b[49m\u001b[43m \u001b[49m\u001b[43mvalidation\u001b[49m\n\u001b[1;32m   1924\u001b[0m \u001b[43m\u001b[49m\u001b[43m)\u001b[49m\n\u001b[1;32m   1925\u001b[0m \u001b[38;5;28;01mreturn\u001b[39;00m data_upload_results_df\n",
            "File \u001b[0;32m/usr/local/lib/python3.10/site-packages/polly_services/files/files.py:279\u001b[0m, in \u001b[0;36mFiles.update_datasets\u001b[0;34m(self, polly_session, repo_id, source_folder_path, priority, file_mapping, validation)\u001b[0m\n\u001b[1;32m    275\u001b[0m     \u001b[38;5;28;01mreturn\u001b[39;00m \u001b[38;5;28mself\u001b[39m\u001b[38;5;241m.\u001b[39mingestion_and_updation_print_commons(\n\u001b[1;32m    276\u001b[0m         file_status_dict, validation, polly_session, repo_id\n\u001b[1;32m    277\u001b[0m     )\n\u001b[1;32m    278\u001b[0m \u001b[38;5;28;01mexcept\u001b[39;00m \u001b[38;5;167;01mException\u001b[39;00m \u001b[38;5;28;01mas\u001b[39;00m err:\n\u001b[0;32m--> 279\u001b[0m     \u001b[38;5;28;01mraise\u001b[39;00m err\n",
            "File \u001b[0;32m/usr/local/lib/python3.10/site-packages/polly_services/files/files.py:147\u001b[0m, in \u001b[0;36mFiles.update_datasets\u001b[0;34m(self, polly_session, repo_id, source_folder_path, priority, file_mapping, validation)\u001b[0m\n\u001b[1;32m    136\u001b[0m \u001b[38;5;124;03m\"\"\"_summary_\u001b[39;00m\n\u001b[1;32m    137\u001b[0m \n\u001b[1;32m    138\u001b[0m \u001b[38;5;124;03mArgs:\u001b[39;00m\n\u001b[0;32m   (...)\u001b[0m\n\u001b[1;32m    144\u001b[0m \u001b[38;5;124;03m    validation (bool, optional): _description_. Defaults to False.\u001b[39;00m\n\u001b[1;32m    145\u001b[0m \u001b[38;5;124;03m\"\"\"\u001b[39;00m\n\u001b[1;32m    146\u001b[0m \u001b[38;5;28;01mtry\u001b[39;00m:\n\u001b[0;32m--> 147\u001b[0m     \u001b[43mfiles_hlpr\u001b[49m\u001b[38;5;241;43m.\u001b[39;49m\u001b[43mparameter_check_for_update_dataset\u001b[49m\u001b[43m(\u001b[49m\n\u001b[1;32m    148\u001b[0m \u001b[43m        \u001b[49m\u001b[43mrepo_id\u001b[49m\u001b[43m,\u001b[49m\u001b[43m \u001b[49m\u001b[43msource_folder_path\u001b[49m\u001b[43m,\u001b[49m\u001b[43m \u001b[49m\u001b[43mpriority\u001b[49m\u001b[43m,\u001b[49m\u001b[43m \u001b[49m\u001b[43mfile_mapping\u001b[49m\n\u001b[1;32m    149\u001b[0m \u001b[43m    \u001b[49m\u001b[43m)\u001b[49m\n\u001b[1;32m    151\u001b[0m     data_file_list, metadata_file_list \u001b[38;5;241m=\u001b[39m files_hlpr\u001b[38;5;241m.\u001b[39mcreate_file_list(\n\u001b[1;32m    152\u001b[0m         source_folder_path\n\u001b[1;32m    153\u001b[0m     )\n\u001b[1;32m    155\u001b[0m     \u001b[38;5;66;03m# mapping dict\u001b[39;00m\n",
            "File \u001b[0;32m/usr/local/lib/python3.10/site-packages/polly_services/files/files_hlpr.py:78\u001b[0m, in \u001b[0;36mparameter_check_for_update_dataset\u001b[0;34m(repo_id, source_folder_path, priority, file_mapping)\u001b[0m\n\u001b[1;32m     76\u001b[0m     check_file_mapping(file_mapping)\n\u001b[1;32m     77\u001b[0m \u001b[38;5;28;01mexcept\u001b[39;00m \u001b[38;5;167;01mException\u001b[39;00m \u001b[38;5;28;01mas\u001b[39;00m err:\n\u001b[0;32m---> 78\u001b[0m     \u001b[38;5;28;01mraise\u001b[39;00m err\n",
            "File \u001b[0;32m/usr/local/lib/python3.10/site-packages/polly_services/files/files_hlpr.py:75\u001b[0m, in \u001b[0;36mparameter_check_for_update_dataset\u001b[0;34m(repo_id, source_folder_path, priority, file_mapping)\u001b[0m\n\u001b[1;32m     73\u001b[0m     data_metadata_file_ext_check(source_folder_path)\n\u001b[1;32m     74\u001b[0m     check_data_metadata_file_path(source_folder_path)\n\u001b[0;32m---> 75\u001b[0m     \u001b[43mparameter_check_for_priority\u001b[49m\u001b[43m(\u001b[49m\u001b[43mpriority\u001b[49m\u001b[43m)\u001b[49m\n\u001b[1;32m     76\u001b[0m     check_file_mapping(file_mapping)\n\u001b[1;32m     77\u001b[0m \u001b[38;5;28;01mexcept\u001b[39;00m \u001b[38;5;167;01mException\u001b[39;00m \u001b[38;5;28;01mas\u001b[39;00m err:\n",
            "File \u001b[0;32m/usr/local/lib/python3.10/site-packages/polly_services/files/files_hlpr.py:609\u001b[0m, in \u001b[0;36mparameter_check_for_priority\u001b[0;34m(priority)\u001b[0m\n\u001b[1;32m    607\u001b[0m \u001b[38;5;28;01mdef\u001b[39;00m \u001b[38;5;21mparameter_check_for_priority\u001b[39m(priority: \u001b[38;5;28mstr\u001b[39m):\n\u001b[1;32m    608\u001b[0m     \u001b[38;5;28;01mif\u001b[39;00m \u001b[38;5;129;01mnot\u001b[39;00m \u001b[38;5;28misinstance\u001b[39m(priority, \u001b[38;5;28mstr\u001b[39m) \u001b[38;5;129;01mor\u001b[39;00m priority \u001b[38;5;129;01mnot\u001b[39;00m \u001b[38;5;129;01min\u001b[39;00m [\u001b[38;5;124m\"\u001b[39m\u001b[38;5;124mlow\u001b[39m\u001b[38;5;124m\"\u001b[39m, \u001b[38;5;124m\"\u001b[39m\u001b[38;5;124mmedium\u001b[39m\u001b[38;5;124m\"\u001b[39m, \u001b[38;5;124m\"\u001b[39m\u001b[38;5;124mhigh\u001b[39m\u001b[38;5;124m\"\u001b[39m]:\n\u001b[0;32m--> 609\u001b[0m         \u001b[38;5;28;01mraise\u001b[39;00m paramException(\n\u001b[1;32m    610\u001b[0m             title\u001b[38;5;241m=\u001b[39m\u001b[38;5;124m\"\u001b[39m\u001b[38;5;124mParam Error\u001b[39m\u001b[38;5;124m\"\u001b[39m,\n\u001b[1;32m    611\u001b[0m             detail\u001b[38;5;241m=\u001b[39m\u001b[38;5;124m\"\u001b[39m\u001b[38;5;124m`priority` should be a string. Only 3 values are allowed i.e. `low`, `medium`, `high`\u001b[39m\u001b[38;5;124m\"\u001b[39m,\n\u001b[1;32m    612\u001b[0m         )\n",
            "\u001b[0;31mparamException\u001b[0m: paramException (parameter error): `priority` should be a string. Only 3 values are allowed i.e. `low`, `medium`, `high`"
          ]
        }
      ],
      "source": [
        "# Testing point 2\n",
        "# wrong value of `priority`\n",
        "repo_id = \"1654268055800\"\n",
        "source_folder_path_data = \"/import/data\"\n",
        "source_folder_metadata = \"/import/metadata\"\n",
        "priority = \"super_high\"\n",
        "source_folder_path = {\"data\":source_folder_path_data, \"metadata\":source_folder_metadata}\n",
        "omixatlas.update_datasets(repo_id, source_folder_path, priority)"
      ]
    },
    {
      "cell_type": "code",
      "execution_count": 9,
      "metadata": {},
      "outputs": [
        {
          "name": "stdout",
          "output_type": "stream",
          "text": [
            "0.5.1\n"
          ]
        }
      ],
      "source": [
        "import polly\n",
        "print(polly.__version__)"
      ]
    },
    {
      "cell_type": "code",
      "execution_count": 12,
      "metadata": {},
      "outputs": [
        {
          "name": "stdout",
          "output_type": "stream",
          "text": [
            "----file mapping-----\n",
            "{}\n"
          ]
        },
        {
          "ename": "paramException",
          "evalue": "paramException (parameter error): File format for file temp.txt is invalid.It can be => ['.json', '.jpco']",
          "output_type": "error",
          "traceback": [
            "\u001b[0;31m---------------------------------------------------------------------------\u001b[0m",
            "\u001b[0;31mparamException\u001b[0m                            Traceback (most recent call last)",
            "Input \u001b[0;32mIn [12]\u001b[0m, in \u001b[0;36m<cell line: 8>\u001b[0;34m()\u001b[0m\n\u001b[1;32m      6\u001b[0m priority \u001b[38;5;241m=\u001b[39m \u001b[38;5;124m\"\u001b[39m\u001b[38;5;124mhigh\u001b[39m\u001b[38;5;124m\"\u001b[39m\n\u001b[1;32m      7\u001b[0m source_folder_path \u001b[38;5;241m=\u001b[39m {\u001b[38;5;124m\"\u001b[39m\u001b[38;5;124mdata\u001b[39m\u001b[38;5;124m\"\u001b[39m:source_folder_path_data, \u001b[38;5;124m\"\u001b[39m\u001b[38;5;124mmetadata\u001b[39m\u001b[38;5;124m\"\u001b[39m:source_folder_metadata}\n\u001b[0;32m----> 8\u001b[0m \u001b[43momixatlas\u001b[49m\u001b[38;5;241;43m.\u001b[39;49m\u001b[43mupdate_datasets\u001b[49m\u001b[43m(\u001b[49m\u001b[43mrepo_id\u001b[49m\u001b[43m,\u001b[49m\u001b[43m \u001b[49m\u001b[43msource_folder_path\u001b[49m\u001b[43m,\u001b[49m\u001b[43m \u001b[49m\u001b[43mpriority\u001b[49m\u001b[43m)\u001b[49m\n",
            "File \u001b[0;32m/usr/local/lib/python3.10/site-packages/polly/tracking.py:59\u001b[0m, in \u001b[0;36mTrack.track_decorator.<locals>.wrapper_function\u001b[0;34m(*args, **kwargs)\u001b[0m\n\u001b[1;32m     57\u001b[0m         \u001b[38;5;28;01mreturn\u001b[39;00m result\n\u001b[1;32m     58\u001b[0m \u001b[38;5;28;01melse\u001b[39;00m:\n\u001b[0;32m---> 59\u001b[0m     \u001b[38;5;28;01mraise\u001b[39;00m returned_err\n",
            "File \u001b[0;32m/usr/local/lib/python3.10/site-packages/polly/tracking.py:22\u001b[0m, in \u001b[0;36mTrack.track_decorator.<locals>.wrapper_function\u001b[0;34m(*args, **kwargs)\u001b[0m\n\u001b[1;32m     20\u001b[0m execution_flag \u001b[38;5;241m=\u001b[39m \u001b[38;5;28;01mFalse\u001b[39;00m\n\u001b[1;32m     21\u001b[0m \u001b[38;5;28;01mtry\u001b[39;00m:\n\u001b[0;32m---> 22\u001b[0m     result \u001b[38;5;241m=\u001b[39m \u001b[43mfunction\u001b[49m\u001b[43m(\u001b[49m\u001b[38;5;241;43m*\u001b[39;49m\u001b[43margs\u001b[49m\u001b[43m,\u001b[49m\u001b[43m \u001b[49m\u001b[38;5;241;43m*\u001b[39;49m\u001b[38;5;241;43m*\u001b[39;49m\u001b[43mkwargs\u001b[49m\u001b[43m)\u001b[49m\n\u001b[1;32m     23\u001b[0m     execution_flag \u001b[38;5;241m=\u001b[39m \u001b[38;5;28;01mTrue\u001b[39;00m\n\u001b[1;32m     24\u001b[0m \u001b[38;5;28;01mexcept\u001b[39;00m \u001b[38;5;167;01mException\u001b[39;00m \u001b[38;5;28;01mas\u001b[39;00m e:\n",
            "File \u001b[0;32m/usr/local/lib/python3.10/site-packages/polly/omixatlas.py:1922\u001b[0m, in \u001b[0;36mOmixAtlas.update_datasets\u001b[0;34m(self, repo_id, source_folder_path, priority, file_mapping, validation)\u001b[0m\n\u001b[1;32m   1920\u001b[0m \u001b[38;5;28mprint\u001b[39m(\u001b[38;5;124m\"\u001b[39m\u001b[38;5;124m----file mapping-----\u001b[39m\u001b[38;5;124m\"\u001b[39m)\n\u001b[1;32m   1921\u001b[0m \u001b[38;5;28mprint\u001b[39m(file_mapping)\n\u001b[0;32m-> 1922\u001b[0m data_upload_results_df \u001b[38;5;241m=\u001b[39m \u001b[43mfiles_obj\u001b[49m\u001b[38;5;241;43m.\u001b[39;49m\u001b[43mupdate_datasets\u001b[49m\u001b[43m(\u001b[49m\n\u001b[1;32m   1923\u001b[0m \u001b[43m    \u001b[49m\u001b[38;5;28;43mself\u001b[39;49m\u001b[43m,\u001b[49m\u001b[43m \u001b[49m\u001b[43mrepo_id\u001b[49m\u001b[43m,\u001b[49m\u001b[43m \u001b[49m\u001b[43msource_folder_path\u001b[49m\u001b[43m,\u001b[49m\u001b[43m \u001b[49m\u001b[43mpriority\u001b[49m\u001b[43m,\u001b[49m\u001b[43m \u001b[49m\u001b[43mfile_mapping\u001b[49m\u001b[43m,\u001b[49m\u001b[43m \u001b[49m\u001b[43mvalidation\u001b[49m\n\u001b[1;32m   1924\u001b[0m \u001b[43m\u001b[49m\u001b[43m)\u001b[49m\n\u001b[1;32m   1925\u001b[0m \u001b[38;5;28;01mreturn\u001b[39;00m data_upload_results_df\n",
            "File \u001b[0;32m/usr/local/lib/python3.10/site-packages/polly_services/files/files.py:279\u001b[0m, in \u001b[0;36mFiles.update_datasets\u001b[0;34m(self, polly_session, repo_id, source_folder_path, priority, file_mapping, validation)\u001b[0m\n\u001b[1;32m    275\u001b[0m     \u001b[38;5;28;01mreturn\u001b[39;00m \u001b[38;5;28mself\u001b[39m\u001b[38;5;241m.\u001b[39mingestion_and_updation_print_commons(\n\u001b[1;32m    276\u001b[0m         file_status_dict, validation, polly_session, repo_id\n\u001b[1;32m    277\u001b[0m     )\n\u001b[1;32m    278\u001b[0m \u001b[38;5;28;01mexcept\u001b[39;00m \u001b[38;5;167;01mException\u001b[39;00m \u001b[38;5;28;01mas\u001b[39;00m err:\n\u001b[0;32m--> 279\u001b[0m     \u001b[38;5;28;01mraise\u001b[39;00m err\n",
            "File \u001b[0;32m/usr/local/lib/python3.10/site-packages/polly_services/files/files.py:147\u001b[0m, in \u001b[0;36mFiles.update_datasets\u001b[0;34m(self, polly_session, repo_id, source_folder_path, priority, file_mapping, validation)\u001b[0m\n\u001b[1;32m    136\u001b[0m \u001b[38;5;124;03m\"\"\"_summary_\u001b[39;00m\n\u001b[1;32m    137\u001b[0m \n\u001b[1;32m    138\u001b[0m \u001b[38;5;124;03mArgs:\u001b[39;00m\n\u001b[0;32m   (...)\u001b[0m\n\u001b[1;32m    144\u001b[0m \u001b[38;5;124;03m    validation (bool, optional): _description_. Defaults to False.\u001b[39;00m\n\u001b[1;32m    145\u001b[0m \u001b[38;5;124;03m\"\"\"\u001b[39;00m\n\u001b[1;32m    146\u001b[0m \u001b[38;5;28;01mtry\u001b[39;00m:\n\u001b[0;32m--> 147\u001b[0m     \u001b[43mfiles_hlpr\u001b[49m\u001b[38;5;241;43m.\u001b[39;49m\u001b[43mparameter_check_for_update_dataset\u001b[49m\u001b[43m(\u001b[49m\n\u001b[1;32m    148\u001b[0m \u001b[43m        \u001b[49m\u001b[43mrepo_id\u001b[49m\u001b[43m,\u001b[49m\u001b[43m \u001b[49m\u001b[43msource_folder_path\u001b[49m\u001b[43m,\u001b[49m\u001b[43m \u001b[49m\u001b[43mpriority\u001b[49m\u001b[43m,\u001b[49m\u001b[43m \u001b[49m\u001b[43mfile_mapping\u001b[49m\n\u001b[1;32m    149\u001b[0m \u001b[43m    \u001b[49m\u001b[43m)\u001b[49m\n\u001b[1;32m    151\u001b[0m     data_file_list, metadata_file_list \u001b[38;5;241m=\u001b[39m files_hlpr\u001b[38;5;241m.\u001b[39mcreate_file_list(\n\u001b[1;32m    152\u001b[0m         source_folder_path\n\u001b[1;32m    153\u001b[0m     )\n\u001b[1;32m    155\u001b[0m     \u001b[38;5;66;03m# mapping dict\u001b[39;00m\n",
            "File \u001b[0;32m/usr/local/lib/python3.10/site-packages/polly_services/files/files_hlpr.py:78\u001b[0m, in \u001b[0;36mparameter_check_for_update_dataset\u001b[0;34m(repo_id, source_folder_path, priority, file_mapping)\u001b[0m\n\u001b[1;32m     76\u001b[0m     check_file_mapping(file_mapping)\n\u001b[1;32m     77\u001b[0m \u001b[38;5;28;01mexcept\u001b[39;00m \u001b[38;5;167;01mException\u001b[39;00m \u001b[38;5;28;01mas\u001b[39;00m err:\n\u001b[0;32m---> 78\u001b[0m     \u001b[38;5;28;01mraise\u001b[39;00m err\n",
            "File \u001b[0;32m/usr/local/lib/python3.10/site-packages/polly_services/files/files_hlpr.py:73\u001b[0m, in \u001b[0;36mparameter_check_for_update_dataset\u001b[0;34m(repo_id, source_folder_path, priority, file_mapping)\u001b[0m\n\u001b[1;32m     71\u001b[0m polly_services_hlpr\u001b[38;5;241m.\u001b[39mparameter_check_for_repo_id(repo_id)\n\u001b[1;32m     72\u001b[0m data_metadata_parameter_check(source_folder_path, update\u001b[38;5;241m=\u001b[39m\u001b[38;5;28;01mTrue\u001b[39;00m)\n\u001b[0;32m---> 73\u001b[0m \u001b[43mdata_metadata_file_ext_check\u001b[49m\u001b[43m(\u001b[49m\u001b[43msource_folder_path\u001b[49m\u001b[43m)\u001b[49m\n\u001b[1;32m     74\u001b[0m check_data_metadata_file_path(source_folder_path)\n\u001b[1;32m     75\u001b[0m parameter_check_for_priority(priority)\n",
            "File \u001b[0;32m/usr/local/lib/python3.10/site-packages/polly_services/files/files_hlpr.py:1069\u001b[0m, in \u001b[0;36mdata_metadata_file_ext_check\u001b[0;34m(source_folder_path)\u001b[0m\n\u001b[1;32m   1067\u001b[0m file_ext_single_word \u001b[38;5;241m=\u001b[39m file_ext[\u001b[38;5;241m-\u001b[39m\u001b[38;5;241m1\u001b[39m]\n\u001b[1;32m   1068\u001b[0m \u001b[38;5;28;01mif\u001b[39;00m file_ext_single_word \u001b[38;5;129;01mnot\u001b[39;00m \u001b[38;5;129;01min\u001b[39;00m metadata_file_format_constants:\n\u001b[0;32m-> 1069\u001b[0m     \u001b[38;5;28;01mraise\u001b[39;00m paramException(\n\u001b[1;32m   1070\u001b[0m         title\u001b[38;5;241m=\u001b[39m\u001b[38;5;124m\"\u001b[39m\u001b[38;5;124mParam Error\u001b[39m\u001b[38;5;124m\"\u001b[39m,\n\u001b[1;32m   1071\u001b[0m         detail\u001b[38;5;241m=\u001b[39m\u001b[38;5;124mf\u001b[39m\u001b[38;5;124m\"\u001b[39m\u001b[38;5;124mFile format for file \u001b[39m\u001b[38;5;132;01m{\u001b[39;00mfile\u001b[38;5;132;01m}\u001b[39;00m\u001b[38;5;124m is invalid.\u001b[39m\u001b[38;5;124m\"\u001b[39m\n\u001b[1;32m   1072\u001b[0m         \u001b[38;5;241m+\u001b[39m \u001b[38;5;124mf\u001b[39m\u001b[38;5;124m\"\u001b[39m\u001b[38;5;124mIt can be => \u001b[39m\u001b[38;5;132;01m{\u001b[39;00mmetadata_file_format_constants\u001b[38;5;132;01m}\u001b[39;00m\u001b[38;5;124m\"\u001b[39m,\n\u001b[1;32m   1073\u001b[0m     )\n",
            "\u001b[0;31mparamException\u001b[0m: paramException (parameter error): File format for file temp.txt is invalid.It can be => ['.json', '.jpco']"
          ]
        }
      ],
      "source": [
        "# Testing point 3\n",
        "# wrong extension of metadata\n",
        "repo_id = \"1654268055800\"\n",
        "source_folder_path_data = \"/import/data\"\n",
        "source_folder_metadata = \"/import/metadata\"\n",
        "priority = \"high\"\n",
        "source_folder_path = {\"data\":source_folder_path_data, \"metadata\":source_folder_metadata}\n",
        "omixatlas.update_datasets(repo_id, source_folder_path, priority)"
      ]
    },
    {
      "cell_type": "code",
      "execution_count": 14,
      "metadata": {},
      "outputs": [
        {
          "name": "stdout",
          "output_type": "stream",
          "text": [
            "----file mapping-----\n",
            "{}\n"
          ]
        },
        {
          "ename": "paramException",
          "evalue": "paramException (parameter error): File format for file temp.txt is invalid.It can be => ['.gct', '.vcf', '.h5ad', '.mmcif', '.h5seurat', '.biom', '.zip', '.fs', '.tar.gz', '.fcs', '.vcf.bgz', '.gct.bz', '.csv']",
          "output_type": "error",
          "traceback": [
            "\u001b[0;31m---------------------------------------------------------------------------\u001b[0m",
            "\u001b[0;31mparamException\u001b[0m                            Traceback (most recent call last)",
            "Input \u001b[0;32mIn [14]\u001b[0m, in \u001b[0;36m<cell line: 8>\u001b[0;34m()\u001b[0m\n\u001b[1;32m      6\u001b[0m priority \u001b[38;5;241m=\u001b[39m \u001b[38;5;124m\"\u001b[39m\u001b[38;5;124mhigh\u001b[39m\u001b[38;5;124m\"\u001b[39m\n\u001b[1;32m      7\u001b[0m source_folder_path \u001b[38;5;241m=\u001b[39m {\u001b[38;5;124m\"\u001b[39m\u001b[38;5;124mdata\u001b[39m\u001b[38;5;124m\"\u001b[39m:source_folder_path_data, \u001b[38;5;124m\"\u001b[39m\u001b[38;5;124mmetadata\u001b[39m\u001b[38;5;124m\"\u001b[39m:source_folder_metadata}\n\u001b[0;32m----> 8\u001b[0m \u001b[43momixatlas\u001b[49m\u001b[38;5;241;43m.\u001b[39;49m\u001b[43mupdate_datasets\u001b[49m\u001b[43m(\u001b[49m\u001b[43mrepo_id\u001b[49m\u001b[43m,\u001b[49m\u001b[43m \u001b[49m\u001b[43msource_folder_path\u001b[49m\u001b[43m,\u001b[49m\u001b[43m \u001b[49m\u001b[43mpriority\u001b[49m\u001b[43m)\u001b[49m\n",
            "File \u001b[0;32m/usr/local/lib/python3.10/site-packages/polly/tracking.py:59\u001b[0m, in \u001b[0;36mTrack.track_decorator.<locals>.wrapper_function\u001b[0;34m(*args, **kwargs)\u001b[0m\n\u001b[1;32m     57\u001b[0m         \u001b[38;5;28;01mreturn\u001b[39;00m result\n\u001b[1;32m     58\u001b[0m \u001b[38;5;28;01melse\u001b[39;00m:\n\u001b[0;32m---> 59\u001b[0m     \u001b[38;5;28;01mraise\u001b[39;00m returned_err\n",
            "File \u001b[0;32m/usr/local/lib/python3.10/site-packages/polly/tracking.py:22\u001b[0m, in \u001b[0;36mTrack.track_decorator.<locals>.wrapper_function\u001b[0;34m(*args, **kwargs)\u001b[0m\n\u001b[1;32m     20\u001b[0m execution_flag \u001b[38;5;241m=\u001b[39m \u001b[38;5;28;01mFalse\u001b[39;00m\n\u001b[1;32m     21\u001b[0m \u001b[38;5;28;01mtry\u001b[39;00m:\n\u001b[0;32m---> 22\u001b[0m     result \u001b[38;5;241m=\u001b[39m \u001b[43mfunction\u001b[49m\u001b[43m(\u001b[49m\u001b[38;5;241;43m*\u001b[39;49m\u001b[43margs\u001b[49m\u001b[43m,\u001b[49m\u001b[43m \u001b[49m\u001b[38;5;241;43m*\u001b[39;49m\u001b[38;5;241;43m*\u001b[39;49m\u001b[43mkwargs\u001b[49m\u001b[43m)\u001b[49m\n\u001b[1;32m     23\u001b[0m     execution_flag \u001b[38;5;241m=\u001b[39m \u001b[38;5;28;01mTrue\u001b[39;00m\n\u001b[1;32m     24\u001b[0m \u001b[38;5;28;01mexcept\u001b[39;00m \u001b[38;5;167;01mException\u001b[39;00m \u001b[38;5;28;01mas\u001b[39;00m e:\n",
            "File \u001b[0;32m/usr/local/lib/python3.10/site-packages/polly/omixatlas.py:1922\u001b[0m, in \u001b[0;36mOmixAtlas.update_datasets\u001b[0;34m(self, repo_id, source_folder_path, priority, file_mapping, validation)\u001b[0m\n\u001b[1;32m   1920\u001b[0m \u001b[38;5;28mprint\u001b[39m(\u001b[38;5;124m\"\u001b[39m\u001b[38;5;124m----file mapping-----\u001b[39m\u001b[38;5;124m\"\u001b[39m)\n\u001b[1;32m   1921\u001b[0m \u001b[38;5;28mprint\u001b[39m(file_mapping)\n\u001b[0;32m-> 1922\u001b[0m data_upload_results_df \u001b[38;5;241m=\u001b[39m \u001b[43mfiles_obj\u001b[49m\u001b[38;5;241;43m.\u001b[39;49m\u001b[43mupdate_datasets\u001b[49m\u001b[43m(\u001b[49m\n\u001b[1;32m   1923\u001b[0m \u001b[43m    \u001b[49m\u001b[38;5;28;43mself\u001b[39;49m\u001b[43m,\u001b[49m\u001b[43m \u001b[49m\u001b[43mrepo_id\u001b[49m\u001b[43m,\u001b[49m\u001b[43m \u001b[49m\u001b[43msource_folder_path\u001b[49m\u001b[43m,\u001b[49m\u001b[43m \u001b[49m\u001b[43mpriority\u001b[49m\u001b[43m,\u001b[49m\u001b[43m \u001b[49m\u001b[43mfile_mapping\u001b[49m\u001b[43m,\u001b[49m\u001b[43m \u001b[49m\u001b[43mvalidation\u001b[49m\n\u001b[1;32m   1924\u001b[0m \u001b[43m\u001b[49m\u001b[43m)\u001b[49m\n\u001b[1;32m   1925\u001b[0m \u001b[38;5;28;01mreturn\u001b[39;00m data_upload_results_df\n",
            "File \u001b[0;32m/usr/local/lib/python3.10/site-packages/polly_services/files/files.py:279\u001b[0m, in \u001b[0;36mFiles.update_datasets\u001b[0;34m(self, polly_session, repo_id, source_folder_path, priority, file_mapping, validation)\u001b[0m\n\u001b[1;32m    275\u001b[0m     \u001b[38;5;28;01mreturn\u001b[39;00m \u001b[38;5;28mself\u001b[39m\u001b[38;5;241m.\u001b[39mingestion_and_updation_print_commons(\n\u001b[1;32m    276\u001b[0m         file_status_dict, validation, polly_session, repo_id\n\u001b[1;32m    277\u001b[0m     )\n\u001b[1;32m    278\u001b[0m \u001b[38;5;28;01mexcept\u001b[39;00m \u001b[38;5;167;01mException\u001b[39;00m \u001b[38;5;28;01mas\u001b[39;00m err:\n\u001b[0;32m--> 279\u001b[0m     \u001b[38;5;28;01mraise\u001b[39;00m err\n",
            "File \u001b[0;32m/usr/local/lib/python3.10/site-packages/polly_services/files/files.py:147\u001b[0m, in \u001b[0;36mFiles.update_datasets\u001b[0;34m(self, polly_session, repo_id, source_folder_path, priority, file_mapping, validation)\u001b[0m\n\u001b[1;32m    136\u001b[0m \u001b[38;5;124;03m\"\"\"_summary_\u001b[39;00m\n\u001b[1;32m    137\u001b[0m \n\u001b[1;32m    138\u001b[0m \u001b[38;5;124;03mArgs:\u001b[39;00m\n\u001b[0;32m   (...)\u001b[0m\n\u001b[1;32m    144\u001b[0m \u001b[38;5;124;03m    validation (bool, optional): _description_. Defaults to False.\u001b[39;00m\n\u001b[1;32m    145\u001b[0m \u001b[38;5;124;03m\"\"\"\u001b[39;00m\n\u001b[1;32m    146\u001b[0m \u001b[38;5;28;01mtry\u001b[39;00m:\n\u001b[0;32m--> 147\u001b[0m     \u001b[43mfiles_hlpr\u001b[49m\u001b[38;5;241;43m.\u001b[39;49m\u001b[43mparameter_check_for_update_dataset\u001b[49m\u001b[43m(\u001b[49m\n\u001b[1;32m    148\u001b[0m \u001b[43m        \u001b[49m\u001b[43mrepo_id\u001b[49m\u001b[43m,\u001b[49m\u001b[43m \u001b[49m\u001b[43msource_folder_path\u001b[49m\u001b[43m,\u001b[49m\u001b[43m \u001b[49m\u001b[43mpriority\u001b[49m\u001b[43m,\u001b[49m\u001b[43m \u001b[49m\u001b[43mfile_mapping\u001b[49m\n\u001b[1;32m    149\u001b[0m \u001b[43m    \u001b[49m\u001b[43m)\u001b[49m\n\u001b[1;32m    151\u001b[0m     data_file_list, metadata_file_list \u001b[38;5;241m=\u001b[39m files_hlpr\u001b[38;5;241m.\u001b[39mcreate_file_list(\n\u001b[1;32m    152\u001b[0m         source_folder_path\n\u001b[1;32m    153\u001b[0m     )\n\u001b[1;32m    155\u001b[0m     \u001b[38;5;66;03m# mapping dict\u001b[39;00m\n",
            "File \u001b[0;32m/usr/local/lib/python3.10/site-packages/polly_services/files/files_hlpr.py:78\u001b[0m, in \u001b[0;36mparameter_check_for_update_dataset\u001b[0;34m(repo_id, source_folder_path, priority, file_mapping)\u001b[0m\n\u001b[1;32m     76\u001b[0m     check_file_mapping(file_mapping)\n\u001b[1;32m     77\u001b[0m \u001b[38;5;28;01mexcept\u001b[39;00m \u001b[38;5;167;01mException\u001b[39;00m \u001b[38;5;28;01mas\u001b[39;00m err:\n\u001b[0;32m---> 78\u001b[0m     \u001b[38;5;28;01mraise\u001b[39;00m err\n",
            "File \u001b[0;32m/usr/local/lib/python3.10/site-packages/polly_services/files/files_hlpr.py:73\u001b[0m, in \u001b[0;36mparameter_check_for_update_dataset\u001b[0;34m(repo_id, source_folder_path, priority, file_mapping)\u001b[0m\n\u001b[1;32m     71\u001b[0m polly_services_hlpr\u001b[38;5;241m.\u001b[39mparameter_check_for_repo_id(repo_id)\n\u001b[1;32m     72\u001b[0m data_metadata_parameter_check(source_folder_path, update\u001b[38;5;241m=\u001b[39m\u001b[38;5;28;01mTrue\u001b[39;00m)\n\u001b[0;32m---> 73\u001b[0m \u001b[43mdata_metadata_file_ext_check\u001b[49m\u001b[43m(\u001b[49m\u001b[43msource_folder_path\u001b[49m\u001b[43m)\u001b[49m\n\u001b[1;32m     74\u001b[0m check_data_metadata_file_path(source_folder_path)\n\u001b[1;32m     75\u001b[0m parameter_check_for_priority(priority)\n",
            "File \u001b[0;32m/usr/local/lib/python3.10/site-packages/polly_services/files/files_hlpr.py:1059\u001b[0m, in \u001b[0;36mdata_metadata_file_ext_check\u001b[0;34m(source_folder_path)\u001b[0m\n\u001b[1;32m   1055\u001b[0m         check_for_single_word_multi_word_extension(\n\u001b[1;32m   1056\u001b[0m             data_file_list, data_file_format_constants\n\u001b[1;32m   1057\u001b[0m         )\n\u001b[1;32m   1058\u001b[0m     \u001b[38;5;28;01mexcept\u001b[39;00m \u001b[38;5;167;01mException\u001b[39;00m \u001b[38;5;28;01mas\u001b[39;00m err:\n\u001b[0;32m-> 1059\u001b[0m         \u001b[38;5;28;01mraise\u001b[39;00m err\n\u001b[1;32m   1061\u001b[0m metadata_file_format_constants \u001b[38;5;241m=\u001b[39m format_constants[\u001b[38;5;124m\"\u001b[39m\u001b[38;5;124mmetadata\u001b[39m\u001b[38;5;124m\"\u001b[39m]\n\u001b[1;32m   1062\u001b[0m metadata_source_folder_path \u001b[38;5;241m=\u001b[39m source_folder_path\u001b[38;5;241m.\u001b[39mget(\u001b[38;5;124m\"\u001b[39m\u001b[38;5;124mmetadata\u001b[39m\u001b[38;5;124m\"\u001b[39m, \u001b[38;5;124m\"\u001b[39m\u001b[38;5;124m\"\u001b[39m)\n",
            "File \u001b[0;32m/usr/local/lib/python3.10/site-packages/polly_services/files/files_hlpr.py:1055\u001b[0m, in \u001b[0;36mdata_metadata_file_ext_check\u001b[0;34m(source_folder_path)\u001b[0m\n\u001b[1;32m   1053\u001b[0m data_file_list \u001b[38;5;241m=\u001b[39m data_files_for_upload(data_source_folder_path)\n\u001b[1;32m   1054\u001b[0m \u001b[38;5;28;01mtry\u001b[39;00m:\n\u001b[0;32m-> 1055\u001b[0m     \u001b[43mcheck_for_single_word_multi_word_extension\u001b[49m\u001b[43m(\u001b[49m\n\u001b[1;32m   1056\u001b[0m \u001b[43m        \u001b[49m\u001b[43mdata_file_list\u001b[49m\u001b[43m,\u001b[49m\u001b[43m \u001b[49m\u001b[43mdata_file_format_constants\u001b[49m\n\u001b[1;32m   1057\u001b[0m \u001b[43m    \u001b[49m\u001b[43m)\u001b[49m\n\u001b[1;32m   1058\u001b[0m \u001b[38;5;28;01mexcept\u001b[39;00m \u001b[38;5;167;01mException\u001b[39;00m \u001b[38;5;28;01mas\u001b[39;00m err:\n\u001b[1;32m   1059\u001b[0m     \u001b[38;5;28;01mraise\u001b[39;00m err\n",
            "File \u001b[0;32m/usr/local/lib/python3.10/site-packages/polly_services/files/files_hlpr.py:758\u001b[0m, in \u001b[0;36mcheck_for_single_word_multi_word_extension\u001b[0;34m(data_file_list, data_file_format_constants)\u001b[0m\n\u001b[1;32m    756\u001b[0m     file_ext_single_word \u001b[38;5;241m=\u001b[39m file_ext[\u001b[38;5;241m-\u001b[39m\u001b[38;5;241m1\u001b[39m]\n\u001b[1;32m    757\u001b[0m     \u001b[38;5;28;01mif\u001b[39;00m file_ext_single_word \u001b[38;5;129;01mnot\u001b[39;00m \u001b[38;5;129;01min\u001b[39;00m data_file_format_constants:\n\u001b[0;32m--> 758\u001b[0m         \u001b[38;5;28;01mraise\u001b[39;00m paramException(\n\u001b[1;32m    759\u001b[0m             title\u001b[38;5;241m=\u001b[39m\u001b[38;5;124m\"\u001b[39m\u001b[38;5;124mParam Error\u001b[39m\u001b[38;5;124m\"\u001b[39m,\n\u001b[1;32m    760\u001b[0m             detail\u001b[38;5;241m=\u001b[39m\u001b[38;5;124mf\u001b[39m\u001b[38;5;124m\"\u001b[39m\u001b[38;5;124mFile format for file \u001b[39m\u001b[38;5;132;01m{\u001b[39;00mfile\u001b[38;5;132;01m}\u001b[39;00m\u001b[38;5;124m is invalid.\u001b[39m\u001b[38;5;124m\"\u001b[39m\n\u001b[1;32m    761\u001b[0m             \u001b[38;5;241m+\u001b[39m \u001b[38;5;124mf\u001b[39m\u001b[38;5;124m\"\u001b[39m\u001b[38;5;124mIt can be => \u001b[39m\u001b[38;5;132;01m{\u001b[39;00mdata_file_format_constants\u001b[38;5;132;01m}\u001b[39;00m\u001b[38;5;124m\"\u001b[39m,\n\u001b[1;32m    762\u001b[0m         )\n\u001b[1;32m    763\u001b[0m \u001b[38;5;28;01melif\u001b[39;00m \u001b[38;5;28mlen\u001b[39m(file_ext) \u001b[38;5;241m>\u001b[39m \u001b[38;5;241m1\u001b[39m:\n\u001b[1;32m    764\u001b[0m     \u001b[38;5;66;03m# file with multi word extension\u001b[39;00m\n\u001b[1;32m    765\u001b[0m     \u001b[38;5;66;03m# or `.`'s present in file name\u001b[39;00m\n\u001b[1;32m    766\u001b[0m     \u001b[38;5;66;03m# check for multiword extensions\u001b[39;00m\n\u001b[1;32m    767\u001b[0m     compression_type_check \u001b[38;5;241m=\u001b[39m file_ext[\u001b[38;5;241m-\u001b[39m\u001b[38;5;241m1\u001b[39m]\n",
            "\u001b[0;31mparamException\u001b[0m: paramException (parameter error): File format for file temp.txt is invalid.It can be => ['.gct', '.vcf', '.h5ad', '.mmcif', '.h5seurat', '.biom', '.zip', '.fs', '.tar.gz', '.fcs', '.vcf.bgz', '.gct.bz', '.csv']"
          ]
        }
      ],
      "source": [
        "# Testing point 4\n",
        "# wrong extension dataset\n",
        "repo_id = \"1654268055800\"\n",
        "source_folder_path_data = \"/import/data\"\n",
        "source_folder_metadata = \"/import/metadata\"\n",
        "priority = \"high\"\n",
        "source_folder_path = {\"data\":source_folder_path_data, \"metadata\":source_folder_metadata}\n",
        "omixatlas.update_datasets(repo_id, source_folder_path, priority)"
      ]
    },
    {
      "cell_type": "code",
      "execution_count": 11,
      "metadata": {},
      "outputs": [
        {
          "name": "stdout",
          "output_type": "stream",
          "text": [
            "----file mapping-----\n",
            "[{'abcde.gct': 'abcde'}]\n"
          ]
        },
        {
          "ename": "paramException",
          "evalue": "paramException (parameter error): file_mapping parameter should be dictionary, where each entry  is a should be a mapping of dataset_file_name & dataset_id {dataset_file_name: dataset_id}.",
          "output_type": "error",
          "traceback": [
            "\u001b[0;31m---------------------------------------------------------------------------\u001b[0m",
            "\u001b[0;31mparamException\u001b[0m                            Traceback (most recent call last)",
            "Input \u001b[0;32mIn [11]\u001b[0m, in \u001b[0;36m<cell line: 12>\u001b[0;34m()\u001b[0m\n\u001b[1;32m     10\u001b[0m file_mapping \u001b[38;5;241m=\u001b[39m [{\u001b[38;5;124m\"\u001b[39m\u001b[38;5;124mabcde.gct\u001b[39m\u001b[38;5;124m\"\u001b[39m: \u001b[38;5;124m\"\u001b[39m\u001b[38;5;124mabcde\u001b[39m\u001b[38;5;124m\"\u001b[39m}]\n\u001b[1;32m     11\u001b[0m source_folder_path \u001b[38;5;241m=\u001b[39m {\u001b[38;5;124m\"\u001b[39m\u001b[38;5;124mdata\u001b[39m\u001b[38;5;124m\"\u001b[39m:source_folder_path_data, \u001b[38;5;124m\"\u001b[39m\u001b[38;5;124mmetadata\u001b[39m\u001b[38;5;124m\"\u001b[39m:source_folder_metadata}\n\u001b[0;32m---> 12\u001b[0m \u001b[43momixatlas\u001b[49m\u001b[38;5;241;43m.\u001b[39;49m\u001b[43mupdate_datasets\u001b[49m\u001b[43m(\u001b[49m\u001b[43mrepo_id\u001b[49m\u001b[43m,\u001b[49m\u001b[43m \u001b[49m\u001b[43msource_folder_path\u001b[49m\u001b[43m,\u001b[49m\u001b[43m \u001b[49m\u001b[43mpriority\u001b[49m\u001b[43m,\u001b[49m\u001b[43m \u001b[49m\u001b[43mfile_mapping\u001b[49m\u001b[38;5;241;43m=\u001b[39;49m\u001b[43mfile_mapping\u001b[49m\u001b[43m)\u001b[49m\n",
            "File \u001b[0;32m/usr/local/lib/python3.10/site-packages/polly/tracking.py:59\u001b[0m, in \u001b[0;36mTrack.track_decorator.<locals>.wrapper_function\u001b[0;34m(*args, **kwargs)\u001b[0m\n\u001b[1;32m     57\u001b[0m         \u001b[38;5;28;01mreturn\u001b[39;00m result\n\u001b[1;32m     58\u001b[0m \u001b[38;5;28;01melse\u001b[39;00m:\n\u001b[0;32m---> 59\u001b[0m     \u001b[38;5;28;01mraise\u001b[39;00m returned_err\n",
            "File \u001b[0;32m/usr/local/lib/python3.10/site-packages/polly/tracking.py:22\u001b[0m, in \u001b[0;36mTrack.track_decorator.<locals>.wrapper_function\u001b[0;34m(*args, **kwargs)\u001b[0m\n\u001b[1;32m     20\u001b[0m execution_flag \u001b[38;5;241m=\u001b[39m \u001b[38;5;28;01mFalse\u001b[39;00m\n\u001b[1;32m     21\u001b[0m \u001b[38;5;28;01mtry\u001b[39;00m:\n\u001b[0;32m---> 22\u001b[0m     result \u001b[38;5;241m=\u001b[39m \u001b[43mfunction\u001b[49m\u001b[43m(\u001b[49m\u001b[38;5;241;43m*\u001b[39;49m\u001b[43margs\u001b[49m\u001b[43m,\u001b[49m\u001b[43m \u001b[49m\u001b[38;5;241;43m*\u001b[39;49m\u001b[38;5;241;43m*\u001b[39;49m\u001b[43mkwargs\u001b[49m\u001b[43m)\u001b[49m\n\u001b[1;32m     23\u001b[0m     execution_flag \u001b[38;5;241m=\u001b[39m \u001b[38;5;28;01mTrue\u001b[39;00m\n\u001b[1;32m     24\u001b[0m \u001b[38;5;28;01mexcept\u001b[39;00m \u001b[38;5;167;01mException\u001b[39;00m \u001b[38;5;28;01mas\u001b[39;00m e:\n",
            "File \u001b[0;32m/usr/local/lib/python3.10/site-packages/polly/omixatlas.py:1922\u001b[0m, in \u001b[0;36mOmixAtlas.update_datasets\u001b[0;34m(self, repo_id, source_folder_path, priority, file_mapping, validation)\u001b[0m\n\u001b[1;32m   1920\u001b[0m \u001b[38;5;28mprint\u001b[39m(\u001b[38;5;124m\"\u001b[39m\u001b[38;5;124m----file mapping-----\u001b[39m\u001b[38;5;124m\"\u001b[39m)\n\u001b[1;32m   1921\u001b[0m \u001b[38;5;28mprint\u001b[39m(file_mapping)\n\u001b[0;32m-> 1922\u001b[0m data_upload_results_df \u001b[38;5;241m=\u001b[39m \u001b[43mfiles_obj\u001b[49m\u001b[38;5;241;43m.\u001b[39;49m\u001b[43mupdate_datasets\u001b[49m\u001b[43m(\u001b[49m\n\u001b[1;32m   1923\u001b[0m \u001b[43m    \u001b[49m\u001b[38;5;28;43mself\u001b[39;49m\u001b[43m,\u001b[49m\u001b[43m \u001b[49m\u001b[43mrepo_id\u001b[49m\u001b[43m,\u001b[49m\u001b[43m \u001b[49m\u001b[43msource_folder_path\u001b[49m\u001b[43m,\u001b[49m\u001b[43m \u001b[49m\u001b[43mpriority\u001b[49m\u001b[43m,\u001b[49m\u001b[43m \u001b[49m\u001b[43mfile_mapping\u001b[49m\u001b[43m,\u001b[49m\u001b[43m \u001b[49m\u001b[43mvalidation\u001b[49m\n\u001b[1;32m   1924\u001b[0m \u001b[43m\u001b[49m\u001b[43m)\u001b[49m\n\u001b[1;32m   1925\u001b[0m \u001b[38;5;28;01mreturn\u001b[39;00m data_upload_results_df\n",
            "File \u001b[0;32m/usr/local/lib/python3.10/site-packages/polly_services/files/files.py:279\u001b[0m, in \u001b[0;36mFiles.update_datasets\u001b[0;34m(self, polly_session, repo_id, source_folder_path, priority, file_mapping, validation)\u001b[0m\n\u001b[1;32m    275\u001b[0m     \u001b[38;5;28;01mreturn\u001b[39;00m \u001b[38;5;28mself\u001b[39m\u001b[38;5;241m.\u001b[39mingestion_and_updation_print_commons(\n\u001b[1;32m    276\u001b[0m         file_status_dict, validation, polly_session, repo_id\n\u001b[1;32m    277\u001b[0m     )\n\u001b[1;32m    278\u001b[0m \u001b[38;5;28;01mexcept\u001b[39;00m \u001b[38;5;167;01mException\u001b[39;00m \u001b[38;5;28;01mas\u001b[39;00m err:\n\u001b[0;32m--> 279\u001b[0m     \u001b[38;5;28;01mraise\u001b[39;00m err\n",
            "File \u001b[0;32m/usr/local/lib/python3.10/site-packages/polly_services/files/files.py:147\u001b[0m, in \u001b[0;36mFiles.update_datasets\u001b[0;34m(self, polly_session, repo_id, source_folder_path, priority, file_mapping, validation)\u001b[0m\n\u001b[1;32m    136\u001b[0m \u001b[38;5;124;03m\"\"\"_summary_\u001b[39;00m\n\u001b[1;32m    137\u001b[0m \n\u001b[1;32m    138\u001b[0m \u001b[38;5;124;03mArgs:\u001b[39;00m\n\u001b[0;32m   (...)\u001b[0m\n\u001b[1;32m    144\u001b[0m \u001b[38;5;124;03m    validation (bool, optional): _description_. Defaults to False.\u001b[39;00m\n\u001b[1;32m    145\u001b[0m \u001b[38;5;124;03m\"\"\"\u001b[39;00m\n\u001b[1;32m    146\u001b[0m \u001b[38;5;28;01mtry\u001b[39;00m:\n\u001b[0;32m--> 147\u001b[0m     \u001b[43mfiles_hlpr\u001b[49m\u001b[38;5;241;43m.\u001b[39;49m\u001b[43mparameter_check_for_update_dataset\u001b[49m\u001b[43m(\u001b[49m\n\u001b[1;32m    148\u001b[0m \u001b[43m        \u001b[49m\u001b[43mrepo_id\u001b[49m\u001b[43m,\u001b[49m\u001b[43m \u001b[49m\u001b[43msource_folder_path\u001b[49m\u001b[43m,\u001b[49m\u001b[43m \u001b[49m\u001b[43mpriority\u001b[49m\u001b[43m,\u001b[49m\u001b[43m \u001b[49m\u001b[43mfile_mapping\u001b[49m\n\u001b[1;32m    149\u001b[0m \u001b[43m    \u001b[49m\u001b[43m)\u001b[49m\n\u001b[1;32m    151\u001b[0m     data_file_list, metadata_file_list \u001b[38;5;241m=\u001b[39m files_hlpr\u001b[38;5;241m.\u001b[39mcreate_file_list(\n\u001b[1;32m    152\u001b[0m         source_folder_path\n\u001b[1;32m    153\u001b[0m     )\n\u001b[1;32m    155\u001b[0m     \u001b[38;5;66;03m# mapping dict\u001b[39;00m\n",
            "File \u001b[0;32m/usr/local/lib/python3.10/site-packages/polly_services/files/files_hlpr.py:78\u001b[0m, in \u001b[0;36mparameter_check_for_update_dataset\u001b[0;34m(repo_id, source_folder_path, priority, file_mapping)\u001b[0m\n\u001b[1;32m     76\u001b[0m     check_file_mapping(file_mapping)\n\u001b[1;32m     77\u001b[0m \u001b[38;5;28;01mexcept\u001b[39;00m \u001b[38;5;167;01mException\u001b[39;00m \u001b[38;5;28;01mas\u001b[39;00m err:\n\u001b[0;32m---> 78\u001b[0m     \u001b[38;5;28;01mraise\u001b[39;00m err\n",
            "File \u001b[0;32m/usr/local/lib/python3.10/site-packages/polly_services/files/files_hlpr.py:76\u001b[0m, in \u001b[0;36mparameter_check_for_update_dataset\u001b[0;34m(repo_id, source_folder_path, priority, file_mapping)\u001b[0m\n\u001b[1;32m     74\u001b[0m     check_data_metadata_file_path(source_folder_path)\n\u001b[1;32m     75\u001b[0m     parameter_check_for_priority(priority)\n\u001b[0;32m---> 76\u001b[0m     \u001b[43mcheck_file_mapping\u001b[49m\u001b[43m(\u001b[49m\u001b[43mfile_mapping\u001b[49m\u001b[43m)\u001b[49m\n\u001b[1;32m     77\u001b[0m \u001b[38;5;28;01mexcept\u001b[39;00m \u001b[38;5;167;01mException\u001b[39;00m \u001b[38;5;28;01mas\u001b[39;00m err:\n\u001b[1;32m     78\u001b[0m     \u001b[38;5;28;01mraise\u001b[39;00m err\n",
            "File \u001b[0;32m/usr/local/lib/python3.10/site-packages/polly_services/files/files_hlpr.py:88\u001b[0m, in \u001b[0;36mcheck_file_mapping\u001b[0;34m(file_mapping)\u001b[0m\n\u001b[1;32m     82\u001b[0m \u001b[38;5;124;03m\"\"\"_summary_\u001b[39;00m\n\u001b[1;32m     83\u001b[0m \n\u001b[1;32m     84\u001b[0m \u001b[38;5;124;03mArgs:\u001b[39;00m\n\u001b[1;32m     85\u001b[0m \u001b[38;5;124;03m    file_mapping (list): _description_\u001b[39;00m\n\u001b[1;32m     86\u001b[0m \u001b[38;5;124;03m\"\"\"\u001b[39;00m\n\u001b[1;32m     87\u001b[0m \u001b[38;5;28;01mif\u001b[39;00m \u001b[38;5;129;01mnot\u001b[39;00m \u001b[38;5;28misinstance\u001b[39m(file_mapping, \u001b[38;5;28mdict\u001b[39m):\n\u001b[0;32m---> 88\u001b[0m     \u001b[38;5;28;01mraise\u001b[39;00m paramException(\n\u001b[1;32m     89\u001b[0m         title\u001b[38;5;241m=\u001b[39m\u001b[38;5;124m\"\u001b[39m\u001b[38;5;124mParam Error\u001b[39m\u001b[38;5;124m\"\u001b[39m,\n\u001b[1;32m     90\u001b[0m         detail\u001b[38;5;241m=\u001b[39m\u001b[38;5;124m\"\u001b[39m\u001b[38;5;124mfile_mapping parameter should be dictionary, where each entry  \u001b[39m\u001b[38;5;124m\"\u001b[39m\n\u001b[1;32m     91\u001b[0m         \u001b[38;5;241m+\u001b[39m \u001b[38;5;124m\"\u001b[39m\u001b[38;5;124mis a should be a mapping of dataset_file_name & dataset_id \u001b[39m\u001b[38;5;124m{\u001b[39m\u001b[38;5;124mdataset_file_name: dataset_id}.\u001b[39m\u001b[38;5;124m\"\u001b[39m,\n\u001b[1;32m     92\u001b[0m     )\n",
            "\u001b[0;31mparamException\u001b[0m: paramException (parameter error): file_mapping parameter should be dictionary, where each entry  is a should be a mapping of dataset_file_name & dataset_id {dataset_file_name: dataset_id}."
          ]
        }
      ],
      "source": [
        "# testing point 5\n",
        "# file mapping check -> wrong format of file_mapping dict passed\n",
        "# paramException raised\n",
        "\n",
        "repo_id = \"1654268055800\"\n",
        "source_folder_path_data = \"/import/data\"\n",
        "source_folder_metadata = \"/import/metadata\"\n",
        "priority = \"high\"\n",
        "# dummy entry in file_mapping dict\n",
        "file_mapping = [{\"abcde.gct\": \"abcde\"}]\n",
        "source_folder_path = {\"data\":source_folder_path_data, \"metadata\":source_folder_metadata}\n",
        "omixatlas.update_datasets(repo_id, source_folder_path, priority, file_mapping=file_mapping)\n",
        "\n"
      ]
    },
    {
      "cell_type": "code",
      "execution_count": 12,
      "metadata": {},
      "outputs": [
        {
          "name": "stdout",
          "output_type": "stream",
          "text": [
            "----file mapping-----\n",
            "{}\n"
          ]
        },
        {
          "ename": "paramException",
          "evalue": "paramException (parameter error): If only data files are getting updated, then file_mapping dict required",
          "output_type": "error",
          "traceback": [
            "\u001b[0;31m---------------------------------------------------------------------------\u001b[0m",
            "\u001b[0;31mparamException\u001b[0m                            Traceback (most recent call last)",
            "Input \u001b[0;32mIn [12]\u001b[0m, in \u001b[0;36m<cell line: 11>\u001b[0;34m()\u001b[0m\n\u001b[1;32m      8\u001b[0m priority \u001b[38;5;241m=\u001b[39m \u001b[38;5;124m\"\u001b[39m\u001b[38;5;124mhigh\u001b[39m\u001b[38;5;124m\"\u001b[39m\n\u001b[1;32m     10\u001b[0m source_folder_path \u001b[38;5;241m=\u001b[39m {\u001b[38;5;124m\"\u001b[39m\u001b[38;5;124mdata\u001b[39m\u001b[38;5;124m\"\u001b[39m:source_folder_path_data}\n\u001b[0;32m---> 11\u001b[0m \u001b[43momixatlas\u001b[49m\u001b[38;5;241;43m.\u001b[39;49m\u001b[43mupdate_datasets\u001b[49m\u001b[43m(\u001b[49m\u001b[43mrepo_id\u001b[49m\u001b[43m,\u001b[49m\u001b[43m \u001b[49m\u001b[43msource_folder_path\u001b[49m\u001b[43m,\u001b[49m\u001b[43m \u001b[49m\u001b[43mpriority\u001b[49m\u001b[43m)\u001b[49m\n",
            "File \u001b[0;32m/usr/local/lib/python3.10/site-packages/polly/tracking.py:59\u001b[0m, in \u001b[0;36mTrack.track_decorator.<locals>.wrapper_function\u001b[0;34m(*args, **kwargs)\u001b[0m\n\u001b[1;32m     57\u001b[0m         \u001b[38;5;28;01mreturn\u001b[39;00m result\n\u001b[1;32m     58\u001b[0m \u001b[38;5;28;01melse\u001b[39;00m:\n\u001b[0;32m---> 59\u001b[0m     \u001b[38;5;28;01mraise\u001b[39;00m returned_err\n",
            "File \u001b[0;32m/usr/local/lib/python3.10/site-packages/polly/tracking.py:22\u001b[0m, in \u001b[0;36mTrack.track_decorator.<locals>.wrapper_function\u001b[0;34m(*args, **kwargs)\u001b[0m\n\u001b[1;32m     20\u001b[0m execution_flag \u001b[38;5;241m=\u001b[39m \u001b[38;5;28;01mFalse\u001b[39;00m\n\u001b[1;32m     21\u001b[0m \u001b[38;5;28;01mtry\u001b[39;00m:\n\u001b[0;32m---> 22\u001b[0m     result \u001b[38;5;241m=\u001b[39m \u001b[43mfunction\u001b[49m\u001b[43m(\u001b[49m\u001b[38;5;241;43m*\u001b[39;49m\u001b[43margs\u001b[49m\u001b[43m,\u001b[49m\u001b[43m \u001b[49m\u001b[38;5;241;43m*\u001b[39;49m\u001b[38;5;241;43m*\u001b[39;49m\u001b[43mkwargs\u001b[49m\u001b[43m)\u001b[49m\n\u001b[1;32m     23\u001b[0m     execution_flag \u001b[38;5;241m=\u001b[39m \u001b[38;5;28;01mTrue\u001b[39;00m\n\u001b[1;32m     24\u001b[0m \u001b[38;5;28;01mexcept\u001b[39;00m \u001b[38;5;167;01mException\u001b[39;00m \u001b[38;5;28;01mas\u001b[39;00m e:\n",
            "File \u001b[0;32m/usr/local/lib/python3.10/site-packages/polly/omixatlas.py:1922\u001b[0m, in \u001b[0;36mOmixAtlas.update_datasets\u001b[0;34m(self, repo_id, source_folder_path, priority, file_mapping, validation)\u001b[0m\n\u001b[1;32m   1920\u001b[0m \u001b[38;5;28mprint\u001b[39m(\u001b[38;5;124m\"\u001b[39m\u001b[38;5;124m----file mapping-----\u001b[39m\u001b[38;5;124m\"\u001b[39m)\n\u001b[1;32m   1921\u001b[0m \u001b[38;5;28mprint\u001b[39m(file_mapping)\n\u001b[0;32m-> 1922\u001b[0m data_upload_results_df \u001b[38;5;241m=\u001b[39m \u001b[43mfiles_obj\u001b[49m\u001b[38;5;241;43m.\u001b[39;49m\u001b[43mupdate_datasets\u001b[49m\u001b[43m(\u001b[49m\n\u001b[1;32m   1923\u001b[0m \u001b[43m    \u001b[49m\u001b[38;5;28;43mself\u001b[39;49m\u001b[43m,\u001b[49m\u001b[43m \u001b[49m\u001b[43mrepo_id\u001b[49m\u001b[43m,\u001b[49m\u001b[43m \u001b[49m\u001b[43msource_folder_path\u001b[49m\u001b[43m,\u001b[49m\u001b[43m \u001b[49m\u001b[43mpriority\u001b[49m\u001b[43m,\u001b[49m\u001b[43m \u001b[49m\u001b[43mfile_mapping\u001b[49m\u001b[43m,\u001b[49m\u001b[43m \u001b[49m\u001b[43mvalidation\u001b[49m\n\u001b[1;32m   1924\u001b[0m \u001b[43m\u001b[49m\u001b[43m)\u001b[49m\n\u001b[1;32m   1925\u001b[0m \u001b[38;5;28;01mreturn\u001b[39;00m data_upload_results_df\n",
            "File \u001b[0;32m/usr/local/lib/python3.10/site-packages/polly_services/files/files.py:279\u001b[0m, in \u001b[0;36mFiles.update_datasets\u001b[0;34m(self, polly_session, repo_id, source_folder_path, priority, file_mapping, validation)\u001b[0m\n\u001b[1;32m    275\u001b[0m     \u001b[38;5;28;01mreturn\u001b[39;00m \u001b[38;5;28mself\u001b[39m\u001b[38;5;241m.\u001b[39mingestion_and_updation_print_commons(\n\u001b[1;32m    276\u001b[0m         file_status_dict, validation, polly_session, repo_id\n\u001b[1;32m    277\u001b[0m     )\n\u001b[1;32m    278\u001b[0m \u001b[38;5;28;01mexcept\u001b[39;00m \u001b[38;5;167;01mException\u001b[39;00m \u001b[38;5;28;01mas\u001b[39;00m err:\n\u001b[0;32m--> 279\u001b[0m     \u001b[38;5;28;01mraise\u001b[39;00m err\n",
            "File \u001b[0;32m/usr/local/lib/python3.10/site-packages/polly_services/files/files.py:175\u001b[0m, in \u001b[0;36mFiles.update_datasets\u001b[0;34m(self, polly_session, repo_id, source_folder_path, priority, file_mapping, validation)\u001b[0m\n\u001b[1;32m    156\u001b[0m (\n\u001b[1;32m    157\u001b[0m     data_metadata_mapping,\n\u001b[1;32m    158\u001b[0m     unmapped_data_file_names,\n\u001b[0;32m   (...)\u001b[0m\n\u001b[1;32m    161\u001b[0m     data_file_list, metadata_file_list, source_folder_path\n\u001b[1;32m    162\u001b[0m )\n\u001b[1;32m    164\u001b[0m \u001b[38;5;66;03m# check if unmapped files -> pair file exists in OA -> raise warning\u001b[39;00m\n\u001b[1;32m    165\u001b[0m \u001b[38;5;66;03m# if pair file does not exist\u001b[39;00m\n\u001b[1;32m    166\u001b[0m \u001b[38;5;66;03m# based on that update the data_metadata_mapping_dict, data_file_list, metadata_file_list\u001b[39;00m\n\u001b[1;32m    167\u001b[0m \n\u001b[1;32m    168\u001b[0m \u001b[38;5;66;03m# go through this function once to check if everything seems right ??\u001b[39;00m\n\u001b[1;32m    169\u001b[0m (\n\u001b[1;32m    170\u001b[0m     data_metadata_mapping,\n\u001b[1;32m    171\u001b[0m     data_file_list,\n\u001b[1;32m    172\u001b[0m     metadata_file_list,\n\u001b[1;32m    173\u001b[0m     unmapped_metadata_file_names,\n\u001b[1;32m    174\u001b[0m     unmapped_data_file_names,\n\u001b[0;32m--> 175\u001b[0m ) \u001b[38;5;241m=\u001b[39m \u001b[43mfiles_hlpr\u001b[49m\u001b[38;5;241;43m.\u001b[39;49m\u001b[43mcheck_for_unmapped_files_in_oa\u001b[49m\u001b[43m(\u001b[49m\n\u001b[1;32m    176\u001b[0m \u001b[43m    \u001b[49m\u001b[43mdata_metadata_mapping\u001b[49m\u001b[43m,\u001b[49m\n\u001b[1;32m    177\u001b[0m \u001b[43m    \u001b[49m\u001b[43mdata_file_list\u001b[49m\u001b[43m,\u001b[49m\n\u001b[1;32m    178\u001b[0m \u001b[43m    \u001b[49m\u001b[43mmetadata_file_list\u001b[49m\u001b[43m,\u001b[49m\n\u001b[1;32m    179\u001b[0m \u001b[43m    \u001b[49m\u001b[43munmapped_data_file_names\u001b[49m\u001b[43m,\u001b[49m\n\u001b[1;32m    180\u001b[0m \u001b[43m    \u001b[49m\u001b[43munmapped_metadata_file_names\u001b[49m\u001b[43m,\u001b[49m\n\u001b[1;32m    181\u001b[0m \u001b[43m    \u001b[49m\u001b[43mfile_mapping\u001b[49m\u001b[43m,\u001b[49m\n\u001b[1;32m    182\u001b[0m \u001b[43m    \u001b[49m\u001b[43mpolly_session\u001b[49m\u001b[43m,\u001b[49m\n\u001b[1;32m    183\u001b[0m \u001b[43m    \u001b[49m\u001b[43msource_folder_path\u001b[49m\u001b[43m,\u001b[49m\n\u001b[1;32m    184\u001b[0m \u001b[43m    \u001b[49m\u001b[43mrepo_id\u001b[49m\u001b[43m,\u001b[49m\n\u001b[1;32m    185\u001b[0m \u001b[43m\u001b[49m\u001b[43m)\u001b[49m\n\u001b[1;32m    187\u001b[0m \u001b[38;5;66;03m# only metadata file names -> no ext as ext is common\u001b[39;00m\n\u001b[1;32m    188\u001b[0m \u001b[38;5;28;01mif\u001b[39;00m unmapped_metadata_file_names:\n",
            "File \u001b[0;32m/usr/local/lib/python3.10/site-packages/polly_services/files/files_hlpr.py:1885\u001b[0m, in \u001b[0;36mcheck_for_unmapped_files_in_oa\u001b[0;34m(data_metadata_mapping, data_file_list, metadata_file_list, unmapped_data_file_names, unmapped_metadata_file_names, file_mapping, polly_session, source_folder_path, repo_id)\u001b[0m\n\u001b[1;32m   1869\u001b[0m     (\n\u001b[1;32m   1870\u001b[0m         data_metadata_mapping,\n\u001b[1;32m   1871\u001b[0m         data_file_list,\n\u001b[0;32m   (...)\u001b[0m\n\u001b[1;32m   1880\u001b[0m         repo_id,\n\u001b[1;32m   1881\u001b[0m     )\n\u001b[1;32m   1882\u001b[0m \u001b[38;5;28;01melif\u001b[39;00m data_path \u001b[38;5;129;01mand\u001b[39;00m unmapped_data_file_names \u001b[38;5;129;01mand\u001b[39;00m \u001b[38;5;129;01mnot\u001b[39;00m file_mapping:\n\u001b[1;32m   1883\u001b[0m     \u001b[38;5;66;03m# if datapath is present and there are unmapped data files(corresponding metadata file not given)\u001b[39;00m\n\u001b[1;32m   1884\u001b[0m     \u001b[38;5;66;03m# but the user has not passed file_mapping dict\u001b[39;00m\n\u001b[0;32m-> 1885\u001b[0m     \u001b[38;5;28;01mraise\u001b[39;00m paramException(\n\u001b[1;32m   1886\u001b[0m         title\u001b[38;5;241m=\u001b[39m\u001b[38;5;124m\"\u001b[39m\u001b[38;5;124mfile_mapping required\u001b[39m\u001b[38;5;124m\"\u001b[39m,\n\u001b[1;32m   1887\u001b[0m         detail\u001b[38;5;241m=\u001b[39m\u001b[38;5;124m\"\u001b[39m\u001b[38;5;124mIf only data files are getting updated, then file_mapping dict required\u001b[39m\u001b[38;5;124m\"\u001b[39m,\n\u001b[1;32m   1888\u001b[0m     )\n\u001b[1;32m   1890\u001b[0m \u001b[38;5;28;01mreturn\u001b[39;00m (\n\u001b[1;32m   1891\u001b[0m     data_metadata_mapping,\n\u001b[1;32m   1892\u001b[0m     data_file_list,\n\u001b[0;32m   (...)\u001b[0m\n\u001b[1;32m   1895\u001b[0m     unmapped_data_file_names,\n\u001b[1;32m   1896\u001b[0m )\n",
            "\u001b[0;31mparamException\u001b[0m: paramException (parameter error): If only data files are getting updated, then file_mapping dict required"
          ]
        }
      ],
      "source": [
        "# testing point 6\n",
        "# only data file passed -> file_mapping dict not passed\n",
        "# paramException raised\n",
        "\n",
        "repo_id = \"1654268055800\"\n",
        "source_folder_path_data = \"/import/data\"\n",
        "source_folder_metadata = \"/import/metadata\"\n",
        "priority = \"high\"\n",
        "\n",
        "source_folder_path = {\"data\":source_folder_path_data}\n",
        "omixatlas.update_datasets(repo_id, source_folder_path, priority)\n"
      ]
    },
    {
      "cell_type": "code",
      "execution_count": null,
      "metadata": {},
      "outputs": [],
      "source": [
        "# WHEN both data and metadata files provided"
      ]
    },
    {
      "cell_type": "code",
      "execution_count": 13,
      "metadata": {},
      "outputs": [
        {
          "name": "stdout",
          "output_type": "stream",
          "text": [
            "----file mapping-----\n",
            "{}\n"
          ]
        },
        {
          "name": "stderr",
          "output_type": "stream",
          "text": [
            "\r",
            "Processing Metadata files:   0%|          | 0/2 [00:00<?, ?it/s]"
          ]
        },
        {
          "name": "stdout",
          "output_type": "stream",
          "text": [
            "---final destination_folder_endpoint----\n",
            "https://api.discover.testpolly.elucidata.io/repositories/1673847977346/files/?list_folders=true&dataset_id=GSE76311_GPL17586\n"
          ]
        },
        {
          "name": "stderr",
          "output_type": "stream",
          "text": [
            "WARNING: The dataset_id: GSE76311_GPL17586 is ingested for repo: 1673847977346 and in multiple destination folders: ['transcriptomics_306/GSE76311_GPL17586.gct', 'transcriptomics_610/GSE76311_GPL17586.gct']. Please use delete_datasets function to delete the exta paths. Ideally dataset should be ingested in only one destination folder\n",
            "\r",
            "Processing Metadata files:  50%|█████     | 1/2 [00:00<00:00,  1.17it/s]"
          ]
        },
        {
          "name": "stdout",
          "output_type": "stream",
          "text": [
            "----response data--------\n",
            "{'data': {'id': 'GSE76311_GPL17586', 'type': 'file_paths', 'attributes': {'file_paths': ['transcriptomics_306/GSE76311_GPL17586.gct', 'transcriptomics_610/GSE76311_GPL17586.gct']}}}\n",
            "---final destination_folder_endpoint----\n",
            "https://api.discover.testpolly.elucidata.io/repositories/1673847977346/files/?list_folders=true&dataset_id=GSE95640_GPL11154\n"
          ]
        },
        {
          "name": "stderr",
          "output_type": "stream",
          "text": [
            "Processing Metadata files: 100%|██████████| 2/2 [00:01<00:00,  1.24it/s]"
          ]
        },
        {
          "name": "stdout",
          "output_type": "stream",
          "text": [
            "----response data--------\n",
            "{'data': {'id': 'GSE95640_GPL11154', 'type': 'file_paths', 'attributes': {'file_paths': ['transcriptomics_610/GSE95640_GPL11154.gct']}}}\n",
            "------curr_destination_folder-----\n",
            "transcriptomics_610\n",
            "----final combined metadata dict-----\n",
            "{'data': [{'id': 'metadata/ingestion', 'type': 'ingestion_metadata', 'attributes': {'ignore': 'false', 'urgent': 'true', 'v1_infra': False, 'priority': 'high'}}, {'id': 'transcriptomics_610/GSE95640_GPL11154.gct', 'type': 'file_metadata', 'attributes': {'dataset_id': 'GSE95640_GPL11154', 'data_type': 'transcriptomics', 'dataset_source': 'geo', 'curation_version': 'g3', 'total_num_samples': '380', 'publication': 'https://www.ncbi.nlm.nih.gov/geo/query/acc.cgi?acc=GSE95640', 'platform': 'RNAseq', 'processing': 'connector', 'connector_version': 'geo_rnaseq_nf_v0.0.5', 'data_matrix_available': 'true', 'ref_gene_annotations': 'Ensembl release V107', 'alignment_method': 'kallisto', 'reference_genome': 'GRCh38', 'description': 'Transcriptome profiling from adipose tissue during low-caloric diet reveals predictors of long-term weight and glycemic outcomes in obese, non-diabetic subjects', 'summary': 'Background: Low-caloric diet (LCD) reduces fat mass excess, improves insulin sensitivity, and alters adipose tissue (AT) gene expression. Yet the relationship with long-term clinical outcomes remains unclear.\\n\\nObjective: We evaluated transcriptome alterations in AT during LCD and association with weight and glycemic outcomes both at LCD termination and 6-month after the LCD.\\n\\nResults: Upon LCD, we identified 1â\\x80\\x99173 genes differentially expressed; with 350 and 33 genes associated respectively with changes in BMI and Matsuda. Twenty-nine genes were associated with both endpoints. Pathway analyses highlighted enrichment in lipid and glucose metabolism. Models were constructed to predict weight maintainers. A model based on clinical baseline parameters could not achieve any prediction (validationâ\\x80\\x99s AUC= 0.50 [0.36, 0.64]), while a model based on clinical changes during LCD yielded to good performance (AUC=0.73 [0.60, 0.87]). Incorporating baseline expression from the 18 genes outperformed the best clinical model (AUC=0.87 [0.77, 0.96], Delongâ\\x80\\x99s p=0.012). Similar analyses were made to predict subjects with good glycemic improvements. Both baseline- and LCD-based clinical models yielded to similar performance (with best AUC=0.73 [0.60, 0.85]). Addition of expression changes during LCD improved substantially the performance (AUC=0.80 [0.69, 0.92], p=0.058).\\n\\nConclusions: This study investigated AT transcriptome alterations following LCD in a large cohort of obese, non-diabetic patients. The identified genes enabled to significantly improve clinical models and predict long-term clinical outcomes. These biomarkers may help clinicians understanding the large inter-subject variability and better predict the success of dietary interventions.\\n', 'overall_design': 'Design: Using RNAseq, we analyzed transcriptome changes in AT from 191 obese, non-diabetic patients within a multi-center controlled dietary intervention. Expression changes were associated with outcomes after 8-week LCD (with 800-1000kcal/d) and 6-month after LCD. Results were validated using RT-qPCR in 350 subjects from the same cohort. Statistical models were constructed to predict subjects considered as weight maintainers or glycemic improvers 6-month after LCD.', 'abstract': \"Transcriptome profiling from adipose tissue during a low-calorie diet reveals predictors of weight and glycemic outcomes in obese, nondiabetic subjects.\\n\\nBackground: A low-calorie diet (LCD) reduces fat mass excess, improves insulin sensitivity, and alters adipose tissue (AT) gene expression, yet the relation with clinical outcomes remains unclear.Objective: We evaluated AT transcriptome alterations during an LCD and the association with weight and glycemic outcomes both at LCD termination and 6 mo after the LCD.Design: Using RNA sequencing (RNAseq), we analyzed transcriptome changes in AT from 191 obese, nondiabetic patients within a multicenter, controlled dietary intervention. Expression changes were associated with outcomes after an 8-wk LCD (800-1000 kcal/d) and 6 mo after the LCD. Results were validated by using quantitative reverse transcriptase-polymerase chain reaction in 350 subjects from the same cohort. Statistical models were constructed to classify weight maintainers or glycemic improvers.Results: With RNAseq analyses, we identified 1173 genes that were differentially expressed after the LCD, of which 350 and 33 were associated with changes in body mass index (BMI; in kg/m2) and Matsuda index values, respectively, whereas 29 genes were associated with both endpoints. Pathway analyses highlighted enrichment in lipid and glucose metabolism. Classification models were constructed to identify weight maintainers. A model based on clinical baseline variables could not achieve any classification (validation AUC: 0.50; 95% CI: 0.36, 0.64). However, clinical changes during the LCD yielded better performance of the model (AUC: 0.73; 95% CI: 0.60, 0.87]). Adding baseline expression to this model improved the performance significantly (AUC: 0.87; 95% CI: 0.77, 0.96; Delong's P = 0.012). Similar analyses were performed to classify subjects with good glycemic improvements. Baseline- and LCD-based clinical models yielded similar performance (best AUC: 0.73; 95% CI: 0.60, 0.86). The addition of expression changes during the LCD improved the performance substantially (AUC: 0.80; 95% CI: 0.69, 0.92; P = 0.058).Conclusions: This study investigated AT transcriptome alterations after an LCD in a large cohort of obese, nondiabetic patients. Gene expression combined with clinical variables enabled us to distinguish weight and glycemic responders from nonresponders. These potential biomarkers may help clinicians understand intersubject variability and better predict the success of dietary interventions. This trial was registered at clinicaltrials.gov as NCT00390637.© 2017 American Society for Nutrition.\", 'abstracts': [{'pubmed_id': '29234017', 'title': 'Protein quantitative trait locus study in obesity during weight-loss identifies a leptin regulator.', 'abstract': 'Thousands of genetic variants have been associated with complex traits through genome-wide association studies. However, the functional variants or mechanistic consequences remain elusive. Intermediate traits such as gene expression or protein levels are good proxies of the metabolic state of an organism. Proteome analysis especially can provide new insights into the molecular mechanisms of complex traits like obesity. The role of genetic variation in determining protein level variation has not been assessed in obesity. To address this, we design a large-scale protein quantitative trait locus (pQTL) analysis based on a set of 1129 proteins from 494 obese subjects before and after a weight loss intervention. This reveals 55 BMI-associated cis-pQTLs and trans-pQTLs at baseline and 3 trans-pQTLs after the intervention. We provide evidence for distinct genetic mechanisms regulating BMI-associated proteins before and after weight loss. Finally, by functional analysis, we identify and validate FAM46A as a trans regulator for leptin.'}, {'pubmed_id': '28793995', 'title': 'Transcriptome profiling from adipose tissue during a low-calorie diet reveals predictors of weight and glycemic outcomes in obese, nondiabetic subjects.', 'abstract': \"Background: A low-calorie diet (LCD) reduces fat mass excess, improves insulin sensitivity, and alters adipose tissue (AT) gene expression, yet the relation with clinical outcomes remains unclear.Objective: We evaluated AT transcriptome alterations during an LCD and the association with weight and glycemic outcomes both at LCD termination and 6 mo after the LCD.Design: Using RNA sequencing (RNAseq), we analyzed transcriptome changes in AT from 191 obese, nondiabetic patients within a multicenter, controlled dietary intervention. Expression changes were associated with outcomes after an 8-wk LCD (800-1000 kcal/d) and 6 mo after the LCD. Results were validated by using quantitative reverse transcriptase-polymerase chain reaction in 350 subjects from the same cohort. Statistical models were constructed to classify weight maintainers or glycemic improvers.Results: With RNAseq analyses, we identified 1173 genes that were differentially expressed after the LCD, of which 350 and 33 were associated with changes in body mass index (BMI; in kg/m2) and Matsuda index values, respectively, whereas 29 genes were associated with both endpoints. Pathway analyses highlighted enrichment in lipid and glucose metabolism. Classification models were constructed to identify weight maintainers. A model based on clinical baseline variables could not achieve any classification (validation AUC: 0.50; 95% CI: 0.36, 0.64). However, clinical changes during the LCD yielded better performance of the model (AUC: 0.73; 95% CI: 0.60, 0.87]). Adding baseline expression to this model improved the performance significantly (AUC: 0.87; 95% CI: 0.77, 0.96; Delong's P = 0.012). Similar analyses were performed to classify subjects with good glycemic improvements. Baseline- and LCD-based clinical models yielded similar performance (best AUC: 0.73; 95% CI: 0.60, 0.86). The addition of expression changes during the LCD improved the performance substantially (AUC: 0.80; 95% CI: 0.69, 0.92; P = 0.058).Conclusions: This study investigated AT transcriptome alterations after an LCD in a large cohort of obese, nondiabetic patients. Gene expression combined with clinical variables enabled us to distinguish weight and glycemic responders from nonresponders. These potential biomarkers may help clinicians understand intersubject variability and better predict the success of dietary interventions. This trial was registered at clinicaltrials.gov as NCT00390637.© 2017 American Society for Nutrition.\"}, {'pubmed_id': '32514005', 'title': 'Integrative phenotyping of glycemic responders upon clinical weight loss using multi-omics.', 'abstract': 'Weight loss aims to improve glycemic control in obese but strong variability is observed. Using a multi-omics approach, we investigated differences between 174 responders and 201 non-responders, that had lost >8% body weight following a low-caloric diet (LCD, 800\\u2009kcal/d for 8 weeks). The two groups were comparable at baseline for body composition, glycemic control, adipose tissue transcriptomics and plasma ketone bodies. But they differed significantly in their response to LCD, including improvements in visceral fat, overall insulin resistance (IR) and tissue-specific IR. Transcriptomics analyses found down-regulation in key lipogenic genes (e.g. SCD, ELOVL5) in responders relative to non-responders; metabolomics showed increase in ketone bodies; while proteomics revealed differences in lipoproteins. Findings were consistent between genders; with women displaying smaller improvements owing to a better baseline metabolic condition. Integrative analyses identified a plasma omics model that was able to predict non-responders with strong performance (on a testing dataset, the Receiving Operating Curve Area Under the Curve (ROC AUC) was 75% with 95% Confidence Intervals (CI) [67%, 83%]). This model was based on baseline parameters without the need for intrusive measurements and outperformed clinical models (p\\u2009=\\u20090.00075, with a +14% difference on the ROC AUCs). Our approach document differences between responders and non-responders, with strong contributions from liver and adipose tissues. Differences may be due to de novo lipogenesis, keto-metabolism and lipoprotein metabolism. These findings are useful for clinical practice to better characterize non-responders both prior and during weight loss.'}], 'pubmed_ids': ['29234017', '28793995', '32514005'], 'authors': ['Gregory Lefebvre', 'Arne Astrup', 'Sophie Bonnel', 'Patrick Descombes', 'Armand Valsesia', 'Claudia Armenise', 'Wim Sarris', 'Jorg Hager', 'JÃ©rÃ´me Carayol', 'Jennifer Bolton', 'Dominique Langin', 'Nele Gheldof', 'Nathalie Viguerie'], 'subseries_ids': [], 'curated_tissue': ['adipose tissue'], 'curated_disease': ['Diabetes Mellitus', 'Obesity'], 'curated_organism': ['Homo sapiens'], 'curated_drug': ['None'], 'curated_gene': ['INS'], 'curated_dataset_has_treatment': ['None'], 'curated_cell_line': ['None'], 'curated_strain': ['None'], 'experimental_variables': ['gender', 'timepoint'], 'curated_dataset_has_donor': 'true', 'missing_samples': ['GSM2520224', 'GSM2520344'], 'version': '0', 'is_current': 'true', 'src_repo': 'bulk_rnaseq_atlas', 'package': 'bulk_rnaseq_atlas/data', 'region': 'ap-southeast-1', 'bucket': 'discover-test-datalake-v1', 'key': 'bulk_rnaseq_atlas/data/RNASeq/GSE95640/GCT/GSE95640_GPL11154.gct', 'file_type': 'gct', 'file_location': 'https://discover-test-datalake-v1.s3-ap-southeast-1.amazonaws.com/bulk_rnaseq_atlas/data/RNASeq/GSE95640/GCT/GSE95640_GPL11154.gct', 'src_uri': 'polly:data://bulk_rnaseq_atlas/data/RNASeq/GSE95640/GCT/GSE95640_GPL11154.gct', 'timestamp_': '1680584526781'}}]}\n"
          ]
        },
        {
          "name": "stderr",
          "output_type": "stream",
          "text": [
            "\n",
            "Uploading data files:   0%|          | 0/1 [00:00<?, ?files/s]"
          ]
        },
        {
          "name": "stdout",
          "output_type": "stream",
          "text": [
            "----file_path-------\n",
            "/import/data/GSE95640_GPL11154.gct\n"
          ]
        },
        {
          "name": "stderr",
          "output_type": "stream",
          "text": [
            "Uploading data files: 100%|██████████| 1/1 [00:10<00:00, 10.44s/files]\n"
          ]
        },
        {
          "name": "stdout",
          "output_type": "stream",
          "text": [
            "Please wait for 30 seconds while your ingestion request is getting logged.\n",
            "\n",
            "\n",
            "Your request is successfully logged. You can go to ingestion monitoring dashboard for tracking it's status.\n",
            "\n",
            "                 File Name        Message\n",
            "0  combined_metadata.json  File Uploaded\n",
            "1   GSE95640_GPL11154.gct  File Uploaded\n"
          ]
        },
        {
          "data": {
            "text/html": [
              "<div>\n",
              "<style scoped>\n",
              "    .dataframe tbody tr th:only-of-type {\n",
              "        vertical-align: middle;\n",
              "    }\n",
              "\n",
              "    .dataframe tbody tr th {\n",
              "        vertical-align: top;\n",
              "    }\n",
              "\n",
              "    .dataframe thead th {\n",
              "        text-align: right;\n",
              "    }\n",
              "</style>\n",
              "<table border=\"1\" class=\"dataframe\">\n",
              "  <thead>\n",
              "    <tr style=\"text-align: right;\">\n",
              "      <th></th>\n",
              "      <th>File Name</th>\n",
              "      <th>Message</th>\n",
              "    </tr>\n",
              "  </thead>\n",
              "  <tbody>\n",
              "    <tr>\n",
              "      <th>0</th>\n",
              "      <td>combined_metadata.json</td>\n",
              "      <td>File Uploaded</td>\n",
              "    </tr>\n",
              "    <tr>\n",
              "      <th>1</th>\n",
              "      <td>GSE95640_GPL11154.gct</td>\n",
              "      <td>File Uploaded</td>\n",
              "    </tr>\n",
              "  </tbody>\n",
              "</table>\n",
              "</div>"
            ],
            "text/plain": [
              "                File Name        Message\n",
              "0  combined_metadata.json  File Uploaded\n",
              "1   GSE95640_GPL11154.gct  File Uploaded"
            ]
          },
          "execution_count": 13,
          "metadata": {},
          "output_type": "execute_result"
        }
      ],
      "source": [
        "# testing point 7\n",
        "# files have multiple destination folder\n",
        "# will raise warning\n",
        "\n",
        "# 2 files getting ingested here -> one is in multiple destination folder, one is in not\n",
        "# Ignore extra prints -> it will be removed\n",
        "\n",
        "# lib_repo_dev\n",
        "repo_id = \"1673847977346\"\n",
        "source_folder_path_data = \"/import/data\"\n",
        "source_folder_metadata = \"/import/metadata\"\n",
        "priority = \"high\"\n",
        "\n",
        "source_folder_path = {\"data\":source_folder_path_data, \"metadata\":source_folder_metadata}\n",
        "omixatlas.update_datasets(repo_id, source_folder_path, priority)\n"
      ]
    },
    {
      "cell_type": "code",
      "execution_count": 15,
      "metadata": {},
      "outputs": [
        {
          "name": "stdout",
          "output_type": "stream",
          "text": [
            "/bin/bash: warning: setlocale: LC_ALL: cannot change locale (en_US.UTF-8)\n",
            "\u001b[2K\u001b[1GCompleted 3.6 MiB/3.6 MiB (21.4 MiB/s) with 1 file(s) remainingemainingSync complete!\n"
          ]
        }
      ],
      "source": [
        "# ingest new dataset files\n",
        "!polly files sync -s \"polly://data_ingested_first_time_update/\" -d \"data_ingested_first_time_update/\" -y"
      ]
    },
    {
      "cell_type": "code",
      "execution_count": 16,
      "metadata": {},
      "outputs": [
        {
          "name": "stdout",
          "output_type": "stream",
          "text": [
            "/bin/bash: warning: setlocale: LC_ALL: cannot change locale (en_US.UTF-8)\n",
            "\u001b[2K\u001b[1G\u001b[2K\u001b[1GCompleted 3.3 KiB/3.3 KiB (32.8 KiB/s) with 1 file(s) remainingSync complete!\n"
          ]
        }
      ],
      "source": [
        "# ingest new metadata files\n",
        "!polly files sync -s \"polly://meta_ingested_first_time_update/\" -d \"meta_ingested_first_time_update/\" -y\n"
      ]
    },
    {
      "cell_type": "code",
      "execution_count": 19,
      "metadata": {},
      "outputs": [
        {
          "name": "stdout",
          "output_type": "stream",
          "text": [
            "----file mapping-----\n",
            "{}\n"
          ]
        },
        {
          "name": "stderr",
          "output_type": "stream",
          "text": [
            "\r",
            "Processing Metadata files:   0%|          | 0/2 [00:00<?, ?it/s]"
          ]
        },
        {
          "name": "stdout",
          "output_type": "stream",
          "text": [
            "---final destination_folder_endpoint----\n",
            "https://api.discover.testpolly.elucidata.io/repositories/1673847977346/files/?list_folders=true&dataset_id=GSE54747_GPL6244\n"
          ]
        },
        {
          "name": "stderr",
          "output_type": "stream",
          "text": [
            "\r",
            "Processing Metadata files:  50%|█████     | 1/2 [00:00<00:00,  1.18it/s]"
          ]
        },
        {
          "name": "stdout",
          "output_type": "stream",
          "text": [
            "----response data--------\n",
            "{'data': {'id': 'GSE54747_GPL6244', 'type': 'file_paths', 'attributes': {'file_paths': ['transcriptomics_301/GSE54747_GPL6244.gct']}}}\n",
            "------curr_destination_folder-----\n",
            "transcriptomics_301\n",
            "---final destination_folder_endpoint----\n",
            "https://api.discover.testpolly.elucidata.io/repositories/1673847977346/files/?list_folders=true&dataset_id=GSE140509_GPL16791\n"
          ]
        },
        {
          "name": "stderr",
          "output_type": "stream",
          "text": [
            "WARNING: The dataset_id: GSE140509_GPL16791 is not ingested for repo: 1673847977346. Please use add_datasets function to ingest the data first. \n",
            "Processing Metadata files: 100%|██████████| 2/2 [00:01<00:00,  1.23it/s]\n"
          ]
        },
        {
          "name": "stdout",
          "output_type": "stream",
          "text": [
            "----final combined metadata dict-----\n",
            "{'data': [{'id': 'metadata/ingestion', 'type': 'ingestion_metadata', 'attributes': {'ignore': 'false', 'urgent': 'true', 'v1_infra': False, 'priority': 'high'}}, {'id': 'transcriptomics_301/GSE54747_GPL6244.gct', 'type': 'file_metadata', 'attributes': {'curated_tissue': ['liver'], 'dataset_source': 'GEO', 'description': 'An intrahepatic gene expression signature of enhanced immune activity predicts response to peginterferon and adefovir in chronic hepatitis B patients', 'curated_organism': ['Homo sapiens'], 'year': '2018', 'curated_disease': ['Hepatitis B, Chronic'], 'platform': 'Microarray', 'dataset_id': 'GSE54747_GPL6244', 'curated_cell_type': ['None'], 'data_type': 'Transcriptomics', 'publication': 'https://www.ncbi.nlm.nih.gov/geo/query/acc.cgi?acc=GSE54747', 'curated_drug': ['L-alanine'], 'curated_gene': ['IFNA1', 'SERPINE1', 'PAEP', 'HLA-DPB1'], 'curated_cell_line': ['None'], 'drug_smiles': ['C[C@H]([NH3+])C([O-])=O', 'N1(C2=C(C(N)=NC=N2)N=C1)CCOCP(O)(=O)O'], 'total_num_samples': '15', 'curated_strain': ['None'], 'version': '0', 'is_current': 'true', 'src_repo': 'geo', 'package': 'geo/data', 'region': 'ap-southeast-1', 'bucket': 'discover-test-datalake-v1', 'key': 'geo/data/Microarray/GSE54747/GCT/GSE54747_GPL6244_curated.gct', 'file_type': 'gct', 'file_location': 'https://discover-test-datalake-v1.s3-ap-southeast-1.amazonaws.com/geo/data/Microarray/GSE54747/GCT/GSE54747_GPL6244_curated.gct', 'src_uri': 'polly:data://geo/data/Microarray/GSE54747/GCT/GSE54747_GPL6244_curated.gct', 'timestamp_': '1675073425665', 'data_table_name': 'geo__gse54747_gpl6244', 'data_table_version': '0'}}]}\n"
          ]
        },
        {
          "name": "stderr",
          "output_type": "stream",
          "text": [
            "\r",
            "Uploading data files:   0%|          | 0/1 [00:00<?, ?files/s]"
          ]
        },
        {
          "name": "stdout",
          "output_type": "stream",
          "text": [
            "----file_path-------\n",
            "/import/data_ingested_first_time_update/GSE54747_GPL6244.gct\n"
          ]
        },
        {
          "name": "stderr",
          "output_type": "stream",
          "text": [
            "Uploading data files: 100%|██████████| 1/1 [00:02<00:00,  2.89s/files]\n"
          ]
        },
        {
          "name": "stdout",
          "output_type": "stream",
          "text": [
            "Please wait for 30 seconds while your ingestion request is getting logged.\n",
            "\n",
            "\n",
            "Your request is successfully logged. You can go to ingestion monitoring dashboard for tracking it's status.\n",
            "\n",
            "                 File Name        Message\n",
            "0  combined_metadata.json  File Uploaded\n",
            "1    GSE54747_GPL6244.gct  File Uploaded\n"
          ]
        },
        {
          "data": {
            "text/html": [
              "<div>\n",
              "<style scoped>\n",
              "    .dataframe tbody tr th:only-of-type {\n",
              "        vertical-align: middle;\n",
              "    }\n",
              "\n",
              "    .dataframe tbody tr th {\n",
              "        vertical-align: top;\n",
              "    }\n",
              "\n",
              "    .dataframe thead th {\n",
              "        text-align: right;\n",
              "    }\n",
              "</style>\n",
              "<table border=\"1\" class=\"dataframe\">\n",
              "  <thead>\n",
              "    <tr style=\"text-align: right;\">\n",
              "      <th></th>\n",
              "      <th>File Name</th>\n",
              "      <th>Message</th>\n",
              "    </tr>\n",
              "  </thead>\n",
              "  <tbody>\n",
              "    <tr>\n",
              "      <th>0</th>\n",
              "      <td>combined_metadata.json</td>\n",
              "      <td>File Uploaded</td>\n",
              "    </tr>\n",
              "    <tr>\n",
              "      <th>1</th>\n",
              "      <td>GSE54747_GPL6244.gct</td>\n",
              "      <td>File Uploaded</td>\n",
              "    </tr>\n",
              "  </tbody>\n",
              "</table>\n",
              "</div>"
            ],
            "text/plain": [
              "                File Name        Message\n",
              "0  combined_metadata.json  File Uploaded\n",
              "1    GSE54747_GPL6244.gct  File Uploaded"
            ]
          },
          "execution_count": 19,
          "metadata": {},
          "output_type": "execute_result"
        }
      ],
      "source": [
        "# testing point 8\n",
        "# file getting ingested for the first time\n",
        "# will raise warning\n",
        "\n",
        "# lib repo dev\n",
        "\n",
        "repo_id = \"1673847977346\"\n",
        "source_folder_path_data = \"/import/data_ingested_first_time_update\"\n",
        "source_folder_metadata = \"/import/meta_ingested_first_time_update\"\n",
        "priority = \"high\"\n",
        "\n",
        "source_folder_path = {\"data\":source_folder_path_data, \"metadata\":source_folder_metadata}\n",
        "omixatlas.update_datasets(repo_id, source_folder_path, priority)"
      ]
    },
    {
      "cell_type": "code",
      "execution_count": 20,
      "metadata": {},
      "outputs": [
        {
          "name": "stdout",
          "output_type": "stream",
          "text": [
            "/bin/bash: warning: setlocale: LC_ALL: cannot change locale (en_US.UTF-8)\n",
            "\u001b[2K\u001b[1GCompleted 2.0 KiB/2.0 KiB (24.1 KiB/s) with 1 file(s) remainingSync complete!\n"
          ]
        }
      ],
      "source": [
        "!polly files sync -s \"polly://metadata/\" -d \"metadata/\" -y"
      ]
    },
    {
      "cell_type": "code",
      "execution_count": 21,
      "metadata": {},
      "outputs": [
        {
          "name": "stdout",
          "output_type": "stream",
          "text": [
            "/bin/bash: warning: setlocale: LC_ALL: cannot change locale (en_US.UTF-8)\n",
            "\u001b[2K\u001b[1GCompleted 113.2 MiB/113.2 MiB (97.3 MiB/s) with 1 file(s) remaining Sync complete!\n"
          ]
        }
      ],
      "source": [
        "!polly files sync -s \"polly://data/\" -d \"data/\" -y"
      ]
    },
    {
      "cell_type": "code",
      "execution_count": 22,
      "metadata": {},
      "outputs": [
        {
          "name": "stdout",
          "output_type": "stream",
          "text": [
            "----file mapping-----\n",
            "{}\n"
          ]
        },
        {
          "name": "stderr",
          "output_type": "stream",
          "text": [
            "\r",
            "Processing Metadata files:   0%|          | 0/2 [00:00<?, ?it/s]"
          ]
        },
        {
          "name": "stdout",
          "output_type": "stream",
          "text": [
            "---final destination_folder_endpoint----\n",
            "https://api.discover.testpolly.elucidata.io/repositories/1673847977346/files/?list_folders=true&dataset_id=GSE95640_GPL11154\n"
          ]
        },
        {
          "name": "stderr",
          "output_type": "stream",
          "text": [
            "Processing Metadata files:  50%|█████     | 1/2 [00:00<00:00,  1.14it/s]WARNING: The dataset_id is not present in the file: GSE100467_GPL11154.json for repo: 1673847977346. This file is skipped in ingestion. Please put the dataset_id in the metadata file, and ingest again.\n",
            "Processing Metadata files: 100%|██████████| 2/2 [00:00<00:00,  2.27it/s]"
          ]
        },
        {
          "name": "stdout",
          "output_type": "stream",
          "text": [
            "----response data--------\n",
            "{'data': {'id': 'GSE95640_GPL11154', 'type': 'file_paths', 'attributes': {'file_paths': ['transcriptomics_610/GSE95640_GPL11154.gct']}}}\n",
            "------curr_destination_folder-----\n",
            "transcriptomics_610\n",
            "----final combined metadata dict-----\n",
            "{'data': [{'id': 'metadata/ingestion', 'type': 'ingestion_metadata', 'attributes': {'ignore': 'false', 'urgent': 'true', 'v1_infra': False, 'priority': 'high'}}, {'id': 'transcriptomics_610/GSE95640_GPL11154.gct', 'type': 'file_metadata', 'attributes': {'dataset_id': 'GSE95640_GPL11154', 'data_type': 'transcriptomics', 'dataset_source': 'geo', 'curation_version': 'g3', 'total_num_samples': '380', 'publication': 'https://www.ncbi.nlm.nih.gov/geo/query/acc.cgi?acc=GSE95640', 'platform': 'RNAseq', 'processing': 'connector', 'connector_version': 'geo_rnaseq_nf_v0.0.5', 'data_matrix_available': 'true', 'ref_gene_annotations': 'Ensembl release V107', 'alignment_method': 'kallisto', 'reference_genome': 'GRCh38', 'description': 'Transcriptome profiling from adipose tissue during low-caloric diet reveals predictors of long-term weight and glycemic outcomes in obese, non-diabetic subjects', 'summary': 'Background: Low-caloric diet (LCD) reduces fat mass excess, improves insulin sensitivity, and alters adipose tissue (AT) gene expression. Yet the relationship with long-term clinical outcomes remains unclear.\\n\\nObjective: We evaluated transcriptome alterations in AT during LCD and association with weight and glycemic outcomes both at LCD termination and 6-month after the LCD.\\n\\nResults: Upon LCD, we identified 1â\\x80\\x99173 genes differentially expressed; with 350 and 33 genes associated respectively with changes in BMI and Matsuda. Twenty-nine genes were associated with both endpoints. Pathway analyses highlighted enrichment in lipid and glucose metabolism. Models were constructed to predict weight maintainers. A model based on clinical baseline parameters could not achieve any prediction (validationâ\\x80\\x99s AUC= 0.50 [0.36, 0.64]), while a model based on clinical changes during LCD yielded to good performance (AUC=0.73 [0.60, 0.87]). Incorporating baseline expression from the 18 genes outperformed the best clinical model (AUC=0.87 [0.77, 0.96], Delongâ\\x80\\x99s p=0.012). Similar analyses were made to predict subjects with good glycemic improvements. Both baseline- and LCD-based clinical models yielded to similar performance (with best AUC=0.73 [0.60, 0.85]). Addition of expression changes during LCD improved substantially the performance (AUC=0.80 [0.69, 0.92], p=0.058).\\n\\nConclusions: This study investigated AT transcriptome alterations following LCD in a large cohort of obese, non-diabetic patients. The identified genes enabled to significantly improve clinical models and predict long-term clinical outcomes. These biomarkers may help clinicians understanding the large inter-subject variability and better predict the success of dietary interventions.\\n', 'overall_design': 'Design: Using RNAseq, we analyzed transcriptome changes in AT from 191 obese, non-diabetic patients within a multi-center controlled dietary intervention. Expression changes were associated with outcomes after 8-week LCD (with 800-1000kcal/d) and 6-month after LCD. Results were validated using RT-qPCR in 350 subjects from the same cohort. Statistical models were constructed to predict subjects considered as weight maintainers or glycemic improvers 6-month after LCD.', 'abstract': \"Transcriptome profiling from adipose tissue during a low-calorie diet reveals predictors of weight and glycemic outcomes in obese, nondiabetic subjects.\\n\\nBackground: A low-calorie diet (LCD) reduces fat mass excess, improves insulin sensitivity, and alters adipose tissue (AT) gene expression, yet the relation with clinical outcomes remains unclear.Objective: We evaluated AT transcriptome alterations during an LCD and the association with weight and glycemic outcomes both at LCD termination and 6 mo after the LCD.Design: Using RNA sequencing (RNAseq), we analyzed transcriptome changes in AT from 191 obese, nondiabetic patients within a multicenter, controlled dietary intervention. Expression changes were associated with outcomes after an 8-wk LCD (800-1000 kcal/d) and 6 mo after the LCD. Results were validated by using quantitative reverse transcriptase-polymerase chain reaction in 350 subjects from the same cohort. Statistical models were constructed to classify weight maintainers or glycemic improvers.Results: With RNAseq analyses, we identified 1173 genes that were differentially expressed after the LCD, of which 350 and 33 were associated with changes in body mass index (BMI; in kg/m2) and Matsuda index values, respectively, whereas 29 genes were associated with both endpoints. Pathway analyses highlighted enrichment in lipid and glucose metabolism. Classification models were constructed to identify weight maintainers. A model based on clinical baseline variables could not achieve any classification (validation AUC: 0.50; 95% CI: 0.36, 0.64). However, clinical changes during the LCD yielded better performance of the model (AUC: 0.73; 95% CI: 0.60, 0.87]). Adding baseline expression to this model improved the performance significantly (AUC: 0.87; 95% CI: 0.77, 0.96; Delong's P = 0.012). Similar analyses were performed to classify subjects with good glycemic improvements. Baseline- and LCD-based clinical models yielded similar performance (best AUC: 0.73; 95% CI: 0.60, 0.86). The addition of expression changes during the LCD improved the performance substantially (AUC: 0.80; 95% CI: 0.69, 0.92; P = 0.058).Conclusions: This study investigated AT transcriptome alterations after an LCD in a large cohort of obese, nondiabetic patients. Gene expression combined with clinical variables enabled us to distinguish weight and glycemic responders from nonresponders. These potential biomarkers may help clinicians understand intersubject variability and better predict the success of dietary interventions. This trial was registered at clinicaltrials.gov as NCT00390637.© 2017 American Society for Nutrition.\", 'abstracts': [{'pubmed_id': '29234017', 'title': 'Protein quantitative trait locus study in obesity during weight-loss identifies a leptin regulator.', 'abstract': 'Thousands of genetic variants have been associated with complex traits through genome-wide association studies. However, the functional variants or mechanistic consequences remain elusive. Intermediate traits such as gene expression or protein levels are good proxies of the metabolic state of an organism. Proteome analysis especially can provide new insights into the molecular mechanisms of complex traits like obesity. The role of genetic variation in determining protein level variation has not been assessed in obesity. To address this, we design a large-scale protein quantitative trait locus (pQTL) analysis based on a set of 1129 proteins from 494 obese subjects before and after a weight loss intervention. This reveals 55 BMI-associated cis-pQTLs and trans-pQTLs at baseline and 3 trans-pQTLs after the intervention. We provide evidence for distinct genetic mechanisms regulating BMI-associated proteins before and after weight loss. Finally, by functional analysis, we identify and validate FAM46A as a trans regulator for leptin.'}, {'pubmed_id': '28793995', 'title': 'Transcriptome profiling from adipose tissue during a low-calorie diet reveals predictors of weight and glycemic outcomes in obese, nondiabetic subjects.', 'abstract': \"Background: A low-calorie diet (LCD) reduces fat mass excess, improves insulin sensitivity, and alters adipose tissue (AT) gene expression, yet the relation with clinical outcomes remains unclear.Objective: We evaluated AT transcriptome alterations during an LCD and the association with weight and glycemic outcomes both at LCD termination and 6 mo after the LCD.Design: Using RNA sequencing (RNAseq), we analyzed transcriptome changes in AT from 191 obese, nondiabetic patients within a multicenter, controlled dietary intervention. Expression changes were associated with outcomes after an 8-wk LCD (800-1000 kcal/d) and 6 mo after the LCD. Results were validated by using quantitative reverse transcriptase-polymerase chain reaction in 350 subjects from the same cohort. Statistical models were constructed to classify weight maintainers or glycemic improvers.Results: With RNAseq analyses, we identified 1173 genes that were differentially expressed after the LCD, of which 350 and 33 were associated with changes in body mass index (BMI; in kg/m2) and Matsuda index values, respectively, whereas 29 genes were associated with both endpoints. Pathway analyses highlighted enrichment in lipid and glucose metabolism. Classification models were constructed to identify weight maintainers. A model based on clinical baseline variables could not achieve any classification (validation AUC: 0.50; 95% CI: 0.36, 0.64). However, clinical changes during the LCD yielded better performance of the model (AUC: 0.73; 95% CI: 0.60, 0.87]). Adding baseline expression to this model improved the performance significantly (AUC: 0.87; 95% CI: 0.77, 0.96; Delong's P = 0.012). Similar analyses were performed to classify subjects with good glycemic improvements. Baseline- and LCD-based clinical models yielded similar performance (best AUC: 0.73; 95% CI: 0.60, 0.86). The addition of expression changes during the LCD improved the performance substantially (AUC: 0.80; 95% CI: 0.69, 0.92; P = 0.058).Conclusions: This study investigated AT transcriptome alterations after an LCD in a large cohort of obese, nondiabetic patients. Gene expression combined with clinical variables enabled us to distinguish weight and glycemic responders from nonresponders. These potential biomarkers may help clinicians understand intersubject variability and better predict the success of dietary interventions. This trial was registered at clinicaltrials.gov as NCT00390637.© 2017 American Society for Nutrition.\"}, {'pubmed_id': '32514005', 'title': 'Integrative phenotyping of glycemic responders upon clinical weight loss using multi-omics.', 'abstract': 'Weight loss aims to improve glycemic control in obese but strong variability is observed. Using a multi-omics approach, we investigated differences between 174 responders and 201 non-responders, that had lost >8% body weight following a low-caloric diet (LCD, 800\\u2009kcal/d for 8 weeks). The two groups were comparable at baseline for body composition, glycemic control, adipose tissue transcriptomics and plasma ketone bodies. But they differed significantly in their response to LCD, including improvements in visceral fat, overall insulin resistance (IR) and tissue-specific IR. Transcriptomics analyses found down-regulation in key lipogenic genes (e.g. SCD, ELOVL5) in responders relative to non-responders; metabolomics showed increase in ketone bodies; while proteomics revealed differences in lipoproteins. Findings were consistent between genders; with women displaying smaller improvements owing to a better baseline metabolic condition. Integrative analyses identified a plasma omics model that was able to predict non-responders with strong performance (on a testing dataset, the Receiving Operating Curve Area Under the Curve (ROC AUC) was 75% with 95% Confidence Intervals (CI) [67%, 83%]). This model was based on baseline parameters without the need for intrusive measurements and outperformed clinical models (p\\u2009=\\u20090.00075, with a +14% difference on the ROC AUCs). Our approach document differences between responders and non-responders, with strong contributions from liver and adipose tissues. Differences may be due to de novo lipogenesis, keto-metabolism and lipoprotein metabolism. These findings are useful for clinical practice to better characterize non-responders both prior and during weight loss.'}], 'pubmed_ids': ['29234017', '28793995', '32514005'], 'authors': ['Gregory Lefebvre', 'Arne Astrup', 'Sophie Bonnel', 'Patrick Descombes', 'Armand Valsesia', 'Claudia Armenise', 'Wim Sarris', 'Jorg Hager', 'JÃ©rÃ´me Carayol', 'Jennifer Bolton', 'Dominique Langin', 'Nele Gheldof', 'Nathalie Viguerie'], 'subseries_ids': [], 'curated_tissue': ['adipose tissue'], 'curated_disease': ['Diabetes Mellitus', 'Obesity'], 'curated_organism': ['Homo sapiens'], 'curated_drug': ['None'], 'curated_gene': ['INS'], 'curated_dataset_has_treatment': ['None'], 'curated_cell_line': ['None'], 'curated_strain': ['None'], 'experimental_variables': ['gender', 'timepoint'], 'curated_dataset_has_donor': 'true', 'missing_samples': ['GSM2520224', 'GSM2520344'], 'version': '0', 'is_current': 'true', 'src_repo': 'bulk_rnaseq_atlas', 'package': 'bulk_rnaseq_atlas/data', 'region': 'ap-southeast-1', 'bucket': 'discover-test-datalake-v1', 'key': 'bulk_rnaseq_atlas/data/RNASeq/GSE95640/GCT/GSE95640_GPL11154.gct', 'file_type': 'gct', 'file_location': 'https://discover-test-datalake-v1.s3-ap-southeast-1.amazonaws.com/bulk_rnaseq_atlas/data/RNASeq/GSE95640/GCT/GSE95640_GPL11154.gct', 'src_uri': 'polly:data://bulk_rnaseq_atlas/data/RNASeq/GSE95640/GCT/GSE95640_GPL11154.gct', 'timestamp_': '1680584526781'}}]}\n"
          ]
        },
        {
          "name": "stderr",
          "output_type": "stream",
          "text": [
            "\n",
            "Uploading data files:   0%|          | 0/1 [00:00<?, ?files/s]"
          ]
        },
        {
          "name": "stdout",
          "output_type": "stream",
          "text": [
            "----file_path-------\n",
            "/import/data/GSE95640_GPL11154.gct\n"
          ]
        },
        {
          "name": "stderr",
          "output_type": "stream",
          "text": [
            "Uploading data files: 100%|██████████| 1/1 [00:05<00:00,  5.70s/files]\n"
          ]
        },
        {
          "name": "stdout",
          "output_type": "stream",
          "text": [
            "Please wait for 30 seconds while your ingestion request is getting logged.\n",
            "\n",
            "\n",
            "Your request is successfully logged. You can go to ingestion monitoring dashboard for tracking it's status.\n",
            "\n",
            "                 File Name        Message\n",
            "0  combined_metadata.json  File Uploaded\n",
            "1   GSE95640_GPL11154.gct  File Uploaded\n"
          ]
        },
        {
          "data": {
            "text/html": [
              "<div>\n",
              "<style scoped>\n",
              "    .dataframe tbody tr th:only-of-type {\n",
              "        vertical-align: middle;\n",
              "    }\n",
              "\n",
              "    .dataframe tbody tr th {\n",
              "        vertical-align: top;\n",
              "    }\n",
              "\n",
              "    .dataframe thead th {\n",
              "        text-align: right;\n",
              "    }\n",
              "</style>\n",
              "<table border=\"1\" class=\"dataframe\">\n",
              "  <thead>\n",
              "    <tr style=\"text-align: right;\">\n",
              "      <th></th>\n",
              "      <th>File Name</th>\n",
              "      <th>Message</th>\n",
              "    </tr>\n",
              "  </thead>\n",
              "  <tbody>\n",
              "    <tr>\n",
              "      <th>0</th>\n",
              "      <td>combined_metadata.json</td>\n",
              "      <td>File Uploaded</td>\n",
              "    </tr>\n",
              "    <tr>\n",
              "      <th>1</th>\n",
              "      <td>GSE95640_GPL11154.gct</td>\n",
              "      <td>File Uploaded</td>\n",
              "    </tr>\n",
              "  </tbody>\n",
              "</table>\n",
              "</div>"
            ],
            "text/plain": [
              "                File Name        Message\n",
              "0  combined_metadata.json  File Uploaded\n",
              "1   GSE95640_GPL11154.gct  File Uploaded"
            ]
          },
          "execution_count": 22,
          "metadata": {},
          "output_type": "execute_result"
        }
      ],
      "source": [
        "# testing point 9\n",
        "# metadata files do not have dataset_id\n",
        "\n",
        "# 2 files passed -> one file does not have dataset_id -> only one file getting ingested\n",
        "# will raise warning \n",
        "\n",
        "# lib repo dev\n",
        "repo_id = \"1673847977346\"\n",
        "source_folder_path_data = \"/import/data\"\n",
        "source_folder_metadata = \"/import/metadata\"\n",
        "priority = \"high\"\n",
        "\n",
        "source_folder_path = {\"data\":source_folder_path_data, \"metadata\":source_folder_metadata}\n",
        "omixatlas.update_datasets(repo_id, source_folder_path, priority)"
      ]
    },
    {
      "cell_type": "code",
      "execution_count": null,
      "metadata": {},
      "outputs": [],
      "source": [
        "# testing point 10\n",
        "# update dataset positive case\n",
        "\n",
        "# already done combinedly with above tests"
      ]
    },
    {
      "cell_type": "code",
      "execution_count": null,
      "metadata": {},
      "outputs": [],
      "source": [
        "# WHEN only metadata file is present"
      ]
    },
    {
      "cell_type": "code",
      "execution_count": 17,
      "metadata": {},
      "outputs": [
        {
          "name": "stdout",
          "output_type": "stream",
          "text": [
            "----file mapping-----\n",
            "{}\n"
          ]
        },
        {
          "name": "stderr",
          "output_type": "stream",
          "text": [
            "WARNING: The dataset_id is not present in the file: GSE100467_GPL11154.json for repo: 1673847977346. This file is skipped in ingestion. Please put the dataset_id in the metadata file, and ingest again.\n"
          ]
        },
        {
          "name": "stdout",
          "output_type": "stream",
          "text": [
            "----response data--------\n",
            "{'data': {'id': 'GSE76311_GPL17586', 'type': 'file_paths', 'attributes': {'file_paths': ['transcriptomics_306/GSE76311_GPL17586.gct', 'transcriptomics_610/GSE76311_GPL17586.gct']}}}\n"
          ]
        },
        {
          "name": "stderr",
          "output_type": "stream",
          "text": [
            "WARNING: The dataset_id: GSE76311_GPL17586 is ingested for repo: 1673847977346 and in multiple destination folders: ['transcriptomics_306/GSE76311_GPL17586.gct', 'transcriptomics_610/GSE76311_GPL17586.gct']. Please use delete_datasets function to delete the exta paths. Ideally dataset should be ingested in only one destination folder\n"
          ]
        },
        {
          "name": "stdout",
          "output_type": "stream",
          "text": [
            "----response data--------\n",
            "{'data': {'id': 'GSE95640_GPL11154', 'type': 'file_paths', 'attributes': {'file_paths': ['transcriptomics_610/GSE95640_GPL11154.gct']}}}\n",
            "----unmapped metadata file names----\n",
            "['GSE100467_GPL11154', 'GSE76311_GPL17586']\n",
            "\n",
            "\n",
            "\n",
            "\n"
          ]
        },
        {
          "name": "stderr",
          "output_type": "stream",
          "text": [
            "WARNING:  These metadata files: ['GSE100467_GPL11154', 'GSE76311_GPL17586'] do not have pair data_files in input.\n",
            "Case 1:-The pair data_files for these metadata files do not exist in the OA also. These files have not been ingested, please use add_datasets for ingesting these files.\n",
            "OR\n",
            "Case 2:- These files are present in multiple destination folders. Please delete extra folders\n",
            "Processing Metadata files: 100%|██████████| 1/1 [00:00<00:00,  1.41it/s]"
          ]
        },
        {
          "name": "stdout",
          "output_type": "stream",
          "text": [
            "----response data--------\n",
            "{'data': {'id': 'GSE95640_GPL11154', 'type': 'file_paths', 'attributes': {'file_paths': ['transcriptomics_610/GSE95640_GPL11154.gct']}}}\n",
            "------curr_destination_folder-----\n",
            "transcriptomics_610/GSE95640_GPL11154.gct\n"
          ]
        },
        {
          "name": "stderr",
          "output_type": "stream",
          "text": [
            "\n"
          ]
        },
        {
          "name": "stdout",
          "output_type": "stream",
          "text": [
            "Please wait for 30 seconds while your ingestion request is getting logged.\n",
            "\n",
            "\n",
            "Your request is successfully logged. You can go to ingestion monitoring dashboard for tracking it's status.\n",
            "\n",
            "                 File Name        Message\n",
            "0  combined_metadata.json  File Uploaded\n"
          ]
        },
        {
          "data": {
            "text/html": [
              "<div>\n",
              "<style scoped>\n",
              "    .dataframe tbody tr th:only-of-type {\n",
              "        vertical-align: middle;\n",
              "    }\n",
              "\n",
              "    .dataframe tbody tr th {\n",
              "        vertical-align: top;\n",
              "    }\n",
              "\n",
              "    .dataframe thead th {\n",
              "        text-align: right;\n",
              "    }\n",
              "</style>\n",
              "<table border=\"1\" class=\"dataframe\">\n",
              "  <thead>\n",
              "    <tr style=\"text-align: right;\">\n",
              "      <th></th>\n",
              "      <th>File Name</th>\n",
              "      <th>Message</th>\n",
              "    </tr>\n",
              "  </thead>\n",
              "  <tbody>\n",
              "    <tr>\n",
              "      <th>0</th>\n",
              "      <td>combined_metadata.json</td>\n",
              "      <td>File Uploaded</td>\n",
              "    </tr>\n",
              "  </tbody>\n",
              "</table>\n",
              "</div>"
            ],
            "text/plain": [
              "                File Name        Message\n",
              "0  combined_metadata.json  File Uploaded"
            ]
          },
          "execution_count": 17,
          "metadata": {},
          "output_type": "execute_result"
        }
      ],
      "source": [
        "# testing point 11\n",
        "# metadata file does not have dataset id\n",
        "\n",
        "# 3 files passed -> one file does not have dataset_id \n",
        "# One file has multiple destination folder\n",
        "# only one file getting ingested\n",
        "# will raise warning \n",
        "\n",
        "\n",
        "# lib repo dev\n",
        "repo_id = \"1673847977346\"\n",
        "source_folder_path_data = \"/import/data\"\n",
        "source_folder_metadata = \"/import/metadata\"\n",
        "priority = \"high\"\n",
        "\n",
        "source_folder_path = {\"metadata\":source_folder_metadata}\n",
        "omixatlas.update_datasets(repo_id, source_folder_path, priority)\n"
      ]
    },
    {
      "cell_type": "code",
      "execution_count": 24,
      "metadata": {},
      "outputs": [
        {
          "name": "stdout",
          "output_type": "stream",
          "text": [
            "/bin/bash: warning: setlocale: LC_ALL: cannot change locale (en_US.UTF-8)\n",
            "\u001b[2K\u001b[1G\u001b[2K\u001b[1GCompleted 3.5 KiB/3.5 KiB (38.0 KiB/s) with 1 file(s) remainingSync complete!\n"
          ]
        }
      ],
      "source": [
        "!polly files sync -s \"polly://metadata/\" -d \"metadata/\" -y"
      ]
    },
    {
      "cell_type": "code",
      "execution_count": 25,
      "metadata": {},
      "outputs": [
        {
          "name": "stdout",
          "output_type": "stream",
          "text": [
            "/bin/bash: warning: setlocale: LC_ALL: cannot change locale (en_US.UTF-8)\n",
            "\u001b[2K\u001b[1GCompleted 32.7 MiB/32.7 MiB (76.5 MiB/s) with 1 file(s) remainingSync complete!\n"
          ]
        }
      ],
      "source": [
        "!polly files sync -s \"polly://data/\" -d \"data/\" -y"
      ]
    },
    {
      "cell_type": "code",
      "execution_count": 18,
      "metadata": {},
      "outputs": [],
      "source": [
        "# testing point 12\n",
        "# metadata file present in multiple destination folder\n",
        "\n",
        "# revisit this case in the local\n",
        "\n",
        "# completed this in the last test -> 2nd file has multiple destination folder -> it is skipped"
      ]
    },
    {
      "cell_type": "code",
      "execution_count": 17,
      "metadata": {},
      "outputs": [
        {
          "name": "stdout",
          "output_type": "stream",
          "text": [
            "----file mapping-----\n",
            "{}\n",
            "---final destination_folder_endpoint----\n",
            "https://api.discover.testpolly.elucidata.io/repositories/1673847977346/files/?list_folders=true&dataset_id=GSE140509_GPL16791\n"
          ]
        },
        {
          "name": "stderr",
          "output_type": "stream",
          "text": [
            "WARNING: The dataset_id: GSE140509_GPL16791 is not ingested for repo: 1673847977346. Please use add_datasets function to ingest the data first. \n"
          ]
        },
        {
          "name": "stdout",
          "output_type": "stream",
          "text": [
            "---final destination_folder_endpoint----\n",
            "https://api.discover.testpolly.elucidata.io/repositories/1673847977346/files/?list_folders=true&dataset_id=GSE54747_GPL6244\n",
            "----response data--------\n",
            "{'data': {'id': 'GSE54747_GPL6244', 'type': 'file_paths', 'attributes': {'file_paths': ['transcriptomics_301/GSE54747_GPL6244.gct']}}}\n",
            "----unmapped metadata file names----\n",
            "['GSE140509_GPL16791']\n"
          ]
        },
        {
          "name": "stderr",
          "output_type": "stream",
          "text": [
            "WARNING:  These metadata files: ['GSE140509_GPL16791'] do not have pair data_files in input.\n",
            "Case 1:-The pair data_files for these metadata files do not exist in the OA also. These files have not been ingested, please use add_datasets for ingesting these files.\n",
            "OR\n",
            "Case 2:- These files are present in multiple destination folders. Please delete extra folders\n",
            "Processing Metadata files:   0%|          | 0/1 [00:00<?, ?it/s]"
          ]
        },
        {
          "name": "stdout",
          "output_type": "stream",
          "text": [
            "---final destination_folder_endpoint----\n",
            "https://api.discover.testpolly.elucidata.io/repositories/1673847977346/files/?list_folders=true&dataset_id=GSE54747_GPL6244\n"
          ]
        },
        {
          "name": "stderr",
          "output_type": "stream",
          "text": [
            "Processing Metadata files: 100%|██████████| 1/1 [00:00<00:00,  1.38it/s]"
          ]
        },
        {
          "name": "stdout",
          "output_type": "stream",
          "text": [
            "----response data--------\n",
            "{'data': {'id': 'GSE54747_GPL6244', 'type': 'file_paths', 'attributes': {'file_paths': ['transcriptomics_301/GSE54747_GPL6244.gct']}}}\n",
            "------curr_destination_folder-----\n",
            "transcriptomics_301/GSE54747_GPL6244.gct\n",
            "----final combined metadata dict-----\n",
            "{'data': [{'id': 'metadata/ingestion', 'type': 'ingestion_metadata', 'attributes': {'ignore': 'false', 'urgent': 'true', 'v1_infra': False, 'priority': 'high'}}, {'id': 'transcriptomics_301/GSE54747_GPL6244.gct', 'type': 'file_metadata', 'attributes': {'curated_tissue': ['liver'], 'dataset_source': 'GEO', 'description': 'An intrahepatic gene expression signature of enhanced immune activity predicts response to peginterferon and adefovir in chronic hepatitis B patients', 'curated_organism': ['Homo sapiens'], 'year': '2018', 'curated_disease': ['Hepatitis B, Chronic'], 'platform': 'Microarray', 'dataset_id': 'GSE54747_GPL6244', 'curated_cell_type': ['None'], 'data_type': 'Transcriptomics', 'publication': 'https://www.ncbi.nlm.nih.gov/geo/query/acc.cgi?acc=GSE54747', 'curated_drug': ['L-alanine'], 'curated_gene': ['IFNA1', 'SERPINE1', 'PAEP', 'HLA-DPB1'], 'curated_cell_line': ['None'], 'drug_smiles': ['C[C@H]([NH3+])C([O-])=O', 'N1(C2=C(C(N)=NC=N2)N=C1)CCOCP(O)(=O)O'], 'total_num_samples': '15', 'curated_strain': ['None'], 'version': '0', 'is_current': 'true', 'src_repo': 'geo', 'package': 'geo/data', 'region': 'ap-southeast-1', 'bucket': 'discover-test-datalake-v1', 'key': 'geo/data/Microarray/GSE54747/GCT/GSE54747_GPL6244_curated.gct', 'file_type': 'gct', 'file_location': 'https://discover-test-datalake-v1.s3-ap-southeast-1.amazonaws.com/geo/data/Microarray/GSE54747/GCT/GSE54747_GPL6244_curated.gct', 'src_uri': 'polly:data://geo/data/Microarray/GSE54747/GCT/GSE54747_GPL6244_curated.gct', 'timestamp_': '1675073425665', 'data_table_name': 'geo__gse54747_gpl6244', 'data_table_version': '0'}}]}\n"
          ]
        },
        {
          "name": "stderr",
          "output_type": "stream",
          "text": [
            "\n"
          ]
        },
        {
          "name": "stdout",
          "output_type": "stream",
          "text": [
            "Please wait for 30 seconds while your ingestion request is getting logged.\n",
            "\n",
            "\n",
            "Your request is successfully logged. You can go to ingestion monitoring dashboard for tracking it's status.\n",
            "\n",
            "                 File Name        Message\n",
            "0  combined_metadata.json  File Uploaded\n"
          ]
        },
        {
          "data": {
            "text/html": [
              "<div>\n",
              "<style scoped>\n",
              "    .dataframe tbody tr th:only-of-type {\n",
              "        vertical-align: middle;\n",
              "    }\n",
              "\n",
              "    .dataframe tbody tr th {\n",
              "        vertical-align: top;\n",
              "    }\n",
              "\n",
              "    .dataframe thead th {\n",
              "        text-align: right;\n",
              "    }\n",
              "</style>\n",
              "<table border=\"1\" class=\"dataframe\">\n",
              "  <thead>\n",
              "    <tr style=\"text-align: right;\">\n",
              "      <th></th>\n",
              "      <th>File Name</th>\n",
              "      <th>Message</th>\n",
              "    </tr>\n",
              "  </thead>\n",
              "  <tbody>\n",
              "    <tr>\n",
              "      <th>0</th>\n",
              "      <td>combined_metadata.json</td>\n",
              "      <td>File Uploaded</td>\n",
              "    </tr>\n",
              "  </tbody>\n",
              "</table>\n",
              "</div>"
            ],
            "text/plain": [
              "                File Name        Message\n",
              "0  combined_metadata.json  File Uploaded"
            ]
          },
          "execution_count": 17,
          "metadata": {},
          "output_type": "execute_result"
        }
      ],
      "source": [
        "# testing point 13\n",
        "# metadata file whose corresponding data file does not exist in the OA\n",
        "\n",
        "# 2 files -> passed here\n",
        "# one ingested & other skipped\n",
        "\n",
        "repo_id = \"1673847977346\"\n",
        "source_folder_metadata = \"/import/meta_ingested_first_time_update\"\n",
        "priority = \"high\"\n",
        "\n",
        "source_folder_path = {\"metadata\":source_folder_metadata}\n",
        "omixatlas.update_datasets(repo_id, source_folder_path, priority)"
      ]
    },
    {
      "cell_type": "code",
      "execution_count": 29,
      "metadata": {},
      "outputs": [
        {
          "name": "stdout",
          "output_type": "stream",
          "text": [
            "----file mapping-----\n",
            "{}\n",
            "---final destination_folder_endpoint----\n",
            "https://api.discover.testpolly.elucidata.io/repositories/1673847977346/files/?list_folders=true&dataset_id=GSE100467_GPL11154\n",
            "----response data--------\n",
            "{'data': {'id': 'GSE100467_GPL11154', 'type': 'file_paths', 'attributes': {'file_paths': ['GSE100467_GPL11154.gct']}}}\n"
          ]
        },
        {
          "name": "stderr",
          "output_type": "stream",
          "text": [
            "\r",
            "Processing Metadata files:   0%|          | 0/1 [00:00<?, ?it/s]"
          ]
        },
        {
          "name": "stdout",
          "output_type": "stream",
          "text": [
            "---final destination_folder_endpoint----\n",
            "https://api.discover.testpolly.elucidata.io/repositories/1673847977346/files/?list_folders=true&dataset_id=GSE100467_GPL11154\n"
          ]
        },
        {
          "name": "stderr",
          "output_type": "stream",
          "text": [
            "Processing Metadata files: 100%|██████████| 1/1 [00:00<00:00,  1.20it/s]"
          ]
        },
        {
          "name": "stdout",
          "output_type": "stream",
          "text": [
            "----response data--------\n",
            "{'data': {'id': 'GSE100467_GPL11154', 'type': 'file_paths', 'attributes': {'file_paths': ['GSE100467_GPL11154.gct']}}}\n",
            "------curr_destination_folder-----\n",
            "\n",
            "----final combined metadata dict-----\n",
            "{'data': [{'id': 'metadata/ingestion', 'type': 'ingestion_metadata', 'attributes': {'ignore': 'false', 'urgent': 'true', 'v1_infra': False, 'priority': 'high'}}, {'id': 'GSE100467_GPL11154.gct', 'type': 'file_metadata', 'attributes': {'data_matrix_available': 'true', 'package': 'geo/data', 'total_num_samples': '445', 'year': '2019', 'description': 'A comprehensive, cell specific microRNA catalogue of human peripheral blood', 'curated_tissue': ['serum', 'blood', 'peripheral blood'], 'manually_curated_fields': {'dataset_level': ['disease'], 'sample_level': []}, 'data_table_name': 'geo__gse100467_gpl11154', 'data_table_version': '0', 'src_repo': 'geo', 'bucket': 'discover-test-datalake-v1', 'platform': 'RNASeq', 'file_type': 'gct', 'subseries_ids': [], 'publication': 'https://www.ncbi.nlm.nih.gov/geo/query/acc.cgi?acc=GSE100467', 'missing_samples': ['GSM2683537', 'GSM2683917', 'GSM2683632', 'GSM2683892', 'GSM2683800'], 'src_uri': 'polly:data://geo/data/6Dec22/GSE100467_GPL11154.gct', 'region': 'ap-southeast-1', 'key': 'geo/data/6Dec22/GSE100467_GPL11154.gct', 'curated_cell_type': ['blood cell'], 'summary': 'A comprehensive, cell specific microRNA catalogue of human peripheral blood', 'curated_strain': ['None'], 'curated_disease': ['Normal', 'disease2'], 'curated_organism': ['Homo sapiens'], 'curation_version': '2023_02_02', 'author': 'Matthias,,Huebenthal', 'curated_drug': ['None'], 'dataset_id': 'GSE100467_GPL11154', 'curated_cell_line': ['None'], 'abstract': 'A comprehensive, cell specific microRNA catalogue of human peripheral blood', 'timestamp_': '1680527072958', 'version': '0', 'dataset_source': 'geo', 'overall_design': 'miRNomes from seven distinct blood cell populations namely, CD4, CD8, CD14, CD15, CD19, CD56 and CD235a of 43 healthy individuals using smallRNA-seq. Additionally examination of miRNA profiles from 77 whole-blood samples and 38 exosome and serum samples.', 'experimental_variables': ['gender'], 'drug_smiles': [], 'file_location': 'https://discover-test-datalake-v1.s3-ap-southeast-1.amazonaws.com/geo/data/6Dec22/GSE100467_GPL11154.gct', 'data_type': 'transcriptomics', 'is_current': 'true', 'curated_gene': ['MIR486-1'], 'purchased_by': [], 'ingested_into': [], 'operation': {}}}]}\n"
          ]
        },
        {
          "name": "stderr",
          "output_type": "stream",
          "text": [
            "\n"
          ]
        },
        {
          "name": "stdout",
          "output_type": "stream",
          "text": [
            "Please wait for 30 seconds while your ingestion request is getting logged.\n",
            "\n",
            "\n",
            "Your request is successfully logged. You can go to ingestion monitoring dashboard for tracking it's status.\n",
            "\n",
            "                 File Name        Message\n",
            "0  combined_metadata.json  File Uploaded\n"
          ]
        },
        {
          "data": {
            "text/html": [
              "<div>\n",
              "<style scoped>\n",
              "    .dataframe tbody tr th:only-of-type {\n",
              "        vertical-align: middle;\n",
              "    }\n",
              "\n",
              "    .dataframe tbody tr th {\n",
              "        vertical-align: top;\n",
              "    }\n",
              "\n",
              "    .dataframe thead th {\n",
              "        text-align: right;\n",
              "    }\n",
              "</style>\n",
              "<table border=\"1\" class=\"dataframe\">\n",
              "  <thead>\n",
              "    <tr style=\"text-align: right;\">\n",
              "      <th></th>\n",
              "      <th>File Name</th>\n",
              "      <th>Message</th>\n",
              "    </tr>\n",
              "  </thead>\n",
              "  <tbody>\n",
              "    <tr>\n",
              "      <th>0</th>\n",
              "      <td>combined_metadata.json</td>\n",
              "      <td>File Uploaded</td>\n",
              "    </tr>\n",
              "  </tbody>\n",
              "</table>\n",
              "</div>"
            ],
            "text/plain": [
              "                File Name        Message\n",
              "0  combined_metadata.json  File Uploaded"
            ]
          },
          "execution_count": 29,
          "metadata": {},
          "output_type": "execute_result"
        }
      ],
      "source": [
        "# testing point 14\n",
        "# only update metadata positive case\n",
        "# combined with other cases\n",
        "\n",
        "repo_id = \"1673847977346\"\n",
        "source_folder_path_data = \"/import/data\"\n",
        "source_folder_metadata = \"/import/metadata\"\n",
        "priority = \"high\"\n",
        "\n",
        "source_folder_path = {\"metadata\":source_folder_metadata}\n",
        "omixatlas.update_datasets(repo_id, source_folder_path, priority)"
      ]
    },
    {
      "cell_type": "code",
      "execution_count": null,
      "metadata": {},
      "outputs": [],
      "source": [
        "# WHEN only data file is present"
      ]
    },
    {
      "cell_type": "code",
      "execution_count": 31,
      "metadata": {},
      "outputs": [
        {
          "name": "stdout",
          "output_type": "stream",
          "text": [
            "----file mapping-----\n",
            "{}\n"
          ]
        },
        {
          "ename": "paramException",
          "evalue": "paramException (parameter error): If only data files are getting updated, then file_mapping dict required",
          "output_type": "error",
          "traceback": [
            "\u001b[0;31m---------------------------------------------------------------------------\u001b[0m",
            "\u001b[0;31mparamException\u001b[0m                            Traceback (most recent call last)",
            "Input \u001b[0;32mIn [31]\u001b[0m, in \u001b[0;36m<cell line: 10>\u001b[0;34m()\u001b[0m\n\u001b[1;32m      7\u001b[0m priority \u001b[38;5;241m=\u001b[39m \u001b[38;5;124m\"\u001b[39m\u001b[38;5;124mhigh\u001b[39m\u001b[38;5;124m\"\u001b[39m\n\u001b[1;32m      9\u001b[0m source_folder_path \u001b[38;5;241m=\u001b[39m {\u001b[38;5;124m\"\u001b[39m\u001b[38;5;124mdata\u001b[39m\u001b[38;5;124m\"\u001b[39m:source_folder_path_data}\n\u001b[0;32m---> 10\u001b[0m \u001b[43momixatlas\u001b[49m\u001b[38;5;241;43m.\u001b[39;49m\u001b[43mupdate_datasets\u001b[49m\u001b[43m(\u001b[49m\u001b[43mrepo_id\u001b[49m\u001b[43m,\u001b[49m\u001b[43m \u001b[49m\u001b[43msource_folder_path\u001b[49m\u001b[43m,\u001b[49m\u001b[43m \u001b[49m\u001b[43mpriority\u001b[49m\u001b[43m)\u001b[49m\n",
            "File \u001b[0;32m/usr/local/lib/python3.10/site-packages/polly/tracking.py:59\u001b[0m, in \u001b[0;36mTrack.track_decorator.<locals>.wrapper_function\u001b[0;34m(*args, **kwargs)\u001b[0m\n\u001b[1;32m     57\u001b[0m         \u001b[38;5;28;01mreturn\u001b[39;00m result\n\u001b[1;32m     58\u001b[0m \u001b[38;5;28;01melse\u001b[39;00m:\n\u001b[0;32m---> 59\u001b[0m     \u001b[38;5;28;01mraise\u001b[39;00m returned_err\n",
            "File \u001b[0;32m/usr/local/lib/python3.10/site-packages/polly/tracking.py:22\u001b[0m, in \u001b[0;36mTrack.track_decorator.<locals>.wrapper_function\u001b[0;34m(*args, **kwargs)\u001b[0m\n\u001b[1;32m     20\u001b[0m execution_flag \u001b[38;5;241m=\u001b[39m \u001b[38;5;28;01mFalse\u001b[39;00m\n\u001b[1;32m     21\u001b[0m \u001b[38;5;28;01mtry\u001b[39;00m:\n\u001b[0;32m---> 22\u001b[0m     result \u001b[38;5;241m=\u001b[39m \u001b[43mfunction\u001b[49m\u001b[43m(\u001b[49m\u001b[38;5;241;43m*\u001b[39;49m\u001b[43margs\u001b[49m\u001b[43m,\u001b[49m\u001b[43m \u001b[49m\u001b[38;5;241;43m*\u001b[39;49m\u001b[38;5;241;43m*\u001b[39;49m\u001b[43mkwargs\u001b[49m\u001b[43m)\u001b[49m\n\u001b[1;32m     23\u001b[0m     execution_flag \u001b[38;5;241m=\u001b[39m \u001b[38;5;28;01mTrue\u001b[39;00m\n\u001b[1;32m     24\u001b[0m \u001b[38;5;28;01mexcept\u001b[39;00m \u001b[38;5;167;01mException\u001b[39;00m \u001b[38;5;28;01mas\u001b[39;00m e:\n",
            "File \u001b[0;32m/usr/local/lib/python3.10/site-packages/polly/omixatlas.py:1922\u001b[0m, in \u001b[0;36mOmixAtlas.update_datasets\u001b[0;34m(self, repo_id, source_folder_path, priority, file_mapping, validation)\u001b[0m\n\u001b[1;32m   1920\u001b[0m \u001b[38;5;28mprint\u001b[39m(\u001b[38;5;124m\"\u001b[39m\u001b[38;5;124m----file mapping-----\u001b[39m\u001b[38;5;124m\"\u001b[39m)\n\u001b[1;32m   1921\u001b[0m \u001b[38;5;28mprint\u001b[39m(file_mapping)\n\u001b[0;32m-> 1922\u001b[0m data_upload_results_df \u001b[38;5;241m=\u001b[39m \u001b[43mfiles_obj\u001b[49m\u001b[38;5;241;43m.\u001b[39;49m\u001b[43mupdate_datasets\u001b[49m\u001b[43m(\u001b[49m\n\u001b[1;32m   1923\u001b[0m \u001b[43m    \u001b[49m\u001b[38;5;28;43mself\u001b[39;49m\u001b[43m,\u001b[49m\u001b[43m \u001b[49m\u001b[43mrepo_id\u001b[49m\u001b[43m,\u001b[49m\u001b[43m \u001b[49m\u001b[43msource_folder_path\u001b[49m\u001b[43m,\u001b[49m\u001b[43m \u001b[49m\u001b[43mpriority\u001b[49m\u001b[43m,\u001b[49m\u001b[43m \u001b[49m\u001b[43mfile_mapping\u001b[49m\u001b[43m,\u001b[49m\u001b[43m \u001b[49m\u001b[43mvalidation\u001b[49m\n\u001b[1;32m   1924\u001b[0m \u001b[43m\u001b[49m\u001b[43m)\u001b[49m\n\u001b[1;32m   1925\u001b[0m \u001b[38;5;28;01mreturn\u001b[39;00m data_upload_results_df\n",
            "File \u001b[0;32m/usr/local/lib/python3.10/site-packages/polly_services/files/files.py:279\u001b[0m, in \u001b[0;36mFiles.update_datasets\u001b[0;34m(self, polly_session, repo_id, source_folder_path, priority, file_mapping, validation)\u001b[0m\n\u001b[1;32m    275\u001b[0m     \u001b[38;5;28;01mreturn\u001b[39;00m \u001b[38;5;28mself\u001b[39m\u001b[38;5;241m.\u001b[39mingestion_and_updation_print_commons(\n\u001b[1;32m    276\u001b[0m         file_status_dict, validation, polly_session, repo_id\n\u001b[1;32m    277\u001b[0m     )\n\u001b[1;32m    278\u001b[0m \u001b[38;5;28;01mexcept\u001b[39;00m \u001b[38;5;167;01mException\u001b[39;00m \u001b[38;5;28;01mas\u001b[39;00m err:\n\u001b[0;32m--> 279\u001b[0m     \u001b[38;5;28;01mraise\u001b[39;00m err\n",
            "File \u001b[0;32m/usr/local/lib/python3.10/site-packages/polly_services/files/files.py:175\u001b[0m, in \u001b[0;36mFiles.update_datasets\u001b[0;34m(self, polly_session, repo_id, source_folder_path, priority, file_mapping, validation)\u001b[0m\n\u001b[1;32m    156\u001b[0m (\n\u001b[1;32m    157\u001b[0m     data_metadata_mapping,\n\u001b[1;32m    158\u001b[0m     unmapped_data_file_names,\n\u001b[0;32m   (...)\u001b[0m\n\u001b[1;32m    161\u001b[0m     data_file_list, metadata_file_list, source_folder_path\n\u001b[1;32m    162\u001b[0m )\n\u001b[1;32m    164\u001b[0m \u001b[38;5;66;03m# check if unmapped files -> pair file exists in OA -> raise warning\u001b[39;00m\n\u001b[1;32m    165\u001b[0m \u001b[38;5;66;03m# if pair file does not exist\u001b[39;00m\n\u001b[1;32m    166\u001b[0m \u001b[38;5;66;03m# based on that update the data_metadata_mapping_dict, data_file_list, metadata_file_list\u001b[39;00m\n\u001b[1;32m    167\u001b[0m \n\u001b[1;32m    168\u001b[0m \u001b[38;5;66;03m# go through this function once to check if everything seems right ??\u001b[39;00m\n\u001b[1;32m    169\u001b[0m (\n\u001b[1;32m    170\u001b[0m     data_metadata_mapping,\n\u001b[1;32m    171\u001b[0m     data_file_list,\n\u001b[1;32m    172\u001b[0m     metadata_file_list,\n\u001b[1;32m    173\u001b[0m     unmapped_metadata_file_names,\n\u001b[1;32m    174\u001b[0m     unmapped_data_file_names,\n\u001b[0;32m--> 175\u001b[0m ) \u001b[38;5;241m=\u001b[39m \u001b[43mfiles_hlpr\u001b[49m\u001b[38;5;241;43m.\u001b[39;49m\u001b[43mcheck_for_unmapped_files_in_oa\u001b[49m\u001b[43m(\u001b[49m\n\u001b[1;32m    176\u001b[0m \u001b[43m    \u001b[49m\u001b[43mdata_metadata_mapping\u001b[49m\u001b[43m,\u001b[49m\n\u001b[1;32m    177\u001b[0m \u001b[43m    \u001b[49m\u001b[43mdata_file_list\u001b[49m\u001b[43m,\u001b[49m\n\u001b[1;32m    178\u001b[0m \u001b[43m    \u001b[49m\u001b[43mmetadata_file_list\u001b[49m\u001b[43m,\u001b[49m\n\u001b[1;32m    179\u001b[0m \u001b[43m    \u001b[49m\u001b[43munmapped_data_file_names\u001b[49m\u001b[43m,\u001b[49m\n\u001b[1;32m    180\u001b[0m \u001b[43m    \u001b[49m\u001b[43munmapped_metadata_file_names\u001b[49m\u001b[43m,\u001b[49m\n\u001b[1;32m    181\u001b[0m \u001b[43m    \u001b[49m\u001b[43mfile_mapping\u001b[49m\u001b[43m,\u001b[49m\n\u001b[1;32m    182\u001b[0m \u001b[43m    \u001b[49m\u001b[43mpolly_session\u001b[49m\u001b[43m,\u001b[49m\n\u001b[1;32m    183\u001b[0m \u001b[43m    \u001b[49m\u001b[43msource_folder_path\u001b[49m\u001b[43m,\u001b[49m\n\u001b[1;32m    184\u001b[0m \u001b[43m    \u001b[49m\u001b[43mrepo_id\u001b[49m\u001b[43m,\u001b[49m\n\u001b[1;32m    185\u001b[0m \u001b[43m\u001b[49m\u001b[43m)\u001b[49m\n\u001b[1;32m    187\u001b[0m \u001b[38;5;66;03m# only metadata file names -> no ext as ext is common\u001b[39;00m\n\u001b[1;32m    188\u001b[0m \u001b[38;5;28;01mif\u001b[39;00m unmapped_metadata_file_names:\n",
            "File \u001b[0;32m/usr/local/lib/python3.10/site-packages/polly_services/files/files_hlpr.py:1885\u001b[0m, in \u001b[0;36mcheck_for_unmapped_files_in_oa\u001b[0;34m(data_metadata_mapping, data_file_list, metadata_file_list, unmapped_data_file_names, unmapped_metadata_file_names, file_mapping, polly_session, source_folder_path, repo_id)\u001b[0m\n\u001b[1;32m   1869\u001b[0m     (\n\u001b[1;32m   1870\u001b[0m         data_metadata_mapping,\n\u001b[1;32m   1871\u001b[0m         data_file_list,\n\u001b[0;32m   (...)\u001b[0m\n\u001b[1;32m   1880\u001b[0m         repo_id,\n\u001b[1;32m   1881\u001b[0m     )\n\u001b[1;32m   1882\u001b[0m \u001b[38;5;28;01melif\u001b[39;00m data_path \u001b[38;5;129;01mand\u001b[39;00m unmapped_data_file_names \u001b[38;5;129;01mand\u001b[39;00m \u001b[38;5;129;01mnot\u001b[39;00m file_mapping:\n\u001b[1;32m   1883\u001b[0m     \u001b[38;5;66;03m# if datapath is present and there are unmapped data files(corresponding metadata file not given)\u001b[39;00m\n\u001b[1;32m   1884\u001b[0m     \u001b[38;5;66;03m# but the user has not passed file_mapping dict\u001b[39;00m\n\u001b[0;32m-> 1885\u001b[0m     \u001b[38;5;28;01mraise\u001b[39;00m paramException(\n\u001b[1;32m   1886\u001b[0m         title\u001b[38;5;241m=\u001b[39m\u001b[38;5;124m\"\u001b[39m\u001b[38;5;124mfile_mapping required\u001b[39m\u001b[38;5;124m\"\u001b[39m,\n\u001b[1;32m   1887\u001b[0m         detail\u001b[38;5;241m=\u001b[39m\u001b[38;5;124m\"\u001b[39m\u001b[38;5;124mIf only data files are getting updated, then file_mapping dict required\u001b[39m\u001b[38;5;124m\"\u001b[39m,\n\u001b[1;32m   1888\u001b[0m     )\n\u001b[1;32m   1890\u001b[0m \u001b[38;5;28;01mreturn\u001b[39;00m (\n\u001b[1;32m   1891\u001b[0m     data_metadata_mapping,\n\u001b[1;32m   1892\u001b[0m     data_file_list,\n\u001b[0;32m   (...)\u001b[0m\n\u001b[1;32m   1895\u001b[0m     unmapped_data_file_names,\n\u001b[1;32m   1896\u001b[0m )\n",
            "\u001b[0;31mparamException\u001b[0m: paramException (parameter error): If only data files are getting updated, then file_mapping dict required"
          ]
        }
      ],
      "source": [
        "# testing point 15\n",
        "# file mapping dict not passed\n",
        "\n",
        "repo_id = \"1673847977346\"\n",
        "source_folder_path_data = \"/import/data\"\n",
        "source_folder_metadata = \"/import/metadata\"\n",
        "priority = \"high\"\n",
        "\n",
        "source_folder_path = {\"data\":source_folder_path_data}\n",
        "omixatlas.update_datasets(repo_id, source_folder_path, priority)"
      ]
    },
    {
      "cell_type": "code",
      "execution_count": 37,
      "metadata": {},
      "outputs": [
        {
          "name": "stdout",
          "output_type": "stream",
          "text": [
            "----file mapping-----\n",
            "{'GSE140509_GPL16791.gct': 'GSE140509_GPL16791'}\n",
            "---final destination_folder_endpoint----\n",
            "https://api.discover.testpolly.elucidata.io/repositories/1673847977346/files/?list_folders=true&dataset_id=GSE140509_GPL16791\n"
          ]
        },
        {
          "name": "stderr",
          "output_type": "stream",
          "text": [
            "WARNING: The dataset_id is not present in the file: GSE54747_GPL6244.gct for repo: 1673847977346 in the file_mapping_dict passed as argument in update_datasets. This file is skipped in ingestion. Please put the dataset_file and dataset_id mapping in file_mapping dict, and ingest again.\n",
            "WARNING: The dataset_id: GSE140509_GPL16791 is not ingested for repo: 1673847977346. Please use add_datasets function to ingest the data first. \n",
            "WARNING: These data files: ['GSE54747_GPL6244.gct', 'GSE140509_GPL16791.gct'] do not have pair metadata_files in input. The pair metadata_files for these data_files do not exist in the OA also. These files have not been ingested, please use add_datasets for ingesting these files.\n"
          ]
        },
        {
          "data": {
            "text/html": [
              "<div>\n",
              "<style scoped>\n",
              "    .dataframe tbody tr th:only-of-type {\n",
              "        vertical-align: middle;\n",
              "    }\n",
              "\n",
              "    .dataframe tbody tr th {\n",
              "        vertical-align: top;\n",
              "    }\n",
              "\n",
              "    .dataframe thead th {\n",
              "        text-align: right;\n",
              "    }\n",
              "</style>\n",
              "<table border=\"1\" class=\"dataframe\">\n",
              "  <thead>\n",
              "    <tr style=\"text-align: right;\">\n",
              "      <th></th>\n",
              "    </tr>\n",
              "  </thead>\n",
              "  <tbody>\n",
              "  </tbody>\n",
              "</table>\n",
              "</div>"
            ],
            "text/plain": [
              "Empty DataFrame\n",
              "Columns: []\n",
              "Index: []"
            ]
          },
          "execution_count": 37,
          "metadata": {},
          "output_type": "execute_result"
        }
      ],
      "source": [
        "# testing point 16\n",
        "# data file does not have a corresponding metadata file in OA\n",
        "\n",
        "# 2 files -> for 1 dataset_id not passed in the mapping\n",
        "# for 2nd -> corresponding file not present in the OA\n",
        "\n",
        "\n",
        "repo_id = \"1673847977346\"\n",
        "source_folder_metadata = \"/import/meta_ingested_first_time_update\"\n",
        "source_folder_path_data = \"/import/data_ingested_first_time_update\"\n",
        "priority = \"high\"\n",
        "\n",
        "file_mapping = {\"GSE140509_GPL16791.gct\": \"GSE140509_GPL16791\"}\n",
        "\n",
        "source_folder_path = {\"data\":source_folder_path_data}\n",
        "omixatlas.update_datasets(repo_id, source_folder_path, priority, file_mapping=file_mapping)"
      ]
    },
    {
      "cell_type": "code",
      "execution_count": 34,
      "metadata": {},
      "outputs": [
        {
          "name": "stdout",
          "output_type": "stream",
          "text": [
            "----file mapping-----\n",
            "{'GSE100467_GPL11154.gct': 'GSE100467_GPL11154'}\n",
            "---final destination_folder_endpoint----\n",
            "https://api.discover.testpolly.elucidata.io/repositories/1673847977346/files/?list_folders=true&dataset_id=GSE100467_GPL11154\n",
            "----response data--------\n",
            "{'data': {'id': 'GSE100467_GPL11154', 'type': 'file_paths', 'attributes': {'file_paths': ['GSE100467_GPL11154.gct']}}}\n"
          ]
        },
        {
          "name": "stderr",
          "output_type": "stream",
          "text": [
            "\r",
            "Uploading data files:   0%|          | 0/1 [00:00<?, ?files/s]"
          ]
        },
        {
          "name": "stdout",
          "output_type": "stream",
          "text": [
            "----file_path-------\n",
            "/import/data/GSE100467_GPL11154.gct\n"
          ]
        },
        {
          "name": "stderr",
          "output_type": "stream",
          "text": [
            "Uploading data files: 100%|██████████| 1/1 [00:06<00:00,  6.00s/files]\n"
          ]
        },
        {
          "name": "stdout",
          "output_type": "stream",
          "text": [
            "Please wait for 30 seconds while your ingestion request is getting logged.\n",
            "\n",
            "\n",
            "Your request is successfully logged. You can go to ingestion monitoring dashboard for tracking it's status.\n",
            "\n",
            "                 File Name        Message\n",
            "0  GSE100467_GPL11154.gct  File Uploaded\n"
          ]
        },
        {
          "data": {
            "text/html": [
              "<div>\n",
              "<style scoped>\n",
              "    .dataframe tbody tr th:only-of-type {\n",
              "        vertical-align: middle;\n",
              "    }\n",
              "\n",
              "    .dataframe tbody tr th {\n",
              "        vertical-align: top;\n",
              "    }\n",
              "\n",
              "    .dataframe thead th {\n",
              "        text-align: right;\n",
              "    }\n",
              "</style>\n",
              "<table border=\"1\" class=\"dataframe\">\n",
              "  <thead>\n",
              "    <tr style=\"text-align: right;\">\n",
              "      <th></th>\n",
              "      <th>File Name</th>\n",
              "      <th>Message</th>\n",
              "    </tr>\n",
              "  </thead>\n",
              "  <tbody>\n",
              "    <tr>\n",
              "      <th>0</th>\n",
              "      <td>GSE100467_GPL11154.gct</td>\n",
              "      <td>File Uploaded</td>\n",
              "    </tr>\n",
              "  </tbody>\n",
              "</table>\n",
              "</div>"
            ],
            "text/plain": [
              "                File Name        Message\n",
              "0  GSE100467_GPL11154.gct  File Uploaded"
            ]
          },
          "execution_count": 34,
          "metadata": {},
          "output_type": "execute_result"
        }
      ],
      "source": [
        "# testing point 17\n",
        "# only data file update positive case\n",
        "\n",
        "repo_id = \"1673847977346\"\n",
        "source_folder_path_data = \"/import/data\"\n",
        "source_folder_metadata = \"/import/metadata\"\n",
        "priority = \"high\"\n",
        "file_mapping = {\"GSE100467_GPL11154.gct\":\"GSE100467_GPL11154\"}\n",
        "\n",
        "source_folder_path = {\"data\":source_folder_path_data}\n",
        "omixatlas.update_datasets(repo_id, source_folder_path, priority, file_mapping=file_mapping)"
      ]
    },
    {
      "cell_type": "code",
      "execution_count": null,
      "metadata": {},
      "outputs": [],
      "source": []
    }
  ],
  "metadata": {
    "kernelspec": {
      "display_name": "Python 3 (ipykernel)",
      "language": "python",
      "name": "python3"
    },
    "language_info": {
      "codemirror_mode": {
        "name": "ipython",
        "version": 3
      },
      "file_extension": ".py",
      "mimetype": "text/x-python",
      "name": "python",
      "nbconvert_exporter": "python",
      "pygments_lexer": "ipython3",
      "version": "3.10.2"
    }
  },
  "nbformat": 4,
  "nbformat_minor": 2
}
