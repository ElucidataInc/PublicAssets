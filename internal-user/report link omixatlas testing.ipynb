{
 "cells": [
  {
   "cell_type": "code",
   "execution_count": 1,
   "id": "3d9fbf8b",
   "metadata": {},
   "outputs": [
    {
     "name": "stdout",
     "output_type": "stream",
     "text": [
      "Collecting polly-python==3.0.0-linked-report\n",
      "  Using cached https://elucidatainc.github.io/PublicAssets/builds/polly-python/tests/testpolly/polly_python-3.0.0_linked_report-py3-none-any.whl (168 kB)\n",
      "Requirement already satisfied: tqdm==4.65.0 in ./.environments/miniconda/envs/polly/lib/python3.10/site-packages (from polly-python==3.0.0-linked-report) (4.65.0)\n",
      "Requirement already satisfied: rst2txt==1.1.0 in ./.environments/miniconda/envs/polly/lib/python3.10/site-packages (from polly-python==3.0.0-linked-report) (1.1.0)\n",
      "Requirement already satisfied: cloudpathlib>=0.15.0 in ./.environments/miniconda/envs/polly/lib/python3.10/site-packages (from polly-python==3.0.0-linked-report) (0.16.0)\n",
      "Requirement already satisfied: botocore>=1.27.0 in ./.environments/miniconda/envs/polly/lib/python3.10/site-packages (from polly-python==3.0.0-linked-report) (1.31.40)\n",
      "Requirement already satisfied: numpy==1.26.4 in ./.environments/miniconda/envs/polly/lib/python3.10/site-packages (from polly-python==3.0.0-linked-report) (1.26.4)\n",
      "Requirement already satisfied: pytest>=6.2.5 in ./.environments/miniconda/envs/polly/lib/python3.10/site-packages (from polly-python==3.0.0-linked-report) (7.4.3)\n",
      "Requirement already satisfied: cryptography<=38.0.0,>=37.0.1 in ./.environments/miniconda/envs/polly/lib/python3.10/site-packages (from polly-python==3.0.0-linked-report) (38.0.0)\n",
      "Requirement already satisfied: joblib>=1.2.0 in ./.environments/miniconda/envs/polly/lib/python3.10/site-packages (from polly-python==3.0.0-linked-report) (1.3.2)\n",
      "Requirement already satisfied: python-jose==3.3.0 in ./.environments/miniconda/envs/polly/lib/python3.10/site-packages (from polly-python==3.0.0-linked-report) (3.3.0)\n",
      "Requirement already satisfied: Deprecated>=1.2.12 in ./.environments/miniconda/envs/polly/lib/python3.10/site-packages (from polly-python==3.0.0-linked-report) (1.2.14)\n",
      "Requirement already satisfied: plotly>=5.0.0 in ./.environments/miniconda/envs/polly/lib/python3.10/site-packages (from polly-python==3.0.0-linked-report) (5.18.0)\n",
      "Requirement already satisfied: mixpanel==4.10.0 in ./.environments/miniconda/envs/polly/lib/python3.10/site-packages (from polly-python==3.0.0-linked-report) (4.10.0)\n",
      "Requirement already satisfied: elucidatacmapPy==3.3.4 in ./.environments/miniconda/envs/polly/lib/python3.10/site-packages (from polly-python==3.0.0-linked-report) (3.3.4)\n",
      "Requirement already satisfied: pydantic==1.10.12 in ./.environments/miniconda/envs/polly/lib/python3.10/site-packages (from polly-python==3.0.0-linked-report) (1.10.12)\n",
      "Requirement already satisfied: boto3>=1.24.0 in ./.environments/miniconda/envs/polly/lib/python3.10/site-packages (from polly-python==3.0.0-linked-report) (1.28.40)\n",
      "Requirement already satisfied: tabulate==0.9.0 in ./.environments/miniconda/envs/polly/lib/python3.10/site-packages (from polly-python==3.0.0-linked-report) (0.9.0)\n",
      "Requirement already satisfied: pandas>=1.3.5 in ./.environments/miniconda/envs/polly/lib/python3.10/site-packages (from polly-python==3.0.0-linked-report) (1.5.3)\n",
      "Requirement already satisfied: requests==2.28.1 in ./.environments/miniconda/envs/polly/lib/python3.10/site-packages (from polly-python==3.0.0-linked-report) (2.28.1)\n",
      "Requirement already satisfied: retrying==1.3.4 in ./.environments/miniconda/envs/polly/lib/python3.10/site-packages (from polly-python==3.0.0-linked-report) (1.3.4)\n",
      "Requirement already satisfied: h5py>=2.6.0 in ./.environments/miniconda/envs/polly/lib/python3.10/site-packages (from elucidatacmapPy==3.3.4->polly-python==3.0.0-linked-report) (3.10.0)\n",
      "Requirement already satisfied: six in ./.environments/miniconda/envs/polly/lib/python3.10/site-packages (from elucidatacmapPy==3.3.4->polly-python==3.0.0-linked-report) (1.16.0)\n",
      "Requirement already satisfied: urllib3 in ./.environments/miniconda/envs/polly/lib/python3.10/site-packages (from mixpanel==4.10.0->polly-python==3.0.0-linked-report) (1.26.16)\n",
      "Requirement already satisfied: typing-extensions>=4.2.0 in ./.environments/miniconda/envs/polly/lib/python3.10/site-packages (from pydantic==1.10.12->polly-python==3.0.0-linked-report) (4.7.1)\n",
      "Requirement already satisfied: rsa in ./.environments/miniconda/envs/polly/lib/python3.10/site-packages (from python-jose==3.3.0->polly-python==3.0.0-linked-report) (4.7.2)\n",
      "Requirement already satisfied: pyasn1 in ./.environments/miniconda/envs/polly/lib/python3.10/site-packages (from python-jose==3.3.0->polly-python==3.0.0-linked-report) (0.5.0)\n",
      "Requirement already satisfied: ecdsa!=0.15 in ./.environments/miniconda/envs/polly/lib/python3.10/site-packages (from python-jose==3.3.0->polly-python==3.0.0-linked-report) (0.18.0)\n",
      "Requirement already satisfied: charset-normalizer<3,>=2 in ./.environments/miniconda/envs/polly/lib/python3.10/site-packages (from requests==2.28.1->polly-python==3.0.0-linked-report) (2.1.1)\n",
      "Requirement already satisfied: idna<4,>=2.5 in ./.environments/miniconda/envs/polly/lib/python3.10/site-packages (from requests==2.28.1->polly-python==3.0.0-linked-report) (2.10)\n",
      "Requirement already satisfied: certifi>=2017.4.17 in ./.environments/miniconda/envs/polly/lib/python3.10/site-packages (from requests==2.28.1->polly-python==3.0.0-linked-report) (2023.7.22)\n",
      "Requirement already satisfied: pygments in ./.environments/miniconda/envs/polly/lib/python3.10/site-packages (from rst2txt==1.1.0->polly-python==3.0.0-linked-report) (2.16.1)\n",
      "Requirement already satisfied: docutils>=0.11 in ./.environments/miniconda/envs/polly/lib/python3.10/site-packages (from rst2txt==1.1.0->polly-python==3.0.0-linked-report) (0.16)\n",
      "Requirement already satisfied: jmespath<2.0.0,>=0.7.1 in ./.environments/miniconda/envs/polly/lib/python3.10/site-packages (from boto3>=1.24.0->polly-python==3.0.0-linked-report) (1.0.1)\n",
      "Requirement already satisfied: s3transfer<0.7.0,>=0.6.0 in ./.environments/miniconda/envs/polly/lib/python3.10/site-packages (from boto3>=1.24.0->polly-python==3.0.0-linked-report) (0.6.2)\n",
      "Requirement already satisfied: python-dateutil<3.0.0,>=2.1 in ./.environments/miniconda/envs/polly/lib/python3.10/site-packages (from botocore>=1.27.0->polly-python==3.0.0-linked-report) (2.8.2)\n",
      "Requirement already satisfied: cffi>=1.12 in ./.environments/miniconda/envs/polly/lib/python3.10/site-packages (from cryptography<=38.0.0,>=37.0.1->polly-python==3.0.0-linked-report) (1.15.1)\n",
      "Requirement already satisfied: wrapt<2,>=1.10 in ./.environments/miniconda/envs/polly/lib/python3.10/site-packages (from Deprecated>=1.2.12->polly-python==3.0.0-linked-report) (1.16.0)\n",
      "Requirement already satisfied: pytz>=2020.1 in ./.environments/miniconda/envs/polly/lib/python3.10/site-packages (from pandas>=1.3.5->polly-python==3.0.0-linked-report) (2023.3)\n",
      "Requirement already satisfied: packaging in ./.environments/miniconda/envs/polly/lib/python3.10/site-packages (from plotly>=5.0.0->polly-python==3.0.0-linked-report) (23.1)\n",
      "Requirement already satisfied: tenacity>=6.2.0 in ./.environments/miniconda/envs/polly/lib/python3.10/site-packages (from plotly>=5.0.0->polly-python==3.0.0-linked-report) (8.2.3)\n",
      "Requirement already satisfied: exceptiongroup>=1.0.0rc8 in ./.environments/miniconda/envs/polly/lib/python3.10/site-packages (from pytest>=6.2.5->polly-python==3.0.0-linked-report) (1.1.3)\n",
      "Requirement already satisfied: iniconfig in ./.environments/miniconda/envs/polly/lib/python3.10/site-packages (from pytest>=6.2.5->polly-python==3.0.0-linked-report) (2.0.0)\n",
      "Requirement already satisfied: tomli>=1.0.0 in ./.environments/miniconda/envs/polly/lib/python3.10/site-packages (from pytest>=6.2.5->polly-python==3.0.0-linked-report) (2.0.1)\n",
      "Requirement already satisfied: pluggy<2.0,>=0.12 in ./.environments/miniconda/envs/polly/lib/python3.10/site-packages (from pytest>=6.2.5->polly-python==3.0.0-linked-report) (1.3.0)\n",
      "Requirement already satisfied: pycparser in ./.environments/miniconda/envs/polly/lib/python3.10/site-packages (from cffi>=1.12->cryptography<=38.0.0,>=37.0.1->polly-python==3.0.0-linked-report) (2.21)\n",
      "Note: you may need to restart the kernel to use updated packages.\n"
     ]
    }
   ],
   "source": [
    "pip install https://elucidatainc.github.io/PublicAssets/builds/polly-python/tests/testpolly/polly_python-3.0.0_linked_report-py3-none-any.whl"
   ]
  },
  {
   "cell_type": "code",
   "execution_count": 2,
   "id": "c8be34ba",
   "metadata": {},
   "outputs": [],
   "source": [
    "from polly.auth import Polly\n",
    "from polly.omixatlas import OmixAtlas\n",
    "AUTH_TOKEN = \"ZjY1YzNkZjFjZjo6NzdkYzdiZDMwZGZhMDhkNGRlNGFlZDhkY2Q2N2MxNjQxZTllOWFhYQ==\"\n",
    "Polly.auth(AUTH_TOKEN, env=\"testpolly\")"
   ]
  },
  {
   "cell_type": "code",
   "execution_count": 3,
   "id": "e132b46e",
   "metadata": {},
   "outputs": [
    {
     "ename": "InvalidParameterException",
     "evalue": "Empty or Invalid Parameters = workspace_path.",
     "output_type": "error",
     "traceback": [
      "\u001b[0;31m---------------------------------------------------------------------------\u001b[0m",
      "\u001b[0;31mInvalidParameterException\u001b[0m                 Traceback (most recent call last)",
      "Cell \u001b[0;32mIn[3], line 2\u001b[0m\n\u001b[1;32m      1\u001b[0m omixatlas \u001b[38;5;241m=\u001b[39m OmixAtlas()\n\u001b[0;32m----> 2\u001b[0m \u001b[43momixatlas\u001b[49m\u001b[38;5;241;43m.\u001b[39;49m\u001b[43mlink_report\u001b[49m\u001b[43m(\u001b[49m\n\u001b[1;32m      3\u001b[0m \u001b[43m    \u001b[49m\u001b[38;5;124;43m\"\u001b[39;49m\u001b[38;5;124;43m1669033066992\u001b[39;49m\u001b[38;5;124;43m\"\u001b[39;49m\u001b[43m,\u001b[49m\u001b[43m \u001b[49m\u001b[38;5;124;43m\"\u001b[39;49m\u001b[38;5;124;43mGSE100021_GPL14844_raw\u001b[39;49m\u001b[38;5;124;43m\"\u001b[39;49m\u001b[43m,\u001b[49m\u001b[43m \u001b[49m\u001b[38;5;124;43m\"\u001b[39;49m\u001b[38;5;124;43m9\u001b[39;49m\u001b[38;5;124;43m\"\u001b[39;49m\u001b[43m,\u001b[49m\u001b[43m \u001b[49m\u001b[38;5;241;43m9\u001b[39;49m\u001b[43m,\u001b[49m\u001b[43m \u001b[49m\u001b[38;5;124;43m\"\u001b[39;49m\u001b[38;5;124;43mpublic\u001b[39;49m\u001b[38;5;124;43m\"\u001b[39;49m\n\u001b[1;32m      4\u001b[0m \u001b[43m)\u001b[49m\n\u001b[1;32m      5\u001b[0m \u001b[38;5;28mprint\u001b[39m(omixatlas\u001b[38;5;241m.\u001b[39mfetch_linked_reports(\u001b[38;5;124m\"\u001b[39m\u001b[38;5;124m1669033066992\u001b[39m\u001b[38;5;124m\"\u001b[39m, \u001b[38;5;124m\"\u001b[39m\u001b[38;5;124mGSE100021_GPL14844_raw\u001b[39m\u001b[38;5;124m\"\u001b[39m))\n",
      "File \u001b[0;32m~/SageMaker/.environments/miniconda/envs/polly/lib/python3.10/site-packages/polly/tracking.py:59\u001b[0m, in \u001b[0;36mTrack.track_decorator.<locals>.wrapper_function\u001b[0;34m(*args, **kwargs)\u001b[0m\n\u001b[1;32m     57\u001b[0m         \u001b[38;5;28;01mreturn\u001b[39;00m result\n\u001b[1;32m     58\u001b[0m \u001b[38;5;28;01melse\u001b[39;00m:\n\u001b[0;32m---> 59\u001b[0m     \u001b[38;5;28;01mraise\u001b[39;00m returned_err\n",
      "File \u001b[0;32m~/SageMaker/.environments/miniconda/envs/polly/lib/python3.10/site-packages/polly/tracking.py:22\u001b[0m, in \u001b[0;36mTrack.track_decorator.<locals>.wrapper_function\u001b[0;34m(*args, **kwargs)\u001b[0m\n\u001b[1;32m     20\u001b[0m execution_flag \u001b[38;5;241m=\u001b[39m \u001b[38;5;28;01mFalse\u001b[39;00m\n\u001b[1;32m     21\u001b[0m \u001b[38;5;28;01mtry\u001b[39;00m:\n\u001b[0;32m---> 22\u001b[0m     result \u001b[38;5;241m=\u001b[39m \u001b[43mfunction\u001b[49m\u001b[43m(\u001b[49m\u001b[38;5;241;43m*\u001b[39;49m\u001b[43margs\u001b[49m\u001b[43m,\u001b[49m\u001b[43m \u001b[49m\u001b[38;5;241;43m*\u001b[39;49m\u001b[38;5;241;43m*\u001b[39;49m\u001b[43mkwargs\u001b[49m\u001b[43m)\u001b[49m\n\u001b[1;32m     23\u001b[0m     execution_flag \u001b[38;5;241m=\u001b[39m \u001b[38;5;28;01mTrue\u001b[39;00m\n\u001b[1;32m     24\u001b[0m \u001b[38;5;28;01mexcept\u001b[39;00m \u001b[38;5;167;01mException\u001b[39;00m \u001b[38;5;28;01mas\u001b[39;00m e:\n",
      "File \u001b[0;32m~/SageMaker/.environments/miniconda/envs/polly/lib/python3.10/site-packages/polly/omixatlas.py:1532\u001b[0m, in \u001b[0;36mOmixAtlas.link_report\u001b[0;34m(self, repo_key, dataset_id, workspace_id, workspace_path, access_key)\u001b[0m\n\u001b[1;32m   1523\u001b[0m         report_obj\u001b[38;5;241m.\u001b[39mlink_report(\n\u001b[1;32m   1524\u001b[0m             \u001b[38;5;28mself\u001b[39m,\n\u001b[1;32m   1525\u001b[0m             repo_key,\n\u001b[0;32m   (...)\u001b[0m\n\u001b[1;32m   1529\u001b[0m             access_key,\n\u001b[1;32m   1530\u001b[0m         )\n\u001b[1;32m   1531\u001b[0m     \u001b[38;5;28;01mexcept\u001b[39;00m \u001b[38;5;167;01mException\u001b[39;00m \u001b[38;5;28;01mas\u001b[39;00m err:\n\u001b[0;32m-> 1532\u001b[0m         \u001b[38;5;28;01mraise\u001b[39;00m err\n\u001b[1;32m   1534\u001b[0m \u001b[38;5;28;01melif\u001b[39;00m \u001b[38;5;28misinstance\u001b[39m(workspace_id, \u001b[38;5;28mstr\u001b[39m):\n\u001b[1;32m   1535\u001b[0m     \u001b[38;5;28;01mtry\u001b[39;00m:\n",
      "File \u001b[0;32m~/SageMaker/.environments/miniconda/envs/polly/lib/python3.10/site-packages/polly/omixatlas.py:1523\u001b[0m, in \u001b[0;36mOmixAtlas.link_report\u001b[0;34m(self, repo_key, dataset_id, workspace_id, workspace_path, access_key)\u001b[0m\n\u001b[1;32m   1521\u001b[0m \u001b[38;5;28;01mtry\u001b[39;00m:\n\u001b[1;32m   1522\u001b[0m     report_obj \u001b[38;5;241m=\u001b[39m Reporting()\n\u001b[0;32m-> 1523\u001b[0m     \u001b[43mreport_obj\u001b[49m\u001b[38;5;241;43m.\u001b[39;49m\u001b[43mlink_report\u001b[49m\u001b[43m(\u001b[49m\n\u001b[1;32m   1524\u001b[0m \u001b[43m        \u001b[49m\u001b[38;5;28;43mself\u001b[39;49m\u001b[43m,\u001b[49m\n\u001b[1;32m   1525\u001b[0m \u001b[43m        \u001b[49m\u001b[43mrepo_key\u001b[49m\u001b[43m,\u001b[49m\n\u001b[1;32m   1526\u001b[0m \u001b[43m        \u001b[49m\u001b[43mdataset_id\u001b[49m\u001b[43m,\u001b[49m\n\u001b[1;32m   1527\u001b[0m \u001b[43m        \u001b[49m\u001b[38;5;28;43mint\u001b[39;49m\u001b[43m(\u001b[49m\u001b[43mworkspace_id\u001b[49m\u001b[43m)\u001b[49m\u001b[43m,\u001b[49m\n\u001b[1;32m   1528\u001b[0m \u001b[43m        \u001b[49m\u001b[43mworkspace_path\u001b[49m\u001b[43m,\u001b[49m\n\u001b[1;32m   1529\u001b[0m \u001b[43m        \u001b[49m\u001b[43maccess_key\u001b[49m\u001b[43m,\u001b[49m\n\u001b[1;32m   1530\u001b[0m \u001b[43m    \u001b[49m\u001b[43m)\u001b[49m\n\u001b[1;32m   1531\u001b[0m \u001b[38;5;28;01mexcept\u001b[39;00m \u001b[38;5;167;01mException\u001b[39;00m \u001b[38;5;28;01mas\u001b[39;00m err:\n\u001b[1;32m   1532\u001b[0m     \u001b[38;5;28;01mraise\u001b[39;00m err\n",
      "File \u001b[0;32m~/SageMaker/.environments/miniconda/envs/polly/lib/python3.10/site-packages/polly_services/reporting/reporting.py:60\u001b[0m, in \u001b[0;36mReporting.link_report\u001b[0;34m(self, polly_session, repo_key, dataset_id, workspace_id, workspace_path, access_key)\u001b[0m\n\u001b[1;32m     58\u001b[0m     \u001b[38;5;28;01mraise\u001b[39;00m InvalidParameterException(\u001b[38;5;124m\"\u001b[39m\u001b[38;5;124mworkspace_id\u001b[39m\u001b[38;5;124m\"\u001b[39m)\n\u001b[1;32m     59\u001b[0m \u001b[38;5;28;01mif\u001b[39;00m \u001b[38;5;129;01mnot\u001b[39;00m (workspace_id \u001b[38;5;129;01mand\u001b[39;00m \u001b[38;5;28misinstance\u001b[39m(workspace_path, \u001b[38;5;28mstr\u001b[39m)):\n\u001b[0;32m---> 60\u001b[0m     \u001b[38;5;28;01mraise\u001b[39;00m InvalidParameterException(\u001b[38;5;124m\"\u001b[39m\u001b[38;5;124mworkspace_path\u001b[39m\u001b[38;5;124m\"\u001b[39m)\n\u001b[1;32m     61\u001b[0m \u001b[38;5;28;01mif\u001b[39;00m \u001b[38;5;129;01mnot\u001b[39;00m (\n\u001b[1;32m     62\u001b[0m     access_key\n\u001b[1;32m     63\u001b[0m     \u001b[38;5;129;01mand\u001b[39;00m \u001b[38;5;28misinstance\u001b[39m(access_key, \u001b[38;5;28mstr\u001b[39m)\n\u001b[1;32m     64\u001b[0m     \u001b[38;5;129;01mand\u001b[39;00m access_key\u001b[38;5;241m.\u001b[39mlower() \u001b[38;5;129;01min\u001b[39;00m [\u001b[38;5;124m\"\u001b[39m\u001b[38;5;124mprivate\u001b[39m\u001b[38;5;124m\"\u001b[39m, \u001b[38;5;124m\"\u001b[39m\u001b[38;5;124mpublic\u001b[39m\u001b[38;5;124m\"\u001b[39m]\n\u001b[1;32m     65\u001b[0m ):\n\u001b[1;32m     66\u001b[0m     \u001b[38;5;28;01mraise\u001b[39;00m InvalidParameterException(\u001b[38;5;124m\"\u001b[39m\u001b[38;5;124maccess_key\u001b[39m\u001b[38;5;124m\"\u001b[39m)\n",
      "\u001b[0;31mInvalidParameterException\u001b[0m: Empty or Invalid Parameters = workspace_path."
     ]
    }
   ],
   "source": [
    "omixatlas = OmixAtlas()\n",
    "omixatlas.link_report(\n",
    "    \"1669033066992\", \"GSE100021_GPL14844_raw\", \"9\", 9, \"public\"\n",
    ")\n",
    "print(omixatlas.fetch_linked_reports(\"1669033066992\", \"GSE100021_GPL14844_raw\"))"
   ]
  },
  {
   "cell_type": "code",
   "execution_count": 4,
   "id": "2e4f2c4f",
   "metadata": {},
   "outputs": [
    {
     "name": "stdout",
     "output_type": "stream",
     "text": [
      "Dataset - GSE100021_GPL14844_raw has been successfully linked with URL https://testpolly.elucidata.io/manage/shared/file?id=5dde2375032842878542adee3e6022ea \n",
      "                      Added_by           Added_time  \\\n",
      "0  anupam.prakash@elucidata.io  09/10/2024 11:42:44   \n",
      "1  anupam.prakash@elucidata.io  09/10/2024 11:45:16   \n",
      "2  anupam.prakash@elucidata.io  09/10/2024 11:54:01   \n",
      "3  anupam.prakash@elucidata.io  09/10/2024 11:55:20   \n",
      "4  anupam.prakash@elucidata.io  09/10/2024 11:57:59   \n",
      "5  anupam.prakash@elucidata.io  09/10/2024 12:19:41   \n",
      "6  anupam.prakash@elucidata.io  09/10/2024 14:08:58   \n",
      "7  anupam.prakash@elucidata.io  09/10/2024 14:10:29   \n",
      "8  anupam.prakash@elucidata.io  09/10/2024 14:14:15   \n",
      "9  anupam.prakash@elucidata.io  21/10/2024 06:18:18   \n",
      "\n",
      "                                                                                      URL  \\\n",
      "0   https://testpolly.elucidata.io/manage/shared/file?id=5dde2375032842878542adee3e6022ea   \n",
      "1  https://testpolly.elucidata.io/manage/shared/file/?id=3f6f9ec9b18b4646af1f57e4275ddc87   \n",
      "2  https://testpolly.elucidata.io/manage/shared/file/?id=5dde2375032842878542adee3e6022ea   \n",
      "3  https://testpolly.elucidata.io/manage/shared/file/?id=5dde2375032842878542adee3e6022ea   \n",
      "4   https://testpolly.elucidata.io/manage/shared/file?id=5dde2375032842878542adee3e6022ea   \n",
      "5   https://testpolly.elucidata.io/manage/shared/file?id=5dde2375032842878542adee3e6022ea   \n",
      "6  https://testpolly.elucidata.io/manage/shared/file/?id=3f6f9ec9b18b4646af1f57e4275ddc87   \n",
      "7  https://testpolly.elucidata.io/manage/shared/file/?id=3f6f9ec9b18b4646af1f57e4275ddc87   \n",
      "8  https://testpolly.elucidata.io/manage/shared/file/?id=3f6f9ec9b18b4646af1f57e4275ddc87   \n",
      "9   https://testpolly.elucidata.io/manage/shared/file?id=5dde2375032842878542adee3e6022ea   \n",
      "\n",
      "                              Report_id  \n",
      "0  9f030aae-ca4d-47da-8af3-af2e814f8df5  \n",
      "1  6bc6b395-2e10-48cf-b091-f401f7fe01cb  \n",
      "2  aa75ea67-1683-4407-8a58-3c0cbc3dab32  \n",
      "3  7b8450f5-13ed-4c82-a987-c2afe47d4d68  \n",
      "4  19bc3b65-64aa-4149-9a2c-54b6fad91478  \n",
      "5  22953fd3-349c-4328-a057-b5e994f0b982  \n",
      "6  4e6957e2-1b1e-4eb0-a5e3-43407f45ff12  \n",
      "7  1c4525d0-9afd-445d-b420-5f40a727cad5  \n",
      "8  e6cdd0c9-0c51-460b-ae37-dbd552ac9f93  \n",
      "9  915e848c-031b-4c98-9e81-2014d45095e8  \n"
     ]
    }
   ],
   "source": [
    "omixatlas.link_report(\n",
    "    \"1669033066992\", \"GSE100021_GPL14844_raw\", \"https://testpolly.elucidata.io/manage/shared/file?id=5dde2375032842878542adee3e6022ea\"\n",
    ")\n",
    "print(omixatlas.fetch_linked_reports(\"1669033066992\", \"GSE100021_GPL14844_raw\"))"
   ]
  },
  {
   "cell_type": "code",
   "execution_count": null,
   "id": "73a208e4",
   "metadata": {},
   "outputs": [],
   "source": []
  }
 ],
 "metadata": {
  "kernelspec": {
   "display_name": "Python 3",
   "language": "python",
   "name": "python3"
  },
  "language_info": {
   "codemirror_mode": {
    "name": "ipython",
    "version": 3
   },
   "file_extension": ".py",
   "mimetype": "text/x-python",
   "name": "python",
   "nbconvert_exporter": "python",
   "pygments_lexer": "ipython3",
   "version": "3.10.6"
  }
 },
 "nbformat": 4,
 "nbformat_minor": 5
}
