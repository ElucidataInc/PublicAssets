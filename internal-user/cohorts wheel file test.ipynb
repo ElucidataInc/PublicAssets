{
 "cells": [
  {
   "cell_type": "markdown",
   "metadata": {},
   "source": [
    "# Welcome to Polly Python3 Notebook."
   ]
  },
  {
   "cell_type": "code",
   "execution_count": 1,
   "metadata": {},
   "outputs": [
    {
     "name": "stdout",
     "output_type": "stream",
     "text": [
      "/bin/bash: warning: setlocale: LC_ALL: cannot change locale (en_US.UTF-8)\n",
      "Collecting polly-python==0.3.1-cohorts\n",
      "  Downloading https://elucidatainc.github.io/PublicAssets/builds/polly-python/tests/polly/polly_python-0.3.1_cohorts-py3-none-any.whl (118 kB)\n",
      "\u001b[K     |████████████████████████████████| 118 kB 7.6 MB/s eta 0:00:01\n",
      "\u001b[?25hCollecting pydantic>=0.32.0\n",
      "  Downloading pydantic-1.10.7-cp310-cp310-manylinux_2_17_x86_64.manylinux2014_x86_64.whl (3.1 MB)\n",
      "\u001b[K     |████████████████████████████████| 3.1 MB 5.3 MB/s eta 0:00:01\n",
      "\u001b[?25hCollecting plotly>=2.0.0\n",
      "  Downloading plotly-5.14.1-py2.py3-none-any.whl (15.3 MB)\n",
      "\u001b[K     |████████████████████████████████| 15.3 MB 71.6 MB/s eta 0:00:01\n",
      "\u001b[?25hRequirement already satisfied: botocore>=1.20.73 in /usr/local/lib/python3.10/site-packages (from polly-python==0.3.1-cohorts) (1.24.19)\n",
      "Requirement already satisfied: tqdm>=4.19.5 in /usr/local/lib/python3.10/site-packages (from polly-python==0.3.1-cohorts) (4.65.0)\n",
      "Collecting elucidatacloudpathlib==0.6.6\n",
      "  Downloading elucidatacloudpathlib-0.6.6-py3-none-any.whl (50 kB)\n",
      "\u001b[K     |████████████████████████████████| 50 kB 1.1 MB/s  eta 0:00:01\n",
      "\u001b[?25hCollecting beautifulsoup4\n",
      "  Downloading beautifulsoup4-4.12.2-py3-none-any.whl (142 kB)\n",
      "\u001b[K     |████████████████████████████████| 142 kB 81.4 MB/s eta 0:00:01\n",
      "\u001b[?25hCollecting elucidatacmapPy==3.3.4\n",
      "  Downloading elucidatacmapPy-3.3.4-py3-none-any.whl (134 kB)\n",
      "\u001b[K     |████████████████████████████████| 134 kB 78.2 MB/s eta 0:00:01\n",
      "\u001b[?25hRequirement already satisfied: pandas>=1.0.1 in /usr/local/lib/python3.10/site-packages (from polly-python==0.3.1-cohorts) (1.4.1)\n",
      "Requirement already satisfied: boto3>=1.17.73 in /usr/local/lib/python3.10/site-packages (from polly-python==0.3.1-cohorts) (1.21.19)\n",
      "Collecting pytest>=3.0.0\n",
      "  Downloading pytest-7.3.1-py3-none-any.whl (320 kB)\n",
      "\u001b[K     |████████████████████████████████| 320 kB 75.3 MB/s eta 0:00:01\n",
      "\u001b[?25hRequirement already satisfied: requests>=2.25.1 in /usr/local/lib/python3.10/site-packages (from polly-python==0.3.1-cohorts) (2.27.1)\n",
      "Collecting datapane>=0.9.1\n",
      "  Downloading datapane-0.16.4-py3-none-any.whl (226 kB)\n",
      "\u001b[K     |████████████████████████████████| 226 kB 85.4 MB/s eta 0:00:01\n",
      "\u001b[?25hCollecting mixpanel>=4.10.0\n",
      "  Downloading mixpanel-4.10.0-py2.py3-none-any.whl (8.9 kB)\n",
      "Collecting retrying>=1.3.3\n",
      "  Downloading retrying-1.3.4-py3-none-any.whl (11 kB)\n",
      "Collecting joblib>=0.11\n",
      "  Downloading joblib-1.2.0-py3-none-any.whl (297 kB)\n",
      "\u001b[K     |████████████████████████████████| 297 kB 84.2 MB/s eta 0:00:01\n",
      "\u001b[?25hCollecting Deprecated>=1.2.6\n",
      "  Downloading Deprecated-1.2.13-py2.py3-none-any.whl (9.6 kB)\n",
      "Collecting polly-validator==0.0.1\n",
      "  Downloading polly_validator-0.0.1-py3-none-any.whl (29 kB)\n",
      "Collecting rst2txt>=1.1.0\n",
      "  Downloading rst2txt-1.1.0-py2.py3-none-any.whl (12 kB)\n",
      "Collecting cryptography>=38.0.1\n",
      "  Downloading cryptography-40.0.2-cp36-abi3-manylinux_2_28_x86_64.whl (3.7 MB)\n",
      "\u001b[K     |████████████████████████████████| 3.7 MB 73.2 MB/s eta 0:00:01\n",
      "\u001b[?25hCollecting python-jose>=3.3.0\n",
      "  Downloading python_jose-3.3.0-py2.py3-none-any.whl (33 kB)\n",
      "Collecting h5py>=2.6.0\n",
      "  Downloading h5py-3.8.0-cp310-cp310-manylinux_2_17_x86_64.manylinux2014_x86_64.whl (4.6 MB)\n",
      "\u001b[K     |████████████████████████████████| 4.6 MB 77.8 MB/s eta 0:00:01\n",
      "\u001b[?25hRequirement already satisfied: six in /usr/local/lib/python3.10/site-packages (from elucidatacmapPy==3.3.4->polly-python==0.3.1-cohorts) (1.16.0)\n",
      "Requirement already satisfied: numpy>=1.11.2 in /usr/local/lib/python3.10/site-packages (from elucidatacmapPy==3.3.4->polly-python==0.3.1-cohorts) (1.22.3)\n",
      "Collecting requests>=2.25.1\n",
      "  Downloading requests-2.25.1-py2.py3-none-any.whl (61 kB)\n",
      "\u001b[K     |████████████████████████████████| 61 kB 675 kB/s  eta 0:00:01\n",
      "\u001b[?25hCollecting rapidfuzz==2.1.1\n",
      "  Downloading rapidfuzz-2.1.1-cp310-cp310-manylinux_2_17_x86_64.manylinux2014_x86_64.whl (2.0 MB)\n",
      "\u001b[K     |████████████████████████████████| 2.0 MB 81.9 MB/s eta 0:00:01\n",
      "\u001b[?25hCollecting tabulate==0.8.10\n",
      "  Downloading tabulate-0.8.10-py3-none-any.whl (29 kB)\n",
      "Collecting appdirs==1.4.4\n",
      "  Downloading appdirs-1.4.4-py2.py3-none-any.whl (9.6 kB)\n",
      "Collecting pronto\n",
      "  Downloading pronto-2.5.4-py2.py3-none-any.whl (61 kB)\n",
      "\u001b[K     |████████████████████████████████| 61 kB 1.7 MB/s  eta 0:00:01\n",
      "\u001b[?25hCollecting jarowinkler<1.1.0,>=1.0.3\n",
      "  Downloading jarowinkler-1.0.5-cp310-cp310-manylinux_2_17_x86_64.manylinux2014_x86_64.whl (103 kB)\n",
      "\u001b[K     |████████████████████████████████| 103 kB 84.6 MB/s eta 0:00:01\n",
      "\u001b[?25hRequirement already satisfied: urllib3<1.27,>=1.21.1 in /usr/local/lib/python3.10/site-packages (from requests>=2.25.1->polly-python==0.3.1-cohorts) (1.26.6)\n",
      "Requirement already satisfied: chardet<5,>=3.0.2 in /usr/local/lib/python3.10/site-packages (from requests>=2.25.1->polly-python==0.3.1-cohorts) (4.0.0)\n",
      "Requirement already satisfied: idna<3,>=2.5 in /usr/local/lib/python3.10/site-packages (from requests>=2.25.1->polly-python==0.3.1-cohorts) (2.10)\n",
      "Requirement already satisfied: certifi>=2017.4.17 in /usr/local/lib/python3.10/site-packages (from requests>=2.25.1->polly-python==0.3.1-cohorts) (2021.5.30)\n",
      "Requirement already satisfied: jmespath<1.0.0,>=0.7.1 in /usr/local/lib/python3.10/site-packages (from boto3>=1.17.73->polly-python==0.3.1-cohorts) (0.10.0)\n",
      "Requirement already satisfied: s3transfer<0.6.0,>=0.5.0 in /usr/local/lib/python3.10/site-packages (from boto3>=1.17.73->polly-python==0.3.1-cohorts) (0.5.2)\n",
      "Requirement already satisfied: python-dateutil<3.0.0,>=2.1 in /usr/local/lib/python3.10/site-packages (from botocore>=1.20.73->polly-python==0.3.1-cohorts) (2.8.1)\n",
      "Requirement already satisfied: cffi>=1.12 in /usr/local/lib/python3.10/site-packages (from cryptography>=38.0.1->polly-python==0.3.1-cohorts) (1.15.1)\n",
      "Requirement already satisfied: pycparser in /usr/local/lib/python3.10/site-packages (from cffi>=1.12->cryptography>=38.0.1->polly-python==0.3.1-cohorts) (2.21)\n",
      "Collecting click<9.0.0,>=7.1.0\n",
      "  Downloading click-8.1.3-py3-none-any.whl (96 kB)\n",
      "\u001b[K     |████████████████████████████████| 96 kB 985 kB/s  eta 0:00:01\n",
      "\u001b[?25hCollecting importlib_resources<6.0.0,>=3.0.0\n",
      "  Downloading importlib_resources-5.12.0-py3-none-any.whl (36 kB)\n",
      "Collecting toolz<0.13.0,>=0.11.0\n",
      "  Downloading toolz-0.12.0-py3-none-any.whl (55 kB)\n",
      "\u001b[K     |████████████████████████████████| 55 kB 723 kB/s  eta 0:00:01\n",
      "\u001b[?25hCollecting pyngrok<6.0.0,>=5.2.1\n",
      "  Downloading pyngrok-5.2.3.tar.gz (681 kB)\n",
      "\u001b[K     |████████████████████████████████| 681 kB 82.4 MB/s eta 0:00:01\n",
      "\u001b[?25hCollecting pyarrow<11.0.0,>=6.0.0\n",
      "  Downloading pyarrow-10.0.1-cp310-cp310-manylinux_2_17_x86_64.manylinux2014_x86_64.whl (35.9 MB)\n",
      "\u001b[K     |████████████████████████████████| 35.9 MB 80.5 MB/s eta 0:00:01\n",
      "\u001b[?25hCollecting dulwich<0.22.0,>=0.20.0\n",
      "  Downloading dulwich-0.21.3-cp310-cp310-manylinux_2_17_x86_64.manylinux2014_x86_64.whl (506 kB)\n",
      "\u001b[K     |████████████████████████████████| 506 kB 75.0 MB/s eta 0:00:01\n",
      "\u001b[?25hCollecting typing-extensions<5.0.0,>=4.4.0\n",
      "  Downloading typing_extensions-4.5.0-py3-none-any.whl (27 kB)\n",
      "Collecting dacite<2.0.0,>=1.0.2\n",
      "  Downloading dacite-1.8.0-py3-none-any.whl (14 kB)\n",
      "Requirement already satisfied: packaging<24.0.0,>=21.0.0 in /usr/local/lib/python3.10/site-packages (from datapane>=0.9.1->polly-python==0.3.1-cohorts) (23.0)\n",
      "Collecting datacommons<2.0.0,>=1.4.3\n",
      "  Downloading datacommons-1.4.3-py3-none-any.whl (46 kB)\n",
      "\u001b[K     |████████████████████████████████| 46 kB 556 kB/s  eta 0:00:01\n",
      "\u001b[?25hCollecting glom<24.0.0,>=22.1.0\n",
      "  Downloading glom-23.3.0-py3-none-any.whl (101 kB)\n",
      "\u001b[K     |████████████████████████████████| 101 kB 2.1 MB/s eta 0:00:01\n",
      "\u001b[?25hCollecting datacommons-pandas<0.0.4,>=0.0.3\n",
      "  Downloading datacommons_pandas-0.0.3-py3-none-any.whl (45 kB)\n",
      "\u001b[K     |████████████████████████████████| 45 kB 586 kB/s  eta 0:00:01\n",
      "\u001b[?25hCollecting cheroot<10.0.0,>=9.0.0\n",
      "  Downloading cheroot-9.0.0-py2.py3-none-any.whl (100 kB)\n",
      "\u001b[K     |████████████████████████████████| 100 kB 1.5 MB/s eta 0:00:01\n",
      "\u001b[?25hRequirement already satisfied: nbconvert>=5.6.1 in /usr/local/lib/python3.10/site-packages (from datapane>=0.9.1->polly-python==0.3.1-cohorts) (6.3.0)\n",
      "Collecting posthog<3.0.0,>=1.4.0\n",
      "  Downloading posthog-2.5.0-py2.py3-none-any.whl (36 kB)\n",
      "Collecting furl<3.0.0,>=2.0.0\n",
      "  Downloading furl-2.1.3-py2.py3-none-any.whl (20 kB)\n",
      "Collecting click-spinner<0.2.0,>=0.1.8\n",
      "  Downloading click_spinner-0.1.10-py2.py3-none-any.whl (4.0 kB)\n",
      "Collecting boltons<22.0.0,>=20.0.0\n",
      "  Downloading boltons-21.0.0-py2.py3-none-any.whl (193 kB)\n",
      "\u001b[K     |████████████████████████████████| 193 kB 81.4 MB/s eta 0:00:01\n",
      "\u001b[?25hCollecting multimethod<2.0,>=1.9\n",
      "  Downloading multimethod-1.9.1-py3-none-any.whl (10 kB)\n",
      "Requirement already satisfied: PyYAML<7.0.0,>=5.4.0 in /usr/local/lib/python3.10/site-packages (from datapane>=0.9.1->polly-python==0.3.1-cohorts) (5.4.1)\n",
      "Collecting dominate<3.0.0,>=2.4.0\n",
      "  Downloading dominate-2.7.0-py2.py3-none-any.whl (29 kB)\n",
      "Collecting micawber>=0.5.0\n",
      "  Downloading micawber-0.5.4.tar.gz (18 kB)\n",
      "Collecting colorlog<7.0.0,>=4.1.0\n",
      "  Downloading colorlog-6.7.0-py2.py3-none-any.whl (11 kB)\n",
      "Requirement already satisfied: jsonschema<5.0.0,>=3.2.0 in /usr/local/lib/python3.10/site-packages (from datapane>=0.9.1->polly-python==0.3.1-cohorts) (4.2.1)\n",
      "Collecting ipynbname<2022.0.0,>=2021.3.2\n",
      "  Downloading ipynbname-2021.3.2-py3-none-any.whl (4.0 kB)\n",
      "Collecting vega-datasets<1.0.0,>=0.9.0\n",
      "  Downloading vega_datasets-0.9.0-py3-none-any.whl (210 kB)\n",
      "\u001b[K     |████████████████████████████████| 210 kB 84.9 MB/s eta 0:00:01\n",
      "\u001b[?25hCollecting altair<5.0.0,>=4.0.0\n",
      "  Downloading altair-4.2.2-py3-none-any.whl (813 kB)\n",
      "\u001b[K     |████████████████████████████████| 813 kB 67.0 MB/s eta 0:00:01\n",
      "\u001b[?25hCollecting lxml<5.0.0,>=4.0.0\n",
      "  Downloading lxml-4.9.2-cp310-cp310-manylinux_2_17_x86_64.manylinux2014_x86_64.manylinux_2_24_x86_64.whl (7.1 MB)\n",
      "\u001b[K     |████████████████████████████████| 7.1 MB 46.8 MB/s eta 0:00:01\n",
      "\u001b[?25hCollecting requests-toolbelt<0.11.0,>=0.9.1\n",
      "  Downloading requests_toolbelt-0.10.1-py2.py3-none-any.whl (54 kB)\n",
      "\u001b[K     |████████████████████████████████| 54 kB 3.1 MB/s  eta 0:00:01\n",
      "\u001b[?25hRequirement already satisfied: jinja2 in /usr/local/lib/python3.10/site-packages (from altair<5.0.0,>=4.0.0->datapane>=0.9.1->polly-python==0.3.1-cohorts) (3.0.3)\n",
      "Requirement already satisfied: entrypoints in /usr/local/lib/python3.10/site-packages (from altair<5.0.0,>=4.0.0->datapane>=0.9.1->polly-python==0.3.1-cohorts) (0.3)\n",
      "Collecting more-itertools>=2.6\n",
      "  Downloading more_itertools-9.1.0-py3-none-any.whl (54 kB)\n",
      "\u001b[K     |████████████████████████████████| 54 kB 2.7 MB/s  eta 0:00:01\n",
      "\u001b[?25hCollecting jaraco.functools\n",
      "  Downloading jaraco.functools-3.6.0-py3-none-any.whl (7.9 kB)\n",
      "Collecting wrapt<2,>=1.10\n",
      "  Downloading wrapt-1.15.0-cp310-cp310-manylinux_2_5_x86_64.manylinux1_x86_64.manylinux_2_17_x86_64.manylinux2014_x86_64.whl (78 kB)\n",
      "\u001b[K     |████████████████████████████████| 78 kB 3.4 MB/s  eta 0:00:01\n",
      "\u001b[?25hCollecting orderedmultidict>=1.0.1\n",
      "  Downloading orderedmultidict-1.0.1-py2.py3-none-any.whl (11 kB)\n",
      "Collecting face==20.1.1\n",
      "  Downloading face-20.1.1-py3-none-any.whl (51 kB)\n",
      "\u001b[K     |████████████████████████████████| 51 kB 2.4 MB/s  eta 0:00:01\n",
      "\u001b[?25hRequirement already satisfied: attrs in /usr/local/lib/python3.10/site-packages (from glom<24.0.0,>=22.1.0->datapane>=0.9.1->polly-python==0.3.1-cohorts) (21.2.0)\n",
      "Requirement already satisfied: ipykernel in /usr/local/lib/python3.10/site-packages (from ipynbname<2022.0.0,>=2021.3.2->datapane>=0.9.1->polly-python==0.3.1-cohorts) (6.13.1)\n",
      "Requirement already satisfied: pyrsistent!=0.17.0,!=0.17.1,!=0.17.2,>=0.14.0 in /usr/local/lib/python3.10/site-packages (from jsonschema<5.0.0,>=3.2.0->datapane>=0.9.1->polly-python==0.3.1-cohorts) (0.18.0)\n",
      "Requirement already satisfied: pandocfilters>=1.4.1 in /usr/local/lib/python3.10/site-packages (from nbconvert>=5.6.1->datapane>=0.9.1->polly-python==0.3.1-cohorts) (1.5.0)\n",
      "Requirement already satisfied: mistune<2,>=0.8.1 in /usr/local/lib/python3.10/site-packages (from nbconvert>=5.6.1->datapane>=0.9.1->polly-python==0.3.1-cohorts) (0.8.4)\n",
      "Requirement already satisfied: jupyter-core in /usr/local/lib/python3.10/site-packages (from nbconvert>=5.6.1->datapane>=0.9.1->polly-python==0.3.1-cohorts) (4.9.1)\n",
      "Requirement already satisfied: defusedxml in /usr/local/lib/python3.10/site-packages (from nbconvert>=5.6.1->datapane>=0.9.1->polly-python==0.3.1-cohorts) (0.7.1)\n",
      "Requirement already satisfied: nbclient<0.6.0,>=0.5.0 in /usr/local/lib/python3.10/site-packages (from nbconvert>=5.6.1->datapane>=0.9.1->polly-python==0.3.1-cohorts) (0.5.13)\n",
      "Requirement already satisfied: pygments>=2.4.1 in /usr/local/lib/python3.10/site-packages (from nbconvert>=5.6.1->datapane>=0.9.1->polly-python==0.3.1-cohorts) (2.10.0)\n",
      "Requirement already satisfied: testpath in /usr/local/lib/python3.10/site-packages (from nbconvert>=5.6.1->datapane>=0.9.1->polly-python==0.3.1-cohorts) (0.5.0)\n",
      "Requirement already satisfied: bleach in /usr/local/lib/python3.10/site-packages (from nbconvert>=5.6.1->datapane>=0.9.1->polly-python==0.3.1-cohorts) (4.1.0)\n",
      "Requirement already satisfied: traitlets>=5.0 in /usr/local/lib/python3.10/site-packages (from nbconvert>=5.6.1->datapane>=0.9.1->polly-python==0.3.1-cohorts) (5.1.1)\n",
      "Requirement already satisfied: jupyterlab-pygments in /usr/local/lib/python3.10/site-packages (from nbconvert>=5.6.1->datapane>=0.9.1->polly-python==0.3.1-cohorts) (0.2.2)\n",
      "Requirement already satisfied: nbformat>=4.4 in /usr/local/lib/python3.10/site-packages (from nbconvert>=5.6.1->datapane>=0.9.1->polly-python==0.3.1-cohorts) (5.1.3)\n",
      "Requirement already satisfied: MarkupSafe>=2.0 in /usr/local/lib/python3.10/site-packages (from jinja2->altair<5.0.0,>=4.0.0->datapane>=0.9.1->polly-python==0.3.1-cohorts) (2.0.1)\n",
      "Requirement already satisfied: jupyter-client>=6.1.5 in /usr/local/lib/python3.10/site-packages (from nbclient<0.6.0,>=0.5.0->nbconvert>=5.6.1->datapane>=0.9.1->polly-python==0.3.1-cohorts) (6.1.12)\n",
      "Requirement already satisfied: nest-asyncio in /usr/local/lib/python3.10/site-packages (from nbclient<0.6.0,>=0.5.0->nbconvert>=5.6.1->datapane>=0.9.1->polly-python==0.3.1-cohorts) (1.5.6)\n",
      "Requirement already satisfied: tornado>=4.1 in /usr/local/lib/python3.10/site-packages (from jupyter-client>=6.1.5->nbclient<0.6.0,>=0.5.0->nbconvert>=5.6.1->datapane>=0.9.1->polly-python==0.3.1-cohorts) (6.1)\n",
      "Requirement already satisfied: pyzmq>=13 in /usr/local/lib/python3.10/site-packages (from jupyter-client>=6.1.5->nbclient<0.6.0,>=0.5.0->nbconvert>=5.6.1->datapane>=0.9.1->polly-python==0.3.1-cohorts) (22.3.0)\n",
      "Requirement already satisfied: ipython-genutils in /usr/local/lib/python3.10/site-packages (from nbformat>=4.4->nbconvert>=5.6.1->datapane>=0.9.1->polly-python==0.3.1-cohorts) (0.2.0)\n",
      "Requirement already satisfied: pytz>=2020.1 in /usr/local/lib/python3.10/site-packages (from pandas>=1.0.1->polly-python==0.3.1-cohorts) (2021.3)\n",
      "Collecting tenacity>=6.2.0\n",
      "  Downloading tenacity-8.2.2-py3-none-any.whl (24 kB)\n",
      "Collecting monotonic>=1.5\n",
      "  Downloading monotonic-1.6-py2.py3-none-any.whl (8.2 kB)\n",
      "Collecting backoff>=1.10.0\n",
      "  Downloading backoff-2.2.1-py3-none-any.whl (15 kB)\n",
      "Collecting tomli>=1.0.0\n",
      "  Downloading tomli-2.0.1-py3-none-any.whl (12 kB)\n",
      "Collecting iniconfig\n",
      "  Downloading iniconfig-2.0.0-py3-none-any.whl (5.9 kB)\n",
      "Collecting exceptiongroup>=1.0.0rc8\n",
      "  Downloading exceptiongroup-1.1.1-py3-none-any.whl (14 kB)\n",
      "Collecting pluggy<2.0,>=0.12\n",
      "  Downloading pluggy-1.0.0-py2.py3-none-any.whl (13 kB)\n",
      "Requirement already satisfied: pyasn1 in /usr/local/lib/python3.10/site-packages (from python-jose>=3.3.0->polly-python==0.3.1-cohorts) (0.4.8)\n",
      "Collecting ecdsa!=0.15\n",
      "  Downloading ecdsa-0.18.0-py2.py3-none-any.whl (142 kB)\n",
      "\u001b[K     |████████████████████████████████| 142 kB 85.0 MB/s eta 0:00:01\n",
      "\u001b[?25hRequirement already satisfied: rsa in /usr/local/lib/python3.10/site-packages (from python-jose>=3.3.0->polly-python==0.3.1-cohorts) (4.7.2)\n",
      "Requirement already satisfied: docutils>=0.11 in /usr/local/lib/python3.10/site-packages (from rst2txt>=1.1.0->polly-python==0.3.1-cohorts) (0.15.2)\n",
      "Collecting soupsieve>1.2\n",
      "  Downloading soupsieve-2.4.1-py3-none-any.whl (36 kB)\n",
      "Requirement already satisfied: webencodings in /usr/local/lib/python3.10/site-packages (from bleach->nbconvert>=5.6.1->datapane>=0.9.1->polly-python==0.3.1-cohorts) (0.5.1)\n",
      "Requirement already satisfied: matplotlib-inline>=0.1 in /usr/local/lib/python3.10/site-packages (from ipykernel->ipynbname<2022.0.0,>=2021.3.2->datapane>=0.9.1->polly-python==0.3.1-cohorts) (0.1.3)\n",
      "Requirement already satisfied: ipython>=7.23.1 in /usr/local/lib/python3.10/site-packages (from ipykernel->ipynbname<2022.0.0,>=2021.3.2->datapane>=0.9.1->polly-python==0.3.1-cohorts) (8.2.0)\n",
      "Requirement already satisfied: debugpy>=1.0 in /usr/local/lib/python3.10/site-packages (from ipykernel->ipynbname<2022.0.0,>=2021.3.2->datapane>=0.9.1->polly-python==0.3.1-cohorts) (1.6.6)\n",
      "Requirement already satisfied: psutil in /usr/local/lib/python3.10/site-packages (from ipykernel->ipynbname<2022.0.0,>=2021.3.2->datapane>=0.9.1->polly-python==0.3.1-cohorts) (5.9.4)\n",
      "Requirement already satisfied: pickleshare in /usr/local/lib/python3.10/site-packages (from ipython>=7.23.1->ipykernel->ipynbname<2022.0.0,>=2021.3.2->datapane>=0.9.1->polly-python==0.3.1-cohorts) (0.7.5)\n",
      "Requirement already satisfied: backcall in /usr/local/lib/python3.10/site-packages (from ipython>=7.23.1->ipykernel->ipynbname<2022.0.0,>=2021.3.2->datapane>=0.9.1->polly-python==0.3.1-cohorts) (0.2.0)\n",
      "Requirement already satisfied: decorator in /usr/local/lib/python3.10/site-packages (from ipython>=7.23.1->ipykernel->ipynbname<2022.0.0,>=2021.3.2->datapane>=0.9.1->polly-python==0.3.1-cohorts) (5.1.0)\n",
      "Requirement already satisfied: prompt-toolkit!=3.0.0,!=3.0.1,<3.1.0,>=2.0.0 in /usr/local/lib/python3.10/site-packages (from ipython>=7.23.1->ipykernel->ipynbname<2022.0.0,>=2021.3.2->datapane>=0.9.1->polly-python==0.3.1-cohorts) (3.0.22)\n",
      "Requirement already satisfied: setuptools>=18.5 in /usr/local/lib/python3.10/site-packages (from ipython>=7.23.1->ipykernel->ipynbname<2022.0.0,>=2021.3.2->datapane>=0.9.1->polly-python==0.3.1-cohorts) (58.1.0)\n",
      "Requirement already satisfied: pexpect>4.3 in /usr/local/lib/python3.10/site-packages (from ipython>=7.23.1->ipykernel->ipynbname<2022.0.0,>=2021.3.2->datapane>=0.9.1->polly-python==0.3.1-cohorts) (4.8.0)\n",
      "Requirement already satisfied: jedi>=0.16 in /usr/local/lib/python3.10/site-packages (from ipython>=7.23.1->ipykernel->ipynbname<2022.0.0,>=2021.3.2->datapane>=0.9.1->polly-python==0.3.1-cohorts) (0.18.1)\n",
      "Requirement already satisfied: stack-data in /usr/local/lib/python3.10/site-packages (from ipython>=7.23.1->ipykernel->ipynbname<2022.0.0,>=2021.3.2->datapane>=0.9.1->polly-python==0.3.1-cohorts) (0.6.2)\n",
      "Requirement already satisfied: parso<0.9.0,>=0.8.0 in /usr/local/lib/python3.10/site-packages (from jedi>=0.16->ipython>=7.23.1->ipykernel->ipynbname<2022.0.0,>=2021.3.2->datapane>=0.9.1->polly-python==0.3.1-cohorts) (0.8.2)\n",
      "Requirement already satisfied: ptyprocess>=0.5 in /usr/local/lib/python3.10/site-packages (from pexpect>4.3->ipython>=7.23.1->ipykernel->ipynbname<2022.0.0,>=2021.3.2->datapane>=0.9.1->polly-python==0.3.1-cohorts) (0.7.0)\n",
      "Requirement already satisfied: wcwidth in /usr/local/lib/python3.10/site-packages (from prompt-toolkit!=3.0.0,!=3.0.1,<3.1.0,>=2.0.0->ipython>=7.23.1->ipykernel->ipynbname<2022.0.0,>=2021.3.2->datapane>=0.9.1->polly-python==0.3.1-cohorts) (0.2.5)\n",
      "Collecting pronto\n",
      "  Downloading pronto-2.5.3-py2.py3-none-any.whl (61 kB)\n",
      "\u001b[K     |████████████████████████████████| 61 kB 4.6 MB/s  eta 0:00:01\n",
      "\u001b[?25h  Downloading pronto-2.5.2-py2.py3-none-any.whl (61 kB)\n",
      "\u001b[K     |████████████████████████████████| 61 kB 3.7 MB/s  eta 0:00:01\n",
      "\u001b[?25h  Downloading pronto-2.5.1-py2.py3-none-any.whl (61 kB)\n",
      "\u001b[K     |████████████████████████████████| 61 kB 1.4 MB/s  eta 0:00:01\n",
      "\u001b[?25hCollecting fastobo~=0.12.1\n",
      "  Downloading fastobo-0.12.2-cp310-cp310-manylinux_2_17_x86_64.manylinux2014_x86_64.whl (2.1 MB)\n",
      "\u001b[K     |████████████████████████████████| 2.1 MB 82.6 MB/s eta 0:00:01\n",
      "\u001b[?25hCollecting networkx~=2.3\n",
      "  Downloading networkx-2.8.8-py3-none-any.whl (2.0 MB)\n",
      "\u001b[K     |████████████████████████████████| 2.0 MB 82.9 MB/s eta 0:00:01\n",
      "\u001b[?25hRequirement already satisfied: pure-eval in /usr/local/lib/python3.10/site-packages (from stack-data->ipython>=7.23.1->ipykernel->ipynbname<2022.0.0,>=2021.3.2->datapane>=0.9.1->polly-python==0.3.1-cohorts) (0.2.2)\n",
      "Requirement already satisfied: asttokens>=2.1.0 in /usr/local/lib/python3.10/site-packages (from stack-data->ipython>=7.23.1->ipykernel->ipynbname<2022.0.0,>=2021.3.2->datapane>=0.9.1->polly-python==0.3.1-cohorts) (2.2.1)\n",
      "Requirement already satisfied: executing>=1.2.0 in /usr/local/lib/python3.10/site-packages (from stack-data->ipython>=7.23.1->ipykernel->ipynbname<2022.0.0,>=2021.3.2->datapane>=0.9.1->polly-python==0.3.1-cohorts) (1.2.0)\n",
      "Using legacy 'setup.py install' for micawber, since package 'wheel' is not installed.\n",
      "Using legacy 'setup.py install' for pyngrok, since package 'wheel' is not installed.\n",
      "Installing collected packages: more-itertools, boltons, typing-extensions, toolz, requests, orderedmultidict, networkx, monotonic, jarowinkler, jaraco.functools, fastobo, face, backoff, wrapt, vega-datasets, tomli, tenacity, tabulate, soupsieve, requests-toolbelt, rapidfuzz, pyngrok, pydantic, pyarrow, pronto, posthog, pluggy, multimethod, micawber, lxml, ipynbname, iniconfig, importlib-resources, h5py, glom, furl, exceptiongroup, ecdsa, dulwich, dominate, datacommons-pandas, datacommons, dacite, colorlog, click-spinner, click, cheroot, appdirs, altair, rst2txt, retrying, python-jose, pytest, polly-validator, plotly, mixpanel, joblib, elucidatacmapPy, elucidatacloudpathlib, Deprecated, datapane, cryptography, beautifulsoup4, polly-python\n",
      "  Attempting uninstall: requests\n",
      "    Found existing installation: requests 2.27.1\n",
      "    Uninstalling requests-2.27.1:\n",
      "      Successfully uninstalled requests-2.27.1\n",
      "  Attempting uninstall: networkx\n",
      "    Found existing installation: networkx 3.0\n",
      "    Uninstalling networkx-3.0:\n",
      "      Successfully uninstalled networkx-3.0\n",
      "  Attempting uninstall: tabulate\n",
      "    Found existing installation: tabulate 0.9.0\n",
      "    Uninstalling tabulate-0.9.0:\n",
      "      Successfully uninstalled tabulate-0.9.0\n",
      "    Running setup.py install for pyngrok ... \u001b[?25ldone\n",
      "\u001b[?25h    Running setup.py install for micawber ... \u001b[?25ldone\n",
      "\u001b[?25hSuccessfully installed Deprecated-1.2.13 altair-4.2.2 appdirs-1.4.4 backoff-2.2.1 beautifulsoup4-4.12.2 boltons-21.0.0 cheroot-9.0.0 click-8.1.3 click-spinner-0.1.10 colorlog-6.7.0 cryptography-40.0.2 dacite-1.8.0 datacommons-1.4.3 datacommons-pandas-0.0.3 datapane-0.16.4 dominate-2.7.0 dulwich-0.21.3 ecdsa-0.18.0 elucidatacloudpathlib-0.6.6 elucidatacmapPy-3.3.4 exceptiongroup-1.1.1 face-20.1.1 fastobo-0.12.2 furl-2.1.3 glom-23.3.0 h5py-3.8.0 importlib-resources-5.12.0 iniconfig-2.0.0 ipynbname-2021.3.2 jaraco.functools-3.6.0 jarowinkler-1.0.5 joblib-1.2.0 lxml-4.9.2 micawber-0.5.4 mixpanel-4.10.0 monotonic-1.6 more-itertools-9.1.0 multimethod-1.9.1 networkx-2.8.8 orderedmultidict-1.0.1 plotly-5.14.1 pluggy-1.0.0 polly-python-0.3.1 polly-validator-0.0.1 posthog-2.5.0 pronto-2.5.1 pyarrow-10.0.1 pydantic-1.10.7 pyngrok-5.2.3 pytest-7.3.1 python-jose-3.3.0 rapidfuzz-2.1.1 requests-2.25.1 requests-toolbelt-0.10.1 retrying-1.3.4 rst2txt-1.1.0 soupsieve-2.4.1 tabulate-0.8.10 tenacity-8.2.2 tomli-2.0.1 toolz-0.12.0 typing-extensions-4.5.0 vega-datasets-0.9.0 wrapt-1.15.0\n",
      "\u001b[33mWARNING: Running pip as the 'root' user can result in broken permissions and conflicting behaviour with the system package manager. It is recommended to use a virtual environment instead: https://pip.pypa.io/warnings/venv\u001b[0m\n",
      "\u001b[33mWARNING: You are using pip version 21.2.4; however, version 23.1 is available.\n",
      "You should consider upgrading via the '/usr/local/bin/python3.10 -m pip install --upgrade pip' command.\u001b[0m\n"
     ]
    }
   ],
   "source": [
    "!sudo pip3 install https://elucidatainc.github.io/PublicAssets/builds/polly-python/tests/polly/polly_python-0.3.1_cohorts-py3-none-any.whl"
   ]
  },
  {
   "cell_type": "code",
   "execution_count": 2,
   "metadata": {},
   "outputs": [],
   "source": [
    "from polly.omixatlas import OmixAtlas\n",
    "\n",
    "AUTH_TOKEN=(os.environ['POLLY_REFRESH_TOKEN']) # Obtain authentication tokens\n",
    "omixatlas = OmixAtlas(AUTH_TOKEN)"
   ]
  },
  {
   "cell_type": "code",
   "execution_count": 4,
   "metadata": {},
   "outputs": [
    {
     "name": "stdout",
     "output_type": "stream",
     "text": [
      "Factors based on which cohorts can be created for this dataset: ['batch', 'treatment', 'timepoint']\n"
     ]
    },
    {
     "data": {
      "application/vnd.plotly.v1+json": {
       "config": {
        "plotlyServerURL": "https://plot.ly"
       },
       "data": [
        {
         "branchvalues": "total",
         "domain": {
          "x": [
           0,
           1
          ],
          "y": [
           0,
           1
          ]
         },
         "hovertemplate": "labels=%{label}<br>count=%{value}<br>parent=%{parent}<br>id=%{id}<extra></extra>",
         "ids": [
          "donor: 165/notgiven/Day 0",
          "donor: 301/notgiven/Day 0",
          "donor: 58/notgiven/Day 0",
          "donor: 165/IL-15/Day 1",
          "donor: 301/IL-15/Day 1",
          "donor: 58/IL-15/Day 1",
          "donor: 165/IL-4/Day 1",
          "donor: 301/IL-4/Day 1",
          "donor: 58/IL-4/Day 1",
          "donor: 165/Media/Day 1",
          "donor: 301/Media/Day 1",
          "donor: 58/Media/Day 1",
          "donor: 165/IL-15/Day 10",
          "donor: 301/IL-15/Day 10",
          "donor: 58/IL-15/Day 10",
          "donor: 165/IL-4/Day 10",
          "donor: 301/IL-4/Day 10",
          "donor: 58/IL-4/Day 10",
          "donor: 165/Media/Day 10",
          "donor: 301/Media/Day 10",
          "donor: 58/Media/Day 10",
          "donor: 165/IL-15/Day 3",
          "donor: 301/IL-15/Day 3",
          "donor: 58/IL-15/Day 3",
          "donor: 165/IL-4/Day 3",
          "donor: 301/IL-4/Day 3",
          "donor: 58/IL-4/Day 3",
          "donor: 165/Media/Day 3",
          "donor: 301/Media/Day 3",
          "donor: 58/Media/Day 3",
          "donor: 165/IL-15/Day 6",
          "donor: 301/IL-15/Day 6",
          "donor: 58/IL-15/Day 6",
          "donor: 165/IL-4/Day 6",
          "donor: 301/IL-4/Day 6",
          "donor: 58/IL-4/Day 6",
          "donor: 165/Media/Day 6",
          "donor: 301/Media/Day 6",
          "donor: 58/Media/Day 6",
          "donor: 165/IL-15",
          "donor: 301/IL-15",
          "donor: 58/IL-15",
          "donor: 165/IL-4",
          "donor: 301/IL-4",
          "donor: 58/IL-4",
          "donor: 165/Media",
          "donor: 301/Media",
          "donor: 58/Media",
          "donor: 165/notgiven",
          "donor: 301/notgiven",
          "donor: 58/notgiven",
          "donor: 165",
          "donor: 301",
          "donor: 58"
         ],
         "labels": [
          "Day 0",
          "Day 0",
          "Day 0",
          "Day 1",
          "Day 1",
          "Day 1",
          "Day 1",
          "Day 1",
          "Day 1",
          "Day 1",
          "Day 1",
          "Day 1",
          "Day 10",
          "Day 10",
          "Day 10",
          "Day 10",
          "Day 10",
          "Day 10",
          "Day 10",
          "Day 10",
          "Day 10",
          "Day 3",
          "Day 3",
          "Day 3",
          "Day 3",
          "Day 3",
          "Day 3",
          "Day 3",
          "Day 3",
          "Day 3",
          "Day 6",
          "Day 6",
          "Day 6",
          "Day 6",
          "Day 6",
          "Day 6",
          "Day 6",
          "Day 6",
          "Day 6",
          "IL-15",
          "IL-15",
          "IL-15",
          "IL-4",
          "IL-4",
          "IL-4",
          "Media",
          "Media",
          "Media",
          "notgiven",
          "notgiven",
          "notgiven",
          "donor: 165",
          "donor: 301",
          "donor: 58"
         ],
         "name": "",
         "parents": [
          "donor: 165/notgiven",
          "donor: 301/notgiven",
          "donor: 58/notgiven",
          "donor: 165/IL-15",
          "donor: 301/IL-15",
          "donor: 58/IL-15",
          "donor: 165/IL-4",
          "donor: 301/IL-4",
          "donor: 58/IL-4",
          "donor: 165/Media",
          "donor: 301/Media",
          "donor: 58/Media",
          "donor: 165/IL-15",
          "donor: 301/IL-15",
          "donor: 58/IL-15",
          "donor: 165/IL-4",
          "donor: 301/IL-4",
          "donor: 58/IL-4",
          "donor: 165/Media",
          "donor: 301/Media",
          "donor: 58/Media",
          "donor: 165/IL-15",
          "donor: 301/IL-15",
          "donor: 58/IL-15",
          "donor: 165/IL-4",
          "donor: 301/IL-4",
          "donor: 58/IL-4",
          "donor: 165/Media",
          "donor: 301/Media",
          "donor: 58/Media",
          "donor: 165/IL-15",
          "donor: 301/IL-15",
          "donor: 58/IL-15",
          "donor: 165/IL-4",
          "donor: 301/IL-4",
          "donor: 58/IL-4",
          "donor: 165/Media",
          "donor: 301/Media",
          "donor: 58/Media",
          "donor: 165",
          "donor: 301",
          "donor: 58",
          "donor: 165",
          "donor: 301",
          "donor: 58",
          "donor: 165",
          "donor: 301",
          "donor: 58",
          "donor: 165",
          "donor: 301",
          "donor: 58",
          "",
          "",
          ""
         ],
         "type": "sunburst",
         "values": [
          1,
          1,
          1,
          1,
          1,
          1,
          1,
          1,
          1,
          1,
          1,
          1,
          1,
          1,
          1,
          1,
          1,
          1,
          1,
          1,
          1,
          1,
          1,
          1,
          1,
          1,
          1,
          1,
          1,
          1,
          1,
          1,
          1,
          1,
          1,
          1,
          1,
          1,
          1,
          4,
          4,
          4,
          4,
          4,
          4,
          4,
          4,
          4,
          1,
          1,
          1,
          13,
          13,
          13
         ]
        }
       ],
       "layout": {
        "legend": {
         "tracegroupgap": 0
        },
        "margin": {
         "t": 60
        },
        "template": {
         "data": {
          "bar": [
           {
            "error_x": {
             "color": "#2a3f5f"
            },
            "error_y": {
             "color": "#2a3f5f"
            },
            "marker": {
             "line": {
              "color": "#E5ECF6",
              "width": 0.5
             },
             "pattern": {
              "fillmode": "overlay",
              "size": 10,
              "solidity": 0.2
             }
            },
            "type": "bar"
           }
          ],
          "barpolar": [
           {
            "marker": {
             "line": {
              "color": "#E5ECF6",
              "width": 0.5
             },
             "pattern": {
              "fillmode": "overlay",
              "size": 10,
              "solidity": 0.2
             }
            },
            "type": "barpolar"
           }
          ],
          "carpet": [
           {
            "aaxis": {
             "endlinecolor": "#2a3f5f",
             "gridcolor": "white",
             "linecolor": "white",
             "minorgridcolor": "white",
             "startlinecolor": "#2a3f5f"
            },
            "baxis": {
             "endlinecolor": "#2a3f5f",
             "gridcolor": "white",
             "linecolor": "white",
             "minorgridcolor": "white",
             "startlinecolor": "#2a3f5f"
            },
            "type": "carpet"
           }
          ],
          "choropleth": [
           {
            "colorbar": {
             "outlinewidth": 0,
             "ticks": ""
            },
            "type": "choropleth"
           }
          ],
          "contour": [
           {
            "colorbar": {
             "outlinewidth": 0,
             "ticks": ""
            },
            "colorscale": [
             [
              0,
              "#0d0887"
             ],
             [
              0.1111111111111111,
              "#46039f"
             ],
             [
              0.2222222222222222,
              "#7201a8"
             ],
             [
              0.3333333333333333,
              "#9c179e"
             ],
             [
              0.4444444444444444,
              "#bd3786"
             ],
             [
              0.5555555555555556,
              "#d8576b"
             ],
             [
              0.6666666666666666,
              "#ed7953"
             ],
             [
              0.7777777777777778,
              "#fb9f3a"
             ],
             [
              0.8888888888888888,
              "#fdca26"
             ],
             [
              1,
              "#f0f921"
             ]
            ],
            "type": "contour"
           }
          ],
          "contourcarpet": [
           {
            "colorbar": {
             "outlinewidth": 0,
             "ticks": ""
            },
            "type": "contourcarpet"
           }
          ],
          "heatmap": [
           {
            "colorbar": {
             "outlinewidth": 0,
             "ticks": ""
            },
            "colorscale": [
             [
              0,
              "#0d0887"
             ],
             [
              0.1111111111111111,
              "#46039f"
             ],
             [
              0.2222222222222222,
              "#7201a8"
             ],
             [
              0.3333333333333333,
              "#9c179e"
             ],
             [
              0.4444444444444444,
              "#bd3786"
             ],
             [
              0.5555555555555556,
              "#d8576b"
             ],
             [
              0.6666666666666666,
              "#ed7953"
             ],
             [
              0.7777777777777778,
              "#fb9f3a"
             ],
             [
              0.8888888888888888,
              "#fdca26"
             ],
             [
              1,
              "#f0f921"
             ]
            ],
            "type": "heatmap"
           }
          ],
          "heatmapgl": [
           {
            "colorbar": {
             "outlinewidth": 0,
             "ticks": ""
            },
            "colorscale": [
             [
              0,
              "#0d0887"
             ],
             [
              0.1111111111111111,
              "#46039f"
             ],
             [
              0.2222222222222222,
              "#7201a8"
             ],
             [
              0.3333333333333333,
              "#9c179e"
             ],
             [
              0.4444444444444444,
              "#bd3786"
             ],
             [
              0.5555555555555556,
              "#d8576b"
             ],
             [
              0.6666666666666666,
              "#ed7953"
             ],
             [
              0.7777777777777778,
              "#fb9f3a"
             ],
             [
              0.8888888888888888,
              "#fdca26"
             ],
             [
              1,
              "#f0f921"
             ]
            ],
            "type": "heatmapgl"
           }
          ],
          "histogram": [
           {
            "marker": {
             "pattern": {
              "fillmode": "overlay",
              "size": 10,
              "solidity": 0.2
             }
            },
            "type": "histogram"
           }
          ],
          "histogram2d": [
           {
            "colorbar": {
             "outlinewidth": 0,
             "ticks": ""
            },
            "colorscale": [
             [
              0,
              "#0d0887"
             ],
             [
              0.1111111111111111,
              "#46039f"
             ],
             [
              0.2222222222222222,
              "#7201a8"
             ],
             [
              0.3333333333333333,
              "#9c179e"
             ],
             [
              0.4444444444444444,
              "#bd3786"
             ],
             [
              0.5555555555555556,
              "#d8576b"
             ],
             [
              0.6666666666666666,
              "#ed7953"
             ],
             [
              0.7777777777777778,
              "#fb9f3a"
             ],
             [
              0.8888888888888888,
              "#fdca26"
             ],
             [
              1,
              "#f0f921"
             ]
            ],
            "type": "histogram2d"
           }
          ],
          "histogram2dcontour": [
           {
            "colorbar": {
             "outlinewidth": 0,
             "ticks": ""
            },
            "colorscale": [
             [
              0,
              "#0d0887"
             ],
             [
              0.1111111111111111,
              "#46039f"
             ],
             [
              0.2222222222222222,
              "#7201a8"
             ],
             [
              0.3333333333333333,
              "#9c179e"
             ],
             [
              0.4444444444444444,
              "#bd3786"
             ],
             [
              0.5555555555555556,
              "#d8576b"
             ],
             [
              0.6666666666666666,
              "#ed7953"
             ],
             [
              0.7777777777777778,
              "#fb9f3a"
             ],
             [
              0.8888888888888888,
              "#fdca26"
             ],
             [
              1,
              "#f0f921"
             ]
            ],
            "type": "histogram2dcontour"
           }
          ],
          "mesh3d": [
           {
            "colorbar": {
             "outlinewidth": 0,
             "ticks": ""
            },
            "type": "mesh3d"
           }
          ],
          "parcoords": [
           {
            "line": {
             "colorbar": {
              "outlinewidth": 0,
              "ticks": ""
             }
            },
            "type": "parcoords"
           }
          ],
          "pie": [
           {
            "automargin": true,
            "type": "pie"
           }
          ],
          "scatter": [
           {
            "fillpattern": {
             "fillmode": "overlay",
             "size": 10,
             "solidity": 0.2
            },
            "type": "scatter"
           }
          ],
          "scatter3d": [
           {
            "line": {
             "colorbar": {
              "outlinewidth": 0,
              "ticks": ""
             }
            },
            "marker": {
             "colorbar": {
              "outlinewidth": 0,
              "ticks": ""
             }
            },
            "type": "scatter3d"
           }
          ],
          "scattercarpet": [
           {
            "marker": {
             "colorbar": {
              "outlinewidth": 0,
              "ticks": ""
             }
            },
            "type": "scattercarpet"
           }
          ],
          "scattergeo": [
           {
            "marker": {
             "colorbar": {
              "outlinewidth": 0,
              "ticks": ""
             }
            },
            "type": "scattergeo"
           }
          ],
          "scattergl": [
           {
            "marker": {
             "colorbar": {
              "outlinewidth": 0,
              "ticks": ""
             }
            },
            "type": "scattergl"
           }
          ],
          "scattermapbox": [
           {
            "marker": {
             "colorbar": {
              "outlinewidth": 0,
              "ticks": ""
             }
            },
            "type": "scattermapbox"
           }
          ],
          "scatterpolar": [
           {
            "marker": {
             "colorbar": {
              "outlinewidth": 0,
              "ticks": ""
             }
            },
            "type": "scatterpolar"
           }
          ],
          "scatterpolargl": [
           {
            "marker": {
             "colorbar": {
              "outlinewidth": 0,
              "ticks": ""
             }
            },
            "type": "scatterpolargl"
           }
          ],
          "scatterternary": [
           {
            "marker": {
             "colorbar": {
              "outlinewidth": 0,
              "ticks": ""
             }
            },
            "type": "scatterternary"
           }
          ],
          "surface": [
           {
            "colorbar": {
             "outlinewidth": 0,
             "ticks": ""
            },
            "colorscale": [
             [
              0,
              "#0d0887"
             ],
             [
              0.1111111111111111,
              "#46039f"
             ],
             [
              0.2222222222222222,
              "#7201a8"
             ],
             [
              0.3333333333333333,
              "#9c179e"
             ],
             [
              0.4444444444444444,
              "#bd3786"
             ],
             [
              0.5555555555555556,
              "#d8576b"
             ],
             [
              0.6666666666666666,
              "#ed7953"
             ],
             [
              0.7777777777777778,
              "#fb9f3a"
             ],
             [
              0.8888888888888888,
              "#fdca26"
             ],
             [
              1,
              "#f0f921"
             ]
            ],
            "type": "surface"
           }
          ],
          "table": [
           {
            "cells": {
             "fill": {
              "color": "#EBF0F8"
             },
             "line": {
              "color": "white"
             }
            },
            "header": {
             "fill": {
              "color": "#C8D4E3"
             },
             "line": {
              "color": "white"
             }
            },
            "type": "table"
           }
          ]
         },
         "layout": {
          "annotationdefaults": {
           "arrowcolor": "#2a3f5f",
           "arrowhead": 0,
           "arrowwidth": 1
          },
          "autotypenumbers": "strict",
          "coloraxis": {
           "colorbar": {
            "outlinewidth": 0,
            "ticks": ""
           }
          },
          "colorscale": {
           "diverging": [
            [
             0,
             "#8e0152"
            ],
            [
             0.1,
             "#c51b7d"
            ],
            [
             0.2,
             "#de77ae"
            ],
            [
             0.3,
             "#f1b6da"
            ],
            [
             0.4,
             "#fde0ef"
            ],
            [
             0.5,
             "#f7f7f7"
            ],
            [
             0.6,
             "#e6f5d0"
            ],
            [
             0.7,
             "#b8e186"
            ],
            [
             0.8,
             "#7fbc41"
            ],
            [
             0.9,
             "#4d9221"
            ],
            [
             1,
             "#276419"
            ]
           ],
           "sequential": [
            [
             0,
             "#0d0887"
            ],
            [
             0.1111111111111111,
             "#46039f"
            ],
            [
             0.2222222222222222,
             "#7201a8"
            ],
            [
             0.3333333333333333,
             "#9c179e"
            ],
            [
             0.4444444444444444,
             "#bd3786"
            ],
            [
             0.5555555555555556,
             "#d8576b"
            ],
            [
             0.6666666666666666,
             "#ed7953"
            ],
            [
             0.7777777777777778,
             "#fb9f3a"
            ],
            [
             0.8888888888888888,
             "#fdca26"
            ],
            [
             1,
             "#f0f921"
            ]
           ],
           "sequentialminus": [
            [
             0,
             "#0d0887"
            ],
            [
             0.1111111111111111,
             "#46039f"
            ],
            [
             0.2222222222222222,
             "#7201a8"
            ],
            [
             0.3333333333333333,
             "#9c179e"
            ],
            [
             0.4444444444444444,
             "#bd3786"
            ],
            [
             0.5555555555555556,
             "#d8576b"
            ],
            [
             0.6666666666666666,
             "#ed7953"
            ],
            [
             0.7777777777777778,
             "#fb9f3a"
            ],
            [
             0.8888888888888888,
             "#fdca26"
            ],
            [
             1,
             "#f0f921"
            ]
           ]
          },
          "colorway": [
           "#636efa",
           "#EF553B",
           "#00cc96",
           "#ab63fa",
           "#FFA15A",
           "#19d3f3",
           "#FF6692",
           "#B6E880",
           "#FF97FF",
           "#FECB52"
          ],
          "font": {
           "color": "#2a3f5f"
          },
          "geo": {
           "bgcolor": "white",
           "lakecolor": "white",
           "landcolor": "#E5ECF6",
           "showlakes": true,
           "showland": true,
           "subunitcolor": "white"
          },
          "hoverlabel": {
           "align": "left"
          },
          "hovermode": "closest",
          "mapbox": {
           "style": "light"
          },
          "paper_bgcolor": "white",
          "plot_bgcolor": "#E5ECF6",
          "polar": {
           "angularaxis": {
            "gridcolor": "white",
            "linecolor": "white",
            "ticks": ""
           },
           "bgcolor": "#E5ECF6",
           "radialaxis": {
            "gridcolor": "white",
            "linecolor": "white",
            "ticks": ""
           }
          },
          "scene": {
           "xaxis": {
            "backgroundcolor": "#E5ECF6",
            "gridcolor": "white",
            "gridwidth": 2,
            "linecolor": "white",
            "showbackground": true,
            "ticks": "",
            "zerolinecolor": "white"
           },
           "yaxis": {
            "backgroundcolor": "#E5ECF6",
            "gridcolor": "white",
            "gridwidth": 2,
            "linecolor": "white",
            "showbackground": true,
            "ticks": "",
            "zerolinecolor": "white"
           },
           "zaxis": {
            "backgroundcolor": "#E5ECF6",
            "gridcolor": "white",
            "gridwidth": 2,
            "linecolor": "white",
            "showbackground": true,
            "ticks": "",
            "zerolinecolor": "white"
           }
          },
          "shapedefaults": {
           "line": {
            "color": "#2a3f5f"
           }
          },
          "ternary": {
           "aaxis": {
            "gridcolor": "white",
            "linecolor": "white",
            "ticks": ""
           },
           "baxis": {
            "gridcolor": "white",
            "linecolor": "white",
            "ticks": ""
           },
           "bgcolor": "#E5ECF6",
           "caxis": {
            "gridcolor": "white",
            "linecolor": "white",
            "ticks": ""
           }
          },
          "title": {
           "x": 0.05
          },
          "xaxis": {
           "automargin": true,
           "gridcolor": "white",
           "linecolor": "white",
           "ticks": "",
           "title": {
            "standoff": 15
           },
           "zerolinecolor": "white",
           "zerolinewidth": 2
          },
          "yaxis": {
           "automargin": true,
           "gridcolor": "white",
           "linecolor": "white",
           "ticks": "",
           "title": {
            "standoff": 15
           },
           "zerolinecolor": "white",
           "zerolinewidth": 2
          }
         }
        }
       }
      },
      "text/html": [
       "<div>                            <div id=\"a09c889c-2254-4063-aa34-2d79584b0fa0\" class=\"plotly-graph-div\" style=\"height:525px; width:100%;\"></div>            <script type=\"text/javascript\">                require([\"plotly\"], function(Plotly) {                    window.PLOTLYENV=window.PLOTLYENV || {};                                    if (document.getElementById(\"a09c889c-2254-4063-aa34-2d79584b0fa0\")) {                    Plotly.newPlot(                        \"a09c889c-2254-4063-aa34-2d79584b0fa0\",                        [{\"branchvalues\":\"total\",\"domain\":{\"x\":[0.0,1.0],\"y\":[0.0,1.0]},\"hovertemplate\":\"labels=%{label}<br>count=%{value}<br>parent=%{parent}<br>id=%{id}<extra></extra>\",\"ids\":[\"donor: 165/notgiven/Day 0\",\"donor: 301/notgiven/Day 0\",\"donor: 58/notgiven/Day 0\",\"donor: 165/IL-15/Day 1\",\"donor: 301/IL-15/Day 1\",\"donor: 58/IL-15/Day 1\",\"donor: 165/IL-4/Day 1\",\"donor: 301/IL-4/Day 1\",\"donor: 58/IL-4/Day 1\",\"donor: 165/Media/Day 1\",\"donor: 301/Media/Day 1\",\"donor: 58/Media/Day 1\",\"donor: 165/IL-15/Day 10\",\"donor: 301/IL-15/Day 10\",\"donor: 58/IL-15/Day 10\",\"donor: 165/IL-4/Day 10\",\"donor: 301/IL-4/Day 10\",\"donor: 58/IL-4/Day 10\",\"donor: 165/Media/Day 10\",\"donor: 301/Media/Day 10\",\"donor: 58/Media/Day 10\",\"donor: 165/IL-15/Day 3\",\"donor: 301/IL-15/Day 3\",\"donor: 58/IL-15/Day 3\",\"donor: 165/IL-4/Day 3\",\"donor: 301/IL-4/Day 3\",\"donor: 58/IL-4/Day 3\",\"donor: 165/Media/Day 3\",\"donor: 301/Media/Day 3\",\"donor: 58/Media/Day 3\",\"donor: 165/IL-15/Day 6\",\"donor: 301/IL-15/Day 6\",\"donor: 58/IL-15/Day 6\",\"donor: 165/IL-4/Day 6\",\"donor: 301/IL-4/Day 6\",\"donor: 58/IL-4/Day 6\",\"donor: 165/Media/Day 6\",\"donor: 301/Media/Day 6\",\"donor: 58/Media/Day 6\",\"donor: 165/IL-15\",\"donor: 301/IL-15\",\"donor: 58/IL-15\",\"donor: 165/IL-4\",\"donor: 301/IL-4\",\"donor: 58/IL-4\",\"donor: 165/Media\",\"donor: 301/Media\",\"donor: 58/Media\",\"donor: 165/notgiven\",\"donor: 301/notgiven\",\"donor: 58/notgiven\",\"donor: 165\",\"donor: 301\",\"donor: 58\"],\"labels\":[\"Day 0\",\"Day 0\",\"Day 0\",\"Day 1\",\"Day 1\",\"Day 1\",\"Day 1\",\"Day 1\",\"Day 1\",\"Day 1\",\"Day 1\",\"Day 1\",\"Day 10\",\"Day 10\",\"Day 10\",\"Day 10\",\"Day 10\",\"Day 10\",\"Day 10\",\"Day 10\",\"Day 10\",\"Day 3\",\"Day 3\",\"Day 3\",\"Day 3\",\"Day 3\",\"Day 3\",\"Day 3\",\"Day 3\",\"Day 3\",\"Day 6\",\"Day 6\",\"Day 6\",\"Day 6\",\"Day 6\",\"Day 6\",\"Day 6\",\"Day 6\",\"Day 6\",\"IL-15\",\"IL-15\",\"IL-15\",\"IL-4\",\"IL-4\",\"IL-4\",\"Media\",\"Media\",\"Media\",\"notgiven\",\"notgiven\",\"notgiven\",\"donor: 165\",\"donor: 301\",\"donor: 58\"],\"name\":\"\",\"parents\":[\"donor: 165/notgiven\",\"donor: 301/notgiven\",\"donor: 58/notgiven\",\"donor: 165/IL-15\",\"donor: 301/IL-15\",\"donor: 58/IL-15\",\"donor: 165/IL-4\",\"donor: 301/IL-4\",\"donor: 58/IL-4\",\"donor: 165/Media\",\"donor: 301/Media\",\"donor: 58/Media\",\"donor: 165/IL-15\",\"donor: 301/IL-15\",\"donor: 58/IL-15\",\"donor: 165/IL-4\",\"donor: 301/IL-4\",\"donor: 58/IL-4\",\"donor: 165/Media\",\"donor: 301/Media\",\"donor: 58/Media\",\"donor: 165/IL-15\",\"donor: 301/IL-15\",\"donor: 58/IL-15\",\"donor: 165/IL-4\",\"donor: 301/IL-4\",\"donor: 58/IL-4\",\"donor: 165/Media\",\"donor: 301/Media\",\"donor: 58/Media\",\"donor: 165/IL-15\",\"donor: 301/IL-15\",\"donor: 58/IL-15\",\"donor: 165/IL-4\",\"donor: 301/IL-4\",\"donor: 58/IL-4\",\"donor: 165/Media\",\"donor: 301/Media\",\"donor: 58/Media\",\"donor: 165\",\"donor: 301\",\"donor: 58\",\"donor: 165\",\"donor: 301\",\"donor: 58\",\"donor: 165\",\"donor: 301\",\"donor: 58\",\"donor: 165\",\"donor: 301\",\"donor: 58\",\"\",\"\",\"\"],\"values\":[1,1,1,1,1,1,1,1,1,1,1,1,1,1,1,1,1,1,1,1,1,1,1,1,1,1,1,1,1,1,1,1,1,1,1,1,1,1,1,4,4,4,4,4,4,4,4,4,1,1,1,13,13,13],\"type\":\"sunburst\"}],                        {\"template\":{\"data\":{\"histogram2dcontour\":[{\"type\":\"histogram2dcontour\",\"colorbar\":{\"outlinewidth\":0,\"ticks\":\"\"},\"colorscale\":[[0.0,\"#0d0887\"],[0.1111111111111111,\"#46039f\"],[0.2222222222222222,\"#7201a8\"],[0.3333333333333333,\"#9c179e\"],[0.4444444444444444,\"#bd3786\"],[0.5555555555555556,\"#d8576b\"],[0.6666666666666666,\"#ed7953\"],[0.7777777777777778,\"#fb9f3a\"],[0.8888888888888888,\"#fdca26\"],[1.0,\"#f0f921\"]]}],\"choropleth\":[{\"type\":\"choropleth\",\"colorbar\":{\"outlinewidth\":0,\"ticks\":\"\"}}],\"histogram2d\":[{\"type\":\"histogram2d\",\"colorbar\":{\"outlinewidth\":0,\"ticks\":\"\"},\"colorscale\":[[0.0,\"#0d0887\"],[0.1111111111111111,\"#46039f\"],[0.2222222222222222,\"#7201a8\"],[0.3333333333333333,\"#9c179e\"],[0.4444444444444444,\"#bd3786\"],[0.5555555555555556,\"#d8576b\"],[0.6666666666666666,\"#ed7953\"],[0.7777777777777778,\"#fb9f3a\"],[0.8888888888888888,\"#fdca26\"],[1.0,\"#f0f921\"]]}],\"heatmap\":[{\"type\":\"heatmap\",\"colorbar\":{\"outlinewidth\":0,\"ticks\":\"\"},\"colorscale\":[[0.0,\"#0d0887\"],[0.1111111111111111,\"#46039f\"],[0.2222222222222222,\"#7201a8\"],[0.3333333333333333,\"#9c179e\"],[0.4444444444444444,\"#bd3786\"],[0.5555555555555556,\"#d8576b\"],[0.6666666666666666,\"#ed7953\"],[0.7777777777777778,\"#fb9f3a\"],[0.8888888888888888,\"#fdca26\"],[1.0,\"#f0f921\"]]}],\"heatmapgl\":[{\"type\":\"heatmapgl\",\"colorbar\":{\"outlinewidth\":0,\"ticks\":\"\"},\"colorscale\":[[0.0,\"#0d0887\"],[0.1111111111111111,\"#46039f\"],[0.2222222222222222,\"#7201a8\"],[0.3333333333333333,\"#9c179e\"],[0.4444444444444444,\"#bd3786\"],[0.5555555555555556,\"#d8576b\"],[0.6666666666666666,\"#ed7953\"],[0.7777777777777778,\"#fb9f3a\"],[0.8888888888888888,\"#fdca26\"],[1.0,\"#f0f921\"]]}],\"contourcarpet\":[{\"type\":\"contourcarpet\",\"colorbar\":{\"outlinewidth\":0,\"ticks\":\"\"}}],\"contour\":[{\"type\":\"contour\",\"colorbar\":{\"outlinewidth\":0,\"ticks\":\"\"},\"colorscale\":[[0.0,\"#0d0887\"],[0.1111111111111111,\"#46039f\"],[0.2222222222222222,\"#7201a8\"],[0.3333333333333333,\"#9c179e\"],[0.4444444444444444,\"#bd3786\"],[0.5555555555555556,\"#d8576b\"],[0.6666666666666666,\"#ed7953\"],[0.7777777777777778,\"#fb9f3a\"],[0.8888888888888888,\"#fdca26\"],[1.0,\"#f0f921\"]]}],\"surface\":[{\"type\":\"surface\",\"colorbar\":{\"outlinewidth\":0,\"ticks\":\"\"},\"colorscale\":[[0.0,\"#0d0887\"],[0.1111111111111111,\"#46039f\"],[0.2222222222222222,\"#7201a8\"],[0.3333333333333333,\"#9c179e\"],[0.4444444444444444,\"#bd3786\"],[0.5555555555555556,\"#d8576b\"],[0.6666666666666666,\"#ed7953\"],[0.7777777777777778,\"#fb9f3a\"],[0.8888888888888888,\"#fdca26\"],[1.0,\"#f0f921\"]]}],\"mesh3d\":[{\"type\":\"mesh3d\",\"colorbar\":{\"outlinewidth\":0,\"ticks\":\"\"}}],\"scatter\":[{\"fillpattern\":{\"fillmode\":\"overlay\",\"size\":10,\"solidity\":0.2},\"type\":\"scatter\"}],\"parcoords\":[{\"type\":\"parcoords\",\"line\":{\"colorbar\":{\"outlinewidth\":0,\"ticks\":\"\"}}}],\"scatterpolargl\":[{\"type\":\"scatterpolargl\",\"marker\":{\"colorbar\":{\"outlinewidth\":0,\"ticks\":\"\"}}}],\"bar\":[{\"error_x\":{\"color\":\"#2a3f5f\"},\"error_y\":{\"color\":\"#2a3f5f\"},\"marker\":{\"line\":{\"color\":\"#E5ECF6\",\"width\":0.5},\"pattern\":{\"fillmode\":\"overlay\",\"size\":10,\"solidity\":0.2}},\"type\":\"bar\"}],\"scattergeo\":[{\"type\":\"scattergeo\",\"marker\":{\"colorbar\":{\"outlinewidth\":0,\"ticks\":\"\"}}}],\"scatterpolar\":[{\"type\":\"scatterpolar\",\"marker\":{\"colorbar\":{\"outlinewidth\":0,\"ticks\":\"\"}}}],\"histogram\":[{\"marker\":{\"pattern\":{\"fillmode\":\"overlay\",\"size\":10,\"solidity\":0.2}},\"type\":\"histogram\"}],\"scattergl\":[{\"type\":\"scattergl\",\"marker\":{\"colorbar\":{\"outlinewidth\":0,\"ticks\":\"\"}}}],\"scatter3d\":[{\"type\":\"scatter3d\",\"line\":{\"colorbar\":{\"outlinewidth\":0,\"ticks\":\"\"}},\"marker\":{\"colorbar\":{\"outlinewidth\":0,\"ticks\":\"\"}}}],\"scattermapbox\":[{\"type\":\"scattermapbox\",\"marker\":{\"colorbar\":{\"outlinewidth\":0,\"ticks\":\"\"}}}],\"scatterternary\":[{\"type\":\"scatterternary\",\"marker\":{\"colorbar\":{\"outlinewidth\":0,\"ticks\":\"\"}}}],\"scattercarpet\":[{\"type\":\"scattercarpet\",\"marker\":{\"colorbar\":{\"outlinewidth\":0,\"ticks\":\"\"}}}],\"carpet\":[{\"aaxis\":{\"endlinecolor\":\"#2a3f5f\",\"gridcolor\":\"white\",\"linecolor\":\"white\",\"minorgridcolor\":\"white\",\"startlinecolor\":\"#2a3f5f\"},\"baxis\":{\"endlinecolor\":\"#2a3f5f\",\"gridcolor\":\"white\",\"linecolor\":\"white\",\"minorgridcolor\":\"white\",\"startlinecolor\":\"#2a3f5f\"},\"type\":\"carpet\"}],\"table\":[{\"cells\":{\"fill\":{\"color\":\"#EBF0F8\"},\"line\":{\"color\":\"white\"}},\"header\":{\"fill\":{\"color\":\"#C8D4E3\"},\"line\":{\"color\":\"white\"}},\"type\":\"table\"}],\"barpolar\":[{\"marker\":{\"line\":{\"color\":\"#E5ECF6\",\"width\":0.5},\"pattern\":{\"fillmode\":\"overlay\",\"size\":10,\"solidity\":0.2}},\"type\":\"barpolar\"}],\"pie\":[{\"automargin\":true,\"type\":\"pie\"}]},\"layout\":{\"autotypenumbers\":\"strict\",\"colorway\":[\"#636efa\",\"#EF553B\",\"#00cc96\",\"#ab63fa\",\"#FFA15A\",\"#19d3f3\",\"#FF6692\",\"#B6E880\",\"#FF97FF\",\"#FECB52\"],\"font\":{\"color\":\"#2a3f5f\"},\"hovermode\":\"closest\",\"hoverlabel\":{\"align\":\"left\"},\"paper_bgcolor\":\"white\",\"plot_bgcolor\":\"#E5ECF6\",\"polar\":{\"bgcolor\":\"#E5ECF6\",\"angularaxis\":{\"gridcolor\":\"white\",\"linecolor\":\"white\",\"ticks\":\"\"},\"radialaxis\":{\"gridcolor\":\"white\",\"linecolor\":\"white\",\"ticks\":\"\"}},\"ternary\":{\"bgcolor\":\"#E5ECF6\",\"aaxis\":{\"gridcolor\":\"white\",\"linecolor\":\"white\",\"ticks\":\"\"},\"baxis\":{\"gridcolor\":\"white\",\"linecolor\":\"white\",\"ticks\":\"\"},\"caxis\":{\"gridcolor\":\"white\",\"linecolor\":\"white\",\"ticks\":\"\"}},\"coloraxis\":{\"colorbar\":{\"outlinewidth\":0,\"ticks\":\"\"}},\"colorscale\":{\"sequential\":[[0.0,\"#0d0887\"],[0.1111111111111111,\"#46039f\"],[0.2222222222222222,\"#7201a8\"],[0.3333333333333333,\"#9c179e\"],[0.4444444444444444,\"#bd3786\"],[0.5555555555555556,\"#d8576b\"],[0.6666666666666666,\"#ed7953\"],[0.7777777777777778,\"#fb9f3a\"],[0.8888888888888888,\"#fdca26\"],[1.0,\"#f0f921\"]],\"sequentialminus\":[[0.0,\"#0d0887\"],[0.1111111111111111,\"#46039f\"],[0.2222222222222222,\"#7201a8\"],[0.3333333333333333,\"#9c179e\"],[0.4444444444444444,\"#bd3786\"],[0.5555555555555556,\"#d8576b\"],[0.6666666666666666,\"#ed7953\"],[0.7777777777777778,\"#fb9f3a\"],[0.8888888888888888,\"#fdca26\"],[1.0,\"#f0f921\"]],\"diverging\":[[0,\"#8e0152\"],[0.1,\"#c51b7d\"],[0.2,\"#de77ae\"],[0.3,\"#f1b6da\"],[0.4,\"#fde0ef\"],[0.5,\"#f7f7f7\"],[0.6,\"#e6f5d0\"],[0.7,\"#b8e186\"],[0.8,\"#7fbc41\"],[0.9,\"#4d9221\"],[1,\"#276419\"]]},\"xaxis\":{\"gridcolor\":\"white\",\"linecolor\":\"white\",\"ticks\":\"\",\"title\":{\"standoff\":15},\"zerolinecolor\":\"white\",\"automargin\":true,\"zerolinewidth\":2},\"yaxis\":{\"gridcolor\":\"white\",\"linecolor\":\"white\",\"ticks\":\"\",\"title\":{\"standoff\":15},\"zerolinecolor\":\"white\",\"automargin\":true,\"zerolinewidth\":2},\"scene\":{\"xaxis\":{\"backgroundcolor\":\"#E5ECF6\",\"gridcolor\":\"white\",\"linecolor\":\"white\",\"showbackground\":true,\"ticks\":\"\",\"zerolinecolor\":\"white\",\"gridwidth\":2},\"yaxis\":{\"backgroundcolor\":\"#E5ECF6\",\"gridcolor\":\"white\",\"linecolor\":\"white\",\"showbackground\":true,\"ticks\":\"\",\"zerolinecolor\":\"white\",\"gridwidth\":2},\"zaxis\":{\"backgroundcolor\":\"#E5ECF6\",\"gridcolor\":\"white\",\"linecolor\":\"white\",\"showbackground\":true,\"ticks\":\"\",\"zerolinecolor\":\"white\",\"gridwidth\":2}},\"shapedefaults\":{\"line\":{\"color\":\"#2a3f5f\"}},\"annotationdefaults\":{\"arrowcolor\":\"#2a3f5f\",\"arrowhead\":0,\"arrowwidth\":1},\"geo\":{\"bgcolor\":\"white\",\"landcolor\":\"#E5ECF6\",\"subunitcolor\":\"white\",\"showland\":true,\"showlakes\":true,\"lakecolor\":\"white\"},\"title\":{\"x\":0.05},\"mapbox\":{\"style\":\"light\"}}},\"legend\":{\"tracegroupgap\":0},\"margin\":{\"t\":60}},                        {\"responsive\": true}                    ).then(function(){\n",
       "                            \n",
       "var gd = document.getElementById('a09c889c-2254-4063-aa34-2d79584b0fa0');\n",
       "var x = new MutationObserver(function (mutations, observer) {{\n",
       "        var display = window.getComputedStyle(gd).display;\n",
       "        if (!display || display === 'none') {{\n",
       "            console.log([gd, 'removed!']);\n",
       "            Plotly.purge(gd);\n",
       "            observer.disconnect();\n",
       "        }}\n",
       "}});\n",
       "\n",
       "// Listen for the removal of the full notebook cells\n",
       "var notebookContainer = gd.closest('#notebook-container');\n",
       "if (notebookContainer) {{\n",
       "    x.observe(notebookContainer, {childList: true});\n",
       "}}\n",
       "\n",
       "// Listen for the clearing of the current output cell\n",
       "var outputEl = gd.closest('.output');\n",
       "if (outputEl) {{\n",
       "    x.observe(outputEl, {childList: true});\n",
       "}}\n",
       "\n",
       "                        })                };                });            </script>        </div>"
      ]
     },
     "metadata": {},
     "output_type": "display_data"
    },
    {
     "data": {
      "text/html": [
       "<div>\n",
       "<style scoped>\n",
       "    .dataframe tbody tr th:only-of-type {\n",
       "        vertical-align: middle;\n",
       "    }\n",
       "\n",
       "    .dataframe tbody tr th {\n",
       "        vertical-align: top;\n",
       "    }\n",
       "\n",
       "    .dataframe thead th {\n",
       "        text-align: right;\n",
       "    }\n",
       "</style>\n",
       "<table border=\"1\" class=\"dataframe\">\n",
       "  <thead>\n",
       "    <tr style=\"text-align: right;\">\n",
       "      <th></th>\n",
       "      <th>batch</th>\n",
       "      <th>treatment</th>\n",
       "      <th>timepoint</th>\n",
       "    </tr>\n",
       "  </thead>\n",
       "  <tbody>\n",
       "    <tr>\n",
       "      <th>0</th>\n",
       "      <td>donor: 165</td>\n",
       "      <td>IL-15</td>\n",
       "      <td>Day 1</td>\n",
       "    </tr>\n",
       "    <tr>\n",
       "      <th>1</th>\n",
       "      <td>donor: 58</td>\n",
       "      <td>IL-15</td>\n",
       "      <td>Day 1</td>\n",
       "    </tr>\n",
       "    <tr>\n",
       "      <th>2</th>\n",
       "      <td>donor: 301</td>\n",
       "      <td>IL-15</td>\n",
       "      <td>Day 1</td>\n",
       "    </tr>\n",
       "    <tr>\n",
       "      <th>3</th>\n",
       "      <td>donor: 301</td>\n",
       "      <td>Media</td>\n",
       "      <td>Day 1</td>\n",
       "    </tr>\n",
       "    <tr>\n",
       "      <th>4</th>\n",
       "      <td>donor: 301</td>\n",
       "      <td>IL-4</td>\n",
       "      <td>Day 1</td>\n",
       "    </tr>\n",
       "    <tr>\n",
       "      <th>5</th>\n",
       "      <td>donor: 165</td>\n",
       "      <td>IL-15</td>\n",
       "      <td>Day 3</td>\n",
       "    </tr>\n",
       "    <tr>\n",
       "      <th>6</th>\n",
       "      <td>donor: 58</td>\n",
       "      <td>Media</td>\n",
       "      <td>Day 3</td>\n",
       "    </tr>\n",
       "    <tr>\n",
       "      <th>7</th>\n",
       "      <td>donor: 301</td>\n",
       "      <td>IL-4</td>\n",
       "      <td>Day 3</td>\n",
       "    </tr>\n",
       "    <tr>\n",
       "      <th>8</th>\n",
       "      <td>donor: 165</td>\n",
       "      <td>Media</td>\n",
       "      <td>Day 6</td>\n",
       "    </tr>\n",
       "    <tr>\n",
       "      <th>9</th>\n",
       "      <td>donor: 58</td>\n",
       "      <td>IL-15</td>\n",
       "      <td>Day 6</td>\n",
       "    </tr>\n",
       "    <tr>\n",
       "      <th>10</th>\n",
       "      <td>donor: 58</td>\n",
       "      <td>IL-4</td>\n",
       "      <td>Day 6</td>\n",
       "    </tr>\n",
       "    <tr>\n",
       "      <th>11</th>\n",
       "      <td>donor: 301</td>\n",
       "      <td>Media</td>\n",
       "      <td>Day 6</td>\n",
       "    </tr>\n",
       "    <tr>\n",
       "      <th>12</th>\n",
       "      <td>donor: 165</td>\n",
       "      <td>IL-15</td>\n",
       "      <td>Day 10</td>\n",
       "    </tr>\n",
       "    <tr>\n",
       "      <th>13</th>\n",
       "      <td>donor: 165</td>\n",
       "      <td>Media</td>\n",
       "      <td>Day 10</td>\n",
       "    </tr>\n",
       "    <tr>\n",
       "      <th>14</th>\n",
       "      <td>donor: 58</td>\n",
       "      <td>Media</td>\n",
       "      <td>Day 10</td>\n",
       "    </tr>\n",
       "    <tr>\n",
       "      <th>15</th>\n",
       "      <td>donor: 301</td>\n",
       "      <td>IL-4</td>\n",
       "      <td>Day 10</td>\n",
       "    </tr>\n",
       "    <tr>\n",
       "      <th>16</th>\n",
       "      <td>donor: 165</td>\n",
       "      <td>Media</td>\n",
       "      <td>Day 1</td>\n",
       "    </tr>\n",
       "    <tr>\n",
       "      <th>17</th>\n",
       "      <td>donor: 165</td>\n",
       "      <td>IL-4</td>\n",
       "      <td>Day 1</td>\n",
       "    </tr>\n",
       "    <tr>\n",
       "      <th>18</th>\n",
       "      <td>donor: 58</td>\n",
       "      <td>Media</td>\n",
       "      <td>Day 1</td>\n",
       "    </tr>\n",
       "    <tr>\n",
       "      <th>19</th>\n",
       "      <td>donor: 58</td>\n",
       "      <td>IL-4</td>\n",
       "      <td>Day 1</td>\n",
       "    </tr>\n",
       "    <tr>\n",
       "      <th>20</th>\n",
       "      <td>donor: 165</td>\n",
       "      <td>Media</td>\n",
       "      <td>Day 3</td>\n",
       "    </tr>\n",
       "    <tr>\n",
       "      <th>21</th>\n",
       "      <td>donor: 165</td>\n",
       "      <td>IL-4</td>\n",
       "      <td>Day 3</td>\n",
       "    </tr>\n",
       "    <tr>\n",
       "      <th>22</th>\n",
       "      <td>donor: 58</td>\n",
       "      <td>IL-15</td>\n",
       "      <td>Day 3</td>\n",
       "    </tr>\n",
       "    <tr>\n",
       "      <th>23</th>\n",
       "      <td>donor: 58</td>\n",
       "      <td>IL-4</td>\n",
       "      <td>Day 3</td>\n",
       "    </tr>\n",
       "    <tr>\n",
       "      <th>24</th>\n",
       "      <td>donor: 301</td>\n",
       "      <td>IL-15</td>\n",
       "      <td>Day 3</td>\n",
       "    </tr>\n",
       "    <tr>\n",
       "      <th>25</th>\n",
       "      <td>donor: 301</td>\n",
       "      <td>Media</td>\n",
       "      <td>Day 3</td>\n",
       "    </tr>\n",
       "    <tr>\n",
       "      <th>26</th>\n",
       "      <td>donor: 165</td>\n",
       "      <td>IL-15</td>\n",
       "      <td>Day 6</td>\n",
       "    </tr>\n",
       "    <tr>\n",
       "      <th>27</th>\n",
       "      <td>donor: 165</td>\n",
       "      <td>IL-4</td>\n",
       "      <td>Day 6</td>\n",
       "    </tr>\n",
       "    <tr>\n",
       "      <th>28</th>\n",
       "      <td>donor: 58</td>\n",
       "      <td>Media</td>\n",
       "      <td>Day 6</td>\n",
       "    </tr>\n",
       "    <tr>\n",
       "      <th>29</th>\n",
       "      <td>donor: 301</td>\n",
       "      <td>IL-15</td>\n",
       "      <td>Day 6</td>\n",
       "    </tr>\n",
       "    <tr>\n",
       "      <th>30</th>\n",
       "      <td>donor: 301</td>\n",
       "      <td>IL-4</td>\n",
       "      <td>Day 6</td>\n",
       "    </tr>\n",
       "    <tr>\n",
       "      <th>31</th>\n",
       "      <td>donor: 165</td>\n",
       "      <td>IL-4</td>\n",
       "      <td>Day 10</td>\n",
       "    </tr>\n",
       "    <tr>\n",
       "      <th>32</th>\n",
       "      <td>donor: 58</td>\n",
       "      <td>IL-15</td>\n",
       "      <td>Day 10</td>\n",
       "    </tr>\n",
       "    <tr>\n",
       "      <th>33</th>\n",
       "      <td>donor: 58</td>\n",
       "      <td>IL-4</td>\n",
       "      <td>Day 10</td>\n",
       "    </tr>\n",
       "    <tr>\n",
       "      <th>34</th>\n",
       "      <td>donor: 301</td>\n",
       "      <td>IL-15</td>\n",
       "      <td>Day 10</td>\n",
       "    </tr>\n",
       "    <tr>\n",
       "      <th>35</th>\n",
       "      <td>donor: 301</td>\n",
       "      <td>Media</td>\n",
       "      <td>Day 10</td>\n",
       "    </tr>\n",
       "    <tr>\n",
       "      <th>36</th>\n",
       "      <td>donor: 165</td>\n",
       "      <td>notgiven</td>\n",
       "      <td>Day 0</td>\n",
       "    </tr>\n",
       "    <tr>\n",
       "      <th>37</th>\n",
       "      <td>donor: 58</td>\n",
       "      <td>notgiven</td>\n",
       "      <td>Day 0</td>\n",
       "    </tr>\n",
       "    <tr>\n",
       "      <th>38</th>\n",
       "      <td>donor: 301</td>\n",
       "      <td>notgiven</td>\n",
       "      <td>Day 0</td>\n",
       "    </tr>\n",
       "  </tbody>\n",
       "</table>\n",
       "</div>"
      ],
      "text/plain": [
       "         batch treatment timepoint\n",
       "0   donor: 165     IL-15     Day 1\n",
       "1    donor: 58     IL-15     Day 1\n",
       "2   donor: 301     IL-15     Day 1\n",
       "3   donor: 301     Media     Day 1\n",
       "4   donor: 301      IL-4     Day 1\n",
       "5   donor: 165     IL-15     Day 3\n",
       "6    donor: 58     Media     Day 3\n",
       "7   donor: 301      IL-4     Day 3\n",
       "8   donor: 165     Media     Day 6\n",
       "9    donor: 58     IL-15     Day 6\n",
       "10   donor: 58      IL-4     Day 6\n",
       "11  donor: 301     Media     Day 6\n",
       "12  donor: 165     IL-15    Day 10\n",
       "13  donor: 165     Media    Day 10\n",
       "14   donor: 58     Media    Day 10\n",
       "15  donor: 301      IL-4    Day 10\n",
       "16  donor: 165     Media     Day 1\n",
       "17  donor: 165      IL-4     Day 1\n",
       "18   donor: 58     Media     Day 1\n",
       "19   donor: 58      IL-4     Day 1\n",
       "20  donor: 165     Media     Day 3\n",
       "21  donor: 165      IL-4     Day 3\n",
       "22   donor: 58     IL-15     Day 3\n",
       "23   donor: 58      IL-4     Day 3\n",
       "24  donor: 301     IL-15     Day 3\n",
       "25  donor: 301     Media     Day 3\n",
       "26  donor: 165     IL-15     Day 6\n",
       "27  donor: 165      IL-4     Day 6\n",
       "28   donor: 58     Media     Day 6\n",
       "29  donor: 301     IL-15     Day 6\n",
       "30  donor: 301      IL-4     Day 6\n",
       "31  donor: 165      IL-4    Day 10\n",
       "32   donor: 58     IL-15    Day 10\n",
       "33   donor: 58      IL-4    Day 10\n",
       "34  donor: 301     IL-15    Day 10\n",
       "35  donor: 301     Media    Day 10\n",
       "36  donor: 165  notgiven     Day 0\n",
       "37   donor: 58  notgiven     Day 0\n",
       "38  donor: 301  notgiven     Day 0"
      ]
     },
     "execution_count": 4,
     "metadata": {},
     "output_type": "execute_result"
    }
   ],
   "source": [
    "omixatlas.identify_cohorts('bulkrnaseq_staging_oa', 'GSE132270_GPL11154_raw')"
   ]
  },
  {
   "cell_type": "code",
   "execution_count": 7,
   "metadata": {},
   "outputs": [
    {
     "name": "stdout",
     "output_type": "stream",
     "text": [
      "Factors based on which cohorts can be created for this dataset: ['characteristics_ch1_3_donor', 'characteristics_ch1_1_treatment', 'characteristics_ch1_2_time_point']\n"
     ]
    },
    {
     "data": {
      "application/vnd.plotly.v1+json": {
       "config": {
        "plotlyServerURL": "https://plot.ly"
       },
       "data": [
        {
         "branchvalues": "total",
         "domain": {
          "x": [
           0,
           1
          ],
          "y": [
           0,
           1
          ]
         },
         "hovertemplate": "labels=%{label}<br>count=%{value}<br>parent=%{parent}<br>id=%{id}<extra></extra>",
         "ids": [
          "165/none/Day 0",
          "301/none/Day 0",
          "58/none/Day 0",
          "165/IL-15/Day 1",
          "301/IL-15/Day 1",
          "58/IL-15/Day 1",
          "165/IL-4/Day 1",
          "301/IL-4/Day 1",
          "58/IL-4/Day 1",
          "165/Media/Day 1",
          "301/Media/Day 1",
          "58/Media/Day 1",
          "165/IL-15/Day 10",
          "301/IL-15/Day 10",
          "58/IL-15/Day 10",
          "165/IL-4/Day 10",
          "301/IL-4/Day 10",
          "58/IL-4/Day 10",
          "165/Media/Day 10",
          "301/Media/Day 10",
          "58/Media/Day 10",
          "165/IL-15/Day 3",
          "301/IL-15/Day 3",
          "58/IL-15/Day 3",
          "165/IL-4/Day 3",
          "301/IL-4/Day 3",
          "58/IL-4/Day 3",
          "165/Media/Day 3",
          "301/Media/Day 3",
          "58/Media/Day 3",
          "165/IL-15/Day 6",
          "301/IL-15/Day 6",
          "58/IL-15/Day 6",
          "165/IL-4/Day 6",
          "301/IL-4/Day 6",
          "58/IL-4/Day 6",
          "165/Media/Day 6",
          "301/Media/Day 6",
          "58/Media/Day 6",
          "165/IL-15",
          "301/IL-15",
          "58/IL-15",
          "165/IL-4",
          "301/IL-4",
          "58/IL-4",
          "165/Media",
          "301/Media",
          "58/Media",
          "165/none",
          "301/none",
          "58/none",
          "165",
          "301",
          "58"
         ],
         "labels": [
          "Day 0",
          "Day 0",
          "Day 0",
          "Day 1",
          "Day 1",
          "Day 1",
          "Day 1",
          "Day 1",
          "Day 1",
          "Day 1",
          "Day 1",
          "Day 1",
          "Day 10",
          "Day 10",
          "Day 10",
          "Day 10",
          "Day 10",
          "Day 10",
          "Day 10",
          "Day 10",
          "Day 10",
          "Day 3",
          "Day 3",
          "Day 3",
          "Day 3",
          "Day 3",
          "Day 3",
          "Day 3",
          "Day 3",
          "Day 3",
          "Day 6",
          "Day 6",
          "Day 6",
          "Day 6",
          "Day 6",
          "Day 6",
          "Day 6",
          "Day 6",
          "Day 6",
          "IL-15",
          "IL-15",
          "IL-15",
          "IL-4",
          "IL-4",
          "IL-4",
          "Media",
          "Media",
          "Media",
          "none",
          "none",
          "none",
          "165",
          "301",
          "58"
         ],
         "name": "",
         "parents": [
          "165/none",
          "301/none",
          "58/none",
          "165/IL-15",
          "301/IL-15",
          "58/IL-15",
          "165/IL-4",
          "301/IL-4",
          "58/IL-4",
          "165/Media",
          "301/Media",
          "58/Media",
          "165/IL-15",
          "301/IL-15",
          "58/IL-15",
          "165/IL-4",
          "301/IL-4",
          "58/IL-4",
          "165/Media",
          "301/Media",
          "58/Media",
          "165/IL-15",
          "301/IL-15",
          "58/IL-15",
          "165/IL-4",
          "301/IL-4",
          "58/IL-4",
          "165/Media",
          "301/Media",
          "58/Media",
          "165/IL-15",
          "301/IL-15",
          "58/IL-15",
          "165/IL-4",
          "301/IL-4",
          "58/IL-4",
          "165/Media",
          "301/Media",
          "58/Media",
          "165",
          "301",
          "58",
          "165",
          "301",
          "58",
          "165",
          "301",
          "58",
          "165",
          "301",
          "58",
          "",
          "",
          ""
         ],
         "type": "sunburst",
         "values": [
          1,
          1,
          1,
          1,
          1,
          1,
          1,
          1,
          1,
          1,
          1,
          1,
          1,
          1,
          1,
          1,
          1,
          1,
          1,
          1,
          1,
          1,
          1,
          1,
          1,
          1,
          1,
          1,
          1,
          1,
          1,
          1,
          1,
          1,
          1,
          1,
          1,
          1,
          1,
          4,
          4,
          4,
          4,
          4,
          4,
          4,
          4,
          4,
          1,
          1,
          1,
          13,
          13,
          13
         ]
        }
       ],
       "layout": {
        "legend": {
         "tracegroupgap": 0
        },
        "margin": {
         "t": 60
        },
        "template": {
         "data": {
          "bar": [
           {
            "error_x": {
             "color": "#2a3f5f"
            },
            "error_y": {
             "color": "#2a3f5f"
            },
            "marker": {
             "line": {
              "color": "#E5ECF6",
              "width": 0.5
             },
             "pattern": {
              "fillmode": "overlay",
              "size": 10,
              "solidity": 0.2
             }
            },
            "type": "bar"
           }
          ],
          "barpolar": [
           {
            "marker": {
             "line": {
              "color": "#E5ECF6",
              "width": 0.5
             },
             "pattern": {
              "fillmode": "overlay",
              "size": 10,
              "solidity": 0.2
             }
            },
            "type": "barpolar"
           }
          ],
          "carpet": [
           {
            "aaxis": {
             "endlinecolor": "#2a3f5f",
             "gridcolor": "white",
             "linecolor": "white",
             "minorgridcolor": "white",
             "startlinecolor": "#2a3f5f"
            },
            "baxis": {
             "endlinecolor": "#2a3f5f",
             "gridcolor": "white",
             "linecolor": "white",
             "minorgridcolor": "white",
             "startlinecolor": "#2a3f5f"
            },
            "type": "carpet"
           }
          ],
          "choropleth": [
           {
            "colorbar": {
             "outlinewidth": 0,
             "ticks": ""
            },
            "type": "choropleth"
           }
          ],
          "contour": [
           {
            "colorbar": {
             "outlinewidth": 0,
             "ticks": ""
            },
            "colorscale": [
             [
              0,
              "#0d0887"
             ],
             [
              0.1111111111111111,
              "#46039f"
             ],
             [
              0.2222222222222222,
              "#7201a8"
             ],
             [
              0.3333333333333333,
              "#9c179e"
             ],
             [
              0.4444444444444444,
              "#bd3786"
             ],
             [
              0.5555555555555556,
              "#d8576b"
             ],
             [
              0.6666666666666666,
              "#ed7953"
             ],
             [
              0.7777777777777778,
              "#fb9f3a"
             ],
             [
              0.8888888888888888,
              "#fdca26"
             ],
             [
              1,
              "#f0f921"
             ]
            ],
            "type": "contour"
           }
          ],
          "contourcarpet": [
           {
            "colorbar": {
             "outlinewidth": 0,
             "ticks": ""
            },
            "type": "contourcarpet"
           }
          ],
          "heatmap": [
           {
            "colorbar": {
             "outlinewidth": 0,
             "ticks": ""
            },
            "colorscale": [
             [
              0,
              "#0d0887"
             ],
             [
              0.1111111111111111,
              "#46039f"
             ],
             [
              0.2222222222222222,
              "#7201a8"
             ],
             [
              0.3333333333333333,
              "#9c179e"
             ],
             [
              0.4444444444444444,
              "#bd3786"
             ],
             [
              0.5555555555555556,
              "#d8576b"
             ],
             [
              0.6666666666666666,
              "#ed7953"
             ],
             [
              0.7777777777777778,
              "#fb9f3a"
             ],
             [
              0.8888888888888888,
              "#fdca26"
             ],
             [
              1,
              "#f0f921"
             ]
            ],
            "type": "heatmap"
           }
          ],
          "heatmapgl": [
           {
            "colorbar": {
             "outlinewidth": 0,
             "ticks": ""
            },
            "colorscale": [
             [
              0,
              "#0d0887"
             ],
             [
              0.1111111111111111,
              "#46039f"
             ],
             [
              0.2222222222222222,
              "#7201a8"
             ],
             [
              0.3333333333333333,
              "#9c179e"
             ],
             [
              0.4444444444444444,
              "#bd3786"
             ],
             [
              0.5555555555555556,
              "#d8576b"
             ],
             [
              0.6666666666666666,
              "#ed7953"
             ],
             [
              0.7777777777777778,
              "#fb9f3a"
             ],
             [
              0.8888888888888888,
              "#fdca26"
             ],
             [
              1,
              "#f0f921"
             ]
            ],
            "type": "heatmapgl"
           }
          ],
          "histogram": [
           {
            "marker": {
             "pattern": {
              "fillmode": "overlay",
              "size": 10,
              "solidity": 0.2
             }
            },
            "type": "histogram"
           }
          ],
          "histogram2d": [
           {
            "colorbar": {
             "outlinewidth": 0,
             "ticks": ""
            },
            "colorscale": [
             [
              0,
              "#0d0887"
             ],
             [
              0.1111111111111111,
              "#46039f"
             ],
             [
              0.2222222222222222,
              "#7201a8"
             ],
             [
              0.3333333333333333,
              "#9c179e"
             ],
             [
              0.4444444444444444,
              "#bd3786"
             ],
             [
              0.5555555555555556,
              "#d8576b"
             ],
             [
              0.6666666666666666,
              "#ed7953"
             ],
             [
              0.7777777777777778,
              "#fb9f3a"
             ],
             [
              0.8888888888888888,
              "#fdca26"
             ],
             [
              1,
              "#f0f921"
             ]
            ],
            "type": "histogram2d"
           }
          ],
          "histogram2dcontour": [
           {
            "colorbar": {
             "outlinewidth": 0,
             "ticks": ""
            },
            "colorscale": [
             [
              0,
              "#0d0887"
             ],
             [
              0.1111111111111111,
              "#46039f"
             ],
             [
              0.2222222222222222,
              "#7201a8"
             ],
             [
              0.3333333333333333,
              "#9c179e"
             ],
             [
              0.4444444444444444,
              "#bd3786"
             ],
             [
              0.5555555555555556,
              "#d8576b"
             ],
             [
              0.6666666666666666,
              "#ed7953"
             ],
             [
              0.7777777777777778,
              "#fb9f3a"
             ],
             [
              0.8888888888888888,
              "#fdca26"
             ],
             [
              1,
              "#f0f921"
             ]
            ],
            "type": "histogram2dcontour"
           }
          ],
          "mesh3d": [
           {
            "colorbar": {
             "outlinewidth": 0,
             "ticks": ""
            },
            "type": "mesh3d"
           }
          ],
          "parcoords": [
           {
            "line": {
             "colorbar": {
              "outlinewidth": 0,
              "ticks": ""
             }
            },
            "type": "parcoords"
           }
          ],
          "pie": [
           {
            "automargin": true,
            "type": "pie"
           }
          ],
          "scatter": [
           {
            "fillpattern": {
             "fillmode": "overlay",
             "size": 10,
             "solidity": 0.2
            },
            "type": "scatter"
           }
          ],
          "scatter3d": [
           {
            "line": {
             "colorbar": {
              "outlinewidth": 0,
              "ticks": ""
             }
            },
            "marker": {
             "colorbar": {
              "outlinewidth": 0,
              "ticks": ""
             }
            },
            "type": "scatter3d"
           }
          ],
          "scattercarpet": [
           {
            "marker": {
             "colorbar": {
              "outlinewidth": 0,
              "ticks": ""
             }
            },
            "type": "scattercarpet"
           }
          ],
          "scattergeo": [
           {
            "marker": {
             "colorbar": {
              "outlinewidth": 0,
              "ticks": ""
             }
            },
            "type": "scattergeo"
           }
          ],
          "scattergl": [
           {
            "marker": {
             "colorbar": {
              "outlinewidth": 0,
              "ticks": ""
             }
            },
            "type": "scattergl"
           }
          ],
          "scattermapbox": [
           {
            "marker": {
             "colorbar": {
              "outlinewidth": 0,
              "ticks": ""
             }
            },
            "type": "scattermapbox"
           }
          ],
          "scatterpolar": [
           {
            "marker": {
             "colorbar": {
              "outlinewidth": 0,
              "ticks": ""
             }
            },
            "type": "scatterpolar"
           }
          ],
          "scatterpolargl": [
           {
            "marker": {
             "colorbar": {
              "outlinewidth": 0,
              "ticks": ""
             }
            },
            "type": "scatterpolargl"
           }
          ],
          "scatterternary": [
           {
            "marker": {
             "colorbar": {
              "outlinewidth": 0,
              "ticks": ""
             }
            },
            "type": "scatterternary"
           }
          ],
          "surface": [
           {
            "colorbar": {
             "outlinewidth": 0,
             "ticks": ""
            },
            "colorscale": [
             [
              0,
              "#0d0887"
             ],
             [
              0.1111111111111111,
              "#46039f"
             ],
             [
              0.2222222222222222,
              "#7201a8"
             ],
             [
              0.3333333333333333,
              "#9c179e"
             ],
             [
              0.4444444444444444,
              "#bd3786"
             ],
             [
              0.5555555555555556,
              "#d8576b"
             ],
             [
              0.6666666666666666,
              "#ed7953"
             ],
             [
              0.7777777777777778,
              "#fb9f3a"
             ],
             [
              0.8888888888888888,
              "#fdca26"
             ],
             [
              1,
              "#f0f921"
             ]
            ],
            "type": "surface"
           }
          ],
          "table": [
           {
            "cells": {
             "fill": {
              "color": "#EBF0F8"
             },
             "line": {
              "color": "white"
             }
            },
            "header": {
             "fill": {
              "color": "#C8D4E3"
             },
             "line": {
              "color": "white"
             }
            },
            "type": "table"
           }
          ]
         },
         "layout": {
          "annotationdefaults": {
           "arrowcolor": "#2a3f5f",
           "arrowhead": 0,
           "arrowwidth": 1
          },
          "autotypenumbers": "strict",
          "coloraxis": {
           "colorbar": {
            "outlinewidth": 0,
            "ticks": ""
           }
          },
          "colorscale": {
           "diverging": [
            [
             0,
             "#8e0152"
            ],
            [
             0.1,
             "#c51b7d"
            ],
            [
             0.2,
             "#de77ae"
            ],
            [
             0.3,
             "#f1b6da"
            ],
            [
             0.4,
             "#fde0ef"
            ],
            [
             0.5,
             "#f7f7f7"
            ],
            [
             0.6,
             "#e6f5d0"
            ],
            [
             0.7,
             "#b8e186"
            ],
            [
             0.8,
             "#7fbc41"
            ],
            [
             0.9,
             "#4d9221"
            ],
            [
             1,
             "#276419"
            ]
           ],
           "sequential": [
            [
             0,
             "#0d0887"
            ],
            [
             0.1111111111111111,
             "#46039f"
            ],
            [
             0.2222222222222222,
             "#7201a8"
            ],
            [
             0.3333333333333333,
             "#9c179e"
            ],
            [
             0.4444444444444444,
             "#bd3786"
            ],
            [
             0.5555555555555556,
             "#d8576b"
            ],
            [
             0.6666666666666666,
             "#ed7953"
            ],
            [
             0.7777777777777778,
             "#fb9f3a"
            ],
            [
             0.8888888888888888,
             "#fdca26"
            ],
            [
             1,
             "#f0f921"
            ]
           ],
           "sequentialminus": [
            [
             0,
             "#0d0887"
            ],
            [
             0.1111111111111111,
             "#46039f"
            ],
            [
             0.2222222222222222,
             "#7201a8"
            ],
            [
             0.3333333333333333,
             "#9c179e"
            ],
            [
             0.4444444444444444,
             "#bd3786"
            ],
            [
             0.5555555555555556,
             "#d8576b"
            ],
            [
             0.6666666666666666,
             "#ed7953"
            ],
            [
             0.7777777777777778,
             "#fb9f3a"
            ],
            [
             0.8888888888888888,
             "#fdca26"
            ],
            [
             1,
             "#f0f921"
            ]
           ]
          },
          "colorway": [
           "#636efa",
           "#EF553B",
           "#00cc96",
           "#ab63fa",
           "#FFA15A",
           "#19d3f3",
           "#FF6692",
           "#B6E880",
           "#FF97FF",
           "#FECB52"
          ],
          "font": {
           "color": "#2a3f5f"
          },
          "geo": {
           "bgcolor": "white",
           "lakecolor": "white",
           "landcolor": "#E5ECF6",
           "showlakes": true,
           "showland": true,
           "subunitcolor": "white"
          },
          "hoverlabel": {
           "align": "left"
          },
          "hovermode": "closest",
          "mapbox": {
           "style": "light"
          },
          "paper_bgcolor": "white",
          "plot_bgcolor": "#E5ECF6",
          "polar": {
           "angularaxis": {
            "gridcolor": "white",
            "linecolor": "white",
            "ticks": ""
           },
           "bgcolor": "#E5ECF6",
           "radialaxis": {
            "gridcolor": "white",
            "linecolor": "white",
            "ticks": ""
           }
          },
          "scene": {
           "xaxis": {
            "backgroundcolor": "#E5ECF6",
            "gridcolor": "white",
            "gridwidth": 2,
            "linecolor": "white",
            "showbackground": true,
            "ticks": "",
            "zerolinecolor": "white"
           },
           "yaxis": {
            "backgroundcolor": "#E5ECF6",
            "gridcolor": "white",
            "gridwidth": 2,
            "linecolor": "white",
            "showbackground": true,
            "ticks": "",
            "zerolinecolor": "white"
           },
           "zaxis": {
            "backgroundcolor": "#E5ECF6",
            "gridcolor": "white",
            "gridwidth": 2,
            "linecolor": "white",
            "showbackground": true,
            "ticks": "",
            "zerolinecolor": "white"
           }
          },
          "shapedefaults": {
           "line": {
            "color": "#2a3f5f"
           }
          },
          "ternary": {
           "aaxis": {
            "gridcolor": "white",
            "linecolor": "white",
            "ticks": ""
           },
           "baxis": {
            "gridcolor": "white",
            "linecolor": "white",
            "ticks": ""
           },
           "bgcolor": "#E5ECF6",
           "caxis": {
            "gridcolor": "white",
            "linecolor": "white",
            "ticks": ""
           }
          },
          "title": {
           "x": 0.05
          },
          "xaxis": {
           "automargin": true,
           "gridcolor": "white",
           "linecolor": "white",
           "ticks": "",
           "title": {
            "standoff": 15
           },
           "zerolinecolor": "white",
           "zerolinewidth": 2
          },
          "yaxis": {
           "automargin": true,
           "gridcolor": "white",
           "linecolor": "white",
           "ticks": "",
           "title": {
            "standoff": 15
           },
           "zerolinecolor": "white",
           "zerolinewidth": 2
          }
         }
        }
       }
      },
      "text/html": [
       "<div>                            <div id=\"92dc7720-f947-4ad2-b09b-e3c5d0397708\" class=\"plotly-graph-div\" style=\"height:525px; width:100%;\"></div>            <script type=\"text/javascript\">                require([\"plotly\"], function(Plotly) {                    window.PLOTLYENV=window.PLOTLYENV || {};                                    if (document.getElementById(\"92dc7720-f947-4ad2-b09b-e3c5d0397708\")) {                    Plotly.newPlot(                        \"92dc7720-f947-4ad2-b09b-e3c5d0397708\",                        [{\"branchvalues\":\"total\",\"domain\":{\"x\":[0.0,1.0],\"y\":[0.0,1.0]},\"hovertemplate\":\"labels=%{label}<br>count=%{value}<br>parent=%{parent}<br>id=%{id}<extra></extra>\",\"ids\":[\"165/none/Day 0\",\"301/none/Day 0\",\"58/none/Day 0\",\"165/IL-15/Day 1\",\"301/IL-15/Day 1\",\"58/IL-15/Day 1\",\"165/IL-4/Day 1\",\"301/IL-4/Day 1\",\"58/IL-4/Day 1\",\"165/Media/Day 1\",\"301/Media/Day 1\",\"58/Media/Day 1\",\"165/IL-15/Day 10\",\"301/IL-15/Day 10\",\"58/IL-15/Day 10\",\"165/IL-4/Day 10\",\"301/IL-4/Day 10\",\"58/IL-4/Day 10\",\"165/Media/Day 10\",\"301/Media/Day 10\",\"58/Media/Day 10\",\"165/IL-15/Day 3\",\"301/IL-15/Day 3\",\"58/IL-15/Day 3\",\"165/IL-4/Day 3\",\"301/IL-4/Day 3\",\"58/IL-4/Day 3\",\"165/Media/Day 3\",\"301/Media/Day 3\",\"58/Media/Day 3\",\"165/IL-15/Day 6\",\"301/IL-15/Day 6\",\"58/IL-15/Day 6\",\"165/IL-4/Day 6\",\"301/IL-4/Day 6\",\"58/IL-4/Day 6\",\"165/Media/Day 6\",\"301/Media/Day 6\",\"58/Media/Day 6\",\"165/IL-15\",\"301/IL-15\",\"58/IL-15\",\"165/IL-4\",\"301/IL-4\",\"58/IL-4\",\"165/Media\",\"301/Media\",\"58/Media\",\"165/none\",\"301/none\",\"58/none\",\"165\",\"301\",\"58\"],\"labels\":[\"Day 0\",\"Day 0\",\"Day 0\",\"Day 1\",\"Day 1\",\"Day 1\",\"Day 1\",\"Day 1\",\"Day 1\",\"Day 1\",\"Day 1\",\"Day 1\",\"Day 10\",\"Day 10\",\"Day 10\",\"Day 10\",\"Day 10\",\"Day 10\",\"Day 10\",\"Day 10\",\"Day 10\",\"Day 3\",\"Day 3\",\"Day 3\",\"Day 3\",\"Day 3\",\"Day 3\",\"Day 3\",\"Day 3\",\"Day 3\",\"Day 6\",\"Day 6\",\"Day 6\",\"Day 6\",\"Day 6\",\"Day 6\",\"Day 6\",\"Day 6\",\"Day 6\",\"IL-15\",\"IL-15\",\"IL-15\",\"IL-4\",\"IL-4\",\"IL-4\",\"Media\",\"Media\",\"Media\",\"none\",\"none\",\"none\",\"165\",\"301\",\"58\"],\"name\":\"\",\"parents\":[\"165/none\",\"301/none\",\"58/none\",\"165/IL-15\",\"301/IL-15\",\"58/IL-15\",\"165/IL-4\",\"301/IL-4\",\"58/IL-4\",\"165/Media\",\"301/Media\",\"58/Media\",\"165/IL-15\",\"301/IL-15\",\"58/IL-15\",\"165/IL-4\",\"301/IL-4\",\"58/IL-4\",\"165/Media\",\"301/Media\",\"58/Media\",\"165/IL-15\",\"301/IL-15\",\"58/IL-15\",\"165/IL-4\",\"301/IL-4\",\"58/IL-4\",\"165/Media\",\"301/Media\",\"58/Media\",\"165/IL-15\",\"301/IL-15\",\"58/IL-15\",\"165/IL-4\",\"301/IL-4\",\"58/IL-4\",\"165/Media\",\"301/Media\",\"58/Media\",\"165\",\"301\",\"58\",\"165\",\"301\",\"58\",\"165\",\"301\",\"58\",\"165\",\"301\",\"58\",\"\",\"\",\"\"],\"values\":[1,1,1,1,1,1,1,1,1,1,1,1,1,1,1,1,1,1,1,1,1,1,1,1,1,1,1,1,1,1,1,1,1,1,1,1,1,1,1,4,4,4,4,4,4,4,4,4,1,1,1,13,13,13],\"type\":\"sunburst\"}],                        {\"template\":{\"data\":{\"histogram2dcontour\":[{\"type\":\"histogram2dcontour\",\"colorbar\":{\"outlinewidth\":0,\"ticks\":\"\"},\"colorscale\":[[0.0,\"#0d0887\"],[0.1111111111111111,\"#46039f\"],[0.2222222222222222,\"#7201a8\"],[0.3333333333333333,\"#9c179e\"],[0.4444444444444444,\"#bd3786\"],[0.5555555555555556,\"#d8576b\"],[0.6666666666666666,\"#ed7953\"],[0.7777777777777778,\"#fb9f3a\"],[0.8888888888888888,\"#fdca26\"],[1.0,\"#f0f921\"]]}],\"choropleth\":[{\"type\":\"choropleth\",\"colorbar\":{\"outlinewidth\":0,\"ticks\":\"\"}}],\"histogram2d\":[{\"type\":\"histogram2d\",\"colorbar\":{\"outlinewidth\":0,\"ticks\":\"\"},\"colorscale\":[[0.0,\"#0d0887\"],[0.1111111111111111,\"#46039f\"],[0.2222222222222222,\"#7201a8\"],[0.3333333333333333,\"#9c179e\"],[0.4444444444444444,\"#bd3786\"],[0.5555555555555556,\"#d8576b\"],[0.6666666666666666,\"#ed7953\"],[0.7777777777777778,\"#fb9f3a\"],[0.8888888888888888,\"#fdca26\"],[1.0,\"#f0f921\"]]}],\"heatmap\":[{\"type\":\"heatmap\",\"colorbar\":{\"outlinewidth\":0,\"ticks\":\"\"},\"colorscale\":[[0.0,\"#0d0887\"],[0.1111111111111111,\"#46039f\"],[0.2222222222222222,\"#7201a8\"],[0.3333333333333333,\"#9c179e\"],[0.4444444444444444,\"#bd3786\"],[0.5555555555555556,\"#d8576b\"],[0.6666666666666666,\"#ed7953\"],[0.7777777777777778,\"#fb9f3a\"],[0.8888888888888888,\"#fdca26\"],[1.0,\"#f0f921\"]]}],\"heatmapgl\":[{\"type\":\"heatmapgl\",\"colorbar\":{\"outlinewidth\":0,\"ticks\":\"\"},\"colorscale\":[[0.0,\"#0d0887\"],[0.1111111111111111,\"#46039f\"],[0.2222222222222222,\"#7201a8\"],[0.3333333333333333,\"#9c179e\"],[0.4444444444444444,\"#bd3786\"],[0.5555555555555556,\"#d8576b\"],[0.6666666666666666,\"#ed7953\"],[0.7777777777777778,\"#fb9f3a\"],[0.8888888888888888,\"#fdca26\"],[1.0,\"#f0f921\"]]}],\"contourcarpet\":[{\"type\":\"contourcarpet\",\"colorbar\":{\"outlinewidth\":0,\"ticks\":\"\"}}],\"contour\":[{\"type\":\"contour\",\"colorbar\":{\"outlinewidth\":0,\"ticks\":\"\"},\"colorscale\":[[0.0,\"#0d0887\"],[0.1111111111111111,\"#46039f\"],[0.2222222222222222,\"#7201a8\"],[0.3333333333333333,\"#9c179e\"],[0.4444444444444444,\"#bd3786\"],[0.5555555555555556,\"#d8576b\"],[0.6666666666666666,\"#ed7953\"],[0.7777777777777778,\"#fb9f3a\"],[0.8888888888888888,\"#fdca26\"],[1.0,\"#f0f921\"]]}],\"surface\":[{\"type\":\"surface\",\"colorbar\":{\"outlinewidth\":0,\"ticks\":\"\"},\"colorscale\":[[0.0,\"#0d0887\"],[0.1111111111111111,\"#46039f\"],[0.2222222222222222,\"#7201a8\"],[0.3333333333333333,\"#9c179e\"],[0.4444444444444444,\"#bd3786\"],[0.5555555555555556,\"#d8576b\"],[0.6666666666666666,\"#ed7953\"],[0.7777777777777778,\"#fb9f3a\"],[0.8888888888888888,\"#fdca26\"],[1.0,\"#f0f921\"]]}],\"mesh3d\":[{\"type\":\"mesh3d\",\"colorbar\":{\"outlinewidth\":0,\"ticks\":\"\"}}],\"scatter\":[{\"fillpattern\":{\"fillmode\":\"overlay\",\"size\":10,\"solidity\":0.2},\"type\":\"scatter\"}],\"parcoords\":[{\"type\":\"parcoords\",\"line\":{\"colorbar\":{\"outlinewidth\":0,\"ticks\":\"\"}}}],\"scatterpolargl\":[{\"type\":\"scatterpolargl\",\"marker\":{\"colorbar\":{\"outlinewidth\":0,\"ticks\":\"\"}}}],\"bar\":[{\"error_x\":{\"color\":\"#2a3f5f\"},\"error_y\":{\"color\":\"#2a3f5f\"},\"marker\":{\"line\":{\"color\":\"#E5ECF6\",\"width\":0.5},\"pattern\":{\"fillmode\":\"overlay\",\"size\":10,\"solidity\":0.2}},\"type\":\"bar\"}],\"scattergeo\":[{\"type\":\"scattergeo\",\"marker\":{\"colorbar\":{\"outlinewidth\":0,\"ticks\":\"\"}}}],\"scatterpolar\":[{\"type\":\"scatterpolar\",\"marker\":{\"colorbar\":{\"outlinewidth\":0,\"ticks\":\"\"}}}],\"histogram\":[{\"marker\":{\"pattern\":{\"fillmode\":\"overlay\",\"size\":10,\"solidity\":0.2}},\"type\":\"histogram\"}],\"scattergl\":[{\"type\":\"scattergl\",\"marker\":{\"colorbar\":{\"outlinewidth\":0,\"ticks\":\"\"}}}],\"scatter3d\":[{\"type\":\"scatter3d\",\"line\":{\"colorbar\":{\"outlinewidth\":0,\"ticks\":\"\"}},\"marker\":{\"colorbar\":{\"outlinewidth\":0,\"ticks\":\"\"}}}],\"scattermapbox\":[{\"type\":\"scattermapbox\",\"marker\":{\"colorbar\":{\"outlinewidth\":0,\"ticks\":\"\"}}}],\"scatterternary\":[{\"type\":\"scatterternary\",\"marker\":{\"colorbar\":{\"outlinewidth\":0,\"ticks\":\"\"}}}],\"scattercarpet\":[{\"type\":\"scattercarpet\",\"marker\":{\"colorbar\":{\"outlinewidth\":0,\"ticks\":\"\"}}}],\"carpet\":[{\"aaxis\":{\"endlinecolor\":\"#2a3f5f\",\"gridcolor\":\"white\",\"linecolor\":\"white\",\"minorgridcolor\":\"white\",\"startlinecolor\":\"#2a3f5f\"},\"baxis\":{\"endlinecolor\":\"#2a3f5f\",\"gridcolor\":\"white\",\"linecolor\":\"white\",\"minorgridcolor\":\"white\",\"startlinecolor\":\"#2a3f5f\"},\"type\":\"carpet\"}],\"table\":[{\"cells\":{\"fill\":{\"color\":\"#EBF0F8\"},\"line\":{\"color\":\"white\"}},\"header\":{\"fill\":{\"color\":\"#C8D4E3\"},\"line\":{\"color\":\"white\"}},\"type\":\"table\"}],\"barpolar\":[{\"marker\":{\"line\":{\"color\":\"#E5ECF6\",\"width\":0.5},\"pattern\":{\"fillmode\":\"overlay\",\"size\":10,\"solidity\":0.2}},\"type\":\"barpolar\"}],\"pie\":[{\"automargin\":true,\"type\":\"pie\"}]},\"layout\":{\"autotypenumbers\":\"strict\",\"colorway\":[\"#636efa\",\"#EF553B\",\"#00cc96\",\"#ab63fa\",\"#FFA15A\",\"#19d3f3\",\"#FF6692\",\"#B6E880\",\"#FF97FF\",\"#FECB52\"],\"font\":{\"color\":\"#2a3f5f\"},\"hovermode\":\"closest\",\"hoverlabel\":{\"align\":\"left\"},\"paper_bgcolor\":\"white\",\"plot_bgcolor\":\"#E5ECF6\",\"polar\":{\"bgcolor\":\"#E5ECF6\",\"angularaxis\":{\"gridcolor\":\"white\",\"linecolor\":\"white\",\"ticks\":\"\"},\"radialaxis\":{\"gridcolor\":\"white\",\"linecolor\":\"white\",\"ticks\":\"\"}},\"ternary\":{\"bgcolor\":\"#E5ECF6\",\"aaxis\":{\"gridcolor\":\"white\",\"linecolor\":\"white\",\"ticks\":\"\"},\"baxis\":{\"gridcolor\":\"white\",\"linecolor\":\"white\",\"ticks\":\"\"},\"caxis\":{\"gridcolor\":\"white\",\"linecolor\":\"white\",\"ticks\":\"\"}},\"coloraxis\":{\"colorbar\":{\"outlinewidth\":0,\"ticks\":\"\"}},\"colorscale\":{\"sequential\":[[0.0,\"#0d0887\"],[0.1111111111111111,\"#46039f\"],[0.2222222222222222,\"#7201a8\"],[0.3333333333333333,\"#9c179e\"],[0.4444444444444444,\"#bd3786\"],[0.5555555555555556,\"#d8576b\"],[0.6666666666666666,\"#ed7953\"],[0.7777777777777778,\"#fb9f3a\"],[0.8888888888888888,\"#fdca26\"],[1.0,\"#f0f921\"]],\"sequentialminus\":[[0.0,\"#0d0887\"],[0.1111111111111111,\"#46039f\"],[0.2222222222222222,\"#7201a8\"],[0.3333333333333333,\"#9c179e\"],[0.4444444444444444,\"#bd3786\"],[0.5555555555555556,\"#d8576b\"],[0.6666666666666666,\"#ed7953\"],[0.7777777777777778,\"#fb9f3a\"],[0.8888888888888888,\"#fdca26\"],[1.0,\"#f0f921\"]],\"diverging\":[[0,\"#8e0152\"],[0.1,\"#c51b7d\"],[0.2,\"#de77ae\"],[0.3,\"#f1b6da\"],[0.4,\"#fde0ef\"],[0.5,\"#f7f7f7\"],[0.6,\"#e6f5d0\"],[0.7,\"#b8e186\"],[0.8,\"#7fbc41\"],[0.9,\"#4d9221\"],[1,\"#276419\"]]},\"xaxis\":{\"gridcolor\":\"white\",\"linecolor\":\"white\",\"ticks\":\"\",\"title\":{\"standoff\":15},\"zerolinecolor\":\"white\",\"automargin\":true,\"zerolinewidth\":2},\"yaxis\":{\"gridcolor\":\"white\",\"linecolor\":\"white\",\"ticks\":\"\",\"title\":{\"standoff\":15},\"zerolinecolor\":\"white\",\"automargin\":true,\"zerolinewidth\":2},\"scene\":{\"xaxis\":{\"backgroundcolor\":\"#E5ECF6\",\"gridcolor\":\"white\",\"linecolor\":\"white\",\"showbackground\":true,\"ticks\":\"\",\"zerolinecolor\":\"white\",\"gridwidth\":2},\"yaxis\":{\"backgroundcolor\":\"#E5ECF6\",\"gridcolor\":\"white\",\"linecolor\":\"white\",\"showbackground\":true,\"ticks\":\"\",\"zerolinecolor\":\"white\",\"gridwidth\":2},\"zaxis\":{\"backgroundcolor\":\"#E5ECF6\",\"gridcolor\":\"white\",\"linecolor\":\"white\",\"showbackground\":true,\"ticks\":\"\",\"zerolinecolor\":\"white\",\"gridwidth\":2}},\"shapedefaults\":{\"line\":{\"color\":\"#2a3f5f\"}},\"annotationdefaults\":{\"arrowcolor\":\"#2a3f5f\",\"arrowhead\":0,\"arrowwidth\":1},\"geo\":{\"bgcolor\":\"white\",\"landcolor\":\"#E5ECF6\",\"subunitcolor\":\"white\",\"showland\":true,\"showlakes\":true,\"lakecolor\":\"white\"},\"title\":{\"x\":0.05},\"mapbox\":{\"style\":\"light\"}}},\"legend\":{\"tracegroupgap\":0},\"margin\":{\"t\":60}},                        {\"responsive\": true}                    ).then(function(){\n",
       "                            \n",
       "var gd = document.getElementById('92dc7720-f947-4ad2-b09b-e3c5d0397708');\n",
       "var x = new MutationObserver(function (mutations, observer) {{\n",
       "        var display = window.getComputedStyle(gd).display;\n",
       "        if (!display || display === 'none') {{\n",
       "            console.log([gd, 'removed!']);\n",
       "            Plotly.purge(gd);\n",
       "            observer.disconnect();\n",
       "        }}\n",
       "}});\n",
       "\n",
       "// Listen for the removal of the full notebook cells\n",
       "var notebookContainer = gd.closest('#notebook-container');\n",
       "if (notebookContainer) {{\n",
       "    x.observe(notebookContainer, {childList: true});\n",
       "}}\n",
       "\n",
       "// Listen for the clearing of the current output cell\n",
       "var outputEl = gd.closest('.output');\n",
       "if (outputEl) {{\n",
       "    x.observe(outputEl, {childList: true});\n",
       "}}\n",
       "\n",
       "                        })                };                });            </script>        </div>"
      ]
     },
     "metadata": {},
     "output_type": "display_data"
    },
    {
     "data": {
      "text/html": [
       "<div>\n",
       "<style scoped>\n",
       "    .dataframe tbody tr th:only-of-type {\n",
       "        vertical-align: middle;\n",
       "    }\n",
       "\n",
       "    .dataframe tbody tr th {\n",
       "        vertical-align: top;\n",
       "    }\n",
       "\n",
       "    .dataframe thead th {\n",
       "        text-align: right;\n",
       "    }\n",
       "</style>\n",
       "<table border=\"1\" class=\"dataframe\">\n",
       "  <thead>\n",
       "    <tr style=\"text-align: right;\">\n",
       "      <th></th>\n",
       "      <th>characteristics_ch1_3_donor</th>\n",
       "      <th>characteristics_ch1_1_treatment</th>\n",
       "      <th>characteristics_ch1_2_time_point</th>\n",
       "    </tr>\n",
       "  </thead>\n",
       "  <tbody>\n",
       "    <tr>\n",
       "      <th>0</th>\n",
       "      <td>58</td>\n",
       "      <td>Media</td>\n",
       "      <td>Day 1</td>\n",
       "    </tr>\n",
       "    <tr>\n",
       "      <th>1</th>\n",
       "      <td>58</td>\n",
       "      <td>IL-4</td>\n",
       "      <td>Day 1</td>\n",
       "    </tr>\n",
       "    <tr>\n",
       "      <th>2</th>\n",
       "      <td>301</td>\n",
       "      <td>IL-15</td>\n",
       "      <td>Day 1</td>\n",
       "    </tr>\n",
       "    <tr>\n",
       "      <th>3</th>\n",
       "      <td>165</td>\n",
       "      <td>IL-15</td>\n",
       "      <td>Day 3</td>\n",
       "    </tr>\n",
       "    <tr>\n",
       "      <th>4</th>\n",
       "      <td>58</td>\n",
       "      <td>IL-15</td>\n",
       "      <td>Day 3</td>\n",
       "    </tr>\n",
       "    <tr>\n",
       "      <th>5</th>\n",
       "      <td>58</td>\n",
       "      <td>IL-4</td>\n",
       "      <td>Day 3</td>\n",
       "    </tr>\n",
       "    <tr>\n",
       "      <th>6</th>\n",
       "      <td>301</td>\n",
       "      <td>Media</td>\n",
       "      <td>Day 3</td>\n",
       "    </tr>\n",
       "    <tr>\n",
       "      <th>7</th>\n",
       "      <td>301</td>\n",
       "      <td>IL-4</td>\n",
       "      <td>Day 3</td>\n",
       "    </tr>\n",
       "    <tr>\n",
       "      <th>8</th>\n",
       "      <td>165</td>\n",
       "      <td>IL-4</td>\n",
       "      <td>Day 6</td>\n",
       "    </tr>\n",
       "    <tr>\n",
       "      <th>9</th>\n",
       "      <td>58</td>\n",
       "      <td>IL-15</td>\n",
       "      <td>Day 6</td>\n",
       "    </tr>\n",
       "    <tr>\n",
       "      <th>10</th>\n",
       "      <td>58</td>\n",
       "      <td>Media</td>\n",
       "      <td>Day 6</td>\n",
       "    </tr>\n",
       "    <tr>\n",
       "      <th>11</th>\n",
       "      <td>58</td>\n",
       "      <td>IL-4</td>\n",
       "      <td>Day 6</td>\n",
       "    </tr>\n",
       "    <tr>\n",
       "      <th>12</th>\n",
       "      <td>165</td>\n",
       "      <td>IL-15</td>\n",
       "      <td>Day 10</td>\n",
       "    </tr>\n",
       "    <tr>\n",
       "      <th>13</th>\n",
       "      <td>165</td>\n",
       "      <td>Media</td>\n",
       "      <td>Day 10</td>\n",
       "    </tr>\n",
       "    <tr>\n",
       "      <th>14</th>\n",
       "      <td>58</td>\n",
       "      <td>IL-15</td>\n",
       "      <td>Day 10</td>\n",
       "    </tr>\n",
       "    <tr>\n",
       "      <th>15</th>\n",
       "      <td>58</td>\n",
       "      <td>none</td>\n",
       "      <td>Day 0</td>\n",
       "    </tr>\n",
       "    <tr>\n",
       "      <th>16</th>\n",
       "      <td>165</td>\n",
       "      <td>IL-15</td>\n",
       "      <td>Day 1</td>\n",
       "    </tr>\n",
       "    <tr>\n",
       "      <th>17</th>\n",
       "      <td>165</td>\n",
       "      <td>Media</td>\n",
       "      <td>Day 1</td>\n",
       "    </tr>\n",
       "    <tr>\n",
       "      <th>18</th>\n",
       "      <td>165</td>\n",
       "      <td>IL-4</td>\n",
       "      <td>Day 1</td>\n",
       "    </tr>\n",
       "    <tr>\n",
       "      <th>19</th>\n",
       "      <td>58</td>\n",
       "      <td>IL-15</td>\n",
       "      <td>Day 1</td>\n",
       "    </tr>\n",
       "    <tr>\n",
       "      <th>20</th>\n",
       "      <td>301</td>\n",
       "      <td>Media</td>\n",
       "      <td>Day 1</td>\n",
       "    </tr>\n",
       "    <tr>\n",
       "      <th>21</th>\n",
       "      <td>301</td>\n",
       "      <td>IL-4</td>\n",
       "      <td>Day 1</td>\n",
       "    </tr>\n",
       "    <tr>\n",
       "      <th>22</th>\n",
       "      <td>165</td>\n",
       "      <td>Media</td>\n",
       "      <td>Day 3</td>\n",
       "    </tr>\n",
       "    <tr>\n",
       "      <th>23</th>\n",
       "      <td>165</td>\n",
       "      <td>IL-4</td>\n",
       "      <td>Day 3</td>\n",
       "    </tr>\n",
       "    <tr>\n",
       "      <th>24</th>\n",
       "      <td>58</td>\n",
       "      <td>Media</td>\n",
       "      <td>Day 3</td>\n",
       "    </tr>\n",
       "    <tr>\n",
       "      <th>25</th>\n",
       "      <td>301</td>\n",
       "      <td>IL-15</td>\n",
       "      <td>Day 3</td>\n",
       "    </tr>\n",
       "    <tr>\n",
       "      <th>26</th>\n",
       "      <td>165</td>\n",
       "      <td>IL-15</td>\n",
       "      <td>Day 6</td>\n",
       "    </tr>\n",
       "    <tr>\n",
       "      <th>27</th>\n",
       "      <td>165</td>\n",
       "      <td>Media</td>\n",
       "      <td>Day 6</td>\n",
       "    </tr>\n",
       "    <tr>\n",
       "      <th>28</th>\n",
       "      <td>301</td>\n",
       "      <td>IL-15</td>\n",
       "      <td>Day 6</td>\n",
       "    </tr>\n",
       "    <tr>\n",
       "      <th>29</th>\n",
       "      <td>301</td>\n",
       "      <td>Media</td>\n",
       "      <td>Day 6</td>\n",
       "    </tr>\n",
       "    <tr>\n",
       "      <th>30</th>\n",
       "      <td>301</td>\n",
       "      <td>IL-4</td>\n",
       "      <td>Day 6</td>\n",
       "    </tr>\n",
       "    <tr>\n",
       "      <th>31</th>\n",
       "      <td>165</td>\n",
       "      <td>IL-4</td>\n",
       "      <td>Day 10</td>\n",
       "    </tr>\n",
       "    <tr>\n",
       "      <th>32</th>\n",
       "      <td>58</td>\n",
       "      <td>Media</td>\n",
       "      <td>Day 10</td>\n",
       "    </tr>\n",
       "    <tr>\n",
       "      <th>33</th>\n",
       "      <td>58</td>\n",
       "      <td>IL-4</td>\n",
       "      <td>Day 10</td>\n",
       "    </tr>\n",
       "    <tr>\n",
       "      <th>34</th>\n",
       "      <td>301</td>\n",
       "      <td>IL-15</td>\n",
       "      <td>Day 10</td>\n",
       "    </tr>\n",
       "    <tr>\n",
       "      <th>35</th>\n",
       "      <td>301</td>\n",
       "      <td>Media</td>\n",
       "      <td>Day 10</td>\n",
       "    </tr>\n",
       "    <tr>\n",
       "      <th>36</th>\n",
       "      <td>301</td>\n",
       "      <td>IL-4</td>\n",
       "      <td>Day 10</td>\n",
       "    </tr>\n",
       "    <tr>\n",
       "      <th>37</th>\n",
       "      <td>165</td>\n",
       "      <td>none</td>\n",
       "      <td>Day 0</td>\n",
       "    </tr>\n",
       "    <tr>\n",
       "      <th>38</th>\n",
       "      <td>301</td>\n",
       "      <td>none</td>\n",
       "      <td>Day 0</td>\n",
       "    </tr>\n",
       "  </tbody>\n",
       "</table>\n",
       "</div>"
      ],
      "text/plain": [
       "   characteristics_ch1_3_donor characteristics_ch1_1_treatment  \\\n",
       "0                           58                           Media   \n",
       "1                           58                            IL-4   \n",
       "2                          301                           IL-15   \n",
       "3                          165                           IL-15   \n",
       "4                           58                           IL-15   \n",
       "5                           58                            IL-4   \n",
       "6                          301                           Media   \n",
       "7                          301                            IL-4   \n",
       "8                          165                            IL-4   \n",
       "9                           58                           IL-15   \n",
       "10                          58                           Media   \n",
       "11                          58                            IL-4   \n",
       "12                         165                           IL-15   \n",
       "13                         165                           Media   \n",
       "14                          58                           IL-15   \n",
       "15                          58                            none   \n",
       "16                         165                           IL-15   \n",
       "17                         165                           Media   \n",
       "18                         165                            IL-4   \n",
       "19                          58                           IL-15   \n",
       "20                         301                           Media   \n",
       "21                         301                            IL-4   \n",
       "22                         165                           Media   \n",
       "23                         165                            IL-4   \n",
       "24                          58                           Media   \n",
       "25                         301                           IL-15   \n",
       "26                         165                           IL-15   \n",
       "27                         165                           Media   \n",
       "28                         301                           IL-15   \n",
       "29                         301                           Media   \n",
       "30                         301                            IL-4   \n",
       "31                         165                            IL-4   \n",
       "32                          58                           Media   \n",
       "33                          58                            IL-4   \n",
       "34                         301                           IL-15   \n",
       "35                         301                           Media   \n",
       "36                         301                            IL-4   \n",
       "37                         165                            none   \n",
       "38                         301                            none   \n",
       "\n",
       "   characteristics_ch1_2_time_point  \n",
       "0                             Day 1  \n",
       "1                             Day 1  \n",
       "2                             Day 1  \n",
       "3                             Day 3  \n",
       "4                             Day 3  \n",
       "5                             Day 3  \n",
       "6                             Day 3  \n",
       "7                             Day 3  \n",
       "8                             Day 6  \n",
       "9                             Day 6  \n",
       "10                            Day 6  \n",
       "11                            Day 6  \n",
       "12                           Day 10  \n",
       "13                           Day 10  \n",
       "14                           Day 10  \n",
       "15                            Day 0  \n",
       "16                            Day 1  \n",
       "17                            Day 1  \n",
       "18                            Day 1  \n",
       "19                            Day 1  \n",
       "20                            Day 1  \n",
       "21                            Day 1  \n",
       "22                            Day 3  \n",
       "23                            Day 3  \n",
       "24                            Day 3  \n",
       "25                            Day 3  \n",
       "26                            Day 6  \n",
       "27                            Day 6  \n",
       "28                            Day 6  \n",
       "29                            Day 6  \n",
       "30                            Day 6  \n",
       "31                           Day 10  \n",
       "32                           Day 10  \n",
       "33                           Day 10  \n",
       "34                           Day 10  \n",
       "35                           Day 10  \n",
       "36                           Day 10  \n",
       "37                            Day 0  \n",
       "38                            Day 0  "
      ]
     },
     "execution_count": 7,
     "metadata": {},
     "output_type": "execute_result"
    }
   ],
   "source": [
    "omixatlas.identify_cohorts('geo_transcriptomics_omixatlas', 'GSE132270_GPL11154_raw')"
   ]
  },
  {
   "cell_type": "code",
   "execution_count": 8,
   "metadata": {},
   "outputs": [
    {
     "ename": "paramException",
     "evalue": "paramException (parameter error): Only Bulk RNA Seq datasets that are from GEO are supported",
     "output_type": "error",
     "traceback": [
      "\u001b[0;31m---------------------------------------------------------------------------\u001b[0m",
      "\u001b[0;31mparamException\u001b[0m                            Traceback (most recent call last)",
      "Input \u001b[0;32mIn [8]\u001b[0m, in \u001b[0;36m<cell line: 1>\u001b[0;34m()\u001b[0m\n\u001b[0;32m----> 1\u001b[0m \u001b[43momixatlas\u001b[49m\u001b[38;5;241;43m.\u001b[39;49m\u001b[43midentify_cohorts\u001b[49m\u001b[43m(\u001b[49m\u001b[38;5;124;43m'\u001b[39;49m\u001b[38;5;124;43msingle_cell_rnaseq_omixatlas\u001b[39;49m\u001b[38;5;124;43m'\u001b[39;49m\u001b[43m,\u001b[49m\u001b[43m \u001b[49m\u001b[38;5;124;43m'\u001b[39;49m\u001b[38;5;124;43mGSE141017_GPL17021\u001b[39;49m\u001b[38;5;124;43m'\u001b[39;49m\u001b[43m)\u001b[49m\n",
      "File \u001b[0;32m/usr/local/lib/python3.10/site-packages/polly/omixatlas.py:4396\u001b[0m, in \u001b[0;36mOmixAtlas.identify_cohorts\u001b[0;34m(self, repo_key, dataset_id)\u001b[0m\n\u001b[1;32m   4392\u001b[0m source_info \u001b[38;5;241m=\u001b[39m metadata\u001b[38;5;241m.\u001b[39mget(\u001b[38;5;124m\"\u001b[39m\u001b[38;5;124m_source\u001b[39m\u001b[38;5;124m\"\u001b[39m)\n\u001b[1;32m   4393\u001b[0m \u001b[38;5;28;01mif\u001b[39;00m (source_info[\u001b[38;5;124m\"\u001b[39m\u001b[38;5;124mdata_type\u001b[39m\u001b[38;5;124m\"\u001b[39m] \u001b[38;5;241m!=\u001b[39m \u001b[38;5;124m\"\u001b[39m\u001b[38;5;124mRaw Counts Transcriptomics\u001b[39m\u001b[38;5;124m\"\u001b[39m) \u001b[38;5;129;01mor\u001b[39;00m (\n\u001b[1;32m   4394\u001b[0m     source_info[\u001b[38;5;124m\"\u001b[39m\u001b[38;5;124mdataset_source\u001b[39m\u001b[38;5;124m\"\u001b[39m] \u001b[38;5;241m!=\u001b[39m \u001b[38;5;124m\"\u001b[39m\u001b[38;5;124mGEO\u001b[39m\u001b[38;5;124m\"\u001b[39m\n\u001b[1;32m   4395\u001b[0m ):\n\u001b[0;32m-> 4396\u001b[0m     \u001b[38;5;28;01mraise\u001b[39;00m paramException(\n\u001b[1;32m   4397\u001b[0m         title\u001b[38;5;241m=\u001b[39m\u001b[38;5;124m\"\u001b[39m\u001b[38;5;124mParam Error\u001b[39m\u001b[38;5;124m\"\u001b[39m,\n\u001b[1;32m   4398\u001b[0m         detail\u001b[38;5;241m=\u001b[39m\u001b[38;5;124m\"\u001b[39m\u001b[38;5;124mOnly Bulk RNA Seq datasets that are from GEO are supported\u001b[39m\u001b[38;5;124m\"\u001b[39m,\n\u001b[1;32m   4399\u001b[0m     )\n\u001b[1;32m   4401\u001b[0m \u001b[38;5;66;03m# Get sample level metadata\u001b[39;00m\n\u001b[1;32m   4402\u001b[0m col_metadata \u001b[38;5;241m=\u001b[39m \u001b[38;5;28mself\u001b[39m\u001b[38;5;241m.\u001b[39mget_metadata(repo_key, dataset_id, \u001b[38;5;124m\"\u001b[39m\u001b[38;5;124msamples\u001b[39m\u001b[38;5;124m\"\u001b[39m)\n",
      "\u001b[0;31mparamException\u001b[0m: paramException (parameter error): Only Bulk RNA Seq datasets that are from GEO are supported"
     ]
    }
   ],
   "source": [
    "omixatlas.identify_cohorts('single_cell_rnaseq_omixatlas', 'GSE141017_GPL17021')"
   ]
  },
  {
   "cell_type": "code",
   "execution_count": null,
   "metadata": {},
   "outputs": [],
   "source": []
  }
 ],
 "metadata": {
  "kernelspec": {
   "display_name": "Python 3 (ipykernel)",
   "language": "python",
   "name": "python3"
  },
  "language_info": {
   "codemirror_mode": {
    "name": "ipython",
    "version": 3
   },
   "file_extension": ".py",
   "mimetype": "text/x-python",
   "name": "python",
   "nbconvert_exporter": "python",
   "pygments_lexer": "ipython3",
   "version": "3.10.2"
  }
 },
 "nbformat": 4,
 "nbformat_minor": 2
}
