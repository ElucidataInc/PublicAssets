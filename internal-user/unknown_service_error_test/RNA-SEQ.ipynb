{
  "cells": [
    {
      "cell_type": "markdown",
      "metadata": {
        "colab_type": "text",
        "id": "view-in-github"
      },
      "source": [
        "<a href=\"https://testpolly.elucidata.io/manage/workspaces?action=open_polly_notebook&source=github&path=path_place_holder&kernel=elucidata/RNA-Seq Downstream 2.0&machine=medium\" target=\"_parent\"><img src=\"https://elucidatainc.github.io/PublicAssets/open_polly.svg\" alt=\"Open in Polly\"/></a>\n"
      ]
    },
    {
      "cell_type": "markdown",
      "metadata": {
        "kernel": "SoS"
      },
      "source": [
        "# Welcome to Pollyglot Notebook."
      ]
    },
    {
      "cell_type": "code",
      "execution_count": 7,
      "metadata": {
        "kernel": "Pollyglot"
      },
      "outputs": [
        {
          "name": "stdout",
          "output_type": "stream",
          "text": [
            "Collecting polly-python==1.1.0-base-url-auth-omixatlas\n",
            "  Downloading https://elucidatainc.github.io/PublicAssets/builds/polly-python/tests/testpolly/polly_python-1.1.0_base_url_auth_omixatlas-py3-none-any.whl (156 kB)\n",
            "\u001b[K     |████████████████████████████████| 156 kB 17.8 MB/s eta 0:00:01\n",
            "\u001b[?25hRequirement already satisfied: cloudpathlib>=0.15.0 in /usr/local/lib/python3.10/site-packages (from polly-python==1.1.0-base-url-auth-omixatlas) (0.17.0)\n",
            "Requirement already satisfied: botocore>=1.27.0 in /usr/local/lib/python3.10/site-packages (from polly-python==1.1.0-base-url-auth-omixatlas) (1.27.9)\n",
            "Requirement already satisfied: requests==2.25.1 in /usr/local/lib/python3.10/site-packages (from polly-python==1.1.0-base-url-auth-omixatlas) (2.25.1)\n",
            "Requirement already satisfied: pandas>=1.3.5 in /usr/local/lib/python3.10/site-packages (from polly-python==1.1.0-base-url-auth-omixatlas) (1.3.5)\n",
            "Requirement already satisfied: retrying==1.3.4 in /usr/local/lib/python3.10/site-packages (from polly-python==1.1.0-base-url-auth-omixatlas) (1.3.4)\n",
            "Requirement already satisfied: joblib>=1.2.0 in /usr/local/lib/python3.10/site-packages (from polly-python==1.1.0-base-url-auth-omixatlas) (1.3.2)\n",
            "Requirement already satisfied: boto3>=1.24.0 in /usr/local/lib/python3.10/site-packages (from polly-python==1.1.0-base-url-auth-omixatlas) (1.24.9)\n",
            "Requirement already satisfied: Deprecated>=1.2.12 in /usr/local/lib/python3.10/site-packages (from polly-python==1.1.0-base-url-auth-omixatlas) (1.2.14)\n",
            "Collecting polly-validator==0.0.2\n",
            "  Downloading polly_validator-0.0.2-py3-none-any.whl (29 kB)\n",
            "Requirement already satisfied: elucidatacmapPy==3.3.4 in /usr/local/lib/python3.10/site-packages (from polly-python==1.1.0-base-url-auth-omixatlas) (3.3.4)\n",
            "Requirement already satisfied: datapane>=0.10.3 in /usr/local/lib/python3.10/site-packages (from polly-python==1.1.0-base-url-auth-omixatlas) (0.16.7)\n",
            "Requirement already satisfied: rst2txt==1.1.0 in /usr/local/lib/python3.10/site-packages (from polly-python==1.1.0-base-url-auth-omixatlas) (1.1.0)\n",
            "Requirement already satisfied: tqdm==4.65.0 in /usr/local/lib/python3.10/site-packages (from polly-python==1.1.0-base-url-auth-omixatlas) (4.65.0)\n",
            "Requirement already satisfied: mixpanel==4.10.0 in /usr/local/lib/python3.10/site-packages (from polly-python==1.1.0-base-url-auth-omixatlas) (4.10.0)\n",
            "Requirement already satisfied: cryptography<=38.0.0,>=37.0.1 in /usr/local/lib/python3.10/site-packages (from polly-python==1.1.0-base-url-auth-omixatlas) (38.0.0)\n",
            "Requirement already satisfied: pytest>=6.2.5 in /usr/local/lib/python3.10/site-packages (from polly-python==1.1.0-base-url-auth-omixatlas) (7.4.4)\n",
            "Requirement already satisfied: plotly>=5.0.0 in /usr/local/lib/python3.10/site-packages (from polly-python==1.1.0-base-url-auth-omixatlas) (5.8.2)\n",
            "Requirement already satisfied: pydantic==1.10.12 in /usr/local/lib/python3.10/site-packages (from polly-python==1.1.0-base-url-auth-omixatlas) (1.10.12)\n",
            "Requirement already satisfied: python-jose==3.3.0 in /usr/local/lib/python3.10/site-packages (from polly-python==1.1.0-base-url-auth-omixatlas) (3.3.0)\n",
            "Requirement already satisfied: six in /usr/local/lib/python3.10/site-packages (from elucidatacmapPy==3.3.4->polly-python==1.1.0-base-url-auth-omixatlas) (1.16.0)\n",
            "Requirement already satisfied: h5py>=2.6.0 in /usr/local/lib/python3.10/site-packages (from elucidatacmapPy==3.3.4->polly-python==1.1.0-base-url-auth-omixatlas) (3.7.0)\n",
            "Requirement already satisfied: numpy>=1.11.2 in /usr/local/lib/python3.10/site-packages (from elucidatacmapPy==3.3.4->polly-python==1.1.0-base-url-auth-omixatlas) (1.22.4)\n",
            "Requirement already satisfied: urllib3 in /usr/local/lib/python3.10/site-packages (from mixpanel==4.10.0->polly-python==1.1.0-base-url-auth-omixatlas) (1.26.9)\n",
            "Requirement already satisfied: appdirs==1.4.4 in /usr/local/lib/python3.10/site-packages (from polly-validator==0.0.2->polly-python==1.1.0-base-url-auth-omixatlas) (1.4.4)\n",
            "Collecting tabulate==0.8.10\n",
            "  Downloading tabulate-0.8.10-py3-none-any.whl (29 kB)\n",
            "Collecting pronto\n",
            "  Downloading pronto-2.5.5-py2.py3-none-any.whl (61 kB)\n",
            "\u001b[K     |████████████████████████████████| 61 kB 216 kB/s  eta 0:00:01\n",
            "\u001b[?25hCollecting rapidfuzz==2.1.1\n",
            "  Downloading rapidfuzz-2.1.1-cp310-cp310-manylinux_2_17_x86_64.manylinux2014_x86_64.whl (2.0 MB)\n",
            "\u001b[K     |████████████████████████████████| 2.0 MB 71.5 MB/s eta 0:00:01\n",
            "\u001b[?25hRequirement already satisfied: typing-extensions>=4.2.0 in /usr/local/lib/python3.10/site-packages (from pydantic==1.10.12->polly-python==1.1.0-base-url-auth-omixatlas) (4.9.0)\n",
            "Requirement already satisfied: pyasn1 in /usr/local/lib/python3.10/site-packages (from python-jose==3.3.0->polly-python==1.1.0-base-url-auth-omixatlas) (0.4.8)\n",
            "Requirement already satisfied: ecdsa!=0.15 in /usr/local/lib/python3.10/site-packages (from python-jose==3.3.0->polly-python==1.1.0-base-url-auth-omixatlas) (0.18.0)\n",
            "Requirement already satisfied: rsa in /usr/local/lib/python3.10/site-packages (from python-jose==3.3.0->polly-python==1.1.0-base-url-auth-omixatlas) (4.7.2)\n",
            "Collecting jarowinkler<1.1.0,>=1.0.3\n",
            "  Downloading jarowinkler-1.0.5-cp310-cp310-manylinux_2_17_x86_64.manylinux2014_x86_64.whl (103 kB)\n",
            "\u001b[K     |████████████████████████████████| 103 kB 60.4 MB/s eta 0:00:01\n",
            "\u001b[?25hRequirement already satisfied: idna<3,>=2.5 in /usr/local/lib/python3.10/site-packages (from requests==2.25.1->polly-python==1.1.0-base-url-auth-omixatlas) (2.10)\n",
            "Requirement already satisfied: certifi>=2017.4.17 in /usr/local/lib/python3.10/site-packages (from requests==2.25.1->polly-python==1.1.0-base-url-auth-omixatlas) (2021.5.30)\n",
            "Requirement already satisfied: chardet<5,>=3.0.2 in /usr/local/lib/python3.10/site-packages (from requests==2.25.1->polly-python==1.1.0-base-url-auth-omixatlas) (4.0.0)\n",
            "Requirement already satisfied: pygments in /usr/local/lib/python3.10/site-packages (from rst2txt==1.1.0->polly-python==1.1.0-base-url-auth-omixatlas) (2.10.0)\n",
            "Requirement already satisfied: docutils>=0.11 in /usr/local/lib/python3.10/site-packages (from rst2txt==1.1.0->polly-python==1.1.0-base-url-auth-omixatlas) (0.15.2)\n",
            "Requirement already satisfied: jmespath<2.0.0,>=0.7.1 in /usr/local/lib/python3.10/site-packages (from boto3>=1.24.0->polly-python==1.1.0-base-url-auth-omixatlas) (0.10.0)\n",
            "Requirement already satisfied: s3transfer<0.7.0,>=0.6.0 in /usr/local/lib/python3.10/site-packages (from boto3>=1.24.0->polly-python==1.1.0-base-url-auth-omixatlas) (0.6.0)\n",
            "Requirement already satisfied: python-dateutil<3.0.0,>=2.1 in /usr/local/lib/python3.10/site-packages (from botocore>=1.27.0->polly-python==1.1.0-base-url-auth-omixatlas) (2.8.0)\n",
            "Requirement already satisfied: cffi>=1.12 in /usr/local/lib/python3.10/site-packages (from cryptography<=38.0.0,>=37.0.1->polly-python==1.1.0-base-url-auth-omixatlas) (1.15.0)\n",
            "Requirement already satisfied: pycparser in /usr/local/lib/python3.10/site-packages (from cffi>=1.12->cryptography<=38.0.0,>=37.0.1->polly-python==1.1.0-base-url-auth-omixatlas) (2.21)\n",
            "Requirement already satisfied: lxml<5.0.0,>=4.0.0 in /usr/local/lib/python3.10/site-packages (from datapane>=0.10.3->polly-python==1.1.0-base-url-auth-omixatlas) (4.9.4)\n",
            "Requirement already satisfied: packaging<24.0.0,>=21.0.0 in /usr/local/lib/python3.10/site-packages (from datapane>=0.10.3->polly-python==1.1.0-base-url-auth-omixatlas) (21.3)\n",
            "Requirement already satisfied: vega-datasets<1.0.0,>=0.9.0 in /usr/local/lib/python3.10/site-packages (from datapane>=0.10.3->polly-python==1.1.0-base-url-auth-omixatlas) (0.9.0)\n",
            "Requirement already satisfied: ipynbname>=2021.3.2 in /usr/local/lib/python3.10/site-packages (from datapane>=0.10.3->polly-python==1.1.0-base-url-auth-omixatlas) (2023.2.0.0)\n",
            "Requirement already satisfied: click-spinner<0.2.0,>=0.1.8 in /usr/local/lib/python3.10/site-packages (from datapane>=0.10.3->polly-python==1.1.0-base-url-auth-omixatlas) (0.1.10)\n",
            "Requirement already satisfied: cheroot<10.0.0,>=9.0.0 in /usr/local/lib/python3.10/site-packages (from datapane>=0.10.3->polly-python==1.1.0-base-url-auth-omixatlas) (9.0.0)\n",
            "Requirement already satisfied: nbconvert>=5.6.1 in /usr/local/lib/python3.10/site-packages (from datapane>=0.10.3->polly-python==1.1.0-base-url-auth-omixatlas) (6.3.0)\n"
          ]
        },
        {
          "name": "stdout",
          "output_type": "stream",
          "text": [
            "Requirement already satisfied: datacommons<2.0.0,>=1.4.3 in /usr/local/lib/python3.10/site-packages (from datapane>=0.10.3->polly-python==1.1.0-base-url-auth-omixatlas) (1.4.3)\n",
            "Requirement already satisfied: dacite<2.0.0,>=1.0.2 in /usr/local/lib/python3.10/site-packages (from datapane>=0.10.3->polly-python==1.1.0-base-url-auth-omixatlas) (1.8.1)\n",
            "Requirement already satisfied: colorlog<7.0.0,>=4.1.0 in /usr/local/lib/python3.10/site-packages (from datapane>=0.10.3->polly-python==1.1.0-base-url-auth-omixatlas) (6.8.0)\n",
            "Requirement already satisfied: pyarrow<11.0.0,>=6.0.0 in /usr/local/lib/python3.10/site-packages (from datapane>=0.10.3->polly-python==1.1.0-base-url-auth-omixatlas) (10.0.1)\n",
            "Requirement already satisfied: dulwich<0.22.0,>=0.20.0 in /usr/local/lib/python3.10/site-packages (from datapane>=0.10.3->polly-python==1.1.0-base-url-auth-omixatlas) (0.21.7)\n",
            "Requirement already satisfied: requests-toolbelt<2.0.0,>=0.9.1 in /usr/local/lib/python3.10/site-packages (from datapane>=0.10.3->polly-python==1.1.0-base-url-auth-omixatlas) (1.0.0)\n",
            "Requirement already satisfied: datacommons-pandas<0.0.4,>=0.0.3 in /usr/local/lib/python3.10/site-packages (from datapane>=0.10.3->polly-python==1.1.0-base-url-auth-omixatlas) (0.0.3)\n",
            "Requirement already satisfied: glom<24.0.0,>=22.1.0 in /usr/local/lib/python3.10/site-packages (from datapane>=0.10.3->polly-python==1.1.0-base-url-auth-omixatlas) (23.5.0)\n",
            "Requirement already satisfied: click<9.0.0,>=7.1.0 in /usr/local/lib/python3.10/site-packages (from datapane>=0.10.3->polly-python==1.1.0-base-url-auth-omixatlas) (8.0.4)\n",
            "Requirement already satisfied: altair<5.0.0,>=4.0.0 in /usr/local/lib/python3.10/site-packages (from datapane>=0.10.3->polly-python==1.1.0-base-url-auth-omixatlas) (4.2.2)\n",
            "Requirement already satisfied: micawber>=0.5.0 in /usr/local/lib/python3.10/site-packages (from datapane>=0.10.3->polly-python==1.1.0-base-url-auth-omixatlas) (0.5.5)\n",
            "Requirement already satisfied: dominate<3.0.0,>=2.4.0 in /usr/local/lib/python3.10/site-packages (from datapane>=0.10.3->polly-python==1.1.0-base-url-auth-omixatlas) (2.9.1)\n",
            "Requirement already satisfied: posthog<3.0.0,>=1.4.0 in /usr/local/lib/python3.10/site-packages (from datapane>=0.10.3->polly-python==1.1.0-base-url-auth-omixatlas) (2.5.0)\n",
            "Requirement already satisfied: PyYAML<7.0.0,>=5.4.0 in /usr/local/lib/python3.10/site-packages (from datapane>=0.10.3->polly-python==1.1.0-base-url-auth-omixatlas) (5.4.1)\n",
            "Requirement already satisfied: furl<3.0.0,>=2.0.0 in /usr/local/lib/python3.10/site-packages (from datapane>=0.10.3->polly-python==1.1.0-base-url-auth-omixatlas) (2.1.3)\n",
            "Requirement already satisfied: boltons<22.0.0,>=20.0.0 in /usr/local/lib/python3.10/site-packages (from datapane>=0.10.3->polly-python==1.1.0-base-url-auth-omixatlas) (21.0.0)\n",
            "Requirement already satisfied: multimethod<2.0,>=1.9 in /usr/local/lib/python3.10/site-packages (from datapane>=0.10.3->polly-python==1.1.0-base-url-auth-omixatlas) (1.10)\n",
            "Requirement already satisfied: jsonschema<5.0.0,>=3.2.0 in /usr/local/lib/python3.10/site-packages (from datapane>=0.10.3->polly-python==1.1.0-base-url-auth-omixatlas) (4.2.1)\n",
            "Requirement already satisfied: toolz<0.13.0,>=0.11.0 in /usr/local/lib/python3.10/site-packages (from datapane>=0.10.3->polly-python==1.1.0-base-url-auth-omixatlas) (0.12.0)\n",
            "Requirement already satisfied: importlib_resources<6.0.0,>=3.0.0 in /usr/local/lib/python3.10/site-packages (from datapane>=0.10.3->polly-python==1.1.0-base-url-auth-omixatlas) (5.13.0)\n",
            "Requirement already satisfied: pyngrok<6.0.0,>=5.2.1 in /usr/local/lib/python3.10/site-packages (from datapane>=0.10.3->polly-python==1.1.0-base-url-auth-omixatlas) (5.2.3)\n",
            "Requirement already satisfied: entrypoints in /usr/local/lib/python3.10/site-packages (from altair<5.0.0,>=4.0.0->datapane>=0.10.3->polly-python==1.1.0-base-url-auth-omixatlas) (0.3)\n",
            "Requirement already satisfied: jinja2 in /usr/local/lib/python3.10/site-packages (from altair<5.0.0,>=4.0.0->datapane>=0.10.3->polly-python==1.1.0-base-url-auth-omixatlas) (3.0.3)\n",
            "Requirement already satisfied: jaraco.functools in /usr/local/lib/python3.10/site-packages (from cheroot<10.0.0,>=9.0.0->datapane>=0.10.3->polly-python==1.1.0-base-url-auth-omixatlas) (4.0.0)\n",
            "Requirement already satisfied: more-itertools>=2.6 in /usr/local/lib/python3.10/site-packages (from cheroot<10.0.0,>=9.0.0->datapane>=0.10.3->polly-python==1.1.0-base-url-auth-omixatlas) (10.1.0)\n",
            "Requirement already satisfied: wrapt<2,>=1.10 in /usr/local/lib/python3.10/site-packages (from Deprecated>=1.2.12->polly-python==1.1.0-base-url-auth-omixatlas) (1.16.0)\n",
            "Requirement already satisfied: orderedmultidict>=1.0.1 in /usr/local/lib/python3.10/site-packages (from furl<3.0.0,>=2.0.0->datapane>=0.10.3->polly-python==1.1.0-base-url-auth-omixatlas) (1.0.1)\n",
            "Requirement already satisfied: face==20.1.1 in /usr/local/lib/python3.10/site-packages (from glom<24.0.0,>=22.1.0->datapane>=0.10.3->polly-python==1.1.0-base-url-auth-omixatlas) (20.1.1)\n",
            "Requirement already satisfied: attrs in /usr/local/lib/python3.10/site-packages (from glom<24.0.0,>=22.1.0->datapane>=0.10.3->polly-python==1.1.0-base-url-auth-omixatlas) (21.2.0)\n",
            "Requirement already satisfied: ipykernel in /usr/local/lib/python3.10/site-packages (from ipynbname>=2021.3.2->datapane>=0.10.3->polly-python==1.1.0-base-url-auth-omixatlas) (6.13.1)\n",
            "Requirement already satisfied: pyrsistent!=0.17.0,!=0.17.1,!=0.17.2,>=0.14.0 in /usr/local/lib/python3.10/site-packages (from jsonschema<5.0.0,>=3.2.0->datapane>=0.10.3->polly-python==1.1.0-base-url-auth-omixatlas) (0.18.0)\n",
            "Requirement already satisfied: nbformat>=4.4 in /usr/local/lib/python3.10/site-packages (from nbconvert>=5.6.1->datapane>=0.10.3->polly-python==1.1.0-base-url-auth-omixatlas) (5.1.3)\n",
            "Requirement already satisfied: defusedxml in /usr/local/lib/python3.10/site-packages (from nbconvert>=5.6.1->datapane>=0.10.3->polly-python==1.1.0-base-url-auth-omixatlas) (0.7.1)\n",
            "Requirement already satisfied: jupyterlab-pygments in /usr/local/lib/python3.10/site-packages (from nbconvert>=5.6.1->datapane>=0.10.3->polly-python==1.1.0-base-url-auth-omixatlas) (0.1.2)\n",
            "Requirement already satisfied: traitlets>=5.0 in /usr/local/lib/python3.10/site-packages (from nbconvert>=5.6.1->datapane>=0.10.3->polly-python==1.1.0-base-url-auth-omixatlas) (5.1.1)\n",
            "Requirement already satisfied: pandocfilters>=1.4.1 in /usr/local/lib/python3.10/site-packages (from nbconvert>=5.6.1->datapane>=0.10.3->polly-python==1.1.0-base-url-auth-omixatlas) (1.5.0)\n",
            "Requirement already satisfied: nbclient<0.6.0,>=0.5.0 in /usr/local/lib/python3.10/site-packages (from nbconvert>=5.6.1->datapane>=0.10.3->polly-python==1.1.0-base-url-auth-omixatlas) (0.5.13)\n",
            "Requirement already satisfied: bleach in /usr/local/lib/python3.10/site-packages (from nbconvert>=5.6.1->datapane>=0.10.3->polly-python==1.1.0-base-url-auth-omixatlas) (4.1.0)\n",
            "Requirement already satisfied: testpath in /usr/local/lib/python3.10/site-packages (from nbconvert>=5.6.1->datapane>=0.10.3->polly-python==1.1.0-base-url-auth-omixatlas) (0.5.0)\n",
            "Requirement already satisfied: mistune<2,>=0.8.1 in /usr/local/lib/python3.10/site-packages (from nbconvert>=5.6.1->datapane>=0.10.3->polly-python==1.1.0-base-url-auth-omixatlas) (0.8.4)\n",
            "Requirement already satisfied: jupyter-core in /usr/local/lib/python3.10/site-packages (from nbconvert>=5.6.1->datapane>=0.10.3->polly-python==1.1.0-base-url-auth-omixatlas) (4.9.1)\n",
            "Requirement already satisfied: MarkupSafe>=2.0 in /usr/local/lib/python3.10/site-packages (from jinja2->altair<5.0.0,>=4.0.0->datapane>=0.10.3->polly-python==1.1.0-base-url-auth-omixatlas) (2.0.1)\n",
            "Requirement already satisfied: nest-asyncio in /usr/local/lib/python3.10/site-packages (from nbclient<0.6.0,>=0.5.0->nbconvert>=5.6.1->datapane>=0.10.3->polly-python==1.1.0-base-url-auth-omixatlas) (1.5.4)\n",
            "Requirement already satisfied: jupyter-client>=6.1.5 in /usr/local/lib/python3.10/site-packages (from nbclient<0.6.0,>=0.5.0->nbconvert>=5.6.1->datapane>=0.10.3->polly-python==1.1.0-base-url-auth-omixatlas) (6.1.12)\n",
            "Requirement already satisfied: pyzmq>=13 in /usr/local/lib/python3.10/site-packages (from jupyter-client>=6.1.5->nbclient<0.6.0,>=0.5.0->nbconvert>=5.6.1->datapane>=0.10.3->polly-python==1.1.0-base-url-auth-omixatlas) (22.3.0)\n"
          ]
        },
        {
          "name": "stdout",
          "output_type": "stream",
          "text": [
            "Requirement already satisfied: tornado>=4.1 in /usr/local/lib/python3.10/site-packages (from jupyter-client>=6.1.5->nbclient<0.6.0,>=0.5.0->nbconvert>=5.6.1->datapane>=0.10.3->polly-python==1.1.0-base-url-auth-omixatlas) (6.1)\n",
            "Requirement already satisfied: ipython-genutils in /usr/local/lib/python3.10/site-packages (from nbformat>=4.4->nbconvert>=5.6.1->datapane>=0.10.3->polly-python==1.1.0-base-url-auth-omixatlas) (0.2.0)\n",
            "Requirement already satisfied: pyparsing!=3.0.5,>=2.0.2 in /usr/local/lib/python3.10/site-packages (from packaging<24.0.0,>=21.0.0->datapane>=0.10.3->polly-python==1.1.0-base-url-auth-omixatlas) (3.0.6)\n",
            "Requirement already satisfied: pytz>=2017.3 in /usr/local/lib/python3.10/site-packages (from pandas>=1.3.5->polly-python==1.1.0-base-url-auth-omixatlas) (2021.3)\n",
            "Requirement already satisfied: tenacity>=6.2.0 in /usr/local/lib/python3.10/site-packages (from plotly>=5.0.0->polly-python==1.1.0-base-url-auth-omixatlas) (8.0.1)\n",
            "Requirement already satisfied: monotonic>=1.5 in /usr/local/lib/python3.10/site-packages (from posthog<3.0.0,>=1.4.0->datapane>=0.10.3->polly-python==1.1.0-base-url-auth-omixatlas) (1.6)\n",
            "Requirement already satisfied: backoff>=1.10.0 in /usr/local/lib/python3.10/site-packages (from posthog<3.0.0,>=1.4.0->datapane>=0.10.3->polly-python==1.1.0-base-url-auth-omixatlas) (2.2.1)\n",
            "Requirement already satisfied: tomli>=1.0.0 in /usr/local/lib/python3.10/site-packages (from pytest>=6.2.5->polly-python==1.1.0-base-url-auth-omixatlas) (2.0.1)\n",
            "Requirement already satisfied: exceptiongroup>=1.0.0rc8 in /usr/local/lib/python3.10/site-packages (from pytest>=6.2.5->polly-python==1.1.0-base-url-auth-omixatlas) (1.2.0)\n",
            "Requirement already satisfied: pluggy<2.0,>=0.12 in /usr/local/lib/python3.10/site-packages (from pytest>=6.2.5->polly-python==1.1.0-base-url-auth-omixatlas) (1.3.0)\n",
            "Requirement already satisfied: iniconfig in /usr/local/lib/python3.10/site-packages (from pytest>=6.2.5->polly-python==1.1.0-base-url-auth-omixatlas) (2.0.0)\n",
            "Requirement already satisfied: webencodings in /usr/local/lib/python3.10/site-packages (from bleach->nbconvert>=5.6.1->datapane>=0.10.3->polly-python==1.1.0-base-url-auth-omixatlas) (0.5.1)\n",
            "Requirement already satisfied: ipython>=7.23.1 in /usr/local/lib/python3.10/site-packages (from ipykernel->ipynbname>=2021.3.2->datapane>=0.10.3->polly-python==1.1.0-base-url-auth-omixatlas) (8.2.0)\n",
            "Requirement already satisfied: debugpy>=1.0 in /usr/local/lib/python3.10/site-packages (from ipykernel->ipynbname>=2021.3.2->datapane>=0.10.3->polly-python==1.1.0-base-url-auth-omixatlas) (1.5.1)\n",
            "Requirement already satisfied: psutil in /usr/local/lib/python3.10/site-packages (from ipykernel->ipynbname>=2021.3.2->datapane>=0.10.3->polly-python==1.1.0-base-url-auth-omixatlas) (5.9.0)\n",
            "Requirement already satisfied: matplotlib-inline>=0.1 in /usr/local/lib/python3.10/site-packages (from ipykernel->ipynbname>=2021.3.2->datapane>=0.10.3->polly-python==1.1.0-base-url-auth-omixatlas) (0.1.3)\n",
            "Requirement already satisfied: stack-data in /usr/local/lib/python3.10/site-packages (from ipython>=7.23.1->ipykernel->ipynbname>=2021.3.2->datapane>=0.10.3->polly-python==1.1.0-base-url-auth-omixatlas) (0.2.0)\n",
            "Requirement already satisfied: pexpect>4.3 in /usr/local/lib/python3.10/site-packages (from ipython>=7.23.1->ipykernel->ipynbname>=2021.3.2->datapane>=0.10.3->polly-python==1.1.0-base-url-auth-omixatlas) (4.8.0)\n",
            "Requirement already satisfied: backcall in /usr/local/lib/python3.10/site-packages (from ipython>=7.23.1->ipykernel->ipynbname>=2021.3.2->datapane>=0.10.3->polly-python==1.1.0-base-url-auth-omixatlas) (0.2.0)\n",
            "Requirement already satisfied: pickleshare in /usr/local/lib/python3.10/site-packages (from ipython>=7.23.1->ipykernel->ipynbname>=2021.3.2->datapane>=0.10.3->polly-python==1.1.0-base-url-auth-omixatlas) (0.7.5)\n",
            "Requirement already satisfied: prompt-toolkit!=3.0.0,!=3.0.1,<3.1.0,>=2.0.0 in /usr/local/lib/python3.10/site-packages (from ipython>=7.23.1->ipykernel->ipynbname>=2021.3.2->datapane>=0.10.3->polly-python==1.1.0-base-url-auth-omixatlas) (3.0.22)\n",
            "Requirement already satisfied: decorator in /usr/local/lib/python3.10/site-packages (from ipython>=7.23.1->ipykernel->ipynbname>=2021.3.2->datapane>=0.10.3->polly-python==1.1.0-base-url-auth-omixatlas) (5.1.0)\n",
            "Requirement already satisfied: setuptools>=18.5 in /usr/local/lib/python3.10/site-packages (from ipython>=7.23.1->ipykernel->ipynbname>=2021.3.2->datapane>=0.10.3->polly-python==1.1.0-base-url-auth-omixatlas) (58.1.0)\n",
            "Requirement already satisfied: jedi>=0.16 in /usr/local/lib/python3.10/site-packages (from ipython>=7.23.1->ipykernel->ipynbname>=2021.3.2->datapane>=0.10.3->polly-python==1.1.0-base-url-auth-omixatlas) (0.18.1)\n",
            "Requirement already satisfied: parso<0.9.0,>=0.8.0 in /usr/local/lib/python3.10/site-packages (from jedi>=0.16->ipython>=7.23.1->ipykernel->ipynbname>=2021.3.2->datapane>=0.10.3->polly-python==1.1.0-base-url-auth-omixatlas) (0.8.2)\n",
            "Requirement already satisfied: ptyprocess>=0.5 in /usr/local/lib/python3.10/site-packages (from pexpect>4.3->ipython>=7.23.1->ipykernel->ipynbname>=2021.3.2->datapane>=0.10.3->polly-python==1.1.0-base-url-auth-omixatlas) (0.7.0)\n",
            "Requirement already satisfied: wcwidth in /usr/local/lib/python3.10/site-packages (from prompt-toolkit!=3.0.0,!=3.0.1,<3.1.0,>=2.0.0->ipython>=7.23.1->ipykernel->ipynbname>=2021.3.2->datapane>=0.10.3->polly-python==1.1.0-base-url-auth-omixatlas) (0.2.5)\n",
            "Collecting pronto\n",
            "  Downloading pronto-2.5.4-py2.py3-none-any.whl (61 kB)\n",
            "\u001b[K     |████████████████████████████████| 61 kB 15.0 MB/s eta 0:00:01\n",
            "\u001b[?25h  Downloading pronto-2.5.3-py2.py3-none-any.whl (61 kB)\n",
            "\u001b[K     |████████████████████████████████| 61 kB 16.1 MB/s eta 0:00:01\n",
            "\u001b[?25h  Downloading pronto-2.5.2-py2.py3-none-any.whl (61 kB)\n",
            "\u001b[K     |████████████████████████████████| 61 kB 15.7 MB/s eta 0:00:01\n",
            "\u001b[?25h  Downloading pronto-2.5.1-py2.py3-none-any.whl (61 kB)\n",
            "\u001b[K     |████████████████████████████████| 61 kB 15.0 MB/s eta 0:00:01\n",
            "\u001b[?25hRequirement already satisfied: networkx~=2.3 in /usr/local/lib/python3.10/site-packages (from pronto->polly-validator==0.0.2->polly-python==1.1.0-base-url-auth-omixatlas) (2.7.1)\n",
            "Collecting fastobo~=0.12.1\n",
            "  Downloading fastobo-0.12.3-cp310-cp310-manylinux_2_17_x86_64.manylinux2014_x86_64.whl (2.0 MB)\n",
            "\u001b[K     |████████████████████████████████| 2.0 MB 65.4 MB/s eta 0:00:01\n",
            "\u001b[?25hRequirement already satisfied: asttokens in /usr/local/lib/python3.10/site-packages (from stack-data->ipython>=7.23.1->ipykernel->ipynbname>=2021.3.2->datapane>=0.10.3->polly-python==1.1.0-base-url-auth-omixatlas) (2.0.5)\n",
            "Requirement already satisfied: pure-eval in /usr/local/lib/python3.10/site-packages (from stack-data->ipython>=7.23.1->ipykernel->ipynbname>=2021.3.2->datapane>=0.10.3->polly-python==1.1.0-base-url-auth-omixatlas) (0.2.2)\n",
            "Requirement already satisfied: executing in /usr/local/lib/python3.10/site-packages (from stack-data->ipython>=7.23.1->ipykernel->ipynbname>=2021.3.2->datapane>=0.10.3->polly-python==1.1.0-base-url-auth-omixatlas) (0.8.3)\n",
            "Installing collected packages: jarowinkler, fastobo, tabulate, rapidfuzz, pronto, polly-validator, polly-python\n",
            "  Attempting uninstall: tabulate\n",
            "    Found existing installation: tabulate 0.8.9\n",
            "    Uninstalling tabulate-0.8.9:\n",
            "      Successfully uninstalled tabulate-0.8.9\n",
            "  Attempting uninstall: polly-python\n",
            "    Found existing installation: polly-python 1.2.0\n",
            "    Uninstalling polly-python-1.2.0:\n",
            "      Successfully uninstalled polly-python-1.2.0\n",
            "Successfully installed fastobo-0.12.3 jarowinkler-1.0.5 polly-python-1.1.0 polly-validator-0.0.2 pronto-2.5.1 rapidfuzz-2.1.1 tabulate-0.8.10\n",
            "\u001b[33mWARNING: Running pip as the 'root' user can result in broken permissions and conflicting behaviour with the system package manager. It is recommended to use a virtual environment instead: https://pip.pypa.io/warnings/venv\u001b[0m\n",
            "\u001b[33mWARNING: You are using pip version 21.2.4; however, version 23.3.2 is available.\n",
            "You should consider upgrading via the '/usr/local/bin/python3.10 -m pip install --upgrade pip' command.\u001b[0m\n"
          ]
        }
      ],
      "source": [
        "!sudo pip3 install https://elucidatainc.github.io/PublicAssets/builds/polly-python/tests/testpolly/polly_python-1.1.0_base_url_auth_omixatlas-py3-none-any.whl"
      ]
    },
    {
      "cell_type": "code",
      "execution_count": 8,
      "metadata": {
        "kernel": "Pollyglot"
      },
      "outputs": [],
      "source": [
        "import os\n",
        "from polly.auth import Polly\n",
        "AUTH_TOKEN=(\"OTZlNGZjNjA1ZDo6N2U0Zjg5NDM4MzI1ZjA0Mzk0NDQwNGFlZDhiZmRmODNmOTE3OTk4YQ==\") # Obtain authentication tokens\n",
        "Polly.auth(AUTH_TOKEN, env = \"polly\")\n",
        "# AUTH_TOKEN=(\"ZjZkNmViMWU3Njo6NzFiNjc0Mjg3ODQ0YzBhOWFiMWU0ZGE5ZTI5ZjhmOTAyMmQ3ZDVhNQ==\") # Obtain authentication tokens\n",
        "# Polly.auth(AUTH_TOKEN, env = \"testpolly\")\n",
        "from polly.omixatlas import OmixAtlas\n",
        "omixatlas = OmixAtlas()"
      ]
    },
    {
      "cell_type": "code",
      "execution_count": 9,
      "metadata": {
        "kernel": "Pollyglot"
      },
      "outputs": [],
      "source": [
        "from polly.workspaces import Workspaces\n",
        "local_path = os.getcwd()\n",
        "w = Workspaces()\n",
        "# local_path = \"/\"\n",
        "w.download_from_workspaces(14732, \"polly://Imagess/class_diagram.drawio.png\", local_path)"
      ]
    },
    {
      "cell_type": "code",
      "execution_count": 10,
      "metadata": {
        "kernel": "Pollyglot"
      },
      "outputs": [],
      "source": [
        "w.upload_to_workspaces(\n",
        "    14732, \"/\", local_path+\"/class_diagram.drawio.png\"\n",
        ")"
      ]
    },
    {
      "cell_type": "code",
      "execution_count": 11,
      "metadata": {
        "kernel": "Pollyglot"
      },
      "outputs": [],
      "source": [
        "import os\n",
        "from polly.auth import Polly\n",
        "AUTH_TOKEN=(\"ZjZkNmViMWU3Njo6NzFiNjc0Mjg3ODQ0YzBhOWFiMWU0ZGE5ZTI5ZjhmOTAyMmQ3ZDVhNQ==\") # Obtain authentication tokens\n",
        "Polly.auth(AUTH_TOKEN, env = \"testpolly\")\n",
        "from polly.omixatlas import OmixAtlas\n",
        "omixatlas = OmixAtlas()"
      ]
    },
    {
      "cell_type": "code",
      "execution_count": 12,
      "metadata": {
        "kernel": "Pollyglot"
      },
      "outputs": [
        {
          "data": {
            "text/html": [
              "<div>\n",
              "<style scoped>\n",
              "    .dataframe tbody tr th:only-of-type {\n",
              "        vertical-align: middle;\n",
              "    }\n",
              "\n",
              "    .dataframe tbody tr th {\n",
              "        vertical-align: top;\n",
              "    }\n",
              "\n",
              "    .dataframe thead th {\n",
              "        text-align: right;\n",
              "    }\n",
              "</style>\n",
              "<table border=\"1\" class=\"dataframe\">\n",
              "  <thead>\n",
              "    <tr style=\"text-align: right;\">\n",
              "      <th></th>\n",
              "      <th>Added_by</th>\n",
              "      <th>Added_time</th>\n",
              "      <th>URL</th>\n",
              "      <th>Report_id</th>\n",
              "    </tr>\n",
              "  </thead>\n",
              "  <tbody>\n",
              "    <tr>\n",
              "      <th>0</th>\n",
              "      <td>mayank.saurabh@elucidata.io</td>\n",
              "      <td>26/12/2023 10:24:40</td>\n",
              "      <td>https://testpolly.elucidata.io/manage/restricted/file?id=14857&amp;path=%2Fprojects%2F14857%2Ffiles%2Fclass_diagram.drawio.png</td>\n",
              "      <td>ccc0b291-6ffc-46c9-88c0-e43ca47d1f3e</td>\n",
              "    </tr>\n",
              "  </tbody>\n",
              "</table>\n",
              "</div>"
            ],
            "text/plain": [
              "                      Added_by  ...                             Report_id\n",
              "0  mayank.saurabh@elucidata.io  ...  ccc0b291-6ffc-46c9-88c0-e43ca47d1f3e\n",
              "\n",
              "[1 rows x 4 columns]"
            ]
          },
          "execution_count": 12,
          "metadata": {},
          "output_type": "execute_result"
        }
      ],
      "source": [
        "omixatlas.fetch_linked_reports(\"1673847977346\",\"GSE54747_GPL6244\")"
      ]
    },
    {
      "cell_type": "code",
      "execution_count": null,
      "metadata": {
        "kernel": "Pollyglot"
      },
      "outputs": [],
      "source": []
    }
  ],
  "metadata": {
    "kernelspec": {
      "display_name": "Pollyglot",
      "language": "sos",
      "name": "sos"
    },
    "language_info": {
      "codemirror_mode": "sos",
      "file_extension": ".sos",
      "mimetype": "text/x-sos",
      "name": "sos",
      "nbconvert_exporter": "sos_notebook.converter.SoS_Exporter",
      "pygments_lexer": "sos"
    },
    "sos": {
      "kernels": [
        [
          "Pollyglot",
          "sos",
          "",
          "",
          "sos"
        ]
      ],
      "panel": {
        "displayed": true,
        "height": 0
      },
      "version": "1.0.0"
    }
  },
  "nbformat": 4,
  "nbformat_minor": 2
}