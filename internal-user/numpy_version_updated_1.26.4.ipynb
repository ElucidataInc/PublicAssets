{
 "cells": [
  {
   "cell_type": "code",
   "execution_count": 2,
   "id": "3140d04c",
   "metadata": {},
   "outputs": [
    {
     "name": "stdout",
     "output_type": "stream",
     "text": [
      "Collecting polly-python==2.0.0\n",
      "  Downloading https://elucidatainc.github.io/PublicAssets/builds/polly-python/tests/polly/polly_python-2.0.0-py3-none-any.whl (164 kB)\n",
      "\u001b[2K     \u001b[90m━━━━━━━━━━━━━━━━━━━━━━━━━━━━━━━━━━━━━━━\u001b[0m \u001b[32m164.1/164.1 kB\u001b[0m \u001b[31m2.7 MB/s\u001b[0m eta \u001b[36m0:00:00\u001b[0ma \u001b[36m0:00:01\u001b[0m\n",
      "\u001b[?25hRequirement already satisfied: joblib>=1.2.0 in ./.environments/miniconda/envs/polly/lib/python3.10/site-packages (from polly-python==2.0.0) (1.3.2)\n",
      "Requirement already satisfied: pytest>=6.2.5 in ./.environments/miniconda/envs/polly/lib/python3.10/site-packages (from polly-python==2.0.0) (7.4.3)\n",
      "Requirement already satisfied: retrying==1.3.4 in ./.environments/miniconda/envs/polly/lib/python3.10/site-packages (from polly-python==2.0.0) (1.3.4)\n",
      "Requirement already satisfied: datapane>=0.10.3 in ./.environments/miniconda/envs/polly/lib/python3.10/site-packages (from polly-python==2.0.0) (0.16.7)\n",
      "Requirement already satisfied: pydantic==1.10.12 in ./.environments/miniconda/envs/polly/lib/python3.10/site-packages (from polly-python==2.0.0) (1.10.12)\n",
      "Requirement already satisfied: requests==2.28.1 in ./.environments/miniconda/envs/polly/lib/python3.10/site-packages (from polly-python==2.0.0) (2.28.1)\n",
      "Requirement already satisfied: rst2txt==1.1.0 in ./.environments/miniconda/envs/polly/lib/python3.10/site-packages (from polly-python==2.0.0) (1.1.0)\n",
      "Requirement already satisfied: botocore>=1.27.0 in ./.environments/miniconda/envs/polly/lib/python3.10/site-packages (from polly-python==2.0.0) (1.31.40)\n",
      "Requirement already satisfied: Deprecated>=1.2.12 in ./.environments/miniconda/envs/polly/lib/python3.10/site-packages (from polly-python==2.0.0) (1.2.14)\n",
      "Requirement already satisfied: plotly>=5.0.0 in ./.environments/miniconda/envs/polly/lib/python3.10/site-packages (from polly-python==2.0.0) (5.18.0)\n",
      "Requirement already satisfied: cloudpathlib>=0.15.0 in ./.environments/miniconda/envs/polly/lib/python3.10/site-packages (from polly-python==2.0.0) (0.16.0)\n",
      "Requirement already satisfied: tqdm==4.65.0 in ./.environments/miniconda/envs/polly/lib/python3.10/site-packages (from polly-python==2.0.0) (4.65.0)\n",
      "Requirement already satisfied: python-jose==3.3.0 in ./.environments/miniconda/envs/polly/lib/python3.10/site-packages (from polly-python==2.0.0) (3.3.0)\n",
      "Requirement already satisfied: cryptography<=38.0.0,>=37.0.1 in ./.environments/miniconda/envs/polly/lib/python3.10/site-packages (from polly-python==2.0.0) (38.0.0)\n",
      "Requirement already satisfied: numpy==1.26.4 in ./.environments/miniconda/envs/polly/lib/python3.10/site-packages (from polly-python==2.0.0) (1.26.4)\n",
      "Requirement already satisfied: pandas>=1.3.5 in ./.environments/miniconda/envs/polly/lib/python3.10/site-packages (from polly-python==2.0.0) (1.5.3)\n",
      "Requirement already satisfied: mixpanel==4.10.0 in ./.environments/miniconda/envs/polly/lib/python3.10/site-packages (from polly-python==2.0.0) (4.10.0)\n",
      "Requirement already satisfied: boto3>=1.24.0 in ./.environments/miniconda/envs/polly/lib/python3.10/site-packages (from polly-python==2.0.0) (1.28.40)\n",
      "Requirement already satisfied: elucidatacmapPy==3.3.4 in ./.environments/miniconda/envs/polly/lib/python3.10/site-packages (from polly-python==2.0.0) (3.3.4)\n",
      "Requirement already satisfied: six in ./.environments/miniconda/envs/polly/lib/python3.10/site-packages (from elucidatacmapPy==3.3.4->polly-python==2.0.0) (1.16.0)\n",
      "Requirement already satisfied: h5py>=2.6.0 in ./.environments/miniconda/envs/polly/lib/python3.10/site-packages (from elucidatacmapPy==3.3.4->polly-python==2.0.0) (3.10.0)\n",
      "Requirement already satisfied: urllib3 in ./.environments/miniconda/envs/polly/lib/python3.10/site-packages (from mixpanel==4.10.0->polly-python==2.0.0) (1.26.16)\n",
      "Requirement already satisfied: typing-extensions>=4.2.0 in ./.environments/miniconda/envs/polly/lib/python3.10/site-packages (from pydantic==1.10.12->polly-python==2.0.0) (4.7.1)\n",
      "Requirement already satisfied: pyasn1 in ./.environments/miniconda/envs/polly/lib/python3.10/site-packages (from python-jose==3.3.0->polly-python==2.0.0) (0.5.0)\n",
      "Requirement already satisfied: rsa in ./.environments/miniconda/envs/polly/lib/python3.10/site-packages (from python-jose==3.3.0->polly-python==2.0.0) (4.7.2)\n",
      "Requirement already satisfied: ecdsa!=0.15 in ./.environments/miniconda/envs/polly/lib/python3.10/site-packages (from python-jose==3.3.0->polly-python==2.0.0) (0.18.0)\n",
      "Requirement already satisfied: certifi>=2017.4.17 in ./.environments/miniconda/envs/polly/lib/python3.10/site-packages (from requests==2.28.1->polly-python==2.0.0) (2023.7.22)\n",
      "Requirement already satisfied: idna<4,>=2.5 in ./.environments/miniconda/envs/polly/lib/python3.10/site-packages (from requests==2.28.1->polly-python==2.0.0) (2.10)\n",
      "Requirement already satisfied: charset-normalizer<3,>=2 in ./.environments/miniconda/envs/polly/lib/python3.10/site-packages (from requests==2.28.1->polly-python==2.0.0) (2.1.1)\n",
      "Requirement already satisfied: pygments in ./.environments/miniconda/envs/polly/lib/python3.10/site-packages (from rst2txt==1.1.0->polly-python==2.0.0) (2.16.1)\n",
      "Requirement already satisfied: docutils>=0.11 in ./.environments/miniconda/envs/polly/lib/python3.10/site-packages (from rst2txt==1.1.0->polly-python==2.0.0) (0.16)\n",
      "Requirement already satisfied: s3transfer<0.7.0,>=0.6.0 in ./.environments/miniconda/envs/polly/lib/python3.10/site-packages (from boto3>=1.24.0->polly-python==2.0.0) (0.6.2)\n",
      "Requirement already satisfied: jmespath<2.0.0,>=0.7.1 in ./.environments/miniconda/envs/polly/lib/python3.10/site-packages (from boto3>=1.24.0->polly-python==2.0.0) (1.0.1)\n",
      "Requirement already satisfied: python-dateutil<3.0.0,>=2.1 in ./.environments/miniconda/envs/polly/lib/python3.10/site-packages (from botocore>=1.27.0->polly-python==2.0.0) (2.8.2)\n",
      "Requirement already satisfied: cffi>=1.12 in ./.environments/miniconda/envs/polly/lib/python3.10/site-packages (from cryptography<=38.0.0,>=37.0.1->polly-python==2.0.0) (1.15.1)\n",
      "Requirement already satisfied: colorlog<7.0.0,>=4.1.0 in ./.environments/miniconda/envs/polly/lib/python3.10/site-packages (from datapane>=0.10.3->polly-python==2.0.0) (6.7.0)\n",
      "Requirement already satisfied: vega-datasets<1.0.0,>=0.9.0 in ./.environments/miniconda/envs/polly/lib/python3.10/site-packages (from datapane>=0.10.3->polly-python==2.0.0) (0.9.0)\n",
      "Requirement already satisfied: tabulate<0.10.0,>=0.8.9 in ./.environments/miniconda/envs/polly/lib/python3.10/site-packages (from datapane>=0.10.3->polly-python==2.0.0) (0.8.10)\n",
      "Requirement already satisfied: requests-toolbelt<2.0.0,>=0.9.1 in ./.environments/miniconda/envs/polly/lib/python3.10/site-packages (from datapane>=0.10.3->polly-python==2.0.0) (1.0.0)\n",
      "Requirement already satisfied: chardet<6.0.0,>=4.0.0 in ./.environments/miniconda/envs/polly/lib/python3.10/site-packages (from datapane>=0.10.3->polly-python==2.0.0) (4.0.0)\n",
      "Requirement already satisfied: importlib_resources<6.0.0,>=3.0.0 in ./.environments/miniconda/envs/polly/lib/python3.10/site-packages (from datapane>=0.10.3->polly-python==2.0.0) (5.13.0)\n",
      "Requirement already satisfied: datacommons<2.0.0,>=1.4.3 in ./.environments/miniconda/envs/polly/lib/python3.10/site-packages (from datapane>=0.10.3->polly-python==2.0.0) (1.4.3)\n",
      "Requirement already satisfied: lxml<5.0.0,>=4.0.0 in ./.environments/miniconda/envs/polly/lib/python3.10/site-packages (from datapane>=0.10.3->polly-python==2.0.0) (4.9.3)\n",
      "Requirement already satisfied: toolz<0.13.0,>=0.11.0 in ./.environments/miniconda/envs/polly/lib/python3.10/site-packages (from datapane>=0.10.3->polly-python==2.0.0) (0.12.0)\n",
      "Requirement already satisfied: nbconvert>=5.6.1 in ./.environments/miniconda/envs/polly/lib/python3.10/site-packages (from datapane>=0.10.3->polly-python==2.0.0) (7.8.0)\n",
      "Requirement already satisfied: boltons<22.0.0,>=20.0.0 in ./.environments/miniconda/envs/polly/lib/python3.10/site-packages (from datapane>=0.10.3->polly-python==2.0.0) (21.0.0)\n",
      "Requirement already satisfied: pyngrok<6.0.0,>=5.2.1 in ./.environments/miniconda/envs/polly/lib/python3.10/site-packages (from datapane>=0.10.3->polly-python==2.0.0) (5.2.3)\n",
      "Requirement already satisfied: dulwich<0.22.0,>=0.20.0 in ./.environments/miniconda/envs/polly/lib/python3.10/site-packages (from datapane>=0.10.3->polly-python==2.0.0) (0.21.6)\n",
      "Requirement already satisfied: click<9.0.0,>=7.1.0 in ./.environments/miniconda/envs/polly/lib/python3.10/site-packages (from datapane>=0.10.3->polly-python==2.0.0) (8.1.7)\n",
      "Requirement already satisfied: micawber>=0.5.0 in ./.environments/miniconda/envs/polly/lib/python3.10/site-packages (from datapane>=0.10.3->polly-python==2.0.0) (0.5.5)\n",
      "Requirement already satisfied: multimethod<2.0,>=1.9 in ./.environments/miniconda/envs/polly/lib/python3.10/site-packages (from datapane>=0.10.3->polly-python==2.0.0) (1.10)\n",
      "Requirement already satisfied: altair<5.0.0,>=4.0.0 in ./.environments/miniconda/envs/polly/lib/python3.10/site-packages (from datapane>=0.10.3->polly-python==2.0.0) (4.2.2)\n",
      "Requirement already satisfied: glom<24.0.0,>=22.1.0 in ./.environments/miniconda/envs/polly/lib/python3.10/site-packages (from datapane>=0.10.3->polly-python==2.0.0) (23.4.0)\n",
      "Requirement already satisfied: datacommons-pandas<0.0.4,>=0.0.3 in ./.environments/miniconda/envs/polly/lib/python3.10/site-packages (from datapane>=0.10.3->polly-python==2.0.0) (0.0.3)\n",
      "Requirement already satisfied: cheroot<10.0.0,>=9.0.0 in ./.environments/miniconda/envs/polly/lib/python3.10/site-packages (from datapane>=0.10.3->polly-python==2.0.0) (9.0.0)\n",
      "Requirement already satisfied: furl<3.0.0,>=2.0.0 in ./.environments/miniconda/envs/polly/lib/python3.10/site-packages (from datapane>=0.10.3->polly-python==2.0.0) (2.1.3)\n",
      "Requirement already satisfied: ipynbname>=2021.3.2 in ./.environments/miniconda/envs/polly/lib/python3.10/site-packages (from datapane>=0.10.3->polly-python==2.0.0) (2023.2.0.0)\n",
      "Requirement already satisfied: PyYAML<7.0.0,>=5.4.0 in ./.environments/miniconda/envs/polly/lib/python3.10/site-packages (from datapane>=0.10.3->polly-python==2.0.0) (6.0.1)\n",
      "Requirement already satisfied: pyarrow<11.0.0,>=6.0.0 in ./.environments/miniconda/envs/polly/lib/python3.10/site-packages (from datapane>=0.10.3->polly-python==2.0.0) (10.0.1)\n",
      "Requirement already satisfied: dominate<3.0.0,>=2.4.0 in ./.environments/miniconda/envs/polly/lib/python3.10/site-packages (from datapane>=0.10.3->polly-python==2.0.0) (2.9.0)\n",
      "Requirement already satisfied: click-spinner<0.2.0,>=0.1.8 in ./.environments/miniconda/envs/polly/lib/python3.10/site-packages (from datapane>=0.10.3->polly-python==2.0.0) (0.1.10)\n",
      "Requirement already satisfied: jsonschema<5.0.0,>=3.2.0 in ./.environments/miniconda/envs/polly/lib/python3.10/site-packages (from datapane>=0.10.3->polly-python==2.0.0) (4.19.0)\n",
      "Requirement already satisfied: packaging<24.0.0,>=21.0.0 in ./.environments/miniconda/envs/polly/lib/python3.10/site-packages (from datapane>=0.10.3->polly-python==2.0.0) (23.1)\n",
      "Requirement already satisfied: dacite<2.0.0,>=1.0.2 in ./.environments/miniconda/envs/polly/lib/python3.10/site-packages (from datapane>=0.10.3->polly-python==2.0.0) (1.8.1)\n",
      "Requirement already satisfied: posthog<3.0.0,>=1.4.0 in ./.environments/miniconda/envs/polly/lib/python3.10/site-packages (from datapane>=0.10.3->polly-python==2.0.0) (2.5.0)\n",
      "Requirement already satisfied: wrapt<2,>=1.10 in ./.environments/miniconda/envs/polly/lib/python3.10/site-packages (from Deprecated>=1.2.12->polly-python==2.0.0) (1.16.0)\n",
      "Requirement already satisfied: pytz>=2020.1 in ./.environments/miniconda/envs/polly/lib/python3.10/site-packages (from pandas>=1.3.5->polly-python==2.0.0) (2023.3)\n",
      "Requirement already satisfied: tenacity>=6.2.0 in ./.environments/miniconda/envs/polly/lib/python3.10/site-packages (from plotly>=5.0.0->polly-python==2.0.0) (8.2.3)\n",
      "Requirement already satisfied: tomli>=1.0.0 in ./.environments/miniconda/envs/polly/lib/python3.10/site-packages (from pytest>=6.2.5->polly-python==2.0.0) (2.0.1)\n",
      "Requirement already satisfied: pluggy<2.0,>=0.12 in ./.environments/miniconda/envs/polly/lib/python3.10/site-packages (from pytest>=6.2.5->polly-python==2.0.0) (1.3.0)\n",
      "Requirement already satisfied: iniconfig in ./.environments/miniconda/envs/polly/lib/python3.10/site-packages (from pytest>=6.2.5->polly-python==2.0.0) (2.0.0)\n",
      "Requirement already satisfied: exceptiongroup>=1.0.0rc8 in ./.environments/miniconda/envs/polly/lib/python3.10/site-packages (from pytest>=6.2.5->polly-python==2.0.0) (1.1.3)\n",
      "Requirement already satisfied: entrypoints in ./.environments/miniconda/envs/polly/lib/python3.10/site-packages (from altair<5.0.0,>=4.0.0->datapane>=0.10.3->polly-python==2.0.0) (0.4)\n",
      "Requirement already satisfied: jinja2 in ./.environments/miniconda/envs/polly/lib/python3.10/site-packages (from altair<5.0.0,>=4.0.0->datapane>=0.10.3->polly-python==2.0.0) (3.1.2)\n",
      "Requirement already satisfied: pycparser in ./.environments/miniconda/envs/polly/lib/python3.10/site-packages (from cffi>=1.12->cryptography<=38.0.0,>=37.0.1->polly-python==2.0.0) (2.21)\n",
      "Requirement already satisfied: jaraco.functools in ./.environments/miniconda/envs/polly/lib/python3.10/site-packages (from cheroot<10.0.0,>=9.0.0->datapane>=0.10.3->polly-python==2.0.0) (4.0.0)\n",
      "Requirement already satisfied: more-itertools>=2.6 in ./.environments/miniconda/envs/polly/lib/python3.10/site-packages (from cheroot<10.0.0,>=9.0.0->datapane>=0.10.3->polly-python==2.0.0) (10.1.0)\n",
      "Requirement already satisfied: orderedmultidict>=1.0.1 in ./.environments/miniconda/envs/polly/lib/python3.10/site-packages (from furl<3.0.0,>=2.0.0->datapane>=0.10.3->polly-python==2.0.0) (1.0.1)\n",
      "Requirement already satisfied: attrs in ./.environments/miniconda/envs/polly/lib/python3.10/site-packages (from glom<24.0.0,>=22.1.0->datapane>=0.10.3->polly-python==2.0.0) (23.1.0)\n",
      "Requirement already satisfied: face==20.1.1 in ./.environments/miniconda/envs/polly/lib/python3.10/site-packages (from glom<24.0.0,>=22.1.0->datapane>=0.10.3->polly-python==2.0.0) (20.1.1)\n",
      "Requirement already satisfied: ipykernel in ./.environments/miniconda/envs/polly/lib/python3.10/site-packages (from ipynbname>=2021.3.2->datapane>=0.10.3->polly-python==2.0.0) (6.25.1)\n",
      "Requirement already satisfied: rpds-py>=0.7.1 in ./.environments/miniconda/envs/polly/lib/python3.10/site-packages (from jsonschema<5.0.0,>=3.2.0->datapane>=0.10.3->polly-python==2.0.0) (0.10.0)\n",
      "Requirement already satisfied: referencing>=0.28.4 in ./.environments/miniconda/envs/polly/lib/python3.10/site-packages (from jsonschema<5.0.0,>=3.2.0->datapane>=0.10.3->polly-python==2.0.0) (0.30.2)\n",
      "Requirement already satisfied: jsonschema-specifications>=2023.03.6 in ./.environments/miniconda/envs/polly/lib/python3.10/site-packages (from jsonschema<5.0.0,>=3.2.0->datapane>=0.10.3->polly-python==2.0.0) (2023.7.1)\n",
      "Requirement already satisfied: nbclient>=0.5.0 in ./.environments/miniconda/envs/polly/lib/python3.10/site-packages (from nbconvert>=5.6.1->datapane>=0.10.3->polly-python==2.0.0) (0.7.4)\n",
      "Requirement already satisfied: mistune<4,>=2.0.3 in ./.environments/miniconda/envs/polly/lib/python3.10/site-packages (from nbconvert>=5.6.1->datapane>=0.10.3->polly-python==2.0.0) (3.0.1)\n",
      "Requirement already satisfied: tinycss2 in ./.environments/miniconda/envs/polly/lib/python3.10/site-packages (from nbconvert>=5.6.1->datapane>=0.10.3->polly-python==2.0.0) (1.2.1)\n",
      "Requirement already satisfied: bleach!=5.0.0 in ./.environments/miniconda/envs/polly/lib/python3.10/site-packages (from nbconvert>=5.6.1->datapane>=0.10.3->polly-python==2.0.0) (6.0.0)\n",
      "Requirement already satisfied: nbformat>=5.7 in ./.environments/miniconda/envs/polly/lib/python3.10/site-packages (from nbconvert>=5.6.1->datapane>=0.10.3->polly-python==2.0.0) (5.9.2)\n",
      "Requirement already satisfied: jupyter-core>=4.7 in ./.environments/miniconda/envs/polly/lib/python3.10/site-packages (from nbconvert>=5.6.1->datapane>=0.10.3->polly-python==2.0.0) (5.3.1)\n",
      "Requirement already satisfied: jupyterlab-pygments in ./.environments/miniconda/envs/polly/lib/python3.10/site-packages (from nbconvert>=5.6.1->datapane>=0.10.3->polly-python==2.0.0) (0.2.2)\n",
      "Requirement already satisfied: pandocfilters>=1.4.1 in ./.environments/miniconda/envs/polly/lib/python3.10/site-packages (from nbconvert>=5.6.1->datapane>=0.10.3->polly-python==2.0.0) (1.5.0)\n",
      "Requirement already satisfied: beautifulsoup4 in ./.environments/miniconda/envs/polly/lib/python3.10/site-packages (from nbconvert>=5.6.1->datapane>=0.10.3->polly-python==2.0.0) (4.12.2)\n",
      "Requirement already satisfied: markupsafe>=2.0 in ./.environments/miniconda/envs/polly/lib/python3.10/site-packages (from nbconvert>=5.6.1->datapane>=0.10.3->polly-python==2.0.0) (2.1.3)\n",
      "Requirement already satisfied: defusedxml in ./.environments/miniconda/envs/polly/lib/python3.10/site-packages (from nbconvert>=5.6.1->datapane>=0.10.3->polly-python==2.0.0) (0.7.1)\n",
      "Requirement already satisfied: traitlets>=5.1 in ./.environments/miniconda/envs/polly/lib/python3.10/site-packages (from nbconvert>=5.6.1->datapane>=0.10.3->polly-python==2.0.0) (5.9.0)\n",
      "Requirement already satisfied: backoff>=1.10.0 in ./.environments/miniconda/envs/polly/lib/python3.10/site-packages (from posthog<3.0.0,>=1.4.0->datapane>=0.10.3->polly-python==2.0.0) (2.2.1)\n",
      "Requirement already satisfied: monotonic>=1.5 in ./.environments/miniconda/envs/polly/lib/python3.10/site-packages (from posthog<3.0.0,>=1.4.0->datapane>=0.10.3->polly-python==2.0.0) (1.6)\n",
      "Requirement already satisfied: webencodings in ./.environments/miniconda/envs/polly/lib/python3.10/site-packages (from bleach!=5.0.0->nbconvert>=5.6.1->datapane>=0.10.3->polly-python==2.0.0) (0.5.1)\n",
      "Requirement already satisfied: platformdirs>=2.5 in ./.environments/miniconda/envs/polly/lib/python3.10/site-packages (from jupyter-core>=4.7->nbconvert>=5.6.1->datapane>=0.10.3->polly-python==2.0.0) (3.10.0)\n",
      "Requirement already satisfied: jupyter-client>=6.1.12 in ./.environments/miniconda/envs/polly/lib/python3.10/site-packages (from nbclient>=0.5.0->nbconvert>=5.6.1->datapane>=0.10.3->polly-python==2.0.0) (8.3.1)\n",
      "Requirement already satisfied: fastjsonschema in ./.environments/miniconda/envs/polly/lib/python3.10/site-packages (from nbformat>=5.7->nbconvert>=5.6.1->datapane>=0.10.3->polly-python==2.0.0) (2.18.0)\n",
      "Requirement already satisfied: soupsieve>1.2 in ./.environments/miniconda/envs/polly/lib/python3.10/site-packages (from beautifulsoup4->nbconvert>=5.6.1->datapane>=0.10.3->polly-python==2.0.0) (2.5)\n",
      "Requirement already satisfied: nest-asyncio in ./.environments/miniconda/envs/polly/lib/python3.10/site-packages (from ipykernel->ipynbname>=2021.3.2->datapane>=0.10.3->polly-python==2.0.0) (1.5.7)\n",
      "Requirement already satisfied: tornado>=6.1 in ./.environments/miniconda/envs/polly/lib/python3.10/site-packages (from ipykernel->ipynbname>=2021.3.2->datapane>=0.10.3->polly-python==2.0.0) (6.3.3)\n",
      "Requirement already satisfied: debugpy>=1.6.5 in ./.environments/miniconda/envs/polly/lib/python3.10/site-packages (from ipykernel->ipynbname>=2021.3.2->datapane>=0.10.3->polly-python==2.0.0) (1.6.7.post1)\n",
      "Requirement already satisfied: pyzmq>=20 in ./.environments/miniconda/envs/polly/lib/python3.10/site-packages (from ipykernel->ipynbname>=2021.3.2->datapane>=0.10.3->polly-python==2.0.0) (25.1.1)\n",
      "Requirement already satisfied: psutil in ./.environments/miniconda/envs/polly/lib/python3.10/site-packages (from ipykernel->ipynbname>=2021.3.2->datapane>=0.10.3->polly-python==2.0.0) (5.9.5)\n",
      "Requirement already satisfied: comm>=0.1.1 in ./.environments/miniconda/envs/polly/lib/python3.10/site-packages (from ipykernel->ipynbname>=2021.3.2->datapane>=0.10.3->polly-python==2.0.0) (0.1.4)\n",
      "Requirement already satisfied: ipython>=7.23.1 in ./.environments/miniconda/envs/polly/lib/python3.10/site-packages (from ipykernel->ipynbname>=2021.3.2->datapane>=0.10.3->polly-python==2.0.0) (8.15.0)\n",
      "Requirement already satisfied: matplotlib-inline>=0.1 in ./.environments/miniconda/envs/polly/lib/python3.10/site-packages (from ipykernel->ipynbname>=2021.3.2->datapane>=0.10.3->polly-python==2.0.0) (0.1.6)\n",
      "Requirement already satisfied: stack-data in ./.environments/miniconda/envs/polly/lib/python3.10/site-packages (from ipython>=7.23.1->ipykernel->ipynbname>=2021.3.2->datapane>=0.10.3->polly-python==2.0.0) (0.6.2)\n",
      "Requirement already satisfied: backcall in ./.environments/miniconda/envs/polly/lib/python3.10/site-packages (from ipython>=7.23.1->ipykernel->ipynbname>=2021.3.2->datapane>=0.10.3->polly-python==2.0.0) (0.2.0)\n",
      "Requirement already satisfied: jedi>=0.16 in ./.environments/miniconda/envs/polly/lib/python3.10/site-packages (from ipython>=7.23.1->ipykernel->ipynbname>=2021.3.2->datapane>=0.10.3->polly-python==2.0.0) (0.19.0)\n",
      "Requirement already satisfied: prompt-toolkit!=3.0.37,<3.1.0,>=3.0.30 in ./.environments/miniconda/envs/polly/lib/python3.10/site-packages (from ipython>=7.23.1->ipykernel->ipynbname>=2021.3.2->datapane>=0.10.3->polly-python==2.0.0) (3.0.39)\n",
      "Requirement already satisfied: pickleshare in ./.environments/miniconda/envs/polly/lib/python3.10/site-packages (from ipython>=7.23.1->ipykernel->ipynbname>=2021.3.2->datapane>=0.10.3->polly-python==2.0.0) (0.7.5)\n",
      "Requirement already satisfied: pexpect>4.3 in ./.environments/miniconda/envs/polly/lib/python3.10/site-packages (from ipython>=7.23.1->ipykernel->ipynbname>=2021.3.2->datapane>=0.10.3->polly-python==2.0.0) (4.8.0)\n",
      "Requirement already satisfied: decorator in ./.environments/miniconda/envs/polly/lib/python3.10/site-packages (from ipython>=7.23.1->ipykernel->ipynbname>=2021.3.2->datapane>=0.10.3->polly-python==2.0.0) (5.1.1)\n",
      "Requirement already satisfied: parso<0.9.0,>=0.8.3 in ./.environments/miniconda/envs/polly/lib/python3.10/site-packages (from jedi>=0.16->ipython>=7.23.1->ipykernel->ipynbname>=2021.3.2->datapane>=0.10.3->polly-python==2.0.0) (0.8.3)\n",
      "Requirement already satisfied: ptyprocess>=0.5 in ./.environments/miniconda/envs/polly/lib/python3.10/site-packages (from pexpect>4.3->ipython>=7.23.1->ipykernel->ipynbname>=2021.3.2->datapane>=0.10.3->polly-python==2.0.0) (0.7.0)\n",
      "Requirement already satisfied: wcwidth in ./.environments/miniconda/envs/polly/lib/python3.10/site-packages (from prompt-toolkit!=3.0.37,<3.1.0,>=3.0.30->ipython>=7.23.1->ipykernel->ipynbname>=2021.3.2->datapane>=0.10.3->polly-python==2.0.0) (0.2.6)\n",
      "Requirement already satisfied: asttokens>=2.1.0 in ./.environments/miniconda/envs/polly/lib/python3.10/site-packages (from stack-data->ipython>=7.23.1->ipykernel->ipynbname>=2021.3.2->datapane>=0.10.3->polly-python==2.0.0) (2.3.0)\n",
      "Requirement already satisfied: pure-eval in ./.environments/miniconda/envs/polly/lib/python3.10/site-packages (from stack-data->ipython>=7.23.1->ipykernel->ipynbname>=2021.3.2->datapane>=0.10.3->polly-python==2.0.0) (0.2.2)\n",
      "Requirement already satisfied: executing>=1.2.0 in ./.environments/miniconda/envs/polly/lib/python3.10/site-packages (from stack-data->ipython>=7.23.1->ipykernel->ipynbname>=2021.3.2->datapane>=0.10.3->polly-python==2.0.0) (1.2.0)\n",
      "Note: you may need to restart the kernel to use updated packages.\n"
     ]
    }
   ],
   "source": [
    "pip install https://elucidatainc.github.io/PublicAssets/builds/polly-python/tests/polly/polly_python-2.0.0-py3-none-any.whl"
   ]
  },
  {
   "cell_type": "code",
   "execution_count": 1,
   "id": "0bb084e6",
   "metadata": {},
   "outputs": [
    {
     "name": "stdout",
     "output_type": "stream",
     "text": [
      "Collecting polly-validator==0.0.2\n",
      "  Using cached https://elucidatainc.github.io/PublicAssets/builds/polly-python/tests/polly/polly_validator-0.0.2-py3-none-any.whl (31 kB)\n",
      "Requirement already satisfied: rapidfuzz==2.1.1 in ./.environments/miniconda/envs/polly/lib/python3.10/site-packages (from polly-validator==0.0.2) (2.1.1)\n",
      "Requirement already satisfied: numpy==1.26.4 in ./.environments/miniconda/envs/polly/lib/python3.10/site-packages (from polly-validator==0.0.2) (1.26.4)\n",
      "Requirement already satisfied: requests==2.28.1 in ./.environments/miniconda/envs/polly/lib/python3.10/site-packages (from polly-validator==0.0.2) (2.28.1)\n",
      "Requirement already satisfied: tabulate==0.8.10 in ./.environments/miniconda/envs/polly/lib/python3.10/site-packages (from polly-validator==0.0.2) (0.8.10)\n",
      "Requirement already satisfied: pandas in ./.environments/miniconda/envs/polly/lib/python3.10/site-packages (from polly-validator==0.0.2) (1.5.3)\n",
      "Requirement already satisfied: pronto in ./.environments/miniconda/envs/polly/lib/python3.10/site-packages (from polly-validator==0.0.2) (2.5.1)\n",
      "Requirement already satisfied: appdirs==1.4.4 in ./.environments/miniconda/envs/polly/lib/python3.10/site-packages (from polly-validator==0.0.2) (1.4.4)\n",
      "Requirement already satisfied: pydantic in ./.environments/miniconda/envs/polly/lib/python3.10/site-packages (from polly-validator==0.0.2) (1.10.12)\n",
      "Requirement already satisfied: jarowinkler<1.1.0,>=1.0.3 in ./.environments/miniconda/envs/polly/lib/python3.10/site-packages (from rapidfuzz==2.1.1->polly-validator==0.0.2) (1.0.5)\n",
      "Requirement already satisfied: charset-normalizer<3,>=2 in ./.environments/miniconda/envs/polly/lib/python3.10/site-packages (from requests==2.28.1->polly-validator==0.0.2) (2.1.1)\n",
      "Requirement already satisfied: certifi>=2017.4.17 in ./.environments/miniconda/envs/polly/lib/python3.10/site-packages (from requests==2.28.1->polly-validator==0.0.2) (2023.7.22)\n",
      "Requirement already satisfied: idna<4,>=2.5 in ./.environments/miniconda/envs/polly/lib/python3.10/site-packages (from requests==2.28.1->polly-validator==0.0.2) (2.10)\n",
      "Requirement already satisfied: urllib3<1.27,>=1.21.1 in ./.environments/miniconda/envs/polly/lib/python3.10/site-packages (from requests==2.28.1->polly-validator==0.0.2) (1.26.16)\n",
      "Requirement already satisfied: python-dateutil>=2.8.1 in ./.environments/miniconda/envs/polly/lib/python3.10/site-packages (from pandas->polly-validator==0.0.2) (2.8.2)\n",
      "Requirement already satisfied: pytz>=2020.1 in ./.environments/miniconda/envs/polly/lib/python3.10/site-packages (from pandas->polly-validator==0.0.2) (2023.3)\n",
      "Requirement already satisfied: chardet<5.0,>=3.0 in ./.environments/miniconda/envs/polly/lib/python3.10/site-packages (from pronto->polly-validator==0.0.2) (4.0.0)\n",
      "Requirement already satisfied: fastobo~=0.12.1 in ./.environments/miniconda/envs/polly/lib/python3.10/site-packages (from pronto->polly-validator==0.0.2) (0.12.2)\n",
      "Requirement already satisfied: networkx~=2.3 in ./.environments/miniconda/envs/polly/lib/python3.10/site-packages (from pronto->polly-validator==0.0.2) (2.8.8)\n",
      "Requirement already satisfied: typing-extensions>=4.2.0 in ./.environments/miniconda/envs/polly/lib/python3.10/site-packages (from pydantic->polly-validator==0.0.2) (4.7.1)\n",
      "Requirement already satisfied: six>=1.5 in ./.environments/miniconda/envs/polly/lib/python3.10/site-packages (from python-dateutil>=2.8.1->pandas->polly-validator==0.0.2) (1.16.0)\n",
      "Note: you may need to restart the kernel to use updated packages.\n"
     ]
    }
   ],
   "source": [
    "pip install https://elucidatainc.github.io/PublicAssets/builds/polly-python/tests/polly/polly_validator-0.0.2-py3-none-any.whl"
   ]
  },
  {
   "cell_type": "code",
   "execution_count": 3,
   "id": "b84d12c6",
   "metadata": {},
   "outputs": [],
   "source": [
    "import os\n",
    "from polly.auth import Polly\n",
    "from polly import analyze\n",
    "from polly import omixatlas\n",
    "# token = os.environ['POLLY_REFRESH_TOKEN']\n",
    "Polly.auth(\"\")\n",
    "analysis = analyze.Analyze()\n",
    "oa = omixatlas.OmixAtlas()\n"
   ]
  },
  {
   "cell_type": "code",
   "execution_count": 4,
   "id": "c3a49965",
   "metadata": {},
   "outputs": [
    {
     "name": "stdout",
     "output_type": "stream",
     "text": [
      "Cohort csv file created from the design formulae.\n"
     ]
    },
    {
     "name": "stderr",
     "output_type": "stream",
     "text": [
      "INFO:root:Upload successful on workspace-id=14732.\n"
     ]
    },
    {
     "name": "stdout",
     "output_type": "stream",
     "text": [
      "   Workspace ID                            Job ID\n",
      "0         14732  ea2cd5a29cdf4b6c9c39d2c9491632ef Meta-Analysis Job submitted. You may further use job_status() and job_logs().\n"
     ]
    }
   ],
   "source": [
    "repo = \"geo_transcriptomics_omixatlas\"\n",
    "designformula = {'GSE144269_GPL24676_raw' : \n",
    "                 [{'tumor_non_tumor':'non-tumor'}, {'tumor_non_tumor':'tumor'}],\n",
    "                'GSE114564_GPL11154_raw' : \n",
    "                [{'curated_disease':'[Normal]'}, {'curated_disease':'[Carcinoma, Hepatocellular]'}],\n",
    "                'GSE77314_GPL9052_raw' : \n",
    "                [{'curated_control':'0'}, {'curated_control':'1'}]\n",
    "                }\n",
    "ws_id= 14732\n",
    "analysis_name = 'test'\n",
    "samples_to_remove = ['GSM4284605','GSM4284619']\n",
    "\n",
    "analysis.run_meta_analysis(repo, ws_id, analysis_name, designformula, samples_to_remove)"
   ]
  },
  {
   "cell_type": "code",
   "execution_count": null,
   "id": "a34c1268",
   "metadata": {},
   "outputs": [],
   "source": []
  }
 ],
 "metadata": {
  "kernelspec": {
   "display_name": "Python 3",
   "language": "python",
   "name": "python3"
  },
  "language_info": {
   "codemirror_mode": {
    "name": "ipython",
    "version": 3
   },
   "file_extension": ".py",
   "mimetype": "text/x-python",
   "name": "python",
   "nbconvert_exporter": "python",
   "pygments_lexer": "ipython3",
   "version": "3.10.6"
  }
 },
 "nbformat": 4,
 "nbformat_minor": 5
}
