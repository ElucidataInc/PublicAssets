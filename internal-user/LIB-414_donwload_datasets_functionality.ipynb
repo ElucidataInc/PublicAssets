{
 "cells": [
  {
   "cell_type": "markdown",
   "metadata": {},
   "source": [
    "# Welcome to Polly Python3 Notebook."
   ]
  },
  {
   "cell_type": "code",
   "execution_count": 3,
   "metadata": {},
   "outputs": [
    {
     "name": "stdout",
     "output_type": "stream",
     "text": [
      "/bin/bash: warning: setlocale: LC_ALL: cannot change locale (en_US.UTF-8)\n",
      "Collecting polly-python==0.2.9-dowload-dataset-LIB414\n",
      "  Downloading https://elucidatainc.github.io/PublicAssets/builds/polly-python/tests/testpolly/polly_python-0.2.9_dowload_dataset_LIB414-py3-none-any.whl (123 kB)\n",
      "\u001b[K     |████████████████████████████████| 123 kB 25.5 MB/s eta 0:00:01\n",
      "\u001b[?25hRequirement already satisfied: tqdm in /usr/local/lib/python3.10/site-packages (from polly-python==0.2.9-dowload-dataset-LIB414) (4.64.1)\n",
      "Requirement already satisfied: rst2txt in /usr/local/lib/python3.10/site-packages (from polly-python==0.2.9-dowload-dataset-LIB414) (1.1.0)\n",
      "Requirement already satisfied: pydantic in /usr/local/lib/python3.10/site-packages (from polly-python==0.2.9-dowload-dataset-LIB414) (1.9.1)\n",
      "Requirement already satisfied: elucidatacloudpathlib==0.6.6 in /usr/local/lib/python3.10/site-packages (from polly-python==0.2.9-dowload-dataset-LIB414) (0.6.6)\n",
      "Requirement already satisfied: botocore>=1.20.73 in /usr/local/lib/python3.10/site-packages (from polly-python==0.2.9-dowload-dataset-LIB414) (1.24.19)\n",
      "Requirement already satisfied: elucidatacmapPy==3.3.4 in /usr/local/lib/python3.10/site-packages (from polly-python==0.2.9-dowload-dataset-LIB414) (3.3.4)\n",
      "Requirement already satisfied: chardet==4.0.0 in /usr/local/lib/python3.10/site-packages (from polly-python==0.2.9-dowload-dataset-LIB414) (4.0.0)\n",
      "Requirement already satisfied: certifi==2021.10.8 in /usr/local/lib/python3.10/site-packages (from polly-python==0.2.9-dowload-dataset-LIB414) (2021.10.8)\n",
      "Collecting mixpanel>=4.10.0\n",
      "  Downloading mixpanel-4.10.0-py2.py3-none-any.whl (8.9 kB)\n",
      "Requirement already satisfied: beautifulsoup4 in /usr/local/lib/python3.10/site-packages (from polly-python==0.2.9-dowload-dataset-LIB414) (4.11.2)\n",
      "Requirement already satisfied: python-dateutil in /usr/local/lib/python3.10/site-packages (from polly-python==0.2.9-dowload-dataset-LIB414) (2.8.1)\n",
      "Requirement already satisfied: requests==2.25.1 in /usr/local/lib/python3.10/site-packages (from polly-python==0.2.9-dowload-dataset-LIB414) (2.25.1)\n",
      "Requirement already satisfied: sqlparse in /usr/local/lib/python3.10/site-packages (from polly-python==0.2.9-dowload-dataset-LIB414) (0.4.3)\n",
      "Requirement already satisfied: Deprecated in /usr/local/lib/python3.10/site-packages (from polly-python==0.2.9-dowload-dataset-LIB414) (1.2.13)\n",
      "Requirement already satisfied: idna==2.10 in /usr/local/lib/python3.10/site-packages (from polly-python==0.2.9-dowload-dataset-LIB414) (2.10)\n",
      "Requirement already satisfied: joblib in /usr/local/lib/python3.10/site-packages (from polly-python==0.2.9-dowload-dataset-LIB414) (1.2.0)\n",
      "Requirement already satisfied: pandas in /usr/local/lib/python3.10/site-packages (from polly-python==0.2.9-dowload-dataset-LIB414) (1.4.1)\n",
      "Collecting cryptography>=38.0.1\n",
      "  Downloading cryptography-39.0.1-cp36-abi3-manylinux_2_28_x86_64.whl (4.2 MB)\n",
      "\u001b[K     |████████████████████████████████| 4.2 MB 30.9 MB/s eta 0:00:01\n",
      "\u001b[?25hRequirement already satisfied: retrying==1.3.3 in /usr/local/lib/python3.10/site-packages (from polly-python==0.2.9-dowload-dataset-LIB414) (1.3.3)\n",
      "Requirement already satisfied: boto3>=1.17.73 in /usr/local/lib/python3.10/site-packages (from polly-python==0.2.9-dowload-dataset-LIB414) (1.21.19)\n",
      "Requirement already satisfied: pytz==2021.1 in /usr/local/lib/python3.10/site-packages (from polly-python==0.2.9-dowload-dataset-LIB414) (2021.1)\n",
      "Requirement already satisfied: six==1.16.0 in /usr/local/lib/python3.10/site-packages (from polly-python==0.2.9-dowload-dataset-LIB414) (1.16.0)\n",
      "Requirement already satisfied: Cerberus==1.3.2 in /usr/local/lib/python3.10/site-packages (from polly-python==0.2.9-dowload-dataset-LIB414) (1.3.2)\n",
      "Requirement already satisfied: plotly in /usr/local/lib/python3.10/site-packages (from polly-python==0.2.9-dowload-dataset-LIB414) (5.13.0)\n",
      "Collecting polly-validator==0.0.1\n",
      "  Downloading polly_validator-0.0.1-py3-none-any.whl (29 kB)\n",
      "Requirement already satisfied: urllib3==1.26.6 in /usr/local/lib/python3.10/site-packages (from polly-python==0.2.9-dowload-dataset-LIB414) (1.26.6)\n",
      "Requirement already satisfied: postpy2==0.0.6 in /usr/local/lib/python3.10/site-packages (from polly-python==0.2.9-dowload-dataset-LIB414) (0.0.6)\n",
      "Requirement already satisfied: python-jose>=3.3.0 in /usr/local/lib/python3.10/site-packages (from polly-python==0.2.9-dowload-dataset-LIB414) (3.3.0)\n",
      "Requirement already satisfied: pytest in /usr/local/lib/python3.10/site-packages (from polly-python==0.2.9-dowload-dataset-LIB414) (7.2.1)\n",
      "Requirement already satisfied: python-magic==0.4.24 in /usr/local/lib/python3.10/site-packages (from polly-python==0.2.9-dowload-dataset-LIB414) (0.4.24)\n",
      "Requirement already satisfied: datapane in /usr/local/lib/python3.10/site-packages (from polly-python==0.2.9-dowload-dataset-LIB414) (0.15.6)\n",
      "Requirement already satisfied: setuptools in /usr/local/lib/python3.10/site-packages (from Cerberus==1.3.2->polly-python==0.2.9-dowload-dataset-LIB414) (58.1.0)\n",
      "Requirement already satisfied: numpy>=1.11.2 in /usr/local/lib/python3.10/site-packages (from elucidatacmapPy==3.3.4->polly-python==0.2.9-dowload-dataset-LIB414) (1.22.3)\n",
      "Requirement already satisfied: h5py>=2.6.0 in /usr/local/lib/python3.10/site-packages (from elucidatacmapPy==3.3.4->polly-python==0.2.9-dowload-dataset-LIB414) (3.8.0)\n",
      "Collecting appdirs==1.4.4\n",
      "  Downloading appdirs-1.4.4-py2.py3-none-any.whl (9.6 kB)\n",
      "Collecting rapidfuzz==2.1.1\n",
      "  Downloading rapidfuzz-2.1.1-cp310-cp310-manylinux_2_17_x86_64.manylinux2014_x86_64.whl (2.0 MB)\n",
      "\u001b[K     |████████████████████████████████| 2.0 MB 100.2 MB/s eta 0:00:01\n",
      "\u001b[?25hRequirement already satisfied: tabulate==0.8.10 in /usr/local/lib/python3.10/site-packages (from polly-validator==0.0.1->polly-python==0.2.9-dowload-dataset-LIB414) (0.8.10)\n",
      "Collecting pronto\n",
      "  Downloading pronto-2.5.3-py2.py3-none-any.whl (61 kB)\n",
      "\u001b[K     |████████████████████████████████| 61 kB 19.7 MB/s eta 0:00:01\n",
      "\u001b[?25hCollecting jarowinkler<1.1.0,>=1.0.3\n",
      "  Downloading jarowinkler-1.0.5-cp310-cp310-manylinux_2_17_x86_64.manylinux2014_x86_64.whl (103 kB)\n",
      "\u001b[K     |████████████████████████████████| 103 kB 122.3 MB/s eta 0:00:01\n",
      "\u001b[?25hRequirement already satisfied: jmespath<1.0.0,>=0.7.1 in /usr/local/lib/python3.10/site-packages (from boto3>=1.17.73->polly-python==0.2.9-dowload-dataset-LIB414) (0.10.0)\n",
      "Requirement already satisfied: s3transfer<0.6.0,>=0.5.0 in /usr/local/lib/python3.10/site-packages (from boto3>=1.17.73->polly-python==0.2.9-dowload-dataset-LIB414) (0.5.2)\n",
      "Requirement already satisfied: cffi>=1.12 in /usr/local/lib/python3.10/site-packages (from cryptography>=38.0.1->polly-python==0.2.9-dowload-dataset-LIB414) (1.15.1)\n",
      "Requirement already satisfied: pycparser in /usr/local/lib/python3.10/site-packages (from cffi>=1.12->cryptography>=38.0.1->polly-python==0.2.9-dowload-dataset-LIB414) (2.21)\n",
      "Requirement already satisfied: ecdsa!=0.15 in /usr/local/lib/python3.10/site-packages (from python-jose>=3.3.0->polly-python==0.2.9-dowload-dataset-LIB414) (0.18.0)\n",
      "Requirement already satisfied: rsa in /usr/local/lib/python3.10/site-packages (from python-jose>=3.3.0->polly-python==0.2.9-dowload-dataset-LIB414) (4.7.2)\n",
      "Requirement already satisfied: pyasn1 in /usr/local/lib/python3.10/site-packages (from python-jose>=3.3.0->polly-python==0.2.9-dowload-dataset-LIB414) (0.4.8)\n",
      "Requirement already satisfied: soupsieve>1.2 in /usr/local/lib/python3.10/site-packages (from beautifulsoup4->polly-python==0.2.9-dowload-dataset-LIB414) (2.3.2.post1)\n",
      "Requirement already satisfied: dominate<3.0.0,>=2.4.0 in /usr/local/lib/python3.10/site-packages (from datapane->polly-python==0.2.9-dowload-dataset-LIB414) (2.7.0)\n",
      "Requirement already satisfied: validators<0.21.0,>=0.18.0 in /usr/local/lib/python3.10/site-packages (from datapane->polly-python==0.2.9-dowload-dataset-LIB414) (0.20.0)\n",
      "Requirement already satisfied: requests-toolbelt<0.10.0,>=0.9.1 in /usr/local/lib/python3.10/site-packages (from datapane->polly-python==0.2.9-dowload-dataset-LIB414) (0.9.1)\n",
      "Requirement already satisfied: dacite<2.0.0,>=1.0.2 in /usr/local/lib/python3.10/site-packages (from datapane->polly-python==0.2.9-dowload-dataset-LIB414) (1.8.0)\n",
      "Requirement already satisfied: altair<5.0.0,>=4.0.0 in /usr/local/lib/python3.10/site-packages (from datapane->polly-python==0.2.9-dowload-dataset-LIB414) (4.2.2)\n",
      "Requirement already satisfied: vega-datasets<1.0.0,>=0.9.0 in /usr/local/lib/python3.10/site-packages (from datapane->polly-python==0.2.9-dowload-dataset-LIB414) (0.9.0)\n",
      "Requirement already satisfied: jsonschema<5.0.0,>=3.2.0 in /usr/local/lib/python3.10/site-packages (from datapane->polly-python==0.2.9-dowload-dataset-LIB414) (4.2.1)\n",
      "Requirement already satisfied: lxml<5.0.0,>=4.0.0 in /usr/local/lib/python3.10/site-packages (from datapane->polly-python==0.2.9-dowload-dataset-LIB414) (4.9.2)\n",
      "Requirement already satisfied: furl<3.0.0,>=2.0.0 in /usr/local/lib/python3.10/site-packages (from datapane->polly-python==0.2.9-dowload-dataset-LIB414) (2.1.3)\n",
      "Requirement already satisfied: PyYAML<7.0.0,>=5.4.0 in /usr/local/lib/python3.10/site-packages (from datapane->polly-python==0.2.9-dowload-dataset-LIB414) (5.4.1)\n",
      "Requirement already satisfied: pyarrow<11.0.0,>=6.0.0 in /usr/local/lib/python3.10/site-packages (from datapane->polly-python==0.2.9-dowload-dataset-LIB414) (10.0.1)\n",
      "Requirement already satisfied: boltons<22.0.0,>=20.0.0 in /usr/local/lib/python3.10/site-packages (from datapane->polly-python==0.2.9-dowload-dataset-LIB414) (21.0.0)\n",
      "Requirement already satisfied: glom<24.0.0,>=20.11.0 in /usr/local/lib/python3.10/site-packages (from datapane->polly-python==0.2.9-dowload-dataset-LIB414) (23.1.1)\n",
      "Requirement already satisfied: micawber>=0.5.0 in /usr/local/lib/python3.10/site-packages (from datapane->polly-python==0.2.9-dowload-dataset-LIB414) (0.5.4)\n",
      "Requirement already satisfied: importlib_resources<6.0.0,>=3.0.0 in /usr/local/lib/python3.10/site-packages (from datapane->polly-python==0.2.9-dowload-dataset-LIB414) (5.10.2)\n",
      "Requirement already satisfied: munch<3.0.0,>=2.3.0 in /usr/local/lib/python3.10/site-packages (from datapane->polly-python==0.2.9-dowload-dataset-LIB414) (2.5.0)\n",
      "Requirement already satisfied: nbconvert<7.0.0,>=6.1.0 in /usr/local/lib/python3.10/site-packages (from datapane->polly-python==0.2.9-dowload-dataset-LIB414) (6.3.0)\n",
      "Requirement already satisfied: stringcase<2.0.0,>=1.2.0 in /usr/local/lib/python3.10/site-packages (from datapane->polly-python==0.2.9-dowload-dataset-LIB414) (1.2.0)\n",
      "Requirement already satisfied: click-spinner<0.2.0,>=0.1.8 in /usr/local/lib/python3.10/site-packages (from datapane->polly-python==0.2.9-dowload-dataset-LIB414) (0.1.10)\n",
      "Requirement already satisfied: posthog<3.0.0,>=1.4.0 in /usr/local/lib/python3.10/site-packages (from datapane->polly-python==0.2.9-dowload-dataset-LIB414) (2.3.0)\n",
      "Requirement already satisfied: Jinja2<4.0.0,>=3.0.0 in /usr/local/lib/python3.10/site-packages (from datapane->polly-python==0.2.9-dowload-dataset-LIB414) (3.0.3)\n",
      "Requirement already satisfied: dulwich<0.21.0,>=0.20.0 in /usr/local/lib/python3.10/site-packages (from datapane->polly-python==0.2.9-dowload-dataset-LIB414) (0.20.50)\n",
      "Requirement already satisfied: packaging<24.0.0,>=21.0.0 in /usr/local/lib/python3.10/site-packages (from datapane->polly-python==0.2.9-dowload-dataset-LIB414) (23.0)\n",
      "Requirement already satisfied: ipynbname<2022.0.0,>=2021.3.2 in /usr/local/lib/python3.10/site-packages (from datapane->polly-python==0.2.9-dowload-dataset-LIB414) (2021.3.2)\n",
      "Requirement already satisfied: click<9.0.0,>=7.1.0 in /usr/local/lib/python3.10/site-packages (from datapane->polly-python==0.2.9-dowload-dataset-LIB414) (8.1.3)\n",
      "Requirement already satisfied: colorlog<7.0.0,>=4.1.0 in /usr/local/lib/python3.10/site-packages (from datapane->polly-python==0.2.9-dowload-dataset-LIB414) (6.7.0)\n",
      "Requirement already satisfied: toolz<0.13.0,>=0.11.0 in /usr/local/lib/python3.10/site-packages (from datapane->polly-python==0.2.9-dowload-dataset-LIB414) (0.12.0)\n",
      "Requirement already satisfied: datacommons-pandas<0.0.4,>=0.0.3 in /usr/local/lib/python3.10/site-packages (from datapane->polly-python==0.2.9-dowload-dataset-LIB414) (0.0.3)\n",
      "Requirement already satisfied: datacommons<2.0.0,>=1.4.3 in /usr/local/lib/python3.10/site-packages (from datapane->polly-python==0.2.9-dowload-dataset-LIB414) (1.4.3)\n",
      "Requirement already satisfied: entrypoints in /usr/local/lib/python3.10/site-packages (from altair<5.0.0,>=4.0.0->datapane->polly-python==0.2.9-dowload-dataset-LIB414) (0.3)\n",
      "Requirement already satisfied: orderedmultidict>=1.0.1 in /usr/local/lib/python3.10/site-packages (from furl<3.0.0,>=2.0.0->datapane->polly-python==0.2.9-dowload-dataset-LIB414) (1.0.1)\n",
      "Requirement already satisfied: attrs in /usr/local/lib/python3.10/site-packages (from glom<24.0.0,>=20.11.0->datapane->polly-python==0.2.9-dowload-dataset-LIB414) (21.2.0)\n",
      "Requirement already satisfied: face==20.1.1 in /usr/local/lib/python3.10/site-packages (from glom<24.0.0,>=20.11.0->datapane->polly-python==0.2.9-dowload-dataset-LIB414) (20.1.1)\n",
      "Requirement already satisfied: ipykernel in /usr/local/lib/python3.10/site-packages (from ipynbname<2022.0.0,>=2021.3.2->datapane->polly-python==0.2.9-dowload-dataset-LIB414) (6.13.1)\n",
      "Requirement already satisfied: MarkupSafe>=2.0 in /usr/local/lib/python3.10/site-packages (from Jinja2<4.0.0,>=3.0.0->datapane->polly-python==0.2.9-dowload-dataset-LIB414) (2.0.1)\n",
      "Requirement already satisfied: pyrsistent!=0.17.0,!=0.17.1,!=0.17.2,>=0.14.0 in /usr/local/lib/python3.10/site-packages (from jsonschema<5.0.0,>=3.2.0->datapane->polly-python==0.2.9-dowload-dataset-LIB414) (0.18.0)\n",
      "Requirement already satisfied: bleach in /usr/local/lib/python3.10/site-packages (from nbconvert<7.0.0,>=6.1.0->datapane->polly-python==0.2.9-dowload-dataset-LIB414) (4.1.0)\n",
      "Requirement already satisfied: pandocfilters>=1.4.1 in /usr/local/lib/python3.10/site-packages (from nbconvert<7.0.0,>=6.1.0->datapane->polly-python==0.2.9-dowload-dataset-LIB414) (1.5.0)\n",
      "Requirement already satisfied: nbformat>=4.4 in /usr/local/lib/python3.10/site-packages (from nbconvert<7.0.0,>=6.1.0->datapane->polly-python==0.2.9-dowload-dataset-LIB414) (5.1.3)\n",
      "Requirement already satisfied: pygments>=2.4.1 in /usr/local/lib/python3.10/site-packages (from nbconvert<7.0.0,>=6.1.0->datapane->polly-python==0.2.9-dowload-dataset-LIB414) (2.10.0)\n",
      "Requirement already satisfied: nbclient<0.6.0,>=0.5.0 in /usr/local/lib/python3.10/site-packages (from nbconvert<7.0.0,>=6.1.0->datapane->polly-python==0.2.9-dowload-dataset-LIB414) (0.5.13)\n",
      "Requirement already satisfied: testpath in /usr/local/lib/python3.10/site-packages (from nbconvert<7.0.0,>=6.1.0->datapane->polly-python==0.2.9-dowload-dataset-LIB414) (0.5.0)\n",
      "Requirement already satisfied: mistune<2,>=0.8.1 in /usr/local/lib/python3.10/site-packages (from nbconvert<7.0.0,>=6.1.0->datapane->polly-python==0.2.9-dowload-dataset-LIB414) (0.8.4)\n",
      "Requirement already satisfied: traitlets>=5.0 in /usr/local/lib/python3.10/site-packages (from nbconvert<7.0.0,>=6.1.0->datapane->polly-python==0.2.9-dowload-dataset-LIB414) (5.1.1)\n",
      "Requirement already satisfied: jupyterlab-pygments in /usr/local/lib/python3.10/site-packages (from nbconvert<7.0.0,>=6.1.0->datapane->polly-python==0.2.9-dowload-dataset-LIB414) (0.2.2)\n",
      "Requirement already satisfied: jupyter-core in /usr/local/lib/python3.10/site-packages (from nbconvert<7.0.0,>=6.1.0->datapane->polly-python==0.2.9-dowload-dataset-LIB414) (4.9.1)\n",
      "Requirement already satisfied: defusedxml in /usr/local/lib/python3.10/site-packages (from nbconvert<7.0.0,>=6.1.0->datapane->polly-python==0.2.9-dowload-dataset-LIB414) (0.7.1)\n",
      "Requirement already satisfied: nest-asyncio in /usr/local/lib/python3.10/site-packages (from nbclient<0.6.0,>=0.5.0->nbconvert<7.0.0,>=6.1.0->datapane->polly-python==0.2.9-dowload-dataset-LIB414) (1.5.6)\n",
      "Requirement already satisfied: jupyter-client>=6.1.5 in /usr/local/lib/python3.10/site-packages (from nbclient<0.6.0,>=0.5.0->nbconvert<7.0.0,>=6.1.0->datapane->polly-python==0.2.9-dowload-dataset-LIB414) (6.1.12)\n",
      "Requirement already satisfied: tornado>=4.1 in /usr/local/lib/python3.10/site-packages (from jupyter-client>=6.1.5->nbclient<0.6.0,>=0.5.0->nbconvert<7.0.0,>=6.1.0->datapane->polly-python==0.2.9-dowload-dataset-LIB414) (6.1)\n",
      "Requirement already satisfied: pyzmq>=13 in /usr/local/lib/python3.10/site-packages (from jupyter-client>=6.1.5->nbclient<0.6.0,>=0.5.0->nbconvert<7.0.0,>=6.1.0->datapane->polly-python==0.2.9-dowload-dataset-LIB414) (22.3.0)\n",
      "Requirement already satisfied: ipython-genutils in /usr/local/lib/python3.10/site-packages (from nbformat>=4.4->nbconvert<7.0.0,>=6.1.0->datapane->polly-python==0.2.9-dowload-dataset-LIB414) (0.2.0)\n",
      "Requirement already satisfied: backoff<2.0.0,>=1.10.0 in /usr/local/lib/python3.10/site-packages (from posthog<3.0.0,>=1.4.0->datapane->polly-python==0.2.9-dowload-dataset-LIB414) (1.11.1)\n",
      "Requirement already satisfied: monotonic>=1.5 in /usr/local/lib/python3.10/site-packages (from posthog<3.0.0,>=1.4.0->datapane->polly-python==0.2.9-dowload-dataset-LIB414) (1.6)\n",
      "Requirement already satisfied: typing-extensions>=3.7.4.3 in /usr/local/lib/python3.10/site-packages (from pydantic->polly-python==0.2.9-dowload-dataset-LIB414) (4.4.0)\n",
      "Requirement already satisfied: decorator>=3.4.0 in /usr/local/lib/python3.10/site-packages (from validators<0.21.0,>=0.18.0->datapane->polly-python==0.2.9-dowload-dataset-LIB414) (5.1.0)\n",
      "Requirement already satisfied: webencodings in /usr/local/lib/python3.10/site-packages (from bleach->nbconvert<7.0.0,>=6.1.0->datapane->polly-python==0.2.9-dowload-dataset-LIB414) (0.5.1)\n",
      "Requirement already satisfied: wrapt<2,>=1.10 in /usr/local/lib/python3.10/site-packages (from Deprecated->polly-python==0.2.9-dowload-dataset-LIB414) (1.14.1)\n",
      "Requirement already satisfied: psutil in /usr/local/lib/python3.10/site-packages (from ipykernel->ipynbname<2022.0.0,>=2021.3.2->datapane->polly-python==0.2.9-dowload-dataset-LIB414) (5.9.4)\n",
      "Requirement already satisfied: matplotlib-inline>=0.1 in /usr/local/lib/python3.10/site-packages (from ipykernel->ipynbname<2022.0.0,>=2021.3.2->datapane->polly-python==0.2.9-dowload-dataset-LIB414) (0.1.3)\n",
      "Requirement already satisfied: debugpy>=1.0 in /usr/local/lib/python3.10/site-packages (from ipykernel->ipynbname<2022.0.0,>=2021.3.2->datapane->polly-python==0.2.9-dowload-dataset-LIB414) (1.6.6)\n",
      "Requirement already satisfied: ipython>=7.23.1 in /usr/local/lib/python3.10/site-packages (from ipykernel->ipynbname<2022.0.0,>=2021.3.2->datapane->polly-python==0.2.9-dowload-dataset-LIB414) (8.2.0)\n",
      "Requirement already satisfied: pexpect>4.3 in /usr/local/lib/python3.10/site-packages (from ipython>=7.23.1->ipykernel->ipynbname<2022.0.0,>=2021.3.2->datapane->polly-python==0.2.9-dowload-dataset-LIB414) (4.8.0)\n",
      "Requirement already satisfied: pickleshare in /usr/local/lib/python3.10/site-packages (from ipython>=7.23.1->ipykernel->ipynbname<2022.0.0,>=2021.3.2->datapane->polly-python==0.2.9-dowload-dataset-LIB414) (0.7.5)\n",
      "Requirement already satisfied: backcall in /usr/local/lib/python3.10/site-packages (from ipython>=7.23.1->ipykernel->ipynbname<2022.0.0,>=2021.3.2->datapane->polly-python==0.2.9-dowload-dataset-LIB414) (0.2.0)\n",
      "Requirement already satisfied: stack-data in /usr/local/lib/python3.10/site-packages (from ipython>=7.23.1->ipykernel->ipynbname<2022.0.0,>=2021.3.2->datapane->polly-python==0.2.9-dowload-dataset-LIB414) (0.6.2)\n",
      "Requirement already satisfied: jedi>=0.16 in /usr/local/lib/python3.10/site-packages (from ipython>=7.23.1->ipykernel->ipynbname<2022.0.0,>=2021.3.2->datapane->polly-python==0.2.9-dowload-dataset-LIB414) (0.18.1)\n",
      "Requirement already satisfied: prompt-toolkit!=3.0.0,!=3.0.1,<3.1.0,>=2.0.0 in /usr/local/lib/python3.10/site-packages (from ipython>=7.23.1->ipykernel->ipynbname<2022.0.0,>=2021.3.2->datapane->polly-python==0.2.9-dowload-dataset-LIB414) (3.0.22)\n",
      "Requirement already satisfied: parso<0.9.0,>=0.8.0 in /usr/local/lib/python3.10/site-packages (from jedi>=0.16->ipython>=7.23.1->ipykernel->ipynbname<2022.0.0,>=2021.3.2->datapane->polly-python==0.2.9-dowload-dataset-LIB414) (0.8.2)\n",
      "Requirement already satisfied: ptyprocess>=0.5 in /usr/local/lib/python3.10/site-packages (from pexpect>4.3->ipython>=7.23.1->ipykernel->ipynbname<2022.0.0,>=2021.3.2->datapane->polly-python==0.2.9-dowload-dataset-LIB414) (0.7.0)\n",
      "Requirement already satisfied: wcwidth in /usr/local/lib/python3.10/site-packages (from prompt-toolkit!=3.0.0,!=3.0.1,<3.1.0,>=2.0.0->ipython>=7.23.1->ipykernel->ipynbname<2022.0.0,>=2021.3.2->datapane->polly-python==0.2.9-dowload-dataset-LIB414) (0.2.5)\n",
      "Requirement already satisfied: tenacity>=6.2.0 in /usr/local/lib/python3.10/site-packages (from plotly->polly-python==0.2.9-dowload-dataset-LIB414) (8.1.0)\n",
      "Collecting fastobo~=0.12.2\n",
      "  Downloading fastobo-0.12.2-cp310-cp310-manylinux_2_17_x86_64.manylinux2014_x86_64.whl (2.1 MB)\n",
      "\u001b[K     |████████████████████████████████| 2.1 MB 88.0 MB/s eta 0:00:01\n",
      "\u001b[?25hCollecting pronto\n",
      "  Downloading pronto-2.5.2-py2.py3-none-any.whl (61 kB)\n",
      "\u001b[K     |████████████████████████████████| 61 kB 19.2 MB/s  eta 0:00:01\n",
      "\u001b[?25h  Downloading pronto-2.5.1-py2.py3-none-any.whl (61 kB)\n",
      "\u001b[K     |████████████████████████████████| 61 kB 17.3 MB/s  eta 0:00:01\n",
      "\u001b[?25hCollecting networkx~=2.3\n",
      "  Downloading networkx-2.8.8-py3-none-any.whl (2.0 MB)\n",
      "\u001b[K     |████████████████████████████████| 2.0 MB 71.3 MB/s eta 0:00:01\n",
      "\u001b[?25hRequirement already satisfied: tomli>=1.0.0 in /usr/local/lib/python3.10/site-packages (from pytest->polly-python==0.2.9-dowload-dataset-LIB414) (2.0.1)\n",
      "Requirement already satisfied: iniconfig in /usr/local/lib/python3.10/site-packages (from pytest->polly-python==0.2.9-dowload-dataset-LIB414) (2.0.0)\n",
      "Requirement already satisfied: pluggy<2.0,>=0.12 in /usr/local/lib/python3.10/site-packages (from pytest->polly-python==0.2.9-dowload-dataset-LIB414) (1.0.0)\n",
      "Requirement already satisfied: exceptiongroup>=1.0.0rc8 in /usr/local/lib/python3.10/site-packages (from pytest->polly-python==0.2.9-dowload-dataset-LIB414) (1.1.0)\n",
      "Requirement already satisfied: docutils>=0.11 in /usr/local/lib/python3.10/site-packages (from rst2txt->polly-python==0.2.9-dowload-dataset-LIB414) (0.15.2)\n",
      "Requirement already satisfied: executing>=1.2.0 in /usr/local/lib/python3.10/site-packages (from stack-data->ipython>=7.23.1->ipykernel->ipynbname<2022.0.0,>=2021.3.2->datapane->polly-python==0.2.9-dowload-dataset-LIB414) (1.2.0)\n",
      "Requirement already satisfied: pure-eval in /usr/local/lib/python3.10/site-packages (from stack-data->ipython>=7.23.1->ipykernel->ipynbname<2022.0.0,>=2021.3.2->datapane->polly-python==0.2.9-dowload-dataset-LIB414) (0.2.2)\n",
      "Requirement already satisfied: asttokens>=2.1.0 in /usr/local/lib/python3.10/site-packages (from stack-data->ipython>=7.23.1->ipykernel->ipynbname<2022.0.0,>=2021.3.2->datapane->polly-python==0.2.9-dowload-dataset-LIB414) (2.2.1)\n",
      "Installing collected packages: networkx, jarowinkler, fastobo, rapidfuzz, pronto, appdirs, polly-validator, mixpanel, cryptography, polly-python\n",
      "  Attempting uninstall: networkx\n",
      "    Found existing installation: networkx 3.0\n",
      "    Uninstalling networkx-3.0:\n",
      "      Successfully uninstalled networkx-3.0\n",
      "  Attempting uninstall: polly-python\n",
      "    Found existing installation: polly-python 0.2.4\n",
      "    Uninstalling polly-python-0.2.4:\n",
      "      Successfully uninstalled polly-python-0.2.4\n",
      "Successfully installed appdirs-1.4.4 cryptography-39.0.1 fastobo-0.12.2 jarowinkler-1.0.5 mixpanel-4.10.0 networkx-2.8.8 polly-python-0.2.9 polly-validator-0.0.1 pronto-2.5.1 rapidfuzz-2.1.1\n",
      "\u001b[33mWARNING: Running pip as the 'root' user can result in broken permissions and conflicting behaviour with the system package manager. It is recommended to use a virtual environment instead: https://pip.pypa.io/warnings/venv\u001b[0m\n",
      "\u001b[33mWARNING: You are using pip version 21.2.4; however, version 23.0 is available.\n",
      "You should consider upgrading via the '/usr/local/bin/python3.10 -m pip install --upgrade pip' command.\u001b[0m\n"
     ]
    }
   ],
   "source": [
    "!sudo pip3 install https://elucidatainc.github.io/PublicAssets/builds/polly-python/tests/testpolly/polly_python-0.2.9_dowload_dataset_LIB414-py3-none-any.whl"
   ]
  },
  {
   "cell_type": "code",
   "execution_count": 6,
   "metadata": {},
   "outputs": [
    {
     "name": "stdout",
     "output_type": "stream",
     "text": [
      "You're currently using an outdated version of polly-python '0.2.9'. Please update using the command 'pip install polly-python==0.2.8' to upgrade to the newest version '0.2.8'\n"
     ]
    }
   ],
   "source": [
    "AUTH_TOKEN=(os.environ['POLLY_REFRESH_TOKEN'])\n",
    "import os\n",
    "from polly.auth import Polly\n",
    "from polly.omixatlas import OmixAtlas\n",
    "Polly.auth(AUTH_TOKEN)"
   ]
  },
  {
   "cell_type": "code",
   "execution_count": 7,
   "metadata": {},
   "outputs": [],
   "source": [
    "omixatlas = OmixAtlas()"
   ]
  },
  {
   "cell_type": "code",
   "execution_count": 8,
   "metadata": {},
   "outputs": [
    {
     "name": "stdout",
     "output_type": "stream",
     "text": [
      "\n",
      "        This functions downloads the data for the provided dataset id list from the repo passed to\n",
      "        the folder path provided.\n",
      "\n",
      "        Arguments:\n",
      "            repo_key (int/str): repo_id OR repo_name. This is a mandatory field.\n",
      "            dataset_ids (list): list of dataset_ids from the repo passed that users want to download data of\n",
      "            folder_path (str, optional): folder path where the datasets will be downloaded to. Default is the current working directory.\n",
      "\n",
      "        Returns:\n",
      "            None\n",
      "\n",
      "        Raises:\n",
      "            InvalidParameterException : invalid or missing parameter\n",
      "            paramException : invalid or missing folder_path provided\n",
      "        \n"
     ]
    }
   ],
   "source": [
    "print(omixatlas.download_dataset.__doc__)"
   ]
  },
  {
   "cell_type": "code",
   "execution_count": 8,
   "metadata": {},
   "outputs": [
    {
     "name": "stdout",
     "output_type": "stream",
     "text": [
      "Query execution succeeded (time taken: 2.64 seconds, data scanned: 0.031 MB)\n",
      "Fetched 5 rows\n"
     ]
    }
   ],
   "source": [
    "#getting some dataset ids to download\n",
    "query = \"SELECT dataset_id FROM geo.datasets LIMIT 5\"\n",
    "result = omixatlas.query_metadata(query)\n",
    "list_datasets = result[\"dataset_id\"].tolist()"
   ]
  },
  {
   "cell_type": "code",
   "execution_count": 10,
   "metadata": {},
   "outputs": [
    {
     "data": {
      "text/plain": [
       "['GSE16219_GPL570',\n",
       " 'GSE16226_GPL570',\n",
       " 'GSE162408_GPL11180',\n",
       " 'GSE16246_GPL8600',\n",
       " 'GSE16249_GPL570']"
      ]
     },
     "execution_count": 10,
     "metadata": {},
     "output_type": "execute_result"
    }
   ],
   "source": [
    "list_datasets"
   ]
  },
  {
   "cell_type": "code",
   "execution_count": 10,
   "metadata": {},
   "outputs": [
    {
     "name": "stderr",
     "output_type": "stream",
     "text": [
      "downloading data file:GSE162408_GPL11180_curated.gct:   0%|          | 0.00/7.16M [00:00<?, ?iB/s]\n",
      "downloading data file:GSE16219_GPL570_curated.gct:   0%|          | 0.00/736k [00:00<?, ?iB/s]\u001b[A\n",
      "\n",
      "downloading data file:GSE16219_GPL570_curated.gct: 100%|██████████| 736k/736k [00:00<00:00, 83.5MiB/s]\n",
      "downloading data file:GSE16246_GPL8600.gct: 100%|██████████| 174k/174k [00:00<00:00, 44.8MiB/s]\n",
      "\n",
      "downloading data file:GSE16249_GPL570.gct: 100%|██████████| 1.33M/1.33M [00:00<00:00, 161MiB/s]\n",
      "\n",
      "\n",
      "downloading data file:GSE162408_GPL11180_curated.gct: 100%|██████████| 7.16M/7.16M [00:00<00:00, 75.4MiB/s]\n",
      "downloading data file:GSE16226_GPL570.gct: 100%|██████████| 5.35M/5.35M [00:00<00:00, 59.8MiB/s]\n"
     ]
    }
   ],
   "source": [
    "# basic test to download these 5 data sets.\n",
    "# without providing folder path -> should download into the current working dir\n",
    "repo_key=\"geo\"\n",
    "dataset_ids =list_datasets\n",
    "omixatlas.download_dataset(repo_key,dataset_ids)"
   ]
  },
  {
   "cell_type": "code",
   "execution_count": 11,
   "metadata": {},
   "outputs": [
    {
     "name": "stdout",
     "output_type": "stream",
     "text": [
      "/bin/bash: warning: setlocale: LC_ALL: cannot change locale (en_US.UTF-8)\r\n",
      "GSE16219_GPL570_curated.gct\t\t       input_df.csv\r\n",
      "GSE16226_GPL570.gct\t\t\t       meta_sample_df.csv\r\n",
      "GSE162408_GPL11180_curated.gct\t\t       output_dir\r\n",
      "GSE16246_GPL8600.gct\t\t\t       raw_intensity_df.csv\r\n",
      "GSE16249_GPL570.gct\t\t\t       scripts\r\n",
      "LIB-414_donwload_datasets_functionality.ipynb  standard_df.csv\r\n",
      "cohort_df.csv\r\n"
     ]
    }
   ],
   "source": [
    "!ls #files have been dowloaded to the current working directory"
   ]
  },
  {
   "cell_type": "code",
   "execution_count": 16,
   "metadata": {},
   "outputs": [
    {
     "name": "stdout",
     "output_type": "stream",
     "text": [
      "/bin/bash: warning: setlocale: LC_ALL: cannot change locale (en_US.UTF-8)\r\n",
      "mkdir: cannot create directory 'output_dir': File exists\r\n"
     ]
    },
    {
     "name": "stderr",
     "output_type": "stream",
     "text": [
      "downloading data file:GSE16219_GPL570_curated.gct: 100%|██████████| 736k/736k [00:00<00:00, 62.4MiB/s]\n",
      "downloading data file:GSE162408_GPL11180_curated.gct:   0%|          | 0.00/7.16M [00:00<?, ?iB/s]\n",
      "downloading data file:GSE16226_GPL570.gct:   0%|          | 0.00/5.35M [00:00<?, ?iB/s]\u001b[A\n",
      "\n",
      "downloading data file:GSE16249_GPL570.gct: 100%|██████████| 1.33M/1.33M [00:00<00:00, 52.1MiB/s]\n",
      "\n",
      "\n",
      "\n",
      "downloading data file:GSE16246_GPL8600.gct: 100%|██████████| 174k/174k [00:00<00:00, 23.4MiB/s], 56.2MiB/s]\n",
      "downloading data file:GSE162408_GPL11180_curated.gct: 100%|██████████| 7.16M/7.16M [00:00<00:00, 63.0MiB/s]\n",
      "downloading data file:GSE16226_GPL570.gct: 100%|██████████| 5.35M/5.35M [00:00<00:00, 55.7MiB/s]\n"
     ]
    }
   ],
   "source": [
    "# basic test to download these 5 data sets.\n",
    "# with providing folder path -> should download into the provided path\n",
    "!mkdir output_dir\n",
    "repo_key=\"geo\"\n",
    "dataset_ids =list_datasets\n",
    "folder_path=\"output_dir/\"\n",
    "omixatlas.download_dataset(repo_key,dataset_ids,folder_path)"
   ]
  },
  {
   "cell_type": "code",
   "execution_count": 17,
   "metadata": {},
   "outputs": [
    {
     "name": "stdout",
     "output_type": "stream",
     "text": [
      "/bin/bash: warning: setlocale: LC_ALL: cannot change locale (en_US.UTF-8)\r\n",
      "GSE16219_GPL570_curated.gct\t\t       cohort_df.csv\r\n",
      "GSE16226_GPL570.gct\t\t\t       input_df.csv\r\n",
      "GSE162408_GPL11180_curated.gct\t\t       meta_sample_df.csv\r\n",
      "GSE16246_GPL8600.gct\t\t\t       raw_intensity_df.csv\r\n",
      "GSE16249_GPL570.gct\t\t\t       standard_df.csv\r\n",
      "LIB-414_donwload_datasets_functionality.ipynb\r\n",
      "\r\n",
      "output_dir:\r\n",
      "GSE16219_GPL570_curated.gct\tGSE16246_GPL8600.gct\r\n",
      "GSE16226_GPL570.gct\t\tGSE16249_GPL570.gct\r\n",
      "GSE162408_GPL11180_curated.gct\r\n",
      "\r\n",
      "scripts:\r\n",
      "__init__.py\t\t       gct_to_df_converter.py\r\n",
      "cohort_based_visualisation.py  ion_count_normalisation.py\r\n",
      "df_to_gct_converter.py\r\n"
     ]
    }
   ],
   "source": [
    "!ls *"
   ]
  },
  {
   "cell_type": "code",
   "execution_count": 18,
   "metadata": {},
   "outputs": [
    {
     "name": "stderr",
     "output_type": "stream",
     "text": [
      "downloading data file:GSE16219_GPL570_curated.gct: 100%|██████████| 736k/736k [00:00<00:00, 51.2MiB/s]\n"
     ]
    },
    {
     "name": "stdout",
     "output_type": "stream",
     "text": [
      "error in getting the download url for dataset_id: ['ABRNC_1234']. Download of this file will be skipped. ERROR: ('Resource not found', 'No Dataset for dataset_id ABRNC_1234')\n"
     ]
    },
    {
     "name": "stderr",
     "output_type": "stream",
     "text": [
      "downloading data file:GSE16246_GPL8600.gct: 100%|██████████| 174k/174k [00:00<00:00, 49.7MiB/s]\n",
      "downloading data file:GSE16226_GPL570.gct:   0%|          | 0.00/5.35M [00:00<?, ?iB/s]\n",
      "\n",
      "downloading data file:GSE16249_GPL570.gct:   0%|          | 0.00/1.33M [00:00<?, ?iB/s]\u001b[A\u001b[A\n",
      "downloading data file:GSE16249_GPL570.gct: 100%|██████████| 1.33M/1.33M [00:00<00:00, 46.2MiB/s]s]\u001b[A\n",
      "downloading data file:GSE162408_GPL11180_curated.gct: 100%|██████████| 7.16M/7.16M [00:00<00:00, 119MiB/s]\n",
      "downloading data file:GSE16226_GPL570.gct: 100%|██████████| 5.35M/5.35M [00:00<00:00, 51.8MiB/s]\n"
     ]
    }
   ],
   "source": [
    "# negative case - invalid dataset_id has been passed.\n",
    "# in this case, we would get an error while fetching the download url. A messgae shall be shown for that particular file, rest of the files will be downloaded. \n",
    "\n",
    "#adding an invalid id to the list of dataset ids. \n",
    "list_datasets.append(\"ABRNC_1234\")\n",
    "repo_key=\"geo\"\n",
    "dataset_ids =list_datasets\n",
    "folder_path=\"output_dir/\"\n",
    "omixatlas.download_dataset(repo_key,dataset_ids,folder_path)"
   ]
  },
  {
   "cell_type": "code",
   "execution_count": 19,
   "metadata": {},
   "outputs": [
    {
     "name": "stdout",
     "output_type": "stream",
     "text": [
      "error in getting the download url for dataset_id: ['GSE16226_GPL570']. Download of this file will be skipped. ERROR: ('Resource not found', 'No Dataset for dataset_id GSE16226_GPL570')\n",
      "error in getting the download url for dataset_id: ['GSE16246_GPL8600']. Download of this file will be skipped. ERROR: ('Resource not found', 'No Dataset for dataset_id GSE16246_GPL8600')\n",
      "error in getting the download url for dataset_id: ['GSE162408_GPL11180']. Download of this file will be skipped. ERROR: ('Resource not found', 'No Dataset for dataset_id GSE162408_GPL11180')\n",
      "error in getting the download url for dataset_id: ['GSE16219_GPL570']. Download of this file will be skipped. ERROR: ('Resource not found', 'No Dataset for dataset_id GSE16219_GPL570')\n",
      "error in getting the download url for dataset_id: ['ABRNC_1234']. Download of this file will be skipped. ERROR: ('Resource not found', 'No Dataset for dataset_id ABRNC_1234')\n",
      "error in getting the download url for dataset_id: ['GSE16249_GPL570']. Download of this file will be skipped. ERROR: ('Resource not found', 'No Dataset for dataset_id GSE16249_GPL570')\n"
     ]
    }
   ],
   "source": [
    "# negative case, when the repo name passed is not correct or invalid one. \n",
    "repo_key=\"sc_data_lake\" #incorrect but valid repo name \n",
    "dataset_ids =list_datasets\n",
    "folder_path=\"output_dir/\"\n",
    "omixatlas.download_dataset(repo_key,dataset_ids,folder_path)"
   ]
  },
  {
   "cell_type": "code",
   "execution_count": 20,
   "metadata": {},
   "outputs": [
    {
     "name": "stdout",
     "output_type": "stream",
     "text": [
      "error in getting the download url for dataset_id: ['GSE162408_GPL11180']. Download of this file will be skipped. ERROR: ('Data not found not found', 'Repository with repo key something_random not found')\n",
      "error in getting the download url for dataset_id: ['GSE16219_GPL570']. Download of this file will be skipped. ERROR: ('Data not found not found', 'Repository with repo key something_random not found')\n",
      "error in getting the download url for dataset_id: ['GSE16249_GPL570']. Download of this file will be skipped. ERROR: ('Data not found not found', 'Repository with repo key something_random not found')\n",
      "error in getting the download url for dataset_id: ['ABRNC_1234']. Download of this file will be skipped. ERROR: ('Data not found not found', 'Repository with repo key something_random not found')\n",
      "error in getting the download url for dataset_id: ['GSE16226_GPL570']. Download of this file will be skipped. ERROR: ('Data not found not found', 'Repository with repo key something_random not found')\n",
      "error in getting the download url for dataset_id: ['GSE16246_GPL8600']. Download of this file will be skipped. ERROR: ('Data not found not found', 'Repository with repo key something_random not found')\n"
     ]
    }
   ],
   "source": [
    "# negative case, when the repo name passed is not correct or invalid one. \n",
    "repo_key=\"something_random\" #invalid repo name \n",
    "dataset_ids =list_datasets\n",
    "folder_path=\"output_dir/\"\n",
    "omixatlas.download_dataset(repo_key,dataset_ids,folder_path)"
   ]
  },
  {
   "cell_type": "code",
   "execution_count": null,
   "metadata": {},
   "outputs": [],
   "source": [
    "#negative case: incase any error occurs while dowloading the data, then the file is deleted with a similar error msg being displayed to the user. "
   ]
  },
  {
   "cell_type": "code",
   "execution_count": 22,
   "metadata": {},
   "outputs": [
    {
     "ename": "InvalidParameterException",
     "evalue": "Empty or Invalid Parameters = repo_key.",
     "output_type": "error",
     "traceback": [
      "\u001b[0;31m---------------------------------------------------------------------------\u001b[0m",
      "\u001b[0;31mInvalidParameterException\u001b[0m                 Traceback (most recent call last)",
      "Input \u001b[0;32mIn [22]\u001b[0m, in \u001b[0;36m<cell line: 5>\u001b[0;34m()\u001b[0m\n\u001b[1;32m      3\u001b[0m dataset_ids \u001b[38;5;241m=\u001b[39mlist_datasets\n\u001b[1;32m      4\u001b[0m folder_path\u001b[38;5;241m=\u001b[39m\u001b[38;5;124m\"\u001b[39m\u001b[38;5;124moutput_dir/\u001b[39m\u001b[38;5;124m\"\u001b[39m\n\u001b[0;32m----> 5\u001b[0m \u001b[43momixatlas\u001b[49m\u001b[38;5;241;43m.\u001b[39;49m\u001b[43mdownload_dataset\u001b[49m\u001b[43m(\u001b[49m\u001b[43mrepo_key\u001b[49m\u001b[43m,\u001b[49m\u001b[43mdataset_ids\u001b[49m\u001b[43m,\u001b[49m\u001b[43mfolder_path\u001b[49m\u001b[43m)\u001b[49m\n",
      "File \u001b[0;32m/usr/local/lib/python3.10/site-packages/polly/omixatlas.py:3699\u001b[0m, in \u001b[0;36mOmixAtlas.download_dataset\u001b[0;34m(self, repo_key, dataset_ids, folder_path)\u001b[0m\n\u001b[1;32m   3682\u001b[0m \u001b[38;5;124;03m\"\"\"\u001b[39;00m\n\u001b[1;32m   3683\u001b[0m \u001b[38;5;124;03mThis functions downloads the data for the provided dataset id list from the repo passed to\u001b[39;00m\n\u001b[1;32m   3684\u001b[0m \u001b[38;5;124;03mthe folder path provided.\u001b[39;00m\n\u001b[0;32m   (...)\u001b[0m\n\u001b[1;32m   3696\u001b[0m \u001b[38;5;124;03m    paramException : invalid or missing folder_path provided\u001b[39;00m\n\u001b[1;32m   3697\u001b[0m \u001b[38;5;124;03m\"\"\"\u001b[39;00m\n\u001b[1;32m   3698\u001b[0m \u001b[38;5;28;01mif\u001b[39;00m \u001b[38;5;129;01mnot\u001b[39;00m (repo_key \u001b[38;5;129;01mand\u001b[39;00m \u001b[38;5;28misinstance\u001b[39m(repo_key, \u001b[38;5;28mstr\u001b[39m)):\n\u001b[0;32m-> 3699\u001b[0m     \u001b[38;5;28;01mraise\u001b[39;00m InvalidParameterException(\u001b[38;5;124m\"\u001b[39m\u001b[38;5;124mrepo_key\u001b[39m\u001b[38;5;124m\"\u001b[39m)\n\u001b[1;32m   3700\u001b[0m \u001b[38;5;28;01mif\u001b[39;00m \u001b[38;5;129;01mnot\u001b[39;00m (dataset_ids \u001b[38;5;129;01mand\u001b[39;00m \u001b[38;5;28misinstance\u001b[39m(dataset_ids, \u001b[38;5;28mlist\u001b[39m)):\n\u001b[1;32m   3701\u001b[0m     \u001b[38;5;28;01mraise\u001b[39;00m InvalidParameterException(\u001b[38;5;124m\"\u001b[39m\u001b[38;5;124mdataset_id\u001b[39m\u001b[38;5;124m\"\u001b[39m)\n",
      "\u001b[0;31mInvalidParameterException\u001b[0m: Empty or Invalid Parameters = repo_key."
     ]
    }
   ],
   "source": [
    "#negative case: invalid param types - repo_key passed as int\n",
    "repo_key=1643016586529\n",
    "dataset_ids =list_datasets\n",
    "folder_path=\"output_dir/\"\n",
    "omixatlas.download_dataset(repo_key,dataset_ids,folder_path)\n",
    "\n",
    "#NOTE: The error msg later was updated to \"paramException (parameter error): repo_key (either id or name) is required and should be a string\""
   ]
  },
  {
   "cell_type": "code",
   "execution_count": 23,
   "metadata": {},
   "outputs": [
    {
     "ename": "paramException",
     "evalue": "paramException (parameter error): folder_path if provided should be a string and a valid folder path.",
     "output_type": "error",
     "traceback": [
      "\u001b[0;31m---------------------------------------------------------------------------\u001b[0m",
      "\u001b[0;31mparamException\u001b[0m                            Traceback (most recent call last)",
      "Input \u001b[0;32mIn [23]\u001b[0m, in \u001b[0;36m<cell line: 5>\u001b[0;34m()\u001b[0m\n\u001b[1;32m      3\u001b[0m dataset_ids \u001b[38;5;241m=\u001b[39mlist_datasets\n\u001b[1;32m      4\u001b[0m folder_path\u001b[38;5;241m=\u001b[39m\u001b[38;5;124m\"\u001b[39m\u001b[38;5;124moutput_dir/somerandomname\u001b[39m\u001b[38;5;124m\"\u001b[39m\n\u001b[0;32m----> 5\u001b[0m \u001b[43momixatlas\u001b[49m\u001b[38;5;241;43m.\u001b[39;49m\u001b[43mdownload_dataset\u001b[49m\u001b[43m(\u001b[49m\u001b[43mrepo_key\u001b[49m\u001b[43m,\u001b[49m\u001b[43mdataset_ids\u001b[49m\u001b[43m,\u001b[49m\u001b[43mfolder_path\u001b[49m\u001b[43m)\u001b[49m\n",
      "File \u001b[0;32m/usr/local/lib/python3.10/site-packages/polly/omixatlas.py:3704\u001b[0m, in \u001b[0;36mOmixAtlas.download_dataset\u001b[0;34m(self, repo_key, dataset_ids, folder_path)\u001b[0m\n\u001b[1;32m   3702\u001b[0m \u001b[38;5;28;01mif\u001b[39;00m folder_path:\n\u001b[1;32m   3703\u001b[0m     \u001b[38;5;28;01mif\u001b[39;00m (\u001b[38;5;129;01mnot\u001b[39;00m \u001b[38;5;28misinstance\u001b[39m(folder_path, \u001b[38;5;28mstr\u001b[39m)) \u001b[38;5;129;01mor\u001b[39;00m (\u001b[38;5;129;01mnot\u001b[39;00m os\u001b[38;5;241m.\u001b[39mpath\u001b[38;5;241m.\u001b[39misdir(folder_path)):\n\u001b[0;32m-> 3704\u001b[0m         \u001b[38;5;28;01mraise\u001b[39;00m paramException(\n\u001b[1;32m   3705\u001b[0m             title\u001b[38;5;241m=\u001b[39m\u001b[38;5;124m\"\u001b[39m\u001b[38;5;124mParam Error\u001b[39m\u001b[38;5;124m\"\u001b[39m,\n\u001b[1;32m   3706\u001b[0m             detail\u001b[38;5;241m=\u001b[39m\u001b[38;5;124m\"\u001b[39m\u001b[38;5;124mfolder_path if provided should be a string and a valid folder path.\u001b[39m\u001b[38;5;124m\"\u001b[39m,\n\u001b[1;32m   3707\u001b[0m         )\n\u001b[1;32m   3708\u001b[0m \u001b[38;5;28;01melse\u001b[39;00m:\n\u001b[1;32m   3709\u001b[0m     \u001b[38;5;66;03m# TODO: revisit @shilpa\u001b[39;00m\n\u001b[1;32m   3710\u001b[0m     folder_path \u001b[38;5;241m=\u001b[39m os\u001b[38;5;241m.\u001b[39mgetcwd()\n",
      "\u001b[0;31mparamException\u001b[0m: paramException (parameter error): folder_path if provided should be a string and a valid folder path."
     ]
    }
   ],
   "source": [
    "#negative case: invalid param types - invalid folder path passed\n",
    "repo_key=\"1643016586529\"\n",
    "dataset_ids=list_datasets\n",
    "folder_path=\"output_dir/somerandomname\"\n",
    "omixatlas.download_dataset(repo_key,dataset_ids,folder_path)"
   ]
  },
  {
   "cell_type": "code",
   "execution_count": 24,
   "metadata": {},
   "outputs": [
    {
     "ename": "InvalidParameterException",
     "evalue": "Empty or Invalid Parameters = dataset_id.",
     "output_type": "error",
     "traceback": [
      "\u001b[0;31m---------------------------------------------------------------------------\u001b[0m",
      "\u001b[0;31mInvalidParameterException\u001b[0m                 Traceback (most recent call last)",
      "Input \u001b[0;32mIn [24]\u001b[0m, in \u001b[0;36m<cell line: 5>\u001b[0;34m()\u001b[0m\n\u001b[1;32m      3\u001b[0m dataset_ids\u001b[38;5;241m=\u001b[39m\u001b[38;5;124m\"\u001b[39m\u001b[38;5;124mGSE16246_GPL8600\u001b[39m\u001b[38;5;124m\"\u001b[39m\n\u001b[1;32m      4\u001b[0m folder_path\u001b[38;5;241m=\u001b[39m\u001b[38;5;124m\"\u001b[39m\u001b[38;5;124moutput_dir/somerandomname\u001b[39m\u001b[38;5;124m\"\u001b[39m\n\u001b[0;32m----> 5\u001b[0m \u001b[43momixatlas\u001b[49m\u001b[38;5;241;43m.\u001b[39;49m\u001b[43mdownload_dataset\u001b[49m\u001b[43m(\u001b[49m\u001b[43mrepo_key\u001b[49m\u001b[43m,\u001b[49m\u001b[43mdataset_ids\u001b[49m\u001b[43m,\u001b[49m\u001b[43mfolder_path\u001b[49m\u001b[43m)\u001b[49m\n",
      "File \u001b[0;32m/usr/local/lib/python3.10/site-packages/polly/omixatlas.py:3701\u001b[0m, in \u001b[0;36mOmixAtlas.download_dataset\u001b[0;34m(self, repo_key, dataset_ids, folder_path)\u001b[0m\n\u001b[1;32m   3699\u001b[0m     \u001b[38;5;28;01mraise\u001b[39;00m InvalidParameterException(\u001b[38;5;124m\"\u001b[39m\u001b[38;5;124mrepo_key\u001b[39m\u001b[38;5;124m\"\u001b[39m)\n\u001b[1;32m   3700\u001b[0m \u001b[38;5;28;01mif\u001b[39;00m \u001b[38;5;129;01mnot\u001b[39;00m (dataset_ids \u001b[38;5;129;01mand\u001b[39;00m \u001b[38;5;28misinstance\u001b[39m(dataset_ids, \u001b[38;5;28mlist\u001b[39m)):\n\u001b[0;32m-> 3701\u001b[0m     \u001b[38;5;28;01mraise\u001b[39;00m InvalidParameterException(\u001b[38;5;124m\"\u001b[39m\u001b[38;5;124mdataset_id\u001b[39m\u001b[38;5;124m\"\u001b[39m)\n\u001b[1;32m   3702\u001b[0m \u001b[38;5;28;01mif\u001b[39;00m folder_path:\n\u001b[1;32m   3703\u001b[0m     \u001b[38;5;28;01mif\u001b[39;00m (\u001b[38;5;129;01mnot\u001b[39;00m \u001b[38;5;28misinstance\u001b[39m(folder_path, \u001b[38;5;28mstr\u001b[39m)) \u001b[38;5;129;01mor\u001b[39;00m (\u001b[38;5;129;01mnot\u001b[39;00m os\u001b[38;5;241m.\u001b[39mpath\u001b[38;5;241m.\u001b[39misdir(folder_path)):\n",
      "\u001b[0;31mInvalidParameterException\u001b[0m: Empty or Invalid Parameters = dataset_id."
     ]
    }
   ],
   "source": [
    "#negative case: invalid param types - invalid list of dataset_ids - passed a string instead of a list\n",
    "repo_key=\"1643016586529\"\n",
    "dataset_ids=\"GSE16246_GPL8600\"\n",
    "folder_path=\"output_dir/somerandomname\"\n",
    "omixatlas.download_dataset(repo_key,dataset_ids,folder_path)\n",
    "\n",
    "#NOTE: The error msg later was updated to \"paramException (parameter error): dataset_ids is required and should be a list of dataset_ids as strings\""
   ]
  },
  {
   "cell_type": "code",
   "execution_count": 21,
   "metadata": {},
   "outputs": [
    {
     "name": "stdout",
     "output_type": "stream",
     "text": [
      "error in getting the download url for dataset_id: ['ABRNC_1234']. Download of this file will be skipped. ERROR: ('Resource not found', 'No Dataset for dataset_id ABRNC_1234')\n"
     ]
    },
    {
     "name": "stderr",
     "output_type": "stream",
     "text": [
      "downloading data file:GSE16246_GPL8600.gct: 100%|██████████| 174k/174k [00:00<00:00, 76.1MiB/s]\n",
      "downloading data file:GSE162408_GPL11180_curated.gct:   0%|          | 0.00/7.16M [00:00<?, ?iB/s]\n",
      "downloading data file:GSE162408_GPL11180_curated.gct: 100%|██████████| 7.16M/7.16M [00:00<00:00, 203MiB/s]\n",
      "downloading data file:GSE16219_GPL570_curated.gct: 100%|██████████| 736k/736k [00:00<00:00, 77.7MiB/s]\n",
      "downloading data file:GSE16226_GPL570.gct: 100%|██████████| 5.35M/5.35M [00:00<00:00, 182MiB/s]\n",
      "downloading data file:GSE16249_GPL570.gct: 100%|██████████| 1.33M/1.33M [00:00<00:00, 100MiB/s]\n"
     ]
    }
   ],
   "source": [
    "#positive case, passing the repo_id as string \n",
    "repo_key=\"1643016586529\"\n",
    "dataset_ids =list_datasets\n",
    "folder_path=\"output_dir/\"\n",
    "omixatlas.download_dataset(repo_key,dataset_ids,folder_path)"
   ]
  },
  {
   "cell_type": "code",
   "execution_count": null,
   "metadata": {},
   "outputs": [],
   "source": []
  }
 ],
 "metadata": {
  "kernelspec": {
   "display_name": "Python 3 (ipykernel)",
   "language": "python",
   "name": "python3"
  },
  "language_info": {
   "codemirror_mode": {
    "name": "ipython",
    "version": 3
   },
   "file_extension": ".py",
   "mimetype": "text/x-python",
   "name": "python",
   "nbconvert_exporter": "python",
   "pygments_lexer": "ipython3",
   "version": "3.10.2"
  }
 },
 "nbformat": 4,
 "nbformat_minor": 2
}
