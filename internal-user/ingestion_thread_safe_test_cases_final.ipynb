{
 "cells": [
  {
   "cell_type": "markdown",
   "metadata": {},
   "source": [
    "# Welcome to Polly Python3 Notebook."
   ]
  },
  {
   "cell_type": "code",
   "execution_count": 1,
   "metadata": {},
   "outputs": [
    {
     "name": "stdout",
     "output_type": "stream",
     "text": [
      "/bin/bash: warning: setlocale: LC_ALL: cannot change locale (en_US.UTF-8)\n",
      "Collecting polly-python==0.2.9-threadSafeIngestion-LIB412\n",
      "  Downloading https://elucidatainc.github.io/PublicAssets/builds/polly-python/tests/testpolly/polly_python-0.2.9_threadSafeIngestion_LIB412-py3-none-any.whl (120 kB)\n",
      "\u001b[K     |████████████████████████████████| 120 kB 23.8 MB/s eta 0:00:01\n",
      "\u001b[?25hCollecting polly-validator@ https://elucidatainc.github.io/PublicAssets/builds/polly_validator-0.0.1-py3-none-any.whl\n",
      "  Downloading https://elucidatainc.github.io/PublicAssets/builds/polly_validator-0.0.1-py3-none-any.whl (22 kB)\n",
      "Requirement already satisfied: beautifulsoup4 in /usr/local/lib/python3.10/site-packages (from polly-python==0.2.9-threadSafeIngestion-LIB412) (4.11.2)\n",
      "Collecting cryptography>=38.0.1\n",
      "  Downloading cryptography-39.0.1-cp36-abi3-manylinux_2_28_x86_64.whl (4.2 MB)\n",
      "\u001b[K     |████████████████████████████████| 4.2 MB 24.0 MB/s eta 0:00:01\n",
      "\u001b[?25hRequirement already satisfied: chardet==4.0.0 in /usr/local/lib/python3.10/site-packages (from polly-python==0.2.9-threadSafeIngestion-LIB412) (4.0.0)\n",
      "Requirement already satisfied: pydantic in /usr/local/lib/python3.10/site-packages (from polly-python==0.2.9-threadSafeIngestion-LIB412) (1.9.1)\n",
      "Requirement already satisfied: python-magic==0.4.24 in /usr/local/lib/python3.10/site-packages (from polly-python==0.2.9-threadSafeIngestion-LIB412) (0.4.24)\n",
      "Requirement already satisfied: sqlparse in /usr/local/lib/python3.10/site-packages (from polly-python==0.2.9-threadSafeIngestion-LIB412) (0.4.3)\n",
      "Requirement already satisfied: python-jose>=3.3.0 in /usr/local/lib/python3.10/site-packages (from polly-python==0.2.9-threadSafeIngestion-LIB412) (3.3.0)\n",
      "Requirement already satisfied: tqdm in /usr/local/lib/python3.10/site-packages (from polly-python==0.2.9-threadSafeIngestion-LIB412) (4.64.1)\n",
      "Requirement already satisfied: postpy2==0.0.6 in /usr/local/lib/python3.10/site-packages (from polly-python==0.2.9-threadSafeIngestion-LIB412) (0.0.6)\n",
      "Requirement already satisfied: pytest in /usr/local/lib/python3.10/site-packages (from polly-python==0.2.9-threadSafeIngestion-LIB412) (7.2.1)\n",
      "Requirement already satisfied: urllib3==1.26.6 in /usr/local/lib/python3.10/site-packages (from polly-python==0.2.9-threadSafeIngestion-LIB412) (1.26.6)\n",
      "Requirement already satisfied: datapane in /usr/local/lib/python3.10/site-packages (from polly-python==0.2.9-threadSafeIngestion-LIB412) (0.15.6)\n",
      "Requirement already satisfied: elucidatacloudpathlib==0.6.6 in /usr/local/lib/python3.10/site-packages (from polly-python==0.2.9-threadSafeIngestion-LIB412) (0.6.6)\n",
      "Requirement already satisfied: certifi==2021.10.8 in /usr/local/lib/python3.10/site-packages (from polly-python==0.2.9-threadSafeIngestion-LIB412) (2021.10.8)\n",
      "Requirement already satisfied: pandas in /usr/local/lib/python3.10/site-packages (from polly-python==0.2.9-threadSafeIngestion-LIB412) (1.4.1)\n",
      "Requirement already satisfied: Deprecated in /usr/local/lib/python3.10/site-packages (from polly-python==0.2.9-threadSafeIngestion-LIB412) (1.2.13)\n",
      "Requirement already satisfied: joblib in /usr/local/lib/python3.10/site-packages (from polly-python==0.2.9-threadSafeIngestion-LIB412) (1.2.0)\n",
      "Requirement already satisfied: rst2txt in /usr/local/lib/python3.10/site-packages (from polly-python==0.2.9-threadSafeIngestion-LIB412) (1.1.0)\n",
      "Requirement already satisfied: elucidatacmapPy==3.3.4 in /usr/local/lib/python3.10/site-packages (from polly-python==0.2.9-threadSafeIngestion-LIB412) (3.3.4)\n",
      "Requirement already satisfied: Cerberus==1.3.2 in /usr/local/lib/python3.10/site-packages (from polly-python==0.2.9-threadSafeIngestion-LIB412) (1.3.2)\n",
      "Requirement already satisfied: idna==2.10 in /usr/local/lib/python3.10/site-packages (from polly-python==0.2.9-threadSafeIngestion-LIB412) (2.10)\n",
      "Requirement already satisfied: requests==2.25.1 in /usr/local/lib/python3.10/site-packages (from polly-python==0.2.9-threadSafeIngestion-LIB412) (2.25.1)\n",
      "Requirement already satisfied: plotly in /usr/local/lib/python3.10/site-packages (from polly-python==0.2.9-threadSafeIngestion-LIB412) (5.13.0)\n",
      "Requirement already satisfied: pytz==2021.1 in /usr/local/lib/python3.10/site-packages (from polly-python==0.2.9-threadSafeIngestion-LIB412) (2021.1)\n",
      "Collecting mixpanel>=4.10.0\n",
      "  Downloading mixpanel-4.10.0-py2.py3-none-any.whl (8.9 kB)\n",
      "Requirement already satisfied: python-dateutil in /usr/local/lib/python3.10/site-packages (from polly-python==0.2.9-threadSafeIngestion-LIB412) (2.8.1)\n",
      "Requirement already satisfied: retrying==1.3.3 in /usr/local/lib/python3.10/site-packages (from polly-python==0.2.9-threadSafeIngestion-LIB412) (1.3.3)\n",
      "Requirement already satisfied: botocore>=1.20.73 in /usr/local/lib/python3.10/site-packages (from polly-python==0.2.9-threadSafeIngestion-LIB412) (1.24.19)\n",
      "Requirement already satisfied: six==1.16.0 in /usr/local/lib/python3.10/site-packages (from polly-python==0.2.9-threadSafeIngestion-LIB412) (1.16.0)\n",
      "Requirement already satisfied: boto3>=1.17.73 in /usr/local/lib/python3.10/site-packages (from polly-python==0.2.9-threadSafeIngestion-LIB412) (1.21.19)\n",
      "Requirement already satisfied: setuptools in /usr/local/lib/python3.10/site-packages (from Cerberus==1.3.2->polly-python==0.2.9-threadSafeIngestion-LIB412) (58.1.0)\n",
      "Requirement already satisfied: h5py>=2.6.0 in /usr/local/lib/python3.10/site-packages (from elucidatacmapPy==3.3.4->polly-python==0.2.9-threadSafeIngestion-LIB412) (3.8.0)\n",
      "Requirement already satisfied: numpy>=1.11.2 in /usr/local/lib/python3.10/site-packages (from elucidatacmapPy==3.3.4->polly-python==0.2.9-threadSafeIngestion-LIB412) (1.22.3)\n",
      "Requirement already satisfied: s3transfer<0.6.0,>=0.5.0 in /usr/local/lib/python3.10/site-packages (from boto3>=1.17.73->polly-python==0.2.9-threadSafeIngestion-LIB412) (0.5.2)\n",
      "Requirement already satisfied: jmespath<1.0.0,>=0.7.1 in /usr/local/lib/python3.10/site-packages (from boto3>=1.17.73->polly-python==0.2.9-threadSafeIngestion-LIB412) (0.10.0)\n",
      "Requirement already satisfied: cffi>=1.12 in /usr/local/lib/python3.10/site-packages (from cryptography>=38.0.1->polly-python==0.2.9-threadSafeIngestion-LIB412) (1.15.1)\n",
      "Requirement already satisfied: pycparser in /usr/local/lib/python3.10/site-packages (from cffi>=1.12->cryptography>=38.0.1->polly-python==0.2.9-threadSafeIngestion-LIB412) (2.21)\n",
      "Requirement already satisfied: rsa in /usr/local/lib/python3.10/site-packages (from python-jose>=3.3.0->polly-python==0.2.9-threadSafeIngestion-LIB412) (4.7.2)\n",
      "Requirement already satisfied: ecdsa!=0.15 in /usr/local/lib/python3.10/site-packages (from python-jose>=3.3.0->polly-python==0.2.9-threadSafeIngestion-LIB412) (0.18.0)\n",
      "Requirement already satisfied: pyasn1 in /usr/local/lib/python3.10/site-packages (from python-jose>=3.3.0->polly-python==0.2.9-threadSafeIngestion-LIB412) (0.4.8)\n",
      "Requirement already satisfied: soupsieve>1.2 in /usr/local/lib/python3.10/site-packages (from beautifulsoup4->polly-python==0.2.9-threadSafeIngestion-LIB412) (2.3.2.post1)\n",
      "Requirement already satisfied: altair<5.0.0,>=4.0.0 in /usr/local/lib/python3.10/site-packages (from datapane->polly-python==0.2.9-threadSafeIngestion-LIB412) (4.2.2)\n",
      "Requirement already satisfied: datacommons-pandas<0.0.4,>=0.0.3 in /usr/local/lib/python3.10/site-packages (from datapane->polly-python==0.2.9-threadSafeIngestion-LIB412) (0.0.3)\n",
      "Requirement already satisfied: jsonschema<5.0.0,>=3.2.0 in /usr/local/lib/python3.10/site-packages (from datapane->polly-python==0.2.9-threadSafeIngestion-LIB412) (4.2.1)\n",
      "Requirement already satisfied: pyarrow<11.0.0,>=6.0.0 in /usr/local/lib/python3.10/site-packages (from datapane->polly-python==0.2.9-threadSafeIngestion-LIB412) (10.0.1)\n",
      "Requirement already satisfied: nbconvert<7.0.0,>=6.1.0 in /usr/local/lib/python3.10/site-packages (from datapane->polly-python==0.2.9-threadSafeIngestion-LIB412) (6.3.0)\n",
      "Requirement already satisfied: PyYAML<7.0.0,>=5.4.0 in /usr/local/lib/python3.10/site-packages (from datapane->polly-python==0.2.9-threadSafeIngestion-LIB412) (5.4.1)\n",
      "Requirement already satisfied: colorlog<7.0.0,>=4.1.0 in /usr/local/lib/python3.10/site-packages (from datapane->polly-python==0.2.9-threadSafeIngestion-LIB412) (6.7.0)\n",
      "Requirement already satisfied: requests-toolbelt<0.10.0,>=0.9.1 in /usr/local/lib/python3.10/site-packages (from datapane->polly-python==0.2.9-threadSafeIngestion-LIB412) (0.9.1)\n",
      "Requirement already satisfied: dulwich<0.21.0,>=0.20.0 in /usr/local/lib/python3.10/site-packages (from datapane->polly-python==0.2.9-threadSafeIngestion-LIB412) (0.20.50)\n",
      "Requirement already satisfied: furl<3.0.0,>=2.0.0 in /usr/local/lib/python3.10/site-packages (from datapane->polly-python==0.2.9-threadSafeIngestion-LIB412) (2.1.3)\n",
      "Requirement already satisfied: click<9.0.0,>=7.1.0 in /usr/local/lib/python3.10/site-packages (from datapane->polly-python==0.2.9-threadSafeIngestion-LIB412) (8.1.3)\n",
      "Requirement already satisfied: lxml<5.0.0,>=4.0.0 in /usr/local/lib/python3.10/site-packages (from datapane->polly-python==0.2.9-threadSafeIngestion-LIB412) (4.9.2)\n",
      "Requirement already satisfied: dacite<2.0.0,>=1.0.2 in /usr/local/lib/python3.10/site-packages (from datapane->polly-python==0.2.9-threadSafeIngestion-LIB412) (1.8.0)\n",
      "Requirement already satisfied: tabulate<0.9.0,>=0.8.0 in /usr/local/lib/python3.10/site-packages (from datapane->polly-python==0.2.9-threadSafeIngestion-LIB412) (0.8.10)\n",
      "Requirement already satisfied: ipynbname<2022.0.0,>=2021.3.2 in /usr/local/lib/python3.10/site-packages (from datapane->polly-python==0.2.9-threadSafeIngestion-LIB412) (2021.3.2)\n",
      "Requirement already satisfied: boltons<22.0.0,>=20.0.0 in /usr/local/lib/python3.10/site-packages (from datapane->polly-python==0.2.9-threadSafeIngestion-LIB412) (21.0.0)\n",
      "Requirement already satisfied: munch<3.0.0,>=2.3.0 in /usr/local/lib/python3.10/site-packages (from datapane->polly-python==0.2.9-threadSafeIngestion-LIB412) (2.5.0)\n",
      "Requirement already satisfied: stringcase<2.0.0,>=1.2.0 in /usr/local/lib/python3.10/site-packages (from datapane->polly-python==0.2.9-threadSafeIngestion-LIB412) (1.2.0)\n",
      "Requirement already satisfied: micawber>=0.5.0 in /usr/local/lib/python3.10/site-packages (from datapane->polly-python==0.2.9-threadSafeIngestion-LIB412) (0.5.4)\n",
      "Requirement already satisfied: Jinja2<4.0.0,>=3.0.0 in /usr/local/lib/python3.10/site-packages (from datapane->polly-python==0.2.9-threadSafeIngestion-LIB412) (3.0.3)\n",
      "Requirement already satisfied: toolz<0.13.0,>=0.11.0 in /usr/local/lib/python3.10/site-packages (from datapane->polly-python==0.2.9-threadSafeIngestion-LIB412) (0.12.0)\n",
      "Requirement already satisfied: importlib_resources<6.0.0,>=3.0.0 in /usr/local/lib/python3.10/site-packages (from datapane->polly-python==0.2.9-threadSafeIngestion-LIB412) (5.10.2)\n",
      "Requirement already satisfied: dominate<3.0.0,>=2.4.0 in /usr/local/lib/python3.10/site-packages (from datapane->polly-python==0.2.9-threadSafeIngestion-LIB412) (2.7.0)\n",
      "Requirement already satisfied: click-spinner<0.2.0,>=0.1.8 in /usr/local/lib/python3.10/site-packages (from datapane->polly-python==0.2.9-threadSafeIngestion-LIB412) (0.1.10)\n",
      "Requirement already satisfied: packaging<24.0.0,>=21.0.0 in /usr/local/lib/python3.10/site-packages (from datapane->polly-python==0.2.9-threadSafeIngestion-LIB412) (23.0)\n",
      "Requirement already satisfied: validators<0.21.0,>=0.18.0 in /usr/local/lib/python3.10/site-packages (from datapane->polly-python==0.2.9-threadSafeIngestion-LIB412) (0.20.0)\n",
      "Requirement already satisfied: vega-datasets<1.0.0,>=0.9.0 in /usr/local/lib/python3.10/site-packages (from datapane->polly-python==0.2.9-threadSafeIngestion-LIB412) (0.9.0)\n",
      "Requirement already satisfied: posthog<3.0.0,>=1.4.0 in /usr/local/lib/python3.10/site-packages (from datapane->polly-python==0.2.9-threadSafeIngestion-LIB412) (2.3.0)\n",
      "Requirement already satisfied: datacommons<2.0.0,>=1.4.3 in /usr/local/lib/python3.10/site-packages (from datapane->polly-python==0.2.9-threadSafeIngestion-LIB412) (1.4.3)\n",
      "Requirement already satisfied: glom<24.0.0,>=20.11.0 in /usr/local/lib/python3.10/site-packages (from datapane->polly-python==0.2.9-threadSafeIngestion-LIB412) (23.1.1)\n",
      "Requirement already satisfied: entrypoints in /usr/local/lib/python3.10/site-packages (from altair<5.0.0,>=4.0.0->datapane->polly-python==0.2.9-threadSafeIngestion-LIB412) (0.3)\n",
      "Requirement already satisfied: orderedmultidict>=1.0.1 in /usr/local/lib/python3.10/site-packages (from furl<3.0.0,>=2.0.0->datapane->polly-python==0.2.9-threadSafeIngestion-LIB412) (1.0.1)\n",
      "Requirement already satisfied: attrs in /usr/local/lib/python3.10/site-packages (from glom<24.0.0,>=20.11.0->datapane->polly-python==0.2.9-threadSafeIngestion-LIB412) (21.2.0)\n",
      "Requirement already satisfied: face==20.1.1 in /usr/local/lib/python3.10/site-packages (from glom<24.0.0,>=20.11.0->datapane->polly-python==0.2.9-threadSafeIngestion-LIB412) (20.1.1)\n",
      "Requirement already satisfied: ipykernel in /usr/local/lib/python3.10/site-packages (from ipynbname<2022.0.0,>=2021.3.2->datapane->polly-python==0.2.9-threadSafeIngestion-LIB412) (6.13.1)\n",
      "Requirement already satisfied: MarkupSafe>=2.0 in /usr/local/lib/python3.10/site-packages (from Jinja2<4.0.0,>=3.0.0->datapane->polly-python==0.2.9-threadSafeIngestion-LIB412) (2.0.1)\n",
      "Requirement already satisfied: pyrsistent!=0.17.0,!=0.17.1,!=0.17.2,>=0.14.0 in /usr/local/lib/python3.10/site-packages (from jsonschema<5.0.0,>=3.2.0->datapane->polly-python==0.2.9-threadSafeIngestion-LIB412) (0.18.0)\n",
      "Requirement already satisfied: nbformat>=4.4 in /usr/local/lib/python3.10/site-packages (from nbconvert<7.0.0,>=6.1.0->datapane->polly-python==0.2.9-threadSafeIngestion-LIB412) (5.1.3)\n",
      "Requirement already satisfied: nbclient<0.6.0,>=0.5.0 in /usr/local/lib/python3.10/site-packages (from nbconvert<7.0.0,>=6.1.0->datapane->polly-python==0.2.9-threadSafeIngestion-LIB412) (0.5.13)\n",
      "Requirement already satisfied: traitlets>=5.0 in /usr/local/lib/python3.10/site-packages (from nbconvert<7.0.0,>=6.1.0->datapane->polly-python==0.2.9-threadSafeIngestion-LIB412) (5.1.1)\n",
      "Requirement already satisfied: bleach in /usr/local/lib/python3.10/site-packages (from nbconvert<7.0.0,>=6.1.0->datapane->polly-python==0.2.9-threadSafeIngestion-LIB412) (4.1.0)\n",
      "Requirement already satisfied: pygments>=2.4.1 in /usr/local/lib/python3.10/site-packages (from nbconvert<7.0.0,>=6.1.0->datapane->polly-python==0.2.9-threadSafeIngestion-LIB412) (2.10.0)\n",
      "Requirement already satisfied: pandocfilters>=1.4.1 in /usr/local/lib/python3.10/site-packages (from nbconvert<7.0.0,>=6.1.0->datapane->polly-python==0.2.9-threadSafeIngestion-LIB412) (1.5.0)\n",
      "Requirement already satisfied: jupyter-core in /usr/local/lib/python3.10/site-packages (from nbconvert<7.0.0,>=6.1.0->datapane->polly-python==0.2.9-threadSafeIngestion-LIB412) (4.9.1)\n",
      "Requirement already satisfied: defusedxml in /usr/local/lib/python3.10/site-packages (from nbconvert<7.0.0,>=6.1.0->datapane->polly-python==0.2.9-threadSafeIngestion-LIB412) (0.7.1)\n",
      "Requirement already satisfied: mistune<2,>=0.8.1 in /usr/local/lib/python3.10/site-packages (from nbconvert<7.0.0,>=6.1.0->datapane->polly-python==0.2.9-threadSafeIngestion-LIB412) (0.8.4)\n",
      "Requirement already satisfied: testpath in /usr/local/lib/python3.10/site-packages (from nbconvert<7.0.0,>=6.1.0->datapane->polly-python==0.2.9-threadSafeIngestion-LIB412) (0.5.0)\n",
      "Requirement already satisfied: jupyterlab-pygments in /usr/local/lib/python3.10/site-packages (from nbconvert<7.0.0,>=6.1.0->datapane->polly-python==0.2.9-threadSafeIngestion-LIB412) (0.2.2)\n",
      "Requirement already satisfied: jupyter-client>=6.1.5 in /usr/local/lib/python3.10/site-packages (from nbclient<0.6.0,>=0.5.0->nbconvert<7.0.0,>=6.1.0->datapane->polly-python==0.2.9-threadSafeIngestion-LIB412) (6.1.12)\n",
      "Requirement already satisfied: nest-asyncio in /usr/local/lib/python3.10/site-packages (from nbclient<0.6.0,>=0.5.0->nbconvert<7.0.0,>=6.1.0->datapane->polly-python==0.2.9-threadSafeIngestion-LIB412) (1.5.6)\n",
      "Requirement already satisfied: tornado>=4.1 in /usr/local/lib/python3.10/site-packages (from jupyter-client>=6.1.5->nbclient<0.6.0,>=0.5.0->nbconvert<7.0.0,>=6.1.0->datapane->polly-python==0.2.9-threadSafeIngestion-LIB412) (6.1)\n",
      "Requirement already satisfied: pyzmq>=13 in /usr/local/lib/python3.10/site-packages (from jupyter-client>=6.1.5->nbclient<0.6.0,>=0.5.0->nbconvert<7.0.0,>=6.1.0->datapane->polly-python==0.2.9-threadSafeIngestion-LIB412) (22.3.0)\n",
      "Requirement already satisfied: ipython-genutils in /usr/local/lib/python3.10/site-packages (from nbformat>=4.4->nbconvert<7.0.0,>=6.1.0->datapane->polly-python==0.2.9-threadSafeIngestion-LIB412) (0.2.0)\n",
      "Requirement already satisfied: backoff<2.0.0,>=1.10.0 in /usr/local/lib/python3.10/site-packages (from posthog<3.0.0,>=1.4.0->datapane->polly-python==0.2.9-threadSafeIngestion-LIB412) (1.11.1)\n",
      "Requirement already satisfied: monotonic>=1.5 in /usr/local/lib/python3.10/site-packages (from posthog<3.0.0,>=1.4.0->datapane->polly-python==0.2.9-threadSafeIngestion-LIB412) (1.6)\n",
      "Requirement already satisfied: typing-extensions>=3.7.4.3 in /usr/local/lib/python3.10/site-packages (from pydantic->polly-python==0.2.9-threadSafeIngestion-LIB412) (4.4.0)\n",
      "Requirement already satisfied: decorator>=3.4.0 in /usr/local/lib/python3.10/site-packages (from validators<0.21.0,>=0.18.0->datapane->polly-python==0.2.9-threadSafeIngestion-LIB412) (5.1.0)\n",
      "Requirement already satisfied: webencodings in /usr/local/lib/python3.10/site-packages (from bleach->nbconvert<7.0.0,>=6.1.0->datapane->polly-python==0.2.9-threadSafeIngestion-LIB412) (0.5.1)\n",
      "Requirement already satisfied: wrapt<2,>=1.10 in /usr/local/lib/python3.10/site-packages (from Deprecated->polly-python==0.2.9-threadSafeIngestion-LIB412) (1.14.1)\n",
      "Requirement already satisfied: debugpy>=1.0 in /usr/local/lib/python3.10/site-packages (from ipykernel->ipynbname<2022.0.0,>=2021.3.2->datapane->polly-python==0.2.9-threadSafeIngestion-LIB412) (1.6.6)\n",
      "Requirement already satisfied: matplotlib-inline>=0.1 in /usr/local/lib/python3.10/site-packages (from ipykernel->ipynbname<2022.0.0,>=2021.3.2->datapane->polly-python==0.2.9-threadSafeIngestion-LIB412) (0.1.3)\n",
      "Requirement already satisfied: ipython>=7.23.1 in /usr/local/lib/python3.10/site-packages (from ipykernel->ipynbname<2022.0.0,>=2021.3.2->datapane->polly-python==0.2.9-threadSafeIngestion-LIB412) (8.2.0)\n",
      "Requirement already satisfied: psutil in /usr/local/lib/python3.10/site-packages (from ipykernel->ipynbname<2022.0.0,>=2021.3.2->datapane->polly-python==0.2.9-threadSafeIngestion-LIB412) (5.9.4)\n",
      "Requirement already satisfied: jedi>=0.16 in /usr/local/lib/python3.10/site-packages (from ipython>=7.23.1->ipykernel->ipynbname<2022.0.0,>=2021.3.2->datapane->polly-python==0.2.9-threadSafeIngestion-LIB412) (0.18.1)\n",
      "Requirement already satisfied: pickleshare in /usr/local/lib/python3.10/site-packages (from ipython>=7.23.1->ipykernel->ipynbname<2022.0.0,>=2021.3.2->datapane->polly-python==0.2.9-threadSafeIngestion-LIB412) (0.7.5)\n",
      "Requirement already satisfied: pexpect>4.3 in /usr/local/lib/python3.10/site-packages (from ipython>=7.23.1->ipykernel->ipynbname<2022.0.0,>=2021.3.2->datapane->polly-python==0.2.9-threadSafeIngestion-LIB412) (4.8.0)\n",
      "Requirement already satisfied: stack-data in /usr/local/lib/python3.10/site-packages (from ipython>=7.23.1->ipykernel->ipynbname<2022.0.0,>=2021.3.2->datapane->polly-python==0.2.9-threadSafeIngestion-LIB412) (0.6.2)\n",
      "Requirement already satisfied: prompt-toolkit!=3.0.0,!=3.0.1,<3.1.0,>=2.0.0 in /usr/local/lib/python3.10/site-packages (from ipython>=7.23.1->ipykernel->ipynbname<2022.0.0,>=2021.3.2->datapane->polly-python==0.2.9-threadSafeIngestion-LIB412) (3.0.22)\n",
      "Requirement already satisfied: backcall in /usr/local/lib/python3.10/site-packages (from ipython>=7.23.1->ipykernel->ipynbname<2022.0.0,>=2021.3.2->datapane->polly-python==0.2.9-threadSafeIngestion-LIB412) (0.2.0)\n",
      "Requirement already satisfied: parso<0.9.0,>=0.8.0 in /usr/local/lib/python3.10/site-packages (from jedi>=0.16->ipython>=7.23.1->ipykernel->ipynbname<2022.0.0,>=2021.3.2->datapane->polly-python==0.2.9-threadSafeIngestion-LIB412) (0.8.2)\n",
      "Requirement already satisfied: ptyprocess>=0.5 in /usr/local/lib/python3.10/site-packages (from pexpect>4.3->ipython>=7.23.1->ipykernel->ipynbname<2022.0.0,>=2021.3.2->datapane->polly-python==0.2.9-threadSafeIngestion-LIB412) (0.7.0)\n",
      "Requirement already satisfied: wcwidth in /usr/local/lib/python3.10/site-packages (from prompt-toolkit!=3.0.0,!=3.0.1,<3.1.0,>=2.0.0->ipython>=7.23.1->ipykernel->ipynbname<2022.0.0,>=2021.3.2->datapane->polly-python==0.2.9-threadSafeIngestion-LIB412) (0.2.5)\n",
      "Requirement already satisfied: tenacity>=6.2.0 in /usr/local/lib/python3.10/site-packages (from plotly->polly-python==0.2.9-threadSafeIngestion-LIB412) (8.1.0)\n",
      "Collecting appdirs==1.4.4\n",
      "  Downloading appdirs-1.4.4-py2.py3-none-any.whl (9.6 kB)\n",
      "Collecting pronto\n",
      "  Downloading pronto-2.5.3-py2.py3-none-any.whl (61 kB)\n",
      "\u001b[K     |████████████████████████████████| 61 kB 18.3 MB/s eta 0:00:01\n",
      "\u001b[?25hCollecting rapidfuzz==2.1.1\n",
      "  Downloading rapidfuzz-2.1.1-cp310-cp310-manylinux_2_17_x86_64.manylinux2014_x86_64.whl (2.0 MB)\n",
      "\u001b[K     |████████████████████████████████| 2.0 MB 89.9 MB/s eta 0:00:01\n",
      "\u001b[?25hCollecting jarowinkler<1.1.0,>=1.0.3\n",
      "  Downloading jarowinkler-1.0.5-cp310-cp310-manylinux_2_17_x86_64.manylinux2014_x86_64.whl (103 kB)\n",
      "\u001b[K     |████████████████████████████████| 103 kB 132.1 MB/s eta 0:00:01\n",
      "\u001b[?25hCollecting networkx~=2.3\n",
      "  Downloading networkx-2.8.8-py3-none-any.whl (2.0 MB)\n",
      "\u001b[K     |████████████████████████████████| 2.0 MB 84.6 MB/s eta 0:00:01\n",
      "\u001b[?25hCollecting fastobo~=0.12.2\n",
      "  Downloading fastobo-0.12.2-cp310-cp310-manylinux_2_17_x86_64.manylinux2014_x86_64.whl (2.1 MB)\n",
      "\u001b[K     |████████████████████████████████| 2.1 MB 98.6 MB/s eta 0:00:01\n",
      "\u001b[?25hCollecting pronto\n",
      "  Downloading pronto-2.5.2-py2.py3-none-any.whl (61 kB)\n",
      "\u001b[K     |████████████████████████████████| 61 kB 24.3 MB/s  eta 0:00:01\n",
      "\u001b[?25h  Downloading pronto-2.5.1-py2.py3-none-any.whl (61 kB)\n",
      "\u001b[K     |████████████████████████████████| 61 kB 22.2 MB/s  eta 0:00:01\n",
      "\u001b[?25hRequirement already satisfied: exceptiongroup>=1.0.0rc8 in /usr/local/lib/python3.10/site-packages (from pytest->polly-python==0.2.9-threadSafeIngestion-LIB412) (1.1.0)\n",
      "Requirement already satisfied: tomli>=1.0.0 in /usr/local/lib/python3.10/site-packages (from pytest->polly-python==0.2.9-threadSafeIngestion-LIB412) (2.0.1)\n",
      "Requirement already satisfied: iniconfig in /usr/local/lib/python3.10/site-packages (from pytest->polly-python==0.2.9-threadSafeIngestion-LIB412) (2.0.0)\n",
      "Requirement already satisfied: pluggy<2.0,>=0.12 in /usr/local/lib/python3.10/site-packages (from pytest->polly-python==0.2.9-threadSafeIngestion-LIB412) (1.0.0)\n",
      "Requirement already satisfied: docutils>=0.11 in /usr/local/lib/python3.10/site-packages (from rst2txt->polly-python==0.2.9-threadSafeIngestion-LIB412) (0.15.2)\n",
      "Requirement already satisfied: executing>=1.2.0 in /usr/local/lib/python3.10/site-packages (from stack-data->ipython>=7.23.1->ipykernel->ipynbname<2022.0.0,>=2021.3.2->datapane->polly-python==0.2.9-threadSafeIngestion-LIB412) (1.2.0)\n",
      "Requirement already satisfied: pure-eval in /usr/local/lib/python3.10/site-packages (from stack-data->ipython>=7.23.1->ipykernel->ipynbname<2022.0.0,>=2021.3.2->datapane->polly-python==0.2.9-threadSafeIngestion-LIB412) (0.2.2)\n",
      "Requirement already satisfied: asttokens>=2.1.0 in /usr/local/lib/python3.10/site-packages (from stack-data->ipython>=7.23.1->ipykernel->ipynbname<2022.0.0,>=2021.3.2->datapane->polly-python==0.2.9-threadSafeIngestion-LIB412) (2.2.1)\n",
      "Installing collected packages: networkx, jarowinkler, fastobo, rapidfuzz, pronto, appdirs, polly-validator, mixpanel, cryptography, polly-python\n",
      "  Attempting uninstall: networkx\n",
      "    Found existing installation: networkx 3.0\n",
      "    Uninstalling networkx-3.0:\n",
      "      Successfully uninstalled networkx-3.0\n",
      "  Attempting uninstall: polly-python\n",
      "    Found existing installation: polly-python 0.2.4\n",
      "    Uninstalling polly-python-0.2.4:\n",
      "      Successfully uninstalled polly-python-0.2.4\n",
      "Successfully installed appdirs-1.4.4 cryptography-39.0.1 fastobo-0.12.2 jarowinkler-1.0.5 mixpanel-4.10.0 networkx-2.8.8 polly-python-0.2.9 polly-validator-0.0.1 pronto-2.5.1 rapidfuzz-2.1.1\n",
      "\u001b[33mWARNING: Running pip as the 'root' user can result in broken permissions and conflicting behaviour with the system package manager. It is recommended to use a virtual environment instead: https://pip.pypa.io/warnings/venv\u001b[0m\n",
      "\u001b[33mWARNING: You are using pip version 21.2.4; however, version 23.0 is available.\n",
      "You should consider upgrading via the '/usr/local/bin/python3.10 -m pip install --upgrade pip' command.\u001b[0m\n"
     ]
    }
   ],
   "source": [
    "!sudo pip3 install https://elucidatainc.github.io/PublicAssets/builds/polly-python/tests/testpolly/polly_python-0.2.9_threadSafeIngestion_LIB412-py3-none-any.whl"
   ]
  },
  {
   "cell_type": "code",
   "execution_count": 2,
   "metadata": {},
   "outputs": [],
   "source": [
    "AUTH_TOKEN=(os.environ['POLLY_REFRESH_TOKEN'])\n",
    "import os\n",
    "from polly.auth import Polly\n",
    "from polly.omixatlas import OmixAtlas\n",
    "Polly.auth(AUTH_TOKEN)"
   ]
  },
  {
   "cell_type": "code",
   "execution_count": 3,
   "metadata": {},
   "outputs": [],
   "source": [
    "omixatlas = OmixAtlas()"
   ]
  },
  {
   "cell_type": "code",
   "execution_count": 4,
   "metadata": {},
   "outputs": [
    {
     "name": "stdout",
     "output_type": "stream",
     "text": [
      "/bin/bash: warning: setlocale: LC_ALL: cannot change locale (en_US.UTF-8)\n",
      "combined_metadata_jsons/\n",
      "data/\n",
      "data_2/\n",
      "metadata/\n",
      "metadata_1/\n",
      "metadata_2/\n",
      "\n"
     ]
    }
   ],
   "source": [
    "!polly files list --workspace-path \"polly://repoid_1654268055800_files_test/\" -y"
   ]
  },
  {
   "cell_type": "code",
   "execution_count": 5,
   "metadata": {},
   "outputs": [
    {
     "name": "stdout",
     "output_type": "stream",
     "text": [
      "/bin/bash: warning: setlocale: LC_ALL: cannot change locale (en_US.UTF-8)\n",
      "\u001b7\u001b[?7l\u001b[1Gprogress [░░░░░░░░░░░░░░░░░░░░░░░░░░░░░░░░░░░░░░░░] 0% | NA | ETA: 0s | time elapsed: 0s\u001b[0K\u001b[1Gprogress [███░░░░░░░░░░░░░░░░░░░░░░░░░░░░░░░░░░░░░] 8% | 12.97 KB/153.476 KB | ETA: 2s | time elapsed: 0s\u001b[0K\u001b[1Gprogress [████████████████████████████████████████] 100% | 153.476 KB/153.476 KB | ETA: 0s | time elapsed: 0s\u001b[0K\u001b[?7h\u001b8\n",
      "\u001b[32m\u001b[1mSuccess: Sync complete\u001b[22m\u001b[39m\n"
     ]
    }
   ],
   "source": [
    "!polly files sync -s \"polly://repoid_1654268055800_files_test/\" -d \"repoid_1654268055800_files_test/\" -y"
   ]
  },
  {
   "cell_type": "code",
   "execution_count": 6,
   "metadata": {},
   "outputs": [
    {
     "name": "stdout",
     "output_type": "stream",
     "text": [
      "/bin/bash: warning: setlocale: LC_ALL: cannot change locale (en_US.UTF-8)\r\n",
      "repoid_1654268055800_files_test/combined_metadata_jsons:\r\n",
      "1673443183532_metadata.json  1674018000657_metadata_385_409.json\r\n",
      "\r\n",
      "repoid_1654268055800_files_test/data:\r\n",
      "BRCA_BCCRC_Mutation_SA018.gct  BRCA_BCCRC_Mutation_SAytc.gct\r\n",
      "BRCA_BCCRC_Mutation_SA029.gct  CCLE_Mutation_C3A_LIVER.gct\r\n",
      "BRCA_BCCRC_Mutation_SA031.gct\r\n",
      "\r\n",
      "repoid_1654268055800_files_test/data_2:\r\n",
      "ACBC_MSKCC_2015_Copy_Number_AdCC10T.gct\r\n",
      "\r\n",
      "repoid_1654268055800_files_test/metadata:\r\n",
      "BRCA_BCCRC_Mutation_SA018.json  BRCA_BCCRC_Mutation_SA031.json\r\n",
      "BRCA_BCCRC_Mutation_SA029.json  BRCA_BCCRC_Mutation_SA031_dummy.json\r\n",
      "BRCA_BCCRC_Mutation_SA030.json\r\n",
      "\r\n",
      "repoid_1654268055800_files_test/metadata_1:\r\n",
      "PRAD_CPCG_2017_Mutation_TCGA-2A-A8VL-01.json\r\n",
      "\r\n",
      "repoid_1654268055800_files_test/metadata_2:\r\n",
      "ACBC_MSKCC_2015_Copy_Number_AdCC10T.json\r\n"
     ]
    }
   ],
   "source": [
    "ls repoid_1654268055800_files_test/*"
   ]
  },
  {
   "cell_type": "code",
   "execution_count": 6,
   "metadata": {},
   "outputs": [
    {
     "name": "stderr",
     "output_type": "stream",
     "text": [
      "Creating Combined Metadata File and uploading it: 100%|██████████| 1/1 [00:00<00:00, 4258.18it/s]\n",
      "Uploading data files: 100%|██████████| 1/1 [00:00<00:00,  7.20files/s]"
     ]
    },
    {
     "name": "stdout",
     "output_type": "stream",
     "text": [
      "\n",
      "                                  File Name        Message\n",
      "0                   combined_metadata.json  File Uploaded\n",
      "1  ACBC_MSKCC_2015_Copy_Number_AdCC10T.gct  File Uploaded\n"
     ]
    },
    {
     "name": "stderr",
     "output_type": "stream",
     "text": [
      "\n"
     ]
    },
    {
     "data": {
      "text/html": [
       "<div>\n",
       "<style scoped>\n",
       "    .dataframe tbody tr th:only-of-type {\n",
       "        vertical-align: middle;\n",
       "    }\n",
       "\n",
       "    .dataframe tbody tr th {\n",
       "        vertical-align: top;\n",
       "    }\n",
       "\n",
       "    .dataframe thead th {\n",
       "        text-align: right;\n",
       "    }\n",
       "</style>\n",
       "<table border=\"1\" class=\"dataframe\">\n",
       "  <thead>\n",
       "    <tr style=\"text-align: right;\">\n",
       "      <th></th>\n",
       "      <th>File Name</th>\n",
       "      <th>Message</th>\n",
       "    </tr>\n",
       "  </thead>\n",
       "  <tbody>\n",
       "    <tr>\n",
       "      <th>0</th>\n",
       "      <td>combined_metadata.json</td>\n",
       "      <td>File Uploaded</td>\n",
       "    </tr>\n",
       "    <tr>\n",
       "      <th>1</th>\n",
       "      <td>ACBC_MSKCC_2015_Copy_Number_AdCC10T.gct</td>\n",
       "      <td>File Uploaded</td>\n",
       "    </tr>\n",
       "  </tbody>\n",
       "</table>\n",
       "</div>"
      ],
      "text/plain": [
       "                                 File Name        Message\n",
       "0                   combined_metadata.json  File Uploaded\n",
       "1  ACBC_MSKCC_2015_Copy_Number_AdCC10T.gct  File Uploaded"
      ]
     },
     "execution_count": 6,
     "metadata": {},
     "output_type": "execute_result"
    }
   ],
   "source": [
    "#generic test for update and add datasets: \n",
    "metadata_folder_path = \"repoid_1654268055800_files_test/metadata_2/\"\n",
    "data_folder_path = \"repoid_1654268055800_files_test/data_2/\"\n",
    "repo_id= \"1654268055800\"\n",
    "priority = \"high\"\n",
    "destination_folder_path = \"transcriptomics_70\"\n",
    "source_folder_path = {\"metadata\":metadata_folder_path, \"data\": data_folder_path}\n",
    "omixatlas.update_datasets(repo_id, source_folder_path, destination_folder_path, priority)"
   ]
  },
  {
   "cell_type": "code",
   "execution_count": 7,
   "metadata": {},
   "outputs": [
    {
     "name": "stderr",
     "output_type": "stream",
     "text": [
      "Creating Combined Metadata File and uploading it: 100%|██████████| 1/1 [00:00<00:00, 3118.44it/s]\n",
      "Uploading data files: 100%|██████████| 1/1 [00:00<00:00,  7.33files/s]"
     ]
    },
    {
     "name": "stdout",
     "output_type": "stream",
     "text": [
      "\n",
      "                                  File Name        Message\n",
      "0                   combined_metadata.json  File Uploaded\n",
      "1  ACBC_MSKCC_2015_Copy_Number_AdCC10T.gct  File Uploaded\n"
     ]
    },
    {
     "name": "stderr",
     "output_type": "stream",
     "text": [
      "\n"
     ]
    },
    {
     "data": {
      "text/html": [
       "<div>\n",
       "<style scoped>\n",
       "    .dataframe tbody tr th:only-of-type {\n",
       "        vertical-align: middle;\n",
       "    }\n",
       "\n",
       "    .dataframe tbody tr th {\n",
       "        vertical-align: top;\n",
       "    }\n",
       "\n",
       "    .dataframe thead th {\n",
       "        text-align: right;\n",
       "    }\n",
       "</style>\n",
       "<table border=\"1\" class=\"dataframe\">\n",
       "  <thead>\n",
       "    <tr style=\"text-align: right;\">\n",
       "      <th></th>\n",
       "      <th>File Name</th>\n",
       "      <th>Message</th>\n",
       "    </tr>\n",
       "  </thead>\n",
       "  <tbody>\n",
       "    <tr>\n",
       "      <th>0</th>\n",
       "      <td>combined_metadata.json</td>\n",
       "      <td>File Uploaded</td>\n",
       "    </tr>\n",
       "    <tr>\n",
       "      <th>1</th>\n",
       "      <td>ACBC_MSKCC_2015_Copy_Number_AdCC10T.gct</td>\n",
       "      <td>File Uploaded</td>\n",
       "    </tr>\n",
       "  </tbody>\n",
       "</table>\n",
       "</div>"
      ],
      "text/plain": [
       "                                 File Name        Message\n",
       "0                   combined_metadata.json  File Uploaded\n",
       "1  ACBC_MSKCC_2015_Copy_Number_AdCC10T.gct  File Uploaded"
      ]
     },
     "execution_count": 7,
     "metadata": {},
     "output_type": "execute_result"
    }
   ],
   "source": [
    "metadata_folder_path = \"repoid_1654268055800_files_test/metadata_2/\"\n",
    "data_folder_path = \"repoid_1654268055800_files_test/data_2/\"\n",
    "repo_id= \"1654268055800\"\n",
    "priority = \"high\"\n",
    "destination_folder_path = \"transcriptomics_75\"\n",
    "source_folder_path = {\"metadata\":metadata_folder_path, \"data\": data_folder_path}\n",
    "omixatlas.add_datasets(repo_id, source_folder_path, destination_folder_path, priority)"
   ]
  },
  {
   "cell_type": "code",
   "execution_count": 10,
   "metadata": {},
   "outputs": [],
   "source": [
    "#preparing 1000 data set for updating onto the OA \n",
    "#with chunking\n",
    "def download_data_file(repo_name: str, dataset_id_list : list, folder_path: str): \n",
    "        for dataset_id in dataset_id_list: \n",
    "            start_time = time.time()\n",
    "            download_response = omixatlas.download_data(repo_name, dataset_id)\n",
    "            url = (\n",
    "                download_response.get(\"data\", {}).get(\"attributes\", {}).get(\"download_url\")\n",
    "            )\n",
    "            local_filename = url.split('/')[-1].split('?')[0]\n",
    "            local_filename = os.path.join(folder_path,local_filename)\n",
    "            # NOTE the stream=True parameter below\n",
    "            with requests.get(url, stream=True) as r:\n",
    "                r.raise_for_status()\n",
    "                with open(local_filename, 'wb') as f:\n",
    "                    for chunk in r.iter_content(chunk_size=8192): \n",
    "                        # If you have chunk encoded response uncomment if\n",
    "                        # and set chunk_size parameter to None.\n",
    "                        #if chunk: \n",
    "                        f.write(chunk)\n",
    "            end_time = time.time()\n",
    "            print(\"done with dataset id : \" +dataset_id + \" in time: \" + str(end_time - start_time))"
   ]
  },
  {
   "cell_type": "code",
   "execution_count": 12,
   "metadata": {},
   "outputs": [
    {
     "name": "stdout",
     "output_type": "stream",
     "text": [
      "/bin/bash: warning: setlocale: LC_ALL: cannot change locale (en_US.UTF-8)\r\n",
      "mkdir: cannot create directory '100_datasets': File exists\r\n"
     ]
    }
   ],
   "source": [
    "!mkdir 100_datasets\n",
    "# in terminal directly \n",
    "polly@jupyter-1675836496750852-2dfe906981feaa4490a21e5359dcd6513a-2df:/import/100_datasets$ mkdir data\n",
    "polly@jupyter-1675836496750852-2dfe906981feaa4490a21e5359dcd6513a-2df:/import/100_datasets$ cd data/\n",
    "polly@jupyter-1675836496750852-2dfe906981feaa4490a21e5359dcd6513a-2df:/import/100_datasets/data$ mkdir data_1\n",
    "polly@jupyter-1675836496750852-2dfe906981feaa4490a21e5359dcd6513a-2df:/import/100_datasets/data$ mkdir data_2\n",
    "polly@jupyter-1675836496750852-2dfe906981feaa4490a21e5359dcd6513a-2df:/import/100_datasets/data$ mkdir data_3\n",
    "polly@jupyter-1675836496750852-2dfe906981feaa4490a21e5359dcd6513a-2df:/import/100_datasets/data$ mkdir data_4\n",
    "polly@jupyter-1675836496750852-2dfe906981feaa4490a21e5359dcd6513a-2df:/import/100_datasets/data$ mkdir data_5\n",
    "polly@jupyter-1675836496750852-2dfe906981feaa4490a21e5359dcd6513a-2df:/import/100_datasets/data$\n"
   ]
  },
  {
   "cell_type": "code",
   "execution_count": 14,
   "metadata": {},
   "outputs": [
    {
     "name": "stdout",
     "output_type": "stream",
     "text": [
      "/bin/bash: warning: setlocale: LC_ALL: cannot change locale (en_US.UTF-8)\r\n",
      "application.log\t\t\t\tinput_df.csv\r\n",
      "cohort_df.csv\t\t\t\tmeta_sample_df.csv\r\n",
      "combined_metadata.json\t\t\traw_intensity_df.csv\r\n",
      "gct_to_df.gct\t\t\t\tstandard_df.csv\r\n",
      "ingestion_thread_safe_test_cases.ipynb\r\n",
      "\r\n",
      "100_datasets:\r\n",
      "\r\n",
      "repoid_1654268055800_files_test:\r\n",
      "combined_metadata_jsons  data  data_2  metadata  metadata_1  metadata_2\r\n",
      "\r\n",
      "scripts:\r\n",
      "__init__.py\t\t       gct_to_df_converter.py\r\n",
      "cohort_based_visualisation.py  ion_count_normalisation.py\r\n",
      "df_to_gct_converter.py\r\n"
     ]
    }
   ],
   "source": [
    "!ls *"
   ]
  },
  {
   "cell_type": "code",
   "execution_count": 8,
   "metadata": {},
   "outputs": [
    {
     "name": "stdout",
     "output_type": "stream",
     "text": [
      "Query execution succeeded (time taken: 2.12 seconds, data scanned: 0.016 MB)\n",
      "Fetched 20 rows\n"
     ]
    },
    {
     "data": {
      "text/plain": [
       "['GSE80305_GPL11154',\n",
       " 'GSE80313_GPL11154',\n",
       " 'GSE80340_GPL1355',\n",
       " 'GSE80344_GPL16699',\n",
       " 'GSE80346_GPL17021',\n",
       " 'GSE8034_GPL1261',\n",
       " 'GSE80351_GPL11154',\n",
       " 'GSE80352_GPL11154',\n",
       " 'GSE80356_GPL14550',\n",
       " 'GSE80365_GPL16791',\n",
       " 'GSE80366_GPL16791',\n",
       " 'GSE80372_GPL18573',\n",
       " 'GSE80388_GPL15520',\n",
       " 'GSE8039_GPL1261',\n",
       " 'GSE803_GPL92',\n",
       " 'GSE803_GPL95',\n",
       " 'GSE80410_GPL11532',\n",
       " 'GSE80410_GPL11533',\n",
       " 'GSE80411_GPL11154',\n",
       " 'GSE80425_GPL13112']"
      ]
     },
     "execution_count": 8,
     "metadata": {},
     "output_type": "execute_result"
    }
   ],
   "source": [
    "#getting random 20 datasets\n",
    "query = \"SELECT dataset_id FROM geo.datasets LIMIT 20\"\n",
    "result = omixatlas.query_metadata(query)\n",
    "list_datasets = result[\"dataset_id\"].tolist()\n",
    "list_datasets"
   ]
  },
  {
   "cell_type": "code",
   "execution_count": 9,
   "metadata": {},
   "outputs": [
    {
     "data": {
      "text/plain": [
       "[['GSE80305_GPL11154',\n",
       "  'GSE80313_GPL11154',\n",
       "  'GSE80340_GPL1355',\n",
       "  'GSE80344_GPL16699'],\n",
       " ['GSE80346_GPL17021',\n",
       "  'GSE8034_GPL1261',\n",
       "  'GSE80351_GPL11154',\n",
       "  'GSE80352_GPL11154'],\n",
       " ['GSE80356_GPL14550',\n",
       "  'GSE80365_GPL16791',\n",
       "  'GSE80366_GPL16791',\n",
       "  'GSE80372_GPL18573'],\n",
       " ['GSE80388_GPL15520', 'GSE8039_GPL1261', 'GSE803_GPL92', 'GSE803_GPL95'],\n",
       " ['GSE80410_GPL11532',\n",
       "  'GSE80410_GPL11533',\n",
       "  'GSE80411_GPL11154',\n",
       "  'GSE80425_GPL13112']]"
      ]
     },
     "execution_count": 9,
     "metadata": {},
     "output_type": "execute_result"
    }
   ],
   "source": [
    "# distributing 20 datasets into 5 groups of 4 each\n",
    "chunks = [list_datasets[x:x+4] for x in range(0, len(list_datasets), 4)]\n",
    "chunks"
   ]
  },
  {
   "cell_type": "code",
   "execution_count": null,
   "metadata": {},
   "outputs": [],
   "source": [
    "# Downloading the data files into 5 different folders"
   ]
  },
  {
   "cell_type": "code",
   "execution_count": 13,
   "metadata": {},
   "outputs": [
    {
     "name": "stdout",
     "output_type": "stream",
     "text": [
      "done with dataset id : GSE80305_GPL11154 in time: 1.2783174514770508\n",
      "done with dataset id : GSE80313_GPL11154 in time: 1.3201167583465576\n",
      "done with dataset id : GSE80340_GPL1355 in time: 1.3349220752716064\n",
      "done with dataset id : GSE80344_GPL16699 in time: 1.361759901046753\n",
      "done with dataset id : GSE80352_GPL11154 in time: 1.225034236907959\n",
      "done with dataset id : GSE80351_GPL11154 in time: 1.314199447631836\n",
      "done with dataset id : GSE8034_GPL1261 in time: 1.321160078048706\n",
      "done with dataset id : GSE80346_GPL17021 in time: 1.3984127044677734\n",
      "done with dataset id : GSE80372_GPL18573 in time: 1.223344326019287\n",
      "done with dataset id : GSE80365_GPL16791 in time: 1.315906047821045\n",
      "done with dataset id : GSE80366_GPL16791 in time: 1.3240177631378174\n",
      "done with dataset id : GSE80356_GPL14550 in time: 1.3545997142791748\n",
      "done with dataset id : GSE803_GPL95 in time: 1.2629470825195312\n",
      "done with dataset id : GSE8039_GPL1261 in time: 1.3286805152893066\n",
      "done with dataset id : GSE80388_GPL15520 in time: 1.370804786682129\n",
      "done with dataset id : GSE803_GPL92 in time: 2.5911011695861816\n",
      "done with dataset id : GSE80425_GPL13112 in time: 1.2758827209472656\n",
      "done with dataset id : GSE80411_GPL11154 in time: 1.2822105884552002\n",
      "done with dataset id : GSE80410_GPL11532 in time: 1.3171727657318115\n",
      "done with dataset id : GSE80410_GPL11533 in time: 1.4599409103393555\n",
      "8.213565349578857\n"
     ]
    }
   ],
   "source": [
    "# query = \"SELECT dataset_id FROM geo.datasets LIMIT 1000\"\n",
    "# result = omixatlas.query_metadata(query)\n",
    "# list_datasets = result[\"dataset_id\"].tolist()\n",
    "#with chunking # 1000 datasets \n",
    "import time\n",
    "from joblib import Parallel, delayed\n",
    "start = time.time()\n",
    "status_gct_1 = Parallel(n_jobs=20, require=\"sharedmem\")(\n",
    "                delayed(download_data_file)(\"geo\", [str(i)], \"/import/100_datasets/data/data_1\") for i in chunks[0]\n",
    "            )\n",
    "status_gct_2 = Parallel(n_jobs=20, require=\"sharedmem\")(\n",
    "                delayed(download_data_file)(\"geo\", [str(i)], \"/import/100_datasets/data/data_2\") for i in chunks[1]\n",
    "            )\n",
    "status_gct_3 = Parallel(n_jobs=20, require=\"sharedmem\")(\n",
    "                delayed(download_data_file)(\"geo\", [str(i)], \"/import/100_datasets/data/data_3\") for i in chunks[2]\n",
    "            )\n",
    "status_gct_4 = Parallel(n_jobs=20, require=\"sharedmem\")(\n",
    "                delayed(download_data_file)(\"geo\", [str(i)], \"/import/100_datasets/data/data_4\") for i in chunks[3]\n",
    "            )\n",
    "status_gct_5 = Parallel(n_jobs=20, require=\"sharedmem\")(\n",
    "                delayed(download_data_file)(\"geo\", [str(i)], \"/import/100_datasets/data/data_5\") for i in chunks[4]\n",
    "            )\n",
    "print(time.time()-start)\n",
    "\n"
   ]
  },
  {
   "cell_type": "code",
   "execution_count": 18,
   "metadata": {},
   "outputs": [
    {
     "name": "stdout",
     "output_type": "stream",
     "text": [
      "4\n"
     ]
    }
   ],
   "source": [
    "#renaming all files in the folder to remove the _curated suffix \n",
    "import os\n",
    "i = 0\n",
    "path=\"/import/100_datasets/data/data_5/\" # did this one by one for each of the folder.\n",
    "for filename in os.listdir(path):\n",
    "    if \"_curated\" in filename:\n",
    "        actual_name = filename.split(\"_curated\")[0]\n",
    "        extenstion=filename.split(\".\")[1]\n",
    "        final_name = path + actual_name +\".\" + extenstion\n",
    "        my_source =path + filename\n",
    "        os.rename(my_source, final_name)\n",
    "        i=i+1\n",
    "print(i)"
   ]
  },
  {
   "cell_type": "code",
   "execution_count": null,
   "metadata": {},
   "outputs": [],
   "source": [
    "# in terminal \n",
    "# polly@jupyter-1675836496750852-2dfe906981feaa4490a21e5359dcd6513a-2df:/import/100_datasets$ mkdir metadata\n",
    "# polly@jupyter-1675836496750852-2dfe906981feaa4490a21e5359dcd6513a-2df:/import/100_datasets$ cd metadata/\n",
    "# polly@jupyter-1675836496750852-2dfe906981feaa4490a21e5359dcd6513a-2df:/import/100_datasets/metadata$ mkdir metadata_1\n",
    "# polly@jupyter-1675836496750852-2dfe906981feaa4490a21e5359dcd6513a-2df:/import/100_datasets/metadata$ mkdir metadata_2\n",
    "# polly@jupyter-1675836496750852-2dfe906981feaa4490a21e5359dcd6513a-2df:/import/100_datasets/metadata$ mkdir metadata_3\n",
    "# polly@jupyter-1675836496750852-2dfe906981feaa4490a21e5359dcd6513a-2df:/import/100_datasets/metadata$ mkdir metadata_4\n",
    "# polly@jupyter-1675836496750852-2dfe906981feaa4490a21e5359dcd6513a-2df:/import/100_datasets/metadata$ mkdir metadata_5"
   ]
  },
  {
   "cell_type": "code",
   "execution_count": 19,
   "metadata": {},
   "outputs": [
    {
     "name": "stdout",
     "output_type": "stream",
     "text": [
      "The dataset level metadata for dataset = GSE80305_GPL11154 has been downloaded at : = /import/100_datasets/metadata/metadata_1/GSE80305_GPL11154.json\n",
      "The dataset level metadata for dataset = GSE80313_GPL11154 has been downloaded at : = /import/100_datasets/metadata/metadata_1/GSE80313_GPL11154.json\n",
      "The dataset level metadata for dataset = GSE80340_GPL1355 has been downloaded at : = /import/100_datasets/metadata/metadata_1/GSE80340_GPL1355.json\n",
      "The dataset level metadata for dataset = GSE80344_GPL16699 has been downloaded at : = /import/100_datasets/metadata/metadata_1/GSE80344_GPL16699.json\n",
      "The dataset level metadata for dataset = GSE80352_GPL11154 has been downloaded at : = /import/100_datasets/metadata/metadata_2/GSE80352_GPL11154.json\n",
      "The dataset level metadata for dataset = GSE80346_GPL17021 has been downloaded at : = /import/100_datasets/metadata/metadata_2/GSE80346_GPL17021.json\n",
      "The dataset level metadata for dataset = GSE8034_GPL1261 has been downloaded at : = /import/100_datasets/metadata/metadata_2/GSE8034_GPL1261.json\n",
      "The dataset level metadata for dataset = GSE80351_GPL11154 has been downloaded at : = /import/100_datasets/metadata/metadata_2/GSE80351_GPL11154.json\n",
      "The dataset level metadata for dataset = GSE80366_GPL16791 has been downloaded at : = /import/100_datasets/metadata/metadata_3/GSE80366_GPL16791.json\n",
      "The dataset level metadata for dataset = GSE80365_GPL16791 has been downloaded at : = /import/100_datasets/metadata/metadata_3/GSE80365_GPL16791.json\n",
      "The dataset level metadata for dataset = GSE80372_GPL18573 has been downloaded at : = /import/100_datasets/metadata/metadata_3/GSE80372_GPL18573.json\n",
      "The dataset level metadata for dataset = GSE80356_GPL14550 has been downloaded at : = /import/100_datasets/metadata/metadata_3/GSE80356_GPL14550.json\n",
      "The dataset level metadata for dataset = GSE803_GPL92 has been downloaded at : = /import/100_datasets/metadata/metadata_4/GSE803_GPL92.json\n",
      "The dataset level metadata for dataset = GSE80388_GPL15520 has been downloaded at : = /import/100_datasets/metadata/metadata_4/GSE80388_GPL15520.json\n",
      "The dataset level metadata for dataset = GSE8039_GPL1261 has been downloaded at : = /import/100_datasets/metadata/metadata_4/GSE8039_GPL1261.json\n",
      "The dataset level metadata for dataset = GSE803_GPL95 has been downloaded at : = /import/100_datasets/metadata/metadata_4/GSE803_GPL95.json\n",
      "The dataset level metadata for dataset = GSE80410_GPL11533 has been downloaded at : = /import/100_datasets/metadata/metadata_5/GSE80410_GPL11533.json\n",
      "The dataset level metadata for dataset = GSE80410_GPL11532 has been downloaded at : = /import/100_datasets/metadata/metadata_5/GSE80410_GPL11532.json\n",
      "The dataset level metadata for dataset = GSE80425_GPL13112 has been downloaded at : = /import/100_datasets/metadata/metadata_5/GSE80425_GPL13112.json\n",
      "The dataset level metadata for dataset = GSE80411_GPL11154 has been downloaded at : = /import/100_datasets/metadata/metadata_5/GSE80411_GPL11154.json\n",
      "10.95661735534668\n"
     ]
    }
   ],
   "source": [
    "#downloading metdata into 5 different folders for the datasets downloaded\n",
    "import time\n",
    "from joblib import Parallel, delayed\n",
    "start = time.time()\n",
    "status_gct_1 = Parallel(n_jobs=20, require=\"sharedmem\")(\n",
    "                delayed(omixatlas.download_metadata)(\"geo\", str(i), \"/import/100_datasets/metadata/metadata_1\") for i in chunks[0]\n",
    "            )\n",
    "status_gct_2 = Parallel(n_jobs=20, require=\"sharedmem\")(\n",
    "                delayed(omixatlas.download_metadata)(\"geo\", str(i), \"/import/100_datasets/metadata/metadata_2\") for i in chunks[1]\n",
    "            )\n",
    "status_gct_3 = Parallel(n_jobs=20, require=\"sharedmem\")(\n",
    "                delayed(omixatlas.download_metadata)(\"geo\", str(i), \"/import/100_datasets/metadata/metadata_3\") for i in chunks[2]\n",
    "            )\n",
    "status_gct_4 = Parallel(n_jobs=20, require=\"sharedmem\")(\n",
    "                delayed(omixatlas.download_metadata)(\"geo\", str(i), \"/import/100_datasets/metadata/metadata_4\") for i in chunks[3]\n",
    "            )\n",
    "status_gct_5 = Parallel(n_jobs=20, require=\"sharedmem\")(\n",
    "                delayed(omixatlas.download_metadata)(\"geo\", str(i), \"/import/100_datasets/metadata/metadata_5\") for i in chunks[4]\n",
    "            )\n",
    "print(time.time()-start)"
   ]
  },
  {
   "cell_type": "markdown",
   "metadata": {},
   "source": [
    "# we have 5 folders with 4 files each \n",
    "\n",
    "## data folders\n",
    "polly@jupyter-1675419729677588-2dfe906981feaa4490a21e5359dcd6513a-2d9:/import/100_datasets$ ls *\n",
    "data:\n",
    "data_1  data_2  data_3  data_4  data_5\n",
    "\n",
    "metadata:\n",
    "metadata_1  metadata_2  metadata_3  metadata_4  metadata_5\n",
    "polly@jupyter-1675419729677588-2dfe906981feaa4490a21e5359dcd6513a-2d9:/import/100_datasets$ ls data/*\n",
    "data/data_1:\n",
    "GSE80305_GPL11154.gct  GSE80313_GPL11154.gct  GSE80340_GPL1355.gct  GSE80344_GPL16699.gct\n",
    "\n",
    "data/data_2:\n",
    "GSE80346_GPL17021.gct  GSE8034_GPL1261.gct  GSE80351_GPL11154.gct  GSE80352_GPL11154.gct\n",
    "\n",
    "data/data_3:\n",
    "GSE80356_GPL14550.gct  GSE80365_GPL16791.gct  GSE80366_GPL16791.gct  GSE80372_GPL18573.gct\n",
    "\n",
    "data/data_4:\n",
    "GSE80388_GPL15520.gct  GSE8039_GPL1261.gct  GSE803_GPL92.gct  GSE803_GPL95.gct\n",
    "\n",
    "data/data_5:\n",
    "GSE80410_GPL11532.gct  GSE80410_GPL11533.gct  GSE80411_GPL11154.gct  GSE80425_GPL13112.gct\n",
    "\n",
    "### metdata folders\n",
    "polly@jupyter-1675419729677588-2dfe906981feaa4490a21e5359dcd6513a-2d9:/import/100_datasets$ ls metadata/*\n",
    "metadata/metadata_1:\n",
    "GSE80305_GPL11154.json  GSE80313_GPL11154.json  GSE80340_GPL1355.json  GSE80344_GPL16699.json\n",
    "\n",
    "metadata/metadata_2:\n",
    "GSE80346_GPL17021.json  GSE8034_GPL1261.json  GSE80351_GPL11154.json  GSE80352_GPL11154.json\n",
    "\n",
    "metadata/metadata_3:\n",
    "GSE80356_GPL14550.json  GSE80365_GPL16791.json  GSE80366_GPL16791.json  GSE80372_GPL18573.json\n",
    "\n",
    "metadata/metadata_4:\n",
    "GSE80388_GPL15520.json  GSE8039_GPL1261.json  GSE803_GPL92.json  GSE803_GPL95.json\n",
    "\n",
    "metadata/metadata_5:\n",
    "GSE80410_GPL11532.json  GSE80410_GPL11533.json  GSE80411_GPL11154.json  GSE80425_GPL13112.json\n",
    "polly@jupyter-1675419729677588-2dfe906981feaa4490a21e5359dcd6513a-2d9:/import/100_datasets$"
   ]
  },
  {
   "cell_type": "markdown",
   "metadata": {},
   "source": [
    "### parelly using add data sets with multiple threads. the combined_metadata.jsons are beibfg parallely uploaded. "
   ]
  },
  {
   "cell_type": "code",
   "execution_count": 20,
   "metadata": {},
   "outputs": [
    {
     "name": "stderr",
     "output_type": "stream",
     "text": [
      "Processing Metadata files: 100%|██████████| 4/4 [00:00<00:00, 8811.56it/s]\n",
      "Processing Metadata files: 100%|██████████| 4/4 [00:00<00:00, 7313.52it/s]\n",
      "Processing Metadata files: 100%|██████████| 4/4 [00:00<00:00, 6639.18it/s]\n",
      "Processing Metadata files: 100%|██████████| 4/4 [00:00<00:00, 8392.80it/s]\n",
      "Processing Metadata files: 100%|██████████| 4/4 [00:00<00:00, 7619.08it/s]\n",
      "Uploading data files:   0%|          | 0/4 [00:00<?, ?files/s]\n",
      "Uploading data files:   0%|          | 0/4 [00:00<?, ?files/s]\u001b[A\n",
      "\n",
      "Uploading data files:   0%|          | 0/4 [00:00<?, ?files/s]\u001b[A\u001b[A\n",
      "\n",
      "\n",
      "Uploading data files:   0%|          | 0/4 [00:00<?, ?files/s]\u001b[A\u001b[A\u001b[A\n",
      "\n",
      "\n",
      "\n",
      "Uploading data files:  25%|██▌       | 1/4 [00:00<00:00,  3.58files/s]A\u001b[A\n",
      "Uploading data files:  25%|██▌       | 1/4 [00:00<00:00,  3.14files/s]\u001b[A\n",
      "\n",
      "Uploading data files:  25%|██▌       | 1/4 [00:00<00:01,  2.65files/s]\u001b[A\u001b[A\n",
      "\n",
      "\n",
      "\n",
      "Uploading data files:  25%|██▌       | 1/4 [00:00<00:01,  2.72files/s]\u001b[A\u001b[A\u001b[A\u001b[A\n",
      "\n",
      "\n",
      "Uploading data files:  25%|██▌       | 1/4 [00:00<00:01,  2.17files/s]\u001b[A\u001b[A\u001b[A\n",
      "Uploading data files:  50%|█████     | 2/4 [00:00<00:00,  3.27files/s]\u001b[A\n",
      "\n",
      "Uploading data files:  50%|█████     | 2/4 [00:00<00:00,  3.85files/s]\u001b[A\u001b[A\n",
      "Uploading data files:  75%|███████▌  | 3/4 [00:00<00:00,  4.28files/s]\u001b[A\n",
      "\n",
      "\n",
      "Uploading data files:  75%|███████▌  | 3/4 [00:00<00:00,  3.84files/s]\u001b[A\u001b[A\u001b[A\n",
      "\n",
      "\n",
      "\n",
      "Uploading data files:  50%|█████     | 2/4 [00:00<00:00,  3.09files/s]\u001b[A\u001b[A\u001b[A\u001b[A\n",
      "\n",
      "Uploading data files:  75%|███████▌  | 3/4 [00:00<00:00,  4.36files/s]\u001b[A\u001b[A\n",
      "Uploading data files: 100%|██████████| 4/4 [00:00<00:00,  4.35files/s]\u001b[A\n",
      "Uploading data files: 100%|██████████| 4/4 [00:01<00:00,  3.77files/s]\n",
      "\n",
      "\n",
      "\n",
      "\n",
      "Uploading data files:  75%|███████▌  | 3/4 [00:00<00:00,  3.36files/s]\u001b[A\u001b[A\u001b[A\u001b[A\n",
      "\n",
      "\n",
      "Uploading data files:  75%|███████▌  | 3/4 [00:01<00:00,  3.01files/s]\u001b[A\u001b[A\u001b[A\n",
      "\n",
      "Uploading data files: 100%|██████████| 4/4 [00:01<00:00,  3.76files/s]\u001b[A\u001b[A\n"
     ]
    },
    {
     "name": "stdout",
     "output_type": "stream",
     "text": [
      "Please wait for 30 seconds while your ingestion request is getting logged.\n",
      "Please wait for 30 seconds while your ingestion request is getting logged.\n",
      "Please wait for 30 seconds while your ingestion request is getting logged.\n"
     ]
    },
    {
     "name": "stderr",
     "output_type": "stream",
     "text": [
      "\n",
      "\n",
      "\n",
      "Uploading data files: 100%|██████████| 4/4 [00:01<00:00,  3.23files/s]\u001b[A\u001b[A\u001b[A\n",
      "\n",
      "\n",
      "\n",
      "\n",
      "Uploading data files: 100%|██████████| 4/4 [00:01<00:00,  3.26files/s]\u001b[A\u001b[A\u001b[A\u001b[A\n"
     ]
    },
    {
     "name": "stdout",
     "output_type": "stream",
     "text": [
      "Please wait for 30 seconds while your ingestion request is getting logged.\n",
      "Please wait for 30 seconds while your ingestion request is getting logged.\n",
      "\n",
      "\n",
      "Your ingestion request is successfully logged. You can go to ingestion monitoring dashboard for tracking it's status.\n",
      "\n",
      "                 File Name        Message\n",
      "0  combined_metadata.json  File Uploaded\n",
      "1   GSE80425_GPL13112.gct  File Uploaded\n",
      "2   GSE80411_GPL11154.gct  File Uploaded\n",
      "3   GSE80410_GPL11532.gct  File Uploaded\n",
      "4   GSE80410_GPL11533.gct  File Uploaded\n",
      "\n",
      "\n",
      "Your ingestion request is successfully logged. You can go to ingestion monitoring dashboard for tracking it's status.\n",
      "\n",
      "                 File Name        Message\n",
      "0  combined_metadata.json  File Uploaded\n",
      "1   GSE80372_GPL18573.gct  File Uploaded\n",
      "2   GSE80366_GPL16791.gct  File Uploaded\n",
      "3   GSE80365_GPL16791.gct  File Uploaded\n",
      "4   GSE80356_GPL14550.gct  File Uploaded\n",
      "\n",
      "\n",
      "Your ingestion request is successfully logged. You can go to ingestion monitoring dashboard for tracking it's status.\n",
      "\n",
      "                 File Name        Message\n",
      "0  combined_metadata.json  File Uploaded\n",
      "1   GSE80305_GPL11154.gct  File Uploaded\n",
      "2   GSE80313_GPL11154.gct  File Uploaded\n",
      "3    GSE80340_GPL1355.gct  File Uploaded\n",
      "4   GSE80344_GPL16699.gct  File Uploaded\n",
      "\n",
      "                 File Name        Message\n",
      "0  combined_metadata.json  File Uploaded\n",
      "1     GSE8039_GPL1261.gct  File Uploaded\n",
      "2        GSE803_GPL95.gct  File Uploaded\n",
      "3   GSE80388_GPL15520.gct  File Uploaded\n",
      "4        GSE803_GPL92.gct  File Uploaded\n",
      "\n",
      "                 File Name        Message\n",
      "0  combined_metadata.json  File Uploaded\n",
      "1     GSE8034_GPL1261.gct  File Uploaded\n",
      "2   GSE80352_GPL11154.gct  File Uploaded\n",
      "3   GSE80351_GPL11154.gct  File Uploaded\n",
      "4   GSE80346_GPL17021.gct  File Uploaded\n",
      "36.51981830596924\n"
     ]
    }
   ],
   "source": [
    "def prep_run_add_dataset_function(number):\n",
    "    metadata_folder_path = \"/import/100_datasets/metadata/metadata_\" + number\n",
    "    data_folder_path = \"/import/100_datasets/data/data_\" + number\n",
    "    source_folder_path = {\"metadata\":metadata_folder_path, \"data\": data_folder_path}\n",
    "    repo_id= \"1654268055800\"\n",
    "    priority = \"high\"\n",
    "    destination_folder_path = \"bulk_multithread_test\"\n",
    "    omixatlas.add_datasets(repo_id, source_folder_path, destination_folder_path, priority)\n",
    "    \n",
    "import time\n",
    "from joblib import Parallel, delayed\n",
    "numbers = [\"1\",\"2\",\"3\",\"4\",\"5\"]\n",
    "start = time.time()\n",
    "status_gct = Parallel(n_jobs=20, require=\"sharedmem\")(\n",
    "                delayed(prep_run_add_dataset_function)(i) for i in numbers\n",
    "            )\n",
    "print(time.time()-start)"
   ]
  },
  {
   "cell_type": "markdown",
   "metadata": {},
   "source": [
    "on checking, we could see 4 combined metadata folders uploaded to s3 instead of 4 (has been communicated to Compute team )"
   ]
  },
  {
   "cell_type": "code",
   "execution_count": null,
   "metadata": {},
   "outputs": [],
   "source": []
  }
 ],
 "metadata": {
  "kernelspec": {
   "display_name": "Python 3 (ipykernel)",
   "language": "python",
   "name": "python3"
  },
  "language_info": {
   "codemirror_mode": {
    "name": "ipython",
    "version": 3
   },
   "file_extension": ".py",
   "mimetype": "text/x-python",
   "name": "python",
   "nbconvert_exporter": "python",
   "pygments_lexer": "ipython3",
   "version": "3.10.2"
  }
 },
 "nbformat": 4,
 "nbformat_minor": 2
}
