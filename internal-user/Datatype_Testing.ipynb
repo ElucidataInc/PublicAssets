{
  "cells": [
    {
      "cell_type": "markdown",
      "metadata": {
        "colab_type": "text",
        "id": "view-in-github"
      },
      "source": [
        "<a href=\"https://testpolly.elucidata.io/manage/workspaces?action=open_polly_notebook&source=github&path=path_place_holder&kernel=elucidata/Python 3.10&machine=medium\" target=\"_parent\"><img src=\"https://elucidatainc.github.io/PublicAssets/open_polly.svg\" alt=\"Open in Polly\"/></a>\n"
      ]
    },
    {
      "cell_type": "markdown",
      "metadata": {},
      "source": [
        "# Welcome to Polly Python3 Notebook."
      ]
    },
    {
      "cell_type": "code",
      "execution_count": null,
      "metadata": {},
      "outputs": [],
      "source": [
        "!sudo pip3 install  https://elucidatainc.github.io/PublicAssets/builds/polly-python/tests/testpolly/polly_python-0.2.9_datatype_omix-py3-none-any.whl"
      ]
    },
    {
      "cell_type": "code",
      "execution_count": 1,
      "metadata": {},
      "outputs": [],
      "source": [
        "from polly.auth import Polly\n",
        "from polly.omixatlas import OmixAtlas\n",
        "AUTH_TOKEN=(os.environ['POLLY_REFRESH_TOKEN'])\n",
        "Polly.auth(AUTH_TOKEN)\n",
        "omixatlas = OmixAtlas()"
      ]
    },
    {
      "cell_type": "code",
      "execution_count": 2,
      "metadata": {},
      "outputs": [
        {
          "name": "stdout",
          "output_type": "stream",
          "text": [
            "---payload----\n",
            "{'data': {'type': 'repositories', 'attributes': {'frontend_info': {'description': 'testing datatype param', 'display_name': 'test_datatype_func_1', 'icon_image_url': 'https://elucidatainc.github.io/PublicAssets/discover-fe-assets/omixatlas_hex.svg'}, 'indexes': {'csv': 'test_datatype_func_1_csv', 'files': 'test_datatype_func_1_files', 'gct_data': 'test_datatype_func_1_gct_data', 'gct_metadata': 'test_datatype_func_1_gct_metadata', 'h5ad_data': 'test_datatype_func_1_h5ad_data', 'h5ad_metadata': 'test_datatype_func_1_h5ad_metadata', 'ipynb': 'test_datatype_func_1_ipynb', 'json': 'test_datatype_func_1_json'}, 'repo_name': 'test_datatype_func_1', 'category': 'private', 'data_type': 'single_cell', 'components': []}}}\n",
            " OmixAtlas 1673850501403 Created  \n",
            "----omixatlas df---\n",
            "   Repository Id       Repository Name Category     Datatype  \\\n",
            "0  1673850501403  test_datatype_func_1  private  single_cell   \n",
            "\n",
            "           Display Name             Description  \n",
            "0  test_datatype_func_1  testing datatype param  \n"
          ]
        }
      ],
      "source": [
        "# first testcase\n",
        "# datatype single_cell\n",
        "\n",
        "res = omixatlas.create(\"test_datatype_func_1\", \"testing datatype param\", data_type=\"single_cell\")\n",
        "print(\"----omixatlas df---\")\n",
        "print(res)"
      ]
    },
    {
      "cell_type": "code",
      "execution_count": 3,
      "metadata": {},
      "outputs": [
        {
          "name": "stdout",
          "output_type": "stream",
          "text": [
            "---payload----\n",
            "{'data': {'type': 'repositories', 'attributes': {'frontend_info': {'description': 'testing datatype param', 'display_name': 'test_datatype_func_2', 'icon_image_url': 'https://elucidatainc.github.io/PublicAssets/discover-fe-assets/omixatlas_hex.svg'}, 'indexes': {'csv': 'test_datatype_func_2_csv', 'files': 'test_datatype_func_2_files', 'gct_data': 'test_datatype_func_2_gct_data', 'gct_metadata': 'test_datatype_func_2_gct_metadata', 'h5ad_data': 'test_datatype_func_2_h5ad_data', 'h5ad_metadata': 'test_datatype_func_2_h5ad_metadata', 'ipynb': 'test_datatype_func_2_ipynb', 'json': 'test_datatype_func_2_json'}, 'repo_name': 'test_datatype_func_2', 'category': 'private', 'data_type': 'bulk_rna_seq', 'components': []}}}\n",
            " OmixAtlas 1673850509294 Created  \n",
            "----omixatlas df---\n",
            "   Repository Id       Repository Name Category      Datatype  \\\n",
            "0  1673850509294  test_datatype_func_2  private  bulk_rna_seq   \n",
            "\n",
            "           Display Name             Description  \n",
            "0  test_datatype_func_2  testing datatype param  \n"
          ]
        }
      ],
      "source": [
        "# second testcase\n",
        "# datatype bulk_rna_seq\n",
        "\n",
        "res = omixatlas.create(\"test_datatype_func_2\", \"testing datatype param\", data_type=\"bulk_rna_seq\")\n",
        "print(\"----omixatlas df---\")\n",
        "print(res)"
      ]
    },
    {
      "cell_type": "code",
      "execution_count": 4,
      "metadata": {},
      "outputs": [
        {
          "name": "stdout",
          "output_type": "stream",
          "text": [
            "---payload----\n",
            "{'data': {'type': 'repositories', 'attributes': {'frontend_info': {'description': 'testing datatype param', 'display_name': 'test_datatype_func_3', 'icon_image_url': 'https://elucidatainc.github.io/PublicAssets/discover-fe-assets/omixatlas_hex.svg'}, 'indexes': {'csv': 'test_datatype_func_3_csv', 'files': 'test_datatype_func_3_files', 'gct_data': 'test_datatype_func_3_gct_data', 'gct_metadata': 'test_datatype_func_3_gct_metadata', 'h5ad_data': 'test_datatype_func_3_h5ad_data', 'h5ad_metadata': 'test_datatype_func_3_h5ad_metadata', 'ipynb': 'test_datatype_func_3_ipynb', 'json': 'test_datatype_func_3_json'}, 'repo_name': 'test_datatype_func_3', 'category': 'private', 'components': []}}}\n",
            " OmixAtlas 1673850518776 Created  \n",
            "----omixatlas df---\n",
            "   Repository Id       Repository Name Category          Display Name  \\\n",
            "0  1673850518776  test_datatype_func_3  private  test_datatype_func_3   \n",
            "\n",
            "              Description  \n",
            "0  testing datatype param  \n"
          ]
        }
      ],
      "source": [
        "# third test case\n",
        "# no datatype -> should not be reflected in the output\n",
        "\n",
        "res = omixatlas.create(\"test_datatype_func_3\", \"testing datatype param\")\n",
        "print(\"----omixatlas df---\")\n",
        "print(res)"
      ]
    },
    {
      "cell_type": "code",
      "execution_count": 5,
      "metadata": {},
      "outputs": [
        {
          "ename": "paramException",
          "evalue": "paramException (parameter error): bulkseq should be a string and its value must be one of ['single_cell', 'bulk_rna_seq']",
          "output_type": "error",
          "traceback": [
            "\u001b[0;31m---------------------------------------------------------------------------\u001b[0m",
            "\u001b[0;31mparamException\u001b[0m                            Traceback (most recent call last)",
            "Input \u001b[0;32mIn [5]\u001b[0m, in \u001b[0;36m<cell line: 5>\u001b[0;34m()\u001b[0m\n\u001b[1;32m      1\u001b[0m \u001b[38;5;66;03m# fourth test case\u001b[39;00m\n\u001b[1;32m      2\u001b[0m \u001b[38;5;66;03m# pass anything except single_cell or bulk_rna_seq\u001b[39;00m\n\u001b[1;32m      3\u001b[0m \u001b[38;5;66;03m# error should be raised -> datatype string\u001b[39;00m\n\u001b[0;32m----> 5\u001b[0m res \u001b[38;5;241m=\u001b[39m \u001b[43momixatlas\u001b[49m\u001b[38;5;241;43m.\u001b[39;49m\u001b[43mcreate\u001b[49m\u001b[43m(\u001b[49m\u001b[38;5;124;43m\"\u001b[39;49m\u001b[38;5;124;43mtest_datatype_func_4\u001b[39;49m\u001b[38;5;124;43m\"\u001b[39;49m\u001b[43m,\u001b[49m\u001b[43m \u001b[49m\u001b[38;5;124;43m\"\u001b[39;49m\u001b[38;5;124;43mtesting datatype param\u001b[39;49m\u001b[38;5;124;43m\"\u001b[39;49m\u001b[43m,\u001b[49m\u001b[43m \u001b[49m\u001b[43mdata_type\u001b[49m\u001b[38;5;241;43m=\u001b[39;49m\u001b[38;5;124;43m\"\u001b[39;49m\u001b[38;5;124;43mbulkseq\u001b[39;49m\u001b[38;5;124;43m\"\u001b[39;49m\u001b[43m)\u001b[49m\n\u001b[1;32m      6\u001b[0m \u001b[38;5;28mprint\u001b[39m(\u001b[38;5;124m\"\u001b[39m\u001b[38;5;124m----omixatlas df---\u001b[39m\u001b[38;5;124m\"\u001b[39m)\n\u001b[1;32m      7\u001b[0m \u001b[38;5;28mprint\u001b[39m(res)\n",
            "File \u001b[0;32m/usr/local/lib/python3.10/site-packages/polly/omixatlas.py:1374\u001b[0m, in \u001b[0;36mOmixAtlas.create\u001b[0;34m(self, display_name, description, repo_name, image_url, components, category, data_type)\u001b[0m\n\u001b[1;32m   1372\u001b[0m             \u001b[38;5;167;01mValueError\u001b[39;00m(\u001b[38;5;124m\"\u001b[39m\u001b[38;5;124mRepository creation response is in Incorrect format\u001b[39m\u001b[38;5;124m\"\u001b[39m)\n\u001b[1;32m   1373\u001b[0m \u001b[38;5;28;01mexcept\u001b[39;00m \u001b[38;5;167;01mException\u001b[39;00m \u001b[38;5;28;01mas\u001b[39;00m err:\n\u001b[0;32m-> 1374\u001b[0m     \u001b[38;5;28;01mraise\u001b[39;00m err\n",
            "File \u001b[0;32m/usr/local/lib/python3.10/site-packages/polly/omixatlas.py:1325\u001b[0m, in \u001b[0;36mOmixAtlas.create\u001b[0;34m(self, display_name, description, repo_name, image_url, components, category, data_type)\u001b[0m\n\u001b[1;32m   1306\u001b[0m \u001b[38;5;124;03m\"\"\"\u001b[39;00m\n\u001b[1;32m   1307\u001b[0m \u001b[38;5;124;03mThis function is used to create a new omixatlas.\u001b[39;00m\n\u001b[1;32m   1308\u001b[0m \u001b[38;5;124;03mArgs:\u001b[39;00m\n\u001b[0;32m   (...)\u001b[0m\n\u001b[1;32m   1322\u001b[0m \u001b[38;5;124;03m      ValueError: Repository creation response is in Incorrect format.\u001b[39;00m\n\u001b[1;32m   1323\u001b[0m \u001b[38;5;124;03m\"\"\"\u001b[39;00m\n\u001b[1;32m   1324\u001b[0m \u001b[38;5;28;01mtry\u001b[39;00m:\n\u001b[0;32m-> 1325\u001b[0m     \u001b[43momix_hlpr\u001b[49m\u001b[38;5;241;43m.\u001b[39;49m\u001b[43mcheck_create_omixatlas_parameters\u001b[49m\u001b[43m(\u001b[49m\n\u001b[1;32m   1326\u001b[0m \u001b[43m        \u001b[49m\u001b[43mdisplay_name\u001b[49m\u001b[43m,\u001b[49m\n\u001b[1;32m   1327\u001b[0m \u001b[43m        \u001b[49m\u001b[43mdescription\u001b[49m\u001b[43m,\u001b[49m\n\u001b[1;32m   1328\u001b[0m \u001b[43m        \u001b[49m\u001b[43mrepo_name\u001b[49m\u001b[43m,\u001b[49m\n\u001b[1;32m   1329\u001b[0m \u001b[43m        \u001b[49m\u001b[43mimage_url\u001b[49m\u001b[43m,\u001b[49m\n\u001b[1;32m   1330\u001b[0m \u001b[43m        \u001b[49m\u001b[43mcomponents\u001b[49m\u001b[43m,\u001b[49m\n\u001b[1;32m   1331\u001b[0m \u001b[43m        \u001b[49m\u001b[43mcategory\u001b[49m\u001b[43m,\u001b[49m\n\u001b[1;32m   1332\u001b[0m \u001b[43m        \u001b[49m\u001b[43mdata_type\u001b[49m\u001b[43m,\u001b[49m\n\u001b[1;32m   1333\u001b[0m \u001b[43m    \u001b[49m\u001b[43m)\u001b[49m\n\u001b[1;32m   1334\u001b[0m     payload \u001b[38;5;241m=\u001b[39m \u001b[38;5;28mself\u001b[39m\u001b[38;5;241m.\u001b[39m_get_repository_payload()\n\u001b[1;32m   1335\u001b[0m     frontend_info \u001b[38;5;241m=\u001b[39m {}\n",
            "File \u001b[0;32m/usr/local/lib/python3.10/site-packages/polly/omixatlas_hlpr.py:857\u001b[0m, in \u001b[0;36mcheck_create_omixatlas_parameters\u001b[0;34m(display_name, description, repo_name, image_url, components, category, data_type)\u001b[0m\n\u001b[1;32m    853\u001b[0m \u001b[38;5;28;01mif\u001b[39;00m data_type:\n\u001b[1;32m    854\u001b[0m     \u001b[38;5;28;01mif\u001b[39;00m \u001b[38;5;129;01mnot\u001b[39;00m \u001b[38;5;28misinstance\u001b[39m(data_type, \u001b[38;5;28mstr\u001b[39m) \u001b[38;5;129;01mor\u001b[39;00m (\n\u001b[1;32m    855\u001b[0m         data_type \u001b[38;5;129;01mnot\u001b[39;00m \u001b[38;5;129;01min\u001b[39;00m const\u001b[38;5;241m.\u001b[39mOMIXATLAS_DATA_TYPE_VALS\n\u001b[1;32m    856\u001b[0m     ):\n\u001b[0;32m--> 857\u001b[0m         \u001b[38;5;28;01mraise\u001b[39;00m paramException(\n\u001b[1;32m    858\u001b[0m             title\u001b[38;5;241m=\u001b[39m\u001b[38;5;124m\"\u001b[39m\u001b[38;5;124mParam Error\u001b[39m\u001b[38;5;124m\"\u001b[39m,\n\u001b[1;32m    859\u001b[0m             detail\u001b[38;5;241m=\u001b[39m(\n\u001b[1;32m    860\u001b[0m                 \u001b[38;5;124mf\u001b[39m\u001b[38;5;124m\"\u001b[39m\u001b[38;5;132;01m{\u001b[39;00mdata_type\u001b[38;5;132;01m}\u001b[39;00m\u001b[38;5;124m should be a string and its value must be one of \u001b[39m\u001b[38;5;124m\"\u001b[39m\n\u001b[1;32m    861\u001b[0m                 \u001b[38;5;241m+\u001b[39m \u001b[38;5;124mf\u001b[39m\u001b[38;5;124m\"\u001b[39m\u001b[38;5;132;01m{\u001b[39;00mconst\u001b[38;5;241m.\u001b[39mOMIXATLAS_DATA_TYPE_VALS\u001b[38;5;132;01m}\u001b[39;00m\u001b[38;5;124m\"\u001b[39m\n\u001b[1;32m    862\u001b[0m             ),\n\u001b[1;32m    863\u001b[0m         )\n",
            "\u001b[0;31mparamException\u001b[0m: paramException (parameter error): bulkseq should be a string and its value must be one of ['single_cell', 'bulk_rna_seq']"
          ]
        }
      ],
      "source": [
        "# fourth test case\n",
        "# pass anything except single_cell or bulk_rna_seq\n",
        "# error should be raised -> datatype string\n",
        "\n",
        "res = omixatlas.create(\"test_datatype_func_4\", \"testing datatype param\", data_type=\"bulkseq\")\n",
        "print(\"----omixatlas df---\")\n",
        "print(res)"
      ]
    },
    {
      "cell_type": "code",
      "execution_count": 6,
      "metadata": {},
      "outputs": [
        {
          "ename": "paramException",
          "evalue": "paramException (parameter error): 1 should be a string and its value must be one of ['single_cell', 'bulk_rna_seq']",
          "output_type": "error",
          "traceback": [
            "\u001b[0;31m---------------------------------------------------------------------------\u001b[0m",
            "\u001b[0;31mparamException\u001b[0m                            Traceback (most recent call last)",
            "Input \u001b[0;32mIn [6]\u001b[0m, in \u001b[0;36m<cell line: 5>\u001b[0;34m()\u001b[0m\n\u001b[1;32m      1\u001b[0m \u001b[38;5;66;03m# fifth test case\u001b[39;00m\n\u001b[1;32m      2\u001b[0m \u001b[38;5;66;03m# pass anything except single_cell or bulk_rna_seq\u001b[39;00m\n\u001b[1;32m      3\u001b[0m \u001b[38;5;66;03m# error should be raised -> datatype other than string\u001b[39;00m\n\u001b[0;32m----> 5\u001b[0m res \u001b[38;5;241m=\u001b[39m \u001b[43momixatlas\u001b[49m\u001b[38;5;241;43m.\u001b[39;49m\u001b[43mcreate\u001b[49m\u001b[43m(\u001b[49m\u001b[38;5;124;43m\"\u001b[39;49m\u001b[38;5;124;43mtest_datatype_func_5\u001b[39;49m\u001b[38;5;124;43m\"\u001b[39;49m\u001b[43m,\u001b[49m\u001b[43m \u001b[49m\u001b[38;5;124;43m\"\u001b[39;49m\u001b[38;5;124;43mtesting datatype param\u001b[39;49m\u001b[38;5;124;43m\"\u001b[39;49m\u001b[43m,\u001b[49m\u001b[43m \u001b[49m\u001b[43mdata_type\u001b[49m\u001b[38;5;241;43m=\u001b[39;49m\u001b[38;5;241;43m1\u001b[39;49m\u001b[43m)\u001b[49m\n\u001b[1;32m      6\u001b[0m \u001b[38;5;28mprint\u001b[39m(\u001b[38;5;124m\"\u001b[39m\u001b[38;5;124m----omixatlas df---\u001b[39m\u001b[38;5;124m\"\u001b[39m)\n\u001b[1;32m      7\u001b[0m \u001b[38;5;28mprint\u001b[39m(res)\n",
            "File \u001b[0;32m/usr/local/lib/python3.10/site-packages/polly/omixatlas.py:1374\u001b[0m, in \u001b[0;36mOmixAtlas.create\u001b[0;34m(self, display_name, description, repo_name, image_url, components, category, data_type)\u001b[0m\n\u001b[1;32m   1372\u001b[0m             \u001b[38;5;167;01mValueError\u001b[39;00m(\u001b[38;5;124m\"\u001b[39m\u001b[38;5;124mRepository creation response is in Incorrect format\u001b[39m\u001b[38;5;124m\"\u001b[39m)\n\u001b[1;32m   1373\u001b[0m \u001b[38;5;28;01mexcept\u001b[39;00m \u001b[38;5;167;01mException\u001b[39;00m \u001b[38;5;28;01mas\u001b[39;00m err:\n\u001b[0;32m-> 1374\u001b[0m     \u001b[38;5;28;01mraise\u001b[39;00m err\n",
            "File \u001b[0;32m/usr/local/lib/python3.10/site-packages/polly/omixatlas.py:1325\u001b[0m, in \u001b[0;36mOmixAtlas.create\u001b[0;34m(self, display_name, description, repo_name, image_url, components, category, data_type)\u001b[0m\n\u001b[1;32m   1306\u001b[0m \u001b[38;5;124;03m\"\"\"\u001b[39;00m\n\u001b[1;32m   1307\u001b[0m \u001b[38;5;124;03mThis function is used to create a new omixatlas.\u001b[39;00m\n\u001b[1;32m   1308\u001b[0m \u001b[38;5;124;03mArgs:\u001b[39;00m\n\u001b[0;32m   (...)\u001b[0m\n\u001b[1;32m   1322\u001b[0m \u001b[38;5;124;03m      ValueError: Repository creation response is in Incorrect format.\u001b[39;00m\n\u001b[1;32m   1323\u001b[0m \u001b[38;5;124;03m\"\"\"\u001b[39;00m\n\u001b[1;32m   1324\u001b[0m \u001b[38;5;28;01mtry\u001b[39;00m:\n\u001b[0;32m-> 1325\u001b[0m     \u001b[43momix_hlpr\u001b[49m\u001b[38;5;241;43m.\u001b[39;49m\u001b[43mcheck_create_omixatlas_parameters\u001b[49m\u001b[43m(\u001b[49m\n\u001b[1;32m   1326\u001b[0m \u001b[43m        \u001b[49m\u001b[43mdisplay_name\u001b[49m\u001b[43m,\u001b[49m\n\u001b[1;32m   1327\u001b[0m \u001b[43m        \u001b[49m\u001b[43mdescription\u001b[49m\u001b[43m,\u001b[49m\n\u001b[1;32m   1328\u001b[0m \u001b[43m        \u001b[49m\u001b[43mrepo_name\u001b[49m\u001b[43m,\u001b[49m\n\u001b[1;32m   1329\u001b[0m \u001b[43m        \u001b[49m\u001b[43mimage_url\u001b[49m\u001b[43m,\u001b[49m\n\u001b[1;32m   1330\u001b[0m \u001b[43m        \u001b[49m\u001b[43mcomponents\u001b[49m\u001b[43m,\u001b[49m\n\u001b[1;32m   1331\u001b[0m \u001b[43m        \u001b[49m\u001b[43mcategory\u001b[49m\u001b[43m,\u001b[49m\n\u001b[1;32m   1332\u001b[0m \u001b[43m        \u001b[49m\u001b[43mdata_type\u001b[49m\u001b[43m,\u001b[49m\n\u001b[1;32m   1333\u001b[0m \u001b[43m    \u001b[49m\u001b[43m)\u001b[49m\n\u001b[1;32m   1334\u001b[0m     payload \u001b[38;5;241m=\u001b[39m \u001b[38;5;28mself\u001b[39m\u001b[38;5;241m.\u001b[39m_get_repository_payload()\n\u001b[1;32m   1335\u001b[0m     frontend_info \u001b[38;5;241m=\u001b[39m {}\n",
            "File \u001b[0;32m/usr/local/lib/python3.10/site-packages/polly/omixatlas_hlpr.py:857\u001b[0m, in \u001b[0;36mcheck_create_omixatlas_parameters\u001b[0;34m(display_name, description, repo_name, image_url, components, category, data_type)\u001b[0m\n\u001b[1;32m    853\u001b[0m \u001b[38;5;28;01mif\u001b[39;00m data_type:\n\u001b[1;32m    854\u001b[0m     \u001b[38;5;28;01mif\u001b[39;00m \u001b[38;5;129;01mnot\u001b[39;00m \u001b[38;5;28misinstance\u001b[39m(data_type, \u001b[38;5;28mstr\u001b[39m) \u001b[38;5;129;01mor\u001b[39;00m (\n\u001b[1;32m    855\u001b[0m         data_type \u001b[38;5;129;01mnot\u001b[39;00m \u001b[38;5;129;01min\u001b[39;00m const\u001b[38;5;241m.\u001b[39mOMIXATLAS_DATA_TYPE_VALS\n\u001b[1;32m    856\u001b[0m     ):\n\u001b[0;32m--> 857\u001b[0m         \u001b[38;5;28;01mraise\u001b[39;00m paramException(\n\u001b[1;32m    858\u001b[0m             title\u001b[38;5;241m=\u001b[39m\u001b[38;5;124m\"\u001b[39m\u001b[38;5;124mParam Error\u001b[39m\u001b[38;5;124m\"\u001b[39m,\n\u001b[1;32m    859\u001b[0m             detail\u001b[38;5;241m=\u001b[39m(\n\u001b[1;32m    860\u001b[0m                 \u001b[38;5;124mf\u001b[39m\u001b[38;5;124m\"\u001b[39m\u001b[38;5;132;01m{\u001b[39;00mdata_type\u001b[38;5;132;01m}\u001b[39;00m\u001b[38;5;124m should be a string and its value must be one of \u001b[39m\u001b[38;5;124m\"\u001b[39m\n\u001b[1;32m    861\u001b[0m                 \u001b[38;5;241m+\u001b[39m \u001b[38;5;124mf\u001b[39m\u001b[38;5;124m\"\u001b[39m\u001b[38;5;132;01m{\u001b[39;00mconst\u001b[38;5;241m.\u001b[39mOMIXATLAS_DATA_TYPE_VALS\u001b[38;5;132;01m}\u001b[39;00m\u001b[38;5;124m\"\u001b[39m\n\u001b[1;32m    862\u001b[0m             ),\n\u001b[1;32m    863\u001b[0m         )\n",
            "\u001b[0;31mparamException\u001b[0m: paramException (parameter error): 1 should be a string and its value must be one of ['single_cell', 'bulk_rna_seq']"
          ]
        }
      ],
      "source": [
        "# fifth test case\n",
        "# pass anything except single_cell or bulk_rna_seq\n",
        "# error should be raised -> datatype other than string\n",
        "\n",
        "res = omixatlas.create(\"test_datatype_func_5\", \"testing datatype param\", data_type=1)\n",
        "print(\"----omixatlas df---\")\n",
        "print(res)"
      ]
    },
    {
      "cell_type": "code",
      "execution_count": 8,
      "metadata": {},
      "outputs": [
        {
          "name": "stdout",
          "output_type": "stream",
          "text": [
            " OmixAtlas 1673850501403 Updated  \n",
            "----omixatlas df---\n",
            "   Repository Id       Repository Name Category      Datatype  \\\n",
            "0  1673850501403  test_datatype_func_1  private  bulk_rna_seq   \n",
            "\n",
            "           Display Name             Description  \n",
            "0  test_datatype_func_1  testing datatype param  \n"
          ]
        }
      ],
      "source": [
        "# first test case\n",
        "# update to bulk_rna seq, originally single_cell from testcase 1\n",
        "\n",
        "repo_key = \"1673850501403\"\n",
        "res = omixatlas.update(repo_key, data_type=\"bulk_rna_seq\")\n",
        "print(\"----omixatlas df---\")\n",
        "print(res)"
      ]
    },
    {
      "cell_type": "code",
      "execution_count": 9,
      "metadata": {},
      "outputs": [
        {
          "name": "stdout",
          "output_type": "stream",
          "text": [
            " OmixAtlas 1673850509294 Updated  \n",
            "----omixatlas df---\n",
            "   Repository Id       Repository Name Category     Datatype  \\\n",
            "0  1673850509294  test_datatype_func_2  private  single_cell   \n",
            "\n",
            "           Display Name             Description  \n",
            "0  test_datatype_func_2  testing datatype param  \n"
          ]
        }
      ],
      "source": [
        "# second test case\n",
        "# update to single_cell, originally bulk_rna from testcase 2\n",
        "repo_key = \"1673850509294\"\n",
        "res = omixatlas.update(repo_key, data_type=\"single_cell\")\n",
        "print(\"----omixatlas df---\")\n",
        "print(res)"
      ]
    },
    {
      "cell_type": "code",
      "execution_count": 10,
      "metadata": {},
      "outputs": [
        {
          "name": "stdout",
          "output_type": "stream",
          "text": [
            " OmixAtlas 1673850518776 Updated  \n",
            "----omixatlas df---\n",
            "   Repository Id       Repository Name Category     Datatype  \\\n",
            "0  1673850518776  test_datatype_func_3  private  single_cell   \n",
            "\n",
            "           Display Name             Description  \n",
            "0  test_datatype_func_3  testing datatype param  \n"
          ]
        }
      ],
      "source": [
        "# third test case\n",
        "# update to single_cell, previously no data_type from test case 3\n",
        "repo_key = \"1673850518776\"\n",
        "res = omixatlas.update(repo_key, data_type=\"single_cell\")\n",
        "print(\"----omixatlas df---\")\n",
        "print(res)"
      ]
    },
    {
      "cell_type": "code",
      "execution_count": 11,
      "metadata": {},
      "outputs": [
        {
          "ename": "paramException",
          "evalue": "paramException (parameter error): singlll should be a string and its value must be one of ['single_cell', 'bulk_rna_seq']",
          "output_type": "error",
          "traceback": [
            "\u001b[0;31m---------------------------------------------------------------------------\u001b[0m",
            "\u001b[0;31mparamException\u001b[0m                            Traceback (most recent call last)",
            "Input \u001b[0;32mIn [11]\u001b[0m, in \u001b[0;36m<cell line: 4>\u001b[0;34m()\u001b[0m\n\u001b[1;32m      1\u001b[0m \u001b[38;5;66;03m# fourth test case\u001b[39;00m\n\u001b[1;32m      2\u001b[0m \u001b[38;5;66;03m# update to value other than single_cell or bulk_rna_seq\u001b[39;00m\n\u001b[1;32m      3\u001b[0m repo_key \u001b[38;5;241m=\u001b[39m \u001b[38;5;124m\"\u001b[39m\u001b[38;5;124m1673850518776\u001b[39m\u001b[38;5;124m\"\u001b[39m\n\u001b[0;32m----> 4\u001b[0m res \u001b[38;5;241m=\u001b[39m \u001b[43momixatlas\u001b[49m\u001b[38;5;241;43m.\u001b[39;49m\u001b[43mupdate\u001b[49m\u001b[43m(\u001b[49m\u001b[43mrepo_key\u001b[49m\u001b[43m,\u001b[49m\u001b[43m \u001b[49m\u001b[43mdata_type\u001b[49m\u001b[38;5;241;43m=\u001b[39;49m\u001b[38;5;124;43m\"\u001b[39;49m\u001b[38;5;124;43msinglll\u001b[39;49m\u001b[38;5;124;43m\"\u001b[39;49m\u001b[43m)\u001b[49m\n\u001b[1;32m      5\u001b[0m \u001b[38;5;28mprint\u001b[39m(\u001b[38;5;124m\"\u001b[39m\u001b[38;5;124m----omixatlas df---\u001b[39m\u001b[38;5;124m\"\u001b[39m)\n\u001b[1;32m      6\u001b[0m \u001b[38;5;28mprint\u001b[39m(res)\n",
            "File \u001b[0;32m/usr/local/lib/python3.10/site-packages/polly/omixatlas.py:1396\u001b[0m, in \u001b[0;36mOmixAtlas.update\u001b[0;34m(self, repo_key, display_name, description, image_url, components, data_type)\u001b[0m\n\u001b[1;32m   1376\u001b[0m \u001b[38;5;28;01mdef\u001b[39;00m \u001b[38;5;21mupdate\u001b[39m(\n\u001b[1;32m   1377\u001b[0m     \u001b[38;5;28mself\u001b[39m,\n\u001b[1;32m   1378\u001b[0m     repo_key: \u001b[38;5;28mstr\u001b[39m,\n\u001b[0;32m   (...)\u001b[0m\n\u001b[1;32m   1383\u001b[0m     data_type\u001b[38;5;241m=\u001b[39m\u001b[38;5;28;01mNone\u001b[39;00m,\n\u001b[1;32m   1384\u001b[0m ) \u001b[38;5;241m-\u001b[39m\u001b[38;5;241m>\u001b[39m pd\u001b[38;5;241m.\u001b[39mDataFrame:\n\u001b[1;32m   1385\u001b[0m     \u001b[38;5;124;03m\"\"\"\u001b[39;00m\n\u001b[1;32m   1386\u001b[0m \u001b[38;5;124;03m    This function is used to update an omixatlas.\u001b[39;00m\n\u001b[1;32m   1387\u001b[0m \u001b[38;5;124;03m    Args:\u001b[39;00m\n\u001b[0;32m   (...)\u001b[0m\n\u001b[1;32m   1393\u001b[0m \u001b[38;5;124;03m         data_type(str, optional): Optional Parameter. By default it is None.\u001b[39;00m\n\u001b[1;32m   1394\u001b[0m \u001b[38;5;124;03m    \"\"\"\u001b[39;00m\n\u001b[0;32m-> 1396\u001b[0m     \u001b[43momix_hlpr\u001b[49m\u001b[38;5;241;43m.\u001b[39;49m\u001b[43mcheck_update_omixatlas_parameters\u001b[49m\u001b[43m(\u001b[49m\n\u001b[1;32m   1397\u001b[0m \u001b[43m        \u001b[49m\u001b[43mdisplay_name\u001b[49m\u001b[43m,\u001b[49m\u001b[43m \u001b[49m\u001b[43mdescription\u001b[49m\u001b[43m,\u001b[49m\u001b[43m \u001b[49m\u001b[43mrepo_key\u001b[49m\u001b[43m,\u001b[49m\u001b[43m \u001b[49m\u001b[43mimage_url\u001b[49m\u001b[43m,\u001b[49m\u001b[43m \u001b[49m\u001b[43mcomponents\u001b[49m\u001b[43m,\u001b[49m\u001b[43m \u001b[49m\u001b[43mdata_type\u001b[49m\n\u001b[1;32m   1398\u001b[0m \u001b[43m    \u001b[49m\u001b[43m)\u001b[49m\n\u001b[1;32m   1400\u001b[0m     \u001b[38;5;28;01mif\u001b[39;00m \u001b[38;5;28misinstance\u001b[39m(repo_key, \u001b[38;5;28mint\u001b[39m):\n\u001b[1;32m   1401\u001b[0m         repo_key \u001b[38;5;241m=\u001b[39m \u001b[38;5;28mstr\u001b[39m(repo_key)\n",
            "File \u001b[0;32m/usr/local/lib/python3.10/site-packages/polly/omixatlas_hlpr.py:917\u001b[0m, in \u001b[0;36mcheck_update_omixatlas_parameters\u001b[0;34m(display_name, description, repo_key, image_url, components, data_type)\u001b[0m\n\u001b[1;32m    913\u001b[0m \u001b[38;5;28;01mif\u001b[39;00m data_type:\n\u001b[1;32m    914\u001b[0m     \u001b[38;5;28;01mif\u001b[39;00m \u001b[38;5;129;01mnot\u001b[39;00m \u001b[38;5;28misinstance\u001b[39m(data_type, \u001b[38;5;28mstr\u001b[39m) \u001b[38;5;129;01mor\u001b[39;00m (\n\u001b[1;32m    915\u001b[0m         data_type \u001b[38;5;129;01mnot\u001b[39;00m \u001b[38;5;129;01min\u001b[39;00m const\u001b[38;5;241m.\u001b[39mOMIXATLAS_DATA_TYPE_VALS\n\u001b[1;32m    916\u001b[0m     ):\n\u001b[0;32m--> 917\u001b[0m         \u001b[38;5;28;01mraise\u001b[39;00m paramException(\n\u001b[1;32m    918\u001b[0m             title\u001b[38;5;241m=\u001b[39m\u001b[38;5;124m\"\u001b[39m\u001b[38;5;124mParam Error\u001b[39m\u001b[38;5;124m\"\u001b[39m,\n\u001b[1;32m    919\u001b[0m             detail\u001b[38;5;241m=\u001b[39m(\n\u001b[1;32m    920\u001b[0m                 \u001b[38;5;124mf\u001b[39m\u001b[38;5;124m\"\u001b[39m\u001b[38;5;132;01m{\u001b[39;00mdata_type\u001b[38;5;132;01m}\u001b[39;00m\u001b[38;5;124m should be a string and its value must be one of \u001b[39m\u001b[38;5;124m\"\u001b[39m\n\u001b[1;32m    921\u001b[0m                 \u001b[38;5;241m+\u001b[39m \u001b[38;5;124mf\u001b[39m\u001b[38;5;124m\"\u001b[39m\u001b[38;5;132;01m{\u001b[39;00mconst\u001b[38;5;241m.\u001b[39mOMIXATLAS_DATA_TYPE_VALS\u001b[38;5;132;01m}\u001b[39;00m\u001b[38;5;124m\"\u001b[39m\n\u001b[1;32m    922\u001b[0m             ),\n\u001b[1;32m    923\u001b[0m         )\n",
            "\u001b[0;31mparamException\u001b[0m: paramException (parameter error): singlll should be a string and its value must be one of ['single_cell', 'bulk_rna_seq']"
          ]
        }
      ],
      "source": [
        "# fourth test case\n",
        "# update to value other than single_cell or bulk_rna_seq\n",
        "repo_key = \"1673850518776\"\n",
        "res = omixatlas.update(repo_key, data_type=\"singlll\")\n",
        "print(\"----omixatlas df---\")\n",
        "print(res)"
      ]
    },
    {
      "cell_type": "code",
      "execution_count": null,
      "metadata": {},
      "outputs": [],
      "source": []
    }
  ],
  "metadata": {
    "kernelspec": {
      "display_name": "Python 3 (ipykernel)",
      "language": "python",
      "name": "python3"
    },
    "language_info": {
      "codemirror_mode": {
        "name": "ipython",
        "version": 3
      },
      "file_extension": ".py",
      "mimetype": "text/x-python",
      "name": "python",
      "nbconvert_exporter": "python",
      "pygments_lexer": "ipython3",
      "version": "3.10.2"
    }
  },
  "nbformat": 4,
  "nbformat_minor": 2
}