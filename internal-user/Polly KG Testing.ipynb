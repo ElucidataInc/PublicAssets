{
 "cells": [
  {
   "cell_type": "code",
   "execution_count": null,
   "id": "35adf08c",
   "metadata": {},
   "outputs": [],
   "source": [
    "pip install https://elucidatainc.github.io/PublicAssets/builds/polly-python/tests/testpolly/polly_python-4.2.0-py3-none-any.whl"
   ]
  },
  {
   "cell_type": "code",
   "execution_count": 1,
   "id": "86545fa9",
   "metadata": {},
   "outputs": [
    {
     "data": {
      "text/plain": [
       "'4.2.0'"
      ]
     },
     "execution_count": 1,
     "metadata": {},
     "output_type": "execute_result"
    }
   ],
   "source": [
    "import polly\n",
    "polly.__version__"
   ]
  },
  {
   "cell_type": "code",
   "execution_count": 5,
   "id": "da0495e1",
   "metadata": {},
   "outputs": [],
   "source": [
    "from polly.polly_kg import PollyKG\n",
    "import json\n",
    "\n",
    "kg = PollyKG(\n",
    "    env=\"testpolly\",\n",
    "    token=\"\",\n",
    ")"
   ]
  },
  {
   "cell_type": "code",
   "execution_count": 12,
   "id": "5fb84d14",
   "metadata": {},
   "outputs": [
    {
     "name": "stdout",
     "output_type": "stream",
     "text": [
      "Query submitted successfully. Query ID: 6e7723bf-5019-45de-91f5-cc515e99d827. \n"
     ]
    }
   ],
   "source": [
    "results = kg.run_query(\"MATCH (n) RETURN count(*);\")"
   ]
  },
  {
   "cell_type": "code",
   "execution_count": 13,
   "id": "059727e5",
   "metadata": {},
   "outputs": [
    {
     "name": "stdout",
     "output_type": "stream",
     "text": [
      "{'results': [{'count(*)': 21133380}]}\n"
     ]
    }
   ],
   "source": [
    "print(results)"
   ]
  },
  {
   "cell_type": "code",
   "execution_count": 14,
   "id": "51af1a8f",
   "metadata": {},
   "outputs": [
    {
     "name": "stdout",
     "output_type": "stream",
     "text": [
      "{'status': 'COMPLETED'}\n"
     ]
    }
   ],
   "source": [
    "kg.get_query_status(\"6e7723bf-5019-45de-91f5-cc515e99d827\")"
   ]
  },
  {
   "cell_type": "code",
   "execution_count": 15,
   "id": "602e689f",
   "metadata": {},
   "outputs": [
    {
     "name": "stdout",
     "output_type": "stream",
     "text": [
      "Results downloaded successfully to ./results/6e7723bf-5019-45de-91f5-cc515e99d827.json\n"
     ]
    }
   ],
   "source": [
    "kg.download_query_results(\"6e7723bf-5019-45de-91f5-cc515e99d827\")"
   ]
  },
  {
   "cell_type": "code",
   "execution_count": 16,
   "id": "66c1a0f2",
   "metadata": {},
   "outputs": [
    {
     "data": {
      "text/plain": [
       "{'data': {'type': 'kg_schema',\n",
       "  'attributes': {'node_types': ['Disease',\n",
       "    'Drug',\n",
       "    'Gene',\n",
       "    'Go',\n",
       "    'Pathway',\n",
       "    'Phenotype',\n",
       "    'Protein',\n",
       "    'Species',\n",
       "    'Tissue',\n",
       "    'Tissue Level',\n",
       "    'Variant'],\n",
       "   'edge_types': ['BELONGS_TO',\n",
       "    'BELONGS_TO_PHENOTYPE_CLASS',\n",
       "    'DIFFERENTIAL_EXPRESSION',\n",
       "    'EVOLUTIONARY_DISTANCE',\n",
       "    'EXPRESSES',\n",
       "    'GENE_ORTHOLOGOUS_TO',\n",
       "    'HAS_MOUSE_PHENOTYPE',\n",
       "    'HAS_VARIANT',\n",
       "    'LOSS_OF_FUNCTION',\n",
       "    'LOST_GENE',\n",
       "    'PATHWAY_TO_DISEASE',\n",
       "    'POSITIVE_SELECTION',\n",
       "    'RELATED_TO_DISEASE',\n",
       "    'RELATED_TO_PHENOTYPE',\n",
       "    'TARGETS_GENE',\n",
       "    'TISSUE_SPECIFICITY',\n",
       "    'VARIANT_FOUND_IN',\n",
       "    'VARIANT_RELATED_TO',\n",
       "    'curated_content_resource_disease',\n",
       "    'disease_arises_from_feature_disease',\n",
       "    'disease_has_feature_disease',\n",
       "    'disease_has_major_feature_disease',\n",
       "    'disease_shares_features_of_disease',\n",
       "    'encodes',\n",
       "    'ends_during_go',\n",
       "    'excluded_subClassOf_disease',\n",
       "    'happens_during_go',\n",
       "    'has_characteristic_disease',\n",
       "    'has_indication',\n",
       "    'has_part_go',\n",
       "    'has_phenotype',\n",
       "    'intersection_of_disease',\n",
       "    'interacts_with',\n",
       "    'is_a_disease',\n",
       "    'is_a_go',\n",
       "    'is_a_pathway',\n",
       "    'is_a_phenotype',\n",
       "    'linked_to',\n",
       "    'linked_to_pathway',\n",
       "    'mim2gene_medgen_disease',\n",
       "    'negatively_regulates_go',\n",
       "    'occurs_in_go',\n",
       "    'part_of_go',\n",
       "    'part_of_progression_of_disease_disease',\n",
       "    'positively_regulates_go',\n",
       "    'predisposes_towards_disease',\n",
       "    'regulates_go',\n",
       "    'targets'],\n",
       "   'nodes': {'Disease': {'properties': []},\n",
       "    'Drug': {'properties': []},\n",
       "    'Gene': {'properties': []},\n",
       "    'Go': {'properties': []},\n",
       "    'Pathway': {'properties': []},\n",
       "    'Phenotype': {'properties': []},\n",
       "    'Protein': {'properties': []},\n",
       "    'Species': {'properties': []},\n",
       "    'Tissue': {'properties': []},\n",
       "    'Tissue Level': {'properties': []},\n",
       "    'Variant': {'properties': []}},\n",
       "   'edges': {'BELONGS_TO': {'properties': [],\n",
       "     'connections': [{'from': 'Tissue', 'to': 'Tissue Level'}]},\n",
       "    'BELONGS_TO_PHENOTYPE_CLASS': {'properties': [],\n",
       "     'connections': [{'from': 'Phenotype', 'to': 'Phenotype'}]},\n",
       "    'DIFFERENTIAL_EXPRESSION': {'properties': [],\n",
       "     'connections': [{'from': 'Gene', 'to': 'Tissue'}]},\n",
       "    'EVOLUTIONARY_DISTANCE': {'properties': [],\n",
       "     'connections': [{'from': 'Species', 'to': 'Species'}]},\n",
       "    'EXPRESSES': {'properties': [],\n",
       "     'connections': [{'from': 'Tissue', 'to': 'Gene'}]},\n",
       "    'GENE_ORTHOLOGOUS_TO': {'properties': [],\n",
       "     'connections': [{'from': 'Gene', 'to': 'Gene'}]},\n",
       "    'HAS_MOUSE_PHENOTYPE': {'properties': [],\n",
       "     'connections': [{'from': 'Gene', 'to': 'Phenotype'}]},\n",
       "    'HAS_VARIANT': {'properties': [],\n",
       "     'connections': [{'from': 'Species', 'to': 'Variant'}]},\n",
       "    'LOSS_OF_FUNCTION': {'properties': [],\n",
       "     'connections': [{'from': 'Variant', 'to': 'Gene'}]},\n",
       "    'LOST_GENE': {'properties': [],\n",
       "     'connections': [{'from': 'Species', 'to': 'Gene'}]},\n",
       "    'PATHWAY_TO_DISEASE': {'properties': [],\n",
       "     'connections': [{'from': 'Pathway', 'to': 'Disease'}]},\n",
       "    'POSITIVE_SELECTION': {'properties': [],\n",
       "     'connections': [{'from': 'Species', 'to': 'Gene'}]},\n",
       "    'RELATED_TO_DISEASE': {'properties': [],\n",
       "     'connections': [{'from': 'Variant', 'to': 'Disease'}]},\n",
       "    'RELATED_TO_PHENOTYPE': {'properties': [],\n",
       "     'connections': [{'from': 'Variant', 'to': 'Phenotype'}]},\n",
       "    'TARGETS_GENE': {'properties': [],\n",
       "     'connections': [{'from': 'Drug', 'to': 'Gene'}]},\n",
       "    'TISSUE_SPECIFICITY': {'properties': [],\n",
       "     'connections': [{'from': 'Tissue', 'to': 'Gene'}]},\n",
       "    'VARIANT_FOUND_IN': {'properties': [],\n",
       "     'connections': [{'from': 'Variant', 'to': 'Protein'}]},\n",
       "    'VARIANT_RELATED_TO': {'properties': [],\n",
       "     'connections': [{'from': 'Variant', 'to': 'Gene'}]},\n",
       "    'curated_content_resource_disease': {'properties': [],\n",
       "     'connections': [{'from': 'Disease', 'to': 'Disease'}]},\n",
       "    'disease_arises_from_feature_disease': {'properties': [],\n",
       "     'connections': [{'from': 'Disease', 'to': 'Disease'}]},\n",
       "    'disease_has_feature_disease': {'properties': [],\n",
       "     'connections': [{'from': 'Disease', 'to': 'Disease'}]},\n",
       "    'disease_has_major_feature_disease': {'properties': [],\n",
       "     'connections': [{'from': 'Disease', 'to': 'Disease'}]},\n",
       "    'disease_shares_features_of_disease': {'properties': [],\n",
       "     'connections': [{'from': 'Disease', 'to': 'Disease'}]},\n",
       "    'encodes': {'properties': [],\n",
       "     'connections': [{'from': 'Gene', 'to': 'Protein'}]},\n",
       "    'ends_during_go': {'properties': [],\n",
       "     'connections': [{'from': 'Go', 'to': 'Go'}]},\n",
       "    'excluded_subClassOf_disease': {'properties': [],\n",
       "     'connections': [{'from': 'Disease', 'to': 'Disease'}]},\n",
       "    'happens_during_go': {'properties': [],\n",
       "     'connections': [{'from': 'Go', 'to': 'Go'}]},\n",
       "    'has_characteristic_disease': {'properties': [],\n",
       "     'connections': [{'from': 'Disease', 'to': 'Disease'}]},\n",
       "    'has_indication': {'properties': [],\n",
       "     'connections': [{'from': 'Disease', 'to': 'Drug'}]},\n",
       "    'has_part_go': {'properties': [],\n",
       "     'connections': [{'from': 'Go', 'to': 'Go'}]},\n",
       "    'has_phenotype': {'properties': [],\n",
       "     'connections': [{'from': 'Disease', 'to': 'Phenotype'}]},\n",
       "    'intersection_of_disease': {'properties': [],\n",
       "     'connections': [{'from': 'Disease', 'to': 'Disease'}]},\n",
       "    'interacts_with': {'properties': [],\n",
       "     'connections': [{'from': 'Protein', 'to': 'Protein'}]},\n",
       "    'is_a_disease': {'properties': [],\n",
       "     'connections': [{'from': 'Disease', 'to': 'Disease'}]},\n",
       "    'is_a_go': {'properties': [], 'connections': [{'from': 'Go', 'to': 'Go'}]},\n",
       "    'is_a_pathway': {'properties': [],\n",
       "     'connections': [{'from': 'Pathway', 'to': 'Pathway'}]},\n",
       "    'is_a_phenotype': {'properties': [],\n",
       "     'connections': [{'from': 'Phenotype', 'to': 'Phenotype'}]},\n",
       "    'linked_to': {'properties': [],\n",
       "     'connections': [{'from': 'Gene', 'to': 'Go'}]},\n",
       "    'linked_to_pathway': {'properties': [],\n",
       "     'connections': [{'from': 'Gene', 'to': 'Pathway'}]},\n",
       "    'mim2gene_medgen_disease': {'properties': [],\n",
       "     'connections': [{'from': 'Disease', 'to': 'Disease'}]},\n",
       "    'negatively_regulates_go': {'properties': [],\n",
       "     'connections': [{'from': 'Go', 'to': 'Go'}]},\n",
       "    'occurs_in_go': {'properties': [],\n",
       "     'connections': [{'from': 'Go', 'to': 'Go'}]},\n",
       "    'part_of_go': {'properties': [],\n",
       "     'connections': [{'from': 'Go', 'to': 'Go'}]},\n",
       "    'part_of_progression_of_disease_disease': {'properties': [],\n",
       "     'connections': [{'from': 'Disease', 'to': 'Disease'}]},\n",
       "    'positively_regulates_go': {'properties': [],\n",
       "     'connections': [{'from': 'Go', 'to': 'Go'}]},\n",
       "    'predisposes_towards_disease': {'properties': [],\n",
       "     'connections': [{'from': 'Disease', 'to': 'Disease'}]},\n",
       "    'regulates_go': {'properties': [],\n",
       "     'connections': [{'from': 'Go', 'to': 'Go'}]},\n",
       "    'targets': {'properties': [],\n",
       "     'connections': [{'from': 'Disease', 'to': 'Gene'}]}}}}}"
      ]
     },
     "execution_count": 16,
     "metadata": {},
     "output_type": "execute_result"
    }
   ],
   "source": [
    "kg.get_schema()"
   ]
  },
  {
   "cell_type": "code",
   "execution_count": 17,
   "id": "38960e3b",
   "metadata": {},
   "outputs": [
    {
     "data": {
      "text/plain": [
       "{'data': {'type': 'kg_summary',\n",
       "  'attributes': {'node_counts': {'Disease': 8750,\n",
       "    'Drug': 12450,\n",
       "    'Gene': 18900,\n",
       "    'Go': 47800,\n",
       "    'Pathway': 3450,\n",
       "    'Phenotype': 15600,\n",
       "    'Protein': 20800,\n",
       "    'Species': 2890,\n",
       "    'Tissue': 1240,\n",
       "    'Tissue Level': 890,\n",
       "    'Variant': 145600},\n",
       "   'edge_counts': {'BELONGS_TO': 1240,\n",
       "    'BELONGS_TO_PHENOTYPE_CLASS': 15600,\n",
       "    'DIFFERENTIAL_EXPRESSION': 123400,\n",
       "    'EVOLUTIONARY_DISTANCE': 2890,\n",
       "    'EXPRESSES': 445600,\n",
       "    'GENE_ORTHOLOGOUS_TO': 18900,\n",
       "    'HAS_MOUSE_PHENOTYPE': 78900,\n",
       "    'HAS_VARIANT': 289300,\n",
       "    'LOSS_OF_FUNCTION': 145600,\n",
       "    'LOST_GENE': 2890,\n",
       "    'PATHWAY_TO_DISEASE': 3450,\n",
       "    'POSITIVE_SELECTION': 18900,\n",
       "    'RELATED_TO_DISEASE': 234800,\n",
       "    'RELATED_TO_PHENOTYPE': 145600,\n",
       "    'TARGETS_GENE': 89400,\n",
       "    'TISSUE_SPECIFICITY': 1240,\n",
       "    'VARIANT_FOUND_IN': 145600,\n",
       "    'VARIANT_RELATED_TO': 145600,\n",
       "    'curated_content_resource_disease': 8750,\n",
       "    'disease_arises_from_feature_disease': 8750,\n",
       "    'disease_has_feature_disease': 8750,\n",
       "    'disease_has_major_feature_disease': 8750,\n",
       "    'disease_shares_features_of_disease': 8750,\n",
       "    'encodes': 18900,\n",
       "    'ends_during_go': 47800,\n",
       "    'excluded_subClassOf_disease': 8750,\n",
       "    'happens_during_go': 47800,\n",
       "    'has_characteristic_disease': 8750,\n",
       "    'has_indication': 34500,\n",
       "    'has_part_go': 47800,\n",
       "    'has_phenotype': 78900,\n",
       "    'intersection_of_disease': 8750,\n",
       "    'interacts_with': 892400,\n",
       "    'is_a_disease': 12300,\n",
       "    'is_a_go': 23400,\n",
       "    'is_a_pathway': 3450,\n",
       "    'is_a_phenotype': 8900,\n",
       "    'linked_to': 234500,\n",
       "    'linked_to_pathway': 45600,\n",
       "    'mim2gene_medgen_disease': 8750,\n",
       "    'negatively_regulates_go': 47800,\n",
       "    'occurs_in_go': 47800,\n",
       "    'part_of_go': 15600,\n",
       "    'part_of_progression_of_disease_disease': 8750,\n",
       "    'positively_regulates_go': 47800,\n",
       "    'predisposes_towards_disease': 8750,\n",
       "    'regulates_go': 47800,\n",
       "    'targets': 156700},\n",
       "   'totals': {'total_nodes': 21133380,\n",
       "    'total_edges': 40991540,\n",
       "    'node_types': 11,\n",
       "    'edge_types': 48}}}}"
      ]
     },
     "execution_count": 17,
     "metadata": {},
     "output_type": "execute_result"
    }
   ],
   "source": [
    "kg.get_summary()"
   ]
  },
  {
   "cell_type": "code",
   "execution_count": null,
   "id": "f1119861",
   "metadata": {},
   "outputs": [],
   "source": []
  }
 ],
 "metadata": {
  "kernelspec": {
   "display_name": "Python 3",
   "language": "python",
   "name": "python3"
  },
  "language_info": {
   "codemirror_mode": {
    "name": "ipython",
    "version": 3
   },
   "file_extension": ".py",
   "mimetype": "text/x-python",
   "name": "python",
   "nbconvert_exporter": "python",
   "pygments_lexer": "ipython3",
   "version": "3.10.6"
  }
 },
 "nbformat": 4,
 "nbformat_minor": 5
}
