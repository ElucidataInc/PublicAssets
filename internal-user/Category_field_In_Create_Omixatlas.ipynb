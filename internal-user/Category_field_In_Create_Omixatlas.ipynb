{
  "cells": [
    {
      "cell_type": "markdown",
      "metadata": {
        "colab_type": "text",
        "id": "view-in-github"
      },
      "source": [
        "<a href=\"https://testpolly.elucidata.io/manage/workspaces?action=open_polly_notebook&source=github&path=path_place_holder&kernel=elucidata/Python 3.10&machine=medium\" target=\"_parent\"><img src=\"https://elucidatainc.github.io/PublicAssets/open_polly.svg\" alt=\"Open in Polly\"/></a>\n"
      ]
    },
    {
      "cell_type": "markdown",
      "metadata": {},
      "source": [
        "# Welcome to Polly Python3 Notebook."
      ]
    },
    {
      "cell_type": "code",
      "execution_count": 1,
      "metadata": {},
      "outputs": [
        {
          "name": "stdout",
          "output_type": "stream",
          "text": [
            "/bin/bash: warning: setlocale: LC_ALL: cannot change locale (en_US.UTF-8)\n",
            "Collecting polly-python==0.2.5-omix-category\n",
            "  Downloading https://elucidatainc.github.io/PublicAssets/builds/polly-python/tests/testpolly/polly_python-0.2.5_omix_category-py3-none-any.whl (106 kB)\n",
            "\u001b[K     |████████████████████████████████| 106 kB 20.1 MB/s eta 0:00:01\n",
            "\u001b[?25hCollecting python-jose>=3.3.0\n",
            "  Downloading python_jose-3.3.0-py2.py3-none-any.whl (33 kB)\n",
            "Requirement already satisfied: boto3>=1.17.73 in /usr/local/lib/python3.10/site-packages (from polly-python==0.2.5-omix-category) (1.21.19)\n",
            "Collecting plotly\n",
            "  Downloading plotly-5.11.0-py2.py3-none-any.whl (15.3 MB)\n",
            "\u001b[K     |████████████████████████████████| 15.3 MB 24.2 MB/s eta 0:00:01\n",
            "\u001b[?25hCollecting Deprecated\n",
            "  Downloading Deprecated-1.2.13-py2.py3-none-any.whl (9.6 kB)\n",
            "Collecting elucidatacmapPy==3.3.4\n",
            "  Downloading elucidatacmapPy-3.3.4-py3-none-any.whl (134 kB)\n",
            "\u001b[K     |████████████████████████████████| 134 kB 117.5 MB/s eta 0:00:01\n",
            "\u001b[?25hCollecting datapane\n",
            "  Downloading datapane-0.15.4-py3-none-any.whl (7.4 MB)\n",
            "\u001b[K     |████████████████████████████████| 7.4 MB 30.8 MB/s eta 0:00:01\n",
            "\u001b[?25hRequirement already satisfied: chardet==4.0.0 in /usr/local/lib/python3.10/site-packages (from polly-python==0.2.5-omix-category) (4.0.0)\n",
            "Collecting elucidatacloudpathlib==0.6.6\n",
            "  Downloading elucidatacloudpathlib-0.6.6-py3-none-any.whl (50 kB)\n",
            "\u001b[K     |████████████████████████████████| 50 kB 15.8 MB/s  eta 0:00:01\n",
            "\u001b[?25hCollecting retrying==1.3.3\n",
            "  Downloading retrying-1.3.3.tar.gz (10 kB)\n",
            "Requirement already satisfied: tqdm in /usr/local/lib/python3.10/site-packages (from polly-python==0.2.5-omix-category) (4.64.1)\n",
            "Collecting joblib\n",
            "  Downloading joblib-1.2.0-py3-none-any.whl (297 kB)\n",
            "\u001b[K     |████████████████████████████████| 297 kB 124.9 MB/s eta 0:00:01\n",
            "\u001b[?25hCollecting sqlparse\n",
            "  Downloading sqlparse-0.4.3-py3-none-any.whl (42 kB)\n",
            "\u001b[K     |████████████████████████████████| 42 kB 3.8 MB/s s eta 0:00:01\n",
            "\u001b[?25hCollecting pytz==2021.1\n",
            "  Downloading pytz-2021.1-py2.py3-none-any.whl (510 kB)\n",
            "\u001b[K     |████████████████████████████████| 510 kB 127.1 MB/s eta 0:00:01\n",
            "\u001b[?25hCollecting postpy2==0.0.6\n",
            "  Downloading postpy2-0.0.6-py3-none-any.whl (17 kB)\n",
            "Requirement already satisfied: six==1.16.0 in /usr/local/lib/python3.10/site-packages (from polly-python==0.2.5-omix-category) (1.16.0)\n",
            "Requirement already satisfied: urllib3==1.26.6 in /usr/local/lib/python3.10/site-packages (from polly-python==0.2.5-omix-category) (1.26.6)\n",
            "Requirement already satisfied: idna==2.10 in /usr/local/lib/python3.10/site-packages (from polly-python==0.2.5-omix-category) (2.10)\n",
            "Requirement already satisfied: python-dateutil in /usr/local/lib/python3.10/site-packages (from polly-python==0.2.5-omix-category) (2.8.1)\n",
            "Requirement already satisfied: pandas in /usr/local/lib/python3.10/site-packages (from polly-python==0.2.5-omix-category) (1.4.1)\n",
            "Collecting certifi==2021.10.8\n",
            "  Downloading certifi-2021.10.8-py2.py3-none-any.whl (149 kB)\n",
            "\u001b[K     |████████████████████████████████| 149 kB 126.2 MB/s eta 0:00:01\n",
            "\u001b[?25hCollecting pytest\n",
            "  Downloading pytest-7.2.0-py3-none-any.whl (316 kB)\n",
            "\u001b[K     |████████████████████████████████| 316 kB 131.0 MB/s eta 0:00:01\n",
            "\u001b[?25hCollecting requests==2.25.1\n",
            "  Downloading requests-2.25.1-py2.py3-none-any.whl (61 kB)\n",
            "\u001b[K     |████████████████████████████████| 61 kB 19.8 MB/s  eta 0:00:01\n",
            "\u001b[?25hCollecting mixpanel>=4.10.0\n",
            "  Downloading mixpanel-4.10.0-py2.py3-none-any.whl (8.9 kB)\n",
            "Collecting python-magic==0.4.24\n",
            "  Downloading python_magic-0.4.24-py2.py3-none-any.whl (12 kB)\n",
            "Collecting Cerberus==1.3.2\n",
            "  Downloading Cerberus-1.3.2.tar.gz (52 kB)\n",
            "\u001b[K     |████████████████████████████████| 52 kB 3.7 MB/s s eta 0:00:01\n",
            "\u001b[?25hRequirement already satisfied: botocore>=1.20.73 in /usr/local/lib/python3.10/site-packages (from polly-python==0.2.5-omix-category) (1.24.19)\n",
            "Collecting rst2txt\n",
            "  Downloading rst2txt-1.1.0-py2.py3-none-any.whl (12 kB)\n",
            "Collecting pydantic==1.9.1\n",
            "  Downloading pydantic-1.9.1-cp310-cp310-manylinux_2_17_x86_64.manylinux2014_x86_64.whl (12.0 MB)\n",
            "\u001b[K     |████████████████████████████████| 12.0 MB 118.7 MB/s eta 0:00:01\n",
            "\u001b[?25hCollecting beautifulsoup4\n",
            "  Downloading beautifulsoup4-4.11.1-py3-none-any.whl (128 kB)\n",
            "\u001b[K     |████████████████████████████████| 128 kB 135.9 MB/s eta 0:00:01\n",
            "\u001b[?25hRequirement already satisfied: setuptools in /usr/local/lib/python3.10/site-packages (from Cerberus==1.3.2->polly-python==0.2.5-omix-category) (58.1.0)\n",
            "Requirement already satisfied: numpy>=1.11.2 in /usr/local/lib/python3.10/site-packages (from elucidatacmapPy==3.3.4->polly-python==0.2.5-omix-category) (1.22.3)\n",
            "Collecting h5py>=2.6.0\n",
            "  Downloading h5py-3.7.0-cp310-cp310-manylinux_2_12_x86_64.manylinux2010_x86_64.whl (4.5 MB)\n",
            "\u001b[K     |████████████████████████████████| 4.5 MB 100.5 MB/s eta 0:00:01\n",
            "\u001b[?25hCollecting typing-extensions>=3.7.4.3\n",
            "  Downloading typing_extensions-4.4.0-py3-none-any.whl (26 kB)\n",
            "Requirement already satisfied: jmespath<1.0.0,>=0.7.1 in /usr/local/lib/python3.10/site-packages (from boto3>=1.17.73->polly-python==0.2.5-omix-category) (0.10.0)\n",
            "Requirement already satisfied: s3transfer<0.6.0,>=0.5.0 in /usr/local/lib/python3.10/site-packages (from boto3>=1.17.73->polly-python==0.2.5-omix-category) (0.5.2)\n",
            "Requirement already satisfied: pyasn1 in /usr/local/lib/python3.10/site-packages (from python-jose>=3.3.0->polly-python==0.2.5-omix-category) (0.4.8)\n",
            "Collecting ecdsa!=0.15\n",
            "  Downloading ecdsa-0.18.0-py2.py3-none-any.whl (142 kB)\n",
            "\u001b[K     |████████████████████████████████| 142 kB 128.1 MB/s eta 0:00:01\n",
            "\u001b[?25hRequirement already satisfied: rsa in /usr/local/lib/python3.10/site-packages (from python-jose>=3.3.0->polly-python==0.2.5-omix-category) (4.7.2)\n",
            "Collecting soupsieve>1.2\n",
            "  Downloading soupsieve-2.3.2.post1-py3-none-any.whl (37 kB)\n",
            "Collecting stringcase<2.0.0,>=1.2.0\n",
            "  Downloading stringcase-1.2.0.tar.gz (3.0 kB)\n",
            "Requirement already satisfied: nbconvert<7.0.0,>=6.1.0 in /usr/local/lib/python3.10/site-packages (from datapane->polly-python==0.2.5-omix-category) (6.3.0)\n",
            "Collecting click-spinner<0.2.0,>=0.1.8\n",
            "  Downloading click_spinner-0.1.10-py2.py3-none-any.whl (4.0 kB)\n",
            "Collecting micawber>=0.5.0\n",
            "  Downloading micawber-0.5.4.tar.gz (18 kB)\n",
            "Collecting toolz<0.13.0,>=0.11.0\n",
            "  Downloading toolz-0.12.0-py3-none-any.whl (55 kB)\n",
            "\u001b[K     |████████████████████████████████| 55 kB 8.8 MB/s s eta 0:00:01\n",
            "\u001b[?25hCollecting boltons<22.0.0,>=20.0.0\n",
            "  Downloading boltons-21.0.0-py2.py3-none-any.whl (193 kB)\n",
            "\u001b[K     |████████████████████████████████| 193 kB 118.8 MB/s eta 0:00:01\n",
            "\u001b[?25hCollecting datacommons-pandas<0.0.4,>=0.0.3\n",
            "  Downloading datacommons_pandas-0.0.3-py3-none-any.whl (45 kB)\n",
            "\u001b[K     |████████████████████████████████| 45 kB 10.9 MB/s  eta 0:00:01\n",
            "\u001b[?25hCollecting validators<0.21.0,>=0.18.0\n",
            "  Downloading validators-0.20.0.tar.gz (30 kB)\n",
            "Collecting lxml<5.0.0,>=4.0.0\n",
            "  Downloading lxml-4.9.1-cp310-cp310-manylinux_2_17_x86_64.manylinux2014_x86_64.manylinux_2_24_x86_64.whl (6.9 MB)\n",
            "\u001b[K     |████████████████████████████████| 6.9 MB 56.1 MB/s eta 0:00:01\n",
            "\u001b[?25hCollecting munch<3.0.0,>=2.3.0\n",
            "  Downloading munch-2.5.0-py2.py3-none-any.whl (10 kB)\n",
            "Collecting datacommons<2.0.0,>=1.4.3\n",
            "  Downloading datacommons-1.4.3-py3-none-any.whl (46 kB)\n",
            "\u001b[K     |████████████████████████████████| 46 kB 10.6 MB/s eta 0:00:01\n",
            "\u001b[?25hCollecting requests-toolbelt<0.10.0,>=0.9.1\n",
            "  Downloading requests_toolbelt-0.9.1-py2.py3-none-any.whl (54 kB)\n",
            "\u001b[K     |████████████████████████████████| 54 kB 6.4 MB/s  eta 0:00:01\n",
            "\u001b[?25hCollecting dulwich<0.21.0,>=0.20.0\n",
            "  Downloading dulwich-0.20.50-cp310-cp310-manylinux_2_17_x86_64.manylinux2014_x86_64.whl (499 kB)\n",
            "\u001b[K     |████████████████████████████████| 499 kB 129.8 MB/s eta 0:00:01\n",
            "\u001b[?25hRequirement already satisfied: packaging<22.0.0,>=20.0.0 in /usr/local/lib/python3.10/site-packages (from datapane->polly-python==0.2.5-omix-category) (21.3)\n",
            "Collecting importlib_resources<6.0.0,>=3.0.0\n",
            "  Downloading importlib_resources-5.10.0-py3-none-any.whl (34 kB)\n",
            "Collecting tabulate<0.9.0,>=0.8.0\n",
            "  Downloading tabulate-0.8.10-py3-none-any.whl (29 kB)\n",
            "Collecting colorlog<7.0.0,>=4.1.0\n",
            "  Downloading colorlog-6.7.0-py2.py3-none-any.whl (11 kB)\n",
            "Collecting ipynbname<2022.0.0,>=2021.3.2\n",
            "  Downloading ipynbname-2021.3.2-py3-none-any.whl (4.0 kB)\n",
            "Collecting vega-datasets<1.0.0,>=0.9.0\n",
            "  Downloading vega_datasets-0.9.0-py3-none-any.whl (210 kB)\n",
            "\u001b[K     |████████████████████████████████| 210 kB 130.7 MB/s eta 0:00:01\n"
          ]
        },
        {
          "name": "stdout",
          "output_type": "stream",
          "text": [
            "\u001b[?25hCollecting click<9.0.0,>=7.1.0\n",
            "  Downloading click-8.1.3-py3-none-any.whl (96 kB)\n",
            "\u001b[K     |████████████████████████████████| 96 kB 14.2 MB/s  eta 0:00:01\n",
            "\u001b[?25hCollecting altair<5.0.0,>=4.0.0\n",
            "  Downloading altair-4.2.0-py3-none-any.whl (812 kB)\n",
            "\u001b[K     |████████████████████████████████| 812 kB 121.2 MB/s eta 0:00:01\n",
            "\u001b[?25hCollecting dominate<3.0.0,>=2.4.0\n",
            "  Downloading dominate-2.7.0-py2.py3-none-any.whl (29 kB)\n",
            "Collecting pyarrow<7.0.0,>=3.0.0\n",
            "  Downloading pyarrow-6.0.1-cp310-cp310-manylinux_2_17_x86_64.manylinux2014_x86_64.whl (25.6 MB)\n",
            "\u001b[K     |████████████████████████████████| 25.6 MB 43.2 MB/s eta 0:00:01\n",
            "\u001b[?25hCollecting furl<3.0.0,>=2.0.0\n",
            "  Downloading furl-2.1.3-py2.py3-none-any.whl (20 kB)\n",
            "Requirement already satisfied: Jinja2<4.0.0,>=3.0.0 in /usr/local/lib/python3.10/site-packages (from datapane->polly-python==0.2.5-omix-category) (3.0.3)\n",
            "Collecting glom<23.0.0,>=20.11.0\n",
            "  Downloading glom-22.1.0-py2.py3-none-any.whl (100 kB)\n",
            "\u001b[K     |████████████████████████████████| 100 kB 26.2 MB/s eta 0:00:01\n",
            "\u001b[?25hRequirement already satisfied: jsonschema<5.0.0,>=3.2.0 in /usr/local/lib/python3.10/site-packages (from datapane->polly-python==0.2.5-omix-category) (4.2.1)\n",
            "Collecting posthog<3.0.0,>=1.4.0\n",
            "  Downloading posthog-2.2.0-py2.py3-none-any.whl (33 kB)\n",
            "Collecting dacite<2.0.0,>=1.0.2\n",
            "  Downloading dacite-1.6.0-py3-none-any.whl (12 kB)\n",
            "Requirement already satisfied: PyYAML<7.0.0,>=5.4.0 in /usr/local/lib/python3.10/site-packages (from datapane->polly-python==0.2.5-omix-category) (5.4.1)\n",
            "Requirement already satisfied: entrypoints in /usr/local/lib/python3.10/site-packages (from altair<5.0.0,>=4.0.0->datapane->polly-python==0.2.5-omix-category) (0.3)\n",
            "Collecting orderedmultidict>=1.0.1\n",
            "  Downloading orderedmultidict-1.0.1-py2.py3-none-any.whl (11 kB)\n",
            "Requirement already satisfied: attrs in /usr/local/lib/python3.10/site-packages (from glom<23.0.0,>=20.11.0->datapane->polly-python==0.2.5-omix-category) (21.2.0)\n",
            "Collecting face>=20.1.0\n",
            "  Downloading face-22.0.0-py3-none-any.whl (54 kB)\n",
            "\u001b[K     |████████████████████████████████| 54 kB 9.2 MB/s s eta 0:00:01\n",
            "\u001b[?25hRequirement already satisfied: ipykernel in /usr/local/lib/python3.10/site-packages (from ipynbname<2022.0.0,>=2021.3.2->datapane->polly-python==0.2.5-omix-category) (6.13.1)\n",
            "Requirement already satisfied: MarkupSafe>=2.0 in /usr/local/lib/python3.10/site-packages (from Jinja2<4.0.0,>=3.0.0->datapane->polly-python==0.2.5-omix-category) (2.0.1)\n",
            "Requirement already satisfied: pyrsistent!=0.17.0,!=0.17.1,!=0.17.2,>=0.14.0 in /usr/local/lib/python3.10/site-packages (from jsonschema<5.0.0,>=3.2.0->datapane->polly-python==0.2.5-omix-category) (0.18.0)\n",
            "Requirement already satisfied: mistune<2,>=0.8.1 in /usr/local/lib/python3.10/site-packages (from nbconvert<7.0.0,>=6.1.0->datapane->polly-python==0.2.5-omix-category) (0.8.4)\n",
            "Requirement already satisfied: nbformat>=4.4 in /usr/local/lib/python3.10/site-packages (from nbconvert<7.0.0,>=6.1.0->datapane->polly-python==0.2.5-omix-category) (5.1.3)\n",
            "Requirement already satisfied: pandocfilters>=1.4.1 in /usr/local/lib/python3.10/site-packages (from nbconvert<7.0.0,>=6.1.0->datapane->polly-python==0.2.5-omix-category) (1.5.0)\n",
            "Requirement already satisfied: traitlets>=5.0 in /usr/local/lib/python3.10/site-packages (from nbconvert<7.0.0,>=6.1.0->datapane->polly-python==0.2.5-omix-category) (5.1.1)\n",
            "Requirement already satisfied: pygments>=2.4.1 in /usr/local/lib/python3.10/site-packages (from nbconvert<7.0.0,>=6.1.0->datapane->polly-python==0.2.5-omix-category) (2.10.0)\n",
            "Requirement already satisfied: jupyter-core in /usr/local/lib/python3.10/site-packages (from nbconvert<7.0.0,>=6.1.0->datapane->polly-python==0.2.5-omix-category) (4.9.1)\n",
            "Requirement already satisfied: nbclient<0.6.0,>=0.5.0 in /usr/local/lib/python3.10/site-packages (from nbconvert<7.0.0,>=6.1.0->datapane->polly-python==0.2.5-omix-category) (0.5.13)\n",
            "Requirement already satisfied: jupyterlab-pygments in /usr/local/lib/python3.10/site-packages (from nbconvert<7.0.0,>=6.1.0->datapane->polly-python==0.2.5-omix-category) (0.2.2)\n",
            "Requirement already satisfied: bleach in /usr/local/lib/python3.10/site-packages (from nbconvert<7.0.0,>=6.1.0->datapane->polly-python==0.2.5-omix-category) (4.1.0)\n",
            "Requirement already satisfied: defusedxml in /usr/local/lib/python3.10/site-packages (from nbconvert<7.0.0,>=6.1.0->datapane->polly-python==0.2.5-omix-category) (0.7.1)\n",
            "Requirement already satisfied: testpath in /usr/local/lib/python3.10/site-packages (from nbconvert<7.0.0,>=6.1.0->datapane->polly-python==0.2.5-omix-category) (0.5.0)\n",
            "Requirement already satisfied: nest-asyncio in /usr/local/lib/python3.10/site-packages (from nbclient<0.6.0,>=0.5.0->nbconvert<7.0.0,>=6.1.0->datapane->polly-python==0.2.5-omix-category) (1.5.6)\n",
            "Requirement already satisfied: jupyter-client>=6.1.5 in /usr/local/lib/python3.10/site-packages (from nbclient<0.6.0,>=0.5.0->nbconvert<7.0.0,>=6.1.0->datapane->polly-python==0.2.5-omix-category) (6.1.12)\n",
            "Requirement already satisfied: tornado>=4.1 in /usr/local/lib/python3.10/site-packages (from jupyter-client>=6.1.5->nbclient<0.6.0,>=0.5.0->nbconvert<7.0.0,>=6.1.0->datapane->polly-python==0.2.5-omix-category) (6.1)\n",
            "Requirement already satisfied: pyzmq>=13 in /usr/local/lib/python3.10/site-packages (from jupyter-client>=6.1.5->nbclient<0.6.0,>=0.5.0->nbconvert<7.0.0,>=6.1.0->datapane->polly-python==0.2.5-omix-category) (22.3.0)\n",
            "Requirement already satisfied: ipython-genutils in /usr/local/lib/python3.10/site-packages (from nbformat>=4.4->nbconvert<7.0.0,>=6.1.0->datapane->polly-python==0.2.5-omix-category) (0.2.0)\n",
            "Requirement already satisfied: pyparsing!=3.0.5,>=2.0.2 in /usr/local/lib/python3.10/site-packages (from packaging<22.0.0,>=20.0.0->datapane->polly-python==0.2.5-omix-category) (3.0.6)\n",
            "Collecting monotonic>=1.5\n",
            "  Downloading monotonic-1.6-py2.py3-none-any.whl (8.2 kB)\n",
            "Collecting backoff<2.0.0,>=1.10.0\n",
            "  Downloading backoff-1.11.1-py2.py3-none-any.whl (13 kB)\n",
            "Requirement already satisfied: decorator>=3.4.0 in /usr/local/lib/python3.10/site-packages (from validators<0.21.0,>=0.18.0->datapane->polly-python==0.2.5-omix-category) (5.1.0)\n",
            "Requirement already satisfied: webencodings in /usr/local/lib/python3.10/site-packages (from bleach->nbconvert<7.0.0,>=6.1.0->datapane->polly-python==0.2.5-omix-category) (0.5.1)\n",
            "Collecting wrapt<2,>=1.10\n",
            "  Downloading wrapt-1.14.1-cp310-cp310-manylinux_2_5_x86_64.manylinux1_x86_64.manylinux_2_17_x86_64.manylinux2014_x86_64.whl (77 kB)\n",
            "\u001b[K     |████████████████████████████████| 77 kB 17.4 MB/s  eta 0:00:01\n",
            "\u001b[?25hRequirement already satisfied: matplotlib-inline>=0.1 in /usr/local/lib/python3.10/site-packages (from ipykernel->ipynbname<2022.0.0,>=2021.3.2->datapane->polly-python==0.2.5-omix-category) (0.1.3)\n",
            "Requirement already satisfied: ipython>=7.23.1 in /usr/local/lib/python3.10/site-packages (from ipykernel->ipynbname<2022.0.0,>=2021.3.2->datapane->polly-python==0.2.5-omix-category) (8.2.0)\n",
            "Requirement already satisfied: debugpy>=1.0 in /usr/local/lib/python3.10/site-packages (from ipykernel->ipynbname<2022.0.0,>=2021.3.2->datapane->polly-python==0.2.5-omix-category) (1.6.3)\n",
            "Requirement already satisfied: psutil in /usr/local/lib/python3.10/site-packages (from ipykernel->ipynbname<2022.0.0,>=2021.3.2->datapane->polly-python==0.2.5-omix-category) (5.9.4)\n",
            "Requirement already satisfied: pexpect>4.3 in /usr/local/lib/python3.10/site-packages (from ipython>=7.23.1->ipykernel->ipynbname<2022.0.0,>=2021.3.2->datapane->polly-python==0.2.5-omix-category) (4.8.0)\n",
            "Requirement already satisfied: backcall in /usr/local/lib/python3.10/site-packages (from ipython>=7.23.1->ipykernel->ipynbname<2022.0.0,>=2021.3.2->datapane->polly-python==0.2.5-omix-category) (0.2.0)\n",
            "Requirement already satisfied: pickleshare in /usr/local/lib/python3.10/site-packages (from ipython>=7.23.1->ipykernel->ipynbname<2022.0.0,>=2021.3.2->datapane->polly-python==0.2.5-omix-category) (0.7.5)\n",
            "Requirement already satisfied: jedi>=0.16 in /usr/local/lib/python3.10/site-packages (from ipython>=7.23.1->ipykernel->ipynbname<2022.0.0,>=2021.3.2->datapane->polly-python==0.2.5-omix-category) (0.18.1)\n",
            "Requirement already satisfied: stack-data in /usr/local/lib/python3.10/site-packages (from ipython>=7.23.1->ipykernel->ipynbname<2022.0.0,>=2021.3.2->datapane->polly-python==0.2.5-omix-category) (0.6.1)\n",
            "Requirement already satisfied: prompt-toolkit!=3.0.0,!=3.0.1,<3.1.0,>=2.0.0 in /usr/local/lib/python3.10/site-packages (from ipython>=7.23.1->ipykernel->ipynbname<2022.0.0,>=2021.3.2->datapane->polly-python==0.2.5-omix-category) (3.0.22)\n",
            "Requirement already satisfied: parso<0.9.0,>=0.8.0 in /usr/local/lib/python3.10/site-packages (from jedi>=0.16->ipython>=7.23.1->ipykernel->ipynbname<2022.0.0,>=2021.3.2->datapane->polly-python==0.2.5-omix-category) (0.8.2)\n",
            "Requirement already satisfied: ptyprocess>=0.5 in /usr/local/lib/python3.10/site-packages (from pexpect>4.3->ipython>=7.23.1->ipykernel->ipynbname<2022.0.0,>=2021.3.2->datapane->polly-python==0.2.5-omix-category) (0.7.0)\n",
            "Requirement already satisfied: wcwidth in /usr/local/lib/python3.10/site-packages (from prompt-toolkit!=3.0.0,!=3.0.1,<3.1.0,>=2.0.0->ipython>=7.23.1->ipykernel->ipynbname<2022.0.0,>=2021.3.2->datapane->polly-python==0.2.5-omix-category) (0.2.5)\n"
          ]
        },
        {
          "name": "stdout",
          "output_type": "stream",
          "text": [
            "Collecting tenacity>=6.2.0\n",
            "  Downloading tenacity-8.1.0-py3-none-any.whl (23 kB)\n",
            "Collecting iniconfig\n",
            "  Downloading iniconfig-1.1.1-py2.py3-none-any.whl (5.0 kB)\n",
            "Collecting tomli>=1.0.0\n",
            "  Downloading tomli-2.0.1-py3-none-any.whl (12 kB)\n",
            "Collecting pluggy<2.0,>=0.12\n",
            "  Downloading pluggy-1.0.0-py2.py3-none-any.whl (13 kB)\n",
            "Collecting exceptiongroup>=1.0.0rc8\n",
            "  Downloading exceptiongroup-1.0.4-py3-none-any.whl (14 kB)\n",
            "Requirement already satisfied: docutils>=0.11 in /usr/local/lib/python3.10/site-packages (from rst2txt->polly-python==0.2.5-omix-category) (0.15.2)\n",
            "Requirement already satisfied: asttokens>=2.1.0 in /usr/local/lib/python3.10/site-packages (from stack-data->ipython>=7.23.1->ipykernel->ipynbname<2022.0.0,>=2021.3.2->datapane->polly-python==0.2.5-omix-category) (2.1.0)\n",
            "Requirement already satisfied: executing>=1.2.0 in /usr/local/lib/python3.10/site-packages (from stack-data->ipython>=7.23.1->ipykernel->ipynbname<2022.0.0,>=2021.3.2->datapane->polly-python==0.2.5-omix-category) (1.2.0)\n",
            "Requirement already satisfied: pure-eval in /usr/local/lib/python3.10/site-packages (from stack-data->ipython>=7.23.1->ipykernel->ipynbname<2022.0.0,>=2021.3.2->datapane->polly-python==0.2.5-omix-category) (0.2.2)\n",
            "Using legacy 'setup.py install' for Cerberus, since package 'wheel' is not installed.\n",
            "Using legacy 'setup.py install' for retrying, since package 'wheel' is not installed.\n",
            "Using legacy 'setup.py install' for micawber, since package 'wheel' is not installed.\n",
            "Using legacy 'setup.py install' for stringcase, since package 'wheel' is not installed.\n",
            "Using legacy 'setup.py install' for validators, since package 'wheel' is not installed.\n",
            "Installing collected packages: pytz, certifi, boltons, typing-extensions, toolz, requests, orderedmultidict, monotonic, face, backoff, wrapt, vega-datasets, validators, tomli, tenacity, tabulate, stringcase, soupsieve, requests-toolbelt, python-magic, pydantic, pyarrow, posthog, pluggy, munch, micawber, lxml, ipynbname, iniconfig, importlib-resources, h5py, glom, furl, exceptiongroup, ecdsa, dulwich, dominate, datacommons-pandas, datacommons, dacite, colorlog, click-spinner, click, altair, sqlparse, rst2txt, retrying, python-jose, pytest, postpy2, plotly, mixpanel, joblib, elucidatacmapPy, elucidatacloudpathlib, Deprecated, datapane, Cerberus, beautifulsoup4, polly-python\n",
            "  Attempting uninstall: pytz\n",
            "    Found existing installation: pytz 2021.3\n",
            "    Uninstalling pytz-2021.3:\n",
            "      Successfully uninstalled pytz-2021.3\n",
            "  Attempting uninstall: certifi\n",
            "    Found existing installation: certifi 2021.5.30\n",
            "    Uninstalling certifi-2021.5.30:\n",
            "      Successfully uninstalled certifi-2021.5.30\n",
            "  Attempting uninstall: requests\n",
            "    Found existing installation: requests 2.27.1\n",
            "    Uninstalling requests-2.27.1:\n",
            "      Successfully uninstalled requests-2.27.1\n",
            "    Running setup.py install for validators ... \u001b[?25ldone\n",
            "\u001b[?25h  Attempting uninstall: tabulate\n",
            "    Found existing installation: tabulate 0.9.0\n",
            "    Uninstalling tabulate-0.9.0:\n",
            "      Successfully uninstalled tabulate-0.9.0\n",
            "    Running setup.py install for stringcase ... \u001b[?25ldone\n",
            "\u001b[?25h    Running setup.py install for micawber ... \u001b[?25ldone\n",
            "\u001b[?25h    Running setup.py install for retrying ... \u001b[?25ldone\n",
            "\u001b[?25h  Attempting uninstall: Cerberus\n",
            "    Found existing installation: Cerberus 1.3.4\n",
            "    Uninstalling Cerberus-1.3.4:\n",
            "      Successfully uninstalled Cerberus-1.3.4\n",
            "    Running setup.py install for Cerberus ... \u001b[?25ldone\n",
            "\u001b[?25hSuccessfully installed Cerberus-1.3.2 Deprecated-1.2.13 altair-4.2.0 backoff-1.11.1 beautifulsoup4-4.11.1 boltons-21.0.0 certifi-2021.10.8 click-8.1.3 click-spinner-0.1.10 colorlog-6.7.0 dacite-1.6.0 datacommons-1.4.3 datacommons-pandas-0.0.3 datapane-0.15.4 dominate-2.7.0 dulwich-0.20.50 ecdsa-0.18.0 elucidatacloudpathlib-0.6.6 elucidatacmapPy-3.3.4 exceptiongroup-1.0.4 face-22.0.0 furl-2.1.3 glom-22.1.0 h5py-3.7.0 importlib-resources-5.10.0 iniconfig-1.1.1 ipynbname-2021.3.2 joblib-1.2.0 lxml-4.9.1 micawber-0.5.4 mixpanel-4.10.0 monotonic-1.6 munch-2.5.0 orderedmultidict-1.0.1 plotly-5.11.0 pluggy-1.0.0 polly-python-0.2.5 posthog-2.2.0 postpy2-0.0.6 pyarrow-6.0.1 pydantic-1.9.1 pytest-7.2.0 python-jose-3.3.0 python-magic-0.4.24 pytz-2021.1 requests-2.25.1 requests-toolbelt-0.9.1 retrying-1.3.3 rst2txt-1.1.0 soupsieve-2.3.2.post1 sqlparse-0.4.3 stringcase-1.2.0 tabulate-0.8.10 tenacity-8.1.0 tomli-2.0.1 toolz-0.12.0 typing-extensions-4.4.0 validators-0.20.0 vega-datasets-0.9.0 wrapt-1.14.1\n",
            "\u001b[33mWARNING: Running pip as the 'root' user can result in broken permissions and conflicting behaviour with the system package manager. It is recommended to use a virtual environment instead: https://pip.pypa.io/warnings/venv\u001b[0m\n",
            "\u001b[33mWARNING: You are using pip version 21.2.4; however, version 22.3.1 is available.\n",
            "You should consider upgrading via the '/usr/local/bin/python3.10 -m pip install --upgrade pip' command.\u001b[0m\n"
          ]
        }
      ],
      "source": [
        "!sudo pip3 install https://elucidatainc.github.io/PublicAssets/builds/polly-python/tests/testpolly/polly_python-0.2.5_omix_category-py3-none-any.whl"
      ]
    },
    {
      "cell_type": "code",
      "execution_count": 2,
      "metadata": {},
      "outputs": [],
      "source": [
        "import os\n",
        "from polly.auth import Polly\n",
        "AUTH_TOKEN=(os.environ['POLLY_REFRESH_TOKEN']) # Obtain authentication tokens\n",
        "Polly.auth(AUTH_TOKEN)\n",
        "from polly.omixatlas import OmixAtlas\n",
        "omixatlas = OmixAtlas()"
      ]
    },
    {
      "cell_type": "code",
      "execution_count": 4,
      "metadata": {},
      "outputs": [
        {
          "name": "stdout",
          "output_type": "stream",
          "text": [
            " OmixAtlas 1669273034031 Created  \n"
          ]
        }
      ],
      "source": [
        "# Test case 1\n",
        "# Default case -> Category is set to \"private\" in the default case\n",
        "res = omixatlas.create(\"omix_category_test_10\", \"Created Omixatlas to test Category\")"
      ]
    },
    {
      "cell_type": "code",
      "execution_count": 5,
      "metadata": {},
      "outputs": [
        {
          "data": {
            "text/html": [
              "<div>\n",
              "<style scoped>\n",
              "    .dataframe tbody tr th:only-of-type {\n",
              "        vertical-align: middle;\n",
              "    }\n",
              "\n",
              "    .dataframe tbody tr th {\n",
              "        vertical-align: top;\n",
              "    }\n",
              "\n",
              "    .dataframe thead th {\n",
              "        text-align: right;\n",
              "    }\n",
              "</style>\n",
              "<table border=\"1\" class=\"dataframe\">\n",
              "  <thead>\n",
              "    <tr style=\"text-align: right;\">\n",
              "      <th></th>\n",
              "      <th>Repository Id</th>\n",
              "      <th>Repository Name</th>\n",
              "      <th>Category</th>\n",
              "      <th>Display Name</th>\n",
              "      <th>Description</th>\n",
              "    </tr>\n",
              "  </thead>\n",
              "  <tbody>\n",
              "    <tr>\n",
              "      <th>0</th>\n",
              "      <td>1669273034031</td>\n",
              "      <td>omix_category_test_10</td>\n",
              "      <td>private</td>\n",
              "      <td>omix_category_test_10</td>\n",
              "      <td>Created Omixatlas to test Category</td>\n",
              "    </tr>\n",
              "  </tbody>\n",
              "</table>\n",
              "</div>"
            ],
            "text/plain": [
              "   Repository Id        Repository Name Category           Display Name  \\\n",
              "0  1669273034031  omix_category_test_10  private  omix_category_test_10   \n",
              "\n",
              "                          Description  \n",
              "0  Created Omixatlas to test Category  "
            ]
          },
          "execution_count": 5,
          "metadata": {},
          "output_type": "execute_result"
        }
      ],
      "source": [
        "res"
      ]
    },
    {
      "cell_type": "code",
      "execution_count": 3,
      "metadata": {},
      "outputs": [
        {
          "name": "stdout",
          "output_type": "stream",
          "text": [
            " OmixAtlas 1669274131046 Created  \n"
          ]
        },
        {
          "data": {
            "text/html": [
              "<div>\n",
              "<style scoped>\n",
              "    .dataframe tbody tr th:only-of-type {\n",
              "        vertical-align: middle;\n",
              "    }\n",
              "\n",
              "    .dataframe tbody tr th {\n",
              "        vertical-align: top;\n",
              "    }\n",
              "\n",
              "    .dataframe thead th {\n",
              "        text-align: right;\n",
              "    }\n",
              "</style>\n",
              "<table border=\"1\" class=\"dataframe\">\n",
              "  <thead>\n",
              "    <tr style=\"text-align: right;\">\n",
              "      <th></th>\n",
              "      <th>Repository Id</th>\n",
              "      <th>Repository Name</th>\n",
              "      <th>Category</th>\n",
              "      <th>Display Name</th>\n",
              "      <th>Description</th>\n",
              "    </tr>\n",
              "  </thead>\n",
              "  <tbody>\n",
              "    <tr>\n",
              "      <th>0</th>\n",
              "      <td>1669274131046</td>\n",
              "      <td>omix_category_test_11</td>\n",
              "      <td>diy_poa</td>\n",
              "      <td>omix_category_test_11</td>\n",
              "      <td>Created Omixatlas to test Category</td>\n",
              "    </tr>\n",
              "  </tbody>\n",
              "</table>\n",
              "</div>"
            ],
            "text/plain": [
              "   Repository Id        Repository Name Category           Display Name  \\\n",
              "0  1669274131046  omix_category_test_11  diy_poa  omix_category_test_11   \n",
              "\n",
              "                          Description  \n",
              "0  Created Omixatlas to test Category  "
            ]
          },
          "execution_count": 3,
          "metadata": {},
          "output_type": "execute_result"
        }
      ],
      "source": [
        "# Test case 2 => diy category\n",
        "res = omixatlas.create(\"omix_category_test_11\", \"Created Omixatlas to test Category\", category=\"diy_poa\")\n",
        "res"
      ]
    },
    {
      "cell_type": "code",
      "execution_count": 5,
      "metadata": {},
      "outputs": [
        {
          "name": "stdout",
          "output_type": "stream",
          "text": [
            " OmixAtlas 1669274485979 Created  \n"
          ]
        },
        {
          "data": {
            "text/html": [
              "<div>\n",
              "<style scoped>\n",
              "    .dataframe tbody tr th:only-of-type {\n",
              "        vertical-align: middle;\n",
              "    }\n",
              "\n",
              "    .dataframe tbody tr th {\n",
              "        vertical-align: top;\n",
              "    }\n",
              "\n",
              "    .dataframe thead th {\n",
              "        text-align: right;\n",
              "    }\n",
              "</style>\n",
              "<table border=\"1\" class=\"dataframe\">\n",
              "  <thead>\n",
              "    <tr style=\"text-align: right;\">\n",
              "      <th></th>\n",
              "      <th>Repository Id</th>\n",
              "      <th>Repository Name</th>\n",
              "      <th>Category</th>\n",
              "      <th>Display Name</th>\n",
              "      <th>Description</th>\n",
              "    </tr>\n",
              "  </thead>\n",
              "  <tbody>\n",
              "    <tr>\n",
              "      <th>0</th>\n",
              "      <td>1669274485979</td>\n",
              "      <td>omix_category_test_12</td>\n",
              "      <td>public</td>\n",
              "      <td>omix_category_test_12</td>\n",
              "      <td>Created Omixatlas to test Category</td>\n",
              "    </tr>\n",
              "  </tbody>\n",
              "</table>\n",
              "</div>"
            ],
            "text/plain": [
              "   Repository Id        Repository Name Category           Display Name  \\\n",
              "0  1669274485979  omix_category_test_12   public  omix_category_test_12   \n",
              "\n",
              "                          Description  \n",
              "0  Created Omixatlas to test Category  "
            ]
          },
          "execution_count": 5,
          "metadata": {},
          "output_type": "execute_result"
        }
      ],
      "source": [
        "#test case 3 => public category\n",
        "res = omixatlas.create(\"omix_category_test_12\", \"Created Omixatlas to test Category\", category=\"public\")\n",
        "res"
      ]
    },
    {
      "cell_type": "code",
      "execution_count": 6,
      "metadata": {},
      "outputs": [
        {
          "ename": "paramException",
          "evalue": "paramException (parameter error): test should be a list and its value must be one of ['private', 'public', 'diy_poa']",
          "output_type": "error",
          "traceback": [
            "\u001b[0;31m---------------------------------------------------------------------------\u001b[0m",
            "\u001b[0;31mparamException\u001b[0m                            Traceback (most recent call last)",
            "Input \u001b[0;32mIn [6]\u001b[0m, in \u001b[0;36m<cell line: 2>\u001b[0;34m()\u001b[0m\n\u001b[1;32m      1\u001b[0m \u001b[38;5;66;03m# test case 4 => wrong category omixatlas created\u001b[39;00m\n\u001b[0;32m----> 2\u001b[0m res \u001b[38;5;241m=\u001b[39m \u001b[43momixatlas\u001b[49m\u001b[38;5;241;43m.\u001b[39;49m\u001b[43mcreate\u001b[49m\u001b[43m(\u001b[49m\u001b[38;5;124;43m\"\u001b[39;49m\u001b[38;5;124;43momix_category_test_13\u001b[39;49m\u001b[38;5;124;43m\"\u001b[39;49m\u001b[43m,\u001b[49m\u001b[43m \u001b[49m\u001b[38;5;124;43m\"\u001b[39;49m\u001b[38;5;124;43mCreated Omixatlas to test Category\u001b[39;49m\u001b[38;5;124;43m\"\u001b[39;49m\u001b[43m,\u001b[49m\u001b[43m \u001b[49m\u001b[43mcategory\u001b[49m\u001b[38;5;241;43m=\u001b[39;49m\u001b[38;5;124;43m\"\u001b[39;49m\u001b[38;5;124;43mtest\u001b[39;49m\u001b[38;5;124;43m\"\u001b[39;49m\u001b[43m)\u001b[49m\n\u001b[1;32m      3\u001b[0m res\n",
            "File \u001b[0;32m/usr/local/lib/python3.10/site-packages/polly/omixatlas.py:1539\u001b[0m, in \u001b[0;36mOmixAtlas.create\u001b[0;34m(self, display_name, description, repo_name, image_url, components, category)\u001b[0m\n\u001b[1;32m   1537\u001b[0m             \u001b[38;5;167;01mValueError\u001b[39;00m(\u001b[38;5;124m\"\u001b[39m\u001b[38;5;124mRepository creation response is in Incorrect format\u001b[39m\u001b[38;5;124m\"\u001b[39m)\n\u001b[1;32m   1538\u001b[0m \u001b[38;5;28;01mexcept\u001b[39;00m \u001b[38;5;167;01mException\u001b[39;00m \u001b[38;5;28;01mas\u001b[39;00m err:\n\u001b[0;32m-> 1539\u001b[0m     \u001b[38;5;28;01mraise\u001b[39;00m err\n",
            "File \u001b[0;32m/usr/local/lib/python3.10/site-packages/polly/omixatlas.py:1500\u001b[0m, in \u001b[0;36mOmixAtlas.create\u001b[0;34m(self, display_name, description, repo_name, image_url, components, category)\u001b[0m\n\u001b[1;32m   1468\u001b[0m \u001b[38;5;124;03m\"\"\"\u001b[39;00m\n\u001b[1;32m   1469\u001b[0m \u001b[38;5;124;03mThis function is used to create a new omixatlas,\u001b[39;00m\n\u001b[1;32m   1470\u001b[0m \n\u001b[0;32m   (...)\u001b[0m\n\u001b[1;32m   1497\u001b[0m \n\u001b[1;32m   1498\u001b[0m \u001b[38;5;124;03m\"\"\"\u001b[39;00m\n\u001b[1;32m   1499\u001b[0m \u001b[38;5;28;01mtry\u001b[39;00m:\n\u001b[0;32m-> 1500\u001b[0m     \u001b[43momix_hlpr\u001b[49m\u001b[38;5;241;43m.\u001b[39;49m\u001b[43mcheck_create_omixatlas_parameters\u001b[49m\u001b[43m(\u001b[49m\n\u001b[1;32m   1501\u001b[0m \u001b[43m        \u001b[49m\u001b[43mdisplay_name\u001b[49m\u001b[43m,\u001b[49m\u001b[43m \u001b[49m\u001b[43mdescription\u001b[49m\u001b[43m,\u001b[49m\u001b[43m \u001b[49m\u001b[43mrepo_name\u001b[49m\u001b[43m,\u001b[49m\u001b[43m \u001b[49m\u001b[43mimage_url\u001b[49m\u001b[43m,\u001b[49m\u001b[43m \u001b[49m\u001b[43mcomponents\u001b[49m\u001b[43m,\u001b[49m\u001b[43m \u001b[49m\u001b[43mcategory\u001b[49m\n\u001b[1;32m   1502\u001b[0m \u001b[43m    \u001b[49m\u001b[43m)\u001b[49m\n\u001b[1;32m   1503\u001b[0m     payload \u001b[38;5;241m=\u001b[39m \u001b[38;5;28mself\u001b[39m\u001b[38;5;241m.\u001b[39m_get_repository_payload()\n\u001b[1;32m   1504\u001b[0m     frontend_info \u001b[38;5;241m=\u001b[39m {}\n",
            "File \u001b[0;32m/usr/local/lib/python3.10/site-packages/polly/omixatlas_hlpr.py:442\u001b[0m, in \u001b[0;36mcheck_create_omixatlas_parameters\u001b[0;34m(display_name, description, repo_name, image_url, components, category)\u001b[0m\n\u001b[1;32m    437\u001b[0m     \u001b[38;5;28;01mraise\u001b[39;00m paramException(\n\u001b[1;32m    438\u001b[0m         title\u001b[38;5;241m=\u001b[39m\u001b[38;5;124m\"\u001b[39m\u001b[38;5;124mParam Error\u001b[39m\u001b[38;5;124m\"\u001b[39m, detail\u001b[38;5;241m=\u001b[39m\u001b[38;5;124mf\u001b[39m\u001b[38;5;124m\"\u001b[39m\u001b[38;5;132;01m{\u001b[39;00mcomponents\u001b[38;5;132;01m}\u001b[39;00m\u001b[38;5;124m should be a list\u001b[39m\u001b[38;5;124m\"\u001b[39m\n\u001b[1;32m    439\u001b[0m     )\n\u001b[1;32m    441\u001b[0m \u001b[38;5;28;01mif\u001b[39;00m \u001b[38;5;129;01mnot\u001b[39;00m \u001b[38;5;28misinstance\u001b[39m(category, \u001b[38;5;28mstr\u001b[39m) \u001b[38;5;129;01mor\u001b[39;00m (category \u001b[38;5;129;01mnot\u001b[39;00m \u001b[38;5;129;01min\u001b[39;00m const\u001b[38;5;241m.\u001b[39mOMIXATLAS_CATEGORY_VALS):\n\u001b[0;32m--> 442\u001b[0m     \u001b[38;5;28;01mraise\u001b[39;00m paramException(\n\u001b[1;32m    443\u001b[0m         title\u001b[38;5;241m=\u001b[39m\u001b[38;5;124m\"\u001b[39m\u001b[38;5;124mParam Error\u001b[39m\u001b[38;5;124m\"\u001b[39m,\n\u001b[1;32m    444\u001b[0m         detail\u001b[38;5;241m=\u001b[39m\u001b[38;5;124mf\u001b[39m\u001b[38;5;124m\"\u001b[39m\u001b[38;5;132;01m{\u001b[39;00mcategory\u001b[38;5;132;01m}\u001b[39;00m\u001b[38;5;124m should be a list and its value must be one of \u001b[39m\u001b[38;5;132;01m{\u001b[39;00mconst\u001b[38;5;241m.\u001b[39mOMIXATLAS_CATEGORY_VALS\u001b[38;5;132;01m}\u001b[39;00m\u001b[38;5;124m\"\u001b[39m,\n\u001b[1;32m    445\u001b[0m     )\n",
            "\u001b[0;31mparamException\u001b[0m: paramException (parameter error): test should be a list and its value must be one of ['private', 'public', 'diy_poa']"
          ]
        }
      ],
      "source": [
        "# test case 4 => wrong category omixatlas created\n",
        "res = omixatlas.create(\"omix_category_test_13\", \"Created Omixatlas to test Category\", category=\"test\")\n",
        "res"
      ]
    },
    {
      "cell_type": "code",
      "execution_count": 7,
      "metadata": {},
      "outputs": [
        {
          "ename": "paramException",
          "evalue": "paramException (parameter error): ['Created Omixatlas to test description'] should be a string",
          "output_type": "error",
          "traceback": [
            "\u001b[0;31m---------------------------------------------------------------------------\u001b[0m",
            "\u001b[0;31mparamException\u001b[0m                            Traceback (most recent call last)",
            "Input \u001b[0;32mIn [7]\u001b[0m, in \u001b[0;36m<cell line: 2>\u001b[0;34m()\u001b[0m\n\u001b[1;32m      1\u001b[0m \u001b[38;5;66;03m# test case 5 => description sent as list\u001b[39;00m\n\u001b[0;32m----> 2\u001b[0m res \u001b[38;5;241m=\u001b[39m \u001b[43momixatlas\u001b[49m\u001b[38;5;241;43m.\u001b[39;49m\u001b[43mcreate\u001b[49m\u001b[43m(\u001b[49m\u001b[38;5;124;43m\"\u001b[39;49m\u001b[38;5;124;43momix_desc_test_12\u001b[39;49m\u001b[38;5;124;43m\"\u001b[39;49m\u001b[43m,\u001b[49m\u001b[43m \u001b[49m\u001b[43m[\u001b[49m\u001b[38;5;124;43m\"\u001b[39;49m\u001b[38;5;124;43mCreated Omixatlas to test description\u001b[39;49m\u001b[38;5;124;43m\"\u001b[39;49m\u001b[43m]\u001b[49m\u001b[43m)\u001b[49m\n\u001b[1;32m      3\u001b[0m res\n",
            "File \u001b[0;32m/usr/local/lib/python3.10/site-packages/polly/omixatlas.py:1539\u001b[0m, in \u001b[0;36mOmixAtlas.create\u001b[0;34m(self, display_name, description, repo_name, image_url, components, category)\u001b[0m\n\u001b[1;32m   1537\u001b[0m             \u001b[38;5;167;01mValueError\u001b[39;00m(\u001b[38;5;124m\"\u001b[39m\u001b[38;5;124mRepository creation response is in Incorrect format\u001b[39m\u001b[38;5;124m\"\u001b[39m)\n\u001b[1;32m   1538\u001b[0m \u001b[38;5;28;01mexcept\u001b[39;00m \u001b[38;5;167;01mException\u001b[39;00m \u001b[38;5;28;01mas\u001b[39;00m err:\n\u001b[0;32m-> 1539\u001b[0m     \u001b[38;5;28;01mraise\u001b[39;00m err\n",
            "File \u001b[0;32m/usr/local/lib/python3.10/site-packages/polly/omixatlas.py:1500\u001b[0m, in \u001b[0;36mOmixAtlas.create\u001b[0;34m(self, display_name, description, repo_name, image_url, components, category)\u001b[0m\n\u001b[1;32m   1468\u001b[0m \u001b[38;5;124;03m\"\"\"\u001b[39;00m\n\u001b[1;32m   1469\u001b[0m \u001b[38;5;124;03mThis function is used to create a new omixatlas,\u001b[39;00m\n\u001b[1;32m   1470\u001b[0m \n\u001b[0;32m   (...)\u001b[0m\n\u001b[1;32m   1497\u001b[0m \n\u001b[1;32m   1498\u001b[0m \u001b[38;5;124;03m\"\"\"\u001b[39;00m\n\u001b[1;32m   1499\u001b[0m \u001b[38;5;28;01mtry\u001b[39;00m:\n\u001b[0;32m-> 1500\u001b[0m     \u001b[43momix_hlpr\u001b[49m\u001b[38;5;241;43m.\u001b[39;49m\u001b[43mcheck_create_omixatlas_parameters\u001b[49m\u001b[43m(\u001b[49m\n\u001b[1;32m   1501\u001b[0m \u001b[43m        \u001b[49m\u001b[43mdisplay_name\u001b[49m\u001b[43m,\u001b[49m\u001b[43m \u001b[49m\u001b[43mdescription\u001b[49m\u001b[43m,\u001b[49m\u001b[43m \u001b[49m\u001b[43mrepo_name\u001b[49m\u001b[43m,\u001b[49m\u001b[43m \u001b[49m\u001b[43mimage_url\u001b[49m\u001b[43m,\u001b[49m\u001b[43m \u001b[49m\u001b[43mcomponents\u001b[49m\u001b[43m,\u001b[49m\u001b[43m \u001b[49m\u001b[43mcategory\u001b[49m\n\u001b[1;32m   1502\u001b[0m \u001b[43m    \u001b[49m\u001b[43m)\u001b[49m\n\u001b[1;32m   1503\u001b[0m     payload \u001b[38;5;241m=\u001b[39m \u001b[38;5;28mself\u001b[39m\u001b[38;5;241m.\u001b[39m_get_repository_payload()\n\u001b[1;32m   1504\u001b[0m     frontend_info \u001b[38;5;241m=\u001b[39m {}\n",
            "File \u001b[0;32m/usr/local/lib/python3.10/site-packages/polly/omixatlas_hlpr.py:432\u001b[0m, in \u001b[0;36mcheck_create_omixatlas_parameters\u001b[0;34m(display_name, description, repo_name, image_url, components, category)\u001b[0m\n\u001b[1;32m    430\u001b[0m \u001b[38;5;28;01mfor\u001b[39;00m param \u001b[38;5;129;01min\u001b[39;00m str_params:\n\u001b[1;32m    431\u001b[0m     \u001b[38;5;28;01mif\u001b[39;00m \u001b[38;5;129;01mnot\u001b[39;00m \u001b[38;5;28misinstance\u001b[39m(param, \u001b[38;5;28mstr\u001b[39m):\n\u001b[0;32m--> 432\u001b[0m         \u001b[38;5;28;01mraise\u001b[39;00m paramException(\n\u001b[1;32m    433\u001b[0m             title\u001b[38;5;241m=\u001b[39m\u001b[38;5;124m\"\u001b[39m\u001b[38;5;124mParam Error\u001b[39m\u001b[38;5;124m\"\u001b[39m, detail\u001b[38;5;241m=\u001b[39m\u001b[38;5;124mf\u001b[39m\u001b[38;5;124m\"\u001b[39m\u001b[38;5;132;01m{\u001b[39;00mparam\u001b[38;5;132;01m}\u001b[39;00m\u001b[38;5;124m should be a string\u001b[39m\u001b[38;5;124m\"\u001b[39m\n\u001b[1;32m    434\u001b[0m         )\n\u001b[1;32m    436\u001b[0m \u001b[38;5;28;01mif\u001b[39;00m \u001b[38;5;129;01mnot\u001b[39;00m \u001b[38;5;28misinstance\u001b[39m(components, \u001b[38;5;28mlist\u001b[39m):\n\u001b[1;32m    437\u001b[0m     \u001b[38;5;28;01mraise\u001b[39;00m paramException(\n\u001b[1;32m    438\u001b[0m         title\u001b[38;5;241m=\u001b[39m\u001b[38;5;124m\"\u001b[39m\u001b[38;5;124mParam Error\u001b[39m\u001b[38;5;124m\"\u001b[39m, detail\u001b[38;5;241m=\u001b[39m\u001b[38;5;124mf\u001b[39m\u001b[38;5;124m\"\u001b[39m\u001b[38;5;132;01m{\u001b[39;00mcomponents\u001b[38;5;132;01m}\u001b[39;00m\u001b[38;5;124m should be a list\u001b[39m\u001b[38;5;124m\"\u001b[39m\n\u001b[1;32m    439\u001b[0m     )\n",
            "\u001b[0;31mparamException\u001b[0m: paramException (parameter error): ['Created Omixatlas to test description'] should be a string"
          ]
        }
      ],
      "source": [
        "# test case 5 => description sent as list\n",
        "res = omixatlas.create(\"omix_desc_test_12\", [\"Created Omixatlas to test description\"])\n",
        "res"
      ]
    },
    {
      "cell_type": "code",
      "execution_count": 8,
      "metadata": {},
      "outputs": [
        {
          "ename": "paramException",
          "evalue": "paramException (parameter error): 1234 should be a string",
          "output_type": "error",
          "traceback": [
            "\u001b[0;31m---------------------------------------------------------------------------\u001b[0m",
            "\u001b[0;31mparamException\u001b[0m                            Traceback (most recent call last)",
            "Input \u001b[0;32mIn [8]\u001b[0m, in \u001b[0;36m<cell line: 2>\u001b[0;34m()\u001b[0m\n\u001b[1;32m      1\u001b[0m \u001b[38;5;66;03m# test case 6 => display name sent as int\u001b[39;00m\n\u001b[0;32m----> 2\u001b[0m res \u001b[38;5;241m=\u001b[39m \u001b[43momixatlas\u001b[49m\u001b[38;5;241;43m.\u001b[39;49m\u001b[43mcreate\u001b[49m\u001b[43m(\u001b[49m\u001b[38;5;241;43m1234\u001b[39;49m\u001b[43m,\u001b[49m\u001b[43m \u001b[49m\u001b[38;5;124;43m\"\u001b[39;49m\u001b[38;5;124;43mCreated Omixatlas to test description\u001b[39;49m\u001b[38;5;124;43m\"\u001b[39;49m\u001b[43m)\u001b[49m\n\u001b[1;32m      3\u001b[0m res\n",
            "File \u001b[0;32m/usr/local/lib/python3.10/site-packages/polly/omixatlas.py:1539\u001b[0m, in \u001b[0;36mOmixAtlas.create\u001b[0;34m(self, display_name, description, repo_name, image_url, components, category)\u001b[0m\n\u001b[1;32m   1537\u001b[0m             \u001b[38;5;167;01mValueError\u001b[39;00m(\u001b[38;5;124m\"\u001b[39m\u001b[38;5;124mRepository creation response is in Incorrect format\u001b[39m\u001b[38;5;124m\"\u001b[39m)\n\u001b[1;32m   1538\u001b[0m \u001b[38;5;28;01mexcept\u001b[39;00m \u001b[38;5;167;01mException\u001b[39;00m \u001b[38;5;28;01mas\u001b[39;00m err:\n\u001b[0;32m-> 1539\u001b[0m     \u001b[38;5;28;01mraise\u001b[39;00m err\n",
            "File \u001b[0;32m/usr/local/lib/python3.10/site-packages/polly/omixatlas.py:1500\u001b[0m, in \u001b[0;36mOmixAtlas.create\u001b[0;34m(self, display_name, description, repo_name, image_url, components, category)\u001b[0m\n\u001b[1;32m   1468\u001b[0m \u001b[38;5;124;03m\"\"\"\u001b[39;00m\n\u001b[1;32m   1469\u001b[0m \u001b[38;5;124;03mThis function is used to create a new omixatlas,\u001b[39;00m\n\u001b[1;32m   1470\u001b[0m \n\u001b[0;32m   (...)\u001b[0m\n\u001b[1;32m   1497\u001b[0m \n\u001b[1;32m   1498\u001b[0m \u001b[38;5;124;03m\"\"\"\u001b[39;00m\n\u001b[1;32m   1499\u001b[0m \u001b[38;5;28;01mtry\u001b[39;00m:\n\u001b[0;32m-> 1500\u001b[0m     \u001b[43momix_hlpr\u001b[49m\u001b[38;5;241;43m.\u001b[39;49m\u001b[43mcheck_create_omixatlas_parameters\u001b[49m\u001b[43m(\u001b[49m\n\u001b[1;32m   1501\u001b[0m \u001b[43m        \u001b[49m\u001b[43mdisplay_name\u001b[49m\u001b[43m,\u001b[49m\u001b[43m \u001b[49m\u001b[43mdescription\u001b[49m\u001b[43m,\u001b[49m\u001b[43m \u001b[49m\u001b[43mrepo_name\u001b[49m\u001b[43m,\u001b[49m\u001b[43m \u001b[49m\u001b[43mimage_url\u001b[49m\u001b[43m,\u001b[49m\u001b[43m \u001b[49m\u001b[43mcomponents\u001b[49m\u001b[43m,\u001b[49m\u001b[43m \u001b[49m\u001b[43mcategory\u001b[49m\n\u001b[1;32m   1502\u001b[0m \u001b[43m    \u001b[49m\u001b[43m)\u001b[49m\n\u001b[1;32m   1503\u001b[0m     payload \u001b[38;5;241m=\u001b[39m \u001b[38;5;28mself\u001b[39m\u001b[38;5;241m.\u001b[39m_get_repository_payload()\n\u001b[1;32m   1504\u001b[0m     frontend_info \u001b[38;5;241m=\u001b[39m {}\n",
            "File \u001b[0;32m/usr/local/lib/python3.10/site-packages/polly/omixatlas_hlpr.py:432\u001b[0m, in \u001b[0;36mcheck_create_omixatlas_parameters\u001b[0;34m(display_name, description, repo_name, image_url, components, category)\u001b[0m\n\u001b[1;32m    430\u001b[0m \u001b[38;5;28;01mfor\u001b[39;00m param \u001b[38;5;129;01min\u001b[39;00m str_params:\n\u001b[1;32m    431\u001b[0m     \u001b[38;5;28;01mif\u001b[39;00m \u001b[38;5;129;01mnot\u001b[39;00m \u001b[38;5;28misinstance\u001b[39m(param, \u001b[38;5;28mstr\u001b[39m):\n\u001b[0;32m--> 432\u001b[0m         \u001b[38;5;28;01mraise\u001b[39;00m paramException(\n\u001b[1;32m    433\u001b[0m             title\u001b[38;5;241m=\u001b[39m\u001b[38;5;124m\"\u001b[39m\u001b[38;5;124mParam Error\u001b[39m\u001b[38;5;124m\"\u001b[39m, detail\u001b[38;5;241m=\u001b[39m\u001b[38;5;124mf\u001b[39m\u001b[38;5;124m\"\u001b[39m\u001b[38;5;132;01m{\u001b[39;00mparam\u001b[38;5;132;01m}\u001b[39;00m\u001b[38;5;124m should be a string\u001b[39m\u001b[38;5;124m\"\u001b[39m\n\u001b[1;32m    434\u001b[0m         )\n\u001b[1;32m    436\u001b[0m \u001b[38;5;28;01mif\u001b[39;00m \u001b[38;5;129;01mnot\u001b[39;00m \u001b[38;5;28misinstance\u001b[39m(components, \u001b[38;5;28mlist\u001b[39m):\n\u001b[1;32m    437\u001b[0m     \u001b[38;5;28;01mraise\u001b[39;00m paramException(\n\u001b[1;32m    438\u001b[0m         title\u001b[38;5;241m=\u001b[39m\u001b[38;5;124m\"\u001b[39m\u001b[38;5;124mParam Error\u001b[39m\u001b[38;5;124m\"\u001b[39m, detail\u001b[38;5;241m=\u001b[39m\u001b[38;5;124mf\u001b[39m\u001b[38;5;124m\"\u001b[39m\u001b[38;5;132;01m{\u001b[39;00mcomponents\u001b[38;5;132;01m}\u001b[39;00m\u001b[38;5;124m should be a list\u001b[39m\u001b[38;5;124m\"\u001b[39m\n\u001b[1;32m    439\u001b[0m     )\n",
            "\u001b[0;31mparamException\u001b[0m: paramException (parameter error): 1234 should be a string"
          ]
        }
      ],
      "source": [
        "# test case 6 => display name sent as int\n",
        "res = omixatlas.create(1234, \"Created Omixatlas to test description\")\n",
        "res"
      ]
    },
    {
      "cell_type": "code",
      "execution_count": 9,
      "metadata": {},
      "outputs": [
        {
          "ename": "paramException",
          "evalue": "paramException (parameter error): ['/a/c/img.png'] should be a string",
          "output_type": "error",
          "traceback": [
            "\u001b[0;31m---------------------------------------------------------------------------\u001b[0m",
            "\u001b[0;31mparamException\u001b[0m                            Traceback (most recent call last)",
            "Input \u001b[0;32mIn [9]\u001b[0m, in \u001b[0;36m<cell line: 2>\u001b[0;34m()\u001b[0m\n\u001b[1;32m      1\u001b[0m \u001b[38;5;66;03m# test case 7 => image url sent as list\u001b[39;00m\n\u001b[0;32m----> 2\u001b[0m res \u001b[38;5;241m=\u001b[39m \u001b[43momixatlas\u001b[49m\u001b[38;5;241;43m.\u001b[39;49m\u001b[43mcreate\u001b[49m\u001b[43m(\u001b[49m\u001b[38;5;124;43m\"\u001b[39;49m\u001b[38;5;124;43momix_desc_test_12\u001b[39;49m\u001b[38;5;124;43m\"\u001b[39;49m\u001b[43m,\u001b[49m\u001b[43m \u001b[49m\u001b[38;5;124;43m\"\u001b[39;49m\u001b[38;5;124;43mCreated Omixatlas to test description\u001b[39;49m\u001b[38;5;124;43m\"\u001b[39;49m\u001b[43m,\u001b[49m\u001b[43m \u001b[49m\u001b[43mimage_url\u001b[49m\u001b[38;5;241;43m=\u001b[39;49m\u001b[43m[\u001b[49m\u001b[38;5;124;43m\"\u001b[39;49m\u001b[38;5;124;43m/a/c/img.png\u001b[39;49m\u001b[38;5;124;43m\"\u001b[39;49m\u001b[43m]\u001b[49m\u001b[43m)\u001b[49m\n\u001b[1;32m      3\u001b[0m res\n",
            "File \u001b[0;32m/usr/local/lib/python3.10/site-packages/polly/omixatlas.py:1539\u001b[0m, in \u001b[0;36mOmixAtlas.create\u001b[0;34m(self, display_name, description, repo_name, image_url, components, category)\u001b[0m\n\u001b[1;32m   1537\u001b[0m             \u001b[38;5;167;01mValueError\u001b[39;00m(\u001b[38;5;124m\"\u001b[39m\u001b[38;5;124mRepository creation response is in Incorrect format\u001b[39m\u001b[38;5;124m\"\u001b[39m)\n\u001b[1;32m   1538\u001b[0m \u001b[38;5;28;01mexcept\u001b[39;00m \u001b[38;5;167;01mException\u001b[39;00m \u001b[38;5;28;01mas\u001b[39;00m err:\n\u001b[0;32m-> 1539\u001b[0m     \u001b[38;5;28;01mraise\u001b[39;00m err\n",
            "File \u001b[0;32m/usr/local/lib/python3.10/site-packages/polly/omixatlas.py:1500\u001b[0m, in \u001b[0;36mOmixAtlas.create\u001b[0;34m(self, display_name, description, repo_name, image_url, components, category)\u001b[0m\n\u001b[1;32m   1468\u001b[0m \u001b[38;5;124;03m\"\"\"\u001b[39;00m\n\u001b[1;32m   1469\u001b[0m \u001b[38;5;124;03mThis function is used to create a new omixatlas,\u001b[39;00m\n\u001b[1;32m   1470\u001b[0m \n\u001b[0;32m   (...)\u001b[0m\n\u001b[1;32m   1497\u001b[0m \n\u001b[1;32m   1498\u001b[0m \u001b[38;5;124;03m\"\"\"\u001b[39;00m\n\u001b[1;32m   1499\u001b[0m \u001b[38;5;28;01mtry\u001b[39;00m:\n\u001b[0;32m-> 1500\u001b[0m     \u001b[43momix_hlpr\u001b[49m\u001b[38;5;241;43m.\u001b[39;49m\u001b[43mcheck_create_omixatlas_parameters\u001b[49m\u001b[43m(\u001b[49m\n\u001b[1;32m   1501\u001b[0m \u001b[43m        \u001b[49m\u001b[43mdisplay_name\u001b[49m\u001b[43m,\u001b[49m\u001b[43m \u001b[49m\u001b[43mdescription\u001b[49m\u001b[43m,\u001b[49m\u001b[43m \u001b[49m\u001b[43mrepo_name\u001b[49m\u001b[43m,\u001b[49m\u001b[43m \u001b[49m\u001b[43mimage_url\u001b[49m\u001b[43m,\u001b[49m\u001b[43m \u001b[49m\u001b[43mcomponents\u001b[49m\u001b[43m,\u001b[49m\u001b[43m \u001b[49m\u001b[43mcategory\u001b[49m\n\u001b[1;32m   1502\u001b[0m \u001b[43m    \u001b[49m\u001b[43m)\u001b[49m\n\u001b[1;32m   1503\u001b[0m     payload \u001b[38;5;241m=\u001b[39m \u001b[38;5;28mself\u001b[39m\u001b[38;5;241m.\u001b[39m_get_repository_payload()\n\u001b[1;32m   1504\u001b[0m     frontend_info \u001b[38;5;241m=\u001b[39m {}\n",
            "File \u001b[0;32m/usr/local/lib/python3.10/site-packages/polly/omixatlas_hlpr.py:432\u001b[0m, in \u001b[0;36mcheck_create_omixatlas_parameters\u001b[0;34m(display_name, description, repo_name, image_url, components, category)\u001b[0m\n\u001b[1;32m    430\u001b[0m \u001b[38;5;28;01mfor\u001b[39;00m param \u001b[38;5;129;01min\u001b[39;00m str_params:\n\u001b[1;32m    431\u001b[0m     \u001b[38;5;28;01mif\u001b[39;00m \u001b[38;5;129;01mnot\u001b[39;00m \u001b[38;5;28misinstance\u001b[39m(param, \u001b[38;5;28mstr\u001b[39m):\n\u001b[0;32m--> 432\u001b[0m         \u001b[38;5;28;01mraise\u001b[39;00m paramException(\n\u001b[1;32m    433\u001b[0m             title\u001b[38;5;241m=\u001b[39m\u001b[38;5;124m\"\u001b[39m\u001b[38;5;124mParam Error\u001b[39m\u001b[38;5;124m\"\u001b[39m, detail\u001b[38;5;241m=\u001b[39m\u001b[38;5;124mf\u001b[39m\u001b[38;5;124m\"\u001b[39m\u001b[38;5;132;01m{\u001b[39;00mparam\u001b[38;5;132;01m}\u001b[39;00m\u001b[38;5;124m should be a string\u001b[39m\u001b[38;5;124m\"\u001b[39m\n\u001b[1;32m    434\u001b[0m         )\n\u001b[1;32m    436\u001b[0m \u001b[38;5;28;01mif\u001b[39;00m \u001b[38;5;129;01mnot\u001b[39;00m \u001b[38;5;28misinstance\u001b[39m(components, \u001b[38;5;28mlist\u001b[39m):\n\u001b[1;32m    437\u001b[0m     \u001b[38;5;28;01mraise\u001b[39;00m paramException(\n\u001b[1;32m    438\u001b[0m         title\u001b[38;5;241m=\u001b[39m\u001b[38;5;124m\"\u001b[39m\u001b[38;5;124mParam Error\u001b[39m\u001b[38;5;124m\"\u001b[39m, detail\u001b[38;5;241m=\u001b[39m\u001b[38;5;124mf\u001b[39m\u001b[38;5;124m\"\u001b[39m\u001b[38;5;132;01m{\u001b[39;00mcomponents\u001b[38;5;132;01m}\u001b[39;00m\u001b[38;5;124m should be a list\u001b[39m\u001b[38;5;124m\"\u001b[39m\n\u001b[1;32m    439\u001b[0m     )\n",
            "\u001b[0;31mparamException\u001b[0m: paramException (parameter error): ['/a/c/img.png'] should be a string"
          ]
        }
      ],
      "source": [
        "# test case 7 => image url sent as list\n",
        "res = omixatlas.create(\"omix_desc_test_12\", \"Created Omixatlas to test description\", image_url=[\"/a/c/img.png\"])\n",
        "res"
      ]
    },
    {
      "cell_type": "code",
      "execution_count": 10,
      "metadata": {},
      "outputs": [
        {
          "ename": "paramException",
          "evalue": "paramException (parameter error): ['diy'] should be a list and its value must be one of ['private', 'public', 'diy_poa']",
          "output_type": "error",
          "traceback": [
            "\u001b[0;31m---------------------------------------------------------------------------\u001b[0m",
            "\u001b[0;31mparamException\u001b[0m                            Traceback (most recent call last)",
            "Input \u001b[0;32mIn [10]\u001b[0m, in \u001b[0;36m<cell line: 2>\u001b[0;34m()\u001b[0m\n\u001b[1;32m      1\u001b[0m \u001b[38;5;66;03m# test case 8 => cateory sent as list\u001b[39;00m\n\u001b[0;32m----> 2\u001b[0m res \u001b[38;5;241m=\u001b[39m \u001b[43momixatlas\u001b[49m\u001b[38;5;241;43m.\u001b[39;49m\u001b[43mcreate\u001b[49m\u001b[43m(\u001b[49m\u001b[38;5;124;43m\"\u001b[39;49m\u001b[38;5;124;43momix_desc_test_12\u001b[39;49m\u001b[38;5;124;43m\"\u001b[39;49m\u001b[43m,\u001b[49m\u001b[43m \u001b[49m\u001b[38;5;124;43m\"\u001b[39;49m\u001b[38;5;124;43mCreated Omixatlas to test category type\u001b[39;49m\u001b[38;5;124;43m\"\u001b[39;49m\u001b[43m,\u001b[49m\u001b[43m \u001b[49m\u001b[43mcategory\u001b[49m\u001b[38;5;241;43m=\u001b[39;49m\u001b[43m[\u001b[49m\u001b[38;5;124;43m\"\u001b[39;49m\u001b[38;5;124;43mdiy\u001b[39;49m\u001b[38;5;124;43m\"\u001b[39;49m\u001b[43m]\u001b[49m\u001b[43m)\u001b[49m\n\u001b[1;32m      3\u001b[0m res\n",
            "File \u001b[0;32m/usr/local/lib/python3.10/site-packages/polly/omixatlas.py:1539\u001b[0m, in \u001b[0;36mOmixAtlas.create\u001b[0;34m(self, display_name, description, repo_name, image_url, components, category)\u001b[0m\n\u001b[1;32m   1537\u001b[0m             \u001b[38;5;167;01mValueError\u001b[39;00m(\u001b[38;5;124m\"\u001b[39m\u001b[38;5;124mRepository creation response is in Incorrect format\u001b[39m\u001b[38;5;124m\"\u001b[39m)\n\u001b[1;32m   1538\u001b[0m \u001b[38;5;28;01mexcept\u001b[39;00m \u001b[38;5;167;01mException\u001b[39;00m \u001b[38;5;28;01mas\u001b[39;00m err:\n\u001b[0;32m-> 1539\u001b[0m     \u001b[38;5;28;01mraise\u001b[39;00m err\n",
            "File \u001b[0;32m/usr/local/lib/python3.10/site-packages/polly/omixatlas.py:1500\u001b[0m, in \u001b[0;36mOmixAtlas.create\u001b[0;34m(self, display_name, description, repo_name, image_url, components, category)\u001b[0m\n\u001b[1;32m   1468\u001b[0m \u001b[38;5;124;03m\"\"\"\u001b[39;00m\n\u001b[1;32m   1469\u001b[0m \u001b[38;5;124;03mThis function is used to create a new omixatlas,\u001b[39;00m\n\u001b[1;32m   1470\u001b[0m \n\u001b[0;32m   (...)\u001b[0m\n\u001b[1;32m   1497\u001b[0m \n\u001b[1;32m   1498\u001b[0m \u001b[38;5;124;03m\"\"\"\u001b[39;00m\n\u001b[1;32m   1499\u001b[0m \u001b[38;5;28;01mtry\u001b[39;00m:\n\u001b[0;32m-> 1500\u001b[0m     \u001b[43momix_hlpr\u001b[49m\u001b[38;5;241;43m.\u001b[39;49m\u001b[43mcheck_create_omixatlas_parameters\u001b[49m\u001b[43m(\u001b[49m\n\u001b[1;32m   1501\u001b[0m \u001b[43m        \u001b[49m\u001b[43mdisplay_name\u001b[49m\u001b[43m,\u001b[49m\u001b[43m \u001b[49m\u001b[43mdescription\u001b[49m\u001b[43m,\u001b[49m\u001b[43m \u001b[49m\u001b[43mrepo_name\u001b[49m\u001b[43m,\u001b[49m\u001b[43m \u001b[49m\u001b[43mimage_url\u001b[49m\u001b[43m,\u001b[49m\u001b[43m \u001b[49m\u001b[43mcomponents\u001b[49m\u001b[43m,\u001b[49m\u001b[43m \u001b[49m\u001b[43mcategory\u001b[49m\n\u001b[1;32m   1502\u001b[0m \u001b[43m    \u001b[49m\u001b[43m)\u001b[49m\n\u001b[1;32m   1503\u001b[0m     payload \u001b[38;5;241m=\u001b[39m \u001b[38;5;28mself\u001b[39m\u001b[38;5;241m.\u001b[39m_get_repository_payload()\n\u001b[1;32m   1504\u001b[0m     frontend_info \u001b[38;5;241m=\u001b[39m {}\n",
            "File \u001b[0;32m/usr/local/lib/python3.10/site-packages/polly/omixatlas_hlpr.py:442\u001b[0m, in \u001b[0;36mcheck_create_omixatlas_parameters\u001b[0;34m(display_name, description, repo_name, image_url, components, category)\u001b[0m\n\u001b[1;32m    437\u001b[0m     \u001b[38;5;28;01mraise\u001b[39;00m paramException(\n\u001b[1;32m    438\u001b[0m         title\u001b[38;5;241m=\u001b[39m\u001b[38;5;124m\"\u001b[39m\u001b[38;5;124mParam Error\u001b[39m\u001b[38;5;124m\"\u001b[39m, detail\u001b[38;5;241m=\u001b[39m\u001b[38;5;124mf\u001b[39m\u001b[38;5;124m\"\u001b[39m\u001b[38;5;132;01m{\u001b[39;00mcomponents\u001b[38;5;132;01m}\u001b[39;00m\u001b[38;5;124m should be a list\u001b[39m\u001b[38;5;124m\"\u001b[39m\n\u001b[1;32m    439\u001b[0m     )\n\u001b[1;32m    441\u001b[0m \u001b[38;5;28;01mif\u001b[39;00m \u001b[38;5;129;01mnot\u001b[39;00m \u001b[38;5;28misinstance\u001b[39m(category, \u001b[38;5;28mstr\u001b[39m) \u001b[38;5;129;01mor\u001b[39;00m (category \u001b[38;5;129;01mnot\u001b[39;00m \u001b[38;5;129;01min\u001b[39;00m const\u001b[38;5;241m.\u001b[39mOMIXATLAS_CATEGORY_VALS):\n\u001b[0;32m--> 442\u001b[0m     \u001b[38;5;28;01mraise\u001b[39;00m paramException(\n\u001b[1;32m    443\u001b[0m         title\u001b[38;5;241m=\u001b[39m\u001b[38;5;124m\"\u001b[39m\u001b[38;5;124mParam Error\u001b[39m\u001b[38;5;124m\"\u001b[39m,\n\u001b[1;32m    444\u001b[0m         detail\u001b[38;5;241m=\u001b[39m\u001b[38;5;124mf\u001b[39m\u001b[38;5;124m\"\u001b[39m\u001b[38;5;132;01m{\u001b[39;00mcategory\u001b[38;5;132;01m}\u001b[39;00m\u001b[38;5;124m should be a list and its value must be one of \u001b[39m\u001b[38;5;132;01m{\u001b[39;00mconst\u001b[38;5;241m.\u001b[39mOMIXATLAS_CATEGORY_VALS\u001b[38;5;132;01m}\u001b[39;00m\u001b[38;5;124m\"\u001b[39m,\n\u001b[1;32m    445\u001b[0m     )\n",
            "\u001b[0;31mparamException\u001b[0m: paramException (parameter error): ['diy'] should be a list and its value must be one of ['private', 'public', 'diy_poa']"
          ]
        }
      ],
      "source": [
        "# test case 8 => cateory sent as list\n",
        "res = omixatlas.create(\"omix_desc_test_12\", \"Created Omixatlas to test category type\", category=[\"diy\"])\n",
        "res"
      ]
    },
    {
      "cell_type": "code",
      "execution_count": null,
      "metadata": {},
      "outputs": [],
      "source": []
    }
  ],
  "metadata": {
    "kernelspec": {
      "display_name": "Python 3 (ipykernel)",
      "language": "python",
      "name": "python3"
    },
    "language_info": {
      "codemirror_mode": {
        "name": "ipython",
        "version": 3
      },
      "file_extension": ".py",
      "mimetype": "text/x-python",
      "name": "python",
      "nbconvert_exporter": "python",
      "pygments_lexer": "ipython3",
      "version": "3.10.2"
    }
  },
  "nbformat": 4,
  "nbformat_minor": 2
}