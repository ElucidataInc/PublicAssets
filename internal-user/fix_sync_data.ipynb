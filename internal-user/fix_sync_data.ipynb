{
 "cells": [
  {
   "cell_type": "code",
   "execution_count": 1,
   "id": "7b62deda",
   "metadata": {},
   "outputs": [
    {
     "name": "stdout",
     "output_type": "stream",
     "text": [
      "Collecting polly-python==2.5.0\n",
      "  Downloading https://elucidatainc.github.io/PublicAssets/builds/polly-python/tests/testpolly/polly_python-2.5.0-py3-none-any.whl (168 kB)\n",
      "\u001b[2K     \u001b[90m━━━━━━━━━━━━━━━━━━━━━━━━━━━━━━━━━━━━━━━\u001b[0m \u001b[32m168.4/168.4 kB\u001b[0m \u001b[31m5.9 MB/s\u001b[0m eta \u001b[36m0:00:00\u001b[0m\n",
      "\u001b[?25hRequirement already satisfied: boto3>=1.24.0 in ./.environments/miniconda/envs/polly/lib/python3.10/site-packages (from polly-python==2.5.0) (1.28.40)\n",
      "Requirement already satisfied: cryptography<=38.0.0,>=37.0.1 in ./.environments/miniconda/envs/polly/lib/python3.10/site-packages (from polly-python==2.5.0) (38.0.0)\n",
      "Requirement already satisfied: tqdm==4.65.0 in ./.environments/miniconda/envs/polly/lib/python3.10/site-packages (from polly-python==2.5.0) (4.65.0)\n",
      "Requirement already satisfied: mixpanel==4.10.0 in ./.environments/miniconda/envs/polly/lib/python3.10/site-packages (from polly-python==2.5.0) (4.10.0)\n",
      "Requirement already satisfied: botocore>=1.27.0 in ./.environments/miniconda/envs/polly/lib/python3.10/site-packages (from polly-python==2.5.0) (1.31.40)\n",
      "Collecting tabulate==0.9.0\n",
      "  Downloading tabulate-0.9.0-py3-none-any.whl (35 kB)\n",
      "Requirement already satisfied: Deprecated>=1.2.12 in ./.environments/miniconda/envs/polly/lib/python3.10/site-packages (from polly-python==2.5.0) (1.2.14)\n",
      "Requirement already satisfied: pandas>=1.3.5 in ./.environments/miniconda/envs/polly/lib/python3.10/site-packages (from polly-python==2.5.0) (1.5.3)\n",
      "Requirement already satisfied: joblib>=1.2.0 in ./.environments/miniconda/envs/polly/lib/python3.10/site-packages (from polly-python==2.5.0) (1.3.2)\n",
      "Requirement already satisfied: pydantic==1.10.12 in ./.environments/miniconda/envs/polly/lib/python3.10/site-packages (from polly-python==2.5.0) (1.10.12)\n",
      "Collecting numpy==1.26.4\n",
      "  Downloading numpy-1.26.4-cp310-cp310-manylinux_2_17_x86_64.manylinux2014_x86_64.whl (18.2 MB)\n",
      "\u001b[2K     \u001b[90m━━━━━━━━━━━━━━━━━━━━━━━━━━━━━━━━━━━━━━━━\u001b[0m \u001b[32m18.2/18.2 MB\u001b[0m \u001b[31m75.7 MB/s\u001b[0m eta \u001b[36m0:00:00\u001b[0m00:01\u001b[0m00:01\u001b[0m\n",
      "\u001b[?25hRequirement already satisfied: cloudpathlib>=0.15.0 in ./.environments/miniconda/envs/polly/lib/python3.10/site-packages (from polly-python==2.5.0) (0.16.0)\n",
      "Requirement already satisfied: rst2txt==1.1.0 in ./.environments/miniconda/envs/polly/lib/python3.10/site-packages (from polly-python==2.5.0) (1.1.0)\n",
      "Requirement already satisfied: python-jose==3.3.0 in ./.environments/miniconda/envs/polly/lib/python3.10/site-packages (from polly-python==2.5.0) (3.3.0)\n",
      "Requirement already satisfied: retrying==1.3.4 in ./.environments/miniconda/envs/polly/lib/python3.10/site-packages (from polly-python==2.5.0) (1.3.4)\n",
      "Requirement already satisfied: plotly>=5.0.0 in ./.environments/miniconda/envs/polly/lib/python3.10/site-packages (from polly-python==2.5.0) (5.18.0)\n",
      "Requirement already satisfied: pytest>=6.2.5 in ./.environments/miniconda/envs/polly/lib/python3.10/site-packages (from polly-python==2.5.0) (7.4.3)\n",
      "Requirement already satisfied: elucidatacmapPy==3.3.4 in ./.environments/miniconda/envs/polly/lib/python3.10/site-packages (from polly-python==2.5.0) (3.3.4)\n",
      "Collecting requests==2.28.1\n",
      "  Downloading requests-2.28.1-py3-none-any.whl (62 kB)\n",
      "\u001b[2K     \u001b[90m━━━━━━━━━━━━━━━━━━━━━━━━━━━━━━━━━━━━━━━━\u001b[0m \u001b[32m62.8/62.8 kB\u001b[0m \u001b[31m14.5 MB/s\u001b[0m eta \u001b[36m0:00:00\u001b[0m\n",
      "\u001b[?25hRequirement already satisfied: six in ./.environments/miniconda/envs/polly/lib/python3.10/site-packages (from elucidatacmapPy==3.3.4->polly-python==2.5.0) (1.16.0)\n",
      "Requirement already satisfied: h5py>=2.6.0 in ./.environments/miniconda/envs/polly/lib/python3.10/site-packages (from elucidatacmapPy==3.3.4->polly-python==2.5.0) (3.10.0)\n",
      "Requirement already satisfied: urllib3 in ./.environments/miniconda/envs/polly/lib/python3.10/site-packages (from mixpanel==4.10.0->polly-python==2.5.0) (1.26.16)\n",
      "Requirement already satisfied: typing-extensions>=4.2.0 in ./.environments/miniconda/envs/polly/lib/python3.10/site-packages (from pydantic==1.10.12->polly-python==2.5.0) (4.7.1)\n",
      "Requirement already satisfied: ecdsa!=0.15 in ./.environments/miniconda/envs/polly/lib/python3.10/site-packages (from python-jose==3.3.0->polly-python==2.5.0) (0.18.0)\n",
      "Requirement already satisfied: rsa in ./.environments/miniconda/envs/polly/lib/python3.10/site-packages (from python-jose==3.3.0->polly-python==2.5.0) (4.7.2)\n",
      "Requirement already satisfied: pyasn1 in ./.environments/miniconda/envs/polly/lib/python3.10/site-packages (from python-jose==3.3.0->polly-python==2.5.0) (0.5.0)\n",
      "Requirement already satisfied: idna<4,>=2.5 in ./.environments/miniconda/envs/polly/lib/python3.10/site-packages (from requests==2.28.1->polly-python==2.5.0) (2.10)\n",
      "Requirement already satisfied: certifi>=2017.4.17 in ./.environments/miniconda/envs/polly/lib/python3.10/site-packages (from requests==2.28.1->polly-python==2.5.0) (2023.7.22)\n",
      "Collecting charset-normalizer<3,>=2\n",
      "  Downloading charset_normalizer-2.1.1-py3-none-any.whl (39 kB)\n",
      "Requirement already satisfied: docutils>=0.11 in ./.environments/miniconda/envs/polly/lib/python3.10/site-packages (from rst2txt==1.1.0->polly-python==2.5.0) (0.16)\n",
      "Requirement already satisfied: pygments in ./.environments/miniconda/envs/polly/lib/python3.10/site-packages (from rst2txt==1.1.0->polly-python==2.5.0) (2.16.1)\n",
      "Requirement already satisfied: s3transfer<0.7.0,>=0.6.0 in ./.environments/miniconda/envs/polly/lib/python3.10/site-packages (from boto3>=1.24.0->polly-python==2.5.0) (0.6.2)\n",
      "Requirement already satisfied: jmespath<2.0.0,>=0.7.1 in ./.environments/miniconda/envs/polly/lib/python3.10/site-packages (from boto3>=1.24.0->polly-python==2.5.0) (1.0.1)\n",
      "Requirement already satisfied: python-dateutil<3.0.0,>=2.1 in ./.environments/miniconda/envs/polly/lib/python3.10/site-packages (from botocore>=1.27.0->polly-python==2.5.0) (2.8.2)\n",
      "Requirement already satisfied: cffi>=1.12 in ./.environments/miniconda/envs/polly/lib/python3.10/site-packages (from cryptography<=38.0.0,>=37.0.1->polly-python==2.5.0) (1.15.1)\n",
      "Requirement already satisfied: wrapt<2,>=1.10 in ./.environments/miniconda/envs/polly/lib/python3.10/site-packages (from Deprecated>=1.2.12->polly-python==2.5.0) (1.16.0)\n",
      "Requirement already satisfied: pytz>=2020.1 in ./.environments/miniconda/envs/polly/lib/python3.10/site-packages (from pandas>=1.3.5->polly-python==2.5.0) (2023.3)\n",
      "Requirement already satisfied: packaging in ./.environments/miniconda/envs/polly/lib/python3.10/site-packages (from plotly>=5.0.0->polly-python==2.5.0) (23.1)\n",
      "Requirement already satisfied: tenacity>=6.2.0 in ./.environments/miniconda/envs/polly/lib/python3.10/site-packages (from plotly>=5.0.0->polly-python==2.5.0) (8.2.3)\n",
      "Requirement already satisfied: pluggy<2.0,>=0.12 in ./.environments/miniconda/envs/polly/lib/python3.10/site-packages (from pytest>=6.2.5->polly-python==2.5.0) (1.3.0)\n",
      "Requirement already satisfied: iniconfig in ./.environments/miniconda/envs/polly/lib/python3.10/site-packages (from pytest>=6.2.5->polly-python==2.5.0) (2.0.0)\n",
      "Requirement already satisfied: exceptiongroup>=1.0.0rc8 in ./.environments/miniconda/envs/polly/lib/python3.10/site-packages (from pytest>=6.2.5->polly-python==2.5.0) (1.1.3)\n",
      "Requirement already satisfied: tomli>=1.0.0 in ./.environments/miniconda/envs/polly/lib/python3.10/site-packages (from pytest>=6.2.5->polly-python==2.5.0) (2.0.1)\n",
      "Requirement already satisfied: pycparser in ./.environments/miniconda/envs/polly/lib/python3.10/site-packages (from cffi>=1.12->cryptography<=38.0.0,>=37.0.1->polly-python==2.5.0) (2.21)\n",
      "Installing collected packages: tabulate, numpy, charset-normalizer, requests, polly-python\n",
      "  Attempting uninstall: tabulate\n",
      "    Found existing installation: tabulate 0.8.10\n",
      "    Uninstalling tabulate-0.8.10:\n",
      "      Successfully uninstalled tabulate-0.8.10\n",
      "  Attempting uninstall: numpy\n",
      "    Found existing installation: numpy 1.25.2\n",
      "    Uninstalling numpy-1.25.2:\n",
      "      Successfully uninstalled numpy-1.25.2\n",
      "  Attempting uninstall: charset-normalizer\n",
      "    Found existing installation: charset-normalizer 3.2.0\n",
      "    Uninstalling charset-normalizer-3.2.0:\n",
      "      Successfully uninstalled charset-normalizer-3.2.0\n",
      "  Attempting uninstall: requests\n",
      "    Found existing installation: requests 2.31.0\n",
      "    Uninstalling requests-2.31.0:\n",
      "      Successfully uninstalled requests-2.31.0\n",
      "  Attempting uninstall: polly-python\n",
      "    Found existing installation: polly-python 1.0.0\n",
      "    Uninstalling polly-python-1.0.0:\n",
      "      Successfully uninstalled polly-python-1.0.0\n",
      "\u001b[31mERROR: pip's dependency resolver does not currently take into account all the packages that are installed. This behaviour is the source of the following dependency conflicts.\n",
      "polly-validator 0.0.2 requires requests==2.25.1, but you have requests 2.28.1 which is incompatible.\n",
      "polly-validator 0.0.2 requires tabulate==0.8.10, but you have tabulate 0.9.0 which is incompatible.\u001b[0m\u001b[31m\n",
      "\u001b[0mSuccessfully installed charset-normalizer-2.1.1 numpy-1.26.4 polly-python-2.5.0 requests-2.28.1 tabulate-0.9.0\n",
      "Note: you may need to restart the kernel to use updated packages.\n"
     ]
    }
   ],
   "source": [
    "pip install https://elucidatainc.github.io/PublicAssets/builds/polly-python/tests/testpolly/polly_python-2.5.0-py3-none-any.whl"
   ]
  },
  {
   "cell_type": "code",
   "execution_count": 2,
   "id": "21b69d81",
   "metadata": {},
   "outputs": [],
   "source": [
    "from polly.auth import Polly\n",
    "from polly.workspaces import Workspaces\n",
    "API_KEY = \"\"\n",
    "Polly.auth(API_KEY, env=\"testpolly\")\n",
    "w = Workspaces()"
   ]
  },
  {
   "cell_type": "code",
   "execution_count": 3,
   "id": "58875fe8",
   "metadata": {},
   "outputs": [
    {
     "name": "stderr",
     "output_type": "stream",
     "text": [
      "INFO:root:Download successful to path=/import/testfolder\n"
     ]
    }
   ],
   "source": [
    "w.download_from_workspaces(16503, \"/\", \"/import/testfolder\")"
   ]
  },
  {
   "cell_type": "code",
   "execution_count": 4,
   "id": "142b56b6",
   "metadata": {},
   "outputs": [
    {
     "name": "stderr",
     "output_type": "stream",
     "text": [
      "INFO:root:Download successful to path=/import/testfolder\n"
     ]
    }
   ],
   "source": [
    "w.download_from_workspaces(16503, \"/new_folder\", \"/import/testfolder\")"
   ]
  },
  {
   "cell_type": "code",
   "execution_count": 5,
   "id": "ddddfdfb",
   "metadata": {},
   "outputs": [
    {
     "name": "stderr",
     "output_type": "stream",
     "text": [
      "INFO:root:Download successful to path=/import/testfolder\n"
     ]
    }
   ],
   "source": [
    "w.download_from_workspaces(16503, \"/new_folder/folderlvl2\", \"/import/testfolder\")"
   ]
  },
  {
   "cell_type": "code",
   "execution_count": 6,
   "id": "a390a8f0",
   "metadata": {},
   "outputs": [
    {
     "name": "stderr",
     "output_type": "stream",
     "text": [
      "INFO:root:Download successful to path=/import/testfolder\n"
     ]
    }
   ],
   "source": [
    "w.download_from_workspaces(16503, \"/\", \"/import/testfolder\", copy_workspace_path=False)"
   ]
  },
  {
   "cell_type": "code",
   "execution_count": 7,
   "id": "e6f1a8a4",
   "metadata": {},
   "outputs": [
    {
     "name": "stderr",
     "output_type": "stream",
     "text": [
      "INFO:root:Download successful to path=/import/testfolder\n"
     ]
    }
   ],
   "source": [
    "w.download_from_workspaces(16503, \"/new_folder\", \"/import/testfolder\", copy_workspace_path=False)"
   ]
  },
  {
   "cell_type": "code",
   "execution_count": 8,
   "id": "c1a47f5e",
   "metadata": {},
   "outputs": [
    {
     "name": "stderr",
     "output_type": "stream",
     "text": [
      "INFO:root:Download successful to path=/import/testfolder\n"
     ]
    }
   ],
   "source": [
    "w.download_from_workspaces(16503, \"/new_folder/folderlvl2\", \"/import/testfolder\", copy_workspace_path=False)"
   ]
  },
  {
   "cell_type": "code",
   "execution_count": 9,
   "id": "b1acd591",
   "metadata": {},
   "outputs": [
    {
     "name": "stderr",
     "output_type": "stream",
     "text": [
      "INFO:root:Sync successful on workspace-id=16503.\n"
     ]
    }
   ],
   "source": [
    "w.sync_data(16503, \"polly://new_folder/folderlvl2\", \"/import/folder1.0\")"
   ]
  },
  {
   "cell_type": "code",
   "execution_count": 11,
   "id": "f7c1b7af",
   "metadata": {},
   "outputs": [
    {
     "name": "stderr",
     "output_type": "stream",
     "text": [
      "INFO:root:Sync successful on workspace-id=16518.\n"
     ]
    }
   ],
   "source": [
    "w.sync_data(16518, \"/import/folder2.0\", \"polly:///\")"
   ]
  },
  {
   "cell_type": "code",
   "execution_count": 12,
   "id": "9ccaea42",
   "metadata": {},
   "outputs": [
    {
     "name": "stderr",
     "output_type": "stream",
     "text": [
      "INFO:root:Sync successful on workspace-id=16518.\n"
     ]
    }
   ],
   "source": [
    "w.sync_data(16518, \"/import/folder2.0/\", \"polly:///\")"
   ]
  },
  {
   "cell_type": "code",
   "execution_count": 14,
   "id": "046331ff",
   "metadata": {},
   "outputs": [
    {
     "name": "stderr",
     "output_type": "stream",
     "text": [
      "INFO:root:Sync successful on workspace-id=16518.\n"
     ]
    }
   ],
   "source": [
    "w.sync_data(16518, \"/import/folder1.0/\", \"polly:///\")"
   ]
  },
  {
   "cell_type": "code",
   "execution_count": null,
   "id": "70dfd38a",
   "metadata": {},
   "outputs": [],
   "source": []
  }
 ],
 "metadata": {
  "kernelspec": {
   "display_name": "Python 3",
   "language": "python",
   "name": "python3"
  },
  "language_info": {
   "codemirror_mode": {
    "name": "ipython",
    "version": 3
   },
   "file_extension": ".py",
   "mimetype": "text/x-python",
   "name": "python",
   "nbconvert_exporter": "python",
   "pygments_lexer": "ipython3",
   "version": "3.10.6"
  }
 },
 "nbformat": 4,
 "nbformat_minor": 5
}
