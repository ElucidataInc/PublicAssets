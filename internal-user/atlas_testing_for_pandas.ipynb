{
 "cells": [
  {
   "cell_type": "code",
   "execution_count": 1,
   "id": "f5dd00fb",
   "metadata": {},
   "outputs": [
    {
     "name": "stdout",
     "output_type": "stream",
     "text": [
      "Collecting polly-python==3.0.0\n",
      "  Downloading https://elucidatainc.github.io/PublicAssets/builds/polly-python/tests/testpolly/polly_python-3.0.0-py3-none-any.whl (168 kB)\n",
      "\u001b[2K     \u001b[90m━━━━━━━━━━━━━━━━━━━━━━━━━━━━━━━━━━━━━━━\u001b[0m \u001b[32m168.3/168.3 kB\u001b[0m \u001b[31m7.3 MB/s\u001b[0m eta \u001b[36m0:00:00\u001b[0m\n",
      "\u001b[?25hCollecting tabulate==0.9.0\n",
      "  Downloading tabulate-0.9.0-py3-none-any.whl (35 kB)\n",
      "Requirement already satisfied: pydantic==1.10.12 in ./.environments/miniconda/envs/polly/lib/python3.10/site-packages (from polly-python==3.0.0) (1.10.12)\n",
      "Requirement already satisfied: botocore>=1.27.0 in ./.environments/miniconda/envs/polly/lib/python3.10/site-packages (from polly-python==3.0.0) (1.31.40)\n",
      "Collecting requests==2.28.1\n",
      "  Downloading requests-2.28.1-py3-none-any.whl (62 kB)\n",
      "\u001b[2K     \u001b[90m━━━━━━━━━━━━━━━━━━━━━━━━━━━━━━━━━━━━━━━━\u001b[0m \u001b[32m62.8/62.8 kB\u001b[0m \u001b[31m8.3 MB/s\u001b[0m eta \u001b[36m0:00:00\u001b[0m\n",
      "\u001b[?25hRequirement already satisfied: pytest>=6.2.5 in ./.environments/miniconda/envs/polly/lib/python3.10/site-packages (from polly-python==3.0.0) (7.4.3)\n",
      "Requirement already satisfied: Deprecated>=1.2.12 in ./.environments/miniconda/envs/polly/lib/python3.10/site-packages (from polly-python==3.0.0) (1.2.14)\n",
      "Requirement already satisfied: retrying==1.3.4 in ./.environments/miniconda/envs/polly/lib/python3.10/site-packages (from polly-python==3.0.0) (1.3.4)\n",
      "Requirement already satisfied: python-jose==3.3.0 in ./.environments/miniconda/envs/polly/lib/python3.10/site-packages (from polly-python==3.0.0) (3.3.0)\n",
      "Requirement already satisfied: joblib>=1.2.0 in ./.environments/miniconda/envs/polly/lib/python3.10/site-packages (from polly-python==3.0.0) (1.3.2)\n",
      "Requirement already satisfied: rst2txt==1.1.0 in ./.environments/miniconda/envs/polly/lib/python3.10/site-packages (from polly-python==3.0.0) (1.1.0)\n",
      "Requirement already satisfied: cloudpathlib>=0.15.0 in ./.environments/miniconda/envs/polly/lib/python3.10/site-packages (from polly-python==3.0.0) (0.16.0)\n",
      "Requirement already satisfied: numpy<=1.26.4 in ./.environments/miniconda/envs/polly/lib/python3.10/site-packages (from polly-python==3.0.0) (1.25.2)\n",
      "Requirement already satisfied: cryptography<=38.0.0,>=37.0.1 in ./.environments/miniconda/envs/polly/lib/python3.10/site-packages (from polly-python==3.0.0) (38.0.0)\n",
      "Requirement already satisfied: elucidatacmapPy==3.3.4 in ./.environments/miniconda/envs/polly/lib/python3.10/site-packages (from polly-python==3.0.0) (3.3.4)\n",
      "Requirement already satisfied: boto3>=1.24.0 in ./.environments/miniconda/envs/polly/lib/python3.10/site-packages (from polly-python==3.0.0) (1.28.40)\n",
      "Requirement already satisfied: plotly>=5.0.0 in ./.environments/miniconda/envs/polly/lib/python3.10/site-packages (from polly-python==3.0.0) (5.18.0)\n",
      "Requirement already satisfied: mixpanel==4.10.0 in ./.environments/miniconda/envs/polly/lib/python3.10/site-packages (from polly-python==3.0.0) (4.10.0)\n",
      "Requirement already satisfied: pandas<=2.2.2,>=1.3.5 in ./.environments/miniconda/envs/polly/lib/python3.10/site-packages (from polly-python==3.0.0) (1.5.3)\n",
      "Requirement already satisfied: tqdm==4.65.0 in ./.environments/miniconda/envs/polly/lib/python3.10/site-packages (from polly-python==3.0.0) (4.65.0)\n",
      "Requirement already satisfied: six in ./.environments/miniconda/envs/polly/lib/python3.10/site-packages (from elucidatacmapPy==3.3.4->polly-python==3.0.0) (1.16.0)\n",
      "Requirement already satisfied: h5py>=2.6.0 in ./.environments/miniconda/envs/polly/lib/python3.10/site-packages (from elucidatacmapPy==3.3.4->polly-python==3.0.0) (3.10.0)\n",
      "Requirement already satisfied: urllib3 in ./.environments/miniconda/envs/polly/lib/python3.10/site-packages (from mixpanel==4.10.0->polly-python==3.0.0) (1.26.16)\n",
      "Requirement already satisfied: typing-extensions>=4.2.0 in ./.environments/miniconda/envs/polly/lib/python3.10/site-packages (from pydantic==1.10.12->polly-python==3.0.0) (4.7.1)\n",
      "Requirement already satisfied: ecdsa!=0.15 in ./.environments/miniconda/envs/polly/lib/python3.10/site-packages (from python-jose==3.3.0->polly-python==3.0.0) (0.18.0)\n",
      "Requirement already satisfied: rsa in ./.environments/miniconda/envs/polly/lib/python3.10/site-packages (from python-jose==3.3.0->polly-python==3.0.0) (4.7.2)\n",
      "Requirement already satisfied: pyasn1 in ./.environments/miniconda/envs/polly/lib/python3.10/site-packages (from python-jose==3.3.0->polly-python==3.0.0) (0.5.0)\n",
      "Requirement already satisfied: certifi>=2017.4.17 in ./.environments/miniconda/envs/polly/lib/python3.10/site-packages (from requests==2.28.1->polly-python==3.0.0) (2023.7.22)\n",
      "Requirement already satisfied: idna<4,>=2.5 in ./.environments/miniconda/envs/polly/lib/python3.10/site-packages (from requests==2.28.1->polly-python==3.0.0) (2.10)\n",
      "Collecting charset-normalizer<3,>=2\n",
      "  Downloading charset_normalizer-2.1.1-py3-none-any.whl (39 kB)\n",
      "Requirement already satisfied: docutils>=0.11 in ./.environments/miniconda/envs/polly/lib/python3.10/site-packages (from rst2txt==1.1.0->polly-python==3.0.0) (0.16)\n",
      "Requirement already satisfied: pygments in ./.environments/miniconda/envs/polly/lib/python3.10/site-packages (from rst2txt==1.1.0->polly-python==3.0.0) (2.16.1)\n",
      "Requirement already satisfied: jmespath<2.0.0,>=0.7.1 in ./.environments/miniconda/envs/polly/lib/python3.10/site-packages (from boto3>=1.24.0->polly-python==3.0.0) (1.0.1)\n",
      "Requirement already satisfied: s3transfer<0.7.0,>=0.6.0 in ./.environments/miniconda/envs/polly/lib/python3.10/site-packages (from boto3>=1.24.0->polly-python==3.0.0) (0.6.2)\n",
      "Requirement already satisfied: python-dateutil<3.0.0,>=2.1 in ./.environments/miniconda/envs/polly/lib/python3.10/site-packages (from botocore>=1.27.0->polly-python==3.0.0) (2.8.2)\n",
      "Requirement already satisfied: cffi>=1.12 in ./.environments/miniconda/envs/polly/lib/python3.10/site-packages (from cryptography<=38.0.0,>=37.0.1->polly-python==3.0.0) (1.15.1)\n",
      "Requirement already satisfied: wrapt<2,>=1.10 in ./.environments/miniconda/envs/polly/lib/python3.10/site-packages (from Deprecated>=1.2.12->polly-python==3.0.0) (1.16.0)\n",
      "Requirement already satisfied: pytz>=2020.1 in ./.environments/miniconda/envs/polly/lib/python3.10/site-packages (from pandas<=2.2.2,>=1.3.5->polly-python==3.0.0) (2023.3)\n",
      "Requirement already satisfied: tenacity>=6.2.0 in ./.environments/miniconda/envs/polly/lib/python3.10/site-packages (from plotly>=5.0.0->polly-python==3.0.0) (8.2.3)\n",
      "Requirement already satisfied: packaging in ./.environments/miniconda/envs/polly/lib/python3.10/site-packages (from plotly>=5.0.0->polly-python==3.0.0) (23.1)\n",
      "Requirement already satisfied: iniconfig in ./.environments/miniconda/envs/polly/lib/python3.10/site-packages (from pytest>=6.2.5->polly-python==3.0.0) (2.0.0)\n",
      "Requirement already satisfied: tomli>=1.0.0 in ./.environments/miniconda/envs/polly/lib/python3.10/site-packages (from pytest>=6.2.5->polly-python==3.0.0) (2.0.1)\n",
      "Requirement already satisfied: exceptiongroup>=1.0.0rc8 in ./.environments/miniconda/envs/polly/lib/python3.10/site-packages (from pytest>=6.2.5->polly-python==3.0.0) (1.1.3)\n",
      "Requirement already satisfied: pluggy<2.0,>=0.12 in ./.environments/miniconda/envs/polly/lib/python3.10/site-packages (from pytest>=6.2.5->polly-python==3.0.0) (1.3.0)\n",
      "Requirement already satisfied: pycparser in ./.environments/miniconda/envs/polly/lib/python3.10/site-packages (from cffi>=1.12->cryptography<=38.0.0,>=37.0.1->polly-python==3.0.0) (2.21)\n",
      "Installing collected packages: tabulate, charset-normalizer, requests, polly-python\n",
      "  Attempting uninstall: tabulate\n",
      "    Found existing installation: tabulate 0.8.10\n",
      "    Uninstalling tabulate-0.8.10:\n",
      "      Successfully uninstalled tabulate-0.8.10\n",
      "  Attempting uninstall: charset-normalizer\n",
      "    Found existing installation: charset-normalizer 3.2.0\n",
      "    Uninstalling charset-normalizer-3.2.0:\n",
      "      Successfully uninstalled charset-normalizer-3.2.0\n",
      "  Attempting uninstall: requests\n",
      "    Found existing installation: requests 2.31.0\n",
      "    Uninstalling requests-2.31.0:\n",
      "      Successfully uninstalled requests-2.31.0\n",
      "  Attempting uninstall: polly-python\n",
      "    Found existing installation: polly-python 1.0.0\n",
      "    Uninstalling polly-python-1.0.0:\n",
      "      Successfully uninstalled polly-python-1.0.0\n",
      "\u001b[31mERROR: pip's dependency resolver does not currently take into account all the packages that are installed. This behaviour is the source of the following dependency conflicts.\n",
      "polly-validator 0.0.2 requires requests==2.25.1, but you have requests 2.28.1 which is incompatible.\n",
      "polly-validator 0.0.2 requires tabulate==0.8.10, but you have tabulate 0.9.0 which is incompatible.\u001b[0m\u001b[31m\n",
      "\u001b[0mSuccessfully installed charset-normalizer-2.1.1 polly-python-3.0.0 requests-2.28.1 tabulate-0.9.0\n",
      "Note: you may need to restart the kernel to use updated packages.\n"
     ]
    }
   ],
   "source": [
    "pip install https://elucidatainc.github.io/PublicAssets/builds/polly-python/tests/testpolly/polly_python-3.0.0-py3-none-any.whl"
   ]
  },
  {
   "cell_type": "code",
   "execution_count": 2,
   "id": "9cd1d4b3",
   "metadata": {},
   "outputs": [],
   "source": [
    "from polly.auth import Polly\n",
    "from polly.atlas import Atlas, Table, Column\n",
    "\n",
    "API_KEY = \"\"\n",
    "Polly.auth(API_KEY, env=\"testpolly\")"
   ]
  },
  {
   "cell_type": "code",
   "execution_count": 3,
   "id": "abdc2ca7",
   "metadata": {},
   "outputs": [
    {
     "data": {
      "text/plain": [
       "Atlas(atlas_id=aniket_test_atlas)"
      ]
     },
     "execution_count": 3,
     "metadata": {},
     "output_type": "execute_result"
    }
   ],
   "source": [
    "Atlas.create_atlas(atlas_id='aniket_test_atlas', atlas_name=\"Aniket Test Atlas\")"
   ]
  },
  {
   "cell_type": "code",
   "execution_count": 4,
   "id": "aa34fc80",
   "metadata": {},
   "outputs": [
    {
     "data": {
      "text/plain": [
       "[Atlas(atlas_id=aniket_test_atlas)]"
      ]
     },
     "execution_count": 4,
     "metadata": {},
     "output_type": "execute_result"
    }
   ],
   "source": [
    "Atlas.list_atlases()"
   ]
  },
  {
   "cell_type": "code",
   "execution_count": 5,
   "id": "c4faca68",
   "metadata": {},
   "outputs": [],
   "source": [
    "atlas = Atlas(atlas_id=\"aniket_test_atlas\")"
   ]
  },
  {
   "cell_type": "code",
   "execution_count": 6,
   "id": "cc9debe5",
   "metadata": {},
   "outputs": [
    {
     "data": {
      "text/plain": [
       "[]"
      ]
     },
     "execution_count": 6,
     "metadata": {},
     "output_type": "execute_result"
    }
   ],
   "source": [
    "atlas.list_tables()"
   ]
  },
  {
   "cell_type": "code",
   "execution_count": 8,
   "id": "d83b6603",
   "metadata": {},
   "outputs": [],
   "source": [
    "columns = [\n",
    "    Column(name='patient_id', col_type='integer', constraint='PRIMARY KEY'),\n",
    "    Column(name='patient_name', col_type='string')\n",
    "]\n",
    "patient_table = atlas.create_table(table_name='patient', columns=columns)"
   ]
  },
  {
   "cell_type": "code",
   "execution_count": 9,
   "id": "7878ab1c",
   "metadata": {},
   "outputs": [
    {
     "data": {
      "text/plain": [
       "[Table(name='patient', columns=[Column(name='patient_id', col_type='integer', constraint='PRIMARY KEY'), Column(name='patient_name', col_type='string', constraint='None')])]"
      ]
     },
     "execution_count": 9,
     "metadata": {},
     "output_type": "execute_result"
    }
   ],
   "source": [
    "atlas.list_tables()"
   ]
  },
  {
   "cell_type": "code",
   "execution_count": 11,
   "id": "89266687",
   "metadata": {},
   "outputs": [
    {
     "name": "stdout",
     "output_type": "stream",
     "text": [
      "rows added successfully\n"
     ]
    }
   ],
   "source": [
    "patient_table = Table(atlas_id='aniket_test_atlas', name='patient')\n",
    "rows = [\n",
    "    {\"patient_id\": \"1\", \"patient_age\": 23},\n",
    "    {\"patient_id\": \"2\", \"patient_age\": 24},\n",
    "]\n",
    "patient_table.add_rows(rows)"
   ]
  },
  {
   "cell_type": "code",
   "execution_count": 13,
   "id": "c99d5d76",
   "metadata": {},
   "outputs": [
    {
     "name": "stdout",
     "output_type": "stream",
     "text": [
      "   patient_id patient_name\n",
      "0           1         None\n",
      "1           2         None\n"
     ]
    }
   ],
   "source": [
    "result = atlas.query(query='SELECT * FROM patient;')\n",
    "print(result)"
   ]
  },
  {
   "cell_type": "code",
   "execution_count": 14,
   "id": "6b21fec1",
   "metadata": {},
   "outputs": [
    {
     "data": {
      "text/plain": [
       "'Aniket Test Atlas'"
      ]
     },
     "execution_count": 14,
     "metadata": {},
     "output_type": "execute_result"
    }
   ],
   "source": [
    "atlas.get_name()"
   ]
  },
  {
   "cell_type": "code",
   "execution_count": 17,
   "id": "9f04bf65",
   "metadata": {},
   "outputs": [],
   "source": [
    "import pandas as pd\n",
    "\n",
    "data = {'patient_id': [\"P0031\", \"P0032\"], 'patient_age': ['Sam', 'Ron']}\n",
    "df = pd.DataFrame(data)\n",
    "df.set_index('patient_id', inplace=True)\n",
    "new_table = atlas.create_table_from_df(table_name='patient2', df=df)"
   ]
  },
  {
   "cell_type": "code",
   "execution_count": 18,
   "id": "99eb3f84",
   "metadata": {},
   "outputs": [
    {
     "data": {
      "text/plain": [
       "[Table(name='patient', columns=[Column(name='patient_id', col_type='integer', constraint='PRIMARY KEY'), Column(name='patient_name', col_type='string', constraint='None')]),\n",
       " Table(name='patient2', columns=[Column(name='patient_age', col_type='string', constraint='None'), Column(name='patient_id', col_type='string', constraint='PRIMARY KEY')])]"
      ]
     },
     "execution_count": 18,
     "metadata": {},
     "output_type": "execute_result"
    }
   ],
   "source": [
    "atlas.list_tables()"
   ]
  },
  {
   "cell_type": "code",
   "execution_count": 19,
   "id": "c1d7c4ff",
   "metadata": {},
   "outputs": [
    {
     "name": "stdout",
     "output_type": "stream",
     "text": [
      "  patient_age patient_id\n",
      "0         Sam      P0031\n",
      "1         Ron      P0032\n"
     ]
    }
   ],
   "source": [
    "result = atlas.query(query='SELECT * FROM patient2;')\n",
    "print(result)"
   ]
  },
  {
   "cell_type": "code",
   "execution_count": 20,
   "id": "bf4cf37d",
   "metadata": {},
   "outputs": [],
   "source": [
    "atlas.delete_table(table_name='patient')"
   ]
  },
  {
   "cell_type": "code",
   "execution_count": 21,
   "id": "5b36b96f",
   "metadata": {},
   "outputs": [
    {
     "data": {
      "text/plain": [
       "[Table(name='patient2', columns=[Column(name='patient_age', col_type='string', constraint='None'), Column(name='patient_id', col_type='string', constraint='PRIMARY KEY')])]"
      ]
     },
     "execution_count": 21,
     "metadata": {},
     "output_type": "execute_result"
    }
   ],
   "source": [
    "atlas.list_tables()"
   ]
  },
  {
   "cell_type": "code",
   "execution_count": 26,
   "id": "94247dc8",
   "metadata": {},
   "outputs": [
    {
     "name": "stdout",
     "output_type": "stream",
     "text": [
      "[Column(name='patient_age', col_type='string', constraint='None'), Column(name='patient_id', col_type='string', constraint='PRIMARY KEY')]\n"
     ]
    }
   ],
   "source": [
    "patient_table = Table(atlas_id='aniket_test_atlas', name='patient2')\n",
    "columns = patient_table.list_columns()\n",
    "print(columns)"
   ]
  },
  {
   "cell_type": "code",
   "execution_count": 27,
   "id": "27dcadb7",
   "metadata": {},
   "outputs": [],
   "source": [
    "column = patient_table.get_column(column_name='patient_id')"
   ]
  },
  {
   "cell_type": "code",
   "execution_count": 33,
   "id": "3af7d141",
   "metadata": {},
   "outputs": [],
   "source": [
    "new_column = Column(name='patient_name', col_type='string')\n",
    "added_column = patient_table.add_column(column=new_column)"
   ]
  },
  {
   "cell_type": "code",
   "execution_count": 34,
   "id": "aabd41c0",
   "metadata": {},
   "outputs": [
    {
     "name": "stdout",
     "output_type": "stream",
     "text": [
      "  patient_age patient_id patient_name\n",
      "0         Sam      P0031         None\n",
      "1         Ron      P0032         None\n"
     ]
    }
   ],
   "source": [
    "result = atlas.query(query='SELECT * FROM patient2;')\n",
    "print(result)"
   ]
  },
  {
   "cell_type": "code",
   "execution_count": 35,
   "id": "fea25a5b",
   "metadata": {},
   "outputs": [],
   "source": [
    "patient_table.delete_column(column_name='patient_name')"
   ]
  },
  {
   "cell_type": "code",
   "execution_count": 36,
   "id": "6fc24767",
   "metadata": {},
   "outputs": [
    {
     "name": "stdout",
     "output_type": "stream",
     "text": [
      "  patient_age patient_id\n",
      "0         Sam      P0031\n",
      "1         Ron      P0032\n"
     ]
    }
   ],
   "source": [
    "result = atlas.query(query='SELECT * FROM patient2;')\n",
    "print(result)"
   ]
  },
  {
   "cell_type": "code",
   "execution_count": 40,
   "id": "28a3ee0a",
   "metadata": {},
   "outputs": [
    {
     "name": "stdout",
     "output_type": "stream",
     "text": [
      "rows updated successfully\n"
     ]
    }
   ],
   "source": [
    "rows = [\n",
    "   {\"patient_id\": \"P0031\", \"patient_age\": 23},\n",
    "   {\"patient_id\": \"P0032\", \"patient_age\": 24},\n",
    "]\n",
    "patient_table.update_rows(rows=rows)"
   ]
  },
  {
   "cell_type": "code",
   "execution_count": 41,
   "id": "c01dd8fd",
   "metadata": {},
   "outputs": [
    {
     "name": "stdout",
     "output_type": "stream",
     "text": [
      "  patient_age patient_id\n",
      "0          23      P0031\n",
      "1          24      P0032\n"
     ]
    }
   ],
   "source": [
    "result = atlas.query(query='SELECT * FROM patient2;')\n",
    "print(result)"
   ]
  },
  {
   "cell_type": "code",
   "execution_count": 43,
   "id": "1caa2e29",
   "metadata": {},
   "outputs": [
    {
     "name": "stdout",
     "output_type": "stream",
     "text": [
      "           patient_age\n",
      "patient_id            \n",
      "P0031               23\n",
      "P0032               24\n"
     ]
    }
   ],
   "source": [
    "head_df = patient_table.head()\n",
    "print(head_df)"
   ]
  },
  {
   "cell_type": "code",
   "execution_count": 44,
   "id": "7e2df381",
   "metadata": {},
   "outputs": [
    {
     "name": "stdout",
     "output_type": "stream",
     "text": [
      "           patient_age\n",
      "patient_id            \n",
      "P0031               23\n",
      "P0032               24\n"
     ]
    }
   ],
   "source": [
    "df = patient_table.to_df()\n",
    "print(df)"
   ]
  },
  {
   "cell_type": "code",
   "execution_count": null,
   "id": "c80521c0",
   "metadata": {},
   "outputs": [],
   "source": []
  }
 ],
 "metadata": {
  "kernelspec": {
   "display_name": "Python 3",
   "language": "python",
   "name": "python3"
  },
  "language_info": {
   "codemirror_mode": {
    "name": "ipython",
    "version": 3
   },
   "file_extension": ".py",
   "mimetype": "text/x-python",
   "name": "python",
   "nbconvert_exporter": "python",
   "pygments_lexer": "ipython3",
   "version": "3.10.6"
  }
 },
 "nbformat": 4,
 "nbformat_minor": 5
}
