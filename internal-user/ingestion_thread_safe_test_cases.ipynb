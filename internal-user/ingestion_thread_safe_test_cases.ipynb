{
 "cells": [
  {
   "cell_type": "markdown",
   "metadata": {},
   "source": [
    "# Welcome to Polly Python3 Notebook."
   ]
  },
  {
   "cell_type": "code",
   "execution_count": null,
   "metadata": {},
   "outputs": [
    {
     "name": "stdout",
     "output_type": "stream",
     "text": [
      "/bin/bash: warning: setlocale: LC_ALL: cannot change locale (en_US.UTF-8)\n",
      "Collecting polly-python==0.2.9-threadSafeIngestion-LIB412\n",
      "  Downloading https://elucidatainc.github.io/PublicAssets/builds/polly-python/tests/testpolly/polly_python-0.2.9_threadSafeIngestion_LIB412-py3-none-any.whl (120 kB)\n",
      "\u001b[K     |████████████████████████████████| 120 kB 5.1 MB/s eta 0:00:01\n",
      "\u001b[?25hCollecting polly-validator@ https://elucidatainc.github.io/PublicAssets/builds/polly_validator-0.0.1-py3-none-any.whl\n",
      "  Downloading https://elucidatainc.github.io/PublicAssets/builds/polly_validator-0.0.1-py3-none-any.whl (22 kB)\n",
      "Requirement already satisfied: requests==2.25.1 in /usr/local/lib/python3.10/site-packages (from polly-python==0.2.9-threadSafeIngestion-LIB412) (2.25.1)\n",
      "Requirement already satisfied: joblib in /usr/local/lib/python3.10/site-packages (from polly-python==0.2.9-threadSafeIngestion-LIB412) (1.2.0)\n",
      "Requirement already satisfied: elucidatacloudpathlib==0.6.6 in /usr/local/lib/python3.10/site-packages (from polly-python==0.2.9-threadSafeIngestion-LIB412) (0.6.6)\n",
      "Requirement already satisfied: datapane in /usr/local/lib/python3.10/site-packages (from polly-python==0.2.9-threadSafeIngestion-LIB412) (0.15.6)\n",
      "Requirement already satisfied: elucidatacmapPy==3.3.4 in /usr/local/lib/python3.10/site-packages (from polly-python==0.2.9-threadSafeIngestion-LIB412) (3.3.4)\n",
      "Requirement already satisfied: rst2txt in /usr/local/lib/python3.10/site-packages (from polly-python==0.2.9-threadSafeIngestion-LIB412) (1.1.0)\n",
      "Requirement already satisfied: idna==2.10 in /usr/local/lib/python3.10/site-packages (from polly-python==0.2.9-threadSafeIngestion-LIB412) (2.10)\n",
      "Requirement already satisfied: Deprecated in /usr/local/lib/python3.10/site-packages (from polly-python==0.2.9-threadSafeIngestion-LIB412) (1.2.13)\n",
      "Requirement already satisfied: pytest in /usr/local/lib/python3.10/site-packages (from polly-python==0.2.9-threadSafeIngestion-LIB412) (7.2.1)\n",
      "Requirement already satisfied: beautifulsoup4 in /usr/local/lib/python3.10/site-packages (from polly-python==0.2.9-threadSafeIngestion-LIB412) (4.11.2)\n",
      "Requirement already satisfied: pydantic in /usr/local/lib/python3.10/site-packages (from polly-python==0.2.9-threadSafeIngestion-LIB412) (1.9.1)\n",
      "Requirement already satisfied: pytz==2021.1 in /usr/local/lib/python3.10/site-packages (from polly-python==0.2.9-threadSafeIngestion-LIB412) (2021.1)\n",
      "Requirement already satisfied: botocore>=1.20.73 in /usr/local/lib/python3.10/site-packages (from polly-python==0.2.9-threadSafeIngestion-LIB412) (1.24.19)\n",
      "Collecting mixpanel>=4.10.0\n",
      "  Downloading mixpanel-4.10.0-py2.py3-none-any.whl (8.9 kB)\n",
      "Requirement already satisfied: python-jose>=3.3.0 in /usr/local/lib/python3.10/site-packages (from polly-python==0.2.9-threadSafeIngestion-LIB412) (3.3.0)\n",
      "Requirement already satisfied: tqdm in /usr/local/lib/python3.10/site-packages (from polly-python==0.2.9-threadSafeIngestion-LIB412) (4.64.1)\n",
      "Requirement already satisfied: chardet==4.0.0 in /usr/local/lib/python3.10/site-packages (from polly-python==0.2.9-threadSafeIngestion-LIB412) (4.0.0)\n",
      "Requirement already satisfied: python-magic==0.4.24 in /usr/local/lib/python3.10/site-packages (from polly-python==0.2.9-threadSafeIngestion-LIB412) (0.4.24)\n",
      "Requirement already satisfied: sqlparse in /usr/local/lib/python3.10/site-packages (from polly-python==0.2.9-threadSafeIngestion-LIB412) (0.4.3)\n",
      "Requirement already satisfied: retrying==1.3.3 in /usr/local/lib/python3.10/site-packages (from polly-python==0.2.9-threadSafeIngestion-LIB412) (1.3.3)\n",
      "Requirement already satisfied: python-dateutil in /usr/local/lib/python3.10/site-packages (from polly-python==0.2.9-threadSafeIngestion-LIB412) (2.8.1)\n",
      "Requirement already satisfied: urllib3==1.26.6 in /usr/local/lib/python3.10/site-packages (from polly-python==0.2.9-threadSafeIngestion-LIB412) (1.26.6)\n",
      "Requirement already satisfied: pandas in /usr/local/lib/python3.10/site-packages (from polly-python==0.2.9-threadSafeIngestion-LIB412) (1.4.1)\n",
      "Requirement already satisfied: certifi==2021.10.8 in /usr/local/lib/python3.10/site-packages (from polly-python==0.2.9-threadSafeIngestion-LIB412) (2021.10.8)\n",
      "Collecting cryptography>=38.0.1\n",
      "  Downloading cryptography-39.0.0-cp36-abi3-manylinux_2_28_x86_64.whl (4.2 MB)\n",
      "\u001b[K     |████████████████████████████████| 4.2 MB 29.3 MB/s eta 0:00:01\n",
      "\u001b[?25hRequirement already satisfied: plotly in /usr/local/lib/python3.10/site-packages (from polly-python==0.2.9-threadSafeIngestion-LIB412) (5.13.0)\n",
      "Requirement already satisfied: postpy2==0.0.6 in /usr/local/lib/python3.10/site-packages (from polly-python==0.2.9-threadSafeIngestion-LIB412) (0.0.6)\n",
      "Requirement already satisfied: boto3>=1.17.73 in /usr/local/lib/python3.10/site-packages (from polly-python==0.2.9-threadSafeIngestion-LIB412) (1.21.19)\n",
      "Requirement already satisfied: Cerberus==1.3.2 in /usr/local/lib/python3.10/site-packages (from polly-python==0.2.9-threadSafeIngestion-LIB412) (1.3.2)\n",
      "Requirement already satisfied: six==1.16.0 in /usr/local/lib/python3.10/site-packages (from polly-python==0.2.9-threadSafeIngestion-LIB412) (1.16.0)\n",
      "Requirement already satisfied: setuptools in /usr/local/lib/python3.10/site-packages (from Cerberus==1.3.2->polly-python==0.2.9-threadSafeIngestion-LIB412) (58.1.0)\n",
      "Requirement already satisfied: numpy>=1.11.2 in /usr/local/lib/python3.10/site-packages (from elucidatacmapPy==3.3.4->polly-python==0.2.9-threadSafeIngestion-LIB412) (1.22.3)\n",
      "Requirement already satisfied: h5py>=2.6.0 in /usr/local/lib/python3.10/site-packages (from elucidatacmapPy==3.3.4->polly-python==0.2.9-threadSafeIngestion-LIB412) (3.8.0)\n",
      "Requirement already satisfied: jmespath<1.0.0,>=0.7.1 in /usr/local/lib/python3.10/site-packages (from boto3>=1.17.73->polly-python==0.2.9-threadSafeIngestion-LIB412) (0.10.0)\n",
      "Requirement already satisfied: s3transfer<0.6.0,>=0.5.0 in /usr/local/lib/python3.10/site-packages (from boto3>=1.17.73->polly-python==0.2.9-threadSafeIngestion-LIB412) (0.5.2)\n",
      "Requirement already satisfied: cffi>=1.12 in /usr/local/lib/python3.10/site-packages (from cryptography>=38.0.1->polly-python==0.2.9-threadSafeIngestion-LIB412) (1.15.1)\n",
      "Requirement already satisfied: pycparser in /usr/local/lib/python3.10/site-packages (from cffi>=1.12->cryptography>=38.0.1->polly-python==0.2.9-threadSafeIngestion-LIB412) (2.21)\n",
      "Requirement already satisfied: pyasn1 in /usr/local/lib/python3.10/site-packages (from python-jose>=3.3.0->polly-python==0.2.9-threadSafeIngestion-LIB412) (0.4.8)\n",
      "Requirement already satisfied: ecdsa!=0.15 in /usr/local/lib/python3.10/site-packages (from python-jose>=3.3.0->polly-python==0.2.9-threadSafeIngestion-LIB412) (0.18.0)\n",
      "Requirement already satisfied: rsa in /usr/local/lib/python3.10/site-packages (from python-jose>=3.3.0->polly-python==0.2.9-threadSafeIngestion-LIB412) (4.7.2)\n",
      "Requirement already satisfied: soupsieve>1.2 in /usr/local/lib/python3.10/site-packages (from beautifulsoup4->polly-python==0.2.9-threadSafeIngestion-LIB412) (2.3.2.post1)\n",
      "Requirement already satisfied: furl<3.0.0,>=2.0.0 in /usr/local/lib/python3.10/site-packages (from datapane->polly-python==0.2.9-threadSafeIngestion-LIB412) (2.1.3)\n",
      "Requirement already satisfied: click-spinner<0.2.0,>=0.1.8 in /usr/local/lib/python3.10/site-packages (from datapane->polly-python==0.2.9-threadSafeIngestion-LIB412) (0.1.10)\n",
      "Requirement already satisfied: altair<5.0.0,>=4.0.0 in /usr/local/lib/python3.10/site-packages (from datapane->polly-python==0.2.9-threadSafeIngestion-LIB412) (4.2.2)\n",
      "Requirement already satisfied: posthog<3.0.0,>=1.4.0 in /usr/local/lib/python3.10/site-packages (from datapane->polly-python==0.2.9-threadSafeIngestion-LIB412) (2.3.0)\n",
      "Requirement already satisfied: datacommons<2.0.0,>=1.4.3 in /usr/local/lib/python3.10/site-packages (from datapane->polly-python==0.2.9-threadSafeIngestion-LIB412) (1.4.3)\n",
      "Requirement already satisfied: glom<24.0.0,>=20.11.0 in /usr/local/lib/python3.10/site-packages (from datapane->polly-python==0.2.9-threadSafeIngestion-LIB412) (23.1.1)\n",
      "Requirement already satisfied: dacite<2.0.0,>=1.0.2 in /usr/local/lib/python3.10/site-packages (from datapane->polly-python==0.2.9-threadSafeIngestion-LIB412) (1.8.0)\n",
      "Requirement already satisfied: validators<0.21.0,>=0.18.0 in /usr/local/lib/python3.10/site-packages (from datapane->polly-python==0.2.9-threadSafeIngestion-LIB412) (0.20.0)\n",
      "Requirement already satisfied: requests-toolbelt<0.10.0,>=0.9.1 in /usr/local/lib/python3.10/site-packages (from datapane->polly-python==0.2.9-threadSafeIngestion-LIB412) (0.9.1)\n",
      "Requirement already satisfied: lxml<5.0.0,>=4.0.0 in /usr/local/lib/python3.10/site-packages (from datapane->polly-python==0.2.9-threadSafeIngestion-LIB412) (4.9.2)\n",
      "Requirement already satisfied: ipynbname<2022.0.0,>=2021.3.2 in /usr/local/lib/python3.10/site-packages (from datapane->polly-python==0.2.9-threadSafeIngestion-LIB412) (2021.3.2)\n",
      "Requirement already satisfied: stringcase<2.0.0,>=1.2.0 in /usr/local/lib/python3.10/site-packages (from datapane->polly-python==0.2.9-threadSafeIngestion-LIB412) (1.2.0)\n",
      "Requirement already satisfied: pyarrow<11.0.0,>=6.0.0 in /usr/local/lib/python3.10/site-packages (from datapane->polly-python==0.2.9-threadSafeIngestion-LIB412) (10.0.1)\n",
      "Requirement already satisfied: packaging<24.0.0,>=21.0.0 in /usr/local/lib/python3.10/site-packages (from datapane->polly-python==0.2.9-threadSafeIngestion-LIB412) (23.0)\n",
      "Requirement already satisfied: PyYAML<7.0.0,>=5.4.0 in /usr/local/lib/python3.10/site-packages (from datapane->polly-python==0.2.9-threadSafeIngestion-LIB412) (5.4.1)\n",
      "Requirement already satisfied: click<9.0.0,>=7.1.0 in /usr/local/lib/python3.10/site-packages (from datapane->polly-python==0.2.9-threadSafeIngestion-LIB412) (8.1.3)\n",
      "Requirement already satisfied: toolz<0.13.0,>=0.11.0 in /usr/local/lib/python3.10/site-packages (from datapane->polly-python==0.2.9-threadSafeIngestion-LIB412) (0.12.0)\n",
      "Requirement already satisfied: datacommons-pandas<0.0.4,>=0.0.3 in /usr/local/lib/python3.10/site-packages (from datapane->polly-python==0.2.9-threadSafeIngestion-LIB412) (0.0.3)\n",
      "Requirement already satisfied: dominate<3.0.0,>=2.4.0 in /usr/local/lib/python3.10/site-packages (from datapane->polly-python==0.2.9-threadSafeIngestion-LIB412) (2.7.0)\n",
      "Requirement already satisfied: munch<3.0.0,>=2.3.0 in /usr/local/lib/python3.10/site-packages (from datapane->polly-python==0.2.9-threadSafeIngestion-LIB412) (2.5.0)\n",
      "Requirement already satisfied: Jinja2<4.0.0,>=3.0.0 in /usr/local/lib/python3.10/site-packages (from datapane->polly-python==0.2.9-threadSafeIngestion-LIB412) (3.0.3)\n",
      "Requirement already satisfied: vega-datasets<1.0.0,>=0.9.0 in /usr/local/lib/python3.10/site-packages (from datapane->polly-python==0.2.9-threadSafeIngestion-LIB412) (0.9.0)\n",
      "Requirement already satisfied: nbconvert<7.0.0,>=6.1.0 in /usr/local/lib/python3.10/site-packages (from datapane->polly-python==0.2.9-threadSafeIngestion-LIB412) (6.3.0)\n",
      "Requirement already satisfied: colorlog<7.0.0,>=4.1.0 in /usr/local/lib/python3.10/site-packages (from datapane->polly-python==0.2.9-threadSafeIngestion-LIB412) (6.7.0)\n",
      "Requirement already satisfied: boltons<22.0.0,>=20.0.0 in /usr/local/lib/python3.10/site-packages (from datapane->polly-python==0.2.9-threadSafeIngestion-LIB412) (21.0.0)\n",
      "Requirement already satisfied: micawber>=0.5.0 in /usr/local/lib/python3.10/site-packages (from datapane->polly-python==0.2.9-threadSafeIngestion-LIB412) (0.5.4)\n",
      "Requirement already satisfied: tabulate<0.9.0,>=0.8.0 in /usr/local/lib/python3.10/site-packages (from datapane->polly-python==0.2.9-threadSafeIngestion-LIB412) (0.8.10)\n",
      "Requirement already satisfied: importlib_resources<6.0.0,>=3.0.0 in /usr/local/lib/python3.10/site-packages (from datapane->polly-python==0.2.9-threadSafeIngestion-LIB412) (5.10.2)\n",
      "Requirement already satisfied: jsonschema<5.0.0,>=3.2.0 in /usr/local/lib/python3.10/site-packages (from datapane->polly-python==0.2.9-threadSafeIngestion-LIB412) (4.2.1)\n",
      "Requirement already satisfied: dulwich<0.21.0,>=0.20.0 in /usr/local/lib/python3.10/site-packages (from datapane->polly-python==0.2.9-threadSafeIngestion-LIB412) (0.20.50)\n",
      "Requirement already satisfied: entrypoints in /usr/local/lib/python3.10/site-packages (from altair<5.0.0,>=4.0.0->datapane->polly-python==0.2.9-threadSafeIngestion-LIB412) (0.3)\n",
      "Requirement already satisfied: orderedmultidict>=1.0.1 in /usr/local/lib/python3.10/site-packages (from furl<3.0.0,>=2.0.0->datapane->polly-python==0.2.9-threadSafeIngestion-LIB412) (1.0.1)\n",
      "Requirement already satisfied: face==20.1.1 in /usr/local/lib/python3.10/site-packages (from glom<24.0.0,>=20.11.0->datapane->polly-python==0.2.9-threadSafeIngestion-LIB412) (20.1.1)\n",
      "Requirement already satisfied: attrs in /usr/local/lib/python3.10/site-packages (from glom<24.0.0,>=20.11.0->datapane->polly-python==0.2.9-threadSafeIngestion-LIB412) (21.2.0)\n",
      "Requirement already satisfied: ipykernel in /usr/local/lib/python3.10/site-packages (from ipynbname<2022.0.0,>=2021.3.2->datapane->polly-python==0.2.9-threadSafeIngestion-LIB412) (6.13.1)\n",
      "Requirement already satisfied: MarkupSafe>=2.0 in /usr/local/lib/python3.10/site-packages (from Jinja2<4.0.0,>=3.0.0->datapane->polly-python==0.2.9-threadSafeIngestion-LIB412) (2.0.1)\n",
      "Requirement already satisfied: pyrsistent!=0.17.0,!=0.17.1,!=0.17.2,>=0.14.0 in /usr/local/lib/python3.10/site-packages (from jsonschema<5.0.0,>=3.2.0->datapane->polly-python==0.2.9-threadSafeIngestion-LIB412) (0.18.0)\n",
      "Requirement already satisfied: nbclient<0.6.0,>=0.5.0 in /usr/local/lib/python3.10/site-packages (from nbconvert<7.0.0,>=6.1.0->datapane->polly-python==0.2.9-threadSafeIngestion-LIB412) (0.5.13)\n",
      "Requirement already satisfied: defusedxml in /usr/local/lib/python3.10/site-packages (from nbconvert<7.0.0,>=6.1.0->datapane->polly-python==0.2.9-threadSafeIngestion-LIB412) (0.7.1)\n",
      "Requirement already satisfied: traitlets>=5.0 in /usr/local/lib/python3.10/site-packages (from nbconvert<7.0.0,>=6.1.0->datapane->polly-python==0.2.9-threadSafeIngestion-LIB412) (5.1.1)\n",
      "Requirement already satisfied: jupyterlab-pygments in /usr/local/lib/python3.10/site-packages (from nbconvert<7.0.0,>=6.1.0->datapane->polly-python==0.2.9-threadSafeIngestion-LIB412) (0.2.2)\n",
      "Requirement already satisfied: mistune<2,>=0.8.1 in /usr/local/lib/python3.10/site-packages (from nbconvert<7.0.0,>=6.1.0->datapane->polly-python==0.2.9-threadSafeIngestion-LIB412) (0.8.4)\n",
      "Requirement already satisfied: bleach in /usr/local/lib/python3.10/site-packages (from nbconvert<7.0.0,>=6.1.0->datapane->polly-python==0.2.9-threadSafeIngestion-LIB412) (4.1.0)\n",
      "Requirement already satisfied: pygments>=2.4.1 in /usr/local/lib/python3.10/site-packages (from nbconvert<7.0.0,>=6.1.0->datapane->polly-python==0.2.9-threadSafeIngestion-LIB412) (2.10.0)\n",
      "Requirement already satisfied: pandocfilters>=1.4.1 in /usr/local/lib/python3.10/site-packages (from nbconvert<7.0.0,>=6.1.0->datapane->polly-python==0.2.9-threadSafeIngestion-LIB412) (1.5.0)\n",
      "Requirement already satisfied: jupyter-core in /usr/local/lib/python3.10/site-packages (from nbconvert<7.0.0,>=6.1.0->datapane->polly-python==0.2.9-threadSafeIngestion-LIB412) (4.9.1)\n",
      "Requirement already satisfied: nbformat>=4.4 in /usr/local/lib/python3.10/site-packages (from nbconvert<7.0.0,>=6.1.0->datapane->polly-python==0.2.9-threadSafeIngestion-LIB412) (5.1.3)\n",
      "Requirement already satisfied: testpath in /usr/local/lib/python3.10/site-packages (from nbconvert<7.0.0,>=6.1.0->datapane->polly-python==0.2.9-threadSafeIngestion-LIB412) (0.5.0)\n",
      "Requirement already satisfied: jupyter-client>=6.1.5 in /usr/local/lib/python3.10/site-packages (from nbclient<0.6.0,>=0.5.0->nbconvert<7.0.0,>=6.1.0->datapane->polly-python==0.2.9-threadSafeIngestion-LIB412) (6.1.12)\n",
      "Requirement already satisfied: nest-asyncio in /usr/local/lib/python3.10/site-packages (from nbclient<0.6.0,>=0.5.0->nbconvert<7.0.0,>=6.1.0->datapane->polly-python==0.2.9-threadSafeIngestion-LIB412) (1.5.6)\n",
      "Requirement already satisfied: tornado>=4.1 in /usr/local/lib/python3.10/site-packages (from jupyter-client>=6.1.5->nbclient<0.6.0,>=0.5.0->nbconvert<7.0.0,>=6.1.0->datapane->polly-python==0.2.9-threadSafeIngestion-LIB412) (6.1)\n",
      "Requirement already satisfied: pyzmq>=13 in /usr/local/lib/python3.10/site-packages (from jupyter-client>=6.1.5->nbclient<0.6.0,>=0.5.0->nbconvert<7.0.0,>=6.1.0->datapane->polly-python==0.2.9-threadSafeIngestion-LIB412) (22.3.0)\n",
      "Requirement already satisfied: ipython-genutils in /usr/local/lib/python3.10/site-packages (from nbformat>=4.4->nbconvert<7.0.0,>=6.1.0->datapane->polly-python==0.2.9-threadSafeIngestion-LIB412) (0.2.0)\n",
      "Requirement already satisfied: monotonic>=1.5 in /usr/local/lib/python3.10/site-packages (from posthog<3.0.0,>=1.4.0->datapane->polly-python==0.2.9-threadSafeIngestion-LIB412) (1.6)\n",
      "Requirement already satisfied: backoff<2.0.0,>=1.10.0 in /usr/local/lib/python3.10/site-packages (from posthog<3.0.0,>=1.4.0->datapane->polly-python==0.2.9-threadSafeIngestion-LIB412) (1.11.1)\n",
      "Requirement already satisfied: typing-extensions>=3.7.4.3 in /usr/local/lib/python3.10/site-packages (from pydantic->polly-python==0.2.9-threadSafeIngestion-LIB412) (4.4.0)\n",
      "Requirement already satisfied: decorator>=3.4.0 in /usr/local/lib/python3.10/site-packages (from validators<0.21.0,>=0.18.0->datapane->polly-python==0.2.9-threadSafeIngestion-LIB412) (5.1.0)\n",
      "Requirement already satisfied: webencodings in /usr/local/lib/python3.10/site-packages (from bleach->nbconvert<7.0.0,>=6.1.0->datapane->polly-python==0.2.9-threadSafeIngestion-LIB412) (0.5.1)\n",
      "Requirement already satisfied: wrapt<2,>=1.10 in /usr/local/lib/python3.10/site-packages (from Deprecated->polly-python==0.2.9-threadSafeIngestion-LIB412) (1.14.1)\n",
      "Requirement already satisfied: psutil in /usr/local/lib/python3.10/site-packages (from ipykernel->ipynbname<2022.0.0,>=2021.3.2->datapane->polly-python==0.2.9-threadSafeIngestion-LIB412) (5.9.4)\n",
      "Requirement already satisfied: ipython>=7.23.1 in /usr/local/lib/python3.10/site-packages (from ipykernel->ipynbname<2022.0.0,>=2021.3.2->datapane->polly-python==0.2.9-threadSafeIngestion-LIB412) (8.2.0)\n",
      "Requirement already satisfied: debugpy>=1.0 in /usr/local/lib/python3.10/site-packages (from ipykernel->ipynbname<2022.0.0,>=2021.3.2->datapane->polly-python==0.2.9-threadSafeIngestion-LIB412) (1.6.6)\n",
      "Requirement already satisfied: matplotlib-inline>=0.1 in /usr/local/lib/python3.10/site-packages (from ipykernel->ipynbname<2022.0.0,>=2021.3.2->datapane->polly-python==0.2.9-threadSafeIngestion-LIB412) (0.1.3)\n",
      "Requirement already satisfied: pexpect>4.3 in /usr/local/lib/python3.10/site-packages (from ipython>=7.23.1->ipykernel->ipynbname<2022.0.0,>=2021.3.2->datapane->polly-python==0.2.9-threadSafeIngestion-LIB412) (4.8.0)\n",
      "Requirement already satisfied: prompt-toolkit!=3.0.0,!=3.0.1,<3.1.0,>=2.0.0 in /usr/local/lib/python3.10/site-packages (from ipython>=7.23.1->ipykernel->ipynbname<2022.0.0,>=2021.3.2->datapane->polly-python==0.2.9-threadSafeIngestion-LIB412) (3.0.22)\n",
      "Requirement already satisfied: stack-data in /usr/local/lib/python3.10/site-packages (from ipython>=7.23.1->ipykernel->ipynbname<2022.0.0,>=2021.3.2->datapane->polly-python==0.2.9-threadSafeIngestion-LIB412) (0.6.2)\n",
      "Requirement already satisfied: backcall in /usr/local/lib/python3.10/site-packages (from ipython>=7.23.1->ipykernel->ipynbname<2022.0.0,>=2021.3.2->datapane->polly-python==0.2.9-threadSafeIngestion-LIB412) (0.2.0)\n",
      "Requirement already satisfied: pickleshare in /usr/local/lib/python3.10/site-packages (from ipython>=7.23.1->ipykernel->ipynbname<2022.0.0,>=2021.3.2->datapane->polly-python==0.2.9-threadSafeIngestion-LIB412) (0.7.5)\n",
      "Requirement already satisfied: jedi>=0.16 in /usr/local/lib/python3.10/site-packages (from ipython>=7.23.1->ipykernel->ipynbname<2022.0.0,>=2021.3.2->datapane->polly-python==0.2.9-threadSafeIngestion-LIB412) (0.18.1)\n",
      "Requirement already satisfied: parso<0.9.0,>=0.8.0 in /usr/local/lib/python3.10/site-packages (from jedi>=0.16->ipython>=7.23.1->ipykernel->ipynbname<2022.0.0,>=2021.3.2->datapane->polly-python==0.2.9-threadSafeIngestion-LIB412) (0.8.2)\n",
      "Requirement already satisfied: ptyprocess>=0.5 in /usr/local/lib/python3.10/site-packages (from pexpect>4.3->ipython>=7.23.1->ipykernel->ipynbname<2022.0.0,>=2021.3.2->datapane->polly-python==0.2.9-threadSafeIngestion-LIB412) (0.7.0)\n",
      "Requirement already satisfied: wcwidth in /usr/local/lib/python3.10/site-packages (from prompt-toolkit!=3.0.0,!=3.0.1,<3.1.0,>=2.0.0->ipython>=7.23.1->ipykernel->ipynbname<2022.0.0,>=2021.3.2->datapane->polly-python==0.2.9-threadSafeIngestion-LIB412) (0.2.5)\n",
      "Requirement already satisfied: tenacity>=6.2.0 in /usr/local/lib/python3.10/site-packages (from plotly->polly-python==0.2.9-threadSafeIngestion-LIB412) (8.1.0)\n",
      "Collecting rapidfuzz==2.1.1\n",
      "  Downloading rapidfuzz-2.1.1-cp310-cp310-manylinux_2_17_x86_64.manylinux2014_x86_64.whl (2.0 MB)\n",
      "\u001b[K     |████████████████████████████████| 2.0 MB 114.8 MB/s eta 0:00:01\n",
      "\u001b[?25hCollecting pronto\n",
      "  Downloading pronto-2.5.3-py2.py3-none-any.whl (61 kB)\n",
      "\u001b[K     |████████████████████████████████| 61 kB 1.3 MB/s  eta 0:00:01\n",
      "\u001b[?25hCollecting appdirs==1.4.4\n",
      "  Downloading appdirs-1.4.4-py2.py3-none-any.whl (9.6 kB)\n",
      "Collecting jarowinkler<1.1.0,>=1.0.3\n",
      "  Downloading jarowinkler-1.0.5-cp310-cp310-manylinux_2_17_x86_64.manylinux2014_x86_64.whl (103 kB)\n",
      "\u001b[K     |████████████████████████████████| 103 kB 134.8 MB/s eta 0:00:01\n",
      "\u001b[?25hCollecting fastobo~=0.12.2\n",
      "  Downloading fastobo-0.12.2-cp310-cp310-manylinux_2_17_x86_64.manylinux2014_x86_64.whl (2.1 MB)\n",
      "\u001b[K     |████████████████████████████████| 2.1 MB 114.8 MB/s eta 0:00:01\n",
      "\u001b[?25hCollecting networkx~=2.3\n",
      "  Downloading networkx-2.8.8-py3-none-any.whl (2.0 MB)\n",
      "\u001b[K     |████████████████████████████████| 2.0 MB 107.9 MB/s eta 0:00:01\n",
      "\u001b[?25hCollecting pronto\n",
      "  Downloading pronto-2.5.2-py2.py3-none-any.whl (61 kB)\n",
      "\u001b[K     |████████████████████████████████| 61 kB 1.6 MB/s  eta 0:00:011\n",
      "\u001b[?25h  Downloading pronto-2.5.1-py2.py3-none-any.whl (61 kB)\n",
      "\u001b[K     |████████████████████████████████| 61 kB 1.9 MB/s s eta 0:00:01\n",
      "\u001b[?25hRequirement already satisfied: exceptiongroup>=1.0.0rc8 in /usr/local/lib/python3.10/site-packages (from pytest->polly-python==0.2.9-threadSafeIngestion-LIB412) (1.1.0)\n",
      "Requirement already satisfied: iniconfig in /usr/local/lib/python3.10/site-packages (from pytest->polly-python==0.2.9-threadSafeIngestion-LIB412) (2.0.0)\n",
      "Requirement already satisfied: pluggy<2.0,>=0.12 in /usr/local/lib/python3.10/site-packages (from pytest->polly-python==0.2.9-threadSafeIngestion-LIB412) (1.0.0)\n",
      "Requirement already satisfied: tomli>=1.0.0 in /usr/local/lib/python3.10/site-packages (from pytest->polly-python==0.2.9-threadSafeIngestion-LIB412) (2.0.1)\n",
      "Requirement already satisfied: docutils>=0.11 in /usr/local/lib/python3.10/site-packages (from rst2txt->polly-python==0.2.9-threadSafeIngestion-LIB412) (0.15.2)\n",
      "Requirement already satisfied: asttokens>=2.1.0 in /usr/local/lib/python3.10/site-packages (from stack-data->ipython>=7.23.1->ipykernel->ipynbname<2022.0.0,>=2021.3.2->datapane->polly-python==0.2.9-threadSafeIngestion-LIB412) (2.2.1)\n",
      "Requirement already satisfied: pure-eval in /usr/local/lib/python3.10/site-packages (from stack-data->ipython>=7.23.1->ipykernel->ipynbname<2022.0.0,>=2021.3.2->datapane->polly-python==0.2.9-threadSafeIngestion-LIB412) (0.2.2)\n",
      "Requirement already satisfied: executing>=1.2.0 in /usr/local/lib/python3.10/site-packages (from stack-data->ipython>=7.23.1->ipykernel->ipynbname<2022.0.0,>=2021.3.2->datapane->polly-python==0.2.9-threadSafeIngestion-LIB412) (1.2.0)\n",
      "Installing collected packages: networkx, jarowinkler, fastobo, rapidfuzz, pronto, appdirs, polly-validator, mixpanel, cryptography, polly-python\n",
      "  Attempting uninstall: networkx\n",
      "    Found existing installation: networkx 3.0\n",
      "    Uninstalling networkx-3.0:\n",
      "      Successfully uninstalled networkx-3.0\n"
     ]
    }
   ],
   "source": [
    "!sudo pip3 install https://elucidatainc.github.io/PublicAssets/builds/polly-python/tests/testpolly/polly_python-0.2.9_threadSafeIngestion_LIB412-py3-none-any.whl"
   ]
  },
  {
   "cell_type": "code",
   "execution_count": 1,
   "metadata": {},
   "outputs": [],
   "source": [
    "AUTH_TOKEN=(os.environ['POLLY_REFRESH_TOKEN'])\n",
    "import os\n",
    "from polly.auth import Polly\n",
    "from polly.omixatlas import OmixAtlas\n",
    "Polly.auth(AUTH_TOKEN)"
   ]
  },
  {
   "cell_type": "code",
   "execution_count": 2,
   "metadata": {},
   "outputs": [],
   "source": [
    "omixatlas = OmixAtlas()"
   ]
  },
  {
   "cell_type": "code",
   "execution_count": 3,
   "metadata": {},
   "outputs": [
    {
     "name": "stdout",
     "output_type": "stream",
     "text": [
      "/bin/bash: warning: setlocale: LC_ALL: cannot change locale (en_US.UTF-8)\n",
      "combined_metadata_jsons/\n",
      "data/\n",
      "data_2/\n",
      "metadata/\n",
      "metadata_1/\n",
      "metadata_2/\n",
      "\n"
     ]
    }
   ],
   "source": [
    "!polly files list --workspace-path \"polly://repoid_1654268055800_files_test/\" -y"
   ]
  },
  {
   "cell_type": "code",
   "execution_count": 4,
   "metadata": {},
   "outputs": [
    {
     "name": "stdout",
     "output_type": "stream",
     "text": [
      "/bin/bash: warning: setlocale: LC_ALL: cannot change locale (en_US.UTF-8)\n",
      "\u001b[32m\u001b[1mSuccess: Sync complete\u001b[22m\u001b[39m\n"
     ]
    }
   ],
   "source": [
    "!polly files sync -s \"polly://repoid_1654268055800_files_test/\" -d \"repoid_1654268055800_files_test/\" -y"
   ]
  },
  {
   "cell_type": "code",
   "execution_count": 5,
   "metadata": {},
   "outputs": [
    {
     "name": "stdout",
     "output_type": "stream",
     "text": [
      "/bin/bash: warning: setlocale: LC_ALL: cannot change locale (en_US.UTF-8)\r\n",
      "repoid_1654268055800_files_test/combined_metadata_jsons:\r\n",
      "1673443183532_metadata.json  1674018000657_metadata_385_409.json\r\n",
      "\r\n",
      "repoid_1654268055800_files_test/data:\r\n",
      "BRCA_BCCRC_Mutation_SA018.gct  BRCA_BCCRC_Mutation_SAytc.gct\r\n",
      "BRCA_BCCRC_Mutation_SA029.gct  CCLE_Mutation_C3A_LIVER.gct\r\n",
      "BRCA_BCCRC_Mutation_SA031.gct\r\n",
      "\r\n",
      "repoid_1654268055800_files_test/data_2:\r\n",
      "ACBC_MSKCC_2015_Copy_Number_AdCC10T.gct\r\n",
      "\r\n",
      "repoid_1654268055800_files_test/metadata:\r\n",
      "BRCA_BCCRC_Mutation_SA018.json  BRCA_BCCRC_Mutation_SA031.json\r\n",
      "BRCA_BCCRC_Mutation_SA029.json  BRCA_BCCRC_Mutation_SA031_dummy.json\r\n",
      "BRCA_BCCRC_Mutation_SA030.json\r\n",
      "\r\n",
      "repoid_1654268055800_files_test/metadata_1:\r\n",
      "PRAD_CPCG_2017_Mutation_TCGA-2A-A8VL-01.json\r\n",
      "\r\n",
      "repoid_1654268055800_files_test/metadata_2:\r\n",
      "ACBC_MSKCC_2015_Copy_Number_AdCC10T.json\r\n"
     ]
    }
   ],
   "source": [
    "ls repoid_1654268055800_files_test/*"
   ]
  },
  {
   "cell_type": "code",
   "execution_count": 6,
   "metadata": {},
   "outputs": [
    {
     "name": "stderr",
     "output_type": "stream",
     "text": [
      "Creating Combined Metadata File and uploading it: 100%|██████████| 1/1 [00:00<00:00, 4258.18it/s]\n",
      "Uploading data files: 100%|██████████| 1/1 [00:00<00:00,  7.20files/s]"
     ]
    },
    {
     "name": "stdout",
     "output_type": "stream",
     "text": [
      "\n",
      "                                  File Name        Message\n",
      "0                   combined_metadata.json  File Uploaded\n",
      "1  ACBC_MSKCC_2015_Copy_Number_AdCC10T.gct  File Uploaded\n"
     ]
    },
    {
     "name": "stderr",
     "output_type": "stream",
     "text": [
      "\n"
     ]
    },
    {
     "data": {
      "text/html": [
       "<div>\n",
       "<style scoped>\n",
       "    .dataframe tbody tr th:only-of-type {\n",
       "        vertical-align: middle;\n",
       "    }\n",
       "\n",
       "    .dataframe tbody tr th {\n",
       "        vertical-align: top;\n",
       "    }\n",
       "\n",
       "    .dataframe thead th {\n",
       "        text-align: right;\n",
       "    }\n",
       "</style>\n",
       "<table border=\"1\" class=\"dataframe\">\n",
       "  <thead>\n",
       "    <tr style=\"text-align: right;\">\n",
       "      <th></th>\n",
       "      <th>File Name</th>\n",
       "      <th>Message</th>\n",
       "    </tr>\n",
       "  </thead>\n",
       "  <tbody>\n",
       "    <tr>\n",
       "      <th>0</th>\n",
       "      <td>combined_metadata.json</td>\n",
       "      <td>File Uploaded</td>\n",
       "    </tr>\n",
       "    <tr>\n",
       "      <th>1</th>\n",
       "      <td>ACBC_MSKCC_2015_Copy_Number_AdCC10T.gct</td>\n",
       "      <td>File Uploaded</td>\n",
       "    </tr>\n",
       "  </tbody>\n",
       "</table>\n",
       "</div>"
      ],
      "text/plain": [
       "                                 File Name        Message\n",
       "0                   combined_metadata.json  File Uploaded\n",
       "1  ACBC_MSKCC_2015_Copy_Number_AdCC10T.gct  File Uploaded"
      ]
     },
     "execution_count": 6,
     "metadata": {},
     "output_type": "execute_result"
    }
   ],
   "source": [
    "#generic test for update and add datasets: \n",
    "metadata_folder_path = \"repoid_1654268055800_files_test/metadata_2/\"\n",
    "data_folder_path = \"repoid_1654268055800_files_test/data_2/\"\n",
    "repo_id= \"1654268055800\"\n",
    "priority = \"high\"\n",
    "destination_folder_path = \"transcriptomics_70\"\n",
    "source_folder_path = {\"metadata\":metadata_folder_path, \"data\": data_folder_path}\n",
    "omixatlas.update_datasets(repo_id, source_folder_path, destination_folder_path, priority)"
   ]
  },
  {
   "cell_type": "code",
   "execution_count": 7,
   "metadata": {},
   "outputs": [
    {
     "name": "stderr",
     "output_type": "stream",
     "text": [
      "Creating Combined Metadata File and uploading it: 100%|██████████| 1/1 [00:00<00:00, 3118.44it/s]\n",
      "Uploading data files: 100%|██████████| 1/1 [00:00<00:00,  7.33files/s]"
     ]
    },
    {
     "name": "stdout",
     "output_type": "stream",
     "text": [
      "\n",
      "                                  File Name        Message\n",
      "0                   combined_metadata.json  File Uploaded\n",
      "1  ACBC_MSKCC_2015_Copy_Number_AdCC10T.gct  File Uploaded\n"
     ]
    },
    {
     "name": "stderr",
     "output_type": "stream",
     "text": [
      "\n"
     ]
    },
    {
     "data": {
      "text/html": [
       "<div>\n",
       "<style scoped>\n",
       "    .dataframe tbody tr th:only-of-type {\n",
       "        vertical-align: middle;\n",
       "    }\n",
       "\n",
       "    .dataframe tbody tr th {\n",
       "        vertical-align: top;\n",
       "    }\n",
       "\n",
       "    .dataframe thead th {\n",
       "        text-align: right;\n",
       "    }\n",
       "</style>\n",
       "<table border=\"1\" class=\"dataframe\">\n",
       "  <thead>\n",
       "    <tr style=\"text-align: right;\">\n",
       "      <th></th>\n",
       "      <th>File Name</th>\n",
       "      <th>Message</th>\n",
       "    </tr>\n",
       "  </thead>\n",
       "  <tbody>\n",
       "    <tr>\n",
       "      <th>0</th>\n",
       "      <td>combined_metadata.json</td>\n",
       "      <td>File Uploaded</td>\n",
       "    </tr>\n",
       "    <tr>\n",
       "      <th>1</th>\n",
       "      <td>ACBC_MSKCC_2015_Copy_Number_AdCC10T.gct</td>\n",
       "      <td>File Uploaded</td>\n",
       "    </tr>\n",
       "  </tbody>\n",
       "</table>\n",
       "</div>"
      ],
      "text/plain": [
       "                                 File Name        Message\n",
       "0                   combined_metadata.json  File Uploaded\n",
       "1  ACBC_MSKCC_2015_Copy_Number_AdCC10T.gct  File Uploaded"
      ]
     },
     "execution_count": 7,
     "metadata": {},
     "output_type": "execute_result"
    }
   ],
   "source": [
    "metadata_folder_path = \"repoid_1654268055800_files_test/metadata_2/\"\n",
    "data_folder_path = \"repoid_1654268055800_files_test/data_2/\"\n",
    "repo_id= \"1654268055800\"\n",
    "priority = \"high\"\n",
    "destination_folder_path = \"transcriptomics_75\"\n",
    "source_folder_path = {\"metadata\":metadata_folder_path, \"data\": data_folder_path}\n",
    "omixatlas.add_datasets(repo_id, source_folder_path, destination_folder_path, priority)"
   ]
  },
  {
   "cell_type": "code",
   "execution_count": 23,
   "metadata": {},
   "outputs": [],
   "source": [
    "#preparing 1000 data set for updating onto the OA \n",
    "#with chunking\n",
    "def download_data_file(repo_name: str, dataset_id_list : list, folder_path: str): \n",
    "        for dataset_id in dataset_id_list: \n",
    "            start_time = time.time()\n",
    "            download_response = omixatlas.download_data(repo_name, dataset_id)\n",
    "            url = (\n",
    "                download_response.get(\"data\", {}).get(\"attributes\", {}).get(\"download_url\")\n",
    "            )\n",
    "            local_filename = url.split('/')[-1].split('?')[0]\n",
    "            local_filename = os.path.join(folder_path,local_filename)\n",
    "            # NOTE the stream=True parameter below\n",
    "            with requests.get(url, stream=True) as r:\n",
    "                r.raise_for_status()\n",
    "                with open(local_filename, 'wb') as f:\n",
    "                    for chunk in r.iter_content(chunk_size=8192): \n",
    "                        # If you have chunk encoded response uncomment if\n",
    "                        # and set chunk_size parameter to None.\n",
    "                        #if chunk: \n",
    "                        f.write(chunk)\n",
    "            end_time = time.time()\n",
    "            print(\"done with dataset id : \" +dataset_id + \" in time: \" + str(end_time - start_time))"
   ]
  },
  {
   "cell_type": "code",
   "execution_count": 13,
   "metadata": {},
   "outputs": [
    {
     "name": "stdout",
     "output_type": "stream",
     "text": [
      "/bin/bash: warning: setlocale: LC_ALL: cannot change locale (en_US.UTF-8)\r\n"
     ]
    }
   ],
   "source": [
    "!mkdir 100_datasets"
   ]
  },
  {
   "cell_type": "code",
   "execution_count": 14,
   "metadata": {},
   "outputs": [
    {
     "name": "stdout",
     "output_type": "stream",
     "text": [
      "/bin/bash: warning: setlocale: LC_ALL: cannot change locale (en_US.UTF-8)\r\n",
      "application.log\t\t\t\tinput_df.csv\r\n",
      "cohort_df.csv\t\t\t\tmeta_sample_df.csv\r\n",
      "combined_metadata.json\t\t\traw_intensity_df.csv\r\n",
      "gct_to_df.gct\t\t\t\tstandard_df.csv\r\n",
      "ingestion_thread_safe_test_cases.ipynb\r\n",
      "\r\n",
      "100_datasets:\r\n",
      "\r\n",
      "repoid_1654268055800_files_test:\r\n",
      "combined_metadata_jsons  data  data_2  metadata  metadata_1  metadata_2\r\n",
      "\r\n",
      "scripts:\r\n",
      "__init__.py\t\t       gct_to_df_converter.py\r\n",
      "cohort_based_visualisation.py  ion_count_normalisation.py\r\n",
      "df_to_gct_converter.py\r\n"
     ]
    }
   ],
   "source": [
    "!ls *"
   ]
  },
  {
   "cell_type": "code",
   "execution_count": 26,
   "metadata": {},
   "outputs": [
    {
     "name": "stdout",
     "output_type": "stream",
     "text": [
      "Query execution succeeded (time taken: 3.25 seconds, data scanned: 0.031 MB)\n",
      "Fetched 20 rows\n"
     ]
    },
    {
     "data": {
      "text/plain": [
       "['GSE80305_GPL11154',\n",
       " 'GSE80313_GPL11154',\n",
       " 'GSE80340_GPL1355',\n",
       " 'GSE80344_GPL16699',\n",
       " 'GSE80346_GPL17021',\n",
       " 'GSE8034_GPL1261',\n",
       " 'GSE80351_GPL11154',\n",
       " 'GSE80352_GPL11154',\n",
       " 'GSE80356_GPL14550',\n",
       " 'GSE80365_GPL16791',\n",
       " 'GSE80366_GPL16791',\n",
       " 'GSE80372_GPL18573',\n",
       " 'GSE80388_GPL15520',\n",
       " 'GSE8039_GPL1261',\n",
       " 'GSE803_GPL92',\n",
       " 'GSE803_GPL95',\n",
       " 'GSE80410_GPL11532',\n",
       " 'GSE80410_GPL11533',\n",
       " 'GSE80411_GPL11154',\n",
       " 'GSE80425_GPL13112']"
      ]
     },
     "execution_count": 26,
     "metadata": {},
     "output_type": "execute_result"
    }
   ],
   "source": [
    "#getting random 20 datasets\n",
    "query = \"SELECT dataset_id FROM geo.datasets LIMIT 20\"\n",
    "result = omixatlas.query_metadata(query)\n",
    "list_datasets = result[\"dataset_id\"].tolist()\n",
    "list_datasets"
   ]
  },
  {
   "cell_type": "code",
   "execution_count": 28,
   "metadata": {},
   "outputs": [
    {
     "data": {
      "text/plain": [
       "[['GSE80305_GPL11154',\n",
       "  'GSE80313_GPL11154',\n",
       "  'GSE80340_GPL1355',\n",
       "  'GSE80344_GPL16699'],\n",
       " ['GSE80346_GPL17021',\n",
       "  'GSE8034_GPL1261',\n",
       "  'GSE80351_GPL11154',\n",
       "  'GSE80352_GPL11154'],\n",
       " ['GSE80356_GPL14550',\n",
       "  'GSE80365_GPL16791',\n",
       "  'GSE80366_GPL16791',\n",
       "  'GSE80372_GPL18573'],\n",
       " ['GSE80388_GPL15520', 'GSE8039_GPL1261', 'GSE803_GPL92', 'GSE803_GPL95'],\n",
       " ['GSE80410_GPL11532',\n",
       "  'GSE80410_GPL11533',\n",
       "  'GSE80411_GPL11154',\n",
       "  'GSE80425_GPL13112']]"
      ]
     },
     "execution_count": 28,
     "metadata": {},
     "output_type": "execute_result"
    }
   ],
   "source": [
    "# distributing 20 datasets into 5 groups of 4 each\n",
    "chunks = [list_datasets[x:x+4] for x in range(0, len(list_datasets), 4)]\n",
    "chunks"
   ]
  },
  {
   "cell_type": "code",
   "execution_count": null,
   "metadata": {},
   "outputs": [],
   "source": [
    "# Downloading the data files into 5 different folders"
   ]
  },
  {
   "cell_type": "code",
   "execution_count": 29,
   "metadata": {},
   "outputs": [
    {
     "name": "stdout",
     "output_type": "stream",
     "text": [
      "done with dataset id : GSE80305_GPL11154 in time: 2.441457986831665\n",
      "done with dataset id : GSE80344_GPL16699 in time: 2.532604217529297\n",
      "done with dataset id : GSE80313_GPL11154 in time: 5.075597047805786\n",
      "done with dataset id : GSE80340_GPL1355 in time: 6.17671799659729\n",
      "done with dataset id : GSE80351_GPL11154 in time: 2.267223834991455\n",
      "done with dataset id : GSE80352_GPL11154 in time: 2.2798240184783936\n",
      "done with dataset id : GSE80346_GPL17021 in time: 2.3501710891723633\n",
      "done with dataset id : GSE8034_GPL1261 in time: 2.366334915161133\n",
      "done with dataset id : GSE80365_GPL16791 in time: 2.2956173419952393\n",
      "done with dataset id : GSE80366_GPL16791 in time: 2.2980434894561768\n",
      "done with dataset id : GSE80356_GPL14550 in time: 2.3410804271698\n",
      "done with dataset id : GSE80372_GPL18573 in time: 2.3664538860321045\n",
      "done with dataset id : GSE803_GPL92 in time: 2.2048163414001465\n",
      "done with dataset id : GSE8039_GPL1261 in time: 2.2321629524230957\n",
      "done with dataset id : GSE803_GPL95 in time: 2.235586404800415\n",
      "done with dataset id : GSE80388_GPL15520 in time: 2.3135576248168945\n",
      "done with dataset id : GSE80410_GPL11532 in time: 2.2140462398529053\n",
      "done with dataset id : GSE80410_GPL11533 in time: 2.2267253398895264\n",
      "done with dataset id : GSE80411_GPL11154 in time: 2.2914016246795654\n",
      "done with dataset id : GSE80425_GPL13112 in time: 2.5178914070129395\n",
      "15.793225049972534\n"
     ]
    }
   ],
   "source": [
    "# query = \"SELECT dataset_id FROM geo.datasets LIMIT 1000\"\n",
    "# result = omixatlas.query_metadata(query)\n",
    "# list_datasets = result[\"dataset_id\"].tolist()\n",
    "#with chunking # 1000 datasets \n",
    "import time\n",
    "from joblib import Parallel, delayed\n",
    "start = time.time()\n",
    "status_gct_1 = Parallel(n_jobs=20, require=\"sharedmem\")(\n",
    "                delayed(download_data_file)(\"geo\", [str(i)], \"/import/100_datasets/data/data_1\") for i in chunks[0]\n",
    "            )\n",
    "status_gct_2 = Parallel(n_jobs=20, require=\"sharedmem\")(\n",
    "                delayed(download_data_file)(\"geo\", [str(i)], \"/import/100_datasets/data/data_2\") for i in chunks[1]\n",
    "            )\n",
    "status_gct_3 = Parallel(n_jobs=20, require=\"sharedmem\")(\n",
    "                delayed(download_data_file)(\"geo\", [str(i)], \"/import/100_datasets/data/data_3\") for i in chunks[2]\n",
    "            )\n",
    "status_gct_4 = Parallel(n_jobs=20, require=\"sharedmem\")(\n",
    "                delayed(download_data_file)(\"geo\", [str(i)], \"/import/100_datasets/data/data_4\") for i in chunks[3]\n",
    "            )\n",
    "status_gct_5 = Parallel(n_jobs=20, require=\"sharedmem\")(\n",
    "                delayed(download_data_file)(\"geo\", [str(i)], \"/import/100_datasets/data/data_5\") for i in chunks[4]\n",
    "            )\n",
    "print(time.time()-start)\n",
    "\n"
   ]
  },
  {
   "cell_type": "code",
   "execution_count": 35,
   "metadata": {},
   "outputs": [
    {
     "name": "stdout",
     "output_type": "stream",
     "text": [
      "4\n"
     ]
    }
   ],
   "source": [
    "#renaming all files in the folder to remove the _curated suffix \n",
    "import os\n",
    "i = 0\n",
    "path=\"/import/100_datasets/data/data_5/\" # did this one by one for each of the folder.\n",
    "for filename in os.listdir(path):\n",
    "    if \"_curated\" in filename:\n",
    "        actual_name = filename.split(\"_curated\")[0]\n",
    "        extenstion=filename.split(\".\")[1]\n",
    "        final_name = path + actual_name +\".\" + extenstion\n",
    "        my_source =path + filename\n",
    "        os.rename(my_source, final_name)\n",
    "        i=i+1\n",
    "print(i)"
   ]
  },
  {
   "cell_type": "code",
   "execution_count": 40,
   "metadata": {},
   "outputs": [
    {
     "name": "stdout",
     "output_type": "stream",
     "text": [
      "The dataset level metadata for dataset = GSE80305_GPL11154 has been downloaded at : = /import/100_datasets/metadata/metadata_1/GSE80305_GPL11154.json\n",
      "The dataset level metadata for dataset = GSE80340_GPL1355 has been downloaded at : = /import/100_datasets/metadata/metadata_1/GSE80340_GPL1355.json\n",
      "The dataset level metadata for dataset = GSE80344_GPL16699 has been downloaded at : = /import/100_datasets/metadata/metadata_1/GSE80344_GPL16699.json\n",
      "The dataset level metadata for dataset = GSE80313_GPL11154 has been downloaded at : = /import/100_datasets/metadata/metadata_1/GSE80313_GPL11154.json\n",
      "The dataset level metadata for dataset = GSE80352_GPL11154 has been downloaded at : = /import/100_datasets/metadata/metadata_2/GSE80352_GPL11154.json\n",
      "The dataset level metadata for dataset = GSE80346_GPL17021 has been downloaded at : = /import/100_datasets/metadata/metadata_2/GSE80346_GPL17021.json\n",
      "The dataset level metadata for dataset = GSE80351_GPL11154 has been downloaded at : = /import/100_datasets/metadata/metadata_2/GSE80351_GPL11154.json\n",
      "The dataset level metadata for dataset = GSE8034_GPL1261 has been downloaded at : = /import/100_datasets/metadata/metadata_2/GSE8034_GPL1261.json\n",
      "The dataset level metadata for dataset = GSE80366_GPL16791 has been downloaded at : = /import/100_datasets/metadata/metadata_3/GSE80366_GPL16791.json\n",
      "The dataset level metadata for dataset = GSE80372_GPL18573 has been downloaded at : = /import/100_datasets/metadata/metadata_3/GSE80372_GPL18573.json\n",
      "The dataset level metadata for dataset = GSE80365_GPL16791 has been downloaded at : = /import/100_datasets/metadata/metadata_3/GSE80365_GPL16791.json\n",
      "The dataset level metadata for dataset = GSE80356_GPL14550 has been downloaded at : = /import/100_datasets/metadata/metadata_3/GSE80356_GPL14550.json\n",
      "The dataset level metadata for dataset = GSE80388_GPL15520 has been downloaded at : = /import/100_datasets/metadata/metadata_4/GSE80388_GPL15520.json\n",
      "The dataset level metadata for dataset = GSE803_GPL95 has been downloaded at : = /import/100_datasets/metadata/metadata_4/GSE803_GPL95.json\n",
      "The dataset level metadata for dataset = GSE803_GPL92 has been downloaded at : = /import/100_datasets/metadata/metadata_4/GSE803_GPL92.json\n",
      "The dataset level metadata for dataset = GSE8039_GPL1261 has been downloaded at : = /import/100_datasets/metadata/metadata_4/GSE8039_GPL1261.json\n",
      "The dataset level metadata for dataset = GSE80411_GPL11154 has been downloaded at : = /import/100_datasets/metadata/metadata_5/GSE80411_GPL11154.json\n",
      "The dataset level metadata for dataset = GSE80410_GPL11533 has been downloaded at : = /import/100_datasets/metadata/metadata_5/GSE80410_GPL11533.json\n",
      "The dataset level metadata for dataset = GSE80425_GPL13112 has been downloaded at : = /import/100_datasets/metadata/metadata_5/GSE80425_GPL13112.json\n",
      "The dataset level metadata for dataset = GSE80410_GPL11532 has been downloaded at : = /import/100_datasets/metadata/metadata_5/GSE80410_GPL11532.json\n",
      "9.633331298828125\n"
     ]
    }
   ],
   "source": [
    "#downloading metdata into 5 different folders for the datasets downloaded\n",
    "import time\n",
    "from joblib import Parallel, delayed\n",
    "start = time.time()\n",
    "status_gct_1 = Parallel(n_jobs=20, require=\"sharedmem\")(\n",
    "                delayed(omixatlas.download_metadata)(\"geo\", str(i), \"/import/100_datasets/metadata/metadata_1\") for i in chunks[0]\n",
    "            )\n",
    "status_gct_2 = Parallel(n_jobs=20, require=\"sharedmem\")(\n",
    "                delayed(omixatlas.download_metadata)(\"geo\", str(i), \"/import/100_datasets/metadata/metadata_2\") for i in chunks[1]\n",
    "            )\n",
    "status_gct_3 = Parallel(n_jobs=20, require=\"sharedmem\")(\n",
    "                delayed(omixatlas.download_metadata)(\"geo\", str(i), \"/import/100_datasets/metadata/metadata_3\") for i in chunks[2]\n",
    "            )\n",
    "status_gct_4 = Parallel(n_jobs=20, require=\"sharedmem\")(\n",
    "                delayed(omixatlas.download_metadata)(\"geo\", str(i), \"/import/100_datasets/metadata/metadata_4\") for i in chunks[3]\n",
    "            )\n",
    "status_gct_5 = Parallel(n_jobs=20, require=\"sharedmem\")(\n",
    "                delayed(omixatlas.download_metadata)(\"geo\", str(i), \"/import/100_datasets/metadata/metadata_5\") for i in chunks[4]\n",
    "            )\n",
    "print(time.time()-start)"
   ]
  },
  {
   "cell_type": "markdown",
   "metadata": {},
   "source": [
    "# we have 5 folders with 4 files each \n",
    "\n",
    "## data folders\n",
    "polly@jupyter-1675419729677588-2dfe906981feaa4490a21e5359dcd6513a-2d9:/import/100_datasets$ ls *\n",
    "data:\n",
    "data_1  data_2  data_3  data_4  data_5\n",
    "\n",
    "metadata:\n",
    "metadata_1  metadata_2  metadata_3  metadata_4  metadata_5\n",
    "polly@jupyter-1675419729677588-2dfe906981feaa4490a21e5359dcd6513a-2d9:/import/100_datasets$ ls data/*\n",
    "data/data_1:\n",
    "GSE80305_GPL11154.gct  GSE80313_GPL11154.gct  GSE80340_GPL1355.gct  GSE80344_GPL16699.gct\n",
    "\n",
    "data/data_2:\n",
    "GSE80346_GPL17021.gct  GSE8034_GPL1261.gct  GSE80351_GPL11154.gct  GSE80352_GPL11154.gct\n",
    "\n",
    "data/data_3:\n",
    "GSE80356_GPL14550.gct  GSE80365_GPL16791.gct  GSE80366_GPL16791.gct  GSE80372_GPL18573.gct\n",
    "\n",
    "data/data_4:\n",
    "GSE80388_GPL15520.gct  GSE8039_GPL1261.gct  GSE803_GPL92.gct  GSE803_GPL95.gct\n",
    "\n",
    "data/data_5:\n",
    "GSE80410_GPL11532.gct  GSE80410_GPL11533.gct  GSE80411_GPL11154.gct  GSE80425_GPL13112.gct\n",
    "\n",
    "### metdata folders\n",
    "polly@jupyter-1675419729677588-2dfe906981feaa4490a21e5359dcd6513a-2d9:/import/100_datasets$ ls metadata/*\n",
    "metadata/metadata_1:\n",
    "GSE80305_GPL11154.json  GSE80313_GPL11154.json  GSE80340_GPL1355.json  GSE80344_GPL16699.json\n",
    "\n",
    "metadata/metadata_2:\n",
    "GSE80346_GPL17021.json  GSE8034_GPL1261.json  GSE80351_GPL11154.json  GSE80352_GPL11154.json\n",
    "\n",
    "metadata/metadata_3:\n",
    "GSE80356_GPL14550.json  GSE80365_GPL16791.json  GSE80366_GPL16791.json  GSE80372_GPL18573.json\n",
    "\n",
    "metadata/metadata_4:\n",
    "GSE80388_GPL15520.json  GSE8039_GPL1261.json  GSE803_GPL92.json  GSE803_GPL95.json\n",
    "\n",
    "metadata/metadata_5:\n",
    "GSE80410_GPL11532.json  GSE80410_GPL11533.json  GSE80411_GPL11154.json  GSE80425_GPL13112.json\n",
    "polly@jupyter-1675419729677588-2dfe906981feaa4490a21e5359dcd6513a-2d9:/import/100_datasets$"
   ]
  },
  {
   "cell_type": "markdown",
   "metadata": {},
   "source": [
    "### parelly using add data sets with multiple threads. the combined_metadata.jsons are beibfg parallely uploaded. "
   ]
  },
  {
   "cell_type": "code",
   "execution_count": 43,
   "metadata": {},
   "outputs": [
    {
     "name": "stderr",
     "output_type": "stream",
     "text": [
      "Creating Combined Metadata File and uploading it: 100%|██████████| 4/4 [00:00<00:00, 5966.29it/s]\n",
      "Uploading data files: 100%|██████████| 4/4 [00:00<00:00,  4.01files/s]\n"
     ]
    },
    {
     "name": "stdout",
     "output_type": "stream",
     "text": [
      "\n",
      "                 File Name        Message\n",
      "0  combined_metadata.json  File Uploaded\n",
      "1     GSE8034_GPL1261.gct  File Uploaded\n",
      "2   GSE80351_GPL11154.gct  File Uploaded\n",
      "3   GSE80352_GPL11154.gct  File Uploaded\n",
      "4   GSE80346_GPL17021.gct  File Uploaded\n"
     ]
    },
    {
     "name": "stderr",
     "output_type": "stream",
     "text": [
      "Creating Combined Metadata File and uploading it: 100%|██████████| 4/4 [00:00<00:00, 5996.15it/s]\n",
      "Creating Combined Metadata File and uploading it: 100%|██████████| 4/4 [00:00<00:00, 1137.52it/s]\n",
      "Uploading data files: 100%|██████████| 4/4 [00:00<00:00,  4.80files/s]\n"
     ]
    },
    {
     "name": "stdout",
     "output_type": "stream",
     "text": [
      "\n",
      "                 File Name        Message\n",
      "0  combined_metadata.json  File Uploaded\n",
      "1     GSE8039_GPL1261.gct  File Uploaded\n",
      "2        GSE803_GPL95.gct  File Uploaded\n",
      "3   GSE80388_GPL15520.gct  File Uploaded\n",
      "4        GSE803_GPL92.gct  File Uploaded\n"
     ]
    },
    {
     "name": "stderr",
     "output_type": "stream",
     "text": [
      "Creating Combined Metadata File and uploading it: 100%|██████████| 4/4 [00:00<00:00, 5277.51it/s]\n",
      "Creating Combined Metadata File and uploading it: 100%|██████████| 4/4 [00:00<00:00, 6089.73it/s]\n",
      "Uploading data files:   0%|          | 0/4 [00:00<?, ?files/s]\n",
      "Uploading data files:  25%|██▌       | 1/4 [00:00<00:00,  4.92files/s]\n",
      "Uploading data files: 100%|██████████| 4/4 [00:00<00:00,  6.31files/s]\u001b[A\n",
      "\n",
      "Uploading data files:  50%|█████     | 2/4 [00:00<00:00,  3.67files/s]\u001b[A"
     ]
    },
    {
     "name": "stdout",
     "output_type": "stream",
     "text": [
      "\n",
      "                 File Name        Message\n",
      "0  combined_metadata.json  File Uploaded\n",
      "1   GSE80410_GPL11533.gct  File Uploaded\n",
      "2   GSE80410_GPL11532.gct  File Uploaded\n",
      "3   GSE80411_GPL11154.gct  File Uploaded\n",
      "4   GSE80425_GPL13112.gct  File Uploaded\n"
     ]
    },
    {
     "name": "stderr",
     "output_type": "stream",
     "text": [
      "\n",
      "Uploading data files:  75%|███████▌  | 3/4 [00:00<00:00,  4.41files/s]\u001b[A\n",
      "Uploading data files: 100%|██████████| 4/4 [00:00<00:00,  4.42files/s]\u001b[A\n"
     ]
    },
    {
     "name": "stdout",
     "output_type": "stream",
     "text": [
      "\n",
      "                 File Name        Message\n",
      "0  combined_metadata.json  File Uploaded\n",
      "1   GSE80305_GPL11154.gct  File Uploaded\n",
      "2   GSE80344_GPL16699.gct  File Uploaded\n",
      "3   GSE80313_GPL11154.gct  File Uploaded\n",
      "4    GSE80340_GPL1355.gct  File Uploaded\n"
     ]
    },
    {
     "ename": "S3UploadFailedError",
     "evalue": "Failed to upload /import/combined_metadata.json to discover-test-datalake-v1/ingestion_test_1/data/.metadata/1675426058745_metadata.json: An error occurred (RequestTimeout) when calling the PutObject operation (reached max retries: 4): Your socket connection to the server was not read from or written to within the timeout period. Idle connections will be closed.",
     "output_type": "error",
     "traceback": [
      "\u001b[0;31m---------------------------------------------------------------------------\u001b[0m",
      "\u001b[0;31mClientError\u001b[0m                               Traceback (most recent call last)",
      "File \u001b[0;32m/usr/local/lib/python3.10/site-packages/boto3/s3/transfer.py:288\u001b[0m, in \u001b[0;36mS3Transfer.upload_file\u001b[0;34m(self, filename, bucket, key, callback, extra_args)\u001b[0m\n\u001b[1;32m    287\u001b[0m \u001b[38;5;28;01mtry\u001b[39;00m:\n\u001b[0;32m--> 288\u001b[0m     \u001b[43mfuture\u001b[49m\u001b[38;5;241;43m.\u001b[39;49m\u001b[43mresult\u001b[49m\u001b[43m(\u001b[49m\u001b[43m)\u001b[49m\n\u001b[1;32m    289\u001b[0m \u001b[38;5;66;03m# If a client error was raised, add the backwards compatibility layer\u001b[39;00m\n\u001b[1;32m    290\u001b[0m \u001b[38;5;66;03m# that raises a S3UploadFailedError. These specific errors were only\u001b[39;00m\n\u001b[1;32m    291\u001b[0m \u001b[38;5;66;03m# ever thrown for upload_parts but now can be thrown for any related\u001b[39;00m\n\u001b[1;32m    292\u001b[0m \u001b[38;5;66;03m# client error.\u001b[39;00m\n",
      "File \u001b[0;32m/usr/local/lib/python3.10/site-packages/s3transfer/futures.py:103\u001b[0m, in \u001b[0;36mTransferFuture.result\u001b[0;34m(self)\u001b[0m\n\u001b[1;32m     99\u001b[0m \u001b[38;5;28;01mtry\u001b[39;00m:\n\u001b[1;32m    100\u001b[0m     \u001b[38;5;66;03m# Usually the result() method blocks until the transfer is done,\u001b[39;00m\n\u001b[1;32m    101\u001b[0m     \u001b[38;5;66;03m# however if a KeyboardInterrupt is raised we want want to exit\u001b[39;00m\n\u001b[1;32m    102\u001b[0m     \u001b[38;5;66;03m# out of this and propagate the exception.\u001b[39;00m\n\u001b[0;32m--> 103\u001b[0m     \u001b[38;5;28;01mreturn\u001b[39;00m \u001b[38;5;28;43mself\u001b[39;49m\u001b[38;5;241;43m.\u001b[39;49m\u001b[43m_coordinator\u001b[49m\u001b[38;5;241;43m.\u001b[39;49m\u001b[43mresult\u001b[49m\u001b[43m(\u001b[49m\u001b[43m)\u001b[49m\n\u001b[1;32m    104\u001b[0m \u001b[38;5;28;01mexcept\u001b[39;00m \u001b[38;5;167;01mKeyboardInterrupt\u001b[39;00m \u001b[38;5;28;01mas\u001b[39;00m e:\n",
      "File \u001b[0;32m/usr/local/lib/python3.10/site-packages/s3transfer/futures.py:266\u001b[0m, in \u001b[0;36mTransferCoordinator.result\u001b[0;34m(self)\u001b[0m\n\u001b[1;32m    265\u001b[0m \u001b[38;5;28;01mif\u001b[39;00m \u001b[38;5;28mself\u001b[39m\u001b[38;5;241m.\u001b[39m_exception:\n\u001b[0;32m--> 266\u001b[0m     \u001b[38;5;28;01mraise\u001b[39;00m \u001b[38;5;28mself\u001b[39m\u001b[38;5;241m.\u001b[39m_exception\n\u001b[1;32m    267\u001b[0m \u001b[38;5;28;01mreturn\u001b[39;00m \u001b[38;5;28mself\u001b[39m\u001b[38;5;241m.\u001b[39m_result\n",
      "File \u001b[0;32m/usr/local/lib/python3.10/site-packages/s3transfer/tasks.py:139\u001b[0m, in \u001b[0;36mTask.__call__\u001b[0;34m(self)\u001b[0m\n\u001b[1;32m    138\u001b[0m     \u001b[38;5;28;01mif\u001b[39;00m \u001b[38;5;129;01mnot\u001b[39;00m \u001b[38;5;28mself\u001b[39m\u001b[38;5;241m.\u001b[39m_transfer_coordinator\u001b[38;5;241m.\u001b[39mdone():\n\u001b[0;32m--> 139\u001b[0m         \u001b[38;5;28;01mreturn\u001b[39;00m \u001b[38;5;28;43mself\u001b[39;49m\u001b[38;5;241;43m.\u001b[39;49m\u001b[43m_execute_main\u001b[49m\u001b[43m(\u001b[49m\u001b[43mkwargs\u001b[49m\u001b[43m)\u001b[49m\n\u001b[1;32m    140\u001b[0m \u001b[38;5;28;01mexcept\u001b[39;00m \u001b[38;5;167;01mException\u001b[39;00m \u001b[38;5;28;01mas\u001b[39;00m e:\n",
      "File \u001b[0;32m/usr/local/lib/python3.10/site-packages/s3transfer/tasks.py:162\u001b[0m, in \u001b[0;36mTask._execute_main\u001b[0;34m(self, kwargs)\u001b[0m\n\u001b[1;32m    160\u001b[0m logger\u001b[38;5;241m.\u001b[39mdebug(\u001b[38;5;124mf\u001b[39m\u001b[38;5;124m\"\u001b[39m\u001b[38;5;124mExecuting task \u001b[39m\u001b[38;5;132;01m{\u001b[39;00m\u001b[38;5;28mself\u001b[39m\u001b[38;5;132;01m}\u001b[39;00m\u001b[38;5;124m with kwargs \u001b[39m\u001b[38;5;132;01m{\u001b[39;00mkwargs_to_display\u001b[38;5;132;01m}\u001b[39;00m\u001b[38;5;124m\"\u001b[39m)\n\u001b[0;32m--> 162\u001b[0m return_value \u001b[38;5;241m=\u001b[39m \u001b[38;5;28;43mself\u001b[39;49m\u001b[38;5;241;43m.\u001b[39;49m\u001b[43m_main\u001b[49m\u001b[43m(\u001b[49m\u001b[38;5;241;43m*\u001b[39;49m\u001b[38;5;241;43m*\u001b[39;49m\u001b[43mkwargs\u001b[49m\u001b[43m)\u001b[49m\n\u001b[1;32m    163\u001b[0m \u001b[38;5;66;03m# If the task is the final task, then set the TransferFuture's\u001b[39;00m\n\u001b[1;32m    164\u001b[0m \u001b[38;5;66;03m# value to the return value from main().\u001b[39;00m\n",
      "File \u001b[0;32m/usr/local/lib/python3.10/site-packages/s3transfer/upload.py:758\u001b[0m, in \u001b[0;36mPutObjectTask._main\u001b[0;34m(self, client, fileobj, bucket, key, extra_args)\u001b[0m\n\u001b[1;32m    757\u001b[0m \u001b[38;5;28;01mwith\u001b[39;00m fileobj \u001b[38;5;28;01mas\u001b[39;00m body:\n\u001b[0;32m--> 758\u001b[0m     \u001b[43mclient\u001b[49m\u001b[38;5;241;43m.\u001b[39;49m\u001b[43mput_object\u001b[49m\u001b[43m(\u001b[49m\u001b[43mBucket\u001b[49m\u001b[38;5;241;43m=\u001b[39;49m\u001b[43mbucket\u001b[49m\u001b[43m,\u001b[49m\u001b[43m \u001b[49m\u001b[43mKey\u001b[49m\u001b[38;5;241;43m=\u001b[39;49m\u001b[43mkey\u001b[49m\u001b[43m,\u001b[49m\u001b[43m \u001b[49m\u001b[43mBody\u001b[49m\u001b[38;5;241;43m=\u001b[39;49m\u001b[43mbody\u001b[49m\u001b[43m,\u001b[49m\u001b[43m \u001b[49m\u001b[38;5;241;43m*\u001b[39;49m\u001b[38;5;241;43m*\u001b[39;49m\u001b[43mextra_args\u001b[49m\u001b[43m)\u001b[49m\n",
      "File \u001b[0;32m/usr/local/lib/python3.10/site-packages/botocore/client.py:395\u001b[0m, in \u001b[0;36mClientCreator._create_api_method.<locals>._api_call\u001b[0;34m(self, *args, **kwargs)\u001b[0m\n\u001b[1;32m    394\u001b[0m \u001b[38;5;66;03m# The \"self\" in this scope is referring to the BaseClient.\u001b[39;00m\n\u001b[0;32m--> 395\u001b[0m \u001b[38;5;28;01mreturn\u001b[39;00m \u001b[38;5;28;43mself\u001b[39;49m\u001b[38;5;241;43m.\u001b[39;49m\u001b[43m_make_api_call\u001b[49m\u001b[43m(\u001b[49m\u001b[43moperation_name\u001b[49m\u001b[43m,\u001b[49m\u001b[43m \u001b[49m\u001b[43mkwargs\u001b[49m\u001b[43m)\u001b[49m\n",
      "File \u001b[0;32m/usr/local/lib/python3.10/site-packages/botocore/client.py:725\u001b[0m, in \u001b[0;36mBaseClient._make_api_call\u001b[0;34m(self, operation_name, api_params)\u001b[0m\n\u001b[1;32m    724\u001b[0m     error_class \u001b[38;5;241m=\u001b[39m \u001b[38;5;28mself\u001b[39m\u001b[38;5;241m.\u001b[39mexceptions\u001b[38;5;241m.\u001b[39mfrom_code(error_code)\n\u001b[0;32m--> 725\u001b[0m     \u001b[38;5;28;01mraise\u001b[39;00m error_class(parsed_response, operation_name)\n\u001b[1;32m    726\u001b[0m \u001b[38;5;28;01melse\u001b[39;00m:\n",
      "\u001b[0;31mClientError\u001b[0m: An error occurred (RequestTimeout) when calling the PutObject operation (reached max retries: 4): Your socket connection to the server was not read from or written to within the timeout period. Idle connections will be closed.",
      "\nDuring handling of the above exception, another exception occurred:\n",
      "\u001b[0;31mS3UploadFailedError\u001b[0m                       Traceback (most recent call last)",
      "Input \u001b[0;32mIn [43]\u001b[0m, in \u001b[0;36m<cell line: 15>\u001b[0;34m()\u001b[0m\n\u001b[1;32m     13\u001b[0m numbers \u001b[38;5;241m=\u001b[39m [\u001b[38;5;124m\"\u001b[39m\u001b[38;5;124m1\u001b[39m\u001b[38;5;124m\"\u001b[39m,\u001b[38;5;124m\"\u001b[39m\u001b[38;5;124m2\u001b[39m\u001b[38;5;124m\"\u001b[39m,\u001b[38;5;124m\"\u001b[39m\u001b[38;5;124m3\u001b[39m\u001b[38;5;124m\"\u001b[39m,\u001b[38;5;124m\"\u001b[39m\u001b[38;5;124m4\u001b[39m\u001b[38;5;124m\"\u001b[39m,\u001b[38;5;124m\"\u001b[39m\u001b[38;5;124m5\u001b[39m\u001b[38;5;124m\"\u001b[39m]\n\u001b[1;32m     14\u001b[0m start \u001b[38;5;241m=\u001b[39m time\u001b[38;5;241m.\u001b[39mtime()\n\u001b[0;32m---> 15\u001b[0m status_gct \u001b[38;5;241m=\u001b[39m \u001b[43mParallel\u001b[49m\u001b[43m(\u001b[49m\u001b[43mn_jobs\u001b[49m\u001b[38;5;241;43m=\u001b[39;49m\u001b[38;5;241;43m20\u001b[39;49m\u001b[43m,\u001b[49m\u001b[43m \u001b[49m\u001b[43mrequire\u001b[49m\u001b[38;5;241;43m=\u001b[39;49m\u001b[38;5;124;43m\"\u001b[39;49m\u001b[38;5;124;43msharedmem\u001b[39;49m\u001b[38;5;124;43m\"\u001b[39;49m\u001b[43m)\u001b[49m\u001b[43m(\u001b[49m\n\u001b[1;32m     16\u001b[0m \u001b[43m                \u001b[49m\u001b[43mdelayed\u001b[49m\u001b[43m(\u001b[49m\u001b[43mprep_run_add_dataset_function\u001b[49m\u001b[43m)\u001b[49m\u001b[43m(\u001b[49m\u001b[43mi\u001b[49m\u001b[43m)\u001b[49m\u001b[43m \u001b[49m\u001b[38;5;28;43;01mfor\u001b[39;49;00m\u001b[43m \u001b[49m\u001b[43mi\u001b[49m\u001b[43m \u001b[49m\u001b[38;5;129;43;01min\u001b[39;49;00m\u001b[43m \u001b[49m\u001b[43mnumbers\u001b[49m\n\u001b[1;32m     17\u001b[0m \u001b[43m            \u001b[49m\u001b[43m)\u001b[49m\n\u001b[1;32m     18\u001b[0m \u001b[38;5;28mprint\u001b[39m(time\u001b[38;5;241m.\u001b[39mtime()\u001b[38;5;241m-\u001b[39mstart)\n",
      "File \u001b[0;32m/usr/local/lib/python3.10/site-packages/joblib/parallel.py:1098\u001b[0m, in \u001b[0;36mParallel.__call__\u001b[0;34m(self, iterable)\u001b[0m\n\u001b[1;32m   1095\u001b[0m     \u001b[38;5;28mself\u001b[39m\u001b[38;5;241m.\u001b[39m_iterating \u001b[38;5;241m=\u001b[39m \u001b[38;5;28;01mFalse\u001b[39;00m\n\u001b[1;32m   1097\u001b[0m \u001b[38;5;28;01mwith\u001b[39;00m \u001b[38;5;28mself\u001b[39m\u001b[38;5;241m.\u001b[39m_backend\u001b[38;5;241m.\u001b[39mretrieval_context():\n\u001b[0;32m-> 1098\u001b[0m     \u001b[38;5;28;43mself\u001b[39;49m\u001b[38;5;241;43m.\u001b[39;49m\u001b[43mretrieve\u001b[49m\u001b[43m(\u001b[49m\u001b[43m)\u001b[49m\n\u001b[1;32m   1099\u001b[0m \u001b[38;5;66;03m# Make sure that we get a last message telling us we are done\u001b[39;00m\n\u001b[1;32m   1100\u001b[0m elapsed_time \u001b[38;5;241m=\u001b[39m time\u001b[38;5;241m.\u001b[39mtime() \u001b[38;5;241m-\u001b[39m \u001b[38;5;28mself\u001b[39m\u001b[38;5;241m.\u001b[39m_start_time\n",
      "File \u001b[0;32m/usr/local/lib/python3.10/site-packages/joblib/parallel.py:975\u001b[0m, in \u001b[0;36mParallel.retrieve\u001b[0;34m(self)\u001b[0m\n\u001b[1;32m    973\u001b[0m \u001b[38;5;28;01mtry\u001b[39;00m:\n\u001b[1;32m    974\u001b[0m     \u001b[38;5;28;01mif\u001b[39;00m \u001b[38;5;28mgetattr\u001b[39m(\u001b[38;5;28mself\u001b[39m\u001b[38;5;241m.\u001b[39m_backend, \u001b[38;5;124m'\u001b[39m\u001b[38;5;124msupports_timeout\u001b[39m\u001b[38;5;124m'\u001b[39m, \u001b[38;5;28;01mFalse\u001b[39;00m):\n\u001b[0;32m--> 975\u001b[0m         \u001b[38;5;28mself\u001b[39m\u001b[38;5;241m.\u001b[39m_output\u001b[38;5;241m.\u001b[39mextend(\u001b[43mjob\u001b[49m\u001b[38;5;241;43m.\u001b[39;49m\u001b[43mget\u001b[49m\u001b[43m(\u001b[49m\u001b[43mtimeout\u001b[49m\u001b[38;5;241;43m=\u001b[39;49m\u001b[38;5;28;43mself\u001b[39;49m\u001b[38;5;241;43m.\u001b[39;49m\u001b[43mtimeout\u001b[49m\u001b[43m)\u001b[49m)\n\u001b[1;32m    976\u001b[0m     \u001b[38;5;28;01melse\u001b[39;00m:\n\u001b[1;32m    977\u001b[0m         \u001b[38;5;28mself\u001b[39m\u001b[38;5;241m.\u001b[39m_output\u001b[38;5;241m.\u001b[39mextend(job\u001b[38;5;241m.\u001b[39mget())\n",
      "File \u001b[0;32m/usr/local/lib/python3.10/multiprocessing/pool.py:771\u001b[0m, in \u001b[0;36mApplyResult.get\u001b[0;34m(self, timeout)\u001b[0m\n\u001b[1;32m    769\u001b[0m     \u001b[38;5;28;01mreturn\u001b[39;00m \u001b[38;5;28mself\u001b[39m\u001b[38;5;241m.\u001b[39m_value\n\u001b[1;32m    770\u001b[0m \u001b[38;5;28;01melse\u001b[39;00m:\n\u001b[0;32m--> 771\u001b[0m     \u001b[38;5;28;01mraise\u001b[39;00m \u001b[38;5;28mself\u001b[39m\u001b[38;5;241m.\u001b[39m_value\n",
      "File \u001b[0;32m/usr/local/lib/python3.10/multiprocessing/pool.py:125\u001b[0m, in \u001b[0;36mworker\u001b[0;34m(inqueue, outqueue, initializer, initargs, maxtasks, wrap_exception)\u001b[0m\n\u001b[1;32m    123\u001b[0m job, i, func, args, kwds \u001b[38;5;241m=\u001b[39m task\n\u001b[1;32m    124\u001b[0m \u001b[38;5;28;01mtry\u001b[39;00m:\n\u001b[0;32m--> 125\u001b[0m     result \u001b[38;5;241m=\u001b[39m (\u001b[38;5;28;01mTrue\u001b[39;00m, \u001b[43mfunc\u001b[49m\u001b[43m(\u001b[49m\u001b[38;5;241;43m*\u001b[39;49m\u001b[43margs\u001b[49m\u001b[43m,\u001b[49m\u001b[43m \u001b[49m\u001b[38;5;241;43m*\u001b[39;49m\u001b[38;5;241;43m*\u001b[39;49m\u001b[43mkwds\u001b[49m\u001b[43m)\u001b[49m)\n\u001b[1;32m    126\u001b[0m \u001b[38;5;28;01mexcept\u001b[39;00m \u001b[38;5;167;01mException\u001b[39;00m \u001b[38;5;28;01mas\u001b[39;00m e:\n\u001b[1;32m    127\u001b[0m     \u001b[38;5;28;01mif\u001b[39;00m wrap_exception \u001b[38;5;129;01mand\u001b[39;00m func \u001b[38;5;129;01mis\u001b[39;00m \u001b[38;5;129;01mnot\u001b[39;00m _helper_reraises_exception:\n",
      "File \u001b[0;32m/usr/local/lib/python3.10/site-packages/joblib/_parallel_backends.py:620\u001b[0m, in \u001b[0;36mSafeFunction.__call__\u001b[0;34m(self, *args, **kwargs)\u001b[0m\n\u001b[1;32m    618\u001b[0m \u001b[38;5;28;01mdef\u001b[39;00m \u001b[38;5;21m__call__\u001b[39m(\u001b[38;5;28mself\u001b[39m, \u001b[38;5;241m*\u001b[39margs, \u001b[38;5;241m*\u001b[39m\u001b[38;5;241m*\u001b[39mkwargs):\n\u001b[1;32m    619\u001b[0m     \u001b[38;5;28;01mtry\u001b[39;00m:\n\u001b[0;32m--> 620\u001b[0m         \u001b[38;5;28;01mreturn\u001b[39;00m \u001b[38;5;28;43mself\u001b[39;49m\u001b[38;5;241;43m.\u001b[39;49m\u001b[43mfunc\u001b[49m\u001b[43m(\u001b[49m\u001b[38;5;241;43m*\u001b[39;49m\u001b[43margs\u001b[49m\u001b[43m,\u001b[49m\u001b[43m \u001b[49m\u001b[38;5;241;43m*\u001b[39;49m\u001b[38;5;241;43m*\u001b[39;49m\u001b[43mkwargs\u001b[49m\u001b[43m)\u001b[49m\n\u001b[1;32m    621\u001b[0m     \u001b[38;5;28;01mexcept\u001b[39;00m \u001b[38;5;167;01mKeyboardInterrupt\u001b[39;00m \u001b[38;5;28;01mas\u001b[39;00m e:\n\u001b[1;32m    622\u001b[0m         \u001b[38;5;66;03m# We capture the KeyboardInterrupt and reraise it as\u001b[39;00m\n\u001b[1;32m    623\u001b[0m         \u001b[38;5;66;03m# something different, as multiprocessing does not\u001b[39;00m\n\u001b[1;32m    624\u001b[0m         \u001b[38;5;66;03m# interrupt processing for a KeyboardInterrupt\u001b[39;00m\n\u001b[1;32m    625\u001b[0m         \u001b[38;5;28;01mraise\u001b[39;00m WorkerInterrupt() \u001b[38;5;28;01mfrom\u001b[39;00m \u001b[38;5;21;01me\u001b[39;00m\n",
      "File \u001b[0;32m/usr/local/lib/python3.10/site-packages/joblib/parallel.py:288\u001b[0m, in \u001b[0;36mBatchedCalls.__call__\u001b[0;34m(self)\u001b[0m\n\u001b[1;32m    284\u001b[0m \u001b[38;5;28;01mdef\u001b[39;00m \u001b[38;5;21m__call__\u001b[39m(\u001b[38;5;28mself\u001b[39m):\n\u001b[1;32m    285\u001b[0m     \u001b[38;5;66;03m# Set the default nested backend to self._backend but do not set the\u001b[39;00m\n\u001b[1;32m    286\u001b[0m     \u001b[38;5;66;03m# change the default number of processes to -1\u001b[39;00m\n\u001b[1;32m    287\u001b[0m     \u001b[38;5;28;01mwith\u001b[39;00m parallel_backend(\u001b[38;5;28mself\u001b[39m\u001b[38;5;241m.\u001b[39m_backend, n_jobs\u001b[38;5;241m=\u001b[39m\u001b[38;5;28mself\u001b[39m\u001b[38;5;241m.\u001b[39m_n_jobs):\n\u001b[0;32m--> 288\u001b[0m         \u001b[38;5;28;01mreturn\u001b[39;00m [func(\u001b[38;5;241m*\u001b[39margs, \u001b[38;5;241m*\u001b[39m\u001b[38;5;241m*\u001b[39mkwargs)\n\u001b[1;32m    289\u001b[0m                 \u001b[38;5;28;01mfor\u001b[39;00m func, args, kwargs \u001b[38;5;129;01min\u001b[39;00m \u001b[38;5;28mself\u001b[39m\u001b[38;5;241m.\u001b[39mitems]\n",
      "File \u001b[0;32m/usr/local/lib/python3.10/site-packages/joblib/parallel.py:288\u001b[0m, in \u001b[0;36m<listcomp>\u001b[0;34m(.0)\u001b[0m\n\u001b[1;32m    284\u001b[0m \u001b[38;5;28;01mdef\u001b[39;00m \u001b[38;5;21m__call__\u001b[39m(\u001b[38;5;28mself\u001b[39m):\n\u001b[1;32m    285\u001b[0m     \u001b[38;5;66;03m# Set the default nested backend to self._backend but do not set the\u001b[39;00m\n\u001b[1;32m    286\u001b[0m     \u001b[38;5;66;03m# change the default number of processes to -1\u001b[39;00m\n\u001b[1;32m    287\u001b[0m     \u001b[38;5;28;01mwith\u001b[39;00m parallel_backend(\u001b[38;5;28mself\u001b[39m\u001b[38;5;241m.\u001b[39m_backend, n_jobs\u001b[38;5;241m=\u001b[39m\u001b[38;5;28mself\u001b[39m\u001b[38;5;241m.\u001b[39m_n_jobs):\n\u001b[0;32m--> 288\u001b[0m         \u001b[38;5;28;01mreturn\u001b[39;00m [\u001b[43mfunc\u001b[49m\u001b[43m(\u001b[49m\u001b[38;5;241;43m*\u001b[39;49m\u001b[43margs\u001b[49m\u001b[43m,\u001b[49m\u001b[43m \u001b[49m\u001b[38;5;241;43m*\u001b[39;49m\u001b[38;5;241;43m*\u001b[39;49m\u001b[43mkwargs\u001b[49m\u001b[43m)\u001b[49m\n\u001b[1;32m    289\u001b[0m                 \u001b[38;5;28;01mfor\u001b[39;00m func, args, kwargs \u001b[38;5;129;01min\u001b[39;00m \u001b[38;5;28mself\u001b[39m\u001b[38;5;241m.\u001b[39mitems]\n",
      "Input \u001b[0;32mIn [43]\u001b[0m, in \u001b[0;36mprep_run_add_dataset_function\u001b[0;34m(number)\u001b[0m\n\u001b[1;32m      7\u001b[0m priority \u001b[38;5;241m=\u001b[39m \u001b[38;5;124m\"\u001b[39m\u001b[38;5;124mhigh\u001b[39m\u001b[38;5;124m\"\u001b[39m\n\u001b[1;32m      8\u001b[0m destination_folder_path \u001b[38;5;241m=\u001b[39m \u001b[38;5;124m\"\u001b[39m\u001b[38;5;124mbulk_multithread_test\u001b[39m\u001b[38;5;124m\"\u001b[39m\n\u001b[0;32m----> 9\u001b[0m \u001b[43momixatlas\u001b[49m\u001b[38;5;241;43m.\u001b[39;49m\u001b[43madd_datasets\u001b[49m\u001b[43m(\u001b[49m\u001b[43mrepo_id\u001b[49m\u001b[43m,\u001b[49m\u001b[43m \u001b[49m\u001b[43msource_folder_path\u001b[49m\u001b[43m,\u001b[49m\u001b[43m \u001b[49m\u001b[43mdestination_folder_path\u001b[49m\u001b[43m,\u001b[49m\u001b[43m \u001b[49m\u001b[43mpriority\u001b[49m\u001b[43m)\u001b[49m\n",
      "File \u001b[0;32m/usr/local/lib/python3.10/site-packages/polly/omixatlas.py:2615\u001b[0m, in \u001b[0;36mOmixAtlas.add_datasets\u001b[0;34m(self, repo_id, source_folder_path, destination_folder_path, priority)\u001b[0m\n\u001b[1;32m   2606\u001b[0m     file_status_dict \u001b[38;5;241m=\u001b[39m \u001b[38;5;28mself\u001b[39m\u001b[38;5;241m.\u001b[39m_upload_data(\n\u001b[1;32m   2607\u001b[0m         repo_id,\n\u001b[1;32m   2608\u001b[0m         data_upload_details,\n\u001b[0;32m   (...)\u001b[0m\n\u001b[1;32m   2611\u001b[0m         file_status_dict,\n\u001b[1;32m   2612\u001b[0m     )\n\u001b[1;32m   2614\u001b[0m \u001b[38;5;28;01mexcept\u001b[39;00m \u001b[38;5;167;01mException\u001b[39;00m \u001b[38;5;28;01mas\u001b[39;00m err:\n\u001b[0;32m-> 2615\u001b[0m     \u001b[38;5;28;01mraise\u001b[39;00m err\n\u001b[1;32m   2617\u001b[0m \u001b[38;5;66;03m# iterating the status dict\u001b[39;00m\n\u001b[1;32m   2618\u001b[0m \u001b[38;5;66;03m# generating appropriate messages\u001b[39;00m\n\u001b[1;32m   2619\u001b[0m result_list \u001b[38;5;241m=\u001b[39m \u001b[38;5;28mself\u001b[39m\u001b[38;5;241m.\u001b[39m_generating_response_from_status_dict(\n\u001b[1;32m   2620\u001b[0m     file_status_dict, result_list\n\u001b[1;32m   2621\u001b[0m )\n",
      "File \u001b[0;32m/usr/local/lib/python3.10/site-packages/polly/omixatlas.py:2596\u001b[0m, in \u001b[0;36mOmixAtlas.add_datasets\u001b[0;34m(self, repo_id, source_folder_path, destination_folder_path, priority)\u001b[0m\n\u001b[1;32m   2594\u001b[0m \u001b[38;5;66;03m# upload metadata and data files\u001b[39;00m\n\u001b[1;32m   2595\u001b[0m \u001b[38;5;28;01mtry\u001b[39;00m:\n\u001b[0;32m-> 2596\u001b[0m     file_status_dict \u001b[38;5;241m=\u001b[39m \u001b[38;5;28;43mself\u001b[39;49m\u001b[38;5;241;43m.\u001b[39;49m\u001b[43m_upload_metadata\u001b[49m\u001b[43m(\u001b[49m\n\u001b[1;32m   2597\u001b[0m \u001b[43m        \u001b[49m\u001b[43mrepo_id\u001b[49m\u001b[43m,\u001b[49m\n\u001b[1;32m   2598\u001b[0m \u001b[43m        \u001b[49m\u001b[43mpriority\u001b[49m\u001b[43m,\u001b[49m\n\u001b[1;32m   2599\u001b[0m \u001b[43m        \u001b[49m\u001b[43mmetadata_upload_details\u001b[49m\u001b[43m,\u001b[49m\n\u001b[1;32m   2600\u001b[0m \u001b[43m        \u001b[49m\u001b[43mmetadata_source_folder_path\u001b[49m\u001b[43m,\u001b[49m\n\u001b[1;32m   2601\u001b[0m \u001b[43m        \u001b[49m\u001b[43mdestination_folder_path\u001b[49m\u001b[43m,\u001b[49m\n\u001b[1;32m   2602\u001b[0m \u001b[43m        \u001b[49m\u001b[43mfile_status_dict\u001b[49m\u001b[43m,\u001b[49m\n\u001b[1;32m   2603\u001b[0m \u001b[43m        \u001b[49m\u001b[43mdata_metadata_mapping\u001b[49m\u001b[43m,\u001b[49m\n\u001b[1;32m   2604\u001b[0m \u001b[43m    \u001b[49m\u001b[43m)\u001b[49m\n\u001b[1;32m   2606\u001b[0m     file_status_dict \u001b[38;5;241m=\u001b[39m \u001b[38;5;28mself\u001b[39m\u001b[38;5;241m.\u001b[39m_upload_data(\n\u001b[1;32m   2607\u001b[0m         repo_id,\n\u001b[1;32m   2608\u001b[0m         data_upload_details,\n\u001b[0;32m   (...)\u001b[0m\n\u001b[1;32m   2611\u001b[0m         file_status_dict,\n\u001b[1;32m   2612\u001b[0m     )\n\u001b[1;32m   2614\u001b[0m \u001b[38;5;28;01mexcept\u001b[39;00m \u001b[38;5;167;01mException\u001b[39;00m \u001b[38;5;28;01mas\u001b[39;00m err:\n",
      "File \u001b[0;32m/usr/local/lib/python3.10/site-packages/polly/omixatlas.py:2478\u001b[0m, in \u001b[0;36mOmixAtlas._upload_metadata\u001b[0;34m(self, repo_id, priority, metadata_upload_details, source_metadata_path, destination_folder_path, file_status_dict, data_metadata_mapping)\u001b[0m\n\u001b[1;32m   2474\u001b[0m     \u001b[38;5;28;01melse\u001b[39;00m:\n\u001b[1;32m   2475\u001b[0m         file_status_dict[\n\u001b[1;32m   2476\u001b[0m             const\u001b[38;5;241m.\u001b[39mCOMBINED_METADATA_FILE_NAME\n\u001b[1;32m   2477\u001b[0m         ] \u001b[38;5;241m=\u001b[39m const\u001b[38;5;241m.\u001b[39mUPLOAD_ERROR_CODE\n\u001b[0;32m-> 2478\u001b[0m         \u001b[38;5;28;01mraise\u001b[39;00m err\n\u001b[1;32m   2480\u001b[0m \u001b[38;5;28;01mreturn\u001b[39;00m file_status_dict\n",
      "File \u001b[0;32m/usr/local/lib/python3.10/site-packages/polly/omixatlas.py:2441\u001b[0m, in \u001b[0;36mOmixAtlas._upload_metadata\u001b[0;34m(self, repo_id, priority, metadata_upload_details, source_metadata_path, destination_folder_path, file_status_dict, data_metadata_mapping)\u001b[0m\n\u001b[1;32m   2438\u001b[0m     json\u001b[38;5;241m.\u001b[39mdump(combined_metadata_dict, combined_metadata_file, indent\u001b[38;5;241m=\u001b[39m\u001b[38;5;241m4\u001b[39m)\n\u001b[1;32m   2440\u001b[0m \u001b[38;5;28;01mtry\u001b[39;00m:\n\u001b[0;32m-> 2441\u001b[0m     \u001b[38;5;28;43mself\u001b[39;49m\u001b[38;5;241;43m.\u001b[39;49m\u001b[43m_upload_file_to_s3\u001b[49m\u001b[43m(\u001b[49m\n\u001b[1;32m   2442\u001b[0m \u001b[43m        \u001b[49m\u001b[43mmetadata_upload_details\u001b[49m\u001b[43m[\u001b[49m\u001b[38;5;124;43m\"\u001b[39;49m\u001b[38;5;124;43msession_tokens\u001b[39;49m\u001b[38;5;124;43m\"\u001b[39;49m\u001b[43m]\u001b[49m\u001b[43m,\u001b[49m\n\u001b[1;32m   2443\u001b[0m \u001b[43m        \u001b[49m\u001b[43mmetadata_upload_details\u001b[49m\u001b[43m[\u001b[49m\u001b[38;5;124;43m\"\u001b[39;49m\u001b[38;5;124;43mbucket_name\u001b[39;49m\u001b[38;5;124;43m\"\u001b[39;49m\u001b[43m]\u001b[49m\u001b[43m,\u001b[49m\n\u001b[1;32m   2444\u001b[0m \u001b[43m        \u001b[49m\u001b[43mcombined_metadata_file_path\u001b[49m\u001b[43m,\u001b[49m\n\u001b[1;32m   2445\u001b[0m \u001b[43m        \u001b[49m\u001b[43mmetadata_upload_details\u001b[49m\u001b[43m[\u001b[49m\u001b[38;5;124;43m\"\u001b[39;49m\u001b[38;5;124;43mmetadata_directory\u001b[39;49m\u001b[38;5;124;43m\"\u001b[39;49m\u001b[43m]\u001b[49m\u001b[43m,\u001b[49m\n\u001b[1;32m   2446\u001b[0m \u001b[43m    \u001b[49m\u001b[43m)\u001b[49m\n\u001b[1;32m   2447\u001b[0m     file_status_dict[\n\u001b[1;32m   2448\u001b[0m         const\u001b[38;5;241m.\u001b[39mCOMBINED_METADATA_FILE_NAME\n\u001b[1;32m   2449\u001b[0m     ] \u001b[38;5;241m=\u001b[39m const\u001b[38;5;241m.\u001b[39mUPLOAD_URL_CREATED\n\u001b[1;32m   2450\u001b[0m \u001b[38;5;28;01mexcept\u001b[39;00m \u001b[38;5;167;01mException\u001b[39;00m \u001b[38;5;28;01mas\u001b[39;00m err:\n",
      "File \u001b[0;32m/usr/local/lib/python3.10/site-packages/polly/omixatlas.py:2142\u001b[0m, in \u001b[0;36mOmixAtlas._upload_file_to_s3\u001b[0;34m(self, aws_cred, bucket_name, file_path, object_key)\u001b[0m\n\u001b[1;32m   2140\u001b[0m     s3_client\u001b[38;5;241m.\u001b[39mupload_file(file_path, bucket_name, object_key, Config\u001b[38;5;241m=\u001b[39mconfig)\n\u001b[1;32m   2141\u001b[0m \u001b[38;5;28;01mexcept\u001b[39;00m \u001b[38;5;167;01mException\u001b[39;00m \u001b[38;5;28;01mas\u001b[39;00m err:\n\u001b[0;32m-> 2142\u001b[0m     \u001b[38;5;28;01mraise\u001b[39;00m err\n",
      "File \u001b[0;32m/usr/local/lib/python3.10/site-packages/polly/omixatlas.py:2140\u001b[0m, in \u001b[0;36mOmixAtlas._upload_file_to_s3\u001b[0;34m(self, aws_cred, bucket_name, file_path, object_key)\u001b[0m\n\u001b[1;32m   2131\u001b[0m config \u001b[38;5;241m=\u001b[39m TransferConfig(\n\u001b[1;32m   2132\u001b[0m     multipart_threshold\u001b[38;5;241m=\u001b[39mconst\u001b[38;5;241m.\u001b[39mMULTIPART_THRESHOLD,\n\u001b[1;32m   2133\u001b[0m     max_concurrency\u001b[38;5;241m=\u001b[39mconst\u001b[38;5;241m.\u001b[39mMAX_CONCURRENCY,\n\u001b[0;32m   (...)\u001b[0m\n\u001b[1;32m   2136\u001b[0m     use_threads\u001b[38;5;241m=\u001b[39m\u001b[38;5;28;01mTrue\u001b[39;00m,\n\u001b[1;32m   2137\u001b[0m )\n\u001b[1;32m   2139\u001b[0m \u001b[38;5;28;01mtry\u001b[39;00m:\n\u001b[0;32m-> 2140\u001b[0m     \u001b[43ms3_client\u001b[49m\u001b[38;5;241;43m.\u001b[39;49m\u001b[43mupload_file\u001b[49m\u001b[43m(\u001b[49m\u001b[43mfile_path\u001b[49m\u001b[43m,\u001b[49m\u001b[43m \u001b[49m\u001b[43mbucket_name\u001b[49m\u001b[43m,\u001b[49m\u001b[43m \u001b[49m\u001b[43mobject_key\u001b[49m\u001b[43m,\u001b[49m\u001b[43m \u001b[49m\u001b[43mConfig\u001b[49m\u001b[38;5;241;43m=\u001b[39;49m\u001b[43mconfig\u001b[49m\u001b[43m)\u001b[49m\n\u001b[1;32m   2141\u001b[0m \u001b[38;5;28;01mexcept\u001b[39;00m \u001b[38;5;167;01mException\u001b[39;00m \u001b[38;5;28;01mas\u001b[39;00m err:\n\u001b[1;32m   2142\u001b[0m     \u001b[38;5;28;01mraise\u001b[39;00m err\n",
      "File \u001b[0;32m/usr/local/lib/python3.10/site-packages/boto3/s3/inject.py:143\u001b[0m, in \u001b[0;36mupload_file\u001b[0;34m(self, Filename, Bucket, Key, ExtraArgs, Callback, Config)\u001b[0m\n\u001b[1;32m    108\u001b[0m \u001b[38;5;124;03m\"\"\"Upload a file to an S3 object.\u001b[39;00m\n\u001b[1;32m    109\u001b[0m \n\u001b[1;32m    110\u001b[0m \u001b[38;5;124;03mUsage::\u001b[39;00m\n\u001b[0;32m   (...)\u001b[0m\n\u001b[1;32m    140\u001b[0m \u001b[38;5;124;03m    transfer.\u001b[39;00m\n\u001b[1;32m    141\u001b[0m \u001b[38;5;124;03m\"\"\"\u001b[39;00m\n\u001b[1;32m    142\u001b[0m \u001b[38;5;28;01mwith\u001b[39;00m S3Transfer(\u001b[38;5;28mself\u001b[39m, Config) \u001b[38;5;28;01mas\u001b[39;00m transfer:\n\u001b[0;32m--> 143\u001b[0m     \u001b[38;5;28;01mreturn\u001b[39;00m \u001b[43mtransfer\u001b[49m\u001b[38;5;241;43m.\u001b[39;49m\u001b[43mupload_file\u001b[49m\u001b[43m(\u001b[49m\n\u001b[1;32m    144\u001b[0m \u001b[43m        \u001b[49m\u001b[43mfilename\u001b[49m\u001b[38;5;241;43m=\u001b[39;49m\u001b[43mFilename\u001b[49m\u001b[43m,\u001b[49m\n\u001b[1;32m    145\u001b[0m \u001b[43m        \u001b[49m\u001b[43mbucket\u001b[49m\u001b[38;5;241;43m=\u001b[39;49m\u001b[43mBucket\u001b[49m\u001b[43m,\u001b[49m\n\u001b[1;32m    146\u001b[0m \u001b[43m        \u001b[49m\u001b[43mkey\u001b[49m\u001b[38;5;241;43m=\u001b[39;49m\u001b[43mKey\u001b[49m\u001b[43m,\u001b[49m\n\u001b[1;32m    147\u001b[0m \u001b[43m        \u001b[49m\u001b[43mextra_args\u001b[49m\u001b[38;5;241;43m=\u001b[39;49m\u001b[43mExtraArgs\u001b[49m\u001b[43m,\u001b[49m\n\u001b[1;32m    148\u001b[0m \u001b[43m        \u001b[49m\u001b[43mcallback\u001b[49m\u001b[38;5;241;43m=\u001b[39;49m\u001b[43mCallback\u001b[49m\u001b[43m,\u001b[49m\n\u001b[1;32m    149\u001b[0m \u001b[43m    \u001b[49m\u001b[43m)\u001b[49m\n",
      "File \u001b[0;32m/usr/local/lib/python3.10/site-packages/boto3/s3/transfer.py:294\u001b[0m, in \u001b[0;36mS3Transfer.upload_file\u001b[0;34m(self, filename, bucket, key, callback, extra_args)\u001b[0m\n\u001b[1;32m    289\u001b[0m \u001b[38;5;66;03m# If a client error was raised, add the backwards compatibility layer\u001b[39;00m\n\u001b[1;32m    290\u001b[0m \u001b[38;5;66;03m# that raises a S3UploadFailedError. These specific errors were only\u001b[39;00m\n\u001b[1;32m    291\u001b[0m \u001b[38;5;66;03m# ever thrown for upload_parts but now can be thrown for any related\u001b[39;00m\n\u001b[1;32m    292\u001b[0m \u001b[38;5;66;03m# client error.\u001b[39;00m\n\u001b[1;32m    293\u001b[0m \u001b[38;5;28;01mexcept\u001b[39;00m ClientError \u001b[38;5;28;01mas\u001b[39;00m e:\n\u001b[0;32m--> 294\u001b[0m     \u001b[38;5;28;01mraise\u001b[39;00m S3UploadFailedError(\n\u001b[1;32m    295\u001b[0m         \u001b[38;5;124m\"\u001b[39m\u001b[38;5;124mFailed to upload \u001b[39m\u001b[38;5;132;01m{}\u001b[39;00m\u001b[38;5;124m to \u001b[39m\u001b[38;5;132;01m{}\u001b[39;00m\u001b[38;5;124m: \u001b[39m\u001b[38;5;132;01m{}\u001b[39;00m\u001b[38;5;124m\"\u001b[39m\u001b[38;5;241m.\u001b[39mformat(\n\u001b[1;32m    296\u001b[0m             filename, \u001b[38;5;124m'\u001b[39m\u001b[38;5;124m/\u001b[39m\u001b[38;5;124m'\u001b[39m\u001b[38;5;241m.\u001b[39mjoin([bucket, key]), e\n\u001b[1;32m    297\u001b[0m         )\n\u001b[1;32m    298\u001b[0m     )\n",
      "\u001b[0;31mS3UploadFailedError\u001b[0m: Failed to upload /import/combined_metadata.json to discover-test-datalake-v1/ingestion_test_1/data/.metadata/1675426058745_metadata.json: An error occurred (RequestTimeout) when calling the PutObject operation (reached max retries: 4): Your socket connection to the server was not read from or written to within the timeout period. Idle connections will be closed."
     ]
    }
   ],
   "source": [
    "def prep_run_add_dataset_function(number):\n",
    "    metadata_folder_path = \"/import/100_datasets/metadata/metadata_\" + number\n",
    "    data_folder_path = \"/import/100_datasets/data/data_\" + number\n",
    "    source_folder_path = {\"metadata\":metadata_folder_path, \"data\": data_folder_path}\n",
    "    repo_id= \"1654268055800\"\n",
    "    priority = \"high\"\n",
    "    destination_folder_path = \"bulk_multithread_test\"\n",
    "    omixatlas.add_datasets(repo_id, source_folder_path, destination_folder_path, priority)\n",
    "    \n",
    "import time\n",
    "from joblib import Parallel, delayed\n",
    "numbers = [\"1\",\"2\",\"3\",\"4\",\"5\"]\n",
    "start = time.time()\n",
    "status_gct = Parallel(n_jobs=20, require=\"sharedmem\")(\n",
    "                delayed(prep_run_add_dataset_function)(i) for i in numbers\n",
    "            )\n",
    "print(time.time()-start)"
   ]
  },
  {
   "cell_type": "markdown",
   "metadata": {},
   "source": [
    "on checking, we could see 4 combined metadata folders uploaded to s3 instead of 4 (has been communicated to Compute team )"
   ]
  },
  {
   "cell_type": "code",
   "execution_count": null,
   "metadata": {},
   "outputs": [],
   "source": []
  }
 ],
 "metadata": {
  "kernelspec": {
   "display_name": "Python 3 (ipykernel)",
   "language": "python",
   "name": "python3"
  },
  "language_info": {
   "codemirror_mode": {
    "name": "ipython",
    "version": 3
   },
   "file_extension": ".py",
   "mimetype": "text/x-python",
   "name": "python",
   "nbconvert_exporter": "python",
   "pygments_lexer": "ipython3",
   "version": "3.10.2"
  }
 },
 "nbformat": 4,
 "nbformat_minor": 2
}
