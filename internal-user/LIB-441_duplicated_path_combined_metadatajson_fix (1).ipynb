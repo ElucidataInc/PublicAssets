{
 "cells": [
  {
   "cell_type": "markdown",
   "metadata": {},
   "source": [
    "# Welcome to Polly Python3 Notebook."
   ]
  },
  {
   "cell_type": "code",
   "execution_count": 1,
   "metadata": {},
   "outputs": [
    {
     "name": "stdout",
     "output_type": "stream",
     "text": [
      "/bin/bash: warning: setlocale: LC_ALL: cannot change locale (en_US.UTF-8)\n",
      "Collecting polly-python==0.2.9-LIB\n",
      "  Downloading https://elucidatainc.github.io/PublicAssets/builds/polly-python/tests/testpolly/polly_python-0.2.9_LIB-441_duplicated_path_combined_metadatajson_fix-py3-none-any.whl (127 kB)\n",
      "\u001b[K     |████████████████████████████████| 127 kB 31.6 MB/s eta 0:00:01\n",
      "\u001b[?25hRequirement already satisfied: botocore>=1.20.73 in /usr/local/lib/python3.10/site-packages (from polly-python==0.2.9-LIB) (1.24.19)\n",
      "Requirement already satisfied: pydantic in /usr/local/lib/python3.10/site-packages (from polly-python==0.2.9-LIB) (1.9.1)\n",
      "Requirement already satisfied: chardet==4.0.0 in /usr/local/lib/python3.10/site-packages (from polly-python==0.2.9-LIB) (4.0.0)\n",
      "Requirement already satisfied: Deprecated in /usr/local/lib/python3.10/site-packages (from polly-python==0.2.9-LIB) (1.2.13)\n",
      "Requirement already satisfied: datapane in /usr/local/lib/python3.10/site-packages (from polly-python==0.2.9-LIB) (0.15.6)\n",
      "Requirement already satisfied: requests==2.25.1 in /usr/local/lib/python3.10/site-packages (from polly-python==0.2.9-LIB) (2.25.1)\n",
      "Requirement already satisfied: boto3>=1.17.73 in /usr/local/lib/python3.10/site-packages (from polly-python==0.2.9-LIB) (1.21.19)\n",
      "Requirement already satisfied: pytest in /usr/local/lib/python3.10/site-packages (from polly-python==0.2.9-LIB) (7.2.1)\n",
      "Collecting cryptography>=38.0.1\n",
      "  Downloading cryptography-39.0.1-cp36-abi3-manylinux_2_28_x86_64.whl (4.2 MB)\n",
      "\u001b[K     |████████████████████████████████| 4.2 MB 34.3 MB/s eta 0:00:01\n",
      "\u001b[?25hRequirement already satisfied: plotly in /usr/local/lib/python3.10/site-packages (from polly-python==0.2.9-LIB) (5.13.0)\n",
      "Collecting polly-validator==0.0.1\n",
      "  Downloading polly_validator-0.0.1-py3-none-any.whl (29 kB)\n",
      "Requirement already satisfied: joblib in /usr/local/lib/python3.10/site-packages (from polly-python==0.2.9-LIB) (1.2.0)\n",
      "Requirement already satisfied: sqlparse in /usr/local/lib/python3.10/site-packages (from polly-python==0.2.9-LIB) (0.4.3)\n",
      "Requirement already satisfied: Cerberus==1.3.2 in /usr/local/lib/python3.10/site-packages (from polly-python==0.2.9-LIB) (1.3.2)\n",
      "Requirement already satisfied: six==1.16.0 in /usr/local/lib/python3.10/site-packages (from polly-python==0.2.9-LIB) (1.16.0)\n",
      "Requirement already satisfied: postpy2==0.0.6 in /usr/local/lib/python3.10/site-packages (from polly-python==0.2.9-LIB) (0.0.6)\n",
      "Requirement already satisfied: beautifulsoup4 in /usr/local/lib/python3.10/site-packages (from polly-python==0.2.9-LIB) (4.11.2)\n",
      "Requirement already satisfied: python-dateutil in /usr/local/lib/python3.10/site-packages (from polly-python==0.2.9-LIB) (2.8.1)\n",
      "Requirement already satisfied: elucidatacloudpathlib==0.6.6 in /usr/local/lib/python3.10/site-packages (from polly-python==0.2.9-LIB) (0.6.6)\n",
      "Requirement already satisfied: certifi==2021.10.8 in /usr/local/lib/python3.10/site-packages (from polly-python==0.2.9-LIB) (2021.10.8)\n",
      "Collecting mixpanel>=4.10.0\n",
      "  Downloading mixpanel-4.10.0-py2.py3-none-any.whl (8.9 kB)\n",
      "Requirement already satisfied: elucidatacmapPy==3.3.4 in /usr/local/lib/python3.10/site-packages (from polly-python==0.2.9-LIB) (3.3.4)\n",
      "Requirement already satisfied: python-jose>=3.3.0 in /usr/local/lib/python3.10/site-packages (from polly-python==0.2.9-LIB) (3.3.0)\n",
      "Requirement already satisfied: pandas in /usr/local/lib/python3.10/site-packages (from polly-python==0.2.9-LIB) (1.4.1)\n",
      "Requirement already satisfied: python-magic==0.4.24 in /usr/local/lib/python3.10/site-packages (from polly-python==0.2.9-LIB) (0.4.24)\n",
      "Requirement already satisfied: tqdm in /usr/local/lib/python3.10/site-packages (from polly-python==0.2.9-LIB) (4.64.1)\n",
      "Requirement already satisfied: rst2txt in /usr/local/lib/python3.10/site-packages (from polly-python==0.2.9-LIB) (1.1.0)\n",
      "Requirement already satisfied: pytz==2021.1 in /usr/local/lib/python3.10/site-packages (from polly-python==0.2.9-LIB) (2021.1)\n",
      "Requirement already satisfied: urllib3==1.26.6 in /usr/local/lib/python3.10/site-packages (from polly-python==0.2.9-LIB) (1.26.6)\n",
      "Requirement already satisfied: idna==2.10 in /usr/local/lib/python3.10/site-packages (from polly-python==0.2.9-LIB) (2.10)\n",
      "Requirement already satisfied: retrying==1.3.3 in /usr/local/lib/python3.10/site-packages (from polly-python==0.2.9-LIB) (1.3.3)\n",
      "Requirement already satisfied: setuptools in /usr/local/lib/python3.10/site-packages (from Cerberus==1.3.2->polly-python==0.2.9-LIB) (58.1.0)\n",
      "Requirement already satisfied: numpy>=1.11.2 in /usr/local/lib/python3.10/site-packages (from elucidatacmapPy==3.3.4->polly-python==0.2.9-LIB) (1.22.3)\n",
      "Requirement already satisfied: h5py>=2.6.0 in /usr/local/lib/python3.10/site-packages (from elucidatacmapPy==3.3.4->polly-python==0.2.9-LIB) (3.8.0)\n",
      "Collecting appdirs==1.4.4\n",
      "  Downloading appdirs-1.4.4-py2.py3-none-any.whl (9.6 kB)\n",
      "Collecting rapidfuzz==2.1.1\n",
      "  Downloading rapidfuzz-2.1.1-cp310-cp310-manylinux_2_17_x86_64.manylinux2014_x86_64.whl (2.0 MB)\n",
      "\u001b[K     |████████████████████████████████| 2.0 MB 113.4 MB/s eta 0:00:01\n",
      "\u001b[?25hRequirement already satisfied: tabulate==0.8.10 in /usr/local/lib/python3.10/site-packages (from polly-validator==0.0.1->polly-python==0.2.9-LIB) (0.8.10)\n",
      "Collecting pronto\n",
      "  Downloading pronto-2.5.3-py2.py3-none-any.whl (61 kB)\n",
      "\u001b[K     |████████████████████████████████| 61 kB 21.2 MB/s  eta 0:00:01\n",
      "\u001b[?25hCollecting jarowinkler<1.1.0,>=1.0.3\n",
      "  Downloading jarowinkler-1.0.5-cp310-cp310-manylinux_2_17_x86_64.manylinux2014_x86_64.whl (103 kB)\n",
      "\u001b[K     |████████████████████████████████| 103 kB 135.8 MB/s eta 0:00:01\n",
      "\u001b[?25hRequirement already satisfied: jmespath<1.0.0,>=0.7.1 in /usr/local/lib/python3.10/site-packages (from boto3>=1.17.73->polly-python==0.2.9-LIB) (0.10.0)\n",
      "Requirement already satisfied: s3transfer<0.6.0,>=0.5.0 in /usr/local/lib/python3.10/site-packages (from boto3>=1.17.73->polly-python==0.2.9-LIB) (0.5.2)\n",
      "Requirement already satisfied: cffi>=1.12 in /usr/local/lib/python3.10/site-packages (from cryptography>=38.0.1->polly-python==0.2.9-LIB) (1.15.1)\n",
      "Requirement already satisfied: pycparser in /usr/local/lib/python3.10/site-packages (from cffi>=1.12->cryptography>=38.0.1->polly-python==0.2.9-LIB) (2.21)\n",
      "Requirement already satisfied: rsa in /usr/local/lib/python3.10/site-packages (from python-jose>=3.3.0->polly-python==0.2.9-LIB) (4.7.2)\n",
      "Requirement already satisfied: ecdsa!=0.15 in /usr/local/lib/python3.10/site-packages (from python-jose>=3.3.0->polly-python==0.2.9-LIB) (0.18.0)\n",
      "Requirement already satisfied: pyasn1 in /usr/local/lib/python3.10/site-packages (from python-jose>=3.3.0->polly-python==0.2.9-LIB) (0.4.8)\n",
      "Requirement already satisfied: soupsieve>1.2 in /usr/local/lib/python3.10/site-packages (from beautifulsoup4->polly-python==0.2.9-LIB) (2.3.2.post1)\n",
      "Requirement already satisfied: posthog<3.0.0,>=1.4.0 in /usr/local/lib/python3.10/site-packages (from datapane->polly-python==0.2.9-LIB) (2.3.0)\n",
      "Requirement already satisfied: munch<3.0.0,>=2.3.0 in /usr/local/lib/python3.10/site-packages (from datapane->polly-python==0.2.9-LIB) (2.5.0)\n",
      "Requirement already satisfied: ipynbname<2022.0.0,>=2021.3.2 in /usr/local/lib/python3.10/site-packages (from datapane->polly-python==0.2.9-LIB) (2021.3.2)\n",
      "Requirement already satisfied: lxml<5.0.0,>=4.0.0 in /usr/local/lib/python3.10/site-packages (from datapane->polly-python==0.2.9-LIB) (4.9.2)\n",
      "Requirement already satisfied: requests-toolbelt<0.10.0,>=0.9.1 in /usr/local/lib/python3.10/site-packages (from datapane->polly-python==0.2.9-LIB) (0.9.1)\n",
      "Requirement already satisfied: colorlog<7.0.0,>=4.1.0 in /usr/local/lib/python3.10/site-packages (from datapane->polly-python==0.2.9-LIB) (6.7.0)\n",
      "Requirement already satisfied: packaging<24.0.0,>=21.0.0 in /usr/local/lib/python3.10/site-packages (from datapane->polly-python==0.2.9-LIB) (23.0)\n",
      "Requirement already satisfied: pyarrow<11.0.0,>=6.0.0 in /usr/local/lib/python3.10/site-packages (from datapane->polly-python==0.2.9-LIB) (10.0.1)\n",
      "Requirement already satisfied: dominate<3.0.0,>=2.4.0 in /usr/local/lib/python3.10/site-packages (from datapane->polly-python==0.2.9-LIB) (2.7.0)\n",
      "Requirement already satisfied: furl<3.0.0,>=2.0.0 in /usr/local/lib/python3.10/site-packages (from datapane->polly-python==0.2.9-LIB) (2.1.3)\n",
      "Requirement already satisfied: dacite<2.0.0,>=1.0.2 in /usr/local/lib/python3.10/site-packages (from datapane->polly-python==0.2.9-LIB) (1.8.0)\n",
      "Requirement already satisfied: datacommons<2.0.0,>=1.4.3 in /usr/local/lib/python3.10/site-packages (from datapane->polly-python==0.2.9-LIB) (1.4.3)\n",
      "Requirement already satisfied: toolz<0.13.0,>=0.11.0 in /usr/local/lib/python3.10/site-packages (from datapane->polly-python==0.2.9-LIB) (0.12.0)\n",
      "Requirement already satisfied: boltons<22.0.0,>=20.0.0 in /usr/local/lib/python3.10/site-packages (from datapane->polly-python==0.2.9-LIB) (21.0.0)\n",
      "Requirement already satisfied: nbconvert<7.0.0,>=6.1.0 in /usr/local/lib/python3.10/site-packages (from datapane->polly-python==0.2.9-LIB) (6.3.0)\n",
      "Requirement already satisfied: jsonschema<5.0.0,>=3.2.0 in /usr/local/lib/python3.10/site-packages (from datapane->polly-python==0.2.9-LIB) (4.2.1)\n",
      "Requirement already satisfied: glom<24.0.0,>=20.11.0 in /usr/local/lib/python3.10/site-packages (from datapane->polly-python==0.2.9-LIB) (23.1.1)\n",
      "Requirement already satisfied: dulwich<0.21.0,>=0.20.0 in /usr/local/lib/python3.10/site-packages (from datapane->polly-python==0.2.9-LIB) (0.20.50)\n",
      "Requirement already satisfied: vega-datasets<1.0.0,>=0.9.0 in /usr/local/lib/python3.10/site-packages (from datapane->polly-python==0.2.9-LIB) (0.9.0)\n",
      "Requirement already satisfied: altair<5.0.0,>=4.0.0 in /usr/local/lib/python3.10/site-packages (from datapane->polly-python==0.2.9-LIB) (4.2.2)\n",
      "Requirement already satisfied: click-spinner<0.2.0,>=0.1.8 in /usr/local/lib/python3.10/site-packages (from datapane->polly-python==0.2.9-LIB) (0.1.10)\n",
      "Requirement already satisfied: stringcase<2.0.0,>=1.2.0 in /usr/local/lib/python3.10/site-packages (from datapane->polly-python==0.2.9-LIB) (1.2.0)\n",
      "Requirement already satisfied: importlib_resources<6.0.0,>=3.0.0 in /usr/local/lib/python3.10/site-packages (from datapane->polly-python==0.2.9-LIB) (5.10.2)\n",
      "Requirement already satisfied: Jinja2<4.0.0,>=3.0.0 in /usr/local/lib/python3.10/site-packages (from datapane->polly-python==0.2.9-LIB) (3.0.3)\n",
      "Requirement already satisfied: click<9.0.0,>=7.1.0 in /usr/local/lib/python3.10/site-packages (from datapane->polly-python==0.2.9-LIB) (8.1.3)\n",
      "Requirement already satisfied: micawber>=0.5.0 in /usr/local/lib/python3.10/site-packages (from datapane->polly-python==0.2.9-LIB) (0.5.4)\n",
      "Requirement already satisfied: PyYAML<7.0.0,>=5.4.0 in /usr/local/lib/python3.10/site-packages (from datapane->polly-python==0.2.9-LIB) (5.4.1)\n",
      "Requirement already satisfied: validators<0.21.0,>=0.18.0 in /usr/local/lib/python3.10/site-packages (from datapane->polly-python==0.2.9-LIB) (0.20.0)\n",
      "Requirement already satisfied: datacommons-pandas<0.0.4,>=0.0.3 in /usr/local/lib/python3.10/site-packages (from datapane->polly-python==0.2.9-LIB) (0.0.3)\n",
      "Requirement already satisfied: entrypoints in /usr/local/lib/python3.10/site-packages (from altair<5.0.0,>=4.0.0->datapane->polly-python==0.2.9-LIB) (0.3)\n",
      "Requirement already satisfied: orderedmultidict>=1.0.1 in /usr/local/lib/python3.10/site-packages (from furl<3.0.0,>=2.0.0->datapane->polly-python==0.2.9-LIB) (1.0.1)\n",
      "Requirement already satisfied: attrs in /usr/local/lib/python3.10/site-packages (from glom<24.0.0,>=20.11.0->datapane->polly-python==0.2.9-LIB) (21.2.0)\n",
      "Requirement already satisfied: face==20.1.1 in /usr/local/lib/python3.10/site-packages (from glom<24.0.0,>=20.11.0->datapane->polly-python==0.2.9-LIB) (20.1.1)\n",
      "Requirement already satisfied: ipykernel in /usr/local/lib/python3.10/site-packages (from ipynbname<2022.0.0,>=2021.3.2->datapane->polly-python==0.2.9-LIB) (6.13.1)\n",
      "Requirement already satisfied: MarkupSafe>=2.0 in /usr/local/lib/python3.10/site-packages (from Jinja2<4.0.0,>=3.0.0->datapane->polly-python==0.2.9-LIB) (2.0.1)\n",
      "Requirement already satisfied: pyrsistent!=0.17.0,!=0.17.1,!=0.17.2,>=0.14.0 in /usr/local/lib/python3.10/site-packages (from jsonschema<5.0.0,>=3.2.0->datapane->polly-python==0.2.9-LIB) (0.18.0)\n",
      "Requirement already satisfied: pygments>=2.4.1 in /usr/local/lib/python3.10/site-packages (from nbconvert<7.0.0,>=6.1.0->datapane->polly-python==0.2.9-LIB) (2.10.0)\n",
      "Requirement already satisfied: traitlets>=5.0 in /usr/local/lib/python3.10/site-packages (from nbconvert<7.0.0,>=6.1.0->datapane->polly-python==0.2.9-LIB) (5.1.1)\n",
      "Requirement already satisfied: jupyter-core in /usr/local/lib/python3.10/site-packages (from nbconvert<7.0.0,>=6.1.0->datapane->polly-python==0.2.9-LIB) (4.9.1)\n",
      "Requirement already satisfied: testpath in /usr/local/lib/python3.10/site-packages (from nbconvert<7.0.0,>=6.1.0->datapane->polly-python==0.2.9-LIB) (0.5.0)\n",
      "Requirement already satisfied: nbformat>=4.4 in /usr/local/lib/python3.10/site-packages (from nbconvert<7.0.0,>=6.1.0->datapane->polly-python==0.2.9-LIB) (5.1.3)\n",
      "Requirement already satisfied: mistune<2,>=0.8.1 in /usr/local/lib/python3.10/site-packages (from nbconvert<7.0.0,>=6.1.0->datapane->polly-python==0.2.9-LIB) (0.8.4)\n",
      "Requirement already satisfied: jupyterlab-pygments in /usr/local/lib/python3.10/site-packages (from nbconvert<7.0.0,>=6.1.0->datapane->polly-python==0.2.9-LIB) (0.2.2)\n",
      "Requirement already satisfied: defusedxml in /usr/local/lib/python3.10/site-packages (from nbconvert<7.0.0,>=6.1.0->datapane->polly-python==0.2.9-LIB) (0.7.1)\n",
      "Requirement already satisfied: bleach in /usr/local/lib/python3.10/site-packages (from nbconvert<7.0.0,>=6.1.0->datapane->polly-python==0.2.9-LIB) (4.1.0)\n",
      "Requirement already satisfied: nbclient<0.6.0,>=0.5.0 in /usr/local/lib/python3.10/site-packages (from nbconvert<7.0.0,>=6.1.0->datapane->polly-python==0.2.9-LIB) (0.5.13)\n",
      "Requirement already satisfied: pandocfilters>=1.4.1 in /usr/local/lib/python3.10/site-packages (from nbconvert<7.0.0,>=6.1.0->datapane->polly-python==0.2.9-LIB) (1.5.0)\n",
      "Requirement already satisfied: jupyter-client>=6.1.5 in /usr/local/lib/python3.10/site-packages (from nbclient<0.6.0,>=0.5.0->nbconvert<7.0.0,>=6.1.0->datapane->polly-python==0.2.9-LIB) (6.1.12)\n",
      "Requirement already satisfied: nest-asyncio in /usr/local/lib/python3.10/site-packages (from nbclient<0.6.0,>=0.5.0->nbconvert<7.0.0,>=6.1.0->datapane->polly-python==0.2.9-LIB) (1.5.6)\n",
      "Requirement already satisfied: pyzmq>=13 in /usr/local/lib/python3.10/site-packages (from jupyter-client>=6.1.5->nbclient<0.6.0,>=0.5.0->nbconvert<7.0.0,>=6.1.0->datapane->polly-python==0.2.9-LIB) (22.3.0)\n",
      "Requirement already satisfied: tornado>=4.1 in /usr/local/lib/python3.10/site-packages (from jupyter-client>=6.1.5->nbclient<0.6.0,>=0.5.0->nbconvert<7.0.0,>=6.1.0->datapane->polly-python==0.2.9-LIB) (6.1)\n",
      "Requirement already satisfied: ipython-genutils in /usr/local/lib/python3.10/site-packages (from nbformat>=4.4->nbconvert<7.0.0,>=6.1.0->datapane->polly-python==0.2.9-LIB) (0.2.0)\n",
      "Requirement already satisfied: backoff<2.0.0,>=1.10.0 in /usr/local/lib/python3.10/site-packages (from posthog<3.0.0,>=1.4.0->datapane->polly-python==0.2.9-LIB) (1.11.1)\n",
      "Requirement already satisfied: monotonic>=1.5 in /usr/local/lib/python3.10/site-packages (from posthog<3.0.0,>=1.4.0->datapane->polly-python==0.2.9-LIB) (1.6)\n",
      "Requirement already satisfied: typing-extensions>=3.7.4.3 in /usr/local/lib/python3.10/site-packages (from pydantic->polly-python==0.2.9-LIB) (4.4.0)\n",
      "Requirement already satisfied: decorator>=3.4.0 in /usr/local/lib/python3.10/site-packages (from validators<0.21.0,>=0.18.0->datapane->polly-python==0.2.9-LIB) (5.1.0)\n",
      "Requirement already satisfied: webencodings in /usr/local/lib/python3.10/site-packages (from bleach->nbconvert<7.0.0,>=6.1.0->datapane->polly-python==0.2.9-LIB) (0.5.1)\n",
      "Requirement already satisfied: wrapt<2,>=1.10 in /usr/local/lib/python3.10/site-packages (from Deprecated->polly-python==0.2.9-LIB) (1.14.1)\n",
      "Requirement already satisfied: ipython>=7.23.1 in /usr/local/lib/python3.10/site-packages (from ipykernel->ipynbname<2022.0.0,>=2021.3.2->datapane->polly-python==0.2.9-LIB) (8.2.0)\n",
      "Requirement already satisfied: psutil in /usr/local/lib/python3.10/site-packages (from ipykernel->ipynbname<2022.0.0,>=2021.3.2->datapane->polly-python==0.2.9-LIB) (5.9.4)\n",
      "Requirement already satisfied: matplotlib-inline>=0.1 in /usr/local/lib/python3.10/site-packages (from ipykernel->ipynbname<2022.0.0,>=2021.3.2->datapane->polly-python==0.2.9-LIB) (0.1.3)\n",
      "Requirement already satisfied: debugpy>=1.0 in /usr/local/lib/python3.10/site-packages (from ipykernel->ipynbname<2022.0.0,>=2021.3.2->datapane->polly-python==0.2.9-LIB) (1.6.6)\n",
      "Requirement already satisfied: pickleshare in /usr/local/lib/python3.10/site-packages (from ipython>=7.23.1->ipykernel->ipynbname<2022.0.0,>=2021.3.2->datapane->polly-python==0.2.9-LIB) (0.7.5)\n",
      "Requirement already satisfied: pexpect>4.3 in /usr/local/lib/python3.10/site-packages (from ipython>=7.23.1->ipykernel->ipynbname<2022.0.0,>=2021.3.2->datapane->polly-python==0.2.9-LIB) (4.8.0)\n",
      "Requirement already satisfied: backcall in /usr/local/lib/python3.10/site-packages (from ipython>=7.23.1->ipykernel->ipynbname<2022.0.0,>=2021.3.2->datapane->polly-python==0.2.9-LIB) (0.2.0)\n",
      "Requirement already satisfied: jedi>=0.16 in /usr/local/lib/python3.10/site-packages (from ipython>=7.23.1->ipykernel->ipynbname<2022.0.0,>=2021.3.2->datapane->polly-python==0.2.9-LIB) (0.18.1)\n",
      "Requirement already satisfied: stack-data in /usr/local/lib/python3.10/site-packages (from ipython>=7.23.1->ipykernel->ipynbname<2022.0.0,>=2021.3.2->datapane->polly-python==0.2.9-LIB) (0.6.2)\n",
      "Requirement already satisfied: prompt-toolkit!=3.0.0,!=3.0.1,<3.1.0,>=2.0.0 in /usr/local/lib/python3.10/site-packages (from ipython>=7.23.1->ipykernel->ipynbname<2022.0.0,>=2021.3.2->datapane->polly-python==0.2.9-LIB) (3.0.22)\n",
      "Requirement already satisfied: parso<0.9.0,>=0.8.0 in /usr/local/lib/python3.10/site-packages (from jedi>=0.16->ipython>=7.23.1->ipykernel->ipynbname<2022.0.0,>=2021.3.2->datapane->polly-python==0.2.9-LIB) (0.8.2)\n",
      "Requirement already satisfied: ptyprocess>=0.5 in /usr/local/lib/python3.10/site-packages (from pexpect>4.3->ipython>=7.23.1->ipykernel->ipynbname<2022.0.0,>=2021.3.2->datapane->polly-python==0.2.9-LIB) (0.7.0)\n",
      "Requirement already satisfied: wcwidth in /usr/local/lib/python3.10/site-packages (from prompt-toolkit!=3.0.0,!=3.0.1,<3.1.0,>=2.0.0->ipython>=7.23.1->ipykernel->ipynbname<2022.0.0,>=2021.3.2->datapane->polly-python==0.2.9-LIB) (0.2.5)\n",
      "Requirement already satisfied: tenacity>=6.2.0 in /usr/local/lib/python3.10/site-packages (from plotly->polly-python==0.2.9-LIB) (8.1.0)\n",
      "Collecting pronto\n",
      "  Downloading pronto-2.5.2-py2.py3-none-any.whl (61 kB)\n",
      "\u001b[K     |████████████████████████████████| 61 kB 19.6 MB/s  eta 0:00:01\n",
      "\u001b[?25h  Downloading pronto-2.5.1-py2.py3-none-any.whl (61 kB)\n",
      "\u001b[K     |████████████████████████████████| 61 kB 23.1 MB/s  eta 0:00:01\n",
      "\u001b[?25hCollecting fastobo~=0.12.1\n",
      "  Downloading fastobo-0.12.2-cp310-cp310-manylinux_2_17_x86_64.manylinux2014_x86_64.whl (2.1 MB)\n",
      "\u001b[K     |████████████████████████████████| 2.1 MB 74.2 MB/s eta 0:00:01\n",
      "\u001b[?25hCollecting networkx~=2.3\n",
      "  Downloading networkx-2.8.8-py3-none-any.whl (2.0 MB)\n",
      "\u001b[K     |████████████████████████████████| 2.0 MB 87.3 MB/s eta 0:00:01\n",
      "\u001b[?25hRequirement already satisfied: exceptiongroup>=1.0.0rc8 in /usr/local/lib/python3.10/site-packages (from pytest->polly-python==0.2.9-LIB) (1.1.0)\n",
      "Requirement already satisfied: pluggy<2.0,>=0.12 in /usr/local/lib/python3.10/site-packages (from pytest->polly-python==0.2.9-LIB) (1.0.0)\n",
      "Requirement already satisfied: iniconfig in /usr/local/lib/python3.10/site-packages (from pytest->polly-python==0.2.9-LIB) (2.0.0)\n",
      "Requirement already satisfied: tomli>=1.0.0 in /usr/local/lib/python3.10/site-packages (from pytest->polly-python==0.2.9-LIB) (2.0.1)\n",
      "Requirement already satisfied: docutils>=0.11 in /usr/local/lib/python3.10/site-packages (from rst2txt->polly-python==0.2.9-LIB) (0.15.2)\n",
      "Requirement already satisfied: pure-eval in /usr/local/lib/python3.10/site-packages (from stack-data->ipython>=7.23.1->ipykernel->ipynbname<2022.0.0,>=2021.3.2->datapane->polly-python==0.2.9-LIB) (0.2.2)\n",
      "Requirement already satisfied: executing>=1.2.0 in /usr/local/lib/python3.10/site-packages (from stack-data->ipython>=7.23.1->ipykernel->ipynbname<2022.0.0,>=2021.3.2->datapane->polly-python==0.2.9-LIB) (1.2.0)\n",
      "Requirement already satisfied: asttokens>=2.1.0 in /usr/local/lib/python3.10/site-packages (from stack-data->ipython>=7.23.1->ipykernel->ipynbname<2022.0.0,>=2021.3.2->datapane->polly-python==0.2.9-LIB) (2.2.1)\n",
      "Installing collected packages: networkx, jarowinkler, fastobo, rapidfuzz, pronto, appdirs, polly-validator, mixpanel, cryptography, polly-python\n",
      "  Attempting uninstall: networkx\n",
      "    Found existing installation: networkx 3.0\n",
      "    Uninstalling networkx-3.0:\n",
      "      Successfully uninstalled networkx-3.0\n",
      "  Attempting uninstall: polly-python\n",
      "    Found existing installation: polly-python 0.2.4\n",
      "    Uninstalling polly-python-0.2.4:\n",
      "      Successfully uninstalled polly-python-0.2.4\n",
      "Successfully installed appdirs-1.4.4 cryptography-39.0.1 fastobo-0.12.2 jarowinkler-1.0.5 mixpanel-4.10.0 networkx-2.8.8 polly-python-0.2.9 polly-validator-0.0.1 pronto-2.5.1 rapidfuzz-2.1.1\n",
      "\u001b[33mWARNING: Running pip as the 'root' user can result in broken permissions and conflicting behaviour with the system package manager. It is recommended to use a virtual environment instead: https://pip.pypa.io/warnings/venv\u001b[0m\n",
      "\u001b[33mWARNING: You are using pip version 21.2.4; however, version 23.0.1 is available.\n",
      "You should consider upgrading via the '/usr/local/bin/python3.10 -m pip install --upgrade pip' command.\u001b[0m\n"
     ]
    }
   ],
   "source": [
    "#LIB-441 : duplicated path combined metadatajson fix - bug in 0.2.8 fixing in 0.2.9\n",
    "!sudo pip3 install https://elucidatainc.github.io/PublicAssets/builds/polly-python/tests/testpolly/polly_python-0.2.9_LIB-441_duplicated_path_combined_metadatajson_fix-py3-none-any.whl"
   ]
  },
  {
   "cell_type": "code",
   "execution_count": 2,
   "metadata": {},
   "outputs": [
    {
     "name": "stdout",
     "output_type": "stream",
     "text": [
      "You're currently using an outdated version of polly-python '0.2.9'. Please update using the command 'pip install polly-python==0.2.8' to upgrade to the newest version '0.2.8'\n"
     ]
    }
   ],
   "source": [
    "AUTH_TOKEN=(os.environ['POLLY_REFRESH_TOKEN'])\n",
    "import os\n",
    "from polly.auth import Polly\n",
    "from polly.omixatlas import OmixAtlas\n",
    "Polly.auth(AUTH_TOKEN)"
   ]
  },
  {
   "cell_type": "code",
   "execution_count": 3,
   "metadata": {},
   "outputs": [
    {
     "name": "stdout",
     "output_type": "stream",
     "text": [
      "/bin/bash: warning: setlocale: LC_ALL: cannot change locale (en_US.UTF-8)\n",
      "combined_metadata_jsons/\n",
      "data/\n",
      "data_2/\n",
      "metadata/\n",
      "metadata_1/\n",
      "metadata_2/\n",
      "\n"
     ]
    }
   ],
   "source": [
    "!polly files list --workspace-path \"polly://repoid_1654268055800_files_test/\" -y"
   ]
  },
  {
   "cell_type": "code",
   "execution_count": 25,
   "metadata": {},
   "outputs": [
    {
     "name": "stdout",
     "output_type": "stream",
     "text": [
      "/bin/bash: warning: setlocale: LC_ALL: cannot change locale (en_US.UTF-8)\n",
      "\u001b[32m\u001b[1mRefreshing session...\u001b[22m\u001b[39m\n",
      "\u001b[32m\u001b[1mSession refreshed!\u001b[22m\u001b[39m\n",
      "\u001b7\u001b[?7l\u001b[1Gprogress [░░░░░░░░░░░░░░░░░░░░░░░░░░░░░░░░░░░░░░░░] 0% | NA | ETA: 0s | time elapsed: 0s\u001b[0K\u001b[1Gprogress [████████████████████████████████████████] 100% | 2.147 KB/2.147 KB | ETA: 0s | time elapsed: 0s\u001b[0K\u001b[?7h\u001b8\n",
      "\u001b[32m\u001b[1mSuccess: Sync complete\u001b[22m\u001b[39m\n"
     ]
    }
   ],
   "source": [
    "!polly files sync -s \"polly://repoid_1654268055800_files_test/\" -d \"repoid_1654268055800_files_test/\" -y"
   ]
  },
  {
   "cell_type": "code",
   "execution_count": 26,
   "metadata": {},
   "outputs": [
    {
     "name": "stdout",
     "output_type": "stream",
     "text": [
      "/bin/bash: warning: setlocale: LC_ALL: cannot change locale (en_US.UTF-8)\r\n",
      "repoid_1654268055800_files_test/combined_metadata_jsons:\r\n",
      "1673443183532_metadata.json  1674018000657_metadata_385_409.json\r\n",
      "\r\n",
      "repoid_1654268055800_files_test/data:\r\n",
      "BRCA_BCCRC_Mutation_SA018.gct  BRCA_BCCRC_Mutation_SAytc.gct\r\n",
      "BRCA_BCCRC_Mutation_SA029.gct  CCLE_Mutation_C3A_LIVER.gct\r\n",
      "BRCA_BCCRC_Mutation_SA031.gct\r\n",
      "\r\n",
      "repoid_1654268055800_files_test/data_2:\r\n",
      "ACBC_MSKCC_2015_Copy_Number_AdCC10T.gct\r\n",
      "\r\n",
      "repoid_1654268055800_files_test/metadata:\r\n",
      "BRCA_BCCRC_Mutation_SA018.json  BRCA_BCCRC_Mutation_SA031.json\r\n",
      "BRCA_BCCRC_Mutation_SA029.json  BRCA_BCCRC_Mutation_SA031_dummy.json\r\n",
      "BRCA_BCCRC_Mutation_SA030.json\r\n",
      "\r\n",
      "repoid_1654268055800_files_test/metadata_1:\r\n",
      "PRAD_CPCG_2017_Mutation_TCGA-2A-A8VL-01.json\r\n",
      "\r\n",
      "repoid_1654268055800_files_test/metadata_2:\r\n",
      "ACBC_MSKCC_2015_Copy_Number_AdCC10T.json\r\n",
      "\r\n",
      "repoid_1654268055800_files_test/metadata_3:\r\n",
      "ACBC_MSKCC_2015_Copy_Number_AdCC11T.json\r\n"
     ]
    }
   ],
   "source": [
    "ls repoid_1654268055800_files_test/*"
   ]
  },
  {
   "cell_type": "code",
   "execution_count": 6,
   "metadata": {},
   "outputs": [
    {
     "data": {
      "text/plain": [
       "['ACBC_MSKCC_2015_Copy_Number_AdCC10T.gct',\n",
       " 'ACBC_MSKCC_2015_Copy_Number_AdCC11T.gct',\n",
       " 'ACBC_MSKCC_2015_Copy_Number_AdCC12T.gct',\n",
       " 'GSE120833_GPL13112.gct',\n",
       " 'Mutation/CCLE_Mutation_C3A_LIVER.gct',\n",
       " 'Mutation/CCLE_Mutation_HEP3B217_LIVER.gct',\n",
       " 'Mutation/CCLE_Mutation_HEPG2_LIVER.gct',\n",
       " 'high/GSE120833_GPL13112.gct',\n",
       " 'transcriptomics_110/0.gct',\n",
       " 'transcriptomics_110/1.gct',\n",
       " 'transcriptomics_110/18.gct',\n",
       " 'transcriptomics_110/19.gct',\n",
       " 'transcriptomics_110/2.gct',\n",
       " 'transcriptomics_110/20.gct',\n",
       " 'transcriptomics_110/21.gct',\n",
       " 'transcriptomics_110/22.gct',\n",
       " 'transcriptomics_110/23.gct',\n",
       " 'transcriptomics_110/24.gct',\n",
       " 'transcriptomics_110/25.gct',\n",
       " 'transcriptomics_110/26.gct',\n",
       " 'transcriptomics_110/27.gct',\n",
       " 'transcriptomics_110/3.gct',\n",
       " 'transcriptomics_110/30.gct',\n",
       " 'transcriptomics_110/31.gct',\n",
       " 'transcriptomics_110/32.gct',\n",
       " 'transcriptomics_110/33.gct',\n",
       " 'transcriptomics_110/34.gct',\n",
       " 'transcriptomics_110/35.gct',\n",
       " 'transcriptomics_110/36.gct',\n",
       " 'transcriptomics_110/37.gct',\n",
       " 'transcriptomics_110/4.gct',\n",
       " 'transcriptomics_110/40.gct',\n",
       " 'transcriptomics_110/41.gct',\n",
       " 'transcriptomics_110/42.gct',\n",
       " 'transcriptomics_110/43.gct',\n",
       " 'transcriptomics_110/44.gct',\n",
       " 'transcriptomics_110/45.gct',\n",
       " 'transcriptomics_110/46.gct',\n",
       " 'transcriptomics_110/47.gct',\n",
       " 'transcriptomics_110/5.gct',\n",
       " 'transcriptomics_110/50.gct',\n",
       " 'transcriptomics_110/51.gct',\n",
       " 'transcriptomics_110/52.gct',\n",
       " 'transcriptomics_110/53.gct',\n",
       " 'transcriptomics_110/54.gct',\n",
       " 'transcriptomics_110/55.gct',\n",
       " 'transcriptomics_110/56.gct',\n",
       " 'transcriptomics_110/57.gct',\n",
       " 'transcriptomics_110/6.gct',\n",
       " 'transcriptomics_110/62.gct',\n",
       " 'transcriptomics_110/63.gct',\n",
       " 'transcriptomics_110/68.gct',\n",
       " 'transcriptomics_110/69.gct',\n",
       " 'transcriptomics_110/7.gct',\n",
       " 'transcriptomics_110/76.gct',\n",
       " 'transcriptomics_110/77.gct',\n",
       " 'transcriptomics_110/78.gct',\n",
       " 'transcriptomics_110/79.gct',\n",
       " 'transcriptomics_110/80.gct',\n",
       " 'transcriptomics_110/81.gct',\n",
       " 'transcriptomics_110/82.gct',\n",
       " 'transcriptomics_110/83.gct',\n",
       " 'transcriptomics_110/84.gct',\n",
       " 'transcriptomics_110/85.gct',\n",
       " 'transcriptomics_110/86.gct',\n",
       " 'transcriptomics_110/87.gct',\n",
       " 'transcriptomics_110/88.gct',\n",
       " 'transcriptomics_110/90.gct',\n",
       " 'transcriptomics_110/91.gct',\n",
       " 'transcriptomics_110/92.gct',\n",
       " 'transcriptomics_110/93.gct',\n",
       " 'transcriptomics_110/94.gct',\n",
       " 'transcriptomics_110/95.gct',\n",
       " 'transcriptomics_110/96.gct',\n",
       " 'transcriptomics_110/97.gct',\n",
       " 'transcriptomics_110/ACBC_MSKCC_2015_Copy_Number_AdCC10T.gct',\n",
       " 'transcriptomics_110/ACBC_MSKCC_2015_Copy_Number_AdCC11T.gct',\n",
       " 'transcriptomics_110/ACBC_MSKCC_2015_Copy_Number_AdCC12T.gct',\n",
       " 'transcriptomics_110/ACBC_MSKCC_2015_Copy_Number_AdCC1T.gct',\n",
       " 'transcriptomics_110/GSE110208_GPL19057.h5ad',\n",
       " 'transcriptomics_110/test_file_1.gct',\n",
       " 'transcriptomics_110/test_file_2.gct',\n",
       " 'transcriptomics_111/ACBC_MSKCC_2015_Copy_Number_AdCC10T.gct',\n",
       " 'transcriptomics_111/ACBC_MSKCC_2015_Copy_Number_AdCC11T.gct',\n",
       " 'transcriptomics_111/ACBC_MSKCC_2015_Copy_Number_AdCC12T.gct',\n",
       " 'transcriptomics_111/ACBC_MSKCC_2015_Copy_Number_AdCC1T.gct',\n",
       " 'transcriptomics_116/ACBC_MSKCC_2015_Copy_Number_AdCC10T.gct',\n",
       " 'transcriptomics_116/ACBC_MSKCC_2015_Copy_Number_AdCC11T.gct',\n",
       " 'transcriptomics_116/ACBC_MSKCC_2015_Copy_Number_AdCC12T.gct',\n",
       " 'transcriptomics_125/ACBC_MSKCC_2015_Copy_Number_AdCC10T.gct',\n",
       " 'transcriptomics_125/ACBC_MSKCC_2015_Copy_Number_AdCC11T.gct',\n",
       " 'transcriptomics_125/ACBC_MSKCC_2015_Copy_Number_AdCC12T.gct',\n",
       " 'transcriptomics_126/ACBC_MSKCC_2015_Copy_Number_AdCC10T.gct',\n",
       " 'transcriptomics_126/ACBC_MSKCC_2015_Copy_Number_AdCC11T.gct',\n",
       " 'transcriptomics_126/ACBC_MSKCC_2015_Copy_Number_AdCC12T.gct',\n",
       " 'transcriptomics_126/wrong_file.vcf.bz',\n",
       " 'transcriptomics_70/ACBC_MSKCC_2015_Copy_Number_AdCC10T.gct',\n",
       " 'transcriptomics_70/ACBC_MSKCC_2015_Copy_Number_AdCC11T.gct',\n",
       " 'transcriptomics_70/ACBC_MSKCC_2015_Copy_Number_AdCC12T.gct',\n",
       " 'transcriptomics_70/ACBC_MSKCC_2015_Copy_Number_AdCC1T.gct',\n",
       " 'transcriptomics_70/BRCA_BCCRC_Mutation_SA018.gct',\n",
       " 'transcriptomics_70/BRCA_BCCRC_Mutation_SA029.gct',\n",
       " 'transcriptomics_70/BRCA_BCCRC_Mutation_SA030.gct',\n",
       " 'transcriptomics_70/BRCA_BCCRC_Mutation_SA031.gct',\n",
       " 'transcriptomics_72/tcga_LIHC_Copy_Number_Segment_TCGA-FV-A4ZP-01A.gct',\n",
       " 'transcriptomics_73/tcga_LIHC_Copy_Number_Segment_TCGA-FV-A4ZP-01A.gct',\n",
       " 'transcriptomics_74/BRCA_BCCRC_Mutation_SA018.gct',\n",
       " 'transcriptomics_74/BRCA_BCCRC_Mutation_SA029.gct',\n",
       " 'transcriptomics_74/BRCA_BCCRC_Mutation_SA030.gct',\n",
       " 'transcriptomics_74/BRCA_BCCRC_Mutation_SA031.gct',\n",
       " 'transcriptomics_75/ACBC_MSKCC_2015_Copy_Number_AdCC10T.gct',\n",
       " 'transcriptomics_75/PRAD_CPCG_2017_Mutation_TCGA-2A-A8VL-01.gct',\n",
       " 'transcriptomics_75/PRAD_CPCG_2017_Mutation_TCGA-2A-A8VO-01.gct',\n",
       " 'transcriptomics_75/PRAD_CPCG_2017_Mutation_TCGA-2A-A8VV-01.gct',\n",
       " 'transcriptomics_75/PRAD_CPCG_2017_Mutation_TCGA-2A-A8W1-01.gct',\n",
       " 'transcriptomics_75/PRAD_P1000_Mutation_TCGA-2A-A8VL-01.gct',\n",
       " 'transcriptomics_76/BRCA_BCCRC_Mutation_SA018.gct',\n",
       " 'transcriptomics_76/BRCA_BCCRC_Mutation_SA018_AD_SN.gct',\n",
       " 'transcriptomics_76/BRCA_BCCRC_Mutation_SA029.gct',\n",
       " 'transcriptomics_76/BRCA_BCCRC_Mutation_SA030.gct',\n",
       " 'transcriptomics_76/BRCA_BCCRC_Mutation_SA031.gct',\n",
       " 'transcriptomics_80/tcga_LIHC_Copy_Number_Segment_TCGA-FV-A4ZP-01A.gct',\n",
       " 'transcriptomics_81/tcga_LIHC_Copy_Number_Segment_TCGA-FV-A4ZP-01A.gct',\n",
       " 'transcriptomics_test/ACBC_MSKCC_2015_Copy_Number_AdCC10T.gct',\n",
       " 'transcriptomics_test/ACBC_MSKCC_2015_Copy_Number_AdCC11T.gct',\n",
       " 'transcriptomics_test/ACBC_MSKCC_2015_Copy_Number_AdCC12T.gct',\n",
       " 'transcriptomics_test/ACBC_MSKCC_2015_Copy_Number_AdCC1T.gct',\n",
       " 'transcriptomics_test_add_delete/tcga_LIHC_Copy_Number_Segment_TCGA-FV-A3R2-01A.gct',\n",
       " 'transcriptomics_test_add_delete/tcga_LIHC_Copy_Number_Segment_TCGA-FV-A3R3-01A.gct',\n",
       " 'bulk_multithread_test/GSE80352_GPL11154.gct',\n",
       " 'bulk_multithread_test/GSE80346_GPL17021.gct',\n",
       " 'bulk_multithread_test/GSE80351_GPL11154.gct',\n",
       " 'bulk_multithread_test/GSE8034_GPL1261.gct',\n",
       " 'bulk_multithread_test/GSE80388_GPL15520.gct',\n",
       " 'bulk_multithread_test/GSE803_GPL95.gct',\n",
       " 'bulk_multithread_test/GSE803_GPL92.gct',\n",
       " 'bulk_multithread_test/GSE8039_GPL1261.gct',\n",
       " 'bulk_multithread_test/GSE80411_GPL11154.gct',\n",
       " 'bulk_multithread_test/GSE80410_GPL11533.gct',\n",
       " 'bulk_multithread_test/GSE80425_GPL13112.gct',\n",
       " 'bulk_multithread_test/GSE80410_GPL11532.gct',\n",
       " 'bulk_multithread_test/GSE80305_GPL11154.gct',\n",
       " 'bulk_multithread_test/GSE80340_GPL1355.gct',\n",
       " 'bulk_multithread_test/GSE80344_GPL16699.gct',\n",
       " 'bulk_multithread_test/GSE80313_GPL11154.gct',\n",
       " 'bulk_multithread_test/GSE80366_GPL16791.gct',\n",
       " 'bulk_multithread_test/GSE80365_GPL16791.gct',\n",
       " 'bulk_multithread_test/GSE80372_GPL18573.gct',\n",
       " 'bulk_multithread_test/GSE80356_GPL14550.gct']"
      ]
     },
     "execution_count": 6,
     "metadata": {},
     "output_type": "execute_result"
    }
   ],
   "source": [
    "omixatlas = OmixAtlas()\n",
    "list_oa_response = omixatlas._list_files_in_oa(\"1654268055800\")\n",
    "oa_data_files_list = []\n",
    "for response_data in list_oa_response:\n",
    "    for item in response_data:\n",
    "        file_id = item.get(\"id\")\n",
    "        oa_data_files_list.append(file_id)\n",
    "oa_data_files_list"
   ]
  },
  {
   "cell_type": "markdown",
   "metadata": {},
   "source": [
    "Case 2: only updating metadata file:\n",
    "case 2.a: DFP provided is the same as that where the data was uploaded and the data file is present in the OA -> pass -> positive\n",
    "case 2.b.: some DFP provided, but the data file is not present in OA ie, data has never been ingested before -> waring, skip -> egative\n",
    "case 2.c.: DFP provided, data file is present in OA, but is present in a different DFP than provided -> wrning, skip\n",
    "case 2.c.i: DFP not provided, data file present in OA -> warning, skip\n",
    "case 2.d : invalid DFP provided -> invalid param exception\n"
   ]
  },
  {
   "cell_type": "code",
   "execution_count": 7,
   "metadata": {},
   "outputs": [
    {
     "name": "stdout",
     "output_type": "stream",
     "text": [
      "/bin/bash: warning: setlocale: LC_ALL: cannot change locale (en_US.UTF-8)\r\n",
      "BRCA_BCCRC_Mutation_SA018.json\tBRCA_BCCRC_Mutation_SA031.json\r\n",
      "BRCA_BCCRC_Mutation_SA029.json\tBRCA_BCCRC_Mutation_SA031_dummy.json\r\n",
      "BRCA_BCCRC_Mutation_SA030.json\r\n"
     ]
    },
    {
     "name": "stderr",
     "output_type": "stream",
     "text": [
      "Processing Metadata files:   0%|          | 0/5 [00:00<?, ?it/s]WARNING: Unable to update metadata/data file BRCA_BCCRC_Mutation_SA031_dummy.json because corresponding data/metadata file not present in OmixAtlas. Please add the files using add_datasets function. For any questions, please reach out to polly.support@elucidata.io. \n",
      "Processing Metadata files: 100%|██████████| 5/5 [00:00<00:00, 331.64it/s]\n"
     ]
    },
    {
     "name": "stdout",
     "output_type": "stream",
     "text": [
      "Please wait for 30 seconds while your ingestion request is getting logged.\n",
      "\n",
      "\n",
      "Your ingestion request is successfully logged. You can go to ingestion monitoring dashboard for tracking it's status.\n",
      "\n",
      "                 File Name        Message\n",
      "0  combined_metadata.json  File Uploaded\n"
     ]
    },
    {
     "data": {
      "text/html": [
       "<div>\n",
       "<style scoped>\n",
       "    .dataframe tbody tr th:only-of-type {\n",
       "        vertical-align: middle;\n",
       "    }\n",
       "\n",
       "    .dataframe tbody tr th {\n",
       "        vertical-align: top;\n",
       "    }\n",
       "\n",
       "    .dataframe thead th {\n",
       "        text-align: right;\n",
       "    }\n",
       "</style>\n",
       "<table border=\"1\" class=\"dataframe\">\n",
       "  <thead>\n",
       "    <tr style=\"text-align: right;\">\n",
       "      <th></th>\n",
       "      <th>File Name</th>\n",
       "      <th>Message</th>\n",
       "    </tr>\n",
       "  </thead>\n",
       "  <tbody>\n",
       "    <tr>\n",
       "      <th>0</th>\n",
       "      <td>combined_metadata.json</td>\n",
       "      <td>File Uploaded</td>\n",
       "    </tr>\n",
       "  </tbody>\n",
       "</table>\n",
       "</div>"
      ],
      "text/plain": [
       "                File Name        Message\n",
       "0  combined_metadata.json  File Uploaded"
      ]
     },
     "execution_count": 7,
     "metadata": {},
     "output_type": "execute_result"
    }
   ],
   "source": [
    "#case2.a : only updating metadata file and dDFP provided is the same as that where the data was uploaded and the data file is present in the OA\n",
    "# were uploaded to the OA\n",
    "# BRCA_BCCRC_Mutation_SA018.json -> 'transcriptomics_70', 'transcriptomics_76', 'transcriptomics_74' \n",
    "# BRCA_BCCRC_Mutation_SA029.json -> 'transcriptomics_70', 'transcriptomics_76', 'transcriptomics_74' \n",
    "# BRCA_BCCRC_Mutation_SA030.json -> 'transcriptomics_70', 'transcriptomics_76', 'transcriptomics_74' \n",
    "# BRCA_BCCRC_Mutation_SA031.json -> 'transcriptomics_70', 'transcriptomics_76', 'transcriptomics_74' \n",
    "# BRCA_BCCRC_Mutation_SA031_dummy.json -> corresponding data file not present in OA\n",
    "\n",
    "!ls repoid_1654268055800_files_test/metadata/\n",
    "\n",
    "metadata_folder_path = \"repoid_1654268055800_files_test/metadata/\"\n",
    "repo_id= \"1654268055800\"\n",
    "destination_folder_path = \"transcriptomics_70\"\n",
    "priority = \"high\"\n",
    "source_folder_path = {\"metadata\":metadata_folder_path}\n",
    "omixatlas.update_datasets(repo_id, source_folder_path, destination_folder_path, priority)"
   ]
  },
  {
   "cell_type": "raw",
   "metadata": {},
   "source": [
    "#checked the combined_metadata.json from AWS \n",
    "shilpanair ~/Downloads  $ grep -w \"id\" 1677219366862_metadata.json\n",
    "            \"id\": \"metadata/ingestion\",\n",
    "            \"id\": \"transcriptomics_70/BRCA_BCCRC_Mutation_SA029.gct\",\n",
    "                \"description\": \"BRCA_BCCRC Mutation dataset for sample id - BRCA_BCCRC_Mutation_SA029\",\n",
    "            \"id\": \"transcriptomics_70/BRCA_BCCRC_Mutation_SA018.gct\",\n",
    "                \"description\": \"Mutation dataset for sample id - BRCA_BCCRC_Mutation_SA018\",\n",
    "            \"id\": \"transcriptomics_70/BRCA_BCCRC_Mutation_SA030.gct\",\n",
    "                \"description\": \"BRCA_BCCRC Mutation dataset for sample id - BRCA_BCCRC_Mutation_SA030\",\n",
    "            \"id\": \"transcriptomics_70/BRCA_BCCRC_Mutation_SA031.gct\",\n",
    "                \"description\": \"BRCA_BCCRC Mutation dataset for sample id - BRCA_BCCRC_Mutation_SA031\",\n",
    "# the run also came up on the ingestion monitoring dashboard. "
   ]
  },
  {
   "cell_type": "code",
   "execution_count": 9,
   "metadata": {},
   "outputs": [
    {
     "name": "stdout",
     "output_type": "stream",
     "text": [
      "/bin/bash: warning: setlocale: LC_ALL: cannot change locale (en_US.UTF-8)\r\n",
      "BRCA_BCCRC_Mutation_SA018.json\tBRCA_BCCRC_Mutation_SA031.json\r\n",
      "BRCA_BCCRC_Mutation_SA029.json\tBRCA_BCCRC_Mutation_SA031_dummy.json\r\n",
      "BRCA_BCCRC_Mutation_SA030.json\r\n"
     ]
    },
    {
     "name": "stderr",
     "output_type": "stream",
     "text": [
      "Processing Metadata files:   0%|          | 0/5 [00:00<?, ?it/s]WARNING: Unable to update the data/metadata for  BRCA_BCCRC_Mutation_SA029.json because original data file not present in the provided destination folder path: \n",
      " Mutation in the omixatlas. Please choose the required destination folder path from the following: \n",
      " ['transcriptomics_70', 'transcriptomics_74', 'transcriptomics_76'].\n",
      " For any questions, please reach out to polly.support@elucidata.io.  \n",
      " Please use add_datasets to upload the files if no destination folder paths in the Omixatlas contain the data being updated by you.\n",
      "WARNING: Unable to update the data/metadata for  BRCA_BCCRC_Mutation_SA018.json because original data file not present in the provided destination folder path: \n",
      " Mutation in the omixatlas. Please choose the required destination folder path from the following: \n",
      " ['transcriptomics_70', 'transcriptomics_74', 'transcriptomics_76'].\n",
      " For any questions, please reach out to polly.support@elucidata.io.  \n",
      " Please use add_datasets to upload the files if no destination folder paths in the Omixatlas contain the data being updated by you.\n",
      "WARNING: Unable to update the data/metadata for  BRCA_BCCRC_Mutation_SA030.json because original data file not present in the provided destination folder path: \n",
      " Mutation in the omixatlas. Please choose the required destination folder path from the following: \n",
      " ['transcriptomics_70', 'transcriptomics_74', 'transcriptomics_76'].\n",
      " For any questions, please reach out to polly.support@elucidata.io.  \n",
      " Please use add_datasets to upload the files if no destination folder paths in the Omixatlas contain the data being updated by you.\n",
      "WARNING: Unable to update the data/metadata for  BRCA_BCCRC_Mutation_SA031.json because original data file not present in the provided destination folder path: \n",
      " Mutation in the omixatlas. Please choose the required destination folder path from the following: \n",
      " ['transcriptomics_70', 'transcriptomics_74', 'transcriptomics_76'].\n",
      " For any questions, please reach out to polly.support@elucidata.io.  \n",
      " Please use add_datasets to upload the files if no destination folder paths in the Omixatlas contain the data being updated by you.\n",
      "WARNING: Unable to update metadata/data file BRCA_BCCRC_Mutation_SA031_dummy.json because corresponding data/metadata file not present in OmixAtlas. Please add the files using add_datasets function. For any questions, please reach out to polly.support@elucidata.io. \n",
      "Processing Metadata files: 100%|██████████| 5/5 [00:00<00:00, 326.31it/s]\n"
     ]
    }
   ],
   "source": [
    "#case2.b and case2.c: only updating metadata file and destination folder path doensn't match the folders where the corresponding data files \n",
    "# were uploaded to the OA\n",
    "# BRCA_BCCRC_Mutation_SA018.json -> 'transcriptomics_70', 'transcriptomics_76', 'transcriptomics_74' \n",
    "# BRCA_BCCRC_Mutation_SA029.json -> 'transcriptomics_70', 'transcriptomics_76', 'transcriptomics_74' \n",
    "# BRCA_BCCRC_Mutation_SA030.json -> 'transcriptomics_70', 'transcriptomics_76', 'transcriptomics_74' \n",
    "# BRCA_BCCRC_Mutation_SA031.json -> 'transcriptomics_70', 'transcriptomics_76', 'transcriptomics_74' \n",
    "# BRCA_BCCRC_Mutation_SA031_dummy.json -> corresponding data file not present in OA\n",
    "\n",
    "!ls repoid_1654268055800_files_test/metadata/\n",
    "\n",
    "metadata_folder_path = \"repoid_1654268055800_files_test/metadata/\"\n",
    "repo_id= \"1654268055800\"\n",
    "destination_folder_path = \"Mutation\"\n",
    "priority = \"high\"\n",
    "source_folder_path = {\"metadata\":metadata_folder_path}\n",
    "omixatlas.update_datasets(repo_id, source_folder_path, destination_folder_path, priority)"
   ]
  },
  {
   "cell_type": "code",
   "execution_count": 9,
   "metadata": {},
   "outputs": [
    {
     "name": "stdout",
     "output_type": "stream",
     "text": [
      "/bin/bash: warning: setlocale: LC_ALL: cannot change locale (en_US.UTF-8)\r\n",
      "BRCA_BCCRC_Mutation_SA018.json\tBRCA_BCCRC_Mutation_SA031.json\r\n",
      "BRCA_BCCRC_Mutation_SA029.json\tBRCA_BCCRC_Mutation_SA031_dummy.json\r\n",
      "BRCA_BCCRC_Mutation_SA030.json\r\n"
     ]
    },
    {
     "name": "stderr",
     "output_type": "stream",
     "text": [
      "Processing Metadata files:   0%|          | 0/5 [00:00<?, ?it/s]WARNING: Unable to update the data/metadata for  BRCA_BCCRC_Mutation_SA018.json because original data file not present in the provided destination folder path: \n",
      "  in the omixatlas. Please choose the required destination folder path from the following: \n",
      " ['transcriptomics_76', 'transcriptomics_70', 'transcriptomics_74'].\n",
      " For any questions, please reach out to polly.support@elucidata.io.  \n",
      " Please use add_datasets to upload the files if no destination folder paths in the Omixatlas contain the data being updated by you.\n",
      "Processing Metadata files:  20%|██        | 1/5 [00:00<00:02,  1.43it/s]WARNING: Unable to update the data/metadata for  BRCA_BCCRC_Mutation_SA031.json because original data file not present in the provided destination folder path: \n",
      "  in the omixatlas. Please choose the required destination folder path from the following: \n",
      " ['transcriptomics_76', 'transcriptomics_70', 'transcriptomics_74'].\n",
      " For any questions, please reach out to polly.support@elucidata.io.  \n",
      " Please use add_datasets to upload the files if no destination folder paths in the Omixatlas contain the data being updated by you.\n",
      "WARNING: Unable to update the data/metadata for  BRCA_BCCRC_Mutation_SA030.json because original data file not present in the provided destination folder path: \n",
      "  in the omixatlas. Please choose the required destination folder path from the following: \n",
      " ['transcriptomics_76', 'transcriptomics_70', 'transcriptomics_74'].\n",
      " For any questions, please reach out to polly.support@elucidata.io.  \n",
      " Please use add_datasets to upload the files if no destination folder paths in the Omixatlas contain the data being updated by you.\n",
      "WARNING: Unable to update the data/metadata for  BRCA_BCCRC_Mutation_SA029.json because original data file not present in the provided destination folder path: \n",
      "  in the omixatlas. Please choose the required destination folder path from the following: \n",
      " ['transcriptomics_76', 'transcriptomics_70', 'transcriptomics_74'].\n",
      " For any questions, please reach out to polly.support@elucidata.io.  \n",
      " Please use add_datasets to upload the files if no destination folder paths in the Omixatlas contain the data being updated by you.\n",
      "WARNING: Unable to update metadata/data file BRCA_BCCRC_Mutation_SA031_dummy.json because corresponding data/metadata file not present in OmixAtlas. Please add the files using add_datasets function. For any questions, please reach out to polly.support@elucidata.io. \n",
      "Processing Metadata files: 100%|██████████| 5/5 [00:00<00:00,  7.01it/s]\n"
     ]
    }
   ],
   "source": [
    "# case 2.c.i : updating only metadta file and not providing ant DFP and the files are not present in root dir\n",
    "# BRCA_BCCRC_Mutation_SA018.json -> 'transcriptomics_70', 'transcriptomics_76', 'transcriptomics_74' \n",
    "# BRCA_BCCRC_Mutation_SA029.json -> 'transcriptomics_70', 'transcriptomics_76', 'transcriptomics_74' \n",
    "# BRCA_BCCRC_Mutation_SA030.json -> 'transcriptomics_70', 'transcriptomics_76', 'transcriptomics_74' \n",
    "# BRCA_BCCRC_Mutation_SA031.json -> 'transcriptomics_70', 'transcriptomics_76', 'transcriptomics_74' \n",
    "# BRCA_BCCRC_Mutation_SA031_dummy.json -> corresponding data file not present in OA\n",
    "\n",
    "!ls repoid_1654268055800_files_test/metadata/\n",
    "\n",
    "metadata_folder_path = \"repoid_1654268055800_files_test/metadata/\"\n",
    "repo_id= \"1654268055800\"\n",
    "priority = \"high\"\n",
    "source_folder_path = {\"metadata\":metadata_folder_path}\n",
    "omixatlas.update_datasets(repo_id, source_folder_path, priority = priority)"
   ]
  },
  {
   "cell_type": "code",
   "execution_count": 10,
   "metadata": {},
   "outputs": [
    {
     "name": "stdout",
     "output_type": "stream",
     "text": [
      "/bin/bash: warning: setlocale: LC_ALL: cannot change locale (en_US.UTF-8)\r\n",
      "BRCA_BCCRC_Mutation_SA018.json\tBRCA_BCCRC_Mutation_SA031.json\r\n",
      "BRCA_BCCRC_Mutation_SA029.json\tBRCA_BCCRC_Mutation_SA031_dummy.json\r\n",
      "BRCA_BCCRC_Mutation_SA030.json\r\n"
     ]
    },
    {
     "ename": "paramException",
     "evalue": "paramException (parameter error): Destination folder passed does not exist. Either wrong destination folder passed for the existing data/metadata.Valid destination folders are ['transcriptomics_76', 'transcriptomics_73', 'transcriptomics_72', 'transcriptomics_126', 'transcriptomics_110', 'transcriptomics_74', '.', 'transcriptomics_111', 'transcriptomics_81', 'bulk_multithread_test', 'transcriptomics_75', 'transcriptomics_116', 'Mutation', 'transcriptomics_test', 'transcriptomics_70', 'transcriptomics_test_add_delete', 'transcriptomics_125', 'high', 'transcriptomics_80'] in this repository. Or data/metadata passed in update does not exist in this repository from before, in that case, please use the add_dataset functionality.",
     "output_type": "error",
     "traceback": [
      "\u001b[0;31m---------------------------------------------------------------------------\u001b[0m",
      "\u001b[0;31mparamException\u001b[0m                            Traceback (most recent call last)",
      "Input \u001b[0;32mIn [10]\u001b[0m, in \u001b[0;36m<cell line: 10>\u001b[0;34m()\u001b[0m\n\u001b[1;32m      8\u001b[0m priority \u001b[38;5;241m=\u001b[39m \u001b[38;5;124m\"\u001b[39m\u001b[38;5;124mhigh\u001b[39m\u001b[38;5;124m\"\u001b[39m\n\u001b[1;32m      9\u001b[0m source_folder_path \u001b[38;5;241m=\u001b[39m {\u001b[38;5;124m\"\u001b[39m\u001b[38;5;124mmetadata\u001b[39m\u001b[38;5;124m\"\u001b[39m:metadata_folder_path}\n\u001b[0;32m---> 10\u001b[0m \u001b[43momixatlas\u001b[49m\u001b[38;5;241;43m.\u001b[39;49m\u001b[43mupdate_datasets\u001b[49m\u001b[43m(\u001b[49m\u001b[43mrepo_id\u001b[49m\u001b[43m,\u001b[49m\u001b[43m \u001b[49m\u001b[43msource_folder_path\u001b[49m\u001b[43m,\u001b[49m\u001b[43m \u001b[49m\u001b[43mdestination_folder_path\u001b[49m\u001b[43m,\u001b[49m\u001b[43m \u001b[49m\u001b[43mpriority\u001b[49m\u001b[43m)\u001b[49m\n",
      "File \u001b[0;32m/usr/local/lib/python3.10/site-packages/polly/tracking.py:48\u001b[0m, in \u001b[0;36mTrack.track_decorator.<locals>.wrapper_function\u001b[0;34m(*args, **kwargs)\u001b[0m\n\u001b[1;32m     46\u001b[0m         \u001b[38;5;28;01mreturn\u001b[39;00m result\n\u001b[1;32m     47\u001b[0m \u001b[38;5;28;01melse\u001b[39;00m:\n\u001b[0;32m---> 48\u001b[0m     \u001b[38;5;28;01mraise\u001b[39;00m returned_err\n",
      "File \u001b[0;32m/usr/local/lib/python3.10/site-packages/polly/tracking.py:20\u001b[0m, in \u001b[0;36mTrack.track_decorator.<locals>.wrapper_function\u001b[0;34m(*args, **kwargs)\u001b[0m\n\u001b[1;32m     18\u001b[0m execution_flag \u001b[38;5;241m=\u001b[39m \u001b[38;5;28;01mFalse\u001b[39;00m\n\u001b[1;32m     19\u001b[0m \u001b[38;5;28;01mtry\u001b[39;00m:\n\u001b[0;32m---> 20\u001b[0m     result \u001b[38;5;241m=\u001b[39m \u001b[43mfunction\u001b[49m\u001b[43m(\u001b[49m\u001b[38;5;241;43m*\u001b[39;49m\u001b[43margs\u001b[49m\u001b[43m,\u001b[49m\u001b[43m \u001b[49m\u001b[38;5;241;43m*\u001b[39;49m\u001b[38;5;241;43m*\u001b[39;49m\u001b[43mkwargs\u001b[49m\u001b[43m)\u001b[49m\n\u001b[1;32m     21\u001b[0m     execution_flag \u001b[38;5;241m=\u001b[39m \u001b[38;5;28;01mTrue\u001b[39;00m\n\u001b[1;32m     22\u001b[0m \u001b[38;5;28;01mexcept\u001b[39;00m \u001b[38;5;167;01mException\u001b[39;00m \u001b[38;5;28;01mas\u001b[39;00m e:\n",
      "File \u001b[0;32m/usr/local/lib/python3.10/site-packages/polly/omixatlas.py:2292\u001b[0m, in \u001b[0;36mOmixAtlas.update_datasets\u001b[0;34m(self, repo_id, source_folder_path, destination_folder_path, priority, validation)\u001b[0m\n\u001b[1;32m   2280\u001b[0m     file_status_dict \u001b[38;5;241m=\u001b[39m \u001b[38;5;28mself\u001b[39m\u001b[38;5;241m.\u001b[39m_update_metadata_data(\n\u001b[1;32m   2281\u001b[0m         repo_id,\n\u001b[1;32m   2282\u001b[0m         source_folder_path,\n\u001b[0;32m   (...)\u001b[0m\n\u001b[1;32m   2289\u001b[0m         validation_dataset_lvl,\n\u001b[1;32m   2290\u001b[0m     )\n\u001b[1;32m   2291\u001b[0m \u001b[38;5;28;01mexcept\u001b[39;00m \u001b[38;5;167;01mException\u001b[39;00m \u001b[38;5;28;01mas\u001b[39;00m err:\n\u001b[0;32m-> 2292\u001b[0m     \u001b[38;5;28;01mraise\u001b[39;00m err\n\u001b[1;32m   2294\u001b[0m \u001b[38;5;28;01mif\u001b[39;00m file_status_dict:\n\u001b[1;32m   2295\u001b[0m     result_list \u001b[38;5;241m=\u001b[39m \u001b[38;5;28mself\u001b[39m\u001b[38;5;241m.\u001b[39m_generating_response_from_status_dict(\n\u001b[1;32m   2296\u001b[0m         file_status_dict, result_list\n\u001b[1;32m   2297\u001b[0m     )\n",
      "File \u001b[0;32m/usr/local/lib/python3.10/site-packages/polly/omixatlas.py:2269\u001b[0m, in \u001b[0;36mOmixAtlas.update_datasets\u001b[0;34m(self, repo_id, source_folder_path, destination_folder_path, priority, validation)\u001b[0m\n\u001b[1;32m   2264\u001b[0m \u001b[38;5;66;03m# check destination folder passed is a valid destination folder\u001b[39;00m\n\u001b[1;32m   2265\u001b[0m \u001b[38;5;66;03m# or not. If not then raise an error and halt the process\u001b[39;00m\n\u001b[1;32m   2266\u001b[0m \u001b[38;5;66;03m# If destination_folder_path is empty then it is a valid\u001b[39;00m\n\u001b[1;32m   2267\u001b[0m \u001b[38;5;66;03m# destination_folder_path -> no need to check for that\u001b[39;00m\n\u001b[1;32m   2268\u001b[0m \u001b[38;5;28;01mif\u001b[39;00m destination_folder_path:\n\u001b[0;32m-> 2269\u001b[0m     \u001b[38;5;28;43mself\u001b[39;49m\u001b[38;5;241;43m.\u001b[39;49m\u001b[43m_check_destination_folder\u001b[49m\u001b[43m(\u001b[49m\u001b[43mdestination_folder_path\u001b[49m\u001b[43m,\u001b[49m\u001b[43m \u001b[49m\u001b[43mrepo_id\u001b[49m\u001b[43m)\u001b[49m\n\u001b[1;32m   2271\u001b[0m \u001b[38;5;66;03m# unmapped_file_names (list): data file names which are not mapped\u001b[39;00m\n\u001b[1;32m   2272\u001b[0m \u001b[38;5;66;03m# unmapped_metadata_file_names (list): metadata file names which are not mapped\u001b[39;00m\n\u001b[1;32m   2273\u001b[0m \u001b[38;5;66;03m# final_data_metadata_mapping_dict (dict): dict of data metadata mapping\u001b[39;00m\n\u001b[1;32m   2274\u001b[0m (\n\u001b[1;32m   2275\u001b[0m     final_data_metadata_mapping_dict,\n\u001b[1;32m   2276\u001b[0m     unmapped_file_names,\n\u001b[1;32m   2277\u001b[0m     unmapped_metadata_file_names,\n\u001b[1;32m   2278\u001b[0m ) \u001b[38;5;241m=\u001b[39m \u001b[38;5;28mself\u001b[39m\u001b[38;5;241m.\u001b[39m_map_data_metadata_files_for_update(source_folder_path)\n",
      "File \u001b[0;32m/usr/local/lib/python3.10/site-packages/polly/omixatlas.py:2362\u001b[0m, in \u001b[0;36mOmixAtlas._check_destination_folder\u001b[0;34m(self, destination_folder_path, repo_id)\u001b[0m\n\u001b[1;32m   2357\u001b[0m valid_folder_list \u001b[38;5;241m=\u001b[39m helpers\u001b[38;5;241m.\u001b[39mget_folder_list_from_list_of_filepaths(\n\u001b[1;32m   2358\u001b[0m     oa_data_files_list\n\u001b[1;32m   2359\u001b[0m )\n\u001b[1;32m   2361\u001b[0m \u001b[38;5;28;01mif\u001b[39;00m destination_folder_path \u001b[38;5;129;01mnot\u001b[39;00m \u001b[38;5;129;01min\u001b[39;00m valid_folder_list:\n\u001b[0;32m-> 2362\u001b[0m     \u001b[38;5;28;01mraise\u001b[39;00m paramException(\n\u001b[1;32m   2363\u001b[0m         title\u001b[38;5;241m=\u001b[39m\u001b[38;5;124m\"\u001b[39m\u001b[38;5;124mDestination Folder passed does not exist\u001b[39m\u001b[38;5;124m\"\u001b[39m,\n\u001b[1;32m   2364\u001b[0m         detail\u001b[38;5;241m=\u001b[39m(\n\u001b[1;32m   2365\u001b[0m             \u001b[38;5;124m\"\u001b[39m\u001b[38;5;124mDestination folder passed does not exist. \u001b[39m\u001b[38;5;124m\"\u001b[39m\n\u001b[1;32m   2366\u001b[0m             \u001b[38;5;241m+\u001b[39m \u001b[38;5;124m\"\u001b[39m\u001b[38;5;124mEither wrong destination folder passed for the existing data/metadata.\u001b[39m\u001b[38;5;124m\"\u001b[39m\n\u001b[1;32m   2367\u001b[0m             \u001b[38;5;241m+\u001b[39m \u001b[38;5;124mf\u001b[39m\u001b[38;5;124m\"\u001b[39m\u001b[38;5;124mValid destination folders are \u001b[39m\u001b[38;5;132;01m{\u001b[39;00mvalid_folder_list\u001b[38;5;132;01m}\u001b[39;00m\u001b[38;5;124m in this repository. \u001b[39m\u001b[38;5;124m\"\u001b[39m\n\u001b[1;32m   2368\u001b[0m             \u001b[38;5;241m+\u001b[39m \u001b[38;5;124m\"\u001b[39m\u001b[38;5;124mOr data/metadata passed in update does not exist in this repository \u001b[39m\u001b[38;5;124m\"\u001b[39m\n\u001b[1;32m   2369\u001b[0m             \u001b[38;5;241m+\u001b[39m \u001b[38;5;124m\"\u001b[39m\u001b[38;5;124mfrom before, in that case, please use the add_dataset functionality.\u001b[39m\u001b[38;5;124m\"\u001b[39m\n\u001b[1;32m   2370\u001b[0m         ),\n\u001b[1;32m   2371\u001b[0m     )\n",
      "\u001b[0;31mparamException\u001b[0m: paramException (parameter error): Destination folder passed does not exist. Either wrong destination folder passed for the existing data/metadata.Valid destination folders are ['transcriptomics_76', 'transcriptomics_73', 'transcriptomics_72', 'transcriptomics_126', 'transcriptomics_110', 'transcriptomics_74', '.', 'transcriptomics_111', 'transcriptomics_81', 'bulk_multithread_test', 'transcriptomics_75', 'transcriptomics_116', 'Mutation', 'transcriptomics_test', 'transcriptomics_70', 'transcriptomics_test_add_delete', 'transcriptomics_125', 'high', 'transcriptomics_80'] in this repository. Or data/metadata passed in update does not exist in this repository from before, in that case, please use the add_dataset functionality."
     ]
    }
   ],
   "source": [
    "# case 2.d: updating only metadata file and invalid DFP\n",
    "# EXPECTED: parameter exception\n",
    "!ls repoid_1654268055800_files_test/metadata/\n",
    "\n",
    "metadata_folder_path = \"repoid_1654268055800_files_test/metadata/\"\n",
    "repo_id= \"1654268055800\"\n",
    "destination_folder_path = \"some_randome_anme\"\n",
    "priority = \"high\"\n",
    "source_folder_path = {\"metadata\":metadata_folder_path}\n",
    "omixatlas.update_datasets(repo_id, source_folder_path, destination_folder_path, priority)"
   ]
  },
  {
   "cell_type": "raw",
   "metadata": {},
   "source": [
    "Case 3: only updating data file:\n",
    "    case3.a: DFP provided is the same as that where the data was uploaded and the data file is present in the OA -> pass -> positive\n",
    "\n",
    "    case 3.b.: some DFP provided, but the data file is not present in OA ie, data has never been ingested before -> waring, skip -> egative\n",
    "\n",
    "        case 3.c.: DFP provided, data file is present in OA, but is present in a different DFP than provided -> wrning, skip\n",
    "\n",
    "    case 3.c.i: DFP not provided, data file present in OA -> warning, skip\n",
    "'''\n",
    "\n"
   ]
  },
  {
   "cell_type": "code",
   "execution_count": 10,
   "metadata": {},
   "outputs": [
    {
     "name": "stderr",
     "output_type": "stream",
     "text": [
      "WARNING: Unable to update metadata/data file BRCA_BCCRC_Mutation_SAytc.gct because corresponding data/metadata file not present in OmixAtlas. Please add the files using add_datasets function. For any questions, please reach out to polly.support@elucidata.io. \n",
      "WARNING: Unable to update the data/metadata for  BRCA_BCCRC_Mutation_SA031.gct because original data file not present in the provided destination folder path: \n",
      "  in the omixatlas. Please choose the required destination folder path from the following: \n",
      " ['transcriptomics_70', 'transcriptomics_74', 'transcriptomics_76'].\n",
      " For any questions, please reach out to polly.support@elucidata.io.  \n",
      " Please use add_datasets to upload the files if no destination folder paths in the Omixatlas contain the data being updated by you.\n",
      "WARNING: Unable to update the data/metadata for  CCLE_Mutation_C3A_LIVER.gct because original data file not present in the provided destination folder path: \n",
      "  in the omixatlas. Please choose the required destination folder path from the following: \n",
      " ['Mutation'].\n",
      " For any questions, please reach out to polly.support@elucidata.io.  \n",
      " Please use add_datasets to upload the files if no destination folder paths in the Omixatlas contain the data being updated by you.\n",
      "WARNING: Unable to update the data/metadata for  BRCA_BCCRC_Mutation_SA018.gct because original data file not present in the provided destination folder path: \n",
      "  in the omixatlas. Please choose the required destination folder path from the following: \n",
      " ['transcriptomics_70', 'transcriptomics_74', 'transcriptomics_76'].\n",
      " For any questions, please reach out to polly.support@elucidata.io.  \n",
      " Please use add_datasets to upload the files if no destination folder paths in the Omixatlas contain the data being updated by you.\n",
      "WARNING: Unable to update the data/metadata for  BRCA_BCCRC_Mutation_SA029.gct because original data file not present in the provided destination folder path: \n",
      "  in the omixatlas. Please choose the required destination folder path from the following: \n",
      " ['transcriptomics_70', 'transcriptomics_74', 'transcriptomics_76'].\n",
      " For any questions, please reach out to polly.support@elucidata.io.  \n",
      " Please use add_datasets to upload the files if no destination folder paths in the Omixatlas contain the data being updated by you.\n",
      "Uploading data files: 0files [00:00, ?files/s]\n"
     ]
    }
   ],
   "source": [
    "#case 3.c. and 3.c.i: DFP provided, data file is present in OA, but is present in a different DFP than provided -> wrning, skip\n",
    "data_folder_path = \"repoid_1654268055800_files_test/data\"\n",
    "repo_id= \"1654268055800\"\n",
    "destination_folder_path = \"\"\n",
    "priority = \"high\"\n",
    "source_folder_path = {\"data\":data_folder_path}\n",
    "omixatlas.update_datasets(repo_id, source_folder_path, destination_folder_path, priority)"
   ]
  },
  {
   "cell_type": "code",
   "execution_count": 11,
   "metadata": {},
   "outputs": [
    {
     "name": "stderr",
     "output_type": "stream",
     "text": [
      "WARNING: Unable to update metadata/data file BRCA_BCCRC_Mutation_SAytc.gct because corresponding data/metadata file not present in OmixAtlas. Please add the files using add_datasets function. For any questions, please reach out to polly.support@elucidata.io. \n",
      "WARNING: Unable to update the data/metadata for  BRCA_BCCRC_Mutation_SA031.gct because original data file not present in the provided destination folder path: \n",
      " Mutation in the omixatlas. Please choose the required destination folder path from the following: \n",
      " ['transcriptomics_70', 'transcriptomics_74', 'transcriptomics_76'].\n",
      " For any questions, please reach out to polly.support@elucidata.io.  \n",
      " Please use add_datasets to upload the files if no destination folder paths in the Omixatlas contain the data being updated by you.\n",
      "WARNING: Unable to update the data/metadata for  BRCA_BCCRC_Mutation_SA018.gct because original data file not present in the provided destination folder path: \n",
      " Mutation in the omixatlas. Please choose the required destination folder path from the following: \n",
      " ['transcriptomics_70', 'transcriptomics_74', 'transcriptomics_76'].\n",
      " For any questions, please reach out to polly.support@elucidata.io.  \n",
      " Please use add_datasets to upload the files if no destination folder paths in the Omixatlas contain the data being updated by you.\n",
      "WARNING: Unable to update the data/metadata for  BRCA_BCCRC_Mutation_SA029.gct because original data file not present in the provided destination folder path: \n",
      " Mutation in the omixatlas. Please choose the required destination folder path from the following: \n",
      " ['transcriptomics_70', 'transcriptomics_74', 'transcriptomics_76'].\n",
      " For any questions, please reach out to polly.support@elucidata.io.  \n",
      " Please use add_datasets to upload the files if no destination folder paths in the Omixatlas contain the data being updated by you.\n",
      "Uploading data files: 100%|██████████| 1/1 [00:00<00:00,  6.80files/s]\n"
     ]
    },
    {
     "name": "stdout",
     "output_type": "stream",
     "text": [
      "Please wait for 30 seconds while your ingestion request is getting logged.\n",
      "\n",
      "\n",
      "Your ingestion request is successfully logged. You can go to ingestion monitoring dashboard for tracking it's status.\n",
      "\n",
      "                      File Name        Message\n",
      "0  CCLE_Mutation_C3A_LIVER.gct  File Uploaded\n"
     ]
    },
    {
     "data": {
      "text/html": [
       "<div>\n",
       "<style scoped>\n",
       "    .dataframe tbody tr th:only-of-type {\n",
       "        vertical-align: middle;\n",
       "    }\n",
       "\n",
       "    .dataframe tbody tr th {\n",
       "        vertical-align: top;\n",
       "    }\n",
       "\n",
       "    .dataframe thead th {\n",
       "        text-align: right;\n",
       "    }\n",
       "</style>\n",
       "<table border=\"1\" class=\"dataframe\">\n",
       "  <thead>\n",
       "    <tr style=\"text-align: right;\">\n",
       "      <th></th>\n",
       "      <th>File Name</th>\n",
       "      <th>Message</th>\n",
       "    </tr>\n",
       "  </thead>\n",
       "  <tbody>\n",
       "    <tr>\n",
       "      <th>0</th>\n",
       "      <td>CCLE_Mutation_C3A_LIVER.gct</td>\n",
       "      <td>File Uploaded</td>\n",
       "    </tr>\n",
       "  </tbody>\n",
       "</table>\n",
       "</div>"
      ],
      "text/plain": [
       "                     File Name        Message\n",
       "0  CCLE_Mutation_C3A_LIVER.gct  File Uploaded"
      ]
     },
     "execution_count": 11,
     "metadata": {},
     "output_type": "execute_result"
    }
   ],
   "source": [
    "# case3.a:DFP provided is the same as that where the data was uploaded and the data file is present in the OA -> pass -> positive \n",
    "# and case 3.c.: DFP provided, data file is present in OA, but is present in a different DFP than provided -> wrning, skip\n",
    "# destination_folder_path = \"Mutation/\"\n",
    "# repoid_1654268055800_files_test/data:\n",
    "# ->\n",
    "# BRCA_BCCRC_Mutation_SA018.gct -> transcriptomics_70, transcriptomics_74, transcriptomics_76 -> expected warning of the data file not present in the dest folder provided\n",
    "# BRCA_BCCRC_Mutation_SA029.gct -> ranscriptomics_70, transcriptomics_74, transcriptomics_76-> expected warning of the data file not present in the dest folder provided\n",
    "# BRCA_BCCRC_Mutation_SA031.gct -> ranscriptomics_70, transcriptomics_74, transcriptomics_76-> expected warning of the data file not present in the dest folder provided\n",
    "# BRCA_BCCRC_Mutation_SAytc.gct -> not present in OA -> expected warning of the data file not present in the OA itself\n",
    "# CCLE_Mutation_C3A_LIVER.gct -> mutation folder-> This should be updated\n",
    "\n",
    "\n",
    "data_folder_path = \"repoid_1654268055800_files_test/data\"\n",
    "repo_id= \"1654268055800\"\n",
    "destination_folder_path = \"Mutation\"\n",
    "priority = \"high\"\n",
    "source_folder_path = {\"data\":data_folder_path}\n",
    "omixatlas.update_datasets(repo_id, source_folder_path, destination_folder_path, priority)"
   ]
  },
  {
   "cell_type": "code",
   "execution_count": 12,
   "metadata": {},
   "outputs": [
    {
     "name": "stdout",
     "output_type": "stream",
     "text": [
      "/bin/bash: warning: setlocale: LC_ALL: cannot change locale (en_US.UTF-8)\r\n",
      "BRCA_BCCRC_Mutation_SA018.json\tBRCA_BCCRC_Mutation_SA031.json\r\n",
      "BRCA_BCCRC_Mutation_SA029.json\tBRCA_BCCRC_Mutation_SA031_dummy.json\r\n",
      "BRCA_BCCRC_Mutation_SA030.json\r\n"
     ]
    },
    {
     "ename": "paramException",
     "evalue": "paramException (parameter error): Destination folder passed does not exist. Either wrong destination folder passed for the existing data/metadata.Valid destination folders are ['high', 'transcriptomics_111', 'transcriptomics_116', 'transcriptomics_test_add_delete', 'transcriptomics_74', 'transcriptomics_125', 'transcriptomics_72', 'transcriptomics_126', 'bulk_multithread_test', 'transcriptomics_test', 'transcriptomics_73', 'transcriptomics_76', 'transcriptomics_75', 'transcriptomics_80', 'transcriptomics_110', 'Mutation', 'transcriptomics_70', 'transcriptomics_81', '.'] in this repository. Or data/metadata passed in update does not exist in this repository from before, in that case, please use the add_dataset functionality.",
     "output_type": "error",
     "traceback": [
      "\u001b[0;31m---------------------------------------------------------------------------\u001b[0m",
      "\u001b[0;31mparamException\u001b[0m                            Traceback (most recent call last)",
      "Input \u001b[0;32mIn [12]\u001b[0m, in \u001b[0;36m<cell line: 10>\u001b[0;34m()\u001b[0m\n\u001b[1;32m      8\u001b[0m priority \u001b[38;5;241m=\u001b[39m \u001b[38;5;124m\"\u001b[39m\u001b[38;5;124mhigh\u001b[39m\u001b[38;5;124m\"\u001b[39m\n\u001b[1;32m      9\u001b[0m source_folder_path \u001b[38;5;241m=\u001b[39m {\u001b[38;5;124m\"\u001b[39m\u001b[38;5;124mdata\u001b[39m\u001b[38;5;124m\"\u001b[39m:data_folder_path}\n\u001b[0;32m---> 10\u001b[0m \u001b[43momixatlas\u001b[49m\u001b[38;5;241;43m.\u001b[39;49m\u001b[43mupdate_datasets\u001b[49m\u001b[43m(\u001b[49m\u001b[43mrepo_id\u001b[49m\u001b[43m,\u001b[49m\u001b[43m \u001b[49m\u001b[43msource_folder_path\u001b[49m\u001b[43m,\u001b[49m\u001b[43m \u001b[49m\u001b[43mdestination_folder_path\u001b[49m\u001b[43m,\u001b[49m\u001b[43m \u001b[49m\u001b[43mpriority\u001b[49m\u001b[43m)\u001b[49m\n",
      "File \u001b[0;32m/usr/local/lib/python3.10/site-packages/polly/tracking.py:48\u001b[0m, in \u001b[0;36mTrack.track_decorator.<locals>.wrapper_function\u001b[0;34m(*args, **kwargs)\u001b[0m\n\u001b[1;32m     46\u001b[0m         \u001b[38;5;28;01mreturn\u001b[39;00m result\n\u001b[1;32m     47\u001b[0m \u001b[38;5;28;01melse\u001b[39;00m:\n\u001b[0;32m---> 48\u001b[0m     \u001b[38;5;28;01mraise\u001b[39;00m returned_err\n",
      "File \u001b[0;32m/usr/local/lib/python3.10/site-packages/polly/tracking.py:20\u001b[0m, in \u001b[0;36mTrack.track_decorator.<locals>.wrapper_function\u001b[0;34m(*args, **kwargs)\u001b[0m\n\u001b[1;32m     18\u001b[0m execution_flag \u001b[38;5;241m=\u001b[39m \u001b[38;5;28;01mFalse\u001b[39;00m\n\u001b[1;32m     19\u001b[0m \u001b[38;5;28;01mtry\u001b[39;00m:\n\u001b[0;32m---> 20\u001b[0m     result \u001b[38;5;241m=\u001b[39m \u001b[43mfunction\u001b[49m\u001b[43m(\u001b[49m\u001b[38;5;241;43m*\u001b[39;49m\u001b[43margs\u001b[49m\u001b[43m,\u001b[49m\u001b[43m \u001b[49m\u001b[38;5;241;43m*\u001b[39;49m\u001b[38;5;241;43m*\u001b[39;49m\u001b[43mkwargs\u001b[49m\u001b[43m)\u001b[49m\n\u001b[1;32m     21\u001b[0m     execution_flag \u001b[38;5;241m=\u001b[39m \u001b[38;5;28;01mTrue\u001b[39;00m\n\u001b[1;32m     22\u001b[0m \u001b[38;5;28;01mexcept\u001b[39;00m \u001b[38;5;167;01mException\u001b[39;00m \u001b[38;5;28;01mas\u001b[39;00m e:\n",
      "File \u001b[0;32m/usr/local/lib/python3.10/site-packages/polly/omixatlas.py:2292\u001b[0m, in \u001b[0;36mOmixAtlas.update_datasets\u001b[0;34m(self, repo_id, source_folder_path, destination_folder_path, priority, validation)\u001b[0m\n\u001b[1;32m   2280\u001b[0m     file_status_dict \u001b[38;5;241m=\u001b[39m \u001b[38;5;28mself\u001b[39m\u001b[38;5;241m.\u001b[39m_update_metadata_data(\n\u001b[1;32m   2281\u001b[0m         repo_id,\n\u001b[1;32m   2282\u001b[0m         source_folder_path,\n\u001b[0;32m   (...)\u001b[0m\n\u001b[1;32m   2289\u001b[0m         validation_dataset_lvl,\n\u001b[1;32m   2290\u001b[0m     )\n\u001b[1;32m   2291\u001b[0m \u001b[38;5;28;01mexcept\u001b[39;00m \u001b[38;5;167;01mException\u001b[39;00m \u001b[38;5;28;01mas\u001b[39;00m err:\n\u001b[0;32m-> 2292\u001b[0m     \u001b[38;5;28;01mraise\u001b[39;00m err\n\u001b[1;32m   2294\u001b[0m \u001b[38;5;28;01mif\u001b[39;00m file_status_dict:\n\u001b[1;32m   2295\u001b[0m     result_list \u001b[38;5;241m=\u001b[39m \u001b[38;5;28mself\u001b[39m\u001b[38;5;241m.\u001b[39m_generating_response_from_status_dict(\n\u001b[1;32m   2296\u001b[0m         file_status_dict, result_list\n\u001b[1;32m   2297\u001b[0m     )\n",
      "File \u001b[0;32m/usr/local/lib/python3.10/site-packages/polly/omixatlas.py:2269\u001b[0m, in \u001b[0;36mOmixAtlas.update_datasets\u001b[0;34m(self, repo_id, source_folder_path, destination_folder_path, priority, validation)\u001b[0m\n\u001b[1;32m   2264\u001b[0m \u001b[38;5;66;03m# check destination folder passed is a valid destination folder\u001b[39;00m\n\u001b[1;32m   2265\u001b[0m \u001b[38;5;66;03m# or not. If not then raise an error and halt the process\u001b[39;00m\n\u001b[1;32m   2266\u001b[0m \u001b[38;5;66;03m# If destination_folder_path is empty then it is a valid\u001b[39;00m\n\u001b[1;32m   2267\u001b[0m \u001b[38;5;66;03m# destination_folder_path -> no need to check for that\u001b[39;00m\n\u001b[1;32m   2268\u001b[0m \u001b[38;5;28;01mif\u001b[39;00m destination_folder_path:\n\u001b[0;32m-> 2269\u001b[0m     \u001b[38;5;28;43mself\u001b[39;49m\u001b[38;5;241;43m.\u001b[39;49m\u001b[43m_check_destination_folder\u001b[49m\u001b[43m(\u001b[49m\u001b[43mdestination_folder_path\u001b[49m\u001b[43m,\u001b[49m\u001b[43m \u001b[49m\u001b[43mrepo_id\u001b[49m\u001b[43m)\u001b[49m\n\u001b[1;32m   2271\u001b[0m \u001b[38;5;66;03m# unmapped_file_names (list): data file names which are not mapped\u001b[39;00m\n\u001b[1;32m   2272\u001b[0m \u001b[38;5;66;03m# unmapped_metadata_file_names (list): metadata file names which are not mapped\u001b[39;00m\n\u001b[1;32m   2273\u001b[0m \u001b[38;5;66;03m# final_data_metadata_mapping_dict (dict): dict of data metadata mapping\u001b[39;00m\n\u001b[1;32m   2274\u001b[0m (\n\u001b[1;32m   2275\u001b[0m     final_data_metadata_mapping_dict,\n\u001b[1;32m   2276\u001b[0m     unmapped_file_names,\n\u001b[1;32m   2277\u001b[0m     unmapped_metadata_file_names,\n\u001b[1;32m   2278\u001b[0m ) \u001b[38;5;241m=\u001b[39m \u001b[38;5;28mself\u001b[39m\u001b[38;5;241m.\u001b[39m_map_data_metadata_files_for_update(source_folder_path)\n",
      "File \u001b[0;32m/usr/local/lib/python3.10/site-packages/polly/omixatlas.py:2362\u001b[0m, in \u001b[0;36mOmixAtlas._check_destination_folder\u001b[0;34m(self, destination_folder_path, repo_id)\u001b[0m\n\u001b[1;32m   2357\u001b[0m valid_folder_list \u001b[38;5;241m=\u001b[39m helpers\u001b[38;5;241m.\u001b[39mget_folder_list_from_list_of_filepaths(\n\u001b[1;32m   2358\u001b[0m     oa_data_files_list\n\u001b[1;32m   2359\u001b[0m )\n\u001b[1;32m   2361\u001b[0m \u001b[38;5;28;01mif\u001b[39;00m destination_folder_path \u001b[38;5;129;01mnot\u001b[39;00m \u001b[38;5;129;01min\u001b[39;00m valid_folder_list:\n\u001b[0;32m-> 2362\u001b[0m     \u001b[38;5;28;01mraise\u001b[39;00m paramException(\n\u001b[1;32m   2363\u001b[0m         title\u001b[38;5;241m=\u001b[39m\u001b[38;5;124m\"\u001b[39m\u001b[38;5;124mDestination Folder passed does not exist\u001b[39m\u001b[38;5;124m\"\u001b[39m,\n\u001b[1;32m   2364\u001b[0m         detail\u001b[38;5;241m=\u001b[39m(\n\u001b[1;32m   2365\u001b[0m             \u001b[38;5;124m\"\u001b[39m\u001b[38;5;124mDestination folder passed does not exist. \u001b[39m\u001b[38;5;124m\"\u001b[39m\n\u001b[1;32m   2366\u001b[0m             \u001b[38;5;241m+\u001b[39m \u001b[38;5;124m\"\u001b[39m\u001b[38;5;124mEither wrong destination folder passed for the existing data/metadata.\u001b[39m\u001b[38;5;124m\"\u001b[39m\n\u001b[1;32m   2367\u001b[0m             \u001b[38;5;241m+\u001b[39m \u001b[38;5;124mf\u001b[39m\u001b[38;5;124m\"\u001b[39m\u001b[38;5;124mValid destination folders are \u001b[39m\u001b[38;5;132;01m{\u001b[39;00mvalid_folder_list\u001b[38;5;132;01m}\u001b[39;00m\u001b[38;5;124m in this repository. \u001b[39m\u001b[38;5;124m\"\u001b[39m\n\u001b[1;32m   2368\u001b[0m             \u001b[38;5;241m+\u001b[39m \u001b[38;5;124m\"\u001b[39m\u001b[38;5;124mOr data/metadata passed in update does not exist in this repository \u001b[39m\u001b[38;5;124m\"\u001b[39m\n\u001b[1;32m   2369\u001b[0m             \u001b[38;5;241m+\u001b[39m \u001b[38;5;124m\"\u001b[39m\u001b[38;5;124mfrom before, in that case, please use the add_dataset functionality.\u001b[39m\u001b[38;5;124m\"\u001b[39m\n\u001b[1;32m   2370\u001b[0m         ),\n\u001b[1;32m   2371\u001b[0m     )\n",
      "\u001b[0;31mparamException\u001b[0m: paramException (parameter error): Destination folder passed does not exist. Either wrong destination folder passed for the existing data/metadata.Valid destination folders are ['high', 'transcriptomics_111', 'transcriptomics_116', 'transcriptomics_test_add_delete', 'transcriptomics_74', 'transcriptomics_125', 'transcriptomics_72', 'transcriptomics_126', 'bulk_multithread_test', 'transcriptomics_test', 'transcriptomics_73', 'transcriptomics_76', 'transcriptomics_75', 'transcriptomics_80', 'transcriptomics_110', 'Mutation', 'transcriptomics_70', 'transcriptomics_81', '.'] in this repository. Or data/metadata passed in update does not exist in this repository from before, in that case, please use the add_dataset functionality."
     ]
    }
   ],
   "source": [
    "# case 3.d: updating only metadata file and invalid DFP\n",
    "# EXPECTED: parameter exception\n",
    "!ls repoid_1654268055800_files_test/metadata/\n",
    "\n",
    "data_folder_path = \"repoid_1654268055800_files_test/data/\"\n",
    "repo_id= \"1654268055800\"\n",
    "destination_folder_path = \"some_randome_anme\"\n",
    "priority = \"high\"\n",
    "source_folder_path = {\"data\":data_folder_path}\n",
    "omixatlas.update_datasets(repo_id, source_folder_path, destination_folder_path, priority)"
   ]
  },
  {
   "cell_type": "raw",
   "metadata": {},
   "source": [
    "Case 1 : when both data and metadata provided for update\n",
    "case 1.a.: when the destination folder path provided is the same as where the data was added previously in the OA using add datasets -> should pass -> positive case.\n",
    "case 1.b : when the destination folder provided is a valid destination folder ie, the folder is present in the OA but it is not where the data was added previously using add datasets -> warning, skip -> negative case.\n",
    "#### case 1.b.i: root in DFP in add datasets vs a folder in update datasets and visa versa. \n",
    "case 1.c.: when the destination folder provided is an invalid one, it is not present in the OA -> waring and skip -> negative case.\n",
    "case 1.d. when new data and metdata both provided but the destination folder exists -> warning"
   ]
  },
  {
   "cell_type": "code",
   "execution_count": 13,
   "metadata": {},
   "outputs": [
    {
     "name": "stdout",
     "output_type": "stream",
     "text": [
      "/bin/bash: warning: setlocale: LC_ALL: cannot change locale (en_US.UTF-8)\r\n",
      "repoid_1654268055800_files_test/data_2/:\r\n",
      "ACBC_MSKCC_2015_Copy_Number_AdCC10T.gct\r\n",
      "\r\n",
      "repoid_1654268055800_files_test/metadata_2/:\r\n",
      "ACBC_MSKCC_2015_Copy_Number_AdCC10T.json\r\n"
     ]
    },
    {
     "name": "stderr",
     "output_type": "stream",
     "text": [
      "Processing Metadata files: 100%|██████████| 1/1 [00:00<00:00, 301.10it/s]\n",
      "Uploading data files: 100%|██████████| 1/1 [00:00<00:00,  4.64files/s]\n"
     ]
    },
    {
     "name": "stdout",
     "output_type": "stream",
     "text": [
      "Please wait for 30 seconds while your ingestion request is getting logged.\n",
      "\n",
      "\n",
      "Your ingestion request is successfully logged. You can go to ingestion monitoring dashboard for tracking it's status.\n",
      "\n",
      "                                  File Name        Message\n",
      "0                   combined_metadata.json  File Uploaded\n",
      "1  ACBC_MSKCC_2015_Copy_Number_AdCC10T.gct  File Uploaded\n"
     ]
    },
    {
     "data": {
      "text/html": [
       "<div>\n",
       "<style scoped>\n",
       "    .dataframe tbody tr th:only-of-type {\n",
       "        vertical-align: middle;\n",
       "    }\n",
       "\n",
       "    .dataframe tbody tr th {\n",
       "        vertical-align: top;\n",
       "    }\n",
       "\n",
       "    .dataframe thead th {\n",
       "        text-align: right;\n",
       "    }\n",
       "</style>\n",
       "<table border=\"1\" class=\"dataframe\">\n",
       "  <thead>\n",
       "    <tr style=\"text-align: right;\">\n",
       "      <th></th>\n",
       "      <th>File Name</th>\n",
       "      <th>Message</th>\n",
       "    </tr>\n",
       "  </thead>\n",
       "  <tbody>\n",
       "    <tr>\n",
       "      <th>0</th>\n",
       "      <td>combined_metadata.json</td>\n",
       "      <td>File Uploaded</td>\n",
       "    </tr>\n",
       "    <tr>\n",
       "      <th>1</th>\n",
       "      <td>ACBC_MSKCC_2015_Copy_Number_AdCC10T.gct</td>\n",
       "      <td>File Uploaded</td>\n",
       "    </tr>\n",
       "  </tbody>\n",
       "</table>\n",
       "</div>"
      ],
      "text/plain": [
       "                                 File Name        Message\n",
       "0                   combined_metadata.json  File Uploaded\n",
       "1  ACBC_MSKCC_2015_Copy_Number_AdCC10T.gct  File Uploaded"
      ]
     },
     "execution_count": 13,
     "metadata": {},
     "output_type": "execute_result"
    }
   ],
   "source": [
    "# case 1.a.: when both data and metadata provided for update and \n",
    "# when the destination folder path provided is the same as where the data was added previously in the OA using add datasets \n",
    "# EXPECTED -> should pass -> positive case.\n",
    "\n",
    "#viewing the files in the folders:\n",
    "!ls repoid_1654268055800_files_test/*data_2/\n",
    "\n",
    "# update with invalid/absent DFP\n",
    "metadata_folder_path = \"repoid_1654268055800_files_test/metadata_2/\"\n",
    "data_folder_path = \"repoid_1654268055800_files_test/data_2/\"\n",
    "repo_id= \"1654268055800\"\n",
    "priority = \"high\"\n",
    "destination_folder_path = \"transcriptomics_70\"\n",
    "source_folder_path = {\"metadata\":metadata_folder_path, \"data\": data_folder_path}\n",
    "omixatlas.update_datasets(repo_id, source_folder_path, destination_folder_path, priority)"
   ]
  },
  {
   "cell_type": "code",
   "execution_count": 14,
   "metadata": {},
   "outputs": [
    {
     "name": "stdout",
     "output_type": "stream",
     "text": [
      "/bin/bash: warning: setlocale: LC_ALL: cannot change locale (en_US.UTF-8)\r\n",
      "repoid_1654268055800_files_test/data_2/:\r\n",
      "ACBC_MSKCC_2015_Copy_Number_AdCC10T.gct\r\n",
      "\r\n",
      "repoid_1654268055800_files_test/metadata_2/:\r\n",
      "ACBC_MSKCC_2015_Copy_Number_AdCC10T.json\r\n"
     ]
    },
    {
     "name": "stderr",
     "output_type": "stream",
     "text": [
      "Processing Metadata files:   0%|          | 0/1 [00:00<?, ?it/s]WARNING: Unable to update the data/metadata for  ACBC_MSKCC_2015_Copy_Number_AdCC10T.json because original data file not present in the provided destination folder path: \n",
      " high in the omixatlas. Please choose the required destination folder path from the following: \n",
      " ['transcriptomics_125', 'transcriptomics_110', 'transcriptomics_70', 'transcriptomics_test', 'transcriptomics_111', 'transcriptomics_116', 'transcriptomics_126', 'transcriptomics_75', '.'].\n",
      " For any questions, please reach out to polly.support@elucidata.io.  \n",
      " Please use add_datasets to upload the files if no destination folder paths in the Omixatlas contain the data being updated by you.\n",
      "Processing Metadata files: 100%|██████████| 1/1 [00:00<00:00, 302.51it/s]\n",
      "WARNING: Unable to update the data/metadata for  ACBC_MSKCC_2015_Copy_Number_AdCC10T.gct because original data file not present in the provided destination folder path: \n",
      " high in the omixatlas. Please choose the required destination folder path from the following: \n",
      " ['transcriptomics_125', 'transcriptomics_110', 'transcriptomics_70', 'transcriptomics_test', 'transcriptomics_111', 'transcriptomics_116', 'transcriptomics_126', 'transcriptomics_75', '.'].\n",
      " For any questions, please reach out to polly.support@elucidata.io.  \n",
      " Please use add_datasets to upload the files if no destination folder paths in the Omixatlas contain the data being updated by you.\n",
      "Uploading data files: 0files [00:00, ?files/s]\n"
     ]
    }
   ],
   "source": [
    "# case 1.b : when both data and metadata provided for update and \n",
    "# when the destination folder provided is a valid destination folder ie, the folder is present in the OA but it is not where the data was added previously using add datasets \n",
    "# EXPECTED: warning, skip -> negative case.\n",
    "# here, the files being updated are preset in other folders than \"high\"\n",
    "\n",
    "#viewing the files in the folders:\n",
    "!ls repoid_1654268055800_files_test/*data_2/\n",
    "\n",
    "# update with invalid/absent DFP\n",
    "metadata_folder_path = \"repoid_1654268055800_files_test/metadata_2/\"\n",
    "data_folder_path = \"repoid_1654268055800_files_test/data_2/\"\n",
    "repo_id= \"1654268055800\"\n",
    "priority = \"high\"\n",
    "destination_folder_path = \"high\"\n",
    "source_folder_path = {\"metadata\":metadata_folder_path, \"data\": data_folder_path}\n",
    "omixatlas.update_datasets(repo_id, source_folder_path, destination_folder_path, priority)"
   ]
  },
  {
   "cell_type": "code",
   "execution_count": 15,
   "metadata": {},
   "outputs": [
    {
     "name": "stdout",
     "output_type": "stream",
     "text": [
      "/bin/bash: warning: setlocale: LC_ALL: cannot change locale (en_US.UTF-8)\r\n",
      "repoid_1654268055800_files_test/data/:\r\n",
      "BRCA_BCCRC_Mutation_SA018.gct  BRCA_BCCRC_Mutation_SAytc.gct\r\n",
      "BRCA_BCCRC_Mutation_SA029.gct  CCLE_Mutation_C3A_LIVER.gct\r\n",
      "BRCA_BCCRC_Mutation_SA031.gct\r\n",
      "\r\n",
      "repoid_1654268055800_files_test/metadata/:\r\n",
      "BRCA_BCCRC_Mutation_SA018.json\tBRCA_BCCRC_Mutation_SA031.json\r\n",
      "BRCA_BCCRC_Mutation_SA029.json\tBRCA_BCCRC_Mutation_SA031_dummy.json\r\n",
      "BRCA_BCCRC_Mutation_SA030.json\r\n"
     ]
    },
    {
     "name": "stderr",
     "output_type": "stream",
     "text": [
      "Processing Metadata files:   0%|          | 0/5 [00:00<?, ?it/s]WARNING: Unable to update the data/metadata for  BRCA_BCCRC_Mutation_SA029.json because original data file not present in the provided destination folder path: \n",
      "  in the omixatlas. Please choose the required destination folder path from the following: \n",
      " ['transcriptomics_70', 'transcriptomics_74', 'transcriptomics_76'].\n",
      " For any questions, please reach out to polly.support@elucidata.io.  \n",
      " Please use add_datasets to upload the files if no destination folder paths in the Omixatlas contain the data being updated by you.\n",
      "Processing Metadata files:  20%|██        | 1/5 [00:00<00:02,  1.71it/s]WARNING: Unable to update the data/metadata for  BRCA_BCCRC_Mutation_SA018.json because original data file not present in the provided destination folder path: \n",
      "  in the omixatlas. Please choose the required destination folder path from the following: \n",
      " ['transcriptomics_70', 'transcriptomics_74', 'transcriptomics_76'].\n",
      " For any questions, please reach out to polly.support@elucidata.io.  \n",
      " Please use add_datasets to upload the files if no destination folder paths in the Omixatlas contain the data being updated by you.\n",
      "WARNING: Unable to update the data/metadata for  BRCA_BCCRC_Mutation_SA030.json because original data file not present in the provided destination folder path: \n",
      "  in the omixatlas. Please choose the required destination folder path from the following: \n",
      " ['transcriptomics_70', 'transcriptomics_74', 'transcriptomics_76'].\n",
      " For any questions, please reach out to polly.support@elucidata.io.  \n",
      " Please use add_datasets to upload the files if no destination folder paths in the Omixatlas contain the data being updated by you.\n",
      "WARNING: Unable to update the data/metadata for  BRCA_BCCRC_Mutation_SA031.json because original data file not present in the provided destination folder path: \n",
      "  in the omixatlas. Please choose the required destination folder path from the following: \n",
      " ['transcriptomics_70', 'transcriptomics_74', 'transcriptomics_76'].\n",
      " For any questions, please reach out to polly.support@elucidata.io.  \n",
      " Please use add_datasets to upload the files if no destination folder paths in the Omixatlas contain the data being updated by you.\n",
      "WARNING: Unable to update metadata/data file BRCA_BCCRC_Mutation_SA031_dummy.json because corresponding data/metadata file not present in OmixAtlas. Please add the files using add_datasets function. For any questions, please reach out to polly.support@elucidata.io. \n",
      "Processing Metadata files: 100%|██████████| 5/5 [00:00<00:00,  8.37it/s]\n",
      "WARNING: Unable to update metadata/data file BRCA_BCCRC_Mutation_SAytc.gct because corresponding data/metadata file not present in OmixAtlas. Please add the files using add_datasets function. For any questions, please reach out to polly.support@elucidata.io. \n",
      "WARNING: Unable to update the data/metadata for  BRCA_BCCRC_Mutation_SA031.gct because original data file not present in the provided destination folder path: \n",
      "  in the omixatlas. Please choose the required destination folder path from the following: \n",
      " ['transcriptomics_70', 'transcriptomics_74', 'transcriptomics_76'].\n",
      " For any questions, please reach out to polly.support@elucidata.io.  \n",
      " Please use add_datasets to upload the files if no destination folder paths in the Omixatlas contain the data being updated by you.\n",
      "WARNING: Unable to update the data/metadata for  CCLE_Mutation_C3A_LIVER.gct because original data file not present in the provided destination folder path: \n",
      "  in the omixatlas. Please choose the required destination folder path from the following: \n",
      " ['Mutation'].\n",
      " For any questions, please reach out to polly.support@elucidata.io.  \n",
      " Please use add_datasets to upload the files if no destination folder paths in the Omixatlas contain the data being updated by you.\n",
      "WARNING: Unable to update the data/metadata for  BRCA_BCCRC_Mutation_SA018.gct because original data file not present in the provided destination folder path: \n",
      "  in the omixatlas. Please choose the required destination folder path from the following: \n",
      " ['transcriptomics_70', 'transcriptomics_74', 'transcriptomics_76'].\n",
      " For any questions, please reach out to polly.support@elucidata.io.  \n",
      " Please use add_datasets to upload the files if no destination folder paths in the Omixatlas contain the data being updated by you.\n",
      "WARNING: Unable to update the data/metadata for  BRCA_BCCRC_Mutation_SA029.gct because original data file not present in the provided destination folder path: \n",
      "  in the omixatlas. Please choose the required destination folder path from the following: \n",
      " ['transcriptomics_70', 'transcriptomics_74', 'transcriptomics_76'].\n",
      " For any questions, please reach out to polly.support@elucidata.io.  \n",
      " Please use add_datasets to upload the files if no destination folder paths in the Omixatlas contain the data being updated by you.\n",
      "Uploading data files: 0files [00:00, ?files/s]\n"
     ]
    }
   ],
   "source": [
    "# case 1.b.i : when both data and metadata provided for update and \n",
    "# when no destination folder provided is a valid destination folder but the files were added to other folders on add_datasets\n",
    "# ie no DFP was provided when adding the datasets to OA )\n",
    "# EXPECTED: warning, skip -> negative case.\n",
    "\n",
    "# BRCA_BCCRC_Mutation_SA018.gct -> transcriptomics_70, transcriptomics_74, transcriptomics_76 -> expected warning of the data file not present in the dest folder provided\n",
    "# BRCA_BCCRC_Mutation_SA029.gct -> ranscriptomics_70, transcriptomics_74, transcriptomics_76-> expected warning of the data file not present in the dest folder provided\n",
    "# BRCA_BCCRC_Mutation_SA031.gct -> ranscriptomics_70, transcriptomics_74, transcriptomics_76-> expected warning of the data file not present in the dest folder provided\n",
    "# BRCA_BCCRC_Mutation_SAytc.gct -> not present in OA -> expected warning of the data file not present in the OA itself\n",
    "# CCLE_Mutation_C3A_LIVER.gct -> mutation folder-> expected warning of the data file not present in the dest folder provided\n",
    "\n",
    "#viewing the files in the folders:\n",
    "!ls repoid_1654268055800_files_test/*data/\n",
    "\n",
    "# update with invalid/absent DFP\n",
    "metadata_folder_path = \"repoid_1654268055800_files_test/metadata/\"\n",
    "data_folder_path = \"repoid_1654268055800_files_test/data/\"\n",
    "repo_id= \"1654268055800\"\n",
    "priority = \"high\"\n",
    "source_folder_path = {\"metadata\":metadata_folder_path, \"data\": data_folder_path}\n",
    "omixatlas.update_datasets(repo_id, source_folder_path, priority = priority)"
   ]
  },
  {
   "cell_type": "code",
   "execution_count": 16,
   "metadata": {},
   "outputs": [
    {
     "name": "stdout",
     "output_type": "stream",
     "text": [
      "/bin/bash: warning: setlocale: LC_ALL: cannot change locale (en_US.UTF-8)\r\n",
      "repoid_1654268055800_files_test/data_2/:\r\n",
      "ACBC_MSKCC_2015_Copy_Number_AdCC10T.gct\r\n",
      "\r\n",
      "repoid_1654268055800_files_test/metadata_2/:\r\n",
      "ACBC_MSKCC_2015_Copy_Number_AdCC10T.json\r\n"
     ]
    },
    {
     "ename": "paramException",
     "evalue": "paramException (parameter error): Destination folder passed does not exist. Either wrong destination folder passed for the existing data/metadata.Valid destination folders are ['high', 'transcriptomics_111', 'transcriptomics_116', 'transcriptomics_test_add_delete', 'transcriptomics_74', 'transcriptomics_125', 'transcriptomics_72', 'transcriptomics_126', 'bulk_multithread_test', 'transcriptomics_test', 'transcriptomics_73', 'transcriptomics_76', 'transcriptomics_75', 'transcriptomics_80', 'transcriptomics_110', 'Mutation', 'transcriptomics_70', 'transcriptomics_81', '.'] in this repository. Or data/metadata passed in update does not exist in this repository from before, in that case, please use the add_dataset functionality.",
     "output_type": "error",
     "traceback": [
      "\u001b[0;31m---------------------------------------------------------------------------\u001b[0m",
      "\u001b[0;31mparamException\u001b[0m                            Traceback (most recent call last)",
      "Input \u001b[0;32mIn [16]\u001b[0m, in \u001b[0;36m<cell line: 15>\u001b[0;34m()\u001b[0m\n\u001b[1;32m     13\u001b[0m destination_folder_path \u001b[38;5;241m=\u001b[39m \u001b[38;5;124m\"\u001b[39m\u001b[38;5;124msome_random_invalid_foldeR_name\u001b[39m\u001b[38;5;124m\"\u001b[39m\n\u001b[1;32m     14\u001b[0m source_folder_path \u001b[38;5;241m=\u001b[39m {\u001b[38;5;124m\"\u001b[39m\u001b[38;5;124mmetadata\u001b[39m\u001b[38;5;124m\"\u001b[39m:metadata_folder_path, \u001b[38;5;124m\"\u001b[39m\u001b[38;5;124mdata\u001b[39m\u001b[38;5;124m\"\u001b[39m: data_folder_path}\n\u001b[0;32m---> 15\u001b[0m \u001b[43momixatlas\u001b[49m\u001b[38;5;241;43m.\u001b[39;49m\u001b[43mupdate_datasets\u001b[49m\u001b[43m(\u001b[49m\u001b[43mrepo_id\u001b[49m\u001b[43m,\u001b[49m\u001b[43m \u001b[49m\u001b[43msource_folder_path\u001b[49m\u001b[43m,\u001b[49m\u001b[43m \u001b[49m\u001b[43mdestination_folder_path\u001b[49m\u001b[43m,\u001b[49m\u001b[43m \u001b[49m\u001b[43mpriority\u001b[49m\u001b[43m)\u001b[49m\n",
      "File \u001b[0;32m/usr/local/lib/python3.10/site-packages/polly/tracking.py:48\u001b[0m, in \u001b[0;36mTrack.track_decorator.<locals>.wrapper_function\u001b[0;34m(*args, **kwargs)\u001b[0m\n\u001b[1;32m     46\u001b[0m         \u001b[38;5;28;01mreturn\u001b[39;00m result\n\u001b[1;32m     47\u001b[0m \u001b[38;5;28;01melse\u001b[39;00m:\n\u001b[0;32m---> 48\u001b[0m     \u001b[38;5;28;01mraise\u001b[39;00m returned_err\n",
      "File \u001b[0;32m/usr/local/lib/python3.10/site-packages/polly/tracking.py:20\u001b[0m, in \u001b[0;36mTrack.track_decorator.<locals>.wrapper_function\u001b[0;34m(*args, **kwargs)\u001b[0m\n\u001b[1;32m     18\u001b[0m execution_flag \u001b[38;5;241m=\u001b[39m \u001b[38;5;28;01mFalse\u001b[39;00m\n\u001b[1;32m     19\u001b[0m \u001b[38;5;28;01mtry\u001b[39;00m:\n\u001b[0;32m---> 20\u001b[0m     result \u001b[38;5;241m=\u001b[39m \u001b[43mfunction\u001b[49m\u001b[43m(\u001b[49m\u001b[38;5;241;43m*\u001b[39;49m\u001b[43margs\u001b[49m\u001b[43m,\u001b[49m\u001b[43m \u001b[49m\u001b[38;5;241;43m*\u001b[39;49m\u001b[38;5;241;43m*\u001b[39;49m\u001b[43mkwargs\u001b[49m\u001b[43m)\u001b[49m\n\u001b[1;32m     21\u001b[0m     execution_flag \u001b[38;5;241m=\u001b[39m \u001b[38;5;28;01mTrue\u001b[39;00m\n\u001b[1;32m     22\u001b[0m \u001b[38;5;28;01mexcept\u001b[39;00m \u001b[38;5;167;01mException\u001b[39;00m \u001b[38;5;28;01mas\u001b[39;00m e:\n",
      "File \u001b[0;32m/usr/local/lib/python3.10/site-packages/polly/omixatlas.py:2292\u001b[0m, in \u001b[0;36mOmixAtlas.update_datasets\u001b[0;34m(self, repo_id, source_folder_path, destination_folder_path, priority, validation)\u001b[0m\n\u001b[1;32m   2280\u001b[0m     file_status_dict \u001b[38;5;241m=\u001b[39m \u001b[38;5;28mself\u001b[39m\u001b[38;5;241m.\u001b[39m_update_metadata_data(\n\u001b[1;32m   2281\u001b[0m         repo_id,\n\u001b[1;32m   2282\u001b[0m         source_folder_path,\n\u001b[0;32m   (...)\u001b[0m\n\u001b[1;32m   2289\u001b[0m         validation_dataset_lvl,\n\u001b[1;32m   2290\u001b[0m     )\n\u001b[1;32m   2291\u001b[0m \u001b[38;5;28;01mexcept\u001b[39;00m \u001b[38;5;167;01mException\u001b[39;00m \u001b[38;5;28;01mas\u001b[39;00m err:\n\u001b[0;32m-> 2292\u001b[0m     \u001b[38;5;28;01mraise\u001b[39;00m err\n\u001b[1;32m   2294\u001b[0m \u001b[38;5;28;01mif\u001b[39;00m file_status_dict:\n\u001b[1;32m   2295\u001b[0m     result_list \u001b[38;5;241m=\u001b[39m \u001b[38;5;28mself\u001b[39m\u001b[38;5;241m.\u001b[39m_generating_response_from_status_dict(\n\u001b[1;32m   2296\u001b[0m         file_status_dict, result_list\n\u001b[1;32m   2297\u001b[0m     )\n",
      "File \u001b[0;32m/usr/local/lib/python3.10/site-packages/polly/omixatlas.py:2269\u001b[0m, in \u001b[0;36mOmixAtlas.update_datasets\u001b[0;34m(self, repo_id, source_folder_path, destination_folder_path, priority, validation)\u001b[0m\n\u001b[1;32m   2264\u001b[0m \u001b[38;5;66;03m# check destination folder passed is a valid destination folder\u001b[39;00m\n\u001b[1;32m   2265\u001b[0m \u001b[38;5;66;03m# or not. If not then raise an error and halt the process\u001b[39;00m\n\u001b[1;32m   2266\u001b[0m \u001b[38;5;66;03m# If destination_folder_path is empty then it is a valid\u001b[39;00m\n\u001b[1;32m   2267\u001b[0m \u001b[38;5;66;03m# destination_folder_path -> no need to check for that\u001b[39;00m\n\u001b[1;32m   2268\u001b[0m \u001b[38;5;28;01mif\u001b[39;00m destination_folder_path:\n\u001b[0;32m-> 2269\u001b[0m     \u001b[38;5;28;43mself\u001b[39;49m\u001b[38;5;241;43m.\u001b[39;49m\u001b[43m_check_destination_folder\u001b[49m\u001b[43m(\u001b[49m\u001b[43mdestination_folder_path\u001b[49m\u001b[43m,\u001b[49m\u001b[43m \u001b[49m\u001b[43mrepo_id\u001b[49m\u001b[43m)\u001b[49m\n\u001b[1;32m   2271\u001b[0m \u001b[38;5;66;03m# unmapped_file_names (list): data file names which are not mapped\u001b[39;00m\n\u001b[1;32m   2272\u001b[0m \u001b[38;5;66;03m# unmapped_metadata_file_names (list): metadata file names which are not mapped\u001b[39;00m\n\u001b[1;32m   2273\u001b[0m \u001b[38;5;66;03m# final_data_metadata_mapping_dict (dict): dict of data metadata mapping\u001b[39;00m\n\u001b[1;32m   2274\u001b[0m (\n\u001b[1;32m   2275\u001b[0m     final_data_metadata_mapping_dict,\n\u001b[1;32m   2276\u001b[0m     unmapped_file_names,\n\u001b[1;32m   2277\u001b[0m     unmapped_metadata_file_names,\n\u001b[1;32m   2278\u001b[0m ) \u001b[38;5;241m=\u001b[39m \u001b[38;5;28mself\u001b[39m\u001b[38;5;241m.\u001b[39m_map_data_metadata_files_for_update(source_folder_path)\n",
      "File \u001b[0;32m/usr/local/lib/python3.10/site-packages/polly/omixatlas.py:2362\u001b[0m, in \u001b[0;36mOmixAtlas._check_destination_folder\u001b[0;34m(self, destination_folder_path, repo_id)\u001b[0m\n\u001b[1;32m   2357\u001b[0m valid_folder_list \u001b[38;5;241m=\u001b[39m helpers\u001b[38;5;241m.\u001b[39mget_folder_list_from_list_of_filepaths(\n\u001b[1;32m   2358\u001b[0m     oa_data_files_list\n\u001b[1;32m   2359\u001b[0m )\n\u001b[1;32m   2361\u001b[0m \u001b[38;5;28;01mif\u001b[39;00m destination_folder_path \u001b[38;5;129;01mnot\u001b[39;00m \u001b[38;5;129;01min\u001b[39;00m valid_folder_list:\n\u001b[0;32m-> 2362\u001b[0m     \u001b[38;5;28;01mraise\u001b[39;00m paramException(\n\u001b[1;32m   2363\u001b[0m         title\u001b[38;5;241m=\u001b[39m\u001b[38;5;124m\"\u001b[39m\u001b[38;5;124mDestination Folder passed does not exist\u001b[39m\u001b[38;5;124m\"\u001b[39m,\n\u001b[1;32m   2364\u001b[0m         detail\u001b[38;5;241m=\u001b[39m(\n\u001b[1;32m   2365\u001b[0m             \u001b[38;5;124m\"\u001b[39m\u001b[38;5;124mDestination folder passed does not exist. \u001b[39m\u001b[38;5;124m\"\u001b[39m\n\u001b[1;32m   2366\u001b[0m             \u001b[38;5;241m+\u001b[39m \u001b[38;5;124m\"\u001b[39m\u001b[38;5;124mEither wrong destination folder passed for the existing data/metadata.\u001b[39m\u001b[38;5;124m\"\u001b[39m\n\u001b[1;32m   2367\u001b[0m             \u001b[38;5;241m+\u001b[39m \u001b[38;5;124mf\u001b[39m\u001b[38;5;124m\"\u001b[39m\u001b[38;5;124mValid destination folders are \u001b[39m\u001b[38;5;132;01m{\u001b[39;00mvalid_folder_list\u001b[38;5;132;01m}\u001b[39;00m\u001b[38;5;124m in this repository. \u001b[39m\u001b[38;5;124m\"\u001b[39m\n\u001b[1;32m   2368\u001b[0m             \u001b[38;5;241m+\u001b[39m \u001b[38;5;124m\"\u001b[39m\u001b[38;5;124mOr data/metadata passed in update does not exist in this repository \u001b[39m\u001b[38;5;124m\"\u001b[39m\n\u001b[1;32m   2369\u001b[0m             \u001b[38;5;241m+\u001b[39m \u001b[38;5;124m\"\u001b[39m\u001b[38;5;124mfrom before, in that case, please use the add_dataset functionality.\u001b[39m\u001b[38;5;124m\"\u001b[39m\n\u001b[1;32m   2370\u001b[0m         ),\n\u001b[1;32m   2371\u001b[0m     )\n",
      "\u001b[0;31mparamException\u001b[0m: paramException (parameter error): Destination folder passed does not exist. Either wrong destination folder passed for the existing data/metadata.Valid destination folders are ['high', 'transcriptomics_111', 'transcriptomics_116', 'transcriptomics_test_add_delete', 'transcriptomics_74', 'transcriptomics_125', 'transcriptomics_72', 'transcriptomics_126', 'bulk_multithread_test', 'transcriptomics_test', 'transcriptomics_73', 'transcriptomics_76', 'transcriptomics_75', 'transcriptomics_80', 'transcriptomics_110', 'Mutation', 'transcriptomics_70', 'transcriptomics_81', '.'] in this repository. Or data/metadata passed in update does not exist in this repository from before, in that case, please use the add_dataset functionality."
     ]
    }
   ],
   "source": [
    "#case 1.c: when both data and metadata provided for update- \n",
    "#when the destination folder provided is an invalid one, it is not present in the OA \n",
    "#EXPECTED: parameter exception saying invalid folder path provided. \n",
    "\n",
    "#viewing the files in the folders:\n",
    "!ls repoid_1654268055800_files_test/*data_2/\n",
    "\n",
    "# update with invalid/absent DFP\n",
    "metadata_folder_path = \"repoid_1654268055800_files_test/metadata_2/\"\n",
    "data_folder_path = \"repoid_1654268055800_files_test/data_2/\"\n",
    "repo_id= \"1654268055800\"\n",
    "priority = \"high\"\n",
    "destination_folder_path = \"some_random_invalid_foldeR_name\"\n",
    "source_folder_path = {\"metadata\":metadata_folder_path, \"data\": data_folder_path}\n",
    "omixatlas.update_datasets(repo_id, source_folder_path, destination_folder_path, priority)"
   ]
  },
  {
   "cell_type": "code",
   "execution_count": 19,
   "metadata": {},
   "outputs": [
    {
     "name": "stdout",
     "output_type": "stream",
     "text": [
      "/bin/bash: warning: setlocale: LC_ALL: cannot change locale (en_US.UTF-8)\r\n",
      "repoid_1654268055800_files_test/data_2:\r\n",
      "ACBC_MSKCC_2015_Copy_Number_AdCC10T.gct\r\n",
      "\r\n",
      "repoid_1654268055800_files_test/metadata_2:\r\n",
      "ACBC_MSKCC_2015_Copy_Number_AdCC10T.json\r\n"
     ]
    }
   ],
   "source": [
    "# case with home dir check - the below files are present in the home directory itself. \n",
    "!ls repoid_1654268055800_files_test/*_2"
   ]
  },
  {
   "cell_type": "code",
   "execution_count": 23,
   "metadata": {},
   "outputs": [
    {
     "name": "stderr",
     "output_type": "stream",
     "text": [
      "Processing Metadata files: 100%|██████████| 1/1 [00:00<00:00,  1.29it/s]\n",
      "Uploading data files: 100%|██████████| 1/1 [00:00<00:00,  9.46files/s]\n"
     ]
    },
    {
     "name": "stdout",
     "output_type": "stream",
     "text": [
      "Please wait for 30 seconds while your ingestion request is getting logged.\n",
      "\n",
      "\n",
      "Your ingestion request is successfully logged. You can go to ingestion monitoring dashboard for tracking it's status.\n",
      "\n",
      "                                  File Name        Message\n",
      "0                   combined_metadata.json  File Uploaded\n",
      "1  ACBC_MSKCC_2015_Copy_Number_AdCC10T.gct  File Uploaded\n"
     ]
    },
    {
     "data": {
      "text/html": [
       "<div>\n",
       "<style scoped>\n",
       "    .dataframe tbody tr th:only-of-type {\n",
       "        vertical-align: middle;\n",
       "    }\n",
       "\n",
       "    .dataframe tbody tr th {\n",
       "        vertical-align: top;\n",
       "    }\n",
       "\n",
       "    .dataframe thead th {\n",
       "        text-align: right;\n",
       "    }\n",
       "</style>\n",
       "<table border=\"1\" class=\"dataframe\">\n",
       "  <thead>\n",
       "    <tr style=\"text-align: right;\">\n",
       "      <th></th>\n",
       "      <th>File Name</th>\n",
       "      <th>Message</th>\n",
       "    </tr>\n",
       "  </thead>\n",
       "  <tbody>\n",
       "    <tr>\n",
       "      <th>0</th>\n",
       "      <td>combined_metadata.json</td>\n",
       "      <td>File Uploaded</td>\n",
       "    </tr>\n",
       "    <tr>\n",
       "      <th>1</th>\n",
       "      <td>ACBC_MSKCC_2015_Copy_Number_AdCC10T.gct</td>\n",
       "      <td>File Uploaded</td>\n",
       "    </tr>\n",
       "  </tbody>\n",
       "</table>\n",
       "</div>"
      ],
      "text/plain": [
       "                                 File Name        Message\n",
       "0                   combined_metadata.json  File Uploaded\n",
       "1  ACBC_MSKCC_2015_Copy_Number_AdCC10T.gct  File Uploaded"
      ]
     },
     "execution_count": 23,
     "metadata": {},
     "output_type": "execute_result"
    }
   ],
   "source": [
    "# update with absent DFP\n",
    "metadata_folder_path = \"repoid_1654268055800_files_test/metadata_2/\"\n",
    "data_folder_path = \"repoid_1654268055800_files_test/data_2/\"\n",
    "repo_id= \"1654268055800\"\n",
    "priority = \"high\"\n",
    "source_folder_path = {\"metadata\":metadata_folder_path, \"data\": data_folder_path}\n",
    "omixatlas.update_datasets(repo_id, source_folder_path, priority = priority)"
   ]
  },
  {
   "cell_type": "code",
   "execution_count": 24,
   "metadata": {},
   "outputs": [
    {
     "name": "stderr",
     "output_type": "stream",
     "text": [
      "Processing Metadata files: 100%|██████████| 1/1 [00:00<00:00,  1.46it/s]\n"
     ]
    },
    {
     "name": "stdout",
     "output_type": "stream",
     "text": [
      "Please wait for 30 seconds while your ingestion request is getting logged.\n",
      "\n",
      "\n",
      "Your ingestion request is successfully logged. You can go to ingestion monitoring dashboard for tracking it's status.\n",
      "\n",
      "                 File Name        Message\n",
      "0  combined_metadata.json  File Uploaded\n"
     ]
    },
    {
     "data": {
      "text/html": [
       "<div>\n",
       "<style scoped>\n",
       "    .dataframe tbody tr th:only-of-type {\n",
       "        vertical-align: middle;\n",
       "    }\n",
       "\n",
       "    .dataframe tbody tr th {\n",
       "        vertical-align: top;\n",
       "    }\n",
       "\n",
       "    .dataframe thead th {\n",
       "        text-align: right;\n",
       "    }\n",
       "</style>\n",
       "<table border=\"1\" class=\"dataframe\">\n",
       "  <thead>\n",
       "    <tr style=\"text-align: right;\">\n",
       "      <th></th>\n",
       "      <th>File Name</th>\n",
       "      <th>Message</th>\n",
       "    </tr>\n",
       "  </thead>\n",
       "  <tbody>\n",
       "    <tr>\n",
       "      <th>0</th>\n",
       "      <td>combined_metadata.json</td>\n",
       "      <td>File Uploaded</td>\n",
       "    </tr>\n",
       "  </tbody>\n",
       "</table>\n",
       "</div>"
      ],
      "text/plain": [
       "                File Name        Message\n",
       "0  combined_metadata.json  File Uploaded"
      ]
     },
     "execution_count": 24,
     "metadata": {},
     "output_type": "execute_result"
    }
   ],
   "source": [
    "# update with absent DFP only metadata\n",
    "metadata_folder_path = \"repoid_1654268055800_files_test/metadata_2/\"\n",
    "data_folder_path = \"repoid_1654268055800_files_test/data_2/\"\n",
    "repo_id= \"1654268055800\"\n",
    "priority = \"high\"\n",
    "source_folder_path = {\"metadata\":metadata_folder_path}\n",
    "omixatlas.update_datasets(repo_id, source_folder_path, priority = priority)"
   ]
  },
  {
   "cell_type": "code",
   "execution_count": 27,
   "metadata": {},
   "outputs": [
    {
     "name": "stderr",
     "output_type": "stream",
     "text": [
      "Processing Metadata files: 100%|██████████| 1/1 [00:00<00:00,  1.46it/s]\n"
     ]
    },
    {
     "name": "stdout",
     "output_type": "stream",
     "text": [
      "Please wait for 30 seconds while your ingestion request is getting logged.\n",
      "\n",
      "\n",
      "Your ingestion request is successfully logged. You can go to ingestion monitoring dashboard for tracking it's status.\n",
      "\n",
      "                 File Name        Message\n",
      "0  combined_metadata.json  File Uploaded\n"
     ]
    },
    {
     "data": {
      "text/html": [
       "<div>\n",
       "<style scoped>\n",
       "    .dataframe tbody tr th:only-of-type {\n",
       "        vertical-align: middle;\n",
       "    }\n",
       "\n",
       "    .dataframe tbody tr th {\n",
       "        vertical-align: top;\n",
       "    }\n",
       "\n",
       "    .dataframe thead th {\n",
       "        text-align: right;\n",
       "    }\n",
       "</style>\n",
       "<table border=\"1\" class=\"dataframe\">\n",
       "  <thead>\n",
       "    <tr style=\"text-align: right;\">\n",
       "      <th></th>\n",
       "      <th>File Name</th>\n",
       "      <th>Message</th>\n",
       "    </tr>\n",
       "  </thead>\n",
       "  <tbody>\n",
       "    <tr>\n",
       "      <th>0</th>\n",
       "      <td>combined_metadata.json</td>\n",
       "      <td>File Uploaded</td>\n",
       "    </tr>\n",
       "  </tbody>\n",
       "</table>\n",
       "</div>"
      ],
      "text/plain": [
       "                File Name        Message\n",
       "0  combined_metadata.json  File Uploaded"
      ]
     },
     "execution_count": 27,
     "metadata": {},
     "output_type": "execute_result"
    }
   ],
   "source": [
    "# update with absent DFP only metadata -> came on ingestion dashboard as well., \n",
    "metadata_folder_path = \"repoid_1654268055800_files_test/metadata_3/\"\n",
    "data_folder_path = \"repoid_1654268055800_files_test/data_2/\"\n",
    "repo_id= \"1654268055800\"\n",
    "priority = \"high\"\n",
    "source_folder_path = {\"metadata\":metadata_folder_path}\n",
    "omixatlas.update_datasets(repo_id, source_folder_path, priority = priority)"
   ]
  },
  {
   "cell_type": "code",
   "execution_count": null,
   "metadata": {},
   "outputs": [],
   "source": [
    "#from the combined_metadata file uploaded to s3\n",
    "\"\"\"\n",
    "shilpanair ~/Downloads  $ grep -w \"id\" 1677225647726_metadata.json\n",
    "            \"id\": \"metadata/ingestion\",\n",
    "            \"id\": \"ACBC_MSKCC_2015_Copy_Number_AdCC11T.gct\",\n",
    "                \"description\": \"ACBC_MSKCC_2015 Copy Number Variation dataset for sample id - AdCC11T\",\n",
    "shilpanair ~/Downloads  $ \n",
    "\n",
    "\"\"\""
   ]
  }
 ],
 "metadata": {
  "kernelspec": {
   "display_name": "Python 3 (ipykernel)",
   "language": "python",
   "name": "python3"
  },
  "language_info": {
   "codemirror_mode": {
    "name": "ipython",
    "version": 3
   },
   "file_extension": ".py",
   "mimetype": "text/x-python",
   "name": "python",
   "nbconvert_exporter": "python",
   "pygments_lexer": "ipython3",
   "version": "3.10.2"
  }
 },
 "nbformat": 4,
 "nbformat_minor": 2
}
