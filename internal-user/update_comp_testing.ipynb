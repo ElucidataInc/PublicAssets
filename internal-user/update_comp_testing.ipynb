{
  "cells": [
    {
      "cell_type": "markdown",
      "metadata": {
        "colab_type": "text",
        "id": "view-in-github"
      },
      "source": [
        "<a href=\"https://testpolly.elucidata.io/manage/workspaces?action=open_polly_notebook&source=github&path=path_place_holder&kernel=elucidata/Python 3.10&machine=large\" target=\"_parent\"><img src=\"https://elucidatainc.github.io/PublicAssets/open_polly.svg\" alt=\"Open in Polly\"/></a>\n"
      ]
    },
    {
      "cell_type": "markdown",
      "metadata": {},
      "source": [
        "# Welcome to Polly Python3 Notebook."
      ]
    },
    {
      "cell_type": "code",
      "execution_count": 1,
      "metadata": {},
      "outputs": [
        {
          "name": "stdout",
          "output_type": "stream",
          "text": [
            "/bin/bash: warning: setlocale: LC_ALL: cannot change locale (en_US.UTF-8)\n",
            "Collecting polly-python==0.1.5-update-comp\n",
            "  Downloading https://elucidatainc.github.io/PublicAssets/builds/polly-python/tests/testpolly/polly_python-0.1.5_update_comp-py3-none-any.whl (66 kB)\n",
            "\u001b[K     |████████████████████████████████| 66 kB 2.1 MB/s eta 0:00:011\n",
            "\u001b[?25hRequirement already satisfied: chardet==4.0.0 in /usr/local/lib/python3.10/site-packages (from polly-python==0.1.5-update-comp) (4.0.0)\n",
            "Collecting python-magic==0.4.24\n",
            "  Downloading python_magic-0.4.24-py2.py3-none-any.whl (12 kB)\n",
            "Collecting pytz==2021.1\n",
            "  Downloading pytz-2021.1-py2.py3-none-any.whl (510 kB)\n",
            "\u001b[K     |████████████████████████████████| 510 kB 29.1 MB/s eta 0:00:01\n",
            "\u001b[?25hRequirement already satisfied: six==1.16.0 in /usr/local/lib/python3.10/site-packages (from polly-python==0.1.5-update-comp) (1.16.0)\n",
            "Collecting sqlparse\n",
            "  Downloading sqlparse-0.4.2-py3-none-any.whl (42 kB)\n",
            "\u001b[K     |████████████████████████████████| 42 kB 3.4 MB/s s eta 0:00:01\n",
            "\u001b[?25hCollecting retrying==1.3.3\n",
            "  Downloading retrying-1.3.3.tar.gz (10 kB)\n",
            "Requirement already satisfied: tqdm in /usr/local/lib/python3.10/site-packages (from polly-python==0.1.5-update-comp) (4.64.0)\n",
            "Requirement already satisfied: urllib3==1.26.6 in /usr/local/lib/python3.10/site-packages (from polly-python==0.1.5-update-comp) (1.26.6)\n",
            "Requirement already satisfied: pandas in /usr/local/lib/python3.10/site-packages (from polly-python==0.1.5-update-comp) (1.4.1)\n",
            "Requirement already satisfied: boto3>=1.17.73 in /usr/local/lib/python3.10/site-packages (from polly-python==0.1.5-update-comp) (1.21.19)\n",
            "Collecting Deprecated\n",
            "  Downloading Deprecated-1.2.13-py2.py3-none-any.whl (9.6 kB)\n",
            "Collecting elucidatacloudpathlib==0.6.6\n",
            "  Downloading elucidatacloudpathlib-0.6.6-py3-none-any.whl (50 kB)\n",
            "\u001b[K     |████████████████████████████████| 50 kB 20.1 MB/s  eta 0:00:01\n",
            "\u001b[?25hCollecting rst2txt\n",
            "  Downloading rst2txt-1.1.0-py2.py3-none-any.whl (12 kB)\n",
            "Collecting certifi==2021.10.8\n",
            "  Downloading certifi-2021.10.8-py2.py3-none-any.whl (149 kB)\n",
            "\u001b[K     |████████████████████████████████| 149 kB 152.1 MB/s eta 0:00:01\n",
            "\u001b[?25hRequirement already satisfied: python-dateutil==2.8.1 in /usr/local/lib/python3.10/site-packages (from polly-python==0.1.5-update-comp) (2.8.1)\n",
            "Collecting pytest\n",
            "  Downloading pytest-7.1.2-py3-none-any.whl (297 kB)\n",
            "\u001b[K     |████████████████████████████████| 297 kB 129.1 MB/s eta 0:00:01\n",
            "\u001b[?25hCollecting black\n",
            "  Downloading black-22.6.0-cp310-cp310-manylinux_2_17_x86_64.manylinux2014_x86_64.whl (1.5 MB)\n",
            "\u001b[K     |████████████████████████████████| 1.5 MB 127.4 MB/s eta 0:00:01\n",
            "\u001b[?25hRequirement already satisfied: idna==2.10 in /usr/local/lib/python3.10/site-packages (from polly-python==0.1.5-update-comp) (2.10)\n",
            "Requirement already satisfied: botocore>=1.20.73 in /usr/local/lib/python3.10/site-packages (from polly-python==0.1.5-update-comp) (1.24.19)\n",
            "Collecting postpy2==0.0.6\n",
            "  Downloading postpy2-0.0.6-py3-none-any.whl (17 kB)\n",
            "Collecting requests==2.25.1\n",
            "  Downloading requests-2.25.1-py2.py3-none-any.whl (61 kB)\n",
            "\u001b[K     |████████████████████████████████| 61 kB 18.8 MB/s  eta 0:00:01\n",
            "\u001b[?25hCollecting cmapPy\n",
            "  Downloading cmapPy-4.0.1-py2.py3-none-any.whl (150 kB)\n",
            "\u001b[K     |████████████████████████████████| 150 kB 150.6 MB/s eta 0:00:01\n",
            "\u001b[?25hCollecting Cerberus==1.3.2\n",
            "  Downloading Cerberus-1.3.2.tar.gz (52 kB)\n",
            "\u001b[K     |████████████████████████████████| 52 kB 3.4 MB/s s eta 0:00:01\n",
            "\u001b[?25hCollecting joblib\n",
            "  Downloading joblib-1.1.0-py2.py3-none-any.whl (306 kB)\n",
            "\u001b[K     |████████████████████████████████| 306 kB 140.0 MB/s eta 0:00:01\n",
            "\u001b[?25hRequirement already satisfied: setuptools in /usr/local/lib/python3.10/site-packages (from Cerberus==1.3.2->polly-python==0.1.5-update-comp) (58.1.0)\n",
            "Requirement already satisfied: jmespath<1.0.0,>=0.7.1 in /usr/local/lib/python3.10/site-packages (from boto3>=1.17.73->polly-python==0.1.5-update-comp) (0.10.0)\n",
            "Requirement already satisfied: s3transfer<0.6.0,>=0.5.0 in /usr/local/lib/python3.10/site-packages (from boto3>=1.17.73->polly-python==0.1.5-update-comp) (0.5.2)\n",
            "Collecting tomli>=1.1.0\n",
            "  Downloading tomli-2.0.1-py3-none-any.whl (12 kB)\n",
            "Collecting pathspec>=0.9.0\n",
            "  Downloading pathspec-0.9.0-py2.py3-none-any.whl (31 kB)\n",
            "Collecting click>=8.0.0\n",
            "  Downloading click-8.1.3-py3-none-any.whl (96 kB)\n",
            "\u001b[K     |████████████████████████████████| 96 kB 15.6 MB/s  eta 0:00:01\n",
            "\u001b[?25hCollecting mypy-extensions>=0.4.3\n",
            "  Downloading mypy_extensions-0.4.3-py2.py3-none-any.whl (4.5 kB)\n",
            "Collecting platformdirs>=2\n",
            "  Downloading platformdirs-2.5.2-py3-none-any.whl (14 kB)\n",
            "Collecting h5py>=2.6.0\n",
            "  Downloading h5py-3.7.0-cp310-cp310-manylinux_2_12_x86_64.manylinux2010_x86_64.whl (4.5 MB)\n",
            "\u001b[K     |████████████████████████████████| 4.5 MB 112.2 MB/s eta 0:00:01\n",
            "\u001b[?25hRequirement already satisfied: numpy>=1.11.2 in /usr/local/lib/python3.10/site-packages (from cmapPy->polly-python==0.1.5-update-comp) (1.22.3)\n",
            "Collecting wrapt<2,>=1.10\n",
            "  Downloading wrapt-1.14.1-cp310-cp310-manylinux_2_5_x86_64.manylinux1_x86_64.manylinux_2_17_x86_64.manylinux2014_x86_64.whl (77 kB)\n",
            "\u001b[K     |████████████████████████████████| 77 kB 19.1 MB/s  eta 0:00:01\n",
            "\u001b[?25hRequirement already satisfied: packaging in /usr/local/lib/python3.10/site-packages (from pytest->polly-python==0.1.5-update-comp) (21.3)\n",
            "Requirement already satisfied: attrs>=19.2.0 in /usr/local/lib/python3.10/site-packages (from pytest->polly-python==0.1.5-update-comp) (21.2.0)\n",
            "Collecting pluggy<2.0,>=0.12\n",
            "  Downloading pluggy-1.0.0-py2.py3-none-any.whl (13 kB)\n",
            "Collecting py>=1.8.2\n",
            "  Downloading py-1.11.0-py2.py3-none-any.whl (98 kB)\n",
            "\u001b[K     |████████████████████████████████| 98 kB 20.1 MB/s  eta 0:00:01\n",
            "\u001b[?25hCollecting iniconfig\n",
            "  Downloading iniconfig-1.1.1-py2.py3-none-any.whl (5.0 kB)\n",
            "Requirement already satisfied: pyparsing!=3.0.5,>=2.0.2 in /usr/local/lib/python3.10/site-packages (from packaging->pytest->polly-python==0.1.5-update-comp) (3.0.6)\n",
            "Requirement already satisfied: pygments in /usr/local/lib/python3.10/site-packages (from rst2txt->polly-python==0.1.5-update-comp) (2.10.0)\n",
            "Requirement already satisfied: docutils>=0.11 in /usr/local/lib/python3.10/site-packages (from rst2txt->polly-python==0.1.5-update-comp) (0.15.2)\n",
            "Using legacy 'setup.py install' for Cerberus, since package 'wheel' is not installed.\n",
            "Using legacy 'setup.py install' for retrying, since package 'wheel' is not installed.\n",
            "Installing collected packages: pytz, certifi, wrapt, tomli, requests, python-magic, py, pluggy, platformdirs, pathspec, mypy-extensions, iniconfig, h5py, click, sqlparse, rst2txt, retrying, pytest, postpy2, joblib, elucidatacloudpathlib, Deprecated, cmapPy, Cerberus, black, polly-python\n",
            "  Attempting uninstall: pytz\n",
            "    Found existing installation: pytz 2021.3\n",
            "    Uninstalling pytz-2021.3:\n",
            "      Successfully uninstalled pytz-2021.3\n",
            "  Attempting uninstall: certifi\n",
            "    Found existing installation: certifi 2021.5.30\n",
            "    Uninstalling certifi-2021.5.30:\n",
            "      Successfully uninstalled certifi-2021.5.30\n",
            "  Attempting uninstall: requests\n",
            "    Found existing installation: requests 2.27.1\n",
            "    Uninstalling requests-2.27.1:\n",
            "      Successfully uninstalled requests-2.27.1\n",
            "    Running setup.py install for retrying ... \u001b[?25ldone\n",
            "\u001b[?25h  Attempting uninstall: Cerberus\n",
            "    Found existing installation: Cerberus 1.3.4\n",
            "    Uninstalling Cerberus-1.3.4:\n",
            "      Successfully uninstalled Cerberus-1.3.4\n",
            "    Running setup.py install for Cerberus ... \u001b[?25ldone\n",
            "\u001b[?25hSuccessfully installed Cerberus-1.3.2 Deprecated-1.2.13 black-22.6.0 certifi-2021.10.8 click-8.1.3 cmapPy-4.0.1 elucidatacloudpathlib-0.6.6 h5py-3.7.0 iniconfig-1.1.1 joblib-1.1.0 mypy-extensions-0.4.3 pathspec-0.9.0 platformdirs-2.5.2 pluggy-1.0.0 polly-python-0.1.5 postpy2-0.0.6 py-1.11.0 pytest-7.1.2 python-magic-0.4.24 pytz-2021.1 requests-2.25.1 retrying-1.3.3 rst2txt-1.1.0 sqlparse-0.4.2 tomli-2.0.1 wrapt-1.14.1\n",
            "\u001b[33mWARNING: Running pip as the 'root' user can result in broken permissions and conflicting behaviour with the system package manager. It is recommended to use a virtual environment instead: https://pip.pypa.io/warnings/venv\u001b[0m\n",
            "\u001b[33mWARNING: You are using pip version 21.2.4; however, version 22.1.2 is available.\n",
            "You should consider upgrading via the '/usr/local/bin/python3.10 -m pip install --upgrade pip' command.\u001b[0m\n"
          ]
        }
      ],
      "source": [
        "!sudo pip3 install https://elucidatainc.github.io/PublicAssets/builds/polly-python/tests/testpolly/polly_python-0.1.5_update_comp-py3-none-any.whl\n"
      ]
    },
    {
      "cell_type": "code",
      "execution_count": 4,
      "metadata": {},
      "outputs": [],
      "source": [
        "testpolly_token = \"eyJjdHkiOiJKV1QiLCJlbmMiOiJBMjU2R0NNIiwiYWxnIjoiUlNBLU9BRVAifQ.RCDQW8JsUhPAEyLT9QOgB4n-JTWDWKFgHHVzV5sjf-O5_svB-UwpeKgydtMyhyj3XMRY8YVxo8KoWaXe-ft9wUS0PoqUx17CSdBIFhjYVaM72zLPwDg8slLQzJWv09X0Lm1aYzcNvLNgScLoPqVofpOStz6TV9JacnOO2br-ye8A6yUHGhVGEWd-gmDaMbSwD76mlB52yvqx_XwrJUtcFlFfrB6264mArAC2RY3ljyjVipyEkWi0ErXyzx1cZN90pNNWSNCEMGvAi1tvbz8i5dEzZqzYz5go_JKiq9evgtSaLZHnBnRRpRVgUy6zUDkP7DCaohM8wKb8akxv8zWrYQ.FmFvrxWkDIXdOhGh.74cT5UPNsPdjGaHq8-zw_53a2DESQPBRRSDY9uTuaLfmsp0CbdwcOeMEteVHWO83hCV6-Ei2yk6bBAoLBo59O8Ica6bPfBlHNylHUCvH_oifRltKAI0OC0jFP1RG2juNdYpcD0XUiD5fiGCCHDVQrepHM7Qc3KPlr5j89Uty7QVSP09sOkWlllH8lQfOXb5Dw8UfPBDuLoPofgW6TeAnLwy6x-k8JOzYP-Spsrp35g365A7KEOvcpaF_vMW0Hkds8BVG4CCjTaOkoQH5Aac-sKc6z2ZhBDKGc8GbDCa5RM2SS2EfB_hxgFYEcuVosc6a_JpJaZn1XphHQf4MO7rE2ATKC6etVKfooyX11MXnswM3fi2URECtLeryIduZqigGsp9w0sA-GBvLMEItzwX5qrBq2I7wzRMSPQX0KMKns73zLP3ddCWJxE8zv5AW_Y-MM2VRG3LDS3E1Zgi7wTliW4mennHFEXiCmwdPDp3v6uOyo_o760orhBvcseXHSC_rFyiyceCQ9uoOBPQDNesVxHrhCpYf2pP4GglsZPcX9KJJIHyEoaEO1hI6DqcvufwhMki3vunMxJAnMBXfITkd0_UTLiE7iBPJc8NHcLgBhD-qBVyv0cTjRl0u_QmRrm_gSkUPCCuKdekh9jxWLtu_RHrzYAPnLUu3vmvZf612kVh_tse4_9000j0yQNYEu1qYe6RExPXmf6WSmMq1zFQkDSMTroUIU7syr3xy8CPo0LUnbahHvlxotW267rUPy13QQspgnZWONP4DgCP-6dIjDfyfKHZmUvNtI1RXLX2ZB6QUZrSYUlAJYManq3NuzWL8yT1GjsbQm-wP6LxAClMWZ7J2Yl87aoqPT7u7-fKI9dUc99tWL0IP6FhekG64spSIlCEsJ4GqEtOVPJcjs7C8KsuCqrVv9Q0R2JGnvrXFEZVqMvy7MSvubdMbVWlAfXpnbDixu0S-Nxe8KY8fdqkMXRwKQvHtKI5KsAKb0eb3xyAt8OWFKcccBAiUPGuzhRi1xEh06Px0ukBjdpWjlt4vc7iYBRP6s_ix9na2OV3NpL8r-5ykLcToQs0YsDBgiLSiidB6fyC-O_nHBkWJk9tT0Tg9HfCFdDg1MOuAL-jLUAxF2827kVSkJndVugv5ueXuuHgfTcND-j6ory9Sx4X4YpHfRtlAuGPJwta8_w8_b7KajHME7sWthsyqXatCnzvUaf52N5L20q7jGFVhHUhlDHSU0GNEw-grl9U_9GZwW_vBaeeHm01RLz_AF8nO4Su4xKpVvO7HrrNjAdFNEWqgk_hQdfTGaM2QCRp_QVumx2UQ4u9AHqP8Oc-TvbnEy2C-hajnqW77Atnj.4iUjSjBQrQh_rWYvVYKPZg\""
      ]
    },
    {
      "cell_type": "code",
      "execution_count": 5,
      "metadata": {},
      "outputs": [],
      "source": [
        "from polly.omixatlas import OmixAtlas\n",
        "omixatlas = OmixAtlas(testpolly_token, env=\"testpolly\")\n",
        "repo_key = \"geo\"\n"
      ]
    },
    {
      "cell_type": "code",
      "execution_count": 6,
      "metadata": {},
      "outputs": [
        {
          "name": "stdout",
          "output_type": "stream",
          "text": [
            "{'data': {'type': 'omixatlases', 'id': '1643016586529', 'attributes': {'components': [{'data_type': ['Transcriptomics'], 'component_id': 78}, {'data_type': ['Transcriptomics'], 'component_id': 25}, {'data_type': ['Transcriptomics'], 'component_id': 61}, {'data_type': ['Transcriptomics'], 'component_id': 28}, {'data_type': ['Transcriptomics'], 'component_id': 59}, {'data_type': ['Transcriptomics'], 'component_id': 71}], 'frontend_info': {'icon_image_url': 'https://elucidatainc.github.io/PublicAssets/discover-fe-assets/omixatlas_hex.svg', 'description': 'updated description for geo', 'display_name': 'Geo-Omixatlas', 'explorer_enabled': True, 'initials': 'GEO'}, 'repo_id': '1643016586529', 'repo_name': 'geo', 'type': 'omixatlas', 'owner': 'elucidata', 'indexes': {'gct_metadata': 'geo_gct_metadata', 'h5ad_metadata': 'geo_h5ad_metadata', 'csv': 'geo_csv', 'files': 'geo_files', 'json': 'geo_json', 'ipynb': 'geo_ipynb', 'gct_data': 'geo_gct_data', 'h5ad_data': 'geo_h5ad_data'}, 'v2_indexes': {'csv': 'geo_csv', 'files': 'geo_files', 'gct_col_metadata': 'geo_gct_col_metadata', 'gct_row_metadata': 'geo_gct_row_metadata', 'h5ad_col_metadata': 'geo_h5ad_col_metadata', 'h5ad_row_metadata': 'geo_h5ad_row_metadata', 'ipynb': 'geo_ipynb', 'json': 'geo_json'}, 'studio_presets': [], 'is_public': False, 'storage_infra_version': 'v1'}, 'links': {'self': '/omixatlases/1643016586529'}}}\n"
          ]
        }
      ],
      "source": [
        "# get omixatlas details\n",
        "omix_details = omixatlas.get_omixatlas(repo_key)\n",
        "print(omix_details)"
      ]
    },
    {
      "cell_type": "code",
      "execution_count": 7,
      "metadata": {},
      "outputs": [
        {
          "name": "stdout",
          "output_type": "stream",
          "text": [
            "Component {'data_type': ['Transcriptomics'], 'component_id': 71} already exists in this repo geo\n",
            " OmixAtlas 1643016586529 Updated  \n",
            "   Repository Id Repository Name   Display Name                  Description  \\\n",
            "0  1643016586529             geo  Geo-Omixatlas  updated description for geo   \n",
            "\n",
            "                                                                                                                                                                                                Components  \n",
            "0  [{'data_type': ['Transcriptomics'], 'component_id': 78}, {'data_type': ['Transcriptomics'], 'component_id': 25}, {'data_type': ['Transcriptomics'], 'component_id': 61}, {'data_type': ['Transcripto...  \n",
            "   Repository Id Repository Name   Display Name                  Description  \\\n",
            "0  1643016586529             geo  Geo-Omixatlas  updated description for geo   \n",
            "\n",
            "                                          Components  \n",
            "0  [{'data_type': ['Transcriptomics'], 'component...  \n"
          ]
        }
      ],
      "source": [
        "# Testing point 1\n",
        "# correct components added\n",
        "# 10 -> `elmaven`\n",
        "\n",
        "add_components = [{\"data_type\": [\"Transcriptomics\"], \"component_id\": 10}, {\"data_type\": [\"Transcriptomics\"], \"component_id\": 71}]\n",
        "\n",
        "update_res = omixatlas.update(repo_key, add_components=add_components)\n",
        "print(update_res)\n"
      ]
    },
    {
      "cell_type": "code",
      "execution_count": 8,
      "metadata": {},
      "outputs": [
        {
          "name": "stdout",
          "output_type": "stream",
          "text": [
            "Component {'data_type': ['Transcriptomics'], 'component_id': 71} already exists in this repo geo\n",
            " OmixAtlas 1643016586529 Updated  \n",
            "   Repository Id Repository Name   Display Name                  Description  \\\n",
            "0  1643016586529             geo  Geo-Omixatlas  updated description for geo   \n",
            "\n",
            "                                                                                                                                                                                                Components  \n",
            "0  [{'data_type': ['Transcriptomics'], 'component_id': 78}, {'data_type': ['Transcriptomics'], 'component_id': 25}, {'data_type': ['Transcriptomics'], 'component_id': 61}, {'data_type': ['Transcripto...  \n",
            "   Repository Id Repository Name   Display Name                  Description  \\\n",
            "0  1643016586529             geo  Geo-Omixatlas  updated description for geo   \n",
            "\n",
            "                                          Components  \n",
            "0  [{'data_type': ['Transcriptomics'], 'component...  \n"
          ]
        }
      ],
      "source": [
        "# Testing point 2\n",
        "# Already added component\n",
        "# 71 -> `Microbiome Analysis` (Already added)\n",
        "\n",
        "add_components = [{\"data_type\": [\"Transcriptomics\"], \"component_id\": 71}]\n",
        "update_res = omixatlas.update(repo_key, add_components=add_components)\n",
        "print(update_res)\n"
      ]
    },
    {
      "cell_type": "code",
      "execution_count": 10,
      "metadata": {},
      "outputs": [
        {
          "ename": "RequestException",
          "evalue": "(\"Component {'data_type': ['Transcriptomics'], 'component_id': 66} is invalid. Provide Correct component details\", 'Requested resource does not exist')",
          "output_type": "error",
          "traceback": [
            "\u001b[0;31m---------------------------------------------------------------------------\u001b[0m",
            "\u001b[0;31mRequestException\u001b[0m                          Traceback (most recent call last)",
            "Input \u001b[0;32mIn [10]\u001b[0m, in \u001b[0;36m<cell line: 6>\u001b[0;34m()\u001b[0m\n\u001b[1;32m      1\u001b[0m \u001b[38;5;66;03m# Testing point 3\u001b[39;00m\n\u001b[1;32m      2\u001b[0m \u001b[38;5;66;03m# Invalid added component\u001b[39;00m\n\u001b[1;32m      3\u001b[0m \u001b[38;5;66;03m# component id -> 66\u001b[39;00m\n\u001b[1;32m      5\u001b[0m add_components \u001b[38;5;241m=\u001b[39m [{\u001b[38;5;124m\"\u001b[39m\u001b[38;5;124mdata_type\u001b[39m\u001b[38;5;124m\"\u001b[39m: [\u001b[38;5;124m\"\u001b[39m\u001b[38;5;124mTranscriptomics\u001b[39m\u001b[38;5;124m\"\u001b[39m], \u001b[38;5;124m\"\u001b[39m\u001b[38;5;124mcomponent_id\u001b[39m\u001b[38;5;124m\"\u001b[39m: \u001b[38;5;241m66\u001b[39m}]\n\u001b[0;32m----> 6\u001b[0m update_res \u001b[38;5;241m=\u001b[39m \u001b[43momixatlas\u001b[49m\u001b[38;5;241;43m.\u001b[39;49m\u001b[43mupdate\u001b[49m\u001b[43m(\u001b[49m\u001b[43mrepo_key\u001b[49m\u001b[43m,\u001b[49m\u001b[43m \u001b[49m\u001b[43madd_components\u001b[49m\u001b[38;5;241;43m=\u001b[39;49m\u001b[43madd_components\u001b[49m\u001b[43m)\u001b[49m\n\u001b[1;32m      7\u001b[0m \u001b[38;5;28mprint\u001b[39m(update_res)\n",
            "File \u001b[0;32m/usr/local/lib/python3.10/site-packages/polly/omixatlas.py:1463\u001b[0m, in \u001b[0;36mOmixAtlas.update\u001b[0;34m(self, repo_key, display_name, description, image_url, add_components, remove_components)\u001b[0m\n\u001b[1;32m   1461\u001b[0m repository_url \u001b[38;5;241m=\u001b[39m \u001b[38;5;124mf\u001b[39m\u001b[38;5;124m\"\u001b[39m\u001b[38;5;132;01m{\u001b[39;00m\u001b[38;5;28mself\u001b[39m\u001b[38;5;241m.\u001b[39mresource_url\u001b[38;5;132;01m}\u001b[39;00m\u001b[38;5;124m/\u001b[39m\u001b[38;5;132;01m{\u001b[39;00mrepo_key\u001b[38;5;132;01m}\u001b[39;00m\u001b[38;5;124m\"\u001b[39m\n\u001b[1;32m   1462\u001b[0m resp \u001b[38;5;241m=\u001b[39m \u001b[38;5;28mself\u001b[39m\u001b[38;5;241m.\u001b[39msession\u001b[38;5;241m.\u001b[39mpatch(repository_url, json\u001b[38;5;241m=\u001b[39mrepo_curr_data)\n\u001b[0;32m-> 1463\u001b[0m \u001b[43merror_handler\u001b[49m\u001b[43m(\u001b[49m\u001b[43mresp\u001b[49m\u001b[43m)\u001b[49m\n\u001b[1;32m   1464\u001b[0m \u001b[38;5;28;01mif\u001b[39;00m resp\u001b[38;5;241m.\u001b[39mjson()[\u001b[38;5;124m\"\u001b[39m\u001b[38;5;124mdata\u001b[39m\u001b[38;5;124m\"\u001b[39m][\u001b[38;5;124m\"\u001b[39m\u001b[38;5;124mid\u001b[39m\u001b[38;5;124m\"\u001b[39m]:\n\u001b[1;32m   1465\u001b[0m     repo_id \u001b[38;5;241m=\u001b[39m resp\u001b[38;5;241m.\u001b[39mjson()[\u001b[38;5;124m\"\u001b[39m\u001b[38;5;124mdata\u001b[39m\u001b[38;5;124m\"\u001b[39m][\u001b[38;5;124m\"\u001b[39m\u001b[38;5;124mid\u001b[39m\u001b[38;5;124m\"\u001b[39m]\n",
            "File \u001b[0;32m/usr/local/lib/python3.10/site-packages/polly/errors.py:261\u001b[0m, in \u001b[0;36merror_handler\u001b[0;34m(response)\u001b[0m\n\u001b[1;32m    259\u001b[0m \u001b[38;5;28;01mif\u001b[39;00m has_error_message(response):\n\u001b[1;32m    260\u001b[0m     title, detail \u001b[38;5;241m=\u001b[39m extract_json_api_error(response)\n\u001b[0;32m--> 261\u001b[0m     \u001b[38;5;28;01mraise\u001b[39;00m RequestException(title, detail)\n\u001b[1;32m    262\u001b[0m \u001b[38;5;28;01melif\u001b[39;00m response\u001b[38;5;241m.\u001b[39mstatus_code \u001b[38;5;241m==\u001b[39m \u001b[38;5;241m401\u001b[39m:\n\u001b[1;32m    263\u001b[0m     \u001b[38;5;28;01mraise\u001b[39;00m UnauthorizedException\n",
            "\u001b[0;31mRequestException\u001b[0m: (\"Component {'data_type': ['Transcriptomics'], 'component_id': 66} is invalid. Provide Correct component details\", 'Requested resource does not exist')"
          ]
        }
      ],
      "source": [
        "# Testing point 3\n",
        "# Invalid added component\n",
        "# component id -> 66\n",
        "\n",
        "add_components = [{\"data_type\": [\"Transcriptomics\"], \"component_id\": 66}]\n",
        "update_res = omixatlas.update(repo_key, add_components=add_components)\n",
        "print(update_res)"
      ]
    },
    {
      "cell_type": "code",
      "execution_count": 11,
      "metadata": {},
      "outputs": [
        {
          "name": "stdout",
          "output_type": "stream",
          "text": [
            " OmixAtlas 1643016586529 Updated  \n",
            "   Repository Id Repository Name   Display Name                  Description  \\\n",
            "0  1643016586529             geo  Geo-Omixatlas  updated description for geo   \n",
            "\n",
            "                                                                                                                                                                                                Components  \n",
            "0  [{'data_type': ['Transcriptomics'], 'component_id': 78}, {'data_type': ['Transcriptomics'], 'component_id': 25}, {'data_type': ['Transcriptomics'], 'component_id': 61}, {'data_type': ['Transcripto...  \n",
            "   Repository Id Repository Name   Display Name                  Description  \\\n",
            "0  1643016586529             geo  Geo-Omixatlas  updated description for geo   \n",
            "\n",
            "                                          Components  \n",
            "0  [{'data_type': ['Transcriptomics'], 'component...  \n"
          ]
        }
      ],
      "source": [
        "# Testing point 4\n",
        "# Valid Component Removed\n",
        "# component id -> 71\n",
        "remove_components = [{\"data_type\": [\"Transcriptomics\"], \"component_id\": 71}]\n",
        "update_res = omixatlas.update(repo_key, remove_components=remove_components)\n",
        "print(update_res)\n"
      ]
    },
    {
      "cell_type": "code",
      "execution_count": 12,
      "metadata": {},
      "outputs": [
        {
          "name": "stdout",
          "output_type": "stream",
          "text": [
            "Component {'data_type': ['Transcriptomics'], 'component_id': 142} does not exist in this repo geo\n",
            " OmixAtlas 1643016586529 Updated  \n",
            "   Repository Id Repository Name   Display Name                  Description  \\\n",
            "0  1643016586529             geo  Geo-Omixatlas  updated description for geo   \n",
            "\n",
            "                                                                                                                                                                                                Components  \n",
            "0  [{'data_type': ['Transcriptomics'], 'component_id': 78}, {'data_type': ['Transcriptomics'], 'component_id': 25}, {'data_type': ['Transcriptomics'], 'component_id': 61}, {'data_type': ['Transcripto...  \n",
            "   Repository Id Repository Name   Display Name                  Description  \\\n",
            "0  1643016586529             geo  Geo-Omixatlas  updated description for geo   \n",
            "\n",
            "                                          Components  \n",
            "0  [{'data_type': ['Transcriptomics'], 'component...  \n"
          ]
        }
      ],
      "source": [
        "# Testing point 5\n",
        "# Invalid Component Removed\n",
        "# this component is not present in OmixAtlas\n",
        "# component id -> 142\n",
        "remove_components = [{\"data_type\": [\"Transcriptomics\"], \"component_id\": 142}]\n",
        "update_res = omixatlas.update(repo_key, remove_components=remove_components)\n",
        "print(update_res)"
      ]
    },
    {
      "cell_type": "code",
      "execution_count": 14,
      "metadata": {},
      "outputs": [
        {
          "name": "stdout",
          "output_type": "stream",
          "text": [
            " OmixAtlas 1643016586529 Updated  \n",
            "   Repository Id Repository Name   Display Name                  Description  \\\n",
            "0  1643016586529             geo  Geo-Omixatlas  updated description for geo   \n",
            "\n",
            "                                                                                                                                                                                                Components  \n",
            "0  [{'data_type': ['Transcriptomics'], 'component_id': 78}, {'data_type': ['Transcriptomics'], 'component_id': 61}, {'data_type': ['Transcriptomics'], 'component_id': 28}, {'data_type': ['Transcripto...  \n",
            "   Repository Id Repository Name   Display Name                  Description  \\\n",
            "0  1643016586529             geo  Geo-Omixatlas  updated description for geo   \n",
            "\n",
            "                                          Components  \n",
            "0  [{'data_type': ['Transcriptomics'], 'component...  \n"
          ]
        }
      ],
      "source": [
        "# Testing point 6\n",
        "# adding and removing at the same time\n",
        "# add component -> 142\n",
        "# remove component -> 25\n",
        "add_components = [{\"data_type\": [\"Transcriptomics\"], \"component_id\": 142}, {\"data_type\": [\"Transcriptomics\"], \"component_id\": 141}]\n",
        "remove_components = [{\"data_type\": [\"Transcriptomics\"], \"component_id\": 25}]\n",
        "update_res = omixatlas.update(repo_key, add_components=add_components, remove_components=remove_components)\n",
        "print(update_res)"
      ]
    },
    {
      "cell_type": "code",
      "execution_count": null,
      "metadata": {},
      "outputs": [],
      "source": []
    }
  ],
  "metadata": {
    "kernelspec": {
      "display_name": "Python 3 (ipykernel)",
      "language": "python",
      "name": "python3"
    },
    "language_info": {
      "codemirror_mode": {
        "name": "ipython",
        "version": 3
      },
      "file_extension": ".py",
      "mimetype": "text/x-python",
      "name": "python",
      "nbconvert_exporter": "python",
      "pygments_lexer": "ipython3",
      "version": "3.10.2"
    }
  },
  "nbformat": 4,
  "nbformat_minor": 2
}