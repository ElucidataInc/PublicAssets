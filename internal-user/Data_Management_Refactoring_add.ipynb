{
  "cells": [
    {
      "cell_type": "markdown",
      "metadata": {
        "colab_type": "text",
        "id": "view-in-github"
      },
      "source": [
        "<a href=\"https://polly.elucidata.io/manage/workspaces?action=open_polly_notebook&source=github&path=path_place_holder&kernel=elucidata/Python 3.10&machine=medium\" target=\"_parent\"><img src=\"https://elucidatainc.github.io/PublicAssets/open_polly.svg\" alt=\"Open in Polly\"/></a>\n"
      ]
    },
    {
      "cell_type": "markdown",
      "metadata": {},
      "source": [
        "# Welcome to Polly Python3 Notebook."
      ]
    },
    {
      "cell_type": "code",
      "execution_count": 1,
      "metadata": {},
      "outputs": [
        {
          "name": "stdout",
          "output_type": "stream",
          "text": [
            "/bin/bash: warning: setlocale: LC_ALL: cannot change locale (en_US.UTF-8)\n",
            "Collecting polly-python==0.5.1-add-refactoring\n",
            "  Downloading https://elucidatainc.github.io/PublicAssets/builds/polly-python/tests/testpolly/polly_python-0.5.1_add_refactoring-py3-none-any.whl (202 kB)\n",
            "\u001b[K     |████████████████████████████████| 202 kB 6.1 MB/s eta 0:00:01\n",
            "\u001b[?25hRequirement already satisfied: pytest>=6.2.5 in /usr/local/lib/python3.10/site-packages (from polly-python==0.5.1-add-refactoring) (7.3.1)\n",
            "Requirement already satisfied: retrying==1.3.4 in /usr/local/lib/python3.10/site-packages (from polly-python==0.5.1-add-refactoring) (1.3.4)\n",
            "Requirement already satisfied: pandas>=1.3.5 in /usr/local/lib/python3.10/site-packages (from polly-python==0.5.1-add-refactoring) (1.4.1)\n",
            "Requirement already satisfied: requests==2.25.1 in /usr/local/lib/python3.10/site-packages (from polly-python==0.5.1-add-refactoring) (2.25.1)\n",
            "Collecting pydantic==1.10.12\n",
            "  Downloading pydantic-1.10.12-cp310-cp310-manylinux_2_17_x86_64.manylinux2014_x86_64.whl (3.1 MB)\n",
            "\u001b[K     |████████████████████████████████| 3.1 MB 7.1 MB/s eta 0:00:01\n",
            "\u001b[?25hRequirement already satisfied: tqdm==4.65.0 in /usr/local/lib/python3.10/site-packages (from polly-python==0.5.1-add-refactoring) (4.65.0)\n",
            "Requirement already satisfied: rst2txt==1.1.0 in /usr/local/lib/python3.10/site-packages (from polly-python==0.5.1-add-refactoring) (1.1.0)\n",
            "Requirement already satisfied: elucidatacloudpathlib==0.6.6 in /usr/local/lib/python3.10/site-packages (from polly-python==0.5.1-add-refactoring) (0.6.6)\n",
            "Requirement already satisfied: python-jose==3.3.0 in /usr/local/lib/python3.10/site-packages (from polly-python==0.5.1-add-refactoring) (3.3.0)\n",
            "Requirement already satisfied: plotly>=5.0.0 in /usr/local/lib/python3.10/site-packages (from polly-python==0.5.1-add-refactoring) (5.14.1)\n",
            "Collecting polly-validator==0.0.2\n",
            "  Downloading polly_validator-0.0.2-py3-none-any.whl (29 kB)\n",
            "Collecting botocore>=1.27.0\n",
            "  Downloading botocore-1.31.20-py3-none-any.whl (11.1 MB)\n",
            "\u001b[K     |████████████████████████████████| 11.1 MB 64.0 MB/s eta 0:00:01\n",
            "\u001b[?25hCollecting boto3>=1.24.0\n",
            "  Downloading boto3-1.28.20-py3-none-any.whl (135 kB)\n",
            "\u001b[K     |████████████████████████████████| 135 kB 71.8 MB/s eta 0:00:01\n",
            "\u001b[?25hRequirement already satisfied: elucidatacmapPy==3.3.4 in /usr/local/lib/python3.10/site-packages (from polly-python==0.5.1-add-refactoring) (3.3.4)\n",
            "Collecting cryptography<=38.0.0,>=37.0.1\n",
            "  Downloading cryptography-38.0.0-cp36-abi3-manylinux_2_28_x86_64.whl (4.2 MB)\n",
            "\u001b[K     |████████████████████████████████| 4.2 MB 71.9 MB/s eta 0:00:01\n",
            "\u001b[?25hRequirement already satisfied: mixpanel==4.10.0 in /usr/local/lib/python3.10/site-packages (from polly-python==0.5.1-add-refactoring) (4.10.0)\n",
            "Requirement already satisfied: Deprecated>=1.2.12 in /usr/local/lib/python3.10/site-packages (from polly-python==0.5.1-add-refactoring) (1.2.13)\n",
            "Requirement already satisfied: joblib>=1.2.0 in /usr/local/lib/python3.10/site-packages (from polly-python==0.5.1-add-refactoring) (1.2.0)\n",
            "Requirement already satisfied: h5py>=2.6.0 in /usr/local/lib/python3.10/site-packages (from elucidatacmapPy==3.3.4->polly-python==0.5.1-add-refactoring) (3.8.0)\n",
            "Requirement already satisfied: numpy>=1.11.2 in /usr/local/lib/python3.10/site-packages (from elucidatacmapPy==3.3.4->polly-python==0.5.1-add-refactoring) (1.22.3)\n",
            "Requirement already satisfied: six in /usr/local/lib/python3.10/site-packages (from elucidatacmapPy==3.3.4->polly-python==0.5.1-add-refactoring) (1.16.0)\n",
            "Requirement already satisfied: urllib3 in /usr/local/lib/python3.10/site-packages (from mixpanel==4.10.0->polly-python==0.5.1-add-refactoring) (1.26.6)\n",
            "Requirement already satisfied: rapidfuzz==2.1.1 in /usr/local/lib/python3.10/site-packages (from polly-validator==0.0.2->polly-python==0.5.1-add-refactoring) (2.1.1)\n",
            "Requirement already satisfied: tabulate==0.8.10 in /usr/local/lib/python3.10/site-packages (from polly-validator==0.0.2->polly-python==0.5.1-add-refactoring) (0.8.10)\n",
            "Requirement already satisfied: appdirs==1.4.4 in /usr/local/lib/python3.10/site-packages (from polly-validator==0.0.2->polly-python==0.5.1-add-refactoring) (1.4.4)\n",
            "Requirement already satisfied: pronto in /usr/local/lib/python3.10/site-packages (from polly-validator==0.0.2->polly-python==0.5.1-add-refactoring) (2.5.1)\n",
            "Requirement already satisfied: typing-extensions>=4.2.0 in /usr/local/lib/python3.10/site-packages (from pydantic==1.10.12->polly-python==0.5.1-add-refactoring) (4.5.0)\n",
            "Requirement already satisfied: pyasn1 in /usr/local/lib/python3.10/site-packages (from python-jose==3.3.0->polly-python==0.5.1-add-refactoring) (0.4.8)\n",
            "Requirement already satisfied: rsa in /usr/local/lib/python3.10/site-packages (from python-jose==3.3.0->polly-python==0.5.1-add-refactoring) (4.7.2)\n",
            "Requirement already satisfied: ecdsa!=0.15 in /usr/local/lib/python3.10/site-packages (from python-jose==3.3.0->polly-python==0.5.1-add-refactoring) (0.18.0)\n",
            "Requirement already satisfied: jarowinkler<1.1.0,>=1.0.3 in /usr/local/lib/python3.10/site-packages (from rapidfuzz==2.1.1->polly-validator==0.0.2->polly-python==0.5.1-add-refactoring) (1.0.5)\n",
            "Requirement already satisfied: chardet<5,>=3.0.2 in /usr/local/lib/python3.10/site-packages (from requests==2.25.1->polly-python==0.5.1-add-refactoring) (4.0.0)\n",
            "Requirement already satisfied: idna<3,>=2.5 in /usr/local/lib/python3.10/site-packages (from requests==2.25.1->polly-python==0.5.1-add-refactoring) (2.10)\n",
            "Requirement already satisfied: certifi>=2017.4.17 in /usr/local/lib/python3.10/site-packages (from requests==2.25.1->polly-python==0.5.1-add-refactoring) (2021.5.30)\n",
            "Requirement already satisfied: pygments in /usr/local/lib/python3.10/site-packages (from rst2txt==1.1.0->polly-python==0.5.1-add-refactoring) (2.10.0)\n",
            "Requirement already satisfied: docutils>=0.11 in /usr/local/lib/python3.10/site-packages (from rst2txt==1.1.0->polly-python==0.5.1-add-refactoring) (0.15.2)\n",
            "Collecting s3transfer<0.7.0,>=0.6.0\n",
            "  Downloading s3transfer-0.6.1-py3-none-any.whl (79 kB)\n",
            "\u001b[K     |████████████████████████████████| 79 kB 8.2 MB/s  eta 0:00:01\n",
            "\u001b[?25hRequirement already satisfied: jmespath<2.0.0,>=0.7.1 in /usr/local/lib/python3.10/site-packages (from boto3>=1.24.0->polly-python==0.5.1-add-refactoring) (0.10.0)\n",
            "Requirement already satisfied: python-dateutil<3.0.0,>=2.1 in /usr/local/lib/python3.10/site-packages (from botocore>=1.27.0->polly-python==0.5.1-add-refactoring) (2.8.1)\n",
            "Requirement already satisfied: cffi>=1.12 in /usr/local/lib/python3.10/site-packages (from cryptography<=38.0.0,>=37.0.1->polly-python==0.5.1-add-refactoring) (1.15.1)\n",
            "Requirement already satisfied: pycparser in /usr/local/lib/python3.10/site-packages (from cffi>=1.12->cryptography<=38.0.0,>=37.0.1->polly-python==0.5.1-add-refactoring) (2.21)\n",
            "Requirement already satisfied: wrapt<2,>=1.10 in /usr/local/lib/python3.10/site-packages (from Deprecated>=1.2.12->polly-python==0.5.1-add-refactoring) (1.15.0)\n",
            "Requirement already satisfied: pytz>=2020.1 in /usr/local/lib/python3.10/site-packages (from pandas>=1.3.5->polly-python==0.5.1-add-refactoring) (2021.3)\n",
            "Requirement already satisfied: tenacity>=6.2.0 in /usr/local/lib/python3.10/site-packages (from plotly>=5.0.0->polly-python==0.5.1-add-refactoring) (8.2.2)\n",
            "Requirement already satisfied: packaging in /usr/local/lib/python3.10/site-packages (from plotly>=5.0.0->polly-python==0.5.1-add-refactoring) (23.1)\n",
            "Requirement already satisfied: iniconfig in /usr/local/lib/python3.10/site-packages (from pytest>=6.2.5->polly-python==0.5.1-add-refactoring) (2.0.0)\n",
            "Requirement already satisfied: exceptiongroup>=1.0.0rc8 in /usr/local/lib/python3.10/site-packages (from pytest>=6.2.5->polly-python==0.5.1-add-refactoring) (1.1.1)\n",
            "Requirement already satisfied: pluggy<2.0,>=0.12 in /usr/local/lib/python3.10/site-packages (from pytest>=6.2.5->polly-python==0.5.1-add-refactoring) (1.0.0)\n",
            "Requirement already satisfied: tomli>=1.0.0 in /usr/local/lib/python3.10/site-packages (from pytest>=6.2.5->polly-python==0.5.1-add-refactoring) (2.0.1)\n",
            "Requirement already satisfied: fastobo~=0.12.1 in /usr/local/lib/python3.10/site-packages (from pronto->polly-validator==0.0.2->polly-python==0.5.1-add-refactoring) (0.12.2)\n",
            "Requirement already satisfied: networkx~=2.3 in /usr/local/lib/python3.10/site-packages (from pronto->polly-validator==0.0.2->polly-python==0.5.1-add-refactoring) (2.8.8)\n"
          ]
        },
        {
          "name": "stdout",
          "output_type": "stream",
          "text": [
            "Installing collected packages: botocore, s3transfer, pydantic, polly-validator, cryptography, boto3, polly-python\n",
            "  Attempting uninstall: botocore\n",
            "    Found existing installation: botocore 1.24.19\n",
            "    Uninstalling botocore-1.24.19:\n",
            "      Successfully uninstalled botocore-1.24.19\n",
            "  Attempting uninstall: s3transfer\n",
            "    Found existing installation: s3transfer 0.5.2\n",
            "    Uninstalling s3transfer-0.5.2:\n",
            "      Successfully uninstalled s3transfer-0.5.2\n",
            "  Attempting uninstall: pydantic\n",
            "    Found existing installation: pydantic 1.10.7\n",
            "    Uninstalling pydantic-1.10.7:\n",
            "      Successfully uninstalled pydantic-1.10.7\n",
            "  Attempting uninstall: polly-validator\n",
            "    Found existing installation: polly-validator 0.0.1\n",
            "    Uninstalling polly-validator-0.0.1:\n",
            "      Successfully uninstalled polly-validator-0.0.1\n",
            "  Attempting uninstall: cryptography\n",
            "    Found existing installation: cryptography 40.0.2\n",
            "    Uninstalling cryptography-40.0.2:\n",
            "      Successfully uninstalled cryptography-40.0.2\n",
            "  Attempting uninstall: boto3\n",
            "    Found existing installation: boto3 1.21.19\n",
            "    Uninstalling boto3-1.21.19:\n",
            "      Successfully uninstalled boto3-1.21.19\n",
            "  Attempting uninstall: polly-python\n",
            "    Found existing installation: polly-python 0.3.0\n",
            "    Uninstalling polly-python-0.3.0:\n",
            "      Successfully uninstalled polly-python-0.3.0\n",
            "\u001b[31mERROR: pip's dependency resolver does not currently take into account all the packages that are installed. This behaviour is the source of the following dependency conflicts.\n",
            "awscli 1.22.74 requires botocore==1.24.19, but you have botocore 1.31.20 which is incompatible.\n",
            "awscli 1.22.74 requires s3transfer<0.6.0,>=0.5.0, but you have s3transfer 0.6.1 which is incompatible.\u001b[0m\n",
            "Successfully installed boto3-1.28.20 botocore-1.31.20 cryptography-38.0.0 polly-python-0.5.1 polly-validator-0.0.2 pydantic-1.10.12 s3transfer-0.6.1\n",
            "\u001b[33mWARNING: Running pip as the 'root' user can result in broken permissions and conflicting behaviour with the system package manager. It is recommended to use a virtual environment instead: https://pip.pypa.io/warnings/venv\u001b[0m\n",
            "\u001b[33mWARNING: You are using pip version 21.2.4; however, version 23.2.1 is available.\n",
            "You should consider upgrading via the '/usr/local/bin/python3.10 -m pip install --upgrade pip' command.\u001b[0m\n"
          ]
        }
      ],
      "source": [
        "!sudo pip3 install https://elucidatainc.github.io/PublicAssets/builds/polly-python/tests/testpolly/polly_python-0.5.1_add_refactoring-py3-none-any.whl"
      ]
    },
    {
      "cell_type": "code",
      "execution_count": 2,
      "metadata": {},
      "outputs": [],
      "source": [
        "import os"
      ]
    },
    {
      "cell_type": "code",
      "execution_count": 3,
      "metadata": {},
      "outputs": [],
      "source": [
        "from polly.auth import Polly\n",
        "AUTH_TOKEN= \"-FsTQ\" # Obtain authentication tokens\n",
        "Polly.auth(AUTH_TOKEN, env=\"testpolly\")"
      ]
    },
    {
      "cell_type": "code",
      "execution_count": 4,
      "metadata": {},
      "outputs": [],
      "source": [
        "from polly.omixatlas import OmixAtlas"
      ]
    },
    {
      "cell_type": "code",
      "execution_count": 5,
      "metadata": {},
      "outputs": [],
      "source": [
        "omixatlas = OmixAtlas()"
      ]
    },
    {
      "cell_type": "code",
      "execution_count": 6,
      "metadata": {},
      "outputs": [
        {
          "ename": "paramException",
          "evalue": "paramException (parameter error): source_folder_path should be a dict with valid data and metadata path values in the format {'metadata': '<metadata_path>', 'data': '<data_path>'} ",
          "output_type": "error",
          "traceback": [
            "\u001b[0;31m---------------------------------------------------------------------------\u001b[0m",
            "\u001b[0;31mparamException\u001b[0m                            Traceback (most recent call last)",
            "Input \u001b[0;32mIn [6]\u001b[0m, in \u001b[0;36m<cell line: 5>\u001b[0;34m()\u001b[0m\n\u001b[1;32m      3\u001b[0m repo_id \u001b[38;5;241m=\u001b[39m \u001b[38;5;124m\"\u001b[39m\u001b[38;5;124m1654268055800\u001b[39m\u001b[38;5;124m\"\u001b[39m\n\u001b[1;32m      4\u001b[0m source_folder_path \u001b[38;5;241m=\u001b[39m \u001b[38;5;124m\"\u001b[39m\u001b[38;5;124m/home/elucidata/ELUCIDATA/libraries/geo_data/transcriptomics/ingestion_files\u001b[39m\u001b[38;5;124m\"\u001b[39m\n\u001b[0;32m----> 5\u001b[0m \u001b[43momixatlas\u001b[49m\u001b[38;5;241;43m.\u001b[39;49m\u001b[43madd_datasets\u001b[49m\u001b[43m(\u001b[49m\u001b[43mrepo_id\u001b[49m\u001b[43m,\u001b[49m\u001b[43m \u001b[49m\u001b[43msource_folder_path\u001b[49m\u001b[43m)\u001b[49m\n",
            "File \u001b[0;32m/usr/local/lib/python3.10/site-packages/polly/tracking.py:59\u001b[0m, in \u001b[0;36mTrack.track_decorator.<locals>.wrapper_function\u001b[0;34m(*args, **kwargs)\u001b[0m\n\u001b[1;32m     57\u001b[0m         \u001b[38;5;28;01mreturn\u001b[39;00m result\n\u001b[1;32m     58\u001b[0m \u001b[38;5;28;01melse\u001b[39;00m:\n\u001b[0;32m---> 59\u001b[0m     \u001b[38;5;28;01mraise\u001b[39;00m returned_err\n",
            "File \u001b[0;32m/usr/local/lib/python3.10/site-packages/polly/tracking.py:22\u001b[0m, in \u001b[0;36mTrack.track_decorator.<locals>.wrapper_function\u001b[0;34m(*args, **kwargs)\u001b[0m\n\u001b[1;32m     20\u001b[0m execution_flag \u001b[38;5;241m=\u001b[39m \u001b[38;5;28;01mFalse\u001b[39;00m\n\u001b[1;32m     21\u001b[0m \u001b[38;5;28;01mtry\u001b[39;00m:\n\u001b[0;32m---> 22\u001b[0m     result \u001b[38;5;241m=\u001b[39m \u001b[43mfunction\u001b[49m\u001b[43m(\u001b[49m\u001b[38;5;241;43m*\u001b[39;49m\u001b[43margs\u001b[49m\u001b[43m,\u001b[49m\u001b[43m \u001b[49m\u001b[38;5;241;43m*\u001b[39;49m\u001b[38;5;241;43m*\u001b[39;49m\u001b[43mkwargs\u001b[49m\u001b[43m)\u001b[49m\n\u001b[1;32m     23\u001b[0m     execution_flag \u001b[38;5;241m=\u001b[39m \u001b[38;5;28;01mTrue\u001b[39;00m\n\u001b[1;32m     24\u001b[0m \u001b[38;5;28;01mexcept\u001b[39;00m \u001b[38;5;167;01mException\u001b[39;00m \u001b[38;5;28;01mas\u001b[39;00m e:\n",
            "File \u001b[0;32m/usr/local/lib/python3.10/site-packages/polly/omixatlas.py:1773\u001b[0m, in \u001b[0;36mOmixAtlas.add_datasets\u001b[0;34m(self, repo_id, source_folder_path, priority, validation)\u001b[0m\n\u001b[1;32m   1771\u001b[0m     \u001b[38;5;28;01mreturn\u001b[39;00m data_upload_results_df\n\u001b[1;32m   1772\u001b[0m \u001b[38;5;28;01mexcept\u001b[39;00m \u001b[38;5;167;01mException\u001b[39;00m \u001b[38;5;28;01mas\u001b[39;00m err:\n\u001b[0;32m-> 1773\u001b[0m     \u001b[38;5;28;01mraise\u001b[39;00m err\n",
            "File \u001b[0;32m/usr/local/lib/python3.10/site-packages/polly/omixatlas.py:1768\u001b[0m, in \u001b[0;36mOmixAtlas.add_datasets\u001b[0;34m(self, repo_id, source_folder_path, priority, validation)\u001b[0m\n\u001b[1;32m   1648\u001b[0m \u001b[38;5;28;01mtry\u001b[39;00m:\n\u001b[1;32m   1649\u001b[0m     \u001b[38;5;66;03m# parameters check\u001b[39;00m\n\u001b[1;32m   1650\u001b[0m     \u001b[38;5;66;03m# self._parameter_check_for_add_dataset(\u001b[39;00m\n\u001b[0;32m   (...)\u001b[0m\n\u001b[1;32m   1764\u001b[0m     \u001b[38;5;66;03m#         f\"\\nDestination folder path considered for ingestion request: {destination_folder_path}\"\u001b[39;00m\n\u001b[1;32m   1765\u001b[0m     \u001b[38;5;66;03m#     )\u001b[39;00m\n\u001b[1;32m   1767\u001b[0m     files_obj \u001b[38;5;241m=\u001b[39m Files()\n\u001b[0;32m-> 1768\u001b[0m     data_upload_results_df \u001b[38;5;241m=\u001b[39m \u001b[43mfiles_obj\u001b[49m\u001b[38;5;241;43m.\u001b[39;49m\u001b[43madd_datasets\u001b[49m\u001b[43m(\u001b[49m\n\u001b[1;32m   1769\u001b[0m \u001b[43m        \u001b[49m\u001b[38;5;28;43mself\u001b[39;49m\u001b[43m,\u001b[49m\u001b[43m \u001b[49m\u001b[43mrepo_id\u001b[49m\u001b[43m,\u001b[49m\u001b[43m \u001b[49m\u001b[43msource_folder_path\u001b[49m\u001b[43m,\u001b[49m\u001b[43m \u001b[49m\u001b[43mpriority\u001b[49m\u001b[43m,\u001b[49m\u001b[43m \u001b[49m\u001b[43mvalidation\u001b[49m\n\u001b[1;32m   1770\u001b[0m \u001b[43m    \u001b[49m\u001b[43m)\u001b[49m\n\u001b[1;32m   1771\u001b[0m     \u001b[38;5;28;01mreturn\u001b[39;00m data_upload_results_df\n\u001b[1;32m   1772\u001b[0m \u001b[38;5;28;01mexcept\u001b[39;00m \u001b[38;5;167;01mException\u001b[39;00m \u001b[38;5;28;01mas\u001b[39;00m err:\n",
            "File \u001b[0;32m/usr/local/lib/python3.10/site-packages/polly_services/files/files.py:34\u001b[0m, in \u001b[0;36mFiles.add_datasets\u001b[0;34m(self, polly_session, repo_id, source_folder_path, priority, validation)\u001b[0m\n\u001b[1;32m     13\u001b[0m \u001b[38;5;28;01mdef\u001b[39;00m \u001b[38;5;21madd_datasets\u001b[39m(\n\u001b[1;32m     14\u001b[0m     \u001b[38;5;28mself\u001b[39m,\n\u001b[1;32m     15\u001b[0m     polly_session,\n\u001b[0;32m   (...)\u001b[0m\n\u001b[1;32m     19\u001b[0m     validation\u001b[38;5;241m=\u001b[39m\u001b[38;5;28;01mFalse\u001b[39;00m,\n\u001b[1;32m     20\u001b[0m ):\n\u001b[1;32m     21\u001b[0m     \u001b[38;5;124;03m\"\"\"Function to ingest the dataset and metadata in omixatlas\u001b[39;00m\n\u001b[1;32m     22\u001b[0m \n\u001b[1;32m     23\u001b[0m \u001b[38;5;124;03m    Args:\u001b[39;00m\n\u001b[0;32m   (...)\u001b[0m\n\u001b[1;32m     31\u001b[0m \u001b[38;5;124;03m        _type_: _description_\u001b[39;00m\n\u001b[1;32m     32\u001b[0m \u001b[38;5;124;03m    \"\"\"\u001b[39;00m\n\u001b[0;32m---> 34\u001b[0m     \u001b[43mfiles_hlpr\u001b[49m\u001b[38;5;241;43m.\u001b[39;49m\u001b[43mparameter_check_for_add_dataset\u001b[49m\u001b[43m(\u001b[49m\n\u001b[1;32m     35\u001b[0m \u001b[43m        \u001b[49m\u001b[43mrepo_id\u001b[49m\u001b[43m,\u001b[49m\u001b[43m \u001b[49m\u001b[43msource_folder_path\u001b[49m\u001b[43m,\u001b[49m\u001b[43m \u001b[49m\u001b[43mpriority\u001b[49m\n\u001b[1;32m     36\u001b[0m \u001b[43m    \u001b[49m\u001b[43m)\u001b[49m\n\u001b[1;32m     38\u001b[0m     data_file_list, metadata_file_list \u001b[38;5;241m=\u001b[39m files_hlpr\u001b[38;5;241m.\u001b[39mcreate_file_list(\n\u001b[1;32m     39\u001b[0m         source_folder_path\n\u001b[1;32m     40\u001b[0m     )\n\u001b[1;32m     42\u001b[0m     \u001b[38;5;66;03m# data metadata file mapping\u001b[39;00m\n\u001b[1;32m     43\u001b[0m     \u001b[38;5;66;03m# initial data metadata mapping dict containing all the files\u001b[39;00m\n",
            "File \u001b[0;32m/usr/local/lib/python3.10/site-packages/polly_services/files/files_hlpr.py:56\u001b[0m, in \u001b[0;36mparameter_check_for_add_dataset\u001b[0;34m(repo_id, source_folder_path, priority)\u001b[0m\n\u001b[1;32m     54\u001b[0m     parameter_check_for_priority(priority)\n\u001b[1;32m     55\u001b[0m \u001b[38;5;28;01mexcept\u001b[39;00m \u001b[38;5;167;01mException\u001b[39;00m \u001b[38;5;28;01mas\u001b[39;00m err:\n\u001b[0;32m---> 56\u001b[0m     \u001b[38;5;28;01mraise\u001b[39;00m err\n",
            "File \u001b[0;32m/usr/local/lib/python3.10/site-packages/polly_services/files/files_hlpr.py:51\u001b[0m, in \u001b[0;36mparameter_check_for_add_dataset\u001b[0;34m(repo_id, source_folder_path, priority)\u001b[0m\n\u001b[1;32m     49\u001b[0m \u001b[38;5;28;01mtry\u001b[39;00m:\n\u001b[1;32m     50\u001b[0m     polly_services_hlpr\u001b[38;5;241m.\u001b[39mparameter_check_for_repo_id(repo_id)\n\u001b[0;32m---> 51\u001b[0m     \u001b[43mdata_metadata_parameter_check\u001b[49m\u001b[43m(\u001b[49m\u001b[43msource_folder_path\u001b[49m\u001b[43m)\u001b[49m\n\u001b[1;32m     52\u001b[0m     data_metadata_file_ext_check(source_folder_path)\n\u001b[1;32m     53\u001b[0m     check_data_metadata_file_path(source_folder_path)\n",
            "File \u001b[0;32m/usr/local/lib/python3.10/site-packages/polly_services/files/files_hlpr.py:866\u001b[0m, in \u001b[0;36mdata_metadata_parameter_check\u001b[0;34m(source_folder_path, update)\u001b[0m\n\u001b[1;32m    864\u001b[0m         add_dataset_parameter_check(source_folder_path)\n\u001b[1;32m    865\u001b[0m \u001b[38;5;28;01mexcept\u001b[39;00m \u001b[38;5;167;01mException\u001b[39;00m \u001b[38;5;28;01mas\u001b[39;00m err:\n\u001b[0;32m--> 866\u001b[0m     \u001b[38;5;28;01mraise\u001b[39;00m err\n",
            "File \u001b[0;32m/usr/local/lib/python3.10/site-packages/polly_services/files/files_hlpr.py:856\u001b[0m, in \u001b[0;36mdata_metadata_parameter_check\u001b[0;34m(source_folder_path, update)\u001b[0m\n\u001b[1;32m    854\u001b[0m \u001b[38;5;28;01mtry\u001b[39;00m:\n\u001b[1;32m    855\u001b[0m     \u001b[38;5;28;01mif\u001b[39;00m \u001b[38;5;129;01mnot\u001b[39;00m source_folder_path \u001b[38;5;129;01mor\u001b[39;00m \u001b[38;5;129;01mnot\u001b[39;00m \u001b[38;5;28misinstance\u001b[39m(source_folder_path, \u001b[38;5;28mdict\u001b[39m):\n\u001b[0;32m--> 856\u001b[0m         \u001b[38;5;28;01mraise\u001b[39;00m paramException(\n\u001b[1;32m    857\u001b[0m             title\u001b[38;5;241m=\u001b[39m\u001b[38;5;124m\"\u001b[39m\u001b[38;5;124mParam Error\u001b[39m\u001b[38;5;124m\"\u001b[39m,\n\u001b[1;32m    858\u001b[0m             detail\u001b[38;5;241m=\u001b[39m\u001b[38;5;124m\"\u001b[39m\u001b[38;5;124msource_folder_path should be a dict with valid data and\u001b[39m\u001b[38;5;124m\"\u001b[39m\n\u001b[1;32m    859\u001b[0m             \u001b[38;5;241m+\u001b[39m \u001b[38;5;124mf\u001b[39m\u001b[38;5;124m\"\u001b[39m\u001b[38;5;124m metadata path values in the format \u001b[39m\u001b[38;5;132;01m{\u001b[39;00mconst\u001b[38;5;241m.\u001b[39mFILES_PATH_FORMAT\u001b[38;5;132;01m}\u001b[39;00m\u001b[38;5;124m \u001b[39m\u001b[38;5;124m\"\u001b[39m,\n\u001b[1;32m    860\u001b[0m         )\n\u001b[1;32m    861\u001b[0m     \u001b[38;5;28;01mif\u001b[39;00m update:\n\u001b[1;32m    862\u001b[0m         update_dataset_parameter_check(source_folder_path)\n",
            "\u001b[0;31mparamException\u001b[0m: paramException (parameter error): source_folder_path should be a dict with valid data and metadata path values in the format {'metadata': '<metadata_path>', 'data': '<data_path>'} "
          ]
        }
      ],
      "source": [
        "# Testing point 1\n",
        "# wrong format of `source_folder_path`\n",
        "repo_id = \"1654268055800\"\n",
        "source_folder_path = \"/home/elucidata/ELUCIDATA/libraries/geo_data/transcriptomics/ingestion_files\"\n",
        "omixatlas.add_datasets(repo_id, source_folder_path)"
      ]
    },
    {
      "cell_type": "code",
      "execution_count": 7,
      "metadata": {},
      "outputs": [
        {
          "ename": "paramException",
          "evalue": "paramException (parameter error): {'data': '/import'} does not have `metadata` path. Format the source_folder_path_dict like this  {'metadata': '<metadata_path>', 'data': '<data_path>'}",
          "output_type": "error",
          "traceback": [
            "\u001b[0;31m---------------------------------------------------------------------------\u001b[0m",
            "\u001b[0;31mparamException\u001b[0m                            Traceback (most recent call last)",
            "Input \u001b[0;32mIn [7]\u001b[0m, in \u001b[0;36m<cell line: 6>\u001b[0;34m()\u001b[0m\n\u001b[1;32m      4\u001b[0m source_folder_path_data \u001b[38;5;241m=\u001b[39m \u001b[38;5;124m\"\u001b[39m\u001b[38;5;124m/import\u001b[39m\u001b[38;5;124m\"\u001b[39m\n\u001b[1;32m      5\u001b[0m source_folder_path \u001b[38;5;241m=\u001b[39m {\u001b[38;5;124m\"\u001b[39m\u001b[38;5;124mdata\u001b[39m\u001b[38;5;124m\"\u001b[39m:source_folder_path_data}\n\u001b[0;32m----> 6\u001b[0m \u001b[43momixatlas\u001b[49m\u001b[38;5;241;43m.\u001b[39;49m\u001b[43madd_datasets\u001b[49m\u001b[43m(\u001b[49m\u001b[43mrepo_id\u001b[49m\u001b[43m,\u001b[49m\u001b[43m \u001b[49m\u001b[43msource_folder_path\u001b[49m\u001b[43m)\u001b[49m\n",
            "File \u001b[0;32m/usr/local/lib/python3.10/site-packages/polly/tracking.py:59\u001b[0m, in \u001b[0;36mTrack.track_decorator.<locals>.wrapper_function\u001b[0;34m(*args, **kwargs)\u001b[0m\n\u001b[1;32m     57\u001b[0m         \u001b[38;5;28;01mreturn\u001b[39;00m result\n\u001b[1;32m     58\u001b[0m \u001b[38;5;28;01melse\u001b[39;00m:\n\u001b[0;32m---> 59\u001b[0m     \u001b[38;5;28;01mraise\u001b[39;00m returned_err\n",
            "File \u001b[0;32m/usr/local/lib/python3.10/site-packages/polly/tracking.py:22\u001b[0m, in \u001b[0;36mTrack.track_decorator.<locals>.wrapper_function\u001b[0;34m(*args, **kwargs)\u001b[0m\n\u001b[1;32m     20\u001b[0m execution_flag \u001b[38;5;241m=\u001b[39m \u001b[38;5;28;01mFalse\u001b[39;00m\n\u001b[1;32m     21\u001b[0m \u001b[38;5;28;01mtry\u001b[39;00m:\n\u001b[0;32m---> 22\u001b[0m     result \u001b[38;5;241m=\u001b[39m \u001b[43mfunction\u001b[49m\u001b[43m(\u001b[49m\u001b[38;5;241;43m*\u001b[39;49m\u001b[43margs\u001b[49m\u001b[43m,\u001b[49m\u001b[43m \u001b[49m\u001b[38;5;241;43m*\u001b[39;49m\u001b[38;5;241;43m*\u001b[39;49m\u001b[43mkwargs\u001b[49m\u001b[43m)\u001b[49m\n\u001b[1;32m     23\u001b[0m     execution_flag \u001b[38;5;241m=\u001b[39m \u001b[38;5;28;01mTrue\u001b[39;00m\n\u001b[1;32m     24\u001b[0m \u001b[38;5;28;01mexcept\u001b[39;00m \u001b[38;5;167;01mException\u001b[39;00m \u001b[38;5;28;01mas\u001b[39;00m e:\n",
            "File \u001b[0;32m/usr/local/lib/python3.10/site-packages/polly/omixatlas.py:1773\u001b[0m, in \u001b[0;36mOmixAtlas.add_datasets\u001b[0;34m(self, repo_id, source_folder_path, priority, validation)\u001b[0m\n\u001b[1;32m   1771\u001b[0m     \u001b[38;5;28;01mreturn\u001b[39;00m data_upload_results_df\n\u001b[1;32m   1772\u001b[0m \u001b[38;5;28;01mexcept\u001b[39;00m \u001b[38;5;167;01mException\u001b[39;00m \u001b[38;5;28;01mas\u001b[39;00m err:\n\u001b[0;32m-> 1773\u001b[0m     \u001b[38;5;28;01mraise\u001b[39;00m err\n",
            "File \u001b[0;32m/usr/local/lib/python3.10/site-packages/polly/omixatlas.py:1768\u001b[0m, in \u001b[0;36mOmixAtlas.add_datasets\u001b[0;34m(self, repo_id, source_folder_path, priority, validation)\u001b[0m\n\u001b[1;32m   1648\u001b[0m \u001b[38;5;28;01mtry\u001b[39;00m:\n\u001b[1;32m   1649\u001b[0m     \u001b[38;5;66;03m# parameters check\u001b[39;00m\n\u001b[1;32m   1650\u001b[0m     \u001b[38;5;66;03m# self._parameter_check_for_add_dataset(\u001b[39;00m\n\u001b[0;32m   (...)\u001b[0m\n\u001b[1;32m   1764\u001b[0m     \u001b[38;5;66;03m#         f\"\\nDestination folder path considered for ingestion request: {destination_folder_path}\"\u001b[39;00m\n\u001b[1;32m   1765\u001b[0m     \u001b[38;5;66;03m#     )\u001b[39;00m\n\u001b[1;32m   1767\u001b[0m     files_obj \u001b[38;5;241m=\u001b[39m Files()\n\u001b[0;32m-> 1768\u001b[0m     data_upload_results_df \u001b[38;5;241m=\u001b[39m \u001b[43mfiles_obj\u001b[49m\u001b[38;5;241;43m.\u001b[39;49m\u001b[43madd_datasets\u001b[49m\u001b[43m(\u001b[49m\n\u001b[1;32m   1769\u001b[0m \u001b[43m        \u001b[49m\u001b[38;5;28;43mself\u001b[39;49m\u001b[43m,\u001b[49m\u001b[43m \u001b[49m\u001b[43mrepo_id\u001b[49m\u001b[43m,\u001b[49m\u001b[43m \u001b[49m\u001b[43msource_folder_path\u001b[49m\u001b[43m,\u001b[49m\u001b[43m \u001b[49m\u001b[43mpriority\u001b[49m\u001b[43m,\u001b[49m\u001b[43m \u001b[49m\u001b[43mvalidation\u001b[49m\n\u001b[1;32m   1770\u001b[0m \u001b[43m    \u001b[49m\u001b[43m)\u001b[49m\n\u001b[1;32m   1771\u001b[0m     \u001b[38;5;28;01mreturn\u001b[39;00m data_upload_results_df\n\u001b[1;32m   1772\u001b[0m \u001b[38;5;28;01mexcept\u001b[39;00m \u001b[38;5;167;01mException\u001b[39;00m \u001b[38;5;28;01mas\u001b[39;00m err:\n",
            "File \u001b[0;32m/usr/local/lib/python3.10/site-packages/polly_services/files/files.py:34\u001b[0m, in \u001b[0;36mFiles.add_datasets\u001b[0;34m(self, polly_session, repo_id, source_folder_path, priority, validation)\u001b[0m\n\u001b[1;32m     13\u001b[0m \u001b[38;5;28;01mdef\u001b[39;00m \u001b[38;5;21madd_datasets\u001b[39m(\n\u001b[1;32m     14\u001b[0m     \u001b[38;5;28mself\u001b[39m,\n\u001b[1;32m     15\u001b[0m     polly_session,\n\u001b[0;32m   (...)\u001b[0m\n\u001b[1;32m     19\u001b[0m     validation\u001b[38;5;241m=\u001b[39m\u001b[38;5;28;01mFalse\u001b[39;00m,\n\u001b[1;32m     20\u001b[0m ):\n\u001b[1;32m     21\u001b[0m     \u001b[38;5;124;03m\"\"\"Function to ingest the dataset and metadata in omixatlas\u001b[39;00m\n\u001b[1;32m     22\u001b[0m \n\u001b[1;32m     23\u001b[0m \u001b[38;5;124;03m    Args:\u001b[39;00m\n\u001b[0;32m   (...)\u001b[0m\n\u001b[1;32m     31\u001b[0m \u001b[38;5;124;03m        _type_: _description_\u001b[39;00m\n\u001b[1;32m     32\u001b[0m \u001b[38;5;124;03m    \"\"\"\u001b[39;00m\n\u001b[0;32m---> 34\u001b[0m     \u001b[43mfiles_hlpr\u001b[49m\u001b[38;5;241;43m.\u001b[39;49m\u001b[43mparameter_check_for_add_dataset\u001b[49m\u001b[43m(\u001b[49m\n\u001b[1;32m     35\u001b[0m \u001b[43m        \u001b[49m\u001b[43mrepo_id\u001b[49m\u001b[43m,\u001b[49m\u001b[43m \u001b[49m\u001b[43msource_folder_path\u001b[49m\u001b[43m,\u001b[49m\u001b[43m \u001b[49m\u001b[43mpriority\u001b[49m\n\u001b[1;32m     36\u001b[0m \u001b[43m    \u001b[49m\u001b[43m)\u001b[49m\n\u001b[1;32m     38\u001b[0m     data_file_list, metadata_file_list \u001b[38;5;241m=\u001b[39m files_hlpr\u001b[38;5;241m.\u001b[39mcreate_file_list(\n\u001b[1;32m     39\u001b[0m         source_folder_path\n\u001b[1;32m     40\u001b[0m     )\n\u001b[1;32m     42\u001b[0m     \u001b[38;5;66;03m# data metadata file mapping\u001b[39;00m\n\u001b[1;32m     43\u001b[0m     \u001b[38;5;66;03m# initial data metadata mapping dict containing all the files\u001b[39;00m\n",
            "File \u001b[0;32m/usr/local/lib/python3.10/site-packages/polly_services/files/files_hlpr.py:56\u001b[0m, in \u001b[0;36mparameter_check_for_add_dataset\u001b[0;34m(repo_id, source_folder_path, priority)\u001b[0m\n\u001b[1;32m     54\u001b[0m     parameter_check_for_priority(priority)\n\u001b[1;32m     55\u001b[0m \u001b[38;5;28;01mexcept\u001b[39;00m \u001b[38;5;167;01mException\u001b[39;00m \u001b[38;5;28;01mas\u001b[39;00m err:\n\u001b[0;32m---> 56\u001b[0m     \u001b[38;5;28;01mraise\u001b[39;00m err\n",
            "File \u001b[0;32m/usr/local/lib/python3.10/site-packages/polly_services/files/files_hlpr.py:51\u001b[0m, in \u001b[0;36mparameter_check_for_add_dataset\u001b[0;34m(repo_id, source_folder_path, priority)\u001b[0m\n\u001b[1;32m     49\u001b[0m \u001b[38;5;28;01mtry\u001b[39;00m:\n\u001b[1;32m     50\u001b[0m     polly_services_hlpr\u001b[38;5;241m.\u001b[39mparameter_check_for_repo_id(repo_id)\n\u001b[0;32m---> 51\u001b[0m     \u001b[43mdata_metadata_parameter_check\u001b[49m\u001b[43m(\u001b[49m\u001b[43msource_folder_path\u001b[49m\u001b[43m)\u001b[49m\n\u001b[1;32m     52\u001b[0m     data_metadata_file_ext_check(source_folder_path)\n\u001b[1;32m     53\u001b[0m     check_data_metadata_file_path(source_folder_path)\n",
            "File \u001b[0;32m/usr/local/lib/python3.10/site-packages/polly_services/files/files_hlpr.py:866\u001b[0m, in \u001b[0;36mdata_metadata_parameter_check\u001b[0;34m(source_folder_path, update)\u001b[0m\n\u001b[1;32m    864\u001b[0m         add_dataset_parameter_check(source_folder_path)\n\u001b[1;32m    865\u001b[0m \u001b[38;5;28;01mexcept\u001b[39;00m \u001b[38;5;167;01mException\u001b[39;00m \u001b[38;5;28;01mas\u001b[39;00m err:\n\u001b[0;32m--> 866\u001b[0m     \u001b[38;5;28;01mraise\u001b[39;00m err\n",
            "File \u001b[0;32m/usr/local/lib/python3.10/site-packages/polly_services/files/files_hlpr.py:864\u001b[0m, in \u001b[0;36mdata_metadata_parameter_check\u001b[0;34m(source_folder_path, update)\u001b[0m\n\u001b[1;32m    862\u001b[0m         update_dataset_parameter_check(source_folder_path)\n\u001b[1;32m    863\u001b[0m     \u001b[38;5;28;01melse\u001b[39;00m:\n\u001b[0;32m--> 864\u001b[0m         \u001b[43madd_dataset_parameter_check\u001b[49m\u001b[43m(\u001b[49m\u001b[43msource_folder_path\u001b[49m\u001b[43m)\u001b[49m\n\u001b[1;32m    865\u001b[0m \u001b[38;5;28;01mexcept\u001b[39;00m \u001b[38;5;167;01mException\u001b[39;00m \u001b[38;5;28;01mas\u001b[39;00m err:\n\u001b[1;32m    866\u001b[0m     \u001b[38;5;28;01mraise\u001b[39;00m err\n",
            "File \u001b[0;32m/usr/local/lib/python3.10/site-packages/polly_services/files/files_hlpr.py:941\u001b[0m, in \u001b[0;36madd_dataset_parameter_check\u001b[0;34m(source_folder_path)\u001b[0m\n\u001b[1;32m    935\u001b[0m     \u001b[38;5;28;01mraise\u001b[39;00m paramException(\n\u001b[1;32m    936\u001b[0m         title\u001b[38;5;241m=\u001b[39m\u001b[38;5;124m\"\u001b[39m\u001b[38;5;124mParam Error\u001b[39m\u001b[38;5;124m\"\u001b[39m,\n\u001b[1;32m    937\u001b[0m         detail\u001b[38;5;241m=\u001b[39m\u001b[38;5;124mf\u001b[39m\u001b[38;5;124m\"\u001b[39m\u001b[38;5;132;01m{\u001b[39;00msource_folder_path\u001b[38;5;132;01m}\u001b[39;00m\u001b[38;5;124m does not have `data` path.\u001b[39m\u001b[38;5;124m\"\u001b[39m\n\u001b[1;32m    938\u001b[0m         \u001b[38;5;241m+\u001b[39m \u001b[38;5;124mf\u001b[39m\u001b[38;5;124m\"\u001b[39m\u001b[38;5;124m Format the source_folder_path_dict like this  \u001b[39m\u001b[38;5;132;01m{\u001b[39;00mconst\u001b[38;5;241m.\u001b[39mFILES_PATH_FORMAT\u001b[38;5;132;01m}\u001b[39;00m\u001b[38;5;124m\"\u001b[39m,\n\u001b[1;32m    939\u001b[0m     )\n\u001b[1;32m    940\u001b[0m \u001b[38;5;28;01mif\u001b[39;00m \u001b[38;5;124m\"\u001b[39m\u001b[38;5;124mmetadata\u001b[39m\u001b[38;5;124m\"\u001b[39m \u001b[38;5;129;01mnot\u001b[39;00m \u001b[38;5;129;01min\u001b[39;00m source_folder_path:\n\u001b[0;32m--> 941\u001b[0m     \u001b[38;5;28;01mraise\u001b[39;00m paramException(\n\u001b[1;32m    942\u001b[0m         title\u001b[38;5;241m=\u001b[39m\u001b[38;5;124m\"\u001b[39m\u001b[38;5;124mParam Error\u001b[39m\u001b[38;5;124m\"\u001b[39m,\n\u001b[1;32m    943\u001b[0m         detail\u001b[38;5;241m=\u001b[39m\u001b[38;5;124mf\u001b[39m\u001b[38;5;124m\"\u001b[39m\u001b[38;5;132;01m{\u001b[39;00msource_folder_path\u001b[38;5;132;01m}\u001b[39;00m\u001b[38;5;124m does not have `metadata` path. \u001b[39m\u001b[38;5;124m\"\u001b[39m\n\u001b[1;32m    944\u001b[0m         \u001b[38;5;241m+\u001b[39m \u001b[38;5;124mf\u001b[39m\u001b[38;5;124m\"\u001b[39m\u001b[38;5;124mFormat the source_folder_path_dict like this  \u001b[39m\u001b[38;5;132;01m{\u001b[39;00mconst\u001b[38;5;241m.\u001b[39mFILES_PATH_FORMAT\u001b[38;5;132;01m}\u001b[39;00m\u001b[38;5;124m\"\u001b[39m,\n\u001b[1;32m    945\u001b[0m     )\n",
            "\u001b[0;31mparamException\u001b[0m: paramException (parameter error): {'data': '/import'} does not have `metadata` path. Format the source_folder_path_dict like this  {'metadata': '<metadata_path>', 'data': '<data_path>'}"
          ]
        }
      ],
      "source": [
        "# Testing point 2\n",
        "# metadata key missing in `source_folder_path`\n",
        "repo_id = \"1654268055800\"\n",
        "source_folder_path_data = \"/import\"\n",
        "source_folder_path = {\"data\":source_folder_path_data}\n",
        "omixatlas.add_datasets(repo_id, source_folder_path)"
      ]
    },
    {
      "cell_type": "code",
      "execution_count": 9,
      "metadata": {},
      "outputs": [
        {
          "name": "stdout",
          "output_type": "stream",
          "text": [
            "/bin/bash: warning: setlocale: LC_ALL: cannot change locale (en_US.UTF-8)\n",
            "\u001b[2K\u001b[1G\u001b[2K\u001b[1GCompleted 16.0 KiB/16.0 KiB (149.6 KiB/s) with 1 file(s) remainingSync complete!\n"
          ]
        }
      ],
      "source": [
        "!polly files sync -s \"polly://metadata/\" -d \"metadata/\" -y"
      ]
    },
    {
      "cell_type": "code",
      "execution_count": 10,
      "metadata": {},
      "outputs": [
        {
          "name": "stdout",
          "output_type": "stream",
          "text": [
            "/bin/bash: warning: setlocale: LC_ALL: cannot change locale (en_US.UTF-8)\n",
            "\u001b[2K\u001b[1GCompleted 233.7 MiB/233.7 MiB (130.2 MiB/s) with 1 file(s) remainingemainingSync complete!\n"
          ]
        }
      ],
      "source": [
        "!polly files sync -s \"polly://data/\" -d \"data/\" -y"
      ]
    },
    {
      "cell_type": "code",
      "execution_count": 10,
      "metadata": {},
      "outputs": [
        {
          "ename": "paramException",
          "evalue": "paramException (parameter error): `priority` should be a string. Only 3 values are allowed i.e. `low`, `medium`, `high`",
          "output_type": "error",
          "traceback": [
            "\u001b[0;31m---------------------------------------------------------------------------\u001b[0m",
            "\u001b[0;31mparamException\u001b[0m                            Traceback (most recent call last)",
            "Input \u001b[0;32mIn [10]\u001b[0m, in \u001b[0;36m<cell line: 8>\u001b[0;34m()\u001b[0m\n\u001b[1;32m      6\u001b[0m priority \u001b[38;5;241m=\u001b[39m \u001b[38;5;124m\"\u001b[39m\u001b[38;5;124msuper_high\u001b[39m\u001b[38;5;124m\"\u001b[39m\n\u001b[1;32m      7\u001b[0m source_folder_path \u001b[38;5;241m=\u001b[39m {\u001b[38;5;124m\"\u001b[39m\u001b[38;5;124mdata\u001b[39m\u001b[38;5;124m\"\u001b[39m:source_folder_path_data, \u001b[38;5;124m\"\u001b[39m\u001b[38;5;124mmetadata\u001b[39m\u001b[38;5;124m\"\u001b[39m:source_folder_metadata}\n\u001b[0;32m----> 8\u001b[0m \u001b[43momixatlas\u001b[49m\u001b[38;5;241;43m.\u001b[39;49m\u001b[43madd_datasets\u001b[49m\u001b[43m(\u001b[49m\u001b[43mrepo_id\u001b[49m\u001b[43m,\u001b[49m\u001b[43m \u001b[49m\u001b[43msource_folder_path\u001b[49m\u001b[43m,\u001b[49m\u001b[43m \u001b[49m\u001b[43mpriority\u001b[49m\u001b[43m)\u001b[49m\n",
            "File \u001b[0;32m/usr/local/lib/python3.10/site-packages/polly/tracking.py:59\u001b[0m, in \u001b[0;36mTrack.track_decorator.<locals>.wrapper_function\u001b[0;34m(*args, **kwargs)\u001b[0m\n\u001b[1;32m     57\u001b[0m         \u001b[38;5;28;01mreturn\u001b[39;00m result\n\u001b[1;32m     58\u001b[0m \u001b[38;5;28;01melse\u001b[39;00m:\n\u001b[0;32m---> 59\u001b[0m     \u001b[38;5;28;01mraise\u001b[39;00m returned_err\n",
            "File \u001b[0;32m/usr/local/lib/python3.10/site-packages/polly/tracking.py:22\u001b[0m, in \u001b[0;36mTrack.track_decorator.<locals>.wrapper_function\u001b[0;34m(*args, **kwargs)\u001b[0m\n\u001b[1;32m     20\u001b[0m execution_flag \u001b[38;5;241m=\u001b[39m \u001b[38;5;28;01mFalse\u001b[39;00m\n\u001b[1;32m     21\u001b[0m \u001b[38;5;28;01mtry\u001b[39;00m:\n\u001b[0;32m---> 22\u001b[0m     result \u001b[38;5;241m=\u001b[39m \u001b[43mfunction\u001b[49m\u001b[43m(\u001b[49m\u001b[38;5;241;43m*\u001b[39;49m\u001b[43margs\u001b[49m\u001b[43m,\u001b[49m\u001b[43m \u001b[49m\u001b[38;5;241;43m*\u001b[39;49m\u001b[38;5;241;43m*\u001b[39;49m\u001b[43mkwargs\u001b[49m\u001b[43m)\u001b[49m\n\u001b[1;32m     23\u001b[0m     execution_flag \u001b[38;5;241m=\u001b[39m \u001b[38;5;28;01mTrue\u001b[39;00m\n\u001b[1;32m     24\u001b[0m \u001b[38;5;28;01mexcept\u001b[39;00m \u001b[38;5;167;01mException\u001b[39;00m \u001b[38;5;28;01mas\u001b[39;00m e:\n",
            "File \u001b[0;32m/usr/local/lib/python3.10/site-packages/polly/omixatlas.py:1773\u001b[0m, in \u001b[0;36mOmixAtlas.add_datasets\u001b[0;34m(self, repo_id, source_folder_path, priority, validation)\u001b[0m\n\u001b[1;32m   1771\u001b[0m     \u001b[38;5;28;01mreturn\u001b[39;00m data_upload_results_df\n\u001b[1;32m   1772\u001b[0m \u001b[38;5;28;01mexcept\u001b[39;00m \u001b[38;5;167;01mException\u001b[39;00m \u001b[38;5;28;01mas\u001b[39;00m err:\n\u001b[0;32m-> 1773\u001b[0m     \u001b[38;5;28;01mraise\u001b[39;00m err\n",
            "File \u001b[0;32m/usr/local/lib/python3.10/site-packages/polly/omixatlas.py:1768\u001b[0m, in \u001b[0;36mOmixAtlas.add_datasets\u001b[0;34m(self, repo_id, source_folder_path, priority, validation)\u001b[0m\n\u001b[1;32m   1648\u001b[0m \u001b[38;5;28;01mtry\u001b[39;00m:\n\u001b[1;32m   1649\u001b[0m     \u001b[38;5;66;03m# parameters check\u001b[39;00m\n\u001b[1;32m   1650\u001b[0m     \u001b[38;5;66;03m# self._parameter_check_for_add_dataset(\u001b[39;00m\n\u001b[0;32m   (...)\u001b[0m\n\u001b[1;32m   1764\u001b[0m     \u001b[38;5;66;03m#         f\"\\nDestination folder path considered for ingestion request: {destination_folder_path}\"\u001b[39;00m\n\u001b[1;32m   1765\u001b[0m     \u001b[38;5;66;03m#     )\u001b[39;00m\n\u001b[1;32m   1767\u001b[0m     files_obj \u001b[38;5;241m=\u001b[39m Files()\n\u001b[0;32m-> 1768\u001b[0m     data_upload_results_df \u001b[38;5;241m=\u001b[39m \u001b[43mfiles_obj\u001b[49m\u001b[38;5;241;43m.\u001b[39;49m\u001b[43madd_datasets\u001b[49m\u001b[43m(\u001b[49m\n\u001b[1;32m   1769\u001b[0m \u001b[43m        \u001b[49m\u001b[38;5;28;43mself\u001b[39;49m\u001b[43m,\u001b[49m\u001b[43m \u001b[49m\u001b[43mrepo_id\u001b[49m\u001b[43m,\u001b[49m\u001b[43m \u001b[49m\u001b[43msource_folder_path\u001b[49m\u001b[43m,\u001b[49m\u001b[43m \u001b[49m\u001b[43mpriority\u001b[49m\u001b[43m,\u001b[49m\u001b[43m \u001b[49m\u001b[43mvalidation\u001b[49m\n\u001b[1;32m   1770\u001b[0m \u001b[43m    \u001b[49m\u001b[43m)\u001b[49m\n\u001b[1;32m   1771\u001b[0m     \u001b[38;5;28;01mreturn\u001b[39;00m data_upload_results_df\n\u001b[1;32m   1772\u001b[0m \u001b[38;5;28;01mexcept\u001b[39;00m \u001b[38;5;167;01mException\u001b[39;00m \u001b[38;5;28;01mas\u001b[39;00m err:\n",
            "File \u001b[0;32m/usr/local/lib/python3.10/site-packages/polly_services/files/files.py:34\u001b[0m, in \u001b[0;36mFiles.add_datasets\u001b[0;34m(self, polly_session, repo_id, source_folder_path, priority, validation)\u001b[0m\n\u001b[1;32m     13\u001b[0m \u001b[38;5;28;01mdef\u001b[39;00m \u001b[38;5;21madd_datasets\u001b[39m(\n\u001b[1;32m     14\u001b[0m     \u001b[38;5;28mself\u001b[39m,\n\u001b[1;32m     15\u001b[0m     polly_session,\n\u001b[0;32m   (...)\u001b[0m\n\u001b[1;32m     19\u001b[0m     validation\u001b[38;5;241m=\u001b[39m\u001b[38;5;28;01mFalse\u001b[39;00m,\n\u001b[1;32m     20\u001b[0m ):\n\u001b[1;32m     21\u001b[0m     \u001b[38;5;124;03m\"\"\"Function to ingest the dataset and metadata in omixatlas\u001b[39;00m\n\u001b[1;32m     22\u001b[0m \n\u001b[1;32m     23\u001b[0m \u001b[38;5;124;03m    Args:\u001b[39;00m\n\u001b[0;32m   (...)\u001b[0m\n\u001b[1;32m     31\u001b[0m \u001b[38;5;124;03m        _type_: _description_\u001b[39;00m\n\u001b[1;32m     32\u001b[0m \u001b[38;5;124;03m    \"\"\"\u001b[39;00m\n\u001b[0;32m---> 34\u001b[0m     \u001b[43mfiles_hlpr\u001b[49m\u001b[38;5;241;43m.\u001b[39;49m\u001b[43mparameter_check_for_add_dataset\u001b[49m\u001b[43m(\u001b[49m\n\u001b[1;32m     35\u001b[0m \u001b[43m        \u001b[49m\u001b[43mrepo_id\u001b[49m\u001b[43m,\u001b[49m\u001b[43m \u001b[49m\u001b[43msource_folder_path\u001b[49m\u001b[43m,\u001b[49m\u001b[43m \u001b[49m\u001b[43mpriority\u001b[49m\n\u001b[1;32m     36\u001b[0m \u001b[43m    \u001b[49m\u001b[43m)\u001b[49m\n\u001b[1;32m     38\u001b[0m     data_file_list, metadata_file_list \u001b[38;5;241m=\u001b[39m files_hlpr\u001b[38;5;241m.\u001b[39mcreate_file_list(\n\u001b[1;32m     39\u001b[0m         source_folder_path\n\u001b[1;32m     40\u001b[0m     )\n\u001b[1;32m     42\u001b[0m     \u001b[38;5;66;03m# data metadata file mapping\u001b[39;00m\n\u001b[1;32m     43\u001b[0m     \u001b[38;5;66;03m# initial data metadata mapping dict containing all the files\u001b[39;00m\n",
            "File \u001b[0;32m/usr/local/lib/python3.10/site-packages/polly_services/files/files_hlpr.py:56\u001b[0m, in \u001b[0;36mparameter_check_for_add_dataset\u001b[0;34m(repo_id, source_folder_path, priority)\u001b[0m\n\u001b[1;32m     54\u001b[0m     parameter_check_for_priority(priority)\n\u001b[1;32m     55\u001b[0m \u001b[38;5;28;01mexcept\u001b[39;00m \u001b[38;5;167;01mException\u001b[39;00m \u001b[38;5;28;01mas\u001b[39;00m err:\n\u001b[0;32m---> 56\u001b[0m     \u001b[38;5;28;01mraise\u001b[39;00m err\n",
            "File \u001b[0;32m/usr/local/lib/python3.10/site-packages/polly_services/files/files_hlpr.py:54\u001b[0m, in \u001b[0;36mparameter_check_for_add_dataset\u001b[0;34m(repo_id, source_folder_path, priority)\u001b[0m\n\u001b[1;32m     52\u001b[0m     data_metadata_file_ext_check(source_folder_path)\n\u001b[1;32m     53\u001b[0m     check_data_metadata_file_path(source_folder_path)\n\u001b[0;32m---> 54\u001b[0m     \u001b[43mparameter_check_for_priority\u001b[49m\u001b[43m(\u001b[49m\u001b[43mpriority\u001b[49m\u001b[43m)\u001b[49m\n\u001b[1;32m     55\u001b[0m \u001b[38;5;28;01mexcept\u001b[39;00m \u001b[38;5;167;01mException\u001b[39;00m \u001b[38;5;28;01mas\u001b[39;00m err:\n\u001b[1;32m     56\u001b[0m     \u001b[38;5;28;01mraise\u001b[39;00m err\n",
            "File \u001b[0;32m/usr/local/lib/python3.10/site-packages/polly_services/files/files_hlpr.py:513\u001b[0m, in \u001b[0;36mparameter_check_for_priority\u001b[0;34m(priority)\u001b[0m\n\u001b[1;32m    511\u001b[0m \u001b[38;5;28;01mdef\u001b[39;00m \u001b[38;5;21mparameter_check_for_priority\u001b[39m(priority: \u001b[38;5;28mstr\u001b[39m):\n\u001b[1;32m    512\u001b[0m     \u001b[38;5;28;01mif\u001b[39;00m \u001b[38;5;129;01mnot\u001b[39;00m \u001b[38;5;28misinstance\u001b[39m(priority, \u001b[38;5;28mstr\u001b[39m) \u001b[38;5;129;01mor\u001b[39;00m priority \u001b[38;5;129;01mnot\u001b[39;00m \u001b[38;5;129;01min\u001b[39;00m [\u001b[38;5;124m\"\u001b[39m\u001b[38;5;124mlow\u001b[39m\u001b[38;5;124m\"\u001b[39m, \u001b[38;5;124m\"\u001b[39m\u001b[38;5;124mmedium\u001b[39m\u001b[38;5;124m\"\u001b[39m, \u001b[38;5;124m\"\u001b[39m\u001b[38;5;124mhigh\u001b[39m\u001b[38;5;124m\"\u001b[39m]:\n\u001b[0;32m--> 513\u001b[0m         \u001b[38;5;28;01mraise\u001b[39;00m paramException(\n\u001b[1;32m    514\u001b[0m             title\u001b[38;5;241m=\u001b[39m\u001b[38;5;124m\"\u001b[39m\u001b[38;5;124mParam Error\u001b[39m\u001b[38;5;124m\"\u001b[39m,\n\u001b[1;32m    515\u001b[0m             detail\u001b[38;5;241m=\u001b[39m\u001b[38;5;124m\"\u001b[39m\u001b[38;5;124m`priority` should be a string. Only 3 values are allowed i.e. `low`, `medium`, `high`\u001b[39m\u001b[38;5;124m\"\u001b[39m,\n\u001b[1;32m    516\u001b[0m         )\n",
            "\u001b[0;31mparamException\u001b[0m: paramException (parameter error): `priority` should be a string. Only 3 values are allowed i.e. `low`, `medium`, `high`"
          ]
        }
      ],
      "source": [
        "# Testing point 3\n",
        "# wrong value of `priority`\n",
        "repo_id = \"1654268055800\"\n",
        "source_folder_path_data = \"/import/data\"\n",
        "source_folder_metadata = \"/import/metadata\"\n",
        "priority = \"super_high\"\n",
        "source_folder_path = {\"data\":source_folder_path_data, \"metadata\":source_folder_metadata}\n",
        "omixatlas.add_datasets(repo_id, source_folder_path, priority)"
      ]
    },
    {
      "cell_type": "code",
      "execution_count": 12,
      "metadata": {},
      "outputs": [
        {
          "ename": "paramException",
          "evalue": "paramException (parameter error): File format for file temp.txt is invalid.It can be => ['.json', '.jpco']",
          "output_type": "error",
          "traceback": [
            "\u001b[0;31m---------------------------------------------------------------------------\u001b[0m",
            "\u001b[0;31mparamException\u001b[0m                            Traceback (most recent call last)",
            "Input \u001b[0;32mIn [12]\u001b[0m, in \u001b[0;36m<cell line: 8>\u001b[0;34m()\u001b[0m\n\u001b[1;32m      6\u001b[0m priority \u001b[38;5;241m=\u001b[39m \u001b[38;5;124m\"\u001b[39m\u001b[38;5;124mhigh\u001b[39m\u001b[38;5;124m\"\u001b[39m\n\u001b[1;32m      7\u001b[0m source_folder_path \u001b[38;5;241m=\u001b[39m {\u001b[38;5;124m\"\u001b[39m\u001b[38;5;124mdata\u001b[39m\u001b[38;5;124m\"\u001b[39m:source_folder_path_data, \u001b[38;5;124m\"\u001b[39m\u001b[38;5;124mmetadata\u001b[39m\u001b[38;5;124m\"\u001b[39m:source_folder_metadata}\n\u001b[0;32m----> 8\u001b[0m \u001b[43momixatlas\u001b[49m\u001b[38;5;241;43m.\u001b[39;49m\u001b[43madd_datasets\u001b[49m\u001b[43m(\u001b[49m\u001b[43mrepo_id\u001b[49m\u001b[43m,\u001b[49m\u001b[43m \u001b[49m\u001b[43msource_folder_path\u001b[49m\u001b[43m,\u001b[49m\u001b[43m \u001b[49m\u001b[43mpriority\u001b[49m\u001b[43m)\u001b[49m\n",
            "File \u001b[0;32m/usr/local/lib/python3.10/site-packages/polly/tracking.py:59\u001b[0m, in \u001b[0;36mTrack.track_decorator.<locals>.wrapper_function\u001b[0;34m(*args, **kwargs)\u001b[0m\n\u001b[1;32m     57\u001b[0m         \u001b[38;5;28;01mreturn\u001b[39;00m result\n\u001b[1;32m     58\u001b[0m \u001b[38;5;28;01melse\u001b[39;00m:\n\u001b[0;32m---> 59\u001b[0m     \u001b[38;5;28;01mraise\u001b[39;00m returned_err\n",
            "File \u001b[0;32m/usr/local/lib/python3.10/site-packages/polly/tracking.py:22\u001b[0m, in \u001b[0;36mTrack.track_decorator.<locals>.wrapper_function\u001b[0;34m(*args, **kwargs)\u001b[0m\n\u001b[1;32m     20\u001b[0m execution_flag \u001b[38;5;241m=\u001b[39m \u001b[38;5;28;01mFalse\u001b[39;00m\n\u001b[1;32m     21\u001b[0m \u001b[38;5;28;01mtry\u001b[39;00m:\n\u001b[0;32m---> 22\u001b[0m     result \u001b[38;5;241m=\u001b[39m \u001b[43mfunction\u001b[49m\u001b[43m(\u001b[49m\u001b[38;5;241;43m*\u001b[39;49m\u001b[43margs\u001b[49m\u001b[43m,\u001b[49m\u001b[43m \u001b[49m\u001b[38;5;241;43m*\u001b[39;49m\u001b[38;5;241;43m*\u001b[39;49m\u001b[43mkwargs\u001b[49m\u001b[43m)\u001b[49m\n\u001b[1;32m     23\u001b[0m     execution_flag \u001b[38;5;241m=\u001b[39m \u001b[38;5;28;01mTrue\u001b[39;00m\n\u001b[1;32m     24\u001b[0m \u001b[38;5;28;01mexcept\u001b[39;00m \u001b[38;5;167;01mException\u001b[39;00m \u001b[38;5;28;01mas\u001b[39;00m e:\n",
            "File \u001b[0;32m/usr/local/lib/python3.10/site-packages/polly/omixatlas.py:1773\u001b[0m, in \u001b[0;36mOmixAtlas.add_datasets\u001b[0;34m(self, repo_id, source_folder_path, priority, validation)\u001b[0m\n\u001b[1;32m   1771\u001b[0m     \u001b[38;5;28;01mreturn\u001b[39;00m data_upload_results_df\n\u001b[1;32m   1772\u001b[0m \u001b[38;5;28;01mexcept\u001b[39;00m \u001b[38;5;167;01mException\u001b[39;00m \u001b[38;5;28;01mas\u001b[39;00m err:\n\u001b[0;32m-> 1773\u001b[0m     \u001b[38;5;28;01mraise\u001b[39;00m err\n",
            "File \u001b[0;32m/usr/local/lib/python3.10/site-packages/polly/omixatlas.py:1768\u001b[0m, in \u001b[0;36mOmixAtlas.add_datasets\u001b[0;34m(self, repo_id, source_folder_path, priority, validation)\u001b[0m\n\u001b[1;32m   1648\u001b[0m \u001b[38;5;28;01mtry\u001b[39;00m:\n\u001b[1;32m   1649\u001b[0m     \u001b[38;5;66;03m# parameters check\u001b[39;00m\n\u001b[1;32m   1650\u001b[0m     \u001b[38;5;66;03m# self._parameter_check_for_add_dataset(\u001b[39;00m\n\u001b[0;32m   (...)\u001b[0m\n\u001b[1;32m   1764\u001b[0m     \u001b[38;5;66;03m#         f\"\\nDestination folder path considered for ingestion request: {destination_folder_path}\"\u001b[39;00m\n\u001b[1;32m   1765\u001b[0m     \u001b[38;5;66;03m#     )\u001b[39;00m\n\u001b[1;32m   1767\u001b[0m     files_obj \u001b[38;5;241m=\u001b[39m Files()\n\u001b[0;32m-> 1768\u001b[0m     data_upload_results_df \u001b[38;5;241m=\u001b[39m \u001b[43mfiles_obj\u001b[49m\u001b[38;5;241;43m.\u001b[39;49m\u001b[43madd_datasets\u001b[49m\u001b[43m(\u001b[49m\n\u001b[1;32m   1769\u001b[0m \u001b[43m        \u001b[49m\u001b[38;5;28;43mself\u001b[39;49m\u001b[43m,\u001b[49m\u001b[43m \u001b[49m\u001b[43mrepo_id\u001b[49m\u001b[43m,\u001b[49m\u001b[43m \u001b[49m\u001b[43msource_folder_path\u001b[49m\u001b[43m,\u001b[49m\u001b[43m \u001b[49m\u001b[43mpriority\u001b[49m\u001b[43m,\u001b[49m\u001b[43m \u001b[49m\u001b[43mvalidation\u001b[49m\n\u001b[1;32m   1770\u001b[0m \u001b[43m    \u001b[49m\u001b[43m)\u001b[49m\n\u001b[1;32m   1771\u001b[0m     \u001b[38;5;28;01mreturn\u001b[39;00m data_upload_results_df\n\u001b[1;32m   1772\u001b[0m \u001b[38;5;28;01mexcept\u001b[39;00m \u001b[38;5;167;01mException\u001b[39;00m \u001b[38;5;28;01mas\u001b[39;00m err:\n",
            "File \u001b[0;32m/usr/local/lib/python3.10/site-packages/polly_services/files/files.py:34\u001b[0m, in \u001b[0;36mFiles.add_datasets\u001b[0;34m(self, polly_session, repo_id, source_folder_path, priority, validation)\u001b[0m\n\u001b[1;32m     13\u001b[0m \u001b[38;5;28;01mdef\u001b[39;00m \u001b[38;5;21madd_datasets\u001b[39m(\n\u001b[1;32m     14\u001b[0m     \u001b[38;5;28mself\u001b[39m,\n\u001b[1;32m     15\u001b[0m     polly_session,\n\u001b[0;32m   (...)\u001b[0m\n\u001b[1;32m     19\u001b[0m     validation\u001b[38;5;241m=\u001b[39m\u001b[38;5;28;01mFalse\u001b[39;00m,\n\u001b[1;32m     20\u001b[0m ):\n\u001b[1;32m     21\u001b[0m     \u001b[38;5;124;03m\"\"\"Function to ingest the dataset and metadata in omixatlas\u001b[39;00m\n\u001b[1;32m     22\u001b[0m \n\u001b[1;32m     23\u001b[0m \u001b[38;5;124;03m    Args:\u001b[39;00m\n\u001b[0;32m   (...)\u001b[0m\n\u001b[1;32m     31\u001b[0m \u001b[38;5;124;03m        _type_: _description_\u001b[39;00m\n\u001b[1;32m     32\u001b[0m \u001b[38;5;124;03m    \"\"\"\u001b[39;00m\n\u001b[0;32m---> 34\u001b[0m     \u001b[43mfiles_hlpr\u001b[49m\u001b[38;5;241;43m.\u001b[39;49m\u001b[43mparameter_check_for_add_dataset\u001b[49m\u001b[43m(\u001b[49m\n\u001b[1;32m     35\u001b[0m \u001b[43m        \u001b[49m\u001b[43mrepo_id\u001b[49m\u001b[43m,\u001b[49m\u001b[43m \u001b[49m\u001b[43msource_folder_path\u001b[49m\u001b[43m,\u001b[49m\u001b[43m \u001b[49m\u001b[43mpriority\u001b[49m\n\u001b[1;32m     36\u001b[0m \u001b[43m    \u001b[49m\u001b[43m)\u001b[49m\n\u001b[1;32m     38\u001b[0m     data_file_list, metadata_file_list \u001b[38;5;241m=\u001b[39m files_hlpr\u001b[38;5;241m.\u001b[39mcreate_file_list(\n\u001b[1;32m     39\u001b[0m         source_folder_path\n\u001b[1;32m     40\u001b[0m     )\n\u001b[1;32m     42\u001b[0m     \u001b[38;5;66;03m# data metadata file mapping\u001b[39;00m\n\u001b[1;32m     43\u001b[0m     \u001b[38;5;66;03m# initial data metadata mapping dict containing all the files\u001b[39;00m\n",
            "File \u001b[0;32m/usr/local/lib/python3.10/site-packages/polly_services/files/files_hlpr.py:56\u001b[0m, in \u001b[0;36mparameter_check_for_add_dataset\u001b[0;34m(repo_id, source_folder_path, priority)\u001b[0m\n\u001b[1;32m     54\u001b[0m     parameter_check_for_priority(priority)\n\u001b[1;32m     55\u001b[0m \u001b[38;5;28;01mexcept\u001b[39;00m \u001b[38;5;167;01mException\u001b[39;00m \u001b[38;5;28;01mas\u001b[39;00m err:\n\u001b[0;32m---> 56\u001b[0m     \u001b[38;5;28;01mraise\u001b[39;00m err\n",
            "File \u001b[0;32m/usr/local/lib/python3.10/site-packages/polly_services/files/files_hlpr.py:52\u001b[0m, in \u001b[0;36mparameter_check_for_add_dataset\u001b[0;34m(repo_id, source_folder_path, priority)\u001b[0m\n\u001b[1;32m     50\u001b[0m polly_services_hlpr\u001b[38;5;241m.\u001b[39mparameter_check_for_repo_id(repo_id)\n\u001b[1;32m     51\u001b[0m data_metadata_parameter_check(source_folder_path)\n\u001b[0;32m---> 52\u001b[0m \u001b[43mdata_metadata_file_ext_check\u001b[49m\u001b[43m(\u001b[49m\u001b[43msource_folder_path\u001b[49m\u001b[43m)\u001b[49m\n\u001b[1;32m     53\u001b[0m check_data_metadata_file_path(source_folder_path)\n\u001b[1;32m     54\u001b[0m parameter_check_for_priority(priority)\n",
            "File \u001b[0;32m/usr/local/lib/python3.10/site-packages/polly_services/files/files_hlpr.py:973\u001b[0m, in \u001b[0;36mdata_metadata_file_ext_check\u001b[0;34m(source_folder_path)\u001b[0m\n\u001b[1;32m    971\u001b[0m file_ext_single_word \u001b[38;5;241m=\u001b[39m file_ext[\u001b[38;5;241m-\u001b[39m\u001b[38;5;241m1\u001b[39m]\n\u001b[1;32m    972\u001b[0m \u001b[38;5;28;01mif\u001b[39;00m file_ext_single_word \u001b[38;5;129;01mnot\u001b[39;00m \u001b[38;5;129;01min\u001b[39;00m metadata_file_format_constants:\n\u001b[0;32m--> 973\u001b[0m     \u001b[38;5;28;01mraise\u001b[39;00m paramException(\n\u001b[1;32m    974\u001b[0m         title\u001b[38;5;241m=\u001b[39m\u001b[38;5;124m\"\u001b[39m\u001b[38;5;124mParam Error\u001b[39m\u001b[38;5;124m\"\u001b[39m,\n\u001b[1;32m    975\u001b[0m         detail\u001b[38;5;241m=\u001b[39m\u001b[38;5;124mf\u001b[39m\u001b[38;5;124m\"\u001b[39m\u001b[38;5;124mFile format for file \u001b[39m\u001b[38;5;132;01m{\u001b[39;00mfile\u001b[38;5;132;01m}\u001b[39;00m\u001b[38;5;124m is invalid.\u001b[39m\u001b[38;5;124m\"\u001b[39m\n\u001b[1;32m    976\u001b[0m         \u001b[38;5;241m+\u001b[39m \u001b[38;5;124mf\u001b[39m\u001b[38;5;124m\"\u001b[39m\u001b[38;5;124mIt can be => \u001b[39m\u001b[38;5;132;01m{\u001b[39;00mmetadata_file_format_constants\u001b[38;5;132;01m}\u001b[39;00m\u001b[38;5;124m\"\u001b[39m,\n\u001b[1;32m    977\u001b[0m     )\n",
            "\u001b[0;31mparamException\u001b[0m: paramException (parameter error): File format for file temp.txt is invalid.It can be => ['.json', '.jpco']"
          ]
        }
      ],
      "source": [
        "# Testing point 4\n",
        "# wrong extension of metadata\n",
        "repo_id = \"1654268055800\"\n",
        "source_folder_path_data = \"/import/data\"\n",
        "source_folder_metadata = \"/import/metadata\"\n",
        "priority = \"high\"\n",
        "source_folder_path = {\"data\":source_folder_path_data, \"metadata\":source_folder_metadata}\n",
        "omixatlas.add_datasets(repo_id, source_folder_path, priority)"
      ]
    },
    {
      "cell_type": "code",
      "execution_count": 13,
      "metadata": {},
      "outputs": [
        {
          "ename": "paramException",
          "evalue": "paramException (parameter error): File format for file temp.txt is invalid.It can be => ['.gct', '.vcf', '.h5ad', '.mmcif', '.h5seurat', '.biom', '.zip', '.fs', '.tar.gz', '.fcs', '.vcf.bgz', '.gct.bz', '.csv']",
          "output_type": "error",
          "traceback": [
            "\u001b[0;31m---------------------------------------------------------------------------\u001b[0m",
            "\u001b[0;31mparamException\u001b[0m                            Traceback (most recent call last)",
            "Input \u001b[0;32mIn [13]\u001b[0m, in \u001b[0;36m<cell line: 8>\u001b[0;34m()\u001b[0m\n\u001b[1;32m      6\u001b[0m priority \u001b[38;5;241m=\u001b[39m \u001b[38;5;124m\"\u001b[39m\u001b[38;5;124mhigh\u001b[39m\u001b[38;5;124m\"\u001b[39m\n\u001b[1;32m      7\u001b[0m source_folder_path \u001b[38;5;241m=\u001b[39m {\u001b[38;5;124m\"\u001b[39m\u001b[38;5;124mdata\u001b[39m\u001b[38;5;124m\"\u001b[39m:source_folder_path_data, \u001b[38;5;124m\"\u001b[39m\u001b[38;5;124mmetadata\u001b[39m\u001b[38;5;124m\"\u001b[39m:source_folder_metadata}\n\u001b[0;32m----> 8\u001b[0m \u001b[43momixatlas\u001b[49m\u001b[38;5;241;43m.\u001b[39;49m\u001b[43madd_datasets\u001b[49m\u001b[43m(\u001b[49m\u001b[43mrepo_id\u001b[49m\u001b[43m,\u001b[49m\u001b[43m \u001b[49m\u001b[43msource_folder_path\u001b[49m\u001b[43m,\u001b[49m\u001b[43m \u001b[49m\u001b[43mpriority\u001b[49m\u001b[43m)\u001b[49m\n",
            "File \u001b[0;32m/usr/local/lib/python3.10/site-packages/polly/tracking.py:59\u001b[0m, in \u001b[0;36mTrack.track_decorator.<locals>.wrapper_function\u001b[0;34m(*args, **kwargs)\u001b[0m\n\u001b[1;32m     57\u001b[0m         \u001b[38;5;28;01mreturn\u001b[39;00m result\n\u001b[1;32m     58\u001b[0m \u001b[38;5;28;01melse\u001b[39;00m:\n\u001b[0;32m---> 59\u001b[0m     \u001b[38;5;28;01mraise\u001b[39;00m returned_err\n",
            "File \u001b[0;32m/usr/local/lib/python3.10/site-packages/polly/tracking.py:22\u001b[0m, in \u001b[0;36mTrack.track_decorator.<locals>.wrapper_function\u001b[0;34m(*args, **kwargs)\u001b[0m\n\u001b[1;32m     20\u001b[0m execution_flag \u001b[38;5;241m=\u001b[39m \u001b[38;5;28;01mFalse\u001b[39;00m\n\u001b[1;32m     21\u001b[0m \u001b[38;5;28;01mtry\u001b[39;00m:\n\u001b[0;32m---> 22\u001b[0m     result \u001b[38;5;241m=\u001b[39m \u001b[43mfunction\u001b[49m\u001b[43m(\u001b[49m\u001b[38;5;241;43m*\u001b[39;49m\u001b[43margs\u001b[49m\u001b[43m,\u001b[49m\u001b[43m \u001b[49m\u001b[38;5;241;43m*\u001b[39;49m\u001b[38;5;241;43m*\u001b[39;49m\u001b[43mkwargs\u001b[49m\u001b[43m)\u001b[49m\n\u001b[1;32m     23\u001b[0m     execution_flag \u001b[38;5;241m=\u001b[39m \u001b[38;5;28;01mTrue\u001b[39;00m\n\u001b[1;32m     24\u001b[0m \u001b[38;5;28;01mexcept\u001b[39;00m \u001b[38;5;167;01mException\u001b[39;00m \u001b[38;5;28;01mas\u001b[39;00m e:\n",
            "File \u001b[0;32m/usr/local/lib/python3.10/site-packages/polly/omixatlas.py:1773\u001b[0m, in \u001b[0;36mOmixAtlas.add_datasets\u001b[0;34m(self, repo_id, source_folder_path, priority, validation)\u001b[0m\n\u001b[1;32m   1771\u001b[0m     \u001b[38;5;28;01mreturn\u001b[39;00m data_upload_results_df\n\u001b[1;32m   1772\u001b[0m \u001b[38;5;28;01mexcept\u001b[39;00m \u001b[38;5;167;01mException\u001b[39;00m \u001b[38;5;28;01mas\u001b[39;00m err:\n\u001b[0;32m-> 1773\u001b[0m     \u001b[38;5;28;01mraise\u001b[39;00m err\n",
            "File \u001b[0;32m/usr/local/lib/python3.10/site-packages/polly/omixatlas.py:1768\u001b[0m, in \u001b[0;36mOmixAtlas.add_datasets\u001b[0;34m(self, repo_id, source_folder_path, priority, validation)\u001b[0m\n\u001b[1;32m   1648\u001b[0m \u001b[38;5;28;01mtry\u001b[39;00m:\n\u001b[1;32m   1649\u001b[0m     \u001b[38;5;66;03m# parameters check\u001b[39;00m\n\u001b[1;32m   1650\u001b[0m     \u001b[38;5;66;03m# self._parameter_check_for_add_dataset(\u001b[39;00m\n\u001b[0;32m   (...)\u001b[0m\n\u001b[1;32m   1764\u001b[0m     \u001b[38;5;66;03m#         f\"\\nDestination folder path considered for ingestion request: {destination_folder_path}\"\u001b[39;00m\n\u001b[1;32m   1765\u001b[0m     \u001b[38;5;66;03m#     )\u001b[39;00m\n\u001b[1;32m   1767\u001b[0m     files_obj \u001b[38;5;241m=\u001b[39m Files()\n\u001b[0;32m-> 1768\u001b[0m     data_upload_results_df \u001b[38;5;241m=\u001b[39m \u001b[43mfiles_obj\u001b[49m\u001b[38;5;241;43m.\u001b[39;49m\u001b[43madd_datasets\u001b[49m\u001b[43m(\u001b[49m\n\u001b[1;32m   1769\u001b[0m \u001b[43m        \u001b[49m\u001b[38;5;28;43mself\u001b[39;49m\u001b[43m,\u001b[49m\u001b[43m \u001b[49m\u001b[43mrepo_id\u001b[49m\u001b[43m,\u001b[49m\u001b[43m \u001b[49m\u001b[43msource_folder_path\u001b[49m\u001b[43m,\u001b[49m\u001b[43m \u001b[49m\u001b[43mpriority\u001b[49m\u001b[43m,\u001b[49m\u001b[43m \u001b[49m\u001b[43mvalidation\u001b[49m\n\u001b[1;32m   1770\u001b[0m \u001b[43m    \u001b[49m\u001b[43m)\u001b[49m\n\u001b[1;32m   1771\u001b[0m     \u001b[38;5;28;01mreturn\u001b[39;00m data_upload_results_df\n\u001b[1;32m   1772\u001b[0m \u001b[38;5;28;01mexcept\u001b[39;00m \u001b[38;5;167;01mException\u001b[39;00m \u001b[38;5;28;01mas\u001b[39;00m err:\n",
            "File \u001b[0;32m/usr/local/lib/python3.10/site-packages/polly_services/files/files.py:34\u001b[0m, in \u001b[0;36mFiles.add_datasets\u001b[0;34m(self, polly_session, repo_id, source_folder_path, priority, validation)\u001b[0m\n\u001b[1;32m     13\u001b[0m \u001b[38;5;28;01mdef\u001b[39;00m \u001b[38;5;21madd_datasets\u001b[39m(\n\u001b[1;32m     14\u001b[0m     \u001b[38;5;28mself\u001b[39m,\n\u001b[1;32m     15\u001b[0m     polly_session,\n\u001b[0;32m   (...)\u001b[0m\n\u001b[1;32m     19\u001b[0m     validation\u001b[38;5;241m=\u001b[39m\u001b[38;5;28;01mFalse\u001b[39;00m,\n\u001b[1;32m     20\u001b[0m ):\n\u001b[1;32m     21\u001b[0m     \u001b[38;5;124;03m\"\"\"Function to ingest the dataset and metadata in omixatlas\u001b[39;00m\n\u001b[1;32m     22\u001b[0m \n\u001b[1;32m     23\u001b[0m \u001b[38;5;124;03m    Args:\u001b[39;00m\n\u001b[0;32m   (...)\u001b[0m\n\u001b[1;32m     31\u001b[0m \u001b[38;5;124;03m        _type_: _description_\u001b[39;00m\n\u001b[1;32m     32\u001b[0m \u001b[38;5;124;03m    \"\"\"\u001b[39;00m\n\u001b[0;32m---> 34\u001b[0m     \u001b[43mfiles_hlpr\u001b[49m\u001b[38;5;241;43m.\u001b[39;49m\u001b[43mparameter_check_for_add_dataset\u001b[49m\u001b[43m(\u001b[49m\n\u001b[1;32m     35\u001b[0m \u001b[43m        \u001b[49m\u001b[43mrepo_id\u001b[49m\u001b[43m,\u001b[49m\u001b[43m \u001b[49m\u001b[43msource_folder_path\u001b[49m\u001b[43m,\u001b[49m\u001b[43m \u001b[49m\u001b[43mpriority\u001b[49m\n\u001b[1;32m     36\u001b[0m \u001b[43m    \u001b[49m\u001b[43m)\u001b[49m\n\u001b[1;32m     38\u001b[0m     data_file_list, metadata_file_list \u001b[38;5;241m=\u001b[39m files_hlpr\u001b[38;5;241m.\u001b[39mcreate_file_list(\n\u001b[1;32m     39\u001b[0m         source_folder_path\n\u001b[1;32m     40\u001b[0m     )\n\u001b[1;32m     42\u001b[0m     \u001b[38;5;66;03m# data metadata file mapping\u001b[39;00m\n\u001b[1;32m     43\u001b[0m     \u001b[38;5;66;03m# initial data metadata mapping dict containing all the files\u001b[39;00m\n",
            "File \u001b[0;32m/usr/local/lib/python3.10/site-packages/polly_services/files/files_hlpr.py:56\u001b[0m, in \u001b[0;36mparameter_check_for_add_dataset\u001b[0;34m(repo_id, source_folder_path, priority)\u001b[0m\n\u001b[1;32m     54\u001b[0m     parameter_check_for_priority(priority)\n\u001b[1;32m     55\u001b[0m \u001b[38;5;28;01mexcept\u001b[39;00m \u001b[38;5;167;01mException\u001b[39;00m \u001b[38;5;28;01mas\u001b[39;00m err:\n\u001b[0;32m---> 56\u001b[0m     \u001b[38;5;28;01mraise\u001b[39;00m err\n",
            "File \u001b[0;32m/usr/local/lib/python3.10/site-packages/polly_services/files/files_hlpr.py:52\u001b[0m, in \u001b[0;36mparameter_check_for_add_dataset\u001b[0;34m(repo_id, source_folder_path, priority)\u001b[0m\n\u001b[1;32m     50\u001b[0m polly_services_hlpr\u001b[38;5;241m.\u001b[39mparameter_check_for_repo_id(repo_id)\n\u001b[1;32m     51\u001b[0m data_metadata_parameter_check(source_folder_path)\n\u001b[0;32m---> 52\u001b[0m \u001b[43mdata_metadata_file_ext_check\u001b[49m\u001b[43m(\u001b[49m\u001b[43msource_folder_path\u001b[49m\u001b[43m)\u001b[49m\n\u001b[1;32m     53\u001b[0m check_data_metadata_file_path(source_folder_path)\n\u001b[1;32m     54\u001b[0m parameter_check_for_priority(priority)\n",
            "File \u001b[0;32m/usr/local/lib/python3.10/site-packages/polly_services/files/files_hlpr.py:963\u001b[0m, in \u001b[0;36mdata_metadata_file_ext_check\u001b[0;34m(source_folder_path)\u001b[0m\n\u001b[1;32m    959\u001b[0m         check_for_single_word_multi_word_extension(\n\u001b[1;32m    960\u001b[0m             data_file_list, data_file_format_constants\n\u001b[1;32m    961\u001b[0m         )\n\u001b[1;32m    962\u001b[0m     \u001b[38;5;28;01mexcept\u001b[39;00m \u001b[38;5;167;01mException\u001b[39;00m \u001b[38;5;28;01mas\u001b[39;00m err:\n\u001b[0;32m--> 963\u001b[0m         \u001b[38;5;28;01mraise\u001b[39;00m err\n\u001b[1;32m    965\u001b[0m metadata_file_format_constants \u001b[38;5;241m=\u001b[39m format_constants[\u001b[38;5;124m\"\u001b[39m\u001b[38;5;124mmetadata\u001b[39m\u001b[38;5;124m\"\u001b[39m]\n\u001b[1;32m    966\u001b[0m metadata_source_folder_path \u001b[38;5;241m=\u001b[39m source_folder_path\u001b[38;5;241m.\u001b[39mget(\u001b[38;5;124m\"\u001b[39m\u001b[38;5;124mmetadata\u001b[39m\u001b[38;5;124m\"\u001b[39m, \u001b[38;5;124m\"\u001b[39m\u001b[38;5;124m\"\u001b[39m)\n",
            "File \u001b[0;32m/usr/local/lib/python3.10/site-packages/polly_services/files/files_hlpr.py:959\u001b[0m, in \u001b[0;36mdata_metadata_file_ext_check\u001b[0;34m(source_folder_path)\u001b[0m\n\u001b[1;32m    957\u001b[0m data_file_list \u001b[38;5;241m=\u001b[39m data_files_for_upload(data_source_folder_path)\n\u001b[1;32m    958\u001b[0m \u001b[38;5;28;01mtry\u001b[39;00m:\n\u001b[0;32m--> 959\u001b[0m     \u001b[43mcheck_for_single_word_multi_word_extension\u001b[49m\u001b[43m(\u001b[49m\n\u001b[1;32m    960\u001b[0m \u001b[43m        \u001b[49m\u001b[43mdata_file_list\u001b[49m\u001b[43m,\u001b[49m\u001b[43m \u001b[49m\u001b[43mdata_file_format_constants\u001b[49m\n\u001b[1;32m    961\u001b[0m \u001b[43m    \u001b[49m\u001b[43m)\u001b[49m\n\u001b[1;32m    962\u001b[0m \u001b[38;5;28;01mexcept\u001b[39;00m \u001b[38;5;167;01mException\u001b[39;00m \u001b[38;5;28;01mas\u001b[39;00m err:\n\u001b[1;32m    963\u001b[0m     \u001b[38;5;28;01mraise\u001b[39;00m err\n",
            "File \u001b[0;32m/usr/local/lib/python3.10/site-packages/polly_services/files/files_hlpr.py:662\u001b[0m, in \u001b[0;36mcheck_for_single_word_multi_word_extension\u001b[0;34m(data_file_list, data_file_format_constants)\u001b[0m\n\u001b[1;32m    660\u001b[0m     file_ext_single_word \u001b[38;5;241m=\u001b[39m file_ext[\u001b[38;5;241m-\u001b[39m\u001b[38;5;241m1\u001b[39m]\n\u001b[1;32m    661\u001b[0m     \u001b[38;5;28;01mif\u001b[39;00m file_ext_single_word \u001b[38;5;129;01mnot\u001b[39;00m \u001b[38;5;129;01min\u001b[39;00m data_file_format_constants:\n\u001b[0;32m--> 662\u001b[0m         \u001b[38;5;28;01mraise\u001b[39;00m paramException(\n\u001b[1;32m    663\u001b[0m             title\u001b[38;5;241m=\u001b[39m\u001b[38;5;124m\"\u001b[39m\u001b[38;5;124mParam Error\u001b[39m\u001b[38;5;124m\"\u001b[39m,\n\u001b[1;32m    664\u001b[0m             detail\u001b[38;5;241m=\u001b[39m\u001b[38;5;124mf\u001b[39m\u001b[38;5;124m\"\u001b[39m\u001b[38;5;124mFile format for file \u001b[39m\u001b[38;5;132;01m{\u001b[39;00mfile\u001b[38;5;132;01m}\u001b[39;00m\u001b[38;5;124m is invalid.\u001b[39m\u001b[38;5;124m\"\u001b[39m\n\u001b[1;32m    665\u001b[0m             \u001b[38;5;241m+\u001b[39m \u001b[38;5;124mf\u001b[39m\u001b[38;5;124m\"\u001b[39m\u001b[38;5;124mIt can be => \u001b[39m\u001b[38;5;132;01m{\u001b[39;00mdata_file_format_constants\u001b[38;5;132;01m}\u001b[39;00m\u001b[38;5;124m\"\u001b[39m,\n\u001b[1;32m    666\u001b[0m         )\n\u001b[1;32m    667\u001b[0m \u001b[38;5;28;01melif\u001b[39;00m \u001b[38;5;28mlen\u001b[39m(file_ext) \u001b[38;5;241m>\u001b[39m \u001b[38;5;241m1\u001b[39m:\n\u001b[1;32m    668\u001b[0m     \u001b[38;5;66;03m# file with multi word extension\u001b[39;00m\n\u001b[1;32m    669\u001b[0m     \u001b[38;5;66;03m# or `.`'s present in file name\u001b[39;00m\n\u001b[1;32m    670\u001b[0m     \u001b[38;5;66;03m# check for multiword extensions\u001b[39;00m\n\u001b[1;32m    671\u001b[0m     compression_type_check \u001b[38;5;241m=\u001b[39m file_ext[\u001b[38;5;241m-\u001b[39m\u001b[38;5;241m1\u001b[39m]\n",
            "\u001b[0;31mparamException\u001b[0m: paramException (parameter error): File format for file temp.txt is invalid.It can be => ['.gct', '.vcf', '.h5ad', '.mmcif', '.h5seurat', '.biom', '.zip', '.fs', '.tar.gz', '.fcs', '.vcf.bgz', '.gct.bz', '.csv']"
          ]
        }
      ],
      "source": [
        "# Testing point 5\n",
        "# wrong extension dataset\n",
        "repo_id = \"1654268055800\"\n",
        "source_folder_path_data = \"/import/data\"\n",
        "source_folder_metadata = \"/import/metadata\"\n",
        "priority = \"high\"\n",
        "source_folder_path = {\"data\":source_folder_path_data, \"metadata\":source_folder_metadata}\n",
        "omixatlas.add_datasets(repo_id, source_folder_path, priority)"
      ]
    },
    {
      "cell_type": "code",
      "execution_count": 15,
      "metadata": {},
      "outputs": [
        {
          "ename": "paramException",
          "evalue": "paramException (parameter error):  No metadata for these data files ['temp']. Please add the relevant files or remove them.",
          "output_type": "error",
          "traceback": [
            "\u001b[0;31m---------------------------------------------------------------------------\u001b[0m",
            "\u001b[0;31mparamException\u001b[0m                            Traceback (most recent call last)",
            "Input \u001b[0;32mIn [15]\u001b[0m, in \u001b[0;36m<cell line: 9>\u001b[0;34m()\u001b[0m\n\u001b[1;32m      7\u001b[0m priority \u001b[38;5;241m=\u001b[39m \u001b[38;5;124m\"\u001b[39m\u001b[38;5;124mhigh\u001b[39m\u001b[38;5;124m\"\u001b[39m\n\u001b[1;32m      8\u001b[0m source_folder_path \u001b[38;5;241m=\u001b[39m {\u001b[38;5;124m\"\u001b[39m\u001b[38;5;124mdata\u001b[39m\u001b[38;5;124m\"\u001b[39m:source_folder_path_data, \u001b[38;5;124m\"\u001b[39m\u001b[38;5;124mmetadata\u001b[39m\u001b[38;5;124m\"\u001b[39m:source_folder_metadata}\n\u001b[0;32m----> 9\u001b[0m \u001b[43momixatlas\u001b[49m\u001b[38;5;241;43m.\u001b[39;49m\u001b[43madd_datasets\u001b[49m\u001b[43m(\u001b[49m\u001b[43mrepo_id\u001b[49m\u001b[43m,\u001b[49m\u001b[43m \u001b[49m\u001b[43msource_folder_path\u001b[49m\u001b[43m,\u001b[49m\u001b[43m \u001b[49m\u001b[43mpriority\u001b[49m\u001b[43m)\u001b[49m\n",
            "File \u001b[0;32m/usr/local/lib/python3.10/site-packages/polly/tracking.py:59\u001b[0m, in \u001b[0;36mTrack.track_decorator.<locals>.wrapper_function\u001b[0;34m(*args, **kwargs)\u001b[0m\n\u001b[1;32m     57\u001b[0m         \u001b[38;5;28;01mreturn\u001b[39;00m result\n\u001b[1;32m     58\u001b[0m \u001b[38;5;28;01melse\u001b[39;00m:\n\u001b[0;32m---> 59\u001b[0m     \u001b[38;5;28;01mraise\u001b[39;00m returned_err\n",
            "File \u001b[0;32m/usr/local/lib/python3.10/site-packages/polly/tracking.py:22\u001b[0m, in \u001b[0;36mTrack.track_decorator.<locals>.wrapper_function\u001b[0;34m(*args, **kwargs)\u001b[0m\n\u001b[1;32m     20\u001b[0m execution_flag \u001b[38;5;241m=\u001b[39m \u001b[38;5;28;01mFalse\u001b[39;00m\n\u001b[1;32m     21\u001b[0m \u001b[38;5;28;01mtry\u001b[39;00m:\n\u001b[0;32m---> 22\u001b[0m     result \u001b[38;5;241m=\u001b[39m \u001b[43mfunction\u001b[49m\u001b[43m(\u001b[49m\u001b[38;5;241;43m*\u001b[39;49m\u001b[43margs\u001b[49m\u001b[43m,\u001b[49m\u001b[43m \u001b[49m\u001b[38;5;241;43m*\u001b[39;49m\u001b[38;5;241;43m*\u001b[39;49m\u001b[43mkwargs\u001b[49m\u001b[43m)\u001b[49m\n\u001b[1;32m     23\u001b[0m     execution_flag \u001b[38;5;241m=\u001b[39m \u001b[38;5;28;01mTrue\u001b[39;00m\n\u001b[1;32m     24\u001b[0m \u001b[38;5;28;01mexcept\u001b[39;00m \u001b[38;5;167;01mException\u001b[39;00m \u001b[38;5;28;01mas\u001b[39;00m e:\n",
            "File \u001b[0;32m/usr/local/lib/python3.10/site-packages/polly/omixatlas.py:1773\u001b[0m, in \u001b[0;36mOmixAtlas.add_datasets\u001b[0;34m(self, repo_id, source_folder_path, priority, validation)\u001b[0m\n\u001b[1;32m   1771\u001b[0m     \u001b[38;5;28;01mreturn\u001b[39;00m data_upload_results_df\n\u001b[1;32m   1772\u001b[0m \u001b[38;5;28;01mexcept\u001b[39;00m \u001b[38;5;167;01mException\u001b[39;00m \u001b[38;5;28;01mas\u001b[39;00m err:\n\u001b[0;32m-> 1773\u001b[0m     \u001b[38;5;28;01mraise\u001b[39;00m err\n",
            "File \u001b[0;32m/usr/local/lib/python3.10/site-packages/polly/omixatlas.py:1768\u001b[0m, in \u001b[0;36mOmixAtlas.add_datasets\u001b[0;34m(self, repo_id, source_folder_path, priority, validation)\u001b[0m\n\u001b[1;32m   1648\u001b[0m \u001b[38;5;28;01mtry\u001b[39;00m:\n\u001b[1;32m   1649\u001b[0m     \u001b[38;5;66;03m# parameters check\u001b[39;00m\n\u001b[1;32m   1650\u001b[0m     \u001b[38;5;66;03m# self._parameter_check_for_add_dataset(\u001b[39;00m\n\u001b[0;32m   (...)\u001b[0m\n\u001b[1;32m   1764\u001b[0m     \u001b[38;5;66;03m#         f\"\\nDestination folder path considered for ingestion request: {destination_folder_path}\"\u001b[39;00m\n\u001b[1;32m   1765\u001b[0m     \u001b[38;5;66;03m#     )\u001b[39;00m\n\u001b[1;32m   1767\u001b[0m     files_obj \u001b[38;5;241m=\u001b[39m Files()\n\u001b[0;32m-> 1768\u001b[0m     data_upload_results_df \u001b[38;5;241m=\u001b[39m \u001b[43mfiles_obj\u001b[49m\u001b[38;5;241;43m.\u001b[39;49m\u001b[43madd_datasets\u001b[49m\u001b[43m(\u001b[49m\n\u001b[1;32m   1769\u001b[0m \u001b[43m        \u001b[49m\u001b[38;5;28;43mself\u001b[39;49m\u001b[43m,\u001b[49m\u001b[43m \u001b[49m\u001b[43mrepo_id\u001b[49m\u001b[43m,\u001b[49m\u001b[43m \u001b[49m\u001b[43msource_folder_path\u001b[49m\u001b[43m,\u001b[49m\u001b[43m \u001b[49m\u001b[43mpriority\u001b[49m\u001b[43m,\u001b[49m\u001b[43m \u001b[49m\u001b[43mvalidation\u001b[49m\n\u001b[1;32m   1770\u001b[0m \u001b[43m    \u001b[49m\u001b[43m)\u001b[49m\n\u001b[1;32m   1771\u001b[0m     \u001b[38;5;28;01mreturn\u001b[39;00m data_upload_results_df\n\u001b[1;32m   1772\u001b[0m \u001b[38;5;28;01mexcept\u001b[39;00m \u001b[38;5;167;01mException\u001b[39;00m \u001b[38;5;28;01mas\u001b[39;00m err:\n",
            "File \u001b[0;32m/usr/local/lib/python3.10/site-packages/polly_services/files/files.py:44\u001b[0m, in \u001b[0;36mFiles.add_datasets\u001b[0;34m(self, polly_session, repo_id, source_folder_path, priority, validation)\u001b[0m\n\u001b[1;32m     38\u001b[0m data_file_list, metadata_file_list \u001b[38;5;241m=\u001b[39m files_hlpr\u001b[38;5;241m.\u001b[39mcreate_file_list(\n\u001b[1;32m     39\u001b[0m     source_folder_path\n\u001b[1;32m     40\u001b[0m )\n\u001b[1;32m     42\u001b[0m \u001b[38;5;66;03m# data metadata file mapping\u001b[39;00m\n\u001b[1;32m     43\u001b[0m \u001b[38;5;66;03m# initial data metadata mapping dict containing all the files\u001b[39;00m\n\u001b[0;32m---> 44\u001b[0m data_metadata_mapping \u001b[38;5;241m=\u001b[39m \u001b[43mfiles_hlpr\u001b[49m\u001b[38;5;241;43m.\u001b[39;49m\u001b[43mmap_data_metadata_files\u001b[49m\u001b[43m(\u001b[49m\n\u001b[1;32m     45\u001b[0m \u001b[43m    \u001b[49m\u001b[43mdata_file_list\u001b[49m\u001b[43m,\u001b[49m\u001b[43m \u001b[49m\u001b[43mmetadata_file_list\u001b[49m\u001b[43m,\u001b[49m\u001b[43m \u001b[49m\u001b[43msource_folder_path\u001b[49m\n\u001b[1;32m     46\u001b[0m \u001b[43m\u001b[49m\u001b[43m)\u001b[49m\n\u001b[1;32m     48\u001b[0m validation_dataset_lvl \u001b[38;5;241m=\u001b[39m {}\n\u001b[1;32m     49\u001b[0m \u001b[38;5;28;01mif\u001b[39;00m validation:\n",
            "File \u001b[0;32m/usr/local/lib/python3.10/site-packages/polly_services/files/files_hlpr.py:164\u001b[0m, in \u001b[0;36mmap_data_metadata_files\u001b[0;34m(data_file_list, metadata_file_list, source_folder_path)\u001b[0m\n\u001b[1;32m    162\u001b[0m     \u001b[38;5;28;01mreturn\u001b[39;00m final_data_metadata_mapping_dict\n\u001b[1;32m    163\u001b[0m \u001b[38;5;28;01mexcept\u001b[39;00m \u001b[38;5;167;01mException\u001b[39;00m \u001b[38;5;28;01mas\u001b[39;00m err:\n\u001b[0;32m--> 164\u001b[0m     \u001b[38;5;28;01mraise\u001b[39;00m err\n",
            "File \u001b[0;32m/usr/local/lib/python3.10/site-packages/polly_services/files/files_hlpr.py:157\u001b[0m, in \u001b[0;36mmap_data_metadata_files\u001b[0;34m(data_file_list, metadata_file_list, source_folder_path)\u001b[0m\n\u001b[1;32m    148\u001b[0m     metadata_file_names_str \u001b[38;5;241m=\u001b[39m create_file_name_with_extension_list(\n\u001b[1;32m    149\u001b[0m         metadata_file_list, file_ext_req\u001b[38;5;241m=\u001b[39m\u001b[38;5;28;01mFalse\u001b[39;00m\n\u001b[1;32m    150\u001b[0m     )\n\u001b[1;32m    151\u001b[0m     (\n\u001b[1;32m    152\u001b[0m         data_metadata_mapping_dict,\n\u001b[1;32m    153\u001b[0m         unmapped_data_file_names,\n\u001b[1;32m    154\u001b[0m         unmapped_metadata_file_names,\n\u001b[1;32m    155\u001b[0m     ) \u001b[38;5;241m=\u001b[39m data_metadata_file_dict(metadata_file_names_str, data_file_names_str)\n\u001b[0;32m--> 157\u001b[0m     final_data_metadata_mapping_dict \u001b[38;5;241m=\u001b[39m \u001b[43mdata_metadata_file_mapping_conditions\u001b[49m\u001b[43m(\u001b[49m\n\u001b[1;32m    158\u001b[0m \u001b[43m        \u001b[49m\u001b[43munmapped_data_file_names\u001b[49m\u001b[43m,\u001b[49m\n\u001b[1;32m    159\u001b[0m \u001b[43m        \u001b[49m\u001b[43munmapped_metadata_file_names\u001b[49m\u001b[43m,\u001b[49m\n\u001b[1;32m    160\u001b[0m \u001b[43m        \u001b[49m\u001b[43mdata_metadata_mapping_dict\u001b[49m\u001b[43m,\u001b[49m\n\u001b[1;32m    161\u001b[0m \u001b[43m    \u001b[49m\u001b[43m)\u001b[49m\n\u001b[1;32m    162\u001b[0m     \u001b[38;5;28;01mreturn\u001b[39;00m final_data_metadata_mapping_dict\n\u001b[1;32m    163\u001b[0m \u001b[38;5;28;01mexcept\u001b[39;00m \u001b[38;5;167;01mException\u001b[39;00m \u001b[38;5;28;01mas\u001b[39;00m err:\n",
            "File \u001b[0;32m/usr/local/lib/python3.10/site-packages/polly_services/files/files_hlpr.py:464\u001b[0m, in \u001b[0;36mdata_metadata_file_mapping_conditions\u001b[0;34m(unmapped_data_file_names, unmapped_metadata_file_names, data_metadata_mapping_dict)\u001b[0m\n\u001b[1;32m    457\u001b[0m     \u001b[38;5;28;01mraise\u001b[39;00m paramException(\n\u001b[1;32m    458\u001b[0m         title\u001b[38;5;241m=\u001b[39m\u001b[38;5;124m\"\u001b[39m\u001b[38;5;124mMissing files\u001b[39m\u001b[38;5;124m\"\u001b[39m,\n\u001b[1;32m    459\u001b[0m         detail\u001b[38;5;241m=\u001b[39m\u001b[38;5;124mf\u001b[39m\u001b[38;5;124m\"\u001b[39m\u001b[38;5;124m No metadata for these data files \u001b[39m\u001b[38;5;132;01m{\u001b[39;00munmapped_data_file_names\u001b[38;5;132;01m}\u001b[39;00m\u001b[38;5;124m. \u001b[39m\u001b[38;5;124m\"\u001b[39m\n\u001b[1;32m    460\u001b[0m         \u001b[38;5;241m+\u001b[39m \u001b[38;5;124mf\u001b[39m\u001b[38;5;124m\"\u001b[39m\u001b[38;5;124mNo data for these metadata files \u001b[39m\u001b[38;5;132;01m{\u001b[39;00munmapped_metadata_file_names\u001b[38;5;132;01m}\u001b[39;00m\u001b[38;5;124m. \u001b[39m\u001b[38;5;124m\"\u001b[39m\n\u001b[1;32m    461\u001b[0m         \u001b[38;5;241m+\u001b[39m \u001b[38;5;124m\"\u001b[39m\u001b[38;5;124mPlease add the relevant files or remove them.\u001b[39m\u001b[38;5;124m\"\u001b[39m,\n\u001b[1;32m    462\u001b[0m     )\n\u001b[1;32m    463\u001b[0m \u001b[38;5;28;01melif\u001b[39;00m \u001b[38;5;28mlen\u001b[39m(unmapped_data_file_names) \u001b[38;5;241m>\u001b[39m \u001b[38;5;241m0\u001b[39m:\n\u001b[0;32m--> 464\u001b[0m     \u001b[38;5;28;01mraise\u001b[39;00m paramException(\n\u001b[1;32m    465\u001b[0m         title\u001b[38;5;241m=\u001b[39m\u001b[38;5;124m\"\u001b[39m\u001b[38;5;124mMissing files\u001b[39m\u001b[38;5;124m\"\u001b[39m,\n\u001b[1;32m    466\u001b[0m         detail\u001b[38;5;241m=\u001b[39m\u001b[38;5;124mf\u001b[39m\u001b[38;5;124m\"\u001b[39m\u001b[38;5;124m No metadata for these data files \u001b[39m\u001b[38;5;132;01m{\u001b[39;00munmapped_data_file_names\u001b[38;5;132;01m}\u001b[39;00m\u001b[38;5;124m\"\u001b[39m\n\u001b[1;32m    467\u001b[0m         \u001b[38;5;241m+\u001b[39m \u001b[38;5;124m\"\u001b[39m\u001b[38;5;124m. Please add the relevant files or remove them.\u001b[39m\u001b[38;5;124m\"\u001b[39m,\n\u001b[1;32m    468\u001b[0m     )\n\u001b[1;32m    469\u001b[0m \u001b[38;5;28;01melif\u001b[39;00m \u001b[38;5;28mlen\u001b[39m(unmapped_metadata_file_names) \u001b[38;5;241m>\u001b[39m \u001b[38;5;241m0\u001b[39m:\n\u001b[1;32m    470\u001b[0m     \u001b[38;5;28;01mraise\u001b[39;00m paramException(\n\u001b[1;32m    471\u001b[0m         title\u001b[38;5;241m=\u001b[39m\u001b[38;5;124m\"\u001b[39m\u001b[38;5;124mMissing files\u001b[39m\u001b[38;5;124m\"\u001b[39m,\n\u001b[1;32m    472\u001b[0m         detail\u001b[38;5;241m=\u001b[39m\u001b[38;5;124mf\u001b[39m\u001b[38;5;124m\"\u001b[39m\u001b[38;5;124mNo data for these metadata files \u001b[39m\u001b[38;5;132;01m{\u001b[39;00munmapped_metadata_file_names\u001b[38;5;132;01m}\u001b[39;00m\u001b[38;5;124m\"\u001b[39m\n\u001b[1;32m    473\u001b[0m         \u001b[38;5;241m+\u001b[39m \u001b[38;5;124m\"\u001b[39m\u001b[38;5;124m. Please add the relevant files or remove them.\u001b[39m\u001b[38;5;124m\"\u001b[39m,\n\u001b[1;32m    474\u001b[0m     )\n",
            "\u001b[0;31mparamException\u001b[0m: paramException (parameter error):  No metadata for these data files ['temp']. Please add the relevant files or remove them."
          ]
        }
      ],
      "source": [
        "# Testing point 6\n",
        "# unmapped file data\n",
        "\n",
        "repo_id = \"1654268055800\"\n",
        "source_folder_path_data = \"/import/data\"\n",
        "source_folder_metadata = \"/import/metadata\"\n",
        "priority = \"high\"\n",
        "source_folder_path = {\"data\":source_folder_path_data, \"metadata\":source_folder_metadata}\n",
        "omixatlas.add_datasets(repo_id, source_folder_path, priority)\n"
      ]
    },
    {
      "cell_type": "code",
      "execution_count": 17,
      "metadata": {},
      "outputs": [
        {
          "ename": "paramException",
          "evalue": "paramException (parameter error): No data for these metadata files ['temp']. Please add the relevant files or remove them.",
          "output_type": "error",
          "traceback": [
            "\u001b[0;31m---------------------------------------------------------------------------\u001b[0m",
            "\u001b[0;31mparamException\u001b[0m                            Traceback (most recent call last)",
            "Input \u001b[0;32mIn [17]\u001b[0m, in \u001b[0;36m<cell line: 9>\u001b[0;34m()\u001b[0m\n\u001b[1;32m      7\u001b[0m priority \u001b[38;5;241m=\u001b[39m \u001b[38;5;124m\"\u001b[39m\u001b[38;5;124mhigh\u001b[39m\u001b[38;5;124m\"\u001b[39m\n\u001b[1;32m      8\u001b[0m source_folder_path \u001b[38;5;241m=\u001b[39m {\u001b[38;5;124m\"\u001b[39m\u001b[38;5;124mdata\u001b[39m\u001b[38;5;124m\"\u001b[39m:source_folder_path_data, \u001b[38;5;124m\"\u001b[39m\u001b[38;5;124mmetadata\u001b[39m\u001b[38;5;124m\"\u001b[39m:source_folder_metadata}\n\u001b[0;32m----> 9\u001b[0m \u001b[43momixatlas\u001b[49m\u001b[38;5;241;43m.\u001b[39;49m\u001b[43madd_datasets\u001b[49m\u001b[43m(\u001b[49m\u001b[43mrepo_id\u001b[49m\u001b[43m,\u001b[49m\u001b[43m \u001b[49m\u001b[43msource_folder_path\u001b[49m\u001b[43m,\u001b[49m\u001b[43m \u001b[49m\u001b[43mpriority\u001b[49m\u001b[43m)\u001b[49m\n",
            "File \u001b[0;32m/usr/local/lib/python3.10/site-packages/polly/tracking.py:59\u001b[0m, in \u001b[0;36mTrack.track_decorator.<locals>.wrapper_function\u001b[0;34m(*args, **kwargs)\u001b[0m\n\u001b[1;32m     57\u001b[0m         \u001b[38;5;28;01mreturn\u001b[39;00m result\n\u001b[1;32m     58\u001b[0m \u001b[38;5;28;01melse\u001b[39;00m:\n\u001b[0;32m---> 59\u001b[0m     \u001b[38;5;28;01mraise\u001b[39;00m returned_err\n",
            "File \u001b[0;32m/usr/local/lib/python3.10/site-packages/polly/tracking.py:22\u001b[0m, in \u001b[0;36mTrack.track_decorator.<locals>.wrapper_function\u001b[0;34m(*args, **kwargs)\u001b[0m\n\u001b[1;32m     20\u001b[0m execution_flag \u001b[38;5;241m=\u001b[39m \u001b[38;5;28;01mFalse\u001b[39;00m\n\u001b[1;32m     21\u001b[0m \u001b[38;5;28;01mtry\u001b[39;00m:\n\u001b[0;32m---> 22\u001b[0m     result \u001b[38;5;241m=\u001b[39m \u001b[43mfunction\u001b[49m\u001b[43m(\u001b[49m\u001b[38;5;241;43m*\u001b[39;49m\u001b[43margs\u001b[49m\u001b[43m,\u001b[49m\u001b[43m \u001b[49m\u001b[38;5;241;43m*\u001b[39;49m\u001b[38;5;241;43m*\u001b[39;49m\u001b[43mkwargs\u001b[49m\u001b[43m)\u001b[49m\n\u001b[1;32m     23\u001b[0m     execution_flag \u001b[38;5;241m=\u001b[39m \u001b[38;5;28;01mTrue\u001b[39;00m\n\u001b[1;32m     24\u001b[0m \u001b[38;5;28;01mexcept\u001b[39;00m \u001b[38;5;167;01mException\u001b[39;00m \u001b[38;5;28;01mas\u001b[39;00m e:\n",
            "File \u001b[0;32m/usr/local/lib/python3.10/site-packages/polly/omixatlas.py:1773\u001b[0m, in \u001b[0;36mOmixAtlas.add_datasets\u001b[0;34m(self, repo_id, source_folder_path, priority, validation)\u001b[0m\n\u001b[1;32m   1771\u001b[0m     \u001b[38;5;28;01mreturn\u001b[39;00m data_upload_results_df\n\u001b[1;32m   1772\u001b[0m \u001b[38;5;28;01mexcept\u001b[39;00m \u001b[38;5;167;01mException\u001b[39;00m \u001b[38;5;28;01mas\u001b[39;00m err:\n\u001b[0;32m-> 1773\u001b[0m     \u001b[38;5;28;01mraise\u001b[39;00m err\n",
            "File \u001b[0;32m/usr/local/lib/python3.10/site-packages/polly/omixatlas.py:1768\u001b[0m, in \u001b[0;36mOmixAtlas.add_datasets\u001b[0;34m(self, repo_id, source_folder_path, priority, validation)\u001b[0m\n\u001b[1;32m   1648\u001b[0m \u001b[38;5;28;01mtry\u001b[39;00m:\n\u001b[1;32m   1649\u001b[0m     \u001b[38;5;66;03m# parameters check\u001b[39;00m\n\u001b[1;32m   1650\u001b[0m     \u001b[38;5;66;03m# self._parameter_check_for_add_dataset(\u001b[39;00m\n\u001b[0;32m   (...)\u001b[0m\n\u001b[1;32m   1764\u001b[0m     \u001b[38;5;66;03m#         f\"\\nDestination folder path considered for ingestion request: {destination_folder_path}\"\u001b[39;00m\n\u001b[1;32m   1765\u001b[0m     \u001b[38;5;66;03m#     )\u001b[39;00m\n\u001b[1;32m   1767\u001b[0m     files_obj \u001b[38;5;241m=\u001b[39m Files()\n\u001b[0;32m-> 1768\u001b[0m     data_upload_results_df \u001b[38;5;241m=\u001b[39m \u001b[43mfiles_obj\u001b[49m\u001b[38;5;241;43m.\u001b[39;49m\u001b[43madd_datasets\u001b[49m\u001b[43m(\u001b[49m\n\u001b[1;32m   1769\u001b[0m \u001b[43m        \u001b[49m\u001b[38;5;28;43mself\u001b[39;49m\u001b[43m,\u001b[49m\u001b[43m \u001b[49m\u001b[43mrepo_id\u001b[49m\u001b[43m,\u001b[49m\u001b[43m \u001b[49m\u001b[43msource_folder_path\u001b[49m\u001b[43m,\u001b[49m\u001b[43m \u001b[49m\u001b[43mpriority\u001b[49m\u001b[43m,\u001b[49m\u001b[43m \u001b[49m\u001b[43mvalidation\u001b[49m\n\u001b[1;32m   1770\u001b[0m \u001b[43m    \u001b[49m\u001b[43m)\u001b[49m\n\u001b[1;32m   1771\u001b[0m     \u001b[38;5;28;01mreturn\u001b[39;00m data_upload_results_df\n\u001b[1;32m   1772\u001b[0m \u001b[38;5;28;01mexcept\u001b[39;00m \u001b[38;5;167;01mException\u001b[39;00m \u001b[38;5;28;01mas\u001b[39;00m err:\n",
            "File \u001b[0;32m/usr/local/lib/python3.10/site-packages/polly_services/files/files.py:44\u001b[0m, in \u001b[0;36mFiles.add_datasets\u001b[0;34m(self, polly_session, repo_id, source_folder_path, priority, validation)\u001b[0m\n\u001b[1;32m     38\u001b[0m data_file_list, metadata_file_list \u001b[38;5;241m=\u001b[39m files_hlpr\u001b[38;5;241m.\u001b[39mcreate_file_list(\n\u001b[1;32m     39\u001b[0m     source_folder_path\n\u001b[1;32m     40\u001b[0m )\n\u001b[1;32m     42\u001b[0m \u001b[38;5;66;03m# data metadata file mapping\u001b[39;00m\n\u001b[1;32m     43\u001b[0m \u001b[38;5;66;03m# initial data metadata mapping dict containing all the files\u001b[39;00m\n\u001b[0;32m---> 44\u001b[0m data_metadata_mapping \u001b[38;5;241m=\u001b[39m \u001b[43mfiles_hlpr\u001b[49m\u001b[38;5;241;43m.\u001b[39;49m\u001b[43mmap_data_metadata_files\u001b[49m\u001b[43m(\u001b[49m\n\u001b[1;32m     45\u001b[0m \u001b[43m    \u001b[49m\u001b[43mdata_file_list\u001b[49m\u001b[43m,\u001b[49m\u001b[43m \u001b[49m\u001b[43mmetadata_file_list\u001b[49m\u001b[43m,\u001b[49m\u001b[43m \u001b[49m\u001b[43msource_folder_path\u001b[49m\n\u001b[1;32m     46\u001b[0m \u001b[43m\u001b[49m\u001b[43m)\u001b[49m\n\u001b[1;32m     48\u001b[0m validation_dataset_lvl \u001b[38;5;241m=\u001b[39m {}\n\u001b[1;32m     49\u001b[0m \u001b[38;5;28;01mif\u001b[39;00m validation:\n",
            "File \u001b[0;32m/usr/local/lib/python3.10/site-packages/polly_services/files/files_hlpr.py:164\u001b[0m, in \u001b[0;36mmap_data_metadata_files\u001b[0;34m(data_file_list, metadata_file_list, source_folder_path)\u001b[0m\n\u001b[1;32m    162\u001b[0m     \u001b[38;5;28;01mreturn\u001b[39;00m final_data_metadata_mapping_dict\n\u001b[1;32m    163\u001b[0m \u001b[38;5;28;01mexcept\u001b[39;00m \u001b[38;5;167;01mException\u001b[39;00m \u001b[38;5;28;01mas\u001b[39;00m err:\n\u001b[0;32m--> 164\u001b[0m     \u001b[38;5;28;01mraise\u001b[39;00m err\n",
            "File \u001b[0;32m/usr/local/lib/python3.10/site-packages/polly_services/files/files_hlpr.py:157\u001b[0m, in \u001b[0;36mmap_data_metadata_files\u001b[0;34m(data_file_list, metadata_file_list, source_folder_path)\u001b[0m\n\u001b[1;32m    148\u001b[0m     metadata_file_names_str \u001b[38;5;241m=\u001b[39m create_file_name_with_extension_list(\n\u001b[1;32m    149\u001b[0m         metadata_file_list, file_ext_req\u001b[38;5;241m=\u001b[39m\u001b[38;5;28;01mFalse\u001b[39;00m\n\u001b[1;32m    150\u001b[0m     )\n\u001b[1;32m    151\u001b[0m     (\n\u001b[1;32m    152\u001b[0m         data_metadata_mapping_dict,\n\u001b[1;32m    153\u001b[0m         unmapped_data_file_names,\n\u001b[1;32m    154\u001b[0m         unmapped_metadata_file_names,\n\u001b[1;32m    155\u001b[0m     ) \u001b[38;5;241m=\u001b[39m data_metadata_file_dict(metadata_file_names_str, data_file_names_str)\n\u001b[0;32m--> 157\u001b[0m     final_data_metadata_mapping_dict \u001b[38;5;241m=\u001b[39m \u001b[43mdata_metadata_file_mapping_conditions\u001b[49m\u001b[43m(\u001b[49m\n\u001b[1;32m    158\u001b[0m \u001b[43m        \u001b[49m\u001b[43munmapped_data_file_names\u001b[49m\u001b[43m,\u001b[49m\n\u001b[1;32m    159\u001b[0m \u001b[43m        \u001b[49m\u001b[43munmapped_metadata_file_names\u001b[49m\u001b[43m,\u001b[49m\n\u001b[1;32m    160\u001b[0m \u001b[43m        \u001b[49m\u001b[43mdata_metadata_mapping_dict\u001b[49m\u001b[43m,\u001b[49m\n\u001b[1;32m    161\u001b[0m \u001b[43m    \u001b[49m\u001b[43m)\u001b[49m\n\u001b[1;32m    162\u001b[0m     \u001b[38;5;28;01mreturn\u001b[39;00m final_data_metadata_mapping_dict\n\u001b[1;32m    163\u001b[0m \u001b[38;5;28;01mexcept\u001b[39;00m \u001b[38;5;167;01mException\u001b[39;00m \u001b[38;5;28;01mas\u001b[39;00m err:\n",
            "File \u001b[0;32m/usr/local/lib/python3.10/site-packages/polly_services/files/files_hlpr.py:470\u001b[0m, in \u001b[0;36mdata_metadata_file_mapping_conditions\u001b[0;34m(unmapped_data_file_names, unmapped_metadata_file_names, data_metadata_mapping_dict)\u001b[0m\n\u001b[1;32m    464\u001b[0m     \u001b[38;5;28;01mraise\u001b[39;00m paramException(\n\u001b[1;32m    465\u001b[0m         title\u001b[38;5;241m=\u001b[39m\u001b[38;5;124m\"\u001b[39m\u001b[38;5;124mMissing files\u001b[39m\u001b[38;5;124m\"\u001b[39m,\n\u001b[1;32m    466\u001b[0m         detail\u001b[38;5;241m=\u001b[39m\u001b[38;5;124mf\u001b[39m\u001b[38;5;124m\"\u001b[39m\u001b[38;5;124m No metadata for these data files \u001b[39m\u001b[38;5;132;01m{\u001b[39;00munmapped_data_file_names\u001b[38;5;132;01m}\u001b[39;00m\u001b[38;5;124m\"\u001b[39m\n\u001b[1;32m    467\u001b[0m         \u001b[38;5;241m+\u001b[39m \u001b[38;5;124m\"\u001b[39m\u001b[38;5;124m. Please add the relevant files or remove them.\u001b[39m\u001b[38;5;124m\"\u001b[39m,\n\u001b[1;32m    468\u001b[0m     )\n\u001b[1;32m    469\u001b[0m \u001b[38;5;28;01melif\u001b[39;00m \u001b[38;5;28mlen\u001b[39m(unmapped_metadata_file_names) \u001b[38;5;241m>\u001b[39m \u001b[38;5;241m0\u001b[39m:\n\u001b[0;32m--> 470\u001b[0m     \u001b[38;5;28;01mraise\u001b[39;00m paramException(\n\u001b[1;32m    471\u001b[0m         title\u001b[38;5;241m=\u001b[39m\u001b[38;5;124m\"\u001b[39m\u001b[38;5;124mMissing files\u001b[39m\u001b[38;5;124m\"\u001b[39m,\n\u001b[1;32m    472\u001b[0m         detail\u001b[38;5;241m=\u001b[39m\u001b[38;5;124mf\u001b[39m\u001b[38;5;124m\"\u001b[39m\u001b[38;5;124mNo data for these metadata files \u001b[39m\u001b[38;5;132;01m{\u001b[39;00munmapped_metadata_file_names\u001b[38;5;132;01m}\u001b[39;00m\u001b[38;5;124m\"\u001b[39m\n\u001b[1;32m    473\u001b[0m         \u001b[38;5;241m+\u001b[39m \u001b[38;5;124m\"\u001b[39m\u001b[38;5;124m. Please add the relevant files or remove them.\u001b[39m\u001b[38;5;124m\"\u001b[39m,\n\u001b[1;32m    474\u001b[0m     )\n\u001b[1;32m    475\u001b[0m \u001b[38;5;28;01melse\u001b[39;00m:\n\u001b[1;32m    476\u001b[0m     \u001b[38;5;28;01mreturn\u001b[39;00m data_metadata_mapping_dict\n",
            "\u001b[0;31mparamException\u001b[0m: paramException (parameter error): No data for these metadata files ['temp']. Please add the relevant files or remove them."
          ]
        }
      ],
      "source": [
        "# Testing point 7\n",
        "# unmapped file metadata\n",
        "\n",
        "repo_id = \"1654268055800\"\n",
        "source_folder_path_data = \"/import/data\"\n",
        "source_folder_metadata = \"/import/metadata\"\n",
        "priority = \"high\"\n",
        "source_folder_path = {\"data\":source_folder_path_data, \"metadata\":source_folder_metadata}\n",
        "omixatlas.add_datasets(repo_id, source_folder_path, priority)"
      ]
    },
    {
      "cell_type": "code",
      "execution_count": 11,
      "metadata": {},
      "outputs": [
        {
          "name": "stderr",
          "output_type": "stream",
          "text": [
            "Processing Metadata files:   0%|          | 0/3 [00:00<?, ?it/s]WARNING: The dataset_id is not present in the file: GSE100467_GPL11154.json for repo: 1654268055800. This file is skipped in ingestion. Please put the dataset_id in the metadata file, and ingest again.\n",
            "WARNING: The dataset_id is not present in the file: GSE95640_GPL11154.json for repo: 1654268055800. This file is skipped in ingestion. Please put the dataset_id in the metadata file, and ingest again.\n",
            "WARNING: The dataset_id is not present in the file: GSE76311_GPL17586.json for repo: 1654268055800. This file is skipped in ingestion. Please put the dataset_id in the metadata file, and ingest again.\n",
            "Processing Metadata files: 100%|██████████| 3/3 [00:00<00:00, 2685.79it/s]\n"
          ]
        },
        {
          "data": {
            "text/html": [
              "<div>\n",
              "<style scoped>\n",
              "    .dataframe tbody tr th:only-of-type {\n",
              "        vertical-align: middle;\n",
              "    }\n",
              "\n",
              "    .dataframe tbody tr th {\n",
              "        vertical-align: top;\n",
              "    }\n",
              "\n",
              "    .dataframe thead th {\n",
              "        text-align: right;\n",
              "    }\n",
              "</style>\n",
              "<table border=\"1\" class=\"dataframe\">\n",
              "  <thead>\n",
              "    <tr style=\"text-align: right;\">\n",
              "      <th></th>\n",
              "    </tr>\n",
              "  </thead>\n",
              "  <tbody>\n",
              "  </tbody>\n",
              "</table>\n",
              "</div>"
            ],
            "text/plain": [
              "Empty DataFrame\n",
              "Columns: []\n",
              "Index: []"
            ]
          },
          "execution_count": 11,
          "metadata": {},
          "output_type": "execute_result"
        }
      ],
      "source": [
        "# Testing point 8\n",
        "# Some files have no dataset id\n",
        "# in that case -> files will be skipped\n",
        "\n",
        "# IGNORE URL PRINTS -> WILL BE REMOVED IN THE FINAL BUILD\n",
        "\n",
        "repo_id = \"1654268055800\"\n",
        "source_folder_path_data = \"/import/data\"\n",
        "source_folder_metadata = \"/import/metadata\"\n",
        "priority = \"high\"\n",
        "source_folder_path = {\"data\":source_folder_path_data, \"metadata\":source_folder_metadata}\n",
        "omixatlas.add_datasets(repo_id, source_folder_path, priority)"
      ]
    },
    {
      "cell_type": "code",
      "execution_count": 6,
      "metadata": {},
      "outputs": [
        {
          "name": "stdout",
          "output_type": "stream",
          "text": [
            "/bin/bash: warning: setlocale: LC_ALL: cannot change locale (en_US.UTF-8)\n",
            "Success: Installed optional packages!\n",
            "\u001b[2K\u001b[1GCompleted 1.4 KiB/1.4 KiB (14.6 KiB/s) with 1 file(s) remainingSync complete!\n"
          ]
        }
      ],
      "source": [
        "!polly files sync -s \"polly://already_ingested_metadata/\" -d \"already_ingested_metadata/\" -y"
      ]
    },
    {
      "cell_type": "code",
      "execution_count": 7,
      "metadata": {},
      "outputs": [
        {
          "name": "stdout",
          "output_type": "stream",
          "text": [
            "/bin/bash: warning: setlocale: LC_ALL: cannot change locale (en_US.UTF-8)\n",
            "\u001b[2K\u001b[1GCompleted 589.9 KiB/589.9 KiB (3.6 MiB/s) with 1 file(s) remainingSync complete!\n"
          ]
        }
      ],
      "source": [
        "!polly files sync -s \"polly://already_ingested_data/\" -d \"already_ingested_data/\" -y"
      ]
    },
    {
      "cell_type": "code",
      "execution_count": 8,
      "metadata": {},
      "outputs": [
        {
          "name": "stderr",
          "output_type": "stream",
          "text": [
            "\r",
            "Processing Metadata files:   0%|          | 0/1 [00:00<?, ?it/s]"
          ]
        },
        {
          "name": "stdout",
          "output_type": "stream",
          "text": [
            "---final destination_folder_endpoint----\n",
            "https://api.discover.testpolly.elucidata.io/repositories/1673847977346/files/?list_folders=true&dataset_id=GSE2067_GPL96\n"
          ]
        },
        {
          "name": "stderr",
          "output_type": "stream",
          "text": [
            "WARNING: The dataset_id: GSE2067_GPL96 is already ingested for repo: 1673847977346. Please use update_dataset function to update the file. \n",
            "Processing Metadata files: 100%|██████████| 1/1 [00:00<00:00,  1.21it/s]"
          ]
        },
        {
          "name": "stdout",
          "output_type": "stream",
          "text": [
            "----response data--------\n",
            "{'data': {'id': 'GSE2067_GPL96', 'type': 'file_paths', 'attributes': {'file_paths': ['GSE2067_GPL96.gct']}}}\n"
          ]
        },
        {
          "name": "stderr",
          "output_type": "stream",
          "text": [
            "\n"
          ]
        },
        {
          "data": {
            "text/html": [
              "<div>\n",
              "<style scoped>\n",
              "    .dataframe tbody tr th:only-of-type {\n",
              "        vertical-align: middle;\n",
              "    }\n",
              "\n",
              "    .dataframe tbody tr th {\n",
              "        vertical-align: top;\n",
              "    }\n",
              "\n",
              "    .dataframe thead th {\n",
              "        text-align: right;\n",
              "    }\n",
              "</style>\n",
              "<table border=\"1\" class=\"dataframe\">\n",
              "  <thead>\n",
              "    <tr style=\"text-align: right;\">\n",
              "      <th></th>\n",
              "    </tr>\n",
              "  </thead>\n",
              "  <tbody>\n",
              "  </tbody>\n",
              "</table>\n",
              "</div>"
            ],
            "text/plain": [
              "Empty DataFrame\n",
              "Columns: []\n",
              "Index: []"
            ]
          },
          "execution_count": 8,
          "metadata": {},
          "output_type": "execute_result"
        }
      ],
      "source": [
        "# Testing point 9\n",
        "# files already ingested -> will not be again ingested by add datasets\n",
        "# ONLY FILES WHICH HAVE COMPLETED INGESTION -> INGESTION IS SHOWN COMPLETE IN INGESTION DASHBOARD\n",
        "# users need to use update datasets\n",
        "\n",
        "# lib_repo_dev\n",
        "repo_id = \"1673847977346\"\n",
        "source_folder_path_data = \"/import/already_ingested_data\"\n",
        "source_folder_metadata = \"/import/already_ingested_metadata\"\n",
        "priority = \"high\"\n",
        "source_folder_path = {\"data\":source_folder_path_data, \"metadata\":source_folder_metadata}\n",
        "omixatlas.add_datasets(repo_id, source_folder_path, priority)\n"
      ]
    },
    {
      "cell_type": "code",
      "execution_count": 12,
      "metadata": {},
      "outputs": [
        {
          "name": "stderr",
          "output_type": "stream",
          "text": [
            "\r",
            "Processing Metadata files:   0%|          | 0/3 [00:00<?, ?it/s]"
          ]
        },
        {
          "name": "stdout",
          "output_type": "stream",
          "text": [
            "---final destination_folder_endpoint----\n",
            "https://api.discover.testpolly.elucidata.io/repositories/1673847977346/files/?list_folders=true&dataset_id=GSE100467_GPL11154\n"
          ]
        },
        {
          "name": "stderr",
          "output_type": "stream",
          "text": [
            "\r",
            "Processing Metadata files:  33%|███▎      | 1/3 [00:00<00:01,  1.26it/s]"
          ]
        },
        {
          "name": "stdout",
          "output_type": "stream",
          "text": [
            "---final destination_folder_endpoint----\n",
            "https://api.discover.testpolly.elucidata.io/repositories/1673847977346/files/?list_folders=true&dataset_id=GSE95640_GPL11154\n"
          ]
        },
        {
          "name": "stderr",
          "output_type": "stream",
          "text": [
            "WARNING: The dataset_id: GSE95640_GPL11154 is already ingested for repo: 1673847977346. Please use update_dataset function to update the file. \n",
            "\r",
            "Processing Metadata files:  67%|██████▋   | 2/3 [00:01<00:00,  1.26it/s]"
          ]
        },
        {
          "name": "stdout",
          "output_type": "stream",
          "text": [
            "----response data--------\n",
            "{'data': {'id': 'GSE95640_GPL11154', 'type': 'file_paths', 'attributes': {'file_paths': ['transcriptomics_610/GSE95640_GPL11154.gct']}}}\n",
            "---final destination_folder_endpoint----\n",
            "https://api.discover.testpolly.elucidata.io/repositories/1673847977346/files/?list_folders=true&dataset_id=GSE76311_GPL17586\n"
          ]
        },
        {
          "name": "stderr",
          "output_type": "stream",
          "text": [
            "WARNING: The dataset_id: GSE76311_GPL17586 is already ingested for repo: 1673847977346. Please use update_dataset function to update the file. \n",
            "Processing Metadata files: 100%|██████████| 3/3 [00:02<00:00,  1.31it/s]"
          ]
        },
        {
          "name": "stdout",
          "output_type": "stream",
          "text": [
            "----response data--------\n",
            "{'data': {'id': 'GSE76311_GPL17586', 'type': 'file_paths', 'attributes': {'file_paths': ['transcriptomics_306/GSE76311_GPL17586.gct', 'transcriptomics_610/GSE76311_GPL17586.gct']}}}\n"
          ]
        },
        {
          "name": "stderr",
          "output_type": "stream",
          "text": [
            "\n",
            "Uploading data files:   0%|          | 0/1 [00:00<?, ?files/s]"
          ]
        },
        {
          "name": "stdout",
          "output_type": "stream",
          "text": [
            "----file_path-------\n",
            "/import/data/GSE100467_GPL11154.gct\n"
          ]
        },
        {
          "name": "stderr",
          "output_type": "stream",
          "text": [
            "Uploading data files: 100%|██████████| 1/1 [00:08<00:00,  8.62s/files]\n"
          ]
        },
        {
          "name": "stdout",
          "output_type": "stream",
          "text": [
            "Please wait for 30 seconds while your ingestion request is getting logged.\n",
            "\n",
            "\n",
            "Your request is successfully logged. You can go to ingestion monitoring dashboard for tracking it's status.\n",
            "\n",
            "                 File Name        Message\n",
            "0  combined_metadata.json  File Uploaded\n",
            "1  GSE100467_GPL11154.gct  File Uploaded\n"
          ]
        },
        {
          "data": {
            "text/html": [
              "<div>\n",
              "<style scoped>\n",
              "    .dataframe tbody tr th:only-of-type {\n",
              "        vertical-align: middle;\n",
              "    }\n",
              "\n",
              "    .dataframe tbody tr th {\n",
              "        vertical-align: top;\n",
              "    }\n",
              "\n",
              "    .dataframe thead th {\n",
              "        text-align: right;\n",
              "    }\n",
              "</style>\n",
              "<table border=\"1\" class=\"dataframe\">\n",
              "  <thead>\n",
              "    <tr style=\"text-align: right;\">\n",
              "      <th></th>\n",
              "      <th>File Name</th>\n",
              "      <th>Message</th>\n",
              "    </tr>\n",
              "  </thead>\n",
              "  <tbody>\n",
              "    <tr>\n",
              "      <th>0</th>\n",
              "      <td>combined_metadata.json</td>\n",
              "      <td>File Uploaded</td>\n",
              "    </tr>\n",
              "    <tr>\n",
              "      <th>1</th>\n",
              "      <td>GSE100467_GPL11154.gct</td>\n",
              "      <td>File Uploaded</td>\n",
              "    </tr>\n",
              "  </tbody>\n",
              "</table>\n",
              "</div>"
            ],
            "text/plain": [
              "                File Name        Message\n",
              "0  combined_metadata.json  File Uploaded\n",
              "1  GSE100467_GPL11154.gct  File Uploaded"
            ]
          },
          "execution_count": 12,
          "metadata": {},
          "output_type": "execute_result"
        }
      ],
      "source": [
        "# Positive case\n",
        "# Testing point 10\n",
        "\n",
        "# lib_repo_dev\n",
        "repo_id = \"1673847977346\"\n",
        "source_folder_path_data = \"/import/data\"\n",
        "source_folder_metadata = \"/import/metadata\"\n",
        "priority = \"high\"\n",
        "source_folder_path = {\"data\":source_folder_path_data, \"metadata\":source_folder_metadata}\n",
        "omixatlas.add_datasets(repo_id, source_folder_path, priority)"
      ]
    },
    {
      "cell_type": "code",
      "execution_count": null,
      "metadata": {},
      "outputs": [],
      "source": []
    }
  ],
  "metadata": {
    "kernelspec": {
      "display_name": "Python 3 (ipykernel)",
      "language": "python",
      "name": "python3"
    },
    "language_info": {
      "codemirror_mode": {
        "name": "ipython",
        "version": 3
      },
      "file_extension": ".py",
      "mimetype": "text/x-python",
      "name": "python",
      "nbconvert_exporter": "python",
      "pygments_lexer": "ipython3",
      "version": "3.10.2"
    }
  },
  "nbformat": 4,
  "nbformat_minor": 2
}
