{
 "cells": [
  {
   "cell_type": "markdown",
   "metadata": {},
   "source": [
    "# Welcome to Polly Python3 Notebook."
   ]
  },
  {
   "cell_type": "markdown",
   "metadata": {},
   "source": [
    "## Install polly-python"
   ]
  },
  {
   "cell_type": "code",
   "execution_count": 9,
   "metadata": {},
   "outputs": [
    {
     "name": "stdout",
     "output_type": "stream",
     "text": [
      "Requirement already satisfied: polly-python in /usr/local/lib/python3.6/dist-packages (0.0.6)\n",
      "Requirement already satisfied: chardet==4.0.0 in /usr/local/lib/python3.6/dist-packages (from polly-python) (4.0.0)\n",
      "Requirement already satisfied: requests==2.25.1 in /usr/local/lib/python3.6/dist-packages (from polly-python) (2.25.1)\n",
      "Requirement already satisfied: postpy2==0.0.6 in /usr/local/lib/python3.6/dist-packages (from polly-python) (0.0.6)\n",
      "Requirement already satisfied: urllib3==1.26.6 in /usr/local/lib/python3.6/dist-packages (from polly-python) (1.26.6)\n",
      "Requirement already satisfied: python-magic==0.4.24 in /usr/local/lib/python3.6/dist-packages (from polly-python) (0.4.24)\n",
      "Requirement already satisfied: idna==2.10 in /usr/local/lib/python3.6/dist-packages (from polly-python) (2.10)\n",
      "Requirement already satisfied: certifi==2021.5.30 in /usr/local/lib/python3.6/dist-packages (from polly-python) (2021.5.30)\n",
      "Requirement already satisfied: pytz==2021.1 in /usr/local/lib/python3.6/dist-packages (from polly-python) (2021.1)\n",
      "Requirement already satisfied: pandas in /usr/local/lib/python3.6/dist-packages (from polly-python) (1.0.1)\n",
      "Requirement already satisfied: six==1.16.0 in /usr/local/lib/python3.6/dist-packages (from polly-python) (1.16.0)\n",
      "Requirement already satisfied: python-dateutil==2.8.1 in /usr/local/lib/python3.6/dist-packages (from polly-python) (2.8.1)\n",
      "Requirement already satisfied: numpy>=1.13.3 in /usr/local/lib/python3.6/dist-packages (from pandas->polly-python) (1.18.1)\n",
      "\u001b[33mWARNING: You are using pip version 19.2.3, however version 21.3.1 is available.\n",
      "You should consider upgrading via the 'pip install --upgrade pip' command.\u001b[0m\n"
     ]
    }
   ],
   "source": [
    "!sudo pip3 install polly-python"
   ]
  },
  {
   "cell_type": "markdown",
   "metadata": {},
   "source": [
    "## Import required dependencies"
   ]
  },
  {
   "cell_type": "code",
   "execution_count": 10,
   "metadata": {},
   "outputs": [],
   "source": [
    "import os\n",
    "from polly.omixatlas import OmixAtlas"
   ]
  },
  {
   "cell_type": "markdown",
   "metadata": {},
   "source": [
    "## Auth with token on Polly"
   ]
  },
  {
   "cell_type": "code",
   "execution_count": 11,
   "metadata": {},
   "outputs": [],
   "source": [
    "client = OmixAtlas(os.environ['POLLY_REFRESH_TOKEN'])"
   ]
  },
  {
   "cell_type": "markdown",
   "metadata": {},
   "source": [
    "## Downloading data of dataset_id GSE100003_GPL15207 and repo_id 9"
   ]
  },
  {
   "cell_type": "code",
   "execution_count": 12,
   "metadata": {},
   "outputs": [
    {
     "name": "stdout",
     "output_type": "stream",
     "text": [
      "Downloaded data successfully\n"
     ]
    }
   ],
   "source": [
    "dataset_id = \"GSE100003_GPL15207\"\n",
    "repo_id = 9\n",
    "file_name = f\"{dataset_id}.gct\"\n",
    "data = client.download_data(repo_id, dataset_id)\n",
    "url = data.get('data').get('attributes').get('download_url')\n",
    "status = os.system(f\"wget -O '{file_name}' '{url}'\")\n",
    "if status == 0:\n",
    "    print(\"Downloaded data successfully\")\n",
    "else:\n",
    "    raise Exception(\"Download not successful\")\n"
   ]
  },
  {
   "cell_type": "code",
   "execution_count": null,
   "metadata": {},
   "outputs": [],
   "source": []
  }
 ],
 "metadata": {
  "kernelspec": {
   "display_name": "Python 3",
   "language": "python",
   "name": "python3"
  },
  "language_info": {
   "codemirror_mode": {
    "name": "ipython",
    "version": 3
   },
   "file_extension": ".py",
   "mimetype": "text/x-python",
   "name": "python",
   "nbconvert_exporter": "python",
   "pygments_lexer": "ipython3",
   "version": "3.6.9"
  }
 },
 "nbformat": 4,
 "nbformat_minor": 2
}
