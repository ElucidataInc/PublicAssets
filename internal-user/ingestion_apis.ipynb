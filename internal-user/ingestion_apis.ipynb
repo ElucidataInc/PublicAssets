{
 "cells": [
  {
   "cell_type": "code",
   "execution_count": 1,
   "id": "8953ef1a",
   "metadata": {},
   "outputs": [],
   "source": [
    "import io\n",
    "import os\n",
    "import json\n",
    "from pathlib import Path\n",
    "\n",
    "import boto3\n",
    "import requests\n",
    "from requests import Session"
   ]
  },
  {
   "cell_type": "code",
   "execution_count": 2,
   "id": "29a36495",
   "metadata": {},
   "outputs": [],
   "source": [
    "env = \"devpolly\"\n",
    "token = \"\"\n",
    "\n",
    "repo_id = \"1644896537390\"\n",
    "local_path_to_datasets = \"testing/TXT\"\n",
    "subfolder_path_in_datalake = \"testing/TXT\""
   ]
  },
  {
   "cell_type": "code",
   "execution_count": 3,
   "id": "27144173",
   "metadata": {},
   "outputs": [],
   "source": [
    "class UnauthorizedException(Exception):\n",
    "    def __str__(self):\n",
    "        return f\"Authorization failed\"\n",
    "\n",
    "\n",
    "class PollySession(Session):\n",
    "    def __init__(self, token):\n",
    "        Session.__init__(self)\n",
    "        self.headers = {\n",
    "            \"Content-Type\": \"application/vnd.api+json\",\n",
    "            \"Cookie\": f\"refreshToken={token}\",\n",
    "            \"User-Agent\": \"jupyter-notebook\",\n",
    "        }\n",
    "\n",
    "\n",
    "class Polly:\n",
    "    default_session = None\n",
    "\n",
    "    @classmethod\n",
    "    def auth(cls, token):\n",
    "        cls.default_session = PollySession(token)\n",
    "\n",
    "    @classmethod\n",
    "    def get_session(cls, token=None):\n",
    "        if not token:\n",
    "            if not cls.default_session:\n",
    "                raise UnauthorizedException\n",
    "            else:\n",
    "                return cls.default_session\n",
    "        else:\n",
    "            return PollySession(token)"
   ]
  },
  {
   "cell_type": "code",
   "execution_count": 4,
   "id": "262b340f",
   "metadata": {},
   "outputs": [],
   "source": [
    "session = Polly.get_session(token)"
   ]
  },
  {
   "cell_type": "code",
   "execution_count": 5,
   "id": "2b3dc748",
   "metadata": {},
   "outputs": [],
   "source": [
    "url_discover = f\"https://api.discover.{env}.elucidata.io\"\n",
    "files_api_endpoint = f\"{url_discover}/repositories/{repo_id}/files\""
   ]
  },
  {
   "cell_type": "code",
   "execution_count": 6,
   "id": "9aee63c0",
   "metadata": {},
   "outputs": [],
   "source": [
    "def generate_upload_urls():\n",
    "    response = session.post(files_api_endpoint, json={\n",
    "        \"data\": {\n",
    "            \"type\": \"files\",\n",
    "            \"attributes\": {\n",
    "                \"folder\": subfolder_path_in_datalake\n",
    "            }\n",
    "        }\n",
    "    })\n",
    "    response.raise_for_status()\n",
    "    \n",
    "    response_data = response.json()\n",
    "    data_upload_details = response_data.get(\"data\", {}).get(\"attributes\", {}).get(\"data_upload_url\")\n",
    "    metadata_upload_details = response_data.get(\"data\", {}).get(\"attributes\", {}).get(\"metadata_upload_url\")\n",
    "    return data_upload_details, metadata_upload_details"
   ]
  },
  {
   "cell_type": "code",
   "execution_count": 28,
   "id": "8e6c5470",
   "metadata": {},
   "outputs": [],
   "source": [
    "data_upload, metadata_upload = generate_upload_urls()"
   ]
  },
  {
   "cell_type": "code",
   "execution_count": 40,
   "id": "69faef38",
   "metadata": {},
   "outputs": [
    {
     "name": "stdout",
     "output_type": "stream",
     "text": [
      "Upload response for testing/TXT/test1.txt: 204\n",
      "Upload response for testing/TXT/test2.txt: 204\n",
      "Upload response for testing/TXT/test3.txt: 204\n"
     ]
    }
   ],
   "source": [
    "directory = os.fsencode(local_path_to_datasets)\n",
    "for file in os.listdir(directory):\n",
    "    filename = str(Path(local_path_to_datasets) / Path(os.fsdecode(file)))\n",
    "    with open(filename, 'rb') as file_to_upload:\n",
    "        files = {'file': (filename, file_to_upload)}\n",
    "        upload_response = requests.post(\n",
    "            data_upload['url'],\n",
    "            data=data_upload['fields'],\n",
    "            files=files\n",
    "        )\n",
    "    print(f\"Upload response for {filename}: {upload_response.status_code}\")"
   ]
  },
  {
   "cell_type": "code",
   "execution_count": 41,
   "id": "b15b6928",
   "metadata": {},
   "outputs": [],
   "source": [
    "metadata_file_content = {\n",
    "    \"data\": [\n",
    "        {\n",
    "            \"id\": \"testing/TXT/test1.txt\",\n",
    "            \"type\": \"file_metadata\",\n",
    "            \"attributes\": {\n",
    "                \"dataset_id\": \"test_text1\",\n",
    "                \"prop_1\": \"value_1\",\n",
    "                \"prop_2\": \"value_2\",\n",
    "            }\n",
    "        },\n",
    "        {\n",
    "            \"id\": \"testing/TXT/test2.txt\",\n",
    "            \"type\": \"file_metadata\",\n",
    "            \"attributes\": {\n",
    "                \"dataset_id\": \"test_text2\",\n",
    "                \"prop_1\": \"value_1\",\n",
    "                \"prop_2\": \"value_2\",\n",
    "            }\n",
    "        },\n",
    "        {\n",
    "            \"id\": \"testing/TXT/test3.txt\",\n",
    "            \"type\": \"file_metadata\",\n",
    "            \"attributes\": {\n",
    "                \"dataset_id\": \"test_text3\",\n",
    "                \"prop_1\": \"value_1\",\n",
    "                \"prop_2\": \"value_2\",\n",
    "            }\n",
    "        },\n",
    "    ]\n",
    "}"
   ]
  },
  {
   "cell_type": "code",
   "execution_count": 42,
   "id": "9cef08c8",
   "metadata": {},
   "outputs": [
    {
     "name": "stdout",
     "output_type": "stream",
     "text": [
      "Upload response for metadata.json: 204\n"
     ]
    }
   ],
   "source": [
    "metadata_buffer_str = io.StringIO()\n",
    "json.dump(metadata_file_content, metadata_buffer_str)\n",
    "metadata_buffer = io.BytesIO(metadata_buffer_str.getvalue().encode())\n",
    "\n",
    "metadata_filename = \"metadata.json\"\n",
    "metadata_files = {'file': (metadata_filename, metadata_buffer)}\n",
    "upload_response = requests.post(\n",
    "    metadata_upload['url'],\n",
    "    data=metadata_upload['fields'],\n",
    "    files=metadata_files\n",
    ")\n",
    "print(f\"Upload response for {metadata_filename}: {upload_response.status_code}\")"
   ]
  },
  {
   "cell_type": "code",
   "execution_count": null,
   "id": "07528267",
   "metadata": {},
   "outputs": [],
   "source": []
  }
 ],
 "metadata": {
  "kernelspec": {
   "display_name": "Python 3.8.11 64-bit ('polly_data': conda)",
   "language": "python",
   "name": "python3811jvsc74a57bd0569c78221890c9948a046a01d57f865b1bf92f58aec4407f463a04a2a3230a52"
  },
  "language_info": {
   "codemirror_mode": {
    "name": "ipython",
    "version": 3
   },
   "file_extension": ".py",
   "mimetype": "text/x-python",
   "name": "python",
   "nbconvert_exporter": "python",
   "pygments_lexer": "ipython3",
   "version": "3.8.11"
  }
 },
 "nbformat": 4,
 "nbformat_minor": 5
}
