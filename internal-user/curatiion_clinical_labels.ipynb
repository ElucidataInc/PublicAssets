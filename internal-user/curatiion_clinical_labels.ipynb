{
 "cells": [
  {
   "cell_type": "markdown",
   "metadata": {},
   "source": [
    "# Welcome to Polly Python3 Notebook."
   ]
  },
  {
   "cell_type": "code",
   "execution_count": 1,
   "metadata": {},
   "outputs": [],
   "source": [
    "# please do not modify\n",
    "from IPython.display import display_html\n",
    "def restartkernel() :\n",
    "    display_html(\"<script>Jupyter.notebook.kernel.restart()</script>\",raw=True)"
   ]
  },
  {
   "cell_type": "code",
   "execution_count": 2,
   "metadata": {},
   "outputs": [
    {
     "name": "stdout",
     "output_type": "stream",
     "text": [
      "/bin/bash: warning: setlocale: LC_ALL: cannot change locale (en_US.UTF-8)\n",
      "Collecting polly-python==0.2.6-clinicallabel\n",
      "  Downloading https://elucidatainc.github.io/PublicAssets/builds/polly-python/tests/polly/polly_python-0.2.6_clinicallabel-py3-none-any.whl (104 kB)\n",
      "\u001b[K     |████████████████████████████████| 104 kB 7.0 MB/s eta 0:00:01\n",
      "\u001b[?25hRequirement already satisfied: six==1.16.0 in /usr/local/lib/python3.10/site-packages (from polly-python==0.2.6-clinicallabel) (1.16.0)\n",
      "Collecting pydantic==1.9.1\n",
      "  Downloading pydantic-1.9.1-cp310-cp310-manylinux_2_17_x86_64.manylinux2014_x86_64.whl (12.0 MB)\n",
      "\u001b[K     |████████████████████████████████| 12.0 MB 5.5 MB/s eta 0:00:01\n",
      "\u001b[?25hRequirement already satisfied: boto3>=1.17.73 in /usr/local/lib/python3.10/site-packages (from polly-python==0.2.6-clinicallabel) (1.21.19)\n",
      "Collecting python-magic==0.4.24\n",
      "  Downloading python_magic-0.4.24-py2.py3-none-any.whl (12 kB)\n",
      "Collecting python-jose>=3.3.0\n",
      "  Downloading python_jose-3.3.0-py2.py3-none-any.whl (33 kB)\n",
      "Collecting pytest\n",
      "  Downloading pytest-7.2.0-py3-none-any.whl (316 kB)\n",
      "\u001b[K     |████████████████████████████████| 316 kB 144.9 MB/s eta 0:00:01\n",
      "\u001b[?25hCollecting plotly\n",
      "  Downloading plotly-5.11.0-py2.py3-none-any.whl (15.3 MB)\n",
      "\u001b[K     |████████████████████████████████| 15.3 MB 147.5 MB/s eta 0:00:01\n",
      "\u001b[?25hCollecting postpy2==0.0.6\n",
      "  Downloading postpy2-0.0.6-py3-none-any.whl (17 kB)\n",
      "Collecting rst2txt\n",
      "  Downloading rst2txt-1.1.0-py2.py3-none-any.whl (12 kB)\n",
      "Requirement already satisfied: urllib3==1.26.6 in /usr/local/lib/python3.10/site-packages (from polly-python==0.2.6-clinicallabel) (1.26.6)\n",
      "Collecting beautifulsoup4\n",
      "  Downloading beautifulsoup4-4.11.1-py3-none-any.whl (128 kB)\n",
      "\u001b[K     |████████████████████████████████| 128 kB 142.3 MB/s eta 0:00:01\n",
      "\u001b[?25hCollecting Deprecated\n",
      "  Downloading Deprecated-1.2.13-py2.py3-none-any.whl (9.6 kB)\n",
      "Requirement already satisfied: tqdm in /usr/local/lib/python3.10/site-packages (from polly-python==0.2.6-clinicallabel) (4.64.0)\n",
      "Requirement already satisfied: botocore>=1.20.73 in /usr/local/lib/python3.10/site-packages (from polly-python==0.2.6-clinicallabel) (1.24.19)\n",
      "Collecting pytz==2021.1\n",
      "  Downloading pytz-2021.1-py2.py3-none-any.whl (510 kB)\n",
      "\u001b[K     |████████████████████████████████| 510 kB 140.1 MB/s eta 0:00:01\n",
      "\u001b[?25hCollecting retrying==1.3.3\n",
      "  Downloading retrying-1.3.3.tar.gz (10 kB)\n",
      "Requirement already satisfied: chardet==4.0.0 in /usr/local/lib/python3.10/site-packages (from polly-python==0.2.6-clinicallabel) (4.0.0)\n",
      "Collecting requests==2.25.1\n",
      "  Downloading requests-2.25.1-py2.py3-none-any.whl (61 kB)\n",
      "\u001b[K     |████████████████████████████████| 61 kB 19.2 MB/s  eta 0:00:01\n",
      "\u001b[?25hCollecting datapane\n",
      "  Downloading datapane-0.15.5-py3-none-any.whl (7.2 MB)\n",
      "\u001b[K     |████████████████████████████████| 7.2 MB 124.1 MB/s eta 0:00:01\n",
      "\u001b[?25hRequirement already satisfied: pandas in /usr/local/lib/python3.10/site-packages (from polly-python==0.2.6-clinicallabel) (1.4.1)\n",
      "Collecting certifi==2021.10.8\n",
      "  Downloading certifi-2021.10.8-py2.py3-none-any.whl (149 kB)\n",
      "\u001b[K     |████████████████████████████████| 149 kB 138.1 MB/s eta 0:00:01\n",
      "\u001b[?25hCollecting Cerberus==1.3.2\n",
      "  Downloading Cerberus-1.3.2.tar.gz (52 kB)\n",
      "\u001b[K     |████████████████████████████████| 52 kB 3.7 MB/s s eta 0:00:01\n",
      "\u001b[?25hRequirement already satisfied: python-dateutil in /usr/local/lib/python3.10/site-packages (from polly-python==0.2.6-clinicallabel) (2.8.1)\n",
      "Collecting elucidatacloudpathlib==0.6.6\n",
      "  Downloading elucidatacloudpathlib-0.6.6-py3-none-any.whl (50 kB)\n",
      "\u001b[K     |████████████████████████████████| 50 kB 15.5 MB/s eta 0:00:01\n",
      "\u001b[?25hCollecting elucidatacmapPy==3.3.4\n",
      "  Downloading elucidatacmapPy-3.3.4-py3-none-any.whl (134 kB)\n",
      "\u001b[K     |████████████████████████████████| 134 kB 141.0 MB/s eta 0:00:01\n",
      "\u001b[?25hCollecting sqlparse\n",
      "  Downloading sqlparse-0.4.3-py3-none-any.whl (42 kB)\n",
      "\u001b[K     |████████████████████████████████| 42 kB 3.4 MB/s s eta 0:00:01\n",
      "\u001b[?25hCollecting mixpanel>=4.10.0\n",
      "  Downloading mixpanel-4.10.0-py2.py3-none-any.whl (8.9 kB)\n",
      "Requirement already satisfied: idna==2.10 in /usr/local/lib/python3.10/site-packages (from polly-python==0.2.6-clinicallabel) (2.10)\n",
      "Collecting joblib\n",
      "  Downloading joblib-1.2.0-py3-none-any.whl (297 kB)\n",
      "\u001b[K     |████████████████████████████████| 297 kB 144.4 MB/s eta 0:00:01\n",
      "\u001b[?25hRequirement already satisfied: setuptools in /usr/local/lib/python3.10/site-packages (from Cerberus==1.3.2->polly-python==0.2.6-clinicallabel) (58.1.0)\n",
      "Collecting h5py>=2.6.0\n",
      "  Downloading h5py-3.7.0-cp310-cp310-manylinux_2_12_x86_64.manylinux2010_x86_64.whl (4.5 MB)\n",
      "\u001b[K     |████████████████████████████████| 4.5 MB 136.3 MB/s eta 0:00:01\n",
      "\u001b[?25hRequirement already satisfied: numpy>=1.11.2 in /usr/local/lib/python3.10/site-packages (from elucidatacmapPy==3.3.4->polly-python==0.2.6-clinicallabel) (1.22.3)\n",
      "Collecting typing-extensions>=3.7.4.3\n",
      "  Downloading typing_extensions-4.4.0-py3-none-any.whl (26 kB)\n",
      "Requirement already satisfied: s3transfer<0.6.0,>=0.5.0 in /usr/local/lib/python3.10/site-packages (from boto3>=1.17.73->polly-python==0.2.6-clinicallabel) (0.5.2)\n",
      "Requirement already satisfied: jmespath<1.0.0,>=0.7.1 in /usr/local/lib/python3.10/site-packages (from boto3>=1.17.73->polly-python==0.2.6-clinicallabel) (0.10.0)\n",
      "Requirement already satisfied: rsa in /usr/local/lib/python3.10/site-packages (from python-jose>=3.3.0->polly-python==0.2.6-clinicallabel) (4.7.2)\n",
      "Requirement already satisfied: pyasn1 in /usr/local/lib/python3.10/site-packages (from python-jose>=3.3.0->polly-python==0.2.6-clinicallabel) (0.4.8)\n",
      "Collecting ecdsa!=0.15\n",
      "  Downloading ecdsa-0.18.0-py2.py3-none-any.whl (142 kB)\n",
      "\u001b[K     |████████████████████████████████| 142 kB 139.5 MB/s eta 0:00:01\n",
      "\u001b[?25hCollecting soupsieve>1.2\n",
      "  Downloading soupsieve-2.3.2.post1-py3-none-any.whl (37 kB)\n",
      "Collecting munch<3.0.0,>=2.3.0\n",
      "  Downloading munch-2.5.0-py2.py3-none-any.whl (10 kB)\n",
      "Collecting altair<5.0.0,>=4.0.0\n",
      "  Downloading altair-4.2.0-py3-none-any.whl (812 kB)\n",
      "\u001b[K     |████████████████████████████████| 812 kB 155.1 MB/s eta 0:00:01\n",
      "\u001b[?25hCollecting vega-datasets<1.0.0,>=0.9.0\n",
      "  Downloading vega_datasets-0.9.0-py3-none-any.whl (210 kB)\n",
      "\u001b[K     |████████████████████████████████| 210 kB 50.1 MB/s eta 0:00:01\n",
      "\u001b[?25hCollecting ipynbname<2022.0.0,>=2021.3.2\n",
      "  Downloading ipynbname-2021.3.2-py3-none-any.whl (4.0 kB)\n",
      "Collecting validators<0.21.0,>=0.18.0\n",
      "  Downloading validators-0.20.0.tar.gz (30 kB)\n",
      "Collecting datacommons<2.0.0,>=1.4.3\n",
      "  Downloading datacommons-1.4.3-py3-none-any.whl (46 kB)\n",
      "\u001b[K     |████████████████████████████████| 46 kB 6.4 MB/s s eta 0:00:01\n",
      "\u001b[?25hCollecting dacite<2.0.0,>=1.0.2\n",
      "  Downloading dacite-1.6.0-py3-none-any.whl (12 kB)\n",
      "Collecting lxml<5.0.0,>=4.0.0\n",
      "  Downloading lxml-4.9.1-cp310-cp310-manylinux_2_17_x86_64.manylinux2014_x86_64.manylinux_2_24_x86_64.whl (6.9 MB)\n",
      "\u001b[K     |████████████████████████████████| 6.9 MB 114.2 MB/s eta 0:00:01\n",
      "\u001b[?25hCollecting requests-toolbelt<0.10.0,>=0.9.1\n",
      "  Downloading requests_toolbelt-0.9.1-py2.py3-none-any.whl (54 kB)\n",
      "\u001b[K     |████████████████████████████████| 54 kB 7.4 MB/s s eta 0:00:01\n",
      "\u001b[?25hCollecting boltons<22.0.0,>=20.0.0\n",
      "  Downloading boltons-21.0.0-py2.py3-none-any.whl (193 kB)\n",
      "\u001b[K     |████████████████████████████████| 193 kB 142.5 MB/s eta 0:00:01\n",
      "\u001b[?25hRequirement already satisfied: tabulate<0.9.0,>=0.8.0 in /usr/local/lib/python3.10/site-packages (from datapane->polly-python==0.2.6-clinicallabel) (0.8.9)\n",
      "Requirement already satisfied: packaging<22.0.0,>=20.0.0 in /usr/local/lib/python3.10/site-packages (from datapane->polly-python==0.2.6-clinicallabel) (21.3)\n",
      "Collecting dulwich<0.21.0,>=0.20.0\n",
      "  Downloading dulwich-0.20.50-cp310-cp310-manylinux_2_17_x86_64.manylinux2014_x86_64.whl (499 kB)\n",
      "\u001b[K     |████████████████████████████████| 499 kB 131.8 MB/s eta 0:00:01\n",
      "\u001b[?25hCollecting click<9.0.0,>=7.1.0\n",
      "  Downloading click-8.1.3-py3-none-any.whl (96 kB)\n",
      "\u001b[K     |████████████████████████████████| 96 kB 14.9 MB/s  eta 0:00:01\n",
      "\u001b[?25hCollecting toolz<0.13.0,>=0.11.0\n",
      "  Downloading toolz-0.12.0-py3-none-any.whl (55 kB)\n",
      "\u001b[K     |████████████████████████████████| 55 kB 9.6 MB/s s eta 0:00:01\n",
      "\u001b[?25hCollecting colorlog<7.0.0,>=4.1.0\n",
      "  Downloading colorlog-6.7.0-py2.py3-none-any.whl (11 kB)\n",
      "Collecting furl<3.0.0,>=2.0.0\n",
      "  Downloading furl-2.1.3-py2.py3-none-any.whl (20 kB)\n",
      "Collecting posthog<3.0.0,>=1.4.0\n",
      "  Downloading posthog-2.2.0-py2.py3-none-any.whl (33 kB)\n",
      "Requirement already satisfied: nbconvert<7.0.0,>=6.1.0 in /usr/local/lib/python3.10/site-packages (from datapane->polly-python==0.2.6-clinicallabel) (6.3.0)\n",
      "Collecting glom<23.0.0,>=20.11.0\n",
      "  Downloading glom-22.1.0-py2.py3-none-any.whl (100 kB)\n",
      "\u001b[K     |████████████████████████████████| 100 kB 19.7 MB/s eta 0:00:01\n",
      "\u001b[?25hCollecting click-spinner<0.2.0,>=0.1.8\n",
      "  Downloading click_spinner-0.1.10-py2.py3-none-any.whl (4.0 kB)\n",
      "Requirement already satisfied: jsonschema<5.0.0,>=3.2.0 in /usr/local/lib/python3.10/site-packages (from datapane->polly-python==0.2.6-clinicallabel) (4.2.1)\n",
      "Collecting pyarrow<11.0.0,>=6.0.0\n",
      "  Downloading pyarrow-10.0.1-cp310-cp310-manylinux_2_17_x86_64.manylinux2014_x86_64.whl (35.9 MB)\n",
      "\u001b[K     |████████████████████████████████| 35.9 MB 136.0 MB/s eta 0:00:01\n",
      "\u001b[?25hCollecting stringcase<2.0.0,>=1.2.0\n",
      "  Downloading stringcase-1.2.0.tar.gz (3.0 kB)\n",
      "Collecting dominate<3.0.0,>=2.4.0\n",
      "  Downloading dominate-2.7.0-py2.py3-none-any.whl (29 kB)\n",
      "Collecting datacommons-pandas<0.0.4,>=0.0.3\n",
      "  Downloading datacommons_pandas-0.0.3-py3-none-any.whl (45 kB)\n",
      "\u001b[K     |████████████████████████████████| 45 kB 6.1 MB/s  eta 0:00:01\n",
      "\u001b[?25hCollecting importlib_resources<6.0.0,>=3.0.0\n",
      "  Downloading importlib_resources-5.10.0-py3-none-any.whl (34 kB)\n",
      "Requirement already satisfied: PyYAML<7.0.0,>=5.4.0 in /usr/local/lib/python3.10/site-packages (from datapane->polly-python==0.2.6-clinicallabel) (5.4.1)\n",
      "Collecting micawber>=0.5.0\n",
      "  Downloading micawber-0.5.4.tar.gz (18 kB)\n",
      "Requirement already satisfied: Jinja2<4.0.0,>=3.0.0 in /usr/local/lib/python3.10/site-packages (from datapane->polly-python==0.2.6-clinicallabel) (3.0.3)\n",
      "Requirement already satisfied: entrypoints in /usr/local/lib/python3.10/site-packages (from altair<5.0.0,>=4.0.0->datapane->polly-python==0.2.6-clinicallabel) (0.3)\n",
      "Collecting orderedmultidict>=1.0.1\n",
      "  Downloading orderedmultidict-1.0.1-py2.py3-none-any.whl (11 kB)\n",
      "Requirement already satisfied: attrs in /usr/local/lib/python3.10/site-packages (from glom<23.0.0,>=20.11.0->datapane->polly-python==0.2.6-clinicallabel) (21.2.0)\n",
      "Collecting face>=20.1.0\n",
      "  Downloading face-22.0.0-py3-none-any.whl (54 kB)\n",
      "\u001b[K     |████████████████████████████████| 54 kB 7.5 MB/s s eta 0:00:01\n",
      "\u001b[?25hRequirement already satisfied: ipykernel in /usr/local/lib/python3.10/site-packages (from ipynbname<2022.0.0,>=2021.3.2->datapane->polly-python==0.2.6-clinicallabel) (6.13.1)\n",
      "Requirement already satisfied: MarkupSafe>=2.0 in /usr/local/lib/python3.10/site-packages (from Jinja2<4.0.0,>=3.0.0->datapane->polly-python==0.2.6-clinicallabel) (2.0.1)\n",
      "Requirement already satisfied: pyrsistent!=0.17.0,!=0.17.1,!=0.17.2,>=0.14.0 in /usr/local/lib/python3.10/site-packages (from jsonschema<5.0.0,>=3.2.0->datapane->polly-python==0.2.6-clinicallabel) (0.18.0)\n",
      "Requirement already satisfied: testpath in /usr/local/lib/python3.10/site-packages (from nbconvert<7.0.0,>=6.1.0->datapane->polly-python==0.2.6-clinicallabel) (0.5.0)\n",
      "Requirement already satisfied: pygments>=2.4.1 in /usr/local/lib/python3.10/site-packages (from nbconvert<7.0.0,>=6.1.0->datapane->polly-python==0.2.6-clinicallabel) (2.10.0)\n",
      "Requirement already satisfied: mistune<2,>=0.8.1 in /usr/local/lib/python3.10/site-packages (from nbconvert<7.0.0,>=6.1.0->datapane->polly-python==0.2.6-clinicallabel) (0.8.4)\n",
      "Requirement already satisfied: pandocfilters>=1.4.1 in /usr/local/lib/python3.10/site-packages (from nbconvert<7.0.0,>=6.1.0->datapane->polly-python==0.2.6-clinicallabel) (1.5.0)\n",
      "Requirement already satisfied: jupyterlab-pygments in /usr/local/lib/python3.10/site-packages (from nbconvert<7.0.0,>=6.1.0->datapane->polly-python==0.2.6-clinicallabel) (0.2.2)\n",
      "Requirement already satisfied: bleach in /usr/local/lib/python3.10/site-packages (from nbconvert<7.0.0,>=6.1.0->datapane->polly-python==0.2.6-clinicallabel) (4.1.0)\n",
      "Requirement already satisfied: defusedxml in /usr/local/lib/python3.10/site-packages (from nbconvert<7.0.0,>=6.1.0->datapane->polly-python==0.2.6-clinicallabel) (0.7.1)\n",
      "Requirement already satisfied: jupyter-core in /usr/local/lib/python3.10/site-packages (from nbconvert<7.0.0,>=6.1.0->datapane->polly-python==0.2.6-clinicallabel) (4.9.1)\n",
      "Requirement already satisfied: nbclient<0.6.0,>=0.5.0 in /usr/local/lib/python3.10/site-packages (from nbconvert<7.0.0,>=6.1.0->datapane->polly-python==0.2.6-clinicallabel) (0.5.13)\n",
      "Requirement already satisfied: nbformat>=4.4 in /usr/local/lib/python3.10/site-packages (from nbconvert<7.0.0,>=6.1.0->datapane->polly-python==0.2.6-clinicallabel) (5.1.3)\n",
      "Requirement already satisfied: traitlets>=5.0 in /usr/local/lib/python3.10/site-packages (from nbconvert<7.0.0,>=6.1.0->datapane->polly-python==0.2.6-clinicallabel) (5.1.1)\n",
      "Requirement already satisfied: nest-asyncio in /usr/local/lib/python3.10/site-packages (from nbclient<0.6.0,>=0.5.0->nbconvert<7.0.0,>=6.1.0->datapane->polly-python==0.2.6-clinicallabel) (1.5.5)\n",
      "Requirement already satisfied: jupyter-client>=6.1.5 in /usr/local/lib/python3.10/site-packages (from nbclient<0.6.0,>=0.5.0->nbconvert<7.0.0,>=6.1.0->datapane->polly-python==0.2.6-clinicallabel) (6.1.12)\n",
      "Requirement already satisfied: pyzmq>=13 in /usr/local/lib/python3.10/site-packages (from jupyter-client>=6.1.5->nbclient<0.6.0,>=0.5.0->nbconvert<7.0.0,>=6.1.0->datapane->polly-python==0.2.6-clinicallabel) (22.3.0)\n",
      "Requirement already satisfied: tornado>=4.1 in /usr/local/lib/python3.10/site-packages (from jupyter-client>=6.1.5->nbclient<0.6.0,>=0.5.0->nbconvert<7.0.0,>=6.1.0->datapane->polly-python==0.2.6-clinicallabel) (6.1)\n",
      "Requirement already satisfied: ipython-genutils in /usr/local/lib/python3.10/site-packages (from nbformat>=4.4->nbconvert<7.0.0,>=6.1.0->datapane->polly-python==0.2.6-clinicallabel) (0.2.0)\n",
      "Requirement already satisfied: pyparsing!=3.0.5,>=2.0.2 in /usr/local/lib/python3.10/site-packages (from packaging<22.0.0,>=20.0.0->datapane->polly-python==0.2.6-clinicallabel) (3.0.6)\n",
      "Collecting backoff<2.0.0,>=1.10.0\n",
      "  Downloading backoff-1.11.1-py2.py3-none-any.whl (13 kB)\n",
      "Collecting monotonic>=1.5\n",
      "  Downloading monotonic-1.6-py2.py3-none-any.whl (8.2 kB)\n",
      "Requirement already satisfied: decorator>=3.4.0 in /usr/local/lib/python3.10/site-packages (from validators<0.21.0,>=0.18.0->datapane->polly-python==0.2.6-clinicallabel) (5.1.0)\n",
      "Requirement already satisfied: webencodings in /usr/local/lib/python3.10/site-packages (from bleach->nbconvert<7.0.0,>=6.1.0->datapane->polly-python==0.2.6-clinicallabel) (0.5.1)\n",
      "Collecting wrapt<2,>=1.10\n",
      "  Downloading wrapt-1.14.1-cp310-cp310-manylinux_2_5_x86_64.manylinux1_x86_64.manylinux_2_17_x86_64.manylinux2014_x86_64.whl (77 kB)\n",
      "\u001b[K     |████████████████████████████████| 77 kB 17.1 MB/s  eta 0:00:01\n",
      "\u001b[?25hRequirement already satisfied: debugpy>=1.0 in /usr/local/lib/python3.10/site-packages (from ipykernel->ipynbname<2022.0.0,>=2021.3.2->datapane->polly-python==0.2.6-clinicallabel) (1.6.0)\n",
      "Requirement already satisfied: psutil in /usr/local/lib/python3.10/site-packages (from ipykernel->ipynbname<2022.0.0,>=2021.3.2->datapane->polly-python==0.2.6-clinicallabel) (5.9.1)\n",
      "Requirement already satisfied: matplotlib-inline>=0.1 in /usr/local/lib/python3.10/site-packages (from ipykernel->ipynbname<2022.0.0,>=2021.3.2->datapane->polly-python==0.2.6-clinicallabel) (0.1.3)\n",
      "Requirement already satisfied: ipython>=7.23.1 in /usr/local/lib/python3.10/site-packages (from ipykernel->ipynbname<2022.0.0,>=2021.3.2->datapane->polly-python==0.2.6-clinicallabel) (8.2.0)\n",
      "Requirement already satisfied: prompt-toolkit!=3.0.0,!=3.0.1,<3.1.0,>=2.0.0 in /usr/local/lib/python3.10/site-packages (from ipython>=7.23.1->ipykernel->ipynbname<2022.0.0,>=2021.3.2->datapane->polly-python==0.2.6-clinicallabel) (3.0.22)\n",
      "Requirement already satisfied: pickleshare in /usr/local/lib/python3.10/site-packages (from ipython>=7.23.1->ipykernel->ipynbname<2022.0.0,>=2021.3.2->datapane->polly-python==0.2.6-clinicallabel) (0.7.5)\n",
      "Requirement already satisfied: jedi>=0.16 in /usr/local/lib/python3.10/site-packages (from ipython>=7.23.1->ipykernel->ipynbname<2022.0.0,>=2021.3.2->datapane->polly-python==0.2.6-clinicallabel) (0.18.1)\n",
      "Requirement already satisfied: stack-data in /usr/local/lib/python3.10/site-packages (from ipython>=7.23.1->ipykernel->ipynbname<2022.0.0,>=2021.3.2->datapane->polly-python==0.2.6-clinicallabel) (0.2.0)\n",
      "Requirement already satisfied: pexpect>4.3 in /usr/local/lib/python3.10/site-packages (from ipython>=7.23.1->ipykernel->ipynbname<2022.0.0,>=2021.3.2->datapane->polly-python==0.2.6-clinicallabel) (4.8.0)\n",
      "Requirement already satisfied: backcall in /usr/local/lib/python3.10/site-packages (from ipython>=7.23.1->ipykernel->ipynbname<2022.0.0,>=2021.3.2->datapane->polly-python==0.2.6-clinicallabel) (0.2.0)\n",
      "Requirement already satisfied: parso<0.9.0,>=0.8.0 in /usr/local/lib/python3.10/site-packages (from jedi>=0.16->ipython>=7.23.1->ipykernel->ipynbname<2022.0.0,>=2021.3.2->datapane->polly-python==0.2.6-clinicallabel) (0.8.2)\n",
      "Requirement already satisfied: ptyprocess>=0.5 in /usr/local/lib/python3.10/site-packages (from pexpect>4.3->ipython>=7.23.1->ipykernel->ipynbname<2022.0.0,>=2021.3.2->datapane->polly-python==0.2.6-clinicallabel) (0.7.0)\n",
      "Requirement already satisfied: wcwidth in /usr/local/lib/python3.10/site-packages (from prompt-toolkit!=3.0.0,!=3.0.1,<3.1.0,>=2.0.0->ipython>=7.23.1->ipykernel->ipynbname<2022.0.0,>=2021.3.2->datapane->polly-python==0.2.6-clinicallabel) (0.2.5)\n",
      "Collecting tenacity>=6.2.0\n",
      "  Downloading tenacity-8.1.0-py3-none-any.whl (23 kB)\n",
      "Collecting iniconfig\n",
      "  Downloading iniconfig-1.1.1-py2.py3-none-any.whl (5.0 kB)\n",
      "Collecting tomli>=1.0.0\n",
      "  Downloading tomli-2.0.1-py3-none-any.whl (12 kB)\n",
      "Collecting exceptiongroup>=1.0.0rc8\n",
      "  Downloading exceptiongroup-1.0.4-py3-none-any.whl (14 kB)\n",
      "Collecting pluggy<2.0,>=0.12\n",
      "  Downloading pluggy-1.0.0-py2.py3-none-any.whl (13 kB)\n",
      "Requirement already satisfied: docutils>=0.11 in /usr/local/lib/python3.10/site-packages (from rst2txt->polly-python==0.2.6-clinicallabel) (0.15.2)\n",
      "Requirement already satisfied: pure-eval in /usr/local/lib/python3.10/site-packages (from stack-data->ipython>=7.23.1->ipykernel->ipynbname<2022.0.0,>=2021.3.2->datapane->polly-python==0.2.6-clinicallabel) (0.2.2)\n",
      "Requirement already satisfied: executing in /usr/local/lib/python3.10/site-packages (from stack-data->ipython>=7.23.1->ipykernel->ipynbname<2022.0.0,>=2021.3.2->datapane->polly-python==0.2.6-clinicallabel) (0.8.3)\n",
      "Requirement already satisfied: asttokens in /usr/local/lib/python3.10/site-packages (from stack-data->ipython>=7.23.1->ipykernel->ipynbname<2022.0.0,>=2021.3.2->datapane->polly-python==0.2.6-clinicallabel) (2.0.5)\n",
      "Using legacy 'setup.py install' for Cerberus, since package 'wheel' is not installed.\n",
      "Using legacy 'setup.py install' for retrying, since package 'wheel' is not installed.\n",
      "Using legacy 'setup.py install' for micawber, since package 'wheel' is not installed.\n",
      "Using legacy 'setup.py install' for stringcase, since package 'wheel' is not installed.\n",
      "Using legacy 'setup.py install' for validators, since package 'wheel' is not installed.\n",
      "Installing collected packages: pytz, certifi, boltons, typing-extensions, toolz, requests, orderedmultidict, monotonic, face, backoff, wrapt, vega-datasets, validators, tomli, tenacity, stringcase, soupsieve, requests-toolbelt, python-magic, pydantic, pyarrow, posthog, pluggy, munch, micawber, lxml, ipynbname, iniconfig, importlib-resources, h5py, glom, furl, exceptiongroup, ecdsa, dulwich, dominate, datacommons-pandas, datacommons, dacite, colorlog, click-spinner, click, altair, sqlparse, rst2txt, retrying, python-jose, pytest, postpy2, plotly, mixpanel, joblib, elucidatacmapPy, elucidatacloudpathlib, Deprecated, datapane, Cerberus, beautifulsoup4, polly-python\n",
      "  Attempting uninstall: pytz\n",
      "    Found existing installation: pytz 2021.3\n",
      "    Uninstalling pytz-2021.3:\n",
      "      Successfully uninstalled pytz-2021.3\n",
      "  Attempting uninstall: certifi\n",
      "    Found existing installation: certifi 2021.5.30\n",
      "    Uninstalling certifi-2021.5.30:\n",
      "      Successfully uninstalled certifi-2021.5.30\n",
      "  Attempting uninstall: requests\n",
      "    Found existing installation: requests 2.27.1\n",
      "    Uninstalling requests-2.27.1:\n",
      "      Successfully uninstalled requests-2.27.1\n",
      "    Running setup.py install for validators ... \u001b[?25ldone\n",
      "\u001b[?25h    Running setup.py install for stringcase ... \u001b[?25ldone\n",
      "\u001b[?25h    Running setup.py install for micawber ... \u001b[?25ldone\n",
      "\u001b[?25h    Running setup.py install for retrying ... \u001b[?25ldone\n",
      "\u001b[?25h  Attempting uninstall: Cerberus\n",
      "    Found existing installation: Cerberus 1.3.4\n",
      "    Uninstalling Cerberus-1.3.4:\n",
      "      Successfully uninstalled Cerberus-1.3.4\n",
      "    Running setup.py install for Cerberus ... \u001b[?25ldone\n",
      "\u001b[?25hSuccessfully installed Cerberus-1.3.2 Deprecated-1.2.13 altair-4.2.0 backoff-1.11.1 beautifulsoup4-4.11.1 boltons-21.0.0 certifi-2021.10.8 click-8.1.3 click-spinner-0.1.10 colorlog-6.7.0 dacite-1.6.0 datacommons-1.4.3 datacommons-pandas-0.0.3 datapane-0.15.5 dominate-2.7.0 dulwich-0.20.50 ecdsa-0.18.0 elucidatacloudpathlib-0.6.6 elucidatacmapPy-3.3.4 exceptiongroup-1.0.4 face-22.0.0 furl-2.1.3 glom-22.1.0 h5py-3.7.0 importlib-resources-5.10.0 iniconfig-1.1.1 ipynbname-2021.3.2 joblib-1.2.0 lxml-4.9.1 micawber-0.5.4 mixpanel-4.10.0 monotonic-1.6 munch-2.5.0 orderedmultidict-1.0.1 plotly-5.11.0 pluggy-1.0.0 polly-python-0.2.6 posthog-2.2.0 postpy2-0.0.6 pyarrow-10.0.1 pydantic-1.9.1 pytest-7.2.0 python-jose-3.3.0 python-magic-0.4.24 pytz-2021.1 requests-2.25.1 requests-toolbelt-0.9.1 retrying-1.3.3 rst2txt-1.1.0 soupsieve-2.3.2.post1 sqlparse-0.4.3 stringcase-1.2.0 tenacity-8.1.0 tomli-2.0.1 toolz-0.12.0 typing-extensions-4.4.0 validators-0.20.0 vega-datasets-0.9.0 wrapt-1.14.1\n",
      "\u001b[33mWARNING: Running pip as the 'root' user can result in broken permissions and conflicting behaviour with the system package manager. It is recommended to use a virtual environment instead: https://pip.pypa.io/warnings/venv\u001b[0m\n",
      "\u001b[33mWARNING: You are using pip version 21.2.4; however, version 22.3.1 is available.\n",
      "You should consider upgrading via the '/usr/local/bin/python3.10 -m pip install --upgrade pip' command.\u001b[0m\n"
     ]
    }
   ],
   "source": [
    "!sudo pip3 install https://elucidatainc.github.io/PublicAssets/builds/polly-python/tests/polly/polly_python-0.2.6_clinicallabel-py3-none-any.whl"
   ]
  },
  {
   "cell_type": "code",
   "execution_count": 2,
   "metadata": {},
   "outputs": [
    {
     "name": "stdout",
     "output_type": "stream",
     "text": [
      "/bin/bash: warning: setlocale: LC_ALL: cannot change locale (en_US.UTF-8)\n",
      "Collecting polly-python==0.2.6-clinicallabel\n",
      "  Downloading https://elucidatainc.github.io/PublicAssets/builds/polly-python/tests/polly/polly_python-0.2.6_clinicallabel-py3-none-any.whl (104 kB)\n",
      "\u001b[K     |████████████████████████████████| 104 kB 5.2 MB/s eta 0:00:01\n",
      "\u001b[?25hCollecting plotly\n",
      "  Downloading plotly-5.11.0-py2.py3-none-any.whl (15.3 MB)\n",
      "\u001b[K     |████████████████████████████████| 15.3 MB 4.9 MB/s eta 0:00:01\n",
      "\u001b[?25hCollecting mixpanel>=4.10.0\n",
      "  Downloading mixpanel-4.10.0-py2.py3-none-any.whl (8.9 kB)\n",
      "Collecting requests==2.25.1\n",
      "  Downloading requests-2.25.1-py2.py3-none-any.whl (61 kB)\n",
      "\u001b[K     |████████████████████████████████| 61 kB 21.2 MB/s  eta 0:00:01\n",
      "\u001b[?25hCollecting beautifulsoup4\n",
      "  Downloading beautifulsoup4-4.11.1-py3-none-any.whl (128 kB)\n",
      "\u001b[K     |████████████████████████████████| 128 kB 152.5 MB/s eta 0:00:01\n",
      "\u001b[?25hRequirement already satisfied: python-dateutil in /usr/local/lib/python3.10/site-packages (from polly-python==0.2.6-clinicallabel) (2.8.1)\n",
      "Collecting pytz==2021.1\n",
      "  Downloading pytz-2021.1-py2.py3-none-any.whl (510 kB)\n",
      "\u001b[K     |████████████████████████████████| 510 kB 142.4 MB/s eta 0:00:01\n",
      "\u001b[?25hRequirement already satisfied: idna==2.10 in /usr/local/lib/python3.10/site-packages (from polly-python==0.2.6-clinicallabel) (2.10)\n",
      "Collecting python-magic==0.4.24\n",
      "  Downloading python_magic-0.4.24-py2.py3-none-any.whl (12 kB)\n",
      "Collecting pytest\n",
      "  Downloading pytest-7.2.0-py3-none-any.whl (316 kB)\n",
      "\u001b[K     |████████████████████████████████| 316 kB 146.4 MB/s eta 0:00:01\n",
      "\u001b[?25hRequirement already satisfied: botocore>=1.20.73 in /usr/local/lib/python3.10/site-packages (from polly-python==0.2.6-clinicallabel) (1.24.19)\n",
      "Collecting Cerberus==1.3.2\n",
      "  Downloading Cerberus-1.3.2.tar.gz (52 kB)\n",
      "\u001b[K     |████████████████████████████████| 52 kB 3.0 MB/s s eta 0:00:01\n",
      "\u001b[?25hCollecting pydantic==1.9.1\n",
      "  Downloading pydantic-1.9.1-cp310-cp310-manylinux_2_17_x86_64.manylinux2014_x86_64.whl (12.0 MB)\n",
      "\u001b[K     |████████████████████████████████| 12.0 MB 121.5 MB/s eta 0:00:01\n",
      "\u001b[?25hCollecting sqlparse\n",
      "  Downloading sqlparse-0.4.3-py3-none-any.whl (42 kB)\n",
      "\u001b[K     |████████████████████████████████| 42 kB 3.5 MB/s s eta 0:00:01\n",
      "\u001b[?25hCollecting rst2txt\n",
      "  Downloading rst2txt-1.1.0-py2.py3-none-any.whl (12 kB)\n",
      "Collecting Deprecated\n",
      "  Downloading Deprecated-1.2.13-py2.py3-none-any.whl (9.6 kB)\n",
      "Requirement already satisfied: six==1.16.0 in /usr/local/lib/python3.10/site-packages (from polly-python==0.2.6-clinicallabel) (1.16.0)\n",
      "Collecting elucidatacloudpathlib==0.6.6\n",
      "  Downloading elucidatacloudpathlib-0.6.6-py3-none-any.whl (50 kB)\n",
      "\u001b[K     |████████████████████████████████| 50 kB 15.8 MB/s  eta 0:00:01\n",
      "\u001b[?25hRequirement already satisfied: tqdm in /usr/local/lib/python3.10/site-packages (from polly-python==0.2.6-clinicallabel) (4.64.0)\n",
      "Collecting retrying==1.3.3\n",
      "  Downloading retrying-1.3.3.tar.gz (10 kB)\n",
      "Requirement already satisfied: pandas in /usr/local/lib/python3.10/site-packages (from polly-python==0.2.6-clinicallabel) (1.4.1)\n",
      "Collecting datapane\n",
      "  Downloading datapane-0.15.5-py3-none-any.whl (7.2 MB)\n",
      "\u001b[K     |████████████████████████████████| 7.2 MB 130.1 MB/s eta 0:00:01\n",
      "\u001b[?25hRequirement already satisfied: boto3>=1.17.73 in /usr/local/lib/python3.10/site-packages (from polly-python==0.2.6-clinicallabel) (1.21.19)\n",
      "Collecting certifi==2021.10.8\n",
      "  Downloading certifi-2021.10.8-py2.py3-none-any.whl (149 kB)\n",
      "\u001b[K     |████████████████████████████████| 149 kB 140.9 MB/s eta 0:00:01\n",
      "\u001b[?25hCollecting postpy2==0.0.6\n",
      "  Downloading postpy2-0.0.6-py3-none-any.whl (17 kB)\n",
      "Requirement already satisfied: chardet==4.0.0 in /usr/local/lib/python3.10/site-packages (from polly-python==0.2.6-clinicallabel) (4.0.0)\n",
      "Collecting joblib\n",
      "  Downloading joblib-1.2.0-py3-none-any.whl (297 kB)\n",
      "\u001b[K     |████████████████████████████████| 297 kB 140.1 MB/s eta 0:00:01\n",
      "\u001b[?25hCollecting python-jose>=3.3.0\n",
      "  Downloading python_jose-3.3.0-py2.py3-none-any.whl (33 kB)\n",
      "Collecting elucidatacmapPy==3.3.4\n",
      "  Downloading elucidatacmapPy-3.3.4-py3-none-any.whl (134 kB)\n",
      "\u001b[K     |████████████████████████████████| 134 kB 139.7 MB/s eta 0:00:01\n",
      "\u001b[?25hRequirement already satisfied: urllib3==1.26.6 in /usr/local/lib/python3.10/site-packages (from polly-python==0.2.6-clinicallabel) (1.26.6)\n",
      "Requirement already satisfied: setuptools in /usr/local/lib/python3.10/site-packages (from Cerberus==1.3.2->polly-python==0.2.6-clinicallabel) (58.1.0)\n",
      "Requirement already satisfied: numpy>=1.11.2 in /usr/local/lib/python3.10/site-packages (from elucidatacmapPy==3.3.4->polly-python==0.2.6-clinicallabel) (1.22.3)\n",
      "Collecting h5py>=2.6.0\n",
      "  Downloading h5py-3.7.0-cp310-cp310-manylinux_2_12_x86_64.manylinux2010_x86_64.whl (4.5 MB)\n",
      "\u001b[K     |████████████████████████████████| 4.5 MB 120.9 MB/s eta 0:00:01\n",
      "\u001b[?25hCollecting typing-extensions>=3.7.4.3\n",
      "  Downloading typing_extensions-4.4.0-py3-none-any.whl (26 kB)\n",
      "Requirement already satisfied: s3transfer<0.6.0,>=0.5.0 in /usr/local/lib/python3.10/site-packages (from boto3>=1.17.73->polly-python==0.2.6-clinicallabel) (0.5.2)\n",
      "Requirement already satisfied: jmespath<1.0.0,>=0.7.1 in /usr/local/lib/python3.10/site-packages (from boto3>=1.17.73->polly-python==0.2.6-clinicallabel) (0.10.0)\n",
      "Requirement already satisfied: rsa in /usr/local/lib/python3.10/site-packages (from python-jose>=3.3.0->polly-python==0.2.6-clinicallabel) (4.7.2)\n",
      "Collecting ecdsa!=0.15\n",
      "  Downloading ecdsa-0.18.0-py2.py3-none-any.whl (142 kB)\n",
      "\u001b[K     |████████████████████████████████| 142 kB 132.3 MB/s eta 0:00:01\n",
      "\u001b[?25hRequirement already satisfied: pyasn1 in /usr/local/lib/python3.10/site-packages (from python-jose>=3.3.0->polly-python==0.2.6-clinicallabel) (0.4.8)\n",
      "Collecting soupsieve>1.2\n",
      "  Downloading soupsieve-2.3.2.post1-py3-none-any.whl (37 kB)\n",
      "Collecting glom<23.0.0,>=20.11.0\n",
      "  Downloading glom-22.1.0-py2.py3-none-any.whl (100 kB)\n",
      "\u001b[K     |████████████████████████████████| 100 kB 26.2 MB/s eta 0:00:01\n",
      "\u001b[?25hCollecting importlib_resources<6.0.0,>=3.0.0\n",
      "  Downloading importlib_resources-5.10.0-py3-none-any.whl (34 kB)\n",
      "Collecting ipynbname<2022.0.0,>=2021.3.2\n",
      "  Downloading ipynbname-2021.3.2-py3-none-any.whl (4.0 kB)\n",
      "Collecting datacommons-pandas<0.0.4,>=0.0.3\n",
      "  Downloading datacommons_pandas-0.0.3-py3-none-any.whl (45 kB)\n",
      "\u001b[K     |████████████████████████████████| 45 kB 7.1 MB/s s eta 0:00:01\n",
      "\u001b[?25hCollecting boltons<22.0.0,>=20.0.0\n",
      "  Downloading boltons-21.0.0-py2.py3-none-any.whl (193 kB)\n",
      "\u001b[K     |████████████████████████████████| 193 kB 143.1 MB/s eta 0:00:01\n",
      "\u001b[?25hCollecting micawber>=0.5.0\n",
      "  Downloading micawber-0.5.4.tar.gz (18 kB)\n",
      "Collecting munch<3.0.0,>=2.3.0\n",
      "  Downloading munch-2.5.0-py2.py3-none-any.whl (10 kB)\n",
      "Requirement already satisfied: packaging<22.0.0,>=20.0.0 in /usr/local/lib/python3.10/site-packages (from datapane->polly-python==0.2.6-clinicallabel) (21.3)\n",
      "Requirement already satisfied: jsonschema<5.0.0,>=3.2.0 in /usr/local/lib/python3.10/site-packages (from datapane->polly-python==0.2.6-clinicallabel) (4.2.1)\n",
      "Requirement already satisfied: Jinja2<4.0.0,>=3.0.0 in /usr/local/lib/python3.10/site-packages (from datapane->polly-python==0.2.6-clinicallabel) (3.0.3)\n",
      "Collecting vega-datasets<1.0.0,>=0.9.0\n",
      "  Downloading vega_datasets-0.9.0-py3-none-any.whl (210 kB)\n",
      "\u001b[K     |████████████████████████████████| 210 kB 130.8 MB/s eta 0:00:01\n",
      "\u001b[?25hCollecting altair<5.0.0,>=4.0.0\n",
      "  Downloading altair-4.2.0-py3-none-any.whl (812 kB)\n",
      "\u001b[K     |████████████████████████████████| 812 kB 136.2 MB/s eta 0:00:01\n",
      "\u001b[?25hCollecting colorlog<7.0.0,>=4.1.0\n",
      "  Downloading colorlog-6.7.0-py2.py3-none-any.whl (11 kB)\n",
      "Collecting furl<3.0.0,>=2.0.0\n",
      "  Downloading furl-2.1.3-py2.py3-none-any.whl (20 kB)\n",
      "Collecting datacommons<2.0.0,>=1.4.3\n",
      "  Downloading datacommons-1.4.3-py3-none-any.whl (46 kB)\n",
      "\u001b[K     |████████████████████████████████| 46 kB 10.5 MB/s  eta 0:00:01\n",
      "\u001b[?25hCollecting dulwich<0.21.0,>=0.20.0\n",
      "  Downloading dulwich-0.20.50-cp310-cp310-manylinux_2_17_x86_64.manylinux2014_x86_64.whl (499 kB)\n",
      "\u001b[K     |████████████████████████████████| 499 kB 134.0 MB/s eta 0:00:01\n",
      "\u001b[?25hCollecting toolz<0.13.0,>=0.11.0\n",
      "  Downloading toolz-0.12.0-py3-none-any.whl (55 kB)\n",
      "\u001b[K     |████████████████████████████████| 55 kB 12.9 MB/s  eta 0:00:01\n",
      "\u001b[?25hCollecting click<9.0.0,>=7.1.0\n",
      "  Downloading click-8.1.3-py3-none-any.whl (96 kB)\n",
      "\u001b[K     |████████████████████████████████| 96 kB 15.7 MB/s  eta 0:00:01\n",
      "\u001b[?25hRequirement already satisfied: PyYAML<7.0.0,>=5.4.0 in /usr/local/lib/python3.10/site-packages (from datapane->polly-python==0.2.6-clinicallabel) (5.4.1)\n",
      "Collecting dacite<2.0.0,>=1.0.2\n",
      "  Downloading dacite-1.6.0-py3-none-any.whl (12 kB)\n",
      "Collecting requests-toolbelt<0.10.0,>=0.9.1\n",
      "  Downloading requests_toolbelt-0.9.1-py2.py3-none-any.whl (54 kB)\n",
      "\u001b[K     |████████████████████████████████| 54 kB 6.8 MB/s s eta 0:00:01\n",
      "\u001b[?25hCollecting stringcase<2.0.0,>=1.2.0\n",
      "  Downloading stringcase-1.2.0.tar.gz (3.0 kB)\n",
      "Requirement already satisfied: nbconvert<7.0.0,>=6.1.0 in /usr/local/lib/python3.10/site-packages (from datapane->polly-python==0.2.6-clinicallabel) (6.3.0)\n",
      "Requirement already satisfied: tabulate<0.9.0,>=0.8.0 in /usr/local/lib/python3.10/site-packages (from datapane->polly-python==0.2.6-clinicallabel) (0.8.9)\n",
      "Collecting click-spinner<0.2.0,>=0.1.8\n",
      "  Downloading click_spinner-0.1.10-py2.py3-none-any.whl (4.0 kB)\n",
      "Collecting pyarrow<11.0.0,>=6.0.0\n",
      "  Downloading pyarrow-10.0.1-cp310-cp310-manylinux_2_17_x86_64.manylinux2014_x86_64.whl (35.9 MB)\n",
      "\u001b[K     |████████████████████████████████| 35.9 MB 136.5 MB/s eta 0:00:01\n",
      "\u001b[?25hCollecting dominate<3.0.0,>=2.4.0\n",
      "  Downloading dominate-2.7.0-py2.py3-none-any.whl (29 kB)\n",
      "Collecting validators<0.21.0,>=0.18.0\n",
      "  Downloading validators-0.20.0.tar.gz (30 kB)\n",
      "Collecting posthog<3.0.0,>=1.4.0\n",
      "  Downloading posthog-2.2.0-py2.py3-none-any.whl (33 kB)\n",
      "Collecting lxml<5.0.0,>=4.0.0\n",
      "  Downloading lxml-4.9.1-cp310-cp310-manylinux_2_17_x86_64.manylinux2014_x86_64.manylinux_2_24_x86_64.whl (6.9 MB)\n",
      "\u001b[K     |████████████████████████████████| 6.9 MB 128.3 MB/s eta 0:00:01\n",
      "\u001b[?25hRequirement already satisfied: entrypoints in /usr/local/lib/python3.10/site-packages (from altair<5.0.0,>=4.0.0->datapane->polly-python==0.2.6-clinicallabel) (0.3)\n",
      "Collecting orderedmultidict>=1.0.1\n",
      "  Downloading orderedmultidict-1.0.1-py2.py3-none-any.whl (11 kB)\n",
      "Requirement already satisfied: attrs in /usr/local/lib/python3.10/site-packages (from glom<23.0.0,>=20.11.0->datapane->polly-python==0.2.6-clinicallabel) (21.2.0)\n",
      "Collecting face>=20.1.0\n",
      "  Downloading face-22.0.0-py3-none-any.whl (54 kB)\n",
      "\u001b[K     |████████████████████████████████| 54 kB 6.8 MB/s s eta 0:00:01\n",
      "\u001b[?25hRequirement already satisfied: ipykernel in /usr/local/lib/python3.10/site-packages (from ipynbname<2022.0.0,>=2021.3.2->datapane->polly-python==0.2.6-clinicallabel) (6.13.1)\n",
      "Requirement already satisfied: MarkupSafe>=2.0 in /usr/local/lib/python3.10/site-packages (from Jinja2<4.0.0,>=3.0.0->datapane->polly-python==0.2.6-clinicallabel) (2.0.1)\n",
      "Requirement already satisfied: pyrsistent!=0.17.0,!=0.17.1,!=0.17.2,>=0.14.0 in /usr/local/lib/python3.10/site-packages (from jsonschema<5.0.0,>=3.2.0->datapane->polly-python==0.2.6-clinicallabel) (0.18.0)\n",
      "Requirement already satisfied: jupyterlab-pygments in /usr/local/lib/python3.10/site-packages (from nbconvert<7.0.0,>=6.1.0->datapane->polly-python==0.2.6-clinicallabel) (0.2.2)\n",
      "Requirement already satisfied: mistune<2,>=0.8.1 in /usr/local/lib/python3.10/site-packages (from nbconvert<7.0.0,>=6.1.0->datapane->polly-python==0.2.6-clinicallabel) (0.8.4)\n",
      "Requirement already satisfied: pandocfilters>=1.4.1 in /usr/local/lib/python3.10/site-packages (from nbconvert<7.0.0,>=6.1.0->datapane->polly-python==0.2.6-clinicallabel) (1.5.0)\n",
      "Requirement already satisfied: pygments>=2.4.1 in /usr/local/lib/python3.10/site-packages (from nbconvert<7.0.0,>=6.1.0->datapane->polly-python==0.2.6-clinicallabel) (2.10.0)\n",
      "Requirement already satisfied: jupyter-core in /usr/local/lib/python3.10/site-packages (from nbconvert<7.0.0,>=6.1.0->datapane->polly-python==0.2.6-clinicallabel) (4.9.1)\n",
      "Requirement already satisfied: nbformat>=4.4 in /usr/local/lib/python3.10/site-packages (from nbconvert<7.0.0,>=6.1.0->datapane->polly-python==0.2.6-clinicallabel) (5.1.3)\n",
      "Requirement already satisfied: testpath in /usr/local/lib/python3.10/site-packages (from nbconvert<7.0.0,>=6.1.0->datapane->polly-python==0.2.6-clinicallabel) (0.5.0)\n",
      "Requirement already satisfied: traitlets>=5.0 in /usr/local/lib/python3.10/site-packages (from nbconvert<7.0.0,>=6.1.0->datapane->polly-python==0.2.6-clinicallabel) (5.1.1)\n",
      "Requirement already satisfied: bleach in /usr/local/lib/python3.10/site-packages (from nbconvert<7.0.0,>=6.1.0->datapane->polly-python==0.2.6-clinicallabel) (4.1.0)\n",
      "Requirement already satisfied: defusedxml in /usr/local/lib/python3.10/site-packages (from nbconvert<7.0.0,>=6.1.0->datapane->polly-python==0.2.6-clinicallabel) (0.7.1)\n",
      "Requirement already satisfied: nbclient<0.6.0,>=0.5.0 in /usr/local/lib/python3.10/site-packages (from nbconvert<7.0.0,>=6.1.0->datapane->polly-python==0.2.6-clinicallabel) (0.5.13)\n",
      "Requirement already satisfied: nest-asyncio in /usr/local/lib/python3.10/site-packages (from nbclient<0.6.0,>=0.5.0->nbconvert<7.0.0,>=6.1.0->datapane->polly-python==0.2.6-clinicallabel) (1.5.5)\n",
      "Requirement already satisfied: jupyter-client>=6.1.5 in /usr/local/lib/python3.10/site-packages (from nbclient<0.6.0,>=0.5.0->nbconvert<7.0.0,>=6.1.0->datapane->polly-python==0.2.6-clinicallabel) (6.1.12)\n",
      "Requirement already satisfied: pyzmq>=13 in /usr/local/lib/python3.10/site-packages (from jupyter-client>=6.1.5->nbclient<0.6.0,>=0.5.0->nbconvert<7.0.0,>=6.1.0->datapane->polly-python==0.2.6-clinicallabel) (22.3.0)\n",
      "Requirement already satisfied: tornado>=4.1 in /usr/local/lib/python3.10/site-packages (from jupyter-client>=6.1.5->nbclient<0.6.0,>=0.5.0->nbconvert<7.0.0,>=6.1.0->datapane->polly-python==0.2.6-clinicallabel) (6.1)\n",
      "Requirement already satisfied: ipython-genutils in /usr/local/lib/python3.10/site-packages (from nbformat>=4.4->nbconvert<7.0.0,>=6.1.0->datapane->polly-python==0.2.6-clinicallabel) (0.2.0)\n",
      "Requirement already satisfied: pyparsing!=3.0.5,>=2.0.2 in /usr/local/lib/python3.10/site-packages (from packaging<22.0.0,>=20.0.0->datapane->polly-python==0.2.6-clinicallabel) (3.0.6)\n",
      "Collecting backoff<2.0.0,>=1.10.0\n",
      "  Downloading backoff-1.11.1-py2.py3-none-any.whl (13 kB)\n",
      "Collecting monotonic>=1.5\n",
      "  Downloading monotonic-1.6-py2.py3-none-any.whl (8.2 kB)\n",
      "Requirement already satisfied: decorator>=3.4.0 in /usr/local/lib/python3.10/site-packages (from validators<0.21.0,>=0.18.0->datapane->polly-python==0.2.6-clinicallabel) (5.1.0)\n",
      "Requirement already satisfied: webencodings in /usr/local/lib/python3.10/site-packages (from bleach->nbconvert<7.0.0,>=6.1.0->datapane->polly-python==0.2.6-clinicallabel) (0.5.1)\n",
      "Collecting wrapt<2,>=1.10\n",
      "  Downloading wrapt-1.14.1-cp310-cp310-manylinux_2_5_x86_64.manylinux1_x86_64.manylinux_2_17_x86_64.manylinux2014_x86_64.whl (77 kB)\n",
      "\u001b[K     |████████████████████████████████| 77 kB 16.7 MB/s  eta 0:00:01\n",
      "\u001b[?25hRequirement already satisfied: psutil in /usr/local/lib/python3.10/site-packages (from ipykernel->ipynbname<2022.0.0,>=2021.3.2->datapane->polly-python==0.2.6-clinicallabel) (5.9.1)\n",
      "Requirement already satisfied: ipython>=7.23.1 in /usr/local/lib/python3.10/site-packages (from ipykernel->ipynbname<2022.0.0,>=2021.3.2->datapane->polly-python==0.2.6-clinicallabel) (8.2.0)\n",
      "Requirement already satisfied: matplotlib-inline>=0.1 in /usr/local/lib/python3.10/site-packages (from ipykernel->ipynbname<2022.0.0,>=2021.3.2->datapane->polly-python==0.2.6-clinicallabel) (0.1.3)\n",
      "Requirement already satisfied: debugpy>=1.0 in /usr/local/lib/python3.10/site-packages (from ipykernel->ipynbname<2022.0.0,>=2021.3.2->datapane->polly-python==0.2.6-clinicallabel) (1.6.0)\n",
      "Requirement already satisfied: stack-data in /usr/local/lib/python3.10/site-packages (from ipython>=7.23.1->ipykernel->ipynbname<2022.0.0,>=2021.3.2->datapane->polly-python==0.2.6-clinicallabel) (0.2.0)\n",
      "Requirement already satisfied: pexpect>4.3 in /usr/local/lib/python3.10/site-packages (from ipython>=7.23.1->ipykernel->ipynbname<2022.0.0,>=2021.3.2->datapane->polly-python==0.2.6-clinicallabel) (4.8.0)\n",
      "Requirement already satisfied: jedi>=0.16 in /usr/local/lib/python3.10/site-packages (from ipython>=7.23.1->ipykernel->ipynbname<2022.0.0,>=2021.3.2->datapane->polly-python==0.2.6-clinicallabel) (0.18.1)\n",
      "Requirement already satisfied: backcall in /usr/local/lib/python3.10/site-packages (from ipython>=7.23.1->ipykernel->ipynbname<2022.0.0,>=2021.3.2->datapane->polly-python==0.2.6-clinicallabel) (0.2.0)\n",
      "Requirement already satisfied: prompt-toolkit!=3.0.0,!=3.0.1,<3.1.0,>=2.0.0 in /usr/local/lib/python3.10/site-packages (from ipython>=7.23.1->ipykernel->ipynbname<2022.0.0,>=2021.3.2->datapane->polly-python==0.2.6-clinicallabel) (3.0.22)\n",
      "Requirement already satisfied: pickleshare in /usr/local/lib/python3.10/site-packages (from ipython>=7.23.1->ipykernel->ipynbname<2022.0.0,>=2021.3.2->datapane->polly-python==0.2.6-clinicallabel) (0.7.5)\n",
      "Requirement already satisfied: parso<0.9.0,>=0.8.0 in /usr/local/lib/python3.10/site-packages (from jedi>=0.16->ipython>=7.23.1->ipykernel->ipynbname<2022.0.0,>=2021.3.2->datapane->polly-python==0.2.6-clinicallabel) (0.8.2)\n",
      "Requirement already satisfied: ptyprocess>=0.5 in /usr/local/lib/python3.10/site-packages (from pexpect>4.3->ipython>=7.23.1->ipykernel->ipynbname<2022.0.0,>=2021.3.2->datapane->polly-python==0.2.6-clinicallabel) (0.7.0)\n",
      "Requirement already satisfied: wcwidth in /usr/local/lib/python3.10/site-packages (from prompt-toolkit!=3.0.0,!=3.0.1,<3.1.0,>=2.0.0->ipython>=7.23.1->ipykernel->ipynbname<2022.0.0,>=2021.3.2->datapane->polly-python==0.2.6-clinicallabel) (0.2.5)\n",
      "Collecting tenacity>=6.2.0\n",
      "  Downloading tenacity-8.1.0-py3-none-any.whl (23 kB)\n",
      "Collecting iniconfig\n",
      "  Downloading iniconfig-1.1.1-py2.py3-none-any.whl (5.0 kB)\n",
      "Collecting exceptiongroup>=1.0.0rc8\n",
      "  Downloading exceptiongroup-1.0.4-py3-none-any.whl (14 kB)\n",
      "Collecting tomli>=1.0.0\n",
      "  Downloading tomli-2.0.1-py3-none-any.whl (12 kB)\n",
      "Collecting pluggy<2.0,>=0.12\n",
      "  Downloading pluggy-1.0.0-py2.py3-none-any.whl (13 kB)\n",
      "Requirement already satisfied: docutils>=0.11 in /usr/local/lib/python3.10/site-packages (from rst2txt->polly-python==0.2.6-clinicallabel) (0.15.2)\n",
      "Requirement already satisfied: executing in /usr/local/lib/python3.10/site-packages (from stack-data->ipython>=7.23.1->ipykernel->ipynbname<2022.0.0,>=2021.3.2->datapane->polly-python==0.2.6-clinicallabel) (0.8.3)\n",
      "Requirement already satisfied: pure-eval in /usr/local/lib/python3.10/site-packages (from stack-data->ipython>=7.23.1->ipykernel->ipynbname<2022.0.0,>=2021.3.2->datapane->polly-python==0.2.6-clinicallabel) (0.2.2)\n",
      "Requirement already satisfied: asttokens in /usr/local/lib/python3.10/site-packages (from stack-data->ipython>=7.23.1->ipykernel->ipynbname<2022.0.0,>=2021.3.2->datapane->polly-python==0.2.6-clinicallabel) (2.0.5)\n",
      "Using legacy 'setup.py install' for Cerberus, since package 'wheel' is not installed.\n",
      "Using legacy 'setup.py install' for retrying, since package 'wheel' is not installed.\n",
      "Using legacy 'setup.py install' for micawber, since package 'wheel' is not installed.\n",
      "Using legacy 'setup.py install' for stringcase, since package 'wheel' is not installed.\n",
      "Using legacy 'setup.py install' for validators, since package 'wheel' is not installed.\n",
      "Installing collected packages: pytz, certifi, boltons, typing-extensions, toolz, requests, orderedmultidict, monotonic, face, backoff, wrapt, vega-datasets, validators, tomli, tenacity, stringcase, soupsieve, requests-toolbelt, python-magic, pydantic, pyarrow, posthog, pluggy, munch, micawber, lxml, ipynbname, iniconfig, importlib-resources, h5py, glom, furl, exceptiongroup, ecdsa, dulwich, dominate, datacommons-pandas, datacommons, dacite, colorlog, click-spinner, click, altair, sqlparse, rst2txt, retrying, python-jose, pytest, postpy2, plotly, mixpanel, joblib, elucidatacmapPy, elucidatacloudpathlib, Deprecated, datapane, Cerberus, beautifulsoup4, polly-python\n",
      "  Attempting uninstall: pytz\n",
      "    Found existing installation: pytz 2021.3\n",
      "    Uninstalling pytz-2021.3:\n",
      "      Successfully uninstalled pytz-2021.3\n",
      "  Attempting uninstall: certifi\n",
      "    Found existing installation: certifi 2021.5.30\n",
      "    Uninstalling certifi-2021.5.30:\n",
      "      Successfully uninstalled certifi-2021.5.30\n",
      "  Attempting uninstall: requests\n",
      "    Found existing installation: requests 2.27.1\n",
      "    Uninstalling requests-2.27.1:\n",
      "      Successfully uninstalled requests-2.27.1\n",
      "    Running setup.py install for validators ... \u001b[?25ldone\n",
      "\u001b[?25h    Running setup.py install for stringcase ... \u001b[?25ldone\n",
      "\u001b[?25h    Running setup.py install for micawber ... \u001b[?25ldone\n",
      "\u001b[?25h    Running setup.py install for retrying ... \u001b[?25ldone\n",
      "\u001b[?25h  Attempting uninstall: Cerberus\n",
      "    Found existing installation: Cerberus 1.3.4\n",
      "    Uninstalling Cerberus-1.3.4:\n",
      "      Successfully uninstalled Cerberus-1.3.4\n",
      "    Running setup.py install for Cerberus ... \u001b[?25ldone\n",
      "\u001b[?25hSuccessfully installed Cerberus-1.3.2 Deprecated-1.2.13 altair-4.2.0 backoff-1.11.1 beautifulsoup4-4.11.1 boltons-21.0.0 certifi-2021.10.8 click-8.1.3 click-spinner-0.1.10 colorlog-6.7.0 dacite-1.6.0 datacommons-1.4.3 datacommons-pandas-0.0.3 datapane-0.15.5 dominate-2.7.0 dulwich-0.20.50 ecdsa-0.18.0 elucidatacloudpathlib-0.6.6 elucidatacmapPy-3.3.4 exceptiongroup-1.0.4 face-22.0.0 furl-2.1.3 glom-22.1.0 h5py-3.7.0 importlib-resources-5.10.0 iniconfig-1.1.1 ipynbname-2021.3.2 joblib-1.2.0 lxml-4.9.1 micawber-0.5.4 mixpanel-4.10.0 monotonic-1.6 munch-2.5.0 orderedmultidict-1.0.1 plotly-5.11.0 pluggy-1.0.0 polly-python-0.2.6 posthog-2.2.0 postpy2-0.0.6 pyarrow-10.0.1 pydantic-1.9.1 pytest-7.2.0 python-jose-3.3.0 python-magic-0.4.24 pytz-2021.1 requests-2.25.1 requests-toolbelt-0.9.1 retrying-1.3.3 rst2txt-1.1.0 soupsieve-2.3.2.post1 sqlparse-0.4.3 stringcase-1.2.0 tenacity-8.1.0 tomli-2.0.1 toolz-0.12.0 typing-extensions-4.4.0 validators-0.20.0 vega-datasets-0.9.0 wrapt-1.14.1\n",
      "\u001b[33mWARNING: Running pip as the 'root' user can result in broken permissions and conflicting behaviour with the system package manager. It is recommended to use a virtual environment instead: https://pip.pypa.io/warnings/venv\u001b[0m\n",
      "\u001b[33mWARNING: You are using pip version 21.2.4; however, version 22.3.1 is available.\n",
      "You should consider upgrading via the '/usr/local/bin/python3.10 -m pip install --upgrade pip' command.\u001b[0m\n"
     ]
    }
   ],
   "source": [
    "!sudo pip3 install https://elucidatainc.github.io/PublicAssets/builds/polly-python/tests/polly/polly_python-0.2.6_clinicallabel-py3-none-any.whl"
   ]
  },
  {
   "cell_type": "code",
   "execution_count": 3,
   "metadata": {},
   "outputs": [],
   "source": [
    "import os\n",
    "import json\n",
    "import pandas as pd\n",
    "from polly.auth import Polly\n",
    "from polly.curation  import Curation\n",
    "from polly.omixatlas import OmixAtlas"
   ]
  },
  {
   "cell_type": "code",
   "execution_count": 4,
   "metadata": {},
   "outputs": [],
   "source": [
    "token = os.environ['POLLY_REFRESH_TOKEN']"
   ]
  },
  {
   "cell_type": "code",
   "execution_count": 5,
   "metadata": {},
   "outputs": [],
   "source": [
    "Polly.auth(token)"
   ]
  },
  {
   "cell_type": "code",
   "execution_count": 6,
   "metadata": {},
   "outputs": [],
   "source": [
    "obj = Curation()"
   ]
  },
  {
   "cell_type": "code",
   "execution_count": 7,
   "metadata": {},
   "outputs": [
    {
     "name": "stderr",
     "output_type": "stream",
     "text": [
      "INFO:root:Cohort Created !\n"
     ]
    },
    {
     "name": "stdout",
     "output_type": "stream",
     "text": [
      "Initializing process...\n",
      "Adding data to cohort...\n",
      "Adding metadata to cohort...\n"
     ]
    },
    {
     "name": "stderr",
     "output_type": "stream",
     "text": [
      "INFO:cmap_logger:parsing gct file\n",
      "INFO:cmap_logger:Reading GCT: .cache/sample_metadata_query.pco/geo_GSE152430_GPL18573.gct\n",
      "INFO:root:'49' sample/s added to Cohort!\n",
      "INFO:cmap_logger:parsing gct file\n",
      "INFO:cmap_logger:Reading GCT: ./.cache/sample_metadata_query.pco/geo_GSE152430_GPL18573.gct\n",
      "INFO:root: 1 dataset removed from Cohort!\n"
     ]
    },
    {
     "name": "stdout",
     "output_type": "stream",
     "text": [
      "Initializing process...\n",
      "Adding data to cohort...\n",
      "Adding metadata to cohort...\n"
     ]
    },
    {
     "name": "stderr",
     "output_type": "stream",
     "text": [
      "INFO:cmap_logger:parsing gct file\n",
      "INFO:cmap_logger:Reading GCT: .cache/sample_metadata_query.pco/geo_GSE35643_GPL6244.gct\n",
      "INFO:root:'12' sample/s added to Cohort!\n",
      "INFO:cmap_logger:parsing gct file\n",
      "INFO:cmap_logger:Reading GCT: ./.cache/sample_metadata_query.pco/geo_GSE35643_GPL6244.gct\n",
      "INFO:root: 1 dataset removed from Cohort!\n"
     ]
    }
   ],
   "source": [
    "# Dataset level inference\n",
    "\n",
    "result = obj.assign_clinical_labels(\n",
    "    repo_name=\"geo\", dataset_ids=[\"GSE152430_GPL18573\", \"GSE35643_GPL6244\"]\n",
    ")"
   ]
  },
  {
   "cell_type": "code",
   "execution_count": 8,
   "metadata": {},
   "outputs": [
    {
     "data": {
      "text/html": [
       "<div>\n",
       "<style scoped>\n",
       "    .dataframe tbody tr th:only-of-type {\n",
       "        vertical-align: middle;\n",
       "    }\n",
       "\n",
       "    .dataframe tbody tr th {\n",
       "        vertical-align: top;\n",
       "    }\n",
       "\n",
       "    .dataframe thead th {\n",
       "        text-align: right;\n",
       "    }\n",
       "</style>\n",
       "<table border=\"1\" class=\"dataframe\">\n",
       "  <thead>\n",
       "    <tr style=\"text-align: right;\">\n",
       "      <th></th>\n",
       "      <th>dataset_id</th>\n",
       "      <th>clinical_tag</th>\n",
       "    </tr>\n",
       "  </thead>\n",
       "  <tbody>\n",
       "    <tr>\n",
       "      <th>0</th>\n",
       "      <td>GSE152430_GPL18573</td>\n",
       "      <td>Clinical</td>\n",
       "    </tr>\n",
       "    <tr>\n",
       "      <th>1</th>\n",
       "      <td>GSE35643_GPL6244</td>\n",
       "      <td>Non Clinical</td>\n",
       "    </tr>\n",
       "  </tbody>\n",
       "</table>\n",
       "</div>"
      ],
      "text/plain": [
       "           dataset_id  clinical_tag\n",
       "0  GSE152430_GPL18573      Clinical\n",
       "1    GSE35643_GPL6244  Non Clinical"
      ]
     },
     "execution_count": 8,
     "metadata": {},
     "output_type": "execute_result"
    }
   ],
   "source": [
    "result"
   ]
  },
  {
   "cell_type": "code",
   "execution_count": 9,
   "metadata": {},
   "outputs": [
    {
     "name": "stderr",
     "output_type": "stream",
     "text": [
      "INFO:root:Cohort Created !\n"
     ]
    },
    {
     "name": "stdout",
     "output_type": "stream",
     "text": [
      "Initializing process...\n",
      "Adding data to cohort...\n",
      "Adding metadata to cohort...\n"
     ]
    },
    {
     "name": "stderr",
     "output_type": "stream",
     "text": [
      "INFO:cmap_logger:parsing gct file\n",
      "INFO:cmap_logger:Reading GCT: .cache/sample_metadata_query.pco/geo_GSE152430_GPL18573.gct\n",
      "INFO:root:'49' sample/s added to Cohort!\n",
      "INFO:cmap_logger:parsing gct file\n",
      "INFO:cmap_logger:Reading GCT: ./.cache/sample_metadata_query.pco/geo_GSE152430_GPL18573.gct\n",
      "INFO:root: 1 dataset removed from Cohort!\n"
     ]
    },
    {
     "name": "stdout",
     "output_type": "stream",
     "text": [
      "Initializing process...\n",
      "Adding data to cohort...\n",
      "Adding metadata to cohort...\n"
     ]
    },
    {
     "name": "stderr",
     "output_type": "stream",
     "text": [
      "INFO:cmap_logger:parsing gct file\n",
      "INFO:cmap_logger:Reading GCT: .cache/sample_metadata_query.pco/geo_GSE35643_GPL6244.gct\n",
      "INFO:root:'12' sample/s added to Cohort!\n",
      "INFO:cmap_logger:parsing gct file\n",
      "INFO:cmap_logger:Reading GCT: ./.cache/sample_metadata_query.pco/geo_GSE35643_GPL6244.gct\n",
      "INFO:root: 1 dataset removed from Cohort!\n"
     ]
    },
    {
     "data": {
      "text/html": [
       "<div>\n",
       "<style scoped>\n",
       "    .dataframe tbody tr th:only-of-type {\n",
       "        vertical-align: middle;\n",
       "    }\n",
       "\n",
       "    .dataframe tbody tr th {\n",
       "        vertical-align: top;\n",
       "    }\n",
       "\n",
       "    .dataframe thead th {\n",
       "        text-align: right;\n",
       "    }\n",
       "</style>\n",
       "<table border=\"1\" class=\"dataframe\">\n",
       "  <thead>\n",
       "    <tr style=\"text-align: right;\">\n",
       "      <th></th>\n",
       "      <th>dataset_id</th>\n",
       "      <th>sample_id</th>\n",
       "      <th>clinical_tag</th>\n",
       "    </tr>\n",
       "  </thead>\n",
       "  <tbody>\n",
       "    <tr>\n",
       "      <th>0</th>\n",
       "      <td>GSE152430_GPL18573</td>\n",
       "      <td>GSM4615218</td>\n",
       "      <td>Clinical</td>\n",
       "    </tr>\n",
       "    <tr>\n",
       "      <th>1</th>\n",
       "      <td>GSE152430_GPL18573</td>\n",
       "      <td>GSM4615219</td>\n",
       "      <td>Clinical</td>\n",
       "    </tr>\n",
       "    <tr>\n",
       "      <th>2</th>\n",
       "      <td>GSE152430_GPL18573</td>\n",
       "      <td>GSM4615220</td>\n",
       "      <td>Clinical</td>\n",
       "    </tr>\n",
       "    <tr>\n",
       "      <th>3</th>\n",
       "      <td>GSE35643_GPL6244</td>\n",
       "      <td>GSM872418</td>\n",
       "      <td>Non Clinical</td>\n",
       "    </tr>\n",
       "    <tr>\n",
       "      <th>4</th>\n",
       "      <td>GSE35643_GPL6244</td>\n",
       "      <td>GSM872419</td>\n",
       "      <td>Non Clinical</td>\n",
       "    </tr>\n",
       "    <tr>\n",
       "      <th>5</th>\n",
       "      <td>GSE35643_GPL6244</td>\n",
       "      <td>GSM872420</td>\n",
       "      <td>Non Clinical</td>\n",
       "    </tr>\n",
       "    <tr>\n",
       "      <th>6</th>\n",
       "      <td>GSE35643_GPL6244</td>\n",
       "      <td>GSM872421</td>\n",
       "      <td>Non Clinical</td>\n",
       "    </tr>\n",
       "  </tbody>\n",
       "</table>\n",
       "</div>"
      ],
      "text/plain": [
       "           dataset_id   sample_id  clinical_tag\n",
       "0  GSE152430_GPL18573  GSM4615218      Clinical\n",
       "1  GSE152430_GPL18573  GSM4615219      Clinical\n",
       "2  GSE152430_GPL18573  GSM4615220      Clinical\n",
       "3    GSE35643_GPL6244   GSM872418  Non Clinical\n",
       "4    GSE35643_GPL6244   GSM872419  Non Clinical\n",
       "5    GSE35643_GPL6244   GSM872420  Non Clinical\n",
       "6    GSE35643_GPL6244   GSM872421  Non Clinical"
      ]
     },
     "execution_count": 9,
     "metadata": {},
     "output_type": "execute_result"
    }
   ],
   "source": [
    "# Sample level inference\n",
    "\n",
    "result = obj.assign_clinical_labels(\n",
    "    repo_name=\"geo\",\n",
    "    dataset_ids=[\"GSE152430_GPL18573\", \"GSE35643_GPL6244\"],\n",
    "    sample_ids=[\n",
    "        \"GSM4615218\",\n",
    "        \"GSM4615219\",\n",
    "        \"GSM4615220\",\n",
    "        \"GSM872418\",\n",
    "        \"GSM872419\",\n",
    "        \"GSM872420\",\n",
    "        \"GSM872421\",\n",
    "    ],\n",
    ")\n",
    "result"
   ]
  },
  {
   "cell_type": "code",
   "execution_count": 7,
   "metadata": {
    "scrolled": true
   },
   "outputs": [
    {
     "ename": "paramException",
     "evalue": "paramException (parameter error): Dataset IDs should be given as a valid list of strings",
     "output_type": "error",
     "traceback": [
      "\u001b[0;31m---------------------------------------------------------------------------\u001b[0m",
      "\u001b[0;31mparamException\u001b[0m                            Traceback (most recent call last)",
      "Input \u001b[0;32mIn [7]\u001b[0m, in \u001b[0;36m<cell line: 3>\u001b[0;34m()\u001b[0m\n\u001b[1;32m      1\u001b[0m \u001b[38;5;66;03m# Exception when dataset ids are not given as a list of strings\u001b[39;00m\n\u001b[0;32m----> 3\u001b[0m result \u001b[38;5;241m=\u001b[39m \u001b[43mobj\u001b[49m\u001b[38;5;241;43m.\u001b[39;49m\u001b[43massign_clinical_labels\u001b[49m\u001b[43m(\u001b[49m\n\u001b[1;32m      4\u001b[0m \u001b[43m    \u001b[49m\u001b[43mrepo_name\u001b[49m\u001b[38;5;241;43m=\u001b[39;49m\u001b[38;5;124;43m\"\u001b[39;49m\u001b[38;5;124;43mgeo\u001b[39;49m\u001b[38;5;124;43m\"\u001b[39;49m\u001b[43m,\u001b[49m\u001b[43m \u001b[49m\u001b[43mdataset_ids\u001b[49m\u001b[38;5;241;43m=\u001b[39;49m\u001b[38;5;124;43m\"\u001b[39;49m\u001b[38;5;124;43mGSE152430_GPL18573\u001b[39;49m\u001b[38;5;124;43m\"\u001b[39;49m\n\u001b[1;32m      5\u001b[0m \u001b[43m)\u001b[49m\n",
      "File \u001b[0;32m/usr/local/lib/python3.10/site-packages/polly/curation.py:539\u001b[0m, in \u001b[0;36mCuration.assign_clinical_labels\u001b[0;34m(self, repo_name, dataset_ids, sample_ids)\u001b[0m\n\u001b[1;32m    535\u001b[0m     clinical_tags \u001b[38;5;241m=\u001b[39m \u001b[38;5;28mself\u001b[39m\u001b[38;5;241m.\u001b[39m_post_process_clinical_tags(\n\u001b[1;32m    536\u001b[0m         clinical_tags, is_sample_tag, sample_ids\n\u001b[1;32m    537\u001b[0m     )\n\u001b[1;32m    538\u001b[0m \u001b[38;5;28;01mexcept\u001b[39;00m \u001b[38;5;167;01mException\u001b[39;00m \u001b[38;5;28;01mas\u001b[39;00m err:\n\u001b[0;32m--> 539\u001b[0m     \u001b[38;5;28;01mraise\u001b[39;00m err\n\u001b[1;32m    541\u001b[0m \u001b[38;5;28;01mreturn\u001b[39;00m clinical_tags\n",
      "File \u001b[0;32m/usr/local/lib/python3.10/site-packages/polly/curation.py:490\u001b[0m, in \u001b[0;36mCuration.assign_clinical_labels\u001b[0;34m(self, repo_name, dataset_ids, sample_ids)\u001b[0m\n\u001b[1;32m    487\u001b[0m warnings\u001b[38;5;241m.\u001b[39mformatwarning \u001b[38;5;241m=\u001b[39m \u001b[38;5;28;01mlambda\u001b[39;00m msg, \u001b[38;5;241m*\u001b[39margs, \u001b[38;5;241m*\u001b[39m\u001b[38;5;241m*\u001b[39mkwargs: \u001b[38;5;124mf\u001b[39m\u001b[38;5;124m\"\u001b[39m\u001b[38;5;124mWARNING: \u001b[39m\u001b[38;5;132;01m{\u001b[39;00mmsg\u001b[38;5;132;01m}\u001b[39;00m\u001b[38;5;130;01m\\n\u001b[39;00m\u001b[38;5;124m\"\u001b[39m\n\u001b[1;32m    489\u001b[0m \u001b[38;5;28;01mtry\u001b[39;00m:\n\u001b[0;32m--> 490\u001b[0m     \u001b[38;5;28;43mself\u001b[39;49m\u001b[38;5;241;43m.\u001b[39;49m\u001b[43m_clinical_model_param_checks\u001b[49m\u001b[43m(\u001b[49m\u001b[43mrepo_name\u001b[49m\u001b[43m,\u001b[49m\u001b[43m \u001b[49m\u001b[43mdataset_ids\u001b[49m\u001b[43m,\u001b[49m\u001b[43m \u001b[49m\u001b[43msample_ids\u001b[49m\u001b[43m)\u001b[49m\n\u001b[1;32m    492\u001b[0m     is_sample_tag \u001b[38;5;241m=\u001b[39m sample_ids \u001b[38;5;129;01mis\u001b[39;00m \u001b[38;5;129;01mnot\u001b[39;00m \u001b[38;5;28;01mNone\u001b[39;00m\n\u001b[1;32m    493\u001b[0m     inference_level \u001b[38;5;241m=\u001b[39m \u001b[38;5;124m\"\u001b[39m\u001b[38;5;124msample_id\u001b[39m\u001b[38;5;124m\"\u001b[39m \u001b[38;5;28;01mif\u001b[39;00m (is_sample_tag) \u001b[38;5;28;01melse\u001b[39;00m \u001b[38;5;124m\"\u001b[39m\u001b[38;5;124mdataset_id\u001b[39m\u001b[38;5;124m\"\u001b[39m\n",
      "File \u001b[0;32m/usr/local/lib/python3.10/site-packages/polly/curation.py:156\u001b[0m, in \u001b[0;36mCuration._clinical_model_param_checks\u001b[0;34m(self, repo_name, dataset_ids, sample_ids)\u001b[0m\n\u001b[1;32m    142\u001b[0m \u001b[38;5;124;03m\"\"\"\u001b[39;00m\n\u001b[1;32m    143\u001b[0m \u001b[38;5;124;03mchecking the parameter passed for the clincal label assigning model\u001b[39;00m\n\u001b[1;32m    144\u001b[0m \n\u001b[0;32m   (...)\u001b[0m\n\u001b[1;32m    153\u001b[0m \u001b[38;5;124;03m    paramException\u001b[39;00m\n\u001b[1;32m    154\u001b[0m \u001b[38;5;124;03m\"\"\"\u001b[39;00m\n\u001b[1;32m    155\u001b[0m \u001b[38;5;28;01mif\u001b[39;00m dataset_ids \u001b[38;5;129;01mis\u001b[39;00m \u001b[38;5;28;01mNone\u001b[39;00m \u001b[38;5;129;01mor\u001b[39;00m \u001b[38;5;28mtype\u001b[39m(dataset_ids) \u001b[38;5;129;01mis\u001b[39;00m \u001b[38;5;129;01mnot\u001b[39;00m \u001b[38;5;28mlist\u001b[39m:\n\u001b[0;32m--> 156\u001b[0m     \u001b[38;5;28;01mraise\u001b[39;00m paramException(\n\u001b[1;32m    157\u001b[0m         title\u001b[38;5;241m=\u001b[39m\u001b[38;5;124m\"\u001b[39m\u001b[38;5;124mParam Exception\u001b[39m\u001b[38;5;124m\"\u001b[39m,\n\u001b[1;32m    158\u001b[0m         detail\u001b[38;5;241m=\u001b[39m\u001b[38;5;124m\"\u001b[39m\u001b[38;5;124mDataset IDs should be given as a valid list of strings\u001b[39m\u001b[38;5;124m\"\u001b[39m,\n\u001b[1;32m    159\u001b[0m     )\n\u001b[1;32m    161\u001b[0m \u001b[38;5;28;01mif\u001b[39;00m sample_ids \u001b[38;5;129;01mis\u001b[39;00m \u001b[38;5;129;01mnot\u001b[39;00m \u001b[38;5;28;01mNone\u001b[39;00m \u001b[38;5;129;01mand\u001b[39;00m \u001b[38;5;28mtype\u001b[39m(sample_ids) \u001b[38;5;129;01mis\u001b[39;00m \u001b[38;5;129;01mnot\u001b[39;00m \u001b[38;5;28mlist\u001b[39m:\n\u001b[1;32m    162\u001b[0m     \u001b[38;5;28;01mraise\u001b[39;00m paramException(\n\u001b[1;32m    163\u001b[0m         title\u001b[38;5;241m=\u001b[39m\u001b[38;5;124m\"\u001b[39m\u001b[38;5;124mParam Exception\u001b[39m\u001b[38;5;124m\"\u001b[39m,\n\u001b[1;32m    164\u001b[0m         detail\u001b[38;5;241m=\u001b[39m\u001b[38;5;124m\"\u001b[39m\u001b[38;5;124mSample IDs should be given as a valid list of strings\u001b[39m\u001b[38;5;124m\"\u001b[39m,\n\u001b[1;32m    165\u001b[0m     )\n",
      "\u001b[0;31mparamException\u001b[0m: paramException (parameter error): Dataset IDs should be given as a valid list of strings"
     ]
    }
   ],
   "source": [
    "# Exception when dataset ids are not given as a list of strings\n",
    "\n",
    "result = obj.assign_clinical_labels(\n",
    "    repo_name=\"geo\", dataset_ids=\"GSE152430_GPL18573\"\n",
    ")"
   ]
  },
  {
   "cell_type": "code",
   "execution_count": 8,
   "metadata": {},
   "outputs": [
    {
     "ename": "paramException",
     "evalue": "paramException (parameter error): Sample IDs should be given as a valid list of strings",
     "output_type": "error",
     "traceback": [
      "\u001b[0;31m---------------------------------------------------------------------------\u001b[0m",
      "\u001b[0;31mparamException\u001b[0m                            Traceback (most recent call last)",
      "Input \u001b[0;32mIn [8]\u001b[0m, in \u001b[0;36m<cell line: 3>\u001b[0;34m()\u001b[0m\n\u001b[1;32m      1\u001b[0m \u001b[38;5;66;03m# Exception when sample ids are not given the correct format\u001b[39;00m\n\u001b[0;32m----> 3\u001b[0m result \u001b[38;5;241m=\u001b[39m \u001b[43mobj\u001b[49m\u001b[38;5;241;43m.\u001b[39;49m\u001b[43massign_clinical_labels\u001b[49m\u001b[43m(\u001b[49m\n\u001b[1;32m      4\u001b[0m \u001b[43m    \u001b[49m\u001b[43mrepo_name\u001b[49m\u001b[43m \u001b[49m\u001b[38;5;241;43m=\u001b[39;49m\u001b[43m \u001b[49m\u001b[38;5;124;43m'\u001b[39;49m\u001b[38;5;124;43mgeo\u001b[39;49m\u001b[38;5;124;43m'\u001b[39;49m\u001b[43m,\u001b[49m\n\u001b[1;32m      5\u001b[0m \u001b[43m    \u001b[49m\u001b[43mdataset_ids\u001b[49m\u001b[43m \u001b[49m\u001b[38;5;241;43m=\u001b[39;49m\u001b[43m \u001b[49m\u001b[43m[\u001b[49m\u001b[38;5;124;43m'\u001b[39;49m\u001b[38;5;124;43mGSE152430_GPL18573\u001b[39;49m\u001b[38;5;124;43m'\u001b[39;49m\u001b[43m,\u001b[49m\u001b[43m \u001b[49m\u001b[38;5;124;43m'\u001b[39;49m\u001b[38;5;124;43mGSE35643_GPL6244\u001b[39;49m\u001b[38;5;124;43m'\u001b[39;49m\u001b[43m]\u001b[49m\u001b[43m,\u001b[49m\n\u001b[1;32m      6\u001b[0m \u001b[43m    \u001b[49m\u001b[43msample_ids\u001b[49m\u001b[43m \u001b[49m\u001b[38;5;241;43m=\u001b[39;49m\u001b[43m \u001b[49m\u001b[38;5;124;43m'\u001b[39;49m\u001b[38;5;124;43mGSM1000\u001b[39;49m\u001b[38;5;124;43m'\u001b[39;49m\n\u001b[1;32m      7\u001b[0m \u001b[43m)\u001b[49m\n",
      "File \u001b[0;32m/usr/local/lib/python3.10/site-packages/polly/curation.py:539\u001b[0m, in \u001b[0;36mCuration.assign_clinical_labels\u001b[0;34m(self, repo_name, dataset_ids, sample_ids)\u001b[0m\n\u001b[1;32m    535\u001b[0m     clinical_tags \u001b[38;5;241m=\u001b[39m \u001b[38;5;28mself\u001b[39m\u001b[38;5;241m.\u001b[39m_post_process_clinical_tags(\n\u001b[1;32m    536\u001b[0m         clinical_tags, is_sample_tag, sample_ids\n\u001b[1;32m    537\u001b[0m     )\n\u001b[1;32m    538\u001b[0m \u001b[38;5;28;01mexcept\u001b[39;00m \u001b[38;5;167;01mException\u001b[39;00m \u001b[38;5;28;01mas\u001b[39;00m err:\n\u001b[0;32m--> 539\u001b[0m     \u001b[38;5;28;01mraise\u001b[39;00m err\n\u001b[1;32m    541\u001b[0m \u001b[38;5;28;01mreturn\u001b[39;00m clinical_tags\n",
      "File \u001b[0;32m/usr/local/lib/python3.10/site-packages/polly/curation.py:490\u001b[0m, in \u001b[0;36mCuration.assign_clinical_labels\u001b[0;34m(self, repo_name, dataset_ids, sample_ids)\u001b[0m\n\u001b[1;32m    487\u001b[0m warnings\u001b[38;5;241m.\u001b[39mformatwarning \u001b[38;5;241m=\u001b[39m \u001b[38;5;28;01mlambda\u001b[39;00m msg, \u001b[38;5;241m*\u001b[39margs, \u001b[38;5;241m*\u001b[39m\u001b[38;5;241m*\u001b[39mkwargs: \u001b[38;5;124mf\u001b[39m\u001b[38;5;124m\"\u001b[39m\u001b[38;5;124mWARNING: \u001b[39m\u001b[38;5;132;01m{\u001b[39;00mmsg\u001b[38;5;132;01m}\u001b[39;00m\u001b[38;5;130;01m\\n\u001b[39;00m\u001b[38;5;124m\"\u001b[39m\n\u001b[1;32m    489\u001b[0m \u001b[38;5;28;01mtry\u001b[39;00m:\n\u001b[0;32m--> 490\u001b[0m     \u001b[38;5;28;43mself\u001b[39;49m\u001b[38;5;241;43m.\u001b[39;49m\u001b[43m_clinical_model_param_checks\u001b[49m\u001b[43m(\u001b[49m\u001b[43mrepo_name\u001b[49m\u001b[43m,\u001b[49m\u001b[43m \u001b[49m\u001b[43mdataset_ids\u001b[49m\u001b[43m,\u001b[49m\u001b[43m \u001b[49m\u001b[43msample_ids\u001b[49m\u001b[43m)\u001b[49m\n\u001b[1;32m    492\u001b[0m     is_sample_tag \u001b[38;5;241m=\u001b[39m sample_ids \u001b[38;5;129;01mis\u001b[39;00m \u001b[38;5;129;01mnot\u001b[39;00m \u001b[38;5;28;01mNone\u001b[39;00m\n\u001b[1;32m    493\u001b[0m     inference_level \u001b[38;5;241m=\u001b[39m \u001b[38;5;124m\"\u001b[39m\u001b[38;5;124msample_id\u001b[39m\u001b[38;5;124m\"\u001b[39m \u001b[38;5;28;01mif\u001b[39;00m (is_sample_tag) \u001b[38;5;28;01melse\u001b[39;00m \u001b[38;5;124m\"\u001b[39m\u001b[38;5;124mdataset_id\u001b[39m\u001b[38;5;124m\"\u001b[39m\n",
      "File \u001b[0;32m/usr/local/lib/python3.10/site-packages/polly/curation.py:162\u001b[0m, in \u001b[0;36mCuration._clinical_model_param_checks\u001b[0;34m(self, repo_name, dataset_ids, sample_ids)\u001b[0m\n\u001b[1;32m    156\u001b[0m     \u001b[38;5;28;01mraise\u001b[39;00m paramException(\n\u001b[1;32m    157\u001b[0m         title\u001b[38;5;241m=\u001b[39m\u001b[38;5;124m\"\u001b[39m\u001b[38;5;124mParam Exception\u001b[39m\u001b[38;5;124m\"\u001b[39m,\n\u001b[1;32m    158\u001b[0m         detail\u001b[38;5;241m=\u001b[39m\u001b[38;5;124m\"\u001b[39m\u001b[38;5;124mDataset IDs should be given as a valid list of strings\u001b[39m\u001b[38;5;124m\"\u001b[39m,\n\u001b[1;32m    159\u001b[0m     )\n\u001b[1;32m    161\u001b[0m \u001b[38;5;28;01mif\u001b[39;00m sample_ids \u001b[38;5;129;01mis\u001b[39;00m \u001b[38;5;129;01mnot\u001b[39;00m \u001b[38;5;28;01mNone\u001b[39;00m \u001b[38;5;129;01mand\u001b[39;00m \u001b[38;5;28mtype\u001b[39m(sample_ids) \u001b[38;5;129;01mis\u001b[39;00m \u001b[38;5;129;01mnot\u001b[39;00m \u001b[38;5;28mlist\u001b[39m:\n\u001b[0;32m--> 162\u001b[0m     \u001b[38;5;28;01mraise\u001b[39;00m paramException(\n\u001b[1;32m    163\u001b[0m         title\u001b[38;5;241m=\u001b[39m\u001b[38;5;124m\"\u001b[39m\u001b[38;5;124mParam Exception\u001b[39m\u001b[38;5;124m\"\u001b[39m,\n\u001b[1;32m    164\u001b[0m         detail\u001b[38;5;241m=\u001b[39m\u001b[38;5;124m\"\u001b[39m\u001b[38;5;124mSample IDs should be given as a valid list of strings\u001b[39m\u001b[38;5;124m\"\u001b[39m,\n\u001b[1;32m    165\u001b[0m     )\n\u001b[1;32m    167\u001b[0m \u001b[38;5;28;01mif\u001b[39;00m repo_name \u001b[38;5;241m!=\u001b[39m \u001b[38;5;124m\"\u001b[39m\u001b[38;5;124mgeo\u001b[39m\u001b[38;5;124m\"\u001b[39m \u001b[38;5;129;01mand\u001b[39;00m \u001b[38;5;129;01mnot\u001b[39;00m \u001b[38;5;28many\u001b[39m(\n\u001b[1;32m    168\u001b[0m     [\u001b[38;5;124m\"\u001b[39m\u001b[38;5;124mGSE\u001b[39m\u001b[38;5;124m\"\u001b[39m \u001b[38;5;129;01min\u001b[39;00m dataset_id \u001b[38;5;28;01mfor\u001b[39;00m dataset_id \u001b[38;5;129;01min\u001b[39;00m dataset_ids]\n\u001b[1;32m    169\u001b[0m ):\n\u001b[1;32m    170\u001b[0m     warnings\u001b[38;5;241m.\u001b[39mwarn(\n\u001b[1;32m    171\u001b[0m         \u001b[38;5;124m\"\u001b[39m\u001b[38;5;124mThe model is tested with GEO metadata and the labels may be wrong for other repos\u001b[39m\u001b[38;5;124m\"\u001b[39m\n\u001b[1;32m    172\u001b[0m     )\n",
      "\u001b[0;31mparamException\u001b[0m: paramException (parameter error): Sample IDs should be given as a valid list of strings"
     ]
    }
   ],
   "source": [
    "# Exception when sample ids are not given the correct format\n",
    "\n",
    "result = obj.assign_clinical_labels(\n",
    "    repo_name = 'geo',\n",
    "    dataset_ids = ['GSE152430_GPL18573', 'GSE35643_GPL6244'],\n",
    "    sample_ids = 'GSM1000'\n",
    ")\n"
   ]
  },
  {
   "cell_type": "code",
   "execution_count": 13,
   "metadata": {},
   "outputs": [
    {
     "name": "stderr",
     "output_type": "stream",
     "text": [
      "INFO:root:Cohort Created !\n"
     ]
    },
    {
     "name": "stdout",
     "output_type": "stream",
     "text": [
      "Initializing process...\n",
      "Adding data to cohort...\n",
      "Adding metadata to cohort...\n"
     ]
    },
    {
     "name": "stderr",
     "output_type": "stream",
     "text": [
      "INFO:cmap_logger:parsing gct file\n",
      "INFO:cmap_logger:Reading GCT: .cache/sample_metadata_query.pco/geo_GSE35051_GPL15119.gct\n",
      "INFO:root:'18' sample/s added to Cohort!\n",
      "INFO:cmap_logger:parsing gct file\n",
      "INFO:cmap_logger:Reading GCT: ./.cache/sample_metadata_query.pco/geo_GSE35051_GPL15119.gct\n",
      "INFO:root: 1 dataset removed from Cohort!\n"
     ]
    },
    {
     "name": "stdout",
     "output_type": "stream",
     "text": [
      "Initializing process...\n",
      "Adding data to cohort...\n",
      "Adding metadata to cohort...\n"
     ]
    },
    {
     "name": "stderr",
     "output_type": "stream",
     "text": [
      "INFO:cmap_logger:parsing gct file\n",
      "INFO:cmap_logger:Reading GCT: .cache/sample_metadata_query.pco/geo_GSE35058_GPL15125.gct\n",
      "INFO:root:'71' sample/s added to Cohort!\n",
      "INFO:cmap_logger:parsing gct file\n",
      "INFO:cmap_logger:Reading GCT: ./.cache/sample_metadata_query.pco/geo_GSE35058_GPL15125.gct\n",
      "INFO:root: 1 dataset removed from Cohort!\n"
     ]
    },
    {
     "name": "stdout",
     "output_type": "stream",
     "text": [
      "Initializing process...\n",
      "Adding data to cohort...\n",
      "Adding metadata to cohort...\n"
     ]
    },
    {
     "name": "stderr",
     "output_type": "stream",
     "text": [
      "INFO:cmap_logger:parsing gct file\n",
      "INFO:cmap_logger:Reading GCT: .cache/sample_metadata_query.pco/geo_GSE3505_GPL2006.gct\n",
      "INFO:root:'9' sample/s added to Cohort!\n",
      "INFO:cmap_logger:parsing gct file\n",
      "INFO:cmap_logger:Reading GCT: ./.cache/sample_metadata_query.pco/geo_GSE3505_GPL2006.gct\n",
      "INFO:root: 1 dataset removed from Cohort!\n"
     ]
    },
    {
     "name": "stdout",
     "output_type": "stream",
     "text": [
      "Initializing process...\n",
      "Adding data to cohort...\n",
      "Adding metadata to cohort...\n"
     ]
    },
    {
     "name": "stderr",
     "output_type": "stream",
     "text": [
      "INFO:cmap_logger:parsing gct file\n",
      "INFO:cmap_logger:Reading GCT: .cache/sample_metadata_query.pco/geo_GSE35061_GPL6885.gct\n",
      "INFO:root:'63' sample/s added to Cohort!\n",
      "INFO:cmap_logger:parsing gct file\n",
      "INFO:cmap_logger:Reading GCT: ./.cache/sample_metadata_query.pco/geo_GSE35061_GPL6885.gct\n",
      "INFO:root: 1 dataset removed from Cohort!\n"
     ]
    },
    {
     "name": "stdout",
     "output_type": "stream",
     "text": [
      "Initializing process...\n",
      "Adding data to cohort...\n",
      "Adding metadata to cohort...\n"
     ]
    },
    {
     "name": "stderr",
     "output_type": "stream",
     "text": [
      "INFO:cmap_logger:parsing gct file\n",
      "INFO:cmap_logger:Reading GCT: .cache/sample_metadata_query.pco/geo_GSE35063_GPL6246.gct\n",
      "INFO:root:'6' sample/s added to Cohort!\n",
      "INFO:cmap_logger:parsing gct file\n",
      "INFO:cmap_logger:Reading GCT: ./.cache/sample_metadata_query.pco/geo_GSE35063_GPL6246.gct\n",
      "INFO:root: 1 dataset removed from Cohort!\n"
     ]
    },
    {
     "name": "stdout",
     "output_type": "stream",
     "text": [
      "Initializing process...\n",
      "Adding data to cohort...\n",
      "Adding metadata to cohort...\n"
     ]
    },
    {
     "name": "stderr",
     "output_type": "stream",
     "text": [
      "INFO:cmap_logger:parsing gct file\n",
      "INFO:cmap_logger:Reading GCT: .cache/sample_metadata_query.pco/geo_GSE35068_GPL570.gct\n",
      "INFO:root:'12' sample/s added to Cohort!\n",
      "INFO:cmap_logger:parsing gct file\n",
      "INFO:cmap_logger:Reading GCT: ./.cache/sample_metadata_query.pco/geo_GSE35068_GPL570.gct\n",
      "INFO:root: 1 dataset removed from Cohort!\n"
     ]
    },
    {
     "name": "stdout",
     "output_type": "stream",
     "text": [
      "Initializing process...\n",
      "Adding data to cohort...\n",
      "Adding metadata to cohort...\n"
     ]
    },
    {
     "name": "stderr",
     "output_type": "stream",
     "text": [
      "INFO:cmap_logger:parsing gct file\n",
      "INFO:cmap_logger:Reading GCT: .cache/sample_metadata_query.pco/geo_GSE3506_GPL96.gct\n",
      "INFO:root:'9' sample/s added to Cohort!\n",
      "INFO:cmap_logger:parsing gct file\n",
      "INFO:cmap_logger:Reading GCT: ./.cache/sample_metadata_query.pco/geo_GSE3506_GPL96.gct\n",
      "INFO:root: 1 dataset removed from Cohort!\n"
     ]
    },
    {
     "name": "stdout",
     "output_type": "stream",
     "text": [
      "Initializing process...\n",
      "Adding data to cohort...\n",
      "Adding metadata to cohort...\n"
     ]
    },
    {
     "name": "stderr",
     "output_type": "stream",
     "text": [
      "INFO:cmap_logger:parsing gct file\n",
      "INFO:cmap_logger:Reading GCT: .cache/sample_metadata_query.pco/geo_GSE35075_GPL6845.gct\n",
      "INFO:root:'5' sample/s added to Cohort!\n",
      "INFO:cmap_logger:parsing gct file\n",
      "INFO:cmap_logger:Reading GCT: ./.cache/sample_metadata_query.pco/geo_GSE35075_GPL6845.gct\n",
      "INFO:root: 1 dataset removed from Cohort!\n"
     ]
    },
    {
     "name": "stdout",
     "output_type": "stream",
     "text": [
      "Initializing process...\n",
      "Adding data to cohort...\n",
      "Adding metadata to cohort...\n"
     ]
    },
    {
     "name": "stderr",
     "output_type": "stream",
     "text": [
      "INFO:cmap_logger:parsing gct file\n",
      "INFO:cmap_logger:Reading GCT: .cache/sample_metadata_query.pco/geo_GSE35076_GPL6246.gct\n",
      "INFO:root:'5' sample/s added to Cohort!\n",
      "INFO:cmap_logger:parsing gct file\n",
      "INFO:cmap_logger:Reading GCT: ./.cache/sample_metadata_query.pco/geo_GSE35076_GPL6246.gct\n",
      "INFO:root: 1 dataset removed from Cohort!\n"
     ]
    },
    {
     "name": "stdout",
     "output_type": "stream",
     "text": [
      "Initializing process...\n",
      "Adding data to cohort...\n",
      "Adding metadata to cohort...\n"
     ]
    },
    {
     "name": "stderr",
     "output_type": "stream",
     "text": [
      "INFO:cmap_logger:parsing gct file\n",
      "INFO:cmap_logger:Reading GCT: .cache/sample_metadata_query.pco/geo_GSE35077_GPL1261.gct\n",
      "INFO:root:'26' sample/s added to Cohort!\n",
      "INFO:cmap_logger:parsing gct file\n",
      "INFO:cmap_logger:Reading GCT: ./.cache/sample_metadata_query.pco/geo_GSE35077_GPL1261.gct\n",
      "INFO:root: 1 dataset removed from Cohort!\n"
     ]
    }
   ],
   "source": [
    "# dev testing bug LIB-354 \n",
    "result1 = obj.assign_clinical_labels(repo_name=\"geo\", dataset_ids=['GSE35051_GPL15119', 'GSE35058_GPL15125', 'GSE3505_GPL2006', 'GSE35061_GPL6885', 'GSE35063_GPL6246', 'GSE35068_GPL570', 'GSE3506_GPL96', 'GSE35075_GPL6845', 'GSE35076_GPL6246','GSE35077_GPL1261'])"
   ]
  },
  {
   "cell_type": "code",
   "execution_count": null,
   "metadata": {},
   "outputs": [],
   "source": [
    "result1"
   ]
  },
  {
   "cell_type": "markdown",
   "metadata": {},
   "source": [
    "# dev testing 100 dataset issue https://elucidatainc.atlassian.net/browse/LIB-353"
   ]
  },
  {
   "cell_type": "code",
   "execution_count": 7,
   "metadata": {},
   "outputs": [
    {
     "name": "stdout",
     "output_type": "stream",
     "text": [
      "Query execution succeeded (time taken: 2.04 seconds, data scanned: 0.059 MB)\n",
      "Fetched 100 rows\n",
      "           dataset_id\n",
      "0   GSE97550_GPL10558\n",
      "1   GSE97552_GPL23270\n",
      "2    GSE97554_GPL6947\n",
      "3   GSE97555_GPL11202\n",
      "4   GSE97558_GPL13497\n",
      "..                ...\n",
      "95  GSE97723_GPL16791\n",
      "96  GSE97724_GPL11154\n",
      "97  GSE97724_GPL16791\n",
      "98  GSE97726_GPL11154\n",
      "99  GSE97727_GPL18573\n",
      "\n",
      "[100 rows x 1 columns]\n"
     ]
    },
    {
     "data": {
      "text/plain": [
       "['GSE97550_GPL10558',\n",
       " 'GSE97552_GPL23270',\n",
       " 'GSE97554_GPL6947',\n",
       " 'GSE97555_GPL11202',\n",
       " 'GSE97558_GPL13497',\n",
       " 'GSE97562_GPL6244',\n",
       " 'GSE97564_GPL18573',\n",
       " 'GSE97566_GPL7202',\n",
       " 'GSE97568_GPL13112',\n",
       " 'GSE97568_GPL21273',\n",
       " 'GSE97569_GPL20844',\n",
       " 'GSE9756_GPL339',\n",
       " 'GSE9756_GPL340',\n",
       " 'GSE97571_GPL16417',\n",
       " 'GSE97572_GPL21185',\n",
       " 'GSE97575_GPL16791',\n",
       " 'GSE97577_GPL11154',\n",
       " 'GSE97577_GPL18573',\n",
       " 'GSE97579_GPL17021',\n",
       " 'GSE9757_GPL570',\n",
       " 'GSE97587_GPL20301',\n",
       " 'GSE97589_GPL11154',\n",
       " 'GSE9758_GPL570',\n",
       " 'GSE97590_GPL16791',\n",
       " 'GSE97591_GPL20301',\n",
       " 'GSE97592_GPL18245',\n",
       " 'GSE97593_GPL21163',\n",
       " 'GSE97594_GPL10558',\n",
       " 'GSE97595_GPL17021',\n",
       " 'GSE9759_GPL570',\n",
       " 'GSE97608_GPL19482',\n",
       " 'GSE97609_GPL17021',\n",
       " 'GSE9760_GPL1261',\n",
       " 'GSE97610_GPL1261',\n",
       " 'GSE97614_GPL6244',\n",
       " 'GSE97615_GPL11154',\n",
       " 'GSE97616_GPL11154',\n",
       " 'GSE97617_GPL11154',\n",
       " 'GSE97618_GPL13112',\n",
       " 'GSE97619_GPL16791',\n",
       " 'GSE9761_GPL570',\n",
       " 'GSE97621_GPL17692',\n",
       " 'GSE97622_GPL13112',\n",
       " 'GSE97623_GPL22396',\n",
       " 'GSE97625_GPL10558',\n",
       " 'GSE97627_GPL10558',\n",
       " 'GSE9762_GPL570',\n",
       " 'GSE97631_GPL6244',\n",
       " 'GSE97632_GPL11154',\n",
       " 'GSE9763_GPL1261',\n",
       " 'GSE97640_GPL17021',\n",
       " 'GSE97642_GPL6887',\n",
       " 'GSE97643_GPL6887',\n",
       " 'GSE97646_GPL16686',\n",
       " 'GSE97647_GPL11154',\n",
       " 'GSE9764_GPL570',\n",
       " 'GSE97652_GPL21103',\n",
       " 'GSE97654_GPL19057',\n",
       " 'GSE97655_GPL20301',\n",
       " 'GSE97657_GPL16570',\n",
       " 'GSE97658_GPL21103',\n",
       " 'GSE97665_GPL22364',\n",
       " 'GSE97666_GPL21493',\n",
       " 'GSE97668_GPL15433',\n",
       " 'GSE97669_GPL16417',\n",
       " 'GSE9766_GPL1261',\n",
       " 'GSE97672_GPL16791',\n",
       " 'GSE97672_GPL18573',\n",
       " 'GSE97677_GPL6885',\n",
       " 'GSE97679_GPL18573',\n",
       " 'GSE97681_GPL18573',\n",
       " 'GSE97682_GPL18573',\n",
       " 'GSE97684_GPL17586',\n",
       " 'GSE97685_GPL17021',\n",
       " 'GSE97688_GPL20301',\n",
       " 'GSE97689_GPL6244',\n",
       " 'GSE9768_GPL570',\n",
       " 'GSE97690_GPL11002',\n",
       " 'GSE97692_GPL16043',\n",
       " 'GSE97696_GPL17021',\n",
       " 'GSE97698_GPL17021',\n",
       " 'GSE976_GPL96',\n",
       " 'GSE97702_GPL13112',\n",
       " 'GSE97703_GPL13112',\n",
       " 'GSE97705_GPL10787',\n",
       " 'GSE97707_GPL10558',\n",
       " 'GSE97709_GPL17303',\n",
       " 'GSE9770_GPL570',\n",
       " 'GSE97710_GPL11154',\n",
       " 'GSE97713_GPL17021',\n",
       " 'GSE97715_GPL17021',\n",
       " 'GSE97716_GPL16173',\n",
       " 'GSE97718_GPL17021',\n",
       " 'GSE97721_GPL21273',\n",
       " 'GSE97722_GPL11154',\n",
       " 'GSE97723_GPL16791',\n",
       " 'GSE97724_GPL11154',\n",
       " 'GSE97724_GPL16791',\n",
       " 'GSE97726_GPL11154',\n",
       " 'GSE97727_GPL18573']"
      ]
     },
     "execution_count": 7,
     "metadata": {},
     "output_type": "execute_result"
    }
   ],
   "source": [
    "from polly.omixatlas import OmixAtlas\n",
    "omixatlas = OmixAtlas()\n",
    "query = \"SELECT dataset_id FROM geo.datasets LIMIT 100\"\n",
    "result = omixatlas.query_metadata(query)\n",
    "print(result)\n",
    "result[\"dataset_id\"].tolist()"
   ]
  },
  {
   "cell_type": "code",
   "execution_count": 19,
   "metadata": {},
   "outputs": [],
   "source": [
    "r_list = ['GSE97550_GPL10558',\n",
    " 'GSE97552_GPL23270',\n",
    " 'GSE97554_GPL6947',\n",
    " 'GSE97555_GPL11202',\n",
    " 'GSE97558_GPL13497',\n",
    " 'GSE97562_GPL6244',\n",
    " 'GSE97564_GPL18573',\n",
    " 'GSE97566_GPL7202',\n",
    " 'GSE97568_GPL13112',\n",
    " 'GSE97568_GPL21273',\n",
    " 'GSE97569_GPL20844',\n",
    " 'GSE9756_GPL339',\n",
    " 'GSE9756_GPL340',\n",
    " 'GSE97571_GPL16417',\n",
    " 'GSE97572_GPL21185',\n",
    " 'GSE97575_GPL16791',\n",
    " 'GSE97577_GPL11154',\n",
    " 'GSE97577_GPL18573',\n",
    " 'GSE97579_GPL17021',\n",
    " 'GSE9757_GPL570',\n",
    " 'GSE97587_GPL20301',\n",
    " 'GSE97589_GPL11154',\n",
    " 'GSE9758_GPL570',\n",
    " 'GSE97590_GPL16791',\n",
    " 'GSE97591_GPL20301',\n",
    " 'GSE97592_GPL18245',\n",
    " 'GSE97593_GPL21163',\n",
    " 'GSE97594_GPL10558',\n",
    " 'GSE97595_GPL17021',\n",
    " 'GSE9759_GPL570',\n",
    " 'GSE97608_GPL19482',\n",
    " 'GSE97609_GPL17021',\n",
    " 'GSE9760_GPL1261',\n",
    " 'GSE97610_GPL1261',\n",
    " 'GSE97614_GPL6244',\n",
    " 'GSE97615_GPL11154',\n",
    " 'GSE97616_GPL11154',\n",
    " 'GSE97617_GPL11154',\n",
    " 'GSE97618_GPL13112',\n",
    " 'GSE97619_GPL16791',\n",
    " 'GSE9761_GPL570',\n",
    " 'GSE97621_GPL17692',\n",
    " 'GSE97622_GPL13112',\n",
    " 'GSE97623_GPL22396',\n",
    " 'GSE97625_GPL10558',\n",
    " 'GSE97627_GPL10558',\n",
    " 'GSE9762_GPL570',\n",
    " 'GSE97631_GPL6244',\n",
    " 'GSE97632_GPL11154',\n",
    " 'GSE9763_GPL1261',\n",
    " 'GSE97640_GPL17021',\n",
    " 'GSE97642_GPL6887',\n",
    " 'GSE97643_GPL6887',\n",
    " 'GSE97646_GPL16686',\n",
    " 'GSE97647_GPL11154',\n",
    " 'GSE9764_GPL570',\n",
    " 'GSE97652_GPL21103',\n",
    " 'GSE97654_GPL19057',\n",
    " 'GSE97655_GPL20301',\n",
    " 'GSE97657_GPL16570',\n",
    " 'GSE97658_GPL21103',\n",
    " 'GSE97665_GPL22364',\n",
    " 'GSE97666_GPL21493',\n",
    " 'GSE97668_GPL15433',\n",
    " 'GSE97669_GPL16417',\n",
    " 'GSE9766_GPL1261',\n",
    " 'GSE97672_GPL16791',\n",
    " 'GSE97672_GPL18573',\n",
    " 'GSE97677_GPL6885',\n",
    " 'GSE97679_GPL18573',\n",
    " 'GSE97681_GPL18573',\n",
    " 'GSE97682_GPL18573',\n",
    " 'GSE97684_GPL17586',\n",
    " 'GSE97685_GPL17021',\n",
    " 'GSE97688_GPL20301',\n",
    " 'GSE97689_GPL6244',\n",
    " 'GSE9768_GPL570',\n",
    " 'GSE97690_GPL11002',\n",
    " 'GSE97692_GPL16043',\n",
    " 'GSE97696_GPL17021',\n",
    " 'GSE97698_GPL17021',\n",
    " 'GSE976_GPL96',\n",
    " 'GSE97702_GPL13112',\n",
    " 'GSE97703_GPL13112',\n",
    " 'GSE97705_GPL10787',\n",
    " 'GSE97707_GPL10558',\n",
    " 'GSE97709_GPL17303',\n",
    " 'GSE9770_GPL570',\n",
    " 'GSE97710_GPL11154',\n",
    " 'GSE97713_GPL17021',\n",
    " 'GSE97715_GPL17021',\n",
    " 'GSE97716_GPL16173',\n",
    " 'GSE97718_GPL17021',\n",
    " 'GSE97721_GPL21273',\n",
    " 'GSE97722_GPL11154',\n",
    " 'GSE97723_GPL16791',\n",
    " 'GSE97724_GPL11154',\n",
    " 'GSE97724_GPL16791',\n",
    " 'GSE97726_GPL11154',\n",
    " 'GSE97727_GPL18573']\n",
    "r_list = result[\"dataset_id\"].tolist()\n",
    "#r_list.remove(\"GSE96697_GPL21970\")\n",
    "#r_list.remove(\"GSE96700_GPL17021\")\n",
    "r_list.remove(\"GSE97672_GPL16791\")\n",
    "r_list.remove(\"GSE97702_GPL13112\")\n",
    "r_list.remove(\"GSE97727_GPL18573\")\n"
   ]
  },
  {
   "cell_type": "code",
   "execution_count": 20,
   "metadata": {},
   "outputs": [
    {
     "data": {
      "text/plain": [
       "97"
      ]
     },
     "execution_count": 20,
     "metadata": {},
     "output_type": "execute_result"
    }
   ],
   "source": [
    "len(r_list)"
   ]
  },
  {
   "cell_type": "code",
   "execution_count": 21,
   "metadata": {},
   "outputs": [
    {
     "name": "stderr",
     "output_type": "stream",
     "text": [
      "INFO:root:Cohort Created !\n"
     ]
    },
    {
     "name": "stdout",
     "output_type": "stream",
     "text": [
      "Initializing process...\n",
      "Adding data to cohort...\n",
      "Adding metadata to cohort...\n"
     ]
    },
    {
     "name": "stderr",
     "output_type": "stream",
     "text": [
      "INFO:cmap_logger:parsing gct file\n",
      "INFO:cmap_logger:Reading GCT: .cache/sample_metadata_query.pco/geo_GSE97550_GPL10558.gct\n",
      "INFO:root:'6' sample/s added to Cohort!\n",
      "INFO:cmap_logger:parsing gct file\n",
      "INFO:cmap_logger:Reading GCT: ./.cache/sample_metadata_query.pco/geo_GSE97550_GPL10558.gct\n",
      "INFO:root: 1 dataset removed from Cohort!\n"
     ]
    },
    {
     "name": "stdout",
     "output_type": "stream",
     "text": [
      "Initializing process...\n",
      "Adding data to cohort...\n",
      "Adding metadata to cohort...\n"
     ]
    },
    {
     "name": "stderr",
     "output_type": "stream",
     "text": [
      "INFO:cmap_logger:parsing gct file\n",
      "INFO:cmap_logger:Reading GCT: .cache/sample_metadata_query.pco/geo_GSE97552_GPL23270.gct\n",
      "INFO:root:'4' sample/s added to Cohort!\n",
      "INFO:cmap_logger:parsing gct file\n",
      "INFO:cmap_logger:Reading GCT: ./.cache/sample_metadata_query.pco/geo_GSE97552_GPL23270.gct\n",
      "INFO:root: 1 dataset removed from Cohort!\n"
     ]
    },
    {
     "name": "stdout",
     "output_type": "stream",
     "text": [
      "Initializing process...\n",
      "Adding data to cohort...\n",
      "Adding metadata to cohort...\n"
     ]
    },
    {
     "name": "stderr",
     "output_type": "stream",
     "text": [
      "INFO:cmap_logger:parsing gct file\n",
      "INFO:cmap_logger:Reading GCT: .cache/sample_metadata_query.pco/geo_GSE97554_GPL6947.gct\n",
      "INFO:root:'11' sample/s added to Cohort!\n",
      "INFO:cmap_logger:parsing gct file\n",
      "INFO:cmap_logger:Reading GCT: ./.cache/sample_metadata_query.pco/geo_GSE97554_GPL6947.gct\n",
      "INFO:root: 1 dataset removed from Cohort!\n"
     ]
    },
    {
     "name": "stdout",
     "output_type": "stream",
     "text": [
      "Initializing process...\n",
      "Adding data to cohort...\n",
      "Adding metadata to cohort...\n"
     ]
    },
    {
     "name": "stderr",
     "output_type": "stream",
     "text": [
      "INFO:cmap_logger:parsing gct file\n",
      "INFO:cmap_logger:Reading GCT: .cache/sample_metadata_query.pco/geo_GSE97555_GPL11202.gct\n",
      "INFO:root:'55' sample/s added to Cohort!\n",
      "INFO:cmap_logger:parsing gct file\n",
      "INFO:cmap_logger:Reading GCT: ./.cache/sample_metadata_query.pco/geo_GSE97555_GPL11202.gct\n",
      "INFO:root: 1 dataset removed from Cohort!\n"
     ]
    },
    {
     "name": "stdout",
     "output_type": "stream",
     "text": [
      "Initializing process...\n",
      "Adding data to cohort...\n",
      "Adding metadata to cohort...\n"
     ]
    },
    {
     "name": "stderr",
     "output_type": "stream",
     "text": [
      "INFO:cmap_logger:parsing gct file\n",
      "INFO:cmap_logger:Reading GCT: .cache/sample_metadata_query.pco/geo_GSE97558_GPL13497.gct\n",
      "INFO:root:'6' sample/s added to Cohort!\n",
      "INFO:cmap_logger:parsing gct file\n",
      "INFO:cmap_logger:Reading GCT: ./.cache/sample_metadata_query.pco/geo_GSE97558_GPL13497.gct\n",
      "INFO:root: 1 dataset removed from Cohort!\n"
     ]
    },
    {
     "name": "stdout",
     "output_type": "stream",
     "text": [
      "Initializing process...\n",
      "Adding data to cohort...\n",
      "Adding metadata to cohort...\n"
     ]
    },
    {
     "name": "stderr",
     "output_type": "stream",
     "text": [
      "INFO:cmap_logger:parsing gct file\n",
      "INFO:cmap_logger:Reading GCT: .cache/sample_metadata_query.pco/geo_GSE97562_GPL6244.gct\n",
      "INFO:root:'40' sample/s added to Cohort!\n",
      "INFO:cmap_logger:parsing gct file\n",
      "INFO:cmap_logger:Reading GCT: ./.cache/sample_metadata_query.pco/geo_GSE97562_GPL6244.gct\n",
      "INFO:root: 1 dataset removed from Cohort!\n"
     ]
    },
    {
     "name": "stdout",
     "output_type": "stream",
     "text": [
      "Initializing process...\n",
      "Adding data to cohort...\n",
      "Adding metadata to cohort...\n"
     ]
    },
    {
     "name": "stderr",
     "output_type": "stream",
     "text": [
      "INFO:cmap_logger:parsing gct file\n",
      "INFO:cmap_logger:Reading GCT: .cache/sample_metadata_query.pco/geo_GSE97564_GPL18573.gct\n",
      "INFO:root:'1' sample/s added to Cohort!\n",
      "INFO:cmap_logger:parsing gct file\n",
      "INFO:cmap_logger:Reading GCT: ./.cache/sample_metadata_query.pco/geo_GSE97564_GPL18573.gct\n",
      "INFO:root: 1 dataset removed from Cohort!\n"
     ]
    },
    {
     "name": "stdout",
     "output_type": "stream",
     "text": [
      "Initializing process...\n",
      "Adding data to cohort...\n",
      "Adding metadata to cohort...\n"
     ]
    },
    {
     "name": "stderr",
     "output_type": "stream",
     "text": [
      "INFO:cmap_logger:parsing gct file\n",
      "INFO:cmap_logger:Reading GCT: .cache/sample_metadata_query.pco/geo_GSE97566_GPL7202.gct\n",
      "INFO:root:'8' sample/s added to Cohort!\n",
      "INFO:cmap_logger:parsing gct file\n",
      "INFO:cmap_logger:Reading GCT: ./.cache/sample_metadata_query.pco/geo_GSE97566_GPL7202.gct\n",
      "INFO:root: 1 dataset removed from Cohort!\n"
     ]
    },
    {
     "name": "stdout",
     "output_type": "stream",
     "text": [
      "Initializing process...\n",
      "Adding data to cohort...\n",
      "Adding metadata to cohort...\n"
     ]
    },
    {
     "name": "stderr",
     "output_type": "stream",
     "text": [
      "INFO:cmap_logger:parsing gct file\n",
      "INFO:cmap_logger:Reading GCT: .cache/sample_metadata_query.pco/geo_GSE97568_GPL13112.gct\n",
      "INFO:root:'6' sample/s added to Cohort!\n",
      "INFO:cmap_logger:parsing gct file\n",
      "INFO:cmap_logger:Reading GCT: ./.cache/sample_metadata_query.pco/geo_GSE97568_GPL13112.gct\n",
      "INFO:root: 1 dataset removed from Cohort!\n"
     ]
    },
    {
     "name": "stdout",
     "output_type": "stream",
     "text": [
      "Initializing process...\n",
      "Adding data to cohort...\n",
      "Adding metadata to cohort...\n"
     ]
    },
    {
     "name": "stderr",
     "output_type": "stream",
     "text": [
      "INFO:cmap_logger:parsing gct file\n",
      "INFO:cmap_logger:Reading GCT: .cache/sample_metadata_query.pco/geo_GSE97568_GPL21273.gct\n",
      "INFO:root:'16' sample/s added to Cohort!\n",
      "INFO:cmap_logger:parsing gct file\n",
      "INFO:cmap_logger:Reading GCT: ./.cache/sample_metadata_query.pco/geo_GSE97568_GPL21273.gct\n",
      "INFO:root: 1 dataset removed from Cohort!\n"
     ]
    },
    {
     "name": "stdout",
     "output_type": "stream",
     "text": [
      "Initializing process...\n",
      "Adding data to cohort...\n",
      "Adding metadata to cohort...\n"
     ]
    },
    {
     "name": "stderr",
     "output_type": "stream",
     "text": [
      "INFO:cmap_logger:parsing gct file\n",
      "INFO:cmap_logger:Reading GCT: .cache/sample_metadata_query.pco/geo_GSE97569_GPL20844.gct\n",
      "INFO:root:'8' sample/s added to Cohort!\n",
      "INFO:cmap_logger:parsing gct file\n",
      "INFO:cmap_logger:Reading GCT: ./.cache/sample_metadata_query.pco/geo_GSE97569_GPL20844.gct\n",
      "INFO:root: 1 dataset removed from Cohort!\n"
     ]
    },
    {
     "name": "stdout",
     "output_type": "stream",
     "text": [
      "Initializing process...\n",
      "Adding data to cohort...\n",
      "Adding metadata to cohort...\n"
     ]
    },
    {
     "name": "stderr",
     "output_type": "stream",
     "text": [
      "INFO:cmap_logger:parsing gct file\n",
      "INFO:cmap_logger:Reading GCT: .cache/sample_metadata_query.pco/geo_GSE9756_GPL339.gct\n",
      "INFO:root:'12' sample/s added to Cohort!\n",
      "INFO:cmap_logger:parsing gct file\n",
      "INFO:cmap_logger:Reading GCT: ./.cache/sample_metadata_query.pco/geo_GSE9756_GPL339.gct\n",
      "INFO:root: 1 dataset removed from Cohort!\n"
     ]
    },
    {
     "name": "stdout",
     "output_type": "stream",
     "text": [
      "Initializing process...\n",
      "Adding data to cohort...\n",
      "Adding metadata to cohort...\n"
     ]
    },
    {
     "name": "stderr",
     "output_type": "stream",
     "text": [
      "INFO:cmap_logger:parsing gct file\n",
      "INFO:cmap_logger:Reading GCT: .cache/sample_metadata_query.pco/geo_GSE9756_GPL340.gct\n",
      "INFO:root:'12' sample/s added to Cohort!\n",
      "INFO:cmap_logger:parsing gct file\n",
      "INFO:cmap_logger:Reading GCT: ./.cache/sample_metadata_query.pco/geo_GSE9756_GPL340.gct\n",
      "INFO:root: 1 dataset removed from Cohort!\n"
     ]
    },
    {
     "name": "stdout",
     "output_type": "stream",
     "text": [
      "Initializing process...\n",
      "Adding data to cohort...\n",
      "Adding metadata to cohort...\n"
     ]
    },
    {
     "name": "stderr",
     "output_type": "stream",
     "text": [
      "INFO:cmap_logger:parsing gct file\n",
      "INFO:cmap_logger:Reading GCT: .cache/sample_metadata_query.pco/geo_GSE97571_GPL16417.gct\n",
      "INFO:root:'8' sample/s added to Cohort!\n",
      "INFO:cmap_logger:parsing gct file\n",
      "INFO:cmap_logger:Reading GCT: ./.cache/sample_metadata_query.pco/geo_GSE97571_GPL16417.gct\n",
      "INFO:root: 1 dataset removed from Cohort!\n"
     ]
    },
    {
     "name": "stdout",
     "output_type": "stream",
     "text": [
      "Initializing process...\n",
      "Adding data to cohort...\n",
      "Adding metadata to cohort...\n"
     ]
    },
    {
     "name": "stderr",
     "output_type": "stream",
     "text": [
      "INFO:cmap_logger:parsing gct file\n",
      "INFO:cmap_logger:Reading GCT: .cache/sample_metadata_query.pco/geo_GSE97572_GPL21185.gct\n",
      "INFO:root:'6' sample/s added to Cohort!\n",
      "INFO:cmap_logger:parsing gct file\n",
      "INFO:cmap_logger:Reading GCT: ./.cache/sample_metadata_query.pco/geo_GSE97572_GPL21185.gct\n",
      "INFO:root: 1 dataset removed from Cohort!\n"
     ]
    },
    {
     "name": "stdout",
     "output_type": "stream",
     "text": [
      "Initializing process...\n",
      "Adding data to cohort...\n",
      "Adding metadata to cohort...\n"
     ]
    },
    {
     "name": "stderr",
     "output_type": "stream",
     "text": [
      "INFO:cmap_logger:parsing gct file\n",
      "INFO:cmap_logger:Reading GCT: .cache/sample_metadata_query.pco/geo_GSE97575_GPL16791.gct\n",
      "INFO:root:'5' sample/s added to Cohort!\n",
      "INFO:cmap_logger:parsing gct file\n",
      "INFO:cmap_logger:Reading GCT: ./.cache/sample_metadata_query.pco/geo_GSE97575_GPL16791.gct\n",
      "INFO:root: 1 dataset removed from Cohort!\n"
     ]
    },
    {
     "name": "stdout",
     "output_type": "stream",
     "text": [
      "Initializing process...\n",
      "Adding data to cohort...\n",
      "Adding metadata to cohort...\n"
     ]
    },
    {
     "name": "stderr",
     "output_type": "stream",
     "text": [
      "INFO:cmap_logger:parsing gct file\n",
      "INFO:cmap_logger:Reading GCT: .cache/sample_metadata_query.pco/geo_GSE97577_GPL11154.gct\n",
      "INFO:root:'6' sample/s added to Cohort!\n",
      "INFO:cmap_logger:parsing gct file\n",
      "INFO:cmap_logger:Reading GCT: ./.cache/sample_metadata_query.pco/geo_GSE97577_GPL11154.gct\n",
      "INFO:root: 1 dataset removed from Cohort!\n"
     ]
    },
    {
     "name": "stdout",
     "output_type": "stream",
     "text": [
      "Initializing process...\n",
      "Adding data to cohort...\n",
      "Adding metadata to cohort...\n"
     ]
    },
    {
     "name": "stderr",
     "output_type": "stream",
     "text": [
      "INFO:cmap_logger:parsing gct file\n",
      "INFO:cmap_logger:Reading GCT: .cache/sample_metadata_query.pco/geo_GSE97577_GPL18573.gct\n",
      "INFO:root:'3' sample/s added to Cohort!\n",
      "INFO:cmap_logger:parsing gct file\n",
      "INFO:cmap_logger:Reading GCT: ./.cache/sample_metadata_query.pco/geo_GSE97577_GPL18573.gct\n",
      "INFO:root: 1 dataset removed from Cohort!\n"
     ]
    },
    {
     "name": "stdout",
     "output_type": "stream",
     "text": [
      "Initializing process...\n",
      "Adding data to cohort...\n",
      "Adding metadata to cohort...\n"
     ]
    },
    {
     "name": "stderr",
     "output_type": "stream",
     "text": [
      "INFO:cmap_logger:parsing gct file\n",
      "INFO:cmap_logger:Reading GCT: .cache/sample_metadata_query.pco/geo_GSE97579_GPL17021.gct\n",
      "INFO:root:'16' sample/s added to Cohort!\n",
      "INFO:cmap_logger:parsing gct file\n",
      "INFO:cmap_logger:Reading GCT: ./.cache/sample_metadata_query.pco/geo_GSE97579_GPL17021.gct\n",
      "INFO:root: 1 dataset removed from Cohort!\n"
     ]
    },
    {
     "name": "stdout",
     "output_type": "stream",
     "text": [
      "Initializing process...\n",
      "Adding data to cohort...\n",
      "Adding metadata to cohort...\n"
     ]
    },
    {
     "name": "stderr",
     "output_type": "stream",
     "text": [
      "INFO:cmap_logger:parsing gct file\n",
      "INFO:cmap_logger:Reading GCT: .cache/sample_metadata_query.pco/geo_GSE9757_GPL570.gct\n",
      "INFO:root:'12' sample/s added to Cohort!\n",
      "INFO:cmap_logger:parsing gct file\n",
      "INFO:cmap_logger:Reading GCT: ./.cache/sample_metadata_query.pco/geo_GSE9757_GPL570.gct\n",
      "INFO:root: 1 dataset removed from Cohort!\n"
     ]
    },
    {
     "name": "stdout",
     "output_type": "stream",
     "text": [
      "Initializing process...\n",
      "Adding data to cohort...\n",
      "Adding metadata to cohort...\n"
     ]
    },
    {
     "name": "stderr",
     "output_type": "stream",
     "text": [
      "INFO:cmap_logger:parsing gct file\n",
      "INFO:cmap_logger:Reading GCT: .cache/sample_metadata_query.pco/geo_GSE97587_GPL20301.gct\n",
      "INFO:root:'6' sample/s added to Cohort!\n",
      "INFO:cmap_logger:parsing gct file\n",
      "INFO:cmap_logger:Reading GCT: ./.cache/sample_metadata_query.pco/geo_GSE97587_GPL20301.gct\n",
      "INFO:root: 1 dataset removed from Cohort!\n"
     ]
    },
    {
     "name": "stdout",
     "output_type": "stream",
     "text": [
      "Initializing process...\n",
      "Adding data to cohort...\n",
      "Adding metadata to cohort...\n"
     ]
    },
    {
     "name": "stderr",
     "output_type": "stream",
     "text": [
      "INFO:cmap_logger:parsing gct file\n",
      "INFO:cmap_logger:Reading GCT: .cache/sample_metadata_query.pco/geo_GSE97589_GPL11154.gct\n",
      "INFO:root:'6' sample/s added to Cohort!\n",
      "INFO:cmap_logger:parsing gct file\n",
      "INFO:cmap_logger:Reading GCT: ./.cache/sample_metadata_query.pco/geo_GSE97589_GPL11154.gct\n",
      "INFO:root: 1 dataset removed from Cohort!\n"
     ]
    },
    {
     "name": "stdout",
     "output_type": "stream",
     "text": [
      "Initializing process...\n",
      "Adding data to cohort...\n",
      "Adding metadata to cohort...\n"
     ]
    },
    {
     "name": "stderr",
     "output_type": "stream",
     "text": [
      "INFO:cmap_logger:parsing gct file\n",
      "INFO:cmap_logger:Reading GCT: .cache/sample_metadata_query.pco/geo_GSE9758_GPL570.gct\n",
      "INFO:root:'12' sample/s added to Cohort!\n",
      "INFO:cmap_logger:parsing gct file\n",
      "INFO:cmap_logger:Reading GCT: ./.cache/sample_metadata_query.pco/geo_GSE9758_GPL570.gct\n",
      "INFO:root: 1 dataset removed from Cohort!\n"
     ]
    },
    {
     "name": "stdout",
     "output_type": "stream",
     "text": [
      "Initializing process...\n",
      "Adding data to cohort...\n",
      "Adding metadata to cohort...\n"
     ]
    },
    {
     "name": "stderr",
     "output_type": "stream",
     "text": [
      "INFO:cmap_logger:parsing gct file\n",
      "INFO:cmap_logger:Reading GCT: .cache/sample_metadata_query.pco/geo_GSE97590_GPL16791.gct\n",
      "INFO:root:'56' sample/s added to Cohort!\n",
      "INFO:cmap_logger:parsing gct file\n",
      "INFO:cmap_logger:Reading GCT: ./.cache/sample_metadata_query.pco/geo_GSE97590_GPL16791.gct\n",
      "INFO:root: 1 dataset removed from Cohort!\n"
     ]
    },
    {
     "name": "stdout",
     "output_type": "stream",
     "text": [
      "Initializing process...\n",
      "Adding data to cohort...\n",
      "Adding metadata to cohort...\n"
     ]
    },
    {
     "name": "stderr",
     "output_type": "stream",
     "text": [
      "INFO:cmap_logger:parsing gct file\n",
      "INFO:cmap_logger:Reading GCT: .cache/sample_metadata_query.pco/geo_GSE97591_GPL20301.gct\n",
      "INFO:root:'2' sample/s added to Cohort!\n",
      "INFO:cmap_logger:parsing gct file\n",
      "INFO:cmap_logger:Reading GCT: ./.cache/sample_metadata_query.pco/geo_GSE97591_GPL20301.gct\n",
      "INFO:root: 1 dataset removed from Cohort!\n"
     ]
    },
    {
     "name": "stdout",
     "output_type": "stream",
     "text": [
      "Initializing process...\n",
      "Adding data to cohort...\n",
      "Adding metadata to cohort...\n"
     ]
    },
    {
     "name": "stderr",
     "output_type": "stream",
     "text": [
      "INFO:cmap_logger:parsing gct file\n",
      "INFO:cmap_logger:Reading GCT: .cache/sample_metadata_query.pco/geo_GSE97592_GPL18245.gct\n",
      "INFO:root:'2' sample/s added to Cohort!\n",
      "INFO:cmap_logger:parsing gct file\n",
      "INFO:cmap_logger:Reading GCT: ./.cache/sample_metadata_query.pco/geo_GSE97592_GPL18245.gct\n",
      "INFO:root: 1 dataset removed from Cohort!\n"
     ]
    },
    {
     "name": "stdout",
     "output_type": "stream",
     "text": [
      "Initializing process...\n",
      "Adding data to cohort...\n",
      "Adding metadata to cohort...\n"
     ]
    },
    {
     "name": "stderr",
     "output_type": "stream",
     "text": [
      "INFO:cmap_logger:parsing gct file\n",
      "INFO:cmap_logger:Reading GCT: .cache/sample_metadata_query.pco/geo_GSE97593_GPL21163.gct\n",
      "INFO:root:'8' sample/s added to Cohort!\n",
      "INFO:cmap_logger:parsing gct file\n",
      "INFO:cmap_logger:Reading GCT: ./.cache/sample_metadata_query.pco/geo_GSE97593_GPL21163.gct\n",
      "INFO:root: 1 dataset removed from Cohort!\n"
     ]
    },
    {
     "name": "stdout",
     "output_type": "stream",
     "text": [
      "Initializing process...\n",
      "Adding data to cohort...\n",
      "Adding metadata to cohort...\n"
     ]
    },
    {
     "name": "stderr",
     "output_type": "stream",
     "text": [
      "INFO:cmap_logger:parsing gct file\n",
      "INFO:cmap_logger:Reading GCT: .cache/sample_metadata_query.pco/geo_GSE97594_GPL10558.gct\n",
      "INFO:root:'21' sample/s added to Cohort!\n",
      "INFO:cmap_logger:parsing gct file\n",
      "INFO:cmap_logger:Reading GCT: ./.cache/sample_metadata_query.pco/geo_GSE97594_GPL10558.gct\n",
      "INFO:root: 1 dataset removed from Cohort!\n"
     ]
    },
    {
     "name": "stdout",
     "output_type": "stream",
     "text": [
      "Initializing process...\n",
      "Adding data to cohort...\n",
      "Adding metadata to cohort...\n"
     ]
    },
    {
     "name": "stderr",
     "output_type": "stream",
     "text": [
      "INFO:cmap_logger:parsing gct file\n",
      "INFO:cmap_logger:Reading GCT: .cache/sample_metadata_query.pco/geo_GSE97595_GPL17021.gct\n",
      "INFO:root:'6' sample/s added to Cohort!\n",
      "INFO:cmap_logger:parsing gct file\n",
      "INFO:cmap_logger:Reading GCT: ./.cache/sample_metadata_query.pco/geo_GSE97595_GPL17021.gct\n",
      "INFO:root: 1 dataset removed from Cohort!\n"
     ]
    },
    {
     "name": "stdout",
     "output_type": "stream",
     "text": [
      "Initializing process...\n",
      "Adding data to cohort...\n",
      "Adding metadata to cohort...\n"
     ]
    },
    {
     "name": "stderr",
     "output_type": "stream",
     "text": [
      "INFO:cmap_logger:parsing gct file\n",
      "INFO:cmap_logger:Reading GCT: .cache/sample_metadata_query.pco/geo_GSE9759_GPL570.gct\n",
      "INFO:root:'18' sample/s added to Cohort!\n",
      "INFO:cmap_logger:parsing gct file\n",
      "INFO:cmap_logger:Reading GCT: ./.cache/sample_metadata_query.pco/geo_GSE9759_GPL570.gct\n",
      "INFO:root: 1 dataset removed from Cohort!\n"
     ]
    },
    {
     "name": "stdout",
     "output_type": "stream",
     "text": [
      "Initializing process...\n",
      "Adding data to cohort...\n",
      "Adding metadata to cohort...\n"
     ]
    },
    {
     "name": "stderr",
     "output_type": "stream",
     "text": [
      "INFO:cmap_logger:parsing gct file\n",
      "INFO:cmap_logger:Reading GCT: .cache/sample_metadata_query.pco/geo_GSE97608_GPL19482.gct\n",
      "INFO:root:'102' sample/s added to Cohort!\n",
      "INFO:cmap_logger:parsing gct file\n",
      "INFO:cmap_logger:Reading GCT: ./.cache/sample_metadata_query.pco/geo_GSE97608_GPL19482.gct\n",
      "INFO:root: 1 dataset removed from Cohort!\n"
     ]
    },
    {
     "name": "stdout",
     "output_type": "stream",
     "text": [
      "Initializing process...\n",
      "Adding data to cohort...\n",
      "Adding metadata to cohort...\n"
     ]
    },
    {
     "name": "stderr",
     "output_type": "stream",
     "text": [
      "INFO:cmap_logger:parsing gct file\n",
      "INFO:cmap_logger:Reading GCT: .cache/sample_metadata_query.pco/geo_GSE97609_GPL17021.gct\n",
      "INFO:root:'20' sample/s added to Cohort!\n",
      "INFO:cmap_logger:parsing gct file\n",
      "INFO:cmap_logger:Reading GCT: ./.cache/sample_metadata_query.pco/geo_GSE97609_GPL17021.gct\n",
      "INFO:root: 1 dataset removed from Cohort!\n"
     ]
    },
    {
     "name": "stdout",
     "output_type": "stream",
     "text": [
      "Initializing process...\n",
      "Adding data to cohort...\n",
      "Adding metadata to cohort...\n"
     ]
    },
    {
     "name": "stderr",
     "output_type": "stream",
     "text": [
      "INFO:cmap_logger:parsing gct file\n",
      "INFO:cmap_logger:Reading GCT: .cache/sample_metadata_query.pco/geo_GSE9760_GPL1261.gct\n",
      "INFO:root:'12' sample/s added to Cohort!\n",
      "INFO:cmap_logger:parsing gct file\n",
      "INFO:cmap_logger:Reading GCT: ./.cache/sample_metadata_query.pco/geo_GSE9760_GPL1261.gct\n",
      "INFO:root: 1 dataset removed from Cohort!\n"
     ]
    },
    {
     "name": "stdout",
     "output_type": "stream",
     "text": [
      "Initializing process...\n",
      "Adding data to cohort...\n",
      "Adding metadata to cohort...\n"
     ]
    },
    {
     "name": "stderr",
     "output_type": "stream",
     "text": [
      "INFO:cmap_logger:parsing gct file\n",
      "INFO:cmap_logger:Reading GCT: .cache/sample_metadata_query.pco/geo_GSE97610_GPL1261.gct\n",
      "INFO:root:'6' sample/s added to Cohort!\n",
      "INFO:cmap_logger:parsing gct file\n",
      "INFO:cmap_logger:Reading GCT: ./.cache/sample_metadata_query.pco/geo_GSE97610_GPL1261.gct\n",
      "INFO:root: 1 dataset removed from Cohort!\n"
     ]
    },
    {
     "name": "stdout",
     "output_type": "stream",
     "text": [
      "Initializing process...\n",
      "Adding data to cohort...\n",
      "Adding metadata to cohort...\n"
     ]
    },
    {
     "name": "stderr",
     "output_type": "stream",
     "text": [
      "INFO:cmap_logger:parsing gct file\n",
      "INFO:cmap_logger:Reading GCT: .cache/sample_metadata_query.pco/geo_GSE97614_GPL6244.gct\n",
      "INFO:root:'12' sample/s added to Cohort!\n",
      "INFO:cmap_logger:parsing gct file\n",
      "INFO:cmap_logger:Reading GCT: ./.cache/sample_metadata_query.pco/geo_GSE97614_GPL6244.gct\n",
      "INFO:root: 1 dataset removed from Cohort!\n"
     ]
    },
    {
     "name": "stdout",
     "output_type": "stream",
     "text": [
      "Initializing process...\n",
      "Adding data to cohort...\n",
      "Adding metadata to cohort...\n"
     ]
    },
    {
     "name": "stderr",
     "output_type": "stream",
     "text": [
      "INFO:cmap_logger:parsing gct file\n",
      "INFO:cmap_logger:Reading GCT: .cache/sample_metadata_query.pco/geo_GSE97615_GPL11154.gct\n",
      "INFO:root:'5' sample/s added to Cohort!\n",
      "INFO:cmap_logger:parsing gct file\n",
      "INFO:cmap_logger:Reading GCT: ./.cache/sample_metadata_query.pco/geo_GSE97615_GPL11154.gct\n",
      "INFO:root: 1 dataset removed from Cohort!\n"
     ]
    },
    {
     "name": "stdout",
     "output_type": "stream",
     "text": [
      "Initializing process...\n",
      "Adding data to cohort...\n",
      "Adding metadata to cohort...\n"
     ]
    },
    {
     "name": "stderr",
     "output_type": "stream",
     "text": [
      "INFO:cmap_logger:parsing gct file\n",
      "INFO:cmap_logger:Reading GCT: .cache/sample_metadata_query.pco/geo_GSE97616_GPL11154.gct\n",
      "INFO:root:'24' sample/s added to Cohort!\n",
      "INFO:cmap_logger:parsing gct file\n",
      "INFO:cmap_logger:Reading GCT: ./.cache/sample_metadata_query.pco/geo_GSE97616_GPL11154.gct\n",
      "INFO:root: 1 dataset removed from Cohort!\n"
     ]
    },
    {
     "name": "stdout",
     "output_type": "stream",
     "text": [
      "Initializing process...\n",
      "Adding data to cohort...\n",
      "Adding metadata to cohort...\n"
     ]
    },
    {
     "name": "stderr",
     "output_type": "stream",
     "text": [
      "INFO:cmap_logger:parsing gct file\n",
      "INFO:cmap_logger:Reading GCT: .cache/sample_metadata_query.pco/geo_GSE97617_GPL11154.gct\n",
      "INFO:root:'48' sample/s added to Cohort!\n",
      "INFO:cmap_logger:parsing gct file\n",
      "INFO:cmap_logger:Reading GCT: ./.cache/sample_metadata_query.pco/geo_GSE97617_GPL11154.gct\n",
      "INFO:root: 1 dataset removed from Cohort!\n"
     ]
    },
    {
     "name": "stdout",
     "output_type": "stream",
     "text": [
      "Initializing process...\n",
      "Adding data to cohort...\n",
      "Adding metadata to cohort...\n"
     ]
    },
    {
     "name": "stderr",
     "output_type": "stream",
     "text": [
      "INFO:cmap_logger:parsing gct file\n",
      "INFO:cmap_logger:Reading GCT: .cache/sample_metadata_query.pco/geo_GSE97618_GPL13112.gct\n",
      "INFO:root:'83' sample/s added to Cohort!\n",
      "INFO:cmap_logger:parsing gct file\n",
      "INFO:cmap_logger:Reading GCT: ./.cache/sample_metadata_query.pco/geo_GSE97618_GPL13112.gct\n",
      "INFO:root: 1 dataset removed from Cohort!\n"
     ]
    },
    {
     "name": "stdout",
     "output_type": "stream",
     "text": [
      "Initializing process...\n",
      "Adding data to cohort...\n",
      "Adding metadata to cohort...\n"
     ]
    },
    {
     "name": "stderr",
     "output_type": "stream",
     "text": [
      "INFO:cmap_logger:parsing gct file\n",
      "INFO:cmap_logger:Reading GCT: .cache/sample_metadata_query.pco/geo_GSE97619_GPL16791.gct\n",
      "INFO:root:'24' sample/s added to Cohort!\n",
      "INFO:cmap_logger:parsing gct file\n",
      "INFO:cmap_logger:Reading GCT: ./.cache/sample_metadata_query.pco/geo_GSE97619_GPL16791.gct\n",
      "INFO:root: 1 dataset removed from Cohort!\n"
     ]
    },
    {
     "name": "stdout",
     "output_type": "stream",
     "text": [
      "Initializing process...\n",
      "Adding data to cohort...\n",
      "Adding metadata to cohort...\n"
     ]
    },
    {
     "name": "stderr",
     "output_type": "stream",
     "text": [
      "INFO:cmap_logger:parsing gct file\n",
      "INFO:cmap_logger:Reading GCT: .cache/sample_metadata_query.pco/geo_GSE9761_GPL570.gct\n",
      "INFO:root:'36' sample/s added to Cohort!\n",
      "INFO:cmap_logger:parsing gct file\n",
      "INFO:cmap_logger:Reading GCT: ./.cache/sample_metadata_query.pco/geo_GSE9761_GPL570.gct\n",
      "INFO:root: 1 dataset removed from Cohort!\n"
     ]
    },
    {
     "name": "stdout",
     "output_type": "stream",
     "text": [
      "Initializing process...\n",
      "Adding data to cohort...\n",
      "Adding metadata to cohort...\n"
     ]
    },
    {
     "name": "stderr",
     "output_type": "stream",
     "text": [
      "INFO:cmap_logger:parsing gct file\n",
      "INFO:cmap_logger:Reading GCT: .cache/sample_metadata_query.pco/geo_GSE97621_GPL17692.gct\n",
      "INFO:root:'6' sample/s added to Cohort!\n",
      "INFO:cmap_logger:parsing gct file\n",
      "INFO:cmap_logger:Reading GCT: ./.cache/sample_metadata_query.pco/geo_GSE97621_GPL17692.gct\n",
      "INFO:root: 1 dataset removed from Cohort!\n"
     ]
    },
    {
     "name": "stdout",
     "output_type": "stream",
     "text": [
      "Initializing process...\n",
      "Adding data to cohort...\n",
      "Adding metadata to cohort...\n"
     ]
    },
    {
     "name": "stderr",
     "output_type": "stream",
     "text": [
      "INFO:cmap_logger:parsing gct file\n",
      "INFO:cmap_logger:Reading GCT: .cache/sample_metadata_query.pco/geo_GSE97622_GPL13112.gct\n",
      "INFO:root:'2' sample/s added to Cohort!\n",
      "INFO:cmap_logger:parsing gct file\n",
      "INFO:cmap_logger:Reading GCT: ./.cache/sample_metadata_query.pco/geo_GSE97622_GPL13112.gct\n",
      "INFO:root: 1 dataset removed from Cohort!\n"
     ]
    },
    {
     "name": "stdout",
     "output_type": "stream",
     "text": [
      "Initializing process...\n",
      "Adding data to cohort...\n",
      "Adding metadata to cohort...\n"
     ]
    },
    {
     "name": "stderr",
     "output_type": "stream",
     "text": [
      "INFO:cmap_logger:parsing gct file\n",
      "INFO:cmap_logger:Reading GCT: .cache/sample_metadata_query.pco/geo_GSE97623_GPL22396.gct\n",
      "INFO:root:'2' sample/s added to Cohort!\n",
      "INFO:cmap_logger:parsing gct file\n",
      "INFO:cmap_logger:Reading GCT: ./.cache/sample_metadata_query.pco/geo_GSE97623_GPL22396.gct\n",
      "INFO:root: 1 dataset removed from Cohort!\n"
     ]
    },
    {
     "name": "stdout",
     "output_type": "stream",
     "text": [
      "Initializing process...\n",
      "Adding data to cohort...\n",
      "Adding metadata to cohort...\n"
     ]
    },
    {
     "name": "stderr",
     "output_type": "stream",
     "text": [
      "INFO:cmap_logger:parsing gct file\n",
      "INFO:cmap_logger:Reading GCT: .cache/sample_metadata_query.pco/geo_GSE97625_GPL10558.gct\n",
      "INFO:root:'4' sample/s added to Cohort!\n",
      "INFO:cmap_logger:parsing gct file\n",
      "INFO:cmap_logger:Reading GCT: ./.cache/sample_metadata_query.pco/geo_GSE97625_GPL10558.gct\n",
      "INFO:root: 1 dataset removed from Cohort!\n"
     ]
    },
    {
     "name": "stdout",
     "output_type": "stream",
     "text": [
      "Initializing process...\n",
      "Adding data to cohort...\n",
      "Adding metadata to cohort...\n"
     ]
    },
    {
     "name": "stderr",
     "output_type": "stream",
     "text": [
      "INFO:cmap_logger:parsing gct file\n",
      "INFO:cmap_logger:Reading GCT: .cache/sample_metadata_query.pco/geo_GSE97627_GPL10558.gct\n",
      "INFO:root:'24' sample/s added to Cohort!\n",
      "INFO:cmap_logger:parsing gct file\n",
      "INFO:cmap_logger:Reading GCT: ./.cache/sample_metadata_query.pco/geo_GSE97627_GPL10558.gct\n",
      "INFO:root: 1 dataset removed from Cohort!\n"
     ]
    },
    {
     "name": "stdout",
     "output_type": "stream",
     "text": [
      "Initializing process...\n",
      "Adding data to cohort...\n",
      "Adding metadata to cohort...\n"
     ]
    },
    {
     "name": "stderr",
     "output_type": "stream",
     "text": [
      "INFO:cmap_logger:parsing gct file\n",
      "INFO:cmap_logger:Reading GCT: .cache/sample_metadata_query.pco/geo_GSE9762_GPL570.gct\n",
      "INFO:root:'14' sample/s added to Cohort!\n",
      "INFO:cmap_logger:parsing gct file\n",
      "INFO:cmap_logger:Reading GCT: ./.cache/sample_metadata_query.pco/geo_GSE9762_GPL570.gct\n",
      "INFO:root: 1 dataset removed from Cohort!\n"
     ]
    },
    {
     "name": "stdout",
     "output_type": "stream",
     "text": [
      "Initializing process...\n",
      "Adding data to cohort...\n",
      "Adding metadata to cohort...\n"
     ]
    },
    {
     "name": "stderr",
     "output_type": "stream",
     "text": [
      "INFO:cmap_logger:parsing gct file\n",
      "INFO:cmap_logger:Reading GCT: .cache/sample_metadata_query.pco/geo_GSE97631_GPL6244.gct\n",
      "INFO:root:'6' sample/s added to Cohort!\n",
      "INFO:cmap_logger:parsing gct file\n",
      "INFO:cmap_logger:Reading GCT: ./.cache/sample_metadata_query.pco/geo_GSE97631_GPL6244.gct\n",
      "INFO:root: 1 dataset removed from Cohort!\n"
     ]
    },
    {
     "name": "stdout",
     "output_type": "stream",
     "text": [
      "Initializing process...\n",
      "Adding data to cohort...\n",
      "Adding metadata to cohort...\n"
     ]
    },
    {
     "name": "stderr",
     "output_type": "stream",
     "text": [
      "INFO:cmap_logger:parsing gct file\n",
      "INFO:cmap_logger:Reading GCT: .cache/sample_metadata_query.pco/geo_GSE97632_GPL11154.gct\n",
      "INFO:root:'12' sample/s added to Cohort!\n",
      "INFO:cmap_logger:parsing gct file\n",
      "INFO:cmap_logger:Reading GCT: ./.cache/sample_metadata_query.pco/geo_GSE97632_GPL11154.gct\n",
      "INFO:root: 1 dataset removed from Cohort!\n"
     ]
    },
    {
     "name": "stdout",
     "output_type": "stream",
     "text": [
      "Initializing process...\n",
      "Adding data to cohort...\n",
      "Adding metadata to cohort...\n"
     ]
    },
    {
     "name": "stderr",
     "output_type": "stream",
     "text": [
      "INFO:cmap_logger:parsing gct file\n",
      "INFO:cmap_logger:Reading GCT: .cache/sample_metadata_query.pco/geo_GSE9763_GPL1261.gct\n",
      "INFO:root:'20' sample/s added to Cohort!\n",
      "INFO:cmap_logger:parsing gct file\n",
      "INFO:cmap_logger:Reading GCT: ./.cache/sample_metadata_query.pco/geo_GSE9763_GPL1261.gct\n",
      "INFO:root: 1 dataset removed from Cohort!\n"
     ]
    },
    {
     "name": "stdout",
     "output_type": "stream",
     "text": [
      "Initializing process...\n",
      "Adding data to cohort...\n",
      "Adding metadata to cohort...\n"
     ]
    },
    {
     "name": "stderr",
     "output_type": "stream",
     "text": [
      "INFO:cmap_logger:parsing gct file\n",
      "INFO:cmap_logger:Reading GCT: .cache/sample_metadata_query.pco/geo_GSE97640_GPL17021.gct\n",
      "INFO:root:'12' sample/s added to Cohort!\n",
      "INFO:cmap_logger:parsing gct file\n",
      "INFO:cmap_logger:Reading GCT: ./.cache/sample_metadata_query.pco/geo_GSE97640_GPL17021.gct\n",
      "INFO:root: 1 dataset removed from Cohort!\n"
     ]
    },
    {
     "name": "stdout",
     "output_type": "stream",
     "text": [
      "Initializing process...\n",
      "Adding data to cohort...\n",
      "Adding metadata to cohort...\n"
     ]
    },
    {
     "name": "stderr",
     "output_type": "stream",
     "text": [
      "INFO:cmap_logger:parsing gct file\n",
      "INFO:cmap_logger:Reading GCT: .cache/sample_metadata_query.pco/geo_GSE97642_GPL6887.gct\n",
      "INFO:root:'13' sample/s added to Cohort!\n",
      "INFO:cmap_logger:parsing gct file\n",
      "INFO:cmap_logger:Reading GCT: ./.cache/sample_metadata_query.pco/geo_GSE97642_GPL6887.gct\n",
      "INFO:root: 1 dataset removed from Cohort!\n"
     ]
    },
    {
     "name": "stdout",
     "output_type": "stream",
     "text": [
      "Initializing process...\n",
      "Adding data to cohort...\n",
      "Adding metadata to cohort...\n"
     ]
    },
    {
     "name": "stderr",
     "output_type": "stream",
     "text": [
      "INFO:cmap_logger:parsing gct file\n",
      "INFO:cmap_logger:Reading GCT: .cache/sample_metadata_query.pco/geo_GSE97643_GPL6887.gct\n",
      "INFO:root:'28' sample/s added to Cohort!\n",
      "INFO:cmap_logger:parsing gct file\n",
      "INFO:cmap_logger:Reading GCT: ./.cache/sample_metadata_query.pco/geo_GSE97643_GPL6887.gct\n",
      "INFO:root: 1 dataset removed from Cohort!\n"
     ]
    },
    {
     "name": "stdout",
     "output_type": "stream",
     "text": [
      "Initializing process...\n",
      "Adding data to cohort...\n",
      "Adding metadata to cohort...\n"
     ]
    },
    {
     "name": "stderr",
     "output_type": "stream",
     "text": [
      "INFO:cmap_logger:parsing gct file\n",
      "INFO:cmap_logger:Reading GCT: .cache/sample_metadata_query.pco/geo_GSE97646_GPL16686.gct\n",
      "INFO:root:'6' sample/s added to Cohort!\n",
      "INFO:cmap_logger:parsing gct file\n",
      "INFO:cmap_logger:Reading GCT: ./.cache/sample_metadata_query.pco/geo_GSE97646_GPL16686.gct\n",
      "INFO:root: 1 dataset removed from Cohort!\n"
     ]
    },
    {
     "name": "stdout",
     "output_type": "stream",
     "text": [
      "Initializing process...\n",
      "Adding data to cohort...\n",
      "Adding metadata to cohort...\n"
     ]
    },
    {
     "name": "stderr",
     "output_type": "stream",
     "text": [
      "INFO:cmap_logger:parsing gct file\n",
      "INFO:cmap_logger:Reading GCT: .cache/sample_metadata_query.pco/geo_GSE97647_GPL11154.gct\n",
      "INFO:root:'2' sample/s added to Cohort!\n",
      "INFO:cmap_logger:parsing gct file\n",
      "INFO:cmap_logger:Reading GCT: ./.cache/sample_metadata_query.pco/geo_GSE97647_GPL11154.gct\n",
      "INFO:root: 1 dataset removed from Cohort!\n"
     ]
    },
    {
     "name": "stdout",
     "output_type": "stream",
     "text": [
      "Initializing process...\n",
      "Adding data to cohort...\n",
      "Adding metadata to cohort...\n"
     ]
    },
    {
     "name": "stderr",
     "output_type": "stream",
     "text": [
      "INFO:cmap_logger:parsing gct file\n",
      "INFO:cmap_logger:Reading GCT: .cache/sample_metadata_query.pco/geo_GSE9764_GPL570.gct\n",
      "INFO:root:'11' sample/s added to Cohort!\n",
      "INFO:cmap_logger:parsing gct file\n",
      "INFO:cmap_logger:Reading GCT: ./.cache/sample_metadata_query.pco/geo_GSE9764_GPL570.gct\n",
      "INFO:root: 1 dataset removed from Cohort!\n"
     ]
    },
    {
     "name": "stdout",
     "output_type": "stream",
     "text": [
      "Initializing process...\n",
      "Adding data to cohort...\n",
      "Adding metadata to cohort...\n"
     ]
    },
    {
     "name": "stderr",
     "output_type": "stream",
     "text": [
      "INFO:cmap_logger:parsing gct file\n",
      "INFO:cmap_logger:Reading GCT: .cache/sample_metadata_query.pco/geo_GSE97652_GPL21103.gct\n",
      "INFO:root:'14' sample/s added to Cohort!\n",
      "INFO:cmap_logger:parsing gct file\n",
      "INFO:cmap_logger:Reading GCT: ./.cache/sample_metadata_query.pco/geo_GSE97652_GPL21103.gct\n",
      "INFO:root: 1 dataset removed from Cohort!\n"
     ]
    },
    {
     "name": "stdout",
     "output_type": "stream",
     "text": [
      "Initializing process...\n",
      "Adding data to cohort...\n",
      "Adding metadata to cohort...\n"
     ]
    },
    {
     "name": "stderr",
     "output_type": "stream",
     "text": [
      "INFO:cmap_logger:parsing gct file\n",
      "INFO:cmap_logger:Reading GCT: .cache/sample_metadata_query.pco/geo_GSE97654_GPL19057.gct\n",
      "INFO:root:'38' sample/s added to Cohort!\n",
      "INFO:cmap_logger:parsing gct file\n",
      "INFO:cmap_logger:Reading GCT: ./.cache/sample_metadata_query.pco/geo_GSE97654_GPL19057.gct\n",
      "INFO:root: 1 dataset removed from Cohort!\n"
     ]
    },
    {
     "name": "stdout",
     "output_type": "stream",
     "text": [
      "Initializing process...\n",
      "Adding data to cohort...\n",
      "Adding metadata to cohort...\n"
     ]
    },
    {
     "name": "stderr",
     "output_type": "stream",
     "text": [
      "INFO:cmap_logger:parsing gct file\n",
      "INFO:cmap_logger:Reading GCT: .cache/sample_metadata_query.pco/geo_GSE97655_GPL20301.gct\n",
      "INFO:root:'223' sample/s added to Cohort!\n",
      "INFO:cmap_logger:parsing gct file\n",
      "INFO:cmap_logger:Reading GCT: ./.cache/sample_metadata_query.pco/geo_GSE97655_GPL20301.gct\n",
      "INFO:root: 1 dataset removed from Cohort!\n"
     ]
    },
    {
     "name": "stdout",
     "output_type": "stream",
     "text": [
      "Initializing process...\n",
      "Adding data to cohort...\n",
      "Adding metadata to cohort...\n"
     ]
    },
    {
     "name": "stderr",
     "output_type": "stream",
     "text": [
      "INFO:cmap_logger:parsing gct file\n",
      "INFO:cmap_logger:Reading GCT: .cache/sample_metadata_query.pco/geo_GSE97657_GPL16570.gct\n",
      "INFO:root:'6' sample/s added to Cohort!\n",
      "INFO:cmap_logger:parsing gct file\n",
      "INFO:cmap_logger:Reading GCT: ./.cache/sample_metadata_query.pco/geo_GSE97657_GPL16570.gct\n",
      "INFO:root: 1 dataset removed from Cohort!\n"
     ]
    },
    {
     "name": "stdout",
     "output_type": "stream",
     "text": [
      "Initializing process...\n",
      "Adding data to cohort...\n",
      "Adding metadata to cohort...\n"
     ]
    },
    {
     "name": "stderr",
     "output_type": "stream",
     "text": [
      "INFO:cmap_logger:parsing gct file\n",
      "INFO:cmap_logger:Reading GCT: .cache/sample_metadata_query.pco/geo_GSE97658_GPL21103.gct\n",
      "INFO:root:'8' sample/s added to Cohort!\n",
      "INFO:cmap_logger:parsing gct file\n",
      "INFO:cmap_logger:Reading GCT: ./.cache/sample_metadata_query.pco/geo_GSE97658_GPL21103.gct\n",
      "INFO:root: 1 dataset removed from Cohort!\n"
     ]
    },
    {
     "name": "stdout",
     "output_type": "stream",
     "text": [
      "Initializing process...\n",
      "Adding data to cohort...\n",
      "Adding metadata to cohort...\n"
     ]
    },
    {
     "name": "stderr",
     "output_type": "stream",
     "text": [
      "INFO:cmap_logger:parsing gct file\n",
      "INFO:cmap_logger:Reading GCT: .cache/sample_metadata_query.pco/geo_GSE97665_GPL22364.gct\n",
      "INFO:root:'11' sample/s added to Cohort!\n",
      "INFO:cmap_logger:parsing gct file\n",
      "INFO:cmap_logger:Reading GCT: ./.cache/sample_metadata_query.pco/geo_GSE97665_GPL22364.gct\n",
      "INFO:root: 1 dataset removed from Cohort!\n"
     ]
    },
    {
     "name": "stdout",
     "output_type": "stream",
     "text": [
      "Initializing process...\n",
      "Adding data to cohort...\n",
      "Adding metadata to cohort...\n"
     ]
    },
    {
     "name": "stderr",
     "output_type": "stream",
     "text": [
      "INFO:cmap_logger:parsing gct file\n",
      "INFO:cmap_logger:Reading GCT: .cache/sample_metadata_query.pco/geo_GSE97666_GPL21493.gct\n",
      "INFO:root:'34' sample/s added to Cohort!\n",
      "INFO:cmap_logger:parsing gct file\n",
      "INFO:cmap_logger:Reading GCT: ./.cache/sample_metadata_query.pco/geo_GSE97666_GPL21493.gct\n",
      "INFO:root: 1 dataset removed from Cohort!\n"
     ]
    },
    {
     "name": "stdout",
     "output_type": "stream",
     "text": [
      "Initializing process...\n",
      "Adding data to cohort...\n",
      "Adding metadata to cohort...\n"
     ]
    },
    {
     "name": "stderr",
     "output_type": "stream",
     "text": [
      "INFO:cmap_logger:parsing gct file\n",
      "INFO:cmap_logger:Reading GCT: .cache/sample_metadata_query.pco/geo_GSE97668_GPL15433.gct\n",
      "INFO:root:'33' sample/s added to Cohort!\n",
      "INFO:cmap_logger:parsing gct file\n",
      "INFO:cmap_logger:Reading GCT: ./.cache/sample_metadata_query.pco/geo_GSE97668_GPL15433.gct\n",
      "INFO:root: 1 dataset removed from Cohort!\n"
     ]
    },
    {
     "name": "stdout",
     "output_type": "stream",
     "text": [
      "Initializing process...\n",
      "Adding data to cohort...\n",
      "Adding metadata to cohort...\n"
     ]
    },
    {
     "name": "stderr",
     "output_type": "stream",
     "text": [
      "INFO:cmap_logger:parsing gct file\n",
      "INFO:cmap_logger:Reading GCT: .cache/sample_metadata_query.pco/geo_GSE97669_GPL16417.gct\n",
      "INFO:root:'92' sample/s added to Cohort!\n",
      "INFO:cmap_logger:parsing gct file\n",
      "INFO:cmap_logger:Reading GCT: ./.cache/sample_metadata_query.pco/geo_GSE97669_GPL16417.gct\n",
      "INFO:root: 1 dataset removed from Cohort!\n"
     ]
    },
    {
     "name": "stdout",
     "output_type": "stream",
     "text": [
      "Initializing process...\n",
      "Adding data to cohort...\n",
      "Adding metadata to cohort...\n"
     ]
    },
    {
     "name": "stderr",
     "output_type": "stream",
     "text": [
      "INFO:cmap_logger:parsing gct file\n",
      "INFO:cmap_logger:Reading GCT: .cache/sample_metadata_query.pco/geo_GSE9766_GPL1261.gct\n",
      "INFO:root:'3' sample/s added to Cohort!\n",
      "INFO:cmap_logger:parsing gct file\n",
      "INFO:cmap_logger:Reading GCT: ./.cache/sample_metadata_query.pco/geo_GSE9766_GPL1261.gct\n",
      "INFO:root: 1 dataset removed from Cohort!\n"
     ]
    },
    {
     "name": "stdout",
     "output_type": "stream",
     "text": [
      "Initializing process...\n",
      "Adding data to cohort...\n",
      "Adding metadata to cohort...\n"
     ]
    },
    {
     "name": "stderr",
     "output_type": "stream",
     "text": [
      "INFO:cmap_logger:parsing gct file\n",
      "INFO:cmap_logger:Reading GCT: .cache/sample_metadata_query.pco/geo_GSE97672_GPL18573.gct\n",
      "INFO:root:'8' sample/s added to Cohort!\n",
      "INFO:cmap_logger:parsing gct file\n",
      "INFO:cmap_logger:Reading GCT: ./.cache/sample_metadata_query.pco/geo_GSE97672_GPL18573.gct\n",
      "INFO:root: 1 dataset removed from Cohort!\n"
     ]
    },
    {
     "name": "stdout",
     "output_type": "stream",
     "text": [
      "Initializing process...\n",
      "Adding data to cohort...\n",
      "Adding metadata to cohort...\n"
     ]
    },
    {
     "name": "stderr",
     "output_type": "stream",
     "text": [
      "INFO:cmap_logger:parsing gct file\n",
      "INFO:cmap_logger:Reading GCT: .cache/sample_metadata_query.pco/geo_GSE97677_GPL6885.gct\n",
      "INFO:root:'18' sample/s added to Cohort!\n",
      "INFO:cmap_logger:parsing gct file\n",
      "INFO:cmap_logger:Reading GCT: ./.cache/sample_metadata_query.pco/geo_GSE97677_GPL6885.gct\n",
      "INFO:root: 1 dataset removed from Cohort!\n"
     ]
    },
    {
     "name": "stdout",
     "output_type": "stream",
     "text": [
      "Initializing process...\n",
      "Adding data to cohort...\n",
      "Adding metadata to cohort...\n"
     ]
    },
    {
     "name": "stderr",
     "output_type": "stream",
     "text": [
      "INFO:cmap_logger:parsing gct file\n",
      "INFO:cmap_logger:Reading GCT: .cache/sample_metadata_query.pco/geo_GSE97679_GPL18573.gct\n",
      "INFO:root:'16' sample/s added to Cohort!\n",
      "INFO:cmap_logger:parsing gct file\n",
      "INFO:cmap_logger:Reading GCT: ./.cache/sample_metadata_query.pco/geo_GSE97679_GPL18573.gct\n",
      "INFO:root: 1 dataset removed from Cohort!\n"
     ]
    },
    {
     "name": "stdout",
     "output_type": "stream",
     "text": [
      "Initializing process...\n",
      "Adding data to cohort...\n",
      "Adding metadata to cohort...\n"
     ]
    },
    {
     "name": "stderr",
     "output_type": "stream",
     "text": [
      "INFO:cmap_logger:parsing gct file\n",
      "INFO:cmap_logger:Reading GCT: .cache/sample_metadata_query.pco/geo_GSE97681_GPL18573.gct\n",
      "INFO:root:'122' sample/s added to Cohort!\n",
      "INFO:cmap_logger:parsing gct file\n",
      "INFO:cmap_logger:Reading GCT: ./.cache/sample_metadata_query.pco/geo_GSE97681_GPL18573.gct\n",
      "INFO:root: 1 dataset removed from Cohort!\n"
     ]
    },
    {
     "name": "stdout",
     "output_type": "stream",
     "text": [
      "Initializing process...\n",
      "Adding data to cohort...\n",
      "Adding metadata to cohort...\n"
     ]
    },
    {
     "name": "stderr",
     "output_type": "stream",
     "text": [
      "INFO:cmap_logger:parsing gct file\n",
      "INFO:cmap_logger:Reading GCT: .cache/sample_metadata_query.pco/geo_GSE97682_GPL18573.gct\n",
      "INFO:root:'155' sample/s added to Cohort!\n",
      "INFO:cmap_logger:parsing gct file\n",
      "INFO:cmap_logger:Reading GCT: ./.cache/sample_metadata_query.pco/geo_GSE97682_GPL18573.gct\n",
      "INFO:root: 1 dataset removed from Cohort!\n"
     ]
    },
    {
     "name": "stdout",
     "output_type": "stream",
     "text": [
      "Initializing process...\n",
      "Adding data to cohort...\n",
      "Adding metadata to cohort...\n"
     ]
    },
    {
     "name": "stderr",
     "output_type": "stream",
     "text": [
      "INFO:cmap_logger:parsing gct file\n",
      "INFO:cmap_logger:Reading GCT: .cache/sample_metadata_query.pco/geo_GSE97684_GPL17586.gct\n",
      "INFO:root:'2' sample/s added to Cohort!\n",
      "INFO:cmap_logger:parsing gct file\n",
      "INFO:cmap_logger:Reading GCT: ./.cache/sample_metadata_query.pco/geo_GSE97684_GPL17586.gct\n",
      "INFO:root: 1 dataset removed from Cohort!\n"
     ]
    },
    {
     "name": "stdout",
     "output_type": "stream",
     "text": [
      "Initializing process...\n",
      "Adding data to cohort...\n",
      "Adding metadata to cohort...\n"
     ]
    },
    {
     "name": "stderr",
     "output_type": "stream",
     "text": [
      "INFO:cmap_logger:parsing gct file\n",
      "INFO:cmap_logger:Reading GCT: .cache/sample_metadata_query.pco/geo_GSE97685_GPL17021.gct\n",
      "INFO:root:'14' sample/s added to Cohort!\n",
      "INFO:cmap_logger:parsing gct file\n",
      "INFO:cmap_logger:Reading GCT: ./.cache/sample_metadata_query.pco/geo_GSE97685_GPL17021.gct\n",
      "INFO:root: 1 dataset removed from Cohort!\n"
     ]
    },
    {
     "name": "stdout",
     "output_type": "stream",
     "text": [
      "Initializing process...\n",
      "Adding data to cohort...\n",
      "Adding metadata to cohort...\n"
     ]
    },
    {
     "name": "stderr",
     "output_type": "stream",
     "text": [
      "INFO:cmap_logger:parsing gct file\n",
      "INFO:cmap_logger:Reading GCT: .cache/sample_metadata_query.pco/geo_GSE97688_GPL20301.gct\n",
      "INFO:root:'2' sample/s added to Cohort!\n",
      "INFO:cmap_logger:parsing gct file\n",
      "INFO:cmap_logger:Reading GCT: ./.cache/sample_metadata_query.pco/geo_GSE97688_GPL20301.gct\n",
      "INFO:root: 1 dataset removed from Cohort!\n"
     ]
    },
    {
     "name": "stdout",
     "output_type": "stream",
     "text": [
      "Initializing process...\n",
      "Adding data to cohort...\n",
      "Adding metadata to cohort...\n"
     ]
    },
    {
     "name": "stderr",
     "output_type": "stream",
     "text": [
      "INFO:cmap_logger:parsing gct file\n",
      "INFO:cmap_logger:Reading GCT: .cache/sample_metadata_query.pco/geo_GSE97689_GPL6244.gct\n",
      "INFO:root:'92' sample/s added to Cohort!\n",
      "INFO:cmap_logger:parsing gct file\n",
      "INFO:cmap_logger:Reading GCT: ./.cache/sample_metadata_query.pco/geo_GSE97689_GPL6244.gct\n",
      "INFO:root: 1 dataset removed from Cohort!\n"
     ]
    },
    {
     "name": "stdout",
     "output_type": "stream",
     "text": [
      "Initializing process...\n",
      "Adding data to cohort...\n",
      "Adding metadata to cohort...\n"
     ]
    },
    {
     "name": "stderr",
     "output_type": "stream",
     "text": [
      "INFO:cmap_logger:parsing gct file\n",
      "INFO:cmap_logger:Reading GCT: .cache/sample_metadata_query.pco/geo_GSE9768_GPL570.gct\n",
      "INFO:root:'13' sample/s added to Cohort!\n",
      "INFO:cmap_logger:parsing gct file\n",
      "INFO:cmap_logger:Reading GCT: ./.cache/sample_metadata_query.pco/geo_GSE9768_GPL570.gct\n",
      "INFO:root: 1 dataset removed from Cohort!\n"
     ]
    },
    {
     "name": "stdout",
     "output_type": "stream",
     "text": [
      "Initializing process...\n",
      "Adding data to cohort...\n",
      "Adding metadata to cohort...\n"
     ]
    },
    {
     "name": "stderr",
     "output_type": "stream",
     "text": [
      "INFO:cmap_logger:parsing gct file\n",
      "INFO:cmap_logger:Reading GCT: .cache/sample_metadata_query.pco/geo_GSE97690_GPL11002.gct\n",
      "INFO:root:'2' sample/s added to Cohort!\n",
      "INFO:cmap_logger:parsing gct file\n",
      "INFO:cmap_logger:Reading GCT: ./.cache/sample_metadata_query.pco/geo_GSE97690_GPL11002.gct\n",
      "INFO:root: 1 dataset removed from Cohort!\n"
     ]
    },
    {
     "name": "stdout",
     "output_type": "stream",
     "text": [
      "Initializing process...\n",
      "Adding data to cohort...\n",
      "Adding metadata to cohort...\n"
     ]
    },
    {
     "name": "stderr",
     "output_type": "stream",
     "text": [
      "INFO:cmap_logger:parsing gct file\n",
      "INFO:cmap_logger:Reading GCT: .cache/sample_metadata_query.pco/geo_GSE97692_GPL16043.gct\n",
      "INFO:root:'7' sample/s added to Cohort!\n",
      "INFO:cmap_logger:parsing gct file\n",
      "INFO:cmap_logger:Reading GCT: ./.cache/sample_metadata_query.pco/geo_GSE97692_GPL16043.gct\n",
      "INFO:root: 1 dataset removed from Cohort!\n"
     ]
    },
    {
     "name": "stdout",
     "output_type": "stream",
     "text": [
      "Initializing process...\n",
      "Adding data to cohort...\n",
      "Adding metadata to cohort...\n"
     ]
    },
    {
     "name": "stderr",
     "output_type": "stream",
     "text": [
      "INFO:cmap_logger:parsing gct file\n",
      "INFO:cmap_logger:Reading GCT: .cache/sample_metadata_query.pco/geo_GSE97696_GPL17021.gct\n",
      "INFO:root:'15' sample/s added to Cohort!\n",
      "INFO:cmap_logger:parsing gct file\n",
      "INFO:cmap_logger:Reading GCT: ./.cache/sample_metadata_query.pco/geo_GSE97696_GPL17021.gct\n",
      "INFO:root: 1 dataset removed from Cohort!\n"
     ]
    },
    {
     "name": "stdout",
     "output_type": "stream",
     "text": [
      "Initializing process...\n",
      "Adding data to cohort...\n",
      "Adding metadata to cohort...\n"
     ]
    },
    {
     "name": "stderr",
     "output_type": "stream",
     "text": [
      "INFO:cmap_logger:parsing gct file\n",
      "INFO:cmap_logger:Reading GCT: .cache/sample_metadata_query.pco/geo_GSE97698_GPL17021.gct\n",
      "INFO:root:'25' sample/s added to Cohort!\n",
      "INFO:cmap_logger:parsing gct file\n",
      "INFO:cmap_logger:Reading GCT: ./.cache/sample_metadata_query.pco/geo_GSE97698_GPL17021.gct\n",
      "INFO:root: 1 dataset removed from Cohort!\n"
     ]
    },
    {
     "name": "stdout",
     "output_type": "stream",
     "text": [
      "Initializing process...\n",
      "Adding data to cohort...\n",
      "Adding metadata to cohort...\n"
     ]
    },
    {
     "name": "stderr",
     "output_type": "stream",
     "text": [
      "INFO:cmap_logger:parsing gct file\n",
      "INFO:cmap_logger:Reading GCT: .cache/sample_metadata_query.pco/geo_GSE976_GPL96.gct\n",
      "INFO:root:'24' sample/s added to Cohort!\n",
      "INFO:cmap_logger:parsing gct file\n",
      "INFO:cmap_logger:Reading GCT: ./.cache/sample_metadata_query.pco/geo_GSE976_GPL96.gct\n",
      "INFO:root: 1 dataset removed from Cohort!\n"
     ]
    },
    {
     "name": "stdout",
     "output_type": "stream",
     "text": [
      "Initializing process...\n",
      "Adding data to cohort...\n",
      "Adding metadata to cohort...\n"
     ]
    },
    {
     "name": "stderr",
     "output_type": "stream",
     "text": [
      "INFO:cmap_logger:parsing gct file\n",
      "INFO:cmap_logger:Reading GCT: .cache/sample_metadata_query.pco/geo_GSE97703_GPL13112.gct\n",
      "INFO:root:'17' sample/s added to Cohort!\n",
      "INFO:cmap_logger:parsing gct file\n",
      "INFO:cmap_logger:Reading GCT: ./.cache/sample_metadata_query.pco/geo_GSE97703_GPL13112.gct\n",
      "INFO:root: 1 dataset removed from Cohort!\n"
     ]
    },
    {
     "name": "stdout",
     "output_type": "stream",
     "text": [
      "Initializing process...\n",
      "Adding data to cohort...\n",
      "Adding metadata to cohort...\n"
     ]
    },
    {
     "name": "stderr",
     "output_type": "stream",
     "text": [
      "INFO:cmap_logger:parsing gct file\n",
      "INFO:cmap_logger:Reading GCT: .cache/sample_metadata_query.pco/geo_GSE97705_GPL10787.gct\n",
      "INFO:root:'24' sample/s added to Cohort!\n",
      "INFO:cmap_logger:parsing gct file\n",
      "INFO:cmap_logger:Reading GCT: ./.cache/sample_metadata_query.pco/geo_GSE97705_GPL10787.gct\n",
      "INFO:root: 1 dataset removed from Cohort!\n"
     ]
    },
    {
     "name": "stdout",
     "output_type": "stream",
     "text": [
      "Initializing process...\n",
      "Adding data to cohort...\n",
      "Adding metadata to cohort...\n"
     ]
    },
    {
     "name": "stderr",
     "output_type": "stream",
     "text": [
      "INFO:cmap_logger:parsing gct file\n",
      "INFO:cmap_logger:Reading GCT: .cache/sample_metadata_query.pco/geo_GSE97707_GPL10558.gct\n",
      "INFO:root:'22' sample/s added to Cohort!\n",
      "INFO:cmap_logger:parsing gct file\n",
      "INFO:cmap_logger:Reading GCT: ./.cache/sample_metadata_query.pco/geo_GSE97707_GPL10558.gct\n",
      "INFO:root: 1 dataset removed from Cohort!\n"
     ]
    },
    {
     "name": "stdout",
     "output_type": "stream",
     "text": [
      "Initializing process...\n",
      "Adding data to cohort...\n",
      "Adding metadata to cohort...\n"
     ]
    },
    {
     "name": "stderr",
     "output_type": "stream",
     "text": [
      "INFO:cmap_logger:parsing gct file\n",
      "INFO:cmap_logger:Reading GCT: .cache/sample_metadata_query.pco/geo_GSE97709_GPL17303.gct\n",
      "INFO:root:'28' sample/s added to Cohort!\n",
      "INFO:cmap_logger:parsing gct file\n",
      "INFO:cmap_logger:Reading GCT: ./.cache/sample_metadata_query.pco/geo_GSE97709_GPL17303.gct\n",
      "INFO:root: 1 dataset removed from Cohort!\n"
     ]
    },
    {
     "name": "stdout",
     "output_type": "stream",
     "text": [
      "Initializing process...\n",
      "Adding data to cohort...\n",
      "Adding metadata to cohort...\n"
     ]
    },
    {
     "name": "stderr",
     "output_type": "stream",
     "text": [
      "INFO:cmap_logger:parsing gct file\n",
      "INFO:cmap_logger:Reading GCT: .cache/sample_metadata_query.pco/geo_GSE9770_GPL570.gct\n",
      "INFO:root:'34' sample/s added to Cohort!\n",
      "INFO:cmap_logger:parsing gct file\n",
      "INFO:cmap_logger:Reading GCT: ./.cache/sample_metadata_query.pco/geo_GSE9770_GPL570.gct\n",
      "INFO:root: 1 dataset removed from Cohort!\n"
     ]
    },
    {
     "name": "stdout",
     "output_type": "stream",
     "text": [
      "Initializing process...\n",
      "Adding data to cohort...\n",
      "Adding metadata to cohort...\n"
     ]
    },
    {
     "name": "stderr",
     "output_type": "stream",
     "text": [
      "INFO:cmap_logger:parsing gct file\n",
      "INFO:cmap_logger:Reading GCT: .cache/sample_metadata_query.pco/geo_GSE97710_GPL11154.gct\n",
      "INFO:root:'2' sample/s added to Cohort!\n",
      "INFO:cmap_logger:parsing gct file\n",
      "INFO:cmap_logger:Reading GCT: ./.cache/sample_metadata_query.pco/geo_GSE97710_GPL11154.gct\n",
      "INFO:root: 1 dataset removed from Cohort!\n"
     ]
    },
    {
     "name": "stdout",
     "output_type": "stream",
     "text": [
      "Initializing process...\n",
      "Adding data to cohort...\n",
      "Adding metadata to cohort...\n"
     ]
    },
    {
     "name": "stderr",
     "output_type": "stream",
     "text": [
      "INFO:cmap_logger:parsing gct file\n",
      "INFO:cmap_logger:Reading GCT: .cache/sample_metadata_query.pco/geo_GSE97713_GPL17021.gct\n",
      "INFO:root:'4' sample/s added to Cohort!\n",
      "INFO:cmap_logger:parsing gct file\n",
      "INFO:cmap_logger:Reading GCT: ./.cache/sample_metadata_query.pco/geo_GSE97713_GPL17021.gct\n",
      "INFO:root: 1 dataset removed from Cohort!\n"
     ]
    },
    {
     "name": "stdout",
     "output_type": "stream",
     "text": [
      "Initializing process...\n",
      "Adding data to cohort...\n",
      "Adding metadata to cohort...\n"
     ]
    },
    {
     "name": "stderr",
     "output_type": "stream",
     "text": [
      "INFO:cmap_logger:parsing gct file\n",
      "INFO:cmap_logger:Reading GCT: .cache/sample_metadata_query.pco/geo_GSE97715_GPL17021.gct\n",
      "INFO:root:'44' sample/s added to Cohort!\n",
      "INFO:cmap_logger:parsing gct file\n",
      "INFO:cmap_logger:Reading GCT: ./.cache/sample_metadata_query.pco/geo_GSE97715_GPL17021.gct\n",
      "INFO:root: 1 dataset removed from Cohort!\n"
     ]
    },
    {
     "name": "stdout",
     "output_type": "stream",
     "text": [
      "Initializing process...\n",
      "Adding data to cohort...\n",
      "Adding metadata to cohort...\n"
     ]
    },
    {
     "name": "stderr",
     "output_type": "stream",
     "text": [
      "INFO:cmap_logger:parsing gct file\n",
      "INFO:cmap_logger:Reading GCT: .cache/sample_metadata_query.pco/geo_GSE97716_GPL16173.gct\n",
      "INFO:root:'10' sample/s added to Cohort!\n",
      "INFO:cmap_logger:parsing gct file\n",
      "INFO:cmap_logger:Reading GCT: ./.cache/sample_metadata_query.pco/geo_GSE97716_GPL16173.gct\n",
      "INFO:root: 1 dataset removed from Cohort!\n"
     ]
    },
    {
     "name": "stdout",
     "output_type": "stream",
     "text": [
      "Initializing process...\n",
      "Adding data to cohort...\n",
      "Adding metadata to cohort...\n"
     ]
    },
    {
     "name": "stderr",
     "output_type": "stream",
     "text": [
      "INFO:cmap_logger:parsing gct file\n",
      "INFO:cmap_logger:Reading GCT: .cache/sample_metadata_query.pco/geo_GSE97718_GPL17021.gct\n",
      "INFO:root:'5' sample/s added to Cohort!\n",
      "INFO:cmap_logger:parsing gct file\n",
      "INFO:cmap_logger:Reading GCT: ./.cache/sample_metadata_query.pco/geo_GSE97718_GPL17021.gct\n",
      "INFO:root: 1 dataset removed from Cohort!\n"
     ]
    },
    {
     "name": "stdout",
     "output_type": "stream",
     "text": [
      "Initializing process...\n",
      "Adding data to cohort...\n",
      "Adding metadata to cohort...\n"
     ]
    },
    {
     "name": "stderr",
     "output_type": "stream",
     "text": [
      "INFO:cmap_logger:parsing gct file\n",
      "INFO:cmap_logger:Reading GCT: .cache/sample_metadata_query.pco/geo_GSE97721_GPL21273.gct\n",
      "INFO:root:'34' sample/s added to Cohort!\n",
      "INFO:cmap_logger:parsing gct file\n",
      "INFO:cmap_logger:Reading GCT: ./.cache/sample_metadata_query.pco/geo_GSE97721_GPL21273.gct\n",
      "INFO:root: 1 dataset removed from Cohort!\n"
     ]
    },
    {
     "name": "stdout",
     "output_type": "stream",
     "text": [
      "Initializing process...\n",
      "Adding data to cohort...\n",
      "Adding metadata to cohort...\n"
     ]
    },
    {
     "name": "stderr",
     "output_type": "stream",
     "text": [
      "INFO:cmap_logger:parsing gct file\n",
      "INFO:cmap_logger:Reading GCT: .cache/sample_metadata_query.pco/geo_GSE97722_GPL11154.gct\n",
      "INFO:root:'3' sample/s added to Cohort!\n",
      "INFO:cmap_logger:parsing gct file\n",
      "INFO:cmap_logger:Reading GCT: ./.cache/sample_metadata_query.pco/geo_GSE97722_GPL11154.gct\n",
      "INFO:root: 1 dataset removed from Cohort!\n"
     ]
    },
    {
     "name": "stdout",
     "output_type": "stream",
     "text": [
      "Initializing process...\n",
      "Adding data to cohort...\n",
      "Adding metadata to cohort...\n"
     ]
    },
    {
     "name": "stderr",
     "output_type": "stream",
     "text": [
      "INFO:cmap_logger:parsing gct file\n",
      "INFO:cmap_logger:Reading GCT: .cache/sample_metadata_query.pco/geo_GSE97723_GPL16791.gct\n",
      "INFO:root:'3' sample/s added to Cohort!\n",
      "INFO:cmap_logger:parsing gct file\n",
      "INFO:cmap_logger:Reading GCT: ./.cache/sample_metadata_query.pco/geo_GSE97723_GPL16791.gct\n",
      "INFO:root: 1 dataset removed from Cohort!\n"
     ]
    },
    {
     "name": "stdout",
     "output_type": "stream",
     "text": [
      "Initializing process...\n",
      "Adding data to cohort...\n",
      "Adding metadata to cohort...\n"
     ]
    },
    {
     "name": "stderr",
     "output_type": "stream",
     "text": [
      "INFO:cmap_logger:parsing gct file\n",
      "INFO:cmap_logger:Reading GCT: .cache/sample_metadata_query.pco/geo_GSE97724_GPL11154.gct\n",
      "INFO:root:'3' sample/s added to Cohort!\n",
      "INFO:cmap_logger:parsing gct file\n",
      "INFO:cmap_logger:Reading GCT: ./.cache/sample_metadata_query.pco/geo_GSE97724_GPL11154.gct\n",
      "INFO:root: 1 dataset removed from Cohort!\n"
     ]
    },
    {
     "name": "stdout",
     "output_type": "stream",
     "text": [
      "Initializing process...\n",
      "Adding data to cohort...\n",
      "Adding metadata to cohort...\n"
     ]
    },
    {
     "name": "stderr",
     "output_type": "stream",
     "text": [
      "INFO:cmap_logger:parsing gct file\n",
      "INFO:cmap_logger:Reading GCT: .cache/sample_metadata_query.pco/geo_GSE97724_GPL16791.gct\n",
      "INFO:root:'15' sample/s added to Cohort!\n",
      "INFO:cmap_logger:parsing gct file\n",
      "INFO:cmap_logger:Reading GCT: ./.cache/sample_metadata_query.pco/geo_GSE97724_GPL16791.gct\n",
      "INFO:root: 1 dataset removed from Cohort!\n"
     ]
    },
    {
     "name": "stdout",
     "output_type": "stream",
     "text": [
      "Initializing process...\n",
      "Adding data to cohort...\n",
      "Adding metadata to cohort...\n"
     ]
    },
    {
     "name": "stderr",
     "output_type": "stream",
     "text": [
      "INFO:cmap_logger:parsing gct file\n",
      "INFO:cmap_logger:Reading GCT: .cache/sample_metadata_query.pco/geo_GSE97726_GPL11154.gct\n",
      "INFO:root:'36' sample/s added to Cohort!\n",
      "INFO:cmap_logger:parsing gct file\n",
      "INFO:cmap_logger:Reading GCT: ./.cache/sample_metadata_query.pco/geo_GSE97726_GPL11154.gct\n",
      "INFO:root: 1 dataset removed from Cohort!\n"
     ]
    },
    {
     "ename": "TypeError",
     "evalue": "'NoneType' object is not subscriptable",
     "output_type": "error",
     "traceback": [
      "\u001b[0;31m---------------------------------------------------------------------------\u001b[0m",
      "\u001b[0;31mTypeError\u001b[0m                                 Traceback (most recent call last)",
      "Input \u001b[0;32mIn [21]\u001b[0m, in \u001b[0;36m<cell line: 1>\u001b[0;34m()\u001b[0m\n\u001b[0;32m----> 1\u001b[0m resul1t \u001b[38;5;241m=\u001b[39m \u001b[43mobj\u001b[49m\u001b[38;5;241;43m.\u001b[39;49m\u001b[43massign_clinical_labels\u001b[49m\u001b[43m(\u001b[49m\n\u001b[1;32m      2\u001b[0m \u001b[43m    \u001b[49m\u001b[43mrepo_name\u001b[49m\u001b[38;5;241;43m=\u001b[39;49m\u001b[38;5;124;43m\"\u001b[39;49m\u001b[38;5;124;43mgeo\u001b[39;49m\u001b[38;5;124;43m\"\u001b[39;49m\u001b[43m,\u001b[49m\n\u001b[1;32m      3\u001b[0m \u001b[43m    \u001b[49m\u001b[43mdataset_ids\u001b[49m\u001b[38;5;241;43m=\u001b[39;49m\u001b[43mr_list\u001b[49m\u001b[43m)\u001b[49m\n",
      "File \u001b[0;32m/usr/local/lib/python3.10/site-packages/polly/curation.py:533\u001b[0m, in \u001b[0;36mCuration.assign_clinical_labels\u001b[0;34m(self, repo_name, dataset_ids, sample_ids)\u001b[0m\n\u001b[1;32m    529\u001b[0m     clinical_tags \u001b[38;5;241m=\u001b[39m \u001b[38;5;28mself\u001b[39m\u001b[38;5;241m.\u001b[39m_post_process_clinical_tags(\n\u001b[1;32m    530\u001b[0m         clinical_tags, is_sample_tag, sample_ids\n\u001b[1;32m    531\u001b[0m     )\n\u001b[1;32m    532\u001b[0m \u001b[38;5;28;01mexcept\u001b[39;00m \u001b[38;5;167;01mException\u001b[39;00m \u001b[38;5;28;01mas\u001b[39;00m err:\n\u001b[0;32m--> 533\u001b[0m     \u001b[38;5;28;01mraise\u001b[39;00m err\n\u001b[1;32m    535\u001b[0m \u001b[38;5;28;01mreturn\u001b[39;00m clinical_tags\n",
      "File \u001b[0;32m/usr/local/lib/python3.10/site-packages/polly/curation.py:504\u001b[0m, in \u001b[0;36mCuration.assign_clinical_labels\u001b[0;34m(self, repo_name, dataset_ids, sample_ids)\u001b[0m\n\u001b[1;32m    495\u001b[0m \u001b[38;5;28;01mfor\u001b[39;00m dataset_id \u001b[38;5;129;01min\u001b[39;00m sample_metadata:\n\u001b[1;32m    496\u001b[0m     \u001b[38;5;66;03m# Get output from model endpoint and structure output\u001b[39;00m\n\u001b[1;32m    497\u001b[0m     payload \u001b[38;5;241m=\u001b[39m {\n\u001b[1;32m    498\u001b[0m         \u001b[38;5;124m\"\u001b[39m\u001b[38;5;124msample_metadata\u001b[39m\u001b[38;5;124m\"\u001b[39m: sample_metadata[dataset_id],\n\u001b[1;32m    499\u001b[0m         \u001b[38;5;124m\"\u001b[39m\u001b[38;5;124msample_id_column\u001b[39m\u001b[38;5;124m\"\u001b[39m: \u001b[38;5;124m\"\u001b[39m\u001b[38;5;124msample_id\u001b[39m\u001b[38;5;124m\"\u001b[39m,\n\u001b[1;32m    500\u001b[0m         \u001b[38;5;124m\"\u001b[39m\u001b[38;5;124mdataset_id_column\u001b[39m\u001b[38;5;124m\"\u001b[39m: \u001b[38;5;124m\"\u001b[39m\u001b[38;5;124mdataset_id\u001b[39m\u001b[38;5;124m\"\u001b[39m,\n\u001b[1;32m    501\u001b[0m         \u001b[38;5;124m\"\u001b[39m\u001b[38;5;124mis_sample_tag\u001b[39m\u001b[38;5;124m\"\u001b[39m: is_sample_tag,\n\u001b[1;32m    502\u001b[0m     }\n\u001b[0;32m--> 504\u001b[0m     output \u001b[38;5;241m=\u001b[39m \u001b[38;5;28;43mself\u001b[39;49m\u001b[38;5;241;43m.\u001b[39;49m\u001b[43m_perform_inference\u001b[49m\u001b[43m(\u001b[49m\u001b[38;5;124;43m\"\u001b[39;49m\u001b[38;5;124;43mclinical-classifier\u001b[39;49m\u001b[38;5;124;43m\"\u001b[39;49m\u001b[43m,\u001b[49m\u001b[43m \u001b[49m\u001b[43mpayload\u001b[49m\u001b[43m)\u001b[49m\n\u001b[1;32m    506\u001b[0m     \u001b[38;5;28;01mif\u001b[39;00m \u001b[38;5;124m\"\u001b[39m\u001b[38;5;124merrors\u001b[39m\u001b[38;5;124m\"\u001b[39m \u001b[38;5;129;01min\u001b[39;00m output:\n\u001b[1;32m    507\u001b[0m         title, detail \u001b[38;5;241m=\u001b[39m \u001b[38;5;28mself\u001b[39m\u001b[38;5;241m.\u001b[39m_handle_errors(output)\n",
      "File \u001b[0;32m/usr/local/lib/python3.10/site-packages/polly/curation.py:248\u001b[0m, in \u001b[0;36mCuration._perform_inference\u001b[0;34m(self, model_name, input_data)\u001b[0m\n\u001b[1;32m    246\u001b[0m         \u001b[38;5;28;01mraise\u001b[39;00m InvalidSchemaJsonException()\n\u001b[1;32m    247\u001b[0m     \u001b[38;5;28;01melse\u001b[39;00m:\n\u001b[0;32m--> 248\u001b[0m         title, details \u001b[38;5;241m=\u001b[39m \u001b[43mextract_json_api_error\u001b[49m\u001b[43m(\u001b[49m\u001b[43mresponse\u001b[49m\u001b[43m)\u001b[49m\n\u001b[1;32m    249\u001b[0m         \u001b[38;5;28;01mraise\u001b[39;00m \u001b[38;5;167;01mException\u001b[39;00m(\u001b[38;5;124m\"\u001b[39m\u001b[38;5;124mException Occurred :\u001b[39m\u001b[38;5;124m\"\u001b[39m \u001b[38;5;241m+\u001b[39m \u001b[38;5;28mstr\u001b[39m(details))\n\u001b[1;32m    250\u001b[0m \u001b[38;5;28;01mtry\u001b[39;00m:\n",
      "File \u001b[0;32m/usr/local/lib/python3.10/site-packages/polly/errors.py:342\u001b[0m, in \u001b[0;36mextract_json_api_error\u001b[0;34m(response)\u001b[0m\n\u001b[1;32m    340\u001b[0m error \u001b[38;5;241m=\u001b[39m response\u001b[38;5;241m.\u001b[39mjson()\u001b[38;5;241m.\u001b[39mget(\u001b[38;5;124m\"\u001b[39m\u001b[38;5;124merror\u001b[39m\u001b[38;5;124m\"\u001b[39m)\n\u001b[1;32m    341\u001b[0m \u001b[38;5;28;01mif\u001b[39;00m error \u001b[38;5;129;01mis\u001b[39;00m \u001b[38;5;28;01mNone\u001b[39;00m:\n\u001b[0;32m--> 342\u001b[0m     error \u001b[38;5;241m=\u001b[39m \u001b[43mresponse\u001b[49m\u001b[38;5;241;43m.\u001b[39;49m\u001b[43mjson\u001b[49m\u001b[43m(\u001b[49m\u001b[43m)\u001b[49m\u001b[38;5;241;43m.\u001b[39;49m\u001b[43mget\u001b[49m\u001b[43m(\u001b[49m\u001b[38;5;124;43m\"\u001b[39;49m\u001b[38;5;124;43merrors\u001b[39;49m\u001b[38;5;124;43m\"\u001b[39;49m\u001b[43m)\u001b[49m\u001b[43m[\u001b[49m\u001b[38;5;241;43m0\u001b[39;49m\u001b[43m]\u001b[49m\n\u001b[1;32m    343\u001b[0m \u001b[38;5;28;01mif\u001b[39;00m \u001b[38;5;124m\"\u001b[39m\u001b[38;5;124mtitle\u001b[39m\u001b[38;5;124m\"\u001b[39m \u001b[38;5;129;01min\u001b[39;00m error:\n\u001b[1;32m    344\u001b[0m     title \u001b[38;5;241m=\u001b[39m error\u001b[38;5;241m.\u001b[39mget(\u001b[38;5;124m\"\u001b[39m\u001b[38;5;124mtitle\u001b[39m\u001b[38;5;124m\"\u001b[39m)\n",
      "\u001b[0;31mTypeError\u001b[0m: 'NoneType' object is not subscriptable"
     ]
    }
   ],
   "source": [
    "resul1t = obj.assign_clinical_labels(\n",
    "    repo_name=\"geo\",\n",
    "    dataset_ids=r_list)"
   ]
  },
  {
   "cell_type": "code",
   "execution_count": 9,
   "metadata": {},
   "outputs": [
    {
     "name": "stderr",
     "output_type": "stream",
     "text": [
      "INFO:root:Cohort Created !\n"
     ]
    },
    {
     "name": "stdout",
     "output_type": "stream",
     "text": [
      "Initializing process...\n",
      "Adding data to cohort...\n",
      "Adding metadata to cohort...\n"
     ]
    },
    {
     "name": "stderr",
     "output_type": "stream",
     "text": [
      "INFO:cmap_logger:parsing gct file\n",
      "INFO:cmap_logger:Reading GCT: .cache/sample_metadata_query.pco/geo_GSE97669_GPL16417.gct\n",
      "INFO:root:'92' sample/s added to Cohort!\n",
      "INFO:cmap_logger:parsing gct file\n",
      "INFO:cmap_logger:Reading GCT: ./.cache/sample_metadata_query.pco/geo_GSE97669_GPL16417.gct\n",
      "INFO:root: 1 dataset removed from Cohort!\n"
     ]
    },
    {
     "ename": "Exception",
     "evalue": "Endpoint request timed out",
     "output_type": "error",
     "traceback": [
      "\u001b[0;31m---------------------------------------------------------------------------\u001b[0m",
      "\u001b[0;31mException\u001b[0m                                 Traceback (most recent call last)",
      "Input \u001b[0;32mIn [9]\u001b[0m, in \u001b[0;36m<cell line: 2>\u001b[0;34m()\u001b[0m\n\u001b[1;32m      1\u001b[0m r_list_2\u001b[38;5;241m=\u001b[39m[\u001b[38;5;124m\"\u001b[39m\u001b[38;5;124mGSE97669_GPL16417\u001b[39m\u001b[38;5;124m\"\u001b[39m]\n\u001b[0;32m----> 2\u001b[0m resul1t \u001b[38;5;241m=\u001b[39m \u001b[43mobj\u001b[49m\u001b[38;5;241;43m.\u001b[39;49m\u001b[43massign_clinical_labels\u001b[49m\u001b[43m(\u001b[49m\n\u001b[1;32m      3\u001b[0m \u001b[43m    \u001b[49m\u001b[43mrepo_name\u001b[49m\u001b[38;5;241;43m=\u001b[39;49m\u001b[38;5;124;43m\"\u001b[39;49m\u001b[38;5;124;43mgeo\u001b[39;49m\u001b[38;5;124;43m\"\u001b[39;49m\u001b[43m,\u001b[49m\n\u001b[1;32m      4\u001b[0m \u001b[43m    \u001b[49m\u001b[43mdataset_ids\u001b[49m\u001b[38;5;241;43m=\u001b[39;49m\u001b[43mr_list_2\u001b[49m\u001b[43m)\u001b[49m\n",
      "File \u001b[0;32m/usr/local/lib/python3.10/site-packages/polly/curation.py:539\u001b[0m, in \u001b[0;36mCuration.assign_clinical_labels\u001b[0;34m(self, repo_name, dataset_ids, sample_ids)\u001b[0m\n\u001b[1;32m    535\u001b[0m     clinical_tags \u001b[38;5;241m=\u001b[39m \u001b[38;5;28mself\u001b[39m\u001b[38;5;241m.\u001b[39m_post_process_clinical_tags(\n\u001b[1;32m    536\u001b[0m         clinical_tags, is_sample_tag, sample_ids\n\u001b[1;32m    537\u001b[0m     )\n\u001b[1;32m    538\u001b[0m \u001b[38;5;28;01mexcept\u001b[39;00m \u001b[38;5;167;01mException\u001b[39;00m \u001b[38;5;28;01mas\u001b[39;00m err:\n\u001b[0;32m--> 539\u001b[0m     \u001b[38;5;28;01mraise\u001b[39;00m err\n\u001b[1;32m    541\u001b[0m \u001b[38;5;28;01mreturn\u001b[39;00m clinical_tags\n",
      "File \u001b[0;32m/usr/local/lib/python3.10/site-packages/polly/curation.py:510\u001b[0m, in \u001b[0;36mCuration.assign_clinical_labels\u001b[0;34m(self, repo_name, dataset_ids, sample_ids)\u001b[0m\n\u001b[1;32m    501\u001b[0m \u001b[38;5;28;01mfor\u001b[39;00m dataset_id \u001b[38;5;129;01min\u001b[39;00m sample_metadata:\n\u001b[1;32m    502\u001b[0m     \u001b[38;5;66;03m# Get output from model endpoint and structure output\u001b[39;00m\n\u001b[1;32m    503\u001b[0m     payload \u001b[38;5;241m=\u001b[39m {\n\u001b[1;32m    504\u001b[0m         \u001b[38;5;124m\"\u001b[39m\u001b[38;5;124msample_metadata\u001b[39m\u001b[38;5;124m\"\u001b[39m: sample_metadata[dataset_id],\n\u001b[1;32m    505\u001b[0m         \u001b[38;5;124m\"\u001b[39m\u001b[38;5;124msample_id_column\u001b[39m\u001b[38;5;124m\"\u001b[39m: \u001b[38;5;124m\"\u001b[39m\u001b[38;5;124msample_id\u001b[39m\u001b[38;5;124m\"\u001b[39m,\n\u001b[1;32m    506\u001b[0m         \u001b[38;5;124m\"\u001b[39m\u001b[38;5;124mdataset_id_column\u001b[39m\u001b[38;5;124m\"\u001b[39m: \u001b[38;5;124m\"\u001b[39m\u001b[38;5;124mdataset_id\u001b[39m\u001b[38;5;124m\"\u001b[39m,\n\u001b[1;32m    507\u001b[0m         \u001b[38;5;124m\"\u001b[39m\u001b[38;5;124mis_sample_tag\u001b[39m\u001b[38;5;124m\"\u001b[39m: is_sample_tag,\n\u001b[1;32m    508\u001b[0m     }\n\u001b[0;32m--> 510\u001b[0m     output \u001b[38;5;241m=\u001b[39m \u001b[38;5;28;43mself\u001b[39;49m\u001b[38;5;241;43m.\u001b[39;49m\u001b[43m_perform_inference\u001b[49m\u001b[43m(\u001b[49m\u001b[38;5;124;43m\"\u001b[39;49m\u001b[38;5;124;43mclinical-classifier\u001b[39;49m\u001b[38;5;124;43m\"\u001b[39;49m\u001b[43m,\u001b[49m\u001b[43m \u001b[49m\u001b[43mpayload\u001b[49m\u001b[43m)\u001b[49m\n\u001b[1;32m    511\u001b[0m     \u001b[38;5;28mprint\u001b[39m(output)\n\u001b[1;32m    512\u001b[0m     \u001b[38;5;28;01mif\u001b[39;00m \u001b[38;5;124m\"\u001b[39m\u001b[38;5;124merrors\u001b[39m\u001b[38;5;124m\"\u001b[39m \u001b[38;5;129;01min\u001b[39;00m output:\n",
      "File \u001b[0;32m/usr/local/lib/python3.10/site-packages/polly/curation.py:256\u001b[0m, in \u001b[0;36mCuration._perform_inference\u001b[0;34m(self, model_name, input_data)\u001b[0m\n\u001b[1;32m    254\u001b[0m         \u001b[38;5;28mself\u001b[39m\u001b[38;5;241m.\u001b[39m_handle_perform_inference_api_error(response)\n\u001b[1;32m    255\u001b[0m \u001b[38;5;28;01mexcept\u001b[39;00m \u001b[38;5;167;01mException\u001b[39;00m \u001b[38;5;28;01mas\u001b[39;00m err:\n\u001b[0;32m--> 256\u001b[0m     \u001b[38;5;28;01mraise\u001b[39;00m err\n\u001b[1;32m    257\u001b[0m \u001b[38;5;28;01mtry\u001b[39;00m:\n\u001b[1;32m    258\u001b[0m     response \u001b[38;5;241m=\u001b[39m response\u001b[38;5;241m.\u001b[39mjson()\n",
      "File \u001b[0;32m/usr/local/lib/python3.10/site-packages/polly/curation.py:254\u001b[0m, in \u001b[0;36mCuration._perform_inference\u001b[0;34m(self, model_name, input_data)\u001b[0m\n\u001b[1;32m    252\u001b[0m \u001b[38;5;28;01mtry\u001b[39;00m:\n\u001b[1;32m    253\u001b[0m     \u001b[38;5;28;01mif\u001b[39;00m response\u001b[38;5;241m.\u001b[39mstatus_code \u001b[38;5;241m!=\u001b[39m \u001b[38;5;241m201\u001b[39m:\n\u001b[0;32m--> 254\u001b[0m         \u001b[38;5;28;43mself\u001b[39;49m\u001b[38;5;241;43m.\u001b[39;49m\u001b[43m_handle_perform_inference_api_error\u001b[49m\u001b[43m(\u001b[49m\u001b[43mresponse\u001b[49m\u001b[43m)\u001b[49m\n\u001b[1;32m    255\u001b[0m \u001b[38;5;28;01mexcept\u001b[39;00m \u001b[38;5;167;01mException\u001b[39;00m \u001b[38;5;28;01mas\u001b[39;00m err:\n\u001b[1;32m    256\u001b[0m     \u001b[38;5;28;01mraise\u001b[39;00m err\n",
      "File \u001b[0;32m/usr/local/lib/python3.10/site-packages/polly/curation.py:225\u001b[0m, in \u001b[0;36mCuration._handle_perform_inference_api_error\u001b[0;34m(self, response)\u001b[0m\n\u001b[1;32m    223\u001b[0m \u001b[38;5;28;01melif\u001b[39;00m response\u001b[38;5;241m.\u001b[39mstatus_code \u001b[38;5;241m==\u001b[39m http_codes\u001b[38;5;241m.\u001b[39mGATEWAY_TIMEOUT:\n\u001b[1;32m    224\u001b[0m     error_detail \u001b[38;5;241m=\u001b[39m response\u001b[38;5;241m.\u001b[39mjson()\u001b[38;5;241m.\u001b[39mget(\u001b[38;5;124m\"\u001b[39m\u001b[38;5;124mmessage\u001b[39m\u001b[38;5;124m\"\u001b[39m, \u001b[38;5;124m\"\u001b[39m\u001b[38;5;124mRequest timed out\u001b[39m\u001b[38;5;124m\"\u001b[39m)\n\u001b[0;32m--> 225\u001b[0m     \u001b[38;5;28;01mraise\u001b[39;00m \u001b[38;5;167;01mException\u001b[39;00m(error_detail)\n\u001b[1;32m    226\u001b[0m \u001b[38;5;28;01melse\u001b[39;00m:\n\u001b[1;32m    227\u001b[0m     title, details \u001b[38;5;241m=\u001b[39m extract_json_api_error(response)\n",
      "\u001b[0;31mException\u001b[0m: Endpoint request timed out"
     ]
    }
   ],
   "source": [
    "r_list_2=[\"GSE97669_GPL16417\"]\n",
    "resul1t = obj.assign_clinical_labels(\n",
    "    repo_name=\"geo\",\n",
    "    dataset_ids=r_list_2)"
   ]
  },
  {
   "cell_type": "code",
   "execution_count": 22,
   "metadata": {},
   "outputs": [
    {
     "name": "stderr",
     "output_type": "stream",
     "text": [
      "INFO:root:Cohort Created !\n"
     ]
    },
    {
     "name": "stdout",
     "output_type": "stream",
     "text": [
      "Initializing process...\n",
      "Adding data to cohort...\n",
      "Adding metadata to cohort...\n"
     ]
    },
    {
     "name": "stderr",
     "output_type": "stream",
     "text": [
      "INFO:cmap_logger:parsing gct file\n",
      "INFO:cmap_logger:Reading GCT: .cache/sample_metadata_query.pco/geo_GSE97608_GPL19482.gct\n",
      "INFO:root:'102' sample/s added to Cohort!\n",
      "INFO:cmap_logger:parsing gct file\n",
      "INFO:cmap_logger:Reading GCT: ./.cache/sample_metadata_query.pco/geo_GSE97608_GPL19482.gct\n",
      "INFO:root: 1 dataset removed from Cohort!\n"
     ]
    }
   ],
   "source": [
    "#GSE97608_GPL19482\n",
    "r_list_2=[\"GSE97608_GPL19482\"]\n",
    "resul1t = obj.assign_clinical_labels(\n",
    "    repo_name=\"geo\",\n",
    "    dataset_ids=r_list_2)"
   ]
  },
  {
   "cell_type": "code",
   "execution_count": 23,
   "metadata": {},
   "outputs": [
    {
     "data": {
      "text/html": [
       "<div>\n",
       "<style scoped>\n",
       "    .dataframe tbody tr th:only-of-type {\n",
       "        vertical-align: middle;\n",
       "    }\n",
       "\n",
       "    .dataframe tbody tr th {\n",
       "        vertical-align: top;\n",
       "    }\n",
       "\n",
       "    .dataframe thead th {\n",
       "        text-align: right;\n",
       "    }\n",
       "</style>\n",
       "<table border=\"1\" class=\"dataframe\">\n",
       "  <thead>\n",
       "    <tr style=\"text-align: right;\">\n",
       "      <th></th>\n",
       "      <th>dataset_id</th>\n",
       "      <th>clinical_tag</th>\n",
       "    </tr>\n",
       "  </thead>\n",
       "  <tbody>\n",
       "    <tr>\n",
       "      <th>0</th>\n",
       "      <td>GSE97608_GPL19482</td>\n",
       "      <td>Non Clinical</td>\n",
       "    </tr>\n",
       "  </tbody>\n",
       "</table>\n",
       "</div>"
      ],
      "text/plain": [
       "          dataset_id  clinical_tag\n",
       "0  GSE97608_GPL19482  Non Clinical"
      ]
     },
     "execution_count": 23,
     "metadata": {},
     "output_type": "execute_result"
    }
   ],
   "source": [
    "resul1t"
   ]
  },
  {
   "cell_type": "code",
   "execution_count": 10,
   "metadata": {},
   "outputs": [
    {
     "name": "stderr",
     "output_type": "stream",
     "text": [
      "INFO:root:Cohort Created !\n"
     ]
    },
    {
     "name": "stdout",
     "output_type": "stream",
     "text": [
      "Initializing process...\n",
      "Adding data to cohort...\n",
      "Adding metadata to cohort...\n"
     ]
    },
    {
     "name": "stderr",
     "output_type": "stream",
     "text": [
      "INFO:cmap_logger:parsing gct file\n",
      "INFO:cmap_logger:Reading GCT: .cache/sample_metadata_query.pco/geo_GSE35051_GPL15119.gct\n",
      "INFO:root:'18' sample/s added to Cohort!\n",
      "INFO:cmap_logger:parsing gct file\n",
      "INFO:cmap_logger:Reading GCT: ./.cache/sample_metadata_query.pco/geo_GSE35051_GPL15119.gct\n",
      "INFO:root: 1 dataset removed from Cohort!\n"
     ]
    },
    {
     "name": "stdout",
     "output_type": "stream",
     "text": [
      "Initializing process...\n",
      "Adding data to cohort...\n",
      "Adding metadata to cohort...\n"
     ]
    },
    {
     "name": "stderr",
     "output_type": "stream",
     "text": [
      "INFO:cmap_logger:parsing gct file\n",
      "INFO:cmap_logger:Reading GCT: .cache/sample_metadata_query.pco/geo_GSE35058_GPL15125.gct\n",
      "INFO:root:'71' sample/s added to Cohort!\n",
      "INFO:cmap_logger:parsing gct file\n",
      "INFO:cmap_logger:Reading GCT: ./.cache/sample_metadata_query.pco/geo_GSE35058_GPL15125.gct\n",
      "INFO:root: 1 dataset removed from Cohort!\n"
     ]
    },
    {
     "name": "stdout",
     "output_type": "stream",
     "text": [
      "Initializing process...\n",
      "Adding data to cohort...\n",
      "Adding metadata to cohort...\n"
     ]
    },
    {
     "name": "stderr",
     "output_type": "stream",
     "text": [
      "INFO:cmap_logger:parsing gct file\n",
      "INFO:cmap_logger:Reading GCT: .cache/sample_metadata_query.pco/geo_GSE3505_GPL2006.gct\n",
      "INFO:root:'9' sample/s added to Cohort!\n",
      "INFO:cmap_logger:parsing gct file\n",
      "INFO:cmap_logger:Reading GCT: ./.cache/sample_metadata_query.pco/geo_GSE3505_GPL2006.gct\n",
      "INFO:root: 1 dataset removed from Cohort!\n"
     ]
    },
    {
     "name": "stdout",
     "output_type": "stream",
     "text": [
      "Initializing process...\n",
      "Adding data to cohort...\n",
      "Adding metadata to cohort...\n"
     ]
    },
    {
     "name": "stderr",
     "output_type": "stream",
     "text": [
      "INFO:cmap_logger:parsing gct file\n",
      "INFO:cmap_logger:Reading GCT: .cache/sample_metadata_query.pco/geo_GSE35061_GPL6885.gct\n",
      "INFO:root:'63' sample/s added to Cohort!\n",
      "INFO:cmap_logger:parsing gct file\n",
      "INFO:cmap_logger:Reading GCT: ./.cache/sample_metadata_query.pco/geo_GSE35061_GPL6885.gct\n",
      "INFO:root: 1 dataset removed from Cohort!\n"
     ]
    },
    {
     "name": "stdout",
     "output_type": "stream",
     "text": [
      "Initializing process...\n",
      "Adding data to cohort...\n",
      "Adding metadata to cohort...\n"
     ]
    },
    {
     "name": "stderr",
     "output_type": "stream",
     "text": [
      "INFO:cmap_logger:parsing gct file\n",
      "INFO:cmap_logger:Reading GCT: .cache/sample_metadata_query.pco/geo_GSE35063_GPL6246.gct\n",
      "INFO:root:'6' sample/s added to Cohort!\n",
      "INFO:cmap_logger:parsing gct file\n",
      "INFO:cmap_logger:Reading GCT: ./.cache/sample_metadata_query.pco/geo_GSE35063_GPL6246.gct\n",
      "INFO:root: 1 dataset removed from Cohort!\n"
     ]
    },
    {
     "name": "stdout",
     "output_type": "stream",
     "text": [
      "Initializing process...\n",
      "Adding data to cohort...\n",
      "Adding metadata to cohort...\n"
     ]
    },
    {
     "name": "stderr",
     "output_type": "stream",
     "text": [
      "INFO:cmap_logger:parsing gct file\n",
      "INFO:cmap_logger:Reading GCT: .cache/sample_metadata_query.pco/geo_GSE35068_GPL570.gct\n",
      "INFO:root:'12' sample/s added to Cohort!\n",
      "INFO:cmap_logger:parsing gct file\n",
      "INFO:cmap_logger:Reading GCT: ./.cache/sample_metadata_query.pco/geo_GSE35068_GPL570.gct\n",
      "INFO:root: 1 dataset removed from Cohort!\n"
     ]
    },
    {
     "name": "stdout",
     "output_type": "stream",
     "text": [
      "Initializing process...\n",
      "Adding data to cohort...\n",
      "Adding metadata to cohort...\n"
     ]
    },
    {
     "name": "stderr",
     "output_type": "stream",
     "text": [
      "INFO:cmap_logger:parsing gct file\n",
      "INFO:cmap_logger:Reading GCT: .cache/sample_metadata_query.pco/geo_GSE3506_GPL96.gct\n",
      "INFO:root:'9' sample/s added to Cohort!\n",
      "INFO:cmap_logger:parsing gct file\n",
      "INFO:cmap_logger:Reading GCT: ./.cache/sample_metadata_query.pco/geo_GSE3506_GPL96.gct\n",
      "INFO:root: 1 dataset removed from Cohort!\n"
     ]
    },
    {
     "name": "stdout",
     "output_type": "stream",
     "text": [
      "Initializing process...\n",
      "Adding data to cohort...\n",
      "Adding metadata to cohort...\n"
     ]
    },
    {
     "name": "stderr",
     "output_type": "stream",
     "text": [
      "INFO:cmap_logger:parsing gct file\n",
      "INFO:cmap_logger:Reading GCT: .cache/sample_metadata_query.pco/geo_GSE35075_GPL6845.gct\n",
      "INFO:root:'5' sample/s added to Cohort!\n",
      "INFO:cmap_logger:parsing gct file\n",
      "INFO:cmap_logger:Reading GCT: ./.cache/sample_metadata_query.pco/geo_GSE35075_GPL6845.gct\n",
      "INFO:root: 1 dataset removed from Cohort!\n"
     ]
    },
    {
     "name": "stdout",
     "output_type": "stream",
     "text": [
      "Initializing process...\n",
      "Adding data to cohort...\n",
      "Adding metadata to cohort...\n"
     ]
    },
    {
     "name": "stderr",
     "output_type": "stream",
     "text": [
      "INFO:cmap_logger:parsing gct file\n",
      "INFO:cmap_logger:Reading GCT: .cache/sample_metadata_query.pco/geo_GSE35076_GPL6246.gct\n",
      "INFO:root:'5' sample/s added to Cohort!\n",
      "INFO:cmap_logger:parsing gct file\n",
      "INFO:cmap_logger:Reading GCT: ./.cache/sample_metadata_query.pco/geo_GSE35076_GPL6246.gct\n",
      "INFO:root: 1 dataset removed from Cohort!\n"
     ]
    },
    {
     "name": "stdout",
     "output_type": "stream",
     "text": [
      "Initializing process...\n",
      "Adding data to cohort...\n",
      "Adding metadata to cohort...\n"
     ]
    },
    {
     "name": "stderr",
     "output_type": "stream",
     "text": [
      "INFO:cmap_logger:parsing gct file\n",
      "INFO:cmap_logger:Reading GCT: .cache/sample_metadata_query.pco/geo_GSE35077_GPL1261.gct\n",
      "INFO:root:'26' sample/s added to Cohort!\n",
      "INFO:cmap_logger:parsing gct file\n",
      "INFO:cmap_logger:Reading GCT: ./.cache/sample_metadata_query.pco/geo_GSE35077_GPL1261.gct\n",
      "INFO:root: 1 dataset removed from Cohort!\n"
     ]
    },
    {
     "name": "stdout",
     "output_type": "stream",
     "text": [
      "{'clinical_predictions': [{'tag_id': 'GSE35051_GPL15119', 'clinical_tag': 'Non Clinical'}]}\n",
      "{'clinical_predictions': [{'tag_id': 'GSE35058_GPL15125', 'clinical_tag': 'Non Clinical'}]}\n",
      "{'clinical_predictions': [{'tag_id': 'GSE3505_GPL2006', 'clinical_tag': 'Non Clinical'}]}\n",
      "{'clinical_predictions': [{'tag_id': 'GSE35061_GPL6885', 'clinical_tag': 'Non Clinical'}]}\n",
      "{'clinical_predictions': [{'tag_id': 'GSE35063_GPL6246', 'clinical_tag': 'Non Clinical'}]}\n",
      "{'clinical_predictions': [{'tag_id': 'GSE35068_GPL570', 'clinical_tag': 'Non Clinical'}]}\n",
      "{'clinical_predictions': [{'tag_id': 'GSE3506_GPL96', 'clinical_tag': 'Non Clinical'}]}\n",
      "{'clinical_predictions': [{'tag_id': 'GSE35075_GPL6845', 'clinical_tag': 'Non Clinical'}]}\n",
      "{'clinical_predictions': [{'tag_id': 'GSE35076_GPL6246', 'clinical_tag': 'Non Clinical'}]}\n",
      "{'clinical_predictions': [{'tag_id': 'GSE35077_GPL1261', 'clinical_tag': 'Non Clinical'}]}\n"
     ]
    }
   ],
   "source": [
    "r_list_3 = ['GSE35051_GPL15119', 'GSE35058_GPL15125',  'GSE3505_GPL2006',  'GSE35061_GPL6885',  'GSE35063_GPL6246',  'GSE35068_GPL570',  'GSE3506_GPL96',  'GSE35075_GPL6845',  'GSE35076_GPL6246',  'GSE35077_GPL1261']\n",
    "resul1t = obj.assign_clinical_labels(\n",
    "    repo_name=\"geo\",\n",
    "    dataset_ids=r_list_3)"
   ]
  },
  {
   "cell_type": "code",
   "execution_count": 12,
   "metadata": {},
   "outputs": [
    {
     "data": {
      "text/html": [
       "<div>\n",
       "<style scoped>\n",
       "    .dataframe tbody tr th:only-of-type {\n",
       "        vertical-align: middle;\n",
       "    }\n",
       "\n",
       "    .dataframe tbody tr th {\n",
       "        vertical-align: top;\n",
       "    }\n",
       "\n",
       "    .dataframe thead th {\n",
       "        text-align: right;\n",
       "    }\n",
       "</style>\n",
       "<table border=\"1\" class=\"dataframe\">\n",
       "  <thead>\n",
       "    <tr style=\"text-align: right;\">\n",
       "      <th></th>\n",
       "      <th>dataset_id</th>\n",
       "      <th>clinical_tag</th>\n",
       "    </tr>\n",
       "  </thead>\n",
       "  <tbody>\n",
       "    <tr>\n",
       "      <th>0</th>\n",
       "      <td>GSE35051_GPL15119</td>\n",
       "      <td>Non Clinical</td>\n",
       "    </tr>\n",
       "    <tr>\n",
       "      <th>1</th>\n",
       "      <td>GSE35058_GPL15125</td>\n",
       "      <td>Non Clinical</td>\n",
       "    </tr>\n",
       "    <tr>\n",
       "      <th>2</th>\n",
       "      <td>GSE3505_GPL2006</td>\n",
       "      <td>Non Clinical</td>\n",
       "    </tr>\n",
       "    <tr>\n",
       "      <th>3</th>\n",
       "      <td>GSE35061_GPL6885</td>\n",
       "      <td>Non Clinical</td>\n",
       "    </tr>\n",
       "    <tr>\n",
       "      <th>4</th>\n",
       "      <td>GSE35063_GPL6246</td>\n",
       "      <td>Non Clinical</td>\n",
       "    </tr>\n",
       "    <tr>\n",
       "      <th>5</th>\n",
       "      <td>GSE35068_GPL570</td>\n",
       "      <td>Non Clinical</td>\n",
       "    </tr>\n",
       "    <tr>\n",
       "      <th>6</th>\n",
       "      <td>GSE3506_GPL96</td>\n",
       "      <td>Non Clinical</td>\n",
       "    </tr>\n",
       "    <tr>\n",
       "      <th>7</th>\n",
       "      <td>GSE35075_GPL6845</td>\n",
       "      <td>Non Clinical</td>\n",
       "    </tr>\n",
       "    <tr>\n",
       "      <th>8</th>\n",
       "      <td>GSE35076_GPL6246</td>\n",
       "      <td>Non Clinical</td>\n",
       "    </tr>\n",
       "    <tr>\n",
       "      <th>9</th>\n",
       "      <td>GSE35077_GPL1261</td>\n",
       "      <td>Non Clinical</td>\n",
       "    </tr>\n",
       "  </tbody>\n",
       "</table>\n",
       "</div>"
      ],
      "text/plain": [
       "          dataset_id  clinical_tag\n",
       "0  GSE35051_GPL15119  Non Clinical\n",
       "1  GSE35058_GPL15125  Non Clinical\n",
       "2    GSE3505_GPL2006  Non Clinical\n",
       "3   GSE35061_GPL6885  Non Clinical\n",
       "4   GSE35063_GPL6246  Non Clinical\n",
       "5    GSE35068_GPL570  Non Clinical\n",
       "6      GSE3506_GPL96  Non Clinical\n",
       "7   GSE35075_GPL6845  Non Clinical\n",
       "8   GSE35076_GPL6246  Non Clinical\n",
       "9   GSE35077_GPL1261  Non Clinical"
      ]
     },
     "execution_count": 12,
     "metadata": {},
     "output_type": "execute_result"
    }
   ],
   "source": [
    "resul1t"
   ]
  },
  {
   "cell_type": "code",
   "execution_count": null,
   "metadata": {},
   "outputs": [],
   "source": []
  }
 ],
 "metadata": {
  "kernelspec": {
   "display_name": "Python 3 (ipykernel)",
   "language": "python",
   "name": "python3"
  },
  "language_info": {
   "codemirror_mode": {
    "name": "ipython",
    "version": 3
   },
   "file_extension": ".py",
   "mimetype": "text/x-python",
   "name": "python",
   "nbconvert_exporter": "python",
   "pygments_lexer": "ipython3",
   "version": "3.10.2"
  }
 },
 "nbformat": 4,
 "nbformat_minor": 2
}
