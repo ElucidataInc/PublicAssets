{
 "cells": [
  {
   "cell_type": "markdown",
   "metadata": {},
   "source": [
    "# Welcome to Polly Python3 Notebook."
   ]
  },
  {
   "cell_type": "code",
   "execution_count": 2,
   "metadata": {},
   "outputs": [
    {
     "name": "stdout",
     "output_type": "stream",
     "text": [
      "/bin/bash: warning: setlocale: LC_ALL: cannot change locale (en_US.UTF-8)\n",
      "Collecting polly-python==0.2.9-schema-verdict\n",
      "  Downloading https://elucidatainc.github.io/PublicAssets/builds/polly-python/tests/testpolly/polly_python-0.2.9_schema_verdict-py3-none-any.whl (114 kB)\n",
      "\u001b[K     |████████████████████████████████| 114 kB 19.8 MB/s eta 0:00:01\n",
      "\u001b[?25hCollecting polly-validator@ https://elucidatainc.github.io/PublicAssets/builds/polly_validator-0.0.1-py3-none-any.whl\n",
      "  Downloading https://elucidatainc.github.io/PublicAssets/builds/polly_validator-0.0.1-py3-none-any.whl (22 kB)\n",
      "Requirement already satisfied: botocore>=1.20.73 in /usr/local/lib/python3.10/site-packages (from polly-python==0.2.9-schema-verdict) (1.24.19)\n",
      "Requirement already satisfied: pytest in /usr/local/lib/python3.10/site-packages (from polly-python==0.2.9-schema-verdict) (7.2.0)\n",
      "Requirement already satisfied: requests==2.25.1 in /usr/local/lib/python3.10/site-packages (from polly-python==0.2.9-schema-verdict) (2.25.1)\n",
      "Requirement already satisfied: datapane in /usr/local/lib/python3.10/site-packages (from polly-python==0.2.9-schema-verdict) (0.15.5)\n",
      "Requirement already satisfied: pandas in /usr/local/lib/python3.10/site-packages (from polly-python==0.2.9-schema-verdict) (1.4.1)\n",
      "Requirement already satisfied: joblib in /usr/local/lib/python3.10/site-packages (from polly-python==0.2.9-schema-verdict) (1.2.0)\n",
      "Requirement already satisfied: retrying==1.3.3 in /usr/local/lib/python3.10/site-packages (from polly-python==0.2.9-schema-verdict) (1.3.3)\n",
      "Requirement already satisfied: six==1.16.0 in /usr/local/lib/python3.10/site-packages (from polly-python==0.2.9-schema-verdict) (1.16.0)\n",
      "Collecting mixpanel>=4.10.0\n",
      "  Downloading mixpanel-4.10.0-py2.py3-none-any.whl (8.9 kB)\n",
      "Requirement already satisfied: elucidatacmapPy==3.3.4 in /usr/local/lib/python3.10/site-packages (from polly-python==0.2.9-schema-verdict) (3.3.4)\n",
      "Requirement already satisfied: urllib3==1.26.6 in /usr/local/lib/python3.10/site-packages (from polly-python==0.2.9-schema-verdict) (1.26.6)\n",
      "Requirement already satisfied: sqlparse in /usr/local/lib/python3.10/site-packages (from polly-python==0.2.9-schema-verdict) (0.4.3)\n",
      "Collecting cryptography>=38.0.1\n",
      "  Downloading cryptography-39.0.0-cp36-abi3-manylinux_2_28_x86_64.whl (4.2 MB)\n",
      "\u001b[K     |████████████████████████████████| 4.2 MB 29.6 MB/s eta 0:00:01\n",
      "\u001b[?25hRequirement already satisfied: postpy2==0.0.6 in /usr/local/lib/python3.10/site-packages (from polly-python==0.2.9-schema-verdict) (0.0.6)\n",
      "Requirement already satisfied: python-magic==0.4.24 in /usr/local/lib/python3.10/site-packages (from polly-python==0.2.9-schema-verdict) (0.4.24)\n",
      "Requirement already satisfied: plotly in /usr/local/lib/python3.10/site-packages (from polly-python==0.2.9-schema-verdict) (5.11.0)\n",
      "Requirement already satisfied: Deprecated in /usr/local/lib/python3.10/site-packages (from polly-python==0.2.9-schema-verdict) (1.2.13)\n",
      "Requirement already satisfied: beautifulsoup4 in /usr/local/lib/python3.10/site-packages (from polly-python==0.2.9-schema-verdict) (4.11.1)\n",
      "Requirement already satisfied: chardet==4.0.0 in /usr/local/lib/python3.10/site-packages (from polly-python==0.2.9-schema-verdict) (4.0.0)\n",
      "Requirement already satisfied: python-jose>=3.3.0 in /usr/local/lib/python3.10/site-packages (from polly-python==0.2.9-schema-verdict) (3.3.0)\n",
      "Requirement already satisfied: idna==2.10 in /usr/local/lib/python3.10/site-packages (from polly-python==0.2.9-schema-verdict) (2.10)\n",
      "Requirement already satisfied: pydantic in /usr/local/lib/python3.10/site-packages (from polly-python==0.2.9-schema-verdict) (1.9.1)\n",
      "Requirement already satisfied: python-dateutil in /usr/local/lib/python3.10/site-packages (from polly-python==0.2.9-schema-verdict) (2.8.1)\n",
      "Requirement already satisfied: pytz==2021.1 in /usr/local/lib/python3.10/site-packages (from polly-python==0.2.9-schema-verdict) (2021.1)\n",
      "Requirement already satisfied: Cerberus==1.3.2 in /usr/local/lib/python3.10/site-packages (from polly-python==0.2.9-schema-verdict) (1.3.2)\n",
      "Requirement already satisfied: tqdm in /usr/local/lib/python3.10/site-packages (from polly-python==0.2.9-schema-verdict) (4.64.1)\n",
      "Requirement already satisfied: certifi==2021.10.8 in /usr/local/lib/python3.10/site-packages (from polly-python==0.2.9-schema-verdict) (2021.10.8)\n",
      "Requirement already satisfied: boto3>=1.17.73 in /usr/local/lib/python3.10/site-packages (from polly-python==0.2.9-schema-verdict) (1.21.19)\n",
      "Requirement already satisfied: rst2txt in /usr/local/lib/python3.10/site-packages (from polly-python==0.2.9-schema-verdict) (1.1.0)\n",
      "Requirement already satisfied: elucidatacloudpathlib==0.6.6 in /usr/local/lib/python3.10/site-packages (from polly-python==0.2.9-schema-verdict) (0.6.6)\n",
      "Requirement already satisfied: setuptools in /usr/local/lib/python3.10/site-packages (from Cerberus==1.3.2->polly-python==0.2.9-schema-verdict) (58.1.0)\n",
      "Requirement already satisfied: numpy>=1.11.2 in /usr/local/lib/python3.10/site-packages (from elucidatacmapPy==3.3.4->polly-python==0.2.9-schema-verdict) (1.22.3)\n",
      "Requirement already satisfied: h5py>=2.6.0 in /usr/local/lib/python3.10/site-packages (from elucidatacmapPy==3.3.4->polly-python==0.2.9-schema-verdict) (3.7.0)\n",
      "Requirement already satisfied: s3transfer<0.6.0,>=0.5.0 in /usr/local/lib/python3.10/site-packages (from boto3>=1.17.73->polly-python==0.2.9-schema-verdict) (0.5.2)\n",
      "Requirement already satisfied: jmespath<1.0.0,>=0.7.1 in /usr/local/lib/python3.10/site-packages (from boto3>=1.17.73->polly-python==0.2.9-schema-verdict) (0.10.0)\n",
      "Requirement already satisfied: cffi>=1.12 in /usr/local/lib/python3.10/site-packages (from cryptography>=38.0.1->polly-python==0.2.9-schema-verdict) (1.15.1)\n",
      "Requirement already satisfied: pycparser in /usr/local/lib/python3.10/site-packages (from cffi>=1.12->cryptography>=38.0.1->polly-python==0.2.9-schema-verdict) (2.21)\n",
      "Requirement already satisfied: ecdsa!=0.15 in /usr/local/lib/python3.10/site-packages (from python-jose>=3.3.0->polly-python==0.2.9-schema-verdict) (0.18.0)\n",
      "Requirement already satisfied: pyasn1 in /usr/local/lib/python3.10/site-packages (from python-jose>=3.3.0->polly-python==0.2.9-schema-verdict) (0.4.8)\n",
      "Requirement already satisfied: rsa in /usr/local/lib/python3.10/site-packages (from python-jose>=3.3.0->polly-python==0.2.9-schema-verdict) (4.7.2)\n",
      "Requirement already satisfied: soupsieve>1.2 in /usr/local/lib/python3.10/site-packages (from beautifulsoup4->polly-python==0.2.9-schema-verdict) (2.3.2.post1)\n",
      "Requirement already satisfied: tabulate<0.9.0,>=0.8.0 in /usr/local/lib/python3.10/site-packages (from datapane->polly-python==0.2.9-schema-verdict) (0.8.10)\n",
      "Requirement already satisfied: packaging<22.0.0,>=20.0.0 in /usr/local/lib/python3.10/site-packages (from datapane->polly-python==0.2.9-schema-verdict) (21.3)\n",
      "Requirement already satisfied: lxml<5.0.0,>=4.0.0 in /usr/local/lib/python3.10/site-packages (from datapane->polly-python==0.2.9-schema-verdict) (4.9.2)\n",
      "Requirement already satisfied: altair<5.0.0,>=4.0.0 in /usr/local/lib/python3.10/site-packages (from datapane->polly-python==0.2.9-schema-verdict) (4.2.0)\n",
      "Requirement already satisfied: boltons<22.0.0,>=20.0.0 in /usr/local/lib/python3.10/site-packages (from datapane->polly-python==0.2.9-schema-verdict) (21.0.0)\n",
      "Requirement already satisfied: posthog<3.0.0,>=1.4.0 in /usr/local/lib/python3.10/site-packages (from datapane->polly-python==0.2.9-schema-verdict) (2.2.0)\n",
      "Requirement already satisfied: dominate<3.0.0,>=2.4.0 in /usr/local/lib/python3.10/site-packages (from datapane->polly-python==0.2.9-schema-verdict) (2.7.0)\n",
      "Requirement already satisfied: requests-toolbelt<0.10.0,>=0.9.1 in /usr/local/lib/python3.10/site-packages (from datapane->polly-python==0.2.9-schema-verdict) (0.9.1)\n",
      "Requirement already satisfied: PyYAML<7.0.0,>=5.4.0 in /usr/local/lib/python3.10/site-packages (from datapane->polly-python==0.2.9-schema-verdict) (5.4.1)\n",
      "Requirement already satisfied: colorlog<7.0.0,>=4.1.0 in /usr/local/lib/python3.10/site-packages (from datapane->polly-python==0.2.9-schema-verdict) (6.7.0)\n",
      "Requirement already satisfied: furl<3.0.0,>=2.0.0 in /usr/local/lib/python3.10/site-packages (from datapane->polly-python==0.2.9-schema-verdict) (2.1.3)\n",
      "Requirement already satisfied: ipynbname<2022.0.0,>=2021.3.2 in /usr/local/lib/python3.10/site-packages (from datapane->polly-python==0.2.9-schema-verdict) (2021.3.2)\n",
      "Requirement already satisfied: micawber>=0.5.0 in /usr/local/lib/python3.10/site-packages (from datapane->polly-python==0.2.9-schema-verdict) (0.5.4)\n",
      "Requirement already satisfied: munch<3.0.0,>=2.3.0 in /usr/local/lib/python3.10/site-packages (from datapane->polly-python==0.2.9-schema-verdict) (2.5.0)\n",
      "Requirement already satisfied: toolz<0.13.0,>=0.11.0 in /usr/local/lib/python3.10/site-packages (from datapane->polly-python==0.2.9-schema-verdict) (0.12.0)\n",
      "Requirement already satisfied: click<9.0.0,>=7.1.0 in /usr/local/lib/python3.10/site-packages (from datapane->polly-python==0.2.9-schema-verdict) (8.1.3)\n",
      "Requirement already satisfied: dulwich<0.21.0,>=0.20.0 in /usr/local/lib/python3.10/site-packages (from datapane->polly-python==0.2.9-schema-verdict) (0.20.50)\n",
      "Requirement already satisfied: Jinja2<4.0.0,>=3.0.0 in /usr/local/lib/python3.10/site-packages (from datapane->polly-python==0.2.9-schema-verdict) (3.0.3)\n",
      "Requirement already satisfied: jsonschema<5.0.0,>=3.2.0 in /usr/local/lib/python3.10/site-packages (from datapane->polly-python==0.2.9-schema-verdict) (4.2.1)\n",
      "Requirement already satisfied: importlib_resources<6.0.0,>=3.0.0 in /usr/local/lib/python3.10/site-packages (from datapane->polly-python==0.2.9-schema-verdict) (5.10.2)\n",
      "Requirement already satisfied: click-spinner<0.2.0,>=0.1.8 in /usr/local/lib/python3.10/site-packages (from datapane->polly-python==0.2.9-schema-verdict) (0.1.10)\n",
      "Requirement already satisfied: nbconvert<7.0.0,>=6.1.0 in /usr/local/lib/python3.10/site-packages (from datapane->polly-python==0.2.9-schema-verdict) (6.3.0)\n",
      "Requirement already satisfied: glom<23.0.0,>=20.11.0 in /usr/local/lib/python3.10/site-packages (from datapane->polly-python==0.2.9-schema-verdict) (22.1.0)\n",
      "Requirement already satisfied: datacommons<2.0.0,>=1.4.3 in /usr/local/lib/python3.10/site-packages (from datapane->polly-python==0.2.9-schema-verdict) (1.4.3)\n",
      "Requirement already satisfied: vega-datasets<1.0.0,>=0.9.0 in /usr/local/lib/python3.10/site-packages (from datapane->polly-python==0.2.9-schema-verdict) (0.9.0)\n",
      "Requirement already satisfied: stringcase<2.0.0,>=1.2.0 in /usr/local/lib/python3.10/site-packages (from datapane->polly-python==0.2.9-schema-verdict) (1.2.0)\n",
      "Requirement already satisfied: dacite<2.0.0,>=1.0.2 in /usr/local/lib/python3.10/site-packages (from datapane->polly-python==0.2.9-schema-verdict) (1.7.0)\n",
      "Requirement already satisfied: pyarrow<11.0.0,>=6.0.0 in /usr/local/lib/python3.10/site-packages (from datapane->polly-python==0.2.9-schema-verdict) (10.0.1)\n",
      "Requirement already satisfied: validators<0.21.0,>=0.18.0 in /usr/local/lib/python3.10/site-packages (from datapane->polly-python==0.2.9-schema-verdict) (0.20.0)\n",
      "Requirement already satisfied: datacommons-pandas<0.0.4,>=0.0.3 in /usr/local/lib/python3.10/site-packages (from datapane->polly-python==0.2.9-schema-verdict) (0.0.3)\n"
     ]
    },
    {
     "name": "stdout",
     "output_type": "stream",
     "text": [
      "Requirement already satisfied: entrypoints in /usr/local/lib/python3.10/site-packages (from altair<5.0.0,>=4.0.0->datapane->polly-python==0.2.9-schema-verdict) (0.3)\n",
      "Requirement already satisfied: orderedmultidict>=1.0.1 in /usr/local/lib/python3.10/site-packages (from furl<3.0.0,>=2.0.0->datapane->polly-python==0.2.9-schema-verdict) (1.0.1)\n",
      "Requirement already satisfied: face>=20.1.0 in /usr/local/lib/python3.10/site-packages (from glom<23.0.0,>=20.11.0->datapane->polly-python==0.2.9-schema-verdict) (22.0.0)\n",
      "Requirement already satisfied: attrs in /usr/local/lib/python3.10/site-packages (from glom<23.0.0,>=20.11.0->datapane->polly-python==0.2.9-schema-verdict) (21.2.0)\n",
      "Requirement already satisfied: ipykernel in /usr/local/lib/python3.10/site-packages (from ipynbname<2022.0.0,>=2021.3.2->datapane->polly-python==0.2.9-schema-verdict) (6.13.1)\n",
      "Requirement already satisfied: MarkupSafe>=2.0 in /usr/local/lib/python3.10/site-packages (from Jinja2<4.0.0,>=3.0.0->datapane->polly-python==0.2.9-schema-verdict) (2.0.1)\n",
      "Requirement already satisfied: pyrsistent!=0.17.0,!=0.17.1,!=0.17.2,>=0.14.0 in /usr/local/lib/python3.10/site-packages (from jsonschema<5.0.0,>=3.2.0->datapane->polly-python==0.2.9-schema-verdict) (0.18.0)\n",
      "Requirement already satisfied: jupyterlab-pygments in /usr/local/lib/python3.10/site-packages (from nbconvert<7.0.0,>=6.1.0->datapane->polly-python==0.2.9-schema-verdict) (0.2.2)\n",
      "Requirement already satisfied: traitlets>=5.0 in /usr/local/lib/python3.10/site-packages (from nbconvert<7.0.0,>=6.1.0->datapane->polly-python==0.2.9-schema-verdict) (5.1.1)\n",
      "Requirement already satisfied: mistune<2,>=0.8.1 in /usr/local/lib/python3.10/site-packages (from nbconvert<7.0.0,>=6.1.0->datapane->polly-python==0.2.9-schema-verdict) (0.8.4)\n",
      "Requirement already satisfied: nbformat>=4.4 in /usr/local/lib/python3.10/site-packages (from nbconvert<7.0.0,>=6.1.0->datapane->polly-python==0.2.9-schema-verdict) (5.1.3)\n",
      "Requirement already satisfied: nbclient<0.6.0,>=0.5.0 in /usr/local/lib/python3.10/site-packages (from nbconvert<7.0.0,>=6.1.0->datapane->polly-python==0.2.9-schema-verdict) (0.5.13)\n",
      "Requirement already satisfied: defusedxml in /usr/local/lib/python3.10/site-packages (from nbconvert<7.0.0,>=6.1.0->datapane->polly-python==0.2.9-schema-verdict) (0.7.1)\n",
      "Requirement already satisfied: testpath in /usr/local/lib/python3.10/site-packages (from nbconvert<7.0.0,>=6.1.0->datapane->polly-python==0.2.9-schema-verdict) (0.5.0)\n",
      "Requirement already satisfied: bleach in /usr/local/lib/python3.10/site-packages (from nbconvert<7.0.0,>=6.1.0->datapane->polly-python==0.2.9-schema-verdict) (4.1.0)\n",
      "Requirement already satisfied: pygments>=2.4.1 in /usr/local/lib/python3.10/site-packages (from nbconvert<7.0.0,>=6.1.0->datapane->polly-python==0.2.9-schema-verdict) (2.10.0)\n",
      "Requirement already satisfied: jupyter-core in /usr/local/lib/python3.10/site-packages (from nbconvert<7.0.0,>=6.1.0->datapane->polly-python==0.2.9-schema-verdict) (4.9.1)\n",
      "Requirement already satisfied: pandocfilters>=1.4.1 in /usr/local/lib/python3.10/site-packages (from nbconvert<7.0.0,>=6.1.0->datapane->polly-python==0.2.9-schema-verdict) (1.5.0)\n",
      "Requirement already satisfied: jupyter-client>=6.1.5 in /usr/local/lib/python3.10/site-packages (from nbclient<0.6.0,>=0.5.0->nbconvert<7.0.0,>=6.1.0->datapane->polly-python==0.2.9-schema-verdict) (6.1.12)\n",
      "Requirement already satisfied: nest-asyncio in /usr/local/lib/python3.10/site-packages (from nbclient<0.6.0,>=0.5.0->nbconvert<7.0.0,>=6.1.0->datapane->polly-python==0.2.9-schema-verdict) (1.5.6)\n",
      "Requirement already satisfied: tornado>=4.1 in /usr/local/lib/python3.10/site-packages (from jupyter-client>=6.1.5->nbclient<0.6.0,>=0.5.0->nbconvert<7.0.0,>=6.1.0->datapane->polly-python==0.2.9-schema-verdict) (6.1)\n",
      "Requirement already satisfied: pyzmq>=13 in /usr/local/lib/python3.10/site-packages (from jupyter-client>=6.1.5->nbclient<0.6.0,>=0.5.0->nbconvert<7.0.0,>=6.1.0->datapane->polly-python==0.2.9-schema-verdict) (22.3.0)\n",
      "Requirement already satisfied: ipython-genutils in /usr/local/lib/python3.10/site-packages (from nbformat>=4.4->nbconvert<7.0.0,>=6.1.0->datapane->polly-python==0.2.9-schema-verdict) (0.2.0)\n",
      "Requirement already satisfied: pyparsing!=3.0.5,>=2.0.2 in /usr/local/lib/python3.10/site-packages (from packaging<22.0.0,>=20.0.0->datapane->polly-python==0.2.9-schema-verdict) (3.0.6)\n",
      "Requirement already satisfied: backoff<2.0.0,>=1.10.0 in /usr/local/lib/python3.10/site-packages (from posthog<3.0.0,>=1.4.0->datapane->polly-python==0.2.9-schema-verdict) (1.11.1)\n",
      "Requirement already satisfied: monotonic>=1.5 in /usr/local/lib/python3.10/site-packages (from posthog<3.0.0,>=1.4.0->datapane->polly-python==0.2.9-schema-verdict) (1.6)\n",
      "Requirement already satisfied: typing-extensions>=3.7.4.3 in /usr/local/lib/python3.10/site-packages (from pydantic->polly-python==0.2.9-schema-verdict) (4.4.0)\n",
      "Requirement already satisfied: decorator>=3.4.0 in /usr/local/lib/python3.10/site-packages (from validators<0.21.0,>=0.18.0->datapane->polly-python==0.2.9-schema-verdict) (5.1.0)\n",
      "Requirement already satisfied: webencodings in /usr/local/lib/python3.10/site-packages (from bleach->nbconvert<7.0.0,>=6.1.0->datapane->polly-python==0.2.9-schema-verdict) (0.5.1)\n",
      "Requirement already satisfied: wrapt<2,>=1.10 in /usr/local/lib/python3.10/site-packages (from Deprecated->polly-python==0.2.9-schema-verdict) (1.14.1)\n",
      "Requirement already satisfied: debugpy>=1.0 in /usr/local/lib/python3.10/site-packages (from ipykernel->ipynbname<2022.0.0,>=2021.3.2->datapane->polly-python==0.2.9-schema-verdict) (1.6.4)\n",
      "Requirement already satisfied: ipython>=7.23.1 in /usr/local/lib/python3.10/site-packages (from ipykernel->ipynbname<2022.0.0,>=2021.3.2->datapane->polly-python==0.2.9-schema-verdict) (8.2.0)\n",
      "Requirement already satisfied: psutil in /usr/local/lib/python3.10/site-packages (from ipykernel->ipynbname<2022.0.0,>=2021.3.2->datapane->polly-python==0.2.9-schema-verdict) (5.9.4)\n",
      "Requirement already satisfied: matplotlib-inline>=0.1 in /usr/local/lib/python3.10/site-packages (from ipykernel->ipynbname<2022.0.0,>=2021.3.2->datapane->polly-python==0.2.9-schema-verdict) (0.1.3)\n",
      "Requirement already satisfied: stack-data in /usr/local/lib/python3.10/site-packages (from ipython>=7.23.1->ipykernel->ipynbname<2022.0.0,>=2021.3.2->datapane->polly-python==0.2.9-schema-verdict) (0.6.2)\n",
      "Requirement already satisfied: backcall in /usr/local/lib/python3.10/site-packages (from ipython>=7.23.1->ipykernel->ipynbname<2022.0.0,>=2021.3.2->datapane->polly-python==0.2.9-schema-verdict) (0.2.0)\n",
      "Requirement already satisfied: pickleshare in /usr/local/lib/python3.10/site-packages (from ipython>=7.23.1->ipykernel->ipynbname<2022.0.0,>=2021.3.2->datapane->polly-python==0.2.9-schema-verdict) (0.7.5)\n",
      "Requirement already satisfied: prompt-toolkit!=3.0.0,!=3.0.1,<3.1.0,>=2.0.0 in /usr/local/lib/python3.10/site-packages (from ipython>=7.23.1->ipykernel->ipynbname<2022.0.0,>=2021.3.2->datapane->polly-python==0.2.9-schema-verdict) (3.0.22)\n",
      "Requirement already satisfied: jedi>=0.16 in /usr/local/lib/python3.10/site-packages (from ipython>=7.23.1->ipykernel->ipynbname<2022.0.0,>=2021.3.2->datapane->polly-python==0.2.9-schema-verdict) (0.18.1)\n",
      "Requirement already satisfied: pexpect>4.3 in /usr/local/lib/python3.10/site-packages (from ipython>=7.23.1->ipykernel->ipynbname<2022.0.0,>=2021.3.2->datapane->polly-python==0.2.9-schema-verdict) (4.8.0)\n",
      "Requirement already satisfied: parso<0.9.0,>=0.8.0 in /usr/local/lib/python3.10/site-packages (from jedi>=0.16->ipython>=7.23.1->ipykernel->ipynbname<2022.0.0,>=2021.3.2->datapane->polly-python==0.2.9-schema-verdict) (0.8.2)\n",
      "Requirement already satisfied: ptyprocess>=0.5 in /usr/local/lib/python3.10/site-packages (from pexpect>4.3->ipython>=7.23.1->ipykernel->ipynbname<2022.0.0,>=2021.3.2->datapane->polly-python==0.2.9-schema-verdict) (0.7.0)\n",
      "Requirement already satisfied: wcwidth in /usr/local/lib/python3.10/site-packages (from prompt-toolkit!=3.0.0,!=3.0.1,<3.1.0,>=2.0.0->ipython>=7.23.1->ipykernel->ipynbname<2022.0.0,>=2021.3.2->datapane->polly-python==0.2.9-schema-verdict) (0.2.5)\n",
      "Requirement already satisfied: tenacity>=6.2.0 in /usr/local/lib/python3.10/site-packages (from plotly->polly-python==0.2.9-schema-verdict) (8.1.0)\n",
      "Collecting appdirs==1.4.4\n"
     ]
    },
    {
     "name": "stdout",
     "output_type": "stream",
     "text": [
      "  Downloading appdirs-1.4.4-py2.py3-none-any.whl (9.6 kB)\n",
      "Collecting pronto\n",
      "  Downloading pronto-2.5.2-py2.py3-none-any.whl (61 kB)\n",
      "\u001b[K     |████████████████████████████████| 61 kB 24.6 MB/s  eta 0:00:01\n",
      "\u001b[?25hCollecting rapidfuzz==2.1.1\n",
      "  Downloading rapidfuzz-2.1.1-cp310-cp310-manylinux_2_17_x86_64.manylinux2014_x86_64.whl (2.0 MB)\n",
      "\u001b[K     |████████████████████████████████| 2.0 MB 112.3 MB/s eta 0:00:01\n",
      "\u001b[?25hCollecting jarowinkler<1.1.0,>=1.0.3\n",
      "  Downloading jarowinkler-1.0.5-cp310-cp310-manylinux_2_17_x86_64.manylinux2014_x86_64.whl (103 kB)\n",
      "\u001b[K     |████████████████████████████████| 103 kB 126.4 MB/s eta 0:00:01\n",
      "\u001b[?25hCollecting pronto\n",
      "  Downloading pronto-2.5.1-py2.py3-none-any.whl (61 kB)\n",
      "\u001b[K     |████████████████████████████████| 61 kB 22.8 MB/s  eta 0:00:01\n",
      "\u001b[?25hRequirement already satisfied: networkx~=2.3 in /usr/local/lib/python3.10/site-packages (from pronto->polly-validator@ https://elucidatainc.github.io/PublicAssets/builds/polly_validator-0.0.1-py3-none-any.whl->polly-python==0.2.9-schema-verdict) (2.8.8)\n",
      "Collecting fastobo~=0.12.1\n",
      "  Downloading fastobo-0.12.2-cp310-cp310-manylinux_2_17_x86_64.manylinux2014_x86_64.whl (2.1 MB)\n",
      "\u001b[K     |████████████████████████████████| 2.1 MB 106.5 MB/s eta 0:00:01\n",
      "\u001b[?25hRequirement already satisfied: exceptiongroup>=1.0.0rc8 in /usr/local/lib/python3.10/site-packages (from pytest->polly-python==0.2.9-schema-verdict) (1.1.0)\n",
      "Requirement already satisfied: tomli>=1.0.0 in /usr/local/lib/python3.10/site-packages (from pytest->polly-python==0.2.9-schema-verdict) (2.0.1)\n",
      "Requirement already satisfied: iniconfig in /usr/local/lib/python3.10/site-packages (from pytest->polly-python==0.2.9-schema-verdict) (1.1.1)\n",
      "Requirement already satisfied: pluggy<2.0,>=0.12 in /usr/local/lib/python3.10/site-packages (from pytest->polly-python==0.2.9-schema-verdict) (1.0.0)\n",
      "Requirement already satisfied: docutils>=0.11 in /usr/local/lib/python3.10/site-packages (from rst2txt->polly-python==0.2.9-schema-verdict) (0.15.2)\n",
      "Requirement already satisfied: asttokens>=2.1.0 in /usr/local/lib/python3.10/site-packages (from stack-data->ipython>=7.23.1->ipykernel->ipynbname<2022.0.0,>=2021.3.2->datapane->polly-python==0.2.9-schema-verdict) (2.2.1)\n",
      "Requirement already satisfied: pure-eval in /usr/local/lib/python3.10/site-packages (from stack-data->ipython>=7.23.1->ipykernel->ipynbname<2022.0.0,>=2021.3.2->datapane->polly-python==0.2.9-schema-verdict) (0.2.2)\n",
      "Requirement already satisfied: executing>=1.2.0 in /usr/local/lib/python3.10/site-packages (from stack-data->ipython>=7.23.1->ipykernel->ipynbname<2022.0.0,>=2021.3.2->datapane->polly-python==0.2.9-schema-verdict) (1.2.0)\n",
      "Installing collected packages: jarowinkler, fastobo, rapidfuzz, pronto, appdirs, polly-validator, mixpanel, cryptography, polly-python\n",
      "  Attempting uninstall: polly-python\n",
      "    Found existing installation: polly-python 0.2.4\n",
      "    Uninstalling polly-python-0.2.4:\n",
      "      Successfully uninstalled polly-python-0.2.4\n",
      "Successfully installed appdirs-1.4.4 cryptography-39.0.0 fastobo-0.12.2 jarowinkler-1.0.5 mixpanel-4.10.0 polly-python-0.2.9 polly-validator-0.0.1 pronto-2.5.1 rapidfuzz-2.1.1\n",
      "\u001b[33mWARNING: Running pip as the 'root' user can result in broken permissions and conflicting behaviour with the system package manager. It is recommended to use a virtual environment instead: https://pip.pypa.io/warnings/venv\u001b[0m\n",
      "\u001b[33mWARNING: You are using pip version 21.2.4; however, version 22.3.1 is available.\n",
      "You should consider upgrading via the '/usr/local/bin/python3.10 -m pip install --upgrade pip' command.\u001b[0m\n"
     ]
    }
   ],
   "source": [
    "!sudo pip3 install  https://elucidatainc.github.io/PublicAssets/builds/polly-python/tests/testpolly/polly_python-0.2.9_schema_verdict-py3-none-any.whl\n"
   ]
  },
  {
   "cell_type": "code",
   "execution_count": 4,
   "metadata": {},
   "outputs": [],
   "source": [
    "from polly.auth import Polly\n",
    "from polly.omixatlas import OmixAtlas\n",
    "AUTH_TOKEN=(os.environ['POLLY_REFRESH_TOKEN'])\n",
    "Polly.auth(AUTH_TOKEN)\n",
    "omixatlas = OmixAtlas()"
   ]
  },
  {
   "cell_type": "code",
   "execution_count": 6,
   "metadata": {},
   "outputs": [
    {
     "name": "stdout",
     "output_type": "stream",
     "text": [
      "/bin/bash: warning: setlocale: LC_ALL: cannot change locale (en_US.UTF-8)\n",
      "\u001b[32m\u001b[1mRefreshing session...\u001b[22m\u001b[39m\n",
      "\u001b[32m\u001b[1mSession refreshed!\u001b[22m\u001b[39m\n",
      "\u001b[32m\u001b[1mSuccess: Sync complete\u001b[22m\u001b[39m\n"
     ]
    }
   ],
   "source": [
    "!polly files sync -s \"polly://schema_files_verdict_testing /\" -d \"schema_files/\" -y"
   ]
  },
  {
   "cell_type": "code",
   "execution_count": 7,
   "metadata": {},
   "outputs": [
    {
     "name": "stdout",
     "output_type": "stream",
     "text": [
      "Schema has been updated. Use get schema to view the updated schema\n"
     ]
    }
   ],
   "source": [
    "# Case 1 -> no change -> schema readily updated\n",
    "with open(\"/import/schema_files/test_dec.json\",\"r\") as file:\n",
    "    schema_data = json.load(file)\n",
    "omixatlas.update_schema(schema_data)"
   ]
  },
  {
   "cell_type": "code",
   "execution_count": 9,
   "metadata": {},
   "outputs": [
    {
     "name": "stdout",
     "output_type": "stream",
     "text": [
      "The data needs to be re-ingested to accommodate the changes made in the schema. This may take from a few minutes to a few hours depending on the number of datasets in the atlas. The repository will be locked for this time and any further changes in the schema or properties of  omixatlas can not be done. Please refer to the ingestion monitoring dashboard to check the status of re-indexing.\n"
     ]
    }
   ],
   "source": [
    "# Case 2 -> Reingestion-> changing an attribute value of a field (one of original_name , type, is_keyword, is_array)\n",
    "# changing original name of `data_matrix_field`\n",
    "with open(\"/import/schema_files/test_dec.json\",\"r\") as file:\n",
    "    schema_data = json.load(file)\n",
    "omixatlas.update_schema(schema_data)"
   ]
  },
  {
   "cell_type": "code",
   "execution_count": 11,
   "metadata": {},
   "outputs": [
    {
     "name": "stdout",
     "output_type": "stream",
     "text": [
      "The schema update is in progress. It should only take a few minutes and you can track the status of this update in the ingestion monitoring dashboard. The repository will be locked for this time  and any further changes in the schema or properties of omixatlas can not be done.\n"
     ]
    }
   ],
   "source": [
    "# Case 3 -> Schema Updation -> Updating name of a field in  multi_oa_2 schema\n",
    "# `data_matrix_available` renamed\n",
    "with open(\"/import/schema_files/multi_oa_2.json\",\"r\") as file:\n",
    "    schema_data = json.load(file)\n",
    "omixatlas.update_schema(schema_data)"
   ]
  },
  {
   "cell_type": "code",
   "execution_count": null,
   "metadata": {},
   "outputs": [],
   "source": []
  }
 ],
 "metadata": {
  "kernelspec": {
   "display_name": "Python 3 (ipykernel)",
   "language": "python",
   "name": "python3"
  },
  "language_info": {
   "codemirror_mode": {
    "name": "ipython",
    "version": 3
   },
   "file_extension": ".py",
   "mimetype": "text/x-python",
   "name": "python",
   "nbconvert_exporter": "python",
   "pygments_lexer": "ipython3",
   "version": "3.10.2"
  }
 },
 "nbformat": 4,
 "nbformat_minor": 2
}
