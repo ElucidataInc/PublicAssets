{
 "cells": [
  {
   "cell_type": "markdown",
   "metadata": {},
   "source": [
    "# Welcome to Polly Python3 Notebook."
   ]
  },
  {
   "cell_type": "code",
   "execution_count": 1,
   "metadata": {},
   "outputs": [
    {
     "name": "stdout",
     "output_type": "stream",
     "text": [
      "/bin/bash: warning: setlocale: LC_ALL: cannot change locale (en_US.UTF-8)\n",
      "Defaulting to user installation because normal site-packages is not writeable\n",
      "Looking in indexes: https://pypi.org/simple, http://54.245.179.143:80/\n",
      "Collecting polly-python==0.3.0-LIB-331\n",
      "  Downloading https://elucidatainc.github.io/PublicAssets/builds/polly-python/tests/testpolly/polly_python-0.3.0_LIB_331-py3-none-any.whl (119 kB)\n",
      "\u001b[K     |████████████████████████████████| 119 kB 27.4 MB/s eta 0:00:01\n",
      "\u001b[?25hRequirement already satisfied: pandas>=1.0.1 in /usr/local/lib/python3.10/site-packages (from polly-python==0.3.0-LIB-331) (1.4.1)\n",
      "Requirement already satisfied: boto3>=1.17.73 in /usr/local/lib/python3.10/site-packages (from polly-python==0.3.0-LIB-331) (1.21.19)\n",
      "Requirement already satisfied: botocore>=1.20.73 in /usr/local/lib/python3.10/site-packages (from polly-python==0.3.0-LIB-331) (1.24.19)\n",
      "Collecting mixpanel>=4.10.0\n",
      "  Downloading mixpanel-4.10.0-py2.py3-none-any.whl (8.9 kB)\n",
      "Collecting polly-validator==0.0.1\n",
      "  Downloading polly_validator-0.0.1-py3-none-any.whl (29 kB)\n",
      "Requirement already satisfied: datapane>=0.9.1 in /usr/local/lib/python3.10/site-packages (from polly-python==0.3.0-LIB-331) (0.15.6)\n",
      "Requirement already satisfied: retrying>=1.3.3 in /usr/local/lib/python3.10/site-packages (from polly-python==0.3.0-LIB-331) (1.3.3)\n",
      "Requirement already satisfied: plotly>=2.0.0 in /usr/local/lib/python3.10/site-packages (from polly-python==0.3.0-LIB-331) (5.13.0)\n",
      "Requirement already satisfied: rst2txt>=1.1.0 in /usr/local/lib/python3.10/site-packages (from polly-python==0.3.0-LIB-331) (1.1.0)\n",
      "Requirement already satisfied: Deprecated>=1.2.6 in /usr/local/lib/python3.10/site-packages (from polly-python==0.3.0-LIB-331) (1.2.13)\n",
      "Collecting cryptography>=38.0.1\n",
      "  Downloading cryptography-40.0.1-cp36-abi3-manylinux_2_28_x86_64.whl (3.7 MB)\n",
      "\u001b[K     |████████████████████████████████| 3.7 MB 30.7 MB/s eta 0:00:01\n",
      "\u001b[?25hRequirement already satisfied: beautifulsoup4 in /usr/local/lib/python3.10/site-packages (from polly-python==0.3.0-LIB-331) (4.11.2)\n",
      "Requirement already satisfied: tqdm>=4.19.5 in /usr/local/lib/python3.10/site-packages (from polly-python==0.3.0-LIB-331) (4.64.1)\n",
      "Requirement already satisfied: pytest>=3.0.0 in /usr/local/lib/python3.10/site-packages (from polly-python==0.3.0-LIB-331) (7.2.1)\n",
      "Requirement already satisfied: joblib>=0.11 in /usr/local/lib/python3.10/site-packages (from polly-python==0.3.0-LIB-331) (1.2.0)\n",
      "Requirement already satisfied: elucidatacloudpathlib==0.6.6 in /usr/local/lib/python3.10/site-packages (from polly-python==0.3.0-LIB-331) (0.6.6)\n",
      "Requirement already satisfied: requests>=2.25.1 in /usr/local/lib/python3.10/site-packages (from polly-python==0.3.0-LIB-331) (2.25.1)\n",
      "Requirement already satisfied: pydantic>=0.32.0 in /usr/local/lib/python3.10/site-packages (from polly-python==0.3.0-LIB-331) (1.9.1)\n",
      "Requirement already satisfied: python-jose>=3.3.0 in /usr/local/lib/python3.10/site-packages (from polly-python==0.3.0-LIB-331) (3.3.0)\n",
      "Requirement already satisfied: elucidatacmapPy==3.3.4 in /usr/local/lib/python3.10/site-packages (from polly-python==0.3.0-LIB-331) (3.3.4)\n",
      "Requirement already satisfied: numpy>=1.11.2 in /usr/local/lib/python3.10/site-packages (from elucidatacmapPy==3.3.4->polly-python==0.3.0-LIB-331) (1.22.3)\n",
      "Requirement already satisfied: six in /usr/local/lib/python3.10/site-packages (from elucidatacmapPy==3.3.4->polly-python==0.3.0-LIB-331) (1.16.0)\n",
      "Requirement already satisfied: h5py>=2.6.0 in /usr/local/lib/python3.10/site-packages (from elucidatacmapPy==3.3.4->polly-python==0.3.0-LIB-331) (3.8.0)\n",
      "Requirement already satisfied: tabulate==0.8.10 in /usr/local/lib/python3.10/site-packages (from polly-validator==0.0.1->polly-python==0.3.0-LIB-331) (0.8.10)\n",
      "Collecting pronto\n",
      "  Downloading pronto-2.5.4-py2.py3-none-any.whl (61 kB)\n",
      "\u001b[K     |████████████████████████████████| 61 kB 21.9 MB/s eta 0:00:01\n",
      "\u001b[?25hCollecting appdirs==1.4.4\n",
      "  Downloading appdirs-1.4.4-py2.py3-none-any.whl (9.6 kB)\n",
      "Collecting rapidfuzz==2.1.1\n",
      "  Downloading rapidfuzz-2.1.1-cp310-cp310-manylinux_2_17_x86_64.manylinux2014_x86_64.whl (2.0 MB)\n",
      "\u001b[K     |████████████████████████████████| 2.0 MB 86.7 MB/s eta 0:00:01\n",
      "\u001b[?25hCollecting jarowinkler<1.1.0,>=1.0.3\n",
      "  Downloading jarowinkler-1.0.5-cp310-cp310-manylinux_2_17_x86_64.manylinux2014_x86_64.whl (103 kB)\n",
      "\u001b[K     |████████████████████████████████| 103 kB 127.1 MB/s eta 0:00:01\n",
      "\u001b[?25hRequirement already satisfied: idna<3,>=2.5 in /usr/local/lib/python3.10/site-packages (from requests>=2.25.1->polly-python==0.3.0-LIB-331) (2.10)\n",
      "Requirement already satisfied: urllib3<1.27,>=1.21.1 in /usr/local/lib/python3.10/site-packages (from requests>=2.25.1->polly-python==0.3.0-LIB-331) (1.26.6)\n",
      "Requirement already satisfied: chardet<5,>=3.0.2 in /usr/local/lib/python3.10/site-packages (from requests>=2.25.1->polly-python==0.3.0-LIB-331) (4.0.0)\n",
      "Requirement already satisfied: certifi>=2017.4.17 in /usr/local/lib/python3.10/site-packages (from requests>=2.25.1->polly-python==0.3.0-LIB-331) (2021.10.8)\n",
      "Requirement already satisfied: jmespath<1.0.0,>=0.7.1 in /usr/local/lib/python3.10/site-packages (from boto3>=1.17.73->polly-python==0.3.0-LIB-331) (0.10.0)\n",
      "Requirement already satisfied: s3transfer<0.6.0,>=0.5.0 in /usr/local/lib/python3.10/site-packages (from boto3>=1.17.73->polly-python==0.3.0-LIB-331) (0.5.2)\n",
      "Requirement already satisfied: python-dateutil<3.0.0,>=2.1 in /usr/local/lib/python3.10/site-packages (from botocore>=1.20.73->polly-python==0.3.0-LIB-331) (2.8.1)\n",
      "Requirement already satisfied: cffi>=1.12 in /usr/local/lib/python3.10/site-packages (from cryptography>=38.0.1->polly-python==0.3.0-LIB-331) (1.15.1)\n",
      "Requirement already satisfied: pycparser in /usr/local/lib/python3.10/site-packages (from cffi>=1.12->cryptography>=38.0.1->polly-python==0.3.0-LIB-331) (2.21)\n",
      "Requirement already satisfied: micawber>=0.5.0 in /usr/local/lib/python3.10/site-packages (from datapane>=0.9.1->polly-python==0.3.0-LIB-331) (0.5.4)\n",
      "Requirement already satisfied: importlib_resources<6.0.0,>=3.0.0 in /usr/local/lib/python3.10/site-packages (from datapane>=0.9.1->polly-python==0.3.0-LIB-331) (5.10.2)\n",
      "Requirement already satisfied: validators<0.21.0,>=0.18.0 in /usr/local/lib/python3.10/site-packages (from datapane>=0.9.1->polly-python==0.3.0-LIB-331) (0.20.0)\n",
      "Requirement already satisfied: datacommons-pandas<0.0.4,>=0.0.3 in /usr/local/lib/python3.10/site-packages (from datapane>=0.9.1->polly-python==0.3.0-LIB-331) (0.0.3)\n",
      "Requirement already satisfied: dominate<3.0.0,>=2.4.0 in /usr/local/lib/python3.10/site-packages (from datapane>=0.9.1->polly-python==0.3.0-LIB-331) (2.7.0)\n",
      "Requirement already satisfied: Jinja2<4.0.0,>=3.0.0 in /usr/local/lib/python3.10/site-packages (from datapane>=0.9.1->polly-python==0.3.0-LIB-331) (3.0.3)\n",
      "Requirement already satisfied: datacommons<2.0.0,>=1.4.3 in /usr/local/lib/python3.10/site-packages (from datapane>=0.9.1->polly-python==0.3.0-LIB-331) (1.4.3)\n",
      "Requirement already satisfied: dulwich<0.21.0,>=0.20.0 in /usr/local/lib/python3.10/site-packages (from datapane>=0.9.1->polly-python==0.3.0-LIB-331) (0.20.50)\n",
      "Requirement already satisfied: furl<3.0.0,>=2.0.0 in /usr/local/lib/python3.10/site-packages (from datapane>=0.9.1->polly-python==0.3.0-LIB-331) (2.1.3)\n",
      "Requirement already satisfied: stringcase<2.0.0,>=1.2.0 in /usr/local/lib/python3.10/site-packages (from datapane>=0.9.1->polly-python==0.3.0-LIB-331) (1.2.0)\n",
      "Requirement already satisfied: vega-datasets<1.0.0,>=0.9.0 in /usr/local/lib/python3.10/site-packages (from datapane>=0.9.1->polly-python==0.3.0-LIB-331) (0.9.0)\n",
      "Requirement already satisfied: colorlog<7.0.0,>=4.1.0 in /usr/local/lib/python3.10/site-packages (from datapane>=0.9.1->polly-python==0.3.0-LIB-331) (6.7.0)\n",
      "Requirement already satisfied: lxml<5.0.0,>=4.0.0 in /usr/local/lib/python3.10/site-packages (from datapane>=0.9.1->polly-python==0.3.0-LIB-331) (4.9.2)\n",
      "Requirement already satisfied: requests-toolbelt<0.10.0,>=0.9.1 in /usr/local/lib/python3.10/site-packages (from datapane>=0.9.1->polly-python==0.3.0-LIB-331) (0.9.1)\n",
      "Requirement already satisfied: jsonschema<5.0.0,>=3.2.0 in /usr/local/lib/python3.10/site-packages (from datapane>=0.9.1->polly-python==0.3.0-LIB-331) (4.2.1)\n",
      "Requirement already satisfied: nbconvert<7.0.0,>=6.1.0 in /usr/local/lib/python3.10/site-packages (from datapane>=0.9.1->polly-python==0.3.0-LIB-331) (6.3.0)\n",
      "Requirement already satisfied: glom<24.0.0,>=20.11.0 in /usr/local/lib/python3.10/site-packages (from datapane>=0.9.1->polly-python==0.3.0-LIB-331) (23.1.1)\n",
      "Requirement already satisfied: packaging<24.0.0,>=21.0.0 in /usr/local/lib/python3.10/site-packages (from datapane>=0.9.1->polly-python==0.3.0-LIB-331) (23.0)\n",
      "Requirement already satisfied: boltons<22.0.0,>=20.0.0 in /usr/local/lib/python3.10/site-packages (from datapane>=0.9.1->polly-python==0.3.0-LIB-331) (21.0.0)\n",
      "Requirement already satisfied: click<9.0.0,>=7.1.0 in /usr/local/lib/python3.10/site-packages (from datapane>=0.9.1->polly-python==0.3.0-LIB-331) (8.1.3)\n",
      "Requirement already satisfied: posthog<3.0.0,>=1.4.0 in /usr/local/lib/python3.10/site-packages (from datapane>=0.9.1->polly-python==0.3.0-LIB-331) (2.3.0)\n",
      "Requirement already satisfied: dacite<2.0.0,>=1.0.2 in /usr/local/lib/python3.10/site-packages (from datapane>=0.9.1->polly-python==0.3.0-LIB-331) (1.8.0)\n",
      "Requirement already satisfied: toolz<0.13.0,>=0.11.0 in /usr/local/lib/python3.10/site-packages (from datapane>=0.9.1->polly-python==0.3.0-LIB-331) (0.12.0)\n",
      "Requirement already satisfied: altair<5.0.0,>=4.0.0 in /usr/local/lib/python3.10/site-packages (from datapane>=0.9.1->polly-python==0.3.0-LIB-331) (4.2.2)\n",
      "Requirement already satisfied: click-spinner<0.2.0,>=0.1.8 in /usr/local/lib/python3.10/site-packages (from datapane>=0.9.1->polly-python==0.3.0-LIB-331) (0.1.10)\n",
      "Requirement already satisfied: munch<3.0.0,>=2.3.0 in /usr/local/lib/python3.10/site-packages (from datapane>=0.9.1->polly-python==0.3.0-LIB-331) (2.5.0)\n",
      "Requirement already satisfied: PyYAML<7.0.0,>=5.4.0 in /usr/local/lib/python3.10/site-packages (from datapane>=0.9.1->polly-python==0.3.0-LIB-331) (5.4.1)\n",
      "Requirement already satisfied: pyarrow<11.0.0,>=6.0.0 in /usr/local/lib/python3.10/site-packages (from datapane>=0.9.1->polly-python==0.3.0-LIB-331) (10.0.1)\n",
      "Requirement already satisfied: ipynbname<2022.0.0,>=2021.3.2 in /usr/local/lib/python3.10/site-packages (from datapane>=0.9.1->polly-python==0.3.0-LIB-331) (2021.3.2)\n",
      "Requirement already satisfied: entrypoints in /usr/local/lib/python3.10/site-packages (from altair<5.0.0,>=4.0.0->datapane>=0.9.1->polly-python==0.3.0-LIB-331) (0.3)\n",
      "Requirement already satisfied: wrapt<2,>=1.10 in /usr/local/lib/python3.10/site-packages (from Deprecated>=1.2.6->polly-python==0.3.0-LIB-331) (1.14.1)\n",
      "Requirement already satisfied: orderedmultidict>=1.0.1 in /usr/local/lib/python3.10/site-packages (from furl<3.0.0,>=2.0.0->datapane>=0.9.1->polly-python==0.3.0-LIB-331) (1.0.1)\n",
      "Requirement already satisfied: face==20.1.1 in /usr/local/lib/python3.10/site-packages (from glom<24.0.0,>=20.11.0->datapane>=0.9.1->polly-python==0.3.0-LIB-331) (20.1.1)\n",
      "Requirement already satisfied: attrs in /usr/local/lib/python3.10/site-packages (from glom<24.0.0,>=20.11.0->datapane>=0.9.1->polly-python==0.3.0-LIB-331) (21.2.0)\n",
      "Requirement already satisfied: ipykernel in /usr/local/lib/python3.10/site-packages (from ipynbname<2022.0.0,>=2021.3.2->datapane>=0.9.1->polly-python==0.3.0-LIB-331) (6.13.1)\n",
      "Requirement already satisfied: MarkupSafe>=2.0 in /usr/local/lib/python3.10/site-packages (from Jinja2<4.0.0,>=3.0.0->datapane>=0.9.1->polly-python==0.3.0-LIB-331) (2.0.1)\n",
      "Requirement already satisfied: pyrsistent!=0.17.0,!=0.17.1,!=0.17.2,>=0.14.0 in /usr/local/lib/python3.10/site-packages (from jsonschema<5.0.0,>=3.2.0->datapane>=0.9.1->polly-python==0.3.0-LIB-331) (0.18.0)\n",
      "Requirement already satisfied: mistune<2,>=0.8.1 in /usr/local/lib/python3.10/site-packages (from nbconvert<7.0.0,>=6.1.0->datapane>=0.9.1->polly-python==0.3.0-LIB-331) (0.8.4)\n",
      "Requirement already satisfied: traitlets>=5.0 in /usr/local/lib/python3.10/site-packages (from nbconvert<7.0.0,>=6.1.0->datapane>=0.9.1->polly-python==0.3.0-LIB-331) (5.1.1)\n",
      "Requirement already satisfied: pygments>=2.4.1 in /usr/local/lib/python3.10/site-packages (from nbconvert<7.0.0,>=6.1.0->datapane>=0.9.1->polly-python==0.3.0-LIB-331) (2.10.0)\n",
      "Requirement already satisfied: pandocfilters>=1.4.1 in /usr/local/lib/python3.10/site-packages (from nbconvert<7.0.0,>=6.1.0->datapane>=0.9.1->polly-python==0.3.0-LIB-331) (1.5.0)\n",
      "Requirement already satisfied: testpath in /usr/local/lib/python3.10/site-packages (from nbconvert<7.0.0,>=6.1.0->datapane>=0.9.1->polly-python==0.3.0-LIB-331) (0.5.0)\n",
      "Requirement already satisfied: jupyterlab-pygments in /usr/local/lib/python3.10/site-packages (from nbconvert<7.0.0,>=6.1.0->datapane>=0.9.1->polly-python==0.3.0-LIB-331) (0.2.2)\n",
      "Requirement already satisfied: nbformat>=4.4 in /usr/local/lib/python3.10/site-packages (from nbconvert<7.0.0,>=6.1.0->datapane>=0.9.1->polly-python==0.3.0-LIB-331) (5.1.3)\n",
      "Requirement already satisfied: jupyter-core in /usr/local/lib/python3.10/site-packages (from nbconvert<7.0.0,>=6.1.0->datapane>=0.9.1->polly-python==0.3.0-LIB-331) (4.9.1)\n",
      "Requirement already satisfied: nbclient<0.6.0,>=0.5.0 in /usr/local/lib/python3.10/site-packages (from nbconvert<7.0.0,>=6.1.0->datapane>=0.9.1->polly-python==0.3.0-LIB-331) (0.5.13)\n",
      "Requirement already satisfied: defusedxml in /usr/local/lib/python3.10/site-packages (from nbconvert<7.0.0,>=6.1.0->datapane>=0.9.1->polly-python==0.3.0-LIB-331) (0.7.1)\n",
      "Requirement already satisfied: bleach in /usr/local/lib/python3.10/site-packages (from nbconvert<7.0.0,>=6.1.0->datapane>=0.9.1->polly-python==0.3.0-LIB-331) (4.1.0)\n",
      "Requirement already satisfied: jupyter-client>=6.1.5 in /usr/local/lib/python3.10/site-packages (from nbclient<0.6.0,>=0.5.0->nbconvert<7.0.0,>=6.1.0->datapane>=0.9.1->polly-python==0.3.0-LIB-331) (6.1.12)\n",
      "Requirement already satisfied: nest-asyncio in /usr/local/lib/python3.10/site-packages (from nbclient<0.6.0,>=0.5.0->nbconvert<7.0.0,>=6.1.0->datapane>=0.9.1->polly-python==0.3.0-LIB-331) (1.5.6)\n",
      "Requirement already satisfied: tornado>=4.1 in /usr/local/lib/python3.10/site-packages (from jupyter-client>=6.1.5->nbclient<0.6.0,>=0.5.0->nbconvert<7.0.0,>=6.1.0->datapane>=0.9.1->polly-python==0.3.0-LIB-331) (6.1)\n",
      "Requirement already satisfied: pyzmq>=13 in /usr/local/lib/python3.10/site-packages (from jupyter-client>=6.1.5->nbclient<0.6.0,>=0.5.0->nbconvert<7.0.0,>=6.1.0->datapane>=0.9.1->polly-python==0.3.0-LIB-331) (22.3.0)\n",
      "Requirement already satisfied: ipython-genutils in /usr/local/lib/python3.10/site-packages (from nbformat>=4.4->nbconvert<7.0.0,>=6.1.0->datapane>=0.9.1->polly-python==0.3.0-LIB-331) (0.2.0)\n",
      "Requirement already satisfied: pytz>=2020.1 in /usr/local/lib/python3.10/site-packages (from pandas>=1.0.1->polly-python==0.3.0-LIB-331) (2021.1)\n",
      "Requirement already satisfied: tenacity>=6.2.0 in /usr/local/lib/python3.10/site-packages (from plotly>=2.0.0->polly-python==0.3.0-LIB-331) (8.1.0)\n",
      "Requirement already satisfied: backoff<2.0.0,>=1.10.0 in /usr/local/lib/python3.10/site-packages (from posthog<3.0.0,>=1.4.0->datapane>=0.9.1->polly-python==0.3.0-LIB-331) (1.11.1)\n",
      "Requirement already satisfied: monotonic>=1.5 in /usr/local/lib/python3.10/site-packages (from posthog<3.0.0,>=1.4.0->datapane>=0.9.1->polly-python==0.3.0-LIB-331) (1.6)\n",
      "Requirement already satisfied: typing-extensions>=3.7.4.3 in /usr/local/lib/python3.10/site-packages (from pydantic>=0.32.0->polly-python==0.3.0-LIB-331) (4.4.0)\n",
      "Requirement already satisfied: tomli>=1.0.0 in /usr/local/lib/python3.10/site-packages (from pytest>=3.0.0->polly-python==0.3.0-LIB-331) (2.0.1)\n",
      "Requirement already satisfied: iniconfig in /usr/local/lib/python3.10/site-packages (from pytest>=3.0.0->polly-python==0.3.0-LIB-331) (2.0.0)\n",
      "Requirement already satisfied: exceptiongroup>=1.0.0rc8 in /usr/local/lib/python3.10/site-packages (from pytest>=3.0.0->polly-python==0.3.0-LIB-331) (1.1.0)\n",
      "Requirement already satisfied: pluggy<2.0,>=0.12 in /usr/local/lib/python3.10/site-packages (from pytest>=3.0.0->polly-python==0.3.0-LIB-331) (1.0.0)\n",
      "Requirement already satisfied: pyasn1 in /usr/local/lib/python3.10/site-packages (from python-jose>=3.3.0->polly-python==0.3.0-LIB-331) (0.4.8)\n",
      "Requirement already satisfied: ecdsa!=0.15 in /usr/local/lib/python3.10/site-packages (from python-jose>=3.3.0->polly-python==0.3.0-LIB-331) (0.18.0)\n",
      "Requirement already satisfied: rsa in /usr/local/lib/python3.10/site-packages (from python-jose>=3.3.0->polly-python==0.3.0-LIB-331) (4.7.2)\n",
      "Requirement already satisfied: docutils>=0.11 in /usr/local/lib/python3.10/site-packages (from rst2txt>=1.1.0->polly-python==0.3.0-LIB-331) (0.15.2)\n",
      "Requirement already satisfied: decorator>=3.4.0 in /usr/local/lib/python3.10/site-packages (from validators<0.21.0,>=0.18.0->datapane>=0.9.1->polly-python==0.3.0-LIB-331) (5.1.0)\n",
      "Requirement already satisfied: soupsieve>1.2 in /usr/local/lib/python3.10/site-packages (from beautifulsoup4->polly-python==0.3.0-LIB-331) (2.3.2.post1)\n",
      "Requirement already satisfied: webencodings in /usr/local/lib/python3.10/site-packages (from bleach->nbconvert<7.0.0,>=6.1.0->datapane>=0.9.1->polly-python==0.3.0-LIB-331) (0.5.1)\n",
      "Requirement already satisfied: ipython>=7.23.1 in /usr/local/lib/python3.10/site-packages (from ipykernel->ipynbname<2022.0.0,>=2021.3.2->datapane>=0.9.1->polly-python==0.3.0-LIB-331) (8.2.0)\n",
      "Requirement already satisfied: psutil in /usr/local/lib/python3.10/site-packages (from ipykernel->ipynbname<2022.0.0,>=2021.3.2->datapane>=0.9.1->polly-python==0.3.0-LIB-331) (5.9.4)\n",
      "Requirement already satisfied: matplotlib-inline>=0.1 in /usr/local/lib/python3.10/site-packages (from ipykernel->ipynbname<2022.0.0,>=2021.3.2->datapane>=0.9.1->polly-python==0.3.0-LIB-331) (0.1.3)\n",
      "Requirement already satisfied: debugpy>=1.0 in /usr/local/lib/python3.10/site-packages (from ipykernel->ipynbname<2022.0.0,>=2021.3.2->datapane>=0.9.1->polly-python==0.3.0-LIB-331) (1.6.6)\n",
      "Requirement already satisfied: pickleshare in /usr/local/lib/python3.10/site-packages (from ipython>=7.23.1->ipykernel->ipynbname<2022.0.0,>=2021.3.2->datapane>=0.9.1->polly-python==0.3.0-LIB-331) (0.7.5)\n",
      "Requirement already satisfied: setuptools>=18.5 in /usr/local/lib/python3.10/site-packages (from ipython>=7.23.1->ipykernel->ipynbname<2022.0.0,>=2021.3.2->datapane>=0.9.1->polly-python==0.3.0-LIB-331) (58.1.0)\n",
      "Requirement already satisfied: jedi>=0.16 in /usr/local/lib/python3.10/site-packages (from ipython>=7.23.1->ipykernel->ipynbname<2022.0.0,>=2021.3.2->datapane>=0.9.1->polly-python==0.3.0-LIB-331) (0.18.1)\n",
      "Requirement already satisfied: stack-data in /usr/local/lib/python3.10/site-packages (from ipython>=7.23.1->ipykernel->ipynbname<2022.0.0,>=2021.3.2->datapane>=0.9.1->polly-python==0.3.0-LIB-331) (0.6.2)\n",
      "Requirement already satisfied: pexpect>4.3 in /usr/local/lib/python3.10/site-packages (from ipython>=7.23.1->ipykernel->ipynbname<2022.0.0,>=2021.3.2->datapane>=0.9.1->polly-python==0.3.0-LIB-331) (4.8.0)\n",
      "Requirement already satisfied: backcall in /usr/local/lib/python3.10/site-packages (from ipython>=7.23.1->ipykernel->ipynbname<2022.0.0,>=2021.3.2->datapane>=0.9.1->polly-python==0.3.0-LIB-331) (0.2.0)\n",
      "Requirement already satisfied: prompt-toolkit!=3.0.0,!=3.0.1,<3.1.0,>=2.0.0 in /usr/local/lib/python3.10/site-packages (from ipython>=7.23.1->ipykernel->ipynbname<2022.0.0,>=2021.3.2->datapane>=0.9.1->polly-python==0.3.0-LIB-331) (3.0.22)\n",
      "Requirement already satisfied: parso<0.9.0,>=0.8.0 in /usr/local/lib/python3.10/site-packages (from jedi>=0.16->ipython>=7.23.1->ipykernel->ipynbname<2022.0.0,>=2021.3.2->datapane>=0.9.1->polly-python==0.3.0-LIB-331) (0.8.2)\n",
      "Requirement already satisfied: ptyprocess>=0.5 in /usr/local/lib/python3.10/site-packages (from pexpect>4.3->ipython>=7.23.1->ipykernel->ipynbname<2022.0.0,>=2021.3.2->datapane>=0.9.1->polly-python==0.3.0-LIB-331) (0.7.0)\n",
      "Requirement already satisfied: wcwidth in /usr/local/lib/python3.10/site-packages (from prompt-toolkit!=3.0.0,!=3.0.1,<3.1.0,>=2.0.0->ipython>=7.23.1->ipykernel->ipynbname<2022.0.0,>=2021.3.2->datapane>=0.9.1->polly-python==0.3.0-LIB-331) (0.2.5)\n",
      "Collecting fastobo~=0.12.2\n",
      "  Downloading fastobo-0.12.2-cp310-cp310-manylinux_2_17_x86_64.manylinux2014_x86_64.whl (2.1 MB)\n",
      "\u001b[K     |████████████████████████████████| 2.1 MB 99.4 MB/s eta 0:00:01\n",
      "\u001b[?25hCollecting pronto\n",
      "  Downloading pronto-2.5.3-py2.py3-none-any.whl (61 kB)\n",
      "\u001b[K     |████████████████████████████████| 61 kB 20.7 MB/s  eta 0:00:01\n",
      "\u001b[?25hCollecting networkx~=2.3\n",
      "  Downloading networkx-2.8.8-py3-none-any.whl (2.0 MB)\n",
      "\u001b[K     |████████████████████████████████| 2.0 MB 125.6 MB/s eta 0:00:01\n",
      "\u001b[?25hCollecting pronto\n",
      "  Downloading pronto-2.5.2-py2.py3-none-any.whl (61 kB)\n",
      "\u001b[K     |████████████████████████████████| 61 kB 15.8 MB/s  eta 0:00:01\n",
      "\u001b[?25h  Downloading pronto-2.5.1-py2.py3-none-any.whl (61 kB)\n",
      "\u001b[K     |████████████████████████████████| 61 kB 23.4 MB/s  eta 0:00:01\n",
      "\u001b[?25hRequirement already satisfied: asttokens>=2.1.0 in /usr/local/lib/python3.10/site-packages (from stack-data->ipython>=7.23.1->ipykernel->ipynbname<2022.0.0,>=2021.3.2->datapane>=0.9.1->polly-python==0.3.0-LIB-331) (2.2.1)\n",
      "Requirement already satisfied: pure-eval in /usr/local/lib/python3.10/site-packages (from stack-data->ipython>=7.23.1->ipykernel->ipynbname<2022.0.0,>=2021.3.2->datapane>=0.9.1->polly-python==0.3.0-LIB-331) (0.2.2)\n",
      "Requirement already satisfied: executing>=1.2.0 in /usr/local/lib/python3.10/site-packages (from stack-data->ipython>=7.23.1->ipykernel->ipynbname<2022.0.0,>=2021.3.2->datapane>=0.9.1->polly-python==0.3.0-LIB-331) (1.2.0)\n",
      "Installing collected packages: networkx, jarowinkler, fastobo, rapidfuzz, pronto, appdirs, polly-validator, mixpanel, cryptography, polly-python\n",
      "Successfully installed appdirs-1.4.4 cryptography-40.0.1 fastobo-0.12.2 jarowinkler-1.0.5 mixpanel-4.10.0 networkx-2.8.8 polly-python-0.3.0 polly-validator-0.0.1 pronto-2.5.1 rapidfuzz-2.1.1\n",
      "\u001b[33mWARNING: You are using pip version 21.2.4; however, version 23.0.1 is available.\n",
      "You should consider upgrading via the '/usr/local/bin/python3.10 -m pip install --upgrade pip' command.\u001b[0m\n",
      "Note: you may need to restart the kernel to use updated packages.\n"
     ]
    }
   ],
   "source": [
    "pip install https://elucidatainc.github.io/PublicAssets/builds/polly-python/tests/testpolly/polly_python-0.3.0_LIB_331-py3-none-any.whl"
   ]
  },
  {
   "cell_type": "code",
   "execution_count": 1,
   "metadata": {},
   "outputs": [],
   "source": [
    "AUTH_TOKEN=(os.environ['POLLY_REFRESH_TOKEN'])\n",
    "import os\n",
    "from polly.auth import Polly\n",
    "from polly.omixatlas import OmixAtlas\n",
    "Polly.auth(AUTH_TOKEN)"
   ]
  },
  {
   "cell_type": "code",
   "execution_count": 2,
   "metadata": {},
   "outputs": [
    {
     "data": {
      "text/plain": [
       "'testpolly'"
      ]
     },
     "execution_count": 2,
     "metadata": {},
     "output_type": "execute_result"
    }
   ],
   "source": [
    "omixatlas = OmixAtlas()\n",
    "omixatlas.session.env"
   ]
  },
  {
   "cell_type": "code",
   "execution_count": 3,
   "metadata": {},
   "outputs": [
    {
     "name": "stdout",
     "output_type": "stream",
     "text": [
      "File Successfully linked to dataset id = GSE100467_GPL11154. The URL for the public access is 'https://testpolly.elucidata.io/manage/shared/file/?id=a50dc77db2b74e6fbc09d875c1f0a67b'\n"
     ]
    }
   ],
   "source": [
    "omixatlas.link_report(\"geo\",\"GSE100467_GPL11154\",14646,\"GSE100250%GPL16791#report.html\",\"public\")"
   ]
  },
  {
   "cell_type": "code",
   "execution_count": 4,
   "metadata": {},
   "outputs": [
    {
     "name": "stdout",
     "output_type": "stream",
     "text": [
      "File Successfully linked to dataset id = GSE100467_GPL11154. The URL for the private access is 'https://testpolly.elucidata.io/manage/restricted/file?id=14646&path=%2Fprojects%2F14646%2Ffiles%2FGSE100250%2525GPL16791%2523report.html'\n"
     ]
    }
   ],
   "source": [
    "omixatlas.link_report(\"geo\",\"GSE100467_GPL11154\",14646,\"GSE100250%GPL16791#report.html\",\"private\")"
   ]
  },
  {
   "cell_type": "code",
   "execution_count": 5,
   "metadata": {},
   "outputs": [
    {
     "name": "stdout",
     "output_type": "stream",
     "text": [
      "File Successfully linked to dataset id = GSE100467_GPL11154. The URL for the public access is 'https://testpolly.elucidata.io/manage/shared/file/?id=8a216b5844684105a21bc8a84155d726'\n"
     ]
    }
   ],
   "source": [
    "omixatlas.link_report(\"geo\",\"GSE100467_GPL11154\",14646,\"@GSE111580#GPL17586#metadata.html\",\"public\")"
   ]
  },
  {
   "cell_type": "code",
   "execution_count": 6,
   "metadata": {},
   "outputs": [
    {
     "name": "stdout",
     "output_type": "stream",
     "text": [
      "File Successfully linked to dataset id = GSE100467_GPL11154. The URL for the private access is 'https://testpolly.elucidata.io/manage/restricted/file?id=14646&path=%2Fprojects%2F14646%2Ffiles%2F%2540GSE111580%2523GPL17586%2523metadata.html'\n"
     ]
    }
   ],
   "source": [
    "omixatlas.link_report(\"geo\",\"GSE100467_GPL11154\",14646,\"@GSE111580#GPL17586#metadata.html\",\"private\")"
   ]
  },
  {
   "cell_type": "code",
   "execution_count": null,
   "metadata": {},
   "outputs": [],
   "source": []
  }
 ],
 "metadata": {
  "kernelspec": {
   "display_name": "Python 3 (ipykernel)",
   "language": "python",
   "name": "python3"
  },
  "language_info": {
   "codemirror_mode": {
    "name": "ipython",
    "version": 3
   },
   "file_extension": ".py",
   "mimetype": "text/x-python",
   "name": "python",
   "nbconvert_exporter": "python",
   "pygments_lexer": "ipython3",
   "version": "3.10.2"
  }
 },
 "nbformat": 4,
 "nbformat_minor": 2
}
