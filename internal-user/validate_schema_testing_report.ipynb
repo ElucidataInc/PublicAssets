{
  "cells": [
    {
      "cell_type": "markdown",
      "metadata": {
        "colab_type": "text",
        "id": "view-in-github"
      },
      "source": [
        "<a href=\"https://polly.elucidata.io/manage/workspaces?action=open_polly_notebook&source=github&path=path_place_holder&kernel=elucidata/Python 3.10&machine=medium\" target=\"_parent\"><img src=\"https://elucidatainc.github.io/PublicAssets/open_polly.svg\" alt=\"Open in Polly\"/></a>\n"
      ]
    },
    {
      "cell_type": "markdown",
      "metadata": {},
      "source": [
        "# Welcome to Polly Python3 Notebook."
      ]
    },
    {
      "cell_type": "code",
      "execution_count": 6,
      "metadata": {},
      "outputs": [
        {
          "name": "stdout",
          "output_type": "stream",
          "text": [
            "/bin/bash: warning: setlocale: LC_ALL: cannot change locale (en_US.UTF-8)\n",
            "Collecting polly-python==0.4.1-report-refac\n",
            "  Downloading https://elucidatainc.github.io/PublicAssets/builds/polly-python/tests/testpolly/polly_python-0.4.1_report_refac-py3-none-any.whl (204 kB)\n",
            "\u001b[K     |████████████████████████████████| 204 kB 5.2 MB/s eta 0:00:01\n",
            "\u001b[?25hRequirement already satisfied: joblib>=1.2.0 in /usr/local/lib/python3.10/site-packages (from polly-python==0.4.1-report-refac) (1.2.0)\n",
            "Requirement already satisfied: Deprecated>=1.2.12 in /usr/local/lib/python3.10/site-packages (from polly-python==0.4.1-report-refac) (1.2.13)\n",
            "Requirement already satisfied: plotly>=5.0.0 in /usr/local/lib/python3.10/site-packages (from polly-python==0.4.1-report-refac) (5.14.1)\n",
            "Requirement already satisfied: elucidatacloudpathlib==0.6.6 in /usr/local/lib/python3.10/site-packages (from polly-python==0.4.1-report-refac) (0.6.6)\n",
            "Requirement already satisfied: requests==2.25.1 in /usr/local/lib/python3.10/site-packages (from polly-python==0.4.1-report-refac) (2.25.1)\n",
            "Collecting polly-validator==0.0.2\n",
            "  Downloading polly_validator-0.0.2-py3-none-any.whl (29 kB)\n",
            "Collecting cryptography<=38.0.0,>=37.0.1\n",
            "  Downloading cryptography-38.0.0-cp36-abi3-manylinux_2_28_x86_64.whl (4.2 MB)\n",
            "\u001b[K     |████████████████████████████████| 4.2 MB 5.6 MB/s eta 0:00:01\n",
            "\u001b[?25hCollecting botocore>=1.27.0\n",
            "  Downloading botocore-1.31.18-py3-none-any.whl (11.1 MB)\n",
            "\u001b[K     |████████████████████████████████| 11.1 MB 58.9 MB/s eta 0:00:01\n",
            "\u001b[?25hRequirement already satisfied: tqdm==4.65.0 in /usr/local/lib/python3.10/site-packages (from polly-python==0.4.1-report-refac) (4.65.0)\n",
            "Requirement already satisfied: retrying==1.3.4 in /usr/local/lib/python3.10/site-packages (from polly-python==0.4.1-report-refac) (1.3.4)\n",
            "Requirement already satisfied: python-jose==3.3.0 in /usr/local/lib/python3.10/site-packages (from polly-python==0.4.1-report-refac) (3.3.0)\n",
            "Requirement already satisfied: rst2txt==1.1.0 in /usr/local/lib/python3.10/site-packages (from polly-python==0.4.1-report-refac) (1.1.0)\n",
            "Requirement already satisfied: pytest>=6.2.5 in /usr/local/lib/python3.10/site-packages (from polly-python==0.4.1-report-refac) (7.3.1)\n",
            "Requirement already satisfied: pandas>=1.3.5 in /usr/local/lib/python3.10/site-packages (from polly-python==0.4.1-report-refac) (1.4.1)\n",
            "Collecting pydantic==1.10.12\n",
            "  Downloading pydantic-1.10.12-cp310-cp310-manylinux_2_17_x86_64.manylinux2014_x86_64.whl (3.1 MB)\n",
            "\u001b[K     |████████████████████████████████| 3.1 MB 68.6 MB/s eta 0:00:01\n",
            "\u001b[?25hCollecting boto3>=1.24.0\n",
            "  Downloading boto3-1.28.18-py3-none-any.whl (135 kB)\n",
            "\u001b[K     |████████████████████████████████| 135 kB 67.3 MB/s eta 0:00:01\n",
            "\u001b[?25hRequirement already satisfied: mixpanel==4.10.0 in /usr/local/lib/python3.10/site-packages (from polly-python==0.4.1-report-refac) (4.10.0)\n",
            "Requirement already satisfied: elucidatacmapPy==3.3.4 in /usr/local/lib/python3.10/site-packages (from polly-python==0.4.1-report-refac) (3.3.4)\n",
            "Requirement already satisfied: h5py>=2.6.0 in /usr/local/lib/python3.10/site-packages (from elucidatacmapPy==3.3.4->polly-python==0.4.1-report-refac) (3.8.0)\n",
            "Requirement already satisfied: six in /usr/local/lib/python3.10/site-packages (from elucidatacmapPy==3.3.4->polly-python==0.4.1-report-refac) (1.16.0)\n",
            "Requirement already satisfied: numpy>=1.11.2 in /usr/local/lib/python3.10/site-packages (from elucidatacmapPy==3.3.4->polly-python==0.4.1-report-refac) (1.22.3)\n",
            "Requirement already satisfied: urllib3 in /usr/local/lib/python3.10/site-packages (from mixpanel==4.10.0->polly-python==0.4.1-report-refac) (1.26.6)\n",
            "Requirement already satisfied: pronto in /usr/local/lib/python3.10/site-packages (from polly-validator==0.0.2->polly-python==0.4.1-report-refac) (2.5.1)\n",
            "Requirement already satisfied: appdirs==1.4.4 in /usr/local/lib/python3.10/site-packages (from polly-validator==0.0.2->polly-python==0.4.1-report-refac) (1.4.4)\n",
            "Requirement already satisfied: rapidfuzz==2.1.1 in /usr/local/lib/python3.10/site-packages (from polly-validator==0.0.2->polly-python==0.4.1-report-refac) (2.1.1)\n",
            "Requirement already satisfied: tabulate==0.8.10 in /usr/local/lib/python3.10/site-packages (from polly-validator==0.0.2->polly-python==0.4.1-report-refac) (0.8.10)\n",
            "Requirement already satisfied: typing-extensions>=4.2.0 in /usr/local/lib/python3.10/site-packages (from pydantic==1.10.12->polly-python==0.4.1-report-refac) (4.5.0)\n",
            "Requirement already satisfied: pyasn1 in /usr/local/lib/python3.10/site-packages (from python-jose==3.3.0->polly-python==0.4.1-report-refac) (0.4.8)\n",
            "Requirement already satisfied: ecdsa!=0.15 in /usr/local/lib/python3.10/site-packages (from python-jose==3.3.0->polly-python==0.4.1-report-refac) (0.18.0)\n",
            "Requirement already satisfied: rsa in /usr/local/lib/python3.10/site-packages (from python-jose==3.3.0->polly-python==0.4.1-report-refac) (4.7.2)\n",
            "Requirement already satisfied: jarowinkler<1.1.0,>=1.0.3 in /usr/local/lib/python3.10/site-packages (from rapidfuzz==2.1.1->polly-validator==0.0.2->polly-python==0.4.1-report-refac) (1.0.5)\n",
            "Requirement already satisfied: idna<3,>=2.5 in /usr/local/lib/python3.10/site-packages (from requests==2.25.1->polly-python==0.4.1-report-refac) (2.10)\n",
            "Requirement already satisfied: certifi>=2017.4.17 in /usr/local/lib/python3.10/site-packages (from requests==2.25.1->polly-python==0.4.1-report-refac) (2021.5.30)\n",
            "Requirement already satisfied: chardet<5,>=3.0.2 in /usr/local/lib/python3.10/site-packages (from requests==2.25.1->polly-python==0.4.1-report-refac) (4.0.0)\n",
            "Requirement already satisfied: pygments in /usr/local/lib/python3.10/site-packages (from rst2txt==1.1.0->polly-python==0.4.1-report-refac) (2.10.0)\n",
            "Requirement already satisfied: docutils>=0.11 in /usr/local/lib/python3.10/site-packages (from rst2txt==1.1.0->polly-python==0.4.1-report-refac) (0.15.2)\n",
            "Requirement already satisfied: jmespath<2.0.0,>=0.7.1 in /usr/local/lib/python3.10/site-packages (from boto3>=1.24.0->polly-python==0.4.1-report-refac) (0.10.0)\n",
            "Collecting s3transfer<0.7.0,>=0.6.0\n",
            "  Downloading s3transfer-0.6.1-py3-none-any.whl (79 kB)\n",
            "\u001b[K     |████████████████████████████████| 79 kB 15.1 MB/s eta 0:00:01\n",
            "\u001b[?25hRequirement already satisfied: python-dateutil<3.0.0,>=2.1 in /usr/local/lib/python3.10/site-packages (from botocore>=1.27.0->polly-python==0.4.1-report-refac) (2.8.1)\n",
            "Requirement already satisfied: cffi>=1.12 in /usr/local/lib/python3.10/site-packages (from cryptography<=38.0.0,>=37.0.1->polly-python==0.4.1-report-refac) (1.15.1)\n",
            "Requirement already satisfied: pycparser in /usr/local/lib/python3.10/site-packages (from cffi>=1.12->cryptography<=38.0.0,>=37.0.1->polly-python==0.4.1-report-refac) (2.21)\n",
            "Requirement already satisfied: wrapt<2,>=1.10 in /usr/local/lib/python3.10/site-packages (from Deprecated>=1.2.12->polly-python==0.4.1-report-refac) (1.15.0)\n",
            "Requirement already satisfied: pytz>=2020.1 in /usr/local/lib/python3.10/site-packages (from pandas>=1.3.5->polly-python==0.4.1-report-refac) (2021.3)\n",
            "Requirement already satisfied: tenacity>=6.2.0 in /usr/local/lib/python3.10/site-packages (from plotly>=5.0.0->polly-python==0.4.1-report-refac) (8.2.2)\n",
            "Requirement already satisfied: packaging in /usr/local/lib/python3.10/site-packages (from plotly>=5.0.0->polly-python==0.4.1-report-refac) (23.1)\n",
            "Requirement already satisfied: exceptiongroup>=1.0.0rc8 in /usr/local/lib/python3.10/site-packages (from pytest>=6.2.5->polly-python==0.4.1-report-refac) (1.1.1)\n",
            "Requirement already satisfied: tomli>=1.0.0 in /usr/local/lib/python3.10/site-packages (from pytest>=6.2.5->polly-python==0.4.1-report-refac) (2.0.1)\n",
            "Requirement already satisfied: pluggy<2.0,>=0.12 in /usr/local/lib/python3.10/site-packages (from pytest>=6.2.5->polly-python==0.4.1-report-refac) (1.0.0)\n",
            "Requirement already satisfied: iniconfig in /usr/local/lib/python3.10/site-packages (from pytest>=6.2.5->polly-python==0.4.1-report-refac) (2.0.0)\n",
            "Requirement already satisfied: networkx~=2.3 in /usr/local/lib/python3.10/site-packages (from pronto->polly-validator==0.0.2->polly-python==0.4.1-report-refac) (2.8.8)\n",
            "Requirement already satisfied: fastobo~=0.12.1 in /usr/local/lib/python3.10/site-packages (from pronto->polly-validator==0.0.2->polly-python==0.4.1-report-refac) (0.12.2)\n"
          ]
        },
        {
          "name": "stdout",
          "output_type": "stream",
          "text": [
            "Installing collected packages: botocore, s3transfer, pydantic, polly-validator, cryptography, boto3, polly-python\n",
            "  Attempting uninstall: botocore\n",
            "    Found existing installation: botocore 1.24.19\n",
            "    Uninstalling botocore-1.24.19:\n",
            "      Successfully uninstalled botocore-1.24.19\n",
            "  Attempting uninstall: s3transfer\n",
            "    Found existing installation: s3transfer 0.5.2\n",
            "    Uninstalling s3transfer-0.5.2:\n",
            "      Successfully uninstalled s3transfer-0.5.2\n",
            "  Attempting uninstall: pydantic\n",
            "    Found existing installation: pydantic 1.10.7\n",
            "    Uninstalling pydantic-1.10.7:\n",
            "      Successfully uninstalled pydantic-1.10.7\n",
            "  Attempting uninstall: polly-validator\n",
            "    Found existing installation: polly-validator 0.0.1\n",
            "    Uninstalling polly-validator-0.0.1:\n",
            "      Successfully uninstalled polly-validator-0.0.1\n",
            "  Attempting uninstall: cryptography\n",
            "    Found existing installation: cryptography 40.0.2\n",
            "    Uninstalling cryptography-40.0.2:\n",
            "      Successfully uninstalled cryptography-40.0.2\n",
            "  Attempting uninstall: boto3\n",
            "    Found existing installation: boto3 1.21.19\n",
            "    Uninstalling boto3-1.21.19:\n",
            "      Successfully uninstalled boto3-1.21.19\n",
            "  Attempting uninstall: polly-python\n",
            "    Found existing installation: polly-python 0.3.0\n",
            "    Uninstalling polly-python-0.3.0:\n",
            "      Successfully uninstalled polly-python-0.3.0\n",
            "\u001b[31mERROR: pip's dependency resolver does not currently take into account all the packages that are installed. This behaviour is the source of the following dependency conflicts.\n",
            "awscli 1.22.74 requires botocore==1.24.19, but you have botocore 1.31.18 which is incompatible.\n",
            "awscli 1.22.74 requires s3transfer<0.6.0,>=0.5.0, but you have s3transfer 0.6.1 which is incompatible.\u001b[0m\n",
            "Successfully installed boto3-1.28.18 botocore-1.31.18 cryptography-38.0.0 polly-python-0.4.1 polly-validator-0.0.2 pydantic-1.10.12 s3transfer-0.6.1\n",
            "\u001b[33mWARNING: Running pip as the 'root' user can result in broken permissions and conflicting behaviour with the system package manager. It is recommended to use a virtual environment instead: https://pip.pypa.io/warnings/venv\u001b[0m\n",
            "\u001b[33mWARNING: You are using pip version 21.2.4; however, version 23.2.1 is available.\n",
            "You should consider upgrading via the '/usr/local/bin/python3.10 -m pip install --upgrade pip' command.\u001b[0m\n"
          ]
        }
      ],
      "source": [
        "!sudo pip3 install https://elucidatainc.github.io/PublicAssets/builds/polly-python/tests/testpolly/polly_python-0.4.1_report_refac-py3-none-any.whl\n"
      ]
    },
    {
      "cell_type": "code",
      "execution_count": 9,
      "metadata": {},
      "outputs": [],
      "source": [
        "import os\n",
        "from polly.auth import Polly\n",
        "AUTH_TOKEN = \"\"\n",
        "Polly.auth(AUTH_TOKEN, env=\"testpolly\")"
      ]
    },
    {
      "cell_type": "code",
      "execution_count": 10,
      "metadata": {},
      "outputs": [],
      "source": [
        "from polly.omixatlas import OmixAtlas\n",
        "omixatlas = OmixAtlas()\n",
        "import json"
      ]
    },
    {
      "cell_type": "code",
      "execution_count": 12,
      "metadata": {},
      "outputs": [
        {
          "name": "stdout",
          "output_type": "stream",
          "text": [
            "/bin/bash: warning: setlocale: LC_ALL: cannot change locale (en_US.UTF-8)\n",
            "\u001b[2K\u001b[1GCompleted 24.2 KiB/24.2 KiB (255.5 KiB/s) with 1 file(s) remainingSync complete!\n"
          ]
        }
      ],
      "source": [
        "!polly files sync -s \"polly://new_omix_for_refac/\" -d \"new_omix_for_refac/\" -y\n"
      ]
    },
    {
      "cell_type": "code",
      "execution_count": 15,
      "metadata": {},
      "outputs": [
        {
          "ename": "paramException",
          "evalue": "paramException (parameter error): Value of repo_id key in the schema payload dict is not valid repo_id. repo_id should contain digits only. Please correct it.",
          "output_type": "error",
          "traceback": [
            "\u001b[0;31m---------------------------------------------------------------------------\u001b[0m",
            "\u001b[0;31mparamException\u001b[0m                            Traceback (most recent call last)",
            "Input \u001b[0;32mIn [15]\u001b[0m, in \u001b[0;36m<cell line: 6>\u001b[0;34m()\u001b[0m\n\u001b[1;32m      3\u001b[0m \u001b[38;5;28;01mwith\u001b[39;00m \u001b[38;5;28mopen\u001b[39m(\u001b[38;5;124m\"\u001b[39m\u001b[38;5;124m/import/new_omix_for_refac/new_omix_for_refac.json\u001b[39m\u001b[38;5;124m\"\u001b[39m,\u001b[38;5;124m\"\u001b[39m\u001b[38;5;124mr\u001b[39m\u001b[38;5;124m\"\u001b[39m) \u001b[38;5;28;01mas\u001b[39;00m file:\n\u001b[1;32m      4\u001b[0m     schema_data \u001b[38;5;241m=\u001b[39m json\u001b[38;5;241m.\u001b[39mload(file)\n\u001b[0;32m----> 6\u001b[0m \u001b[43momixatlas\u001b[49m\u001b[38;5;241;43m.\u001b[39;49m\u001b[43mvalidate_schema\u001b[49m\u001b[43m(\u001b[49m\u001b[43mschema_data\u001b[49m\u001b[43m)\u001b[49m\n",
            "File \u001b[0;32m/usr/local/lib/python3.10/site-packages/polly/tracking.py:59\u001b[0m, in \u001b[0;36mTrack.track_decorator.<locals>.wrapper_function\u001b[0;34m(*args, **kwargs)\u001b[0m\n\u001b[1;32m     57\u001b[0m         \u001b[38;5;28;01mreturn\u001b[39;00m result\n\u001b[1;32m     58\u001b[0m \u001b[38;5;28;01melse\u001b[39;00m:\n\u001b[0;32m---> 59\u001b[0m     \u001b[38;5;28;01mraise\u001b[39;00m returned_err\n",
            "File \u001b[0;32m/usr/local/lib/python3.10/site-packages/polly/tracking.py:22\u001b[0m, in \u001b[0;36mTrack.track_decorator.<locals>.wrapper_function\u001b[0;34m(*args, **kwargs)\u001b[0m\n\u001b[1;32m     20\u001b[0m execution_flag \u001b[38;5;241m=\u001b[39m \u001b[38;5;28;01mFalse\u001b[39;00m\n\u001b[1;32m     21\u001b[0m \u001b[38;5;28;01mtry\u001b[39;00m:\n\u001b[0;32m---> 22\u001b[0m     result \u001b[38;5;241m=\u001b[39m \u001b[43mfunction\u001b[49m\u001b[43m(\u001b[49m\u001b[38;5;241;43m*\u001b[39;49m\u001b[43margs\u001b[49m\u001b[43m,\u001b[49m\u001b[43m \u001b[49m\u001b[38;5;241;43m*\u001b[39;49m\u001b[38;5;241;43m*\u001b[39;49m\u001b[43mkwargs\u001b[49m\u001b[43m)\u001b[49m\n\u001b[1;32m     23\u001b[0m     execution_flag \u001b[38;5;241m=\u001b[39m \u001b[38;5;28;01mTrue\u001b[39;00m\n\u001b[1;32m     24\u001b[0m \u001b[38;5;28;01mexcept\u001b[39;00m \u001b[38;5;167;01mException\u001b[39;00m \u001b[38;5;28;01mas\u001b[39;00m e:\n",
            "File \u001b[0;32m/usr/local/lib/python3.10/site-packages/polly/omixatlas.py:687\u001b[0m, in \u001b[0;36mOmixAtlas.validate_schema\u001b[0;34m(self, body)\u001b[0m\n\u001b[1;32m    685\u001b[0m     \u001b[38;5;28;01mreturn\u001b[39;00m res_df\n\u001b[1;32m    686\u001b[0m \u001b[38;5;28;01mexcept\u001b[39;00m \u001b[38;5;167;01mException\u001b[39;00m \u001b[38;5;28;01mas\u001b[39;00m err:\n\u001b[0;32m--> 687\u001b[0m     \u001b[38;5;28;01mraise\u001b[39;00m err\n",
            "File \u001b[0;32m/usr/local/lib/python3.10/site-packages/polly/omixatlas.py:684\u001b[0m, in \u001b[0;36mOmixAtlas.validate_schema\u001b[0;34m(self, body)\u001b[0m\n\u001b[1;32m    682\u001b[0m \u001b[38;5;28;01mtry\u001b[39;00m:\n\u001b[1;32m    683\u001b[0m     schema_obj \u001b[38;5;241m=\u001b[39m Schema()\n\u001b[0;32m--> 684\u001b[0m     res_df \u001b[38;5;241m=\u001b[39m \u001b[43mschema_obj\u001b[49m\u001b[38;5;241;43m.\u001b[39;49m\u001b[43mvalidate_schema\u001b[49m\u001b[43m(\u001b[49m\u001b[38;5;28;43mself\u001b[39;49m\u001b[43m,\u001b[49m\u001b[43m \u001b[49m\u001b[43mbody\u001b[49m\u001b[43m)\u001b[49m\n\u001b[1;32m    685\u001b[0m     \u001b[38;5;28;01mreturn\u001b[39;00m res_df\n\u001b[1;32m    686\u001b[0m \u001b[38;5;28;01mexcept\u001b[39;00m \u001b[38;5;167;01mException\u001b[39;00m \u001b[38;5;28;01mas\u001b[39;00m err:\n",
            "File \u001b[0;32m/usr/local/lib/python3.10/site-packages/polly_services/schema/schema.py:161\u001b[0m, in \u001b[0;36mSchema.validate_schema\u001b[0;34m(self, polly_session, body)\u001b[0m\n\u001b[1;32m    158\u001b[0m     \u001b[38;5;28;01mreturn\u001b[39;00m error_res_combined\n\u001b[1;32m    160\u001b[0m \u001b[38;5;28;01mexcept\u001b[39;00m \u001b[38;5;167;01mException\u001b[39;00m \u001b[38;5;28;01mas\u001b[39;00m err:\n\u001b[0;32m--> 161\u001b[0m     \u001b[38;5;28;01mraise\u001b[39;00m err\n",
            "File \u001b[0;32m/usr/local/lib/python3.10/site-packages/polly_services/schema/schema.py:114\u001b[0m, in \u001b[0;36mSchema.validate_schema\u001b[0;34m(self, polly_session, body)\u001b[0m\n\u001b[1;32m    111\u001b[0m repo_identifier \u001b[38;5;241m=\u001b[39m body\u001b[38;5;241m.\u001b[39mget(\u001b[38;5;124m\"\u001b[39m\u001b[38;5;124mdata\u001b[39m\u001b[38;5;124m\"\u001b[39m, \u001b[38;5;124m\"\u001b[39m\u001b[38;5;124m\"\u001b[39m)\u001b[38;5;241m.\u001b[39mget(\u001b[38;5;124m\"\u001b[39m\u001b[38;5;124mattributes\u001b[39m\u001b[38;5;124m\"\u001b[39m, \u001b[38;5;124m\"\u001b[39m\u001b[38;5;124m\"\u001b[39m)\u001b[38;5;241m.\u001b[39mget(\u001b[38;5;124m\"\u001b[39m\u001b[38;5;124mrepo_id\u001b[39m\u001b[38;5;124m\"\u001b[39m)\n\u001b[1;32m    113\u001b[0m \u001b[38;5;66;03m# only repo_id allowed in payload, repo_name not allowed in payload\u001b[39;00m\n\u001b[0;32m--> 114\u001b[0m \u001b[43mpolly_services_hlpr\u001b[49m\u001b[38;5;241;43m.\u001b[39;49m\u001b[43mverify_repo_identifier\u001b[49m\u001b[43m(\u001b[49m\u001b[43mrepo_identifier\u001b[49m\u001b[43m)\u001b[49m\n\u001b[1;32m    116\u001b[0m \u001b[38;5;28mid\u001b[39m \u001b[38;5;241m=\u001b[39m body\u001b[38;5;241m.\u001b[39mget(\u001b[38;5;124m\"\u001b[39m\u001b[38;5;124mdata\u001b[39m\u001b[38;5;124m\"\u001b[39m, \u001b[38;5;124m\"\u001b[39m\u001b[38;5;124m\"\u001b[39m)\u001b[38;5;241m.\u001b[39mget(\u001b[38;5;124m\"\u001b[39m\u001b[38;5;124mid\u001b[39m\u001b[38;5;124m\"\u001b[39m, \u001b[38;5;124m\"\u001b[39m\u001b[38;5;124m\"\u001b[39m)\n\u001b[1;32m    118\u001b[0m \u001b[38;5;66;03m# check for similarity in id and repo_identifier passed in payload\u001b[39;00m\n",
            "File \u001b[0;32m/usr/local/lib/python3.10/site-packages/polly_services/polly_services_hlpr.py:33\u001b[0m, in \u001b[0;36mverify_repo_identifier\u001b[0;34m(repo_identifier)\u001b[0m\n\u001b[1;32m     27\u001b[0m \u001b[38;5;124;03m\"\"\"Verify if the repository_idenfier is repo_id for a repo\u001b[39;00m\n\u001b[1;32m     28\u001b[0m \n\u001b[1;32m     29\u001b[0m \u001b[38;5;124;03mArgs:\u001b[39;00m\n\u001b[1;32m     30\u001b[0m \u001b[38;5;124;03m    repo_identifier (str): Identifier of a repo\u001b[39;00m\n\u001b[1;32m     31\u001b[0m \u001b[38;5;124;03m\"\"\"\u001b[39;00m\n\u001b[1;32m     32\u001b[0m \u001b[38;5;28;01mif\u001b[39;00m \u001b[38;5;129;01mnot\u001b[39;00m repo_identifier\u001b[38;5;241m.\u001b[39misdigit():\n\u001b[0;32m---> 33\u001b[0m     \u001b[38;5;28;01mraise\u001b[39;00m paramException(\n\u001b[1;32m     34\u001b[0m         title\u001b[38;5;241m=\u001b[39m\u001b[38;5;124m\"\u001b[39m\u001b[38;5;124mParam Error\u001b[39m\u001b[38;5;124m\"\u001b[39m,\n\u001b[1;32m     35\u001b[0m         detail\u001b[38;5;241m=\u001b[39m\u001b[38;5;124m\"\u001b[39m\u001b[38;5;124mValue of repo_id key in the schema payload dict is not valid repo_id. \u001b[39m\u001b[38;5;124m\"\u001b[39m\n\u001b[1;32m     36\u001b[0m         \u001b[38;5;241m+\u001b[39m \u001b[38;5;124m\"\u001b[39m\u001b[38;5;124mrepo_id should contain digits only. Please correct it.\u001b[39m\u001b[38;5;124m\"\u001b[39m,\n\u001b[1;32m     37\u001b[0m     )\n",
            "\u001b[0;31mparamException\u001b[0m: paramException (parameter error): Value of repo_id key in the schema payload dict is not valid repo_id. repo_id should contain digits only. Please correct it."
          ]
        }
      ],
      "source": [
        "# test case 1 -> empty repo_id\n",
        "\n",
        "with open(\"/import/new_omix_for_refac/new_omix_for_refac.json\",\"r\") as file:\n",
        "    schema_data = json.load(file)\n",
        "\n",
        "omixatlas.validate_schema(schema_data)"
      ]
    },
    {
      "cell_type": "code",
      "execution_count": 16,
      "metadata": {},
      "outputs": [
        {
          "ename": "paramException",
          "evalue": "paramException (parameter error): schema_dict not in correct format, repo_id key not present.Please recheck the schema dict format and values.",
          "output_type": "error",
          "traceback": [
            "\u001b[0;31m---------------------------------------------------------------------------\u001b[0m",
            "\u001b[0;31mparamException\u001b[0m                            Traceback (most recent call last)",
            "Input \u001b[0;32mIn [16]\u001b[0m, in \u001b[0;36m<cell line: 7>\u001b[0;34m()\u001b[0m\n\u001b[1;32m      4\u001b[0m \u001b[38;5;28;01mwith\u001b[39;00m \u001b[38;5;28mopen\u001b[39m(\u001b[38;5;124m\"\u001b[39m\u001b[38;5;124m/import/new_omix_for_refac/new_omix_for_refac.json\u001b[39m\u001b[38;5;124m\"\u001b[39m,\u001b[38;5;124m\"\u001b[39m\u001b[38;5;124mr\u001b[39m\u001b[38;5;124m\"\u001b[39m) \u001b[38;5;28;01mas\u001b[39;00m file:\n\u001b[1;32m      5\u001b[0m     schema_data \u001b[38;5;241m=\u001b[39m json\u001b[38;5;241m.\u001b[39mload(file)\n\u001b[0;32m----> 7\u001b[0m \u001b[43momixatlas\u001b[49m\u001b[38;5;241;43m.\u001b[39;49m\u001b[43mvalidate_schema\u001b[49m\u001b[43m(\u001b[49m\u001b[43mschema_data\u001b[49m\u001b[43m)\u001b[49m\n",
            "File \u001b[0;32m/usr/local/lib/python3.10/site-packages/polly/tracking.py:59\u001b[0m, in \u001b[0;36mTrack.track_decorator.<locals>.wrapper_function\u001b[0;34m(*args, **kwargs)\u001b[0m\n\u001b[1;32m     57\u001b[0m         \u001b[38;5;28;01mreturn\u001b[39;00m result\n\u001b[1;32m     58\u001b[0m \u001b[38;5;28;01melse\u001b[39;00m:\n\u001b[0;32m---> 59\u001b[0m     \u001b[38;5;28;01mraise\u001b[39;00m returned_err\n",
            "File \u001b[0;32m/usr/local/lib/python3.10/site-packages/polly/tracking.py:22\u001b[0m, in \u001b[0;36mTrack.track_decorator.<locals>.wrapper_function\u001b[0;34m(*args, **kwargs)\u001b[0m\n\u001b[1;32m     20\u001b[0m execution_flag \u001b[38;5;241m=\u001b[39m \u001b[38;5;28;01mFalse\u001b[39;00m\n\u001b[1;32m     21\u001b[0m \u001b[38;5;28;01mtry\u001b[39;00m:\n\u001b[0;32m---> 22\u001b[0m     result \u001b[38;5;241m=\u001b[39m \u001b[43mfunction\u001b[49m\u001b[43m(\u001b[49m\u001b[38;5;241;43m*\u001b[39;49m\u001b[43margs\u001b[49m\u001b[43m,\u001b[49m\u001b[43m \u001b[49m\u001b[38;5;241;43m*\u001b[39;49m\u001b[38;5;241;43m*\u001b[39;49m\u001b[43mkwargs\u001b[49m\u001b[43m)\u001b[49m\n\u001b[1;32m     23\u001b[0m     execution_flag \u001b[38;5;241m=\u001b[39m \u001b[38;5;28;01mTrue\u001b[39;00m\n\u001b[1;32m     24\u001b[0m \u001b[38;5;28;01mexcept\u001b[39;00m \u001b[38;5;167;01mException\u001b[39;00m \u001b[38;5;28;01mas\u001b[39;00m e:\n",
            "File \u001b[0;32m/usr/local/lib/python3.10/site-packages/polly/omixatlas.py:687\u001b[0m, in \u001b[0;36mOmixAtlas.validate_schema\u001b[0;34m(self, body)\u001b[0m\n\u001b[1;32m    685\u001b[0m     \u001b[38;5;28;01mreturn\u001b[39;00m res_df\n\u001b[1;32m    686\u001b[0m \u001b[38;5;28;01mexcept\u001b[39;00m \u001b[38;5;167;01mException\u001b[39;00m \u001b[38;5;28;01mas\u001b[39;00m err:\n\u001b[0;32m--> 687\u001b[0m     \u001b[38;5;28;01mraise\u001b[39;00m err\n",
            "File \u001b[0;32m/usr/local/lib/python3.10/site-packages/polly/omixatlas.py:684\u001b[0m, in \u001b[0;36mOmixAtlas.validate_schema\u001b[0;34m(self, body)\u001b[0m\n\u001b[1;32m    682\u001b[0m \u001b[38;5;28;01mtry\u001b[39;00m:\n\u001b[1;32m    683\u001b[0m     schema_obj \u001b[38;5;241m=\u001b[39m Schema()\n\u001b[0;32m--> 684\u001b[0m     res_df \u001b[38;5;241m=\u001b[39m \u001b[43mschema_obj\u001b[49m\u001b[38;5;241;43m.\u001b[39;49m\u001b[43mvalidate_schema\u001b[49m\u001b[43m(\u001b[49m\u001b[38;5;28;43mself\u001b[39;49m\u001b[43m,\u001b[49m\u001b[43m \u001b[49m\u001b[43mbody\u001b[49m\u001b[43m)\u001b[49m\n\u001b[1;32m    685\u001b[0m     \u001b[38;5;28;01mreturn\u001b[39;00m res_df\n\u001b[1;32m    686\u001b[0m \u001b[38;5;28;01mexcept\u001b[39;00m \u001b[38;5;167;01mException\u001b[39;00m \u001b[38;5;28;01mas\u001b[39;00m err:\n",
            "File \u001b[0;32m/usr/local/lib/python3.10/site-packages/polly_services/schema/schema.py:161\u001b[0m, in \u001b[0;36mSchema.validate_schema\u001b[0;34m(self, polly_session, body)\u001b[0m\n\u001b[1;32m    158\u001b[0m     \u001b[38;5;28;01mreturn\u001b[39;00m error_res_combined\n\u001b[1;32m    160\u001b[0m \u001b[38;5;28;01mexcept\u001b[39;00m \u001b[38;5;167;01mException\u001b[39;00m \u001b[38;5;28;01mas\u001b[39;00m err:\n\u001b[0;32m--> 161\u001b[0m     \u001b[38;5;28;01mraise\u001b[39;00m err\n",
            "File \u001b[0;32m/usr/local/lib/python3.10/site-packages/polly_services/schema/schema.py:110\u001b[0m, in \u001b[0;36mSchema.validate_schema\u001b[0;34m(self, polly_session, body)\u001b[0m\n\u001b[1;32m    104\u001b[0m \u001b[38;5;124;03m\"\"\"validate the schema\u001b[39;00m\n\u001b[1;32m    105\u001b[0m \n\u001b[1;32m    106\u001b[0m \u001b[38;5;124;03mArgs:\u001b[39;00m\n\u001b[1;32m    107\u001b[0m \u001b[38;5;124;03m    body (dict): payload of the schema\u001b[39;00m\n\u001b[1;32m    108\u001b[0m \u001b[38;5;124;03m\"\"\"\u001b[39;00m\n\u001b[1;32m    109\u001b[0m \u001b[38;5;28;01mtry\u001b[39;00m:\n\u001b[0;32m--> 110\u001b[0m     \u001b[43mschema_hlpr\u001b[49m\u001b[38;5;241;43m.\u001b[39;49m\u001b[43mvalidate_schema_param_check\u001b[49m\u001b[43m(\u001b[49m\u001b[43mbody\u001b[49m\u001b[43m)\u001b[49m\n\u001b[1;32m    111\u001b[0m     repo_identifier \u001b[38;5;241m=\u001b[39m body\u001b[38;5;241m.\u001b[39mget(\u001b[38;5;124m\"\u001b[39m\u001b[38;5;124mdata\u001b[39m\u001b[38;5;124m\"\u001b[39m, \u001b[38;5;124m\"\u001b[39m\u001b[38;5;124m\"\u001b[39m)\u001b[38;5;241m.\u001b[39mget(\u001b[38;5;124m\"\u001b[39m\u001b[38;5;124mattributes\u001b[39m\u001b[38;5;124m\"\u001b[39m, \u001b[38;5;124m\"\u001b[39m\u001b[38;5;124m\"\u001b[39m)\u001b[38;5;241m.\u001b[39mget(\u001b[38;5;124m\"\u001b[39m\u001b[38;5;124mrepo_id\u001b[39m\u001b[38;5;124m\"\u001b[39m)\n\u001b[1;32m    113\u001b[0m     \u001b[38;5;66;03m# only repo_id allowed in payload, repo_name not allowed in payload\u001b[39;00m\n",
            "File \u001b[0;32m/usr/local/lib/python3.10/site-packages/polly_services/schema/schema_hlpr.py:165\u001b[0m, in \u001b[0;36mvalidate_schema_param_check\u001b[0;34m(body)\u001b[0m\n\u001b[1;32m    163\u001b[0m attributes \u001b[38;5;241m=\u001b[39m data[\u001b[38;5;124m\"\u001b[39m\u001b[38;5;124mattributes\u001b[39m\u001b[38;5;124m\"\u001b[39m]\n\u001b[1;32m    164\u001b[0m \u001b[38;5;28;01mif\u001b[39;00m \u001b[38;5;124m\"\u001b[39m\u001b[38;5;124mrepo_id\u001b[39m\u001b[38;5;124m\"\u001b[39m \u001b[38;5;129;01mnot\u001b[39;00m \u001b[38;5;129;01min\u001b[39;00m attributes:\n\u001b[0;32m--> 165\u001b[0m     \u001b[38;5;28;01mraise\u001b[39;00m paramException(\n\u001b[1;32m    166\u001b[0m         title\u001b[38;5;241m=\u001b[39m\u001b[38;5;124m\"\u001b[39m\u001b[38;5;124mParam Error\u001b[39m\u001b[38;5;124m\"\u001b[39m,\n\u001b[1;32m    167\u001b[0m         detail\u001b[38;5;241m=\u001b[39m\u001b[38;5;124m\"\u001b[39m\u001b[38;5;124mschema_dict not in correct format, repo_id key not present.\u001b[39m\u001b[38;5;124m\"\u001b[39m\n\u001b[1;32m    168\u001b[0m         \u001b[38;5;241m+\u001b[39m \u001b[38;5;124m\"\u001b[39m\u001b[38;5;124mPlease recheck the schema dict format and values.\u001b[39m\u001b[38;5;124m\"\u001b[39m,\n\u001b[1;32m    169\u001b[0m     )\n\u001b[1;32m    171\u001b[0m \u001b[38;5;28;01mif\u001b[39;00m \u001b[38;5;124m\"\u001b[39m\u001b[38;5;124mschema\u001b[39m\u001b[38;5;124m\"\u001b[39m \u001b[38;5;129;01mnot\u001b[39;00m \u001b[38;5;129;01min\u001b[39;00m attributes:\n\u001b[1;32m    172\u001b[0m     \u001b[38;5;28;01mraise\u001b[39;00m paramException(\n\u001b[1;32m    173\u001b[0m         title\u001b[38;5;241m=\u001b[39m\u001b[38;5;124m\"\u001b[39m\u001b[38;5;124mParam Error\u001b[39m\u001b[38;5;124m\"\u001b[39m,\n\u001b[1;32m    174\u001b[0m         detail\u001b[38;5;241m=\u001b[39m\u001b[38;5;124m\"\u001b[39m\u001b[38;5;124mschema_dict not in correct format, schema key not present.\u001b[39m\u001b[38;5;124m\"\u001b[39m\n\u001b[1;32m    175\u001b[0m         \u001b[38;5;241m+\u001b[39m \u001b[38;5;124m\"\u001b[39m\u001b[38;5;124mPlease recheck the schema dict format and values.\u001b[39m\u001b[38;5;124m\"\u001b[39m,\n\u001b[1;32m    176\u001b[0m     )\n",
            "\u001b[0;31mparamException\u001b[0m: paramException (parameter error): schema_dict not in correct format, repo_id key not present.Please recheck the schema dict format and values."
          ]
        }
      ],
      "source": [
        "# test case 2 -> missing repo_id key\n",
        "# repo_id key is not present in the schema json file\n",
        "\n",
        "with open(\"/import/new_omix_for_refac/new_omix_for_refac.json\",\"r\") as file:\n",
        "    schema_data = json.load(file)\n",
        "\n",
        "omixatlas.validate_schema(schema_data)"
      ]
    },
    {
      "cell_type": "code",
      "execution_count": 19,
      "metadata": {},
      "outputs": [
        {
          "ename": "paramException",
          "evalue": "paramException (parameter error): schema_dict not in correct format, schema key not present.Please recheck the schema dict format and values.",
          "output_type": "error",
          "traceback": [
            "\u001b[0;31m---------------------------------------------------------------------------\u001b[0m",
            "\u001b[0;31mparamException\u001b[0m                            Traceback (most recent call last)",
            "Input \u001b[0;32mIn [19]\u001b[0m, in \u001b[0;36m<cell line: 8>\u001b[0;34m()\u001b[0m\n\u001b[1;32m      5\u001b[0m \u001b[38;5;28;01mwith\u001b[39;00m \u001b[38;5;28mopen\u001b[39m(\u001b[38;5;124m\"\u001b[39m\u001b[38;5;124m/import/new_omix_for_refac/new_omix_for_refac.json\u001b[39m\u001b[38;5;124m\"\u001b[39m,\u001b[38;5;124m\"\u001b[39m\u001b[38;5;124mr\u001b[39m\u001b[38;5;124m\"\u001b[39m) \u001b[38;5;28;01mas\u001b[39;00m file:\n\u001b[1;32m      6\u001b[0m     schema_data \u001b[38;5;241m=\u001b[39m json\u001b[38;5;241m.\u001b[39mload(file)\n\u001b[0;32m----> 8\u001b[0m \u001b[43momixatlas\u001b[49m\u001b[38;5;241;43m.\u001b[39;49m\u001b[43mvalidate_schema\u001b[49m\u001b[43m(\u001b[49m\u001b[43mschema_data\u001b[49m\u001b[43m)\u001b[49m\n",
            "File \u001b[0;32m/usr/local/lib/python3.10/site-packages/polly/tracking.py:59\u001b[0m, in \u001b[0;36mTrack.track_decorator.<locals>.wrapper_function\u001b[0;34m(*args, **kwargs)\u001b[0m\n\u001b[1;32m     57\u001b[0m         \u001b[38;5;28;01mreturn\u001b[39;00m result\n\u001b[1;32m     58\u001b[0m \u001b[38;5;28;01melse\u001b[39;00m:\n\u001b[0;32m---> 59\u001b[0m     \u001b[38;5;28;01mraise\u001b[39;00m returned_err\n",
            "File \u001b[0;32m/usr/local/lib/python3.10/site-packages/polly/tracking.py:22\u001b[0m, in \u001b[0;36mTrack.track_decorator.<locals>.wrapper_function\u001b[0;34m(*args, **kwargs)\u001b[0m\n\u001b[1;32m     20\u001b[0m execution_flag \u001b[38;5;241m=\u001b[39m \u001b[38;5;28;01mFalse\u001b[39;00m\n\u001b[1;32m     21\u001b[0m \u001b[38;5;28;01mtry\u001b[39;00m:\n\u001b[0;32m---> 22\u001b[0m     result \u001b[38;5;241m=\u001b[39m \u001b[43mfunction\u001b[49m\u001b[43m(\u001b[49m\u001b[38;5;241;43m*\u001b[39;49m\u001b[43margs\u001b[49m\u001b[43m,\u001b[49m\u001b[43m \u001b[49m\u001b[38;5;241;43m*\u001b[39;49m\u001b[38;5;241;43m*\u001b[39;49m\u001b[43mkwargs\u001b[49m\u001b[43m)\u001b[49m\n\u001b[1;32m     23\u001b[0m     execution_flag \u001b[38;5;241m=\u001b[39m \u001b[38;5;28;01mTrue\u001b[39;00m\n\u001b[1;32m     24\u001b[0m \u001b[38;5;28;01mexcept\u001b[39;00m \u001b[38;5;167;01mException\u001b[39;00m \u001b[38;5;28;01mas\u001b[39;00m e:\n",
            "File \u001b[0;32m/usr/local/lib/python3.10/site-packages/polly/omixatlas.py:687\u001b[0m, in \u001b[0;36mOmixAtlas.validate_schema\u001b[0;34m(self, body)\u001b[0m\n\u001b[1;32m    685\u001b[0m     \u001b[38;5;28;01mreturn\u001b[39;00m res_df\n\u001b[1;32m    686\u001b[0m \u001b[38;5;28;01mexcept\u001b[39;00m \u001b[38;5;167;01mException\u001b[39;00m \u001b[38;5;28;01mas\u001b[39;00m err:\n\u001b[0;32m--> 687\u001b[0m     \u001b[38;5;28;01mraise\u001b[39;00m err\n",
            "File \u001b[0;32m/usr/local/lib/python3.10/site-packages/polly/omixatlas.py:684\u001b[0m, in \u001b[0;36mOmixAtlas.validate_schema\u001b[0;34m(self, body)\u001b[0m\n\u001b[1;32m    682\u001b[0m \u001b[38;5;28;01mtry\u001b[39;00m:\n\u001b[1;32m    683\u001b[0m     schema_obj \u001b[38;5;241m=\u001b[39m Schema()\n\u001b[0;32m--> 684\u001b[0m     res_df \u001b[38;5;241m=\u001b[39m \u001b[43mschema_obj\u001b[49m\u001b[38;5;241;43m.\u001b[39;49m\u001b[43mvalidate_schema\u001b[49m\u001b[43m(\u001b[49m\u001b[38;5;28;43mself\u001b[39;49m\u001b[43m,\u001b[49m\u001b[43m \u001b[49m\u001b[43mbody\u001b[49m\u001b[43m)\u001b[49m\n\u001b[1;32m    685\u001b[0m     \u001b[38;5;28;01mreturn\u001b[39;00m res_df\n\u001b[1;32m    686\u001b[0m \u001b[38;5;28;01mexcept\u001b[39;00m \u001b[38;5;167;01mException\u001b[39;00m \u001b[38;5;28;01mas\u001b[39;00m err:\n",
            "File \u001b[0;32m/usr/local/lib/python3.10/site-packages/polly_services/schema/schema.py:161\u001b[0m, in \u001b[0;36mSchema.validate_schema\u001b[0;34m(self, polly_session, body)\u001b[0m\n\u001b[1;32m    158\u001b[0m     \u001b[38;5;28;01mreturn\u001b[39;00m error_res_combined\n\u001b[1;32m    160\u001b[0m \u001b[38;5;28;01mexcept\u001b[39;00m \u001b[38;5;167;01mException\u001b[39;00m \u001b[38;5;28;01mas\u001b[39;00m err:\n\u001b[0;32m--> 161\u001b[0m     \u001b[38;5;28;01mraise\u001b[39;00m err\n",
            "File \u001b[0;32m/usr/local/lib/python3.10/site-packages/polly_services/schema/schema.py:110\u001b[0m, in \u001b[0;36mSchema.validate_schema\u001b[0;34m(self, polly_session, body)\u001b[0m\n\u001b[1;32m    104\u001b[0m \u001b[38;5;124;03m\"\"\"validate the schema\u001b[39;00m\n\u001b[1;32m    105\u001b[0m \n\u001b[1;32m    106\u001b[0m \u001b[38;5;124;03mArgs:\u001b[39;00m\n\u001b[1;32m    107\u001b[0m \u001b[38;5;124;03m    body (dict): payload of the schema\u001b[39;00m\n\u001b[1;32m    108\u001b[0m \u001b[38;5;124;03m\"\"\"\u001b[39;00m\n\u001b[1;32m    109\u001b[0m \u001b[38;5;28;01mtry\u001b[39;00m:\n\u001b[0;32m--> 110\u001b[0m     \u001b[43mschema_hlpr\u001b[49m\u001b[38;5;241;43m.\u001b[39;49m\u001b[43mvalidate_schema_param_check\u001b[49m\u001b[43m(\u001b[49m\u001b[43mbody\u001b[49m\u001b[43m)\u001b[49m\n\u001b[1;32m    111\u001b[0m     repo_identifier \u001b[38;5;241m=\u001b[39m body\u001b[38;5;241m.\u001b[39mget(\u001b[38;5;124m\"\u001b[39m\u001b[38;5;124mdata\u001b[39m\u001b[38;5;124m\"\u001b[39m, \u001b[38;5;124m\"\u001b[39m\u001b[38;5;124m\"\u001b[39m)\u001b[38;5;241m.\u001b[39mget(\u001b[38;5;124m\"\u001b[39m\u001b[38;5;124mattributes\u001b[39m\u001b[38;5;124m\"\u001b[39m, \u001b[38;5;124m\"\u001b[39m\u001b[38;5;124m\"\u001b[39m)\u001b[38;5;241m.\u001b[39mget(\u001b[38;5;124m\"\u001b[39m\u001b[38;5;124mrepo_id\u001b[39m\u001b[38;5;124m\"\u001b[39m)\n\u001b[1;32m    113\u001b[0m     \u001b[38;5;66;03m# only repo_id allowed in payload, repo_name not allowed in payload\u001b[39;00m\n",
            "File \u001b[0;32m/usr/local/lib/python3.10/site-packages/polly_services/schema/schema_hlpr.py:172\u001b[0m, in \u001b[0;36mvalidate_schema_param_check\u001b[0;34m(body)\u001b[0m\n\u001b[1;32m    165\u001b[0m     \u001b[38;5;28;01mraise\u001b[39;00m paramException(\n\u001b[1;32m    166\u001b[0m         title\u001b[38;5;241m=\u001b[39m\u001b[38;5;124m\"\u001b[39m\u001b[38;5;124mParam Error\u001b[39m\u001b[38;5;124m\"\u001b[39m,\n\u001b[1;32m    167\u001b[0m         detail\u001b[38;5;241m=\u001b[39m\u001b[38;5;124m\"\u001b[39m\u001b[38;5;124mschema_dict not in correct format, repo_id key not present.\u001b[39m\u001b[38;5;124m\"\u001b[39m\n\u001b[1;32m    168\u001b[0m         \u001b[38;5;241m+\u001b[39m \u001b[38;5;124m\"\u001b[39m\u001b[38;5;124mPlease recheck the schema dict format and values.\u001b[39m\u001b[38;5;124m\"\u001b[39m,\n\u001b[1;32m    169\u001b[0m     )\n\u001b[1;32m    171\u001b[0m \u001b[38;5;28;01mif\u001b[39;00m \u001b[38;5;124m\"\u001b[39m\u001b[38;5;124mschema\u001b[39m\u001b[38;5;124m\"\u001b[39m \u001b[38;5;129;01mnot\u001b[39;00m \u001b[38;5;129;01min\u001b[39;00m attributes:\n\u001b[0;32m--> 172\u001b[0m     \u001b[38;5;28;01mraise\u001b[39;00m paramException(\n\u001b[1;32m    173\u001b[0m         title\u001b[38;5;241m=\u001b[39m\u001b[38;5;124m\"\u001b[39m\u001b[38;5;124mParam Error\u001b[39m\u001b[38;5;124m\"\u001b[39m,\n\u001b[1;32m    174\u001b[0m         detail\u001b[38;5;241m=\u001b[39m\u001b[38;5;124m\"\u001b[39m\u001b[38;5;124mschema_dict not in correct format, schema key not present.\u001b[39m\u001b[38;5;124m\"\u001b[39m\n\u001b[1;32m    175\u001b[0m         \u001b[38;5;241m+\u001b[39m \u001b[38;5;124m\"\u001b[39m\u001b[38;5;124mPlease recheck the schema dict format and values.\u001b[39m\u001b[38;5;124m\"\u001b[39m,\n\u001b[1;32m    176\u001b[0m     )\n",
            "\u001b[0;31mparamException\u001b[0m: paramException (parameter error): schema_dict not in correct format, schema key not present.Please recheck the schema dict format and values."
          ]
        }
      ],
      "source": [
        "# test case 3 -> missing schema key\n",
        "# schema key is not present in the schema json file\n",
        "# schema key needs to be present inside data.attributes\n",
        "\n",
        "with open(\"/import/new_omix_for_refac/new_omix_for_refac.json\",\"r\") as file:\n",
        "    schema_data = json.load(file)\n",
        "\n",
        "omixatlas.validate_schema(schema_data)"
      ]
    },
    {
      "cell_type": "code",
      "execution_count": 20,
      "metadata": {},
      "outputs": [
        {
          "ename": "paramException",
          "evalue": "paramException (parameter error): Value of repo_id key and id key is not same in the payload or Value of repo_key in the parameter and repo_id in the payload not same. Please correct it. ",
          "output_type": "error",
          "traceback": [
            "\u001b[0;31m---------------------------------------------------------------------------\u001b[0m",
            "\u001b[0;31mparamException\u001b[0m                            Traceback (most recent call last)",
            "Input \u001b[0;32mIn [20]\u001b[0m, in \u001b[0;36m<cell line: 6>\u001b[0;34m()\u001b[0m\n\u001b[1;32m      3\u001b[0m \u001b[38;5;28;01mwith\u001b[39;00m \u001b[38;5;28mopen\u001b[39m(\u001b[38;5;124m\"\u001b[39m\u001b[38;5;124m/import/new_omix_for_refac/new_omix_for_refac.json\u001b[39m\u001b[38;5;124m\"\u001b[39m,\u001b[38;5;124m\"\u001b[39m\u001b[38;5;124mr\u001b[39m\u001b[38;5;124m\"\u001b[39m) \u001b[38;5;28;01mas\u001b[39;00m file:\n\u001b[1;32m      4\u001b[0m     schema_data \u001b[38;5;241m=\u001b[39m json\u001b[38;5;241m.\u001b[39mload(file)\n\u001b[0;32m----> 6\u001b[0m \u001b[43momixatlas\u001b[49m\u001b[38;5;241;43m.\u001b[39;49m\u001b[43mvalidate_schema\u001b[49m\u001b[43m(\u001b[49m\u001b[43mschema_data\u001b[49m\u001b[43m)\u001b[49m\n",
            "File \u001b[0;32m/usr/local/lib/python3.10/site-packages/polly/tracking.py:59\u001b[0m, in \u001b[0;36mTrack.track_decorator.<locals>.wrapper_function\u001b[0;34m(*args, **kwargs)\u001b[0m\n\u001b[1;32m     57\u001b[0m         \u001b[38;5;28;01mreturn\u001b[39;00m result\n\u001b[1;32m     58\u001b[0m \u001b[38;5;28;01melse\u001b[39;00m:\n\u001b[0;32m---> 59\u001b[0m     \u001b[38;5;28;01mraise\u001b[39;00m returned_err\n",
            "File \u001b[0;32m/usr/local/lib/python3.10/site-packages/polly/tracking.py:22\u001b[0m, in \u001b[0;36mTrack.track_decorator.<locals>.wrapper_function\u001b[0;34m(*args, **kwargs)\u001b[0m\n\u001b[1;32m     20\u001b[0m execution_flag \u001b[38;5;241m=\u001b[39m \u001b[38;5;28;01mFalse\u001b[39;00m\n\u001b[1;32m     21\u001b[0m \u001b[38;5;28;01mtry\u001b[39;00m:\n\u001b[0;32m---> 22\u001b[0m     result \u001b[38;5;241m=\u001b[39m \u001b[43mfunction\u001b[49m\u001b[43m(\u001b[49m\u001b[38;5;241;43m*\u001b[39;49m\u001b[43margs\u001b[49m\u001b[43m,\u001b[49m\u001b[43m \u001b[49m\u001b[38;5;241;43m*\u001b[39;49m\u001b[38;5;241;43m*\u001b[39;49m\u001b[43mkwargs\u001b[49m\u001b[43m)\u001b[49m\n\u001b[1;32m     23\u001b[0m     execution_flag \u001b[38;5;241m=\u001b[39m \u001b[38;5;28;01mTrue\u001b[39;00m\n\u001b[1;32m     24\u001b[0m \u001b[38;5;28;01mexcept\u001b[39;00m \u001b[38;5;167;01mException\u001b[39;00m \u001b[38;5;28;01mas\u001b[39;00m e:\n",
            "File \u001b[0;32m/usr/local/lib/python3.10/site-packages/polly/omixatlas.py:687\u001b[0m, in \u001b[0;36mOmixAtlas.validate_schema\u001b[0;34m(self, body)\u001b[0m\n\u001b[1;32m    685\u001b[0m     \u001b[38;5;28;01mreturn\u001b[39;00m res_df\n\u001b[1;32m    686\u001b[0m \u001b[38;5;28;01mexcept\u001b[39;00m \u001b[38;5;167;01mException\u001b[39;00m \u001b[38;5;28;01mas\u001b[39;00m err:\n\u001b[0;32m--> 687\u001b[0m     \u001b[38;5;28;01mraise\u001b[39;00m err\n",
            "File \u001b[0;32m/usr/local/lib/python3.10/site-packages/polly/omixatlas.py:684\u001b[0m, in \u001b[0;36mOmixAtlas.validate_schema\u001b[0;34m(self, body)\u001b[0m\n\u001b[1;32m    682\u001b[0m \u001b[38;5;28;01mtry\u001b[39;00m:\n\u001b[1;32m    683\u001b[0m     schema_obj \u001b[38;5;241m=\u001b[39m Schema()\n\u001b[0;32m--> 684\u001b[0m     res_df \u001b[38;5;241m=\u001b[39m \u001b[43mschema_obj\u001b[49m\u001b[38;5;241;43m.\u001b[39;49m\u001b[43mvalidate_schema\u001b[49m\u001b[43m(\u001b[49m\u001b[38;5;28;43mself\u001b[39;49m\u001b[43m,\u001b[49m\u001b[43m \u001b[49m\u001b[43mbody\u001b[49m\u001b[43m)\u001b[49m\n\u001b[1;32m    685\u001b[0m     \u001b[38;5;28;01mreturn\u001b[39;00m res_df\n\u001b[1;32m    686\u001b[0m \u001b[38;5;28;01mexcept\u001b[39;00m \u001b[38;5;167;01mException\u001b[39;00m \u001b[38;5;28;01mas\u001b[39;00m err:\n",
            "File \u001b[0;32m/usr/local/lib/python3.10/site-packages/polly_services/schema/schema.py:161\u001b[0m, in \u001b[0;36mSchema.validate_schema\u001b[0;34m(self, polly_session, body)\u001b[0m\n\u001b[1;32m    158\u001b[0m     \u001b[38;5;28;01mreturn\u001b[39;00m error_res_combined\n\u001b[1;32m    160\u001b[0m \u001b[38;5;28;01mexcept\u001b[39;00m \u001b[38;5;167;01mException\u001b[39;00m \u001b[38;5;28;01mas\u001b[39;00m err:\n\u001b[0;32m--> 161\u001b[0m     \u001b[38;5;28;01mraise\u001b[39;00m err\n",
            "File \u001b[0;32m/usr/local/lib/python3.10/site-packages/polly_services/schema/schema.py:119\u001b[0m, in \u001b[0;36mSchema.validate_schema\u001b[0;34m(self, polly_session, body)\u001b[0m\n\u001b[1;32m    116\u001b[0m \u001b[38;5;28mid\u001b[39m \u001b[38;5;241m=\u001b[39m body\u001b[38;5;241m.\u001b[39mget(\u001b[38;5;124m\"\u001b[39m\u001b[38;5;124mdata\u001b[39m\u001b[38;5;124m\"\u001b[39m, \u001b[38;5;124m\"\u001b[39m\u001b[38;5;124m\"\u001b[39m)\u001b[38;5;241m.\u001b[39mget(\u001b[38;5;124m\"\u001b[39m\u001b[38;5;124mid\u001b[39m\u001b[38;5;124m\"\u001b[39m, \u001b[38;5;124m\"\u001b[39m\u001b[38;5;124m\"\u001b[39m)\n\u001b[1;32m    118\u001b[0m \u001b[38;5;66;03m# check for similarity in id and repo_identifier passed in payload\u001b[39;00m\n\u001b[0;32m--> 119\u001b[0m \u001b[43mpolly_services_hlpr\u001b[49m\u001b[38;5;241;43m.\u001b[39;49m\u001b[43mcompare_repo_id_and_id\u001b[49m\u001b[43m(\u001b[49m\u001b[43mrepo_identifier\u001b[49m\u001b[43m,\u001b[49m\u001b[43m \u001b[49m\u001b[38;5;28;43mid\u001b[39;49m\u001b[43m)\u001b[49m\n\u001b[1;32m    121\u001b[0m \u001b[38;5;66;03m# to check if repo_identifier is a valid repo_id\u001b[39;00m\n\u001b[1;32m    122\u001b[0m \u001b[38;5;66;03m# if an atlas is present for the repo_identifier then only\u001b[39;00m\n\u001b[1;32m    123\u001b[0m \u001b[38;5;66;03m# it is a valid repo_id\u001b[39;00m\n\u001b[1;32m    124\u001b[0m polly_services_hlpr\u001b[38;5;241m.\u001b[39mget_omixatlas(polly_session, repo_identifier)\n",
            "File \u001b[0;32m/usr/local/lib/python3.10/site-packages/polly_services/polly_services_hlpr.py:49\u001b[0m, in \u001b[0;36mcompare_repo_id_and_id\u001b[0;34m(repo_id, id)\u001b[0m\n\u001b[1;32m     41\u001b[0m \u001b[38;5;124;03m\"\"\"Repo id in the schema payload and the payload identifier(id) should be same\u001b[39;00m\n\u001b[1;32m     42\u001b[0m \u001b[38;5;124;03mid is the payload identifier as per JSON schema spec conventions.\u001b[39;00m\n\u001b[1;32m     43\u001b[0m \n\u001b[0;32m   (...)\u001b[0m\n\u001b[1;32m     46\u001b[0m \u001b[38;5;124;03m    id (str): payload identifier of the schema payload\u001b[39;00m\n\u001b[1;32m     47\u001b[0m \u001b[38;5;124;03m\"\"\"\u001b[39;00m\n\u001b[1;32m     48\u001b[0m \u001b[38;5;28;01mif\u001b[39;00m repo_id \u001b[38;5;241m!=\u001b[39m \u001b[38;5;28mid\u001b[39m:\n\u001b[0;32m---> 49\u001b[0m     \u001b[38;5;28;01mraise\u001b[39;00m paramException(\n\u001b[1;32m     50\u001b[0m         title\u001b[38;5;241m=\u001b[39m\u001b[38;5;124m\"\u001b[39m\u001b[38;5;124mParam Error\u001b[39m\u001b[38;5;124m\"\u001b[39m,\n\u001b[1;32m     51\u001b[0m         detail\u001b[38;5;241m=\u001b[39m\u001b[38;5;124m\"\u001b[39m\u001b[38;5;124mValue of repo_id key and id key is not same in the payload or \u001b[39m\u001b[38;5;124m\"\u001b[39m\n\u001b[1;32m     52\u001b[0m         \u001b[38;5;241m+\u001b[39m \u001b[38;5;124m\"\u001b[39m\u001b[38;5;124mValue of repo_key in the parameter and repo_id in the payload not same. \u001b[39m\u001b[38;5;124m\"\u001b[39m\n\u001b[1;32m     53\u001b[0m         \u001b[38;5;241m+\u001b[39m \u001b[38;5;124m\"\u001b[39m\u001b[38;5;124mPlease correct it. \u001b[39m\u001b[38;5;124m\"\u001b[39m,\n\u001b[1;32m     54\u001b[0m     )\n",
            "\u001b[0;31mparamException\u001b[0m: paramException (parameter error): Value of repo_id key and id key is not same in the payload or Value of repo_key in the parameter and repo_id in the payload not same. Please correct it. "
          ]
        }
      ],
      "source": [
        "# test case 4 -> repo_id and id value not same\n",
        "\n",
        "with open(\"/import/new_omix_for_refac/new_omix_for_refac.json\",\"r\") as file:\n",
        "    schema_data = json.load(file)\n",
        "\n",
        "omixatlas.validate_schema(schema_data)"
      ]
    },
    {
      "cell_type": "code",
      "execution_count": 21,
      "metadata": {},
      "outputs": [
        {
          "ename": "RequestException",
          "evalue": "(\"No repository for identifier '16873275048661'\", 'Requested resource does not exist')",
          "output_type": "error",
          "traceback": [
            "\u001b[0;31m---------------------------------------------------------------------------\u001b[0m",
            "\u001b[0;31mRequestException\u001b[0m                          Traceback (most recent call last)",
            "Input \u001b[0;32mIn [21]\u001b[0m, in \u001b[0;36m<cell line: 8>\u001b[0;34m()\u001b[0m\n\u001b[1;32m      5\u001b[0m \u001b[38;5;28;01mwith\u001b[39;00m \u001b[38;5;28mopen\u001b[39m(\u001b[38;5;124m\"\u001b[39m\u001b[38;5;124m/import/new_omix_for_refac/new_omix_for_refac.json\u001b[39m\u001b[38;5;124m\"\u001b[39m,\u001b[38;5;124m\"\u001b[39m\u001b[38;5;124mr\u001b[39m\u001b[38;5;124m\"\u001b[39m) \u001b[38;5;28;01mas\u001b[39;00m file:\n\u001b[1;32m      6\u001b[0m     schema_data \u001b[38;5;241m=\u001b[39m json\u001b[38;5;241m.\u001b[39mload(file)\n\u001b[0;32m----> 8\u001b[0m \u001b[43momixatlas\u001b[49m\u001b[38;5;241;43m.\u001b[39;49m\u001b[43mvalidate_schema\u001b[49m\u001b[43m(\u001b[49m\u001b[43mschema_data\u001b[49m\u001b[43m)\u001b[49m\n",
            "File \u001b[0;32m/usr/local/lib/python3.10/site-packages/polly/tracking.py:59\u001b[0m, in \u001b[0;36mTrack.track_decorator.<locals>.wrapper_function\u001b[0;34m(*args, **kwargs)\u001b[0m\n\u001b[1;32m     57\u001b[0m         \u001b[38;5;28;01mreturn\u001b[39;00m result\n\u001b[1;32m     58\u001b[0m \u001b[38;5;28;01melse\u001b[39;00m:\n\u001b[0;32m---> 59\u001b[0m     \u001b[38;5;28;01mraise\u001b[39;00m returned_err\n",
            "File \u001b[0;32m/usr/local/lib/python3.10/site-packages/polly/tracking.py:22\u001b[0m, in \u001b[0;36mTrack.track_decorator.<locals>.wrapper_function\u001b[0;34m(*args, **kwargs)\u001b[0m\n\u001b[1;32m     20\u001b[0m execution_flag \u001b[38;5;241m=\u001b[39m \u001b[38;5;28;01mFalse\u001b[39;00m\n\u001b[1;32m     21\u001b[0m \u001b[38;5;28;01mtry\u001b[39;00m:\n\u001b[0;32m---> 22\u001b[0m     result \u001b[38;5;241m=\u001b[39m \u001b[43mfunction\u001b[49m\u001b[43m(\u001b[49m\u001b[38;5;241;43m*\u001b[39;49m\u001b[43margs\u001b[49m\u001b[43m,\u001b[49m\u001b[43m \u001b[49m\u001b[38;5;241;43m*\u001b[39;49m\u001b[38;5;241;43m*\u001b[39;49m\u001b[43mkwargs\u001b[49m\u001b[43m)\u001b[49m\n\u001b[1;32m     23\u001b[0m     execution_flag \u001b[38;5;241m=\u001b[39m \u001b[38;5;28;01mTrue\u001b[39;00m\n\u001b[1;32m     24\u001b[0m \u001b[38;5;28;01mexcept\u001b[39;00m \u001b[38;5;167;01mException\u001b[39;00m \u001b[38;5;28;01mas\u001b[39;00m e:\n",
            "File \u001b[0;32m/usr/local/lib/python3.10/site-packages/polly/omixatlas.py:687\u001b[0m, in \u001b[0;36mOmixAtlas.validate_schema\u001b[0;34m(self, body)\u001b[0m\n\u001b[1;32m    685\u001b[0m     \u001b[38;5;28;01mreturn\u001b[39;00m res_df\n\u001b[1;32m    686\u001b[0m \u001b[38;5;28;01mexcept\u001b[39;00m \u001b[38;5;167;01mException\u001b[39;00m \u001b[38;5;28;01mas\u001b[39;00m err:\n\u001b[0;32m--> 687\u001b[0m     \u001b[38;5;28;01mraise\u001b[39;00m err\n",
            "File \u001b[0;32m/usr/local/lib/python3.10/site-packages/polly/omixatlas.py:684\u001b[0m, in \u001b[0;36mOmixAtlas.validate_schema\u001b[0;34m(self, body)\u001b[0m\n\u001b[1;32m    682\u001b[0m \u001b[38;5;28;01mtry\u001b[39;00m:\n\u001b[1;32m    683\u001b[0m     schema_obj \u001b[38;5;241m=\u001b[39m Schema()\n\u001b[0;32m--> 684\u001b[0m     res_df \u001b[38;5;241m=\u001b[39m \u001b[43mschema_obj\u001b[49m\u001b[38;5;241;43m.\u001b[39;49m\u001b[43mvalidate_schema\u001b[49m\u001b[43m(\u001b[49m\u001b[38;5;28;43mself\u001b[39;49m\u001b[43m,\u001b[49m\u001b[43m \u001b[49m\u001b[43mbody\u001b[49m\u001b[43m)\u001b[49m\n\u001b[1;32m    685\u001b[0m     \u001b[38;5;28;01mreturn\u001b[39;00m res_df\n\u001b[1;32m    686\u001b[0m \u001b[38;5;28;01mexcept\u001b[39;00m \u001b[38;5;167;01mException\u001b[39;00m \u001b[38;5;28;01mas\u001b[39;00m err:\n",
            "File \u001b[0;32m/usr/local/lib/python3.10/site-packages/polly_services/schema/schema.py:161\u001b[0m, in \u001b[0;36mSchema.validate_schema\u001b[0;34m(self, polly_session, body)\u001b[0m\n\u001b[1;32m    158\u001b[0m     \u001b[38;5;28;01mreturn\u001b[39;00m error_res_combined\n\u001b[1;32m    160\u001b[0m \u001b[38;5;28;01mexcept\u001b[39;00m \u001b[38;5;167;01mException\u001b[39;00m \u001b[38;5;28;01mas\u001b[39;00m err:\n\u001b[0;32m--> 161\u001b[0m     \u001b[38;5;28;01mraise\u001b[39;00m err\n",
            "File \u001b[0;32m/usr/local/lib/python3.10/site-packages/polly_services/schema/schema.py:124\u001b[0m, in \u001b[0;36mSchema.validate_schema\u001b[0;34m(self, polly_session, body)\u001b[0m\n\u001b[1;32m    119\u001b[0m polly_services_hlpr\u001b[38;5;241m.\u001b[39mcompare_repo_id_and_id(repo_identifier, \u001b[38;5;28mid\u001b[39m)\n\u001b[1;32m    121\u001b[0m \u001b[38;5;66;03m# to check if repo_identifier is a valid repo_id\u001b[39;00m\n\u001b[1;32m    122\u001b[0m \u001b[38;5;66;03m# if an atlas is present for the repo_identifier then only\u001b[39;00m\n\u001b[1;32m    123\u001b[0m \u001b[38;5;66;03m# it is a valid repo_id\u001b[39;00m\n\u001b[0;32m--> 124\u001b[0m \u001b[43mpolly_services_hlpr\u001b[49m\u001b[38;5;241;43m.\u001b[39;49m\u001b[43mget_omixatlas\u001b[49m\u001b[43m(\u001b[49m\u001b[43mpolly_session\u001b[49m\u001b[43m,\u001b[49m\u001b[43m \u001b[49m\u001b[43mrepo_identifier\u001b[49m\u001b[43m)\u001b[49m\n\u001b[1;32m    126\u001b[0m schema_dict \u001b[38;5;241m=\u001b[39m body\u001b[38;5;241m.\u001b[39mget(\u001b[38;5;124m\"\u001b[39m\u001b[38;5;124mdata\u001b[39m\u001b[38;5;124m\"\u001b[39m, \u001b[38;5;124m\"\u001b[39m\u001b[38;5;124m\"\u001b[39m)\u001b[38;5;241m.\u001b[39mget(\u001b[38;5;124m\"\u001b[39m\u001b[38;5;124mattributes\u001b[39m\u001b[38;5;124m\"\u001b[39m, \u001b[38;5;124m\"\u001b[39m\u001b[38;5;124m\"\u001b[39m)\u001b[38;5;241m.\u001b[39mget(\u001b[38;5;124m\"\u001b[39m\u001b[38;5;124mschema\u001b[39m\u001b[38;5;124m\"\u001b[39m, \u001b[38;5;124m\"\u001b[39m\u001b[38;5;124m\"\u001b[39m)\n\u001b[1;32m    127\u001b[0m errors_res_list \u001b[38;5;241m=\u001b[39m []\n",
            "File \u001b[0;32m/usr/local/lib/python3.10/site-packages/polly_services/polly_services_hlpr.py:67\u001b[0m, in \u001b[0;36mget_omixatlas\u001b[0;34m(polly_session, repo_key)\u001b[0m\n\u001b[1;32m     65\u001b[0m     url \u001b[38;5;241m=\u001b[39m \u001b[38;5;124mf\u001b[39m\u001b[38;5;124m\"\u001b[39m\u001b[38;5;132;01m{\u001b[39;00mpolly_session\u001b[38;5;241m.\u001b[39mresource_url\u001b[38;5;132;01m}\u001b[39;00m\u001b[38;5;124m/\u001b[39m\u001b[38;5;132;01m{\u001b[39;00mrepo_key\u001b[38;5;132;01m}\u001b[39;00m\u001b[38;5;124m\"\u001b[39m\n\u001b[1;32m     66\u001b[0m     response \u001b[38;5;241m=\u001b[39m polly_session\u001b[38;5;241m.\u001b[39msession\u001b[38;5;241m.\u001b[39mget(url)\n\u001b[0;32m---> 67\u001b[0m     \u001b[43merror_handler\u001b[49m\u001b[43m(\u001b[49m\u001b[43mresponse\u001b[49m\u001b[43m)\u001b[49m\n\u001b[1;32m     68\u001b[0m     \u001b[38;5;28;01mreturn\u001b[39;00m response\u001b[38;5;241m.\u001b[39mjson()\n\u001b[1;32m     69\u001b[0m \u001b[38;5;28;01melse\u001b[39;00m:\n",
            "File \u001b[0;32m/usr/local/lib/python3.10/site-packages/polly/errors.py:337\u001b[0m, in \u001b[0;36merror_handler\u001b[0;34m(response)\u001b[0m\n\u001b[1;32m    335\u001b[0m     \u001b[38;5;28;01mif\u001b[39;00m title \u001b[38;5;241m==\u001b[39m app_err_info\u001b[38;5;241m.\u001b[39mREPOSITORY_LOCKED:\n\u001b[1;32m    336\u001b[0m         detail \u001b[38;5;241m=\u001b[39m app_err_info\u001b[38;5;241m.\u001b[39mREPOSITORY_LOCKED_DETAIL\n\u001b[0;32m--> 337\u001b[0m     \u001b[38;5;28;01mraise\u001b[39;00m RequestException(title, detail)\n\u001b[1;32m    338\u001b[0m \u001b[38;5;28;01melif\u001b[39;00m response\u001b[38;5;241m.\u001b[39mstatus_code \u001b[38;5;241m==\u001b[39m \u001b[38;5;241m401\u001b[39m:\n\u001b[1;32m    339\u001b[0m     \u001b[38;5;28;01mraise\u001b[39;00m UnauthorizedException\n",
            "\u001b[0;31mRequestException\u001b[0m: (\"No repository for identifier '16873275048661'\", 'Requested resource does not exist')"
          ]
        }
      ],
      "source": [
        "# test case 5\n",
        "# wrong repo id\n",
        "# put wrong repo in the schema json file and run\n",
        "\n",
        "with open(\"/import/new_omix_for_refac/new_omix_for_refac.json\",\"r\") as file:\n",
        "    schema_data = json.load(file)\n",
        "\n",
        "omixatlas.validate_schema(schema_data)"
      ]
    },
    {
      "cell_type": "code",
      "execution_count": 22,
      "metadata": {},
      "outputs": [
        {
          "name": "stdout",
          "output_type": "stream",
          "text": [
            "Schema insert/update/replace/validate didn’t go through because there are errors in the schema. Those errors is summarised in the table below: \n",
            "\n",
            "\n",
            "╒════╤══════════╤════════════╤═══════════════════════╤════════════════╤═══════════════════════════════════════════════════════════════════════════════════════════════════════════════════════════════════════════════════════════════════════════════════════════════════════════════════════════════════════════════════════════╕\n",
            "│    │ Source   │ Datatype   │ field_name            │ attribute      │ message                                                                                                                                                                                                                                                   │\n",
            "╞════╪══════════╪════════════╪═══════════════════════╪════════════════╪═══════════════════════════════════════════════════════════════════════════════════════════════════════════════════════════════════════════════════════════════════════════════════════════════════════════════════════════════════════════════════════════╡\n",
            "│  0 │ all      │ all        │ DATA_MATRIX_AVAILABLE │ Not Applicable │ The field name DATA_MATRIX_AVAILABLE did not match the defined naming conditions. Lowercase only, Start with alphabets,  Cannot include special characters except `_`, Cannot be longer than 255 characters, Cannot be SQL reserved DDL and DML keywords. │\n",
            "╘════╧══════════╧════════════╧═══════════════════════╧════════════════╧═══════════════════════════════════════════════════════════════════════════════════════════════════════════════════════════════════════════════════════════════════════════════════════════════════════════════════════════════════════════════════════════╛\n"
          ]
        },
        {
          "data": {
            "text/html": [
              "<div>\n",
              "<style scoped>\n",
              "    .dataframe tbody tr th:only-of-type {\n",
              "        vertical-align: middle;\n",
              "    }\n",
              "\n",
              "    .dataframe tbody tr th {\n",
              "        vertical-align: top;\n",
              "    }\n",
              "\n",
              "    .dataframe thead th {\n",
              "        text-align: right;\n",
              "    }\n",
              "</style>\n",
              "<table border=\"1\" class=\"dataframe\">\n",
              "  <thead>\n",
              "    <tr style=\"text-align: right;\">\n",
              "      <th></th>\n",
              "      <th>Source</th>\n",
              "      <th>Datatype</th>\n",
              "      <th>field_name</th>\n",
              "      <th>attribute</th>\n",
              "      <th>message</th>\n",
              "    </tr>\n",
              "  </thead>\n",
              "  <tbody>\n",
              "    <tr>\n",
              "      <th>0</th>\n",
              "      <td>all</td>\n",
              "      <td>all</td>\n",
              "      <td>DATA_MATRIX_AVAILABLE</td>\n",
              "      <td>Not Applicable</td>\n",
              "      <td>The field name DATA_MATRIX_AVAILABLE did not m...</td>\n",
              "    </tr>\n",
              "  </tbody>\n",
              "</table>\n",
              "</div>"
            ],
            "text/plain": [
              "  Source Datatype             field_name       attribute  \\\n",
              "0    all      all  DATA_MATRIX_AVAILABLE  Not Applicable   \n",
              "\n",
              "                                             message  \n",
              "0  The field name DATA_MATRIX_AVAILABLE did not m...  "
            ]
          },
          "execution_count": 22,
          "metadata": {},
          "output_type": "execute_result"
        }
      ],
      "source": [
        "# test case 6\n",
        "# field name upper case in datamatrix field of source = all, datatype = all\n",
        "\n",
        "with open(\"/import/new_omix_for_refac/new_omix_for_refac.json\",\"r\") as file:\n",
        "    schema_data = json.load(file)\n",
        "\n",
        "omixatlas.validate_schema(schema_data)"
      ]
    },
    {
      "cell_type": "code",
      "execution_count": 23,
      "metadata": {},
      "outputs": [
        {
          "name": "stdout",
          "output_type": "stream",
          "text": [
            "Schema insert/update/replace/validate didn’t go through because there are errors in the schema. Those errors is summarised in the table below: \n",
            "\n",
            "\n",
            "╒════╤══════════╤════════════╤════════════════════════╤════════════════╤════════════════════════════════════════════════════════════════════════════════════════════════════════════════════════════════════════════════════════════════════════════════════════════════════════════════════════════════════════════════════════════╕\n",
            "│    │ Source   │ Datatype   │ field_name             │ attribute      │ message                                                                                                                                                                                                                                                    │\n",
            "╞════╪══════════╪════════════╪════════════════════════╪════════════════╪════════════════════════════════════════════════════════════════════════════════════════════════════════════════════════════════════════════════════════════════════════════════════════════════════════════════════════════════════════════════════════════╡\n",
            "│  0 │ all      │ all        │ _data_matrix_available │ Not Applicable │ The field name _data_matrix_available did not match the defined naming conditions. Lowercase only, Start with alphabets,  Cannot include special characters except `_`, Cannot be longer than 255 characters, Cannot be SQL reserved DDL and DML keywords. │\n",
            "╘════╧══════════╧════════════╧════════════════════════╧════════════════╧════════════════════════════════════════════════════════════════════════════════════════════════════════════════════════════════════════════════════════════════════════════════════════════════════════════════════════════════════════════════════════════╛\n"
          ]
        },
        {
          "data": {
            "text/html": [
              "<div>\n",
              "<style scoped>\n",
              "    .dataframe tbody tr th:only-of-type {\n",
              "        vertical-align: middle;\n",
              "    }\n",
              "\n",
              "    .dataframe tbody tr th {\n",
              "        vertical-align: top;\n",
              "    }\n",
              "\n",
              "    .dataframe thead th {\n",
              "        text-align: right;\n",
              "    }\n",
              "</style>\n",
              "<table border=\"1\" class=\"dataframe\">\n",
              "  <thead>\n",
              "    <tr style=\"text-align: right;\">\n",
              "      <th></th>\n",
              "      <th>Source</th>\n",
              "      <th>Datatype</th>\n",
              "      <th>field_name</th>\n",
              "      <th>attribute</th>\n",
              "      <th>message</th>\n",
              "    </tr>\n",
              "  </thead>\n",
              "  <tbody>\n",
              "    <tr>\n",
              "      <th>0</th>\n",
              "      <td>all</td>\n",
              "      <td>all</td>\n",
              "      <td>_data_matrix_available</td>\n",
              "      <td>Not Applicable</td>\n",
              "      <td>The field name _data_matrix_available did not ...</td>\n",
              "    </tr>\n",
              "  </tbody>\n",
              "</table>\n",
              "</div>"
            ],
            "text/plain": [
              "  Source Datatype              field_name       attribute  \\\n",
              "0    all      all  _data_matrix_available  Not Applicable   \n",
              "\n",
              "                                             message  \n",
              "0  The field name _data_matrix_available did not ...  "
            ]
          },
          "execution_count": 23,
          "metadata": {},
          "output_type": "execute_result"
        }
      ],
      "source": [
        "# test case 7\n",
        "# start with underscore, should throw an error in datamatrix field of source = all , datatype = all\n",
        "\n",
        "with open(\"/import/new_omix_for_refac/new_omix_for_refac.json\",\"r\") as file:\n",
        "    schema_data = json.load(file)\n",
        "\n",
        "omixatlas.validate_schema(schema_data)"
      ]
    },
    {
      "cell_type": "code",
      "execution_count": 24,
      "metadata": {},
      "outputs": [
        {
          "name": "stdout",
          "output_type": "stream",
          "text": [
            "Schema insert/update/replace/validate didn’t go through because there are errors in the schema. Those errors is summarised in the table below: \n",
            "\n",
            "\n",
            "╒════╤══════════╤════════════╤════════════════════════╤════════════════╤════════════════════════════════════════════════════════════════════════════════════════════════════════════════════════════════════════════════════════════════════════════════════════════════════════════════════════════════════════════════════════════╕\n",
            "│    │ Source   │ Datatype   │ field_name             │ attribute      │ message                                                                                                                                                                                                                                                    │\n",
            "╞════╪══════════╪════════════╪════════════════════════╪════════════════╪════════════════════════════════════════════════════════════════════════════════════════════════════════════════════════════════════════════════════════════════════════════════════════════════════════════════════════════════════════════════════════════╡\n",
            "│  0 │ all      │ all        │ @data_matrix_available │ Not Applicable │ The field name @data_matrix_available did not match the defined naming conditions. Lowercase only, Start with alphabets,  Cannot include special characters except `_`, Cannot be longer than 255 characters, Cannot be SQL reserved DDL and DML keywords. │\n",
            "╘════╧══════════╧════════════╧════════════════════════╧════════════════╧════════════════════════════════════════════════════════════════════════════════════════════════════════════════════════════════════════════════════════════════════════════════════════════════════════════════════════════════════════════════════════════╛\n"
          ]
        },
        {
          "data": {
            "text/html": [
              "<div>\n",
              "<style scoped>\n",
              "    .dataframe tbody tr th:only-of-type {\n",
              "        vertical-align: middle;\n",
              "    }\n",
              "\n",
              "    .dataframe tbody tr th {\n",
              "        vertical-align: top;\n",
              "    }\n",
              "\n",
              "    .dataframe thead th {\n",
              "        text-align: right;\n",
              "    }\n",
              "</style>\n",
              "<table border=\"1\" class=\"dataframe\">\n",
              "  <thead>\n",
              "    <tr style=\"text-align: right;\">\n",
              "      <th></th>\n",
              "      <th>Source</th>\n",
              "      <th>Datatype</th>\n",
              "      <th>field_name</th>\n",
              "      <th>attribute</th>\n",
              "      <th>message</th>\n",
              "    </tr>\n",
              "  </thead>\n",
              "  <tbody>\n",
              "    <tr>\n",
              "      <th>0</th>\n",
              "      <td>all</td>\n",
              "      <td>all</td>\n",
              "      <td>@data_matrix_available</td>\n",
              "      <td>Not Applicable</td>\n",
              "      <td>The field name @data_matrix_available did not ...</td>\n",
              "    </tr>\n",
              "  </tbody>\n",
              "</table>\n",
              "</div>"
            ],
            "text/plain": [
              "  Source Datatype              field_name       attribute  \\\n",
              "0    all      all  @data_matrix_available  Not Applicable   \n",
              "\n",
              "                                             message  \n",
              "0  The field name @data_matrix_available did not ...  "
            ]
          },
          "execution_count": 24,
          "metadata": {},
          "output_type": "execute_result"
        }
      ],
      "source": [
        "# test case 8\n",
        "\n",
        "# special characters other than underscore in datamatrix field of source = all, datatype = all\n",
        "# should throw an error\n",
        "with open(\"/import/new_omix_for_refac/new_omix_for_refac.json\",\"r\") as file:\n",
        "    schema_data = json.load(file)\n",
        "\n",
        "omixatlas.validate_schema(schema_data)"
      ]
    },
    {
      "cell_type": "code",
      "execution_count": 25,
      "metadata": {},
      "outputs": [
        {
          "name": "stdout",
          "output_type": "stream",
          "text": [
            "Schema insert/update/replace/validate didn’t go through because there are errors in the schema. Those errors is summarised in the table below: \n",
            "\n",
            "\n",
            "╒════╤══════════╤════════════╤══════════════╤════════════════╤══════════════════════════════════════════════════════╕\n",
            "│    │ Source   │ Datatype   │ field_name   │ attribute      │ message                                              │\n",
            "╞════╪══════════╪════════════╪══════════════╪════════════════╪══════════════════════════════════════════════════════╡\n",
            "│  0 │ all      │ all        │ alter        │ Not Applicable │ The field name alter matches reserved DDL Constants. │\n",
            "╘════╧══════════╧════════════╧══════════════╧════════════════╧══════════════════════════════════════════════════════╛\n"
          ]
        },
        {
          "data": {
            "text/html": [
              "<div>\n",
              "<style scoped>\n",
              "    .dataframe tbody tr th:only-of-type {\n",
              "        vertical-align: middle;\n",
              "    }\n",
              "\n",
              "    .dataframe tbody tr th {\n",
              "        vertical-align: top;\n",
              "    }\n",
              "\n",
              "    .dataframe thead th {\n",
              "        text-align: right;\n",
              "    }\n",
              "</style>\n",
              "<table border=\"1\" class=\"dataframe\">\n",
              "  <thead>\n",
              "    <tr style=\"text-align: right;\">\n",
              "      <th></th>\n",
              "      <th>Source</th>\n",
              "      <th>Datatype</th>\n",
              "      <th>field_name</th>\n",
              "      <th>attribute</th>\n",
              "      <th>message</th>\n",
              "    </tr>\n",
              "  </thead>\n",
              "  <tbody>\n",
              "    <tr>\n",
              "      <th>0</th>\n",
              "      <td>all</td>\n",
              "      <td>all</td>\n",
              "      <td>alter</td>\n",
              "      <td>Not Applicable</td>\n",
              "      <td>The field name alter matches reserved DDL Cons...</td>\n",
              "    </tr>\n",
              "  </tbody>\n",
              "</table>\n",
              "</div>"
            ],
            "text/plain": [
              "  Source Datatype field_name       attribute  \\\n",
              "0    all      all      alter  Not Applicable   \n",
              "\n",
              "                                             message  \n",
              "0  The field name alter matches reserved DDL Cons...  "
            ]
          },
          "execution_count": 25,
          "metadata": {},
          "output_type": "execute_result"
        }
      ],
      "source": [
        "# test case 9\n",
        "\n",
        "# use reserved ddl and dml keywords => datamatrix field name changed to alter of source = all, datatype = all\n",
        "\n",
        "with open(\"/import/new_omix_for_refac/new_omix_for_refac.json\",\"r\") as file:\n",
        "    schema_data = json.load(file)\n",
        "\n",
        "omixatlas.validate_schema(schema_data)"
      ]
    },
    {
      "cell_type": "code",
      "execution_count": 27,
      "metadata": {},
      "outputs": [
        {
          "name": "stdout",
          "output_type": "stream",
          "text": [
            "Schema insert/update/replace/validate didn’t go through because there are errors in the schema. Those errors is summarised in the table below: \n",
            "\n",
            "\n",
            "╒════╤══════════╤════════════╤═══════════════════════╤═══════════════╤═════════════════════════════════════════════╕\n",
            "│    │ Source   │ Datatype   │ field_name            │ attribute     │ message                                     │\n",
            "╞════╪══════════╪════════════╪═══════════════════════╪═══════════════╪═════════════════════════════════════════════╡\n",
            "│  0 │ all      │ all        │ data_matrix_available │ original_name │ ensure this value has at least 1 characters │\n",
            "╘════╧══════════╧════════════╧═══════════════════════╧═══════════════╧═════════════════════════════════════════════╛\n"
          ]
        },
        {
          "data": {
            "text/html": [
              "<div>\n",
              "<style scoped>\n",
              "    .dataframe tbody tr th:only-of-type {\n",
              "        vertical-align: middle;\n",
              "    }\n",
              "\n",
              "    .dataframe tbody tr th {\n",
              "        vertical-align: top;\n",
              "    }\n",
              "\n",
              "    .dataframe thead th {\n",
              "        text-align: right;\n",
              "    }\n",
              "</style>\n",
              "<table border=\"1\" class=\"dataframe\">\n",
              "  <thead>\n",
              "    <tr style=\"text-align: right;\">\n",
              "      <th></th>\n",
              "      <th>Source</th>\n",
              "      <th>Datatype</th>\n",
              "      <th>field_name</th>\n",
              "      <th>attribute</th>\n",
              "      <th>message</th>\n",
              "    </tr>\n",
              "  </thead>\n",
              "  <tbody>\n",
              "    <tr>\n",
              "      <th>0</th>\n",
              "      <td>all</td>\n",
              "      <td>all</td>\n",
              "      <td>data_matrix_available</td>\n",
              "      <td>original_name</td>\n",
              "      <td>ensure this value has at least 1 characters</td>\n",
              "    </tr>\n",
              "  </tbody>\n",
              "</table>\n",
              "</div>"
            ],
            "text/plain": [
              "  Source Datatype             field_name      attribute  \\\n",
              "0    all      all  data_matrix_available  original_name   \n",
              "\n",
              "                                       message  \n",
              "0  ensure this value has at least 1 characters  "
            ]
          },
          "execution_count": 27,
          "metadata": {},
          "output_type": "execute_result"
        }
      ],
      "source": [
        "# test case 10\n",
        "\n",
        "# original name < 1 in datamatrix field of source = all, datatype = all\n",
        "\n",
        "with open(\"/import/new_omix_for_refac/new_omix_for_refac.json\",\"r\") as file:\n",
        "    schema_data = json.load(file)\n",
        "\n",
        "omixatlas.validate_schema(schema_data)"
      ]
    },
    {
      "cell_type": "code",
      "execution_count": 28,
      "metadata": {},
      "outputs": [
        {
          "name": "stdout",
          "output_type": "stream",
          "text": [
            "Schema insert/update/replace/validate didn’t go through because there are errors in the schema. Those errors is summarised in the table below: \n",
            "\n",
            "\n",
            "╒════╤══════════╤════════════╤═══════════════════════╤═══════════════╤═════════════════════════════════════════════╕\n",
            "│    │ Source   │ Datatype   │ field_name            │ attribute     │ message                                     │\n",
            "╞════╪══════════╪════════════╪═══════════════════════╪═══════════════╪═════════════════════════════════════════════╡\n",
            "│  0 │ all      │ all        │ data_matrix_available │ original_name │ ensure this value has at most 50 characters │\n",
            "╘════╧══════════╧════════════╧═══════════════════════╧═══════════════╧═════════════════════════════════════════════╛\n"
          ]
        },
        {
          "data": {
            "text/html": [
              "<div>\n",
              "<style scoped>\n",
              "    .dataframe tbody tr th:only-of-type {\n",
              "        vertical-align: middle;\n",
              "    }\n",
              "\n",
              "    .dataframe tbody tr th {\n",
              "        vertical-align: top;\n",
              "    }\n",
              "\n",
              "    .dataframe thead th {\n",
              "        text-align: right;\n",
              "    }\n",
              "</style>\n",
              "<table border=\"1\" class=\"dataframe\">\n",
              "  <thead>\n",
              "    <tr style=\"text-align: right;\">\n",
              "      <th></th>\n",
              "      <th>Source</th>\n",
              "      <th>Datatype</th>\n",
              "      <th>field_name</th>\n",
              "      <th>attribute</th>\n",
              "      <th>message</th>\n",
              "    </tr>\n",
              "  </thead>\n",
              "  <tbody>\n",
              "    <tr>\n",
              "      <th>0</th>\n",
              "      <td>all</td>\n",
              "      <td>all</td>\n",
              "      <td>data_matrix_available</td>\n",
              "      <td>original_name</td>\n",
              "      <td>ensure this value has at most 50 characters</td>\n",
              "    </tr>\n",
              "  </tbody>\n",
              "</table>\n",
              "</div>"
            ],
            "text/plain": [
              "  Source Datatype             field_name      attribute  \\\n",
              "0    all      all  data_matrix_available  original_name   \n",
              "\n",
              "                                       message  \n",
              "0  ensure this value has at most 50 characters  "
            ]
          },
          "execution_count": 28,
          "metadata": {},
          "output_type": "execute_result"
        }
      ],
      "source": [
        "# test case 11\n",
        "\n",
        "# original name > 50 in datamatrix field of source = all, datatype = all\n",
        "\n",
        "with open(\"/import/new_omix_for_refac/new_omix_for_refac.json\",\"r\") as file:\n",
        "    schema_data = json.load(file)\n",
        "\n",
        "omixatlas.validate_schema(schema_data)"
      ]
    },
    {
      "cell_type": "code",
      "execution_count": 29,
      "metadata": {},
      "outputs": [
        {
          "name": "stdout",
          "output_type": "stream",
          "text": [
            "Schema insert/update/replace/validate didn’t go through because there are errors in the schema. Those errors is summarised in the table below: \n",
            "\n",
            "\n",
            "╒════╤══════════╤════════════╤═══════════════════════╤═════════════╤═════════════════════════════════════════════════════════════════════════════════════════════════════╕\n",
            "│    │ Source   │ Datatype   │ field_name            │ attribute   │ message                                                                                             │\n",
            "╞════╪══════════╪════════════╪═══════════════════════╪═════════════╪═════════════════════════════════════════════════════════════════════════════════════════════════════╡\n",
            "│  0 │ all      │ all        │ data_matrix_available │ type        │ value is not a valid enumeration member; permitted: 'boolean', 'integer', 'float', 'text', 'object' │\n",
            "╘════╧══════════╧════════════╧═══════════════════════╧═════════════╧═════════════════════════════════════════════════════════════════════════════════════════════════════╛\n"
          ]
        },
        {
          "data": {
            "text/html": [
              "<div>\n",
              "<style scoped>\n",
              "    .dataframe tbody tr th:only-of-type {\n",
              "        vertical-align: middle;\n",
              "    }\n",
              "\n",
              "    .dataframe tbody tr th {\n",
              "        vertical-align: top;\n",
              "    }\n",
              "\n",
              "    .dataframe thead th {\n",
              "        text-align: right;\n",
              "    }\n",
              "</style>\n",
              "<table border=\"1\" class=\"dataframe\">\n",
              "  <thead>\n",
              "    <tr style=\"text-align: right;\">\n",
              "      <th></th>\n",
              "      <th>Source</th>\n",
              "      <th>Datatype</th>\n",
              "      <th>field_name</th>\n",
              "      <th>attribute</th>\n",
              "      <th>message</th>\n",
              "    </tr>\n",
              "  </thead>\n",
              "  <tbody>\n",
              "    <tr>\n",
              "      <th>0</th>\n",
              "      <td>all</td>\n",
              "      <td>all</td>\n",
              "      <td>data_matrix_available</td>\n",
              "      <td>type</td>\n",
              "      <td>value is not a valid enumeration member; permi...</td>\n",
              "    </tr>\n",
              "  </tbody>\n",
              "</table>\n",
              "</div>"
            ],
            "text/plain": [
              "  Source Datatype             field_name attribute  \\\n",
              "0    all      all  data_matrix_available      type   \n",
              "\n",
              "                                             message  \n",
              "0  value is not a valid enumeration member; permi...  "
            ]
          },
          "execution_count": 29,
          "metadata": {},
          "output_type": "execute_result"
        }
      ],
      "source": [
        "# test case 12\n",
        "\n",
        "# type other than text, integer, float, object boolean in datamatrix field of source = all, datatype = all\n",
        "\n",
        "with open(\"/import/new_omix_for_refac/new_omix_for_refac.json\",\"r\") as file:\n",
        "    schema_data = json.load(file)\n",
        "\n",
        "omixatlas.validate_schema(schema_data)"
      ]
    },
    {
      "cell_type": "code",
      "execution_count": 30,
      "metadata": {},
      "outputs": [
        {
          "name": "stdout",
          "output_type": "stream",
          "text": [
            "Schema insert/update/replace/validate didn’t go through because there are errors in the schema. Those errors is summarised in the table below: \n",
            "\n",
            "\n",
            "╒════╤══════════╤════════════╤═══════════════════════╤═════════════╤════════════════════════════════════════╕\n",
            "│    │ Source   │ Datatype   │ field_name            │ attribute   │ message                                │\n",
            "╞════╪══════════╪════════════╪═══════════════════════╪═════════════╪════════════════════════════════════════╡\n",
            "│  0 │ all      │ all        │ data_matrix_available │ is_array    │ value could not be parsed to a boolean │\n",
            "╘════╧══════════╧════════════╧═══════════════════════╧═════════════╧════════════════════════════════════════╛\n"
          ]
        },
        {
          "data": {
            "text/html": [
              "<div>\n",
              "<style scoped>\n",
              "    .dataframe tbody tr th:only-of-type {\n",
              "        vertical-align: middle;\n",
              "    }\n",
              "\n",
              "    .dataframe tbody tr th {\n",
              "        vertical-align: top;\n",
              "    }\n",
              "\n",
              "    .dataframe thead th {\n",
              "        text-align: right;\n",
              "    }\n",
              "</style>\n",
              "<table border=\"1\" class=\"dataframe\">\n",
              "  <thead>\n",
              "    <tr style=\"text-align: right;\">\n",
              "      <th></th>\n",
              "      <th>Source</th>\n",
              "      <th>Datatype</th>\n",
              "      <th>field_name</th>\n",
              "      <th>attribute</th>\n",
              "      <th>message</th>\n",
              "    </tr>\n",
              "  </thead>\n",
              "  <tbody>\n",
              "    <tr>\n",
              "      <th>0</th>\n",
              "      <td>all</td>\n",
              "      <td>all</td>\n",
              "      <td>data_matrix_available</td>\n",
              "      <td>is_array</td>\n",
              "      <td>value could not be parsed to a boolean</td>\n",
              "    </tr>\n",
              "  </tbody>\n",
              "</table>\n",
              "</div>"
            ],
            "text/plain": [
              "  Source Datatype             field_name attribute  \\\n",
              "0    all      all  data_matrix_available  is_array   \n",
              "\n",
              "                                  message  \n",
              "0  value could not be parsed to a boolean  "
            ]
          },
          "execution_count": 30,
          "metadata": {},
          "output_type": "execute_result"
        }
      ],
      "source": [
        "# test case 14\n",
        "# is_array string in datamatrix field of source = all, datatype = all\n",
        "\n",
        "with open(\"/import/new_omix_for_refac/new_omix_for_refac.json\",\"r\") as file:\n",
        "    schema_data = json.load(file)\n",
        "\n",
        "omixatlas.validate_schema(schema_data)"
      ]
    },
    {
      "cell_type": "code",
      "execution_count": 31,
      "metadata": {},
      "outputs": [
        {
          "name": "stdout",
          "output_type": "stream",
          "text": [
            "Schema insert/update/replace/validate didn’t go through because there are errors in the schema. Those errors is summarised in the table below: \n",
            "\n",
            "\n",
            "╒════╤══════════╤════════════╤═══════════════════════╤═════════════╤════════════════════════════════════════╕\n",
            "│    │ Source   │ Datatype   │ field_name            │ attribute   │ message                                │\n",
            "╞════╪══════════╪════════════╪═══════════════════════╪═════════════╪════════════════════════════════════════╡\n",
            "│  0 │ all      │ all        │ data_matrix_available │ is_keyword  │ value could not be parsed to a boolean │\n",
            "╘════╧══════════╧════════════╧═══════════════════════╧═════════════╧════════════════════════════════════════╛\n"
          ]
        },
        {
          "data": {
            "text/html": [
              "<div>\n",
              "<style scoped>\n",
              "    .dataframe tbody tr th:only-of-type {\n",
              "        vertical-align: middle;\n",
              "    }\n",
              "\n",
              "    .dataframe tbody tr th {\n",
              "        vertical-align: top;\n",
              "    }\n",
              "\n",
              "    .dataframe thead th {\n",
              "        text-align: right;\n",
              "    }\n",
              "</style>\n",
              "<table border=\"1\" class=\"dataframe\">\n",
              "  <thead>\n",
              "    <tr style=\"text-align: right;\">\n",
              "      <th></th>\n",
              "      <th>Source</th>\n",
              "      <th>Datatype</th>\n",
              "      <th>field_name</th>\n",
              "      <th>attribute</th>\n",
              "      <th>message</th>\n",
              "    </tr>\n",
              "  </thead>\n",
              "  <tbody>\n",
              "    <tr>\n",
              "      <th>0</th>\n",
              "      <td>all</td>\n",
              "      <td>all</td>\n",
              "      <td>data_matrix_available</td>\n",
              "      <td>is_keyword</td>\n",
              "      <td>value could not be parsed to a boolean</td>\n",
              "    </tr>\n",
              "  </tbody>\n",
              "</table>\n",
              "</div>"
            ],
            "text/plain": [
              "  Source Datatype             field_name   attribute  \\\n",
              "0    all      all  data_matrix_available  is_keyword   \n",
              "\n",
              "                                  message  \n",
              "0  value could not be parsed to a boolean  "
            ]
          },
          "execution_count": 31,
          "metadata": {},
          "output_type": "execute_result"
        }
      ],
      "source": [
        "# test case 15\n",
        "# is_keyword string -> passed in datamatrix field of source = all, datatype = all\n",
        "\n",
        "with open(\"/import/new_omix_for_refac/new_omix_for_refac.json\",\"r\") as file:\n",
        "    schema_data = json.load(file)\n",
        "\n",
        "omixatlas.validate_schema(schema_data)"
      ]
    },
    {
      "cell_type": "code",
      "execution_count": 32,
      "metadata": {},
      "outputs": [
        {
          "name": "stdout",
          "output_type": "stream",
          "text": [
            "Schema insert/update/replace/validate didn’t go through because there are errors in the schema. Those errors is summarised in the table below: \n",
            "\n",
            "\n",
            "╒════╤══════════╤════════════╤═══════════════════════╤═════════════╤═════════════════════════════════════════════════╕\n",
            "│    │ Source   │ Datatype   │ field_name            │ attribute   │ message                                         │\n",
            "╞════╪══════════╪════════════╪═══════════════════════╪═════════════╪═════════════════════════════════════════════════╡\n",
            "│  0 │ all      │ all        │ data_matrix_available │ filter_size │ ensure this value is greater than or equal to 1 │\n",
            "╘════╧══════════╧════════════╧═══════════════════════╧═════════════╧═════════════════════════════════════════════════╛\n"
          ]
        },
        {
          "data": {
            "text/html": [
              "<div>\n",
              "<style scoped>\n",
              "    .dataframe tbody tr th:only-of-type {\n",
              "        vertical-align: middle;\n",
              "    }\n",
              "\n",
              "    .dataframe tbody tr th {\n",
              "        vertical-align: top;\n",
              "    }\n",
              "\n",
              "    .dataframe thead th {\n",
              "        text-align: right;\n",
              "    }\n",
              "</style>\n",
              "<table border=\"1\" class=\"dataframe\">\n",
              "  <thead>\n",
              "    <tr style=\"text-align: right;\">\n",
              "      <th></th>\n",
              "      <th>Source</th>\n",
              "      <th>Datatype</th>\n",
              "      <th>field_name</th>\n",
              "      <th>attribute</th>\n",
              "      <th>message</th>\n",
              "    </tr>\n",
              "  </thead>\n",
              "  <tbody>\n",
              "    <tr>\n",
              "      <th>0</th>\n",
              "      <td>all</td>\n",
              "      <td>all</td>\n",
              "      <td>data_matrix_available</td>\n",
              "      <td>filter_size</td>\n",
              "      <td>ensure this value is greater than or equal to 1</td>\n",
              "    </tr>\n",
              "  </tbody>\n",
              "</table>\n",
              "</div>"
            ],
            "text/plain": [
              "  Source Datatype             field_name    attribute  \\\n",
              "0    all      all  data_matrix_available  filter_size   \n",
              "\n",
              "                                           message  \n",
              "0  ensure this value is greater than or equal to 1  "
            ]
          },
          "execution_count": 32,
          "metadata": {},
          "output_type": "execute_result"
        }
      ],
      "source": [
        "# test case 16\n",
        "# filter size < 1 in datamatrix field of source = all, datatype = all\n",
        "\n",
        "with open(\"/import/new_omix_for_refac/new_omix_for_refac.json\",\"r\") as file:\n",
        "    schema_data = json.load(file)\n",
        "\n",
        "omixatlas.validate_schema(schema_data)"
      ]
    },
    {
      "cell_type": "code",
      "execution_count": 33,
      "metadata": {},
      "outputs": [
        {
          "name": "stdout",
          "output_type": "stream",
          "text": [
            "Schema insert/update/replace/validate didn’t go through because there are errors in the schema. Those errors is summarised in the table below: \n",
            "\n",
            "\n",
            "╒════╤══════════╤════════════╤═══════════════════════╤═════════════╤═════════════════════════════════════════════════╕\n",
            "│    │ Source   │ Datatype   │ field_name            │ attribute   │ message                                         │\n",
            "╞════╪══════════╪════════════╪═══════════════════════╪═════════════╪═════════════════════════════════════════════════╡\n",
            "│  0 │ all      │ all        │ data_matrix_available │ filter_size │ ensure this value is less than or equal to 3000 │\n",
            "╘════╧══════════╧════════════╧═══════════════════════╧═════════════╧═════════════════════════════════════════════════╛\n"
          ]
        },
        {
          "data": {
            "text/html": [
              "<div>\n",
              "<style scoped>\n",
              "    .dataframe tbody tr th:only-of-type {\n",
              "        vertical-align: middle;\n",
              "    }\n",
              "\n",
              "    .dataframe tbody tr th {\n",
              "        vertical-align: top;\n",
              "    }\n",
              "\n",
              "    .dataframe thead th {\n",
              "        text-align: right;\n",
              "    }\n",
              "</style>\n",
              "<table border=\"1\" class=\"dataframe\">\n",
              "  <thead>\n",
              "    <tr style=\"text-align: right;\">\n",
              "      <th></th>\n",
              "      <th>Source</th>\n",
              "      <th>Datatype</th>\n",
              "      <th>field_name</th>\n",
              "      <th>attribute</th>\n",
              "      <th>message</th>\n",
              "    </tr>\n",
              "  </thead>\n",
              "  <tbody>\n",
              "    <tr>\n",
              "      <th>0</th>\n",
              "      <td>all</td>\n",
              "      <td>all</td>\n",
              "      <td>data_matrix_available</td>\n",
              "      <td>filter_size</td>\n",
              "      <td>ensure this value is less than or equal to 3000</td>\n",
              "    </tr>\n",
              "  </tbody>\n",
              "</table>\n",
              "</div>"
            ],
            "text/plain": [
              "  Source Datatype             field_name    attribute  \\\n",
              "0    all      all  data_matrix_available  filter_size   \n",
              "\n",
              "                                           message  \n",
              "0  ensure this value is less than or equal to 3000  "
            ]
          },
          "execution_count": 33,
          "metadata": {},
          "output_type": "execute_result"
        }
      ],
      "source": [
        "# test case 17\n",
        "# filter size > 3000 in datamatrix field of source = all, datatype = all\n",
        "\n",
        "with open(\"/import/new_omix_for_refac/new_omix_for_refac.json\",\"r\") as file:\n",
        "    schema_data = json.load(file)\n",
        "\n",
        "omixatlas.validate_schema(schema_data)"
      ]
    },
    {
      "cell_type": "code",
      "execution_count": 34,
      "metadata": {},
      "outputs": [
        {
          "name": "stdout",
          "output_type": "stream",
          "text": [
            "Schema insert/update/replace/validate didn’t go through because there are errors in the schema. Those errors is summarised in the table below: \n",
            "\n",
            "\n",
            "╒════╤══════════╤════════════╤═══════════════════════╤══════════════╤═════════════════════════════════════════════╕\n",
            "│    │ Source   │ Datatype   │ field_name            │ attribute    │ message                                     │\n",
            "╞════╪══════════╪════════════╪═══════════════════════╪══════════════╪═════════════════════════════════════════════╡\n",
            "│  0 │ all      │ all        │ data_matrix_available │ display_name │ ensure this value has at least 1 characters │\n",
            "╘════╧══════════╧════════════╧═══════════════════════╧══════════════╧═════════════════════════════════════════════╛\n"
          ]
        },
        {
          "data": {
            "text/html": [
              "<div>\n",
              "<style scoped>\n",
              "    .dataframe tbody tr th:only-of-type {\n",
              "        vertical-align: middle;\n",
              "    }\n",
              "\n",
              "    .dataframe tbody tr th {\n",
              "        vertical-align: top;\n",
              "    }\n",
              "\n",
              "    .dataframe thead th {\n",
              "        text-align: right;\n",
              "    }\n",
              "</style>\n",
              "<table border=\"1\" class=\"dataframe\">\n",
              "  <thead>\n",
              "    <tr style=\"text-align: right;\">\n",
              "      <th></th>\n",
              "      <th>Source</th>\n",
              "      <th>Datatype</th>\n",
              "      <th>field_name</th>\n",
              "      <th>attribute</th>\n",
              "      <th>message</th>\n",
              "    </tr>\n",
              "  </thead>\n",
              "  <tbody>\n",
              "    <tr>\n",
              "      <th>0</th>\n",
              "      <td>all</td>\n",
              "      <td>all</td>\n",
              "      <td>data_matrix_available</td>\n",
              "      <td>display_name</td>\n",
              "      <td>ensure this value has at least 1 characters</td>\n",
              "    </tr>\n",
              "  </tbody>\n",
              "</table>\n",
              "</div>"
            ],
            "text/plain": [
              "  Source Datatype             field_name     attribute  \\\n",
              "0    all      all  data_matrix_available  display_name   \n",
              "\n",
              "                                       message  \n",
              "0  ensure this value has at least 1 characters  "
            ]
          },
          "execution_count": 34,
          "metadata": {},
          "output_type": "execute_result"
        }
      ],
      "source": [
        "# test case 18\n",
        "# display name < 1  in datamatrix field of source = all, datatype = all\n",
        "\n",
        "with open(\"/import/new_omix_for_refac/new_omix_for_refac.json\",\"r\") as file:\n",
        "    schema_data = json.load(file)\n",
        "\n",
        "omixatlas.validate_schema(schema_data)"
      ]
    },
    {
      "cell_type": "code",
      "execution_count": 35,
      "metadata": {},
      "outputs": [
        {
          "name": "stdout",
          "output_type": "stream",
          "text": [
            "Schema insert/update/replace/validate didn’t go through because there are errors in the schema. Those errors is summarised in the table below: \n",
            "\n",
            "\n",
            "╒════╤══════════╤════════════╤═══════════════════════╤══════════════╤═════════════════════════════════════════════╕\n",
            "│    │ Source   │ Datatype   │ field_name            │ attribute    │ message                                     │\n",
            "╞════╪══════════╪════════════╪═══════════════════════╪══════════════╪═════════════════════════════════════════════╡\n",
            "│  0 │ all      │ all        │ data_matrix_available │ display_name │ ensure this value has at most 50 characters │\n",
            "╘════╧══════════╧════════════╧═══════════════════════╧══════════════╧═════════════════════════════════════════════╛\n"
          ]
        },
        {
          "data": {
            "text/html": [
              "<div>\n",
              "<style scoped>\n",
              "    .dataframe tbody tr th:only-of-type {\n",
              "        vertical-align: middle;\n",
              "    }\n",
              "\n",
              "    .dataframe tbody tr th {\n",
              "        vertical-align: top;\n",
              "    }\n",
              "\n",
              "    .dataframe thead th {\n",
              "        text-align: right;\n",
              "    }\n",
              "</style>\n",
              "<table border=\"1\" class=\"dataframe\">\n",
              "  <thead>\n",
              "    <tr style=\"text-align: right;\">\n",
              "      <th></th>\n",
              "      <th>Source</th>\n",
              "      <th>Datatype</th>\n",
              "      <th>field_name</th>\n",
              "      <th>attribute</th>\n",
              "      <th>message</th>\n",
              "    </tr>\n",
              "  </thead>\n",
              "  <tbody>\n",
              "    <tr>\n",
              "      <th>0</th>\n",
              "      <td>all</td>\n",
              "      <td>all</td>\n",
              "      <td>data_matrix_available</td>\n",
              "      <td>display_name</td>\n",
              "      <td>ensure this value has at most 50 characters</td>\n",
              "    </tr>\n",
              "  </tbody>\n",
              "</table>\n",
              "</div>"
            ],
            "text/plain": [
              "  Source Datatype             field_name     attribute  \\\n",
              "0    all      all  data_matrix_available  display_name   \n",
              "\n",
              "                                       message  \n",
              "0  ensure this value has at most 50 characters  "
            ]
          },
          "execution_count": 35,
          "metadata": {},
          "output_type": "execute_result"
        }
      ],
      "source": [
        "# test case 19\n",
        "# display name > 50 in datamatrix field of source = all, datatype = all\n",
        "\n",
        "\n",
        "with open(\"/import/new_omix_for_refac/new_omix_for_refac.json\",\"r\") as file:\n",
        "    schema_data = json.load(file)\n",
        "\n",
        "omixatlas.validate_schema(schema_data)"
      ]
    },
    {
      "cell_type": "code",
      "execution_count": 36,
      "metadata": {},
      "outputs": [
        {
          "name": "stdout",
          "output_type": "stream",
          "text": [
            "Schema insert/update/replace/validate didn’t go through because there are errors in the schema. Those errors is summarised in the table below: \n",
            "\n",
            "\n",
            "╒════╤══════════╤════════════╤═══════════════════════╤═════════════╤═════════════════════════════════════════════╕\n",
            "│    │ Source   │ Datatype   │ field_name            │ attribute   │ message                                     │\n",
            "╞════╪══════════╪════════════╪═══════════════════════╪═════════════╪═════════════════════════════════════════════╡\n",
            "│  0 │ all      │ all        │ data_matrix_available │ description │ ensure this value has at least 1 characters │\n",
            "╘════╧══════════╧════════════╧═══════════════════════╧═════════════╧═════════════════════════════════════════════╛\n"
          ]
        },
        {
          "data": {
            "text/html": [
              "<div>\n",
              "<style scoped>\n",
              "    .dataframe tbody tr th:only-of-type {\n",
              "        vertical-align: middle;\n",
              "    }\n",
              "\n",
              "    .dataframe tbody tr th {\n",
              "        vertical-align: top;\n",
              "    }\n",
              "\n",
              "    .dataframe thead th {\n",
              "        text-align: right;\n",
              "    }\n",
              "</style>\n",
              "<table border=\"1\" class=\"dataframe\">\n",
              "  <thead>\n",
              "    <tr style=\"text-align: right;\">\n",
              "      <th></th>\n",
              "      <th>Source</th>\n",
              "      <th>Datatype</th>\n",
              "      <th>field_name</th>\n",
              "      <th>attribute</th>\n",
              "      <th>message</th>\n",
              "    </tr>\n",
              "  </thead>\n",
              "  <tbody>\n",
              "    <tr>\n",
              "      <th>0</th>\n",
              "      <td>all</td>\n",
              "      <td>all</td>\n",
              "      <td>data_matrix_available</td>\n",
              "      <td>description</td>\n",
              "      <td>ensure this value has at least 1 characters</td>\n",
              "    </tr>\n",
              "  </tbody>\n",
              "</table>\n",
              "</div>"
            ],
            "text/plain": [
              "  Source Datatype             field_name    attribute  \\\n",
              "0    all      all  data_matrix_available  description   \n",
              "\n",
              "                                       message  \n",
              "0  ensure this value has at least 1 characters  "
            ]
          },
          "execution_count": 36,
          "metadata": {},
          "output_type": "execute_result"
        }
      ],
      "source": [
        "# test case 20\n",
        "# description < 1 in datamatrix field of source = all, datatype = all\n",
        "\n",
        "with open(\"/import/new_omix_for_refac/new_omix_for_refac.json\",\"r\") as file:\n",
        "    schema_data = json.load(file)\n",
        "\n",
        "omixatlas.validate_schema(schema_data)"
      ]
    },
    {
      "cell_type": "code",
      "execution_count": 37,
      "metadata": {},
      "outputs": [
        {
          "name": "stdout",
          "output_type": "stream",
          "text": [
            "Schema insert/update/replace/validate didn’t go through because there are errors in the schema. Those errors is summarised in the table below: \n",
            "\n",
            "\n",
            "╒════╤══════════╤════════════╤═══════════════════════╤═════════════╤═════════════════════════════════════════════════════════════════════════════╕\n",
            "│    │ Source   │ Datatype   │ field_name            │ attribute   │ message                                                                     │\n",
            "╞════╪══════════╪════════════╪═══════════════════════╪═════════════╪═════════════════════════════════════════════════════════════════════════════╡\n",
            "│  0 │ all      │ all        │ data_matrix_available │ is_filter   │ is_keyword is False and is_filter is True for Data Matrix Available Updated │\n",
            "╘════╧══════════╧════════════╧═══════════════════════╧═════════════╧═════════════════════════════════════════════════════════════════════════════╛\n"
          ]
        },
        {
          "data": {
            "text/html": [
              "<div>\n",
              "<style scoped>\n",
              "    .dataframe tbody tr th:only-of-type {\n",
              "        vertical-align: middle;\n",
              "    }\n",
              "\n",
              "    .dataframe tbody tr th {\n",
              "        vertical-align: top;\n",
              "    }\n",
              "\n",
              "    .dataframe thead th {\n",
              "        text-align: right;\n",
              "    }\n",
              "</style>\n",
              "<table border=\"1\" class=\"dataframe\">\n",
              "  <thead>\n",
              "    <tr style=\"text-align: right;\">\n",
              "      <th></th>\n",
              "      <th>Source</th>\n",
              "      <th>Datatype</th>\n",
              "      <th>field_name</th>\n",
              "      <th>attribute</th>\n",
              "      <th>message</th>\n",
              "    </tr>\n",
              "  </thead>\n",
              "  <tbody>\n",
              "    <tr>\n",
              "      <th>0</th>\n",
              "      <td>all</td>\n",
              "      <td>all</td>\n",
              "      <td>data_matrix_available</td>\n",
              "      <td>is_filter</td>\n",
              "      <td>is_keyword is False and is_filter is True for ...</td>\n",
              "    </tr>\n",
              "  </tbody>\n",
              "</table>\n",
              "</div>"
            ],
            "text/plain": [
              "  Source Datatype             field_name  attribute  \\\n",
              "0    all      all  data_matrix_available  is_filter   \n",
              "\n",
              "                                             message  \n",
              "0  is_keyword is False and is_filter is True for ...  "
            ]
          },
          "execution_count": 37,
          "metadata": {},
          "output_type": "execute_result"
        }
      ],
      "source": [
        "# test case 20\n",
        "\n",
        "# is_filter = 1 then is_keyword should also be 1 in datamatrix field of source = all, datatype = all\n",
        "\n",
        "with open(\"/import/new_omix_for_refac/new_omix_for_refac.json\",\"r\") as file:\n",
        "    schema_data = json.load(file)\n",
        "\n",
        "omixatlas.validate_schema(schema_data)"
      ]
    },
    {
      "cell_type": "code",
      "execution_count": 38,
      "metadata": {},
      "outputs": [
        {
          "name": "stdout",
          "output_type": "stream",
          "text": [
            "Schema insert/update/replace/validate didn’t go through because there are errors in the schema. Those errors is summarised in the table below: \n",
            "\n",
            "\n",
            "╒════╤══════════╤════════════╤═══════════════════════╤═════════════╤══════════════════════════════════════════════════════════════════════════════╕\n",
            "│    │ Source   │ Datatype   │ field_name            │ attribute   │ message                                                                      │\n",
            "╞════╪══════════╪════════════╪═══════════════════════╪═════════════╪══════════════════════════════════════════════════════════════════════════════╡\n",
            "│  0 │ all      │ all        │ data_matrix_available │ is_filter   │ is_filter is False and is_ontology is True for Data Matrix Available Updated │\n",
            "╘════╧══════════╧════════════╧═══════════════════════╧═════════════╧══════════════════════════════════════════════════════════════════════════════╛\n"
          ]
        },
        {
          "data": {
            "text/html": [
              "<div>\n",
              "<style scoped>\n",
              "    .dataframe tbody tr th:only-of-type {\n",
              "        vertical-align: middle;\n",
              "    }\n",
              "\n",
              "    .dataframe tbody tr th {\n",
              "        vertical-align: top;\n",
              "    }\n",
              "\n",
              "    .dataframe thead th {\n",
              "        text-align: right;\n",
              "    }\n",
              "</style>\n",
              "<table border=\"1\" class=\"dataframe\">\n",
              "  <thead>\n",
              "    <tr style=\"text-align: right;\">\n",
              "      <th></th>\n",
              "      <th>Source</th>\n",
              "      <th>Datatype</th>\n",
              "      <th>field_name</th>\n",
              "      <th>attribute</th>\n",
              "      <th>message</th>\n",
              "    </tr>\n",
              "  </thead>\n",
              "  <tbody>\n",
              "    <tr>\n",
              "      <th>0</th>\n",
              "      <td>all</td>\n",
              "      <td>all</td>\n",
              "      <td>data_matrix_available</td>\n",
              "      <td>is_filter</td>\n",
              "      <td>is_filter is False and is_ontology is True for...</td>\n",
              "    </tr>\n",
              "  </tbody>\n",
              "</table>\n",
              "</div>"
            ],
            "text/plain": [
              "  Source Datatype             field_name  attribute  \\\n",
              "0    all      all  data_matrix_available  is_filter   \n",
              "\n",
              "                                             message  \n",
              "0  is_filter is False and is_ontology is True for...  "
            ]
          },
          "execution_count": 38,
          "metadata": {},
          "output_type": "execute_result"
        }
      ],
      "source": [
        "# test case 21\n",
        "# in datamatrix field of source = all, datatype = all\n",
        "\n",
        "# is ontology = 1 then is_filter = 1 and is_keyword = 1 \n",
        "# currently\n",
        "# is ontology = 1 and  is_filter =0  and is_keyword = 0\n",
        "\n",
        "with open(\"/import/new_omix_for_refac/new_omix_for_refac.json\",\"r\") as file:\n",
        "    schema_data = json.load(file)\n",
        "\n",
        "omixatlas.validate_schema(schema_data)"
      ]
    },
    {
      "cell_type": "code",
      "execution_count": 39,
      "metadata": {},
      "outputs": [
        {
          "name": "stdout",
          "output_type": "stream",
          "text": [
            "Schema insert/update/replace/validate didn’t go through because there are errors in the schema. Those errors is summarised in the table below: \n",
            "\n",
            "\n",
            "╒════╤══════════╤════════════╤═══════════════════════╤═════════════╤═════════════════════════════════════════════════════════════════════════════╕\n",
            "│    │ Source   │ Datatype   │ field_name            │ attribute   │ message                                                                     │\n",
            "╞════╪══════════╪════════════╪═══════════════════════╪═════════════╪═════════════════════════════════════════════════════════════════════════════╡\n",
            "│  0 │ all      │ all        │ data_matrix_available │ is_filter   │ is_keyword is False and is_filter is True for Data Matrix Available Updated │\n",
            "╘════╧══════════╧════════════╧═══════════════════════╧═════════════╧═════════════════════════════════════════════════════════════════════════════╛\n"
          ]
        },
        {
          "data": {
            "text/html": [
              "<div>\n",
              "<style scoped>\n",
              "    .dataframe tbody tr th:only-of-type {\n",
              "        vertical-align: middle;\n",
              "    }\n",
              "\n",
              "    .dataframe tbody tr th {\n",
              "        vertical-align: top;\n",
              "    }\n",
              "\n",
              "    .dataframe thead th {\n",
              "        text-align: right;\n",
              "    }\n",
              "</style>\n",
              "<table border=\"1\" class=\"dataframe\">\n",
              "  <thead>\n",
              "    <tr style=\"text-align: right;\">\n",
              "      <th></th>\n",
              "      <th>Source</th>\n",
              "      <th>Datatype</th>\n",
              "      <th>field_name</th>\n",
              "      <th>attribute</th>\n",
              "      <th>message</th>\n",
              "    </tr>\n",
              "  </thead>\n",
              "  <tbody>\n",
              "    <tr>\n",
              "      <th>0</th>\n",
              "      <td>all</td>\n",
              "      <td>all</td>\n",
              "      <td>data_matrix_available</td>\n",
              "      <td>is_filter</td>\n",
              "      <td>is_keyword is False and is_filter is True for ...</td>\n",
              "    </tr>\n",
              "  </tbody>\n",
              "</table>\n",
              "</div>"
            ],
            "text/plain": [
              "  Source Datatype             field_name  attribute  \\\n",
              "0    all      all  data_matrix_available  is_filter   \n",
              "\n",
              "                                             message  \n",
              "0  is_keyword is False and is_filter is True for ...  "
            ]
          },
          "execution_count": 39,
          "metadata": {},
          "output_type": "execute_result"
        }
      ],
      "source": [
        "# test case 22\n",
        "# in datamatrix field of source = all, datatype = all\n",
        "\n",
        "# is ontology = 1 then is_filter = 1 and is_keyword = 1 \n",
        "# currently\n",
        "# is ontology = 1 ,is_filter = 1 and is_keyword = 0\n",
        "\n",
        "with open(\"/import/new_omix_for_refac/new_omix_for_refac.json\",\"r\") as file:\n",
        "    schema_data = json.load(file)\n",
        "\n",
        "omixatlas.validate_schema(schema_data)"
      ]
    },
    {
      "cell_type": "code",
      "execution_count": null,
      "metadata": {},
      "outputs": [],
      "source": []
    }
  ],
  "metadata": {
    "kernelspec": {
      "display_name": "Python 3 (ipykernel)",
      "language": "python",
      "name": "python3"
    },
    "language_info": {
      "codemirror_mode": {
        "name": "ipython",
        "version": 3
      },
      "file_extension": ".py",
      "mimetype": "text/x-python",
      "name": "python",
      "nbconvert_exporter": "python",
      "pygments_lexer": "ipython3",
      "version": "3.10.2"
    }
  },
  "nbformat": 4,
  "nbformat_minor": 2
}