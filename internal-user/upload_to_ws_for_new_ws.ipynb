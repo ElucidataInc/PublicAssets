{
 "cells": [
  {
   "cell_type": "code",
   "execution_count": 1,
   "id": "aabd7dd1",
   "metadata": {},
   "outputs": [
    {
     "name": "stdout",
     "output_type": "stream",
     "text": [
      "Collecting polly-python==4.1.0\n",
      "  Downloading https://elucidatainc.github.io/PublicAssets/builds/polly-python/polly_python-4.1.0-py3-none-any.whl (157 kB)\n",
      "\u001b[2K     \u001b[90m━━━━━━━━━━━━━━━━━━━━━━━━━━━━━━━━━━━━━━━\u001b[0m \u001b[32m157.5/157.5 kB\u001b[0m \u001b[31m6.0 MB/s\u001b[0m eta \u001b[36m0:00:00\u001b[0m\n",
      "\u001b[?25hRequirement already satisfied: rst2txt==1.1.0 in ./.environments/miniconda/envs/polly/lib/python3.10/site-packages (from polly-python==4.1.0) (1.1.0)\n",
      "Requirement already satisfied: python-jose==3.3.0 in ./.environments/miniconda/envs/polly/lib/python3.10/site-packages (from polly-python==4.1.0) (3.3.0)\n",
      "Requirement already satisfied: tqdm==4.65.0 in ./.environments/miniconda/envs/polly/lib/python3.10/site-packages (from polly-python==4.1.0) (4.65.0)\n",
      "Requirement already satisfied: pydantic==1.10.12 in ./.environments/miniconda/envs/polly/lib/python3.10/site-packages (from polly-python==4.1.0) (1.10.12)\n",
      "Requirement already satisfied: pytest>=6.2.5 in ./.environments/miniconda/envs/polly/lib/python3.10/site-packages (from polly-python==4.1.0) (7.4.3)\n",
      "Requirement already satisfied: mixpanel==4.10.0 in ./.environments/miniconda/envs/polly/lib/python3.10/site-packages (from polly-python==4.1.0) (4.10.0)\n",
      "Requirement already satisfied: pandas<=2.2.2,>=1.3.5 in ./.environments/miniconda/envs/polly/lib/python3.10/site-packages (from polly-python==4.1.0) (1.5.3)\n",
      "Requirement already satisfied: botocore<2.0,>=1.27.0 in ./.environments/miniconda/envs/polly/lib/python3.10/site-packages (from polly-python==4.1.0) (1.31.40)\n",
      "Requirement already satisfied: numpy<=1.26.4 in ./.environments/miniconda/envs/polly/lib/python3.10/site-packages (from polly-python==4.1.0) (1.25.2)\n",
      "Requirement already satisfied: cryptography<=38.0.0,>=37.0.1 in ./.environments/miniconda/envs/polly/lib/python3.10/site-packages (from polly-python==4.1.0) (38.0.0)\n",
      "Requirement already satisfied: plotly>=5.0.0 in ./.environments/miniconda/envs/polly/lib/python3.10/site-packages (from polly-python==4.1.0) (5.18.0)\n",
      "Requirement already satisfied: tabulate==0.9.0 in ./.environments/miniconda/envs/polly/lib/python3.10/site-packages (from polly-python==4.1.0) (0.9.0)\n",
      "Requirement already satisfied: retrying==1.3.4 in ./.environments/miniconda/envs/polly/lib/python3.10/site-packages (from polly-python==4.1.0) (1.3.4)\n",
      "Requirement already satisfied: Deprecated>=1.2.12 in ./.environments/miniconda/envs/polly/lib/python3.10/site-packages (from polly-python==4.1.0) (1.2.14)\n",
      "Requirement already satisfied: boto3<2.0,>=1.24.0 in ./.environments/miniconda/envs/polly/lib/python3.10/site-packages (from polly-python==4.1.0) (1.28.40)\n",
      "Requirement already satisfied: requests==2.28.1 in ./.environments/miniconda/envs/polly/lib/python3.10/site-packages (from polly-python==4.1.0) (2.28.1)\n",
      "Requirement already satisfied: cmapPy<=4.0.1 in ./.environments/miniconda/envs/polly/lib/python3.10/site-packages (from polly-python==4.1.0) (4.0.1)\n",
      "Requirement already satisfied: cloudpathlib>=0.15.0 in ./.environments/miniconda/envs/polly/lib/python3.10/site-packages (from polly-python==4.1.0) (0.16.0)\n",
      "Requirement already satisfied: joblib>=1.2.0 in ./.environments/miniconda/envs/polly/lib/python3.10/site-packages (from polly-python==4.1.0) (1.3.2)\n",
      "Requirement already satisfied: six>=1.9.0 in ./.environments/miniconda/envs/polly/lib/python3.10/site-packages (from mixpanel==4.10.0->polly-python==4.1.0) (1.16.0)\n",
      "Requirement already satisfied: urllib3 in ./.environments/miniconda/envs/polly/lib/python3.10/site-packages (from mixpanel==4.10.0->polly-python==4.1.0) (1.26.16)\n",
      "Requirement already satisfied: typing-extensions>=4.2.0 in ./.environments/miniconda/envs/polly/lib/python3.10/site-packages (from pydantic==1.10.12->polly-python==4.1.0) (4.7.1)\n",
      "Requirement already satisfied: pyasn1 in ./.environments/miniconda/envs/polly/lib/python3.10/site-packages (from python-jose==3.3.0->polly-python==4.1.0) (0.5.0)\n",
      "Requirement already satisfied: rsa in ./.environments/miniconda/envs/polly/lib/python3.10/site-packages (from python-jose==3.3.0->polly-python==4.1.0) (4.7.2)\n",
      "Requirement already satisfied: ecdsa!=0.15 in ./.environments/miniconda/envs/polly/lib/python3.10/site-packages (from python-jose==3.3.0->polly-python==4.1.0) (0.18.0)\n",
      "Requirement already satisfied: certifi>=2017.4.17 in ./.environments/miniconda/envs/polly/lib/python3.10/site-packages (from requests==2.28.1->polly-python==4.1.0) (2023.7.22)\n",
      "Requirement already satisfied: idna<4,>=2.5 in ./.environments/miniconda/envs/polly/lib/python3.10/site-packages (from requests==2.28.1->polly-python==4.1.0) (2.10)\n",
      "Requirement already satisfied: charset-normalizer<3,>=2 in ./.environments/miniconda/envs/polly/lib/python3.10/site-packages (from requests==2.28.1->polly-python==4.1.0) (2.1.1)\n",
      "Requirement already satisfied: docutils>=0.11 in ./.environments/miniconda/envs/polly/lib/python3.10/site-packages (from rst2txt==1.1.0->polly-python==4.1.0) (0.16)\n",
      "Requirement already satisfied: pygments in ./.environments/miniconda/envs/polly/lib/python3.10/site-packages (from rst2txt==1.1.0->polly-python==4.1.0) (2.16.1)\n",
      "Requirement already satisfied: jmespath<2.0.0,>=0.7.1 in ./.environments/miniconda/envs/polly/lib/python3.10/site-packages (from boto3<2.0,>=1.24.0->polly-python==4.1.0) (1.0.1)\n",
      "Requirement already satisfied: s3transfer<0.7.0,>=0.6.0 in ./.environments/miniconda/envs/polly/lib/python3.10/site-packages (from boto3<2.0,>=1.24.0->polly-python==4.1.0) (0.6.2)\n",
      "Requirement already satisfied: python-dateutil<3.0.0,>=2.1 in ./.environments/miniconda/envs/polly/lib/python3.10/site-packages (from botocore<2.0,>=1.27.0->polly-python==4.1.0) (2.8.2)\n",
      "Requirement already satisfied: h5py>=2.6.0 in ./.environments/miniconda/envs/polly/lib/python3.10/site-packages (from cmapPy<=4.0.1->polly-python==4.1.0) (3.10.0)\n",
      "Requirement already satisfied: cffi>=1.12 in ./.environments/miniconda/envs/polly/lib/python3.10/site-packages (from cryptography<=38.0.0,>=37.0.1->polly-python==4.1.0) (1.15.1)\n",
      "Requirement already satisfied: wrapt<2,>=1.10 in ./.environments/miniconda/envs/polly/lib/python3.10/site-packages (from Deprecated>=1.2.12->polly-python==4.1.0) (1.16.0)\n",
      "Requirement already satisfied: pytz>=2020.1 in ./.environments/miniconda/envs/polly/lib/python3.10/site-packages (from pandas<=2.2.2,>=1.3.5->polly-python==4.1.0) (2023.3)\n",
      "Requirement already satisfied: packaging in ./.environments/miniconda/envs/polly/lib/python3.10/site-packages (from plotly>=5.0.0->polly-python==4.1.0) (23.1)\n",
      "Requirement already satisfied: tenacity>=6.2.0 in ./.environments/miniconda/envs/polly/lib/python3.10/site-packages (from plotly>=5.0.0->polly-python==4.1.0) (8.2.3)\n",
      "Requirement already satisfied: tomli>=1.0.0 in ./.environments/miniconda/envs/polly/lib/python3.10/site-packages (from pytest>=6.2.5->polly-python==4.1.0) (2.0.1)\n",
      "Requirement already satisfied: pluggy<2.0,>=0.12 in ./.environments/miniconda/envs/polly/lib/python3.10/site-packages (from pytest>=6.2.5->polly-python==4.1.0) (1.3.0)\n",
      "Requirement already satisfied: exceptiongroup>=1.0.0rc8 in ./.environments/miniconda/envs/polly/lib/python3.10/site-packages (from pytest>=6.2.5->polly-python==4.1.0) (1.1.3)\n",
      "Requirement already satisfied: iniconfig in ./.environments/miniconda/envs/polly/lib/python3.10/site-packages (from pytest>=6.2.5->polly-python==4.1.0) (2.0.0)\n",
      "Requirement already satisfied: pycparser in ./.environments/miniconda/envs/polly/lib/python3.10/site-packages (from cffi>=1.12->cryptography<=38.0.0,>=37.0.1->polly-python==4.1.0) (2.21)\n",
      "Installing collected packages: polly-python\n",
      "  Attempting uninstall: polly-python\n",
      "    Found existing installation: polly_python 3.0.0\n",
      "    Uninstalling polly_python-3.0.0:\n",
      "      Successfully uninstalled polly_python-3.0.0\n",
      "Successfully installed polly-python-4.1.0\n",
      "Note: you may need to restart the kernel to use updated packages.\n"
     ]
    }
   ],
   "source": [
    "pip install https://elucidatainc.github.io/PublicAssets/builds/polly-python/polly_python-4.1.0-py3-none-any.whl"
   ]
  },
  {
   "cell_type": "code",
   "execution_count": 4,
   "id": "5c693f2d",
   "metadata": {},
   "outputs": [],
   "source": [
    "import os\n",
    "from polly.auth import Polly\n",
    "from polly.workspaces import Workspaces\n",
    "API_KEY = \"\"\n",
    "Polly.auth(API_KEY, env=\"testpolly\")\n",
    "w = Workspaces()"
   ]
  },
  {
   "cell_type": "code",
   "execution_count": 7,
   "id": "9c8f0ba7",
   "metadata": {},
   "outputs": [
    {
     "name": "stderr",
     "output_type": "stream",
     "text": [
      "INFO:root:Upload successful on workspace-id=16667.\n"
     ]
    }
   ],
   "source": [
    "w.upload_to_workspaces(16667, \"/\", \"/import/README.md\")"
   ]
  },
  {
   "cell_type": "code",
   "execution_count": 8,
   "id": "beaaf5e0",
   "metadata": {},
   "outputs": [
    {
     "name": "stderr",
     "output_type": "stream",
     "text": [
      "INFO:root:Upload successful on workspace-id=16667.\n"
     ]
    }
   ],
   "source": [
    "w.upload_to_workspaces(16667, \"/\", \"/import/folder1\")"
   ]
  },
  {
   "cell_type": "code",
   "execution_count": null,
   "id": "864731c1",
   "metadata": {},
   "outputs": [],
   "source": []
  }
 ],
 "metadata": {
  "kernelspec": {
   "display_name": "Python 3",
   "language": "python",
   "name": "python3"
  },
  "language_info": {
   "codemirror_mode": {
    "name": "ipython",
    "version": 3
   },
   "file_extension": ".py",
   "mimetype": "text/x-python",
   "name": "python",
   "nbconvert_exporter": "python",
   "pygments_lexer": "ipython3",
   "version": "3.10.6"
  }
 },
 "nbformat": 4,
 "nbformat_minor": 5
}
