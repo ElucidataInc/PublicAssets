{
  "cells": [
    {
      "cell_type": "markdown",
      "metadata": {
        "colab_type": "text",
        "id": "view-in-github"
      },
      "source": [
        "<a href=\"https://polly.elucidata.io/manage/workspaces?action=open_polly_notebook&source=github&path=path_place_holder&kernel=elucidata/Python 3.10&machine=medium\" target=\"_parent\"><img src=\"https://elucidatainc.github.io/PublicAssets/open_polly.svg\" alt=\"Open in Polly\"/></a>\n"
      ]
    },
    {
      "cell_type": "markdown",
      "metadata": {},
      "source": [
        "# Welcome to Polly Python3 Notebook."
      ]
    },
    {
      "cell_type": "code",
      "execution_count": 10,
      "metadata": {},
      "outputs": [
        {
          "name": "stdout",
          "output_type": "stream",
          "text": [
            "/bin/bash: warning: setlocale: LC_ALL: cannot change locale (en_US.UTF-8)\n",
            "Collecting polly-python==0.2.3\n",
            "  Downloading https://elucidatainc.github.io/PublicAssets/builds/polly-python/tests/devpolly/polly_python-0.2.3-py3-none-any.whl (110 kB)\n",
            "\u001b[K     |████████████████████████████████| 110 kB 5.6 MB/s eta 0:00:01\n",
            "\u001b[?25hRequirement already satisfied: pytz==2021.1 in /usr/local/lib/python3.10/site-packages (from polly-python==0.2.3) (2021.1)\n",
            "Requirement already satisfied: botocore>=1.20.73 in /usr/local/lib/python3.10/site-packages (from polly-python==0.2.3) (1.24.19)\n",
            "Requirement already satisfied: rst2txt in /usr/local/lib/python3.10/site-packages (from polly-python==0.2.3) (1.1.0)\n",
            "Requirement already satisfied: tqdm in /usr/local/lib/python3.10/site-packages (from polly-python==0.2.3) (4.64.0)\n",
            "Requirement already satisfied: sqlparse in /usr/local/lib/python3.10/site-packages (from polly-python==0.2.3) (0.4.3)\n",
            "Collecting python-jose>=3.3.0\n",
            "  Downloading python_jose-3.3.0-py2.py3-none-any.whl (33 kB)\n",
            "Collecting plotly\n",
            "  Downloading plotly-5.10.0-py2.py3-none-any.whl (15.2 MB)\n",
            "\u001b[K     |████████████████████████████████| 15.2 MB 6.3 MB/s eta 0:00:01\n",
            "\u001b[?25hRequirement already satisfied: pandas in /usr/local/lib/python3.10/site-packages (from polly-python==0.2.3) (1.4.1)\n",
            "Requirement already satisfied: python-dateutil in /usr/local/lib/python3.10/site-packages (from polly-python==0.2.3) (2.8.1)\n",
            "Requirement already satisfied: postpy2==0.0.6 in /usr/local/lib/python3.10/site-packages (from polly-python==0.2.3) (0.0.6)\n",
            "Collecting beautifulsoup4\n",
            "  Downloading beautifulsoup4-4.11.1-py3-none-any.whl (128 kB)\n",
            "\u001b[K     |████████████████████████████████| 128 kB 133.6 MB/s eta 0:00:01\n",
            "\u001b[?25hRequirement already satisfied: boto3>=1.17.73 in /usr/local/lib/python3.10/site-packages (from polly-python==0.2.3) (1.21.19)\n",
            "Requirement already satisfied: urllib3==1.26.6 in /usr/local/lib/python3.10/site-packages (from polly-python==0.2.3) (1.26.6)\n",
            "Requirement already satisfied: python-magic==0.4.24 in /usr/local/lib/python3.10/site-packages (from polly-python==0.2.3) (0.4.24)\n",
            "Requirement already satisfied: idna==2.10 in /usr/local/lib/python3.10/site-packages (from polly-python==0.2.3) (2.10)\n",
            "Requirement already satisfied: chardet==4.0.0 in /usr/local/lib/python3.10/site-packages (from polly-python==0.2.3) (4.0.0)\n",
            "Collecting elucidatacmapPy==3.3.4\n",
            "  Downloading elucidatacmapPy-3.3.4-py3-none-any.whl (134 kB)\n",
            "\u001b[K     |████████████████████████████████| 134 kB 131.6 MB/s eta 0:00:01\n",
            "\u001b[?25hRequirement already satisfied: requests==2.25.1 in /usr/local/lib/python3.10/site-packages (from polly-python==0.2.3) (2.25.1)\n",
            "Requirement already satisfied: six==1.16.0 in /usr/local/lib/python3.10/site-packages (from polly-python==0.2.3) (1.16.0)\n",
            "Requirement already satisfied: certifi==2021.10.8 in /usr/local/lib/python3.10/site-packages (from polly-python==0.2.3) (2021.10.8)\n",
            "Requirement already satisfied: retrying==1.3.3 in /usr/local/lib/python3.10/site-packages (from polly-python==0.2.3) (1.3.3)\n",
            "Collecting pydantic==1.9.1\n",
            "  Downloading pydantic-1.9.1-cp310-cp310-manylinux_2_17_x86_64.manylinux2014_x86_64.whl (12.0 MB)\n",
            "\u001b[K     |████████████████████████████████| 12.0 MB 136.4 MB/s eta 0:00:01\n",
            "\u001b[?25hRequirement already satisfied: joblib in /usr/local/lib/python3.10/site-packages (from polly-python==0.2.3) (1.2.0)\n",
            "Collecting pytest\n",
            "  Downloading pytest-7.1.3-py3-none-any.whl (298 kB)\n",
            "\u001b[K     |████████████████████████████████| 298 kB 133.7 MB/s eta 0:00:01\n",
            "\u001b[?25hRequirement already satisfied: Deprecated in /usr/local/lib/python3.10/site-packages (from polly-python==0.2.3) (1.2.13)\n",
            "Requirement already satisfied: elucidatacloudpathlib==0.6.6 in /usr/local/lib/python3.10/site-packages (from polly-python==0.2.3) (0.6.6)\n",
            "Collecting datapane\n",
            "  Downloading datapane-0.15.3-py3-none-any.whl (3.5 MB)\n",
            "\u001b[K     |████████████████████████████████| 3.5 MB 139.1 MB/s eta 0:00:01\n",
            "\u001b[?25hRequirement already satisfied: Cerberus==1.3.2 in /usr/local/lib/python3.10/site-packages (from polly-python==0.2.3) (1.3.2)\n",
            "Requirement already satisfied: setuptools in /usr/local/lib/python3.10/site-packages (from Cerberus==1.3.2->polly-python==0.2.3) (58.1.0)\n",
            "Requirement already satisfied: numpy>=1.11.2 in /usr/local/lib/python3.10/site-packages (from elucidatacmapPy==3.3.4->polly-python==0.2.3) (1.22.3)\n",
            "Requirement already satisfied: h5py>=2.6.0 in /usr/local/lib/python3.10/site-packages (from elucidatacmapPy==3.3.4->polly-python==0.2.3) (3.7.0)\n",
            "Collecting typing-extensions>=3.7.4.3\n",
            "  Downloading typing_extensions-4.4.0-py3-none-any.whl (26 kB)\n",
            "Requirement already satisfied: jmespath<1.0.0,>=0.7.1 in /usr/local/lib/python3.10/site-packages (from boto3>=1.17.73->polly-python==0.2.3) (0.10.0)\n",
            "Requirement already satisfied: s3transfer<0.6.0,>=0.5.0 in /usr/local/lib/python3.10/site-packages (from boto3>=1.17.73->polly-python==0.2.3) (0.5.2)\n",
            "Requirement already satisfied: rsa in /usr/local/lib/python3.10/site-packages (from python-jose>=3.3.0->polly-python==0.2.3) (4.7.2)\n",
            "Requirement already satisfied: pyasn1 in /usr/local/lib/python3.10/site-packages (from python-jose>=3.3.0->polly-python==0.2.3) (0.4.8)\n",
            "Collecting ecdsa!=0.15\n",
            "  Downloading ecdsa-0.18.0-py2.py3-none-any.whl (142 kB)\n",
            "\u001b[K     |████████████████████████████████| 142 kB 142.6 MB/s eta 0:00:01\n",
            "\u001b[?25hCollecting soupsieve>1.2\n",
            "  Downloading soupsieve-2.3.2.post1-py3-none-any.whl (37 kB)\n",
            "Collecting datacommons<2.0.0,>=1.4.3\n",
            "  Downloading datacommons-1.4.3-py3-none-any.whl (46 kB)\n",
            "\u001b[K     |████████████████████████████████| 46 kB 11.3 MB/s  eta 0:00:01\n",
            "\u001b[?25hCollecting furl<3.0.0,>=2.0.0\n",
            "  Downloading furl-2.1.3-py2.py3-none-any.whl (20 kB)\n",
            "Collecting lxml<5.0.0,>=4.0.0\n",
            "  Downloading lxml-4.9.1-cp310-cp310-manylinux_2_17_x86_64.manylinux2014_x86_64.manylinux_2_24_x86_64.whl (6.9 MB)\n",
            "\u001b[K     |████████████████████████████████| 6.9 MB 115.0 MB/s eta 0:00:01\n",
            "\u001b[?25hRequirement already satisfied: packaging<22.0.0,>=20.0.0 in /usr/local/lib/python3.10/site-packages (from datapane->polly-python==0.2.3) (21.3)\n",
            "Collecting posthog<3.0.0,>=1.4.0\n",
            "  Downloading posthog-2.1.2-py2.py3-none-any.whl (32 kB)\n",
            "Collecting click-spinner<0.2.0,>=0.1.8\n",
            "  Downloading click_spinner-0.1.10-py2.py3-none-any.whl (4.0 kB)\n",
            "Collecting munch<3.0.0,>=2.3.0\n",
            "  Downloading munch-2.5.0-py2.py3-none-any.whl (10 kB)\n",
            "Collecting vega-datasets<1.0.0,>=0.9.0\n",
            "  Downloading vega_datasets-0.9.0-py3-none-any.whl (210 kB)\n",
            "\u001b[K     |████████████████████████████████| 210 kB 143.8 MB/s eta 0:00:01\n",
            "\u001b[?25hCollecting dacite<2.0.0,>=1.0.2\n",
            "  Downloading dacite-1.6.0-py3-none-any.whl (12 kB)\n",
            "Requirement already satisfied: PyYAML<7.0.0,>=5.4.0 in /usr/local/lib/python3.10/site-packages (from datapane->polly-python==0.2.3) (5.4.1)\n",
            "Collecting stringcase<2.0.0,>=1.2.0\n",
            "  Downloading stringcase-1.2.0.tar.gz (3.0 kB)\n",
            "Collecting altair<5.0.0,>=4.0.0\n",
            "  Downloading altair-4.2.0-py3-none-any.whl (812 kB)\n",
            "\u001b[K     |████████████████████████████████| 812 kB 84.4 MB/s eta 0:00:01\n",
            "\u001b[?25hRequirement already satisfied: nbconvert<7.0.0,>=6.1.0 in /usr/local/lib/python3.10/site-packages (from datapane->polly-python==0.2.3) (6.3.0)\n",
            "Requirement already satisfied: Jinja2<4.0.0,>=3.0.0 in /usr/local/lib/python3.10/site-packages (from datapane->polly-python==0.2.3) (3.0.3)\n",
            "Collecting colorlog<7.0.0,>=4.1.0\n",
            "  Downloading colorlog-6.7.0-py2.py3-none-any.whl (11 kB)\n",
            "Requirement already satisfied: click<9.0.0,>=7.1.0 in /usr/local/lib/python3.10/site-packages (from datapane->polly-python==0.2.3) (8.1.3)\n",
            "Collecting boltons<22.0.0,>=20.0.0\n",
            "  Downloading boltons-21.0.0-py2.py3-none-any.whl (193 kB)\n",
            "\u001b[K     |████████████████████████████████| 193 kB 139.0 MB/s eta 0:00:01\n",
            "\u001b[?25hCollecting pyarrow<7.0.0,>=3.0.0\n",
            "  Downloading pyarrow-6.0.1-cp310-cp310-manylinux_2_17_x86_64.manylinux2014_x86_64.whl (25.6 MB)\n",
            "\u001b[K     |████████████████████████████████| 25.6 MB 110.6 MB/s eta 0:00:01\n",
            "\u001b[?25hCollecting requests-toolbelt<0.10.0,>=0.9.1\n",
            "  Downloading requests_toolbelt-0.9.1-py2.py3-none-any.whl (54 kB)\n",
            "\u001b[K     |████████████████████████████████| 54 kB 7.3 MB/s s eta 0:00:01\n",
            "\u001b[?25hCollecting dulwich<0.21.0,>=0.20.0\n",
            "  Downloading dulwich-0.20.46-cp310-cp310-manylinux_2_17_x86_64.manylinux2014_x86_64.whl (497 kB)\n",
            "\u001b[K     |████████████████████████████████| 497 kB 117.2 MB/s eta 0:00:01\n"
          ]
        },
        {
          "name": "stdout",
          "output_type": "stream",
          "text": [
            "\u001b[?25hCollecting importlib_resources<6.0.0,>=3.0.0\n",
            "  Downloading importlib_resources-5.10.0-py3-none-any.whl (34 kB)\n",
            "Requirement already satisfied: jsonschema<5.0.0,>=3.2.0 in /usr/local/lib/python3.10/site-packages (from datapane->polly-python==0.2.3) (4.2.1)\n",
            "Collecting datacommons-pandas<0.0.4,>=0.0.3\n",
            "  Downloading datacommons_pandas-0.0.3-py3-none-any.whl (45 kB)\n",
            "\u001b[K     |████████████████████████████████| 45 kB 9.7 MB/s  eta 0:00:01\n",
            "\u001b[?25hCollecting micawber>=0.5.0\n",
            "  Downloading micawber-0.5.4.tar.gz (18 kB)\n",
            "Requirement already satisfied: tabulate<0.9.0,>=0.8.0 in /usr/local/lib/python3.10/site-packages (from datapane->polly-python==0.2.3) (0.8.9)\n",
            "Collecting glom<23.0.0,>=20.11.0\n",
            "  Downloading glom-22.1.0-py2.py3-none-any.whl (100 kB)\n",
            "\u001b[K     |████████████████████████████████| 100 kB 27.2 MB/s eta 0:00:01\n",
            "\u001b[?25hCollecting dominate<3.0.0,>=2.4.0\n",
            "  Downloading dominate-2.7.0-py2.py3-none-any.whl (29 kB)\n",
            "Collecting validators<0.21.0,>=0.18.0\n",
            "  Downloading validators-0.20.0.tar.gz (30 kB)\n",
            "Collecting toolz<0.13.0,>=0.11.0\n",
            "  Downloading toolz-0.12.0-py3-none-any.whl (55 kB)\n",
            "\u001b[K     |████████████████████████████████| 55 kB 10.1 MB/s  eta 0:00:01\n",
            "\u001b[?25hRequirement already satisfied: entrypoints in /usr/local/lib/python3.10/site-packages (from altair<5.0.0,>=4.0.0->datapane->polly-python==0.2.3) (0.3)\n",
            "Collecting orderedmultidict>=1.0.1\n",
            "  Downloading orderedmultidict-1.0.1-py2.py3-none-any.whl (11 kB)\n",
            "Requirement already satisfied: attrs in /usr/local/lib/python3.10/site-packages (from glom<23.0.0,>=20.11.0->datapane->polly-python==0.2.3) (21.2.0)\n",
            "Collecting face>=20.1.0\n",
            "  Downloading face-22.0.0-py3-none-any.whl (54 kB)\n",
            "\u001b[K     |████████████████████████████████| 54 kB 8.3 MB/s s eta 0:00:01\n",
            "\u001b[?25hRequirement already satisfied: MarkupSafe>=2.0 in /usr/local/lib/python3.10/site-packages (from Jinja2<4.0.0,>=3.0.0->datapane->polly-python==0.2.3) (2.0.1)\n",
            "Requirement already satisfied: pyrsistent!=0.17.0,!=0.17.1,!=0.17.2,>=0.14.0 in /usr/local/lib/python3.10/site-packages (from jsonschema<5.0.0,>=3.2.0->datapane->polly-python==0.2.3) (0.18.0)\n",
            "Requirement already satisfied: nbclient<0.6.0,>=0.5.0 in /usr/local/lib/python3.10/site-packages (from nbconvert<7.0.0,>=6.1.0->datapane->polly-python==0.2.3) (0.5.13)\n",
            "Requirement already satisfied: pandocfilters>=1.4.1 in /usr/local/lib/python3.10/site-packages (from nbconvert<7.0.0,>=6.1.0->datapane->polly-python==0.2.3) (1.5.0)\n",
            "Requirement already satisfied: nbformat>=4.4 in /usr/local/lib/python3.10/site-packages (from nbconvert<7.0.0,>=6.1.0->datapane->polly-python==0.2.3) (5.1.3)\n",
            "Requirement already satisfied: bleach in /usr/local/lib/python3.10/site-packages (from nbconvert<7.0.0,>=6.1.0->datapane->polly-python==0.2.3) (4.1.0)\n",
            "Requirement already satisfied: defusedxml in /usr/local/lib/python3.10/site-packages (from nbconvert<7.0.0,>=6.1.0->datapane->polly-python==0.2.3) (0.7.1)\n",
            "Requirement already satisfied: jupyterlab-pygments in /usr/local/lib/python3.10/site-packages (from nbconvert<7.0.0,>=6.1.0->datapane->polly-python==0.2.3) (0.2.2)\n",
            "Requirement already satisfied: mistune<2,>=0.8.1 in /usr/local/lib/python3.10/site-packages (from nbconvert<7.0.0,>=6.1.0->datapane->polly-python==0.2.3) (0.8.4)\n",
            "Requirement already satisfied: testpath in /usr/local/lib/python3.10/site-packages (from nbconvert<7.0.0,>=6.1.0->datapane->polly-python==0.2.3) (0.5.0)\n",
            "Requirement already satisfied: jupyter-core in /usr/local/lib/python3.10/site-packages (from nbconvert<7.0.0,>=6.1.0->datapane->polly-python==0.2.3) (4.9.1)\n",
            "Requirement already satisfied: pygments>=2.4.1 in /usr/local/lib/python3.10/site-packages (from nbconvert<7.0.0,>=6.1.0->datapane->polly-python==0.2.3) (2.10.0)\n",
            "Requirement already satisfied: traitlets>=5.0 in /usr/local/lib/python3.10/site-packages (from nbconvert<7.0.0,>=6.1.0->datapane->polly-python==0.2.3) (5.1.1)\n",
            "Requirement already satisfied: nest-asyncio in /usr/local/lib/python3.10/site-packages (from nbclient<0.6.0,>=0.5.0->nbconvert<7.0.0,>=6.1.0->datapane->polly-python==0.2.3) (1.5.5)\n",
            "Requirement already satisfied: jupyter-client>=6.1.5 in /usr/local/lib/python3.10/site-packages (from nbclient<0.6.0,>=0.5.0->nbconvert<7.0.0,>=6.1.0->datapane->polly-python==0.2.3) (6.1.12)\n",
            "Requirement already satisfied: tornado>=4.1 in /usr/local/lib/python3.10/site-packages (from jupyter-client>=6.1.5->nbclient<0.6.0,>=0.5.0->nbconvert<7.0.0,>=6.1.0->datapane->polly-python==0.2.3) (6.1)\n",
            "Requirement already satisfied: pyzmq>=13 in /usr/local/lib/python3.10/site-packages (from jupyter-client>=6.1.5->nbclient<0.6.0,>=0.5.0->nbconvert<7.0.0,>=6.1.0->datapane->polly-python==0.2.3) (22.3.0)\n",
            "Requirement already satisfied: ipython-genutils in /usr/local/lib/python3.10/site-packages (from nbformat>=4.4->nbconvert<7.0.0,>=6.1.0->datapane->polly-python==0.2.3) (0.2.0)\n",
            "Requirement already satisfied: pyparsing!=3.0.5,>=2.0.2 in /usr/local/lib/python3.10/site-packages (from packaging<22.0.0,>=20.0.0->datapane->polly-python==0.2.3) (3.0.6)\n",
            "Collecting monotonic>=1.5\n",
            "  Downloading monotonic-1.6-py2.py3-none-any.whl (8.2 kB)\n",
            "Collecting backoff<2.0.0,>=1.10.0\n",
            "  Downloading backoff-1.11.1-py2.py3-none-any.whl (13 kB)\n",
            "Requirement already satisfied: decorator>=3.4.0 in /usr/local/lib/python3.10/site-packages (from validators<0.21.0,>=0.18.0->datapane->polly-python==0.2.3) (5.1.0)\n",
            "Requirement already satisfied: webencodings in /usr/local/lib/python3.10/site-packages (from bleach->nbconvert<7.0.0,>=6.1.0->datapane->polly-python==0.2.3) (0.5.1)\n",
            "Requirement already satisfied: wrapt<2,>=1.10 in /usr/local/lib/python3.10/site-packages (from Deprecated->polly-python==0.2.3) (1.14.1)\n",
            "Collecting tenacity>=6.2.0\n",
            "  Downloading tenacity-8.1.0-py3-none-any.whl (23 kB)\n",
            "Requirement already satisfied: tomli>=1.0.0 in /usr/local/lib/python3.10/site-packages (from pytest->polly-python==0.2.3) (2.0.1)\n",
            "Collecting py>=1.8.2\n",
            "  Downloading py-1.11.0-py2.py3-none-any.whl (98 kB)\n",
            "\u001b[K     |████████████████████████████████| 98 kB 21.8 MB/s  eta 0:00:01\n",
            "\u001b[?25hCollecting pluggy<2.0,>=0.12\n",
            "  Downloading pluggy-1.0.0-py2.py3-none-any.whl (13 kB)\n",
            "Collecting iniconfig\n",
            "  Downloading iniconfig-1.1.1-py2.py3-none-any.whl (5.0 kB)\n",
            "Requirement already satisfied: docutils>=0.11 in /usr/local/lib/python3.10/site-packages (from rst2txt->polly-python==0.2.3) (0.15.2)\n",
            "Using legacy 'setup.py install' for micawber, since package 'wheel' is not installed.\n",
            "Using legacy 'setup.py install' for stringcase, since package 'wheel' is not installed.\n",
            "Using legacy 'setup.py install' for validators, since package 'wheel' is not installed.\n",
            "Installing collected packages: boltons, typing-extensions, toolz, orderedmultidict, monotonic, face, backoff, vega-datasets, validators, tenacity, stringcase, soupsieve, requests-toolbelt, pydantic, pyarrow, py, posthog, pluggy, munch, micawber, lxml, iniconfig, importlib-resources, glom, furl, ecdsa, dulwich, dominate, datacommons-pandas, datacommons, dacite, colorlog, click-spinner, altair, python-jose, pytest, plotly, elucidatacmapPy, datapane, beautifulsoup4, polly-python\n",
            "    Running setup.py install for validators ... \u001b[?25ldone\n",
            "\u001b[?25h    Running setup.py install for stringcase ... \u001b[?25ldone\n",
            "\u001b[?25h    Running setup.py install for micawber ... \u001b[?25ldone\n",
            "\u001b[?25h  Attempting uninstall: polly-python\n",
            "    Found existing installation: polly-python 0.1.4\n",
            "    Uninstalling polly-python-0.1.4:\n",
            "      Successfully uninstalled polly-python-0.1.4\n",
            "Successfully installed altair-4.2.0 backoff-1.11.1 beautifulsoup4-4.11.1 boltons-21.0.0 click-spinner-0.1.10 colorlog-6.7.0 dacite-1.6.0 datacommons-1.4.3 datacommons-pandas-0.0.3 datapane-0.15.3 dominate-2.7.0 dulwich-0.20.46 ecdsa-0.18.0 elucidatacmapPy-3.3.4 face-22.0.0 furl-2.1.3 glom-22.1.0 importlib-resources-5.10.0 iniconfig-1.1.1 lxml-4.9.1 micawber-0.5.4 monotonic-1.6 munch-2.5.0 orderedmultidict-1.0.1 plotly-5.10.0 pluggy-1.0.0 polly-python-0.2.3 posthog-2.1.2 py-1.11.0 pyarrow-6.0.1 pydantic-1.9.1 pytest-7.1.3 python-jose-3.3.0 requests-toolbelt-0.9.1 soupsieve-2.3.2.post1 stringcase-1.2.0 tenacity-8.1.0 toolz-0.12.0 typing-extensions-4.4.0 validators-0.20.0 vega-datasets-0.9.0\n",
            "\u001b[33mWARNING: Running pip as the 'root' user can result in broken permissions and conflicting behaviour with the system package manager. It is recommended to use a virtual environment instead: https://pip.pypa.io/warnings/venv\u001b[0m\n",
            "\u001b[33mWARNING: You are using pip version 21.2.4; however, version 22.3 is available.\n",
            "You should consider upgrading via the '/usr/local/bin/python3.10 -m pip install --upgrade pip' command.\u001b[0m\n"
          ]
        }
      ],
      "source": [
        "!sudo pip3 install  https://elucidatainc.github.io/PublicAssets/builds/polly-python/tests/devpolly/polly_python-0.2.3-py3-none-any.whl"
      ]
    },
    {
      "cell_type": "code",
      "execution_count": 11,
      "metadata": {},
      "outputs": [],
      "source": [
        "from polly.omixatlas import OmixAtlas"
      ]
    },
    {
      "cell_type": "code",
      "execution_count": 12,
      "metadata": {},
      "outputs": [],
      "source": [
        "DEV_AUTH = 'eyJjdHkiOiJKV1QiLCJlbmMiOiJBMjU2R0NNIiwiYWxnIjoiUlNBLU9BRVAifQ.X8HRR9XymtUA-aSnbUBiVxd4GMXccf8l2Qy3WrVJW0VI8UL3JYj_LirZ96FPDvZHN3jViwD-D_mIwd7-QXOMAMj7UpY-Wad8xZpq1yMAJsoaSjS-x_nvmyz7jJrpoekVX6ZjEmxzeAV5kRKXM2Mt4_EeZtdBiHuZILzeMaz7oT3_wB7DWLTnaHxiMZ8x9o_wLrcp4zsJ13Svcv0MQJxOXjSsXxAWaZmEgN25oOWrxFLHIe7s_LxKPpHaRX-q25mJA9XSSkTBGg1xKGyMvCI1fmXw5Ne7BRKG1_z9MmYCxkS-EtMouRHdMV1HyZvMNbiu4LwAAZCchYNhTLo5d1dfVA.fbPHPYl2AGEL4JFL.8Nb906huk_qGPtTMJmVqVjT4Yru_NmHCWy8YNfV83CJCTIsuw5CZ9FrsDRtq64aIrx4OmSb5wWIXGbwGLcBofbaiXmaSD5fRP1cXreofk0v1bCzuKBCMtnlr-L9JwAxZkxBOioKZtr37GqoZWEuQpIT2ROmaK_kZpOJO8JI3AeZebZRJ1VNi1jbuC9XefomI4yfzif1Q4U10iO-b4C29dfjM66Wy-WHKSRQkGntkKG1qdOjiTwHi6PLD-E8u40cinbcE1Hb4y2jpknU6Vx_8sIWSgXCO4xiaRn0-v6wRw9PWeci8CrB7dhnCyWg0G-gKPrv-o-nuKIZbRHzJkgtgmZ9HCrQr4Arimpaz4ZZm-gJ_V5MNso1oswmXuVB8yqUh1MMmdiLbmbX3AcMvve_LHo0QSq2pOklVI4HzRG_71tv3QQHzc-Rgn4oRyeAELy9aVPvm1I0AUVxj_2hMDgch9GfG2JXYSaxRPEED7JicMjGodPyS-jnv44z7tYTrpp-DSq9qFEAfJ5VmqpNtHFykEm2j5HE3iXcN2GRbtvrkH2K8NjaCO_PVzuI6AsMtDmL__4JsEBAwqrDWv4x1DKeKLACXFS3ICYCPBJ8CnBT30Tr9dYD2aJTWx_YgszZ1Lrc4egEhq1AONQFIfLMTE8JTplAFwIRfavLYuTBxOzEx99fPyofafKCw97omZLRJsMTBfuGlsLsNVR9Us3aOeCIjLgIQWZ0qhvFvaWZM1B7C8LOf2lL28AJg7edPsmcEIuKLljKhbXjiB8bXWXYcsNwYIVLEArjP3lwmIWQdHKCRsYGIBVMlCMTFi045Dgj5ub3yjgRDdMVdbz-wCvdhc3Sf2Qh26hKK8NAR57pvjaZnNeoaXEGSZGhZjcLa_FVrDRUCDUU6iCMLGTYuHFcDFX-HHmwJRKFC8HCzWAdCR1AfghOKmueqxIu6yTfuIjIPn-Iyd7EtHpEynWzqMkMdNuQBiK9GTL-GmqLSUthchia3fouFrxkC9Ly12qPyea1A_P5MhnBmkCvMdhbQ63uz2H9yZFoWHswLqe8KJbWOl7_-4nfLCczqyH8iHn0f-JE-NHhu4eywpN74pWZqGiS9_q33iMPBCbInJE0ooIkimnJqrmLZ9Bw_LixBCCKGK9nVLpnqqo-q6xsIzHkSPBI-pl0cPvs5iYwUWGT7Ih4uZ3OthLB5nGodhMaSuVpOKQQZYPltgJQQMPUfsbgXSFsjRPFzQFd3aSn-gCQfGhjYfDJtUWZN5l88OyB2K7jVCSzdEh9rNIY1j2BQv9eO-a8d6OQd3pUtueXnytckwHE-l5aBM-UZJ48E1_UicM6goNfCfVpnXezWidlmdq_7HuJAnfc.WNASFD-5Dv3hgilQQGSaqA'\n",
        "client = OmixAtlas(DEV_AUTH, env='devpolly')"
      ]
    },
    {
      "cell_type": "code",
      "execution_count": 25,
      "metadata": {
        "scrolled": true
      },
      "outputs": [
        {
          "name": "stdout",
          "output_type": "stream",
          "text": [
            "/bin/bash: warning: setlocale: LC_ALL: cannot change locale (en_US.UTF-8)\n",
            "\u001b7\u001b[?7l\u001b[1Gprogress [░░░░░░░░░░░░░░░░░░░░░░░░░░░░░░░░░░░░░░░░] 0% | NA | ETA: 0s | time elapsed: 0s\u001b[0K\u001b[1Gprogress [░░░░░░░░░░░░░░░░░░░░░░░░░░░░░░░░░░░░░░░░] 0% | 2.652 KB/56.442 MB | ETA: 2201s | time elapsed: 0s\u001b[0K\u001b[1Gprogress [███░░░░░░░░░░░░░░░░░░░░░░░░░░░░░░░░░░░░░] 7% | 4.023 MB/56.442 MB | ETA: 3s | time elapsed: 0s\u001b[0K\u001b[1Gprogress [██████████░░░░░░░░░░░░░░░░░░░░░░░░░░░░░░] 24% | 13.602 MB/56.442 MB | ETA: 1s | time elapsed: 0s\u001b[0K\u001b[1Gprogress [████████████████░░░░░░░░░░░░░░░░░░░░░░░░] 39% | 22.567 MB/56.442 MB | ETA: 1s | time elapsed: 0s\u001b[0K\u001b[1Gprogress [███████████████████████░░░░░░░░░░░░░░░░░] 57% | 32.578 MB/56.442 MB | ETA: 1s | time elapsed: 1s\u001b[0K\u001b[1Gprogress [██████████████████████████████░░░░░░░░░░] 74% | 42.173 MB/56.442 MB | ETA: 1s | time elapsed: 1s\u001b[0K\u001b[1Gprogress [█████████████████████████████████████░░░] 92% | 51.968 MB/56.442 MB | ETA: 1s | time elapsed: 1s\u001b[0K\u001b[1Gprogress [████████████████████████████████████████] 100% | 56.442 MB/56.442 MB | ETA: 0s | time elapsed: 1s\u001b[0K\u001b[?7h\u001b8\n",
            "\u001b[32m\u001b[1mSuccess: Sync complete\u001b[22m\u001b[39m\n"
          ]
        }
      ],
      "source": [
        "!polly files sync -y --source polly://Test\\ Files/ --destination Test_Files/"
      ]
    },
    {
      "cell_type": "code",
      "execution_count": null,
      "metadata": {},
      "outputs": [],
      "source": []
    },
    {
      "cell_type": "code",
      "execution_count": 13,
      "metadata": {},
      "outputs": [
        {
          "ename": "paramException",
          "evalue": "paramException (parameter error): source_folder_path should be a dict with valid data andmetadata path values in the format {'metadata': '<metadata_path>', 'data': '<data_path>'} ",
          "output_type": "error",
          "traceback": [
            "\u001b[0;31m---------------------------------------------------------------------------\u001b[0m",
            "\u001b[0;31mparamException\u001b[0m                            Traceback (most recent call last)",
            "Input \u001b[0;32mIn [13]\u001b[0m, in \u001b[0;36m<cell line: 5>\u001b[0;34m()\u001b[0m\n\u001b[1;32m      3\u001b[0m repo_id \u001b[38;5;241m=\u001b[39m \u001b[38;5;124m\"\u001b[39m\u001b[38;5;124m1657028057682\u001b[39m\u001b[38;5;124m\"\u001b[39m\n\u001b[1;32m      4\u001b[0m source_folder_path \u001b[38;5;241m=\u001b[39m \u001b[38;5;124m\"\u001b[39m\u001b[38;5;124m/home/elucidata/ELUCIDATA/libraries/geo_data/transcriptomics/ingestion_files\u001b[39m\u001b[38;5;124m\"\u001b[39m\n\u001b[0;32m----> 5\u001b[0m \u001b[43mclient\u001b[49m\u001b[38;5;241;43m.\u001b[39;49m\u001b[43madd_datasets\u001b[49m\u001b[43m(\u001b[49m\u001b[43mrepo_id\u001b[49m\u001b[43m,\u001b[49m\u001b[43m \u001b[49m\u001b[43msource_folder_path\u001b[49m\u001b[43m)\u001b[49m\n",
            "File \u001b[0;32m/usr/local/lib/python3.10/site-packages/polly/omixatlas.py:2455\u001b[0m, in \u001b[0;36mOmixAtlas.add_datasets\u001b[0;34m(self, repo_id, source_folder_path, destination_folder_path, priority)\u001b[0m\n\u001b[1;32m   2442\u001b[0m \u001b[38;5;124;03m\"\"\"\u001b[39;00m\n\u001b[1;32m   2443\u001b[0m \u001b[38;5;124;03mThis function is used to add data to an omixatlas\u001b[39;00m\n\u001b[1;32m   2444\u001b[0m \u001b[38;5;124;03mArgs:\u001b[39;00m\n\u001b[0;32m   (...)\u001b[0m\n\u001b[1;32m   2452\u001b[0m \u001b[38;5;124;03m    | https://github.com/ElucidataInc/polly-python/blob/main/Ingest/Data_Ingestion_CaseID_1.ipynb\u001b[39;00m\n\u001b[1;32m   2453\u001b[0m \u001b[38;5;124;03m\"\"\"\u001b[39;00m\n\u001b[1;32m   2454\u001b[0m \u001b[38;5;66;03m# parameters check\u001b[39;00m\n\u001b[0;32m-> 2455\u001b[0m \u001b[38;5;28;43mself\u001b[39;49m\u001b[38;5;241;43m.\u001b[39;49m\u001b[43m_parameter_check_for_add_dataset\u001b[49m\u001b[43m(\u001b[49m\n\u001b[1;32m   2456\u001b[0m \u001b[43m    \u001b[49m\u001b[43mrepo_id\u001b[49m\u001b[43m,\u001b[49m\u001b[43m \u001b[49m\u001b[43msource_folder_path\u001b[49m\u001b[43m,\u001b[49m\u001b[43m \u001b[49m\u001b[43mdestination_folder_path\u001b[49m\u001b[43m,\u001b[49m\u001b[43m \u001b[49m\u001b[43mpriority\u001b[49m\n\u001b[1;32m   2457\u001b[0m \u001b[43m\u001b[49m\u001b[43m)\u001b[49m\n\u001b[1;32m   2459\u001b[0m (\n\u001b[1;32m   2460\u001b[0m     session_tokens,\n\u001b[1;32m   2461\u001b[0m     bucket_name,\n\u001b[1;32m   2462\u001b[0m     package_name,\n\u001b[1;32m   2463\u001b[0m     metadata_directory,\n\u001b[1;32m   2464\u001b[0m ) \u001b[38;5;241m=\u001b[39m \u001b[38;5;28mself\u001b[39m\u001b[38;5;241m.\u001b[39m_get_session_tokens(repo_id, destination_folder_path)\n\u001b[1;32m   2466\u001b[0m \u001b[38;5;66;03m# folder paths\u001b[39;00m\n",
            "File \u001b[0;32m/usr/local/lib/python3.10/site-packages/polly/omixatlas.py:2074\u001b[0m, in \u001b[0;36mOmixAtlas._parameter_check_for_add_dataset\u001b[0;34m(self, repo_id, source_folder_path, destination_folder_path, priority)\u001b[0m\n\u001b[1;32m   2072\u001b[0m     \u001b[38;5;28mself\u001b[39m\u001b[38;5;241m.\u001b[39m_data_metadata_parameter_check(source_folder_path)\n\u001b[1;32m   2073\u001b[0m \u001b[38;5;28;01mexcept\u001b[39;00m \u001b[38;5;167;01mException\u001b[39;00m \u001b[38;5;28;01mas\u001b[39;00m err:\n\u001b[0;32m-> 2074\u001b[0m     \u001b[38;5;28;01mraise\u001b[39;00m err\n\u001b[1;32m   2076\u001b[0m \u001b[38;5;28;01mtry\u001b[39;00m:\n\u001b[1;32m   2077\u001b[0m     \u001b[38;5;28mself\u001b[39m\u001b[38;5;241m.\u001b[39m_data_metadata_file_ext_check(source_folder_path)\n",
            "File \u001b[0;32m/usr/local/lib/python3.10/site-packages/polly/omixatlas.py:2072\u001b[0m, in \u001b[0;36mOmixAtlas._parameter_check_for_add_dataset\u001b[0;34m(self, repo_id, source_folder_path, destination_folder_path, priority)\u001b[0m\n\u001b[1;32m   2069\u001b[0m     \u001b[38;5;28;01mraise\u001b[39;00m err\n\u001b[1;32m   2071\u001b[0m \u001b[38;5;28;01mtry\u001b[39;00m:\n\u001b[0;32m-> 2072\u001b[0m     \u001b[38;5;28;43mself\u001b[39;49m\u001b[38;5;241;43m.\u001b[39;49m\u001b[43m_data_metadata_parameter_check\u001b[49m\u001b[43m(\u001b[49m\u001b[43msource_folder_path\u001b[49m\u001b[43m)\u001b[49m\n\u001b[1;32m   2073\u001b[0m \u001b[38;5;28;01mexcept\u001b[39;00m \u001b[38;5;167;01mException\u001b[39;00m \u001b[38;5;28;01mas\u001b[39;00m err:\n\u001b[1;32m   2074\u001b[0m     \u001b[38;5;28;01mraise\u001b[39;00m err\n",
            "File \u001b[0;32m/usr/local/lib/python3.10/site-packages/polly/omixatlas.py:1872\u001b[0m, in \u001b[0;36mOmixAtlas._data_metadata_parameter_check\u001b[0;34m(self, source_folder_path)\u001b[0m\n\u001b[1;32m   1868\u001b[0m \u001b[38;5;124;03m\"\"\"\u001b[39;00m\n\u001b[1;32m   1869\u001b[0m \u001b[38;5;124;03mSanity check for data and metadata path parameters\u001b[39;00m\n\u001b[1;32m   1870\u001b[0m \u001b[38;5;124;03m\"\"\"\u001b[39;00m\n\u001b[1;32m   1871\u001b[0m \u001b[38;5;28;01mif\u001b[39;00m \u001b[38;5;129;01mnot\u001b[39;00m (source_folder_path \u001b[38;5;129;01mand\u001b[39;00m (\u001b[38;5;28misinstance\u001b[39m(source_folder_path, \u001b[38;5;28mdict\u001b[39m))):\n\u001b[0;32m-> 1872\u001b[0m     \u001b[38;5;28;01mraise\u001b[39;00m paramException(\n\u001b[1;32m   1873\u001b[0m         title\u001b[38;5;241m=\u001b[39m\u001b[38;5;124m\"\u001b[39m\u001b[38;5;124mParam Error\u001b[39m\u001b[38;5;124m\"\u001b[39m,\n\u001b[1;32m   1874\u001b[0m         detail\u001b[38;5;241m=\u001b[39m\u001b[38;5;124m\"\u001b[39m\u001b[38;5;124msource_folder_path should be a dict with valid data and\u001b[39m\u001b[38;5;124m\"\u001b[39m\n\u001b[1;32m   1875\u001b[0m         \u001b[38;5;241m+\u001b[39m \u001b[38;5;124mf\u001b[39m\u001b[38;5;124m\"\u001b[39m\u001b[38;5;124mmetadata path values in the format \u001b[39m\u001b[38;5;132;01m{\u001b[39;00mconst\u001b[38;5;241m.\u001b[39mFILES_PATH_FORMAT\u001b[38;5;132;01m}\u001b[39;00m\u001b[38;5;124m \u001b[39m\u001b[38;5;124m\"\u001b[39m,\n\u001b[1;32m   1876\u001b[0m     )\n\u001b[1;32m   1878\u001b[0m \u001b[38;5;28;01mif\u001b[39;00m \u001b[38;5;124m\"\u001b[39m\u001b[38;5;124mdata\u001b[39m\u001b[38;5;124m\"\u001b[39m \u001b[38;5;129;01mnot\u001b[39;00m \u001b[38;5;129;01min\u001b[39;00m source_folder_path:\n\u001b[1;32m   1879\u001b[0m     \u001b[38;5;28;01mraise\u001b[39;00m paramException(\n\u001b[1;32m   1880\u001b[0m         title\u001b[38;5;241m=\u001b[39m\u001b[38;5;124m\"\u001b[39m\u001b[38;5;124mParam Error\u001b[39m\u001b[38;5;124m\"\u001b[39m,\n\u001b[1;32m   1881\u001b[0m         detail\u001b[38;5;241m=\u001b[39m\u001b[38;5;124mf\u001b[39m\u001b[38;5;124m\"\u001b[39m\u001b[38;5;132;01m{\u001b[39;00msource_folder_path\u001b[38;5;132;01m}\u001b[39;00m\u001b[38;5;124m does not have `data` path\u001b[39m\u001b[38;5;124m\"\u001b[39m\n\u001b[1;32m   1882\u001b[0m         \u001b[38;5;241m+\u001b[39m \u001b[38;5;124mf\u001b[39m\u001b[38;5;124m\"\u001b[39m\u001b[38;5;124mFormat the source_folder_path_dict like this  \u001b[39m\u001b[38;5;132;01m{\u001b[39;00mconst\u001b[38;5;241m.\u001b[39mFILES_PATH_FORMAT\u001b[38;5;132;01m}\u001b[39;00m\u001b[38;5;124m\"\u001b[39m,\n\u001b[1;32m   1883\u001b[0m     )\n",
            "\u001b[0;31mparamException\u001b[0m: paramException (parameter error): source_folder_path should be a dict with valid data andmetadata path values in the format {'metadata': '<metadata_path>', 'data': '<data_path>'} "
          ]
        }
      ],
      "source": [
        "# Testing point 1\n",
        "# wrong format of `source_folder_path`\n",
        "repo_id = \"1657028057682\"\n",
        "source_folder_path = \"/home/elucidata/ELUCIDATA/libraries/geo_data/transcriptomics/ingestion_files\"\n",
        "client.add_datasets(repo_id, source_folder_path)"
      ]
    },
    {
      "cell_type": "code",
      "execution_count": 15,
      "metadata": {},
      "outputs": [
        {
          "ename": "paramException",
          "evalue": "paramException (parameter error): {'data': '/import'} does not have `metadata` pathFormat the source_folder_path_dict like this  {const.FILES_PATH_FORMAT}",
          "output_type": "error",
          "traceback": [
            "\u001b[0;31m---------------------------------------------------------------------------\u001b[0m",
            "\u001b[0;31mparamException\u001b[0m                            Traceback (most recent call last)",
            "Input \u001b[0;32mIn [15]\u001b[0m, in \u001b[0;36m<cell line: 6>\u001b[0;34m()\u001b[0m\n\u001b[1;32m      4\u001b[0m source_folder_path_data \u001b[38;5;241m=\u001b[39m \u001b[38;5;124m\"\u001b[39m\u001b[38;5;124m/import\u001b[39m\u001b[38;5;124m\"\u001b[39m\n\u001b[1;32m      5\u001b[0m source_folder_path \u001b[38;5;241m=\u001b[39m {\u001b[38;5;124m\"\u001b[39m\u001b[38;5;124mdata\u001b[39m\u001b[38;5;124m\"\u001b[39m:source_folder_path_data}\n\u001b[0;32m----> 6\u001b[0m \u001b[43mclient\u001b[49m\u001b[38;5;241;43m.\u001b[39;49m\u001b[43madd_datasets\u001b[49m\u001b[43m(\u001b[49m\u001b[43mrepo_id\u001b[49m\u001b[43m,\u001b[49m\u001b[43m \u001b[49m\u001b[43msource_folder_path\u001b[49m\u001b[43m)\u001b[49m\n",
            "File \u001b[0;32m/usr/local/lib/python3.10/site-packages/polly/omixatlas.py:2455\u001b[0m, in \u001b[0;36mOmixAtlas.add_datasets\u001b[0;34m(self, repo_id, source_folder_path, destination_folder_path, priority)\u001b[0m\n\u001b[1;32m   2442\u001b[0m \u001b[38;5;124;03m\"\"\"\u001b[39;00m\n\u001b[1;32m   2443\u001b[0m \u001b[38;5;124;03mThis function is used to add data to an omixatlas\u001b[39;00m\n\u001b[1;32m   2444\u001b[0m \u001b[38;5;124;03mArgs:\u001b[39;00m\n\u001b[0;32m   (...)\u001b[0m\n\u001b[1;32m   2452\u001b[0m \u001b[38;5;124;03m    | https://github.com/ElucidataInc/polly-python/blob/main/Ingest/Data_Ingestion_CaseID_1.ipynb\u001b[39;00m\n\u001b[1;32m   2453\u001b[0m \u001b[38;5;124;03m\"\"\"\u001b[39;00m\n\u001b[1;32m   2454\u001b[0m \u001b[38;5;66;03m# parameters check\u001b[39;00m\n\u001b[0;32m-> 2455\u001b[0m \u001b[38;5;28;43mself\u001b[39;49m\u001b[38;5;241;43m.\u001b[39;49m\u001b[43m_parameter_check_for_add_dataset\u001b[49m\u001b[43m(\u001b[49m\n\u001b[1;32m   2456\u001b[0m \u001b[43m    \u001b[49m\u001b[43mrepo_id\u001b[49m\u001b[43m,\u001b[49m\u001b[43m \u001b[49m\u001b[43msource_folder_path\u001b[49m\u001b[43m,\u001b[49m\u001b[43m \u001b[49m\u001b[43mdestination_folder_path\u001b[49m\u001b[43m,\u001b[49m\u001b[43m \u001b[49m\u001b[43mpriority\u001b[49m\n\u001b[1;32m   2457\u001b[0m \u001b[43m\u001b[49m\u001b[43m)\u001b[49m\n\u001b[1;32m   2459\u001b[0m (\n\u001b[1;32m   2460\u001b[0m     session_tokens,\n\u001b[1;32m   2461\u001b[0m     bucket_name,\n\u001b[1;32m   2462\u001b[0m     package_name,\n\u001b[1;32m   2463\u001b[0m     metadata_directory,\n\u001b[1;32m   2464\u001b[0m ) \u001b[38;5;241m=\u001b[39m \u001b[38;5;28mself\u001b[39m\u001b[38;5;241m.\u001b[39m_get_session_tokens(repo_id, destination_folder_path)\n\u001b[1;32m   2466\u001b[0m \u001b[38;5;66;03m# folder paths\u001b[39;00m\n",
            "File \u001b[0;32m/usr/local/lib/python3.10/site-packages/polly/omixatlas.py:2074\u001b[0m, in \u001b[0;36mOmixAtlas._parameter_check_for_add_dataset\u001b[0;34m(self, repo_id, source_folder_path, destination_folder_path, priority)\u001b[0m\n\u001b[1;32m   2072\u001b[0m     \u001b[38;5;28mself\u001b[39m\u001b[38;5;241m.\u001b[39m_data_metadata_parameter_check(source_folder_path)\n\u001b[1;32m   2073\u001b[0m \u001b[38;5;28;01mexcept\u001b[39;00m \u001b[38;5;167;01mException\u001b[39;00m \u001b[38;5;28;01mas\u001b[39;00m err:\n\u001b[0;32m-> 2074\u001b[0m     \u001b[38;5;28;01mraise\u001b[39;00m err\n\u001b[1;32m   2076\u001b[0m \u001b[38;5;28;01mtry\u001b[39;00m:\n\u001b[1;32m   2077\u001b[0m     \u001b[38;5;28mself\u001b[39m\u001b[38;5;241m.\u001b[39m_data_metadata_file_ext_check(source_folder_path)\n",
            "File \u001b[0;32m/usr/local/lib/python3.10/site-packages/polly/omixatlas.py:2072\u001b[0m, in \u001b[0;36mOmixAtlas._parameter_check_for_add_dataset\u001b[0;34m(self, repo_id, source_folder_path, destination_folder_path, priority)\u001b[0m\n\u001b[1;32m   2069\u001b[0m     \u001b[38;5;28;01mraise\u001b[39;00m err\n\u001b[1;32m   2071\u001b[0m \u001b[38;5;28;01mtry\u001b[39;00m:\n\u001b[0;32m-> 2072\u001b[0m     \u001b[38;5;28;43mself\u001b[39;49m\u001b[38;5;241;43m.\u001b[39;49m\u001b[43m_data_metadata_parameter_check\u001b[49m\u001b[43m(\u001b[49m\u001b[43msource_folder_path\u001b[49m\u001b[43m)\u001b[49m\n\u001b[1;32m   2073\u001b[0m \u001b[38;5;28;01mexcept\u001b[39;00m \u001b[38;5;167;01mException\u001b[39;00m \u001b[38;5;28;01mas\u001b[39;00m err:\n\u001b[1;32m   2074\u001b[0m     \u001b[38;5;28;01mraise\u001b[39;00m err\n",
            "File \u001b[0;32m/usr/local/lib/python3.10/site-packages/polly/omixatlas.py:1895\u001b[0m, in \u001b[0;36mOmixAtlas._data_metadata_parameter_check\u001b[0;34m(self, source_folder_path)\u001b[0m\n\u001b[1;32m   1888\u001b[0m         \u001b[38;5;28;01mraise\u001b[39;00m paramException(\n\u001b[1;32m   1889\u001b[0m             title\u001b[38;5;241m=\u001b[39m\u001b[38;5;124m\"\u001b[39m\u001b[38;5;124mParam Error\u001b[39m\u001b[38;5;124m\"\u001b[39m,\n\u001b[1;32m   1890\u001b[0m             detail\u001b[38;5;241m=\u001b[39m\u001b[38;5;124m\"\u001b[39m\u001b[38;5;124m`data` path passed is not found\u001b[39m\u001b[38;5;124m\"\u001b[39m\n\u001b[1;32m   1891\u001b[0m             \u001b[38;5;241m+\u001b[39m \u001b[38;5;124m\"\u001b[39m\u001b[38;5;124mPlease pass the correct path and call the function again\u001b[39m\u001b[38;5;124m\"\u001b[39m,\n\u001b[1;32m   1892\u001b[0m         )\n\u001b[1;32m   1894\u001b[0m \u001b[38;5;28;01mif\u001b[39;00m \u001b[38;5;124m\"\u001b[39m\u001b[38;5;124mmetadata\u001b[39m\u001b[38;5;124m\"\u001b[39m \u001b[38;5;129;01mnot\u001b[39;00m \u001b[38;5;129;01min\u001b[39;00m source_folder_path:\n\u001b[0;32m-> 1895\u001b[0m     \u001b[38;5;28;01mraise\u001b[39;00m paramException(\n\u001b[1;32m   1896\u001b[0m         title\u001b[38;5;241m=\u001b[39m\u001b[38;5;124m\"\u001b[39m\u001b[38;5;124mParam Error\u001b[39m\u001b[38;5;124m\"\u001b[39m,\n\u001b[1;32m   1897\u001b[0m         detail\u001b[38;5;241m=\u001b[39m\u001b[38;5;124mf\u001b[39m\u001b[38;5;124m\"\u001b[39m\u001b[38;5;132;01m{\u001b[39;00msource_folder_path\u001b[38;5;132;01m}\u001b[39;00m\u001b[38;5;124m does not have `metadata` path\u001b[39m\u001b[38;5;124m\"\u001b[39m\n\u001b[1;32m   1898\u001b[0m         \u001b[38;5;241m+\u001b[39m \u001b[38;5;124m\"\u001b[39m\u001b[38;5;124mFormat the source_folder_path_dict like this  \u001b[39m\u001b[38;5;132;01m{const.FILES_PATH_FORMAT}\u001b[39;00m\u001b[38;5;124m\"\u001b[39m,\n\u001b[1;32m   1899\u001b[0m     )\n\u001b[1;32m   1901\u001b[0m \u001b[38;5;28;01mif\u001b[39;00m \u001b[38;5;124m\"\u001b[39m\u001b[38;5;124mmetadata\u001b[39m\u001b[38;5;124m\"\u001b[39m \u001b[38;5;129;01min\u001b[39;00m source_folder_path:\n\u001b[1;32m   1902\u001b[0m     data_directory \u001b[38;5;241m=\u001b[39m os\u001b[38;5;241m.\u001b[39mfsencode(source_folder_path[\u001b[38;5;124m\"\u001b[39m\u001b[38;5;124mmetadata\u001b[39m\u001b[38;5;124m\"\u001b[39m])\n",
            "\u001b[0;31mparamException\u001b[0m: paramException (parameter error): {'data': '/import'} does not have `metadata` pathFormat the source_folder_path_dict like this  {const.FILES_PATH_FORMAT}"
          ]
        }
      ],
      "source": [
        "# Testing point 2\n",
        "# metadata key missing in `source_folder_path`\n",
        "repo_id = \"1657028057682\"\n",
        "source_folder_path_data = \"/import\"\n",
        "source_folder_path = {\"data\":source_folder_path_data}\n",
        "client.add_datasets(repo_id, source_folder_path)"
      ]
    },
    {
      "cell_type": "code",
      "execution_count": 29,
      "metadata": {},
      "outputs": [
        {
          "ename": "paramException",
          "evalue": "paramException (parameter error): `priority` varaible can have these 3 values => `low`, `medium`, `high` ",
          "output_type": "error",
          "traceback": [
            "\u001b[0;31m---------------------------------------------------------------------------\u001b[0m",
            "\u001b[0;31mparamException\u001b[0m                            Traceback (most recent call last)",
            "Input \u001b[0;32mIn [29]\u001b[0m, in \u001b[0;36m<cell line: 9>\u001b[0;34m()\u001b[0m\n\u001b[1;32m      7\u001b[0m priority \u001b[38;5;241m=\u001b[39m \u001b[38;5;124m\"\u001b[39m\u001b[38;5;124msuper_high\u001b[39m\u001b[38;5;124m\"\u001b[39m\n\u001b[1;32m      8\u001b[0m source_folder_path \u001b[38;5;241m=\u001b[39m {\u001b[38;5;124m\"\u001b[39m\u001b[38;5;124mdata\u001b[39m\u001b[38;5;124m\"\u001b[39m:source_folder_path_data, \u001b[38;5;124m\"\u001b[39m\u001b[38;5;124mmetadata\u001b[39m\u001b[38;5;124m\"\u001b[39m:source_folder_metadata}\n\u001b[0;32m----> 9\u001b[0m \u001b[43mclient\u001b[49m\u001b[38;5;241;43m.\u001b[39;49m\u001b[43madd_datasets\u001b[49m\u001b[43m(\u001b[49m\u001b[43mrepo_id\u001b[49m\u001b[43m,\u001b[49m\u001b[43m \u001b[49m\u001b[43msource_folder_path\u001b[49m\u001b[43m,\u001b[49m\u001b[43m \u001b[49m\u001b[43mdestination_folder\u001b[49m\u001b[43m,\u001b[49m\u001b[43m \u001b[49m\u001b[43mpriority\u001b[49m\u001b[43m)\u001b[49m\n",
            "File \u001b[0;32m/usr/local/lib/python3.10/site-packages/polly/omixatlas.py:2455\u001b[0m, in \u001b[0;36mOmixAtlas.add_datasets\u001b[0;34m(self, repo_id, source_folder_path, destination_folder_path, priority)\u001b[0m\n\u001b[1;32m   2442\u001b[0m \u001b[38;5;124;03m\"\"\"\u001b[39;00m\n\u001b[1;32m   2443\u001b[0m \u001b[38;5;124;03mThis function is used to add data to an omixatlas\u001b[39;00m\n\u001b[1;32m   2444\u001b[0m \u001b[38;5;124;03mArgs:\u001b[39;00m\n\u001b[0;32m   (...)\u001b[0m\n\u001b[1;32m   2452\u001b[0m \u001b[38;5;124;03m    | https://github.com/ElucidataInc/polly-python/blob/main/Ingest/Data_Ingestion_CaseID_1.ipynb\u001b[39;00m\n\u001b[1;32m   2453\u001b[0m \u001b[38;5;124;03m\"\"\"\u001b[39;00m\n\u001b[1;32m   2454\u001b[0m \u001b[38;5;66;03m# parameters check\u001b[39;00m\n\u001b[0;32m-> 2455\u001b[0m \u001b[38;5;28;43mself\u001b[39;49m\u001b[38;5;241;43m.\u001b[39;49m\u001b[43m_parameter_check_for_add_dataset\u001b[49m\u001b[43m(\u001b[49m\n\u001b[1;32m   2456\u001b[0m \u001b[43m    \u001b[49m\u001b[43mrepo_id\u001b[49m\u001b[43m,\u001b[49m\u001b[43m \u001b[49m\u001b[43msource_folder_path\u001b[49m\u001b[43m,\u001b[49m\u001b[43m \u001b[49m\u001b[43mdestination_folder_path\u001b[49m\u001b[43m,\u001b[49m\u001b[43m \u001b[49m\u001b[43mpriority\u001b[49m\n\u001b[1;32m   2457\u001b[0m \u001b[43m\u001b[49m\u001b[43m)\u001b[49m\n\u001b[1;32m   2459\u001b[0m (\n\u001b[1;32m   2460\u001b[0m     session_tokens,\n\u001b[1;32m   2461\u001b[0m     bucket_name,\n\u001b[1;32m   2462\u001b[0m     package_name,\n\u001b[1;32m   2463\u001b[0m     metadata_directory,\n\u001b[1;32m   2464\u001b[0m ) \u001b[38;5;241m=\u001b[39m \u001b[38;5;28mself\u001b[39m\u001b[38;5;241m.\u001b[39m_get_session_tokens(repo_id, destination_folder_path)\n\u001b[1;32m   2466\u001b[0m \u001b[38;5;66;03m# folder paths\u001b[39;00m\n",
            "File \u001b[0;32m/usr/local/lib/python3.10/site-packages/polly/omixatlas.py:2094\u001b[0m, in \u001b[0;36mOmixAtlas._parameter_check_for_add_dataset\u001b[0;34m(self, repo_id, source_folder_path, destination_folder_path, priority)\u001b[0m\n\u001b[1;32m   2088\u001b[0m     \u001b[38;5;28;01mraise\u001b[39;00m paramException(\n\u001b[1;32m   2089\u001b[0m         title\u001b[38;5;241m=\u001b[39m\u001b[38;5;124m\"\u001b[39m\u001b[38;5;124mParam Error\u001b[39m\u001b[38;5;124m\"\u001b[39m,\n\u001b[1;32m   2090\u001b[0m         detail\u001b[38;5;241m=\u001b[39m\u001b[38;5;124m\"\u001b[39m\u001b[38;5;124m`priority` should be a string. Only 3 values are allowed i.e. `low`, `medium`, `high`\u001b[39m\u001b[38;5;124m\"\u001b[39m,\n\u001b[1;32m   2091\u001b[0m     )\n\u001b[1;32m   2093\u001b[0m \u001b[38;5;28;01mif\u001b[39;00m priority \u001b[38;5;129;01mnot\u001b[39;00m \u001b[38;5;129;01min\u001b[39;00m [\u001b[38;5;124m\"\u001b[39m\u001b[38;5;124mlow\u001b[39m\u001b[38;5;124m\"\u001b[39m, \u001b[38;5;124m\"\u001b[39m\u001b[38;5;124mmedium\u001b[39m\u001b[38;5;124m\"\u001b[39m, \u001b[38;5;124m\"\u001b[39m\u001b[38;5;124mhigh\u001b[39m\u001b[38;5;124m\"\u001b[39m]:\n\u001b[0;32m-> 2094\u001b[0m     \u001b[38;5;28;01mraise\u001b[39;00m paramException(\n\u001b[1;32m   2095\u001b[0m         title\u001b[38;5;241m=\u001b[39m\u001b[38;5;124m\"\u001b[39m\u001b[38;5;124mParam Error\u001b[39m\u001b[38;5;124m\"\u001b[39m,\n\u001b[1;32m   2096\u001b[0m         detail\u001b[38;5;241m=\u001b[39m\u001b[38;5;124m\"\u001b[39m\u001b[38;5;124m`priority` varaible can have these 3 values => `low`, `medium`, `high` \u001b[39m\u001b[38;5;124m\"\u001b[39m,\n\u001b[1;32m   2097\u001b[0m     )\n",
            "\u001b[0;31mparamException\u001b[0m: paramException (parameter error): `priority` varaible can have these 3 values => `low`, `medium`, `high` "
          ]
        }
      ],
      "source": [
        "# Testing point 3\n",
        "# wrong value of `priority`\n",
        "repo_id = \"1657028057682\"\n",
        "source_folder_path_data = \"Test_Files/data\"\n",
        "source_folder_metadata = \"Test_Files/metadata\"\n",
        "destination_folder = \"transcriptomics_70\"\n",
        "priority = \"super_high\"\n",
        "source_folder_path = {\"data\":source_folder_path_data, \"metadata\":source_folder_metadata}\n",
        "client.add_datasets(repo_id, source_folder_path, destination_folder, priority)"
      ]
    },
    {
      "cell_type": "code",
      "execution_count": 33,
      "metadata": {},
      "outputs": [
        {
          "ename": "paramException",
          "evalue": "paramException (parameter error): `metadata` path passed is not found. Please pass the correct path and call the function again",
          "output_type": "error",
          "traceback": [
            "\u001b[0;31m---------------------------------------------------------------------------\u001b[0m",
            "\u001b[0;31mparamException\u001b[0m                            Traceback (most recent call last)",
            "Input \u001b[0;32mIn [33]\u001b[0m, in \u001b[0;36m<cell line: 9>\u001b[0;34m()\u001b[0m\n\u001b[1;32m      7\u001b[0m priority \u001b[38;5;241m=\u001b[39m \u001b[38;5;124m\"\u001b[39m\u001b[38;5;124mhigh\u001b[39m\u001b[38;5;124m\"\u001b[39m\n\u001b[1;32m      8\u001b[0m source_folder_path \u001b[38;5;241m=\u001b[39m {\u001b[38;5;124m\"\u001b[39m\u001b[38;5;124mdata\u001b[39m\u001b[38;5;124m\"\u001b[39m:source_folder_path_data, \u001b[38;5;124m\"\u001b[39m\u001b[38;5;124mmetadata\u001b[39m\u001b[38;5;124m\"\u001b[39m:source_folder_metadata}\n\u001b[0;32m----> 9\u001b[0m \u001b[43mclient\u001b[49m\u001b[38;5;241;43m.\u001b[39;49m\u001b[43madd_datasets\u001b[49m\u001b[43m(\u001b[49m\u001b[43mrepo_id\u001b[49m\u001b[43m,\u001b[49m\u001b[43m \u001b[49m\u001b[43msource_folder_path\u001b[49m\u001b[43m,\u001b[49m\u001b[43m \u001b[49m\u001b[43mdestination_folder\u001b[49m\u001b[43m,\u001b[49m\u001b[43m \u001b[49m\u001b[43mpriority\u001b[49m\u001b[43m)\u001b[49m\n",
            "File \u001b[0;32m/usr/local/lib/python3.10/site-packages/polly/omixatlas.py:2455\u001b[0m, in \u001b[0;36mOmixAtlas.add_datasets\u001b[0;34m(self, repo_id, source_folder_path, destination_folder_path, priority)\u001b[0m\n\u001b[1;32m   2442\u001b[0m \u001b[38;5;124;03m\"\"\"\u001b[39;00m\n\u001b[1;32m   2443\u001b[0m \u001b[38;5;124;03mThis function is used to add data to an omixatlas\u001b[39;00m\n\u001b[1;32m   2444\u001b[0m \u001b[38;5;124;03mArgs:\u001b[39;00m\n\u001b[0;32m   (...)\u001b[0m\n\u001b[1;32m   2452\u001b[0m \u001b[38;5;124;03m    | https://github.com/ElucidataInc/polly-python/blob/main/Ingest/Data_Ingestion_CaseID_1.ipynb\u001b[39;00m\n\u001b[1;32m   2453\u001b[0m \u001b[38;5;124;03m\"\"\"\u001b[39;00m\n\u001b[1;32m   2454\u001b[0m \u001b[38;5;66;03m# parameters check\u001b[39;00m\n\u001b[0;32m-> 2455\u001b[0m \u001b[38;5;28;43mself\u001b[39;49m\u001b[38;5;241;43m.\u001b[39;49m\u001b[43m_parameter_check_for_add_dataset\u001b[49m\u001b[43m(\u001b[49m\n\u001b[1;32m   2456\u001b[0m \u001b[43m    \u001b[49m\u001b[43mrepo_id\u001b[49m\u001b[43m,\u001b[49m\u001b[43m \u001b[49m\u001b[43msource_folder_path\u001b[49m\u001b[43m,\u001b[49m\u001b[43m \u001b[49m\u001b[43mdestination_folder_path\u001b[49m\u001b[43m,\u001b[49m\u001b[43m \u001b[49m\u001b[43mpriority\u001b[49m\n\u001b[1;32m   2457\u001b[0m \u001b[43m\u001b[49m\u001b[43m)\u001b[49m\n\u001b[1;32m   2459\u001b[0m (\n\u001b[1;32m   2460\u001b[0m     session_tokens,\n\u001b[1;32m   2461\u001b[0m     bucket_name,\n\u001b[1;32m   2462\u001b[0m     package_name,\n\u001b[1;32m   2463\u001b[0m     metadata_directory,\n\u001b[1;32m   2464\u001b[0m ) \u001b[38;5;241m=\u001b[39m \u001b[38;5;28mself\u001b[39m\u001b[38;5;241m.\u001b[39m_get_session_tokens(repo_id, destination_folder_path)\n\u001b[1;32m   2466\u001b[0m \u001b[38;5;66;03m# folder paths\u001b[39;00m\n",
            "File \u001b[0;32m/usr/local/lib/python3.10/site-packages/polly/omixatlas.py:2074\u001b[0m, in \u001b[0;36mOmixAtlas._parameter_check_for_add_dataset\u001b[0;34m(self, repo_id, source_folder_path, destination_folder_path, priority)\u001b[0m\n\u001b[1;32m   2072\u001b[0m     \u001b[38;5;28mself\u001b[39m\u001b[38;5;241m.\u001b[39m_data_metadata_parameter_check(source_folder_path)\n\u001b[1;32m   2073\u001b[0m \u001b[38;5;28;01mexcept\u001b[39;00m \u001b[38;5;167;01mException\u001b[39;00m \u001b[38;5;28;01mas\u001b[39;00m err:\n\u001b[0;32m-> 2074\u001b[0m     \u001b[38;5;28;01mraise\u001b[39;00m err\n\u001b[1;32m   2076\u001b[0m \u001b[38;5;28;01mtry\u001b[39;00m:\n\u001b[1;32m   2077\u001b[0m     \u001b[38;5;28mself\u001b[39m\u001b[38;5;241m.\u001b[39m_data_metadata_file_ext_check(source_folder_path)\n",
            "File \u001b[0;32m/usr/local/lib/python3.10/site-packages/polly/omixatlas.py:2072\u001b[0m, in \u001b[0;36mOmixAtlas._parameter_check_for_add_dataset\u001b[0;34m(self, repo_id, source_folder_path, destination_folder_path, priority)\u001b[0m\n\u001b[1;32m   2069\u001b[0m     \u001b[38;5;28;01mraise\u001b[39;00m err\n\u001b[1;32m   2071\u001b[0m \u001b[38;5;28;01mtry\u001b[39;00m:\n\u001b[0;32m-> 2072\u001b[0m     \u001b[38;5;28;43mself\u001b[39;49m\u001b[38;5;241;43m.\u001b[39;49m\u001b[43m_data_metadata_parameter_check\u001b[49m\u001b[43m(\u001b[49m\u001b[43msource_folder_path\u001b[49m\u001b[43m)\u001b[49m\n\u001b[1;32m   2073\u001b[0m \u001b[38;5;28;01mexcept\u001b[39;00m \u001b[38;5;167;01mException\u001b[39;00m \u001b[38;5;28;01mas\u001b[39;00m err:\n\u001b[1;32m   2074\u001b[0m     \u001b[38;5;28;01mraise\u001b[39;00m err\n",
            "File \u001b[0;32m/usr/local/lib/python3.10/site-packages/polly/omixatlas.py:1904\u001b[0m, in \u001b[0;36mOmixAtlas._data_metadata_parameter_check\u001b[0;34m(self, source_folder_path)\u001b[0m\n\u001b[1;32m   1902\u001b[0m data_directory \u001b[38;5;241m=\u001b[39m os\u001b[38;5;241m.\u001b[39mfsencode(source_folder_path[\u001b[38;5;124m\"\u001b[39m\u001b[38;5;124mmetadata\u001b[39m\u001b[38;5;124m\"\u001b[39m])\n\u001b[1;32m   1903\u001b[0m \u001b[38;5;28;01mif\u001b[39;00m \u001b[38;5;129;01mnot\u001b[39;00m os\u001b[38;5;241m.\u001b[39mpath\u001b[38;5;241m.\u001b[39mexists(data_directory):\n\u001b[0;32m-> 1904\u001b[0m     \u001b[38;5;28;01mraise\u001b[39;00m paramException(\n\u001b[1;32m   1905\u001b[0m         title\u001b[38;5;241m=\u001b[39m\u001b[38;5;124m\"\u001b[39m\u001b[38;5;124mParam Error\u001b[39m\u001b[38;5;124m\"\u001b[39m,\n\u001b[1;32m   1906\u001b[0m         detail\u001b[38;5;241m=\u001b[39m\u001b[38;5;124m\"\u001b[39m\u001b[38;5;124m`metadata` path passed is not found. Please pass the correct path and call the function again\u001b[39m\u001b[38;5;124m\"\u001b[39m,\n\u001b[1;32m   1907\u001b[0m     )\n",
            "\u001b[0;31mparamException\u001b[0m: paramException (parameter error): `metadata` path passed is not found. Please pass the correct path and call the function again"
          ]
        }
      ],
      "source": [
        "# Testing point 4\n",
        "# wrong extension of metadata\n",
        "repo_id = \"1657028057682\"\n",
        "source_folder_path_data = \"Test_Files/data\"\n",
        "source_folder_metadata = \"Test_Files/ingestion test.pco\"\n",
        "destination_folder = \"transcriptomics_70\"\n",
        "priority = \"high\"\n",
        "source_folder_path = {\"data\":source_folder_path_data, \"metadata\":source_folder_metadata}\n",
        "client.add_datasets(repo_id, source_folder_path, destination_folder, priority)"
      ]
    },
    {
      "cell_type": "code",
      "execution_count": 37,
      "metadata": {},
      "outputs": [
        {
          "name": "stdout",
          "output_type": "stream",
          "text": [
            "{'data': 'Test_Files/data', 'metadata': 'Test_Files/metadata'}\n"
          ]
        },
        {
          "ename": "RequestException",
          "evalue": "('Access denied', \"User 'sakshi.kukreja@elucidata.io' does not have the necessary permissions to perform this operation\")",
          "output_type": "error",
          "traceback": [
            "\u001b[0;31m---------------------------------------------------------------------------\u001b[0m",
            "\u001b[0;31mRequestException\u001b[0m                          Traceback (most recent call last)",
            "Input \u001b[0;32mIn [37]\u001b[0m, in \u001b[0;36m<cell line: 8>\u001b[0;34m()\u001b[0m\n\u001b[1;32m      6\u001b[0m source_folder_path \u001b[38;5;241m=\u001b[39m {\u001b[38;5;124m\"\u001b[39m\u001b[38;5;124mdata\u001b[39m\u001b[38;5;124m\"\u001b[39m:source_folder_path_data, \u001b[38;5;124m\"\u001b[39m\u001b[38;5;124mmetadata\u001b[39m\u001b[38;5;124m\"\u001b[39m:source_folder_metadata}\n\u001b[1;32m      7\u001b[0m \u001b[38;5;28mprint\u001b[39m(source_folder_path)\n\u001b[0;32m----> 8\u001b[0m \u001b[43mclient\u001b[49m\u001b[38;5;241;43m.\u001b[39;49m\u001b[43madd_datasets\u001b[49m\u001b[43m(\u001b[49m\u001b[43mrepo_id\u001b[49m\u001b[43m,\u001b[49m\u001b[43m \u001b[49m\u001b[43msource_folder_path\u001b[49m\u001b[43m,\u001b[49m\u001b[43m \u001b[49m\u001b[43mdestination_folder\u001b[49m\u001b[43m,\u001b[49m\u001b[43m \u001b[49m\u001b[43mpriority\u001b[49m\u001b[43m)\u001b[49m\n",
            "File \u001b[0;32m/usr/local/lib/python3.10/site-packages/polly/omixatlas.py:2464\u001b[0m, in \u001b[0;36mOmixAtlas.add_datasets\u001b[0;34m(self, repo_id, source_folder_path, destination_folder_path, priority)\u001b[0m\n\u001b[1;32m   2454\u001b[0m \u001b[38;5;66;03m# parameters check\u001b[39;00m\n\u001b[1;32m   2455\u001b[0m \u001b[38;5;28mself\u001b[39m\u001b[38;5;241m.\u001b[39m_parameter_check_for_add_dataset(\n\u001b[1;32m   2456\u001b[0m     repo_id, source_folder_path, destination_folder_path, priority\n\u001b[1;32m   2457\u001b[0m )\n\u001b[1;32m   2459\u001b[0m (\n\u001b[1;32m   2460\u001b[0m     session_tokens,\n\u001b[1;32m   2461\u001b[0m     bucket_name,\n\u001b[1;32m   2462\u001b[0m     package_name,\n\u001b[1;32m   2463\u001b[0m     metadata_directory,\n\u001b[0;32m-> 2464\u001b[0m ) \u001b[38;5;241m=\u001b[39m \u001b[38;5;28;43mself\u001b[39;49m\u001b[38;5;241;43m.\u001b[39;49m\u001b[43m_get_session_tokens\u001b[49m\u001b[43m(\u001b[49m\u001b[43mrepo_id\u001b[49m\u001b[43m,\u001b[49m\u001b[43m \u001b[49m\u001b[43mdestination_folder_path\u001b[49m\u001b[43m)\u001b[49m\n\u001b[1;32m   2466\u001b[0m \u001b[38;5;66;03m# folder paths\u001b[39;00m\n\u001b[1;32m   2467\u001b[0m data_source_folder_path \u001b[38;5;241m=\u001b[39m source_folder_path[\u001b[38;5;124m\"\u001b[39m\u001b[38;5;124mdata\u001b[39m\u001b[38;5;124m\"\u001b[39m]\n",
            "File \u001b[0;32m/usr/local/lib/python3.10/site-packages/polly/omixatlas.py:2392\u001b[0m, in \u001b[0;36mOmixAtlas._get_session_tokens\u001b[0;34m(self, repo_id, destination_folder_path)\u001b[0m\n\u001b[1;32m   2390\u001b[0m repository_url \u001b[38;5;241m=\u001b[39m \u001b[38;5;124mf\u001b[39m\u001b[38;5;124m\"\u001b[39m\u001b[38;5;132;01m{\u001b[39;00m\u001b[38;5;28mself\u001b[39m\u001b[38;5;241m.\u001b[39mdiscover_url\u001b[38;5;132;01m}\u001b[39;00m\u001b[38;5;124m/repositories/\u001b[39m\u001b[38;5;132;01m{\u001b[39;00mrepo_id\u001b[38;5;132;01m}\u001b[39;00m\u001b[38;5;124m/files?tokens=true\u001b[39m\u001b[38;5;124m\"\u001b[39m\n\u001b[1;32m   2391\u001b[0m resp \u001b[38;5;241m=\u001b[39m \u001b[38;5;28mself\u001b[39m\u001b[38;5;241m.\u001b[39msession\u001b[38;5;241m.\u001b[39mpost(repository_url, json\u001b[38;5;241m=\u001b[39mpayload)\n\u001b[0;32m-> 2392\u001b[0m \u001b[43merror_handler\u001b[49m\u001b[43m(\u001b[49m\u001b[43mresp\u001b[49m\u001b[43m)\u001b[49m\n\u001b[1;32m   2393\u001b[0m \u001b[38;5;28;01mif\u001b[39;00m resp\u001b[38;5;241m.\u001b[39mstatus_code \u001b[38;5;241m!=\u001b[39m const\u001b[38;5;241m.\u001b[39mOK:\n\u001b[1;32m   2394\u001b[0m     \u001b[38;5;28;01mraise\u001b[39;00m \u001b[38;5;167;01mException\u001b[39;00m(resp\u001b[38;5;241m.\u001b[39mtext)\n",
            "File \u001b[0;32m/usr/local/lib/python3.10/site-packages/polly/errors.py:289\u001b[0m, in \u001b[0;36merror_handler\u001b[0;34m(response)\u001b[0m\n\u001b[1;32m    287\u001b[0m \u001b[38;5;28;01mif\u001b[39;00m has_error_message(response):\n\u001b[1;32m    288\u001b[0m     title, detail \u001b[38;5;241m=\u001b[39m extract_json_api_error(response)\n\u001b[0;32m--> 289\u001b[0m     \u001b[38;5;28;01mraise\u001b[39;00m RequestException(title, detail)\n\u001b[1;32m    290\u001b[0m \u001b[38;5;28;01melif\u001b[39;00m response\u001b[38;5;241m.\u001b[39mstatus_code \u001b[38;5;241m==\u001b[39m \u001b[38;5;241m401\u001b[39m:\n\u001b[1;32m    291\u001b[0m     \u001b[38;5;28;01mraise\u001b[39;00m UnauthorizedException\n",
            "\u001b[0;31mRequestException\u001b[0m: ('Access denied', \"User 'sakshi.kukreja@elucidata.io' does not have the necessary permissions to perform this operation\")"
          ]
        }
      ],
      "source": [
        "repo_id = \"1654268055800\"\n",
        "source_folder_path_data = \"Test_Files/data\"\n",
        "source_folder_metadata = \"Test_Files/metadata\"\n",
        "destination_folder = \"transcriptomics_70\"\n",
        "priority = \"high\"\n",
        "source_folder_path = {\"data\":source_folder_path_data, \"metadata\":source_folder_metadata}\n",
        "print(source_folder_path)\n",
        "client.add_datasets(repo_id, source_folder_path, destination_folder, priority)"
      ]
    },
    {
      "cell_type": "code",
      "execution_count": 39,
      "metadata": {},
      "outputs": [
        {
          "name": "stdout",
          "output_type": "stream",
          "text": [
            "{'data': 'Test_Files/data', 'metadata': 'Test_Files/metadata'}\n",
            "/import/combined_metadata.json  5162 / 5162.0  (100.00%)\n",
            "\n",
            "Test_Files/data/lincs_GSE92742_PHH_BRD-K99705204.gct  29545407 / 29545407.0  (100.00%)\n",
            "\n",
            "Test_Files/data/lincs_GSE92742_PHH_BRD-U29336476.gct  29635847 / 29635847.0  (100.00%)\n",
            "                               File Name        Message\n",
            "0                combined_metadata.json  File Uploaded\n",
            "1  lincs_GSE92742_PHH_BRD-K99705204.gct  File Uploaded\n",
            "2  lincs_GSE92742_PHH_BRD-U29336476.gct  File Uploaded\n"
          ]
        },
        {
          "data": {
            "text/html": [
              "<div>\n",
              "<style scoped>\n",
              "    .dataframe tbody tr th:only-of-type {\n",
              "        vertical-align: middle;\n",
              "    }\n",
              "\n",
              "    .dataframe tbody tr th {\n",
              "        vertical-align: top;\n",
              "    }\n",
              "\n",
              "    .dataframe thead th {\n",
              "        text-align: right;\n",
              "    }\n",
              "</style>\n",
              "<table border=\"1\" class=\"dataframe\">\n",
              "  <thead>\n",
              "    <tr style=\"text-align: right;\">\n",
              "      <th></th>\n",
              "      <th>File Name</th>\n",
              "      <th>Message</th>\n",
              "    </tr>\n",
              "  </thead>\n",
              "  <tbody>\n",
              "    <tr>\n",
              "      <th>0</th>\n",
              "      <td>combined_metadata.json</td>\n",
              "      <td>File Uploaded</td>\n",
              "    </tr>\n",
              "    <tr>\n",
              "      <th>1</th>\n",
              "      <td>lincs_GSE92742_PHH_BRD-K99705204.gct</td>\n",
              "      <td>File Uploaded</td>\n",
              "    </tr>\n",
              "    <tr>\n",
              "      <th>2</th>\n",
              "      <td>lincs_GSE92742_PHH_BRD-U29336476.gct</td>\n",
              "      <td>File Uploaded</td>\n",
              "    </tr>\n",
              "  </tbody>\n",
              "</table>\n",
              "</div>"
            ],
            "text/plain": [
              "                              File Name        Message\n",
              "0                combined_metadata.json  File Uploaded\n",
              "1  lincs_GSE92742_PHH_BRD-K99705204.gct  File Uploaded\n",
              "2  lincs_GSE92742_PHH_BRD-U29336476.gct  File Uploaded"
            ]
          },
          "execution_count": 39,
          "metadata": {},
          "output_type": "execute_result"
        }
      ],
      "source": [
        "repo_id = \"1657028057682\"\n",
        "source_folder_path_data = \"Test_Files/data\"\n",
        "source_folder_metadata = \"Test_Files/metadata\"\n",
        "destination_folder = \"transcriptomics_70\"\n",
        "priority = \"high\"\n",
        "source_folder_path = {\"data\":source_folder_path_data, \"metadata\":source_folder_metadata}\n",
        "print(source_folder_path)\n",
        "client.add_datasets(repo_id, source_folder_path, destination_folder, priority)"
      ]
    },
    {
      "cell_type": "code",
      "execution_count": null,
      "metadata": {},
      "outputs": [],
      "source": []
    }
  ],
  "metadata": {
    "kernelspec": {
      "display_name": "Python 3 (ipykernel)",
      "language": "python",
      "name": "python3"
    },
    "language_info": {
      "codemirror_mode": {
        "name": "ipython",
        "version": 3
      },
      "file_extension": ".py",
      "mimetype": "text/x-python",
      "name": "python",
      "nbconvert_exporter": "python",
      "pygments_lexer": "ipython3",
      "version": "3.10.2"
    }
  },
  "nbformat": 4,
  "nbformat_minor": 2
}