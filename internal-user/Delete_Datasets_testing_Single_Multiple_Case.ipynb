{
  "cells": [
    {
      "cell_type": "markdown",
      "metadata": {
        "colab_type": "text",
        "id": "view-in-github"
      },
      "source": [
        "<a href=\"https://testpolly.elucidata.io/manage/workspaces?action=open_polly_notebook&source=github&path=path_place_holder&kernel=elucidata/Python 3.10&machine=medium\" target=\"_parent\"><img src=\"https://elucidatainc.github.io/PublicAssets/open_polly.svg\" alt=\"Open in Polly\"/></a>\n"
      ]
    },
    {
      "cell_type": "markdown",
      "metadata": {},
      "source": [
        "# Welcome to Polly Python3 Notebook."
      ]
    },
    {
      "cell_type": "code",
      "execution_count": 2,
      "metadata": {},
      "outputs": [
        {
          "name": "stdout",
          "output_type": "stream",
          "text": [
            "/bin/bash: warning: setlocale: LC_ALL: cannot change locale (en_US.UTF-8)\n",
            "Collecting polly-python==0.3.0-delete-datasets\n",
            "  Downloading https://elucidatainc.github.io/PublicAssets/builds/polly-python/tests/testpolly/polly_python-0.3.0_delete_datasets-py3-none-any.whl (129 kB)\n",
            "\u001b[K     |████████████████████████████████| 129 kB 26.2 MB/s eta 0:00:01\n",
            "\u001b[?25hRequirement already satisfied: pytest in /usr/local/lib/python3.10/site-packages (from polly-python==0.3.0-delete-datasets) (7.2.1)\n",
            "Requirement already satisfied: boto3>=1.17.73 in /usr/local/lib/python3.10/site-packages (from polly-python==0.3.0-delete-datasets) (1.21.19)\n",
            "Requirement already satisfied: tqdm in /usr/local/lib/python3.10/site-packages (from polly-python==0.3.0-delete-datasets) (4.64.1)\n",
            "Requirement already satisfied: beautifulsoup4 in /usr/local/lib/python3.10/site-packages (from polly-python==0.3.0-delete-datasets) (4.11.2)\n",
            "Requirement already satisfied: Cerberus==1.3.2 in /usr/local/lib/python3.10/site-packages (from polly-python==0.3.0-delete-datasets) (1.3.2)\n",
            "Requirement already satisfied: datapane in /usr/local/lib/python3.10/site-packages (from polly-python==0.3.0-delete-datasets) (0.15.6)\n",
            "Requirement already satisfied: certifi==2021.10.8 in /usr/local/lib/python3.10/site-packages (from polly-python==0.3.0-delete-datasets) (2021.10.8)\n",
            "Requirement already satisfied: chardet==4.0.0 in /usr/local/lib/python3.10/site-packages (from polly-python==0.3.0-delete-datasets) (4.0.0)\n",
            "Collecting polly-validator==0.0.1\n",
            "  Downloading polly_validator-0.0.1-py3-none-any.whl (29 kB)\n",
            "Requirement already satisfied: pytz==2021.1 in /usr/local/lib/python3.10/site-packages (from polly-python==0.3.0-delete-datasets) (2021.1)\n",
            "Requirement already satisfied: joblib in /usr/local/lib/python3.10/site-packages (from polly-python==0.3.0-delete-datasets) (1.2.0)\n",
            "Requirement already satisfied: pydantic in /usr/local/lib/python3.10/site-packages (from polly-python==0.3.0-delete-datasets) (1.9.1)\n",
            "Requirement already satisfied: retrying==1.3.3 in /usr/local/lib/python3.10/site-packages (from polly-python==0.3.0-delete-datasets) (1.3.3)\n",
            "Requirement already satisfied: python-dateutil in /usr/local/lib/python3.10/site-packages (from polly-python==0.3.0-delete-datasets) (2.8.1)\n",
            "Requirement already satisfied: Deprecated in /usr/local/lib/python3.10/site-packages (from polly-python==0.3.0-delete-datasets) (1.2.13)\n",
            "Requirement already satisfied: botocore>=1.20.73 in /usr/local/lib/python3.10/site-packages (from polly-python==0.3.0-delete-datasets) (1.24.19)\n",
            "Requirement already satisfied: urllib3==1.26.6 in /usr/local/lib/python3.10/site-packages (from polly-python==0.3.0-delete-datasets) (1.26.6)\n",
            "Collecting cryptography>=38.0.1\n",
            "  Downloading cryptography-40.0.1-cp36-abi3-manylinux_2_28_x86_64.whl (3.7 MB)\n",
            "\u001b[K     |████████████████████████████████| 3.7 MB 64.9 MB/s eta 0:00:01\n",
            "\u001b[?25hRequirement already satisfied: idna==2.10 in /usr/local/lib/python3.10/site-packages (from polly-python==0.3.0-delete-datasets) (2.10)\n",
            "Requirement already satisfied: plotly in /usr/local/lib/python3.10/site-packages (from polly-python==0.3.0-delete-datasets) (5.13.0)\n",
            "Collecting mixpanel>=4.10.0\n",
            "  Downloading mixpanel-4.10.0-py2.py3-none-any.whl (8.9 kB)\n",
            "Requirement already satisfied: requests==2.25.1 in /usr/local/lib/python3.10/site-packages (from polly-python==0.3.0-delete-datasets) (2.25.1)\n",
            "Requirement already satisfied: rst2txt in /usr/local/lib/python3.10/site-packages (from polly-python==0.3.0-delete-datasets) (1.1.0)\n",
            "Requirement already satisfied: pandas in /usr/local/lib/python3.10/site-packages (from polly-python==0.3.0-delete-datasets) (1.4.1)\n",
            "Requirement already satisfied: six==1.16.0 in /usr/local/lib/python3.10/site-packages (from polly-python==0.3.0-delete-datasets) (1.16.0)\n",
            "Requirement already satisfied: postpy2==0.0.6 in /usr/local/lib/python3.10/site-packages (from polly-python==0.3.0-delete-datasets) (0.0.6)\n",
            "Requirement already satisfied: elucidatacmapPy==3.3.4 in /usr/local/lib/python3.10/site-packages (from polly-python==0.3.0-delete-datasets) (3.3.4)\n",
            "Requirement already satisfied: python-jose>=3.3.0 in /usr/local/lib/python3.10/site-packages (from polly-python==0.3.0-delete-datasets) (3.3.0)\n",
            "Requirement already satisfied: sqlparse in /usr/local/lib/python3.10/site-packages (from polly-python==0.3.0-delete-datasets) (0.4.3)\n",
            "Requirement already satisfied: python-magic==0.4.24 in /usr/local/lib/python3.10/site-packages (from polly-python==0.3.0-delete-datasets) (0.4.24)\n",
            "Requirement already satisfied: elucidatacloudpathlib==0.6.6 in /usr/local/lib/python3.10/site-packages (from polly-python==0.3.0-delete-datasets) (0.6.6)\n",
            "Requirement already satisfied: setuptools in /usr/local/lib/python3.10/site-packages (from Cerberus==1.3.2->polly-python==0.3.0-delete-datasets) (58.1.0)\n",
            "Requirement already satisfied: h5py>=2.6.0 in /usr/local/lib/python3.10/site-packages (from elucidatacmapPy==3.3.4->polly-python==0.3.0-delete-datasets) (3.8.0)\n",
            "Requirement already satisfied: numpy>=1.11.2 in /usr/local/lib/python3.10/site-packages (from elucidatacmapPy==3.3.4->polly-python==0.3.0-delete-datasets) (1.22.3)\n",
            "Requirement already satisfied: tabulate==0.8.10 in /usr/local/lib/python3.10/site-packages (from polly-validator==0.0.1->polly-python==0.3.0-delete-datasets) (0.8.10)\n",
            "Collecting rapidfuzz==2.1.1\n",
            "  Downloading rapidfuzz-2.1.1-cp310-cp310-manylinux_2_17_x86_64.manylinux2014_x86_64.whl (2.0 MB)\n",
            "\u001b[K     |████████████████████████████████| 2.0 MB 123.7 MB/s eta 0:00:01\n",
            "\u001b[?25hCollecting pronto\n",
            "  Downloading pronto-2.5.3-py2.py3-none-any.whl (61 kB)\n",
            "\u001b[K     |████████████████████████████████| 61 kB 21.5 MB/s  eta 0:00:01\n",
            "\u001b[?25hCollecting appdirs==1.4.4\n",
            "  Downloading appdirs-1.4.4-py2.py3-none-any.whl (9.6 kB)\n",
            "Collecting jarowinkler<1.1.0,>=1.0.3\n",
            "  Downloading jarowinkler-1.0.5-cp310-cp310-manylinux_2_17_x86_64.manylinux2014_x86_64.whl (103 kB)\n",
            "\u001b[K     |████████████████████████████████| 103 kB 128.7 MB/s eta 0:00:01\n",
            "\u001b[?25hRequirement already satisfied: s3transfer<0.6.0,>=0.5.0 in /usr/local/lib/python3.10/site-packages (from boto3>=1.17.73->polly-python==0.3.0-delete-datasets) (0.5.2)\n",
            "Requirement already satisfied: jmespath<1.0.0,>=0.7.1 in /usr/local/lib/python3.10/site-packages (from boto3>=1.17.73->polly-python==0.3.0-delete-datasets) (0.10.0)\n",
            "Requirement already satisfied: cffi>=1.12 in /usr/local/lib/python3.10/site-packages (from cryptography>=38.0.1->polly-python==0.3.0-delete-datasets) (1.15.1)\n",
            "Requirement already satisfied: pycparser in /usr/local/lib/python3.10/site-packages (from cffi>=1.12->cryptography>=38.0.1->polly-python==0.3.0-delete-datasets) (2.21)\n",
            "Requirement already satisfied: pyasn1 in /usr/local/lib/python3.10/site-packages (from python-jose>=3.3.0->polly-python==0.3.0-delete-datasets) (0.4.8)\n",
            "Requirement already satisfied: rsa in /usr/local/lib/python3.10/site-packages (from python-jose>=3.3.0->polly-python==0.3.0-delete-datasets) (4.7.2)\n",
            "Requirement already satisfied: ecdsa!=0.15 in /usr/local/lib/python3.10/site-packages (from python-jose>=3.3.0->polly-python==0.3.0-delete-datasets) (0.18.0)\n",
            "Requirement already satisfied: soupsieve>1.2 in /usr/local/lib/python3.10/site-packages (from beautifulsoup4->polly-python==0.3.0-delete-datasets) (2.3.2.post1)\n",
            "Requirement already satisfied: jsonschema<5.0.0,>=3.2.0 in /usr/local/lib/python3.10/site-packages (from datapane->polly-python==0.3.0-delete-datasets) (4.2.1)\n",
            "Requirement already satisfied: datacommons-pandas<0.0.4,>=0.0.3 in /usr/local/lib/python3.10/site-packages (from datapane->polly-python==0.3.0-delete-datasets) (0.0.3)\n",
            "Requirement already satisfied: lxml<5.0.0,>=4.0.0 in /usr/local/lib/python3.10/site-packages (from datapane->polly-python==0.3.0-delete-datasets) (4.9.2)\n",
            "Requirement already satisfied: requests-toolbelt<0.10.0,>=0.9.1 in /usr/local/lib/python3.10/site-packages (from datapane->polly-python==0.3.0-delete-datasets) (0.9.1)\n",
            "Requirement already satisfied: toolz<0.13.0,>=0.11.0 in /usr/local/lib/python3.10/site-packages (from datapane->polly-python==0.3.0-delete-datasets) (0.12.0)\n",
            "Requirement already satisfied: munch<3.0.0,>=2.3.0 in /usr/local/lib/python3.10/site-packages (from datapane->polly-python==0.3.0-delete-datasets) (2.5.0)\n",
            "Requirement already satisfied: packaging<24.0.0,>=21.0.0 in /usr/local/lib/python3.10/site-packages (from datapane->polly-python==0.3.0-delete-datasets) (23.0)\n",
            "Requirement already satisfied: boltons<22.0.0,>=20.0.0 in /usr/local/lib/python3.10/site-packages (from datapane->polly-python==0.3.0-delete-datasets) (21.0.0)\n",
            "Requirement already satisfied: datacommons<2.0.0,>=1.4.3 in /usr/local/lib/python3.10/site-packages (from datapane->polly-python==0.3.0-delete-datasets) (1.4.3)\n",
            "Requirement already satisfied: glom<24.0.0,>=20.11.0 in /usr/local/lib/python3.10/site-packages (from datapane->polly-python==0.3.0-delete-datasets) (23.1.1)\n",
            "Requirement already satisfied: pyarrow<11.0.0,>=6.0.0 in /usr/local/lib/python3.10/site-packages (from datapane->polly-python==0.3.0-delete-datasets) (10.0.1)\n",
            "Requirement already satisfied: vega-datasets<1.0.0,>=0.9.0 in /usr/local/lib/python3.10/site-packages (from datapane->polly-python==0.3.0-delete-datasets) (0.9.0)\n",
            "Requirement already satisfied: click-spinner<0.2.0,>=0.1.8 in /usr/local/lib/python3.10/site-packages (from datapane->polly-python==0.3.0-delete-datasets) (0.1.10)\n",
            "Requirement already satisfied: posthog<3.0.0,>=1.4.0 in /usr/local/lib/python3.10/site-packages (from datapane->polly-python==0.3.0-delete-datasets) (2.3.0)\n",
            "Requirement already satisfied: colorlog<7.0.0,>=4.1.0 in /usr/local/lib/python3.10/site-packages (from datapane->polly-python==0.3.0-delete-datasets) (6.7.0)\n",
            "Requirement already satisfied: Jinja2<4.0.0,>=3.0.0 in /usr/local/lib/python3.10/site-packages (from datapane->polly-python==0.3.0-delete-datasets) (3.0.3)\n",
            "Requirement already satisfied: furl<3.0.0,>=2.0.0 in /usr/local/lib/python3.10/site-packages (from datapane->polly-python==0.3.0-delete-datasets) (2.1.3)\n",
            "Requirement already satisfied: stringcase<2.0.0,>=1.2.0 in /usr/local/lib/python3.10/site-packages (from datapane->polly-python==0.3.0-delete-datasets) (1.2.0)\n",
            "Requirement already satisfied: altair<5.0.0,>=4.0.0 in /usr/local/lib/python3.10/site-packages (from datapane->polly-python==0.3.0-delete-datasets) (4.2.2)\n",
            "Requirement already satisfied: dulwich<0.21.0,>=0.20.0 in /usr/local/lib/python3.10/site-packages (from datapane->polly-python==0.3.0-delete-datasets) (0.20.50)\n",
            "Requirement already satisfied: dacite<2.0.0,>=1.0.2 in /usr/local/lib/python3.10/site-packages (from datapane->polly-python==0.3.0-delete-datasets) (1.8.0)\n",
            "Requirement already satisfied: nbconvert<7.0.0,>=6.1.0 in /usr/local/lib/python3.10/site-packages (from datapane->polly-python==0.3.0-delete-datasets) (6.3.0)\n",
            "Requirement already satisfied: PyYAML<7.0.0,>=5.4.0 in /usr/local/lib/python3.10/site-packages (from datapane->polly-python==0.3.0-delete-datasets) (5.4.1)\n",
            "Requirement already satisfied: ipynbname<2022.0.0,>=2021.3.2 in /usr/local/lib/python3.10/site-packages (from datapane->polly-python==0.3.0-delete-datasets) (2021.3.2)\n",
            "Requirement already satisfied: micawber>=0.5.0 in /usr/local/lib/python3.10/site-packages (from datapane->polly-python==0.3.0-delete-datasets) (0.5.4)\n",
            "Requirement already satisfied: click<9.0.0,>=7.1.0 in /usr/local/lib/python3.10/site-packages (from datapane->polly-python==0.3.0-delete-datasets) (8.1.3)\n",
            "Requirement already satisfied: importlib_resources<6.0.0,>=3.0.0 in /usr/local/lib/python3.10/site-packages (from datapane->polly-python==0.3.0-delete-datasets) (5.10.2)\n",
            "Requirement already satisfied: dominate<3.0.0,>=2.4.0 in /usr/local/lib/python3.10/site-packages (from datapane->polly-python==0.3.0-delete-datasets) (2.7.0)\n",
            "Requirement already satisfied: validators<0.21.0,>=0.18.0 in /usr/local/lib/python3.10/site-packages (from datapane->polly-python==0.3.0-delete-datasets) (0.20.0)\n"
          ]
        },
        {
          "name": "stdout",
          "output_type": "stream",
          "text": [
            "Requirement already satisfied: entrypoints in /usr/local/lib/python3.10/site-packages (from altair<5.0.0,>=4.0.0->datapane->polly-python==0.3.0-delete-datasets) (0.3)\n",
            "Requirement already satisfied: orderedmultidict>=1.0.1 in /usr/local/lib/python3.10/site-packages (from furl<3.0.0,>=2.0.0->datapane->polly-python==0.3.0-delete-datasets) (1.0.1)\n",
            "Requirement already satisfied: face==20.1.1 in /usr/local/lib/python3.10/site-packages (from glom<24.0.0,>=20.11.0->datapane->polly-python==0.3.0-delete-datasets) (20.1.1)\n",
            "Requirement already satisfied: attrs in /usr/local/lib/python3.10/site-packages (from glom<24.0.0,>=20.11.0->datapane->polly-python==0.3.0-delete-datasets) (21.2.0)\n",
            "Requirement already satisfied: ipykernel in /usr/local/lib/python3.10/site-packages (from ipynbname<2022.0.0,>=2021.3.2->datapane->polly-python==0.3.0-delete-datasets) (6.13.1)\n",
            "Requirement already satisfied: MarkupSafe>=2.0 in /usr/local/lib/python3.10/site-packages (from Jinja2<4.0.0,>=3.0.0->datapane->polly-python==0.3.0-delete-datasets) (2.0.1)\n",
            "Requirement already satisfied: pyrsistent!=0.17.0,!=0.17.1,!=0.17.2,>=0.14.0 in /usr/local/lib/python3.10/site-packages (from jsonschema<5.0.0,>=3.2.0->datapane->polly-python==0.3.0-delete-datasets) (0.18.0)\n",
            "Requirement already satisfied: bleach in /usr/local/lib/python3.10/site-packages (from nbconvert<7.0.0,>=6.1.0->datapane->polly-python==0.3.0-delete-datasets) (4.1.0)\n",
            "Requirement already satisfied: jupyterlab-pygments in /usr/local/lib/python3.10/site-packages (from nbconvert<7.0.0,>=6.1.0->datapane->polly-python==0.3.0-delete-datasets) (0.2.2)\n",
            "Requirement already satisfied: pygments>=2.4.1 in /usr/local/lib/python3.10/site-packages (from nbconvert<7.0.0,>=6.1.0->datapane->polly-python==0.3.0-delete-datasets) (2.10.0)\n",
            "Requirement already satisfied: pandocfilters>=1.4.1 in /usr/local/lib/python3.10/site-packages (from nbconvert<7.0.0,>=6.1.0->datapane->polly-python==0.3.0-delete-datasets) (1.5.0)\n",
            "Requirement already satisfied: mistune<2,>=0.8.1 in /usr/local/lib/python3.10/site-packages (from nbconvert<7.0.0,>=6.1.0->datapane->polly-python==0.3.0-delete-datasets) (0.8.4)\n",
            "Requirement already satisfied: traitlets>=5.0 in /usr/local/lib/python3.10/site-packages (from nbconvert<7.0.0,>=6.1.0->datapane->polly-python==0.3.0-delete-datasets) (5.1.1)\n",
            "Requirement already satisfied: nbformat>=4.4 in /usr/local/lib/python3.10/site-packages (from nbconvert<7.0.0,>=6.1.0->datapane->polly-python==0.3.0-delete-datasets) (5.1.3)\n",
            "Requirement already satisfied: testpath in /usr/local/lib/python3.10/site-packages (from nbconvert<7.0.0,>=6.1.0->datapane->polly-python==0.3.0-delete-datasets) (0.5.0)\n",
            "Requirement already satisfied: nbclient<0.6.0,>=0.5.0 in /usr/local/lib/python3.10/site-packages (from nbconvert<7.0.0,>=6.1.0->datapane->polly-python==0.3.0-delete-datasets) (0.5.13)\n",
            "Requirement already satisfied: defusedxml in /usr/local/lib/python3.10/site-packages (from nbconvert<7.0.0,>=6.1.0->datapane->polly-python==0.3.0-delete-datasets) (0.7.1)\n",
            "Requirement already satisfied: jupyter-core in /usr/local/lib/python3.10/site-packages (from nbconvert<7.0.0,>=6.1.0->datapane->polly-python==0.3.0-delete-datasets) (4.9.1)\n",
            "Requirement already satisfied: jupyter-client>=6.1.5 in /usr/local/lib/python3.10/site-packages (from nbclient<0.6.0,>=0.5.0->nbconvert<7.0.0,>=6.1.0->datapane->polly-python==0.3.0-delete-datasets) (6.1.12)\n",
            "Requirement already satisfied: nest-asyncio in /usr/local/lib/python3.10/site-packages (from nbclient<0.6.0,>=0.5.0->nbconvert<7.0.0,>=6.1.0->datapane->polly-python==0.3.0-delete-datasets) (1.5.6)\n",
            "Requirement already satisfied: pyzmq>=13 in /usr/local/lib/python3.10/site-packages (from jupyter-client>=6.1.5->nbclient<0.6.0,>=0.5.0->nbconvert<7.0.0,>=6.1.0->datapane->polly-python==0.3.0-delete-datasets) (22.3.0)\n",
            "Requirement already satisfied: tornado>=4.1 in /usr/local/lib/python3.10/site-packages (from jupyter-client>=6.1.5->nbclient<0.6.0,>=0.5.0->nbconvert<7.0.0,>=6.1.0->datapane->polly-python==0.3.0-delete-datasets) (6.1)\n",
            "Requirement already satisfied: ipython-genutils in /usr/local/lib/python3.10/site-packages (from nbformat>=4.4->nbconvert<7.0.0,>=6.1.0->datapane->polly-python==0.3.0-delete-datasets) (0.2.0)\n",
            "Requirement already satisfied: monotonic>=1.5 in /usr/local/lib/python3.10/site-packages (from posthog<3.0.0,>=1.4.0->datapane->polly-python==0.3.0-delete-datasets) (1.6)\n",
            "Requirement already satisfied: backoff<2.0.0,>=1.10.0 in /usr/local/lib/python3.10/site-packages (from posthog<3.0.0,>=1.4.0->datapane->polly-python==0.3.0-delete-datasets) (1.11.1)\n",
            "Requirement already satisfied: typing-extensions>=3.7.4.3 in /usr/local/lib/python3.10/site-packages (from pydantic->polly-python==0.3.0-delete-datasets) (4.4.0)\n",
            "Requirement already satisfied: decorator>=3.4.0 in /usr/local/lib/python3.10/site-packages (from validators<0.21.0,>=0.18.0->datapane->polly-python==0.3.0-delete-datasets) (5.1.0)\n",
            "Requirement already satisfied: webencodings in /usr/local/lib/python3.10/site-packages (from bleach->nbconvert<7.0.0,>=6.1.0->datapane->polly-python==0.3.0-delete-datasets) (0.5.1)\n",
            "Requirement already satisfied: wrapt<2,>=1.10 in /usr/local/lib/python3.10/site-packages (from Deprecated->polly-python==0.3.0-delete-datasets) (1.14.1)\n",
            "Requirement already satisfied: matplotlib-inline>=0.1 in /usr/local/lib/python3.10/site-packages (from ipykernel->ipynbname<2022.0.0,>=2021.3.2->datapane->polly-python==0.3.0-delete-datasets) (0.1.3)\n",
            "Requirement already satisfied: psutil in /usr/local/lib/python3.10/site-packages (from ipykernel->ipynbname<2022.0.0,>=2021.3.2->datapane->polly-python==0.3.0-delete-datasets) (5.9.4)\n",
            "Requirement already satisfied: ipython>=7.23.1 in /usr/local/lib/python3.10/site-packages (from ipykernel->ipynbname<2022.0.0,>=2021.3.2->datapane->polly-python==0.3.0-delete-datasets) (8.2.0)\n",
            "Requirement already satisfied: debugpy>=1.0 in /usr/local/lib/python3.10/site-packages (from ipykernel->ipynbname<2022.0.0,>=2021.3.2->datapane->polly-python==0.3.0-delete-datasets) (1.6.6)\n",
            "Requirement already satisfied: pexpect>4.3 in /usr/local/lib/python3.10/site-packages (from ipython>=7.23.1->ipykernel->ipynbname<2022.0.0,>=2021.3.2->datapane->polly-python==0.3.0-delete-datasets) (4.8.0)\n",
            "Requirement already satisfied: prompt-toolkit!=3.0.0,!=3.0.1,<3.1.0,>=2.0.0 in /usr/local/lib/python3.10/site-packages (from ipython>=7.23.1->ipykernel->ipynbname<2022.0.0,>=2021.3.2->datapane->polly-python==0.3.0-delete-datasets) (3.0.22)\n",
            "Requirement already satisfied: pickleshare in /usr/local/lib/python3.10/site-packages (from ipython>=7.23.1->ipykernel->ipynbname<2022.0.0,>=2021.3.2->datapane->polly-python==0.3.0-delete-datasets) (0.7.5)\n",
            "Requirement already satisfied: backcall in /usr/local/lib/python3.10/site-packages (from ipython>=7.23.1->ipykernel->ipynbname<2022.0.0,>=2021.3.2->datapane->polly-python==0.3.0-delete-datasets) (0.2.0)\n",
            "Requirement already satisfied: stack-data in /usr/local/lib/python3.10/site-packages (from ipython>=7.23.1->ipykernel->ipynbname<2022.0.0,>=2021.3.2->datapane->polly-python==0.3.0-delete-datasets) (0.6.2)\n",
            "Requirement already satisfied: jedi>=0.16 in /usr/local/lib/python3.10/site-packages (from ipython>=7.23.1->ipykernel->ipynbname<2022.0.0,>=2021.3.2->datapane->polly-python==0.3.0-delete-datasets) (0.18.1)\n",
            "Requirement already satisfied: parso<0.9.0,>=0.8.0 in /usr/local/lib/python3.10/site-packages (from jedi>=0.16->ipython>=7.23.1->ipykernel->ipynbname<2022.0.0,>=2021.3.2->datapane->polly-python==0.3.0-delete-datasets) (0.8.2)\n",
            "Requirement already satisfied: ptyprocess>=0.5 in /usr/local/lib/python3.10/site-packages (from pexpect>4.3->ipython>=7.23.1->ipykernel->ipynbname<2022.0.0,>=2021.3.2->datapane->polly-python==0.3.0-delete-datasets) (0.7.0)\n",
            "Requirement already satisfied: wcwidth in /usr/local/lib/python3.10/site-packages (from prompt-toolkit!=3.0.0,!=3.0.1,<3.1.0,>=2.0.0->ipython>=7.23.1->ipykernel->ipynbname<2022.0.0,>=2021.3.2->datapane->polly-python==0.3.0-delete-datasets) (0.2.5)\n",
            "Requirement already satisfied: tenacity>=6.2.0 in /usr/local/lib/python3.10/site-packages (from plotly->polly-python==0.3.0-delete-datasets) (8.1.0)\n",
            "Collecting pronto\n",
            "  Downloading pronto-2.5.2-py2.py3-none-any.whl (61 kB)\n",
            "\u001b[K     |████████████████████████████████| 61 kB 22.3 MB/s  eta 0:00:01\n",
            "\u001b[?25h  Downloading pronto-2.5.1-py2.py3-none-any.whl (61 kB)\n",
            "\u001b[K     |████████████████████████████████| 61 kB 23.6 MB/s  eta 0:00:01\n"
          ]
        },
        {
          "name": "stdout",
          "output_type": "stream",
          "text": [
            "\u001b[?25hCollecting fastobo~=0.12.1\r\n",
            "  Downloading fastobo-0.12.2-cp310-cp310-manylinux_2_17_x86_64.manylinux2014_x86_64.whl (2.1 MB)\r\n"
          ]
        },
        {
          "name": "stdout",
          "output_type": "stream",
          "text": [
            "\u001b[?25l\r",
            "\u001b[K     |▏                               | 10 kB 67.3 MB/s eta 0:00:01\r",
            "\u001b[K     |▎                               | 20 kB 79.3 MB/s eta 0:00:01\r",
            "\u001b[K     |▌                               | 30 kB 96.4 MB/s eta 0:00:01\r",
            "\u001b[K     |▋                               | 40 kB 105.5 MB/s eta 0:00:01\r",
            "\u001b[K     |▉                               | 51 kB 110.1 MB/s eta 0:00:01\r",
            "\u001b[K     |█                               | 61 kB 118.2 MB/s eta 0:00:01\r",
            "\u001b[K     |█                               | 71 kB 121.9 MB/s eta 0:00:01\r",
            "\u001b[K     |█▎                              | 81 kB 127.4 MB/s eta 0:00:01\r",
            "\u001b[K     |█▍                              | 92 kB 124.4 MB/s eta 0:00:01\r",
            "\u001b[K     |█▋                              | 102 kB 123.4 MB/s eta 0:00:01\r",
            "\u001b[K     |█▊                              | 112 kB 123.4 MB/s eta 0:00:01\r",
            "\u001b[K     |█▉                              | 122 kB 123.4 MB/s eta 0:00:01\r",
            "\u001b[K     |██                              | 133 kB 123.4 MB/s eta 0:00:01\r",
            "\u001b[K     |██▏                             | 143 kB 123.4 MB/s eta 0:00:01\r",
            "\u001b[K     |██▍                             | 153 kB 123.4 MB/s eta 0:00:01\r",
            "\u001b[K     |██▌                             | 163 kB 123.4 MB/s eta 0:00:01\r",
            "\u001b[K     |██▋                             | 174 kB 123.4 MB/s eta 0:00:01\r",
            "\u001b[K     |██▉                             | 184 kB 123.4 MB/s eta 0:00:01\r",
            "\u001b[K     |███                             | 194 kB 123.4 MB/s eta 0:00:01\r",
            "\u001b[K     |███▏                            | 204 kB 123.4 MB/s eta 0:00:01\r",
            "\u001b[K     |███▎                            | 215 kB 123.4 MB/s eta 0:00:01\r",
            "\u001b[K     |███▍                            | 225 kB 123.4 MB/s eta 0:00:01\r",
            "\u001b[K     |███▋                            | 235 kB 123.4 MB/s eta 0:00:01\r",
            "\u001b[K     |███▊                            | 245 kB 123.4 MB/s eta 0:00:01\r",
            "\u001b[K     |████                            | 256 kB 123.4 MB/s eta 0:00:01\r",
            "\u001b[K     |████                            | 266 kB 123.4 MB/s eta 0:00:01\r",
            "\u001b[K     |████▏                           | 276 kB 123.4 MB/s eta 0:00:01\r",
            "\u001b[K     |████▍                           | 286 kB 123.4 MB/s eta 0:00:01\r",
            "\u001b[K     |████▌                           | 296 kB 123.4 MB/s eta 0:00:01\r",
            "\u001b[K     |████▊                           | 307 kB 123.4 MB/s eta 0:00:01\r",
            "\u001b[K     |████▉                           | 317 kB 123.4 MB/s eta 0:00:01\r",
            "\u001b[K     |█████                           | 327 kB 123.4 MB/s eta 0:00:01\r",
            "\u001b[K     |█████▏                          | 337 kB 123.4 MB/s eta 0:00:01\r",
            "\u001b[K     |█████▎                          | 348 kB 123.4 MB/s eta 0:00:01\r",
            "\u001b[K     |█████▌                          | 358 kB 123.4 MB/s eta 0:00:01\r",
            "\u001b[K     |█████▋                          | 368 kB 123.4 MB/s eta 0:00:01\r",
            "\u001b[K     |█████▊                          | 378 kB 123.4 MB/s eta 0:00:01\r",
            "\u001b[K     |██████                          | 389 kB 123.4 MB/s eta 0:00:01\r",
            "\u001b[K     |██████                          | 399 kB 123.4 MB/s eta 0:00:01\r",
            "\u001b[K     |██████▎                         | 409 kB 123.4 MB/s eta 0:00:01\r",
            "\u001b[K     |██████▍                         | 419 kB 123.4 MB/s eta 0:00:01\r",
            "\u001b[K     |██████▋                         | 430 kB 123.4 MB/s eta 0:00:01\r",
            "\u001b[K     |██████▊                         | 440 kB 123.4 MB/s eta 0:00:01\r",
            "\u001b[K     |██████▉                         | 450 kB 123.4 MB/s eta 0:00:01\r",
            "\u001b[K     |███████                         | 460 kB 123.4 MB/s eta 0:00:01\r",
            "\u001b[K     |███████▏                        | 471 kB 123.4 MB/s eta 0:00:01\r",
            "\u001b[K     |███████▍                        | 481 kB 123.4 MB/s eta 0:00:01\r",
            "\u001b[K     |███████▌                        | 491 kB 123.4 MB/s eta 0:00:01\r",
            "\u001b[K     |███████▋                        | 501 kB 123.4 MB/s eta 0:00:01\r",
            "\u001b[K     |███████▉                        | 512 kB 123.4 MB/s eta 0:00:01\r",
            "\u001b[K     |████████                        | 522 kB 123.4 MB/s eta 0:00:01\r",
            "\u001b[K     |████████▏                       | 532 kB 123.4 MB/s eta 0:00:01\r",
            "\u001b[K     |████████▎                       | 542 kB 123.4 MB/s eta 0:00:01\r",
            "\u001b[K     |████████▍                       | 552 kB 123.4 MB/s eta 0:00:01\r",
            "\u001b[K     |████████▋                       | 563 kB 123.4 MB/s eta 0:00:01\r",
            "\u001b[K     |████████▊                       | 573 kB 123.4 MB/s eta 0:00:01\r",
            "\u001b[K     |█████████                       | 583 kB 123.4 MB/s eta 0:00:01\r",
            "\u001b[K     |█████████                       | 593 kB 123.4 MB/s eta 0:00:01\r",
            "\u001b[K     |█████████▏                      | 604 kB 123.4 MB/s eta 0:00:01\r",
            "\u001b[K     |█████████▍                      | 614 kB 123.4 MB/s eta 0:00:01\r",
            "\u001b[K     |█████████▌                      | 624 kB 123.4 MB/s eta 0:00:01\r",
            "\u001b[K     |█████████▊                      | 634 kB 123.4 MB/s eta 0:00:01\r",
            "\u001b[K     |█████████▉                      | 645 kB 123.4 MB/s eta 0:00:01\r",
            "\u001b[K     |██████████                      | 655 kB 123.4 MB/s eta 0:00:01\r",
            "\u001b[K     |██████████▏                     | 665 kB 123.4 MB/s eta 0:00:01\r",
            "\u001b[K     |██████████▎                     | 675 kB 123.4 MB/s eta 0:00:01\r",
            "\u001b[K     |██████████▌                     | 686 kB 123.4 MB/s eta 0:00:01\r",
            "\u001b[K     |██████████▋                     | 696 kB 123.4 MB/s eta 0:00:01\r",
            "\u001b[K     |██████████▊                     | 706 kB 123.4 MB/s eta 0:00:01\r",
            "\u001b[K     |███████████                     | 716 kB 123.4 MB/s eta 0:00:01\r",
            "\u001b[K     |███████████                     | 727 kB 123.4 MB/s eta 0:00:01\r",
            "\u001b[K     |███████████▎                    | 737 kB 123.4 MB/s eta 0:00:01\r",
            "\u001b[K     |███████████▍                    | 747 kB 123.4 MB/s eta 0:00:01\r",
            "\u001b[K     |███████████▌                    | 757 kB 123.4 MB/s eta 0:00:01\r",
            "\u001b[K     |███████████▊                    | 768 kB 123.4 MB/s eta 0:00:01\r",
            "\u001b[K     |███████████▉                    | 778 kB 123.4 MB/s eta 0:00:01\r",
            "\u001b[K     |████████████                    | 788 kB 123.4 MB/s eta 0:00:01\r",
            "\u001b[K     |████████████▏                   | 798 kB 123.4 MB/s eta 0:00:01\r",
            "\u001b[K     |████████████▎                   | 808 kB 123.4 MB/s eta 0:00:01\r",
            "\u001b[K     |████████████▌                   | 819 kB 123.4 MB/s eta 0:00:01\r",
            "\u001b[K     |████████████▋                   | 829 kB 123.4 MB/s eta 0:00:01\r",
            "\u001b[K     |████████████▉                   | 839 kB 123.4 MB/s eta 0:00:01\r",
            "\u001b[K     |█████████████                   | 849 kB 123.4 MB/s eta 0:00:01\r",
            "\u001b[K     |█████████████▏                  | 860 kB 123.4 MB/s eta 0:00:01\r",
            "\u001b[K     |█████████████▎                  | 870 kB 123.4 MB/s eta 0:00:01\r",
            "\u001b[K     |█████████████▍                  | 880 kB 123.4 MB/s eta 0:00:01\r",
            "\u001b[K     |█████████████▋                  | 890 kB 123.4 MB/s eta 0:00:01\r",
            "\u001b[K     |█████████████▊                  | 901 kB 123.4 MB/s eta 0:00:01\r",
            "\u001b[K     |██████████████                  | 911 kB 123.4 MB/s eta 0:00:01\r",
            "\u001b[K     |██████████████                  | 921 kB 123.4 MB/s eta 0:00:01\r",
            "\u001b[K     |██████████████▏                 | 931 kB 123.4 MB/s eta 0:00:01\r",
            "\u001b[K     |██████████████▍                 | 942 kB 123.4 MB/s eta 0:00:01\r",
            "\u001b[K     |██████████████▌                 | 952 kB 123.4 MB/s eta 0:00:01\r",
            "\u001b[K     |██████████████▊                 | 962 kB 123.4 MB/s eta 0:00:01\r",
            "\u001b[K     |██████████████▉                 | 972 kB 123.4 MB/s eta 0:00:01\r",
            "\u001b[K     |███████████████                 | 983 kB 123.4 MB/s eta 0:00:01\r",
            "\u001b[K     |███████████████▏                | 993 kB 123.4 MB/s eta 0:00:01\r",
            "\u001b[K     |███████████████▎                | 1.0 MB 123.4 MB/s eta 0:00:01\r",
            "\u001b[K     |███████████████▌                | 1.0 MB 123.4 MB/s eta 0:00:01\r",
            "\u001b[K     |███████████████▋                | 1.0 MB 123.4 MB/s eta 0:00:01\r",
            "\u001b[K     |███████████████▊                | 1.0 MB 123.4 MB/s eta 0:00:01\r",
            "\u001b[K     |████████████████                | 1.0 MB 123.4 MB/s eta 0:00:01\r",
            "\u001b[K     |████████████████                | 1.1 MB 123.4 MB/s eta 0:00:01\r",
            "\u001b[K     |████████████████▎               | 1.1 MB 123.4 MB/s eta 0:00:01\r",
            "\u001b[K     |████████████████▍               | 1.1 MB 123.4 MB/s eta 0:00:01\r",
            "\u001b[K     |████████████████▌               | 1.1 MB 123.4 MB/s eta 0:00:01\r",
            "\u001b[K     |████████████████▊               | 1.1 MB 123.4 MB/s eta 0:00:01\r",
            "\u001b[K     |████████████████▉               | 1.1 MB 123.4 MB/s eta 0:00:01\r",
            "\u001b[K     |█████████████████               | 1.1 MB 123.4 MB/s eta 0:00:01\r",
            "\u001b[K     |█████████████████▏              | 1.1 MB 123.4 MB/s eta 0:00:01\r",
            "\u001b[K     |█████████████████▎              | 1.1 MB 123.4 MB/s eta 0:00:01\r",
            "\u001b[K     |█████████████████▌              | 1.1 MB 123.4 MB/s eta 0:00:01\r",
            "\u001b[K     |█████████████████▋              | 1.2 MB 123.4 MB/s eta 0:00:01\r",
            "\u001b[K     |█████████████████▉              | 1.2 MB 123.4 MB/s eta 0:00:01\r",
            "\u001b[K     |██████████████████              | 1.2 MB 123.4 MB/s eta 0:00:01\r",
            "\u001b[K     |██████████████████              | 1.2 MB 123.4 MB/s eta 0:00:01\r",
            "\u001b[K     |██████████████████▎             | 1.2 MB 123.4 MB/s eta 0:00:01\r",
            "\u001b[K     |██████████████████▍             | 1.2 MB 123.4 MB/s eta 0:00:01\r",
            "\u001b[K     |██████████████████▋             | 1.2 MB 123.4 MB/s eta 0:00:01\r",
            "\u001b[K     |██████████████████▊             | 1.2 MB 123.4 MB/s eta 0:00:01\r",
            "\u001b[K     |███████████████████             | 1.2 MB 123.4 MB/s eta 0:00:01\r",
            "\u001b[K     |███████████████████             | 1.2 MB 123.4 MB/s eta 0:00:01\r",
            "\u001b[K     |███████████████████▏            | 1.3 MB 123.4 MB/s eta 0:00:01\r",
            "\u001b[K     |███████████████████▍            | 1.3 MB 123.4 MB/s eta 0:00:01\r",
            "\u001b[K     |███████████████████▌            | 1.3 MB 123.4 MB/s eta 0:00:01\r",
            "\u001b[K     |███████████████████▊            | 1.3 MB 123.4 MB/s eta 0:00:01\r",
            "\u001b[K     |███████████████████▉            | 1.3 MB 123.4 MB/s eta 0:00:01\r",
            "\u001b[K     |████████████████████            | 1.3 MB 123.4 MB/s eta 0:00:01\r",
            "\u001b[K     |████████████████████▏           | 1.3 MB 123.4 MB/s eta 0:00:01\r",
            "\u001b[K     |████████████████████▎           | 1.3 MB 123.4 MB/s eta 0:00:01\r",
            "\u001b[K     |████████████████████▌           | 1.3 MB 123.4 MB/s eta 0:00:01\r",
            "\u001b[K     |████████████████████▋           | 1.4 MB 123.4 MB/s eta 0:00:01\r",
            "\u001b[K     |████████████████████▊           | 1.4 MB 123.4 MB/s eta 0:00:01\r",
            "\u001b[K     |█████████████████████           | 1.4 MB 123.4 MB/s eta 0:00:01\r",
            "\u001b[K     |█████████████████████           | 1.4 MB 123.4 MB/s eta 0:00:01\r",
            "\u001b[K     |█████████████████████▎          | 1.4 MB 123.4 MB/s eta 0:00:01\r",
            "\u001b[K     |█████████████████████▍          | 1.4 MB 123.4 MB/s eta 0:00:01\r",
            "\u001b[K     |█████████████████████▌          | 1.4 MB 123.4 MB/s eta 0:00:01\r",
            "\u001b[K     |█████████████████████▊          | 1.4 MB 123.4 MB/s eta 0:00:01\r",
            "\u001b[K     |█████████████████████▉          | 1.4 MB 123.4 MB/s eta 0:00:01\r",
            "\u001b[K     |██████████████████████          | 1.4 MB 123.4 MB/s eta 0:00:01\r",
            "\u001b[K     |██████████████████████▏         | 1.5 MB 123.4 MB/s eta 0:00:01\r",
            "\u001b[K     |██████████████████████▎         | 1.5 MB 123.4 MB/s eta 0:00:01\r",
            "\u001b[K     |██████████████████████▌         | 1.5 MB 123.4 MB/s eta 0:00:01\r",
            "\u001b[K     |██████████████████████▋         | 1.5 MB 123.4 MB/s eta 0:00:01\r",
            "\u001b[K     |██████████████████████▉         | 1.5 MB 123.4 MB/s eta 0:00:01\r",
            "\u001b[K     |███████████████████████         | 1.5 MB 123.4 MB/s eta 0:00:01\r",
            "\u001b[K     |███████████████████████         | 1.5 MB 123.4 MB/s eta 0:00:01\r",
            "\u001b[K     |███████████████████████▎        | 1.5 MB 123.4 MB/s eta 0:00:01\r",
            "\u001b[K     |███████████████████████▍        | 1.5 MB 123.4 MB/s eta 0:00:01\r",
            "\u001b[K     |███████████████████████▋        | 1.5 MB 123.4 MB/s eta 0:00:01\r",
            "\u001b[K     |███████████████████████▊        | 1.6 MB 123.4 MB/s eta 0:00:01\r",
            "\u001b[K     |███████████████████████▉        | 1.6 MB 123.4 MB/s eta 0:00:01\r",
            "\u001b[K     |████████████████████████        | 1.6 MB 123.4 MB/s eta 0:00:01\r",
            "\u001b[K     |████████████████████████▏       | 1.6 MB 123.4 MB/s eta 0:00:01\r",
            "\u001b[K     |████████████████████████▍       | 1.6 MB 123.4 MB/s eta 0:00:01\r",
            "\u001b[K     |████████████████████████▌       | 1.6 MB 123.4 MB/s eta 0:00:01\r",
            "\u001b[K     |████████████████████████▋       | 1.6 MB 123.4 MB/s eta 0:00:01\r",
            "\u001b[K     |████████████████████████▉       | 1.6 MB 123.4 MB/s eta 0:00:01\r",
            "\u001b[K     |█████████████████████████       | 1.6 MB 123.4 MB/s eta 0:00:01\r",
            "\u001b[K     |█████████████████████████▏      | 1.6 MB 123.4 MB/s eta 0:00:01\r",
            "\u001b[K     |█████████████████████████▎      | 1.7 MB 123.4 MB/s eta 0:00:01\r",
            "\u001b[K     |█████████████████████████▌      | 1.7 MB 123.4 MB/s eta 0:00:01\r",
            "\u001b[K     |█████████████████████████▋      | 1.7 MB 123.4 MB/s eta 0:00:01\r",
            "\u001b[K     |█████████████████████████▊      | 1.7 MB 123.4 MB/s eta 0:00:01\r",
            "\u001b[K     |██████████████████████████      | 1.7 MB 123.4 MB/s eta 0:00:01\r",
            "\u001b[K     |██████████████████████████      | 1.7 MB 123.4 MB/s eta 0:00:01\r",
            "\u001b[K     |██████████████████████████▎     | 1.7 MB 123.4 MB/s eta 0:00:01\r",
            "\u001b[K     |██████████████████████████▍     | 1.7 MB 123.4 MB/s eta 0:00:01\r",
            "\u001b[K     |██████████████████████████▌     | 1.7 MB 123.4 MB/s eta 0:00:01\r",
            "\u001b[K     |██████████████████████████▊     | 1.8 MB 123.4 MB/s eta 0:00:01\r",
            "\u001b[K     |██████████████████████████▉     | 1.8 MB 123.4 MB/s eta 0:00:01\r",
            "\u001b[K     |███████████████████████████     | 1.8 MB 123.4 MB/s eta 0:00:01\r",
            "\u001b[K     |███████████████████████████▏    | 1.8 MB 123.4 MB/s eta 0:00:01\r",
            "\u001b[K     |███████████████████████████▎    | 1.8 MB 123.4 MB/s eta 0:00:01\r",
            "\u001b[K     |███████████████████████████▌    | 1.8 MB 123.4 MB/s eta 0:00:01\r",
            "\u001b[K     |███████████████████████████▋    | 1.8 MB 123.4 MB/s eta 0:00:01\r",
            "\u001b[K     |███████████████████████████▉    | 1.8 MB 123.4 MB/s eta 0:00:01\r",
            "\u001b[K     |████████████████████████████    | 1.8 MB 123.4 MB/s eta 0:00:01\r",
            "\u001b[K     |████████████████████████████    | 1.8 MB 123.4 MB/s eta 0:00:01\r",
            "\u001b[K     |████████████████████████████▎   | 1.9 MB 123.4 MB/s eta 0:00:01\r",
            "\u001b[K     |████████████████████████████▍   | 1.9 MB 123.4 MB/s eta 0:00:01\r",
            "\u001b[K     |████████████████████████████▋   | 1.9 MB 123.4 MB/s eta 0:00:01\r",
            "\u001b[K     |████████████████████████████▊   | 1.9 MB 123.4 MB/s eta 0:00:01\r",
            "\u001b[K     |████████████████████████████▉   | 1.9 MB 123.4 MB/s eta 0:00:01\r",
            "\u001b[K     |█████████████████████████████   | 1.9 MB 123.4 MB/s eta 0:00:01\r",
            "\u001b[K     |█████████████████████████████▏  | 1.9 MB 123.4 MB/s eta 0:00:01\r",
            "\u001b[K     |█████████████████████████████▍  | 1.9 MB 123.4 MB/s eta 0:00:01\r",
            "\u001b[K     |█████████████████████████████▌  | 1.9 MB 123.4 MB/s eta 0:00:01\r",
            "\u001b[K     |█████████████████████████████▋  | 1.9 MB 123.4 MB/s eta 0:00:01\r",
            "\u001b[K     |█████████████████████████████▉  | 2.0 MB 123.4 MB/s eta 0:00:01\r",
            "\u001b[K     |██████████████████████████████  | 2.0 MB 123.4 MB/s eta 0:00:01\r",
            "\u001b[K     |██████████████████████████████▏ | 2.0 MB 123.4 MB/s eta 0:00:01\r",
            "\u001b[K     |██████████████████████████████▎ | 2.0 MB 123.4 MB/s eta 0:00:01\r",
            "\u001b[K     |██████████████████████████████▍ | 2.0 MB 123.4 MB/s eta 0:00:01\r",
            "\u001b[K     |██████████████████████████████▋ | 2.0 MB 123.4 MB/s eta 0:00:01\r",
            "\u001b[K     |██████████████████████████████▊ | 2.0 MB 123.4 MB/s eta 0:00:01\r",
            "\u001b[K     |███████████████████████████████ | 2.0 MB 123.4 MB/s eta 0:00:01\r",
            "\u001b[K     |███████████████████████████████ | 2.0 MB 123.4 MB/s eta 0:00:01\r",
            "\u001b[K     |███████████████████████████████▏| 2.0 MB 123.4 MB/s eta 0:00:01\r",
            "\u001b[K     |███████████████████████████████▍| 2.1 MB 123.4 MB/s eta 0:00:01\r",
            "\u001b[K     |███████████████████████████████▌| 2.1 MB 123.4 MB/s eta 0:00:01\r",
            "\u001b[K     |███████████████████████████████▊| 2.1 MB 123.4 MB/s eta 0:00:01\r",
            "\u001b[K     |███████████████████████████████▉| 2.1 MB 123.4 MB/s eta 0:00:01\r",
            "\u001b[K     |████████████████████████████████| 2.1 MB 123.4 MB/s \r\n"
          ]
        },
        {
          "name": "stdout",
          "output_type": "stream",
          "text": [
            "\u001b[?25hCollecting networkx~=2.3\r\n",
            "  Downloading networkx-2.8.8-py3-none-any.whl (2.0 MB)\r\n",
            "\u001b[?25l\r",
            "\u001b[K     |▏                               | 10 kB 60.2 MB/s eta 0:00:01\r",
            "\u001b[K     |▎                               | 20 kB 75.3 MB/s eta 0:00:01\r",
            "\u001b[K     |▌                               | 30 kB 92.2 MB/s eta 0:00:01\r",
            "\u001b[K     |▋                               | 40 kB 94.1 MB/s eta 0:00:01\r",
            "\u001b[K     |▉                               | 51 kB 97.9 MB/s eta 0:00:01\r",
            "\u001b[K     |█                               | 61 kB 105.5 MB/s eta 0:00:01\r",
            "\u001b[K     |█▏                              | 71 kB 108.0 MB/s eta 0:00:01\r",
            "\u001b[K     |█▎                              | 81 kB 113.6 MB/s eta 0:00:01\r",
            "\u001b[K     |█▌                              | 92 kB 116.6 MB/s eta 0:00:01\r",
            "\u001b[K     |█▋                              | 102 kB 119.8 MB/s eta 0:00:01\r",
            "\u001b[K     |█▉                              | 112 kB 119.8 MB/s eta 0:00:01\r",
            "\u001b[K     |██                              | 122 kB 119.8 MB/s eta 0:00:01\r",
            "\u001b[K     |██                              | 133 kB 119.8 MB/s eta 0:00:01\r",
            "\u001b[K     |██▎                             | 143 kB 119.8 MB/s eta 0:00:01\r",
            "\u001b[K     |██▍                             | 153 kB 119.8 MB/s eta 0:00:01\r",
            "\u001b[K     |██▋                             | 163 kB 119.8 MB/s eta 0:00:01\r",
            "\u001b[K     |██▊                             | 174 kB 119.8 MB/s eta 0:00:01\r",
            "\u001b[K     |███                             | 184 kB 119.8 MB/s eta 0:00:01\r",
            "\u001b[K     |███                             | 194 kB 119.8 MB/s eta 0:00:01\r",
            "\u001b[K     |███▎                            | 204 kB 119.8 MB/s eta 0:00:01\r",
            "\u001b[K     |███▍                            | 215 kB 119.8 MB/s eta 0:00:01\r",
            "\u001b[K     |███▋                            | 225 kB 119.8 MB/s eta 0:00:01\r",
            "\u001b[K     |███▊                            | 235 kB 119.8 MB/s eta 0:00:01\r",
            "\u001b[K     |███▉                            | 245 kB 119.8 MB/s eta 0:00:01\r",
            "\u001b[K     |████                            | 256 kB 119.8 MB/s eta 0:00:01\r",
            "\u001b[K     |████▏                           | 266 kB 119.8 MB/s eta 0:00:01\r",
            "\u001b[K     |████▍                           | 276 kB 119.8 MB/s eta 0:00:01\r",
            "\u001b[K     |████▌                           | 286 kB 119.8 MB/s eta 0:00:01\r",
            "\u001b[K     |████▊                           | 296 kB 119.8 MB/s eta 0:00:01\r",
            "\u001b[K     |████▉                           | 307 kB 119.8 MB/s eta 0:00:01\r",
            "\u001b[K     |█████                           | 317 kB 119.8 MB/s eta 0:00:01\r",
            "\u001b[K     |█████▏                          | 327 kB 119.8 MB/s eta 0:00:01\r",
            "\u001b[K     |█████▍                          | 337 kB 119.8 MB/s eta 0:00:01\r",
            "\u001b[K     |█████▌                          | 348 kB 119.8 MB/s eta 0:00:01\r",
            "\u001b[K     |█████▋                          | 358 kB 119.8 MB/s eta 0:00:01\r",
            "\u001b[K     |█████▉                          | 368 kB 119.8 MB/s eta 0:00:01\r",
            "\u001b[K     |██████                          | 378 kB 119.8 MB/s eta 0:00:01\r",
            "\u001b[K     |██████▏                         | 389 kB 119.8 MB/s eta 0:00:01\r",
            "\u001b[K     |██████▎                         | 399 kB 119.8 MB/s eta 0:00:01\r",
            "\u001b[K     |██████▌                         | 409 kB 119.8 MB/s eta 0:00:01\r",
            "\u001b[K     |██████▋                         | 419 kB 119.8 MB/s eta 0:00:01\r",
            "\u001b[K     |██████▉                         | 430 kB 119.8 MB/s eta 0:00:01\r",
            "\u001b[K     |███████                         | 440 kB 119.8 MB/s eta 0:00:01\r",
            "\u001b[K     |███████▏                        | 450 kB 119.8 MB/s eta 0:00:01\r",
            "\u001b[K     |███████▎                        | 460 kB 119.8 MB/s eta 0:00:01\r",
            "\u001b[K     |███████▍                        | 471 kB 119.8 MB/s eta 0:00:01\r",
            "\u001b[K     |███████▋                        | 481 kB 119.8 MB/s eta 0:00:01\r",
            "\u001b[K     |███████▊                        | 491 kB 119.8 MB/s eta 0:00:01\r",
            "\u001b[K     |████████                        | 501 kB 119.8 MB/s eta 0:00:01\r",
            "\u001b[K     |████████                        | 512 kB 119.8 MB/s eta 0:00:01\r",
            "\u001b[K     |████████▎                       | 522 kB 119.8 MB/s eta 0:00:01\r",
            "\u001b[K     |████████▍                       | 532 kB 119.8 MB/s eta 0:00:01\r",
            "\u001b[K     |████████▋                       | 542 kB 119.8 MB/s eta 0:00:01\r",
            "\u001b[K     |████████▊                       | 552 kB 119.8 MB/s eta 0:00:01\r",
            "\u001b[K     |█████████                       | 563 kB 119.8 MB/s eta 0:00:01\r",
            "\u001b[K     |█████████                       | 573 kB 119.8 MB/s eta 0:00:01\r",
            "\u001b[K     |█████████▎                      | 583 kB 119.8 MB/s eta 0:00:01\r",
            "\u001b[K     |█████████▍                      | 593 kB 119.8 MB/s eta 0:00:01\r",
            "\u001b[K     |█████████▌                      | 604 kB 119.8 MB/s eta 0:00:01\r",
            "\u001b[K     |█████████▊                      | 614 kB 119.8 MB/s eta 0:00:01\r",
            "\u001b[K     |█████████▉                      | 624 kB 119.8 MB/s eta 0:00:01\r",
            "\u001b[K     |██████████                      | 634 kB 119.8 MB/s eta 0:00:01\r",
            "\u001b[K     |██████████▏                     | 645 kB 119.8 MB/s eta 0:00:01\r",
            "\u001b[K     |██████████▍                     | 655 kB 119.8 MB/s eta 0:00:01\r",
            "\u001b[K     |██████████▌                     | 665 kB 119.8 MB/s eta 0:00:01\r",
            "\u001b[K     |██████████▊                     | 675 kB 119.8 MB/s eta 0:00:01\r",
            "\u001b[K     |██████████▉                     | 686 kB 119.8 MB/s eta 0:00:01\r",
            "\u001b[K     |███████████                     | 696 kB 119.8 MB/s eta 0:00:01\r",
            "\u001b[K     |███████████▏                    | 706 kB 119.8 MB/s eta 0:00:01\r",
            "\u001b[K     |███████████▎                    | 716 kB 119.8 MB/s eta 0:00:01\r",
            "\u001b[K     |███████████▌                    | 727 kB 119.8 MB/s eta 0:00:01\r",
            "\u001b[K     |███████████▋                    | 737 kB 119.8 MB/s eta 0:00:01\r",
            "\u001b[K     |███████████▉                    | 747 kB 119.8 MB/s eta 0:00:01\r",
            "\u001b[K     |████████████                    | 757 kB 119.8 MB/s eta 0:00:01\r",
            "\u001b[K     |████████████▏                   | 768 kB 119.8 MB/s eta 0:00:01\r",
            "\u001b[K     |████████████▎                   | 778 kB 119.8 MB/s eta 0:00:01\r",
            "\u001b[K     |████████████▌                   | 788 kB 119.8 MB/s eta 0:00:01\r",
            "\u001b[K     |████████████▋                   | 798 kB 119.8 MB/s eta 0:00:01\r",
            "\u001b[K     |████████████▉                   | 808 kB 119.8 MB/s eta 0:00:01\r",
            "\u001b[K     |█████████████                   | 819 kB 119.8 MB/s eta 0:00:01\r",
            "\u001b[K     |█████████████                   | 829 kB 119.8 MB/s eta 0:00:01\r",
            "\u001b[K     |█████████████▎                  | 839 kB 119.8 MB/s eta 0:00:01\r",
            "\u001b[K     |█████████████▍                  | 849 kB 119.8 MB/s eta 0:00:01\r",
            "\u001b[K     |█████████████▋                  | 860 kB 119.8 MB/s eta 0:00:01\r",
            "\u001b[K     |█████████████▊                  | 870 kB 119.8 MB/s eta 0:00:01\r",
            "\u001b[K     |██████████████                  | 880 kB 119.8 MB/s eta 0:00:01\r",
            "\u001b[K     |██████████████                  | 890 kB 119.8 MB/s eta 0:00:01\r",
            "\u001b[K     |██████████████▎                 | 901 kB 119.8 MB/s eta 0:00:01\r",
            "\u001b[K     |██████████████▍                 | 911 kB 119.8 MB/s eta 0:00:01\r",
            "\u001b[K     |██████████████▋                 | 921 kB 119.8 MB/s eta 0:00:01\r",
            "\u001b[K     |██████████████▊                 | 931 kB 119.8 MB/s eta 0:00:01\r",
            "\u001b[K     |██████████████▉                 | 942 kB 119.8 MB/s eta 0:00:01\r",
            "\u001b[K     |███████████████                 | 952 kB 119.8 MB/s eta 0:00:01\r",
            "\u001b[K     |███████████████▏                | 962 kB 119.8 MB/s eta 0:00:01\r",
            "\u001b[K     |███████████████▍                | 972 kB 119.8 MB/s eta 0:00:01\r",
            "\u001b[K     |███████████████▌                | 983 kB 119.8 MB/s eta 0:00:01\r",
            "\u001b[K     |███████████████▊                | 993 kB 119.8 MB/s eta 0:00:01\r",
            "\u001b[K     |███████████████▉                | 1.0 MB 119.8 MB/s eta 0:00:01\r",
            "\u001b[K     |████████████████                | 1.0 MB 119.8 MB/s eta 0:00:01\r",
            "\u001b[K     |████████████████▏               | 1.0 MB 119.8 MB/s eta 0:00:01\r",
            "\u001b[K     |████████████████▍               | 1.0 MB 119.8 MB/s eta 0:00:01\r",
            "\u001b[K     |████████████████▌               | 1.0 MB 119.8 MB/s eta 0:00:01\r",
            "\u001b[K     |████████████████▋               | 1.1 MB 119.8 MB/s eta 0:00:01\r",
            "\u001b[K     |████████████████▉               | 1.1 MB 119.8 MB/s eta 0:00:01\r",
            "\u001b[K     |█████████████████               | 1.1 MB 119.8 MB/s eta 0:00:01\r",
            "\u001b[K     |█████████████████▏              | 1.1 MB 119.8 MB/s eta 0:00:01\r",
            "\u001b[K     |█████████████████▎              | 1.1 MB 119.8 MB/s eta 0:00:01\r",
            "\u001b[K     |█████████████████▌              | 1.1 MB 119.8 MB/s eta 0:00:01\r",
            "\u001b[K     |█████████████████▋              | 1.1 MB 119.8 MB/s eta 0:00:01\r",
            "\u001b[K     |█████████████████▉              | 1.1 MB 119.8 MB/s eta 0:00:01\r",
            "\u001b[K     |██████████████████              | 1.1 MB 119.8 MB/s eta 0:00:01\r",
            "\u001b[K     |██████████████████▏             | 1.1 MB 119.8 MB/s eta 0:00:01\r",
            "\u001b[K     |██████████████████▎             | 1.2 MB 119.8 MB/s eta 0:00:01\r",
            "\u001b[K     |██████████████████▌             | 1.2 MB 119.8 MB/s eta 0:00:01\r",
            "\u001b[K     |██████████████████▋             | 1.2 MB 119.8 MB/s eta 0:00:01\r",
            "\u001b[K     |██████████████████▊             | 1.2 MB 119.8 MB/s eta 0:00:01\r",
            "\u001b[K     |███████████████████             | 1.2 MB 119.8 MB/s eta 0:00:01\r",
            "\u001b[K     |███████████████████             | 1.2 MB 119.8 MB/s eta 0:00:01\r",
            "\u001b[K     |███████████████████▎            | 1.2 MB 119.8 MB/s eta 0:00:01\r",
            "\u001b[K     |███████████████████▍            | 1.2 MB 119.8 MB/s eta 0:00:01\r",
            "\u001b[K     |███████████████████▋            | 1.2 MB 119.8 MB/s eta 0:00:01\r",
            "\u001b[K     |███████████████████▊            | 1.2 MB 119.8 MB/s eta 0:00:01\r",
            "\u001b[K     |████████████████████            | 1.3 MB 119.8 MB/s eta 0:00:01\r",
            "\u001b[K     |████████████████████            | 1.3 MB 119.8 MB/s eta 0:00:01\r",
            "\u001b[K     |████████████████████▎           | 1.3 MB 119.8 MB/s eta 0:00:01\r",
            "\u001b[K     |████████████████████▍           | 1.3 MB 119.8 MB/s eta 0:00:01\r",
            "\u001b[K     |████████████████████▌           | 1.3 MB 119.8 MB/s eta 0:00:01\r",
            "\u001b[K     |████████████████████▊           | 1.3 MB 119.8 MB/s eta 0:00:01\r",
            "\u001b[K     |████████████████████▉           | 1.3 MB 119.8 MB/s eta 0:00:01\r",
            "\u001b[K     |█████████████████████           | 1.3 MB 119.8 MB/s eta 0:00:01\r",
            "\u001b[K     |█████████████████████▏          | 1.3 MB 119.8 MB/s eta 0:00:01\r",
            "\u001b[K     |█████████████████████▍          | 1.4 MB 119.8 MB/s eta 0:00:01\r",
            "\u001b[K     |█████████████████████▌          | 1.4 MB 119.8 MB/s eta 0:00:01\r",
            "\u001b[K     |█████████████████████▊          | 1.4 MB 119.8 MB/s eta 0:00:01\r",
            "\u001b[K     |█████████████████████▉          | 1.4 MB 119.8 MB/s eta 0:00:01\r",
            "\u001b[K     |██████████████████████          | 1.4 MB 119.8 MB/s eta 0:00:01\r",
            "\u001b[K     |██████████████████████▏         | 1.4 MB 119.8 MB/s eta 0:00:01\r",
            "\u001b[K     |██████████████████████▎         | 1.4 MB 119.8 MB/s eta 0:00:01\r",
            "\u001b[K     |██████████████████████▌         | 1.4 MB 119.8 MB/s eta 0:00:01\r",
            "\u001b[K     |██████████████████████▋         | 1.4 MB 119.8 MB/s eta 0:00:01\r",
            "\u001b[K     |██████████████████████▉         | 1.4 MB 119.8 MB/s eta 0:00:01\r",
            "\u001b[K     |███████████████████████         | 1.5 MB 119.8 MB/s eta 0:00:01\r",
            "\u001b[K     |███████████████████████▏        | 1.5 MB 119.8 MB/s eta 0:00:01\r",
            "\u001b[K     |███████████████████████▎        | 1.5 MB 119.8 MB/s eta 0:00:01\r",
            "\u001b[K     |███████████████████████▌        | 1.5 MB 119.8 MB/s eta 0:00:01\r",
            "\u001b[K     |███████████████████████▋        | 1.5 MB 119.8 MB/s eta 0:00:01\r",
            "\u001b[K     |███████████████████████▉        | 1.5 MB 119.8 MB/s eta 0:00:01\r",
            "\u001b[K     |████████████████████████        | 1.5 MB 119.8 MB/s eta 0:00:01\r",
            "\u001b[K     |████████████████████████        | 1.5 MB 119.8 MB/s eta 0:00:01\r",
            "\u001b[K     |████████████████████████▎       | 1.5 MB 119.8 MB/s eta 0:00:01\r",
            "\u001b[K     |████████████████████████▍       | 1.5 MB 119.8 MB/s eta 0:00:01\r",
            "\u001b[K     |████████████████████████▋       | 1.6 MB 119.8 MB/s eta 0:00:01\r",
            "\u001b[K     |████████████████████████▊       | 1.6 MB 119.8 MB/s eta 0:00:01\r",
            "\u001b[K     |█████████████████████████       | 1.6 MB 119.8 MB/s eta 0:00:01\r",
            "\u001b[K     |█████████████████████████       | 1.6 MB 119.8 MB/s eta 0:00:01\r",
            "\u001b[K     |█████████████████████████▎      | 1.6 MB 119.8 MB/s eta 0:00:01\r",
            "\u001b[K     |█████████████████████████▍      | 1.6 MB 119.8 MB/s eta 0:00:01\r",
            "\u001b[K     |█████████████████████████▋      | 1.6 MB 119.8 MB/s eta 0:00:01\r",
            "\u001b[K     |█████████████████████████▊      | 1.6 MB 119.8 MB/s eta 0:00:01\r",
            "\u001b[K     |█████████████████████████▉      | 1.6 MB 119.8 MB/s eta 0:00:01\r",
            "\u001b[K     |██████████████████████████      | 1.6 MB 119.8 MB/s eta 0:00:01\r",
            "\u001b[K     |██████████████████████████▏     | 1.7 MB 119.8 MB/s eta 0:00:01\r",
            "\u001b[K     |██████████████████████████▍     | 1.7 MB 119.8 MB/s eta 0:00:01\r",
            "\u001b[K     |██████████████████████████▌     | 1.7 MB 119.8 MB/s eta 0:00:01\r",
            "\u001b[K     |██████████████████████████▊     | 1.7 MB 119.8 MB/s eta 0:00:01\r",
            "\u001b[K     |██████████████████████████▉     | 1.7 MB 119.8 MB/s eta 0:00:01\r",
            "\u001b[K     |███████████████████████████     | 1.7 MB 119.8 MB/s eta 0:00:01\r",
            "\u001b[K     |███████████████████████████▏    | 1.7 MB 119.8 MB/s eta 0:00:01\r",
            "\u001b[K     |███████████████████████████▍    | 1.7 MB 119.8 MB/s eta 0:00:01\r",
            "\u001b[K     |███████████████████████████▌    | 1.7 MB 119.8 MB/s eta 0:00:01\r",
            "\u001b[K     |███████████████████████████▊    | 1.8 MB 119.8 MB/s eta 0:00:01\r",
            "\u001b[K     |███████████████████████████▉    | 1.8 MB 119.8 MB/s eta 0:00:01\r",
            "\u001b[K     |████████████████████████████    | 1.8 MB 119.8 MB/s eta 0:00:01\r",
            "\u001b[K     |████████████████████████████▏   | 1.8 MB 119.8 MB/s eta 0:00:01\r",
            "\u001b[K     |████████████████████████████▎   | 1.8 MB 119.8 MB/s eta 0:00:01\r",
            "\u001b[K     |████████████████████████████▌   | 1.8 MB 119.8 MB/s eta 0:00:01\r",
            "\u001b[K     |████████████████████████████▋   | 1.8 MB 119.8 MB/s eta 0:00:01\r",
            "\u001b[K     |████████████████████████████▉   | 1.8 MB 119.8 MB/s eta 0:00:01\r",
            "\u001b[K     |█████████████████████████████   | 1.8 MB 119.8 MB/s eta 0:00:01\r",
            "\u001b[K     |█████████████████████████████▏  | 1.8 MB 119.8 MB/s eta 0:00:01\r",
            "\u001b[K     |█████████████████████████████▎  | 1.9 MB 119.8 MB/s eta 0:00:01\r",
            "\u001b[K     |█████████████████████████████▌  | 1.9 MB 119.8 MB/s eta 0:00:01\r",
            "\u001b[K     |█████████████████████████████▋  | 1.9 MB 119.8 MB/s eta 0:00:01\r",
            "\u001b[K     |█████████████████████████████▊  | 1.9 MB 119.8 MB/s eta 0:00:01\r",
            "\u001b[K     |██████████████████████████████  | 1.9 MB 119.8 MB/s eta 0:00:01\r",
            "\u001b[K     |██████████████████████████████  | 1.9 MB 119.8 MB/s eta 0:00:01\r",
            "\u001b[K     |██████████████████████████████▎ | 1.9 MB 119.8 MB/s eta 0:00:01\r",
            "\u001b[K     |██████████████████████████████▍ | 1.9 MB 119.8 MB/s eta 0:00:01\r",
            "\u001b[K     |██████████████████████████████▋ | 1.9 MB 119.8 MB/s eta 0:00:01\r",
            "\u001b[K     |██████████████████████████████▊ | 1.9 MB 119.8 MB/s eta 0:00:01\r",
            "\u001b[K     |███████████████████████████████ | 2.0 MB 119.8 MB/s eta 0:00:01\r",
            "\u001b[K     |███████████████████████████████ | 2.0 MB 119.8 MB/s eta 0:00:01\r",
            "\u001b[K     |███████████████████████████████▎| 2.0 MB 119.8 MB/s eta 0:00:01\r",
            "\u001b[K     |███████████████████████████████▍| 2.0 MB 119.8 MB/s eta 0:00:01\r",
            "\u001b[K     |███████████████████████████████▌| 2.0 MB 119.8 MB/s eta 0:00:01\r",
            "\u001b[K     |███████████████████████████████▊| 2.0 MB 119.8 MB/s eta 0:00:01\r",
            "\u001b[K     |███████████████████████████████▉| 2.0 MB 119.8 MB/s eta 0:00:01\r",
            "\u001b[K     |████████████████████████████████| 2.0 MB 119.8 MB/s \r\n"
          ]
        },
        {
          "name": "stdout",
          "output_type": "stream",
          "text": [
            "\u001b[?25hRequirement already satisfied: iniconfig in /usr/local/lib/python3.10/site-packages (from pytest->polly-python==0.3.0-delete-datasets) (2.0.0)\n",
            "Requirement already satisfied: pluggy<2.0,>=0.12 in /usr/local/lib/python3.10/site-packages (from pytest->polly-python==0.3.0-delete-datasets) (1.0.0)\n",
            "Requirement already satisfied: exceptiongroup>=1.0.0rc8 in /usr/local/lib/python3.10/site-packages (from pytest->polly-python==0.3.0-delete-datasets) (1.1.0)\n",
            "Requirement already satisfied: tomli>=1.0.0 in /usr/local/lib/python3.10/site-packages (from pytest->polly-python==0.3.0-delete-datasets) (2.0.1)\n",
            "Requirement already satisfied: docutils>=0.11 in /usr/local/lib/python3.10/site-packages (from rst2txt->polly-python==0.3.0-delete-datasets) (0.15.2)\n",
            "Requirement already satisfied: asttokens>=2.1.0 in /usr/local/lib/python3.10/site-packages (from stack-data->ipython>=7.23.1->ipykernel->ipynbname<2022.0.0,>=2021.3.2->datapane->polly-python==0.3.0-delete-datasets) (2.2.1)\n",
            "Requirement already satisfied: executing>=1.2.0 in /usr/local/lib/python3.10/site-packages (from stack-data->ipython>=7.23.1->ipykernel->ipynbname<2022.0.0,>=2021.3.2->datapane->polly-python==0.3.0-delete-datasets) (1.2.0)\n",
            "Requirement already satisfied: pure-eval in /usr/local/lib/python3.10/site-packages (from stack-data->ipython>=7.23.1->ipykernel->ipynbname<2022.0.0,>=2021.3.2->datapane->polly-python==0.3.0-delete-datasets) (0.2.2)\n",
            "Installing collected packages: networkx, jarowinkler, fastobo, rapidfuzz, pronto, appdirs, polly-validator, mixpanel, cryptography, polly-python\n",
            "  Attempting uninstall: networkx\n",
            "    Found existing installation: networkx 3.0\n",
            "    Uninstalling networkx-3.0:\n",
            "      Successfully uninstalled networkx-3.0\n",
            "  Attempting uninstall: polly-python\n",
            "    Found existing installation: polly-python 0.2.4\n",
            "    Uninstalling polly-python-0.2.4:\n",
            "      Successfully uninstalled polly-python-0.2.4\n",
            "Successfully installed appdirs-1.4.4 cryptography-40.0.1 fastobo-0.12.2 jarowinkler-1.0.5 mixpanel-4.10.0 networkx-2.8.8 polly-python-0.2.11 polly-validator-0.0.1 pronto-2.5.1 rapidfuzz-2.1.1\n",
            "\u001b[33mWARNING: Running pip as the 'root' user can result in broken permissions and conflicting behaviour with the system package manager. It is recommended to use a virtual environment instead: https://pip.pypa.io/warnings/venv\u001b[0m\n",
            "\u001b[33mWARNING: You are using pip version 21.2.4; however, version 23.0.1 is available.\n",
            "You should consider upgrading via the '/usr/local/bin/python3.10 -m pip install --upgrade pip' command.\u001b[0m\n"
          ]
        }
      ],
      "source": [
        "!sudo pip3 install https://elucidatainc.github.io/PublicAssets/builds/polly-python/tests/testpolly/polly_python-0.3.0_delete_datasets-py3-none-any.whl"
      ]
    },
    {
      "cell_type": "code",
      "execution_count": null,
      "metadata": {},
      "outputs": [],
      "source": []
    },
    {
      "cell_type": "code",
      "execution_count": 3,
      "metadata": {},
      "outputs": [],
      "source": [
        "import os\n",
        "from polly.auth import Polly\n",
        "AUTH_TOKEN=(os.environ['POLLY_REFRESH_TOKEN']) # Obtain authentication tokens\n",
        "Polly.auth(AUTH_TOKEN)\n",
        "from polly.omixatlas import OmixAtlas\n",
        "omixatlas = OmixAtlas()"
      ]
    },
    {
      "cell_type": "code",
      "execution_count": 1,
      "metadata": {},
      "outputs": [],
      "source": [
        "### File Paths Testing"
      ]
    },
    {
      "cell_type": "code",
      "execution_count": 4,
      "metadata": {},
      "outputs": [
        {
          "name": "stdout",
          "output_type": "stream",
          "text": [
            "----file paths-------\n",
            "['transcriptomics_206/GSE140509_GPL16791.gct', 'transcriptomics_209/GSE140509_GPL16791.gct']\n"
          ]
        }
      ],
      "source": [
        "#testing file paths\n",
        "lib_repo_dev_id = \"1673847977346\"\n",
        "dataset_id = \"GSE140509_GPL16791\"\n",
        "file_paths = omixatlas.get_all_file_paths(lib_repo_dev_id, dataset_id)\n",
        "print(\"----file paths-------\")\n",
        "print(file_paths)"
      ]
    },
    {
      "cell_type": "code",
      "execution_count": 5,
      "metadata": {},
      "outputs": [
        {
          "ename": "paramException",
          "evalue": "paramException (parameter error): dataset_ids should be a string",
          "output_type": "error",
          "traceback": [
            "\u001b[0;31m---------------------------------------------------------------------------\u001b[0m",
            "\u001b[0;31mparamException\u001b[0m                            Traceback (most recent call last)",
            "Input \u001b[0;32mIn [5]\u001b[0m, in \u001b[0;36m<cell line: 4>\u001b[0;34m()\u001b[0m\n\u001b[1;32m      2\u001b[0m lib_repo_dev_id \u001b[38;5;241m=\u001b[39m \u001b[38;5;124m\"\u001b[39m\u001b[38;5;124m1673847977346\u001b[39m\u001b[38;5;124m\"\u001b[39m\n\u001b[1;32m      3\u001b[0m dataset_id \u001b[38;5;241m=\u001b[39m [\u001b[38;5;124m\"\u001b[39m\u001b[38;5;124mGSE140509_GPL16791\u001b[39m\u001b[38;5;124m\"\u001b[39m]\n\u001b[0;32m----> 4\u001b[0m file_paths \u001b[38;5;241m=\u001b[39m \u001b[43momixatlas\u001b[49m\u001b[38;5;241;43m.\u001b[39;49m\u001b[43mget_all_file_paths\u001b[49m\u001b[43m(\u001b[49m\u001b[43mlib_repo_dev_id\u001b[49m\u001b[43m,\u001b[49m\u001b[43m \u001b[49m\u001b[43mdataset_id\u001b[49m\u001b[43m)\u001b[49m\n\u001b[1;32m      5\u001b[0m \u001b[38;5;28mprint\u001b[39m(\u001b[38;5;124m\"\u001b[39m\u001b[38;5;124m----file paths-------\u001b[39m\u001b[38;5;124m\"\u001b[39m)\n\u001b[1;32m      6\u001b[0m \u001b[38;5;28mprint\u001b[39m(file_paths)\n",
            "File \u001b[0;32m/usr/local/lib/python3.10/site-packages/polly/omixatlas.py:2974\u001b[0m, in \u001b[0;36mOmixAtlas.get_all_file_paths\u001b[0;34m(self, repo_id, dataset_id, delete_datasets)\u001b[0m\n\u001b[1;32m   2957\u001b[0m \u001b[38;5;28;01mdef\u001b[39;00m \u001b[38;5;21mget_all_file_paths\u001b[39m(\n\u001b[1;32m   2958\u001b[0m     \u001b[38;5;28mself\u001b[39m, repo_id: \u001b[38;5;28mint\u001b[39m, dataset_id: \u001b[38;5;28mstr\u001b[39m, delete_datasets\u001b[38;5;241m=\u001b[39m\u001b[38;5;28;01mFalse\u001b[39;00m\n\u001b[1;32m   2959\u001b[0m ) \u001b[38;5;241m-\u001b[39m\u001b[38;5;241m>\u001b[39m \u001b[38;5;28mlist\u001b[39m:\n\u001b[1;32m   2960\u001b[0m     \u001b[38;5;124;03m\"\"\"Get all file paths where the file is stored corresponding to the\u001b[39;00m\n\u001b[1;32m   2961\u001b[0m \u001b[38;5;124;03m    repo_id and dataset_id\u001b[39;00m\n\u001b[1;32m   2962\u001b[0m \n\u001b[0;32m   (...)\u001b[0m\n\u001b[1;32m   2972\u001b[0m \u001b[38;5;124;03m        Error: If repo_id or dataset id does not exist in the system\u001b[39;00m\n\u001b[1;32m   2973\u001b[0m \u001b[38;5;124;03m    \"\"\"\u001b[39;00m\n\u001b[0;32m-> 2974\u001b[0m     \u001b[43momix_hlpr\u001b[49m\u001b[38;5;241;43m.\u001b[39;49m\u001b[43mget_all_file_paths_param_check\u001b[49m\u001b[43m(\u001b[49m\u001b[43mrepo_id\u001b[49m\u001b[43m,\u001b[49m\u001b[43m \u001b[49m\u001b[43mdataset_id\u001b[49m\u001b[43m)\u001b[49m\n\u001b[1;32m   2975\u001b[0m     file_paths \u001b[38;5;241m=\u001b[39m []\n\u001b[1;32m   2976\u001b[0m     schema_base_url \u001b[38;5;241m=\u001b[39m \u001b[38;5;124mf\u001b[39m\u001b[38;5;124m\"\u001b[39m\u001b[38;5;132;01m{\u001b[39;00m\u001b[38;5;28mself\u001b[39m\u001b[38;5;241m.\u001b[39mdiscover_url\u001b[38;5;132;01m}\u001b[39;00m\u001b[38;5;124m/repositories/\u001b[39m\u001b[38;5;132;01m{\u001b[39;00mrepo_id\u001b[38;5;132;01m}\u001b[39;00m\u001b[38;5;124m/files\u001b[39m\u001b[38;5;124m\"\u001b[39m\n",
            "File \u001b[0;32m/usr/local/lib/python3.10/site-packages/polly/omixatlas_hlpr.py:1194\u001b[0m, in \u001b[0;36mget_all_file_paths_param_check\u001b[0;34m(repo_id, dataset_id)\u001b[0m\n\u001b[1;32m   1189\u001b[0m         \u001b[38;5;28;01mraise\u001b[39;00m paramException(\n\u001b[1;32m   1190\u001b[0m             title\u001b[38;5;241m=\u001b[39m\u001b[38;5;124m\"\u001b[39m\u001b[38;5;124mParam Error\u001b[39m\u001b[38;5;124m\"\u001b[39m,\n\u001b[1;32m   1191\u001b[0m             detail\u001b[38;5;241m=\u001b[39m\u001b[38;5;124m\"\u001b[39m\u001b[38;5;124mdataset_ids should be a string\u001b[39m\u001b[38;5;124m\"\u001b[39m,\n\u001b[1;32m   1192\u001b[0m         )\n\u001b[1;32m   1193\u001b[0m \u001b[38;5;28;01mexcept\u001b[39;00m \u001b[38;5;167;01mException\u001b[39;00m \u001b[38;5;28;01mas\u001b[39;00m err:\n\u001b[0;32m-> 1194\u001b[0m     \u001b[38;5;28;01mraise\u001b[39;00m err\n",
            "File \u001b[0;32m/usr/local/lib/python3.10/site-packages/polly/omixatlas_hlpr.py:1189\u001b[0m, in \u001b[0;36mget_all_file_paths_param_check\u001b[0;34m(repo_id, dataset_id)\u001b[0m\n\u001b[1;32m   1187\u001b[0m     parameter_check_for_repo_id(repo_id)\n\u001b[1;32m   1188\u001b[0m     \u001b[38;5;28;01mif\u001b[39;00m \u001b[38;5;129;01mnot\u001b[39;00m (dataset_id \u001b[38;5;129;01mand\u001b[39;00m \u001b[38;5;28misinstance\u001b[39m(dataset_id, \u001b[38;5;28mstr\u001b[39m)):\n\u001b[0;32m-> 1189\u001b[0m         \u001b[38;5;28;01mraise\u001b[39;00m paramException(\n\u001b[1;32m   1190\u001b[0m             title\u001b[38;5;241m=\u001b[39m\u001b[38;5;124m\"\u001b[39m\u001b[38;5;124mParam Error\u001b[39m\u001b[38;5;124m\"\u001b[39m,\n\u001b[1;32m   1191\u001b[0m             detail\u001b[38;5;241m=\u001b[39m\u001b[38;5;124m\"\u001b[39m\u001b[38;5;124mdataset_ids should be a string\u001b[39m\u001b[38;5;124m\"\u001b[39m,\n\u001b[1;32m   1192\u001b[0m         )\n\u001b[1;32m   1193\u001b[0m \u001b[38;5;28;01mexcept\u001b[39;00m \u001b[38;5;167;01mException\u001b[39;00m \u001b[38;5;28;01mas\u001b[39;00m err:\n\u001b[1;32m   1194\u001b[0m     \u001b[38;5;28;01mraise\u001b[39;00m err\n",
            "\u001b[0;31mparamException\u001b[0m: paramException (parameter error): dataset_ids should be a string"
          ]
        }
      ],
      "source": [
        "# testing file paths parameter -> wrong dataset_id type\n",
        "lib_repo_dev_id = \"1673847977346\"\n",
        "dataset_id = [\"GSE140509_GPL16791\"]\n",
        "file_paths = omixatlas.get_all_file_paths(lib_repo_dev_id, dataset_id)\n",
        "print(\"----file paths-------\")\n",
        "print(file_paths)"
      ]
    },
    {
      "cell_type": "code",
      "execution_count": 6,
      "metadata": {},
      "outputs": [
        {
          "ename": "paramException",
          "evalue": "paramException (parameter error): repo_id, ['1673847977346'] should be str or int",
          "output_type": "error",
          "traceback": [
            "\u001b[0;31m---------------------------------------------------------------------------\u001b[0m",
            "\u001b[0;31mparamException\u001b[0m                            Traceback (most recent call last)",
            "Input \u001b[0;32mIn [6]\u001b[0m, in \u001b[0;36m<cell line: 4>\u001b[0;34m()\u001b[0m\n\u001b[1;32m      2\u001b[0m lib_repo_dev_id \u001b[38;5;241m=\u001b[39m [\u001b[38;5;124m\"\u001b[39m\u001b[38;5;124m1673847977346\u001b[39m\u001b[38;5;124m\"\u001b[39m]\n\u001b[1;32m      3\u001b[0m dataset_id \u001b[38;5;241m=\u001b[39m \u001b[38;5;124m\"\u001b[39m\u001b[38;5;124mGSE140509_GPL16791\u001b[39m\u001b[38;5;124m\"\u001b[39m\n\u001b[0;32m----> 4\u001b[0m file_paths \u001b[38;5;241m=\u001b[39m \u001b[43momixatlas\u001b[49m\u001b[38;5;241;43m.\u001b[39;49m\u001b[43mget_all_file_paths\u001b[49m\u001b[43m(\u001b[49m\u001b[43mlib_repo_dev_id\u001b[49m\u001b[43m,\u001b[49m\u001b[43m \u001b[49m\u001b[43mdataset_id\u001b[49m\u001b[43m)\u001b[49m\n\u001b[1;32m      5\u001b[0m \u001b[38;5;28mprint\u001b[39m(\u001b[38;5;124m\"\u001b[39m\u001b[38;5;124m----file paths-------\u001b[39m\u001b[38;5;124m\"\u001b[39m)\n\u001b[1;32m      6\u001b[0m \u001b[38;5;28mprint\u001b[39m(file_paths)\n",
            "File \u001b[0;32m/usr/local/lib/python3.10/site-packages/polly/omixatlas.py:2974\u001b[0m, in \u001b[0;36mOmixAtlas.get_all_file_paths\u001b[0;34m(self, repo_id, dataset_id, delete_datasets)\u001b[0m\n\u001b[1;32m   2957\u001b[0m \u001b[38;5;28;01mdef\u001b[39;00m \u001b[38;5;21mget_all_file_paths\u001b[39m(\n\u001b[1;32m   2958\u001b[0m     \u001b[38;5;28mself\u001b[39m, repo_id: \u001b[38;5;28mint\u001b[39m, dataset_id: \u001b[38;5;28mstr\u001b[39m, delete_datasets\u001b[38;5;241m=\u001b[39m\u001b[38;5;28;01mFalse\u001b[39;00m\n\u001b[1;32m   2959\u001b[0m ) \u001b[38;5;241m-\u001b[39m\u001b[38;5;241m>\u001b[39m \u001b[38;5;28mlist\u001b[39m:\n\u001b[1;32m   2960\u001b[0m     \u001b[38;5;124;03m\"\"\"Get all file paths where the file is stored corresponding to the\u001b[39;00m\n\u001b[1;32m   2961\u001b[0m \u001b[38;5;124;03m    repo_id and dataset_id\u001b[39;00m\n\u001b[1;32m   2962\u001b[0m \n\u001b[0;32m   (...)\u001b[0m\n\u001b[1;32m   2972\u001b[0m \u001b[38;5;124;03m        Error: If repo_id or dataset id does not exist in the system\u001b[39;00m\n\u001b[1;32m   2973\u001b[0m \u001b[38;5;124;03m    \"\"\"\u001b[39;00m\n\u001b[0;32m-> 2974\u001b[0m     \u001b[43momix_hlpr\u001b[49m\u001b[38;5;241;43m.\u001b[39;49m\u001b[43mget_all_file_paths_param_check\u001b[49m\u001b[43m(\u001b[49m\u001b[43mrepo_id\u001b[49m\u001b[43m,\u001b[49m\u001b[43m \u001b[49m\u001b[43mdataset_id\u001b[49m\u001b[43m)\u001b[49m\n\u001b[1;32m   2975\u001b[0m     file_paths \u001b[38;5;241m=\u001b[39m []\n\u001b[1;32m   2976\u001b[0m     schema_base_url \u001b[38;5;241m=\u001b[39m \u001b[38;5;124mf\u001b[39m\u001b[38;5;124m\"\u001b[39m\u001b[38;5;132;01m{\u001b[39;00m\u001b[38;5;28mself\u001b[39m\u001b[38;5;241m.\u001b[39mdiscover_url\u001b[38;5;132;01m}\u001b[39;00m\u001b[38;5;124m/repositories/\u001b[39m\u001b[38;5;132;01m{\u001b[39;00mrepo_id\u001b[38;5;132;01m}\u001b[39;00m\u001b[38;5;124m/files\u001b[39m\u001b[38;5;124m\"\u001b[39m\n",
            "File \u001b[0;32m/usr/local/lib/python3.10/site-packages/polly/omixatlas_hlpr.py:1194\u001b[0m, in \u001b[0;36mget_all_file_paths_param_check\u001b[0;34m(repo_id, dataset_id)\u001b[0m\n\u001b[1;32m   1189\u001b[0m         \u001b[38;5;28;01mraise\u001b[39;00m paramException(\n\u001b[1;32m   1190\u001b[0m             title\u001b[38;5;241m=\u001b[39m\u001b[38;5;124m\"\u001b[39m\u001b[38;5;124mParam Error\u001b[39m\u001b[38;5;124m\"\u001b[39m,\n\u001b[1;32m   1191\u001b[0m             detail\u001b[38;5;241m=\u001b[39m\u001b[38;5;124m\"\u001b[39m\u001b[38;5;124mdataset_ids should be a string\u001b[39m\u001b[38;5;124m\"\u001b[39m,\n\u001b[1;32m   1192\u001b[0m         )\n\u001b[1;32m   1193\u001b[0m \u001b[38;5;28;01mexcept\u001b[39;00m \u001b[38;5;167;01mException\u001b[39;00m \u001b[38;5;28;01mas\u001b[39;00m err:\n\u001b[0;32m-> 1194\u001b[0m     \u001b[38;5;28;01mraise\u001b[39;00m err\n",
            "File \u001b[0;32m/usr/local/lib/python3.10/site-packages/polly/omixatlas_hlpr.py:1187\u001b[0m, in \u001b[0;36mget_all_file_paths_param_check\u001b[0;34m(repo_id, dataset_id)\u001b[0m\n\u001b[1;32m   1179\u001b[0m \u001b[38;5;124;03m\"\"\"Function to do sanity checks on arguments of\u001b[39;00m\n\u001b[1;32m   1180\u001b[0m \u001b[38;5;124;03mget_all_file_paths_param functions\u001b[39;00m\n\u001b[1;32m   1181\u001b[0m \n\u001b[0;32m   (...)\u001b[0m\n\u001b[1;32m   1184\u001b[0m \u001b[38;5;124;03m    dataset_id (str): dataset id passed by the user\u001b[39;00m\n\u001b[1;32m   1185\u001b[0m \u001b[38;5;124;03m\"\"\"\u001b[39;00m\n\u001b[1;32m   1186\u001b[0m \u001b[38;5;28;01mtry\u001b[39;00m:\n\u001b[0;32m-> 1187\u001b[0m     \u001b[43mparameter_check_for_repo_id\u001b[49m\u001b[43m(\u001b[49m\u001b[43mrepo_id\u001b[49m\u001b[43m)\u001b[49m\n\u001b[1;32m   1188\u001b[0m     \u001b[38;5;28;01mif\u001b[39;00m \u001b[38;5;129;01mnot\u001b[39;00m (dataset_id \u001b[38;5;129;01mand\u001b[39;00m \u001b[38;5;28misinstance\u001b[39m(dataset_id, \u001b[38;5;28mstr\u001b[39m)):\n\u001b[1;32m   1189\u001b[0m         \u001b[38;5;28;01mraise\u001b[39;00m paramException(\n\u001b[1;32m   1190\u001b[0m             title\u001b[38;5;241m=\u001b[39m\u001b[38;5;124m\"\u001b[39m\u001b[38;5;124mParam Error\u001b[39m\u001b[38;5;124m\"\u001b[39m,\n\u001b[1;32m   1191\u001b[0m             detail\u001b[38;5;241m=\u001b[39m\u001b[38;5;124m\"\u001b[39m\u001b[38;5;124mdataset_ids should be a string\u001b[39m\u001b[38;5;124m\"\u001b[39m,\n\u001b[1;32m   1192\u001b[0m         )\n",
            "File \u001b[0;32m/usr/local/lib/python3.10/site-packages/polly/omixatlas_hlpr.py:55\u001b[0m, in \u001b[0;36mparameter_check_for_repo_id\u001b[0;34m(repo_id)\u001b[0m\n\u001b[1;32m     50\u001b[0m     \u001b[38;5;28;01mraise\u001b[39;00m paramException(\n\u001b[1;32m     51\u001b[0m         title\u001b[38;5;241m=\u001b[39m\u001b[38;5;124m\"\u001b[39m\u001b[38;5;124mParam Error\u001b[39m\u001b[38;5;124m\"\u001b[39m,\n\u001b[1;32m     52\u001b[0m         detail\u001b[38;5;241m=\u001b[39m\u001b[38;5;124m\"\u001b[39m\u001b[38;5;124mrepo_id should not be empty\u001b[39m\u001b[38;5;124m\"\u001b[39m,\n\u001b[1;32m     53\u001b[0m     )\n\u001b[1;32m     54\u001b[0m \u001b[38;5;28;01melif\u001b[39;00m \u001b[38;5;28mtype\u001b[39m(repo_id) \u001b[38;5;241m!=\u001b[39m \u001b[38;5;28mstr\u001b[39m \u001b[38;5;129;01mand\u001b[39;00m \u001b[38;5;28mtype\u001b[39m(repo_id) \u001b[38;5;241m!=\u001b[39m \u001b[38;5;28mint\u001b[39m:\n\u001b[0;32m---> 55\u001b[0m     \u001b[38;5;28;01mraise\u001b[39;00m paramException(\n\u001b[1;32m     56\u001b[0m         title\u001b[38;5;241m=\u001b[39m\u001b[38;5;124m\"\u001b[39m\u001b[38;5;124mParam Error\u001b[39m\u001b[38;5;124m\"\u001b[39m,\n\u001b[1;32m     57\u001b[0m         detail\u001b[38;5;241m=\u001b[39m\u001b[38;5;124mf\u001b[39m\u001b[38;5;124m\"\u001b[39m\u001b[38;5;124mrepo_id, \u001b[39m\u001b[38;5;132;01m{\u001b[39;00mrepo_id\u001b[38;5;132;01m}\u001b[39;00m\u001b[38;5;124m should be str or int\u001b[39m\u001b[38;5;124m\"\u001b[39m,\n\u001b[1;32m     58\u001b[0m     )\n",
            "\u001b[0;31mparamException\u001b[0m: paramException (parameter error): repo_id, ['1673847977346'] should be str or int"
          ]
        }
      ],
      "source": [
        "# testing file paths parameter -> wrong repo_id type\n",
        "lib_repo_dev_id = [\"1673847977346\"]\n",
        "dataset_id = \"GSE140509_GPL16791\"\n",
        "file_paths = omixatlas.get_all_file_paths(lib_repo_dev_id, dataset_id)\n",
        "print(\"----file paths-------\")\n",
        "print(file_paths)"
      ]
    },
    {
      "cell_type": "code",
      "execution_count": 7,
      "metadata": {},
      "outputs": [
        {
          "name": "stdout",
          "output_type": "stream",
          "text": [
            "----file paths-------\n",
            "[]\n"
          ]
        },
        {
          "name": "stderr",
          "output_type": "stream",
          "text": [
            "WARNING: GSE140509_GPL1679134 does not exist in the Omixatlas 1673847977346 \n"
          ]
        }
      ],
      "source": [
        "# warning showed if wrong dataset_id passed\n",
        "lib_repo_dev_id = \"1673847977346\"\n",
        "dataset_id = \"GSE140509_GPL1679134\"\n",
        "file_paths = omixatlas.get_all_file_paths(lib_repo_dev_id, dataset_id)\n",
        "print(\"----file paths-------\")\n",
        "print(file_paths)"
      ]
    },
    {
      "cell_type": "code",
      "execution_count": 8,
      "metadata": {},
      "outputs": [
        {
          "ename": "RequestException",
          "evalue": "('Package not found', 'Package with package_name None not found')",
          "output_type": "error",
          "traceback": [
            "\u001b[0;31m---------------------------------------------------------------------------\u001b[0m",
            "\u001b[0;31mRequestException\u001b[0m                          Traceback (most recent call last)",
            "Input \u001b[0;32mIn [8]\u001b[0m, in \u001b[0;36m<cell line: 4>\u001b[0;34m()\u001b[0m\n\u001b[1;32m      2\u001b[0m lib_repo_dev_id \u001b[38;5;241m=\u001b[39m \u001b[38;5;124m\"\u001b[39m\u001b[38;5;124m16738479773463221\u001b[39m\u001b[38;5;124m\"\u001b[39m\n\u001b[1;32m      3\u001b[0m dataset_id \u001b[38;5;241m=\u001b[39m \u001b[38;5;124m\"\u001b[39m\u001b[38;5;124mGSE140509_GPL1679\u001b[39m\u001b[38;5;124m\"\u001b[39m\n\u001b[0;32m----> 4\u001b[0m file_paths \u001b[38;5;241m=\u001b[39m \u001b[43momixatlas\u001b[49m\u001b[38;5;241;43m.\u001b[39;49m\u001b[43mget_all_file_paths\u001b[49m\u001b[43m(\u001b[49m\u001b[43mlib_repo_dev_id\u001b[49m\u001b[43m,\u001b[49m\u001b[43m \u001b[49m\u001b[43mdataset_id\u001b[49m\u001b[43m)\u001b[49m\n\u001b[1;32m      5\u001b[0m \u001b[38;5;28mprint\u001b[39m(\u001b[38;5;124m\"\u001b[39m\u001b[38;5;124m----file paths-------\u001b[39m\u001b[38;5;124m\"\u001b[39m)\n\u001b[1;32m      6\u001b[0m \u001b[38;5;28mprint\u001b[39m(file_paths)\n",
            "File \u001b[0;32m/usr/local/lib/python3.10/site-packages/polly/omixatlas.py:3001\u001b[0m, in \u001b[0;36mOmixAtlas.get_all_file_paths\u001b[0;34m(self, repo_id, dataset_id, delete_datasets)\u001b[0m\n\u001b[1;32m   2999\u001b[0m         \u001b[38;5;28;01mreturn\u001b[39;00m error_msg\n\u001b[1;32m   3000\u001b[0m \u001b[38;5;28;01melif\u001b[39;00m list_files_resp\u001b[38;5;241m.\u001b[39mstatus_code \u001b[38;5;241m!=\u001b[39m const\u001b[38;5;241m.\u001b[39mOK:\n\u001b[0;32m-> 3001\u001b[0m     \u001b[43merror_handler\u001b[49m\u001b[43m(\u001b[49m\u001b[43mlist_files_resp\u001b[49m\u001b[43m)\u001b[49m\n\u001b[1;32m   3002\u001b[0m \u001b[38;5;28;01melse\u001b[39;00m:\n\u001b[1;32m   3003\u001b[0m     list_files_resp \u001b[38;5;241m=\u001b[39m list_files_resp\u001b[38;5;241m.\u001b[39mjson()\n",
            "File \u001b[0;32m/usr/local/lib/python3.10/site-packages/polly/errors.py:337\u001b[0m, in \u001b[0;36merror_handler\u001b[0;34m(response)\u001b[0m\n\u001b[1;32m    335\u001b[0m     \u001b[38;5;28;01mif\u001b[39;00m title \u001b[38;5;241m==\u001b[39m app_err_info\u001b[38;5;241m.\u001b[39mREPOSITORY_LOCKED:\n\u001b[1;32m    336\u001b[0m         detail \u001b[38;5;241m=\u001b[39m app_err_info\u001b[38;5;241m.\u001b[39mREPOSITORY_LOCKED_DETAIL\n\u001b[0;32m--> 337\u001b[0m     \u001b[38;5;28;01mraise\u001b[39;00m RequestException(title, detail)\n\u001b[1;32m    338\u001b[0m \u001b[38;5;28;01melif\u001b[39;00m response\u001b[38;5;241m.\u001b[39mstatus_code \u001b[38;5;241m==\u001b[39m \u001b[38;5;241m401\u001b[39m:\n\u001b[1;32m    339\u001b[0m     \u001b[38;5;28;01mraise\u001b[39;00m UnauthorizedException\n",
            "\u001b[0;31mRequestException\u001b[0m: ('Package not found', 'Package with package_name None not found')"
          ]
        }
      ],
      "source": [
        "# request exception if wrong repo_id\n",
        "lib_repo_dev_id = \"16738479773463221\"\n",
        "dataset_id = \"GSE140509_GPL1679\"\n",
        "file_paths = omixatlas.get_all_file_paths(lib_repo_dev_id, dataset_id)\n",
        "print(\"----file paths-------\")\n",
        "print(file_paths)"
      ]
    },
    {
      "cell_type": "code",
      "execution_count": null,
      "metadata": {},
      "outputs": [],
      "source": [
        "### Delete Dataset testing"
      ]
    },
    {
      "cell_type": "code",
      "execution_count": null,
      "metadata": {},
      "outputs": [],
      "source": [
        "## Parameter check"
      ]
    },
    {
      "cell_type": "code",
      "execution_count": 9,
      "metadata": {},
      "outputs": [
        {
          "ename": "paramException",
          "evalue": "paramException (parameter error): repo_id, ['1673847977346'] should be str or int",
          "output_type": "error",
          "traceback": [
            "\u001b[0;31m---------------------------------------------------------------------------\u001b[0m",
            "\u001b[0;31mparamException\u001b[0m                            Traceback (most recent call last)",
            "Input \u001b[0;32mIn [9]\u001b[0m, in \u001b[0;36m<cell line: 5>\u001b[0;34m()\u001b[0m\n\u001b[1;32m      3\u001b[0m repo_id \u001b[38;5;241m=\u001b[39m [\u001b[38;5;124m\"\u001b[39m\u001b[38;5;124m1673847977346\u001b[39m\u001b[38;5;124m\"\u001b[39m]\n\u001b[1;32m      4\u001b[0m dataset_file_path_dict \u001b[38;5;241m=\u001b[39m {\u001b[38;5;124m\"\u001b[39m\u001b[38;5;124mGSE140509_GPL16791\u001b[39m\u001b[38;5;124m\"\u001b[39m:[\u001b[38;5;124m\"\u001b[39m\u001b[38;5;124mtranscriptomics_207s/GSE140509_GPL16791.gct\u001b[39m\u001b[38;5;124m\"\u001b[39m]}\n\u001b[0;32m----> 5\u001b[0m \u001b[43momixatlas\u001b[49m\u001b[38;5;241;43m.\u001b[39;49m\u001b[43mdelete_datasets\u001b[49m\u001b[43m(\u001b[49m\u001b[43mrepo_id\u001b[49m\u001b[43m,\u001b[49m\u001b[43m \u001b[49m\u001b[43mdataset_id\u001b[49m\u001b[43m,\u001b[49m\u001b[43m \u001b[49m\u001b[43mdataset_file_path_dict\u001b[49m\u001b[38;5;241;43m=\u001b[39;49m\u001b[43mdataset_file_path_dict\u001b[49m\u001b[43m)\u001b[49m\n",
            "File \u001b[0;32m/usr/local/lib/python3.10/site-packages/polly/tracking.py:48\u001b[0m, in \u001b[0;36mTrack.track_decorator.<locals>.wrapper_function\u001b[0;34m(*args, **kwargs)\u001b[0m\n\u001b[1;32m     46\u001b[0m         \u001b[38;5;28;01mreturn\u001b[39;00m result\n\u001b[1;32m     47\u001b[0m \u001b[38;5;28;01melse\u001b[39;00m:\n\u001b[0;32m---> 48\u001b[0m     \u001b[38;5;28;01mraise\u001b[39;00m returned_err\n",
            "File \u001b[0;32m/usr/local/lib/python3.10/site-packages/polly/tracking.py:20\u001b[0m, in \u001b[0;36mTrack.track_decorator.<locals>.wrapper_function\u001b[0;34m(*args, **kwargs)\u001b[0m\n\u001b[1;32m     18\u001b[0m execution_flag \u001b[38;5;241m=\u001b[39m \u001b[38;5;28;01mFalse\u001b[39;00m\n\u001b[1;32m     19\u001b[0m \u001b[38;5;28;01mtry\u001b[39;00m:\n\u001b[0;32m---> 20\u001b[0m     result \u001b[38;5;241m=\u001b[39m \u001b[43mfunction\u001b[49m\u001b[43m(\u001b[49m\u001b[38;5;241;43m*\u001b[39;49m\u001b[43margs\u001b[49m\u001b[43m,\u001b[49m\u001b[43m \u001b[49m\u001b[38;5;241;43m*\u001b[39;49m\u001b[38;5;241;43m*\u001b[39;49m\u001b[43mkwargs\u001b[49m\u001b[43m)\u001b[49m\n\u001b[1;32m     21\u001b[0m     execution_flag \u001b[38;5;241m=\u001b[39m \u001b[38;5;28;01mTrue\u001b[39;00m\n\u001b[1;32m     22\u001b[0m \u001b[38;5;28;01mexcept\u001b[39;00m \u001b[38;5;167;01mException\u001b[39;00m \u001b[38;5;28;01mas\u001b[39;00m e:\n",
            "File \u001b[0;32m/usr/local/lib/python3.10/site-packages/polly/omixatlas.py:3085\u001b[0m, in \u001b[0;36mOmixAtlas.delete_datasets\u001b[0;34m(self, repo_id, dataset_ids, dataset_file_path_dict)\u001b[0m\n\u001b[1;32m   3082\u001b[0m         \u001b[38;5;28mprint\u001b[39m(const\u001b[38;5;241m.\u001b[39mDELETION_OPERATION_UNSUCCESSFUL_FOR_ALL_DATASET_IDS)\n\u001b[1;32m   3084\u001b[0m \u001b[38;5;28;01mexcept\u001b[39;00m \u001b[38;5;167;01mException\u001b[39;00m \u001b[38;5;28;01mas\u001b[39;00m err:\n\u001b[0;32m-> 3085\u001b[0m     \u001b[38;5;28;01mraise\u001b[39;00m err\n",
            "File \u001b[0;32m/usr/local/lib/python3.10/site-packages/polly/omixatlas.py:3057\u001b[0m, in \u001b[0;36mOmixAtlas.delete_datasets\u001b[0;34m(self, repo_id, dataset_ids, dataset_file_path_dict)\u001b[0m\n\u001b[1;32m   3028\u001b[0m \u001b[38;5;124;03m\"\"\"\u001b[39;00m\n\u001b[1;32m   3029\u001b[0m \u001b[38;5;124;03mThis function is used to delete datasets from an OmixAtlas.\u001b[39;00m\n\u001b[1;32m   3030\u001b[0m \u001b[38;5;124;03mOnce user runs this function successfully, they should be able to see the\u001b[39;00m\n\u001b[0;32m   (...)\u001b[0m\n\u001b[1;32m   3053\u001b[0m \u001b[38;5;124;03m    None\u001b[39;00m\n\u001b[1;32m   3054\u001b[0m \u001b[38;5;124;03m\"\"\"\u001b[39;00m\n\u001b[1;32m   3055\u001b[0m \u001b[38;5;28;01mtry\u001b[39;00m:\n\u001b[1;32m   3056\u001b[0m     \u001b[38;5;66;03m# this line is making the code unreachable -> will look into it later\u001b[39;00m\n\u001b[0;32m-> 3057\u001b[0m     \u001b[38;5;28;43mself\u001b[39;49m\u001b[38;5;241;43m.\u001b[39;49m\u001b[43m_parameter_check_for_delete_dataset\u001b[49m\u001b[43m(\u001b[49m\n\u001b[1;32m   3058\u001b[0m \u001b[43m        \u001b[49m\u001b[43mrepo_id\u001b[49m\u001b[43m,\u001b[49m\u001b[43m \u001b[49m\u001b[43mdataset_ids\u001b[49m\u001b[43m,\u001b[49m\u001b[43m \u001b[49m\u001b[43mdataset_file_path_dict\u001b[49m\n\u001b[1;32m   3059\u001b[0m \u001b[43m    \u001b[49m\u001b[43m)\u001b[49m\n\u001b[1;32m   3060\u001b[0m     \u001b[38;5;66;03m# extract s3 keys for dataset_ids\u001b[39;00m\n\u001b[1;32m   3061\u001b[0m     repo_id \u001b[38;5;241m=\u001b[39m omix_hlpr\u001b[38;5;241m.\u001b[39mmake_repo_id_string(repo_id)\n",
            "File \u001b[0;32m/usr/local/lib/python3.10/site-packages/polly/omixatlas.py:2938\u001b[0m, in \u001b[0;36mOmixAtlas._parameter_check_for_delete_dataset\u001b[0;34m(self, repo_id, dataset_ids, dataset_file_path_dict)\u001b[0m\n\u001b[1;32m   2934\u001b[0m     omix_hlpr\u001b[38;5;241m.\u001b[39mdataset_file_path_dict_type_check_in_delete_datasets(\n\u001b[1;32m   2935\u001b[0m         dataset_file_path_dict\n\u001b[1;32m   2936\u001b[0m     )\n\u001b[1;32m   2937\u001b[0m \u001b[38;5;28;01mexcept\u001b[39;00m \u001b[38;5;167;01mException\u001b[39;00m \u001b[38;5;28;01mas\u001b[39;00m err:\n\u001b[0;32m-> 2938\u001b[0m     \u001b[38;5;28;01mraise\u001b[39;00m err\n",
            "File \u001b[0;32m/usr/local/lib/python3.10/site-packages/polly/omixatlas.py:2932\u001b[0m, in \u001b[0;36mOmixAtlas._parameter_check_for_delete_dataset\u001b[0;34m(self, repo_id, dataset_ids, dataset_file_path_dict)\u001b[0m\n\u001b[1;32m   2928\u001b[0m \u001b[38;5;124;03m\"\"\"\u001b[39;00m\n\u001b[1;32m   2929\u001b[0m \u001b[38;5;124;03mSanity check for all the parameters of delete datasets\u001b[39;00m\n\u001b[1;32m   2930\u001b[0m \u001b[38;5;124;03m\"\"\"\u001b[39;00m\n\u001b[1;32m   2931\u001b[0m \u001b[38;5;28;01mtry\u001b[39;00m:\n\u001b[0;32m-> 2932\u001b[0m     \u001b[43momix_hlpr\u001b[49m\u001b[38;5;241;43m.\u001b[39;49m\u001b[43mparameter_check_for_repo_id\u001b[49m\u001b[43m(\u001b[49m\u001b[43mrepo_id\u001b[49m\u001b[43m)\u001b[49m\n\u001b[1;32m   2933\u001b[0m     omix_hlpr\u001b[38;5;241m.\u001b[39mdataset_id_type_check_in_delete_datasets(dataset_ids)\n\u001b[1;32m   2934\u001b[0m     omix_hlpr\u001b[38;5;241m.\u001b[39mdataset_file_path_dict_type_check_in_delete_datasets(\n\u001b[1;32m   2935\u001b[0m         dataset_file_path_dict\n\u001b[1;32m   2936\u001b[0m     )\n",
            "File \u001b[0;32m/usr/local/lib/python3.10/site-packages/polly/omixatlas_hlpr.py:55\u001b[0m, in \u001b[0;36mparameter_check_for_repo_id\u001b[0;34m(repo_id)\u001b[0m\n\u001b[1;32m     50\u001b[0m     \u001b[38;5;28;01mraise\u001b[39;00m paramException(\n\u001b[1;32m     51\u001b[0m         title\u001b[38;5;241m=\u001b[39m\u001b[38;5;124m\"\u001b[39m\u001b[38;5;124mParam Error\u001b[39m\u001b[38;5;124m\"\u001b[39m,\n\u001b[1;32m     52\u001b[0m         detail\u001b[38;5;241m=\u001b[39m\u001b[38;5;124m\"\u001b[39m\u001b[38;5;124mrepo_id should not be empty\u001b[39m\u001b[38;5;124m\"\u001b[39m,\n\u001b[1;32m     53\u001b[0m     )\n\u001b[1;32m     54\u001b[0m \u001b[38;5;28;01melif\u001b[39;00m \u001b[38;5;28mtype\u001b[39m(repo_id) \u001b[38;5;241m!=\u001b[39m \u001b[38;5;28mstr\u001b[39m \u001b[38;5;129;01mand\u001b[39;00m \u001b[38;5;28mtype\u001b[39m(repo_id) \u001b[38;5;241m!=\u001b[39m \u001b[38;5;28mint\u001b[39m:\n\u001b[0;32m---> 55\u001b[0m     \u001b[38;5;28;01mraise\u001b[39;00m paramException(\n\u001b[1;32m     56\u001b[0m         title\u001b[38;5;241m=\u001b[39m\u001b[38;5;124m\"\u001b[39m\u001b[38;5;124mParam Error\u001b[39m\u001b[38;5;124m\"\u001b[39m,\n\u001b[1;32m     57\u001b[0m         detail\u001b[38;5;241m=\u001b[39m\u001b[38;5;124mf\u001b[39m\u001b[38;5;124m\"\u001b[39m\u001b[38;5;124mrepo_id, \u001b[39m\u001b[38;5;132;01m{\u001b[39;00mrepo_id\u001b[38;5;132;01m}\u001b[39;00m\u001b[38;5;124m should be str or int\u001b[39m\u001b[38;5;124m\"\u001b[39m,\n\u001b[1;32m     58\u001b[0m     )\n",
            "\u001b[0;31mparamException\u001b[0m: paramException (parameter error): repo_id, ['1673847977346'] should be str or int"
          ]
        }
      ],
      "source": [
        "# repo_id in the type\n",
        "dataset_id = [\"GSE140509_GPL16791\"]\n",
        "repo_id = [\"1673847977346\"]\n",
        "dataset_file_path_dict = {\"GSE140509_GPL16791\":[\"transcriptomics_207s/GSE140509_GPL16791.gct\"]}\n",
        "omixatlas.delete_datasets(repo_id, dataset_id, dataset_file_path_dict=dataset_file_path_dict)"
      ]
    },
    {
      "cell_type": "code",
      "execution_count": 10,
      "metadata": {},
      "outputs": [
        {
          "ename": "paramException",
          "evalue": "paramException (parameter error): dataset_ids should be list of strings",
          "output_type": "error",
          "traceback": [
            "\u001b[0;31m---------------------------------------------------------------------------\u001b[0m",
            "\u001b[0;31mparamException\u001b[0m                            Traceback (most recent call last)",
            "Input \u001b[0;32mIn [10]\u001b[0m, in \u001b[0;36m<cell line: 5>\u001b[0;34m()\u001b[0m\n\u001b[1;32m      3\u001b[0m repo_id \u001b[38;5;241m=\u001b[39m \u001b[38;5;124m\"\u001b[39m\u001b[38;5;124m1673847977346\u001b[39m\u001b[38;5;124m\"\u001b[39m\n\u001b[1;32m      4\u001b[0m dataset_file_path_dict \u001b[38;5;241m=\u001b[39m {\u001b[38;5;124m\"\u001b[39m\u001b[38;5;124mGSE140509_GPL16791\u001b[39m\u001b[38;5;124m\"\u001b[39m:[\u001b[38;5;124m\"\u001b[39m\u001b[38;5;124mtranscriptomics_207s/GSE140509_GPL16791.gct\u001b[39m\u001b[38;5;124m\"\u001b[39m]}\n\u001b[0;32m----> 5\u001b[0m \u001b[43momixatlas\u001b[49m\u001b[38;5;241;43m.\u001b[39;49m\u001b[43mdelete_datasets\u001b[49m\u001b[43m(\u001b[49m\u001b[43mrepo_id\u001b[49m\u001b[43m,\u001b[49m\u001b[43m \u001b[49m\u001b[43mdataset_id\u001b[49m\u001b[43m,\u001b[49m\u001b[43m \u001b[49m\u001b[43mdataset_file_path_dict\u001b[49m\u001b[38;5;241;43m=\u001b[39;49m\u001b[43mdataset_file_path_dict\u001b[49m\u001b[43m)\u001b[49m\n",
            "File \u001b[0;32m/usr/local/lib/python3.10/site-packages/polly/tracking.py:48\u001b[0m, in \u001b[0;36mTrack.track_decorator.<locals>.wrapper_function\u001b[0;34m(*args, **kwargs)\u001b[0m\n\u001b[1;32m     46\u001b[0m         \u001b[38;5;28;01mreturn\u001b[39;00m result\n\u001b[1;32m     47\u001b[0m \u001b[38;5;28;01melse\u001b[39;00m:\n\u001b[0;32m---> 48\u001b[0m     \u001b[38;5;28;01mraise\u001b[39;00m returned_err\n",
            "File \u001b[0;32m/usr/local/lib/python3.10/site-packages/polly/tracking.py:20\u001b[0m, in \u001b[0;36mTrack.track_decorator.<locals>.wrapper_function\u001b[0;34m(*args, **kwargs)\u001b[0m\n\u001b[1;32m     18\u001b[0m execution_flag \u001b[38;5;241m=\u001b[39m \u001b[38;5;28;01mFalse\u001b[39;00m\n\u001b[1;32m     19\u001b[0m \u001b[38;5;28;01mtry\u001b[39;00m:\n\u001b[0;32m---> 20\u001b[0m     result \u001b[38;5;241m=\u001b[39m \u001b[43mfunction\u001b[49m\u001b[43m(\u001b[49m\u001b[38;5;241;43m*\u001b[39;49m\u001b[43margs\u001b[49m\u001b[43m,\u001b[49m\u001b[43m \u001b[49m\u001b[38;5;241;43m*\u001b[39;49m\u001b[38;5;241;43m*\u001b[39;49m\u001b[43mkwargs\u001b[49m\u001b[43m)\u001b[49m\n\u001b[1;32m     21\u001b[0m     execution_flag \u001b[38;5;241m=\u001b[39m \u001b[38;5;28;01mTrue\u001b[39;00m\n\u001b[1;32m     22\u001b[0m \u001b[38;5;28;01mexcept\u001b[39;00m \u001b[38;5;167;01mException\u001b[39;00m \u001b[38;5;28;01mas\u001b[39;00m e:\n",
            "File \u001b[0;32m/usr/local/lib/python3.10/site-packages/polly/omixatlas.py:3085\u001b[0m, in \u001b[0;36mOmixAtlas.delete_datasets\u001b[0;34m(self, repo_id, dataset_ids, dataset_file_path_dict)\u001b[0m\n\u001b[1;32m   3082\u001b[0m         \u001b[38;5;28mprint\u001b[39m(const\u001b[38;5;241m.\u001b[39mDELETION_OPERATION_UNSUCCESSFUL_FOR_ALL_DATASET_IDS)\n\u001b[1;32m   3084\u001b[0m \u001b[38;5;28;01mexcept\u001b[39;00m \u001b[38;5;167;01mException\u001b[39;00m \u001b[38;5;28;01mas\u001b[39;00m err:\n\u001b[0;32m-> 3085\u001b[0m     \u001b[38;5;28;01mraise\u001b[39;00m err\n",
            "File \u001b[0;32m/usr/local/lib/python3.10/site-packages/polly/omixatlas.py:3057\u001b[0m, in \u001b[0;36mOmixAtlas.delete_datasets\u001b[0;34m(self, repo_id, dataset_ids, dataset_file_path_dict)\u001b[0m\n\u001b[1;32m   3028\u001b[0m \u001b[38;5;124;03m\"\"\"\u001b[39;00m\n\u001b[1;32m   3029\u001b[0m \u001b[38;5;124;03mThis function is used to delete datasets from an OmixAtlas.\u001b[39;00m\n\u001b[1;32m   3030\u001b[0m \u001b[38;5;124;03mOnce user runs this function successfully, they should be able to see the\u001b[39;00m\n\u001b[0;32m   (...)\u001b[0m\n\u001b[1;32m   3053\u001b[0m \u001b[38;5;124;03m    None\u001b[39;00m\n\u001b[1;32m   3054\u001b[0m \u001b[38;5;124;03m\"\"\"\u001b[39;00m\n\u001b[1;32m   3055\u001b[0m \u001b[38;5;28;01mtry\u001b[39;00m:\n\u001b[1;32m   3056\u001b[0m     \u001b[38;5;66;03m# this line is making the code unreachable -> will look into it later\u001b[39;00m\n\u001b[0;32m-> 3057\u001b[0m     \u001b[38;5;28;43mself\u001b[39;49m\u001b[38;5;241;43m.\u001b[39;49m\u001b[43m_parameter_check_for_delete_dataset\u001b[49m\u001b[43m(\u001b[49m\n\u001b[1;32m   3058\u001b[0m \u001b[43m        \u001b[49m\u001b[43mrepo_id\u001b[49m\u001b[43m,\u001b[49m\u001b[43m \u001b[49m\u001b[43mdataset_ids\u001b[49m\u001b[43m,\u001b[49m\u001b[43m \u001b[49m\u001b[43mdataset_file_path_dict\u001b[49m\n\u001b[1;32m   3059\u001b[0m \u001b[43m    \u001b[49m\u001b[43m)\u001b[49m\n\u001b[1;32m   3060\u001b[0m     \u001b[38;5;66;03m# extract s3 keys for dataset_ids\u001b[39;00m\n\u001b[1;32m   3061\u001b[0m     repo_id \u001b[38;5;241m=\u001b[39m omix_hlpr\u001b[38;5;241m.\u001b[39mmake_repo_id_string(repo_id)\n",
            "File \u001b[0;32m/usr/local/lib/python3.10/site-packages/polly/omixatlas.py:2938\u001b[0m, in \u001b[0;36mOmixAtlas._parameter_check_for_delete_dataset\u001b[0;34m(self, repo_id, dataset_ids, dataset_file_path_dict)\u001b[0m\n\u001b[1;32m   2934\u001b[0m     omix_hlpr\u001b[38;5;241m.\u001b[39mdataset_file_path_dict_type_check_in_delete_datasets(\n\u001b[1;32m   2935\u001b[0m         dataset_file_path_dict\n\u001b[1;32m   2936\u001b[0m     )\n\u001b[1;32m   2937\u001b[0m \u001b[38;5;28;01mexcept\u001b[39;00m \u001b[38;5;167;01mException\u001b[39;00m \u001b[38;5;28;01mas\u001b[39;00m err:\n\u001b[0;32m-> 2938\u001b[0m     \u001b[38;5;28;01mraise\u001b[39;00m err\n",
            "File \u001b[0;32m/usr/local/lib/python3.10/site-packages/polly/omixatlas.py:2933\u001b[0m, in \u001b[0;36mOmixAtlas._parameter_check_for_delete_dataset\u001b[0;34m(self, repo_id, dataset_ids, dataset_file_path_dict)\u001b[0m\n\u001b[1;32m   2931\u001b[0m \u001b[38;5;28;01mtry\u001b[39;00m:\n\u001b[1;32m   2932\u001b[0m     omix_hlpr\u001b[38;5;241m.\u001b[39mparameter_check_for_repo_id(repo_id)\n\u001b[0;32m-> 2933\u001b[0m     \u001b[43momix_hlpr\u001b[49m\u001b[38;5;241;43m.\u001b[39;49m\u001b[43mdataset_id_type_check_in_delete_datasets\u001b[49m\u001b[43m(\u001b[49m\u001b[43mdataset_ids\u001b[49m\u001b[43m)\u001b[49m\n\u001b[1;32m   2934\u001b[0m     omix_hlpr\u001b[38;5;241m.\u001b[39mdataset_file_path_dict_type_check_in_delete_datasets(\n\u001b[1;32m   2935\u001b[0m         dataset_file_path_dict\n\u001b[1;32m   2936\u001b[0m     )\n\u001b[1;32m   2937\u001b[0m \u001b[38;5;28;01mexcept\u001b[39;00m \u001b[38;5;167;01mException\u001b[39;00m \u001b[38;5;28;01mas\u001b[39;00m err:\n",
            "File \u001b[0;32m/usr/local/lib/python3.10/site-packages/polly/omixatlas_hlpr.py:1101\u001b[0m, in \u001b[0;36mdataset_id_type_check_in_delete_datasets\u001b[0;34m(dataset_ids)\u001b[0m\n\u001b[1;32m   1095\u001b[0m \u001b[38;5;124;03m\"\"\"Dataset Id type check in delete datasets\u001b[39;00m\n\u001b[1;32m   1096\u001b[0m \n\u001b[1;32m   1097\u001b[0m \u001b[38;5;124;03mArgs:\u001b[39;00m\n\u001b[1;32m   1098\u001b[0m \u001b[38;5;124;03m    dataset_id (list): dataset ids list\u001b[39;00m\n\u001b[1;32m   1099\u001b[0m \u001b[38;5;124;03m\"\"\"\u001b[39;00m\n\u001b[1;32m   1100\u001b[0m \u001b[38;5;28;01mif\u001b[39;00m \u001b[38;5;129;01mnot\u001b[39;00m (dataset_ids \u001b[38;5;129;01mand\u001b[39;00m \u001b[38;5;28misinstance\u001b[39m(dataset_ids, \u001b[38;5;28mlist\u001b[39m)):\n\u001b[0;32m-> 1101\u001b[0m     \u001b[38;5;28;01mraise\u001b[39;00m paramException(\n\u001b[1;32m   1102\u001b[0m         title\u001b[38;5;241m=\u001b[39m\u001b[38;5;124m\"\u001b[39m\u001b[38;5;124mParam Error\u001b[39m\u001b[38;5;124m\"\u001b[39m,\n\u001b[1;32m   1103\u001b[0m         detail\u001b[38;5;241m=\u001b[39m\u001b[38;5;124m\"\u001b[39m\u001b[38;5;124mdataset_ids should be list of strings\u001b[39m\u001b[38;5;124m\"\u001b[39m,\n\u001b[1;32m   1104\u001b[0m     )\n",
            "\u001b[0;31mparamException\u001b[0m: paramException (parameter error): dataset_ids should be list of strings"
          ]
        }
      ],
      "source": [
        "# dataset_id of wrong type\n",
        "dataset_id = \"GSE140509_GPL16791\"\n",
        "repo_id = \"1673847977346\"\n",
        "dataset_file_path_dict = {\"GSE140509_GPL16791\":[\"transcriptomics_207s/GSE140509_GPL16791.gct\"]}\n",
        "omixatlas.delete_datasets(repo_id, dataset_id, dataset_file_path_dict=dataset_file_path_dict)"
      ]
    },
    {
      "cell_type": "code",
      "execution_count": 11,
      "metadata": {},
      "outputs": [
        {
          "ename": "paramException",
          "evalue": "paramException (parameter error): ('dataset_file_path_dict should be dict -> {<dataset_id>:<list_of_paths>}',)",
          "output_type": "error",
          "traceback": [
            "\u001b[0;31m---------------------------------------------------------------------------\u001b[0m",
            "\u001b[0;31mparamException\u001b[0m                            Traceback (most recent call last)",
            "Input \u001b[0;32mIn [11]\u001b[0m, in \u001b[0;36m<cell line: 5>\u001b[0;34m()\u001b[0m\n\u001b[1;32m      3\u001b[0m repo_id \u001b[38;5;241m=\u001b[39m \u001b[38;5;124m\"\u001b[39m\u001b[38;5;124m1673847977346\u001b[39m\u001b[38;5;124m\"\u001b[39m\n\u001b[1;32m      4\u001b[0m dataset_file_path_dict \u001b[38;5;241m=\u001b[39m [\u001b[38;5;124m\"\u001b[39m\u001b[38;5;124mGSE140509_GPL16791\u001b[39m\u001b[38;5;124m\"\u001b[39m,\u001b[38;5;124m\"\u001b[39m\u001b[38;5;124mtranscriptomics_207s/GSE140509_GPL16791.gct\u001b[39m\u001b[38;5;124m\"\u001b[39m]\n\u001b[0;32m----> 5\u001b[0m \u001b[43momixatlas\u001b[49m\u001b[38;5;241;43m.\u001b[39;49m\u001b[43mdelete_datasets\u001b[49m\u001b[43m(\u001b[49m\u001b[43mrepo_id\u001b[49m\u001b[43m,\u001b[49m\u001b[43m \u001b[49m\u001b[43mdataset_id\u001b[49m\u001b[43m,\u001b[49m\u001b[43m \u001b[49m\u001b[43mdataset_file_path_dict\u001b[49m\u001b[38;5;241;43m=\u001b[39;49m\u001b[43mdataset_file_path_dict\u001b[49m\u001b[43m)\u001b[49m\n",
            "File \u001b[0;32m/usr/local/lib/python3.10/site-packages/polly/tracking.py:48\u001b[0m, in \u001b[0;36mTrack.track_decorator.<locals>.wrapper_function\u001b[0;34m(*args, **kwargs)\u001b[0m\n\u001b[1;32m     46\u001b[0m         \u001b[38;5;28;01mreturn\u001b[39;00m result\n\u001b[1;32m     47\u001b[0m \u001b[38;5;28;01melse\u001b[39;00m:\n\u001b[0;32m---> 48\u001b[0m     \u001b[38;5;28;01mraise\u001b[39;00m returned_err\n",
            "File \u001b[0;32m/usr/local/lib/python3.10/site-packages/polly/tracking.py:20\u001b[0m, in \u001b[0;36mTrack.track_decorator.<locals>.wrapper_function\u001b[0;34m(*args, **kwargs)\u001b[0m\n\u001b[1;32m     18\u001b[0m execution_flag \u001b[38;5;241m=\u001b[39m \u001b[38;5;28;01mFalse\u001b[39;00m\n\u001b[1;32m     19\u001b[0m \u001b[38;5;28;01mtry\u001b[39;00m:\n\u001b[0;32m---> 20\u001b[0m     result \u001b[38;5;241m=\u001b[39m \u001b[43mfunction\u001b[49m\u001b[43m(\u001b[49m\u001b[38;5;241;43m*\u001b[39;49m\u001b[43margs\u001b[49m\u001b[43m,\u001b[49m\u001b[43m \u001b[49m\u001b[38;5;241;43m*\u001b[39;49m\u001b[38;5;241;43m*\u001b[39;49m\u001b[43mkwargs\u001b[49m\u001b[43m)\u001b[49m\n\u001b[1;32m     21\u001b[0m     execution_flag \u001b[38;5;241m=\u001b[39m \u001b[38;5;28;01mTrue\u001b[39;00m\n\u001b[1;32m     22\u001b[0m \u001b[38;5;28;01mexcept\u001b[39;00m \u001b[38;5;167;01mException\u001b[39;00m \u001b[38;5;28;01mas\u001b[39;00m e:\n",
            "File \u001b[0;32m/usr/local/lib/python3.10/site-packages/polly/omixatlas.py:3085\u001b[0m, in \u001b[0;36mOmixAtlas.delete_datasets\u001b[0;34m(self, repo_id, dataset_ids, dataset_file_path_dict)\u001b[0m\n\u001b[1;32m   3082\u001b[0m         \u001b[38;5;28mprint\u001b[39m(const\u001b[38;5;241m.\u001b[39mDELETION_OPERATION_UNSUCCESSFUL_FOR_ALL_DATASET_IDS)\n\u001b[1;32m   3084\u001b[0m \u001b[38;5;28;01mexcept\u001b[39;00m \u001b[38;5;167;01mException\u001b[39;00m \u001b[38;5;28;01mas\u001b[39;00m err:\n\u001b[0;32m-> 3085\u001b[0m     \u001b[38;5;28;01mraise\u001b[39;00m err\n",
            "File \u001b[0;32m/usr/local/lib/python3.10/site-packages/polly/omixatlas.py:3057\u001b[0m, in \u001b[0;36mOmixAtlas.delete_datasets\u001b[0;34m(self, repo_id, dataset_ids, dataset_file_path_dict)\u001b[0m\n\u001b[1;32m   3028\u001b[0m \u001b[38;5;124;03m\"\"\"\u001b[39;00m\n\u001b[1;32m   3029\u001b[0m \u001b[38;5;124;03mThis function is used to delete datasets from an OmixAtlas.\u001b[39;00m\n\u001b[1;32m   3030\u001b[0m \u001b[38;5;124;03mOnce user runs this function successfully, they should be able to see the\u001b[39;00m\n\u001b[0;32m   (...)\u001b[0m\n\u001b[1;32m   3053\u001b[0m \u001b[38;5;124;03m    None\u001b[39;00m\n\u001b[1;32m   3054\u001b[0m \u001b[38;5;124;03m\"\"\"\u001b[39;00m\n\u001b[1;32m   3055\u001b[0m \u001b[38;5;28;01mtry\u001b[39;00m:\n\u001b[1;32m   3056\u001b[0m     \u001b[38;5;66;03m# this line is making the code unreachable -> will look into it later\u001b[39;00m\n\u001b[0;32m-> 3057\u001b[0m     \u001b[38;5;28;43mself\u001b[39;49m\u001b[38;5;241;43m.\u001b[39;49m\u001b[43m_parameter_check_for_delete_dataset\u001b[49m\u001b[43m(\u001b[49m\n\u001b[1;32m   3058\u001b[0m \u001b[43m        \u001b[49m\u001b[43mrepo_id\u001b[49m\u001b[43m,\u001b[49m\u001b[43m \u001b[49m\u001b[43mdataset_ids\u001b[49m\u001b[43m,\u001b[49m\u001b[43m \u001b[49m\u001b[43mdataset_file_path_dict\u001b[49m\n\u001b[1;32m   3059\u001b[0m \u001b[43m    \u001b[49m\u001b[43m)\u001b[49m\n\u001b[1;32m   3060\u001b[0m     \u001b[38;5;66;03m# extract s3 keys for dataset_ids\u001b[39;00m\n\u001b[1;32m   3061\u001b[0m     repo_id \u001b[38;5;241m=\u001b[39m omix_hlpr\u001b[38;5;241m.\u001b[39mmake_repo_id_string(repo_id)\n",
            "File \u001b[0;32m/usr/local/lib/python3.10/site-packages/polly/omixatlas.py:2938\u001b[0m, in \u001b[0;36mOmixAtlas._parameter_check_for_delete_dataset\u001b[0;34m(self, repo_id, dataset_ids, dataset_file_path_dict)\u001b[0m\n\u001b[1;32m   2934\u001b[0m     omix_hlpr\u001b[38;5;241m.\u001b[39mdataset_file_path_dict_type_check_in_delete_datasets(\n\u001b[1;32m   2935\u001b[0m         dataset_file_path_dict\n\u001b[1;32m   2936\u001b[0m     )\n\u001b[1;32m   2937\u001b[0m \u001b[38;5;28;01mexcept\u001b[39;00m \u001b[38;5;167;01mException\u001b[39;00m \u001b[38;5;28;01mas\u001b[39;00m err:\n\u001b[0;32m-> 2938\u001b[0m     \u001b[38;5;28;01mraise\u001b[39;00m err\n",
            "File \u001b[0;32m/usr/local/lib/python3.10/site-packages/polly/omixatlas.py:2934\u001b[0m, in \u001b[0;36mOmixAtlas._parameter_check_for_delete_dataset\u001b[0;34m(self, repo_id, dataset_ids, dataset_file_path_dict)\u001b[0m\n\u001b[1;32m   2932\u001b[0m     omix_hlpr\u001b[38;5;241m.\u001b[39mparameter_check_for_repo_id(repo_id)\n\u001b[1;32m   2933\u001b[0m     omix_hlpr\u001b[38;5;241m.\u001b[39mdataset_id_type_check_in_delete_datasets(dataset_ids)\n\u001b[0;32m-> 2934\u001b[0m     \u001b[43momix_hlpr\u001b[49m\u001b[38;5;241;43m.\u001b[39;49m\u001b[43mdataset_file_path_dict_type_check_in_delete_datasets\u001b[49m\u001b[43m(\u001b[49m\n\u001b[1;32m   2935\u001b[0m \u001b[43m        \u001b[49m\u001b[43mdataset_file_path_dict\u001b[49m\n\u001b[1;32m   2936\u001b[0m \u001b[43m    \u001b[49m\u001b[43m)\u001b[49m\n\u001b[1;32m   2937\u001b[0m \u001b[38;5;28;01mexcept\u001b[39;00m \u001b[38;5;167;01mException\u001b[39;00m \u001b[38;5;28;01mas\u001b[39;00m err:\n\u001b[1;32m   2938\u001b[0m     \u001b[38;5;28;01mraise\u001b[39;00m err\n",
            "File \u001b[0;32m/usr/local/lib/python3.10/site-packages/polly/omixatlas_hlpr.py:1113\u001b[0m, in \u001b[0;36mdataset_file_path_dict_type_check_in_delete_datasets\u001b[0;34m(dataset_file_path_dict)\u001b[0m\n\u001b[1;32m   1107\u001b[0m \u001b[38;5;124;03m\"\"\"dataset_file_path_dict type check in delete datasets\u001b[39;00m\n\u001b[1;32m   1108\u001b[0m \n\u001b[1;32m   1109\u001b[0m \u001b[38;5;124;03mArgs:\u001b[39;00m\n\u001b[1;32m   1110\u001b[0m \u001b[38;5;124;03m    dataset_file_path_dict (dict): dict of dataset_file_path_dict\u001b[39;00m\n\u001b[1;32m   1111\u001b[0m \u001b[38;5;124;03m\"\"\"\u001b[39;00m\n\u001b[1;32m   1112\u001b[0m \u001b[38;5;28;01mif\u001b[39;00m \u001b[38;5;129;01mnot\u001b[39;00m \u001b[38;5;28misinstance\u001b[39m(dataset_file_path_dict, \u001b[38;5;28mdict\u001b[39m):\n\u001b[0;32m-> 1113\u001b[0m     \u001b[38;5;28;01mraise\u001b[39;00m paramException(\n\u001b[1;32m   1114\u001b[0m         title\u001b[38;5;241m=\u001b[39m\u001b[38;5;124m\"\u001b[39m\u001b[38;5;124mParam Error\u001b[39m\u001b[38;5;124m\"\u001b[39m,\n\u001b[1;32m   1115\u001b[0m         detail\u001b[38;5;241m=\u001b[39m(\n\u001b[1;32m   1116\u001b[0m             \u001b[38;5;124m\"\u001b[39m\u001b[38;5;124mdataset_file_path_dict should be dict -> \u001b[39m\u001b[38;5;124m{\u001b[39m\u001b[38;5;124m<dataset_id>:<list_of_paths>}\u001b[39m\u001b[38;5;124m\"\u001b[39m,\n\u001b[1;32m   1117\u001b[0m         ),\n\u001b[1;32m   1118\u001b[0m     )\n\u001b[1;32m   1120\u001b[0m \u001b[38;5;28;01mfor\u001b[39;00m key, val \u001b[38;5;129;01min\u001b[39;00m dataset_file_path_dict\u001b[38;5;241m.\u001b[39mitems():\n\u001b[1;32m   1121\u001b[0m     \u001b[38;5;28;01mif\u001b[39;00m \u001b[38;5;129;01mnot\u001b[39;00m \u001b[38;5;28misinstance\u001b[39m(val, \u001b[38;5;28mlist\u001b[39m):\n",
            "\u001b[0;31mparamException\u001b[0m: paramException (parameter error): ('dataset_file_path_dict should be dict -> {<dataset_id>:<list_of_paths>}',)"
          ]
        }
      ],
      "source": [
        "# dataset_file_path_dict of wrong type\n",
        "dataset_id = [\"GSE140509_GPL16791\"]\n",
        "repo_id = \"1673847977346\"\n",
        "dataset_file_path_dict = [\"GSE140509_GPL16791\",\"transcriptomics_207s/GSE140509_GPL16791.gct\"]\n",
        "omixatlas.delete_datasets(repo_id, dataset_id, dataset_file_path_dict=dataset_file_path_dict)"
      ]
    },
    {
      "cell_type": "code",
      "execution_count": 12,
      "metadata": {},
      "outputs": [
        {
          "ename": "paramException",
          "evalue": "paramException (parameter error): File paths should be in the format of list of strings in the dataset_file_path_dict. Correct format -> {<dataset_id>:<list_of_paths>}",
          "output_type": "error",
          "traceback": [
            "\u001b[0;31m---------------------------------------------------------------------------\u001b[0m",
            "\u001b[0;31mparamException\u001b[0m                            Traceback (most recent call last)",
            "Input \u001b[0;32mIn [12]\u001b[0m, in \u001b[0;36m<cell line: 5>\u001b[0;34m()\u001b[0m\n\u001b[1;32m      3\u001b[0m repo_id \u001b[38;5;241m=\u001b[39m \u001b[38;5;124m\"\u001b[39m\u001b[38;5;124m1673847977346\u001b[39m\u001b[38;5;124m\"\u001b[39m\n\u001b[1;32m      4\u001b[0m dataset_file_path_dict \u001b[38;5;241m=\u001b[39m {\u001b[38;5;124m\"\u001b[39m\u001b[38;5;124mGSE140509_GPL16791\u001b[39m\u001b[38;5;124m\"\u001b[39m:\u001b[38;5;124m\"\u001b[39m\u001b[38;5;124mtranscriptomics_207s/GSE140509_GPL16791.gct\u001b[39m\u001b[38;5;124m\"\u001b[39m}\n\u001b[0;32m----> 5\u001b[0m \u001b[43momixatlas\u001b[49m\u001b[38;5;241;43m.\u001b[39;49m\u001b[43mdelete_datasets\u001b[49m\u001b[43m(\u001b[49m\u001b[43mrepo_id\u001b[49m\u001b[43m,\u001b[49m\u001b[43m \u001b[49m\u001b[43mdataset_id\u001b[49m\u001b[43m,\u001b[49m\u001b[43m \u001b[49m\u001b[43mdataset_file_path_dict\u001b[49m\u001b[38;5;241;43m=\u001b[39;49m\u001b[43mdataset_file_path_dict\u001b[49m\u001b[43m)\u001b[49m\n",
            "File \u001b[0;32m/usr/local/lib/python3.10/site-packages/polly/tracking.py:48\u001b[0m, in \u001b[0;36mTrack.track_decorator.<locals>.wrapper_function\u001b[0;34m(*args, **kwargs)\u001b[0m\n\u001b[1;32m     46\u001b[0m         \u001b[38;5;28;01mreturn\u001b[39;00m result\n\u001b[1;32m     47\u001b[0m \u001b[38;5;28;01melse\u001b[39;00m:\n\u001b[0;32m---> 48\u001b[0m     \u001b[38;5;28;01mraise\u001b[39;00m returned_err\n",
            "File \u001b[0;32m/usr/local/lib/python3.10/site-packages/polly/tracking.py:20\u001b[0m, in \u001b[0;36mTrack.track_decorator.<locals>.wrapper_function\u001b[0;34m(*args, **kwargs)\u001b[0m\n\u001b[1;32m     18\u001b[0m execution_flag \u001b[38;5;241m=\u001b[39m \u001b[38;5;28;01mFalse\u001b[39;00m\n\u001b[1;32m     19\u001b[0m \u001b[38;5;28;01mtry\u001b[39;00m:\n\u001b[0;32m---> 20\u001b[0m     result \u001b[38;5;241m=\u001b[39m \u001b[43mfunction\u001b[49m\u001b[43m(\u001b[49m\u001b[38;5;241;43m*\u001b[39;49m\u001b[43margs\u001b[49m\u001b[43m,\u001b[49m\u001b[43m \u001b[49m\u001b[38;5;241;43m*\u001b[39;49m\u001b[38;5;241;43m*\u001b[39;49m\u001b[43mkwargs\u001b[49m\u001b[43m)\u001b[49m\n\u001b[1;32m     21\u001b[0m     execution_flag \u001b[38;5;241m=\u001b[39m \u001b[38;5;28;01mTrue\u001b[39;00m\n\u001b[1;32m     22\u001b[0m \u001b[38;5;28;01mexcept\u001b[39;00m \u001b[38;5;167;01mException\u001b[39;00m \u001b[38;5;28;01mas\u001b[39;00m e:\n",
            "File \u001b[0;32m/usr/local/lib/python3.10/site-packages/polly/omixatlas.py:3085\u001b[0m, in \u001b[0;36mOmixAtlas.delete_datasets\u001b[0;34m(self, repo_id, dataset_ids, dataset_file_path_dict)\u001b[0m\n\u001b[1;32m   3082\u001b[0m         \u001b[38;5;28mprint\u001b[39m(const\u001b[38;5;241m.\u001b[39mDELETION_OPERATION_UNSUCCESSFUL_FOR_ALL_DATASET_IDS)\n\u001b[1;32m   3084\u001b[0m \u001b[38;5;28;01mexcept\u001b[39;00m \u001b[38;5;167;01mException\u001b[39;00m \u001b[38;5;28;01mas\u001b[39;00m err:\n\u001b[0;32m-> 3085\u001b[0m     \u001b[38;5;28;01mraise\u001b[39;00m err\n",
            "File \u001b[0;32m/usr/local/lib/python3.10/site-packages/polly/omixatlas.py:3057\u001b[0m, in \u001b[0;36mOmixAtlas.delete_datasets\u001b[0;34m(self, repo_id, dataset_ids, dataset_file_path_dict)\u001b[0m\n\u001b[1;32m   3028\u001b[0m \u001b[38;5;124;03m\"\"\"\u001b[39;00m\n\u001b[1;32m   3029\u001b[0m \u001b[38;5;124;03mThis function is used to delete datasets from an OmixAtlas.\u001b[39;00m\n\u001b[1;32m   3030\u001b[0m \u001b[38;5;124;03mOnce user runs this function successfully, they should be able to see the\u001b[39;00m\n\u001b[0;32m   (...)\u001b[0m\n\u001b[1;32m   3053\u001b[0m \u001b[38;5;124;03m    None\u001b[39;00m\n\u001b[1;32m   3054\u001b[0m \u001b[38;5;124;03m\"\"\"\u001b[39;00m\n\u001b[1;32m   3055\u001b[0m \u001b[38;5;28;01mtry\u001b[39;00m:\n\u001b[1;32m   3056\u001b[0m     \u001b[38;5;66;03m# this line is making the code unreachable -> will look into it later\u001b[39;00m\n\u001b[0;32m-> 3057\u001b[0m     \u001b[38;5;28;43mself\u001b[39;49m\u001b[38;5;241;43m.\u001b[39;49m\u001b[43m_parameter_check_for_delete_dataset\u001b[49m\u001b[43m(\u001b[49m\n\u001b[1;32m   3058\u001b[0m \u001b[43m        \u001b[49m\u001b[43mrepo_id\u001b[49m\u001b[43m,\u001b[49m\u001b[43m \u001b[49m\u001b[43mdataset_ids\u001b[49m\u001b[43m,\u001b[49m\u001b[43m \u001b[49m\u001b[43mdataset_file_path_dict\u001b[49m\n\u001b[1;32m   3059\u001b[0m \u001b[43m    \u001b[49m\u001b[43m)\u001b[49m\n\u001b[1;32m   3060\u001b[0m     \u001b[38;5;66;03m# extract s3 keys for dataset_ids\u001b[39;00m\n\u001b[1;32m   3061\u001b[0m     repo_id \u001b[38;5;241m=\u001b[39m omix_hlpr\u001b[38;5;241m.\u001b[39mmake_repo_id_string(repo_id)\n",
            "File \u001b[0;32m/usr/local/lib/python3.10/site-packages/polly/omixatlas.py:2938\u001b[0m, in \u001b[0;36mOmixAtlas._parameter_check_for_delete_dataset\u001b[0;34m(self, repo_id, dataset_ids, dataset_file_path_dict)\u001b[0m\n\u001b[1;32m   2934\u001b[0m     omix_hlpr\u001b[38;5;241m.\u001b[39mdataset_file_path_dict_type_check_in_delete_datasets(\n\u001b[1;32m   2935\u001b[0m         dataset_file_path_dict\n\u001b[1;32m   2936\u001b[0m     )\n\u001b[1;32m   2937\u001b[0m \u001b[38;5;28;01mexcept\u001b[39;00m \u001b[38;5;167;01mException\u001b[39;00m \u001b[38;5;28;01mas\u001b[39;00m err:\n\u001b[0;32m-> 2938\u001b[0m     \u001b[38;5;28;01mraise\u001b[39;00m err\n",
            "File \u001b[0;32m/usr/local/lib/python3.10/site-packages/polly/omixatlas.py:2934\u001b[0m, in \u001b[0;36mOmixAtlas._parameter_check_for_delete_dataset\u001b[0;34m(self, repo_id, dataset_ids, dataset_file_path_dict)\u001b[0m\n\u001b[1;32m   2932\u001b[0m     omix_hlpr\u001b[38;5;241m.\u001b[39mparameter_check_for_repo_id(repo_id)\n\u001b[1;32m   2933\u001b[0m     omix_hlpr\u001b[38;5;241m.\u001b[39mdataset_id_type_check_in_delete_datasets(dataset_ids)\n\u001b[0;32m-> 2934\u001b[0m     \u001b[43momix_hlpr\u001b[49m\u001b[38;5;241;43m.\u001b[39;49m\u001b[43mdataset_file_path_dict_type_check_in_delete_datasets\u001b[49m\u001b[43m(\u001b[49m\n\u001b[1;32m   2935\u001b[0m \u001b[43m        \u001b[49m\u001b[43mdataset_file_path_dict\u001b[49m\n\u001b[1;32m   2936\u001b[0m \u001b[43m    \u001b[49m\u001b[43m)\u001b[49m\n\u001b[1;32m   2937\u001b[0m \u001b[38;5;28;01mexcept\u001b[39;00m \u001b[38;5;167;01mException\u001b[39;00m \u001b[38;5;28;01mas\u001b[39;00m err:\n\u001b[1;32m   2938\u001b[0m     \u001b[38;5;28;01mraise\u001b[39;00m err\n",
            "File \u001b[0;32m/usr/local/lib/python3.10/site-packages/polly/omixatlas_hlpr.py:1122\u001b[0m, in \u001b[0;36mdataset_file_path_dict_type_check_in_delete_datasets\u001b[0;34m(dataset_file_path_dict)\u001b[0m\n\u001b[1;32m   1120\u001b[0m \u001b[38;5;28;01mfor\u001b[39;00m key, val \u001b[38;5;129;01min\u001b[39;00m dataset_file_path_dict\u001b[38;5;241m.\u001b[39mitems():\n\u001b[1;32m   1121\u001b[0m     \u001b[38;5;28;01mif\u001b[39;00m \u001b[38;5;129;01mnot\u001b[39;00m \u001b[38;5;28misinstance\u001b[39m(val, \u001b[38;5;28mlist\u001b[39m):\n\u001b[0;32m-> 1122\u001b[0m         \u001b[38;5;28;01mraise\u001b[39;00m paramException(\n\u001b[1;32m   1123\u001b[0m             title\u001b[38;5;241m=\u001b[39m\u001b[38;5;124m\"\u001b[39m\u001b[38;5;124mFile paths datatype is incorrect\u001b[39m\u001b[38;5;124m\"\u001b[39m,\n\u001b[1;32m   1124\u001b[0m             detail\u001b[38;5;241m=\u001b[39m(\n\u001b[1;32m   1125\u001b[0m                 \u001b[38;5;124m\"\u001b[39m\u001b[38;5;124mFile paths should be in the format of list of strings in the \u001b[39m\u001b[38;5;124m\"\u001b[39m\n\u001b[1;32m   1126\u001b[0m                 \u001b[38;5;241m+\u001b[39m \u001b[38;5;124m\"\u001b[39m\u001b[38;5;124mdataset_file_path_dict. Correct format -> \u001b[39m\u001b[38;5;124m{\u001b[39m\u001b[38;5;124m<dataset_id>:<list_of_paths>}\u001b[39m\u001b[38;5;124m\"\u001b[39m\n\u001b[1;32m   1127\u001b[0m             ),\n\u001b[1;32m   1128\u001b[0m         )\n\u001b[1;32m   1129\u001b[0m     \u001b[38;5;28;01mif\u001b[39;00m \u001b[38;5;129;01mnot\u001b[39;00m \u001b[38;5;28misinstance\u001b[39m(key, \u001b[38;5;28mstr\u001b[39m):\n\u001b[1;32m   1130\u001b[0m         \u001b[38;5;28;01mraise\u001b[39;00m paramException(\n\u001b[1;32m   1131\u001b[0m             title\u001b[38;5;241m=\u001b[39m\u001b[38;5;124m\"\u001b[39m\u001b[38;5;124mdataset_id datatype is incorrect\u001b[39m\u001b[38;5;124m\"\u001b[39m,\n\u001b[1;32m   1132\u001b[0m             detail\u001b[38;5;241m=\u001b[39m(\n\u001b[0;32m   (...)\u001b[0m\n\u001b[1;32m   1135\u001b[0m             ),\n\u001b[1;32m   1136\u001b[0m         )\n",
            "\u001b[0;31mparamException\u001b[0m: paramException (parameter error): File paths should be in the format of list of strings in the dataset_file_path_dict. Correct format -> {<dataset_id>:<list_of_paths>}"
          ]
        }
      ],
      "source": [
        "# value of dataset_file_path_dict of wrong type\n",
        "dataset_id = [\"GSE140509_GPL16791\"]\n",
        "repo_id = \"1673847977346\"\n",
        "dataset_file_path_dict = {\"GSE140509_GPL16791\":\"transcriptomics_207s/GSE140509_GPL16791.gct\"}\n",
        "omixatlas.delete_datasets(repo_id, dataset_id, dataset_file_path_dict=dataset_file_path_dict)"
      ]
    },
    {
      "cell_type": "code",
      "execution_count": null,
      "metadata": {},
      "outputs": [],
      "source": [
        "## single file for dataset_id delete cases"
      ]
    },
    {
      "cell_type": "code",
      "execution_count": 13,
      "metadata": {},
      "outputs": [
        {
          "name": "stdout",
          "output_type": "stream",
          "text": [
            "            DatasetId                                   Message Folder Path\n",
            "0  GSE140509_GPL16791  Package with package_name None not found            \n"
          ]
        }
      ],
      "source": [
        "# if repo id is wrong\n",
        "# the error message regarding it is not good. Ticket corresponding to it is raised\n",
        "dataset_id = [\"GSE140509_GPL16791\"]\n",
        "repo_id = \"167384797734634\"\n",
        "dataset_file_path_dict = {\"GSE140509_GPL16791\":[\"transcriptomics_207s/GSE140509_GPL16791.gct\"]}\n",
        "omixatlas.delete_datasets(repo_id, dataset_id, dataset_file_path_dict=dataset_file_path_dict)"
      ]
    },
    {
      "cell_type": "code",
      "execution_count": null,
      "metadata": {},
      "outputs": [],
      "source": [
        "# user is access denied -> deleting datasets from a repository having no access\n",
        "# tell testing team to test it -> based on repo access\n",
        "\n",
        "# user is unauthorized -> User not authorized to delete dataset (This testing team needs to check)"
      ]
    },
    {
      "cell_type": "code",
      "execution_count": 16,
      "metadata": {},
      "outputs": [
        {
          "name": "stdout",
          "output_type": "stream",
          "text": [
            "       DatasetId  \\\n",
            "0  GSE2067_GPL96   \n",
            "\n",
            "                                                                      Message  \\\n",
            "0  Request Accepted. Dataset Will be deleted in the next version of OmixAtlas   \n",
            "\n",
            "                             Folder Path  \n",
            "0  transcriptomics_303/GSE2067_GPL96.gct  \n"
          ]
        }
      ],
      "source": [
        "# dataset ids passed in the list does not exist in the repo\n",
        "# 1 exist and 1 does not exist\n",
        "dataset_id = [\"GSE140509_GPL167911234\", \"GSE2067_GPL96\"]\n",
        "repo_id = \"1673847977346\"\n",
        "omixatlas.delete_datasets(repo_id, dataset_id)"
      ]
    },
    {
      "cell_type": "code",
      "execution_count": 17,
      "metadata": {},
      "outputs": [
        {
          "name": "stderr",
          "output_type": "stream",
          "text": [
            "WARNING: Unable to delete file from the file path transcriptomics_302/GSE25157_GPL570.gct because in this file, file corresponding to the dataset id GSE25157_GPL570is not present in the system. This dataset_id file is present only in 1 path so passing path using optional parameter not required here. For any questions, please reach out to polly.support@elucidata.io. \n"
          ]
        },
        {
          "name": "stdout",
          "output_type": "stream",
          "text": [
            "         DatasetId  \\\n",
            "0  GSE25157_GPL570   \n",
            "\n",
            "                                                              Message  \\\n",
            "0  Request not processed as file_path for the dataset_id is incorrect   \n",
            "\n",
            "                               Folder Path  \n",
            "0  transcriptomics_302/GSE25157_GPL570.gct  \n"
          ]
        }
      ],
      "source": [
        "# dataset ids passed in the list and its path is also passed but that is wrong\n",
        "dataset_id = [\"GSE25157_GPL570\"]\n",
        "repo_id = \"1673847977346\"\n",
        "dataset_file_path_dict = {\"GSE25157_GPL570\":[\"transcriptomics_207s/GSE25157_GPL570.gct\"]}\n",
        "omixatlas.delete_datasets(repo_id, dataset_id, dataset_file_path_dict=dataset_file_path_dict)"
      ]
    },
    {
      "cell_type": "code",
      "execution_count": 18,
      "metadata": {},
      "outputs": [
        {
          "name": "stderr",
          "output_type": "stream",
          "text": [
            "WARNING: Unable to delete file with dataset_id GSE140509_GPL16791 because dataset_id is present in mutiple files. Please pass the path from where the file needs to be deleted. For getting the list of file_paths for the dataset_id call get_all_file_path function. For any questions, please reach out to polly.support@elucidata.io. \n"
          ]
        },
        {
          "name": "stdout",
          "output_type": "stream",
          "text": [
            "Requested Operation could not be performed on any of the dataset ids. One possible reason is that all the datasets passed to delete might not be present in the Omixatlas. Please check warning message logged during execution. Second reason can be that paths passed for dataset id may be wrong for all the dataset ids. Pls correct them and try again. Use get_all_file_paths function to to get all file_paths corresponding to a dataset_id in Omixatlas.In case of any other queries, please connect with pollysupport@elucidata.io\n"
          ]
        }
      ],
      "source": [
        "# dataset id passed which has multiple paths but path not passed\n",
        "# repo_id in the type\n",
        "dataset_id = [\"GSE140509_GPL16791\"]\n",
        "repo_id = \"1673847977346\"\n",
        "omixatlas.delete_datasets(repo_id, dataset_id)"
      ]
    },
    {
      "cell_type": "code",
      "execution_count": 19,
      "metadata": {},
      "outputs": [
        {
          "name": "stdout",
          "output_type": "stream",
          "text": [
            "         DatasetId  \\\n",
            "0  GSE25157_GPL570   \n",
            "\n",
            "                                                                      Message  \\\n",
            "0  Request Accepted. Dataset Will be deleted in the next version of OmixAtlas   \n",
            "\n",
            "                               Folder Path  \n",
            "0  transcriptomics_302/GSE25157_GPL570.gct  \n"
          ]
        }
      ],
      "source": [
        "# positive case of single file for dataset id delete with no path -> try with 1 datasets\n",
        "dataset_id = [\"GSE25157_GPL570\"]\n",
        "repo_id = \"1673847977346\"\n",
        "omixatlas.delete_datasets(repo_id, dataset_id)"
      ]
    },
    {
      "cell_type": "code",
      "execution_count": null,
      "metadata": {},
      "outputs": [],
      "source": [
        "## multiple files for dataset_id delete cases\n"
      ]
    },
    {
      "cell_type": "code",
      "execution_count": 20,
      "metadata": {},
      "outputs": [
        {
          "name": "stderr",
          "output_type": "stream",
          "text": [
            "WARNING: GSE54747_GPL624423 does not exist in the Omixatlas 1673847977346 \n"
          ]
        },
        {
          "name": "stdout",
          "output_type": "stream",
          "text": [
            "Requested Operation could not be performed on any of the dataset ids. One possible reason is that all the datasets passed to delete might not be present in the Omixatlas. Please check warning message logged during execution. Second reason can be that paths passed for dataset id may be wrong for all the dataset ids. Pls correct them and try again. Use get_all_file_paths function to to get all file_paths corresponding to a dataset_id in Omixatlas.In case of any other queries, please connect with pollysupport@elucidata.io\n"
          ]
        }
      ],
      "source": [
        " #dataset ids passed in the list does not exist in the repo\n",
        "dataset_id = [\"GSE54747_GPL624423\"]\n",
        "repo_id = \"1673847977346\"\n",
        "dataset_file_path_dict = {\"GSE54747_GPL624423\":[\"transcriptomics_207s/GSE54747_GPL624423.gct\"]}\n",
        "omixatlas.delete_datasets(repo_id, dataset_id, dataset_file_path_dict=dataset_file_path_dict)"
      ]
    },
    {
      "cell_type": "code",
      "execution_count": 21,
      "metadata": {},
      "outputs": [
        {
          "ename": "Exception",
          "evalue": "Passed file paths does contain the files whose dataset id is GSE140509_GPL16791. Please file file path from these ['transcriptomics_206/GSE140509_GPL16791.gct', 'transcriptomics_209/GSE140509_GPL16791.gct']",
          "output_type": "error",
          "traceback": [
            "\u001b[0;31m---------------------------------------------------------------------------\u001b[0m",
            "\u001b[0;31mException\u001b[0m                                 Traceback (most recent call last)",
            "Input \u001b[0;32mIn [21]\u001b[0m, in \u001b[0;36m<cell line: 5>\u001b[0;34m()\u001b[0m\n\u001b[1;32m      3\u001b[0m repo_id \u001b[38;5;241m=\u001b[39m \u001b[38;5;124m\"\u001b[39m\u001b[38;5;124m1673847977346\u001b[39m\u001b[38;5;124m\"\u001b[39m\n\u001b[1;32m      4\u001b[0m dataset_file_path_dict \u001b[38;5;241m=\u001b[39m {\u001b[38;5;124m\"\u001b[39m\u001b[38;5;124mGSE140509_GPL16791\u001b[39m\u001b[38;5;124m\"\u001b[39m:[\u001b[38;5;124m\"\u001b[39m\u001b[38;5;124mtranscriptomics_407s/GSE140509_GPL16791.gct\u001b[39m\u001b[38;5;124m\"\u001b[39m, \u001b[38;5;124m\"\u001b[39m\u001b[38;5;124mtranscriptomics_408s/GSE140509_GPL16791.gct\u001b[39m\u001b[38;5;124m\"\u001b[39m]}\n\u001b[0;32m----> 5\u001b[0m \u001b[43momixatlas\u001b[49m\u001b[38;5;241;43m.\u001b[39;49m\u001b[43mdelete_datasets\u001b[49m\u001b[43m(\u001b[49m\u001b[43mrepo_id\u001b[49m\u001b[43m,\u001b[49m\u001b[43m \u001b[49m\u001b[43mdataset_id\u001b[49m\u001b[43m,\u001b[49m\u001b[43m \u001b[49m\u001b[43mdataset_file_path_dict\u001b[49m\u001b[38;5;241;43m=\u001b[39;49m\u001b[43mdataset_file_path_dict\u001b[49m\u001b[43m)\u001b[49m\n",
            "File \u001b[0;32m/usr/local/lib/python3.10/site-packages/polly/tracking.py:48\u001b[0m, in \u001b[0;36mTrack.track_decorator.<locals>.wrapper_function\u001b[0;34m(*args, **kwargs)\u001b[0m\n\u001b[1;32m     46\u001b[0m         \u001b[38;5;28;01mreturn\u001b[39;00m result\n\u001b[1;32m     47\u001b[0m \u001b[38;5;28;01melse\u001b[39;00m:\n\u001b[0;32m---> 48\u001b[0m     \u001b[38;5;28;01mraise\u001b[39;00m returned_err\n",
            "File \u001b[0;32m/usr/local/lib/python3.10/site-packages/polly/tracking.py:20\u001b[0m, in \u001b[0;36mTrack.track_decorator.<locals>.wrapper_function\u001b[0;34m(*args, **kwargs)\u001b[0m\n\u001b[1;32m     18\u001b[0m execution_flag \u001b[38;5;241m=\u001b[39m \u001b[38;5;28;01mFalse\u001b[39;00m\n\u001b[1;32m     19\u001b[0m \u001b[38;5;28;01mtry\u001b[39;00m:\n\u001b[0;32m---> 20\u001b[0m     result \u001b[38;5;241m=\u001b[39m \u001b[43mfunction\u001b[49m\u001b[43m(\u001b[49m\u001b[38;5;241;43m*\u001b[39;49m\u001b[43margs\u001b[49m\u001b[43m,\u001b[49m\u001b[43m \u001b[49m\u001b[38;5;241;43m*\u001b[39;49m\u001b[38;5;241;43m*\u001b[39;49m\u001b[43mkwargs\u001b[49m\u001b[43m)\u001b[49m\n\u001b[1;32m     21\u001b[0m     execution_flag \u001b[38;5;241m=\u001b[39m \u001b[38;5;28;01mTrue\u001b[39;00m\n\u001b[1;32m     22\u001b[0m \u001b[38;5;28;01mexcept\u001b[39;00m \u001b[38;5;167;01mException\u001b[39;00m \u001b[38;5;28;01mas\u001b[39;00m e:\n",
            "File \u001b[0;32m/usr/local/lib/python3.10/site-packages/polly/omixatlas.py:3085\u001b[0m, in \u001b[0;36mOmixAtlas.delete_datasets\u001b[0;34m(self, repo_id, dataset_ids, dataset_file_path_dict)\u001b[0m\n\u001b[1;32m   3082\u001b[0m         \u001b[38;5;28mprint\u001b[39m(const\u001b[38;5;241m.\u001b[39mDELETION_OPERATION_UNSUCCESSFUL_FOR_ALL_DATASET_IDS)\n\u001b[1;32m   3084\u001b[0m \u001b[38;5;28;01mexcept\u001b[39;00m \u001b[38;5;167;01mException\u001b[39;00m \u001b[38;5;28;01mas\u001b[39;00m err:\n\u001b[0;32m-> 3085\u001b[0m     \u001b[38;5;28;01mraise\u001b[39;00m err\n",
            "File \u001b[0;32m/usr/local/lib/python3.10/site-packages/polly/omixatlas.py:3076\u001b[0m, in \u001b[0;36mOmixAtlas.delete_datasets\u001b[0;34m(self, repo_id, dataset_ids, dataset_file_path_dict)\u001b[0m\n\u001b[1;32m   3069\u001b[0m result_dict \u001b[38;5;241m=\u001b[39m {}\n\u001b[1;32m   3071\u001b[0m \u001b[38;5;66;03m# delete the datasets using file keys\u001b[39;00m\n\u001b[1;32m   3072\u001b[0m \u001b[38;5;66;03m# In case of single file for a dataset_id -> single path present in list\u001b[39;00m\n\u001b[1;32m   3073\u001b[0m \u001b[38;5;66;03m# In case of multiple file for a dataset_id -> multiple paths present in list\u001b[39;00m\n\u001b[1;32m   3074\u001b[0m \u001b[38;5;66;03m# In case of error -> Error present of type string\u001b[39;00m\n\u001b[1;32m   3075\u001b[0m \u001b[38;5;66;03m# ex -> {'GSE110073_GPL10999': ['23Nov_1836/GSE110073_GPL10999.gct']}\u001b[39;00m\n\u001b[0;32m-> 3076\u001b[0m result_dict \u001b[38;5;241m=\u001b[39m \u001b[38;5;28;43mself\u001b[39;49m\u001b[38;5;241;43m.\u001b[39;49m\u001b[43m_delete_datasets_helper\u001b[49m\u001b[43m(\u001b[49m\n\u001b[1;32m   3077\u001b[0m \u001b[43m    \u001b[49m\u001b[43mrepo_id\u001b[49m\u001b[43m,\u001b[49m\u001b[43m \u001b[49m\u001b[43mdataset_s3_keys_dict\u001b[49m\u001b[43m,\u001b[49m\u001b[43m \u001b[49m\u001b[43mdataset_file_path_dict\u001b[49m\n\u001b[1;32m   3078\u001b[0m \u001b[43m\u001b[49m\u001b[43m)\u001b[49m\n\u001b[1;32m   3079\u001b[0m \u001b[38;5;28;01mif\u001b[39;00m result_dict:\n\u001b[1;32m   3080\u001b[0m     omix_hlpr\u001b[38;5;241m.\u001b[39mconvert_delete_datasets_res_dict_to_df(result_dict)\n",
            "File \u001b[0;32m/usr/local/lib/python3.10/site-packages/polly/omixatlas.py:3131\u001b[0m, in \u001b[0;36mOmixAtlas._delete_datasets_helper\u001b[0;34m(self, repo_id, dataset_s3_keys_dict, dataset_file_path_dict)\u001b[0m\n\u001b[1;32m   3128\u001b[0m     result_dict\u001b[38;5;241m.\u001b[39mupdate(dataset_id_single_res_dict)\n\u001b[1;32m   3129\u001b[0m \u001b[38;5;28;01melif\u001b[39;00m \u001b[38;5;28mlen\u001b[39m(file_path) \u001b[38;5;241m>\u001b[39m \u001b[38;5;241m1\u001b[39m:\n\u001b[1;32m   3130\u001b[0m     dataset_id_mulitple_res_dict \u001b[38;5;241m=\u001b[39m (\n\u001b[0;32m-> 3131\u001b[0m         \u001b[38;5;28;43mself\u001b[39;49m\u001b[38;5;241;43m.\u001b[39;49m\u001b[43m_delete_file_with_multiple_paths\u001b[49m\u001b[43m(\u001b[49m\n\u001b[1;32m   3132\u001b[0m \u001b[43m            \u001b[49m\u001b[43mrepo_id\u001b[49m\u001b[43m,\u001b[49m\u001b[43m \u001b[49m\u001b[43mdatasetid_key\u001b[49m\u001b[43m,\u001b[49m\u001b[43m \u001b[49m\u001b[43mdataset_file_path_dict\u001b[49m\u001b[43m,\u001b[49m\u001b[43m \u001b[49m\u001b[43mfile_path\u001b[49m\n\u001b[1;32m   3133\u001b[0m \u001b[43m        \u001b[49m\u001b[43m)\u001b[49m\n\u001b[1;32m   3134\u001b[0m     )\n\u001b[1;32m   3135\u001b[0m     \u001b[38;5;28;01mif\u001b[39;00m dataset_id_mulitple_res_dict:\n\u001b[1;32m   3136\u001b[0m         \u001b[38;5;66;03m# if dataset_id_mulitple_res_dict is not empty\u001b[39;00m\n\u001b[1;32m   3137\u001b[0m         \u001b[38;5;66;03m# means the API request for deletion of dataset id is processed\u001b[39;00m\n\u001b[1;32m   3138\u001b[0m         \u001b[38;5;66;03m# then df will have entry, update it into resultant df\u001b[39;00m\n\u001b[1;32m   3139\u001b[0m         \u001b[38;5;66;03m# else skip for this dataset id\u001b[39;00m\n\u001b[1;32m   3140\u001b[0m         result_dict\u001b[38;5;241m.\u001b[39mupdate(dataset_id_mulitple_res_dict)\n",
            "File \u001b[0;32m/usr/local/lib/python3.10/site-packages/polly/omixatlas.py:3285\u001b[0m, in \u001b[0;36mOmixAtlas._delete_file_with_multiple_paths\u001b[0;34m(self, repo_id, datasetid_key, dataset_file_path_dict, file_paths)\u001b[0m\n\u001b[1;32m   3282\u001b[0m \u001b[38;5;66;03m# if there are no file paths passed which corresponds to file paths\u001b[39;00m\n\u001b[1;32m   3283\u001b[0m \u001b[38;5;66;03m# present in the system for the given dataset_id\u001b[39;00m\n\u001b[1;32m   3284\u001b[0m \u001b[38;5;28;01mif\u001b[39;00m \u001b[38;5;129;01mnot\u001b[39;00m file_paths_to_delete:\n\u001b[0;32m-> 3285\u001b[0m     \u001b[38;5;28;01mraise\u001b[39;00m \u001b[38;5;167;01mException\u001b[39;00m(\n\u001b[1;32m   3286\u001b[0m         \u001b[38;5;124mf\u001b[39m\u001b[38;5;124m\"\u001b[39m\u001b[38;5;124mPassed file paths does contain the files whose dataset id is \u001b[39m\u001b[38;5;132;01m{\u001b[39;00mdatasetid_key\u001b[38;5;132;01m}\u001b[39;00m\u001b[38;5;124m\"\u001b[39m\n\u001b[1;32m   3287\u001b[0m         \u001b[38;5;241m+\u001b[39m \u001b[38;5;124mf\u001b[39m\u001b[38;5;124m\"\u001b[39m\u001b[38;5;124m. Please file file path from these \u001b[39m\u001b[38;5;132;01m{\u001b[39;00mfile_paths\u001b[38;5;132;01m}\u001b[39;00m\u001b[38;5;124m\"\u001b[39m\n\u001b[1;32m   3288\u001b[0m     )\n\u001b[1;32m   3290\u001b[0m \u001b[38;5;66;03m# if from the file paths passed not all the file paths have the\u001b[39;00m\n\u001b[1;32m   3291\u001b[0m \u001b[38;5;66;03m# file with the given dataset id\u001b[39;00m\n\u001b[1;32m   3292\u001b[0m invalid_paths \u001b[38;5;241m=\u001b[39m \u001b[38;5;28mlist\u001b[39m(\u001b[38;5;28mset\u001b[39m(passed_file_paths) \u001b[38;5;241m-\u001b[39m \u001b[38;5;28mset\u001b[39m(file_paths_to_delete))\n",
            "\u001b[0;31mException\u001b[0m: Passed file paths does contain the files whose dataset id is GSE140509_GPL16791. Please file file path from these ['transcriptomics_206/GSE140509_GPL16791.gct', 'transcriptomics_209/GSE140509_GPL16791.gct']"
          ]
        }
      ],
      "source": [
        "# dataset ids passed in the list and its path is also passed in dataset_file_path dict but that is wrong -> all paths wrong\n",
        "dataset_id = [\"GSE140509_GPL16791\"]\n",
        "repo_id = \"1673847977346\"\n",
        "dataset_file_path_dict = {\"GSE140509_GPL16791\":[\"transcriptomics_407s/GSE140509_GPL16791.gct\", \"transcriptomics_408s/GSE140509_GPL16791.gct\"]}\n",
        "omixatlas.delete_datasets(repo_id, dataset_id, dataset_file_path_dict=dataset_file_path_dict)"
      ]
    },
    {
      "cell_type": "code",
      "execution_count": 22,
      "metadata": {},
      "outputs": [
        {
          "name": "stderr",
          "output_type": "stream",
          "text": [
            "WARNING: Unable to delete file with dataset_id GSE140509_GPL16791 because dataset_id is present in mutiple files. Please pass the path from where the file needs to be deleted. For getting the list of file_paths for the dataset_id call get_all_file_path function. For any questions, please reach out to polly.support@elucidata.io. \n"
          ]
        },
        {
          "name": "stdout",
          "output_type": "stream",
          "text": [
            "Requested Operation could not be performed on any of the dataset ids. One possible reason is that all the datasets passed to delete might not be present in the Omixatlas. Please check warning message logged during execution. Second reason can be that paths passed for dataset id may be wrong for all the dataset ids. Pls correct them and try again. Use get_all_file_paths function to to get all file_paths corresponding to a dataset_id in Omixatlas.In case of any other queries, please connect with pollysupport@elucidata.io\n"
          ]
        }
      ],
      "source": [
        "# dataset id passed which has multiple paths but dataset_file_path dict not passed\n",
        "dataset_id = [\"GSE140509_GPL16791\"]\n",
        "repo_id = \"1673847977346\"\n",
        "omixatlas.delete_datasets(repo_id, dataset_id)"
      ]
    },
    {
      "cell_type": "code",
      "execution_count": 23,
      "metadata": {},
      "outputs": [
        {
          "name": "stdout",
          "output_type": "stream",
          "text": [
            "Requested Operation could not be performed on any of the dataset ids. One possible reason is that all the datasets passed to delete might not be present in the Omixatlas. Please check warning message logged during execution. Second reason can be that paths passed for dataset id may be wrong for all the dataset ids. Pls correct them and try again. Use get_all_file_paths function to to get all file_paths corresponding to a dataset_id in Omixatlas.In case of any other queries, please connect with pollysupport@elucidata.io\n"
          ]
        }
      ],
      "source": [
        "# dataset id passed which has multiple paths but empty list passed in place of file path in dataset_file_path dict\n",
        "dataset_id = [\"GSE140509_GPL16791\"]\n",
        "repo_id = \"1673847977346\"\n",
        "dataset_file_path_dict = {\"GSE140509_GPL16791\":[]}\n",
        "omixatlas.delete_datasets(repo_id, dataset_id)"
      ]
    },
    {
      "cell_type": "code",
      "execution_count": 24,
      "metadata": {},
      "outputs": [
        {
          "name": "stderr",
          "output_type": "stream",
          "text": [
            "WARNING: Unable to delete file from these file paths ['transcriptomics_407s/GSE140509_GPL16791.gct'] because in these file paths, file corresponding to the dataset id GSE140509_GPL16791 is not present in the system.  Please run `get_all_file_paths` to get all valid paths for this dataset_id. For any questions, please reach out to polly.support@elucidata.io. \n"
          ]
        },
        {
          "name": "stdout",
          "output_type": "stream",
          "text": [
            "            DatasetId  \\\n",
            "0  GSE140509_GPL16791   \n",
            "\n",
            "                                                                      Message  \\\n",
            "0  Request Accepted. Dataset Will be deleted in the next version of OmixAtlas   \n",
            "\n",
            "                                  Folder Path  \n",
            "0  transcriptomics_209/GSE140509_GPL16791.gct  \n"
          ]
        }
      ],
      "source": [
        "# dataset id present in multiple paths -> Paths passed out of which few are correct and others wrong\n",
        "dataset_id = [\"GSE140509_GPL16791\"]\n",
        "repo_id = \"1673847977346\"\n",
        "dataset_file_path_dict = {\"GSE140509_GPL16791\":[\"transcriptomics_209/GSE140509_GPL16791.gct\", \"transcriptomics_407s/GSE140509_GPL16791.gct\"]}\n",
        "omixatlas.delete_datasets(repo_id, dataset_id,dataset_file_path_dict=dataset_file_path_dict)"
      ]
    },
    {
      "cell_type": "code",
      "execution_count": null,
      "metadata": {},
      "outputs": [],
      "source": []
    }
  ],
  "metadata": {
    "kernelspec": {
      "display_name": "Python 3 (ipykernel)",
      "language": "python",
      "name": "python3"
    },
    "language_info": {
      "codemirror_mode": {
        "name": "ipython",
        "version": 3
      },
      "file_extension": ".py",
      "mimetype": "text/x-python",
      "name": "python",
      "nbconvert_exporter": "python",
      "pygments_lexer": "ipython3",
      "version": "3.10.2"
    }
  },
  "nbformat": 4,
  "nbformat_minor": 2
}