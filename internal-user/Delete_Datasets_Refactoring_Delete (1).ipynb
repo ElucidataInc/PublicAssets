{
  "cells": [
    {
      "cell_type": "markdown",
      "metadata": {
        "colab_type": "text",
        "id": "view-in-github"
      },
      "source": [
        "<a href=\"https://polly.elucidata.io/manage/workspaces?action=open_polly_notebook&source=github&path=path_place_holder&kernel=elucidata/Python 3.10&machine=medium\" target=\"_parent\"><img src=\"https://elucidatainc.github.io/PublicAssets/open_polly.svg\" alt=\"Open in Polly\"/></a>\n"
      ]
    },
    {
      "cell_type": "markdown",
      "metadata": {},
      "source": [
        "# Welcome to Polly Python3 Notebook."
      ]
    },
    {
      "cell_type": "code",
      "execution_count": 1,
      "metadata": {},
      "outputs": [
        {
          "name": "stdout",
          "output_type": "stream",
          "text": [
            "/bin/bash: warning: setlocale: LC_ALL: cannot change locale (en_US.UTF-8)\n",
            "Collecting polly-python==0.5.1-delete-datasets\n",
            "  Downloading https://elucidatainc.github.io/PublicAssets/builds/polly-python/tests/testpolly/polly_python-0.5.1_delete_datasets-py3-none-any.whl (199 kB)\n",
            "\u001b[K     |████████████████████████████████| 199 kB 6.2 MB/s eta 0:00:01\n",
            "\u001b[?25hRequirement already satisfied: requests==2.25.1 in /usr/local/lib/python3.10/site-packages (from polly-python==0.5.1-delete-datasets) (2.25.1)\n",
            "Requirement already satisfied: elucidatacloudpathlib==0.6.6 in /usr/local/lib/python3.10/site-packages (from polly-python==0.5.1-delete-datasets) (0.6.6)\n",
            "Requirement already satisfied: elucidatacmapPy==3.3.4 in /usr/local/lib/python3.10/site-packages (from polly-python==0.5.1-delete-datasets) (3.3.4)\n",
            "Requirement already satisfied: pytest>=6.2.5 in /usr/local/lib/python3.10/site-packages (from polly-python==0.5.1-delete-datasets) (7.3.1)\n",
            "Requirement already satisfied: Deprecated>=1.2.12 in /usr/local/lib/python3.10/site-packages (from polly-python==0.5.1-delete-datasets) (1.2.13)\n",
            "Collecting botocore>=1.27.0\n",
            "  Downloading botocore-1.31.25-py3-none-any.whl (11.1 MB)\n",
            "\u001b[K     |████████████████████████████████| 11.1 MB 7.6 MB/s eta 0:00:01\n",
            "\u001b[?25hCollecting cryptography<=38.0.0,>=37.0.1\n",
            "  Downloading cryptography-38.0.0-cp36-abi3-manylinux_2_28_x86_64.whl (4.2 MB)\n",
            "\u001b[K     |████████████████████████████████| 4.2 MB 69.7 MB/s eta 0:00:01\n",
            "\u001b[?25hRequirement already satisfied: python-jose==3.3.0 in /usr/local/lib/python3.10/site-packages (from polly-python==0.5.1-delete-datasets) (3.3.0)\n",
            "Collecting pydantic==1.10.12\n",
            "  Downloading pydantic-1.10.12-cp310-cp310-manylinux_2_17_x86_64.manylinux2014_x86_64.whl (3.1 MB)\n",
            "\u001b[K     |████████████████████████████████| 3.1 MB 72.5 MB/s eta 0:00:01\n",
            "\u001b[?25hRequirement already satisfied: tqdm==4.65.0 in /usr/local/lib/python3.10/site-packages (from polly-python==0.5.1-delete-datasets) (4.65.0)\n",
            "Collecting boto3>=1.24.0\n",
            "  Downloading boto3-1.28.25-py3-none-any.whl (135 kB)\n",
            "\u001b[K     |████████████████████████████████| 135 kB 73.7 MB/s eta 0:00:01\n",
            "\u001b[?25hCollecting polly-validator==0.0.2\n",
            "  Downloading polly_validator-0.0.2-py3-none-any.whl (29 kB)\n",
            "Requirement already satisfied: rst2txt==1.1.0 in /usr/local/lib/python3.10/site-packages (from polly-python==0.5.1-delete-datasets) (1.1.0)\n",
            "Requirement already satisfied: mixpanel==4.10.0 in /usr/local/lib/python3.10/site-packages (from polly-python==0.5.1-delete-datasets) (4.10.0)\n",
            "Requirement already satisfied: plotly>=5.0.0 in /usr/local/lib/python3.10/site-packages (from polly-python==0.5.1-delete-datasets) (5.14.1)\n",
            "Requirement already satisfied: retrying==1.3.4 in /usr/local/lib/python3.10/site-packages (from polly-python==0.5.1-delete-datasets) (1.3.4)\n",
            "Requirement already satisfied: pandas>=1.3.5 in /usr/local/lib/python3.10/site-packages (from polly-python==0.5.1-delete-datasets) (1.4.1)\n",
            "Requirement already satisfied: joblib>=1.2.0 in /usr/local/lib/python3.10/site-packages (from polly-python==0.5.1-delete-datasets) (1.2.0)\n",
            "Requirement already satisfied: h5py>=2.6.0 in /usr/local/lib/python3.10/site-packages (from elucidatacmapPy==3.3.4->polly-python==0.5.1-delete-datasets) (3.8.0)\n",
            "Requirement already satisfied: numpy>=1.11.2 in /usr/local/lib/python3.10/site-packages (from elucidatacmapPy==3.3.4->polly-python==0.5.1-delete-datasets) (1.22.3)\n",
            "Requirement already satisfied: six in /usr/local/lib/python3.10/site-packages (from elucidatacmapPy==3.3.4->polly-python==0.5.1-delete-datasets) (1.16.0)\n",
            "Requirement already satisfied: urllib3 in /usr/local/lib/python3.10/site-packages (from mixpanel==4.10.0->polly-python==0.5.1-delete-datasets) (1.26.6)\n",
            "Requirement already satisfied: appdirs==1.4.4 in /usr/local/lib/python3.10/site-packages (from polly-validator==0.0.2->polly-python==0.5.1-delete-datasets) (1.4.4)\n",
            "Requirement already satisfied: rapidfuzz==2.1.1 in /usr/local/lib/python3.10/site-packages (from polly-validator==0.0.2->polly-python==0.5.1-delete-datasets) (2.1.1)\n",
            "Requirement already satisfied: pronto in /usr/local/lib/python3.10/site-packages (from polly-validator==0.0.2->polly-python==0.5.1-delete-datasets) (2.5.1)\n",
            "Requirement already satisfied: tabulate==0.8.10 in /usr/local/lib/python3.10/site-packages (from polly-validator==0.0.2->polly-python==0.5.1-delete-datasets) (0.8.10)\n",
            "Requirement already satisfied: typing-extensions>=4.2.0 in /usr/local/lib/python3.10/site-packages (from pydantic==1.10.12->polly-python==0.5.1-delete-datasets) (4.5.0)\n",
            "Requirement already satisfied: pyasn1 in /usr/local/lib/python3.10/site-packages (from python-jose==3.3.0->polly-python==0.5.1-delete-datasets) (0.4.8)\n",
            "Requirement already satisfied: ecdsa!=0.15 in /usr/local/lib/python3.10/site-packages (from python-jose==3.3.0->polly-python==0.5.1-delete-datasets) (0.18.0)\n",
            "Requirement already satisfied: rsa in /usr/local/lib/python3.10/site-packages (from python-jose==3.3.0->polly-python==0.5.1-delete-datasets) (4.7.2)\n",
            "Requirement already satisfied: jarowinkler<1.1.0,>=1.0.3 in /usr/local/lib/python3.10/site-packages (from rapidfuzz==2.1.1->polly-validator==0.0.2->polly-python==0.5.1-delete-datasets) (1.0.5)\n",
            "Requirement already satisfied: certifi>=2017.4.17 in /usr/local/lib/python3.10/site-packages (from requests==2.25.1->polly-python==0.5.1-delete-datasets) (2021.5.30)\n",
            "Requirement already satisfied: idna<3,>=2.5 in /usr/local/lib/python3.10/site-packages (from requests==2.25.1->polly-python==0.5.1-delete-datasets) (2.10)\n",
            "Requirement already satisfied: chardet<5,>=3.0.2 in /usr/local/lib/python3.10/site-packages (from requests==2.25.1->polly-python==0.5.1-delete-datasets) (4.0.0)\n",
            "Requirement already satisfied: docutils>=0.11 in /usr/local/lib/python3.10/site-packages (from rst2txt==1.1.0->polly-python==0.5.1-delete-datasets) (0.15.2)\n",
            "Requirement already satisfied: pygments in /usr/local/lib/python3.10/site-packages (from rst2txt==1.1.0->polly-python==0.5.1-delete-datasets) (2.10.0)\n",
            "Collecting s3transfer<0.7.0,>=0.6.0\n",
            "  Downloading s3transfer-0.6.1-py3-none-any.whl (79 kB)\n",
            "\u001b[K     |████████████████████████████████| 79 kB 9.7 MB/s  eta 0:00:01\n",
            "\u001b[?25hRequirement already satisfied: jmespath<2.0.0,>=0.7.1 in /usr/local/lib/python3.10/site-packages (from boto3>=1.24.0->polly-python==0.5.1-delete-datasets) (0.10.0)\n",
            "Requirement already satisfied: python-dateutil<3.0.0,>=2.1 in /usr/local/lib/python3.10/site-packages (from botocore>=1.27.0->polly-python==0.5.1-delete-datasets) (2.8.1)\n",
            "Requirement already satisfied: cffi>=1.12 in /usr/local/lib/python3.10/site-packages (from cryptography<=38.0.0,>=37.0.1->polly-python==0.5.1-delete-datasets) (1.15.1)\n",
            "Requirement already satisfied: pycparser in /usr/local/lib/python3.10/site-packages (from cffi>=1.12->cryptography<=38.0.0,>=37.0.1->polly-python==0.5.1-delete-datasets) (2.21)\n",
            "Requirement already satisfied: wrapt<2,>=1.10 in /usr/local/lib/python3.10/site-packages (from Deprecated>=1.2.12->polly-python==0.5.1-delete-datasets) (1.15.0)\n",
            "Requirement already satisfied: pytz>=2020.1 in /usr/local/lib/python3.10/site-packages (from pandas>=1.3.5->polly-python==0.5.1-delete-datasets) (2021.3)\n",
            "Requirement already satisfied: packaging in /usr/local/lib/python3.10/site-packages (from plotly>=5.0.0->polly-python==0.5.1-delete-datasets) (23.1)\n",
            "Requirement already satisfied: tenacity>=6.2.0 in /usr/local/lib/python3.10/site-packages (from plotly>=5.0.0->polly-python==0.5.1-delete-datasets) (8.2.2)\n",
            "Requirement already satisfied: tomli>=1.0.0 in /usr/local/lib/python3.10/site-packages (from pytest>=6.2.5->polly-python==0.5.1-delete-datasets) (2.0.1)\n",
            "Requirement already satisfied: exceptiongroup>=1.0.0rc8 in /usr/local/lib/python3.10/site-packages (from pytest>=6.2.5->polly-python==0.5.1-delete-datasets) (1.1.1)\n",
            "Requirement already satisfied: iniconfig in /usr/local/lib/python3.10/site-packages (from pytest>=6.2.5->polly-python==0.5.1-delete-datasets) (2.0.0)\n",
            "Requirement already satisfied: pluggy<2.0,>=0.12 in /usr/local/lib/python3.10/site-packages (from pytest>=6.2.5->polly-python==0.5.1-delete-datasets) (1.0.0)\n",
            "Requirement already satisfied: networkx~=2.3 in /usr/local/lib/python3.10/site-packages (from pronto->polly-validator==0.0.2->polly-python==0.5.1-delete-datasets) (2.8.8)\n",
            "Requirement already satisfied: fastobo~=0.12.1 in /usr/local/lib/python3.10/site-packages (from pronto->polly-validator==0.0.2->polly-python==0.5.1-delete-datasets) (0.12.2)\n"
          ]
        },
        {
          "name": "stdout",
          "output_type": "stream",
          "text": [
            "Installing collected packages: botocore, s3transfer, pydantic, polly-validator, cryptography, boto3, polly-python\n",
            "  Attempting uninstall: botocore\n",
            "    Found existing installation: botocore 1.24.19\n",
            "    Uninstalling botocore-1.24.19:\n",
            "      Successfully uninstalled botocore-1.24.19\n",
            "  Attempting uninstall: s3transfer\n",
            "    Found existing installation: s3transfer 0.5.2\n",
            "    Uninstalling s3transfer-0.5.2:\n",
            "      Successfully uninstalled s3transfer-0.5.2\n",
            "  Attempting uninstall: pydantic\n",
            "    Found existing installation: pydantic 1.10.7\n",
            "    Uninstalling pydantic-1.10.7:\n",
            "      Successfully uninstalled pydantic-1.10.7\n",
            "  Attempting uninstall: polly-validator\n",
            "    Found existing installation: polly-validator 0.0.1\n",
            "    Uninstalling polly-validator-0.0.1:\n",
            "      Successfully uninstalled polly-validator-0.0.1\n",
            "  Attempting uninstall: cryptography\n",
            "    Found existing installation: cryptography 40.0.2\n",
            "    Uninstalling cryptography-40.0.2:\n",
            "      Successfully uninstalled cryptography-40.0.2\n",
            "  Attempting uninstall: boto3\n",
            "    Found existing installation: boto3 1.21.19\n",
            "    Uninstalling boto3-1.21.19:\n",
            "      Successfully uninstalled boto3-1.21.19\n",
            "  Attempting uninstall: polly-python\n",
            "    Found existing installation: polly-python 0.3.0\n",
            "    Uninstalling polly-python-0.3.0:\n",
            "      Successfully uninstalled polly-python-0.3.0\n",
            "\u001b[31mERROR: pip's dependency resolver does not currently take into account all the packages that are installed. This behaviour is the source of the following dependency conflicts.\n",
            "awscli 1.22.74 requires botocore==1.24.19, but you have botocore 1.31.25 which is incompatible.\n",
            "awscli 1.22.74 requires s3transfer<0.6.0,>=0.5.0, but you have s3transfer 0.6.1 which is incompatible.\u001b[0m\n",
            "Successfully installed boto3-1.28.25 botocore-1.31.25 cryptography-38.0.0 polly-python-0.5.1 polly-validator-0.0.2 pydantic-1.10.12 s3transfer-0.6.1\n",
            "\u001b[33mWARNING: Running pip as the 'root' user can result in broken permissions and conflicting behaviour with the system package manager. It is recommended to use a virtual environment instead: https://pip.pypa.io/warnings/venv\u001b[0m\n",
            "\u001b[33mWARNING: You are using pip version 21.2.4; however, version 23.2.1 is available.\n",
            "You should consider upgrading via the '/usr/local/bin/python3.10 -m pip install --upgrade pip' command.\u001b[0m\n"
          ]
        }
      ],
      "source": [
        "!sudo pip3 install https://elucidatainc.github.io/PublicAssets/builds/polly-python/tests/testpolly/polly_python-0.5.1_delete_datasets-py3-none-any.whl"
      ]
    },
    {
      "cell_type": "code",
      "execution_count": 3,
      "metadata": {},
      "outputs": [],
      "source": [
        "import os\n",
        "from polly.auth import Polly\n",
        "AUTH_TOKEN= \"ewKUTY_Q\" # Obtain authentication tokens\n",
        "Polly.auth(AUTH_TOKEN, env= \"testpolly\")\n",
        "\n",
        "\n",
        "from polly.omixatlas import OmixAtlas\n",
        "omixatlas = OmixAtlas()"
      ]
    },
    {
      "cell_type": "code",
      "execution_count": null,
      "metadata": {},
      "outputs": [],
      "source": [
        "### File Paths Testing\n"
      ]
    },
    {
      "cell_type": "code",
      "execution_count": 4,
      "metadata": {},
      "outputs": [
        {
          "name": "stdout",
          "output_type": "stream",
          "text": [
            "----response data--------\n",
            "{'data': {'id': 'ACBC_MSKCC_2015_Copy_Number_AdCC10T', 'type': 'file_paths', 'attributes': {'file_paths': ['transcriptomics_110/ACBC_MSKCC_2015_Copy_Number_AdCC10T_copy', 'transcriptomics_111/ACBC_MSKCC_2015_Copy_Number_AdCC10T_copy', 'transcriptomics_110/ACBC_MSKCC_2015_Copy_Number_AdCC10T.gct']}}}\n",
            "----file paths-------\n",
            "['transcriptomics_110/ACBC_MSKCC_2015_Copy_Number_AdCC10T_copy', 'transcriptomics_111/ACBC_MSKCC_2015_Copy_Number_AdCC10T_copy', 'transcriptomics_110/ACBC_MSKCC_2015_Copy_Number_AdCC10T.gct']\n"
          ]
        }
      ],
      "source": [
        "#testing file paths\n",
        "lib_repo_dev_id = \"1673847977346\"\n",
        "dataset_id = \"ACBC_MSKCC_2015_Copy_Number_AdCC10T\"\n",
        "file_paths = omixatlas.get_all_file_paths(lib_repo_dev_id, dataset_id)\n",
        "print(\"----file paths-------\")\n",
        "print(file_paths)"
      ]
    },
    {
      "cell_type": "code",
      "execution_count": 5,
      "metadata": {},
      "outputs": [
        {
          "ename": "paramException",
          "evalue": "paramException (parameter error): Argument 'dataset_id' is either empty or invalid. It should be a string. Please try again.",
          "output_type": "error",
          "traceback": [
            "\u001b[0;31m---------------------------------------------------------------------------\u001b[0m",
            "\u001b[0;31mparamException\u001b[0m                            Traceback (most recent call last)",
            "Input \u001b[0;32mIn [5]\u001b[0m, in \u001b[0;36m<cell line: 4>\u001b[0;34m()\u001b[0m\n\u001b[1;32m      2\u001b[0m lib_repo_dev_id \u001b[38;5;241m=\u001b[39m \u001b[38;5;124m\"\u001b[39m\u001b[38;5;124m1673847977346\u001b[39m\u001b[38;5;124m\"\u001b[39m\n\u001b[1;32m      3\u001b[0m dataset_id \u001b[38;5;241m=\u001b[39m [\u001b[38;5;124m\"\u001b[39m\u001b[38;5;124mGSE140509_GPL16791\u001b[39m\u001b[38;5;124m\"\u001b[39m]\n\u001b[0;32m----> 4\u001b[0m file_paths \u001b[38;5;241m=\u001b[39m \u001b[43momixatlas\u001b[49m\u001b[38;5;241;43m.\u001b[39;49m\u001b[43mget_all_file_paths\u001b[49m\u001b[43m(\u001b[49m\u001b[43mlib_repo_dev_id\u001b[49m\u001b[43m,\u001b[49m\u001b[43m \u001b[49m\u001b[43mdataset_id\u001b[49m\u001b[43m)\u001b[49m\n\u001b[1;32m      5\u001b[0m \u001b[38;5;28mprint\u001b[39m(\u001b[38;5;124m\"\u001b[39m\u001b[38;5;124m----file paths-------\u001b[39m\u001b[38;5;124m\"\u001b[39m)\n\u001b[1;32m      6\u001b[0m \u001b[38;5;28mprint\u001b[39m(file_paths)\n",
            "File \u001b[0;32m/usr/local/lib/python3.10/site-packages/polly/omixatlas.py:1352\u001b[0m, in \u001b[0;36mOmixAtlas.get_all_file_paths\u001b[0;34m(self, repo_id, dataset_id, internal_call)\u001b[0m\n\u001b[1;32m   1337\u001b[0m \u001b[38;5;124;03m\"\"\"Get all file paths where the file is stored corresponding to the\u001b[39;00m\n\u001b[1;32m   1338\u001b[0m \u001b[38;5;124;03mrepo_id and dataset_id\u001b[39;00m\n\u001b[1;32m   1339\u001b[0m \n\u001b[0;32m   (...)\u001b[0m\n\u001b[1;32m   1349\u001b[0m \u001b[38;5;124;03m    Error: If repo_id or dataset id does not exist in the system\u001b[39;00m\n\u001b[1;32m   1350\u001b[0m \u001b[38;5;124;03m\"\"\"\u001b[39;00m\n\u001b[1;32m   1351\u001b[0m files_obj \u001b[38;5;241m=\u001b[39m Files()\n\u001b[0;32m-> 1352\u001b[0m file_paths \u001b[38;5;241m=\u001b[39m \u001b[43mfiles_obj\u001b[49m\u001b[38;5;241;43m.\u001b[39;49m\u001b[43mget_all_file_paths\u001b[49m\u001b[43m(\u001b[49m\n\u001b[1;32m   1353\u001b[0m \u001b[43m    \u001b[49m\u001b[38;5;28;43mself\u001b[39;49m\u001b[43m,\u001b[49m\u001b[43m \u001b[49m\u001b[43mrepo_id\u001b[49m\u001b[43m,\u001b[49m\u001b[43m \u001b[49m\u001b[43mdataset_id\u001b[49m\u001b[43m,\u001b[49m\u001b[43m \u001b[49m\u001b[43minternal_call\u001b[49m\n\u001b[1;32m   1354\u001b[0m \u001b[43m\u001b[49m\u001b[43m)\u001b[49m\n\u001b[1;32m   1356\u001b[0m \u001b[38;5;66;03m# omix_hlpr.get_all_file_paths_param_check(repo_id, dataset_id)\u001b[39;00m\n\u001b[1;32m   1357\u001b[0m \u001b[38;5;66;03m# # list of the all the file paths in the system\u001b[39;00m\n\u001b[1;32m   1358\u001b[0m \u001b[38;5;66;03m# # corresponding to the passed repo_id and dataset id\u001b[39;00m\n\u001b[0;32m   (...)\u001b[0m\n\u001b[1;32m   1404\u001b[0m \u001b[38;5;66;03m#                 f\"{dataset_id} does not exist in the Omixatlas {repo_id} \"\u001b[39;00m\n\u001b[1;32m   1405\u001b[0m \u001b[38;5;66;03m#             )\u001b[39;00m\n\u001b[1;32m   1407\u001b[0m \u001b[38;5;28;01mreturn\u001b[39;00m file_paths\n",
            "File \u001b[0;32m/usr/local/lib/python3.10/site-packages/polly_services/files/files.py:540\u001b[0m, in \u001b[0;36mFiles.get_all_file_paths\u001b[0;34m(self, polly_session, repo_id, dataset_id, internal_call)\u001b[0m\n\u001b[1;32m    538\u001b[0m     \u001b[38;5;28;01mreturn\u001b[39;00m file_paths\n\u001b[1;32m    539\u001b[0m \u001b[38;5;28;01mexcept\u001b[39;00m \u001b[38;5;167;01mException\u001b[39;00m \u001b[38;5;28;01mas\u001b[39;00m err:\n\u001b[0;32m--> 540\u001b[0m     \u001b[38;5;28;01mraise\u001b[39;00m err\n",
            "File \u001b[0;32m/usr/local/lib/python3.10/site-packages/polly_services/files/files.py:519\u001b[0m, in \u001b[0;36mFiles.get_all_file_paths\u001b[0;34m(self, polly_session, repo_id, dataset_id, internal_call)\u001b[0m\n\u001b[1;32m    510\u001b[0m \u001b[38;5;124;03m\"\"\"_summary_\u001b[39;00m\n\u001b[1;32m    511\u001b[0m \n\u001b[1;32m    512\u001b[0m \u001b[38;5;124;03mArgs:\u001b[39;00m\n\u001b[0;32m   (...)\u001b[0m\n\u001b[1;32m    516\u001b[0m \u001b[38;5;124;03m    internal_call (bool, optional): _description_. Defaults to False.\u001b[39;00m\n\u001b[1;32m    517\u001b[0m \u001b[38;5;124;03m\"\"\"\u001b[39;00m\n\u001b[1;32m    518\u001b[0m \u001b[38;5;28;01mtry\u001b[39;00m:\n\u001b[0;32m--> 519\u001b[0m     \u001b[43mfiles_hlpr\u001b[49m\u001b[38;5;241;43m.\u001b[39;49m\u001b[43mget_all_file_paths_param_check\u001b[49m\u001b[43m(\u001b[49m\u001b[43mrepo_id\u001b[49m\u001b[43m,\u001b[49m\u001b[43m \u001b[49m\u001b[43mdataset_id\u001b[49m\u001b[43m)\u001b[49m\n\u001b[1;32m    520\u001b[0m     \u001b[38;5;66;03m# list of the all the file paths in the system\u001b[39;00m\n\u001b[1;32m    521\u001b[0m     \u001b[38;5;66;03m# corresponding to the passed repo_id and dataset id\u001b[39;00m\n\u001b[1;32m    522\u001b[0m     file_paths \u001b[38;5;241m=\u001b[39m []\n",
            "File \u001b[0;32m/usr/local/lib/python3.10/site-packages/polly_services/files/files_hlpr.py:2372\u001b[0m, in \u001b[0;36mget_all_file_paths_param_check\u001b[0;34m(repo_id, dataset_id)\u001b[0m\n\u001b[1;32m   2370\u001b[0m     parameter_check_for_dataset_id(dataset_id)\n\u001b[1;32m   2371\u001b[0m \u001b[38;5;28;01mexcept\u001b[39;00m \u001b[38;5;167;01mException\u001b[39;00m \u001b[38;5;28;01mas\u001b[39;00m err:\n\u001b[0;32m-> 2372\u001b[0m     \u001b[38;5;28;01mraise\u001b[39;00m err\n",
            "File \u001b[0;32m/usr/local/lib/python3.10/site-packages/polly_services/files/files_hlpr.py:2370\u001b[0m, in \u001b[0;36mget_all_file_paths_param_check\u001b[0;34m(repo_id, dataset_id)\u001b[0m\n\u001b[1;32m   2368\u001b[0m \u001b[38;5;28;01mtry\u001b[39;00m:\n\u001b[1;32m   2369\u001b[0m     polly_services_hlpr\u001b[38;5;241m.\u001b[39mparameter_check_for_repo_id(repo_id)\n\u001b[0;32m-> 2370\u001b[0m     \u001b[43mparameter_check_for_dataset_id\u001b[49m\u001b[43m(\u001b[49m\u001b[43mdataset_id\u001b[49m\u001b[43m)\u001b[49m\n\u001b[1;32m   2371\u001b[0m \u001b[38;5;28;01mexcept\u001b[39;00m \u001b[38;5;167;01mException\u001b[39;00m \u001b[38;5;28;01mas\u001b[39;00m err:\n\u001b[1;32m   2372\u001b[0m     \u001b[38;5;28;01mraise\u001b[39;00m err\n",
            "File \u001b[0;32m/usr/local/lib/python3.10/site-packages/polly_services/files/files_hlpr.py:2339\u001b[0m, in \u001b[0;36mparameter_check_for_dataset_id\u001b[0;34m(dataset_id)\u001b[0m\n\u001b[1;32m   2331\u001b[0m \u001b[38;5;124;03m\"\"\"Checking for validity of repo id\u001b[39;00m\n\u001b[1;32m   2332\u001b[0m \u001b[38;5;124;03mArgs:\u001b[39;00m\n\u001b[1;32m   2333\u001b[0m \u001b[38;5;124;03m    dataset_id (): Dataset Id of the dataset\u001b[39;00m\n\u001b[0;32m   (...)\u001b[0m\n\u001b[1;32m   2336\u001b[0m \u001b[38;5;124;03m    paramException: Error if dataset id is empty or is not str\u001b[39;00m\n\u001b[1;32m   2337\u001b[0m \u001b[38;5;124;03m\"\"\"\u001b[39;00m\n\u001b[1;32m   2338\u001b[0m \u001b[38;5;28;01mif\u001b[39;00m \u001b[38;5;129;01mnot\u001b[39;00m (dataset_id \u001b[38;5;129;01mand\u001b[39;00m \u001b[38;5;28misinstance\u001b[39m(dataset_id, \u001b[38;5;28mstr\u001b[39m)):\n\u001b[0;32m-> 2339\u001b[0m     \u001b[38;5;28;01mraise\u001b[39;00m paramException(\n\u001b[1;32m   2340\u001b[0m         title\u001b[38;5;241m=\u001b[39m\u001b[38;5;124m\"\u001b[39m\u001b[38;5;124mParam Error\u001b[39m\u001b[38;5;124m\"\u001b[39m,\n\u001b[1;32m   2341\u001b[0m         detail\u001b[38;5;241m=\u001b[39m\u001b[38;5;124m\"\u001b[39m\u001b[38;5;124mArgument \u001b[39m\u001b[38;5;124m'\u001b[39m\u001b[38;5;124mdataset_id\u001b[39m\u001b[38;5;124m'\u001b[39m\u001b[38;5;124m is either empty or invalid. It should be a string. Please try again.\u001b[39m\u001b[38;5;124m\"\u001b[39m,\n\u001b[1;32m   2342\u001b[0m     )\n",
            "\u001b[0;31mparamException\u001b[0m: paramException (parameter error): Argument 'dataset_id' is either empty or invalid. It should be a string. Please try again."
          ]
        }
      ],
      "source": [
        "# testing file paths parameter -> wrong dataset_id type\n",
        "lib_repo_dev_id = \"1673847977346\"\n",
        "dataset_id = [\"GSE140509_GPL16791\"]\n",
        "file_paths = omixatlas.get_all_file_paths(lib_repo_dev_id, dataset_id)\n",
        "print(\"----file paths-------\")\n",
        "print(file_paths)"
      ]
    },
    {
      "cell_type": "code",
      "execution_count": 6,
      "metadata": {},
      "outputs": [
        {
          "ename": "paramException",
          "evalue": "paramException (parameter error): repo_id, ['1673847977346'] should be str or int",
          "output_type": "error",
          "traceback": [
            "\u001b[0;31m---------------------------------------------------------------------------\u001b[0m",
            "\u001b[0;31mparamException\u001b[0m                            Traceback (most recent call last)",
            "Input \u001b[0;32mIn [6]\u001b[0m, in \u001b[0;36m<cell line: 4>\u001b[0;34m()\u001b[0m\n\u001b[1;32m      2\u001b[0m lib_repo_dev_id \u001b[38;5;241m=\u001b[39m [\u001b[38;5;124m\"\u001b[39m\u001b[38;5;124m1673847977346\u001b[39m\u001b[38;5;124m\"\u001b[39m]\n\u001b[1;32m      3\u001b[0m dataset_id \u001b[38;5;241m=\u001b[39m \u001b[38;5;124m\"\u001b[39m\u001b[38;5;124mGSE140509_GPL16791\u001b[39m\u001b[38;5;124m\"\u001b[39m\n\u001b[0;32m----> 4\u001b[0m file_paths \u001b[38;5;241m=\u001b[39m \u001b[43momixatlas\u001b[49m\u001b[38;5;241;43m.\u001b[39;49m\u001b[43mget_all_file_paths\u001b[49m\u001b[43m(\u001b[49m\u001b[43mlib_repo_dev_id\u001b[49m\u001b[43m,\u001b[49m\u001b[43m \u001b[49m\u001b[43mdataset_id\u001b[49m\u001b[43m)\u001b[49m\n\u001b[1;32m      5\u001b[0m \u001b[38;5;28mprint\u001b[39m(\u001b[38;5;124m\"\u001b[39m\u001b[38;5;124m----file paths-------\u001b[39m\u001b[38;5;124m\"\u001b[39m)\n\u001b[1;32m      6\u001b[0m \u001b[38;5;28mprint\u001b[39m(file_paths)\n",
            "File \u001b[0;32m/usr/local/lib/python3.10/site-packages/polly/omixatlas.py:1352\u001b[0m, in \u001b[0;36mOmixAtlas.get_all_file_paths\u001b[0;34m(self, repo_id, dataset_id, internal_call)\u001b[0m\n\u001b[1;32m   1337\u001b[0m \u001b[38;5;124;03m\"\"\"Get all file paths where the file is stored corresponding to the\u001b[39;00m\n\u001b[1;32m   1338\u001b[0m \u001b[38;5;124;03mrepo_id and dataset_id\u001b[39;00m\n\u001b[1;32m   1339\u001b[0m \n\u001b[0;32m   (...)\u001b[0m\n\u001b[1;32m   1349\u001b[0m \u001b[38;5;124;03m    Error: If repo_id or dataset id does not exist in the system\u001b[39;00m\n\u001b[1;32m   1350\u001b[0m \u001b[38;5;124;03m\"\"\"\u001b[39;00m\n\u001b[1;32m   1351\u001b[0m files_obj \u001b[38;5;241m=\u001b[39m Files()\n\u001b[0;32m-> 1352\u001b[0m file_paths \u001b[38;5;241m=\u001b[39m \u001b[43mfiles_obj\u001b[49m\u001b[38;5;241;43m.\u001b[39;49m\u001b[43mget_all_file_paths\u001b[49m\u001b[43m(\u001b[49m\n\u001b[1;32m   1353\u001b[0m \u001b[43m    \u001b[49m\u001b[38;5;28;43mself\u001b[39;49m\u001b[43m,\u001b[49m\u001b[43m \u001b[49m\u001b[43mrepo_id\u001b[49m\u001b[43m,\u001b[49m\u001b[43m \u001b[49m\u001b[43mdataset_id\u001b[49m\u001b[43m,\u001b[49m\u001b[43m \u001b[49m\u001b[43minternal_call\u001b[49m\n\u001b[1;32m   1354\u001b[0m \u001b[43m\u001b[49m\u001b[43m)\u001b[49m\n\u001b[1;32m   1356\u001b[0m \u001b[38;5;66;03m# omix_hlpr.get_all_file_paths_param_check(repo_id, dataset_id)\u001b[39;00m\n\u001b[1;32m   1357\u001b[0m \u001b[38;5;66;03m# # list of the all the file paths in the system\u001b[39;00m\n\u001b[1;32m   1358\u001b[0m \u001b[38;5;66;03m# # corresponding to the passed repo_id and dataset id\u001b[39;00m\n\u001b[0;32m   (...)\u001b[0m\n\u001b[1;32m   1404\u001b[0m \u001b[38;5;66;03m#                 f\"{dataset_id} does not exist in the Omixatlas {repo_id} \"\u001b[39;00m\n\u001b[1;32m   1405\u001b[0m \u001b[38;5;66;03m#             )\u001b[39;00m\n\u001b[1;32m   1407\u001b[0m \u001b[38;5;28;01mreturn\u001b[39;00m file_paths\n",
            "File \u001b[0;32m/usr/local/lib/python3.10/site-packages/polly_services/files/files.py:540\u001b[0m, in \u001b[0;36mFiles.get_all_file_paths\u001b[0;34m(self, polly_session, repo_id, dataset_id, internal_call)\u001b[0m\n\u001b[1;32m    538\u001b[0m     \u001b[38;5;28;01mreturn\u001b[39;00m file_paths\n\u001b[1;32m    539\u001b[0m \u001b[38;5;28;01mexcept\u001b[39;00m \u001b[38;5;167;01mException\u001b[39;00m \u001b[38;5;28;01mas\u001b[39;00m err:\n\u001b[0;32m--> 540\u001b[0m     \u001b[38;5;28;01mraise\u001b[39;00m err\n",
            "File \u001b[0;32m/usr/local/lib/python3.10/site-packages/polly_services/files/files.py:519\u001b[0m, in \u001b[0;36mFiles.get_all_file_paths\u001b[0;34m(self, polly_session, repo_id, dataset_id, internal_call)\u001b[0m\n\u001b[1;32m    510\u001b[0m \u001b[38;5;124;03m\"\"\"_summary_\u001b[39;00m\n\u001b[1;32m    511\u001b[0m \n\u001b[1;32m    512\u001b[0m \u001b[38;5;124;03mArgs:\u001b[39;00m\n\u001b[0;32m   (...)\u001b[0m\n\u001b[1;32m    516\u001b[0m \u001b[38;5;124;03m    internal_call (bool, optional): _description_. Defaults to False.\u001b[39;00m\n\u001b[1;32m    517\u001b[0m \u001b[38;5;124;03m\"\"\"\u001b[39;00m\n\u001b[1;32m    518\u001b[0m \u001b[38;5;28;01mtry\u001b[39;00m:\n\u001b[0;32m--> 519\u001b[0m     \u001b[43mfiles_hlpr\u001b[49m\u001b[38;5;241;43m.\u001b[39;49m\u001b[43mget_all_file_paths_param_check\u001b[49m\u001b[43m(\u001b[49m\u001b[43mrepo_id\u001b[49m\u001b[43m,\u001b[49m\u001b[43m \u001b[49m\u001b[43mdataset_id\u001b[49m\u001b[43m)\u001b[49m\n\u001b[1;32m    520\u001b[0m     \u001b[38;5;66;03m# list of the all the file paths in the system\u001b[39;00m\n\u001b[1;32m    521\u001b[0m     \u001b[38;5;66;03m# corresponding to the passed repo_id and dataset id\u001b[39;00m\n\u001b[1;32m    522\u001b[0m     file_paths \u001b[38;5;241m=\u001b[39m []\n",
            "File \u001b[0;32m/usr/local/lib/python3.10/site-packages/polly_services/files/files_hlpr.py:2372\u001b[0m, in \u001b[0;36mget_all_file_paths_param_check\u001b[0;34m(repo_id, dataset_id)\u001b[0m\n\u001b[1;32m   2370\u001b[0m     parameter_check_for_dataset_id(dataset_id)\n\u001b[1;32m   2371\u001b[0m \u001b[38;5;28;01mexcept\u001b[39;00m \u001b[38;5;167;01mException\u001b[39;00m \u001b[38;5;28;01mas\u001b[39;00m err:\n\u001b[0;32m-> 2372\u001b[0m     \u001b[38;5;28;01mraise\u001b[39;00m err\n",
            "File \u001b[0;32m/usr/local/lib/python3.10/site-packages/polly_services/files/files_hlpr.py:2369\u001b[0m, in \u001b[0;36mget_all_file_paths_param_check\u001b[0;34m(repo_id, dataset_id)\u001b[0m\n\u001b[1;32m   2361\u001b[0m \u001b[38;5;124;03m\"\"\"Function to do sanity checks on arguments of\u001b[39;00m\n\u001b[1;32m   2362\u001b[0m \u001b[38;5;124;03mget_all_file_paths_param functions\u001b[39;00m\n\u001b[1;32m   2363\u001b[0m \n\u001b[0;32m   (...)\u001b[0m\n\u001b[1;32m   2366\u001b[0m \u001b[38;5;124;03m    dataset_id (str): dataset id passed by the user\u001b[39;00m\n\u001b[1;32m   2367\u001b[0m \u001b[38;5;124;03m\"\"\"\u001b[39;00m\n\u001b[1;32m   2368\u001b[0m \u001b[38;5;28;01mtry\u001b[39;00m:\n\u001b[0;32m-> 2369\u001b[0m     \u001b[43mpolly_services_hlpr\u001b[49m\u001b[38;5;241;43m.\u001b[39;49m\u001b[43mparameter_check_for_repo_id\u001b[49m\u001b[43m(\u001b[49m\u001b[43mrepo_id\u001b[49m\u001b[43m)\u001b[49m\n\u001b[1;32m   2370\u001b[0m     parameter_check_for_dataset_id(dataset_id)\n\u001b[1;32m   2371\u001b[0m \u001b[38;5;28;01mexcept\u001b[39;00m \u001b[38;5;167;01mException\u001b[39;00m \u001b[38;5;28;01mas\u001b[39;00m err:\n",
            "File \u001b[0;32m/usr/local/lib/python3.10/site-packages/polly_services/polly_services_hlpr.py:21\u001b[0m, in \u001b[0;36mparameter_check_for_repo_id\u001b[0;34m(repo_id)\u001b[0m\n\u001b[1;32m     15\u001b[0m     \u001b[38;5;28;01mraise\u001b[39;00m paramException(\n\u001b[1;32m     16\u001b[0m         title\u001b[38;5;241m=\u001b[39m\u001b[38;5;124m\"\u001b[39m\u001b[38;5;124mParam Error\u001b[39m\u001b[38;5;124m\"\u001b[39m,\n\u001b[1;32m     17\u001b[0m         detail\u001b[38;5;241m=\u001b[39m\u001b[38;5;124m\"\u001b[39m\u001b[38;5;124mrepo_id should not be empty\u001b[39m\u001b[38;5;124m\"\u001b[39m,\n\u001b[1;32m     18\u001b[0m     )\n\u001b[1;32m     20\u001b[0m \u001b[38;5;28;01mif\u001b[39;00m \u001b[38;5;129;01mnot\u001b[39;00m \u001b[38;5;28misinstance\u001b[39m(repo_id, (\u001b[38;5;28mstr\u001b[39m, \u001b[38;5;28mint\u001b[39m)):\n\u001b[0;32m---> 21\u001b[0m     \u001b[38;5;28;01mraise\u001b[39;00m paramException(\n\u001b[1;32m     22\u001b[0m         title\u001b[38;5;241m=\u001b[39m\u001b[38;5;124m\"\u001b[39m\u001b[38;5;124mParam Error\u001b[39m\u001b[38;5;124m\"\u001b[39m,\n\u001b[1;32m     23\u001b[0m         detail\u001b[38;5;241m=\u001b[39m\u001b[38;5;124mf\u001b[39m\u001b[38;5;124m\"\u001b[39m\u001b[38;5;124mrepo_id, \u001b[39m\u001b[38;5;132;01m{\u001b[39;00mrepo_id\u001b[38;5;132;01m}\u001b[39;00m\u001b[38;5;124m should be str or int\u001b[39m\u001b[38;5;124m\"\u001b[39m,\n\u001b[1;32m     24\u001b[0m     )\n",
            "\u001b[0;31mparamException\u001b[0m: paramException (parameter error): repo_id, ['1673847977346'] should be str or int"
          ]
        }
      ],
      "source": [
        "# testing file paths parameter -> wrong repo_id type\n",
        "lib_repo_dev_id = [\"1673847977346\"]\n",
        "dataset_id = \"GSE140509_GPL16791\"\n",
        "file_paths = omixatlas.get_all_file_paths(lib_repo_dev_id, dataset_id)\n",
        "print(\"----file paths-------\")\n",
        "print(file_paths)"
      ]
    },
    {
      "cell_type": "code",
      "execution_count": 7,
      "metadata": {},
      "outputs": [
        {
          "name": "stdout",
          "output_type": "stream",
          "text": [
            "----file paths-------\n",
            "[]\n"
          ]
        }
      ],
      "source": [
        "# warning showed if wrong dataset_id passed\n",
        "lib_repo_dev_id = \"1673847977346\"\n",
        "dataset_id = \"abcde\"\n",
        "file_paths = omixatlas.get_all_file_paths(lib_repo_dev_id, dataset_id)\n",
        "print(\"----file paths-------\")\n",
        "print(file_paths)"
      ]
    },
    {
      "cell_type": "code",
      "execution_count": 8,
      "metadata": {},
      "outputs": [
        {
          "ename": "RequestException",
          "evalue": "(\"No repository for identifier '16738479773463221'\", 'Requested resource does not exist')",
          "output_type": "error",
          "traceback": [
            "\u001b[0;31m---------------------------------------------------------------------------\u001b[0m",
            "\u001b[0;31mRequestException\u001b[0m                          Traceback (most recent call last)",
            "Input \u001b[0;32mIn [8]\u001b[0m, in \u001b[0;36m<cell line: 4>\u001b[0;34m()\u001b[0m\n\u001b[1;32m      2\u001b[0m lib_repo_dev_id \u001b[38;5;241m=\u001b[39m \u001b[38;5;124m\"\u001b[39m\u001b[38;5;124m16738479773463221\u001b[39m\u001b[38;5;124m\"\u001b[39m\n\u001b[1;32m      3\u001b[0m dataset_id \u001b[38;5;241m=\u001b[39m \u001b[38;5;124m\"\u001b[39m\u001b[38;5;124mGSE140509_GPL1679\u001b[39m\u001b[38;5;124m\"\u001b[39m\n\u001b[0;32m----> 4\u001b[0m file_paths \u001b[38;5;241m=\u001b[39m \u001b[43momixatlas\u001b[49m\u001b[38;5;241;43m.\u001b[39;49m\u001b[43mget_all_file_paths\u001b[49m\u001b[43m(\u001b[49m\u001b[43mlib_repo_dev_id\u001b[49m\u001b[43m,\u001b[49m\u001b[43m \u001b[49m\u001b[43mdataset_id\u001b[49m\u001b[43m)\u001b[49m\n\u001b[1;32m      5\u001b[0m \u001b[38;5;28mprint\u001b[39m(\u001b[38;5;124m\"\u001b[39m\u001b[38;5;124m----file paths-------\u001b[39m\u001b[38;5;124m\"\u001b[39m)\n\u001b[1;32m      6\u001b[0m \u001b[38;5;28mprint\u001b[39m(file_paths)\n",
            "File \u001b[0;32m/usr/local/lib/python3.10/site-packages/polly/omixatlas.py:1352\u001b[0m, in \u001b[0;36mOmixAtlas.get_all_file_paths\u001b[0;34m(self, repo_id, dataset_id, internal_call)\u001b[0m\n\u001b[1;32m   1337\u001b[0m \u001b[38;5;124;03m\"\"\"Get all file paths where the file is stored corresponding to the\u001b[39;00m\n\u001b[1;32m   1338\u001b[0m \u001b[38;5;124;03mrepo_id and dataset_id\u001b[39;00m\n\u001b[1;32m   1339\u001b[0m \n\u001b[0;32m   (...)\u001b[0m\n\u001b[1;32m   1349\u001b[0m \u001b[38;5;124;03m    Error: If repo_id or dataset id does not exist in the system\u001b[39;00m\n\u001b[1;32m   1350\u001b[0m \u001b[38;5;124;03m\"\"\"\u001b[39;00m\n\u001b[1;32m   1351\u001b[0m files_obj \u001b[38;5;241m=\u001b[39m Files()\n\u001b[0;32m-> 1352\u001b[0m file_paths \u001b[38;5;241m=\u001b[39m \u001b[43mfiles_obj\u001b[49m\u001b[38;5;241;43m.\u001b[39;49m\u001b[43mget_all_file_paths\u001b[49m\u001b[43m(\u001b[49m\n\u001b[1;32m   1353\u001b[0m \u001b[43m    \u001b[49m\u001b[38;5;28;43mself\u001b[39;49m\u001b[43m,\u001b[49m\u001b[43m \u001b[49m\u001b[43mrepo_id\u001b[49m\u001b[43m,\u001b[49m\u001b[43m \u001b[49m\u001b[43mdataset_id\u001b[49m\u001b[43m,\u001b[49m\u001b[43m \u001b[49m\u001b[43minternal_call\u001b[49m\n\u001b[1;32m   1354\u001b[0m \u001b[43m\u001b[49m\u001b[43m)\u001b[49m\n\u001b[1;32m   1356\u001b[0m \u001b[38;5;66;03m# omix_hlpr.get_all_file_paths_param_check(repo_id, dataset_id)\u001b[39;00m\n\u001b[1;32m   1357\u001b[0m \u001b[38;5;66;03m# # list of the all the file paths in the system\u001b[39;00m\n\u001b[1;32m   1358\u001b[0m \u001b[38;5;66;03m# # corresponding to the passed repo_id and dataset id\u001b[39;00m\n\u001b[0;32m   (...)\u001b[0m\n\u001b[1;32m   1404\u001b[0m \u001b[38;5;66;03m#                 f\"{dataset_id} does not exist in the Omixatlas {repo_id} \"\u001b[39;00m\n\u001b[1;32m   1405\u001b[0m \u001b[38;5;66;03m#             )\u001b[39;00m\n\u001b[1;32m   1407\u001b[0m \u001b[38;5;28;01mreturn\u001b[39;00m file_paths\n",
            "File \u001b[0;32m/usr/local/lib/python3.10/site-packages/polly_services/files/files.py:540\u001b[0m, in \u001b[0;36mFiles.get_all_file_paths\u001b[0;34m(self, polly_session, repo_id, dataset_id, internal_call)\u001b[0m\n\u001b[1;32m    538\u001b[0m     \u001b[38;5;28;01mreturn\u001b[39;00m file_paths\n\u001b[1;32m    539\u001b[0m \u001b[38;5;28;01mexcept\u001b[39;00m \u001b[38;5;167;01mException\u001b[39;00m \u001b[38;5;28;01mas\u001b[39;00m err:\n\u001b[0;32m--> 540\u001b[0m     \u001b[38;5;28;01mraise\u001b[39;00m err\n",
            "File \u001b[0;32m/usr/local/lib/python3.10/site-packages/polly_services/files/files.py:526\u001b[0m, in \u001b[0;36mFiles.get_all_file_paths\u001b[0;34m(self, polly_session, repo_id, dataset_id, internal_call)\u001b[0m\n\u001b[1;32m    522\u001b[0m file_paths \u001b[38;5;241m=\u001b[39m []\n\u001b[1;32m    524\u001b[0m \u001b[38;5;66;03m# check if omixatlas exists\u001b[39;00m\n\u001b[1;32m    525\u001b[0m \u001b[38;5;66;03m# if omixatlas does not exist then it will raise an error\u001b[39;00m\n\u001b[0;32m--> 526\u001b[0m \u001b[43mpolly_services_hlpr\u001b[49m\u001b[38;5;241;43m.\u001b[39;49m\u001b[43mget_omixatlas\u001b[49m\u001b[43m(\u001b[49m\u001b[43mpolly_session\u001b[49m\u001b[43m,\u001b[49m\u001b[43m \u001b[49m\u001b[43mrepo_id\u001b[49m\u001b[43m)\u001b[49m\n\u001b[1;32m    528\u001b[0m file_paths \u001b[38;5;241m=\u001b[39m files_hlpr\u001b[38;5;241m.\u001b[39mcheck_destination_folder_for_dataset_id(\n\u001b[1;32m    529\u001b[0m     polly_session, dataset_id, repo_id\n\u001b[1;32m    530\u001b[0m )\n\u001b[1;32m    531\u001b[0m \u001b[38;5;66;03m# if file_paths is empty it is an internal call -> then return a message\u001b[39;00m\n\u001b[1;32m    532\u001b[0m \u001b[38;5;66;03m# that message will be put in the res df\u001b[39;00m\n",
            "File \u001b[0;32m/usr/local/lib/python3.10/site-packages/polly_services/polly_services_hlpr.py:68\u001b[0m, in \u001b[0;36mget_omixatlas\u001b[0;34m(polly_session, repo_key)\u001b[0m\n\u001b[1;32m     66\u001b[0m     url \u001b[38;5;241m=\u001b[39m \u001b[38;5;124mf\u001b[39m\u001b[38;5;124m\"\u001b[39m\u001b[38;5;132;01m{\u001b[39;00mpolly_session\u001b[38;5;241m.\u001b[39mresource_url\u001b[38;5;132;01m}\u001b[39;00m\u001b[38;5;124m/\u001b[39m\u001b[38;5;132;01m{\u001b[39;00mrepo_key\u001b[38;5;132;01m}\u001b[39;00m\u001b[38;5;124m\"\u001b[39m\n\u001b[1;32m     67\u001b[0m     response \u001b[38;5;241m=\u001b[39m polly_session\u001b[38;5;241m.\u001b[39msession\u001b[38;5;241m.\u001b[39mget(url)\n\u001b[0;32m---> 68\u001b[0m     \u001b[43merror_handler\u001b[49m\u001b[43m(\u001b[49m\u001b[43mresponse\u001b[49m\u001b[43m)\u001b[49m\n\u001b[1;32m     69\u001b[0m     \u001b[38;5;28;01mreturn\u001b[39;00m response\u001b[38;5;241m.\u001b[39mjson()\n\u001b[1;32m     70\u001b[0m \u001b[38;5;28;01melse\u001b[39;00m:\n",
            "File \u001b[0;32m/usr/local/lib/python3.10/site-packages/polly/errors.py:337\u001b[0m, in \u001b[0;36merror_handler\u001b[0;34m(response)\u001b[0m\n\u001b[1;32m    335\u001b[0m     \u001b[38;5;28;01mif\u001b[39;00m title \u001b[38;5;241m==\u001b[39m app_err_info\u001b[38;5;241m.\u001b[39mREPOSITORY_LOCKED:\n\u001b[1;32m    336\u001b[0m         detail \u001b[38;5;241m=\u001b[39m app_err_info\u001b[38;5;241m.\u001b[39mREPOSITORY_LOCKED_DETAIL\n\u001b[0;32m--> 337\u001b[0m     \u001b[38;5;28;01mraise\u001b[39;00m RequestException(title, detail)\n\u001b[1;32m    338\u001b[0m \u001b[38;5;28;01melif\u001b[39;00m response\u001b[38;5;241m.\u001b[39mstatus_code \u001b[38;5;241m==\u001b[39m \u001b[38;5;241m401\u001b[39m:\n\u001b[1;32m    339\u001b[0m     \u001b[38;5;28;01mraise\u001b[39;00m UnauthorizedException\n",
            "\u001b[0;31mRequestException\u001b[0m: (\"No repository for identifier '16738479773463221'\", 'Requested resource does not exist')"
          ]
        }
      ],
      "source": [
        "# request exception if wrong repo_id\n",
        "lib_repo_dev_id = \"16738479773463221\"\n",
        "dataset_id = \"GSE140509_GPL1679\"\n",
        "file_paths = omixatlas.get_all_file_paths(lib_repo_dev_id, dataset_id)\n",
        "print(\"----file paths-------\")\n",
        "print(file_paths)"
      ]
    },
    {
      "cell_type": "code",
      "execution_count": null,
      "metadata": {},
      "outputs": [],
      "source": [
        "### Delete Dataset testing"
      ]
    },
    {
      "cell_type": "code",
      "execution_count": 9,
      "metadata": {},
      "outputs": [
        {
          "ename": "paramException",
          "evalue": "paramException (parameter error): repo_id, ['1673847977346'] should be str or int",
          "output_type": "error",
          "traceback": [
            "\u001b[0;31m---------------------------------------------------------------------------\u001b[0m",
            "\u001b[0;31mparamException\u001b[0m                            Traceback (most recent call last)",
            "Input \u001b[0;32mIn [9]\u001b[0m, in \u001b[0;36m<cell line: 5>\u001b[0;34m()\u001b[0m\n\u001b[1;32m      3\u001b[0m repo_id \u001b[38;5;241m=\u001b[39m [\u001b[38;5;124m\"\u001b[39m\u001b[38;5;124m1673847977346\u001b[39m\u001b[38;5;124m\"\u001b[39m]\n\u001b[1;32m      4\u001b[0m dataset_file_path_dict \u001b[38;5;241m=\u001b[39m {\u001b[38;5;124m\"\u001b[39m\u001b[38;5;124mGSE140509_GPL16791\u001b[39m\u001b[38;5;124m\"\u001b[39m:[\u001b[38;5;124m\"\u001b[39m\u001b[38;5;124mtranscriptomics_207s/GSE140509_GPL16791.gct\u001b[39m\u001b[38;5;124m\"\u001b[39m]}\n\u001b[0;32m----> 5\u001b[0m \u001b[43momixatlas\u001b[49m\u001b[38;5;241;43m.\u001b[39;49m\u001b[43mdelete_datasets\u001b[49m\u001b[43m(\u001b[49m\u001b[43mrepo_id\u001b[49m\u001b[43m,\u001b[49m\u001b[43m \u001b[49m\u001b[43mdataset_id\u001b[49m\u001b[43m,\u001b[49m\u001b[43m \u001b[49m\u001b[43mdataset_file_path_dict\u001b[49m\u001b[38;5;241;43m=\u001b[39;49m\u001b[43mdataset_file_path_dict\u001b[49m\u001b[43m)\u001b[49m\n",
            "File \u001b[0;32m/usr/local/lib/python3.10/site-packages/polly/tracking.py:59\u001b[0m, in \u001b[0;36mTrack.track_decorator.<locals>.wrapper_function\u001b[0;34m(*args, **kwargs)\u001b[0m\n\u001b[1;32m     57\u001b[0m         \u001b[38;5;28;01mreturn\u001b[39;00m result\n\u001b[1;32m     58\u001b[0m \u001b[38;5;28;01melse\u001b[39;00m:\n\u001b[0;32m---> 59\u001b[0m     \u001b[38;5;28;01mraise\u001b[39;00m returned_err\n",
            "File \u001b[0;32m/usr/local/lib/python3.10/site-packages/polly/tracking.py:22\u001b[0m, in \u001b[0;36mTrack.track_decorator.<locals>.wrapper_function\u001b[0;34m(*args, **kwargs)\u001b[0m\n\u001b[1;32m     20\u001b[0m execution_flag \u001b[38;5;241m=\u001b[39m \u001b[38;5;28;01mFalse\u001b[39;00m\n\u001b[1;32m     21\u001b[0m \u001b[38;5;28;01mtry\u001b[39;00m:\n\u001b[0;32m---> 22\u001b[0m     result \u001b[38;5;241m=\u001b[39m \u001b[43mfunction\u001b[49m\u001b[43m(\u001b[49m\u001b[38;5;241;43m*\u001b[39;49m\u001b[43margs\u001b[49m\u001b[43m,\u001b[49m\u001b[43m \u001b[49m\u001b[38;5;241;43m*\u001b[39;49m\u001b[38;5;241;43m*\u001b[39;49m\u001b[43mkwargs\u001b[49m\u001b[43m)\u001b[49m\n\u001b[1;32m     23\u001b[0m     execution_flag \u001b[38;5;241m=\u001b[39m \u001b[38;5;28;01mTrue\u001b[39;00m\n\u001b[1;32m     24\u001b[0m \u001b[38;5;28;01mexcept\u001b[39;00m \u001b[38;5;167;01mException\u001b[39;00m \u001b[38;5;28;01mas\u001b[39;00m e:\n",
            "File \u001b[0;32m/usr/local/lib/python3.10/site-packages/polly/omixatlas.py:1508\u001b[0m, in \u001b[0;36mOmixAtlas.delete_datasets\u001b[0;34m(self, repo_id, dataset_ids, dataset_file_path_dict)\u001b[0m\n\u001b[1;32m   1447\u001b[0m     \u001b[38;5;66;03m# # this line is making the code unreachable -> will look into it later\u001b[39;00m\n\u001b[1;32m   1448\u001b[0m     \u001b[38;5;66;03m# omix_hlpr.parameter_check_for_delete_dataset(\u001b[39;00m\n\u001b[1;32m   1449\u001b[0m     \u001b[38;5;66;03m#     repo_id, dataset_ids, dataset_file_path_dict\u001b[39;00m\n\u001b[0;32m   (...)\u001b[0m\n\u001b[1;32m   1504\u001b[0m     \u001b[38;5;66;03m# else:\u001b[39;00m\n\u001b[1;32m   1505\u001b[0m     \u001b[38;5;66;03m#     print(const.DELETION_OPERATION_UNSUCCESSFUL_FOR_ALL_DATASET_IDS)\u001b[39;00m\n\u001b[1;32m   1507\u001b[0m \u001b[38;5;28;01mexcept\u001b[39;00m \u001b[38;5;167;01mException\u001b[39;00m \u001b[38;5;28;01mas\u001b[39;00m err:\n\u001b[0;32m-> 1508\u001b[0m     \u001b[38;5;28;01mraise\u001b[39;00m err\n",
            "File \u001b[0;32m/usr/local/lib/python3.10/site-packages/polly/omixatlas.py:1443\u001b[0m, in \u001b[0;36mOmixAtlas.delete_datasets\u001b[0;34m(self, repo_id, dataset_ids, dataset_file_path_dict)\u001b[0m\n\u001b[1;32m   1441\u001b[0m \u001b[38;5;28;01mtry\u001b[39;00m:\n\u001b[1;32m   1442\u001b[0m     files_obj \u001b[38;5;241m=\u001b[39m Files()\n\u001b[0;32m-> 1443\u001b[0m     \u001b[43mfiles_obj\u001b[49m\u001b[38;5;241;43m.\u001b[39;49m\u001b[43mdelete_datasets\u001b[49m\u001b[43m(\u001b[49m\n\u001b[1;32m   1444\u001b[0m \u001b[43m        \u001b[49m\u001b[38;5;28;43mself\u001b[39;49m\u001b[43m,\u001b[49m\u001b[43m \u001b[49m\u001b[43mrepo_id\u001b[49m\u001b[43m,\u001b[49m\u001b[43m \u001b[49m\u001b[43mdataset_ids\u001b[49m\u001b[43m,\u001b[49m\u001b[43m \u001b[49m\u001b[43mdataset_file_path_dict\u001b[49m\n\u001b[1;32m   1445\u001b[0m \u001b[43m    \u001b[49m\u001b[43m)\u001b[49m\n\u001b[1;32m   1447\u001b[0m     \u001b[38;5;66;03m# # this line is making the code unreachable -> will look into it later\u001b[39;00m\n\u001b[1;32m   1448\u001b[0m     \u001b[38;5;66;03m# omix_hlpr.parameter_check_for_delete_dataset(\u001b[39;00m\n\u001b[1;32m   1449\u001b[0m     \u001b[38;5;66;03m#     repo_id, dataset_ids, dataset_file_path_dict\u001b[39;00m\n\u001b[0;32m   (...)\u001b[0m\n\u001b[1;32m   1504\u001b[0m     \u001b[38;5;66;03m# else:\u001b[39;00m\n\u001b[1;32m   1505\u001b[0m     \u001b[38;5;66;03m#     print(const.DELETION_OPERATION_UNSUCCESSFUL_FOR_ALL_DATASET_IDS)\u001b[39;00m\n\u001b[1;32m   1507\u001b[0m \u001b[38;5;28;01mexcept\u001b[39;00m \u001b[38;5;167;01mException\u001b[39;00m \u001b[38;5;28;01mas\u001b[39;00m err:\n",
            "File \u001b[0;32m/usr/local/lib/python3.10/site-packages/polly_services/files/files.py:412\u001b[0m, in \u001b[0;36mFiles.delete_datasets\u001b[0;34m(self, polly_session, repo_id, dataset_ids, dataset_file_path_dict)\u001b[0m\n\u001b[1;32m    409\u001b[0m         \u001b[38;5;28mprint\u001b[39m(const\u001b[38;5;241m.\u001b[39mDELETION_OPERATION_UNSUCCESSFUL_FOR_ALL_DATASET_IDS)\n\u001b[1;32m    411\u001b[0m \u001b[38;5;28;01mexcept\u001b[39;00m \u001b[38;5;167;01mException\u001b[39;00m \u001b[38;5;28;01mas\u001b[39;00m err:\n\u001b[0;32m--> 412\u001b[0m     \u001b[38;5;28;01mraise\u001b[39;00m err\n",
            "File \u001b[0;32m/usr/local/lib/python3.10/site-packages/polly_services/files/files.py:350\u001b[0m, in \u001b[0;36mFiles.delete_datasets\u001b[0;34m(self, polly_session, repo_id, dataset_ids, dataset_file_path_dict)\u001b[0m\n\u001b[1;32m    338\u001b[0m \u001b[38;5;124;03m\"\"\"Delete Datasets\u001b[39;00m\n\u001b[1;32m    339\u001b[0m \n\u001b[1;32m    340\u001b[0m \u001b[38;5;124;03mArgs:\u001b[39;00m\n\u001b[0;32m   (...)\u001b[0m\n\u001b[1;32m    347\u001b[0m \u001b[38;5;124;03m    err: _description_\u001b[39;00m\n\u001b[1;32m    348\u001b[0m \u001b[38;5;124;03m\"\"\"\u001b[39;00m\n\u001b[1;32m    349\u001b[0m \u001b[38;5;28;01mtry\u001b[39;00m:\n\u001b[0;32m--> 350\u001b[0m     \u001b[43mfiles_hlpr\u001b[49m\u001b[38;5;241;43m.\u001b[39;49m\u001b[43mparameter_check_for_delete_dataset\u001b[49m\u001b[43m(\u001b[49m\n\u001b[1;32m    351\u001b[0m \u001b[43m        \u001b[49m\u001b[43mrepo_id\u001b[49m\u001b[43m,\u001b[49m\u001b[43m \u001b[49m\u001b[43mdataset_ids\u001b[49m\u001b[43m,\u001b[49m\u001b[43m \u001b[49m\u001b[43mdataset_file_path_dict\u001b[49m\n\u001b[1;32m    352\u001b[0m \u001b[43m    \u001b[49m\u001b[43m)\u001b[49m\n\u001b[1;32m    354\u001b[0m     repo_id \u001b[38;5;241m=\u001b[39m polly_services_hlpr\u001b[38;5;241m.\u001b[39mmake_repo_id_string(repo_id)\n\u001b[1;32m    356\u001b[0m     \u001b[38;5;66;03m# check if dataset_file_path_dict keys subset of dataset_ids\u001b[39;00m\n",
            "File \u001b[0;32m/usr/local/lib/python3.10/site-packages/polly_services/files/files_hlpr.py:2327\u001b[0m, in \u001b[0;36mparameter_check_for_delete_dataset\u001b[0;34m(repo_id, dataset_ids, dataset_file_path_dict)\u001b[0m\n\u001b[1;32m   2325\u001b[0m     dataset_file_path_dict_type_check_in_delete_datasets(dataset_file_path_dict)\n\u001b[1;32m   2326\u001b[0m \u001b[38;5;28;01mexcept\u001b[39;00m \u001b[38;5;167;01mException\u001b[39;00m \u001b[38;5;28;01mas\u001b[39;00m err:\n\u001b[0;32m-> 2327\u001b[0m     \u001b[38;5;28;01mraise\u001b[39;00m err\n",
            "File \u001b[0;32m/usr/local/lib/python3.10/site-packages/polly_services/files/files_hlpr.py:2323\u001b[0m, in \u001b[0;36mparameter_check_for_delete_dataset\u001b[0;34m(repo_id, dataset_ids, dataset_file_path_dict)\u001b[0m\n\u001b[1;32m   2319\u001b[0m \u001b[38;5;124;03m\"\"\"\u001b[39;00m\n\u001b[1;32m   2320\u001b[0m \u001b[38;5;124;03mSanity check for all the parameters of delete datasets\u001b[39;00m\n\u001b[1;32m   2321\u001b[0m \u001b[38;5;124;03m\"\"\"\u001b[39;00m\n\u001b[1;32m   2322\u001b[0m \u001b[38;5;28;01mtry\u001b[39;00m:\n\u001b[0;32m-> 2323\u001b[0m     \u001b[43mpolly_services_hlpr\u001b[49m\u001b[38;5;241;43m.\u001b[39;49m\u001b[43mparameter_check_for_repo_id\u001b[49m\u001b[43m(\u001b[49m\u001b[43mrepo_id\u001b[49m\u001b[43m)\u001b[49m\n\u001b[1;32m   2324\u001b[0m     parameter_check_for_list_dataset_ids(dataset_ids)\n\u001b[1;32m   2325\u001b[0m     dataset_file_path_dict_type_check_in_delete_datasets(dataset_file_path_dict)\n",
            "File \u001b[0;32m/usr/local/lib/python3.10/site-packages/polly_services/polly_services_hlpr.py:21\u001b[0m, in \u001b[0;36mparameter_check_for_repo_id\u001b[0;34m(repo_id)\u001b[0m\n\u001b[1;32m     15\u001b[0m     \u001b[38;5;28;01mraise\u001b[39;00m paramException(\n\u001b[1;32m     16\u001b[0m         title\u001b[38;5;241m=\u001b[39m\u001b[38;5;124m\"\u001b[39m\u001b[38;5;124mParam Error\u001b[39m\u001b[38;5;124m\"\u001b[39m,\n\u001b[1;32m     17\u001b[0m         detail\u001b[38;5;241m=\u001b[39m\u001b[38;5;124m\"\u001b[39m\u001b[38;5;124mrepo_id should not be empty\u001b[39m\u001b[38;5;124m\"\u001b[39m,\n\u001b[1;32m     18\u001b[0m     )\n\u001b[1;32m     20\u001b[0m \u001b[38;5;28;01mif\u001b[39;00m \u001b[38;5;129;01mnot\u001b[39;00m \u001b[38;5;28misinstance\u001b[39m(repo_id, (\u001b[38;5;28mstr\u001b[39m, \u001b[38;5;28mint\u001b[39m)):\n\u001b[0;32m---> 21\u001b[0m     \u001b[38;5;28;01mraise\u001b[39;00m paramException(\n\u001b[1;32m     22\u001b[0m         title\u001b[38;5;241m=\u001b[39m\u001b[38;5;124m\"\u001b[39m\u001b[38;5;124mParam Error\u001b[39m\u001b[38;5;124m\"\u001b[39m,\n\u001b[1;32m     23\u001b[0m         detail\u001b[38;5;241m=\u001b[39m\u001b[38;5;124mf\u001b[39m\u001b[38;5;124m\"\u001b[39m\u001b[38;5;124mrepo_id, \u001b[39m\u001b[38;5;132;01m{\u001b[39;00mrepo_id\u001b[38;5;132;01m}\u001b[39;00m\u001b[38;5;124m should be str or int\u001b[39m\u001b[38;5;124m\"\u001b[39m,\n\u001b[1;32m     24\u001b[0m     )\n",
            "\u001b[0;31mparamException\u001b[0m: paramException (parameter error): repo_id, ['1673847977346'] should be str or int"
          ]
        }
      ],
      "source": [
        "# repo_id in the type\n",
        "dataset_id = [\"GSE140509_GPL16791\"]\n",
        "repo_id = [\"1673847977346\"]\n",
        "dataset_file_path_dict = {\"GSE140509_GPL16791\":[\"transcriptomics_207s/GSE140509_GPL16791.gct\"]}\n",
        "omixatlas.delete_datasets(repo_id, dataset_id, dataset_file_path_dict=dataset_file_path_dict)"
      ]
    },
    {
      "cell_type": "code",
      "execution_count": 10,
      "metadata": {},
      "outputs": [
        {
          "ename": "paramException",
          "evalue": "paramException (parameter error): dataset_ids should be list of strings",
          "output_type": "error",
          "traceback": [
            "\u001b[0;31m---------------------------------------------------------------------------\u001b[0m",
            "\u001b[0;31mparamException\u001b[0m                            Traceback (most recent call last)",
            "Input \u001b[0;32mIn [10]\u001b[0m, in \u001b[0;36m<cell line: 5>\u001b[0;34m()\u001b[0m\n\u001b[1;32m      3\u001b[0m repo_id \u001b[38;5;241m=\u001b[39m \u001b[38;5;124m\"\u001b[39m\u001b[38;5;124m1673847977346\u001b[39m\u001b[38;5;124m\"\u001b[39m\n\u001b[1;32m      4\u001b[0m dataset_file_path_dict \u001b[38;5;241m=\u001b[39m {\u001b[38;5;124m\"\u001b[39m\u001b[38;5;124mGSE140509_GPL16791\u001b[39m\u001b[38;5;124m\"\u001b[39m:[\u001b[38;5;124m\"\u001b[39m\u001b[38;5;124mtranscriptomics_207s/GSE140509_GPL16791.gct\u001b[39m\u001b[38;5;124m\"\u001b[39m]}\n\u001b[0;32m----> 5\u001b[0m \u001b[43momixatlas\u001b[49m\u001b[38;5;241;43m.\u001b[39;49m\u001b[43mdelete_datasets\u001b[49m\u001b[43m(\u001b[49m\u001b[43mrepo_id\u001b[49m\u001b[43m,\u001b[49m\u001b[43m \u001b[49m\u001b[43mdataset_id\u001b[49m\u001b[43m,\u001b[49m\u001b[43m \u001b[49m\u001b[43mdataset_file_path_dict\u001b[49m\u001b[38;5;241;43m=\u001b[39;49m\u001b[43mdataset_file_path_dict\u001b[49m\u001b[43m)\u001b[49m\n",
            "File \u001b[0;32m/usr/local/lib/python3.10/site-packages/polly/tracking.py:59\u001b[0m, in \u001b[0;36mTrack.track_decorator.<locals>.wrapper_function\u001b[0;34m(*args, **kwargs)\u001b[0m\n\u001b[1;32m     57\u001b[0m         \u001b[38;5;28;01mreturn\u001b[39;00m result\n\u001b[1;32m     58\u001b[0m \u001b[38;5;28;01melse\u001b[39;00m:\n\u001b[0;32m---> 59\u001b[0m     \u001b[38;5;28;01mraise\u001b[39;00m returned_err\n",
            "File \u001b[0;32m/usr/local/lib/python3.10/site-packages/polly/tracking.py:22\u001b[0m, in \u001b[0;36mTrack.track_decorator.<locals>.wrapper_function\u001b[0;34m(*args, **kwargs)\u001b[0m\n\u001b[1;32m     20\u001b[0m execution_flag \u001b[38;5;241m=\u001b[39m \u001b[38;5;28;01mFalse\u001b[39;00m\n\u001b[1;32m     21\u001b[0m \u001b[38;5;28;01mtry\u001b[39;00m:\n\u001b[0;32m---> 22\u001b[0m     result \u001b[38;5;241m=\u001b[39m \u001b[43mfunction\u001b[49m\u001b[43m(\u001b[49m\u001b[38;5;241;43m*\u001b[39;49m\u001b[43margs\u001b[49m\u001b[43m,\u001b[49m\u001b[43m \u001b[49m\u001b[38;5;241;43m*\u001b[39;49m\u001b[38;5;241;43m*\u001b[39;49m\u001b[43mkwargs\u001b[49m\u001b[43m)\u001b[49m\n\u001b[1;32m     23\u001b[0m     execution_flag \u001b[38;5;241m=\u001b[39m \u001b[38;5;28;01mTrue\u001b[39;00m\n\u001b[1;32m     24\u001b[0m \u001b[38;5;28;01mexcept\u001b[39;00m \u001b[38;5;167;01mException\u001b[39;00m \u001b[38;5;28;01mas\u001b[39;00m e:\n",
            "File \u001b[0;32m/usr/local/lib/python3.10/site-packages/polly/omixatlas.py:1508\u001b[0m, in \u001b[0;36mOmixAtlas.delete_datasets\u001b[0;34m(self, repo_id, dataset_ids, dataset_file_path_dict)\u001b[0m\n\u001b[1;32m   1447\u001b[0m     \u001b[38;5;66;03m# # this line is making the code unreachable -> will look into it later\u001b[39;00m\n\u001b[1;32m   1448\u001b[0m     \u001b[38;5;66;03m# omix_hlpr.parameter_check_for_delete_dataset(\u001b[39;00m\n\u001b[1;32m   1449\u001b[0m     \u001b[38;5;66;03m#     repo_id, dataset_ids, dataset_file_path_dict\u001b[39;00m\n\u001b[0;32m   (...)\u001b[0m\n\u001b[1;32m   1504\u001b[0m     \u001b[38;5;66;03m# else:\u001b[39;00m\n\u001b[1;32m   1505\u001b[0m     \u001b[38;5;66;03m#     print(const.DELETION_OPERATION_UNSUCCESSFUL_FOR_ALL_DATASET_IDS)\u001b[39;00m\n\u001b[1;32m   1507\u001b[0m \u001b[38;5;28;01mexcept\u001b[39;00m \u001b[38;5;167;01mException\u001b[39;00m \u001b[38;5;28;01mas\u001b[39;00m err:\n\u001b[0;32m-> 1508\u001b[0m     \u001b[38;5;28;01mraise\u001b[39;00m err\n",
            "File \u001b[0;32m/usr/local/lib/python3.10/site-packages/polly/omixatlas.py:1443\u001b[0m, in \u001b[0;36mOmixAtlas.delete_datasets\u001b[0;34m(self, repo_id, dataset_ids, dataset_file_path_dict)\u001b[0m\n\u001b[1;32m   1441\u001b[0m \u001b[38;5;28;01mtry\u001b[39;00m:\n\u001b[1;32m   1442\u001b[0m     files_obj \u001b[38;5;241m=\u001b[39m Files()\n\u001b[0;32m-> 1443\u001b[0m     \u001b[43mfiles_obj\u001b[49m\u001b[38;5;241;43m.\u001b[39;49m\u001b[43mdelete_datasets\u001b[49m\u001b[43m(\u001b[49m\n\u001b[1;32m   1444\u001b[0m \u001b[43m        \u001b[49m\u001b[38;5;28;43mself\u001b[39;49m\u001b[43m,\u001b[49m\u001b[43m \u001b[49m\u001b[43mrepo_id\u001b[49m\u001b[43m,\u001b[49m\u001b[43m \u001b[49m\u001b[43mdataset_ids\u001b[49m\u001b[43m,\u001b[49m\u001b[43m \u001b[49m\u001b[43mdataset_file_path_dict\u001b[49m\n\u001b[1;32m   1445\u001b[0m \u001b[43m    \u001b[49m\u001b[43m)\u001b[49m\n\u001b[1;32m   1447\u001b[0m     \u001b[38;5;66;03m# # this line is making the code unreachable -> will look into it later\u001b[39;00m\n\u001b[1;32m   1448\u001b[0m     \u001b[38;5;66;03m# omix_hlpr.parameter_check_for_delete_dataset(\u001b[39;00m\n\u001b[1;32m   1449\u001b[0m     \u001b[38;5;66;03m#     repo_id, dataset_ids, dataset_file_path_dict\u001b[39;00m\n\u001b[0;32m   (...)\u001b[0m\n\u001b[1;32m   1504\u001b[0m     \u001b[38;5;66;03m# else:\u001b[39;00m\n\u001b[1;32m   1505\u001b[0m     \u001b[38;5;66;03m#     print(const.DELETION_OPERATION_UNSUCCESSFUL_FOR_ALL_DATASET_IDS)\u001b[39;00m\n\u001b[1;32m   1507\u001b[0m \u001b[38;5;28;01mexcept\u001b[39;00m \u001b[38;5;167;01mException\u001b[39;00m \u001b[38;5;28;01mas\u001b[39;00m err:\n",
            "File \u001b[0;32m/usr/local/lib/python3.10/site-packages/polly_services/files/files.py:412\u001b[0m, in \u001b[0;36mFiles.delete_datasets\u001b[0;34m(self, polly_session, repo_id, dataset_ids, dataset_file_path_dict)\u001b[0m\n\u001b[1;32m    409\u001b[0m         \u001b[38;5;28mprint\u001b[39m(const\u001b[38;5;241m.\u001b[39mDELETION_OPERATION_UNSUCCESSFUL_FOR_ALL_DATASET_IDS)\n\u001b[1;32m    411\u001b[0m \u001b[38;5;28;01mexcept\u001b[39;00m \u001b[38;5;167;01mException\u001b[39;00m \u001b[38;5;28;01mas\u001b[39;00m err:\n\u001b[0;32m--> 412\u001b[0m     \u001b[38;5;28;01mraise\u001b[39;00m err\n",
            "File \u001b[0;32m/usr/local/lib/python3.10/site-packages/polly_services/files/files.py:350\u001b[0m, in \u001b[0;36mFiles.delete_datasets\u001b[0;34m(self, polly_session, repo_id, dataset_ids, dataset_file_path_dict)\u001b[0m\n\u001b[1;32m    338\u001b[0m \u001b[38;5;124;03m\"\"\"Delete Datasets\u001b[39;00m\n\u001b[1;32m    339\u001b[0m \n\u001b[1;32m    340\u001b[0m \u001b[38;5;124;03mArgs:\u001b[39;00m\n\u001b[0;32m   (...)\u001b[0m\n\u001b[1;32m    347\u001b[0m \u001b[38;5;124;03m    err: _description_\u001b[39;00m\n\u001b[1;32m    348\u001b[0m \u001b[38;5;124;03m\"\"\"\u001b[39;00m\n\u001b[1;32m    349\u001b[0m \u001b[38;5;28;01mtry\u001b[39;00m:\n\u001b[0;32m--> 350\u001b[0m     \u001b[43mfiles_hlpr\u001b[49m\u001b[38;5;241;43m.\u001b[39;49m\u001b[43mparameter_check_for_delete_dataset\u001b[49m\u001b[43m(\u001b[49m\n\u001b[1;32m    351\u001b[0m \u001b[43m        \u001b[49m\u001b[43mrepo_id\u001b[49m\u001b[43m,\u001b[49m\u001b[43m \u001b[49m\u001b[43mdataset_ids\u001b[49m\u001b[43m,\u001b[49m\u001b[43m \u001b[49m\u001b[43mdataset_file_path_dict\u001b[49m\n\u001b[1;32m    352\u001b[0m \u001b[43m    \u001b[49m\u001b[43m)\u001b[49m\n\u001b[1;32m    354\u001b[0m     repo_id \u001b[38;5;241m=\u001b[39m polly_services_hlpr\u001b[38;5;241m.\u001b[39mmake_repo_id_string(repo_id)\n\u001b[1;32m    356\u001b[0m     \u001b[38;5;66;03m# check if dataset_file_path_dict keys subset of dataset_ids\u001b[39;00m\n",
            "File \u001b[0;32m/usr/local/lib/python3.10/site-packages/polly_services/files/files_hlpr.py:2327\u001b[0m, in \u001b[0;36mparameter_check_for_delete_dataset\u001b[0;34m(repo_id, dataset_ids, dataset_file_path_dict)\u001b[0m\n\u001b[1;32m   2325\u001b[0m     dataset_file_path_dict_type_check_in_delete_datasets(dataset_file_path_dict)\n\u001b[1;32m   2326\u001b[0m \u001b[38;5;28;01mexcept\u001b[39;00m \u001b[38;5;167;01mException\u001b[39;00m \u001b[38;5;28;01mas\u001b[39;00m err:\n\u001b[0;32m-> 2327\u001b[0m     \u001b[38;5;28;01mraise\u001b[39;00m err\n",
            "File \u001b[0;32m/usr/local/lib/python3.10/site-packages/polly_services/files/files_hlpr.py:2324\u001b[0m, in \u001b[0;36mparameter_check_for_delete_dataset\u001b[0;34m(repo_id, dataset_ids, dataset_file_path_dict)\u001b[0m\n\u001b[1;32m   2322\u001b[0m \u001b[38;5;28;01mtry\u001b[39;00m:\n\u001b[1;32m   2323\u001b[0m     polly_services_hlpr\u001b[38;5;241m.\u001b[39mparameter_check_for_repo_id(repo_id)\n\u001b[0;32m-> 2324\u001b[0m     \u001b[43mparameter_check_for_list_dataset_ids\u001b[49m\u001b[43m(\u001b[49m\u001b[43mdataset_ids\u001b[49m\u001b[43m)\u001b[49m\n\u001b[1;32m   2325\u001b[0m     dataset_file_path_dict_type_check_in_delete_datasets(dataset_file_path_dict)\n\u001b[1;32m   2326\u001b[0m \u001b[38;5;28;01mexcept\u001b[39;00m \u001b[38;5;167;01mException\u001b[39;00m \u001b[38;5;28;01mas\u001b[39;00m err:\n",
            "File \u001b[0;32m/usr/local/lib/python3.10/site-packages/polly_services/files/files_hlpr.py:2205\u001b[0m, in \u001b[0;36mparameter_check_for_list_dataset_ids\u001b[0;34m(dataset_ids)\u001b[0m\n\u001b[1;32m   2197\u001b[0m \u001b[38;5;124;03m\"\"\"Checking for validity of repo id\u001b[39;00m\n\u001b[1;32m   2198\u001b[0m \u001b[38;5;124;03mArgs:\u001b[39;00m\n\u001b[1;32m   2199\u001b[0m \u001b[38;5;124;03m    dataset_id (): Dataset Id of the dataset\u001b[39;00m\n\u001b[0;32m   (...)\u001b[0m\n\u001b[1;32m   2202\u001b[0m \u001b[38;5;124;03m    paramException: Error if dataset id is empty or is not str\u001b[39;00m\n\u001b[1;32m   2203\u001b[0m \u001b[38;5;124;03m\"\"\"\u001b[39;00m\n\u001b[1;32m   2204\u001b[0m \u001b[38;5;28;01mif\u001b[39;00m \u001b[38;5;129;01mnot\u001b[39;00m (dataset_ids \u001b[38;5;129;01mand\u001b[39;00m \u001b[38;5;28misinstance\u001b[39m(dataset_ids, \u001b[38;5;28mlist\u001b[39m)):\n\u001b[0;32m-> 2205\u001b[0m     \u001b[38;5;28;01mraise\u001b[39;00m paramException(\n\u001b[1;32m   2206\u001b[0m         title\u001b[38;5;241m=\u001b[39m\u001b[38;5;124m\"\u001b[39m\u001b[38;5;124mParam Error\u001b[39m\u001b[38;5;124m\"\u001b[39m,\n\u001b[1;32m   2207\u001b[0m         detail\u001b[38;5;241m=\u001b[39m\u001b[38;5;124m\"\u001b[39m\u001b[38;5;124mdataset_ids should be list of strings\u001b[39m\u001b[38;5;124m\"\u001b[39m,\n\u001b[1;32m   2208\u001b[0m     )\n",
            "\u001b[0;31mparamException\u001b[0m: paramException (parameter error): dataset_ids should be list of strings"
          ]
        }
      ],
      "source": [
        "# dataset_id of wrong type\n",
        "dataset_id = \"GSE140509_GPL16791\"\n",
        "repo_id = \"1673847977346\"\n",
        "dataset_file_path_dict = {\"GSE140509_GPL16791\":[\"transcriptomics_207s/GSE140509_GPL16791.gct\"]}\n",
        "omixatlas.delete_datasets(repo_id, dataset_id, dataset_file_path_dict=dataset_file_path_dict)"
      ]
    },
    {
      "cell_type": "code",
      "execution_count": 11,
      "metadata": {},
      "outputs": [
        {
          "ename": "paramException",
          "evalue": "paramException (parameter error): ('dataset_file_path_dict should be dict -> {<dataset_id>:<list_of_paths>}',)",
          "output_type": "error",
          "traceback": [
            "\u001b[0;31m---------------------------------------------------------------------------\u001b[0m",
            "\u001b[0;31mparamException\u001b[0m                            Traceback (most recent call last)",
            "Input \u001b[0;32mIn [11]\u001b[0m, in \u001b[0;36m<cell line: 5>\u001b[0;34m()\u001b[0m\n\u001b[1;32m      3\u001b[0m repo_id \u001b[38;5;241m=\u001b[39m \u001b[38;5;124m\"\u001b[39m\u001b[38;5;124m1673847977346\u001b[39m\u001b[38;5;124m\"\u001b[39m\n\u001b[1;32m      4\u001b[0m dataset_file_path_dict \u001b[38;5;241m=\u001b[39m [\u001b[38;5;124m\"\u001b[39m\u001b[38;5;124mGSE140509_GPL16791\u001b[39m\u001b[38;5;124m\"\u001b[39m,\u001b[38;5;124m\"\u001b[39m\u001b[38;5;124mtranscriptomics_207s/GSE140509_GPL16791.gct\u001b[39m\u001b[38;5;124m\"\u001b[39m]\n\u001b[0;32m----> 5\u001b[0m \u001b[43momixatlas\u001b[49m\u001b[38;5;241;43m.\u001b[39;49m\u001b[43mdelete_datasets\u001b[49m\u001b[43m(\u001b[49m\u001b[43mrepo_id\u001b[49m\u001b[43m,\u001b[49m\u001b[43m \u001b[49m\u001b[43mdataset_id\u001b[49m\u001b[43m,\u001b[49m\u001b[43m \u001b[49m\u001b[43mdataset_file_path_dict\u001b[49m\u001b[38;5;241;43m=\u001b[39;49m\u001b[43mdataset_file_path_dict\u001b[49m\u001b[43m)\u001b[49m\n",
            "File \u001b[0;32m/usr/local/lib/python3.10/site-packages/polly/tracking.py:59\u001b[0m, in \u001b[0;36mTrack.track_decorator.<locals>.wrapper_function\u001b[0;34m(*args, **kwargs)\u001b[0m\n\u001b[1;32m     57\u001b[0m         \u001b[38;5;28;01mreturn\u001b[39;00m result\n\u001b[1;32m     58\u001b[0m \u001b[38;5;28;01melse\u001b[39;00m:\n\u001b[0;32m---> 59\u001b[0m     \u001b[38;5;28;01mraise\u001b[39;00m returned_err\n",
            "File \u001b[0;32m/usr/local/lib/python3.10/site-packages/polly/tracking.py:22\u001b[0m, in \u001b[0;36mTrack.track_decorator.<locals>.wrapper_function\u001b[0;34m(*args, **kwargs)\u001b[0m\n\u001b[1;32m     20\u001b[0m execution_flag \u001b[38;5;241m=\u001b[39m \u001b[38;5;28;01mFalse\u001b[39;00m\n\u001b[1;32m     21\u001b[0m \u001b[38;5;28;01mtry\u001b[39;00m:\n\u001b[0;32m---> 22\u001b[0m     result \u001b[38;5;241m=\u001b[39m \u001b[43mfunction\u001b[49m\u001b[43m(\u001b[49m\u001b[38;5;241;43m*\u001b[39;49m\u001b[43margs\u001b[49m\u001b[43m,\u001b[49m\u001b[43m \u001b[49m\u001b[38;5;241;43m*\u001b[39;49m\u001b[38;5;241;43m*\u001b[39;49m\u001b[43mkwargs\u001b[49m\u001b[43m)\u001b[49m\n\u001b[1;32m     23\u001b[0m     execution_flag \u001b[38;5;241m=\u001b[39m \u001b[38;5;28;01mTrue\u001b[39;00m\n\u001b[1;32m     24\u001b[0m \u001b[38;5;28;01mexcept\u001b[39;00m \u001b[38;5;167;01mException\u001b[39;00m \u001b[38;5;28;01mas\u001b[39;00m e:\n",
            "File \u001b[0;32m/usr/local/lib/python3.10/site-packages/polly/omixatlas.py:1508\u001b[0m, in \u001b[0;36mOmixAtlas.delete_datasets\u001b[0;34m(self, repo_id, dataset_ids, dataset_file_path_dict)\u001b[0m\n\u001b[1;32m   1447\u001b[0m     \u001b[38;5;66;03m# # this line is making the code unreachable -> will look into it later\u001b[39;00m\n\u001b[1;32m   1448\u001b[0m     \u001b[38;5;66;03m# omix_hlpr.parameter_check_for_delete_dataset(\u001b[39;00m\n\u001b[1;32m   1449\u001b[0m     \u001b[38;5;66;03m#     repo_id, dataset_ids, dataset_file_path_dict\u001b[39;00m\n\u001b[0;32m   (...)\u001b[0m\n\u001b[1;32m   1504\u001b[0m     \u001b[38;5;66;03m# else:\u001b[39;00m\n\u001b[1;32m   1505\u001b[0m     \u001b[38;5;66;03m#     print(const.DELETION_OPERATION_UNSUCCESSFUL_FOR_ALL_DATASET_IDS)\u001b[39;00m\n\u001b[1;32m   1507\u001b[0m \u001b[38;5;28;01mexcept\u001b[39;00m \u001b[38;5;167;01mException\u001b[39;00m \u001b[38;5;28;01mas\u001b[39;00m err:\n\u001b[0;32m-> 1508\u001b[0m     \u001b[38;5;28;01mraise\u001b[39;00m err\n",
            "File \u001b[0;32m/usr/local/lib/python3.10/site-packages/polly/omixatlas.py:1443\u001b[0m, in \u001b[0;36mOmixAtlas.delete_datasets\u001b[0;34m(self, repo_id, dataset_ids, dataset_file_path_dict)\u001b[0m\n\u001b[1;32m   1441\u001b[0m \u001b[38;5;28;01mtry\u001b[39;00m:\n\u001b[1;32m   1442\u001b[0m     files_obj \u001b[38;5;241m=\u001b[39m Files()\n\u001b[0;32m-> 1443\u001b[0m     \u001b[43mfiles_obj\u001b[49m\u001b[38;5;241;43m.\u001b[39;49m\u001b[43mdelete_datasets\u001b[49m\u001b[43m(\u001b[49m\n\u001b[1;32m   1444\u001b[0m \u001b[43m        \u001b[49m\u001b[38;5;28;43mself\u001b[39;49m\u001b[43m,\u001b[49m\u001b[43m \u001b[49m\u001b[43mrepo_id\u001b[49m\u001b[43m,\u001b[49m\u001b[43m \u001b[49m\u001b[43mdataset_ids\u001b[49m\u001b[43m,\u001b[49m\u001b[43m \u001b[49m\u001b[43mdataset_file_path_dict\u001b[49m\n\u001b[1;32m   1445\u001b[0m \u001b[43m    \u001b[49m\u001b[43m)\u001b[49m\n\u001b[1;32m   1447\u001b[0m     \u001b[38;5;66;03m# # this line is making the code unreachable -> will look into it later\u001b[39;00m\n\u001b[1;32m   1448\u001b[0m     \u001b[38;5;66;03m# omix_hlpr.parameter_check_for_delete_dataset(\u001b[39;00m\n\u001b[1;32m   1449\u001b[0m     \u001b[38;5;66;03m#     repo_id, dataset_ids, dataset_file_path_dict\u001b[39;00m\n\u001b[0;32m   (...)\u001b[0m\n\u001b[1;32m   1504\u001b[0m     \u001b[38;5;66;03m# else:\u001b[39;00m\n\u001b[1;32m   1505\u001b[0m     \u001b[38;5;66;03m#     print(const.DELETION_OPERATION_UNSUCCESSFUL_FOR_ALL_DATASET_IDS)\u001b[39;00m\n\u001b[1;32m   1507\u001b[0m \u001b[38;5;28;01mexcept\u001b[39;00m \u001b[38;5;167;01mException\u001b[39;00m \u001b[38;5;28;01mas\u001b[39;00m err:\n",
            "File \u001b[0;32m/usr/local/lib/python3.10/site-packages/polly_services/files/files.py:412\u001b[0m, in \u001b[0;36mFiles.delete_datasets\u001b[0;34m(self, polly_session, repo_id, dataset_ids, dataset_file_path_dict)\u001b[0m\n\u001b[1;32m    409\u001b[0m         \u001b[38;5;28mprint\u001b[39m(const\u001b[38;5;241m.\u001b[39mDELETION_OPERATION_UNSUCCESSFUL_FOR_ALL_DATASET_IDS)\n\u001b[1;32m    411\u001b[0m \u001b[38;5;28;01mexcept\u001b[39;00m \u001b[38;5;167;01mException\u001b[39;00m \u001b[38;5;28;01mas\u001b[39;00m err:\n\u001b[0;32m--> 412\u001b[0m     \u001b[38;5;28;01mraise\u001b[39;00m err\n",
            "File \u001b[0;32m/usr/local/lib/python3.10/site-packages/polly_services/files/files.py:350\u001b[0m, in \u001b[0;36mFiles.delete_datasets\u001b[0;34m(self, polly_session, repo_id, dataset_ids, dataset_file_path_dict)\u001b[0m\n\u001b[1;32m    338\u001b[0m \u001b[38;5;124;03m\"\"\"Delete Datasets\u001b[39;00m\n\u001b[1;32m    339\u001b[0m \n\u001b[1;32m    340\u001b[0m \u001b[38;5;124;03mArgs:\u001b[39;00m\n\u001b[0;32m   (...)\u001b[0m\n\u001b[1;32m    347\u001b[0m \u001b[38;5;124;03m    err: _description_\u001b[39;00m\n\u001b[1;32m    348\u001b[0m \u001b[38;5;124;03m\"\"\"\u001b[39;00m\n\u001b[1;32m    349\u001b[0m \u001b[38;5;28;01mtry\u001b[39;00m:\n\u001b[0;32m--> 350\u001b[0m     \u001b[43mfiles_hlpr\u001b[49m\u001b[38;5;241;43m.\u001b[39;49m\u001b[43mparameter_check_for_delete_dataset\u001b[49m\u001b[43m(\u001b[49m\n\u001b[1;32m    351\u001b[0m \u001b[43m        \u001b[49m\u001b[43mrepo_id\u001b[49m\u001b[43m,\u001b[49m\u001b[43m \u001b[49m\u001b[43mdataset_ids\u001b[49m\u001b[43m,\u001b[49m\u001b[43m \u001b[49m\u001b[43mdataset_file_path_dict\u001b[49m\n\u001b[1;32m    352\u001b[0m \u001b[43m    \u001b[49m\u001b[43m)\u001b[49m\n\u001b[1;32m    354\u001b[0m     repo_id \u001b[38;5;241m=\u001b[39m polly_services_hlpr\u001b[38;5;241m.\u001b[39mmake_repo_id_string(repo_id)\n\u001b[1;32m    356\u001b[0m     \u001b[38;5;66;03m# check if dataset_file_path_dict keys subset of dataset_ids\u001b[39;00m\n",
            "File \u001b[0;32m/usr/local/lib/python3.10/site-packages/polly_services/files/files_hlpr.py:2327\u001b[0m, in \u001b[0;36mparameter_check_for_delete_dataset\u001b[0;34m(repo_id, dataset_ids, dataset_file_path_dict)\u001b[0m\n\u001b[1;32m   2325\u001b[0m     dataset_file_path_dict_type_check_in_delete_datasets(dataset_file_path_dict)\n\u001b[1;32m   2326\u001b[0m \u001b[38;5;28;01mexcept\u001b[39;00m \u001b[38;5;167;01mException\u001b[39;00m \u001b[38;5;28;01mas\u001b[39;00m err:\n\u001b[0;32m-> 2327\u001b[0m     \u001b[38;5;28;01mraise\u001b[39;00m err\n",
            "File \u001b[0;32m/usr/local/lib/python3.10/site-packages/polly_services/files/files_hlpr.py:2325\u001b[0m, in \u001b[0;36mparameter_check_for_delete_dataset\u001b[0;34m(repo_id, dataset_ids, dataset_file_path_dict)\u001b[0m\n\u001b[1;32m   2323\u001b[0m     polly_services_hlpr\u001b[38;5;241m.\u001b[39mparameter_check_for_repo_id(repo_id)\n\u001b[1;32m   2324\u001b[0m     parameter_check_for_list_dataset_ids(dataset_ids)\n\u001b[0;32m-> 2325\u001b[0m     \u001b[43mdataset_file_path_dict_type_check_in_delete_datasets\u001b[49m\u001b[43m(\u001b[49m\u001b[43mdataset_file_path_dict\u001b[49m\u001b[43m)\u001b[49m\n\u001b[1;32m   2326\u001b[0m \u001b[38;5;28;01mexcept\u001b[39;00m \u001b[38;5;167;01mException\u001b[39;00m \u001b[38;5;28;01mas\u001b[39;00m err:\n\u001b[1;32m   2327\u001b[0m     \u001b[38;5;28;01mraise\u001b[39;00m err\n",
            "File \u001b[0;32m/usr/local/lib/python3.10/site-packages/polly_services/files/files_hlpr.py:2218\u001b[0m, in \u001b[0;36mdataset_file_path_dict_type_check_in_delete_datasets\u001b[0;34m(dataset_file_path_dict)\u001b[0m\n\u001b[1;32m   2212\u001b[0m \u001b[38;5;124;03m\"\"\"dataset_file_path_dict type check in delete datasets\u001b[39;00m\n\u001b[1;32m   2213\u001b[0m \n\u001b[1;32m   2214\u001b[0m \u001b[38;5;124;03mArgs:\u001b[39;00m\n\u001b[1;32m   2215\u001b[0m \u001b[38;5;124;03m    dataset_file_path_dict (dict): dict of dataset_file_path_dict\u001b[39;00m\n\u001b[1;32m   2216\u001b[0m \u001b[38;5;124;03m\"\"\"\u001b[39;00m\n\u001b[1;32m   2217\u001b[0m \u001b[38;5;28;01mif\u001b[39;00m \u001b[38;5;129;01mnot\u001b[39;00m \u001b[38;5;28misinstance\u001b[39m(dataset_file_path_dict, \u001b[38;5;28mdict\u001b[39m):\n\u001b[0;32m-> 2218\u001b[0m     \u001b[38;5;28;01mraise\u001b[39;00m paramException(\n\u001b[1;32m   2219\u001b[0m         title\u001b[38;5;241m=\u001b[39m\u001b[38;5;124m\"\u001b[39m\u001b[38;5;124mParam Error\u001b[39m\u001b[38;5;124m\"\u001b[39m,\n\u001b[1;32m   2220\u001b[0m         detail\u001b[38;5;241m=\u001b[39m(\n\u001b[1;32m   2221\u001b[0m             \u001b[38;5;124m\"\u001b[39m\u001b[38;5;124mdataset_file_path_dict should be dict -> \u001b[39m\u001b[38;5;124m{\u001b[39m\u001b[38;5;124m<dataset_id>:<list_of_paths>}\u001b[39m\u001b[38;5;124m\"\u001b[39m,\n\u001b[1;32m   2222\u001b[0m         ),\n\u001b[1;32m   2223\u001b[0m     )\n\u001b[1;32m   2225\u001b[0m \u001b[38;5;28;01mfor\u001b[39;00m key, val \u001b[38;5;129;01min\u001b[39;00m dataset_file_path_dict\u001b[38;5;241m.\u001b[39mitems():\n\u001b[1;32m   2226\u001b[0m     \u001b[38;5;28;01mif\u001b[39;00m \u001b[38;5;129;01mnot\u001b[39;00m \u001b[38;5;28misinstance\u001b[39m(val, \u001b[38;5;28mlist\u001b[39m):\n",
            "\u001b[0;31mparamException\u001b[0m: paramException (parameter error): ('dataset_file_path_dict should be dict -> {<dataset_id>:<list_of_paths>}',)"
          ]
        }
      ],
      "source": [
        "# dataset_file_path_dict of wrong type\n",
        "dataset_id = [\"GSE140509_GPL16791\"]\n",
        "repo_id = \"1673847977346\"\n",
        "dataset_file_path_dict = [\"GSE140509_GPL16791\",\"transcriptomics_207s/GSE140509_GPL16791.gct\"]\n",
        "omixatlas.delete_datasets(repo_id, dataset_id, dataset_file_path_dict=dataset_file_path_dict)"
      ]
    },
    {
      "cell_type": "code",
      "execution_count": 12,
      "metadata": {},
      "outputs": [
        {
          "ename": "paramException",
          "evalue": "paramException (parameter error): File paths should be in the format of list of strings in the dataset_file_path_dict. Correct format -> {<dataset_id>:<list_of_paths>}",
          "output_type": "error",
          "traceback": [
            "\u001b[0;31m---------------------------------------------------------------------------\u001b[0m",
            "\u001b[0;31mparamException\u001b[0m                            Traceback (most recent call last)",
            "Input \u001b[0;32mIn [12]\u001b[0m, in \u001b[0;36m<cell line: 5>\u001b[0;34m()\u001b[0m\n\u001b[1;32m      3\u001b[0m repo_id \u001b[38;5;241m=\u001b[39m \u001b[38;5;124m\"\u001b[39m\u001b[38;5;124m1673847977346\u001b[39m\u001b[38;5;124m\"\u001b[39m\n\u001b[1;32m      4\u001b[0m dataset_file_path_dict \u001b[38;5;241m=\u001b[39m {\u001b[38;5;124m\"\u001b[39m\u001b[38;5;124mGSE140509_GPL16791\u001b[39m\u001b[38;5;124m\"\u001b[39m:\u001b[38;5;124m\"\u001b[39m\u001b[38;5;124mtranscriptomics_207s/GSE140509_GPL16791.gct\u001b[39m\u001b[38;5;124m\"\u001b[39m}\n\u001b[0;32m----> 5\u001b[0m \u001b[43momixatlas\u001b[49m\u001b[38;5;241;43m.\u001b[39;49m\u001b[43mdelete_datasets\u001b[49m\u001b[43m(\u001b[49m\u001b[43mrepo_id\u001b[49m\u001b[43m,\u001b[49m\u001b[43m \u001b[49m\u001b[43mdataset_id\u001b[49m\u001b[43m,\u001b[49m\u001b[43m \u001b[49m\u001b[43mdataset_file_path_dict\u001b[49m\u001b[38;5;241;43m=\u001b[39;49m\u001b[43mdataset_file_path_dict\u001b[49m\u001b[43m)\u001b[49m\n",
            "File \u001b[0;32m/usr/local/lib/python3.10/site-packages/polly/tracking.py:59\u001b[0m, in \u001b[0;36mTrack.track_decorator.<locals>.wrapper_function\u001b[0;34m(*args, **kwargs)\u001b[0m\n\u001b[1;32m     57\u001b[0m         \u001b[38;5;28;01mreturn\u001b[39;00m result\n\u001b[1;32m     58\u001b[0m \u001b[38;5;28;01melse\u001b[39;00m:\n\u001b[0;32m---> 59\u001b[0m     \u001b[38;5;28;01mraise\u001b[39;00m returned_err\n",
            "File \u001b[0;32m/usr/local/lib/python3.10/site-packages/polly/tracking.py:22\u001b[0m, in \u001b[0;36mTrack.track_decorator.<locals>.wrapper_function\u001b[0;34m(*args, **kwargs)\u001b[0m\n\u001b[1;32m     20\u001b[0m execution_flag \u001b[38;5;241m=\u001b[39m \u001b[38;5;28;01mFalse\u001b[39;00m\n\u001b[1;32m     21\u001b[0m \u001b[38;5;28;01mtry\u001b[39;00m:\n\u001b[0;32m---> 22\u001b[0m     result \u001b[38;5;241m=\u001b[39m \u001b[43mfunction\u001b[49m\u001b[43m(\u001b[49m\u001b[38;5;241;43m*\u001b[39;49m\u001b[43margs\u001b[49m\u001b[43m,\u001b[49m\u001b[43m \u001b[49m\u001b[38;5;241;43m*\u001b[39;49m\u001b[38;5;241;43m*\u001b[39;49m\u001b[43mkwargs\u001b[49m\u001b[43m)\u001b[49m\n\u001b[1;32m     23\u001b[0m     execution_flag \u001b[38;5;241m=\u001b[39m \u001b[38;5;28;01mTrue\u001b[39;00m\n\u001b[1;32m     24\u001b[0m \u001b[38;5;28;01mexcept\u001b[39;00m \u001b[38;5;167;01mException\u001b[39;00m \u001b[38;5;28;01mas\u001b[39;00m e:\n",
            "File \u001b[0;32m/usr/local/lib/python3.10/site-packages/polly/omixatlas.py:1508\u001b[0m, in \u001b[0;36mOmixAtlas.delete_datasets\u001b[0;34m(self, repo_id, dataset_ids, dataset_file_path_dict)\u001b[0m\n\u001b[1;32m   1447\u001b[0m     \u001b[38;5;66;03m# # this line is making the code unreachable -> will look into it later\u001b[39;00m\n\u001b[1;32m   1448\u001b[0m     \u001b[38;5;66;03m# omix_hlpr.parameter_check_for_delete_dataset(\u001b[39;00m\n\u001b[1;32m   1449\u001b[0m     \u001b[38;5;66;03m#     repo_id, dataset_ids, dataset_file_path_dict\u001b[39;00m\n\u001b[0;32m   (...)\u001b[0m\n\u001b[1;32m   1504\u001b[0m     \u001b[38;5;66;03m# else:\u001b[39;00m\n\u001b[1;32m   1505\u001b[0m     \u001b[38;5;66;03m#     print(const.DELETION_OPERATION_UNSUCCESSFUL_FOR_ALL_DATASET_IDS)\u001b[39;00m\n\u001b[1;32m   1507\u001b[0m \u001b[38;5;28;01mexcept\u001b[39;00m \u001b[38;5;167;01mException\u001b[39;00m \u001b[38;5;28;01mas\u001b[39;00m err:\n\u001b[0;32m-> 1508\u001b[0m     \u001b[38;5;28;01mraise\u001b[39;00m err\n",
            "File \u001b[0;32m/usr/local/lib/python3.10/site-packages/polly/omixatlas.py:1443\u001b[0m, in \u001b[0;36mOmixAtlas.delete_datasets\u001b[0;34m(self, repo_id, dataset_ids, dataset_file_path_dict)\u001b[0m\n\u001b[1;32m   1441\u001b[0m \u001b[38;5;28;01mtry\u001b[39;00m:\n\u001b[1;32m   1442\u001b[0m     files_obj \u001b[38;5;241m=\u001b[39m Files()\n\u001b[0;32m-> 1443\u001b[0m     \u001b[43mfiles_obj\u001b[49m\u001b[38;5;241;43m.\u001b[39;49m\u001b[43mdelete_datasets\u001b[49m\u001b[43m(\u001b[49m\n\u001b[1;32m   1444\u001b[0m \u001b[43m        \u001b[49m\u001b[38;5;28;43mself\u001b[39;49m\u001b[43m,\u001b[49m\u001b[43m \u001b[49m\u001b[43mrepo_id\u001b[49m\u001b[43m,\u001b[49m\u001b[43m \u001b[49m\u001b[43mdataset_ids\u001b[49m\u001b[43m,\u001b[49m\u001b[43m \u001b[49m\u001b[43mdataset_file_path_dict\u001b[49m\n\u001b[1;32m   1445\u001b[0m \u001b[43m    \u001b[49m\u001b[43m)\u001b[49m\n\u001b[1;32m   1447\u001b[0m     \u001b[38;5;66;03m# # this line is making the code unreachable -> will look into it later\u001b[39;00m\n\u001b[1;32m   1448\u001b[0m     \u001b[38;5;66;03m# omix_hlpr.parameter_check_for_delete_dataset(\u001b[39;00m\n\u001b[1;32m   1449\u001b[0m     \u001b[38;5;66;03m#     repo_id, dataset_ids, dataset_file_path_dict\u001b[39;00m\n\u001b[0;32m   (...)\u001b[0m\n\u001b[1;32m   1504\u001b[0m     \u001b[38;5;66;03m# else:\u001b[39;00m\n\u001b[1;32m   1505\u001b[0m     \u001b[38;5;66;03m#     print(const.DELETION_OPERATION_UNSUCCESSFUL_FOR_ALL_DATASET_IDS)\u001b[39;00m\n\u001b[1;32m   1507\u001b[0m \u001b[38;5;28;01mexcept\u001b[39;00m \u001b[38;5;167;01mException\u001b[39;00m \u001b[38;5;28;01mas\u001b[39;00m err:\n",
            "File \u001b[0;32m/usr/local/lib/python3.10/site-packages/polly_services/files/files.py:412\u001b[0m, in \u001b[0;36mFiles.delete_datasets\u001b[0;34m(self, polly_session, repo_id, dataset_ids, dataset_file_path_dict)\u001b[0m\n\u001b[1;32m    409\u001b[0m         \u001b[38;5;28mprint\u001b[39m(const\u001b[38;5;241m.\u001b[39mDELETION_OPERATION_UNSUCCESSFUL_FOR_ALL_DATASET_IDS)\n\u001b[1;32m    411\u001b[0m \u001b[38;5;28;01mexcept\u001b[39;00m \u001b[38;5;167;01mException\u001b[39;00m \u001b[38;5;28;01mas\u001b[39;00m err:\n\u001b[0;32m--> 412\u001b[0m     \u001b[38;5;28;01mraise\u001b[39;00m err\n",
            "File \u001b[0;32m/usr/local/lib/python3.10/site-packages/polly_services/files/files.py:350\u001b[0m, in \u001b[0;36mFiles.delete_datasets\u001b[0;34m(self, polly_session, repo_id, dataset_ids, dataset_file_path_dict)\u001b[0m\n\u001b[1;32m    338\u001b[0m \u001b[38;5;124;03m\"\"\"Delete Datasets\u001b[39;00m\n\u001b[1;32m    339\u001b[0m \n\u001b[1;32m    340\u001b[0m \u001b[38;5;124;03mArgs:\u001b[39;00m\n\u001b[0;32m   (...)\u001b[0m\n\u001b[1;32m    347\u001b[0m \u001b[38;5;124;03m    err: _description_\u001b[39;00m\n\u001b[1;32m    348\u001b[0m \u001b[38;5;124;03m\"\"\"\u001b[39;00m\n\u001b[1;32m    349\u001b[0m \u001b[38;5;28;01mtry\u001b[39;00m:\n\u001b[0;32m--> 350\u001b[0m     \u001b[43mfiles_hlpr\u001b[49m\u001b[38;5;241;43m.\u001b[39;49m\u001b[43mparameter_check_for_delete_dataset\u001b[49m\u001b[43m(\u001b[49m\n\u001b[1;32m    351\u001b[0m \u001b[43m        \u001b[49m\u001b[43mrepo_id\u001b[49m\u001b[43m,\u001b[49m\u001b[43m \u001b[49m\u001b[43mdataset_ids\u001b[49m\u001b[43m,\u001b[49m\u001b[43m \u001b[49m\u001b[43mdataset_file_path_dict\u001b[49m\n\u001b[1;32m    352\u001b[0m \u001b[43m    \u001b[49m\u001b[43m)\u001b[49m\n\u001b[1;32m    354\u001b[0m     repo_id \u001b[38;5;241m=\u001b[39m polly_services_hlpr\u001b[38;5;241m.\u001b[39mmake_repo_id_string(repo_id)\n\u001b[1;32m    356\u001b[0m     \u001b[38;5;66;03m# check if dataset_file_path_dict keys subset of dataset_ids\u001b[39;00m\n",
            "File \u001b[0;32m/usr/local/lib/python3.10/site-packages/polly_services/files/files_hlpr.py:2327\u001b[0m, in \u001b[0;36mparameter_check_for_delete_dataset\u001b[0;34m(repo_id, dataset_ids, dataset_file_path_dict)\u001b[0m\n\u001b[1;32m   2325\u001b[0m     dataset_file_path_dict_type_check_in_delete_datasets(dataset_file_path_dict)\n\u001b[1;32m   2326\u001b[0m \u001b[38;5;28;01mexcept\u001b[39;00m \u001b[38;5;167;01mException\u001b[39;00m \u001b[38;5;28;01mas\u001b[39;00m err:\n\u001b[0;32m-> 2327\u001b[0m     \u001b[38;5;28;01mraise\u001b[39;00m err\n",
            "File \u001b[0;32m/usr/local/lib/python3.10/site-packages/polly_services/files/files_hlpr.py:2325\u001b[0m, in \u001b[0;36mparameter_check_for_delete_dataset\u001b[0;34m(repo_id, dataset_ids, dataset_file_path_dict)\u001b[0m\n\u001b[1;32m   2323\u001b[0m     polly_services_hlpr\u001b[38;5;241m.\u001b[39mparameter_check_for_repo_id(repo_id)\n\u001b[1;32m   2324\u001b[0m     parameter_check_for_list_dataset_ids(dataset_ids)\n\u001b[0;32m-> 2325\u001b[0m     \u001b[43mdataset_file_path_dict_type_check_in_delete_datasets\u001b[49m\u001b[43m(\u001b[49m\u001b[43mdataset_file_path_dict\u001b[49m\u001b[43m)\u001b[49m\n\u001b[1;32m   2326\u001b[0m \u001b[38;5;28;01mexcept\u001b[39;00m \u001b[38;5;167;01mException\u001b[39;00m \u001b[38;5;28;01mas\u001b[39;00m err:\n\u001b[1;32m   2327\u001b[0m     \u001b[38;5;28;01mraise\u001b[39;00m err\n",
            "File \u001b[0;32m/usr/local/lib/python3.10/site-packages/polly_services/files/files_hlpr.py:2227\u001b[0m, in \u001b[0;36mdataset_file_path_dict_type_check_in_delete_datasets\u001b[0;34m(dataset_file_path_dict)\u001b[0m\n\u001b[1;32m   2225\u001b[0m \u001b[38;5;28;01mfor\u001b[39;00m key, val \u001b[38;5;129;01min\u001b[39;00m dataset_file_path_dict\u001b[38;5;241m.\u001b[39mitems():\n\u001b[1;32m   2226\u001b[0m     \u001b[38;5;28;01mif\u001b[39;00m \u001b[38;5;129;01mnot\u001b[39;00m \u001b[38;5;28misinstance\u001b[39m(val, \u001b[38;5;28mlist\u001b[39m):\n\u001b[0;32m-> 2227\u001b[0m         \u001b[38;5;28;01mraise\u001b[39;00m paramException(\n\u001b[1;32m   2228\u001b[0m             title\u001b[38;5;241m=\u001b[39m\u001b[38;5;124m\"\u001b[39m\u001b[38;5;124mFile paths datatype is incorrect\u001b[39m\u001b[38;5;124m\"\u001b[39m,\n\u001b[1;32m   2229\u001b[0m             detail\u001b[38;5;241m=\u001b[39m(\n\u001b[1;32m   2230\u001b[0m                 \u001b[38;5;124m\"\u001b[39m\u001b[38;5;124mFile paths should be in the format of list of strings in the \u001b[39m\u001b[38;5;124m\"\u001b[39m\n\u001b[1;32m   2231\u001b[0m                 \u001b[38;5;241m+\u001b[39m \u001b[38;5;124m\"\u001b[39m\u001b[38;5;124mdataset_file_path_dict. Correct format -> \u001b[39m\u001b[38;5;124m{\u001b[39m\u001b[38;5;124m<dataset_id>:<list_of_paths>}\u001b[39m\u001b[38;5;124m\"\u001b[39m\n\u001b[1;32m   2232\u001b[0m             ),\n\u001b[1;32m   2233\u001b[0m         )\n\u001b[1;32m   2234\u001b[0m     \u001b[38;5;28;01mif\u001b[39;00m \u001b[38;5;129;01mnot\u001b[39;00m \u001b[38;5;28misinstance\u001b[39m(key, \u001b[38;5;28mstr\u001b[39m):\n\u001b[1;32m   2235\u001b[0m         \u001b[38;5;28;01mraise\u001b[39;00m paramException(\n\u001b[1;32m   2236\u001b[0m             title\u001b[38;5;241m=\u001b[39m\u001b[38;5;124m\"\u001b[39m\u001b[38;5;124mdataset_id datatype is incorrect\u001b[39m\u001b[38;5;124m\"\u001b[39m,\n\u001b[1;32m   2237\u001b[0m             detail\u001b[38;5;241m=\u001b[39m(\n\u001b[0;32m   (...)\u001b[0m\n\u001b[1;32m   2240\u001b[0m             ),\n\u001b[1;32m   2241\u001b[0m         )\n",
            "\u001b[0;31mparamException\u001b[0m: paramException (parameter error): File paths should be in the format of list of strings in the dataset_file_path_dict. Correct format -> {<dataset_id>:<list_of_paths>}"
          ]
        }
      ],
      "source": [
        "# value of dataset_file_path_dict of wrong type\n",
        "dataset_id = [\"GSE140509_GPL16791\"]\n",
        "repo_id = \"1673847977346\"\n",
        "dataset_file_path_dict = {\"GSE140509_GPL16791\":\"transcriptomics_207s/GSE140509_GPL16791.gct\"}\n",
        "omixatlas.delete_datasets(repo_id, dataset_id, dataset_file_path_dict=dataset_file_path_dict)"
      ]
    },
    {
      "cell_type": "code",
      "execution_count": null,
      "metadata": {},
      "outputs": [],
      "source": [
        "## single file for dataset_id delete cases\n"
      ]
    },
    {
      "cell_type": "code",
      "execution_count": 15,
      "metadata": {},
      "outputs": [
        {
          "name": "stdout",
          "output_type": "stream",
          "text": [
            "----response data--------\n",
            "{'data': {'id': 'GSE101503_GPL16791', 'type': 'file_paths', 'attributes': {'file_paths': ['transcriptomics_307/GSE101503_GPL16791.gct']}}}\n",
            "Please wait for 30 seconds while your deletion request is getting logged.\n",
            "\n",
            "\n",
            "Your request is successfully logged. You can go to ingestion monitoring dashboard for tracking it's status.\n",
            "╒════╤═════════════╤════════════════════════════════════════════════════════════════════════════╤════════════════════════════════════════════╕\n",
            "│    │ DatasetId   │ Message                                                                    │ Folder Path                                │\n",
            "╞════╪═════════════╪════════════════════════════════════════════════════════════════════════════╪════════════════════════════════════════════╡\n",
            "│  0 │ GSE101503_  │ Request Accepted. Dataset will be deleted in the next version of OmixAtlas │ transcriptomics_307/GSE101503_GPL16791.gct │\n",
            "│    │ GPL16791    │                                                                            │                                            │\n",
            "╘════╧═════════════╧════════════════════════════════════════════════════════════════════════════╧════════════════════════════════════════════╛\n"
          ]
        }
      ],
      "source": [
        "# positive case\n",
        "# dataset_id with single path\n",
        "# no dataset_file_path_dict required\n",
        "\n",
        "# ignore extra prints\n",
        "\n",
        "dataset_id = [\"GSE101503_GPL16791\"]\n",
        "repo_id = \"1673847977346\"\n",
        "\n",
        "omixatlas.delete_datasets(repo_id, dataset_id)\n"
      ]
    },
    {
      "cell_type": "code",
      "execution_count": 4,
      "metadata": {},
      "outputs": [
        {
          "name": "stdout",
          "output_type": "stream",
          "text": [
            "------1---------\n",
            "------1---------\n",
            "----internal call----\n",
            "------3---------\n",
            "GSE140509_GPL16791 files not found in this 1673847977346\n",
            "------4---------\n",
            "------5---------\n",
            "---result_dict-----\n",
            "{'GSE140509_GPL16791': [{'Message': 'GSE140509_GPL16791 files not found in this 1673847977346', 'Folder Path': ''}]}\n",
            "------deletion res list-----\n",
            "[{'Message': 'GSE140509_GPL16791 files not found in this 1673847977346', 'Folder Path': ''}]\n",
            "╒════╤═════════════╤══════════════════════════════════════════════════════════╤═══════════════╕\n",
            "│    │ DatasetId   │ Message                                                  │ Folder Path   │\n",
            "╞════╪═════════════╪══════════════════════════════════════════════════════════╪═══════════════╡\n",
            "│  0 │ GSE140509_  │ GSE140509_GPL16791 files not found in this 1673847977346 │               │\n",
            "│    │ GPL16791    │                                                          │               │\n",
            "╘════╧═════════════╧══════════════════════════════════════════════════════════╧═══════════════╛\n"
          ]
        }
      ],
      "source": [
        "# dataset_id not present in the repo\n",
        "\n",
        "dataset_id = [\"GSE140509_GPL16791\"]\n",
        "repo_id = \"1673847977346\"\n",
        "\n",
        "omixatlas.delete_datasets(repo_id, dataset_id)"
      ]
    },
    {
      "cell_type": "code",
      "execution_count": 5,
      "metadata": {},
      "outputs": [
        {
          "name": "stdout",
          "output_type": "stream",
          "text": [
            "------1---------\n",
            "------1---------\n",
            "----response data--------\n",
            "{'data': {'id': 'GSE95640_GPL11154', 'type': 'file_paths', 'attributes': {'file_paths': ['transcriptomics_610/GSE95640_GPL11154.gct']}}}\n",
            "------4---------\n",
            "------5---------\n",
            "------5---------\n",
            "------6---------\n",
            "\n",
            "\n",
            "------8--------\n",
            "-----dataset_id_single_res_dict----\n",
            "{'GSE95640_GPL11154': [{'Message': 'Dataset not deleted because file_path for the dataset_id is incorrect', 'Folder Path': 'transcriptomics_207s/GSE25157_GPL570.gct'}]}\n",
            "---result_dict-----\n",
            "{'GSE95640_GPL11154': [{'Message': 'Dataset not deleted because file_path for the dataset_id is incorrect', 'Folder Path': 'transcriptomics_207s/GSE25157_GPL570.gct'}]}\n",
            "------deletion res list-----\n",
            "[{'Message': 'Dataset not deleted because file_path for the dataset_id is incorrect', 'Folder Path': 'transcriptomics_207s/GSE25157_GPL570.gct'}]\n",
            "╒════╤═════════════╤═══════════════════════════════════════════════════════════════════════╤══════════════════════════════════════════╕\n",
            "│    │ DatasetId   │ Message                                                               │ Folder Path                              │\n",
            "╞════╪═════════════╪═══════════════════════════════════════════════════════════════════════╪══════════════════════════════════════════╡\n",
            "│  0 │ GSE95640_G  │ Dataset not deleted because file_path for the dataset_id is incorrect │ transcriptomics_207s/GSE25157_GPL570.gct │\n",
            "│    │ PL11154     │                                                                       │                                          │\n",
            "╘════╧═════════════╧═══════════════════════════════════════════════════════════════════════╧══════════════════════════════════════════╛\n"
          ]
        },
        {
          "name": "stderr",
          "output_type": "stream",
          "text": [
            "WARNING: Unable to delete file from the file_path transcriptomics_207s/GSE25157_GPL570.gct because the file corresponding to the dataset id GSE95640_GPL11154 is not present in this file_path. This dataset_id file is present only in 1 path so passing path using optional parameter not required here. For any questions, please reach out to polly.support@elucidata.io. \n"
          ]
        }
      ],
      "source": [
        "# dataset ids passed in the list and its path is also passed but that is wrong\n",
        "\n",
        "dataset_id = [\"GSE95640_GPL11154\"]\n",
        "repo_id = \"1673847977346\"\n",
        "dataset_file_path_dict = {\"GSE95640_GPL11154\":[\"transcriptomics_207s/GSE25157_GPL570.gct\"]}\n",
        "omixatlas.delete_datasets(repo_id, dataset_id, dataset_file_path_dict=dataset_file_path_dict)"
      ]
    },
    {
      "cell_type": "code",
      "execution_count": null,
      "metadata": {},
      "outputs": [],
      "source": [
        "## multiple files for dataset_id delete cases"
      ]
    },
    {
      "cell_type": "code",
      "execution_count": 6,
      "metadata": {},
      "outputs": [
        {
          "name": "stdout",
          "output_type": "stream",
          "text": [
            "------1---------\n",
            "------1---------\n",
            "----internal call----\n",
            "------3---------\n",
            "GSE54747_GPL624423 files not found in this 1673847977346\n",
            "------4---------\n",
            "------5---------\n",
            "---result_dict-----\n",
            "{'GSE54747_GPL624423': [{'Message': 'GSE54747_GPL624423 files not found in this 1673847977346', 'Folder Path': ''}]}\n",
            "------deletion res list-----\n",
            "[{'Message': 'GSE54747_GPL624423 files not found in this 1673847977346', 'Folder Path': ''}]\n",
            "╒════╤═════════════╤══════════════════════════════════════════════════════════╤═══════════════╕\n",
            "│    │ DatasetId   │ Message                                                  │ Folder Path   │\n",
            "╞════╪═════════════╪══════════════════════════════════════════════════════════╪═══════════════╡\n",
            "│  0 │ GSE54747_G  │ GSE54747_GPL624423 files not found in this 1673847977346 │               │\n",
            "│    │ PL624423    │                                                          │               │\n",
            "╘════╧═════════════╧══════════════════════════════════════════════════════════╧═══════════════╛\n"
          ]
        }
      ],
      "source": [
        " #dataset ids passed in the list does not exist in the repo\n",
        "dataset_id = [\"GSE54747_GPL624423\"]\n",
        "repo_id = \"1673847977346\"\n",
        "dataset_file_path_dict = {\"GSE54747_GPL624423\":[\"transcriptomics_207s/GSE54747_GPL624423.gct\"]}\n",
        "omixatlas.delete_datasets(repo_id, dataset_id, dataset_file_path_dict=dataset_file_path_dict)"
      ]
    },
    {
      "cell_type": "code",
      "execution_count": 7,
      "metadata": {},
      "outputs": [
        {
          "name": "stdout",
          "output_type": "stream",
          "text": [
            "------1---------\n",
            "------1---------\n",
            "----response data--------\n",
            "{'data': {'id': 'ACBC_MSKCC_2015_Copy_Number_AdCC10T', 'type': 'file_paths', 'attributes': {'file_paths': ['transcriptomics_110/ACBC_MSKCC_2015_Copy_Number_AdCC10T_copy', 'transcriptomics_111/ACBC_MSKCC_2015_Copy_Number_AdCC10T_copy', 'transcriptomics_110/ACBC_MSKCC_2015_Copy_Number_AdCC10T.gct']}}}\n",
            "------4---------\n",
            "------5---------\n",
            "------5---------\n"
          ]
        },
        {
          "ename": "Exception",
          "evalue": "file paths incorrect, it does not belong to dataset_id -> ACBC_MSKCC_2015_Copy_Number_AdCC10T. Please pass file path from these ['transcriptomics_110/ACBC_MSKCC_2015_Copy_Number_AdCC10T_copy', 'transcriptomics_111/ACBC_MSKCC_2015_Copy_Number_AdCC10T_copy', 'transcriptomics_110/ACBC_MSKCC_2015_Copy_Number_AdCC10T.gct']. Alternatively for getting the list of file_paths for the dataset_id call <omixatlas_obj>.get_all_file_paths(<repo_id>,<dataset_id>). ",
          "output_type": "error",
          "traceback": [
            "\u001b[0;31m---------------------------------------------------------------------------\u001b[0m",
            "\u001b[0;31mException\u001b[0m                                 Traceback (most recent call last)",
            "Input \u001b[0;32mIn [7]\u001b[0m, in \u001b[0;36m<cell line: 5>\u001b[0;34m()\u001b[0m\n\u001b[1;32m      3\u001b[0m repo_id \u001b[38;5;241m=\u001b[39m \u001b[38;5;124m\"\u001b[39m\u001b[38;5;124m1673847977346\u001b[39m\u001b[38;5;124m\"\u001b[39m\n\u001b[1;32m      4\u001b[0m dataset_file_path_dict \u001b[38;5;241m=\u001b[39m {\u001b[38;5;124m\"\u001b[39m\u001b[38;5;124mACBC_MSKCC_2015_Copy_Number_AdCC10T\u001b[39m\u001b[38;5;124m\"\u001b[39m:[\u001b[38;5;124m\"\u001b[39m\u001b[38;5;124mtranscriptomics_407s/GSE140509_GPL16791.gct\u001b[39m\u001b[38;5;124m\"\u001b[39m, \u001b[38;5;124m\"\u001b[39m\u001b[38;5;124mtranscriptomics_408s/GSE140509_GPL16791.gct\u001b[39m\u001b[38;5;124m\"\u001b[39m]}\n\u001b[0;32m----> 5\u001b[0m \u001b[43momixatlas\u001b[49m\u001b[38;5;241;43m.\u001b[39;49m\u001b[43mdelete_datasets\u001b[49m\u001b[43m(\u001b[49m\u001b[43mrepo_id\u001b[49m\u001b[43m,\u001b[49m\u001b[43m \u001b[49m\u001b[43mdataset_id\u001b[49m\u001b[43m,\u001b[49m\u001b[43m \u001b[49m\u001b[43mdataset_file_path_dict\u001b[49m\u001b[38;5;241;43m=\u001b[39;49m\u001b[43mdataset_file_path_dict\u001b[49m\u001b[43m)\u001b[49m\n",
            "File \u001b[0;32m/usr/local/lib/python3.10/site-packages/polly/tracking.py:59\u001b[0m, in \u001b[0;36mTrack.track_decorator.<locals>.wrapper_function\u001b[0;34m(*args, **kwargs)\u001b[0m\n\u001b[1;32m     57\u001b[0m         \u001b[38;5;28;01mreturn\u001b[39;00m result\n\u001b[1;32m     58\u001b[0m \u001b[38;5;28;01melse\u001b[39;00m:\n\u001b[0;32m---> 59\u001b[0m     \u001b[38;5;28;01mraise\u001b[39;00m returned_err\n",
            "File \u001b[0;32m/usr/local/lib/python3.10/site-packages/polly/tracking.py:22\u001b[0m, in \u001b[0;36mTrack.track_decorator.<locals>.wrapper_function\u001b[0;34m(*args, **kwargs)\u001b[0m\n\u001b[1;32m     20\u001b[0m execution_flag \u001b[38;5;241m=\u001b[39m \u001b[38;5;28;01mFalse\u001b[39;00m\n\u001b[1;32m     21\u001b[0m \u001b[38;5;28;01mtry\u001b[39;00m:\n\u001b[0;32m---> 22\u001b[0m     result \u001b[38;5;241m=\u001b[39m \u001b[43mfunction\u001b[49m\u001b[43m(\u001b[49m\u001b[38;5;241;43m*\u001b[39;49m\u001b[43margs\u001b[49m\u001b[43m,\u001b[49m\u001b[43m \u001b[49m\u001b[38;5;241;43m*\u001b[39;49m\u001b[38;5;241;43m*\u001b[39;49m\u001b[43mkwargs\u001b[49m\u001b[43m)\u001b[49m\n\u001b[1;32m     23\u001b[0m     execution_flag \u001b[38;5;241m=\u001b[39m \u001b[38;5;28;01mTrue\u001b[39;00m\n\u001b[1;32m     24\u001b[0m \u001b[38;5;28;01mexcept\u001b[39;00m \u001b[38;5;167;01mException\u001b[39;00m \u001b[38;5;28;01mas\u001b[39;00m e:\n",
            "File \u001b[0;32m/usr/local/lib/python3.10/site-packages/polly/omixatlas.py:1508\u001b[0m, in \u001b[0;36mOmixAtlas.delete_datasets\u001b[0;34m(self, repo_id, dataset_ids, dataset_file_path_dict)\u001b[0m\n\u001b[1;32m   1447\u001b[0m     \u001b[38;5;66;03m# # this line is making the code unreachable -> will look into it later\u001b[39;00m\n\u001b[1;32m   1448\u001b[0m     \u001b[38;5;66;03m# omix_hlpr.parameter_check_for_delete_dataset(\u001b[39;00m\n\u001b[1;32m   1449\u001b[0m     \u001b[38;5;66;03m#     repo_id, dataset_ids, dataset_file_path_dict\u001b[39;00m\n\u001b[0;32m   (...)\u001b[0m\n\u001b[1;32m   1504\u001b[0m     \u001b[38;5;66;03m# else:\u001b[39;00m\n\u001b[1;32m   1505\u001b[0m     \u001b[38;5;66;03m#     print(const.DELETION_OPERATION_UNSUCCESSFUL_FOR_ALL_DATASET_IDS)\u001b[39;00m\n\u001b[1;32m   1507\u001b[0m \u001b[38;5;28;01mexcept\u001b[39;00m \u001b[38;5;167;01mException\u001b[39;00m \u001b[38;5;28;01mas\u001b[39;00m err:\n\u001b[0;32m-> 1508\u001b[0m     \u001b[38;5;28;01mraise\u001b[39;00m err\n",
            "File \u001b[0;32m/usr/local/lib/python3.10/site-packages/polly/omixatlas.py:1443\u001b[0m, in \u001b[0;36mOmixAtlas.delete_datasets\u001b[0;34m(self, repo_id, dataset_ids, dataset_file_path_dict)\u001b[0m\n\u001b[1;32m   1441\u001b[0m \u001b[38;5;28;01mtry\u001b[39;00m:\n\u001b[1;32m   1442\u001b[0m     files_obj \u001b[38;5;241m=\u001b[39m Files()\n\u001b[0;32m-> 1443\u001b[0m     \u001b[43mfiles_obj\u001b[49m\u001b[38;5;241;43m.\u001b[39;49m\u001b[43mdelete_datasets\u001b[49m\u001b[43m(\u001b[49m\n\u001b[1;32m   1444\u001b[0m \u001b[43m        \u001b[49m\u001b[38;5;28;43mself\u001b[39;49m\u001b[43m,\u001b[49m\u001b[43m \u001b[49m\u001b[43mrepo_id\u001b[49m\u001b[43m,\u001b[49m\u001b[43m \u001b[49m\u001b[43mdataset_ids\u001b[49m\u001b[43m,\u001b[49m\u001b[43m \u001b[49m\u001b[43mdataset_file_path_dict\u001b[49m\n\u001b[1;32m   1445\u001b[0m \u001b[43m    \u001b[49m\u001b[43m)\u001b[49m\n\u001b[1;32m   1447\u001b[0m     \u001b[38;5;66;03m# # this line is making the code unreachable -> will look into it later\u001b[39;00m\n\u001b[1;32m   1448\u001b[0m     \u001b[38;5;66;03m# omix_hlpr.parameter_check_for_delete_dataset(\u001b[39;00m\n\u001b[1;32m   1449\u001b[0m     \u001b[38;5;66;03m#     repo_id, dataset_ids, dataset_file_path_dict\u001b[39;00m\n\u001b[0;32m   (...)\u001b[0m\n\u001b[1;32m   1504\u001b[0m     \u001b[38;5;66;03m# else:\u001b[39;00m\n\u001b[1;32m   1505\u001b[0m     \u001b[38;5;66;03m#     print(const.DELETION_OPERATION_UNSUCCESSFUL_FOR_ALL_DATASET_IDS)\u001b[39;00m\n\u001b[1;32m   1507\u001b[0m \u001b[38;5;28;01mexcept\u001b[39;00m \u001b[38;5;167;01mException\u001b[39;00m \u001b[38;5;28;01mas\u001b[39;00m err:\n",
            "File \u001b[0;32m/usr/local/lib/python3.10/site-packages/polly_services/files/files.py:413\u001b[0m, in \u001b[0;36mFiles.delete_datasets\u001b[0;34m(self, polly_session, repo_id, dataset_ids, dataset_file_path_dict)\u001b[0m\n\u001b[1;32m    410\u001b[0m         \u001b[38;5;28mprint\u001b[39m(const\u001b[38;5;241m.\u001b[39mDELETION_OPERATION_UNSUCCESSFUL_FOR_ALL_DATASET_IDS)\n\u001b[1;32m    412\u001b[0m \u001b[38;5;28;01mexcept\u001b[39;00m \u001b[38;5;167;01mException\u001b[39;00m \u001b[38;5;28;01mas\u001b[39;00m err:\n\u001b[0;32m--> 413\u001b[0m     \u001b[38;5;28;01mraise\u001b[39;00m err\n",
            "File \u001b[0;32m/usr/local/lib/python3.10/site-packages/polly_services/files/files.py:382\u001b[0m, in \u001b[0;36mFiles.delete_datasets\u001b[0;34m(self, polly_session, repo_id, dataset_ids, dataset_file_path_dict)\u001b[0m\n\u001b[1;32m    375\u001b[0m result_dict \u001b[38;5;241m=\u001b[39m {}\n\u001b[1;32m    377\u001b[0m \u001b[38;5;66;03m# result dict format\u001b[39;00m\n\u001b[1;32m    378\u001b[0m \u001b[38;5;66;03m# {'GSE101942_GPL11154': [{'Message': 'Dataset not deleted because file_path for\u001b[39;00m\n\u001b[1;32m    379\u001b[0m \u001b[38;5;66;03m#  the dataset_id is incorrect', 'Folder Path': 'transcriptomics_906s/GSE76311_GPL17586.gct'},\u001b[39;00m\n\u001b[1;32m    380\u001b[0m \u001b[38;5;66;03m# {'Message': 'Dataset not deleted because file_path for the dataset_id is incorrect',\u001b[39;00m\n\u001b[1;32m    381\u001b[0m \u001b[38;5;66;03m# 'Folder Path': 'transcriptomics_907s/GSE76311_GPL17586.gct'}]}\u001b[39;00m\n\u001b[0;32m--> 382\u001b[0m result_dict \u001b[38;5;241m=\u001b[39m \u001b[38;5;28;43mself\u001b[39;49m\u001b[38;5;241;43m.\u001b[39;49m\u001b[43m_delete_datasets_helper\u001b[49m\u001b[43m(\u001b[49m\n\u001b[1;32m    383\u001b[0m \u001b[43m    \u001b[49m\u001b[43mpolly_session\u001b[49m\u001b[43m,\u001b[49m\u001b[43m \u001b[49m\u001b[43mrepo_id\u001b[49m\u001b[43m,\u001b[49m\u001b[43m \u001b[49m\u001b[43mdataset_s3_keys_dict\u001b[49m\u001b[43m,\u001b[49m\u001b[43m \u001b[49m\u001b[43mdataset_file_path_dict\u001b[49m\n\u001b[1;32m    384\u001b[0m \u001b[43m\u001b[49m\u001b[43m)\u001b[49m\n\u001b[1;32m    386\u001b[0m valid_deletion_entry \u001b[38;5;241m=\u001b[39m files_hlpr\u001b[38;5;241m.\u001b[39mcheck_res_dict_has_file_deleted_entries(\n\u001b[1;32m    387\u001b[0m     result_dict\n\u001b[1;32m    388\u001b[0m )\n\u001b[1;32m    390\u001b[0m \u001b[38;5;28;01mif\u001b[39;00m result_dict \u001b[38;5;129;01mand\u001b[39;00m valid_deletion_entry:\n\u001b[1;32m    391\u001b[0m     \u001b[38;5;66;03m# if result dict is generated and there is at least\u001b[39;00m\n\u001b[1;32m    392\u001b[0m     \u001b[38;5;66;03m# 1 deletion entry in the df -> then commit API will be hit\u001b[39;00m\n\u001b[1;32m    393\u001b[0m     \u001b[38;5;66;03m# to log the deletion status of the valid entry\u001b[39;00m\n\u001b[1;32m    394\u001b[0m     \u001b[38;5;66;03m# print message before delay\u001b[39;00m\n",
            "File \u001b[0;32m/usr/local/lib/python3.10/site-packages/polly_services/files/files.py:604\u001b[0m, in \u001b[0;36mFiles._delete_datasets_helper\u001b[0;34m(self, polly_session, repo_id, dataset_s3_keys_dict, dataset_file_path_dict)\u001b[0m\n\u001b[1;32m    601\u001b[0m         result_dict\u001b[38;5;241m.\u001b[39mupdate(dataset_id_single_res_dict)\n\u001b[1;32m    602\u001b[0m \u001b[38;5;28;01melif\u001b[39;00m \u001b[38;5;28mlen\u001b[39m(file_path) \u001b[38;5;241m>\u001b[39m \u001b[38;5;241m1\u001b[39m:\n\u001b[1;32m    603\u001b[0m     dataset_id_mulitple_res_dict \u001b[38;5;241m=\u001b[39m (\n\u001b[0;32m--> 604\u001b[0m         \u001b[38;5;28;43mself\u001b[39;49m\u001b[38;5;241;43m.\u001b[39;49m\u001b[43m_delete_file_with_multiple_paths\u001b[49m\u001b[43m(\u001b[49m\n\u001b[1;32m    605\u001b[0m \u001b[43m            \u001b[49m\u001b[43mpolly_session\u001b[49m\u001b[43m,\u001b[49m\n\u001b[1;32m    606\u001b[0m \u001b[43m            \u001b[49m\u001b[43mrepo_id\u001b[49m\u001b[43m,\u001b[49m\n\u001b[1;32m    607\u001b[0m \u001b[43m            \u001b[49m\u001b[43mdatasetid_key\u001b[49m\u001b[43m,\u001b[49m\n\u001b[1;32m    608\u001b[0m \u001b[43m            \u001b[49m\u001b[43mdataset_file_path_dict\u001b[49m\u001b[43m,\u001b[49m\n\u001b[1;32m    609\u001b[0m \u001b[43m            \u001b[49m\u001b[43mfile_path\u001b[49m\u001b[43m,\u001b[49m\n\u001b[1;32m    610\u001b[0m \u001b[43m        \u001b[49m\u001b[43m)\u001b[49m\n\u001b[1;32m    611\u001b[0m     )\n\u001b[1;32m    612\u001b[0m     \u001b[38;5;28;01mif\u001b[39;00m dataset_id_mulitple_res_dict:\n\u001b[1;32m    613\u001b[0m         \u001b[38;5;66;03m# if dataset_id_mulitple_res_dict is not empty\u001b[39;00m\n\u001b[1;32m    614\u001b[0m         \u001b[38;5;66;03m# means the API request for deletion of dataset id is processed\u001b[39;00m\n\u001b[1;32m    615\u001b[0m         \u001b[38;5;66;03m# then df will have entry, update it into resultant df\u001b[39;00m\n\u001b[1;32m    616\u001b[0m         \u001b[38;5;66;03m# else skip for this dataset id\u001b[39;00m\n\u001b[1;32m    617\u001b[0m         result_dict\u001b[38;5;241m.\u001b[39mupdate(dataset_id_mulitple_res_dict)\n",
            "File \u001b[0;32m/usr/local/lib/python3.10/site-packages/polly_services/files/files.py:782\u001b[0m, in \u001b[0;36mFiles._delete_file_with_multiple_paths\u001b[0;34m(self, polly_session, repo_id, datasetid_key, dataset_file_path_dict, file_paths)\u001b[0m\n\u001b[1;32m    779\u001b[0m \u001b[38;5;66;03m# if there are no file paths passed which corresponds to file paths\u001b[39;00m\n\u001b[1;32m    780\u001b[0m \u001b[38;5;66;03m# present in the system for the given dataset_id\u001b[39;00m\n\u001b[1;32m    781\u001b[0m \u001b[38;5;28;01mif\u001b[39;00m \u001b[38;5;129;01mnot\u001b[39;00m file_paths_to_delete:\n\u001b[0;32m--> 782\u001b[0m     \u001b[38;5;28;01mraise\u001b[39;00m \u001b[38;5;167;01mException\u001b[39;00m(\n\u001b[1;32m    783\u001b[0m         \u001b[38;5;124mf\u001b[39m\u001b[38;5;124m\"\u001b[39m\u001b[38;5;124mfile paths incorrect, it does not belong to dataset_id -> \u001b[39m\u001b[38;5;132;01m{\u001b[39;00mdatasetid_key\u001b[38;5;132;01m}\u001b[39;00m\u001b[38;5;124m\"\u001b[39m\n\u001b[1;32m    784\u001b[0m         \u001b[38;5;241m+\u001b[39m \u001b[38;5;124mf\u001b[39m\u001b[38;5;124m\"\u001b[39m\u001b[38;5;124m. Please pass file path from these \u001b[39m\u001b[38;5;132;01m{\u001b[39;00mfile_paths\u001b[38;5;132;01m}\u001b[39;00m\u001b[38;5;124m. \u001b[39m\u001b[38;5;124m\"\u001b[39m\n\u001b[1;32m    785\u001b[0m         \u001b[38;5;241m+\u001b[39m \u001b[38;5;124m\"\u001b[39m\u001b[38;5;124mAlternatively for getting the list of file_paths for the dataset_id \u001b[39m\u001b[38;5;124m\"\u001b[39m\n\u001b[1;32m    786\u001b[0m         \u001b[38;5;241m+\u001b[39m \u001b[38;5;124m\"\u001b[39m\u001b[38;5;124mcall <omixatlas_obj>.get_all_file_paths(<repo_id>,<dataset_id>). \u001b[39m\u001b[38;5;124m\"\u001b[39m\n\u001b[1;32m    787\u001b[0m     )\n\u001b[1;32m    789\u001b[0m \u001b[38;5;66;03m# if from the file paths passed not all the file paths have the\u001b[39;00m\n\u001b[1;32m    790\u001b[0m \u001b[38;5;66;03m# file with the given dataset id\u001b[39;00m\n\u001b[1;32m    791\u001b[0m invalid_paths \u001b[38;5;241m=\u001b[39m \u001b[38;5;28mlist\u001b[39m(\u001b[38;5;28mset\u001b[39m(passed_file_paths) \u001b[38;5;241m-\u001b[39m \u001b[38;5;28mset\u001b[39m(file_paths_to_delete))\n",
            "\u001b[0;31mException\u001b[0m: file paths incorrect, it does not belong to dataset_id -> ACBC_MSKCC_2015_Copy_Number_AdCC10T. Please pass file path from these ['transcriptomics_110/ACBC_MSKCC_2015_Copy_Number_AdCC10T_copy', 'transcriptomics_111/ACBC_MSKCC_2015_Copy_Number_AdCC10T_copy', 'transcriptomics_110/ACBC_MSKCC_2015_Copy_Number_AdCC10T.gct']. Alternatively for getting the list of file_paths for the dataset_id call <omixatlas_obj>.get_all_file_paths(<repo_id>,<dataset_id>). "
          ]
        }
      ],
      "source": [
        "# dataset ids passed in the list and its path is also passed in dataset_file_path dict but that is wrong -> all paths wrong\n",
        "dataset_id = [\"ACBC_MSKCC_2015_Copy_Number_AdCC10T\"]\n",
        "repo_id = \"1673847977346\"\n",
        "dataset_file_path_dict = {\"ACBC_MSKCC_2015_Copy_Number_AdCC10T\":[\"transcriptomics_407s/GSE140509_GPL16791.gct\", \"transcriptomics_408s/GSE140509_GPL16791.gct\"]}\n",
        "omixatlas.delete_datasets(repo_id, dataset_id, dataset_file_path_dict=dataset_file_path_dict)"
      ]
    },
    {
      "cell_type": "code",
      "execution_count": 8,
      "metadata": {},
      "outputs": [
        {
          "name": "stdout",
          "output_type": "stream",
          "text": [
            "------1---------\n",
            "------1---------\n",
            "----response data--------\n",
            "{'data': {'id': 'ACBC_MSKCC_2015_Copy_Number_AdCC10T', 'type': 'file_paths', 'attributes': {'file_paths': ['transcriptomics_110/ACBC_MSKCC_2015_Copy_Number_AdCC10T_copy', 'transcriptomics_111/ACBC_MSKCC_2015_Copy_Number_AdCC10T_copy', 'transcriptomics_110/ACBC_MSKCC_2015_Copy_Number_AdCC10T.gct']}}}\n",
            "------4---------\n",
            "------5---------\n",
            "------5---------\n",
            "\n",
            "\n",
            "---result_dict-----\n",
            "{}\n",
            "Files not deleted. Possible reasons to help you troubleshoot :- \n",
            "1. All the datasets passed to delete might not be present in the Omixatlas. Please check warning message logged during execution. \n",
            "2. Paths passed for dataset id may be wrong for all the dataset ids. Please correct them and try again. Use get_all_file_paths function to to get all file_paths corresponding to a dataset_id in Omixatlas. \n",
            "3. Dataset_id was not passed in the list of dataset_ids to be deleted. \n",
            "In case of any other queries, please connect with polly.support@elucidata.io\n"
          ]
        },
        {
          "name": "stderr",
          "output_type": "stream",
          "text": [
            "WARNING: Unable to delete file with dataset_id: ACBC_MSKCC_2015_Copy_Number_AdCC10T present in mutiple files/folders. Please pass the path of the file which needs to be deleted. For getting the list of paths/folders where the dataset_id files are can be fetching using <omixatlas_obj>.get_all_file_paths(<repo_id>,<dataset_id>). For any questions, please reach out to polly.support@elucidata.io. \n"
          ]
        }
      ],
      "source": [
        "# dataset id passed which has multiple paths but dataset_file_path dict not passed\n",
        "dataset_id = [\"ACBC_MSKCC_2015_Copy_Number_AdCC10T\"]\n",
        "repo_id = \"1673847977346\"\n",
        "omixatlas.delete_datasets(repo_id, dataset_id)"
      ]
    },
    {
      "cell_type": "code",
      "execution_count": 9,
      "metadata": {},
      "outputs": [
        {
          "name": "stdout",
          "output_type": "stream",
          "text": [
            "------1---------\n",
            "------1---------\n",
            "----response data--------\n",
            "{'data': {'id': 'ACBC_MSKCC_2015_Copy_Number_AdCC10T', 'type': 'file_paths', 'attributes': {'file_paths': ['transcriptomics_110/ACBC_MSKCC_2015_Copy_Number_AdCC10T_copy', 'transcriptomics_111/ACBC_MSKCC_2015_Copy_Number_AdCC10T_copy', 'transcriptomics_110/ACBC_MSKCC_2015_Copy_Number_AdCC10T.gct']}}}\n",
            "------4---------\n",
            "------5---------\n",
            "------5---------\n",
            "\n",
            "\n",
            "---result_dict-----\n",
            "{}\n",
            "Files not deleted. Possible reasons to help you troubleshoot :- \n",
            "1. All the datasets passed to delete might not be present in the Omixatlas. Please check warning message logged during execution. \n",
            "2. Paths passed for dataset id may be wrong for all the dataset ids. Please correct them and try again. Use get_all_file_paths function to to get all file_paths corresponding to a dataset_id in Omixatlas. \n",
            "3. Dataset_id was not passed in the list of dataset_ids to be deleted. \n",
            "In case of any other queries, please connect with polly.support@elucidata.io\n"
          ]
        }
      ],
      "source": [
        "# dataset id passed which has multiple paths but empty list passed in place of file path in dataset_file_path dict\n",
        "dataset_id = [\"ACBC_MSKCC_2015_Copy_Number_AdCC10T\"]\n",
        "repo_id = \"1673847977346\"\n",
        "dataset_file_path_dict = {\"ACBC_MSKCC_2015_Copy_Number_AdCC10T\":[]}\n",
        "omixatlas.delete_datasets(repo_id, dataset_id)\n"
      ]
    },
    {
      "cell_type": "code",
      "execution_count": 10,
      "metadata": {},
      "outputs": [
        {
          "name": "stdout",
          "output_type": "stream",
          "text": [
            "------1---------\n",
            "------1---------\n",
            "----response data--------\n",
            "{'data': {'id': 'ACBC_MSKCC_2015_Copy_Number_AdCC10T', 'type': 'file_paths', 'attributes': {'file_paths': ['transcriptomics_110/ACBC_MSKCC_2015_Copy_Number_AdCC10T_copy', 'transcriptomics_111/ACBC_MSKCC_2015_Copy_Number_AdCC10T_copy', 'transcriptomics_110/ACBC_MSKCC_2015_Copy_Number_AdCC10T.gct']}}}\n",
            "------4---------\n",
            "------5---------\n",
            "------5---------\n",
            "-------7---------\n",
            "---result_dict-----\n",
            "{'ACBC_MSKCC_2015_Copy_Number_AdCC10T': [{'Message': 'Request Accepted. Dataset will be deleted in the next version of OmixAtlas', 'Folder Path': 'transcriptomics_110/ACBC_MSKCC_2015_Copy_Number_AdCC10T_copy'}]}\n",
            "------deletion res list-----\n",
            "[{'Message': 'Request Accepted. Dataset will be deleted in the next version of OmixAtlas', 'Folder Path': 'transcriptomics_110/ACBC_MSKCC_2015_Copy_Number_AdCC10T_copy'}]\n",
            "Please wait for 30 seconds while your deletion request is getting logged.\n",
            "\n",
            "\n",
            "Your request is successfully logged. You can go to ingestion monitoring dashboard for tracking it's status.\n",
            "╒════╤═════════════╤════════════════════════════════════════════════════════════════════════════╤══════════════════════════════════════════════════════════════╕\n",
            "│    │ DatasetId   │ Message                                                                    │ Folder Path                                                  │\n",
            "╞════╪═════════════╪════════════════════════════════════════════════════════════════════════════╪══════════════════════════════════════════════════════════════╡\n",
            "│  0 │ ACBC_MSKCC  │ Request Accepted. Dataset will be deleted in the next version of OmixAtlas │ transcriptomics_110/ACBC_MSKCC_2015_Copy_Number_AdCC10T_copy │\n",
            "│    │ _2015_Copy  │                                                                            │                                                              │\n",
            "│    │ _Number_Ad  │                                                                            │                                                              │\n",
            "│    │ CC10T       │                                                                            │                                                              │\n",
            "╘════╧═════════════╧════════════════════════════════════════════════════════════════════════════╧══════════════════════════════════════════════════════════════╛\n"
          ]
        }
      ],
      "source": [
        "# dataset id present in multiple paths -> Paths passed out of which few are correct and others wrong\n",
        "dataset_id = [\"ACBC_MSKCC_2015_Copy_Number_AdCC10T\"]\n",
        "repo_id = \"1673847977346\"\n",
        "dataset_file_path_dict = {\"ACBC_MSKCC_2015_Copy_Number_AdCC10T\":[\"transcriptomics_110/ACBC_MSKCC_2015_Copy_Number_AdCC10T_copy\"]}\n",
        "omixatlas.delete_datasets(repo_id, dataset_id,dataset_file_path_dict=dataset_file_path_dict)"
      ]
    },
    {
      "cell_type": "code",
      "execution_count": null,
      "metadata": {},
      "outputs": [],
      "source": []
    }
  ],
  "metadata": {
    "kernelspec": {
      "display_name": "Python 3 (ipykernel)",
      "language": "python",
      "name": "python3"
    },
    "language_info": {
      "codemirror_mode": {
        "name": "ipython",
        "version": 3
      },
      "file_extension": ".py",
      "mimetype": "text/x-python",
      "name": "python",
      "nbconvert_exporter": "python",
      "pygments_lexer": "ipython3",
      "version": "3.10.2"
    }
  },
  "nbformat": 4,
  "nbformat_minor": 2
}
